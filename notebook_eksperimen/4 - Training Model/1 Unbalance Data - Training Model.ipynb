{
 "cells": [
  {
   "cell_type": "markdown",
   "id": "586e0e61",
   "metadata": {},
   "source": [
    "# Training Model - Unbalance Data"
   ]
  },
  {
   "cell_type": "markdown",
   "id": "6e146939",
   "metadata": {},
   "source": [
    "# Import Library"
   ]
  },
  {
   "cell_type": "code",
   "execution_count": 1,
   "id": "e86bcca6",
   "metadata": {},
   "outputs": [],
   "source": [
    "#import all realated libraries\n",
    "#import libraries for data analysis\n",
    "import numpy as np\n",
    "import pandas as pd\n",
    "\n",
    "# import library for visualization\n",
    "import seaborn as sns\n",
    "import matplotlib.pyplot as plt\n",
    "\n",
    "# import pickle and json file for columns and model file\n",
    "import pickle\n",
    "import json\n",
    "import joblib\n",
    "\n",
    "# import warnings for ignore the warnings\n",
    "import warnings \n",
    "warnings.filterwarnings(\"ignore\")\n",
    "\n",
    "# library for model selection and models\n",
    "from sklearn.model_selection import train_test_split\n",
    "from sklearn.linear_model import LogisticRegression\n",
    "from sklearn.neighbors import KNeighborsClassifier\n",
    "from sklearn.tree import DecisionTreeClassifier\n",
    "from sklearn.ensemble import RandomForestClassifier\n",
    "from sklearn.ensemble import AdaBoostClassifier\n",
    "from xgboost import XGBClassifier\n",
    "from sklearn.svm import SVC\n",
    "from sklearn.linear_model import RidgeClassifier\n",
    "from sklearn.ensemble import BaggingClassifier\n",
    "from sklearn.ensemble import GradientBoostingClassifier\n",
    "from sklearn.ensemble import ExtraTreesClassifier\n",
    "import xgboost as xgb\n",
    "import lightgbm as lgb\n",
    "from lightgbm import LGBMClassifier\n",
    "\n",
    "# evaluation metrics for classification model\n",
    "from sklearn.metrics import accuracy_score,classification_report,confusion_matrix\n",
    "from sklearn.metrics import classification_report, ConfusionMatrixDisplay\n",
    "from sklearn.metrics import accuracy_score, roc_auc_score\n",
    "\n",
    "from sklearn.model_selection import GridSearchCV\n",
    "from sklearn.model_selection import RepeatedStratifiedKFold\n",
    "\n",
    "\n",
    "import tensorflow as tf\n",
    "from tensorflow.keras.models import Sequential\n",
    "from tensorflow.keras.layers import Dense, Dropout\n",
    "from scikeras.wrappers import KerasClassifier\n",
    "from tensorflow import keras\n",
    "from tensorflow.keras.wrappers.scikit_learn import KerasClassifier"
   ]
  },
  {
   "cell_type": "markdown",
   "id": "254cb49d",
   "metadata": {},
   "source": [
    "## Read Data"
   ]
  },
  {
   "cell_type": "code",
   "execution_count": 2,
   "id": "1af710e2",
   "metadata": {},
   "outputs": [],
   "source": [
    "#Read data X_train dan y_train hasil dari data preparation\n",
    "X_train_clean = joblib.load(\"C:/Users/HALAL/Final Project ML Process/dataset/3 - final/2 - Scaling Data - Standart Scaler/X_train_clean.pkl\") \n",
    "y_train = joblib.load(\"C:/Users/HALAL/Final Project ML Process/dataset/3 - final/2 - Scaling Data - Standart Scaler/y_train.pkl\")\n",
    "\n",
    "#Read data X_valid dan y_valid hasil dari data preparation\n",
    "X_valid_clean = joblib.load(\"C:/Users/HALAL/Final Project ML Process/dataset/3 - final/2 - Scaling Data - Standart Scaler/X_valid_clean.pkl\")\n",
    "y_valid = joblib.load(\"C:/Users/HALAL/Final Project ML Process/dataset/3 - final/2 - Scaling Data - Standart Scaler/y_valid.pkl\")\n",
    "\n",
    "#Read data X_test dan y_test hasil dari data preparation\n",
    "X_test_clean = joblib.load(\"C:/Users/HALAL/Final Project ML Process/dataset/3 - final/2 - Scaling Data - Standart Scaler/X_test_clean.pkl\")\n",
    "y_test = joblib.load(\"C:/Users/HALAL/Final Project ML Process/dataset/3 - final/2 - Scaling Data - Standart Scaler/y_test.pkl\")"
   ]
  },
  {
   "cell_type": "markdown",
   "id": "945d7cd6",
   "metadata": {},
   "source": [
    "## Baseline Model"
   ]
  },
  {
   "cell_type": "code",
   "execution_count": 3,
   "id": "ad0a82b7",
   "metadata": {},
   "outputs": [
    {
     "data": {
      "text/plain": [
       "0    0.795429\n",
       "1    0.204571\n",
       "Name: Exited, dtype: float64"
      ]
     },
     "execution_count": 3,
     "metadata": {},
     "output_type": "execute_result"
    }
   ],
   "source": [
    "y_train.value_counts(normalize = True)\n",
    "# baseline akurasi = 80%\n",
    "# Before Smote Sampling"
   ]
  },
  {
   "cell_type": "code",
   "execution_count": 4,
   "id": "d9d769a6",
   "metadata": {},
   "outputs": [
    {
     "data": {
      "text/plain": [
       "0.20457142857142857"
      ]
     },
     "execution_count": 4,
     "metadata": {},
     "output_type": "execute_result"
    }
   ],
   "source": [
    "y_baseline_predict = y_train.mean()\n",
    "y_baseline_predict"
   ]
  },
  {
   "cell_type": "markdown",
   "id": "d24cde69",
   "metadata": {},
   "source": [
    "## Logistic Regression"
   ]
  },
  {
   "cell_type": "code",
   "execution_count": 5,
   "id": "19ebdcc8",
   "metadata": {},
   "outputs": [],
   "source": [
    "# Build Logistic Regression\n",
    "logreg_awal = LogisticRegression(random_state = 123)"
   ]
  },
  {
   "cell_type": "code",
   "execution_count": 6,
   "id": "6c58f364",
   "metadata": {},
   "outputs": [
    {
     "data": {
      "text/plain": [
       "LogisticRegression(random_state=123)"
      ]
     },
     "execution_count": 6,
     "metadata": {},
     "output_type": "execute_result"
    }
   ],
   "source": [
    "# fit Logistic Regression\n",
    "logreg_awal.fit(X_train_clean, y_train)"
   ]
  },
  {
   "cell_type": "code",
   "execution_count": 7,
   "id": "3faffac6",
   "metadata": {},
   "outputs": [
    {
     "data": {
      "text/plain": [
       "0.8071428571428572"
      ]
     },
     "execution_count": 7,
     "metadata": {},
     "output_type": "execute_result"
    }
   ],
   "source": [
    "# Melihat Score dari model logreg\n",
    "logreg_awal.score(X_train_clean, y_train)"
   ]
  },
  {
   "cell_type": "code",
   "execution_count": 8,
   "id": "e333ed5b",
   "metadata": {},
   "outputs": [],
   "source": [
    "#Prediksi Logreg\n",
    "logreg_pred = logreg_awal.predict(X_test_clean)"
   ]
  },
  {
   "cell_type": "code",
   "execution_count": 9,
   "id": "e8391495",
   "metadata": {},
   "outputs": [
    {
     "name": "stdout",
     "output_type": "stream",
     "text": [
      "              precision    recall  f1-score   support\n",
      "\n",
      "           0       0.83      0.96      0.89      1424\n",
      "           1       0.62      0.24      0.34       376\n",
      "\n",
      "    accuracy                           0.81      1800\n",
      "   macro avg       0.72      0.60      0.62      1800\n",
      "weighted avg       0.78      0.81      0.77      1800\n",
      "\n"
     ]
    }
   ],
   "source": [
    "#Melihat Classification report\n",
    "print(classification_report(y_test, logreg_pred, labels=[0,1]))"
   ]
  },
  {
   "cell_type": "code",
   "execution_count": 10,
   "id": "29d5e96c",
   "metadata": {},
   "outputs": [
    {
     "name": "stdout",
     "output_type": "stream",
     "text": [
      "Train_Score =  0.8071428571428572 Valid_Score =  0.8266666666666667 Test_Score =  0.81\n"
     ]
    }
   ],
   "source": [
    "#Melihat score data train, validation dan test\n",
    "print(\"Train_Score = \", logreg_awal.score(X_train_clean, y_train), \n",
    "      \"Valid_Score = \",logreg_awal.score(X_valid_clean, y_valid),\n",
    "      \"Test_Score = \", logreg_awal.score(X_test_clean, y_test))"
   ]
  },
  {
   "cell_type": "markdown",
   "id": "996c0816",
   "metadata": {},
   "source": [
    "## Tuning Parameter Logistic Regression"
   ]
  },
  {
   "cell_type": "code",
   "execution_count": 11,
   "id": "4660f164",
   "metadata": {},
   "outputs": [],
   "source": [
    "logreg = LogisticRegression(random_state = 123)"
   ]
  },
  {
   "cell_type": "code",
   "execution_count": 12,
   "id": "280f9f73",
   "metadata": {},
   "outputs": [],
   "source": [
    "# Membentuk parameter untuk eksperimentasi\n",
    "lr_param_grid = {\n",
    "    'C' : [0.01, 0.05, 0.1, 0.5, 1, 5],\n",
    "    'solver' : ['liblinear', 'newton-cg', 'lbfgs', 'sag', 'saga'],\n",
    "    'penalty' : ['l1', 'l2', 'elasticnet','none']\n",
    "}"
   ]
  },
  {
   "cell_type": "code",
   "execution_count": 13,
   "id": "00f8d485",
   "metadata": {},
   "outputs": [],
   "source": [
    "# Cross Validation menggunakan GridsearchCV\n",
    "lr_grid = GridSearchCV(LogisticRegression(random_state = 123), lr_param_grid, verbose=3, cv= 5, scoring='accuracy')"
   ]
  },
  {
   "cell_type": "code",
   "execution_count": 14,
   "id": "0e29eb37",
   "metadata": {},
   "outputs": [
    {
     "name": "stdout",
     "output_type": "stream",
     "text": [
      "Fitting 5 folds for each of 120 candidates, totalling 600 fits\n",
      "[CV 1/5] END C=0.01, penalty=l1, solver=liblinear;, score=0.806 total time=   0.5s\n",
      "[CV 2/5] END C=0.01, penalty=l1, solver=liblinear;, score=0.791 total time=   0.0s\n",
      "[CV 3/5] END C=0.01, penalty=l1, solver=liblinear;, score=0.807 total time=   0.0s\n",
      "[CV 4/5] END C=0.01, penalty=l1, solver=liblinear;, score=0.799 total time=   0.0s\n",
      "[CV 5/5] END C=0.01, penalty=l1, solver=liblinear;, score=0.801 total time=   0.0s\n",
      "[CV 1/5] END C=0.01, penalty=l1, solver=newton-cg;, score=nan total time=   0.0s\n",
      "[CV 2/5] END C=0.01, penalty=l1, solver=newton-cg;, score=nan total time=   0.0s\n",
      "[CV 3/5] END C=0.01, penalty=l1, solver=newton-cg;, score=nan total time=   0.0s\n",
      "[CV 4/5] END C=0.01, penalty=l1, solver=newton-cg;, score=nan total time=   0.0s\n",
      "[CV 5/5] END C=0.01, penalty=l1, solver=newton-cg;, score=nan total time=   0.0s\n",
      "[CV 1/5] END ....C=0.01, penalty=l1, solver=lbfgs;, score=nan total time=   0.0s\n",
      "[CV 2/5] END ....C=0.01, penalty=l1, solver=lbfgs;, score=nan total time=   0.0s\n",
      "[CV 3/5] END ....C=0.01, penalty=l1, solver=lbfgs;, score=nan total time=   0.0s\n",
      "[CV 4/5] END ....C=0.01, penalty=l1, solver=lbfgs;, score=nan total time=   0.0s\n",
      "[CV 5/5] END ....C=0.01, penalty=l1, solver=lbfgs;, score=nan total time=   0.0s\n",
      "[CV 1/5] END ......C=0.01, penalty=l1, solver=sag;, score=nan total time=   0.0s\n",
      "[CV 2/5] END ......C=0.01, penalty=l1, solver=sag;, score=nan total time=   0.0s\n",
      "[CV 3/5] END ......C=0.01, penalty=l1, solver=sag;, score=nan total time=   0.0s\n",
      "[CV 4/5] END ......C=0.01, penalty=l1, solver=sag;, score=nan total time=   0.0s\n",
      "[CV 5/5] END ......C=0.01, penalty=l1, solver=sag;, score=nan total time=   0.0s\n",
      "[CV 1/5] END ...C=0.01, penalty=l1, solver=saga;, score=0.792 total time=   0.2s\n",
      "[CV 2/5] END ...C=0.01, penalty=l1, solver=saga;, score=0.790 total time=   0.0s\n",
      "[CV 3/5] END ...C=0.01, penalty=l1, solver=saga;, score=0.796 total time=   0.0s\n",
      "[CV 4/5] END ...C=0.01, penalty=l1, solver=saga;, score=0.789 total time=   0.0s\n",
      "[CV 5/5] END ...C=0.01, penalty=l1, solver=saga;, score=0.798 total time=   0.0s\n",
      "[CV 1/5] END C=0.01, penalty=l2, solver=liblinear;, score=0.810 total time=   0.1s\n",
      "[CV 2/5] END C=0.01, penalty=l2, solver=liblinear;, score=0.795 total time=   0.0s\n",
      "[CV 3/5] END C=0.01, penalty=l2, solver=liblinear;, score=0.814 total time=   0.0s\n",
      "[CV 4/5] END C=0.01, penalty=l2, solver=liblinear;, score=0.809 total time=   0.0s\n",
      "[CV 5/5] END C=0.01, penalty=l2, solver=liblinear;, score=0.808 total time=   0.0s\n",
      "[CV 1/5] END C=0.01, penalty=l2, solver=newton-cg;, score=0.808 total time=   0.0s\n",
      "[CV 2/5] END C=0.01, penalty=l2, solver=newton-cg;, score=0.791 total time=   0.0s\n",
      "[CV 3/5] END C=0.01, penalty=l2, solver=newton-cg;, score=0.810 total time=   0.0s\n",
      "[CV 4/5] END C=0.01, penalty=l2, solver=newton-cg;, score=0.804 total time=   0.0s\n",
      "[CV 5/5] END C=0.01, penalty=l2, solver=newton-cg;, score=0.806 total time=   0.0s\n",
      "[CV 1/5] END ..C=0.01, penalty=l2, solver=lbfgs;, score=0.808 total time=   0.0s\n",
      "[CV 2/5] END ..C=0.01, penalty=l2, solver=lbfgs;, score=0.791 total time=   0.0s\n",
      "[CV 3/5] END ..C=0.01, penalty=l2, solver=lbfgs;, score=0.810 total time=   0.0s\n",
      "[CV 4/5] END ..C=0.01, penalty=l2, solver=lbfgs;, score=0.804 total time=   0.0s\n",
      "[CV 5/5] END ..C=0.01, penalty=l2, solver=lbfgs;, score=0.806 total time=   0.0s\n",
      "[CV 1/5] END ....C=0.01, penalty=l2, solver=sag;, score=0.808 total time=   0.0s\n",
      "[CV 2/5] END ....C=0.01, penalty=l2, solver=sag;, score=0.791 total time=   0.0s\n",
      "[CV 3/5] END ....C=0.01, penalty=l2, solver=sag;, score=0.810 total time=   0.0s\n",
      "[CV 4/5] END ....C=0.01, penalty=l2, solver=sag;, score=0.804 total time=   0.0s\n",
      "[CV 5/5] END ....C=0.01, penalty=l2, solver=sag;, score=0.806 total time=   0.0s\n",
      "[CV 1/5] END ...C=0.01, penalty=l2, solver=saga;, score=0.808 total time=   0.0s\n",
      "[CV 2/5] END ...C=0.01, penalty=l2, solver=saga;, score=0.791 total time=   0.0s\n",
      "[CV 3/5] END ...C=0.01, penalty=l2, solver=saga;, score=0.810 total time=   0.0s\n",
      "[CV 4/5] END ...C=0.01, penalty=l2, solver=saga;, score=0.804 total time=   0.0s\n",
      "[CV 5/5] END ...C=0.01, penalty=l2, solver=saga;, score=0.806 total time=   0.0s\n",
      "[CV 1/5] END C=0.01, penalty=elasticnet, solver=liblinear;, score=nan total time=   0.0s\n",
      "[CV 2/5] END C=0.01, penalty=elasticnet, solver=liblinear;, score=nan total time=   0.0s\n",
      "[CV 3/5] END C=0.01, penalty=elasticnet, solver=liblinear;, score=nan total time=   0.0s\n",
      "[CV 4/5] END C=0.01, penalty=elasticnet, solver=liblinear;, score=nan total time=   0.0s\n",
      "[CV 5/5] END C=0.01, penalty=elasticnet, solver=liblinear;, score=nan total time=   0.0s\n",
      "[CV 1/5] END C=0.01, penalty=elasticnet, solver=newton-cg;, score=nan total time=   0.0s\n",
      "[CV 2/5] END C=0.01, penalty=elasticnet, solver=newton-cg;, score=nan total time=   0.0s\n",
      "[CV 3/5] END C=0.01, penalty=elasticnet, solver=newton-cg;, score=nan total time=   0.0s\n",
      "[CV 4/5] END C=0.01, penalty=elasticnet, solver=newton-cg;, score=nan total time=   0.0s\n",
      "[CV 5/5] END C=0.01, penalty=elasticnet, solver=newton-cg;, score=nan total time=   0.0s\n",
      "[CV 1/5] END C=0.01, penalty=elasticnet, solver=lbfgs;, score=nan total time=   0.0s\n",
      "[CV 2/5] END C=0.01, penalty=elasticnet, solver=lbfgs;, score=nan total time=   0.0s\n",
      "[CV 3/5] END C=0.01, penalty=elasticnet, solver=lbfgs;, score=nan total time=   0.0s\n",
      "[CV 4/5] END C=0.01, penalty=elasticnet, solver=lbfgs;, score=nan total time=   0.0s\n",
      "[CV 5/5] END C=0.01, penalty=elasticnet, solver=lbfgs;, score=nan total time=   0.0s\n",
      "[CV 1/5] END C=0.01, penalty=elasticnet, solver=sag;, score=nan total time=   0.0s\n",
      "[CV 2/5] END C=0.01, penalty=elasticnet, solver=sag;, score=nan total time=   0.0s\n",
      "[CV 3/5] END C=0.01, penalty=elasticnet, solver=sag;, score=nan total time=   0.0s\n",
      "[CV 4/5] END C=0.01, penalty=elasticnet, solver=sag;, score=nan total time=   0.0s\n",
      "[CV 5/5] END C=0.01, penalty=elasticnet, solver=sag;, score=nan total time=   0.0s\n",
      "[CV 1/5] END C=0.01, penalty=elasticnet, solver=saga;, score=nan total time=   0.0s\n",
      "[CV 2/5] END C=0.01, penalty=elasticnet, solver=saga;, score=nan total time=   0.0s\n",
      "[CV 3/5] END C=0.01, penalty=elasticnet, solver=saga;, score=nan total time=   0.0s\n",
      "[CV 4/5] END C=0.01, penalty=elasticnet, solver=saga;, score=nan total time=   0.0s\n",
      "[CV 5/5] END C=0.01, penalty=elasticnet, solver=saga;, score=nan total time=   0.0s\n",
      "[CV 1/5] END C=0.01, penalty=none, solver=liblinear;, score=nan total time=   0.0s\n",
      "[CV 2/5] END C=0.01, penalty=none, solver=liblinear;, score=nan total time=   0.0s\n",
      "[CV 3/5] END C=0.01, penalty=none, solver=liblinear;, score=nan total time=   0.0s\n",
      "[CV 4/5] END C=0.01, penalty=none, solver=liblinear;, score=nan total time=   0.0s\n",
      "[CV 5/5] END C=0.01, penalty=none, solver=liblinear;, score=nan total time=   0.0s\n",
      "[CV 1/5] END C=0.01, penalty=none, solver=newton-cg;, score=0.815 total time=   0.0s\n",
      "[CV 2/5] END C=0.01, penalty=none, solver=newton-cg;, score=0.792 total time=   0.0s\n",
      "[CV 3/5] END C=0.01, penalty=none, solver=newton-cg;, score=0.818 total time=   0.0s\n",
      "[CV 4/5] END C=0.01, penalty=none, solver=newton-cg;, score=0.808 total time=   0.0s\n",
      "[CV 5/5] END C=0.01, penalty=none, solver=newton-cg;, score=0.804 total time=   0.0s\n",
      "[CV 1/5] END C=0.01, penalty=none, solver=lbfgs;, score=0.815 total time=   0.0s\n",
      "[CV 2/5] END C=0.01, penalty=none, solver=lbfgs;, score=0.792 total time=   0.0s\n",
      "[CV 3/5] END C=0.01, penalty=none, solver=lbfgs;, score=0.818 total time=   0.0s\n",
      "[CV 4/5] END C=0.01, penalty=none, solver=lbfgs;, score=0.808 total time=   0.0s\n",
      "[CV 5/5] END C=0.01, penalty=none, solver=lbfgs;, score=0.804 total time=   0.0s\n",
      "[CV 1/5] END ..C=0.01, penalty=none, solver=sag;, score=0.815 total time=   0.1s\n",
      "[CV 2/5] END ..C=0.01, penalty=none, solver=sag;, score=0.792 total time=   0.0s\n",
      "[CV 3/5] END ..C=0.01, penalty=none, solver=sag;, score=0.818 total time=   0.0s\n",
      "[CV 4/5] END ..C=0.01, penalty=none, solver=sag;, score=0.808 total time=   0.0s\n",
      "[CV 5/5] END ..C=0.01, penalty=none, solver=sag;, score=0.804 total time=   0.0s\n",
      "[CV 1/5] END .C=0.01, penalty=none, solver=saga;, score=0.815 total time=   0.0s\n",
      "[CV 2/5] END .C=0.01, penalty=none, solver=saga;, score=0.792 total time=   0.0s\n",
      "[CV 3/5] END .C=0.01, penalty=none, solver=saga;, score=0.818 total time=   0.0s\n",
      "[CV 4/5] END .C=0.01, penalty=none, solver=saga;, score=0.808 total time=   0.0s\n",
      "[CV 5/5] END .C=0.01, penalty=none, solver=saga;, score=0.804 total time=   0.0s\n",
      "[CV 1/5] END C=0.05, penalty=l1, solver=liblinear;, score=0.812 total time=   0.0s\n",
      "[CV 2/5] END C=0.05, penalty=l1, solver=liblinear;, score=0.795 total time=   0.0s\n",
      "[CV 3/5] END C=0.05, penalty=l1, solver=liblinear;, score=0.819 total time=   0.0s\n",
      "[CV 4/5] END C=0.05, penalty=l1, solver=liblinear;, score=0.809 total time=   0.0s\n",
      "[CV 5/5] END C=0.05, penalty=l1, solver=liblinear;, score=0.809 total time=   0.0s\n"
     ]
    },
    {
     "name": "stdout",
     "output_type": "stream",
     "text": [
      "[CV 1/5] END C=0.05, penalty=l1, solver=newton-cg;, score=nan total time=   0.0s\n",
      "[CV 2/5] END C=0.05, penalty=l1, solver=newton-cg;, score=nan total time=   0.0s\n",
      "[CV 3/5] END C=0.05, penalty=l1, solver=newton-cg;, score=nan total time=   0.0s\n",
      "[CV 4/5] END C=0.05, penalty=l1, solver=newton-cg;, score=nan total time=   0.0s\n",
      "[CV 5/5] END C=0.05, penalty=l1, solver=newton-cg;, score=nan total time=   0.0s\n",
      "[CV 1/5] END ....C=0.05, penalty=l1, solver=lbfgs;, score=nan total time=   0.0s\n",
      "[CV 2/5] END ....C=0.05, penalty=l1, solver=lbfgs;, score=nan total time=   0.0s\n",
      "[CV 3/5] END ....C=0.05, penalty=l1, solver=lbfgs;, score=nan total time=   0.0s\n",
      "[CV 4/5] END ....C=0.05, penalty=l1, solver=lbfgs;, score=nan total time=   0.0s\n",
      "[CV 5/5] END ....C=0.05, penalty=l1, solver=lbfgs;, score=nan total time=   0.0s\n",
      "[CV 1/5] END ......C=0.05, penalty=l1, solver=sag;, score=nan total time=   0.0s\n",
      "[CV 2/5] END ......C=0.05, penalty=l1, solver=sag;, score=nan total time=   0.0s\n",
      "[CV 3/5] END ......C=0.05, penalty=l1, solver=sag;, score=nan total time=   0.0s\n",
      "[CV 4/5] END ......C=0.05, penalty=l1, solver=sag;, score=nan total time=   0.0s\n",
      "[CV 5/5] END ......C=0.05, penalty=l1, solver=sag;, score=nan total time=   0.0s\n",
      "[CV 1/5] END ...C=0.05, penalty=l1, solver=saga;, score=0.814 total time=   0.0s\n",
      "[CV 2/5] END ...C=0.05, penalty=l1, solver=saga;, score=0.795 total time=   0.0s\n",
      "[CV 3/5] END ...C=0.05, penalty=l1, solver=saga;, score=0.816 total time=   0.0s\n",
      "[CV 4/5] END ...C=0.05, penalty=l1, solver=saga;, score=0.804 total time=   0.0s\n",
      "[CV 5/5] END ...C=0.05, penalty=l1, solver=saga;, score=0.810 total time=   0.0s\n",
      "[CV 1/5] END C=0.05, penalty=l2, solver=liblinear;, score=0.814 total time=   0.0s\n",
      "[CV 2/5] END C=0.05, penalty=l2, solver=liblinear;, score=0.794 total time=   0.0s\n",
      "[CV 3/5] END C=0.05, penalty=l2, solver=liblinear;, score=0.816 total time=   0.0s\n",
      "[CV 4/5] END C=0.05, penalty=l2, solver=liblinear;, score=0.806 total time=   0.0s\n",
      "[CV 5/5] END C=0.05, penalty=l2, solver=liblinear;, score=0.809 total time=   0.0s\n",
      "[CV 1/5] END C=0.05, penalty=l2, solver=newton-cg;, score=0.813 total time=   0.0s\n",
      "[CV 2/5] END C=0.05, penalty=l2, solver=newton-cg;, score=0.794 total time=   0.0s\n",
      "[CV 3/5] END C=0.05, penalty=l2, solver=newton-cg;, score=0.815 total time=   0.0s\n",
      "[CV 4/5] END C=0.05, penalty=l2, solver=newton-cg;, score=0.805 total time=   0.0s\n",
      "[CV 5/5] END C=0.05, penalty=l2, solver=newton-cg;, score=0.810 total time=   0.0s\n",
      "[CV 1/5] END ..C=0.05, penalty=l2, solver=lbfgs;, score=0.813 total time=   0.0s\n",
      "[CV 2/5] END ..C=0.05, penalty=l2, solver=lbfgs;, score=0.794 total time=   0.0s\n",
      "[CV 3/5] END ..C=0.05, penalty=l2, solver=lbfgs;, score=0.815 total time=   0.0s\n",
      "[CV 4/5] END ..C=0.05, penalty=l2, solver=lbfgs;, score=0.805 total time=   0.0s\n",
      "[CV 5/5] END ..C=0.05, penalty=l2, solver=lbfgs;, score=0.810 total time=   0.0s\n",
      "[CV 1/5] END ....C=0.05, penalty=l2, solver=sag;, score=0.813 total time=   0.0s\n",
      "[CV 2/5] END ....C=0.05, penalty=l2, solver=sag;, score=0.794 total time=   0.0s\n",
      "[CV 3/5] END ....C=0.05, penalty=l2, solver=sag;, score=0.815 total time=   0.0s\n",
      "[CV 4/5] END ....C=0.05, penalty=l2, solver=sag;, score=0.805 total time=   0.0s\n",
      "[CV 5/5] END ....C=0.05, penalty=l2, solver=sag;, score=0.810 total time=   0.0s\n",
      "[CV 1/5] END ...C=0.05, penalty=l2, solver=saga;, score=0.813 total time=   0.0s\n",
      "[CV 2/5] END ...C=0.05, penalty=l2, solver=saga;, score=0.794 total time=   0.0s\n",
      "[CV 3/5] END ...C=0.05, penalty=l2, solver=saga;, score=0.815 total time=   0.0s\n",
      "[CV 4/5] END ...C=0.05, penalty=l2, solver=saga;, score=0.805 total time=   0.0s\n",
      "[CV 5/5] END ...C=0.05, penalty=l2, solver=saga;, score=0.810 total time=   0.0s\n",
      "[CV 1/5] END C=0.05, penalty=elasticnet, solver=liblinear;, score=nan total time=   0.0s\n",
      "[CV 2/5] END C=0.05, penalty=elasticnet, solver=liblinear;, score=nan total time=   0.0s\n",
      "[CV 3/5] END C=0.05, penalty=elasticnet, solver=liblinear;, score=nan total time=   0.0s\n",
      "[CV 4/5] END C=0.05, penalty=elasticnet, solver=liblinear;, score=nan total time=   0.0s\n",
      "[CV 5/5] END C=0.05, penalty=elasticnet, solver=liblinear;, score=nan total time=   0.0s\n",
      "[CV 1/5] END C=0.05, penalty=elasticnet, solver=newton-cg;, score=nan total time=   0.0s\n",
      "[CV 2/5] END C=0.05, penalty=elasticnet, solver=newton-cg;, score=nan total time=   0.0s\n",
      "[CV 3/5] END C=0.05, penalty=elasticnet, solver=newton-cg;, score=nan total time=   0.0s\n",
      "[CV 4/5] END C=0.05, penalty=elasticnet, solver=newton-cg;, score=nan total time=   0.0s\n",
      "[CV 5/5] END C=0.05, penalty=elasticnet, solver=newton-cg;, score=nan total time=   0.0s\n",
      "[CV 1/5] END C=0.05, penalty=elasticnet, solver=lbfgs;, score=nan total time=   0.0s\n",
      "[CV 2/5] END C=0.05, penalty=elasticnet, solver=lbfgs;, score=nan total time=   0.0s\n",
      "[CV 3/5] END C=0.05, penalty=elasticnet, solver=lbfgs;, score=nan total time=   0.0s\n",
      "[CV 4/5] END C=0.05, penalty=elasticnet, solver=lbfgs;, score=nan total time=   0.0s\n",
      "[CV 5/5] END C=0.05, penalty=elasticnet, solver=lbfgs;, score=nan total time=   0.0s\n",
      "[CV 1/5] END C=0.05, penalty=elasticnet, solver=sag;, score=nan total time=   0.0s\n",
      "[CV 2/5] END C=0.05, penalty=elasticnet, solver=sag;, score=nan total time=   0.0s\n",
      "[CV 3/5] END C=0.05, penalty=elasticnet, solver=sag;, score=nan total time=   0.0s\n",
      "[CV 4/5] END C=0.05, penalty=elasticnet, solver=sag;, score=nan total time=   0.0s\n",
      "[CV 5/5] END C=0.05, penalty=elasticnet, solver=sag;, score=nan total time=   0.0s\n",
      "[CV 1/5] END C=0.05, penalty=elasticnet, solver=saga;, score=nan total time=   0.0s\n",
      "[CV 2/5] END C=0.05, penalty=elasticnet, solver=saga;, score=nan total time=   0.0s\n",
      "[CV 3/5] END C=0.05, penalty=elasticnet, solver=saga;, score=nan total time=   0.0s\n",
      "[CV 4/5] END C=0.05, penalty=elasticnet, solver=saga;, score=nan total time=   0.0s\n",
      "[CV 5/5] END C=0.05, penalty=elasticnet, solver=saga;, score=nan total time=   0.0s\n",
      "[CV 1/5] END C=0.05, penalty=none, solver=liblinear;, score=nan total time=   0.0s\n",
      "[CV 2/5] END C=0.05, penalty=none, solver=liblinear;, score=nan total time=   0.0s\n",
      "[CV 3/5] END C=0.05, penalty=none, solver=liblinear;, score=nan total time=   0.0s\n",
      "[CV 4/5] END C=0.05, penalty=none, solver=liblinear;, score=nan total time=   0.0s\n",
      "[CV 5/5] END C=0.05, penalty=none, solver=liblinear;, score=nan total time=   0.0s\n",
      "[CV 1/5] END C=0.05, penalty=none, solver=newton-cg;, score=0.815 total time=   0.0s\n",
      "[CV 2/5] END C=0.05, penalty=none, solver=newton-cg;, score=0.792 total time=   0.0s\n",
      "[CV 3/5] END C=0.05, penalty=none, solver=newton-cg;, score=0.818 total time=   0.0s\n",
      "[CV 4/5] END C=0.05, penalty=none, solver=newton-cg;, score=0.808 total time=   0.0s\n",
      "[CV 5/5] END C=0.05, penalty=none, solver=newton-cg;, score=0.804 total time=   0.0s\n",
      "[CV 1/5] END C=0.05, penalty=none, solver=lbfgs;, score=0.815 total time=   0.0s\n",
      "[CV 2/5] END C=0.05, penalty=none, solver=lbfgs;, score=0.792 total time=   0.0s\n",
      "[CV 3/5] END C=0.05, penalty=none, solver=lbfgs;, score=0.818 total time=   0.0s\n",
      "[CV 4/5] END C=0.05, penalty=none, solver=lbfgs;, score=0.808 total time=   0.0s\n",
      "[CV 5/5] END C=0.05, penalty=none, solver=lbfgs;, score=0.804 total time=   0.0s\n",
      "[CV 1/5] END ..C=0.05, penalty=none, solver=sag;, score=0.815 total time=   0.0s\n",
      "[CV 2/5] END ..C=0.05, penalty=none, solver=sag;, score=0.792 total time=   0.0s\n",
      "[CV 3/5] END ..C=0.05, penalty=none, solver=sag;, score=0.818 total time=   0.0s\n",
      "[CV 4/5] END ..C=0.05, penalty=none, solver=sag;, score=0.808 total time=   0.0s\n",
      "[CV 5/5] END ..C=0.05, penalty=none, solver=sag;, score=0.804 total time=   0.0s\n",
      "[CV 1/5] END .C=0.05, penalty=none, solver=saga;, score=0.815 total time=   0.0s\n",
      "[CV 2/5] END .C=0.05, penalty=none, solver=saga;, score=0.792 total time=   0.0s\n",
      "[CV 3/5] END .C=0.05, penalty=none, solver=saga;, score=0.818 total time=   0.0s\n",
      "[CV 4/5] END .C=0.05, penalty=none, solver=saga;, score=0.808 total time=   0.0s\n",
      "[CV 5/5] END .C=0.05, penalty=none, solver=saga;, score=0.804 total time=   0.0s\n",
      "[CV 1/5] END C=0.1, penalty=l1, solver=liblinear;, score=0.816 total time=   0.0s\n",
      "[CV 2/5] END C=0.1, penalty=l1, solver=liblinear;, score=0.794 total time=   0.0s\n",
      "[CV 3/5] END C=0.1, penalty=l1, solver=liblinear;, score=0.818 total time=   0.0s\n",
      "[CV 4/5] END C=0.1, penalty=l1, solver=liblinear;, score=0.806 total time=   0.0s\n",
      "[CV 5/5] END C=0.1, penalty=l1, solver=liblinear;, score=0.809 total time=   0.0s\n",
      "[CV 1/5] END .C=0.1, penalty=l1, solver=newton-cg;, score=nan total time=   0.0s\n",
      "[CV 2/5] END .C=0.1, penalty=l1, solver=newton-cg;, score=nan total time=   0.0s\n",
      "[CV 3/5] END .C=0.1, penalty=l1, solver=newton-cg;, score=nan total time=   0.0s\n",
      "[CV 4/5] END .C=0.1, penalty=l1, solver=newton-cg;, score=nan total time=   0.0s\n",
      "[CV 5/5] END .C=0.1, penalty=l1, solver=newton-cg;, score=nan total time=   0.0s\n",
      "[CV 1/5] END .....C=0.1, penalty=l1, solver=lbfgs;, score=nan total time=   0.0s\n",
      "[CV 2/5] END .....C=0.1, penalty=l1, solver=lbfgs;, score=nan total time=   0.0s\n",
      "[CV 3/5] END .....C=0.1, penalty=l1, solver=lbfgs;, score=nan total time=   0.0s\n",
      "[CV 4/5] END .....C=0.1, penalty=l1, solver=lbfgs;, score=nan total time=   0.0s\n"
     ]
    },
    {
     "name": "stdout",
     "output_type": "stream",
     "text": [
      "[CV 5/5] END .....C=0.1, penalty=l1, solver=lbfgs;, score=nan total time=   0.0s\n",
      "[CV 1/5] END .......C=0.1, penalty=l1, solver=sag;, score=nan total time=   0.0s\n",
      "[CV 2/5] END .......C=0.1, penalty=l1, solver=sag;, score=nan total time=   0.0s\n",
      "[CV 3/5] END .......C=0.1, penalty=l1, solver=sag;, score=nan total time=   0.0s\n",
      "[CV 4/5] END .......C=0.1, penalty=l1, solver=sag;, score=nan total time=   0.0s\n",
      "[CV 5/5] END .......C=0.1, penalty=l1, solver=sag;, score=nan total time=   0.0s\n",
      "[CV 1/5] END ....C=0.1, penalty=l1, solver=saga;, score=0.814 total time=   0.0s\n",
      "[CV 2/5] END ....C=0.1, penalty=l1, solver=saga;, score=0.794 total time=   0.0s\n",
      "[CV 3/5] END ....C=0.1, penalty=l1, solver=saga;, score=0.818 total time=   0.0s\n",
      "[CV 4/5] END ....C=0.1, penalty=l1, solver=saga;, score=0.806 total time=   0.0s\n",
      "[CV 5/5] END ....C=0.1, penalty=l1, solver=saga;, score=0.811 total time=   0.0s\n",
      "[CV 1/5] END C=0.1, penalty=l2, solver=liblinear;, score=0.813 total time=   0.0s\n",
      "[CV 2/5] END C=0.1, penalty=l2, solver=liblinear;, score=0.791 total time=   0.0s\n",
      "[CV 3/5] END C=0.1, penalty=l2, solver=liblinear;, score=0.816 total time=   0.0s\n",
      "[CV 4/5] END C=0.1, penalty=l2, solver=liblinear;, score=0.807 total time=   0.0s\n",
      "[CV 5/5] END C=0.1, penalty=l2, solver=liblinear;, score=0.808 total time=   0.0s\n",
      "[CV 1/5] END C=0.1, penalty=l2, solver=newton-cg;, score=0.814 total time=   0.0s\n",
      "[CV 2/5] END C=0.1, penalty=l2, solver=newton-cg;, score=0.792 total time=   0.0s\n",
      "[CV 3/5] END C=0.1, penalty=l2, solver=newton-cg;, score=0.818 total time=   0.0s\n",
      "[CV 4/5] END C=0.1, penalty=l2, solver=newton-cg;, score=0.809 total time=   0.0s\n",
      "[CV 5/5] END C=0.1, penalty=l2, solver=newton-cg;, score=0.809 total time=   0.0s\n",
      "[CV 1/5] END ...C=0.1, penalty=l2, solver=lbfgs;, score=0.814 total time=   0.0s\n",
      "[CV 2/5] END ...C=0.1, penalty=l2, solver=lbfgs;, score=0.792 total time=   0.0s\n",
      "[CV 3/5] END ...C=0.1, penalty=l2, solver=lbfgs;, score=0.818 total time=   0.0s\n",
      "[CV 4/5] END ...C=0.1, penalty=l2, solver=lbfgs;, score=0.809 total time=   0.0s\n",
      "[CV 5/5] END ...C=0.1, penalty=l2, solver=lbfgs;, score=0.809 total time=   0.0s\n",
      "[CV 1/5] END .....C=0.1, penalty=l2, solver=sag;, score=0.814 total time=   0.0s\n",
      "[CV 2/5] END .....C=0.1, penalty=l2, solver=sag;, score=0.792 total time=   0.0s\n",
      "[CV 3/5] END .....C=0.1, penalty=l2, solver=sag;, score=0.818 total time=   0.0s\n",
      "[CV 4/5] END .....C=0.1, penalty=l2, solver=sag;, score=0.809 total time=   0.0s\n",
      "[CV 5/5] END .....C=0.1, penalty=l2, solver=sag;, score=0.809 total time=   0.0s\n",
      "[CV 1/5] END ....C=0.1, penalty=l2, solver=saga;, score=0.814 total time=   0.0s\n",
      "[CV 2/5] END ....C=0.1, penalty=l2, solver=saga;, score=0.792 total time=   0.0s\n",
      "[CV 3/5] END ....C=0.1, penalty=l2, solver=saga;, score=0.818 total time=   0.0s\n",
      "[CV 4/5] END ....C=0.1, penalty=l2, solver=saga;, score=0.809 total time=   0.1s\n",
      "[CV 5/5] END ....C=0.1, penalty=l2, solver=saga;, score=0.809 total time=   0.0s\n",
      "[CV 1/5] END C=0.1, penalty=elasticnet, solver=liblinear;, score=nan total time=   0.0s\n",
      "[CV 2/5] END C=0.1, penalty=elasticnet, solver=liblinear;, score=nan total time=   0.0s\n",
      "[CV 3/5] END C=0.1, penalty=elasticnet, solver=liblinear;, score=nan total time=   0.0s\n",
      "[CV 4/5] END C=0.1, penalty=elasticnet, solver=liblinear;, score=nan total time=   0.0s\n",
      "[CV 5/5] END C=0.1, penalty=elasticnet, solver=liblinear;, score=nan total time=   0.0s\n",
      "[CV 1/5] END C=0.1, penalty=elasticnet, solver=newton-cg;, score=nan total time=   0.0s\n",
      "[CV 2/5] END C=0.1, penalty=elasticnet, solver=newton-cg;, score=nan total time=   0.0s\n",
      "[CV 3/5] END C=0.1, penalty=elasticnet, solver=newton-cg;, score=nan total time=   0.0s\n",
      "[CV 4/5] END C=0.1, penalty=elasticnet, solver=newton-cg;, score=nan total time=   0.0s\n",
      "[CV 5/5] END C=0.1, penalty=elasticnet, solver=newton-cg;, score=nan total time=   0.0s\n",
      "[CV 1/5] END C=0.1, penalty=elasticnet, solver=lbfgs;, score=nan total time=   0.0s\n",
      "[CV 2/5] END C=0.1, penalty=elasticnet, solver=lbfgs;, score=nan total time=   0.0s\n",
      "[CV 3/5] END C=0.1, penalty=elasticnet, solver=lbfgs;, score=nan total time=   0.0s\n",
      "[CV 4/5] END C=0.1, penalty=elasticnet, solver=lbfgs;, score=nan total time=   0.0s\n",
      "[CV 5/5] END C=0.1, penalty=elasticnet, solver=lbfgs;, score=nan total time=   0.0s\n",
      "[CV 1/5] END C=0.1, penalty=elasticnet, solver=sag;, score=nan total time=   0.0s\n",
      "[CV 2/5] END C=0.1, penalty=elasticnet, solver=sag;, score=nan total time=   0.0s\n",
      "[CV 3/5] END C=0.1, penalty=elasticnet, solver=sag;, score=nan total time=   0.0s\n",
      "[CV 4/5] END C=0.1, penalty=elasticnet, solver=sag;, score=nan total time=   0.0s\n",
      "[CV 5/5] END C=0.1, penalty=elasticnet, solver=sag;, score=nan total time=   0.0s\n",
      "[CV 1/5] END C=0.1, penalty=elasticnet, solver=saga;, score=nan total time=   0.0s\n",
      "[CV 2/5] END C=0.1, penalty=elasticnet, solver=saga;, score=nan total time=   0.0s\n",
      "[CV 3/5] END C=0.1, penalty=elasticnet, solver=saga;, score=nan total time=   0.0s\n",
      "[CV 4/5] END C=0.1, penalty=elasticnet, solver=saga;, score=nan total time=   0.0s\n",
      "[CV 5/5] END C=0.1, penalty=elasticnet, solver=saga;, score=nan total time=   0.0s\n",
      "[CV 1/5] END C=0.1, penalty=none, solver=liblinear;, score=nan total time=   0.0s\n",
      "[CV 2/5] END C=0.1, penalty=none, solver=liblinear;, score=nan total time=   0.0s\n",
      "[CV 3/5] END C=0.1, penalty=none, solver=liblinear;, score=nan total time=   0.0s\n",
      "[CV 4/5] END C=0.1, penalty=none, solver=liblinear;, score=nan total time=   0.0s\n",
      "[CV 5/5] END C=0.1, penalty=none, solver=liblinear;, score=nan total time=   0.0s\n",
      "[CV 1/5] END C=0.1, penalty=none, solver=newton-cg;, score=0.815 total time=   0.0s\n",
      "[CV 2/5] END C=0.1, penalty=none, solver=newton-cg;, score=0.792 total time=   0.0s\n",
      "[CV 3/5] END C=0.1, penalty=none, solver=newton-cg;, score=0.818 total time=   0.0s\n",
      "[CV 4/5] END C=0.1, penalty=none, solver=newton-cg;, score=0.808 total time=   0.0s\n",
      "[CV 5/5] END C=0.1, penalty=none, solver=newton-cg;, score=0.804 total time=   0.0s\n",
      "[CV 1/5] END .C=0.1, penalty=none, solver=lbfgs;, score=0.815 total time=   0.0s\n",
      "[CV 2/5] END .C=0.1, penalty=none, solver=lbfgs;, score=0.792 total time=   0.0s\n",
      "[CV 3/5] END .C=0.1, penalty=none, solver=lbfgs;, score=0.818 total time=   0.1s\n",
      "[CV 4/5] END .C=0.1, penalty=none, solver=lbfgs;, score=0.808 total time=   0.0s\n",
      "[CV 5/5] END .C=0.1, penalty=none, solver=lbfgs;, score=0.804 total time=   0.0s\n",
      "[CV 1/5] END ...C=0.1, penalty=none, solver=sag;, score=0.815 total time=   0.0s\n",
      "[CV 2/5] END ...C=0.1, penalty=none, solver=sag;, score=0.792 total time=   0.0s\n",
      "[CV 3/5] END ...C=0.1, penalty=none, solver=sag;, score=0.818 total time=   0.0s\n",
      "[CV 4/5] END ...C=0.1, penalty=none, solver=sag;, score=0.808 total time=   0.0s\n",
      "[CV 5/5] END ...C=0.1, penalty=none, solver=sag;, score=0.804 total time=   0.0s\n",
      "[CV 1/5] END ..C=0.1, penalty=none, solver=saga;, score=0.815 total time=   0.0s\n",
      "[CV 2/5] END ..C=0.1, penalty=none, solver=saga;, score=0.792 total time=   0.0s\n",
      "[CV 3/5] END ..C=0.1, penalty=none, solver=saga;, score=0.818 total time=   0.0s\n",
      "[CV 4/5] END ..C=0.1, penalty=none, solver=saga;, score=0.808 total time=   0.0s\n",
      "[CV 5/5] END ..C=0.1, penalty=none, solver=saga;, score=0.804 total time=   0.0s\n",
      "[CV 1/5] END C=0.5, penalty=l1, solver=liblinear;, score=0.814 total time=   0.0s\n",
      "[CV 2/5] END C=0.5, penalty=l1, solver=liblinear;, score=0.791 total time=   0.0s\n",
      "[CV 3/5] END C=0.5, penalty=l1, solver=liblinear;, score=0.818 total time=   0.0s\n",
      "[CV 4/5] END C=0.5, penalty=l1, solver=liblinear;, score=0.809 total time=   0.0s\n",
      "[CV 5/5] END C=0.5, penalty=l1, solver=liblinear;, score=0.806 total time=   0.0s\n",
      "[CV 1/5] END .C=0.5, penalty=l1, solver=newton-cg;, score=nan total time=   0.0s\n",
      "[CV 2/5] END .C=0.5, penalty=l1, solver=newton-cg;, score=nan total time=   0.0s\n",
      "[CV 3/5] END .C=0.5, penalty=l1, solver=newton-cg;, score=nan total time=   0.0s\n",
      "[CV 4/5] END .C=0.5, penalty=l1, solver=newton-cg;, score=nan total time=   0.0s\n",
      "[CV 5/5] END .C=0.5, penalty=l1, solver=newton-cg;, score=nan total time=   0.0s\n",
      "[CV 1/5] END .....C=0.5, penalty=l1, solver=lbfgs;, score=nan total time=   0.0s\n",
      "[CV 2/5] END .....C=0.5, penalty=l1, solver=lbfgs;, score=nan total time=   0.0s\n",
      "[CV 3/5] END .....C=0.5, penalty=l1, solver=lbfgs;, score=nan total time=   0.0s\n",
      "[CV 4/5] END .....C=0.5, penalty=l1, solver=lbfgs;, score=nan total time=   0.0s\n",
      "[CV 5/5] END .....C=0.5, penalty=l1, solver=lbfgs;, score=nan total time=   0.0s\n",
      "[CV 1/5] END .......C=0.5, penalty=l1, solver=sag;, score=nan total time=   0.0s\n"
     ]
    },
    {
     "name": "stdout",
     "output_type": "stream",
     "text": [
      "[CV 2/5] END .......C=0.5, penalty=l1, solver=sag;, score=nan total time=   0.0s\n",
      "[CV 3/5] END .......C=0.5, penalty=l1, solver=sag;, score=nan total time=   0.0s\n",
      "[CV 4/5] END .......C=0.5, penalty=l1, solver=sag;, score=nan total time=   0.0s\n",
      "[CV 5/5] END .......C=0.5, penalty=l1, solver=sag;, score=nan total time=   0.0s\n",
      "[CV 1/5] END ....C=0.5, penalty=l1, solver=saga;, score=0.815 total time=   0.0s\n",
      "[CV 2/5] END ....C=0.5, penalty=l1, solver=saga;, score=0.791 total time=   0.0s\n",
      "[CV 3/5] END ....C=0.5, penalty=l1, solver=saga;, score=0.818 total time=   0.1s\n",
      "[CV 4/5] END ....C=0.5, penalty=l1, solver=saga;, score=0.809 total time=   0.0s\n",
      "[CV 5/5] END ....C=0.5, penalty=l1, solver=saga;, score=0.808 total time=   0.0s\n",
      "[CV 1/5] END C=0.5, penalty=l2, solver=liblinear;, score=0.815 total time=   0.0s\n",
      "[CV 2/5] END C=0.5, penalty=l2, solver=liblinear;, score=0.791 total time=   0.0s\n",
      "[CV 3/5] END C=0.5, penalty=l2, solver=liblinear;, score=0.818 total time=   0.0s\n",
      "[CV 4/5] END C=0.5, penalty=l2, solver=liblinear;, score=0.809 total time=   0.0s\n",
      "[CV 5/5] END C=0.5, penalty=l2, solver=liblinear;, score=0.806 total time=   0.0s\n",
      "[CV 1/5] END C=0.5, penalty=l2, solver=newton-cg;, score=0.814 total time=   0.0s\n",
      "[CV 2/5] END C=0.5, penalty=l2, solver=newton-cg;, score=0.791 total time=   0.0s\n",
      "[CV 3/5] END C=0.5, penalty=l2, solver=newton-cg;, score=0.818 total time=   0.0s\n",
      "[CV 4/5] END C=0.5, penalty=l2, solver=newton-cg;, score=0.809 total time=   0.0s\n",
      "[CV 5/5] END C=0.5, penalty=l2, solver=newton-cg;, score=0.806 total time=   0.0s\n",
      "[CV 1/5] END ...C=0.5, penalty=l2, solver=lbfgs;, score=0.814 total time=   0.0s\n",
      "[CV 2/5] END ...C=0.5, penalty=l2, solver=lbfgs;, score=0.791 total time=   0.0s\n",
      "[CV 3/5] END ...C=0.5, penalty=l2, solver=lbfgs;, score=0.818 total time=   0.0s\n",
      "[CV 4/5] END ...C=0.5, penalty=l2, solver=lbfgs;, score=0.809 total time=   0.0s\n",
      "[CV 5/5] END ...C=0.5, penalty=l2, solver=lbfgs;, score=0.806 total time=   0.0s\n",
      "[CV 1/5] END .....C=0.5, penalty=l2, solver=sag;, score=0.814 total time=   0.1s\n",
      "[CV 2/5] END .....C=0.5, penalty=l2, solver=sag;, score=0.791 total time=   0.0s\n",
      "[CV 3/5] END .....C=0.5, penalty=l2, solver=sag;, score=0.818 total time=   0.1s\n",
      "[CV 4/5] END .....C=0.5, penalty=l2, solver=sag;, score=0.809 total time=   0.0s\n",
      "[CV 5/5] END .....C=0.5, penalty=l2, solver=sag;, score=0.806 total time=   0.0s\n",
      "[CV 1/5] END ....C=0.5, penalty=l2, solver=saga;, score=0.814 total time=   0.3s\n",
      "[CV 2/5] END ....C=0.5, penalty=l2, solver=saga;, score=0.791 total time=   0.1s\n",
      "[CV 3/5] END ....C=0.5, penalty=l2, solver=saga;, score=0.818 total time=   0.1s\n",
      "[CV 4/5] END ....C=0.5, penalty=l2, solver=saga;, score=0.809 total time=   0.1s\n",
      "[CV 5/5] END ....C=0.5, penalty=l2, solver=saga;, score=0.806 total time=   0.1s\n",
      "[CV 1/5] END C=0.5, penalty=elasticnet, solver=liblinear;, score=nan total time=   0.0s\n",
      "[CV 2/5] END C=0.5, penalty=elasticnet, solver=liblinear;, score=nan total time=   0.0s\n",
      "[CV 3/5] END C=0.5, penalty=elasticnet, solver=liblinear;, score=nan total time=   0.0s\n",
      "[CV 4/5] END C=0.5, penalty=elasticnet, solver=liblinear;, score=nan total time=   0.0s\n",
      "[CV 5/5] END C=0.5, penalty=elasticnet, solver=liblinear;, score=nan total time=   0.0s\n",
      "[CV 1/5] END C=0.5, penalty=elasticnet, solver=newton-cg;, score=nan total time=   0.0s\n",
      "[CV 2/5] END C=0.5, penalty=elasticnet, solver=newton-cg;, score=nan total time=   0.0s\n",
      "[CV 3/5] END C=0.5, penalty=elasticnet, solver=newton-cg;, score=nan total time=   0.0s\n",
      "[CV 4/5] END C=0.5, penalty=elasticnet, solver=newton-cg;, score=nan total time=   0.0s\n",
      "[CV 5/5] END C=0.5, penalty=elasticnet, solver=newton-cg;, score=nan total time=   0.0s\n",
      "[CV 1/5] END C=0.5, penalty=elasticnet, solver=lbfgs;, score=nan total time=   0.0s\n",
      "[CV 2/5] END C=0.5, penalty=elasticnet, solver=lbfgs;, score=nan total time=   0.0s\n",
      "[CV 3/5] END C=0.5, penalty=elasticnet, solver=lbfgs;, score=nan total time=   0.0s\n",
      "[CV 4/5] END C=0.5, penalty=elasticnet, solver=lbfgs;, score=nan total time=   0.0s\n",
      "[CV 5/5] END C=0.5, penalty=elasticnet, solver=lbfgs;, score=nan total time=   0.0s\n",
      "[CV 1/5] END C=0.5, penalty=elasticnet, solver=sag;, score=nan total time=   0.0s\n",
      "[CV 2/5] END C=0.5, penalty=elasticnet, solver=sag;, score=nan total time=   0.0s\n",
      "[CV 3/5] END C=0.5, penalty=elasticnet, solver=sag;, score=nan total time=   0.0s\n",
      "[CV 4/5] END C=0.5, penalty=elasticnet, solver=sag;, score=nan total time=   0.0s\n",
      "[CV 5/5] END C=0.5, penalty=elasticnet, solver=sag;, score=nan total time=   0.0s\n",
      "[CV 1/5] END C=0.5, penalty=elasticnet, solver=saga;, score=nan total time=   0.0s\n",
      "[CV 2/5] END C=0.5, penalty=elasticnet, solver=saga;, score=nan total time=   0.0s\n",
      "[CV 3/5] END C=0.5, penalty=elasticnet, solver=saga;, score=nan total time=   0.0s\n",
      "[CV 4/5] END C=0.5, penalty=elasticnet, solver=saga;, score=nan total time=   0.0s\n",
      "[CV 5/5] END C=0.5, penalty=elasticnet, solver=saga;, score=nan total time=   0.0s\n",
      "[CV 1/5] END C=0.5, penalty=none, solver=liblinear;, score=nan total time=   0.0s\n",
      "[CV 2/5] END C=0.5, penalty=none, solver=liblinear;, score=nan total time=   0.0s\n",
      "[CV 3/5] END C=0.5, penalty=none, solver=liblinear;, score=nan total time=   0.0s\n",
      "[CV 4/5] END C=0.5, penalty=none, solver=liblinear;, score=nan total time=   0.0s\n",
      "[CV 5/5] END C=0.5, penalty=none, solver=liblinear;, score=nan total time=   0.0s\n",
      "[CV 1/5] END C=0.5, penalty=none, solver=newton-cg;, score=0.815 total time=   0.0s\n",
      "[CV 2/5] END C=0.5, penalty=none, solver=newton-cg;, score=0.792 total time=   0.0s\n",
      "[CV 3/5] END C=0.5, penalty=none, solver=newton-cg;, score=0.818 total time=   0.0s\n",
      "[CV 4/5] END C=0.5, penalty=none, solver=newton-cg;, score=0.808 total time=   0.0s\n",
      "[CV 5/5] END C=0.5, penalty=none, solver=newton-cg;, score=0.804 total time=   0.0s\n",
      "[CV 1/5] END .C=0.5, penalty=none, solver=lbfgs;, score=0.815 total time=   0.0s\n",
      "[CV 2/5] END .C=0.5, penalty=none, solver=lbfgs;, score=0.792 total time=   0.0s\n",
      "[CV 3/5] END .C=0.5, penalty=none, solver=lbfgs;, score=0.818 total time=   0.0s\n",
      "[CV 4/5] END .C=0.5, penalty=none, solver=lbfgs;, score=0.808 total time=   0.0s\n",
      "[CV 5/5] END .C=0.5, penalty=none, solver=lbfgs;, score=0.804 total time=   0.0s\n",
      "[CV 1/5] END ...C=0.5, penalty=none, solver=sag;, score=0.815 total time=   0.0s\n",
      "[CV 2/5] END ...C=0.5, penalty=none, solver=sag;, score=0.792 total time=   0.0s\n",
      "[CV 3/5] END ...C=0.5, penalty=none, solver=sag;, score=0.818 total time=   0.0s\n",
      "[CV 4/5] END ...C=0.5, penalty=none, solver=sag;, score=0.808 total time=   0.0s\n",
      "[CV 5/5] END ...C=0.5, penalty=none, solver=sag;, score=0.804 total time=   0.0s\n",
      "[CV 1/5] END ..C=0.5, penalty=none, solver=saga;, score=0.815 total time=   0.0s\n",
      "[CV 2/5] END ..C=0.5, penalty=none, solver=saga;, score=0.792 total time=   0.0s\n",
      "[CV 3/5] END ..C=0.5, penalty=none, solver=saga;, score=0.818 total time=   0.0s\n",
      "[CV 4/5] END ..C=0.5, penalty=none, solver=saga;, score=0.808 total time=   0.0s\n",
      "[CV 5/5] END ..C=0.5, penalty=none, solver=saga;, score=0.804 total time=   0.0s\n",
      "[CV 1/5] END .C=1, penalty=l1, solver=liblinear;, score=0.816 total time=   0.0s\n",
      "[CV 2/5] END .C=1, penalty=l1, solver=liblinear;, score=0.791 total time=   0.0s\n",
      "[CV 3/5] END .C=1, penalty=l1, solver=liblinear;, score=0.818 total time=   0.0s\n",
      "[CV 4/5] END .C=1, penalty=l1, solver=liblinear;, score=0.809 total time=   0.0s\n",
      "[CV 5/5] END .C=1, penalty=l1, solver=liblinear;, score=0.805 total time=   0.0s\n",
      "[CV 1/5] END ...C=1, penalty=l1, solver=newton-cg;, score=nan total time=   0.0s\n",
      "[CV 2/5] END ...C=1, penalty=l1, solver=newton-cg;, score=nan total time=   0.0s\n",
      "[CV 3/5] END ...C=1, penalty=l1, solver=newton-cg;, score=nan total time=   0.0s\n",
      "[CV 4/5] END ...C=1, penalty=l1, solver=newton-cg;, score=nan total time=   0.0s\n",
      "[CV 5/5] END ...C=1, penalty=l1, solver=newton-cg;, score=nan total time=   0.0s\n",
      "[CV 1/5] END .......C=1, penalty=l1, solver=lbfgs;, score=nan total time=   0.0s\n",
      "[CV 2/5] END .......C=1, penalty=l1, solver=lbfgs;, score=nan total time=   0.0s\n",
      "[CV 3/5] END .......C=1, penalty=l1, solver=lbfgs;, score=nan total time=   0.0s\n",
      "[CV 4/5] END .......C=1, penalty=l1, solver=lbfgs;, score=nan total time=   0.0s\n",
      "[CV 5/5] END .......C=1, penalty=l1, solver=lbfgs;, score=nan total time=   0.0s\n",
      "[CV 1/5] END .........C=1, penalty=l1, solver=sag;, score=nan total time=   0.0s\n",
      "[CV 2/5] END .........C=1, penalty=l1, solver=sag;, score=nan total time=   0.0s\n",
      "[CV 3/5] END .........C=1, penalty=l1, solver=sag;, score=nan total time=   0.0s\n",
      "[CV 4/5] END .........C=1, penalty=l1, solver=sag;, score=nan total time=   0.0s\n",
      "[CV 5/5] END .........C=1, penalty=l1, solver=sag;, score=nan total time=   0.0s\n",
      "[CV 1/5] END ......C=1, penalty=l1, solver=saga;, score=0.816 total time=   0.0s\n"
     ]
    },
    {
     "name": "stdout",
     "output_type": "stream",
     "text": [
      "[CV 2/5] END ......C=1, penalty=l1, solver=saga;, score=0.791 total time=   0.0s\n",
      "[CV 3/5] END ......C=1, penalty=l1, solver=saga;, score=0.817 total time=   0.0s\n",
      "[CV 4/5] END ......C=1, penalty=l1, solver=saga;, score=0.809 total time=   0.0s\n",
      "[CV 5/5] END ......C=1, penalty=l1, solver=saga;, score=0.805 total time=   0.0s\n",
      "[CV 1/5] END .C=1, penalty=l2, solver=liblinear;, score=0.815 total time=   0.0s\n",
      "[CV 2/5] END .C=1, penalty=l2, solver=liblinear;, score=0.791 total time=   0.0s\n",
      "[CV 3/5] END .C=1, penalty=l2, solver=liblinear;, score=0.818 total time=   0.0s\n",
      "[CV 4/5] END .C=1, penalty=l2, solver=liblinear;, score=0.809 total time=   0.0s\n",
      "[CV 5/5] END .C=1, penalty=l2, solver=liblinear;, score=0.805 total time=   0.0s\n",
      "[CV 1/5] END .C=1, penalty=l2, solver=newton-cg;, score=0.815 total time=   0.0s\n",
      "[CV 2/5] END .C=1, penalty=l2, solver=newton-cg;, score=0.792 total time=   0.0s\n",
      "[CV 3/5] END .C=1, penalty=l2, solver=newton-cg;, score=0.818 total time=   0.0s\n",
      "[CV 4/5] END .C=1, penalty=l2, solver=newton-cg;, score=0.809 total time=   0.0s\n",
      "[CV 5/5] END .C=1, penalty=l2, solver=newton-cg;, score=0.806 total time=   0.1s\n",
      "[CV 1/5] END .....C=1, penalty=l2, solver=lbfgs;, score=0.815 total time=   0.0s\n",
      "[CV 2/5] END .....C=1, penalty=l2, solver=lbfgs;, score=0.792 total time=   0.0s\n",
      "[CV 3/5] END .....C=1, penalty=l2, solver=lbfgs;, score=0.818 total time=   0.0s\n",
      "[CV 4/5] END .....C=1, penalty=l2, solver=lbfgs;, score=0.809 total time=   0.0s\n",
      "[CV 5/5] END .....C=1, penalty=l2, solver=lbfgs;, score=0.806 total time=   0.0s\n",
      "[CV 1/5] END .......C=1, penalty=l2, solver=sag;, score=0.815 total time=   0.3s\n",
      "[CV 2/5] END .......C=1, penalty=l2, solver=sag;, score=0.792 total time=   0.2s\n",
      "[CV 3/5] END .......C=1, penalty=l2, solver=sag;, score=0.818 total time=   0.2s\n",
      "[CV 4/5] END .......C=1, penalty=l2, solver=sag;, score=0.809 total time=   0.2s\n",
      "[CV 5/5] END .......C=1, penalty=l2, solver=sag;, score=0.806 total time=   0.1s\n",
      "[CV 1/5] END ......C=1, penalty=l2, solver=saga;, score=0.815 total time=   0.3s\n",
      "[CV 2/5] END ......C=1, penalty=l2, solver=saga;, score=0.792 total time=   0.6s\n",
      "[CV 3/5] END ......C=1, penalty=l2, solver=saga;, score=0.818 total time=   0.2s\n",
      "[CV 4/5] END ......C=1, penalty=l2, solver=saga;, score=0.809 total time=   0.2s\n",
      "[CV 5/5] END ......C=1, penalty=l2, solver=saga;, score=0.806 total time=   0.2s\n",
      "[CV 1/5] END C=1, penalty=elasticnet, solver=liblinear;, score=nan total time=   0.0s\n",
      "[CV 2/5] END C=1, penalty=elasticnet, solver=liblinear;, score=nan total time=   0.0s\n",
      "[CV 3/5] END C=1, penalty=elasticnet, solver=liblinear;, score=nan total time=   0.0s\n",
      "[CV 4/5] END C=1, penalty=elasticnet, solver=liblinear;, score=nan total time=   0.0s\n",
      "[CV 5/5] END C=1, penalty=elasticnet, solver=liblinear;, score=nan total time=   0.0s\n",
      "[CV 1/5] END C=1, penalty=elasticnet, solver=newton-cg;, score=nan total time=   0.0s\n",
      "[CV 2/5] END C=1, penalty=elasticnet, solver=newton-cg;, score=nan total time=   0.0s\n",
      "[CV 3/5] END C=1, penalty=elasticnet, solver=newton-cg;, score=nan total time=   0.0s\n",
      "[CV 4/5] END C=1, penalty=elasticnet, solver=newton-cg;, score=nan total time=   0.0s\n",
      "[CV 5/5] END C=1, penalty=elasticnet, solver=newton-cg;, score=nan total time=   0.0s\n",
      "[CV 1/5] END C=1, penalty=elasticnet, solver=lbfgs;, score=nan total time=   0.0s\n",
      "[CV 2/5] END C=1, penalty=elasticnet, solver=lbfgs;, score=nan total time=   0.0s\n",
      "[CV 3/5] END C=1, penalty=elasticnet, solver=lbfgs;, score=nan total time=   0.0s\n",
      "[CV 4/5] END C=1, penalty=elasticnet, solver=lbfgs;, score=nan total time=   0.0s\n",
      "[CV 5/5] END C=1, penalty=elasticnet, solver=lbfgs;, score=nan total time=   0.0s\n",
      "[CV 1/5] END .C=1, penalty=elasticnet, solver=sag;, score=nan total time=   0.0s\n",
      "[CV 2/5] END .C=1, penalty=elasticnet, solver=sag;, score=nan total time=   0.0s\n",
      "[CV 3/5] END .C=1, penalty=elasticnet, solver=sag;, score=nan total time=   0.0s\n",
      "[CV 4/5] END .C=1, penalty=elasticnet, solver=sag;, score=nan total time=   0.0s\n",
      "[CV 5/5] END .C=1, penalty=elasticnet, solver=sag;, score=nan total time=   0.0s\n",
      "[CV 1/5] END C=1, penalty=elasticnet, solver=saga;, score=nan total time=   0.0s\n",
      "[CV 2/5] END C=1, penalty=elasticnet, solver=saga;, score=nan total time=   0.0s\n",
      "[CV 3/5] END C=1, penalty=elasticnet, solver=saga;, score=nan total time=   0.0s\n",
      "[CV 4/5] END C=1, penalty=elasticnet, solver=saga;, score=nan total time=   0.0s\n",
      "[CV 5/5] END C=1, penalty=elasticnet, solver=saga;, score=nan total time=   0.0s\n",
      "[CV 1/5] END .C=1, penalty=none, solver=liblinear;, score=nan total time=   0.0s\n",
      "[CV 2/5] END .C=1, penalty=none, solver=liblinear;, score=nan total time=   0.0s\n",
      "[CV 3/5] END .C=1, penalty=none, solver=liblinear;, score=nan total time=   0.0s\n",
      "[CV 4/5] END .C=1, penalty=none, solver=liblinear;, score=nan total time=   0.0s\n",
      "[CV 5/5] END .C=1, penalty=none, solver=liblinear;, score=nan total time=   0.0s\n",
      "[CV 1/5] END C=1, penalty=none, solver=newton-cg;, score=0.815 total time=   0.0s\n",
      "[CV 2/5] END C=1, penalty=none, solver=newton-cg;, score=0.792 total time=   0.0s\n",
      "[CV 3/5] END C=1, penalty=none, solver=newton-cg;, score=0.818 total time=   0.0s\n",
      "[CV 4/5] END C=1, penalty=none, solver=newton-cg;, score=0.808 total time=   0.0s\n",
      "[CV 5/5] END C=1, penalty=none, solver=newton-cg;, score=0.804 total time=   0.0s\n",
      "[CV 1/5] END ...C=1, penalty=none, solver=lbfgs;, score=0.815 total time=   0.0s\n",
      "[CV 2/5] END ...C=1, penalty=none, solver=lbfgs;, score=0.792 total time=   0.0s\n",
      "[CV 3/5] END ...C=1, penalty=none, solver=lbfgs;, score=0.818 total time=   0.0s\n",
      "[CV 4/5] END ...C=1, penalty=none, solver=lbfgs;, score=0.808 total time=   0.0s\n",
      "[CV 5/5] END ...C=1, penalty=none, solver=lbfgs;, score=0.804 total time=   0.0s\n",
      "[CV 1/5] END .....C=1, penalty=none, solver=sag;, score=0.815 total time=   0.0s\n",
      "[CV 2/5] END .....C=1, penalty=none, solver=sag;, score=0.792 total time=   0.0s\n",
      "[CV 3/5] END .....C=1, penalty=none, solver=sag;, score=0.818 total time=   0.0s\n",
      "[CV 4/5] END .....C=1, penalty=none, solver=sag;, score=0.808 total time=   0.0s\n",
      "[CV 5/5] END .....C=1, penalty=none, solver=sag;, score=0.804 total time=   0.0s\n",
      "[CV 1/5] END ....C=1, penalty=none, solver=saga;, score=0.815 total time=   0.0s\n",
      "[CV 2/5] END ....C=1, penalty=none, solver=saga;, score=0.792 total time=   0.0s\n",
      "[CV 3/5] END ....C=1, penalty=none, solver=saga;, score=0.818 total time=   0.0s\n",
      "[CV 4/5] END ....C=1, penalty=none, solver=saga;, score=0.808 total time=   0.0s\n",
      "[CV 5/5] END ....C=1, penalty=none, solver=saga;, score=0.804 total time=   0.0s\n",
      "[CV 1/5] END .C=5, penalty=l1, solver=liblinear;, score=0.814 total time=   0.1s\n",
      "[CV 2/5] END .C=5, penalty=l1, solver=liblinear;, score=0.792 total time=   0.1s\n",
      "[CV 3/5] END .C=5, penalty=l1, solver=liblinear;, score=0.818 total time=   0.1s\n",
      "[CV 4/5] END .C=5, penalty=l1, solver=liblinear;, score=0.809 total time=   0.2s\n",
      "[CV 5/5] END .C=5, penalty=l1, solver=liblinear;, score=0.804 total time=   0.2s\n",
      "[CV 1/5] END ...C=5, penalty=l1, solver=newton-cg;, score=nan total time=   0.0s\n",
      "[CV 2/5] END ...C=5, penalty=l1, solver=newton-cg;, score=nan total time=   0.0s\n",
      "[CV 3/5] END ...C=5, penalty=l1, solver=newton-cg;, score=nan total time=   0.0s\n",
      "[CV 4/5] END ...C=5, penalty=l1, solver=newton-cg;, score=nan total time=   0.0s\n",
      "[CV 5/5] END ...C=5, penalty=l1, solver=newton-cg;, score=nan total time=   0.0s\n",
      "[CV 1/5] END .......C=5, penalty=l1, solver=lbfgs;, score=nan total time=   0.0s\n",
      "[CV 2/5] END .......C=5, penalty=l1, solver=lbfgs;, score=nan total time=   0.0s\n",
      "[CV 3/5] END .......C=5, penalty=l1, solver=lbfgs;, score=nan total time=   0.0s\n",
      "[CV 4/5] END .......C=5, penalty=l1, solver=lbfgs;, score=nan total time=   0.0s\n",
      "[CV 5/5] END .......C=5, penalty=l1, solver=lbfgs;, score=nan total time=   0.0s\n",
      "[CV 1/5] END .........C=5, penalty=l1, solver=sag;, score=nan total time=   0.0s\n",
      "[CV 2/5] END .........C=5, penalty=l1, solver=sag;, score=nan total time=   0.0s\n",
      "[CV 3/5] END .........C=5, penalty=l1, solver=sag;, score=nan total time=   0.0s\n",
      "[CV 4/5] END .........C=5, penalty=l1, solver=sag;, score=nan total time=   0.0s\n",
      "[CV 5/5] END .........C=5, penalty=l1, solver=sag;, score=nan total time=   0.0s\n",
      "[CV 1/5] END ......C=5, penalty=l1, solver=saga;, score=0.816 total time=   0.1s\n",
      "[CV 2/5] END ......C=5, penalty=l1, solver=saga;, score=0.792 total time=   0.2s\n"
     ]
    },
    {
     "name": "stdout",
     "output_type": "stream",
     "text": [
      "[CV 3/5] END ......C=5, penalty=l1, solver=saga;, score=0.818 total time=   0.2s\n",
      "[CV 4/5] END ......C=5, penalty=l1, solver=saga;, score=0.809 total time=   0.2s\n",
      "[CV 5/5] END ......C=5, penalty=l1, solver=saga;, score=0.805 total time=   0.2s\n",
      "[CV 1/5] END .C=5, penalty=l2, solver=liblinear;, score=0.814 total time=   0.0s\n",
      "[CV 2/5] END .C=5, penalty=l2, solver=liblinear;, score=0.792 total time=   0.0s\n",
      "[CV 3/5] END .C=5, penalty=l2, solver=liblinear;, score=0.818 total time=   0.0s\n",
      "[CV 4/5] END .C=5, penalty=l2, solver=liblinear;, score=0.808 total time=   0.0s\n",
      "[CV 5/5] END .C=5, penalty=l2, solver=liblinear;, score=0.804 total time=   0.0s\n",
      "[CV 1/5] END .C=5, penalty=l2, solver=newton-cg;, score=0.814 total time=   0.0s\n",
      "[CV 2/5] END .C=5, penalty=l2, solver=newton-cg;, score=0.792 total time=   0.0s\n",
      "[CV 3/5] END .C=5, penalty=l2, solver=newton-cg;, score=0.818 total time=   0.0s\n",
      "[CV 4/5] END .C=5, penalty=l2, solver=newton-cg;, score=0.808 total time=   0.0s\n",
      "[CV 5/5] END .C=5, penalty=l2, solver=newton-cg;, score=0.804 total time=   0.0s\n",
      "[CV 1/5] END .....C=5, penalty=l2, solver=lbfgs;, score=0.815 total time=   0.0s\n",
      "[CV 2/5] END .....C=5, penalty=l2, solver=lbfgs;, score=0.792 total time=   0.0s\n",
      "[CV 3/5] END .....C=5, penalty=l2, solver=lbfgs;, score=0.818 total time=   0.0s\n",
      "[CV 4/5] END .....C=5, penalty=l2, solver=lbfgs;, score=0.808 total time=   0.0s\n",
      "[CV 5/5] END .....C=5, penalty=l2, solver=lbfgs;, score=0.804 total time=   0.0s\n",
      "[CV 1/5] END .......C=5, penalty=l2, solver=sag;, score=0.814 total time=   0.1s\n",
      "[CV 2/5] END .......C=5, penalty=l2, solver=sag;, score=0.792 total time=   0.1s\n",
      "[CV 3/5] END .......C=5, penalty=l2, solver=sag;, score=0.818 total time=   0.1s\n",
      "[CV 4/5] END .......C=5, penalty=l2, solver=sag;, score=0.808 total time=   0.2s\n",
      "[CV 5/5] END .......C=5, penalty=l2, solver=sag;, score=0.804 total time=   0.1s\n",
      "[CV 1/5] END ......C=5, penalty=l2, solver=saga;, score=0.814 total time=   0.1s\n",
      "[CV 2/5] END ......C=5, penalty=l2, solver=saga;, score=0.792 total time=   0.2s\n",
      "[CV 3/5] END ......C=5, penalty=l2, solver=saga;, score=0.818 total time=   0.2s\n",
      "[CV 4/5] END ......C=5, penalty=l2, solver=saga;, score=0.808 total time=   0.2s\n",
      "[CV 5/5] END ......C=5, penalty=l2, solver=saga;, score=0.804 total time=   0.1s\n",
      "[CV 1/5] END C=5, penalty=elasticnet, solver=liblinear;, score=nan total time=   0.0s\n",
      "[CV 2/5] END C=5, penalty=elasticnet, solver=liblinear;, score=nan total time=   0.0s\n",
      "[CV 3/5] END C=5, penalty=elasticnet, solver=liblinear;, score=nan total time=   0.0s\n",
      "[CV 4/5] END C=5, penalty=elasticnet, solver=liblinear;, score=nan total time=   0.0s\n",
      "[CV 5/5] END C=5, penalty=elasticnet, solver=liblinear;, score=nan total time=   0.0s\n",
      "[CV 1/5] END C=5, penalty=elasticnet, solver=newton-cg;, score=nan total time=   0.0s\n",
      "[CV 2/5] END C=5, penalty=elasticnet, solver=newton-cg;, score=nan total time=   0.0s\n",
      "[CV 3/5] END C=5, penalty=elasticnet, solver=newton-cg;, score=nan total time=   0.0s\n",
      "[CV 4/5] END C=5, penalty=elasticnet, solver=newton-cg;, score=nan total time=   0.0s\n",
      "[CV 5/5] END C=5, penalty=elasticnet, solver=newton-cg;, score=nan total time=   0.0s\n",
      "[CV 1/5] END C=5, penalty=elasticnet, solver=lbfgs;, score=nan total time=   0.0s\n",
      "[CV 2/5] END C=5, penalty=elasticnet, solver=lbfgs;, score=nan total time=   0.0s\n",
      "[CV 3/5] END C=5, penalty=elasticnet, solver=lbfgs;, score=nan total time=   0.0s\n",
      "[CV 4/5] END C=5, penalty=elasticnet, solver=lbfgs;, score=nan total time=   0.0s\n",
      "[CV 5/5] END C=5, penalty=elasticnet, solver=lbfgs;, score=nan total time=   0.0s\n",
      "[CV 1/5] END .C=5, penalty=elasticnet, solver=sag;, score=nan total time=   0.0s\n",
      "[CV 2/5] END .C=5, penalty=elasticnet, solver=sag;, score=nan total time=   0.0s\n",
      "[CV 3/5] END .C=5, penalty=elasticnet, solver=sag;, score=nan total time=   0.0s\n",
      "[CV 4/5] END .C=5, penalty=elasticnet, solver=sag;, score=nan total time=   0.0s\n",
      "[CV 5/5] END .C=5, penalty=elasticnet, solver=sag;, score=nan total time=   0.0s\n",
      "[CV 1/5] END C=5, penalty=elasticnet, solver=saga;, score=nan total time=   0.0s\n",
      "[CV 2/5] END C=5, penalty=elasticnet, solver=saga;, score=nan total time=   0.0s\n",
      "[CV 3/5] END C=5, penalty=elasticnet, solver=saga;, score=nan total time=   0.0s\n",
      "[CV 4/5] END C=5, penalty=elasticnet, solver=saga;, score=nan total time=   0.0s\n",
      "[CV 5/5] END C=5, penalty=elasticnet, solver=saga;, score=nan total time=   0.0s\n",
      "[CV 1/5] END .C=5, penalty=none, solver=liblinear;, score=nan total time=   0.0s\n",
      "[CV 2/5] END .C=5, penalty=none, solver=liblinear;, score=nan total time=   0.0s\n",
      "[CV 3/5] END .C=5, penalty=none, solver=liblinear;, score=nan total time=   0.0s\n",
      "[CV 4/5] END .C=5, penalty=none, solver=liblinear;, score=nan total time=   0.0s\n",
      "[CV 5/5] END .C=5, penalty=none, solver=liblinear;, score=nan total time=   0.0s\n",
      "[CV 1/5] END C=5, penalty=none, solver=newton-cg;, score=0.815 total time=   0.0s\n",
      "[CV 2/5] END C=5, penalty=none, solver=newton-cg;, score=0.792 total time=   0.0s\n",
      "[CV 3/5] END C=5, penalty=none, solver=newton-cg;, score=0.818 total time=   0.0s\n",
      "[CV 4/5] END C=5, penalty=none, solver=newton-cg;, score=0.808 total time=   0.0s\n",
      "[CV 5/5] END C=5, penalty=none, solver=newton-cg;, score=0.804 total time=   0.0s\n",
      "[CV 1/5] END ...C=5, penalty=none, solver=lbfgs;, score=0.815 total time=   0.0s\n",
      "[CV 2/5] END ...C=5, penalty=none, solver=lbfgs;, score=0.792 total time=   0.0s\n",
      "[CV 3/5] END ...C=5, penalty=none, solver=lbfgs;, score=0.818 total time=   0.0s\n",
      "[CV 4/5] END ...C=5, penalty=none, solver=lbfgs;, score=0.808 total time=   0.0s\n",
      "[CV 5/5] END ...C=5, penalty=none, solver=lbfgs;, score=0.804 total time=   0.0s\n",
      "[CV 1/5] END .....C=5, penalty=none, solver=sag;, score=0.815 total time=   0.0s\n",
      "[CV 2/5] END .....C=5, penalty=none, solver=sag;, score=0.792 total time=   0.0s\n",
      "[CV 3/5] END .....C=5, penalty=none, solver=sag;, score=0.818 total time=   0.0s\n",
      "[CV 4/5] END .....C=5, penalty=none, solver=sag;, score=0.808 total time=   0.0s\n",
      "[CV 5/5] END .....C=5, penalty=none, solver=sag;, score=0.804 total time=   0.0s\n",
      "[CV 1/5] END ....C=5, penalty=none, solver=saga;, score=0.815 total time=   0.0s\n",
      "[CV 2/5] END ....C=5, penalty=none, solver=saga;, score=0.792 total time=   0.0s\n",
      "[CV 3/5] END ....C=5, penalty=none, solver=saga;, score=0.818 total time=   0.0s\n",
      "[CV 4/5] END ....C=5, penalty=none, solver=saga;, score=0.808 total time=   0.0s\n",
      "[CV 5/5] END ....C=5, penalty=none, solver=saga;, score=0.804 total time=   0.0s\n"
     ]
    },
    {
     "data": {
      "text/plain": [
       "GridSearchCV(cv=5, estimator=LogisticRegression(random_state=123),\n",
       "             param_grid={'C': [0.01, 0.05, 0.1, 0.5, 1, 5],\n",
       "                         'penalty': ['l1', 'l2', 'elasticnet', 'none'],\n",
       "                         'solver': ['liblinear', 'newton-cg', 'lbfgs', 'sag',\n",
       "                                    'saga']},\n",
       "             scoring='accuracy', verbose=3)"
      ]
     },
     "execution_count": 14,
     "metadata": {},
     "output_type": "execute_result"
    }
   ],
   "source": [
    "#Fitting Model lr grid\n",
    "lr_grid.fit(X_train_clean, y_train)"
   ]
  },
  {
   "cell_type": "code",
   "execution_count": 15,
   "id": "c5fe0146",
   "metadata": {},
   "outputs": [
    {
     "name": "stdout",
     "output_type": "stream",
     "text": [
      "{'C': 0.1, 'penalty': 'l1', 'solver': 'saga'}\n"
     ]
    }
   ],
   "source": [
    "#Melihat parameter terbaik untuk model\n",
    "print(lr_grid.best_params_)"
   ]
  },
  {
   "cell_type": "code",
   "execution_count": 16,
   "id": "1515c8a7",
   "metadata": {},
   "outputs": [
    {
     "data": {
      "text/plain": [
       "LogisticRegression(C=0.1, penalty='l1', solver='saga')"
      ]
     },
     "execution_count": 16,
     "metadata": {},
     "output_type": "execute_result"
    }
   ],
   "source": [
    "#Input parameter terbaik hasil GridsearchCV\n",
    "lr_grid_cv  = LogisticRegression(C = lr_grid.best_params_[\"C\"],\n",
    "                                 penalty = lr_grid.best_params_[\"penalty\"],\n",
    "                                 solver = lr_grid.best_params_[\"solver\"])\n",
    "\n",
    "#Kembali fitting model\n",
    "lr_grid_cv.fit(X_train_clean, y_train)"
   ]
  },
  {
   "cell_type": "code",
   "execution_count": 17,
   "id": "a612f2ec",
   "metadata": {},
   "outputs": [
    {
     "name": "stdout",
     "output_type": "stream",
     "text": [
      "Training Data Score: 0.8097142857142857\n",
      "Validating Data Score: 0.8283333333333334\n",
      "Testing Data Score: 0.8116666666666666\n"
     ]
    }
   ],
   "source": [
    "print(f\"Training Data Score: {lr_grid_cv.score(X_train_clean, y_train)}\")\n",
    "print(f\"Validating Data Score: {lr_grid_cv.score(X_valid_clean, y_valid)}\")\n",
    "print(f\"Testing Data Score: {lr_grid_cv.score(X_test_clean, y_test)}\")"
   ]
  },
  {
   "cell_type": "code",
   "execution_count": 18,
   "id": "cc86cd15",
   "metadata": {},
   "outputs": [],
   "source": [
    "#Prediksi dengan menggunakan data test\n",
    "logregtun_pred = lr_grid_cv.predict(X_test_clean)"
   ]
  },
  {
   "cell_type": "code",
   "execution_count": 19,
   "id": "ddcdcfb0",
   "metadata": {},
   "outputs": [
    {
     "name": "stdout",
     "output_type": "stream",
     "text": [
      "              precision    recall  f1-score   support\n",
      "\n",
      "           0       0.83      0.97      0.89      1424\n",
      "           1       0.64      0.23      0.33       376\n",
      "\n",
      "    accuracy                           0.81      1800\n",
      "   macro avg       0.73      0.60      0.61      1800\n",
      "weighted avg       0.79      0.81      0.77      1800\n",
      "\n"
     ]
    }
   ],
   "source": [
    "#Melihat Classification report\n",
    "print(classification_report(y_test, logregtun_pred, labels=[0,1]))"
   ]
  },
  {
   "cell_type": "code",
   "execution_count": 20,
   "id": "a1903b9c",
   "metadata": {},
   "outputs": [
    {
     "data": {
      "image/png": "[encoded data removed]",
      "text/plain": [
       "<Figure size 432x288 with 2 Axes>"
      ]
     },
     "metadata": {
      "needs_background": "light"
     },
     "output_type": "display_data"
    }
   ],
   "source": [
    "ConfusionMatrixDisplay.from_predictions(y_test, logregtun_pred, display_labels = [False, True])\n",
    "plt.show()"
   ]
  },
  {
   "cell_type": "markdown",
   "id": "21d6311b",
   "metadata": {},
   "source": [
    "## Support Vector Classifier"
   ]
  },
  {
   "cell_type": "code",
   "execution_count": 21,
   "id": "867c56d2",
   "metadata": {},
   "outputs": [],
   "source": [
    "svc_ori = SVC(random_state = 123)"
   ]
  },
  {
   "cell_type": "code",
   "execution_count": 22,
   "id": "e5de88f3",
   "metadata": {},
   "outputs": [
    {
     "data": {
      "text/plain": [
       "SVC(random_state=123)"
      ]
     },
     "execution_count": 22,
     "metadata": {},
     "output_type": "execute_result"
    }
   ],
   "source": [
    "# fit Support Vector Classifier\n",
    "svc_ori.fit(X_train_clean, y_train)"
   ]
  },
  {
   "cell_type": "code",
   "execution_count": 23,
   "id": "299535e7",
   "metadata": {},
   "outputs": [
    {
     "data": {
      "text/plain": [
       "0.8611428571428571"
      ]
     },
     "execution_count": 23,
     "metadata": {},
     "output_type": "execute_result"
    }
   ],
   "source": [
    "#Cek Score model SVC\n",
    "svc_ori.score(X_train_clean, y_train)"
   ]
  },
  {
   "cell_type": "code",
   "execution_count": 24,
   "id": "cd127cf3",
   "metadata": {},
   "outputs": [],
   "source": [
    "svc_predict = svc_ori.predict(X_test_clean)"
   ]
  },
  {
   "cell_type": "code",
   "execution_count": 25,
   "id": "bc2baaa0",
   "metadata": {},
   "outputs": [
    {
     "name": "stdout",
     "output_type": "stream",
     "text": [
      "              precision    recall  f1-score   support\n",
      "\n",
      "           0       0.86      0.98      0.92      1424\n",
      "           1       0.86      0.39      0.53       376\n",
      "\n",
      "    accuracy                           0.86      1800\n",
      "   macro avg       0.86      0.68      0.72      1800\n",
      "weighted avg       0.86      0.86      0.84      1800\n",
      "\n"
     ]
    }
   ],
   "source": [
    "print(classification_report(y_test, svc_predict, labels=[0,1]))"
   ]
  },
  {
   "cell_type": "code",
   "execution_count": 26,
   "id": "be978df3",
   "metadata": {},
   "outputs": [
    {
     "name": "stdout",
     "output_type": "stream",
     "text": [
      "Training Data Score: 0.8611428571428571\n",
      "Validating Data Score: 0.8633333333333333\n",
      "Testing Data Score: 0.8583333333333333\n"
     ]
    }
   ],
   "source": [
    "print(f\"Training Data Score: {svc_ori.score(X_train_clean, y_train)}\")\n",
    "print(f\"Validating Data Score: {svc_ori.score(X_valid_clean, y_valid)}\")\n",
    "print(f\"Testing Data Score: {svc_ori.score(X_test_clean, y_test)}\")"
   ]
  },
  {
   "cell_type": "markdown",
   "id": "1a26cdae",
   "metadata": {},
   "source": [
    "## Tuning Parameter SVC"
   ]
  },
  {
   "cell_type": "code",
   "execution_count": 27,
   "id": "5ce72ccc",
   "metadata": {},
   "outputs": [],
   "source": [
    "# Create the GridSearchCV model\n",
    "# Create the GridSearch estimator along with a parameter object containing the values to adjust\n",
    "param_grid = {'kernel' : ['linear', 'rbf', 'poly', 'sigmoid'],\n",
    "              'C': [0.0005,0.001, 0.01, 0.1, 0.5],\n",
    "              'gamma': ['scale', 'auto']\n",
    "             }"
   ]
  },
  {
   "cell_type": "code",
   "execution_count": 28,
   "id": "1b562945",
   "metadata": {},
   "outputs": [],
   "source": [
    "#Membentuk parameter untuk eksperimentasi\n",
    "svc_grid = GridSearchCV(SVC(random_state = 123), \n",
    "                        param_grid, \n",
    "                        verbose=3, \n",
    "                        cv= 5, \n",
    "                        n_jobs=4, \n",
    "                        scoring='accuracy')"
   ]
  },
  {
   "cell_type": "code",
   "execution_count": 29,
   "id": "9de15714",
   "metadata": {},
   "outputs": [
    {
     "name": "stdout",
     "output_type": "stream",
     "text": [
      "Fitting 5 folds for each of 40 candidates, totalling 200 fits\n"
     ]
    },
    {
     "data": {
      "text/plain": [
       "GridSearchCV(cv=5, estimator=SVC(random_state=123), n_jobs=4,\n",
       "             param_grid={'C': [0.0005, 0.001, 0.01, 0.1, 0.5],\n",
       "                         'gamma': ['scale', 'auto'],\n",
       "                         'kernel': ['linear', 'rbf', 'poly', 'sigmoid']},\n",
       "             scoring='accuracy', verbose=3)"
      ]
     },
     "execution_count": 29,
     "metadata": {},
     "output_type": "execute_result"
    }
   ],
   "source": [
    "#Melakukan fitting model gridsearchcv\n",
    "svc_grid.fit(X_train_clean, y_train)"
   ]
  },
  {
   "cell_type": "code",
   "execution_count": 30,
   "id": "2a1e17d3",
   "metadata": {},
   "outputs": [
    {
     "data": {
      "text/plain": [
       "{'C': 0.5, 'gamma': 'scale', 'kernel': 'rbf'}"
      ]
     },
     "execution_count": 30,
     "metadata": {},
     "output_type": "execute_result"
    }
   ],
   "source": [
    "#Melihat parameter terbaik\n",
    "svc_grid.best_params_"
   ]
  },
  {
   "cell_type": "code",
   "execution_count": 31,
   "id": "7061c62f",
   "metadata": {},
   "outputs": [],
   "source": [
    "#Melakukan input parameter terbaik hasil gridsearch\n",
    "svc_grid_cv  = SVC(kernel = svc_grid.best_params_[\"kernel\"],\n",
    "                   gamma = svc_grid.best_params_[\"gamma\"],\n",
    "                   C = svc_grid.best_params_[\"C\"]\n",
    "                  )"
   ]
  },
  {
   "cell_type": "code",
   "execution_count": 32,
   "id": "237e3db8",
   "metadata": {},
   "outputs": [
    {
     "data": {
      "text/plain": [
       "SVC(C=0.5)"
      ]
     },
     "execution_count": 32,
     "metadata": {},
     "output_type": "execute_result"
    }
   ],
   "source": [
    "svc_grid_cv.fit(X_train_clean, y_train)"
   ]
  },
  {
   "cell_type": "code",
   "execution_count": 33,
   "id": "ed628a25",
   "metadata": {},
   "outputs": [
    {
     "name": "stdout",
     "output_type": "stream",
     "text": [
      "Training Data Score: 0.8537142857142858\n",
      "Validating Data Score: 0.8583333333333333\n",
      "Testing Data Score: 0.85\n"
     ]
    }
   ],
   "source": [
    "print(f\"Training Data Score: {svc_grid_cv.score(X_train_clean, y_train)}\")\n",
    "print(f\"Validating Data Score: {svc_grid_cv.score(X_valid_clean, y_valid)}\")\n",
    "print(f\"Testing Data Score: {svc_grid_cv.score(X_test_clean, y_test)}\")"
   ]
  },
  {
   "cell_type": "code",
   "execution_count": 34,
   "id": "3acaeca5",
   "metadata": {},
   "outputs": [],
   "source": [
    "svc_pred_cv = svc_grid_cv.predict(X_test_clean)"
   ]
  },
  {
   "cell_type": "code",
   "execution_count": 35,
   "id": "e2af5b83",
   "metadata": {},
   "outputs": [
    {
     "name": "stdout",
     "output_type": "stream",
     "text": [
      "              precision    recall  f1-score   support\n",
      "\n",
      "           0       0.85      0.99      0.91      1424\n",
      "           1       0.88      0.32      0.47       376\n",
      "\n",
      "    accuracy                           0.85      1800\n",
      "   macro avg       0.87      0.66      0.69      1800\n",
      "weighted avg       0.85      0.85      0.82      1800\n",
      "\n"
     ]
    }
   ],
   "source": [
    "print(classification_report(y_test, svc_pred_cv, labels=[0,1]))"
   ]
  },
  {
   "cell_type": "code",
   "execution_count": 36,
   "id": "a09ea284",
   "metadata": {},
   "outputs": [
    {
     "data": {
      "image/png": "[encoded data removed]",
      "text/plain": [
       "<Figure size 432x288 with 2 Axes>"
      ]
     },
     "metadata": {
      "needs_background": "light"
     },
     "output_type": "display_data"
    }
   ],
   "source": [
    "ConfusionMatrixDisplay.from_predictions(y_test, svc_pred_cv, display_labels = [False, True])\n",
    "plt.show()"
   ]
  },
  {
   "cell_type": "markdown",
   "id": "5828814a",
   "metadata": {},
   "source": [
    "## Decisiontree"
   ]
  },
  {
   "cell_type": "code",
   "execution_count": 37,
   "id": "b03b5770",
   "metadata": {},
   "outputs": [],
   "source": [
    "# Model Decision Tree\n",
    "decTree = DecisionTreeClassifier(random_state = 123)"
   ]
  },
  {
   "cell_type": "code",
   "execution_count": 38,
   "id": "b930980d",
   "metadata": {},
   "outputs": [
    {
     "data": {
      "text/plain": [
       "DecisionTreeClassifier(random_state=123)"
      ]
     },
     "execution_count": 38,
     "metadata": {},
     "output_type": "execute_result"
    }
   ],
   "source": [
    "# Fitting model\n",
    "decTree.fit(X_train_clean, y_train)"
   ]
  },
  {
   "cell_type": "code",
   "execution_count": 39,
   "id": "a4b617b2",
   "metadata": {},
   "outputs": [
    {
     "data": {
      "text/plain": [
       "1.0"
      ]
     },
     "execution_count": 39,
     "metadata": {},
     "output_type": "execute_result"
    }
   ],
   "source": [
    "# Model score\n",
    "decTree.score(X_train_clean, y_train)"
   ]
  },
  {
   "cell_type": "code",
   "execution_count": 40,
   "id": "bbdc03ed",
   "metadata": {},
   "outputs": [],
   "source": [
    "#Prediksi data menggunakan data test\n",
    "dectree_predict = decTree.predict(X_test_clean)"
   ]
  },
  {
   "cell_type": "code",
   "execution_count": 41,
   "id": "8f677d5a",
   "metadata": {},
   "outputs": [
    {
     "name": "stdout",
     "output_type": "stream",
     "text": [
      "              precision    recall  f1-score   support\n",
      "\n",
      "           0       0.88      0.87      0.87      1424\n",
      "           1       0.52      0.53      0.53       376\n",
      "\n",
      "    accuracy                           0.80      1800\n",
      "   macro avg       0.70      0.70      0.70      1800\n",
      "weighted avg       0.80      0.80      0.80      1800\n",
      "\n"
     ]
    }
   ],
   "source": [
    "#Melihat Classification report\n",
    "print(classification_report(y_test, dectree_predict, labels=[0,1]))"
   ]
  },
  {
   "cell_type": "code",
   "execution_count": 42,
   "id": "b0e753d6",
   "metadata": {},
   "outputs": [
    {
     "name": "stdout",
     "output_type": "stream",
     "text": [
      "Training Data Score: 1.0\n",
      "Validating Data Score: 0.8041666666666667\n",
      "Testing Data Score: 0.7988888888888889\n"
     ]
    }
   ],
   "source": [
    "#Melihat score prediksi dari data train, valid dan test\n",
    "print(f\"Training Data Score: {decTree.score(X_train_clean, y_train)}\")\n",
    "print(f\"Validating Data Score: {decTree.score(X_valid_clean, y_valid)}\")\n",
    "print(f\"Testing Data Score: {decTree.score(X_test_clean, y_test)}\")"
   ]
  },
  {
   "cell_type": "markdown",
   "id": "11a5b44a",
   "metadata": {},
   "source": [
    "## Tuning Parameter Decisiontree"
   ]
  },
  {
   "cell_type": "code",
   "execution_count": 43,
   "id": "a74787e4",
   "metadata": {},
   "outputs": [],
   "source": [
    "# Buat parameter untuk eksperimen\n",
    "decTree_param = {\"max_depth\": [2, 3, 4, 5, 6, 7, 8, 9, 10, 11, 12],\n",
    "                \"criterion\": [\"gini\", \"entropy\", \"log_loss\"],\n",
    "                 'min_samples_split': [2, 5, 10],\n",
    "                 'min_samples_leaf': [1, 2, 4],}"
   ]
  },
  {
   "cell_type": "code",
   "execution_count": 44,
   "id": "93127a9f",
   "metadata": {},
   "outputs": [],
   "source": [
    "# Buat plan eksperimentasi\n",
    "random_decTree = GridSearchCV(estimator = DecisionTreeClassifier(random_state=123),\n",
    "                              param_grid = decTree_param,\n",
    "                              cv = 5,\n",
    "                              scoring = \"accuracy\") "
   ]
  },
  {
   "cell_type": "code",
   "execution_count": 45,
   "id": "5e46ac51",
   "metadata": {},
   "outputs": [
    {
     "data": {
      "text/plain": [
       "GridSearchCV(cv=5, estimator=DecisionTreeClassifier(random_state=123),\n",
       "             param_grid={'criterion': ['gini', 'entropy', 'log_loss'],\n",
       "                         'max_depth': [2, 3, 4, 5, 6, 7, 8, 9, 10, 11, 12],\n",
       "                         'min_samples_leaf': [1, 2, 4],\n",
       "                         'min_samples_split': [2, 5, 10]},\n",
       "             scoring='accuracy')"
      ]
     },
     "execution_count": 45,
     "metadata": {},
     "output_type": "execute_result"
    }
   ],
   "source": [
    "# Lakukan fitting eksperimentasi\n",
    "random_decTree.fit(X_train_clean, y_train)"
   ]
  },
  {
   "cell_type": "code",
   "execution_count": 46,
   "id": "48a790c9",
   "metadata": {},
   "outputs": [
    {
     "data": {
      "text/plain": [
       "{'criterion': 'entropy',\n",
       " 'max_depth': 7,\n",
       " 'min_samples_leaf': 1,\n",
       " 'min_samples_split': 10}"
      ]
     },
     "execution_count": 46,
     "metadata": {},
     "output_type": "execute_result"
    }
   ],
   "source": [
    "random_decTree.best_params_"
   ]
  },
  {
   "cell_type": "code",
   "execution_count": 47,
   "id": "a4470ba4",
   "metadata": {},
   "outputs": [],
   "source": [
    "# Buat model\n",
    "best_decTree = DecisionTreeClassifier(max_depth = random_decTree.best_params_[\"max_depth\"],\n",
    "                                      criterion = random_decTree.best_params_[\"criterion\"],\n",
    "                                      min_samples_leaf = random_decTree.best_params_[\"min_samples_leaf\"],\n",
    "                                      min_samples_split = random_decTree.best_params_[\"min_samples_split\"],\n",
    "                                      random_state = 123)"
   ]
  },
  {
   "cell_type": "code",
   "execution_count": 48,
   "id": "79916272",
   "metadata": {},
   "outputs": [
    {
     "data": {
      "text/plain": [
       "DecisionTreeClassifier(criterion='entropy', max_depth=7, min_samples_split=10,\n",
       "                       random_state=123)"
      ]
     },
     "execution_count": 48,
     "metadata": {},
     "output_type": "execute_result"
    }
   ],
   "source": [
    "# Fit model\n",
    "best_decTree.fit(X_train_clean, y_train)"
   ]
  },
  {
   "cell_type": "code",
   "execution_count": 49,
   "id": "7724e94e",
   "metadata": {},
   "outputs": [
    {
     "data": {
      "text/plain": [
       "0.8682857142857143"
      ]
     },
     "execution_count": 49,
     "metadata": {},
     "output_type": "execute_result"
    }
   ],
   "source": [
    "# Cek Train data\n",
    "best_decTree.score(X_train_clean, y_train)"
   ]
  },
  {
   "cell_type": "code",
   "execution_count": 50,
   "id": "bb8ca1f2",
   "metadata": {},
   "outputs": [],
   "source": [
    "y_predict_dectree = best_decTree.predict(X_test_clean)"
   ]
  },
  {
   "cell_type": "code",
   "execution_count": 51,
   "id": "2e148f66",
   "metadata": {},
   "outputs": [
    {
     "name": "stdout",
     "output_type": "stream",
     "text": [
      "              precision    recall  f1-score   support\n",
      "\n",
      "           0       0.87      0.97      0.92      1424\n",
      "           1       0.78      0.46      0.58       376\n",
      "\n",
      "    accuracy                           0.86      1800\n",
      "   macro avg       0.83      0.71      0.75      1800\n",
      "weighted avg       0.85      0.86      0.85      1800\n",
      "\n"
     ]
    }
   ],
   "source": [
    "print(classification_report(y_test, y_predict_dectree))"
   ]
  },
  {
   "cell_type": "code",
   "execution_count": 52,
   "id": "ede4e61b",
   "metadata": {},
   "outputs": [
    {
     "name": "stdout",
     "output_type": "stream",
     "text": [
      "Training Data Score: 0.8682857142857143\n",
      "Validating Data Score: 0.8625\n",
      "Testing Data Score: 0.86\n"
     ]
    }
   ],
   "source": [
    "print(f\"Training Data Score: {best_decTree.score(X_train_clean, y_train)}\")\n",
    "print(f\"Validating Data Score: {best_decTree.score(X_valid_clean, y_valid)}\")\n",
    "print(f\"Testing Data Score: {best_decTree.score(X_test_clean, y_test)}\")"
   ]
  },
  {
   "cell_type": "code",
   "execution_count": 53,
   "id": "0738114e",
   "metadata": {},
   "outputs": [
    {
     "data": {
      "image/png": "[encoded data removed]",
      "text/plain": [
       "<Figure size 432x288 with 2 Axes>"
      ]
     },
     "metadata": {
      "needs_background": "light"
     },
     "output_type": "display_data"
    }
   ],
   "source": [
    "ConfusionMatrixDisplay.from_predictions(y_test, y_predict_dectree, display_labels = [False, True])\n",
    "plt.show()"
   ]
  },
  {
   "cell_type": "markdown",
   "id": "2463ddab",
   "metadata": {},
   "source": [
    "## Randomforest Classifier"
   ]
  },
  {
   "cell_type": "code",
   "execution_count": 54,
   "id": "1187cbe5",
   "metadata": {},
   "outputs": [],
   "source": [
    "# Build random forest\n",
    "random_forest = RandomForestClassifier(n_estimators = 100, \n",
    "                                       criterion = \"gini\",\n",
    "                                       max_features = \"sqrt\",\n",
    "                                       max_depth=6, \n",
    "                                       min_samples_leaf=8,\n",
    "                                       random_state = 123)"
   ]
  },
  {
   "cell_type": "code",
   "execution_count": 55,
   "id": "8297613f",
   "metadata": {},
   "outputs": [
    {
     "data": {
      "text/plain": [
       "RandomForestClassifier(max_depth=6, max_features='sqrt', min_samples_leaf=8,\n",
       "                       random_state=123)"
      ]
     },
     "execution_count": 55,
     "metadata": {},
     "output_type": "execute_result"
    }
   ],
   "source": [
    "random_forest.fit(X_train_clean, y_train)"
   ]
  },
  {
   "cell_type": "code",
   "execution_count": 56,
   "id": "8c86acb4",
   "metadata": {},
   "outputs": [
    {
     "data": {
      "text/plain": [
       "RandomForestClassifier(max_depth=6, max_features='sqrt', min_samples_leaf=8,\n",
       "                       random_state=123)"
      ]
     },
     "execution_count": 56,
     "metadata": {},
     "output_type": "execute_result"
    }
   ],
   "source": [
    "random_forest.fit(X_train_clean, y_train)"
   ]
  },
  {
   "cell_type": "code",
   "execution_count": 57,
   "id": "0befb2e9",
   "metadata": {},
   "outputs": [
    {
     "data": {
      "text/plain": [
       "0.8597142857142858"
      ]
     },
     "execution_count": 57,
     "metadata": {},
     "output_type": "execute_result"
    }
   ],
   "source": [
    "# Model score\n",
    "random_forest.score(X_train_clean, y_train)"
   ]
  },
  {
   "cell_type": "code",
   "execution_count": 58,
   "id": "d6f54f8c",
   "metadata": {},
   "outputs": [],
   "source": [
    "y_pred_rf = random_forest.predict(X_test_clean)"
   ]
  },
  {
   "cell_type": "code",
   "execution_count": 59,
   "id": "e171133b",
   "metadata": {},
   "outputs": [
    {
     "name": "stdout",
     "output_type": "stream",
     "text": [
      "              precision    recall  f1-score   support\n",
      "\n",
      "           0       0.85      0.98      0.91      1424\n",
      "           1       0.85      0.37      0.51       376\n",
      "\n",
      "    accuracy                           0.85      1800\n",
      "   macro avg       0.85      0.67      0.71      1800\n",
      "weighted avg       0.85      0.85      0.83      1800\n",
      "\n"
     ]
    }
   ],
   "source": [
    "print(classification_report(y_test, y_pred_rf, labels=[0,1]))"
   ]
  },
  {
   "cell_type": "code",
   "execution_count": 60,
   "id": "bd28fb06",
   "metadata": {},
   "outputs": [
    {
     "data": {
      "image/png": "[encoded data removed]",
      "text/plain": [
       "<Figure size 432x288 with 2 Axes>"
      ]
     },
     "metadata": {
      "needs_background": "light"
     },
     "output_type": "display_data"
    }
   ],
   "source": [
    "ConfusionMatrixDisplay.from_predictions(y_test, y_pred_rf, display_labels = [False, True])\n",
    "plt.show()"
   ]
  },
  {
   "cell_type": "markdown",
   "id": "85c8c9a1",
   "metadata": {},
   "source": [
    "## Tuning Parameter Randomforest"
   ]
  },
  {
   "cell_type": "code",
   "execution_count": 61,
   "id": "ad00f78b",
   "metadata": {},
   "outputs": [],
   "source": [
    "# Buat parameter untuk eksperimen\n",
    "random_param = {\"max_depth\": [2, 3, 4, 5, 6, 7, 8, 9, 10, 11, 12],\n",
    "                'n_estimators': [50, 100, 200],\n",
    "                'min_samples_leaf': [1, 2, 4],\n",
    "                'min_samples_split': [2, 5, 10],\n",
    "                \"criterion\": [\"gini\", \"entropy\"]\n",
    "                }"
   ]
  },
  {
   "cell_type": "code",
   "execution_count": 62,
   "id": "d40a7cec",
   "metadata": {},
   "outputs": [],
   "source": [
    "# Buat plan eksperimentasi\n",
    "random_forestcls = GridSearchCV(estimator = RandomForestClassifier(random_state=123),\n",
    "                                param_grid = random_param,\n",
    "                                cv = 5,\n",
    "                                scoring = \"accuracy\") "
   ]
  },
  {
   "cell_type": "code",
   "execution_count": 63,
   "id": "b3d4b2e3",
   "metadata": {},
   "outputs": [
    {
     "data": {
      "text/plain": [
       "GridSearchCV(cv=5, estimator=RandomForestClassifier(random_state=123),\n",
       "             param_grid={'criterion': ['gini', 'entropy'],\n",
       "                         'max_depth': [2, 3, 4, 5, 6, 7, 8, 9, 10, 11, 12],\n",
       "                         'min_samples_leaf': [1, 2, 4],\n",
       "                         'min_samples_split': [2, 5, 10],\n",
       "                         'n_estimators': [50, 100, 200]},\n",
       "             scoring='accuracy')"
      ]
     },
     "execution_count": 63,
     "metadata": {},
     "output_type": "execute_result"
    }
   ],
   "source": [
    "# Lakukan fitting eksperimentasi\n",
    "random_forestcls.fit(X_train_clean, y_train)"
   ]
  },
  {
   "cell_type": "code",
   "execution_count": 64,
   "id": "900462d3",
   "metadata": {},
   "outputs": [
    {
     "data": {
      "text/plain": [
       "{'criterion': 'gini',\n",
       " 'max_depth': 10,\n",
       " 'min_samples_leaf': 1,\n",
       " 'min_samples_split': 2,\n",
       " 'n_estimators': 200}"
      ]
     },
     "execution_count": 64,
     "metadata": {},
     "output_type": "execute_result"
    }
   ],
   "source": [
    "random_forestcls.best_params_"
   ]
  },
  {
   "cell_type": "code",
   "execution_count": 65,
   "id": "8d1c89f9",
   "metadata": {},
   "outputs": [],
   "source": [
    "# Buat model\n",
    "random_forestcls_cv = RandomForestClassifier(max_depth = random_forestcls.best_params_[\"max_depth\"],\n",
    "                                             criterion = random_forestcls.best_params_[\"criterion\"],\n",
    "                                             n_estimators = random_forestcls.best_params_[\"n_estimators\"],\n",
    "                                             min_samples_leaf = random_forestcls.best_params_[\"min_samples_leaf\"],\n",
    "                                             min_samples_split = random_forestcls.best_params_[\"min_samples_split\"],\n",
    "                                             random_state = 123)"
   ]
  },
  {
   "cell_type": "code",
   "execution_count": 66,
   "id": "881bcd92",
   "metadata": {},
   "outputs": [
    {
     "data": {
      "text/plain": [
       "RandomForestClassifier(max_depth=10, n_estimators=200, random_state=123)"
      ]
     },
     "execution_count": 66,
     "metadata": {},
     "output_type": "execute_result"
    }
   ],
   "source": [
    "# Fit model\n",
    "random_forestcls_cv.fit(X_train_clean, y_train)"
   ]
  },
  {
   "cell_type": "code",
   "execution_count": 67,
   "id": "b4b6bfe9",
   "metadata": {},
   "outputs": [],
   "source": [
    "predict_randomcls_cv = random_forestcls_cv.predict(X_test_clean)"
   ]
  },
  {
   "cell_type": "code",
   "execution_count": 68,
   "id": "0674960b",
   "metadata": {},
   "outputs": [
    {
     "name": "stdout",
     "output_type": "stream",
     "text": [
      "              precision    recall  f1-score   support\n",
      "\n",
      "           0       0.87      0.97      0.92      1424\n",
      "           1       0.81      0.47      0.59       376\n",
      "\n",
      "    accuracy                           0.87      1800\n",
      "   macro avg       0.84      0.72      0.76      1800\n",
      "weighted avg       0.86      0.87      0.85      1800\n",
      "\n"
     ]
    }
   ],
   "source": [
    "print(classification_report(y_test, predict_randomcls_cv))"
   ]
  },
  {
   "cell_type": "code",
   "execution_count": 69,
   "id": "e98caf47",
   "metadata": {},
   "outputs": [
    {
     "name": "stdout",
     "output_type": "stream",
     "text": [
      "Training Data Score: 0.8997142857142857\n",
      "Validating Data Score: 0.8691666666666666\n",
      "Testing Data Score: 0.8655555555555555\n"
     ]
    }
   ],
   "source": [
    "print(f\"Training Data Score: {random_forestcls_cv.score(X_train_clean, y_train)}\")\n",
    "print(f\"Validating Data Score: {random_forestcls_cv.score(X_valid_clean, y_valid)}\")\n",
    "print(f\"Testing Data Score: {random_forestcls_cv.score(X_test_clean, y_test)}\")"
   ]
  },
  {
   "cell_type": "code",
   "execution_count": 70,
   "id": "fbec3c0e",
   "metadata": {},
   "outputs": [
    {
     "data": {
      "image/png": "[encoded data removed]",
      "text/plain": [
       "<Figure size 432x288 with 2 Axes>"
      ]
     },
     "metadata": {
      "needs_background": "light"
     },
     "output_type": "display_data"
    }
   ],
   "source": [
    "ConfusionMatrixDisplay.from_predictions(y_test, predict_randomcls_cv, display_labels = [False, True])\n",
    "plt.show()"
   ]
  },
  {
   "cell_type": "markdown",
   "id": "99f4c2aa",
   "metadata": {},
   "source": [
    "## Ridge Classifier"
   ]
  },
  {
   "cell_type": "code",
   "execution_count": 71,
   "id": "8ff949d5",
   "metadata": {},
   "outputs": [],
   "source": [
    "ridge = RidgeClassifier(random_state = 123) #create a ridge classifier object"
   ]
  },
  {
   "cell_type": "code",
   "execution_count": 72,
   "id": "336549ab",
   "metadata": {},
   "outputs": [
    {
     "data": {
      "text/plain": [
       "RidgeClassifier(random_state=123)"
      ]
     },
     "execution_count": 72,
     "metadata": {},
     "output_type": "execute_result"
    }
   ],
   "source": [
    "ridge.fit(X_train_clean, y_train) #train the model"
   ]
  },
  {
   "cell_type": "code",
   "execution_count": 73,
   "id": "1676dcc4",
   "metadata": {},
   "outputs": [
    {
     "data": {
      "text/plain": [
       "0.805"
      ]
     },
     "execution_count": 73,
     "metadata": {},
     "output_type": "execute_result"
    }
   ],
   "source": [
    "ridge.score(X_train_clean, y_train)"
   ]
  },
  {
   "cell_type": "code",
   "execution_count": 74,
   "id": "ee605ef2",
   "metadata": {},
   "outputs": [],
   "source": [
    "pred_ridge = ridge.predict(X_test_clean)"
   ]
  },
  {
   "cell_type": "code",
   "execution_count": 75,
   "id": "f0f33c3b",
   "metadata": {},
   "outputs": [
    {
     "name": "stdout",
     "output_type": "stream",
     "text": [
      "              precision    recall  f1-score   support\n",
      "\n",
      "           0       0.81      0.98      0.89      1424\n",
      "           1       0.63      0.12      0.21       376\n",
      "\n",
      "    accuracy                           0.80      1800\n",
      "   macro avg       0.72      0.55      0.55      1800\n",
      "weighted avg       0.77      0.80      0.74      1800\n",
      "\n"
     ]
    }
   ],
   "source": [
    "print(classification_report(y_test, pred_ridge, labels=[0,1]))"
   ]
  },
  {
   "cell_type": "code",
   "execution_count": 76,
   "id": "f600b577",
   "metadata": {},
   "outputs": [
    {
     "name": "stdout",
     "output_type": "stream",
     "text": [
      "Training Data Score: 0.805\n",
      "Validating Data Score: 0.8225\n",
      "Testing Data Score: 0.8016666666666666\n"
     ]
    }
   ],
   "source": [
    "print(f\"Training Data Score: {ridge.score(X_train_clean, y_train)}\")\n",
    "print(f\"Validating Data Score: {ridge.score(X_valid_clean, y_valid)}\")\n",
    "print(f\"Testing Data Score: {ridge.score(X_test_clean, y_test)}\")"
   ]
  },
  {
   "cell_type": "markdown",
   "id": "aee31291",
   "metadata": {},
   "source": [
    "## Tuning Parameter Ridge Classifier"
   ]
  },
  {
   "cell_type": "code",
   "execution_count": 77,
   "id": "bd44e283",
   "metadata": {},
   "outputs": [],
   "source": [
    "clf_ridge = RidgeClassifier(random_state = 123)\n",
    "\n",
    "alpha = [0.1, 0.2, 0.3, 0.4, 0.5, 0.6, 0.7, 0.8, 0.9, 1.0]\n",
    "\n",
    "# define grid search\n",
    "grid = dict(alpha=alpha)\n",
    "\n",
    "cv = RepeatedStratifiedKFold(n_splits=10, n_repeats=3, random_state=1)\n",
    "\n",
    "ridge_cv = GridSearchCV(estimator=clf_ridge, param_grid=grid, n_jobs=-1, cv=cv, scoring='accuracy',error_score=0)"
   ]
  },
  {
   "cell_type": "code",
   "execution_count": 78,
   "id": "0b02a7cd",
   "metadata": {},
   "outputs": [
    {
     "data": {
      "text/plain": [
       "GridSearchCV(cv=RepeatedStratifiedKFold(n_repeats=3, n_splits=10, random_state=1),\n",
       "             error_score=0, estimator=RidgeClassifier(random_state=123),\n",
       "             n_jobs=-1,\n",
       "             param_grid={'alpha': [0.1, 0.2, 0.3, 0.4, 0.5, 0.6, 0.7, 0.8, 0.9,\n",
       "                                   1.0]},\n",
       "             scoring='accuracy')"
      ]
     },
     "execution_count": 78,
     "metadata": {},
     "output_type": "execute_result"
    }
   ],
   "source": [
    "ridge_cv.fit(X_train_clean, y_train)"
   ]
  },
  {
   "cell_type": "code",
   "execution_count": 79,
   "id": "c42fff83",
   "metadata": {},
   "outputs": [
    {
     "data": {
      "text/plain": [
       "{'alpha': 0.1}"
      ]
     },
     "execution_count": 79,
     "metadata": {},
     "output_type": "execute_result"
    }
   ],
   "source": [
    "ridge_cv.best_params_"
   ]
  },
  {
   "cell_type": "code",
   "execution_count": 80,
   "id": "462b1213",
   "metadata": {},
   "outputs": [],
   "source": [
    "# Buat model\n",
    "ridge_cv = RidgeClassifier(alpha = ridge_cv.best_params_[\"alpha\"],\n",
    "                           random_state = 123)"
   ]
  },
  {
   "cell_type": "code",
   "execution_count": 81,
   "id": "040baeda",
   "metadata": {},
   "outputs": [
    {
     "data": {
      "text/plain": [
       "RidgeClassifier(alpha=0.1, random_state=123)"
      ]
     },
     "execution_count": 81,
     "metadata": {},
     "output_type": "execute_result"
    }
   ],
   "source": [
    "# Fit model\n",
    "ridge_cv.fit(X_train_clean, y_train)"
   ]
  },
  {
   "cell_type": "code",
   "execution_count": 82,
   "id": "96d4efa2",
   "metadata": {},
   "outputs": [
    {
     "data": {
      "text/plain": [
       "0.805"
      ]
     },
     "execution_count": 82,
     "metadata": {},
     "output_type": "execute_result"
    }
   ],
   "source": [
    "# Cek Test data\n",
    "ridge_cv.score(X_train_clean, y_train)"
   ]
  },
  {
   "cell_type": "code",
   "execution_count": 83,
   "id": "f2ac6d1a",
   "metadata": {},
   "outputs": [],
   "source": [
    "predict_ridgecv = ridge_cv.predict(X_test_clean)"
   ]
  },
  {
   "cell_type": "code",
   "execution_count": 84,
   "id": "2407b6be",
   "metadata": {},
   "outputs": [
    {
     "name": "stdout",
     "output_type": "stream",
     "text": [
      "              precision    recall  f1-score   support\n",
      "\n",
      "           0       0.81      0.98      0.89      1424\n",
      "           1       0.63      0.12      0.21       376\n",
      "\n",
      "    accuracy                           0.80      1800\n",
      "   macro avg       0.72      0.55      0.55      1800\n",
      "weighted avg       0.77      0.80      0.74      1800\n",
      "\n"
     ]
    }
   ],
   "source": [
    "print(classification_report(y_test, predict_ridgecv))"
   ]
  },
  {
   "cell_type": "code",
   "execution_count": 85,
   "id": "23446aaa",
   "metadata": {},
   "outputs": [
    {
     "name": "stdout",
     "output_type": "stream",
     "text": [
      "Training Data Score: 0.805\n",
      "Validating Data Score: 0.8225\n",
      "Testing Data Score: 0.8016666666666666\n"
     ]
    }
   ],
   "source": [
    "print(f\"Training Data Score: {ridge_cv.score(X_train_clean, y_train)}\")\n",
    "print(f\"Validating Data Score: {ridge_cv.score(X_valid_clean, y_valid)}\")\n",
    "print(f\"Testing Data Score: {ridge_cv.score(X_test_clean, y_test)}\")"
   ]
  },
  {
   "cell_type": "code",
   "execution_count": 86,
   "id": "034ad890",
   "metadata": {},
   "outputs": [
    {
     "data": {
      "image/png": "[encoded data removed]",
      "text/plain": [
       "<Figure size 432x288 with 2 Axes>"
      ]
     },
     "metadata": {
      "needs_background": "light"
     },
     "output_type": "display_data"
    }
   ],
   "source": [
    "ConfusionMatrixDisplay.from_predictions(y_test, predict_ridgecv, display_labels = [False, True])\n",
    "plt.show()"
   ]
  },
  {
   "cell_type": "markdown",
   "id": "9a261060",
   "metadata": {},
   "source": [
    "## KNeighborsClassifier"
   ]
  },
  {
   "cell_type": "code",
   "execution_count": 87,
   "id": "9f0071ca",
   "metadata": {},
   "outputs": [],
   "source": [
    "# Build KNeighborsRegressor\n",
    "knn_awal = KNeighborsClassifier()"
   ]
  },
  {
   "cell_type": "code",
   "execution_count": 88,
   "id": "da0e675d",
   "metadata": {},
   "outputs": [
    {
     "data": {
      "text/plain": [
       "KNeighborsClassifier()"
      ]
     },
     "execution_count": 88,
     "metadata": {},
     "output_type": "execute_result"
    }
   ],
   "source": [
    "# fit KNeighborsRegressor\n",
    "knn_awal.fit(X_train_clean, y_train)"
   ]
  },
  {
   "cell_type": "code",
   "execution_count": 89,
   "id": "50add511",
   "metadata": {},
   "outputs": [
    {
     "data": {
      "text/plain": [
       "0.8678571428571429"
      ]
     },
     "execution_count": 89,
     "metadata": {},
     "output_type": "execute_result"
    }
   ],
   "source": [
    "knn_awal.score(X_train_clean, y_train)"
   ]
  },
  {
   "cell_type": "code",
   "execution_count": 90,
   "id": "336eada5",
   "metadata": {},
   "outputs": [],
   "source": [
    "knn_pred = knn_awal.predict(X_test_clean)"
   ]
  },
  {
   "cell_type": "code",
   "execution_count": 91,
   "id": "f80b4def",
   "metadata": {},
   "outputs": [
    {
     "name": "stdout",
     "output_type": "stream",
     "text": [
      "              precision    recall  f1-score   support\n",
      "\n",
      "           0       0.86      0.94      0.90      1424\n",
      "           1       0.64      0.40      0.49       376\n",
      "\n",
      "    accuracy                           0.83      1800\n",
      "   macro avg       0.75      0.67      0.69      1800\n",
      "weighted avg       0.81      0.83      0.81      1800\n",
      "\n"
     ]
    }
   ],
   "source": [
    "print(classification_report(y_test, knn_pred, labels=[0,1]))"
   ]
  },
  {
   "cell_type": "code",
   "execution_count": 92,
   "id": "1ff7ad8d",
   "metadata": {},
   "outputs": [
    {
     "name": "stdout",
     "output_type": "stream",
     "text": [
      "Training Data Score: 0.8678571428571429\n",
      "Validating Data Score: 0.8391666666666666\n",
      "Testing Data Score: 0.8277777777777777\n"
     ]
    }
   ],
   "source": [
    "print(f\"Training Data Score: {knn_awal.score(X_train_clean, y_train)}\")\n",
    "print(f\"Validating Data Score: {knn_awal.score(X_valid_clean, y_valid)}\")\n",
    "print(f\"Testing Data Score: {knn_awal.score(X_test_clean, y_test)}\")"
   ]
  },
  {
   "cell_type": "code",
   "execution_count": 93,
   "id": "c269e271",
   "metadata": {},
   "outputs": [
    {
     "data": {
      "image/png": "[encoded data removed]",
      "text/plain": [
       "<Figure size 432x288 with 2 Axes>"
      ]
     },
     "metadata": {
      "needs_background": "light"
     },
     "output_type": "display_data"
    }
   ],
   "source": [
    "ConfusionMatrixDisplay.from_predictions(y_test, knn_pred, display_labels = [False, True])\n",
    "plt.show()"
   ]
  },
  {
   "cell_type": "markdown",
   "id": "7aeafd64",
   "metadata": {},
   "source": [
    "## Tuning Parameter KNeighborsClassifier"
   ]
  },
  {
   "cell_type": "code",
   "execution_count": 94,
   "id": "ede28947",
   "metadata": {},
   "outputs": [],
   "source": [
    "kn_param_grid = {\n",
    "    'n_neighbors' : [1, 2, 3, 4, 5, 6, 7, 8, 9, 10, 11, 12, 13, 14, 15, 16, 17, 18, 19, 20, 21, 22, 23, 24, 25, 26, 27, 28, 29, 30],\n",
    "    'weights' : ['uniform', 'distance'],\n",
    "    'algorithm' : ['auto', 'ball_tree', 'kd_tree', 'brute']\n",
    "}"
   ]
  },
  {
   "cell_type": "code",
   "execution_count": 95,
   "id": "a2bfead1",
   "metadata": {},
   "outputs": [],
   "source": [
    "knn = KNeighborsClassifier()"
   ]
  },
  {
   "cell_type": "code",
   "execution_count": 96,
   "id": "969ebd1e",
   "metadata": {},
   "outputs": [],
   "source": [
    "kn_grid = GridSearchCV(knn, kn_param_grid, verbose=3, cv= 5, scoring='accuracy')"
   ]
  },
  {
   "cell_type": "code",
   "execution_count": 97,
   "id": "426168f3",
   "metadata": {},
   "outputs": [
    {
     "name": "stdout",
     "output_type": "stream",
     "text": [
      "Fitting 5 folds for each of 240 candidates, totalling 1200 fits\n",
      "[CV 1/5] END algorithm=auto, n_neighbors=1, weights=uniform;, score=0.770 total time=   0.1s\n",
      "[CV 2/5] END algorithm=auto, n_neighbors=1, weights=uniform;, score=0.775 total time=   0.0s\n",
      "[CV 3/5] END algorithm=auto, n_neighbors=1, weights=uniform;, score=0.805 total time=   0.0s\n",
      "[CV 4/5] END algorithm=auto, n_neighbors=1, weights=uniform;, score=0.775 total time=   0.0s\n",
      "[CV 5/5] END algorithm=auto, n_neighbors=1, weights=uniform;, score=0.796 total time=   0.0s\n",
      "[CV 1/5] END algorithm=auto, n_neighbors=1, weights=distance;, score=0.770 total time=   0.0s\n",
      "[CV 2/5] END algorithm=auto, n_neighbors=1, weights=distance;, score=0.775 total time=   0.0s\n",
      "[CV 3/5] END algorithm=auto, n_neighbors=1, weights=distance;, score=0.805 total time=   0.0s\n",
      "[CV 4/5] END algorithm=auto, n_neighbors=1, weights=distance;, score=0.775 total time=   0.0s\n",
      "[CV 5/5] END algorithm=auto, n_neighbors=1, weights=distance;, score=0.796 total time=   0.0s\n",
      "[CV 1/5] END algorithm=auto, n_neighbors=2, weights=uniform;, score=0.811 total time=   0.0s\n",
      "[CV 2/5] END algorithm=auto, n_neighbors=2, weights=uniform;, score=0.814 total time=   0.1s\n",
      "[CV 3/5] END algorithm=auto, n_neighbors=2, weights=uniform;, score=0.819 total time=   0.0s\n",
      "[CV 4/5] END algorithm=auto, n_neighbors=2, weights=uniform;, score=0.812 total time=   0.0s\n",
      "[CV 5/5] END algorithm=auto, n_neighbors=2, weights=uniform;, score=0.818 total time=   0.1s\n",
      "[CV 1/5] END algorithm=auto, n_neighbors=2, weights=distance;, score=0.770 total time=   0.0s\n",
      "[CV 2/5] END algorithm=auto, n_neighbors=2, weights=distance;, score=0.775 total time=   0.0s\n",
      "[CV 3/5] END algorithm=auto, n_neighbors=2, weights=distance;, score=0.805 total time=   0.0s\n",
      "[CV 4/5] END algorithm=auto, n_neighbors=2, weights=distance;, score=0.775 total time=   0.0s\n",
      "[CV 5/5] END algorithm=auto, n_neighbors=2, weights=distance;, score=0.796 total time=   0.0s\n",
      "[CV 1/5] END algorithm=auto, n_neighbors=3, weights=uniform;, score=0.802 total time=   0.1s\n",
      "[CV 2/5] END algorithm=auto, n_neighbors=3, weights=uniform;, score=0.806 total time=   0.1s\n",
      "[CV 3/5] END algorithm=auto, n_neighbors=3, weights=uniform;, score=0.820 total time=   0.1s\n",
      "[CV 4/5] END algorithm=auto, n_neighbors=3, weights=uniform;, score=0.814 total time=   0.1s\n",
      "[CV 5/5] END algorithm=auto, n_neighbors=3, weights=uniform;, score=0.814 total time=   0.1s\n",
      "[CV 1/5] END algorithm=auto, n_neighbors=3, weights=distance;, score=0.802 total time=   0.0s\n",
      "[CV 2/5] END algorithm=auto, n_neighbors=3, weights=distance;, score=0.804 total time=   0.0s\n",
      "[CV 3/5] END algorithm=auto, n_neighbors=3, weights=distance;, score=0.819 total time=   0.0s\n",
      "[CV 4/5] END algorithm=auto, n_neighbors=3, weights=distance;, score=0.813 total time=   0.0s\n",
      "[CV 5/5] END algorithm=auto, n_neighbors=3, weights=distance;, score=0.819 total time=   0.0s\n",
      "[CV 1/5] END algorithm=auto, n_neighbors=4, weights=uniform;, score=0.816 total time=   0.1s\n",
      "[CV 2/5] END algorithm=auto, n_neighbors=4, weights=uniform;, score=0.804 total time=   0.1s\n",
      "[CV 3/5] END algorithm=auto, n_neighbors=4, weights=uniform;, score=0.827 total time=   0.1s\n",
      "[CV 4/5] END algorithm=auto, n_neighbors=4, weights=uniform;, score=0.821 total time=   0.1s\n",
      "[CV 5/5] END algorithm=auto, n_neighbors=4, weights=uniform;, score=0.821 total time=   0.1s\n",
      "[CV 1/5] END algorithm=auto, n_neighbors=4, weights=distance;, score=0.811 total time=   0.0s\n",
      "[CV 2/5] END algorithm=auto, n_neighbors=4, weights=distance;, score=0.807 total time=   0.0s\n",
      "[CV 3/5] END algorithm=auto, n_neighbors=4, weights=distance;, score=0.819 total time=   0.0s\n",
      "[CV 4/5] END algorithm=auto, n_neighbors=4, weights=distance;, score=0.811 total time=   0.0s\n",
      "[CV 5/5] END algorithm=auto, n_neighbors=4, weights=distance;, score=0.812 total time=   0.0s\n",
      "[CV 1/5] END algorithm=auto, n_neighbors=5, weights=uniform;, score=0.812 total time=   0.1s\n",
      "[CV 2/5] END algorithm=auto, n_neighbors=5, weights=uniform;, score=0.807 total time=   0.1s\n",
      "[CV 3/5] END algorithm=auto, n_neighbors=5, weights=uniform;, score=0.827 total time=   0.1s\n",
      "[CV 4/5] END algorithm=auto, n_neighbors=5, weights=uniform;, score=0.819 total time=   0.1s\n",
      "[CV 5/5] END algorithm=auto, n_neighbors=5, weights=uniform;, score=0.821 total time=   0.1s\n",
      "[CV 1/5] END algorithm=auto, n_neighbors=5, weights=distance;, score=0.811 total time=   0.0s\n",
      "[CV 2/5] END algorithm=auto, n_neighbors=5, weights=distance;, score=0.808 total time=   0.0s\n",
      "[CV 3/5] END algorithm=auto, n_neighbors=5, weights=distance;, score=0.828 total time=   0.0s\n",
      "[CV 4/5] END algorithm=auto, n_neighbors=5, weights=distance;, score=0.821 total time=   0.0s\n",
      "[CV 5/5] END algorithm=auto, n_neighbors=5, weights=distance;, score=0.822 total time=   0.0s\n",
      "[CV 1/5] END algorithm=auto, n_neighbors=6, weights=uniform;, score=0.820 total time=   0.1s\n",
      "[CV 2/5] END algorithm=auto, n_neighbors=6, weights=uniform;, score=0.811 total time=   0.1s\n",
      "[CV 3/5] END algorithm=auto, n_neighbors=6, weights=uniform;, score=0.824 total time=   0.1s\n",
      "[CV 4/5] END algorithm=auto, n_neighbors=6, weights=uniform;, score=0.826 total time=   0.3s\n",
      "[CV 5/5] END algorithm=auto, n_neighbors=6, weights=uniform;, score=0.825 total time=   0.1s\n",
      "[CV 1/5] END algorithm=auto, n_neighbors=6, weights=distance;, score=0.816 total time=   0.1s\n",
      "[CV 2/5] END algorithm=auto, n_neighbors=6, weights=distance;, score=0.811 total time=   0.0s\n",
      "[CV 3/5] END algorithm=auto, n_neighbors=6, weights=distance;, score=0.833 total time=   0.1s\n",
      "[CV 4/5] END algorithm=auto, n_neighbors=6, weights=distance;, score=0.829 total time=   0.0s\n",
      "[CV 5/5] END algorithm=auto, n_neighbors=6, weights=distance;, score=0.826 total time=   0.1s\n",
      "[CV 1/5] END algorithm=auto, n_neighbors=7, weights=uniform;, score=0.819 total time=   0.1s\n",
      "[CV 2/5] END algorithm=auto, n_neighbors=7, weights=uniform;, score=0.816 total time=   0.1s\n",
      "[CV 3/5] END algorithm=auto, n_neighbors=7, weights=uniform;, score=0.821 total time=   0.1s\n",
      "[CV 4/5] END algorithm=auto, n_neighbors=7, weights=uniform;, score=0.826 total time=   0.1s\n",
      "[CV 5/5] END algorithm=auto, n_neighbors=7, weights=uniform;, score=0.829 total time=   0.1s\n",
      "[CV 1/5] END algorithm=auto, n_neighbors=7, weights=distance;, score=0.819 total time=   0.1s\n",
      "[CV 2/5] END algorithm=auto, n_neighbors=7, weights=distance;, score=0.816 total time=   0.1s\n",
      "[CV 3/5] END algorithm=auto, n_neighbors=7, weights=distance;, score=0.824 total time=   0.1s\n",
      "[CV 4/5] END algorithm=auto, n_neighbors=7, weights=distance;, score=0.827 total time=   0.1s\n",
      "[CV 5/5] END algorithm=auto, n_neighbors=7, weights=distance;, score=0.829 total time=   0.0s\n",
      "[CV 1/5] END algorithm=auto, n_neighbors=8, weights=uniform;, score=0.821 total time=   0.1s\n",
      "[CV 2/5] END algorithm=auto, n_neighbors=8, weights=uniform;, score=0.811 total time=   0.1s\n",
      "[CV 3/5] END algorithm=auto, n_neighbors=8, weights=uniform;, score=0.822 total time=   0.1s\n",
      "[CV 4/5] END algorithm=auto, n_neighbors=8, weights=uniform;, score=0.831 total time=   0.1s\n",
      "[CV 5/5] END algorithm=auto, n_neighbors=8, weights=uniform;, score=0.828 total time=   0.1s\n",
      "[CV 1/5] END algorithm=auto, n_neighbors=8, weights=distance;, score=0.829 total time=   0.0s\n",
      "[CV 2/5] END algorithm=auto, n_neighbors=8, weights=distance;, score=0.817 total time=   0.0s\n",
      "[CV 3/5] END algorithm=auto, n_neighbors=8, weights=distance;, score=0.831 total time=   0.1s\n",
      "[CV 4/5] END algorithm=auto, n_neighbors=8, weights=distance;, score=0.831 total time=   0.1s\n",
      "[CV 5/5] END algorithm=auto, n_neighbors=8, weights=distance;, score=0.831 total time=   0.0s\n",
      "[CV 1/5] END algorithm=auto, n_neighbors=9, weights=uniform;, score=0.829 total time=   0.1s\n",
      "[CV 2/5] END algorithm=auto, n_neighbors=9, weights=uniform;, score=0.811 total time=   0.1s\n",
      "[CV 3/5] END algorithm=auto, n_neighbors=9, weights=uniform;, score=0.830 total time=   0.1s\n",
      "[CV 4/5] END algorithm=auto, n_neighbors=9, weights=uniform;, score=0.834 total time=   0.1s\n",
      "[CV 5/5] END algorithm=auto, n_neighbors=9, weights=uniform;, score=0.831 total time=   0.1s\n",
      "[CV 1/5] END algorithm=auto, n_neighbors=9, weights=distance;, score=0.829 total time=   0.0s\n",
      "[CV 2/5] END algorithm=auto, n_neighbors=9, weights=distance;, score=0.812 total time=   0.0s\n"
     ]
    },
    {
     "name": "stdout",
     "output_type": "stream",
     "text": [
      "[CV 3/5] END algorithm=auto, n_neighbors=9, weights=distance;, score=0.833 total time=   0.0s\n",
      "[CV 4/5] END algorithm=auto, n_neighbors=9, weights=distance;, score=0.834 total time=   0.1s\n",
      "[CV 5/5] END algorithm=auto, n_neighbors=9, weights=distance;, score=0.831 total time=   0.0s\n",
      "[CV 1/5] END algorithm=auto, n_neighbors=10, weights=uniform;, score=0.819 total time=   0.2s\n",
      "[CV 2/5] END algorithm=auto, n_neighbors=10, weights=uniform;, score=0.813 total time=   0.1s\n",
      "[CV 3/5] END algorithm=auto, n_neighbors=10, weights=uniform;, score=0.825 total time=   0.1s\n",
      "[CV 4/5] END algorithm=auto, n_neighbors=10, weights=uniform;, score=0.822 total time=   0.1s\n",
      "[CV 5/5] END algorithm=auto, n_neighbors=10, weights=uniform;, score=0.831 total time=   0.1s\n",
      "[CV 1/5] END algorithm=auto, n_neighbors=10, weights=distance;, score=0.830 total time=   0.1s\n",
      "[CV 2/5] END algorithm=auto, n_neighbors=10, weights=distance;, score=0.816 total time=   0.1s\n",
      "[CV 3/5] END algorithm=auto, n_neighbors=10, weights=distance;, score=0.838 total time=   0.0s\n",
      "[CV 4/5] END algorithm=auto, n_neighbors=10, weights=distance;, score=0.829 total time=   0.0s\n",
      "[CV 5/5] END algorithm=auto, n_neighbors=10, weights=distance;, score=0.835 total time=   0.0s\n",
      "[CV 1/5] END algorithm=auto, n_neighbors=11, weights=uniform;, score=0.825 total time=   0.1s\n",
      "[CV 2/5] END algorithm=auto, n_neighbors=11, weights=uniform;, score=0.813 total time=   0.1s\n",
      "[CV 3/5] END algorithm=auto, n_neighbors=11, weights=uniform;, score=0.831 total time=   0.1s\n",
      "[CV 4/5] END algorithm=auto, n_neighbors=11, weights=uniform;, score=0.829 total time=   0.1s\n",
      "[CV 5/5] END algorithm=auto, n_neighbors=11, weights=uniform;, score=0.833 total time=   0.1s\n",
      "[CV 1/5] END algorithm=auto, n_neighbors=11, weights=distance;, score=0.827 total time=   0.0s\n",
      "[CV 2/5] END algorithm=auto, n_neighbors=11, weights=distance;, score=0.811 total time=   0.1s\n",
      "[CV 3/5] END algorithm=auto, n_neighbors=11, weights=distance;, score=0.831 total time=   0.0s\n",
      "[CV 4/5] END algorithm=auto, n_neighbors=11, weights=distance;, score=0.830 total time=   0.1s\n",
      "[CV 5/5] END algorithm=auto, n_neighbors=11, weights=distance;, score=0.831 total time=   0.0s\n",
      "[CV 1/5] END algorithm=auto, n_neighbors=12, weights=uniform;, score=0.824 total time=   0.1s\n",
      "[CV 2/5] END algorithm=auto, n_neighbors=12, weights=uniform;, score=0.811 total time=   0.1s\n",
      "[CV 3/5] END algorithm=auto, n_neighbors=12, weights=uniform;, score=0.832 total time=   0.1s\n",
      "[CV 4/5] END algorithm=auto, n_neighbors=12, weights=uniform;, score=0.824 total time=   0.1s\n",
      "[CV 5/5] END algorithm=auto, n_neighbors=12, weights=uniform;, score=0.832 total time=   0.1s\n",
      "[CV 1/5] END algorithm=auto, n_neighbors=12, weights=distance;, score=0.834 total time=   0.1s\n",
      "[CV 2/5] END algorithm=auto, n_neighbors=12, weights=distance;, score=0.814 total time=   0.0s\n",
      "[CV 3/5] END algorithm=auto, n_neighbors=12, weights=distance;, score=0.838 total time=   0.1s\n",
      "[CV 4/5] END algorithm=auto, n_neighbors=12, weights=distance;, score=0.830 total time=   0.1s\n",
      "[CV 5/5] END algorithm=auto, n_neighbors=12, weights=distance;, score=0.832 total time=   0.1s\n",
      "[CV 1/5] END algorithm=auto, n_neighbors=13, weights=uniform;, score=0.829 total time=   0.1s\n",
      "[CV 2/5] END algorithm=auto, n_neighbors=13, weights=uniform;, score=0.814 total time=   0.1s\n",
      "[CV 3/5] END algorithm=auto, n_neighbors=13, weights=uniform;, score=0.837 total time=   0.1s\n",
      "[CV 4/5] END algorithm=auto, n_neighbors=13, weights=uniform;, score=0.828 total time=   0.1s\n",
      "[CV 5/5] END algorithm=auto, n_neighbors=13, weights=uniform;, score=0.836 total time=   0.1s\n",
      "[CV 1/5] END algorithm=auto, n_neighbors=13, weights=distance;, score=0.831 total time=   0.0s\n",
      "[CV 2/5] END algorithm=auto, n_neighbors=13, weights=distance;, score=0.819 total time=   0.0s\n",
      "[CV 3/5] END algorithm=auto, n_neighbors=13, weights=distance;, score=0.835 total time=   0.0s\n",
      "[CV 4/5] END algorithm=auto, n_neighbors=13, weights=distance;, score=0.828 total time=   0.1s\n",
      "[CV 5/5] END algorithm=auto, n_neighbors=13, weights=distance;, score=0.833 total time=   0.0s\n",
      "[CV 1/5] END algorithm=auto, n_neighbors=14, weights=uniform;, score=0.825 total time=   0.1s\n",
      "[CV 2/5] END algorithm=auto, n_neighbors=14, weights=uniform;, score=0.814 total time=   0.1s\n",
      "[CV 3/5] END algorithm=auto, n_neighbors=14, weights=uniform;, score=0.829 total time=   0.2s\n",
      "[CV 4/5] END algorithm=auto, n_neighbors=14, weights=uniform;, score=0.829 total time=   0.1s\n",
      "[CV 5/5] END algorithm=auto, n_neighbors=14, weights=uniform;, score=0.836 total time=   0.2s\n",
      "[CV 1/5] END algorithm=auto, n_neighbors=14, weights=distance;, score=0.829 total time=   0.1s\n",
      "[CV 2/5] END algorithm=auto, n_neighbors=14, weights=distance;, score=0.816 total time=   0.1s\n",
      "[CV 3/5] END algorithm=auto, n_neighbors=14, weights=distance;, score=0.836 total time=   0.1s\n",
      "[CV 4/5] END algorithm=auto, n_neighbors=14, weights=distance;, score=0.829 total time=   0.1s\n",
      "[CV 5/5] END algorithm=auto, n_neighbors=14, weights=distance;, score=0.835 total time=   0.1s\n",
      "[CV 1/5] END algorithm=auto, n_neighbors=15, weights=uniform;, score=0.828 total time=   0.1s\n",
      "[CV 2/5] END algorithm=auto, n_neighbors=15, weights=uniform;, score=0.816 total time=   0.1s\n",
      "[CV 3/5] END algorithm=auto, n_neighbors=15, weights=uniform;, score=0.829 total time=   0.1s\n",
      "[CV 4/5] END algorithm=auto, n_neighbors=15, weights=uniform;, score=0.828 total time=   0.1s\n",
      "[CV 5/5] END algorithm=auto, n_neighbors=15, weights=uniform;, score=0.836 total time=   0.1s\n",
      "[CV 1/5] END algorithm=auto, n_neighbors=15, weights=distance;, score=0.834 total time=   0.1s\n",
      "[CV 2/5] END algorithm=auto, n_neighbors=15, weights=distance;, score=0.820 total time=   0.1s\n",
      "[CV 3/5] END algorithm=auto, n_neighbors=15, weights=distance;, score=0.832 total time=   0.1s\n",
      "[CV 4/5] END algorithm=auto, n_neighbors=15, weights=distance;, score=0.827 total time=   0.1s\n",
      "[CV 5/5] END algorithm=auto, n_neighbors=15, weights=distance;, score=0.834 total time=   0.1s\n",
      "[CV 1/5] END algorithm=auto, n_neighbors=16, weights=uniform;, score=0.828 total time=   0.1s\n",
      "[CV 2/5] END algorithm=auto, n_neighbors=16, weights=uniform;, score=0.814 total time=   0.1s\n",
      "[CV 3/5] END algorithm=auto, n_neighbors=16, weights=uniform;, score=0.825 total time=   0.1s\n",
      "[CV 4/5] END algorithm=auto, n_neighbors=16, weights=uniform;, score=0.829 total time=   0.1s\n",
      "[CV 5/5] END algorithm=auto, n_neighbors=16, weights=uniform;, score=0.834 total time=   0.1s\n",
      "[CV 1/5] END algorithm=auto, n_neighbors=16, weights=distance;, score=0.834 total time=   0.1s\n",
      "[CV 2/5] END algorithm=auto, n_neighbors=16, weights=distance;, score=0.817 total time=   0.1s\n",
      "[CV 3/5] END algorithm=auto, n_neighbors=16, weights=distance;, score=0.834 total time=   0.1s\n",
      "[CV 4/5] END algorithm=auto, n_neighbors=16, weights=distance;, score=0.830 total time=   0.1s\n",
      "[CV 5/5] END algorithm=auto, n_neighbors=16, weights=distance;, score=0.836 total time=   0.1s\n",
      "[CV 1/5] END algorithm=auto, n_neighbors=17, weights=uniform;, score=0.831 total time=   0.2s\n",
      "[CV 2/5] END algorithm=auto, n_neighbors=17, weights=uniform;, score=0.812 total time=   0.2s\n",
      "[CV 3/5] END algorithm=auto, n_neighbors=17, weights=uniform;, score=0.827 total time=   0.1s\n",
      "[CV 4/5] END algorithm=auto, n_neighbors=17, weights=uniform;, score=0.827 total time=   0.2s\n",
      "[CV 5/5] END algorithm=auto, n_neighbors=17, weights=uniform;, score=0.834 total time=   0.1s\n",
      "[CV 1/5] END algorithm=auto, n_neighbors=17, weights=distance;, score=0.833 total time=   0.1s\n",
      "[CV 2/5] END algorithm=auto, n_neighbors=17, weights=distance;, score=0.816 total time=   0.1s\n",
      "[CV 3/5] END algorithm=auto, n_neighbors=17, weights=distance;, score=0.830 total time=   0.1s\n",
      "[CV 4/5] END algorithm=auto, n_neighbors=17, weights=distance;, score=0.829 total time=   0.1s\n",
      "[CV 5/5] END algorithm=auto, n_neighbors=17, weights=distance;, score=0.834 total time=   0.1s\n",
      "[CV 1/5] END algorithm=auto, n_neighbors=18, weights=uniform;, score=0.826 total time=   0.1s\n",
      "[CV 2/5] END algorithm=auto, n_neighbors=18, weights=uniform;, score=0.811 total time=   0.1s\n",
      "[CV 3/5] END algorithm=auto, n_neighbors=18, weights=uniform;, score=0.824 total time=   0.1s\n",
      "[CV 4/5] END algorithm=auto, n_neighbors=18, weights=uniform;, score=0.822 total time=   0.1s\n",
      "[CV 5/5] END algorithm=auto, n_neighbors=18, weights=uniform;, score=0.829 total time=   0.1s\n"
     ]
    },
    {
     "name": "stdout",
     "output_type": "stream",
     "text": [
      "[CV 1/5] END algorithm=auto, n_neighbors=18, weights=distance;, score=0.833 total time=   0.1s\n",
      "[CV 2/5] END algorithm=auto, n_neighbors=18, weights=distance;, score=0.815 total time=   0.1s\n",
      "[CV 3/5] END algorithm=auto, n_neighbors=18, weights=distance;, score=0.834 total time=   0.1s\n",
      "[CV 4/5] END algorithm=auto, n_neighbors=18, weights=distance;, score=0.832 total time=   0.1s\n",
      "[CV 5/5] END algorithm=auto, n_neighbors=18, weights=distance;, score=0.836 total time=   0.1s\n",
      "[CV 1/5] END algorithm=auto, n_neighbors=19, weights=uniform;, score=0.829 total time=   0.1s\n",
      "[CV 2/5] END algorithm=auto, n_neighbors=19, weights=uniform;, score=0.811 total time=   0.1s\n",
      "[CV 3/5] END algorithm=auto, n_neighbors=19, weights=uniform;, score=0.828 total time=   0.1s\n",
      "[CV 4/5] END algorithm=auto, n_neighbors=19, weights=uniform;, score=0.824 total time=   0.1s\n",
      "[CV 5/5] END algorithm=auto, n_neighbors=19, weights=uniform;, score=0.834 total time=   0.1s\n",
      "[CV 1/5] END algorithm=auto, n_neighbors=19, weights=distance;, score=0.830 total time=   0.1s\n",
      "[CV 2/5] END algorithm=auto, n_neighbors=19, weights=distance;, score=0.817 total time=   0.1s\n",
      "[CV 3/5] END algorithm=auto, n_neighbors=19, weights=distance;, score=0.832 total time=   0.1s\n",
      "[CV 4/5] END algorithm=auto, n_neighbors=19, weights=distance;, score=0.826 total time=   0.1s\n",
      "[CV 5/5] END algorithm=auto, n_neighbors=19, weights=distance;, score=0.836 total time=   0.1s\n",
      "[CV 1/5] END algorithm=auto, n_neighbors=20, weights=uniform;, score=0.826 total time=   0.1s\n",
      "[CV 2/5] END algorithm=auto, n_neighbors=20, weights=uniform;, score=0.810 total time=   0.1s\n",
      "[CV 3/5] END algorithm=auto, n_neighbors=20, weights=uniform;, score=0.826 total time=   0.2s\n",
      "[CV 4/5] END algorithm=auto, n_neighbors=20, weights=uniform;, score=0.825 total time=   0.2s\n",
      "[CV 5/5] END algorithm=auto, n_neighbors=20, weights=uniform;, score=0.829 total time=   0.1s\n",
      "[CV 1/5] END algorithm=auto, n_neighbors=20, weights=distance;, score=0.831 total time=   0.1s\n",
      "[CV 2/5] END algorithm=auto, n_neighbors=20, weights=distance;, score=0.814 total time=   0.1s\n",
      "[CV 3/5] END algorithm=auto, n_neighbors=20, weights=distance;, score=0.829 total time=   0.1s\n",
      "[CV 4/5] END algorithm=auto, n_neighbors=20, weights=distance;, score=0.829 total time=   0.1s\n",
      "[CV 5/5] END algorithm=auto, n_neighbors=20, weights=distance;, score=0.837 total time=   0.1s\n",
      "[CV 1/5] END algorithm=auto, n_neighbors=21, weights=uniform;, score=0.826 total time=   0.1s\n",
      "[CV 2/5] END algorithm=auto, n_neighbors=21, weights=uniform;, score=0.810 total time=   0.2s\n",
      "[CV 3/5] END algorithm=auto, n_neighbors=21, weights=uniform;, score=0.830 total time=   0.1s\n",
      "[CV 4/5] END algorithm=auto, n_neighbors=21, weights=uniform;, score=0.829 total time=   0.2s\n",
      "[CV 5/5] END algorithm=auto, n_neighbors=21, weights=uniform;, score=0.836 total time=   0.1s\n",
      "[CV 1/5] END algorithm=auto, n_neighbors=21, weights=distance;, score=0.829 total time=   0.1s\n",
      "[CV 2/5] END algorithm=auto, n_neighbors=21, weights=distance;, score=0.815 total time=   0.1s\n",
      "[CV 3/5] END algorithm=auto, n_neighbors=21, weights=distance;, score=0.834 total time=   0.1s\n",
      "[CV 4/5] END algorithm=auto, n_neighbors=21, weights=distance;, score=0.831 total time=   0.1s\n",
      "[CV 5/5] END algorithm=auto, n_neighbors=21, weights=distance;, score=0.838 total time=   0.1s\n",
      "[CV 1/5] END algorithm=auto, n_neighbors=22, weights=uniform;, score=0.826 total time=   0.1s\n",
      "[CV 2/5] END algorithm=auto, n_neighbors=22, weights=uniform;, score=0.806 total time=   0.1s\n",
      "[CV 3/5] END algorithm=auto, n_neighbors=22, weights=uniform;, score=0.829 total time=   0.1s\n",
      "[CV 4/5] END algorithm=auto, n_neighbors=22, weights=uniform;, score=0.829 total time=   0.1s\n",
      "[CV 5/5] END algorithm=auto, n_neighbors=22, weights=uniform;, score=0.831 total time=   0.1s\n",
      "[CV 1/5] END algorithm=auto, n_neighbors=22, weights=distance;, score=0.829 total time=   0.1s\n",
      "[CV 2/5] END algorithm=auto, n_neighbors=22, weights=distance;, score=0.816 total time=   0.1s\n",
      "[CV 3/5] END algorithm=auto, n_neighbors=22, weights=distance;, score=0.834 total time=   0.1s\n",
      "[CV 4/5] END algorithm=auto, n_neighbors=22, weights=distance;, score=0.830 total time=   0.1s\n",
      "[CV 5/5] END algorithm=auto, n_neighbors=22, weights=distance;, score=0.836 total time=   0.1s\n",
      "[CV 1/5] END algorithm=auto, n_neighbors=23, weights=uniform;, score=0.825 total time=   0.1s\n",
      "[CV 2/5] END algorithm=auto, n_neighbors=23, weights=uniform;, score=0.809 total time=   0.1s\n",
      "[CV 3/5] END algorithm=auto, n_neighbors=23, weights=uniform;, score=0.831 total time=   0.1s\n",
      "[CV 4/5] END algorithm=auto, n_neighbors=23, weights=uniform;, score=0.827 total time=   0.1s\n",
      "[CV 5/5] END algorithm=auto, n_neighbors=23, weights=uniform;, score=0.831 total time=   0.1s\n",
      "[CV 1/5] END algorithm=auto, n_neighbors=23, weights=distance;, score=0.827 total time=   0.1s\n",
      "[CV 2/5] END algorithm=auto, n_neighbors=23, weights=distance;, score=0.814 total time=   0.1s\n",
      "[CV 3/5] END algorithm=auto, n_neighbors=23, weights=distance;, score=0.834 total time=   0.1s\n",
      "[CV 4/5] END algorithm=auto, n_neighbors=23, weights=distance;, score=0.829 total time=   0.2s\n",
      "[CV 5/5] END algorithm=auto, n_neighbors=23, weights=distance;, score=0.835 total time=   0.1s\n",
      "[CV 1/5] END algorithm=auto, n_neighbors=24, weights=uniform;, score=0.822 total time=   0.1s\n",
      "[CV 2/5] END algorithm=auto, n_neighbors=24, weights=uniform;, score=0.808 total time=   0.1s\n",
      "[CV 3/5] END algorithm=auto, n_neighbors=24, weights=uniform;, score=0.826 total time=   0.1s\n",
      "[CV 4/5] END algorithm=auto, n_neighbors=24, weights=uniform;, score=0.826 total time=   0.2s\n",
      "[CV 5/5] END algorithm=auto, n_neighbors=24, weights=uniform;, score=0.831 total time=   0.1s\n",
      "[CV 1/5] END algorithm=auto, n_neighbors=24, weights=distance;, score=0.826 total time=   0.1s\n",
      "[CV 2/5] END algorithm=auto, n_neighbors=24, weights=distance;, score=0.814 total time=   0.1s\n",
      "[CV 3/5] END algorithm=auto, n_neighbors=24, weights=distance;, score=0.831 total time=   0.1s\n",
      "[CV 4/5] END algorithm=auto, n_neighbors=24, weights=distance;, score=0.829 total time=   0.1s\n",
      "[CV 5/5] END algorithm=auto, n_neighbors=24, weights=distance;, score=0.836 total time=   0.1s\n",
      "[CV 1/5] END algorithm=auto, n_neighbors=25, weights=uniform;, score=0.823 total time=   0.1s\n",
      "[CV 2/5] END algorithm=auto, n_neighbors=25, weights=uniform;, score=0.809 total time=   0.1s\n",
      "[CV 3/5] END algorithm=auto, n_neighbors=25, weights=uniform;, score=0.829 total time=   0.2s\n",
      "[CV 4/5] END algorithm=auto, n_neighbors=25, weights=uniform;, score=0.822 total time=   0.1s\n",
      "[CV 5/5] END algorithm=auto, n_neighbors=25, weights=uniform;, score=0.830 total time=   0.1s\n",
      "[CV 1/5] END algorithm=auto, n_neighbors=25, weights=distance;, score=0.826 total time=   0.1s\n",
      "[CV 2/5] END algorithm=auto, n_neighbors=25, weights=distance;, score=0.813 total time=   0.1s\n",
      "[CV 3/5] END algorithm=auto, n_neighbors=25, weights=distance;, score=0.832 total time=   0.1s\n",
      "[CV 4/5] END algorithm=auto, n_neighbors=25, weights=distance;, score=0.823 total time=   0.1s\n",
      "[CV 5/5] END algorithm=auto, n_neighbors=25, weights=distance;, score=0.832 total time=   0.1s\n",
      "[CV 1/5] END algorithm=auto, n_neighbors=26, weights=uniform;, score=0.822 total time=   0.1s\n",
      "[CV 2/5] END algorithm=auto, n_neighbors=26, weights=uniform;, score=0.809 total time=   0.1s\n",
      "[CV 3/5] END algorithm=auto, n_neighbors=26, weights=uniform;, score=0.826 total time=   0.1s\n",
      "[CV 4/5] END algorithm=auto, n_neighbors=26, weights=uniform;, score=0.822 total time=   0.1s\n",
      "[CV 5/5] END algorithm=auto, n_neighbors=26, weights=uniform;, score=0.829 total time=   0.1s\n",
      "[CV 1/5] END algorithm=auto, n_neighbors=26, weights=distance;, score=0.824 total time=   0.1s\n",
      "[CV 2/5] END algorithm=auto, n_neighbors=26, weights=distance;, score=0.810 total time=   0.1s\n",
      "[CV 3/5] END algorithm=auto, n_neighbors=26, weights=distance;, score=0.834 total time=   0.1s\n",
      "[CV 4/5] END algorithm=auto, n_neighbors=26, weights=distance;, score=0.823 total time=   0.1s\n",
      "[CV 5/5] END algorithm=auto, n_neighbors=26, weights=distance;, score=0.832 total time=   0.1s\n",
      "[CV 1/5] END algorithm=auto, n_neighbors=27, weights=uniform;, score=0.822 total time=   0.1s\n",
      "[CV 2/5] END algorithm=auto, n_neighbors=27, weights=uniform;, score=0.809 total time=   0.1s\n"
     ]
    },
    {
     "name": "stdout",
     "output_type": "stream",
     "text": [
      "[CV 3/5] END algorithm=auto, n_neighbors=27, weights=uniform;, score=0.827 total time=   0.1s\n",
      "[CV 4/5] END algorithm=auto, n_neighbors=27, weights=uniform;, score=0.821 total time=   0.1s\n",
      "[CV 5/5] END algorithm=auto, n_neighbors=27, weights=uniform;, score=0.831 total time=   0.1s\n",
      "[CV 1/5] END algorithm=auto, n_neighbors=27, weights=distance;, score=0.824 total time=   0.1s\n",
      "[CV 2/5] END algorithm=auto, n_neighbors=27, weights=distance;, score=0.812 total time=   0.1s\n",
      "[CV 3/5] END algorithm=auto, n_neighbors=27, weights=distance;, score=0.830 total time=   0.1s\n",
      "[CV 4/5] END algorithm=auto, n_neighbors=27, weights=distance;, score=0.821 total time=   0.1s\n",
      "[CV 5/5] END algorithm=auto, n_neighbors=27, weights=distance;, score=0.831 total time=   0.1s\n",
      "[CV 1/5] END algorithm=auto, n_neighbors=28, weights=uniform;, score=0.819 total time=   0.1s\n",
      "[CV 2/5] END algorithm=auto, n_neighbors=28, weights=uniform;, score=0.810 total time=   0.1s\n",
      "[CV 3/5] END algorithm=auto, n_neighbors=28, weights=uniform;, score=0.825 total time=   0.1s\n",
      "[CV 4/5] END algorithm=auto, n_neighbors=28, weights=uniform;, score=0.823 total time=   0.1s\n",
      "[CV 5/5] END algorithm=auto, n_neighbors=28, weights=uniform;, score=0.831 total time=   0.1s\n",
      "[CV 1/5] END algorithm=auto, n_neighbors=28, weights=distance;, score=0.825 total time=   0.1s\n",
      "[CV 2/5] END algorithm=auto, n_neighbors=28, weights=distance;, score=0.811 total time=   0.1s\n",
      "[CV 3/5] END algorithm=auto, n_neighbors=28, weights=distance;, score=0.830 total time=   0.1s\n",
      "[CV 4/5] END algorithm=auto, n_neighbors=28, weights=distance;, score=0.823 total time=   0.1s\n",
      "[CV 5/5] END algorithm=auto, n_neighbors=28, weights=distance;, score=0.831 total time=   0.1s\n",
      "[CV 1/5] END algorithm=auto, n_neighbors=29, weights=uniform;, score=0.824 total time=   0.2s\n",
      "[CV 2/5] END algorithm=auto, n_neighbors=29, weights=uniform;, score=0.809 total time=   0.1s\n",
      "[CV 3/5] END algorithm=auto, n_neighbors=29, weights=uniform;, score=0.831 total time=   0.1s\n",
      "[CV 4/5] END algorithm=auto, n_neighbors=29, weights=uniform;, score=0.821 total time=   0.2s\n",
      "[CV 5/5] END algorithm=auto, n_neighbors=29, weights=uniform;, score=0.826 total time=   0.1s\n",
      "[CV 1/5] END algorithm=auto, n_neighbors=29, weights=distance;, score=0.824 total time=   0.1s\n",
      "[CV 2/5] END algorithm=auto, n_neighbors=29, weights=distance;, score=0.810 total time=   0.1s\n",
      "[CV 3/5] END algorithm=auto, n_neighbors=29, weights=distance;, score=0.831 total time=   0.1s\n",
      "[CV 4/5] END algorithm=auto, n_neighbors=29, weights=distance;, score=0.824 total time=   0.1s\n",
      "[CV 5/5] END algorithm=auto, n_neighbors=29, weights=distance;, score=0.829 total time=   0.1s\n",
      "[CV 1/5] END algorithm=auto, n_neighbors=30, weights=uniform;, score=0.821 total time=   0.1s\n",
      "[CV 2/5] END algorithm=auto, n_neighbors=30, weights=uniform;, score=0.808 total time=   0.1s\n",
      "[CV 3/5] END algorithm=auto, n_neighbors=30, weights=uniform;, score=0.825 total time=   0.2s\n",
      "[CV 4/5] END algorithm=auto, n_neighbors=30, weights=uniform;, score=0.822 total time=   0.1s\n",
      "[CV 5/5] END algorithm=auto, n_neighbors=30, weights=uniform;, score=0.829 total time=   0.1s\n",
      "[CV 1/5] END algorithm=auto, n_neighbors=30, weights=distance;, score=0.826 total time=   0.1s\n",
      "[CV 2/5] END algorithm=auto, n_neighbors=30, weights=distance;, score=0.811 total time=   0.1s\n",
      "[CV 3/5] END algorithm=auto, n_neighbors=30, weights=distance;, score=0.829 total time=   0.1s\n",
      "[CV 4/5] END algorithm=auto, n_neighbors=30, weights=distance;, score=0.822 total time=   0.1s\n",
      "[CV 5/5] END algorithm=auto, n_neighbors=30, weights=distance;, score=0.831 total time=   0.1s\n",
      "[CV 1/5] END algorithm=ball_tree, n_neighbors=1, weights=uniform;, score=0.770 total time=   0.2s\n",
      "[CV 2/5] END algorithm=ball_tree, n_neighbors=1, weights=uniform;, score=0.775 total time=   0.1s\n",
      "[CV 3/5] END algorithm=ball_tree, n_neighbors=1, weights=uniform;, score=0.805 total time=   0.1s\n",
      "[CV 4/5] END algorithm=ball_tree, n_neighbors=1, weights=uniform;, score=0.775 total time=   0.1s\n",
      "[CV 5/5] END algorithm=ball_tree, n_neighbors=1, weights=uniform;, score=0.796 total time=   0.1s\n",
      "[CV 1/5] END algorithm=ball_tree, n_neighbors=1, weights=distance;, score=0.770 total time=   0.1s\n",
      "[CV 2/5] END algorithm=ball_tree, n_neighbors=1, weights=distance;, score=0.775 total time=   0.1s\n",
      "[CV 3/5] END algorithm=ball_tree, n_neighbors=1, weights=distance;, score=0.805 total time=   0.1s\n",
      "[CV 4/5] END algorithm=ball_tree, n_neighbors=1, weights=distance;, score=0.775 total time=   0.1s\n",
      "[CV 5/5] END algorithm=ball_tree, n_neighbors=1, weights=distance;, score=0.796 total time=   0.0s\n",
      "[CV 1/5] END algorithm=ball_tree, n_neighbors=2, weights=uniform;, score=0.811 total time=   0.1s\n",
      "[CV 2/5] END algorithm=ball_tree, n_neighbors=2, weights=uniform;, score=0.814 total time=   0.1s\n",
      "[CV 3/5] END algorithm=ball_tree, n_neighbors=2, weights=uniform;, score=0.819 total time=   0.2s\n",
      "[CV 4/5] END algorithm=ball_tree, n_neighbors=2, weights=uniform;, score=0.812 total time=   0.1s\n",
      "[CV 5/5] END algorithm=ball_tree, n_neighbors=2, weights=uniform;, score=0.818 total time=   0.1s\n",
      "[CV 1/5] END algorithm=ball_tree, n_neighbors=2, weights=distance;, score=0.770 total time=   0.1s\n",
      "[CV 2/5] END algorithm=ball_tree, n_neighbors=2, weights=distance;, score=0.775 total time=   0.1s\n",
      "[CV 3/5] END algorithm=ball_tree, n_neighbors=2, weights=distance;, score=0.805 total time=   0.1s\n",
      "[CV 4/5] END algorithm=ball_tree, n_neighbors=2, weights=distance;, score=0.775 total time=   0.1s\n",
      "[CV 5/5] END algorithm=ball_tree, n_neighbors=2, weights=distance;, score=0.796 total time=   0.1s\n",
      "[CV 1/5] END algorithm=ball_tree, n_neighbors=3, weights=uniform;, score=0.802 total time=   0.1s\n",
      "[CV 2/5] END algorithm=ball_tree, n_neighbors=3, weights=uniform;, score=0.806 total time=   0.1s\n",
      "[CV 3/5] END algorithm=ball_tree, n_neighbors=3, weights=uniform;, score=0.820 total time=   0.1s\n",
      "[CV 4/5] END algorithm=ball_tree, n_neighbors=3, weights=uniform;, score=0.814 total time=   0.1s\n",
      "[CV 5/5] END algorithm=ball_tree, n_neighbors=3, weights=uniform;, score=0.814 total time=   0.1s\n",
      "[CV 1/5] END algorithm=ball_tree, n_neighbors=3, weights=distance;, score=0.802 total time=   0.1s\n",
      "[CV 2/5] END algorithm=ball_tree, n_neighbors=3, weights=distance;, score=0.804 total time=   0.1s\n",
      "[CV 3/5] END algorithm=ball_tree, n_neighbors=3, weights=distance;, score=0.819 total time=   0.1s\n",
      "[CV 4/5] END algorithm=ball_tree, n_neighbors=3, weights=distance;, score=0.813 total time=   0.1s\n",
      "[CV 5/5] END algorithm=ball_tree, n_neighbors=3, weights=distance;, score=0.819 total time=   0.1s\n",
      "[CV 1/5] END algorithm=ball_tree, n_neighbors=4, weights=uniform;, score=0.816 total time=   0.1s\n",
      "[CV 2/5] END algorithm=ball_tree, n_neighbors=4, weights=uniform;, score=0.804 total time=   0.1s\n",
      "[CV 3/5] END algorithm=ball_tree, n_neighbors=4, weights=uniform;, score=0.827 total time=   0.2s\n",
      "[CV 4/5] END algorithm=ball_tree, n_neighbors=4, weights=uniform;, score=0.821 total time=   0.1s\n",
      "[CV 5/5] END algorithm=ball_tree, n_neighbors=4, weights=uniform;, score=0.821 total time=   0.1s\n",
      "[CV 1/5] END algorithm=ball_tree, n_neighbors=4, weights=distance;, score=0.811 total time=   0.1s\n",
      "[CV 2/5] END algorithm=ball_tree, n_neighbors=4, weights=distance;, score=0.807 total time=   0.1s\n",
      "[CV 3/5] END algorithm=ball_tree, n_neighbors=4, weights=distance;, score=0.819 total time=   0.1s\n",
      "[CV 4/5] END algorithm=ball_tree, n_neighbors=4, weights=distance;, score=0.811 total time=   0.2s\n",
      "[CV 5/5] END algorithm=ball_tree, n_neighbors=4, weights=distance;, score=0.812 total time=   0.1s\n",
      "[CV 1/5] END algorithm=ball_tree, n_neighbors=5, weights=uniform;, score=0.812 total time=   0.1s\n",
      "[CV 2/5] END algorithm=ball_tree, n_neighbors=5, weights=uniform;, score=0.807 total time=   0.1s\n",
      "[CV 3/5] END algorithm=ball_tree, n_neighbors=5, weights=uniform;, score=0.827 total time=   0.1s\n",
      "[CV 4/5] END algorithm=ball_tree, n_neighbors=5, weights=uniform;, score=0.819 total time=   0.2s\n",
      "[CV 5/5] END algorithm=ball_tree, n_neighbors=5, weights=uniform;, score=0.821 total time=   0.2s\n",
      "[CV 1/5] END algorithm=ball_tree, n_neighbors=5, weights=distance;, score=0.811 total time=   0.1s\n",
      "[CV 2/5] END algorithm=ball_tree, n_neighbors=5, weights=distance;, score=0.808 total time=   0.1s\n"
     ]
    },
    {
     "name": "stdout",
     "output_type": "stream",
     "text": [
      "[CV 3/5] END algorithm=ball_tree, n_neighbors=5, weights=distance;, score=0.828 total time=   0.2s\n",
      "[CV 4/5] END algorithm=ball_tree, n_neighbors=5, weights=distance;, score=0.821 total time=   0.1s\n",
      "[CV 5/5] END algorithm=ball_tree, n_neighbors=5, weights=distance;, score=0.822 total time=   0.2s\n",
      "[CV 1/5] END algorithm=ball_tree, n_neighbors=6, weights=uniform;, score=0.820 total time=   0.1s\n",
      "[CV 2/5] END algorithm=ball_tree, n_neighbors=6, weights=uniform;, score=0.811 total time=   0.1s\n",
      "[CV 3/5] END algorithm=ball_tree, n_neighbors=6, weights=uniform;, score=0.824 total time=   0.1s\n",
      "[CV 4/5] END algorithm=ball_tree, n_neighbors=6, weights=uniform;, score=0.826 total time=   0.2s\n",
      "[CV 5/5] END algorithm=ball_tree, n_neighbors=6, weights=uniform;, score=0.825 total time=   0.2s\n",
      "[CV 1/5] END algorithm=ball_tree, n_neighbors=6, weights=distance;, score=0.816 total time=   0.1s\n",
      "[CV 2/5] END algorithm=ball_tree, n_neighbors=6, weights=distance;, score=0.811 total time=   0.1s\n",
      "[CV 3/5] END algorithm=ball_tree, n_neighbors=6, weights=distance;, score=0.833 total time=   0.1s\n",
      "[CV 4/5] END algorithm=ball_tree, n_neighbors=6, weights=distance;, score=0.829 total time=   0.1s\n",
      "[CV 5/5] END algorithm=ball_tree, n_neighbors=6, weights=distance;, score=0.826 total time=   0.1s\n",
      "[CV 1/5] END algorithm=ball_tree, n_neighbors=7, weights=uniform;, score=0.819 total time=   0.1s\n",
      "[CV 2/5] END algorithm=ball_tree, n_neighbors=7, weights=uniform;, score=0.816 total time=   0.1s\n",
      "[CV 3/5] END algorithm=ball_tree, n_neighbors=7, weights=uniform;, score=0.821 total time=   0.1s\n",
      "[CV 4/5] END algorithm=ball_tree, n_neighbors=7, weights=uniform;, score=0.826 total time=   0.1s\n",
      "[CV 5/5] END algorithm=ball_tree, n_neighbors=7, weights=uniform;, score=0.829 total time=   0.1s\n",
      "[CV 1/5] END algorithm=ball_tree, n_neighbors=7, weights=distance;, score=0.819 total time=   0.1s\n",
      "[CV 2/5] END algorithm=ball_tree, n_neighbors=7, weights=distance;, score=0.816 total time=   0.1s\n",
      "[CV 3/5] END algorithm=ball_tree, n_neighbors=7, weights=distance;, score=0.824 total time=   0.1s\n",
      "[CV 4/5] END algorithm=ball_tree, n_neighbors=7, weights=distance;, score=0.827 total time=   0.1s\n",
      "[CV 5/5] END algorithm=ball_tree, n_neighbors=7, weights=distance;, score=0.829 total time=   0.1s\n",
      "[CV 1/5] END algorithm=ball_tree, n_neighbors=8, weights=uniform;, score=0.821 total time=   0.1s\n",
      "[CV 2/5] END algorithm=ball_tree, n_neighbors=8, weights=uniform;, score=0.811 total time=   0.1s\n",
      "[CV 3/5] END algorithm=ball_tree, n_neighbors=8, weights=uniform;, score=0.822 total time=   0.1s\n",
      "[CV 4/5] END algorithm=ball_tree, n_neighbors=8, weights=uniform;, score=0.831 total time=   0.1s\n",
      "[CV 5/5] END algorithm=ball_tree, n_neighbors=8, weights=uniform;, score=0.828 total time=   0.1s\n",
      "[CV 1/5] END algorithm=ball_tree, n_neighbors=8, weights=distance;, score=0.829 total time=   0.1s\n",
      "[CV 2/5] END algorithm=ball_tree, n_neighbors=8, weights=distance;, score=0.817 total time=   0.1s\n",
      "[CV 3/5] END algorithm=ball_tree, n_neighbors=8, weights=distance;, score=0.831 total time=   0.1s\n",
      "[CV 4/5] END algorithm=ball_tree, n_neighbors=8, weights=distance;, score=0.831 total time=   0.1s\n",
      "[CV 5/5] END algorithm=ball_tree, n_neighbors=8, weights=distance;, score=0.831 total time=   0.1s\n",
      "[CV 1/5] END algorithm=ball_tree, n_neighbors=9, weights=uniform;, score=0.829 total time=   0.1s\n",
      "[CV 2/5] END algorithm=ball_tree, n_neighbors=9, weights=uniform;, score=0.811 total time=   0.1s\n",
      "[CV 3/5] END algorithm=ball_tree, n_neighbors=9, weights=uniform;, score=0.830 total time=   0.1s\n",
      "[CV 4/5] END algorithm=ball_tree, n_neighbors=9, weights=uniform;, score=0.834 total time=   0.1s\n",
      "[CV 5/5] END algorithm=ball_tree, n_neighbors=9, weights=uniform;, score=0.831 total time=   0.1s\n",
      "[CV 1/5] END algorithm=ball_tree, n_neighbors=9, weights=distance;, score=0.829 total time=   0.1s\n",
      "[CV 2/5] END algorithm=ball_tree, n_neighbors=9, weights=distance;, score=0.812 total time=   0.1s\n",
      "[CV 3/5] END algorithm=ball_tree, n_neighbors=9, weights=distance;, score=0.833 total time=   0.1s\n",
      "[CV 4/5] END algorithm=ball_tree, n_neighbors=9, weights=distance;, score=0.834 total time=   0.1s\n",
      "[CV 5/5] END algorithm=ball_tree, n_neighbors=9, weights=distance;, score=0.831 total time=   0.1s\n",
      "[CV 1/5] END algorithm=ball_tree, n_neighbors=10, weights=uniform;, score=0.819 total time=   0.1s\n",
      "[CV 2/5] END algorithm=ball_tree, n_neighbors=10, weights=uniform;, score=0.813 total time=   0.1s\n",
      "[CV 3/5] END algorithm=ball_tree, n_neighbors=10, weights=uniform;, score=0.825 total time=   0.1s\n",
      "[CV 4/5] END algorithm=ball_tree, n_neighbors=10, weights=uniform;, score=0.822 total time=   0.1s\n",
      "[CV 5/5] END algorithm=ball_tree, n_neighbors=10, weights=uniform;, score=0.831 total time=   0.1s\n",
      "[CV 1/5] END algorithm=ball_tree, n_neighbors=10, weights=distance;, score=0.830 total time=   0.1s\n",
      "[CV 2/5] END algorithm=ball_tree, n_neighbors=10, weights=distance;, score=0.816 total time=   0.1s\n",
      "[CV 3/5] END algorithm=ball_tree, n_neighbors=10, weights=distance;, score=0.838 total time=   0.1s\n",
      "[CV 4/5] END algorithm=ball_tree, n_neighbors=10, weights=distance;, score=0.829 total time=   0.1s\n",
      "[CV 5/5] END algorithm=ball_tree, n_neighbors=10, weights=distance;, score=0.835 total time=   0.1s\n",
      "[CV 1/5] END algorithm=ball_tree, n_neighbors=11, weights=uniform;, score=0.825 total time=   0.1s\n",
      "[CV 2/5] END algorithm=ball_tree, n_neighbors=11, weights=uniform;, score=0.813 total time=   0.1s\n",
      "[CV 3/5] END algorithm=ball_tree, n_neighbors=11, weights=uniform;, score=0.831 total time=   0.2s\n",
      "[CV 4/5] END algorithm=ball_tree, n_neighbors=11, weights=uniform;, score=0.829 total time=   0.2s\n",
      "[CV 5/5] END algorithm=ball_tree, n_neighbors=11, weights=uniform;, score=0.833 total time=   0.2s\n",
      "[CV 1/5] END algorithm=ball_tree, n_neighbors=11, weights=distance;, score=0.827 total time=   0.1s\n",
      "[CV 2/5] END algorithm=ball_tree, n_neighbors=11, weights=distance;, score=0.811 total time=   0.1s\n",
      "[CV 3/5] END algorithm=ball_tree, n_neighbors=11, weights=distance;, score=0.831 total time=   0.1s\n",
      "[CV 4/5] END algorithm=ball_tree, n_neighbors=11, weights=distance;, score=0.830 total time=   0.1s\n",
      "[CV 5/5] END algorithm=ball_tree, n_neighbors=11, weights=distance;, score=0.831 total time=   0.1s\n",
      "[CV 1/5] END algorithm=ball_tree, n_neighbors=12, weights=uniform;, score=0.824 total time=   0.1s\n",
      "[CV 2/5] END algorithm=ball_tree, n_neighbors=12, weights=uniform;, score=0.811 total time=   0.1s\n",
      "[CV 3/5] END algorithm=ball_tree, n_neighbors=12, weights=uniform;, score=0.832 total time=   0.1s\n",
      "[CV 4/5] END algorithm=ball_tree, n_neighbors=12, weights=uniform;, score=0.824 total time=   0.1s\n",
      "[CV 5/5] END algorithm=ball_tree, n_neighbors=12, weights=uniform;, score=0.832 total time=   0.1s\n",
      "[CV 1/5] END algorithm=ball_tree, n_neighbors=12, weights=distance;, score=0.834 total time=   0.1s\n",
      "[CV 2/5] END algorithm=ball_tree, n_neighbors=12, weights=distance;, score=0.814 total time=   0.1s\n",
      "[CV 3/5] END algorithm=ball_tree, n_neighbors=12, weights=distance;, score=0.838 total time=   0.1s\n",
      "[CV 4/5] END algorithm=ball_tree, n_neighbors=12, weights=distance;, score=0.830 total time=   0.1s\n",
      "[CV 5/5] END algorithm=ball_tree, n_neighbors=12, weights=distance;, score=0.832 total time=   0.1s\n",
      "[CV 1/5] END algorithm=ball_tree, n_neighbors=13, weights=uniform;, score=0.829 total time=   0.1s\n",
      "[CV 2/5] END algorithm=ball_tree, n_neighbors=13, weights=uniform;, score=0.814 total time=   0.2s\n",
      "[CV 3/5] END algorithm=ball_tree, n_neighbors=13, weights=uniform;, score=0.837 total time=   0.1s\n",
      "[CV 4/5] END algorithm=ball_tree, n_neighbors=13, weights=uniform;, score=0.828 total time=   0.1s\n",
      "[CV 5/5] END algorithm=ball_tree, n_neighbors=13, weights=uniform;, score=0.836 total time=   0.1s\n",
      "[CV 1/5] END algorithm=ball_tree, n_neighbors=13, weights=distance;, score=0.831 total time=   0.1s\n",
      "[CV 2/5] END algorithm=ball_tree, n_neighbors=13, weights=distance;, score=0.819 total time=   0.1s\n",
      "[CV 3/5] END algorithm=ball_tree, n_neighbors=13, weights=distance;, score=0.835 total time=   0.1s\n",
      "[CV 4/5] END algorithm=ball_tree, n_neighbors=13, weights=distance;, score=0.828 total time=   0.1s\n",
      "[CV 5/5] END algorithm=ball_tree, n_neighbors=13, weights=distance;, score=0.833 total time=   0.1s\n"
     ]
    },
    {
     "name": "stdout",
     "output_type": "stream",
     "text": [
      "[CV 1/5] END algorithm=ball_tree, n_neighbors=14, weights=uniform;, score=0.825 total time=   0.1s\n",
      "[CV 2/5] END algorithm=ball_tree, n_neighbors=14, weights=uniform;, score=0.814 total time=   0.1s\n",
      "[CV 3/5] END algorithm=ball_tree, n_neighbors=14, weights=uniform;, score=0.829 total time=   0.1s\n",
      "[CV 4/5] END algorithm=ball_tree, n_neighbors=14, weights=uniform;, score=0.829 total time=   0.1s\n",
      "[CV 5/5] END algorithm=ball_tree, n_neighbors=14, weights=uniform;, score=0.836 total time=   0.1s\n",
      "[CV 1/5] END algorithm=ball_tree, n_neighbors=14, weights=distance;, score=0.829 total time=   0.1s\n",
      "[CV 2/5] END algorithm=ball_tree, n_neighbors=14, weights=distance;, score=0.816 total time=   0.1s\n",
      "[CV 3/5] END algorithm=ball_tree, n_neighbors=14, weights=distance;, score=0.836 total time=   0.1s\n",
      "[CV 4/5] END algorithm=ball_tree, n_neighbors=14, weights=distance;, score=0.829 total time=   0.1s\n",
      "[CV 5/5] END algorithm=ball_tree, n_neighbors=14, weights=distance;, score=0.835 total time=   0.1s\n",
      "[CV 1/5] END algorithm=ball_tree, n_neighbors=15, weights=uniform;, score=0.828 total time=   0.1s\n",
      "[CV 2/5] END algorithm=ball_tree, n_neighbors=15, weights=uniform;, score=0.816 total time=   0.1s\n",
      "[CV 3/5] END algorithm=ball_tree, n_neighbors=15, weights=uniform;, score=0.829 total time=   0.1s\n",
      "[CV 4/5] END algorithm=ball_tree, n_neighbors=15, weights=uniform;, score=0.828 total time=   0.1s\n",
      "[CV 5/5] END algorithm=ball_tree, n_neighbors=15, weights=uniform;, score=0.836 total time=   0.1s\n",
      "[CV 1/5] END algorithm=ball_tree, n_neighbors=15, weights=distance;, score=0.834 total time=   0.1s\n",
      "[CV 2/5] END algorithm=ball_tree, n_neighbors=15, weights=distance;, score=0.820 total time=   0.1s\n",
      "[CV 3/5] END algorithm=ball_tree, n_neighbors=15, weights=distance;, score=0.832 total time=   0.1s\n",
      "[CV 4/5] END algorithm=ball_tree, n_neighbors=15, weights=distance;, score=0.827 total time=   0.1s\n",
      "[CV 5/5] END algorithm=ball_tree, n_neighbors=15, weights=distance;, score=0.834 total time=   0.1s\n",
      "[CV 1/5] END algorithm=ball_tree, n_neighbors=16, weights=uniform;, score=0.828 total time=   0.1s\n",
      "[CV 2/5] END algorithm=ball_tree, n_neighbors=16, weights=uniform;, score=0.814 total time=   0.2s\n",
      "[CV 3/5] END algorithm=ball_tree, n_neighbors=16, weights=uniform;, score=0.825 total time=   0.1s\n",
      "[CV 4/5] END algorithm=ball_tree, n_neighbors=16, weights=uniform;, score=0.829 total time=   0.1s\n",
      "[CV 5/5] END algorithm=ball_tree, n_neighbors=16, weights=uniform;, score=0.834 total time=   0.1s\n",
      "[CV 1/5] END algorithm=ball_tree, n_neighbors=16, weights=distance;, score=0.834 total time=   0.1s\n",
      "[CV 2/5] END algorithm=ball_tree, n_neighbors=16, weights=distance;, score=0.817 total time=   0.1s\n",
      "[CV 3/5] END algorithm=ball_tree, n_neighbors=16, weights=distance;, score=0.834 total time=   0.1s\n",
      "[CV 4/5] END algorithm=ball_tree, n_neighbors=16, weights=distance;, score=0.830 total time=   0.1s\n",
      "[CV 5/5] END algorithm=ball_tree, n_neighbors=16, weights=distance;, score=0.836 total time=   0.1s\n",
      "[CV 1/5] END algorithm=ball_tree, n_neighbors=17, weights=uniform;, score=0.831 total time=   0.1s\n",
      "[CV 2/5] END algorithm=ball_tree, n_neighbors=17, weights=uniform;, score=0.812 total time=   0.1s\n",
      "[CV 3/5] END algorithm=ball_tree, n_neighbors=17, weights=uniform;, score=0.827 total time=   0.1s\n",
      "[CV 4/5] END algorithm=ball_tree, n_neighbors=17, weights=uniform;, score=0.827 total time=   0.1s\n",
      "[CV 5/5] END algorithm=ball_tree, n_neighbors=17, weights=uniform;, score=0.834 total time=   0.1s\n",
      "[CV 1/5] END algorithm=ball_tree, n_neighbors=17, weights=distance;, score=0.833 total time=   0.1s\n",
      "[CV 2/5] END algorithm=ball_tree, n_neighbors=17, weights=distance;, score=0.816 total time=   0.1s\n",
      "[CV 3/5] END algorithm=ball_tree, n_neighbors=17, weights=distance;, score=0.830 total time=   0.1s\n",
      "[CV 4/5] END algorithm=ball_tree, n_neighbors=17, weights=distance;, score=0.829 total time=   0.1s\n",
      "[CV 5/5] END algorithm=ball_tree, n_neighbors=17, weights=distance;, score=0.834 total time=   0.1s\n",
      "[CV 1/5] END algorithm=ball_tree, n_neighbors=18, weights=uniform;, score=0.826 total time=   0.1s\n",
      "[CV 2/5] END algorithm=ball_tree, n_neighbors=18, weights=uniform;, score=0.811 total time=   0.1s\n",
      "[CV 3/5] END algorithm=ball_tree, n_neighbors=18, weights=uniform;, score=0.824 total time=   0.1s\n",
      "[CV 4/5] END algorithm=ball_tree, n_neighbors=18, weights=uniform;, score=0.822 total time=   0.1s\n",
      "[CV 5/5] END algorithm=ball_tree, n_neighbors=18, weights=uniform;, score=0.829 total time=   0.1s\n",
      "[CV 1/5] END algorithm=ball_tree, n_neighbors=18, weights=distance;, score=0.833 total time=   0.1s\n",
      "[CV 2/5] END algorithm=ball_tree, n_neighbors=18, weights=distance;, score=0.815 total time=   0.1s\n",
      "[CV 3/5] END algorithm=ball_tree, n_neighbors=18, weights=distance;, score=0.834 total time=   0.1s\n",
      "[CV 4/5] END algorithm=ball_tree, n_neighbors=18, weights=distance;, score=0.832 total time=   0.1s\n",
      "[CV 5/5] END algorithm=ball_tree, n_neighbors=18, weights=distance;, score=0.836 total time=   0.1s\n",
      "[CV 1/5] END algorithm=ball_tree, n_neighbors=19, weights=uniform;, score=0.829 total time=   0.1s\n",
      "[CV 2/5] END algorithm=ball_tree, n_neighbors=19, weights=uniform;, score=0.811 total time=   0.2s\n",
      "[CV 3/5] END algorithm=ball_tree, n_neighbors=19, weights=uniform;, score=0.828 total time=   0.1s\n",
      "[CV 4/5] END algorithm=ball_tree, n_neighbors=19, weights=uniform;, score=0.824 total time=   0.2s\n",
      "[CV 5/5] END algorithm=ball_tree, n_neighbors=19, weights=uniform;, score=0.834 total time=   0.1s\n",
      "[CV 1/5] END algorithm=ball_tree, n_neighbors=19, weights=distance;, score=0.830 total time=   0.1s\n",
      "[CV 2/5] END algorithm=ball_tree, n_neighbors=19, weights=distance;, score=0.817 total time=   0.1s\n",
      "[CV 3/5] END algorithm=ball_tree, n_neighbors=19, weights=distance;, score=0.832 total time=   0.1s\n",
      "[CV 4/5] END algorithm=ball_tree, n_neighbors=19, weights=distance;, score=0.826 total time=   0.1s\n",
      "[CV 5/5] END algorithm=ball_tree, n_neighbors=19, weights=distance;, score=0.836 total time=   0.1s\n",
      "[CV 1/5] END algorithm=ball_tree, n_neighbors=20, weights=uniform;, score=0.826 total time=   0.2s\n",
      "[CV 2/5] END algorithm=ball_tree, n_neighbors=20, weights=uniform;, score=0.810 total time=   0.2s\n",
      "[CV 3/5] END algorithm=ball_tree, n_neighbors=20, weights=uniform;, score=0.826 total time=   0.1s\n",
      "[CV 4/5] END algorithm=ball_tree, n_neighbors=20, weights=uniform;, score=0.825 total time=   0.1s\n",
      "[CV 5/5] END algorithm=ball_tree, n_neighbors=20, weights=uniform;, score=0.829 total time=   0.1s\n",
      "[CV 1/5] END algorithm=ball_tree, n_neighbors=20, weights=distance;, score=0.831 total time=   0.1s\n",
      "[CV 2/5] END algorithm=ball_tree, n_neighbors=20, weights=distance;, score=0.814 total time=   0.1s\n",
      "[CV 3/5] END algorithm=ball_tree, n_neighbors=20, weights=distance;, score=0.829 total time=   0.1s\n",
      "[CV 4/5] END algorithm=ball_tree, n_neighbors=20, weights=distance;, score=0.829 total time=   0.1s\n",
      "[CV 5/5] END algorithm=ball_tree, n_neighbors=20, weights=distance;, score=0.837 total time=   0.1s\n",
      "[CV 1/5] END algorithm=ball_tree, n_neighbors=21, weights=uniform;, score=0.826 total time=   0.1s\n",
      "[CV 2/5] END algorithm=ball_tree, n_neighbors=21, weights=uniform;, score=0.810 total time=   0.1s\n",
      "[CV 3/5] END algorithm=ball_tree, n_neighbors=21, weights=uniform;, score=0.830 total time=   0.1s\n",
      "[CV 4/5] END algorithm=ball_tree, n_neighbors=21, weights=uniform;, score=0.829 total time=   0.1s\n",
      "[CV 5/5] END algorithm=ball_tree, n_neighbors=21, weights=uniform;, score=0.836 total time=   0.2s\n",
      "[CV 1/5] END algorithm=ball_tree, n_neighbors=21, weights=distance;, score=0.829 total time=   0.1s\n",
      "[CV 2/5] END algorithm=ball_tree, n_neighbors=21, weights=distance;, score=0.815 total time=   0.1s\n",
      "[CV 3/5] END algorithm=ball_tree, n_neighbors=21, weights=distance;, score=0.834 total time=   0.1s\n",
      "[CV 4/5] END algorithm=ball_tree, n_neighbors=21, weights=distance;, score=0.831 total time=   0.1s\n",
      "[CV 5/5] END algorithm=ball_tree, n_neighbors=21, weights=distance;, score=0.838 total time=   0.1s\n",
      "[CV 1/5] END algorithm=ball_tree, n_neighbors=22, weights=uniform;, score=0.826 total time=   0.1s\n",
      "[CV 2/5] END algorithm=ball_tree, n_neighbors=22, weights=uniform;, score=0.806 total time=   0.1s\n",
      "[CV 3/5] END algorithm=ball_tree, n_neighbors=22, weights=uniform;, score=0.829 total time=   0.1s\n"
     ]
    },
    {
     "name": "stdout",
     "output_type": "stream",
     "text": [
      "[CV 4/5] END algorithm=ball_tree, n_neighbors=22, weights=uniform;, score=0.829 total time=   0.1s\n",
      "[CV 5/5] END algorithm=ball_tree, n_neighbors=22, weights=uniform;, score=0.831 total time=   0.1s\n",
      "[CV 1/5] END algorithm=ball_tree, n_neighbors=22, weights=distance;, score=0.829 total time=   0.1s\n",
      "[CV 2/5] END algorithm=ball_tree, n_neighbors=22, weights=distance;, score=0.816 total time=   0.1s\n",
      "[CV 3/5] END algorithm=ball_tree, n_neighbors=22, weights=distance;, score=0.834 total time=   0.1s\n",
      "[CV 4/5] END algorithm=ball_tree, n_neighbors=22, weights=distance;, score=0.830 total time=   0.1s\n",
      "[CV 5/5] END algorithm=ball_tree, n_neighbors=22, weights=distance;, score=0.836 total time=   0.1s\n",
      "[CV 1/5] END algorithm=ball_tree, n_neighbors=23, weights=uniform;, score=0.825 total time=   0.1s\n",
      "[CV 2/5] END algorithm=ball_tree, n_neighbors=23, weights=uniform;, score=0.809 total time=   0.1s\n",
      "[CV 3/5] END algorithm=ball_tree, n_neighbors=23, weights=uniform;, score=0.831 total time=   0.1s\n",
      "[CV 4/5] END algorithm=ball_tree, n_neighbors=23, weights=uniform;, score=0.827 total time=   0.1s\n",
      "[CV 5/5] END algorithm=ball_tree, n_neighbors=23, weights=uniform;, score=0.831 total time=   0.1s\n",
      "[CV 1/5] END algorithm=ball_tree, n_neighbors=23, weights=distance;, score=0.827 total time=   0.1s\n",
      "[CV 2/5] END algorithm=ball_tree, n_neighbors=23, weights=distance;, score=0.814 total time=   0.1s\n",
      "[CV 3/5] END algorithm=ball_tree, n_neighbors=23, weights=distance;, score=0.834 total time=   0.1s\n",
      "[CV 4/5] END algorithm=ball_tree, n_neighbors=23, weights=distance;, score=0.829 total time=   0.1s\n",
      "[CV 5/5] END algorithm=ball_tree, n_neighbors=23, weights=distance;, score=0.835 total time=   0.1s\n",
      "[CV 1/5] END algorithm=ball_tree, n_neighbors=24, weights=uniform;, score=0.822 total time=   0.1s\n",
      "[CV 2/5] END algorithm=ball_tree, n_neighbors=24, weights=uniform;, score=0.808 total time=   0.2s\n",
      "[CV 3/5] END algorithm=ball_tree, n_neighbors=24, weights=uniform;, score=0.826 total time=   0.1s\n",
      "[CV 4/5] END algorithm=ball_tree, n_neighbors=24, weights=uniform;, score=0.826 total time=   0.2s\n",
      "[CV 5/5] END algorithm=ball_tree, n_neighbors=24, weights=uniform;, score=0.831 total time=   0.2s\n",
      "[CV 1/5] END algorithm=ball_tree, n_neighbors=24, weights=distance;, score=0.826 total time=   0.1s\n",
      "[CV 2/5] END algorithm=ball_tree, n_neighbors=24, weights=distance;, score=0.814 total time=   0.1s\n",
      "[CV 3/5] END algorithm=ball_tree, n_neighbors=24, weights=distance;, score=0.831 total time=   0.1s\n",
      "[CV 4/5] END algorithm=ball_tree, n_neighbors=24, weights=distance;, score=0.829 total time=   0.1s\n",
      "[CV 5/5] END algorithm=ball_tree, n_neighbors=24, weights=distance;, score=0.836 total time=   0.1s\n",
      "[CV 1/5] END algorithm=ball_tree, n_neighbors=25, weights=uniform;, score=0.823 total time=   0.2s\n",
      "[CV 2/5] END algorithm=ball_tree, n_neighbors=25, weights=uniform;, score=0.809 total time=   0.1s\n",
      "[CV 3/5] END algorithm=ball_tree, n_neighbors=25, weights=uniform;, score=0.829 total time=   0.1s\n",
      "[CV 4/5] END algorithm=ball_tree, n_neighbors=25, weights=uniform;, score=0.822 total time=   0.1s\n",
      "[CV 5/5] END algorithm=ball_tree, n_neighbors=25, weights=uniform;, score=0.830 total time=   0.2s\n",
      "[CV 1/5] END algorithm=ball_tree, n_neighbors=25, weights=distance;, score=0.826 total time=   0.1s\n",
      "[CV 2/5] END algorithm=ball_tree, n_neighbors=25, weights=distance;, score=0.813 total time=   0.1s\n",
      "[CV 3/5] END algorithm=ball_tree, n_neighbors=25, weights=distance;, score=0.832 total time=   0.1s\n",
      "[CV 4/5] END algorithm=ball_tree, n_neighbors=25, weights=distance;, score=0.823 total time=   0.1s\n",
      "[CV 5/5] END algorithm=ball_tree, n_neighbors=25, weights=distance;, score=0.832 total time=   0.1s\n",
      "[CV 1/5] END algorithm=ball_tree, n_neighbors=26, weights=uniform;, score=0.822 total time=   0.1s\n",
      "[CV 2/5] END algorithm=ball_tree, n_neighbors=26, weights=uniform;, score=0.809 total time=   0.1s\n",
      "[CV 3/5] END algorithm=ball_tree, n_neighbors=26, weights=uniform;, score=0.826 total time=   0.2s\n",
      "[CV 4/5] END algorithm=ball_tree, n_neighbors=26, weights=uniform;, score=0.822 total time=   0.1s\n",
      "[CV 5/5] END algorithm=ball_tree, n_neighbors=26, weights=uniform;, score=0.829 total time=   0.1s\n",
      "[CV 1/5] END algorithm=ball_tree, n_neighbors=26, weights=distance;, score=0.824 total time=   0.1s\n",
      "[CV 2/5] END algorithm=ball_tree, n_neighbors=26, weights=distance;, score=0.810 total time=   0.1s\n",
      "[CV 3/5] END algorithm=ball_tree, n_neighbors=26, weights=distance;, score=0.834 total time=   0.1s\n",
      "[CV 4/5] END algorithm=ball_tree, n_neighbors=26, weights=distance;, score=0.823 total time=   0.1s\n",
      "[CV 5/5] END algorithm=ball_tree, n_neighbors=26, weights=distance;, score=0.832 total time=   0.1s\n",
      "[CV 1/5] END algorithm=ball_tree, n_neighbors=27, weights=uniform;, score=0.822 total time=   0.1s\n",
      "[CV 2/5] END algorithm=ball_tree, n_neighbors=27, weights=uniform;, score=0.809 total time=   0.2s\n",
      "[CV 3/5] END algorithm=ball_tree, n_neighbors=27, weights=uniform;, score=0.827 total time=   0.1s\n",
      "[CV 4/5] END algorithm=ball_tree, n_neighbors=27, weights=uniform;, score=0.821 total time=   0.2s\n",
      "[CV 5/5] END algorithm=ball_tree, n_neighbors=27, weights=uniform;, score=0.831 total time=   0.1s\n",
      "[CV 1/5] END algorithm=ball_tree, n_neighbors=27, weights=distance;, score=0.824 total time=   0.1s\n",
      "[CV 2/5] END algorithm=ball_tree, n_neighbors=27, weights=distance;, score=0.812 total time=   0.1s\n",
      "[CV 3/5] END algorithm=ball_tree, n_neighbors=27, weights=distance;, score=0.830 total time=   0.1s\n",
      "[CV 4/5] END algorithm=ball_tree, n_neighbors=27, weights=distance;, score=0.821 total time=   0.1s\n",
      "[CV 5/5] END algorithm=ball_tree, n_neighbors=27, weights=distance;, score=0.831 total time=   0.1s\n",
      "[CV 1/5] END algorithm=ball_tree, n_neighbors=28, weights=uniform;, score=0.819 total time=   0.2s\n",
      "[CV 2/5] END algorithm=ball_tree, n_neighbors=28, weights=uniform;, score=0.810 total time=   0.1s\n",
      "[CV 3/5] END algorithm=ball_tree, n_neighbors=28, weights=uniform;, score=0.825 total time=   0.1s\n",
      "[CV 4/5] END algorithm=ball_tree, n_neighbors=28, weights=uniform;, score=0.823 total time=   0.2s\n",
      "[CV 5/5] END algorithm=ball_tree, n_neighbors=28, weights=uniform;, score=0.831 total time=   0.2s\n",
      "[CV 1/5] END algorithm=ball_tree, n_neighbors=28, weights=distance;, score=0.825 total time=   0.1s\n",
      "[CV 2/5] END algorithm=ball_tree, n_neighbors=28, weights=distance;, score=0.811 total time=   0.1s\n",
      "[CV 3/5] END algorithm=ball_tree, n_neighbors=28, weights=distance;, score=0.830 total time=   0.1s\n",
      "[CV 4/5] END algorithm=ball_tree, n_neighbors=28, weights=distance;, score=0.823 total time=   0.1s\n",
      "[CV 5/5] END algorithm=ball_tree, n_neighbors=28, weights=distance;, score=0.831 total time=   0.1s\n",
      "[CV 1/5] END algorithm=ball_tree, n_neighbors=29, weights=uniform;, score=0.824 total time=   0.1s\n",
      "[CV 2/5] END algorithm=ball_tree, n_neighbors=29, weights=uniform;, score=0.809 total time=   0.2s\n",
      "[CV 3/5] END algorithm=ball_tree, n_neighbors=29, weights=uniform;, score=0.831 total time=   0.1s\n",
      "[CV 4/5] END algorithm=ball_tree, n_neighbors=29, weights=uniform;, score=0.821 total time=   0.2s\n",
      "[CV 5/5] END algorithm=ball_tree, n_neighbors=29, weights=uniform;, score=0.826 total time=   0.1s\n",
      "[CV 1/5] END algorithm=ball_tree, n_neighbors=29, weights=distance;, score=0.824 total time=   0.1s\n",
      "[CV 2/5] END algorithm=ball_tree, n_neighbors=29, weights=distance;, score=0.810 total time=   0.1s\n",
      "[CV 3/5] END algorithm=ball_tree, n_neighbors=29, weights=distance;, score=0.831 total time=   0.1s\n",
      "[CV 4/5] END algorithm=ball_tree, n_neighbors=29, weights=distance;, score=0.824 total time=   0.1s\n",
      "[CV 5/5] END algorithm=ball_tree, n_neighbors=29, weights=distance;, score=0.829 total time=   0.1s\n",
      "[CV 1/5] END algorithm=ball_tree, n_neighbors=30, weights=uniform;, score=0.821 total time=   0.2s\n",
      "[CV 2/5] END algorithm=ball_tree, n_neighbors=30, weights=uniform;, score=0.808 total time=   0.2s\n",
      "[CV 3/5] END algorithm=ball_tree, n_neighbors=30, weights=uniform;, score=0.825 total time=   0.1s\n",
      "[CV 4/5] END algorithm=ball_tree, n_neighbors=30, weights=uniform;, score=0.822 total time=   0.2s\n",
      "[CV 5/5] END algorithm=ball_tree, n_neighbors=30, weights=uniform;, score=0.829 total time=   0.2s\n",
      "[CV 1/5] END algorithm=ball_tree, n_neighbors=30, weights=distance;, score=0.826 total time=   0.1s\n"
     ]
    },
    {
     "name": "stdout",
     "output_type": "stream",
     "text": [
      "[CV 2/5] END algorithm=ball_tree, n_neighbors=30, weights=distance;, score=0.811 total time=   0.1s\n",
      "[CV 3/5] END algorithm=ball_tree, n_neighbors=30, weights=distance;, score=0.829 total time=   0.1s\n",
      "[CV 4/5] END algorithm=ball_tree, n_neighbors=30, weights=distance;, score=0.822 total time=   0.1s\n",
      "[CV 5/5] END algorithm=ball_tree, n_neighbors=30, weights=distance;, score=0.831 total time=   0.1s\n",
      "[CV 1/5] END algorithm=kd_tree, n_neighbors=1, weights=uniform;, score=0.770 total time=   0.0s\n",
      "[CV 2/5] END algorithm=kd_tree, n_neighbors=1, weights=uniform;, score=0.775 total time=   0.0s\n",
      "[CV 3/5] END algorithm=kd_tree, n_neighbors=1, weights=uniform;, score=0.805 total time=   0.0s\n",
      "[CV 4/5] END algorithm=kd_tree, n_neighbors=1, weights=uniform;, score=0.775 total time=   0.0s\n",
      "[CV 5/5] END algorithm=kd_tree, n_neighbors=1, weights=uniform;, score=0.796 total time=   0.0s\n",
      "[CV 1/5] END algorithm=kd_tree, n_neighbors=1, weights=distance;, score=0.770 total time=   0.0s\n",
      "[CV 2/5] END algorithm=kd_tree, n_neighbors=1, weights=distance;, score=0.775 total time=   0.0s\n",
      "[CV 3/5] END algorithm=kd_tree, n_neighbors=1, weights=distance;, score=0.805 total time=   0.0s\n",
      "[CV 4/5] END algorithm=kd_tree, n_neighbors=1, weights=distance;, score=0.775 total time=   0.0s\n",
      "[CV 5/5] END algorithm=kd_tree, n_neighbors=1, weights=distance;, score=0.796 total time=   0.0s\n",
      "[CV 1/5] END algorithm=kd_tree, n_neighbors=2, weights=uniform;, score=0.811 total time=   0.0s\n",
      "[CV 2/5] END algorithm=kd_tree, n_neighbors=2, weights=uniform;, score=0.814 total time=   0.1s\n",
      "[CV 3/5] END algorithm=kd_tree, n_neighbors=2, weights=uniform;, score=0.819 total time=   0.0s\n",
      "[CV 4/5] END algorithm=kd_tree, n_neighbors=2, weights=uniform;, score=0.812 total time=   0.0s\n",
      "[CV 5/5] END algorithm=kd_tree, n_neighbors=2, weights=uniform;, score=0.818 total time=   0.0s\n",
      "[CV 1/5] END algorithm=kd_tree, n_neighbors=2, weights=distance;, score=0.770 total time=   0.0s\n",
      "[CV 2/5] END algorithm=kd_tree, n_neighbors=2, weights=distance;, score=0.775 total time=   0.0s\n",
      "[CV 3/5] END algorithm=kd_tree, n_neighbors=2, weights=distance;, score=0.805 total time=   0.0s\n",
      "[CV 4/5] END algorithm=kd_tree, n_neighbors=2, weights=distance;, score=0.775 total time=   0.0s\n",
      "[CV 5/5] END algorithm=kd_tree, n_neighbors=2, weights=distance;, score=0.796 total time=   0.0s\n",
      "[CV 1/5] END algorithm=kd_tree, n_neighbors=3, weights=uniform;, score=0.802 total time=   0.0s\n",
      "[CV 2/5] END algorithm=kd_tree, n_neighbors=3, weights=uniform;, score=0.806 total time=   0.0s\n",
      "[CV 3/5] END algorithm=kd_tree, n_neighbors=3, weights=uniform;, score=0.820 total time=   0.0s\n",
      "[CV 4/5] END algorithm=kd_tree, n_neighbors=3, weights=uniform;, score=0.814 total time=   0.0s\n",
      "[CV 5/5] END algorithm=kd_tree, n_neighbors=3, weights=uniform;, score=0.814 total time=   0.0s\n",
      "[CV 1/5] END algorithm=kd_tree, n_neighbors=3, weights=distance;, score=0.802 total time=   0.0s\n",
      "[CV 2/5] END algorithm=kd_tree, n_neighbors=3, weights=distance;, score=0.804 total time=   0.0s\n",
      "[CV 3/5] END algorithm=kd_tree, n_neighbors=3, weights=distance;, score=0.819 total time=   0.0s\n",
      "[CV 4/5] END algorithm=kd_tree, n_neighbors=3, weights=distance;, score=0.813 total time=   0.0s\n",
      "[CV 5/5] END algorithm=kd_tree, n_neighbors=3, weights=distance;, score=0.819 total time=   0.0s\n",
      "[CV 1/5] END algorithm=kd_tree, n_neighbors=4, weights=uniform;, score=0.816 total time=   0.1s\n",
      "[CV 2/5] END algorithm=kd_tree, n_neighbors=4, weights=uniform;, score=0.804 total time=   0.0s\n",
      "[CV 3/5] END algorithm=kd_tree, n_neighbors=4, weights=uniform;, score=0.827 total time=   0.0s\n",
      "[CV 4/5] END algorithm=kd_tree, n_neighbors=4, weights=uniform;, score=0.821 total time=   0.0s\n",
      "[CV 5/5] END algorithm=kd_tree, n_neighbors=4, weights=uniform;, score=0.821 total time=   0.0s\n",
      "[CV 1/5] END algorithm=kd_tree, n_neighbors=4, weights=distance;, score=0.811 total time=   0.0s\n",
      "[CV 2/5] END algorithm=kd_tree, n_neighbors=4, weights=distance;, score=0.807 total time=   0.0s\n",
      "[CV 3/5] END algorithm=kd_tree, n_neighbors=4, weights=distance;, score=0.819 total time=   0.0s\n",
      "[CV 4/5] END algorithm=kd_tree, n_neighbors=4, weights=distance;, score=0.811 total time=   0.0s\n",
      "[CV 5/5] END algorithm=kd_tree, n_neighbors=4, weights=distance;, score=0.812 total time=   0.0s\n",
      "[CV 1/5] END algorithm=kd_tree, n_neighbors=5, weights=uniform;, score=0.812 total time=   0.1s\n",
      "[CV 2/5] END algorithm=kd_tree, n_neighbors=5, weights=uniform;, score=0.807 total time=   0.1s\n",
      "[CV 3/5] END algorithm=kd_tree, n_neighbors=5, weights=uniform;, score=0.827 total time=   0.1s\n",
      "[CV 4/5] END algorithm=kd_tree, n_neighbors=5, weights=uniform;, score=0.819 total time=   0.1s\n",
      "[CV 5/5] END algorithm=kd_tree, n_neighbors=5, weights=uniform;, score=0.821 total time=   0.1s\n",
      "[CV 1/5] END algorithm=kd_tree, n_neighbors=5, weights=distance;, score=0.811 total time=   0.0s\n",
      "[CV 2/5] END algorithm=kd_tree, n_neighbors=5, weights=distance;, score=0.808 total time=   0.0s\n",
      "[CV 3/5] END algorithm=kd_tree, n_neighbors=5, weights=distance;, score=0.828 total time=   0.0s\n",
      "[CV 4/5] END algorithm=kd_tree, n_neighbors=5, weights=distance;, score=0.821 total time=   0.0s\n",
      "[CV 5/5] END algorithm=kd_tree, n_neighbors=5, weights=distance;, score=0.822 total time=   0.0s\n",
      "[CV 1/5] END algorithm=kd_tree, n_neighbors=6, weights=uniform;, score=0.820 total time=   0.1s\n",
      "[CV 2/5] END algorithm=kd_tree, n_neighbors=6, weights=uniform;, score=0.811 total time=   0.1s\n",
      "[CV 3/5] END algorithm=kd_tree, n_neighbors=6, weights=uniform;, score=0.824 total time=   0.1s\n",
      "[CV 4/5] END algorithm=kd_tree, n_neighbors=6, weights=uniform;, score=0.826 total time=   0.1s\n",
      "[CV 5/5] END algorithm=kd_tree, n_neighbors=6, weights=uniform;, score=0.825 total time=   0.1s\n",
      "[CV 1/5] END algorithm=kd_tree, n_neighbors=6, weights=distance;, score=0.816 total time=   0.0s\n",
      "[CV 2/5] END algorithm=kd_tree, n_neighbors=6, weights=distance;, score=0.811 total time=   0.0s\n",
      "[CV 3/5] END algorithm=kd_tree, n_neighbors=6, weights=distance;, score=0.833 total time=   0.0s\n",
      "[CV 4/5] END algorithm=kd_tree, n_neighbors=6, weights=distance;, score=0.829 total time=   0.0s\n",
      "[CV 5/5] END algorithm=kd_tree, n_neighbors=6, weights=distance;, score=0.826 total time=   0.0s\n",
      "[CV 1/5] END algorithm=kd_tree, n_neighbors=7, weights=uniform;, score=0.819 total time=   0.1s\n",
      "[CV 2/5] END algorithm=kd_tree, n_neighbors=7, weights=uniform;, score=0.816 total time=   0.1s\n",
      "[CV 3/5] END algorithm=kd_tree, n_neighbors=7, weights=uniform;, score=0.821 total time=   0.1s\n",
      "[CV 4/5] END algorithm=kd_tree, n_neighbors=7, weights=uniform;, score=0.826 total time=   0.1s\n",
      "[CV 5/5] END algorithm=kd_tree, n_neighbors=7, weights=uniform;, score=0.829 total time=   0.1s\n",
      "[CV 1/5] END algorithm=kd_tree, n_neighbors=7, weights=distance;, score=0.819 total time=   0.0s\n",
      "[CV 2/5] END algorithm=kd_tree, n_neighbors=7, weights=distance;, score=0.816 total time=   0.0s\n",
      "[CV 3/5] END algorithm=kd_tree, n_neighbors=7, weights=distance;, score=0.824 total time=   0.0s\n",
      "[CV 4/5] END algorithm=kd_tree, n_neighbors=7, weights=distance;, score=0.827 total time=   0.0s\n",
      "[CV 5/5] END algorithm=kd_tree, n_neighbors=7, weights=distance;, score=0.829 total time=   0.0s\n",
      "[CV 1/5] END algorithm=kd_tree, n_neighbors=8, weights=uniform;, score=0.821 total time=   0.1s\n",
      "[CV 2/5] END algorithm=kd_tree, n_neighbors=8, weights=uniform;, score=0.811 total time=   0.1s\n",
      "[CV 3/5] END algorithm=kd_tree, n_neighbors=8, weights=uniform;, score=0.822 total time=   0.1s\n",
      "[CV 4/5] END algorithm=kd_tree, n_neighbors=8, weights=uniform;, score=0.831 total time=   0.1s\n",
      "[CV 5/5] END algorithm=kd_tree, n_neighbors=8, weights=uniform;, score=0.828 total time=   0.1s\n",
      "[CV 1/5] END algorithm=kd_tree, n_neighbors=8, weights=distance;, score=0.829 total time=   0.0s\n",
      "[CV 2/5] END algorithm=kd_tree, n_neighbors=8, weights=distance;, score=0.817 total time=   0.0s\n",
      "[CV 3/5] END algorithm=kd_tree, n_neighbors=8, weights=distance;, score=0.831 total time=   0.0s\n",
      "[CV 4/5] END algorithm=kd_tree, n_neighbors=8, weights=distance;, score=0.831 total time=   0.0s\n",
      "[CV 5/5] END algorithm=kd_tree, n_neighbors=8, weights=distance;, score=0.831 total time=   0.0s\n",
      "[CV 1/5] END algorithm=kd_tree, n_neighbors=9, weights=uniform;, score=0.829 total time=   0.1s\n"
     ]
    },
    {
     "name": "stdout",
     "output_type": "stream",
     "text": [
      "[CV 2/5] END algorithm=kd_tree, n_neighbors=9, weights=uniform;, score=0.811 total time=   0.1s\n",
      "[CV 3/5] END algorithm=kd_tree, n_neighbors=9, weights=uniform;, score=0.830 total time=   0.1s\n",
      "[CV 4/5] END algorithm=kd_tree, n_neighbors=9, weights=uniform;, score=0.834 total time=   0.1s\n",
      "[CV 5/5] END algorithm=kd_tree, n_neighbors=9, weights=uniform;, score=0.831 total time=   0.1s\n",
      "[CV 1/5] END algorithm=kd_tree, n_neighbors=9, weights=distance;, score=0.829 total time=   0.0s\n",
      "[CV 2/5] END algorithm=kd_tree, n_neighbors=9, weights=distance;, score=0.812 total time=   0.0s\n",
      "[CV 3/5] END algorithm=kd_tree, n_neighbors=9, weights=distance;, score=0.833 total time=   0.0s\n",
      "[CV 4/5] END algorithm=kd_tree, n_neighbors=9, weights=distance;, score=0.834 total time=   0.0s\n",
      "[CV 5/5] END algorithm=kd_tree, n_neighbors=9, weights=distance;, score=0.831 total time=   0.0s\n",
      "[CV 1/5] END algorithm=kd_tree, n_neighbors=10, weights=uniform;, score=0.819 total time=   0.1s\n",
      "[CV 2/5] END algorithm=kd_tree, n_neighbors=10, weights=uniform;, score=0.813 total time=   0.1s\n",
      "[CV 3/5] END algorithm=kd_tree, n_neighbors=10, weights=uniform;, score=0.825 total time=   0.1s\n",
      "[CV 4/5] END algorithm=kd_tree, n_neighbors=10, weights=uniform;, score=0.822 total time=   0.1s\n",
      "[CV 5/5] END algorithm=kd_tree, n_neighbors=10, weights=uniform;, score=0.831 total time=   0.1s\n",
      "[CV 1/5] END algorithm=kd_tree, n_neighbors=10, weights=distance;, score=0.830 total time=   0.0s\n",
      "[CV 2/5] END algorithm=kd_tree, n_neighbors=10, weights=distance;, score=0.816 total time=   0.0s\n",
      "[CV 3/5] END algorithm=kd_tree, n_neighbors=10, weights=distance;, score=0.838 total time=   0.0s\n",
      "[CV 4/5] END algorithm=kd_tree, n_neighbors=10, weights=distance;, score=0.829 total time=   0.0s\n",
      "[CV 5/5] END algorithm=kd_tree, n_neighbors=10, weights=distance;, score=0.835 total time=   0.0s\n",
      "[CV 1/5] END algorithm=kd_tree, n_neighbors=11, weights=uniform;, score=0.825 total time=   0.1s\n",
      "[CV 2/5] END algorithm=kd_tree, n_neighbors=11, weights=uniform;, score=0.813 total time=   0.1s\n",
      "[CV 3/5] END algorithm=kd_tree, n_neighbors=11, weights=uniform;, score=0.831 total time=   0.1s\n",
      "[CV 4/5] END algorithm=kd_tree, n_neighbors=11, weights=uniform;, score=0.829 total time=   0.1s\n",
      "[CV 5/5] END algorithm=kd_tree, n_neighbors=11, weights=uniform;, score=0.833 total time=   0.1s\n",
      "[CV 1/5] END algorithm=kd_tree, n_neighbors=11, weights=distance;, score=0.827 total time=   0.0s\n",
      "[CV 2/5] END algorithm=kd_tree, n_neighbors=11, weights=distance;, score=0.811 total time=   0.0s\n",
      "[CV 3/5] END algorithm=kd_tree, n_neighbors=11, weights=distance;, score=0.831 total time=   0.0s\n",
      "[CV 4/5] END algorithm=kd_tree, n_neighbors=11, weights=distance;, score=0.830 total time=   0.0s\n",
      "[CV 5/5] END algorithm=kd_tree, n_neighbors=11, weights=distance;, score=0.831 total time=   0.1s\n",
      "[CV 1/5] END algorithm=kd_tree, n_neighbors=12, weights=uniform;, score=0.824 total time=   0.1s\n",
      "[CV 2/5] END algorithm=kd_tree, n_neighbors=12, weights=uniform;, score=0.811 total time=   0.1s\n",
      "[CV 3/5] END algorithm=kd_tree, n_neighbors=12, weights=uniform;, score=0.832 total time=   0.1s\n",
      "[CV 4/5] END algorithm=kd_tree, n_neighbors=12, weights=uniform;, score=0.824 total time=   0.1s\n",
      "[CV 5/5] END algorithm=kd_tree, n_neighbors=12, weights=uniform;, score=0.832 total time=   0.1s\n",
      "[CV 1/5] END algorithm=kd_tree, n_neighbors=12, weights=distance;, score=0.834 total time=   0.0s\n",
      "[CV 2/5] END algorithm=kd_tree, n_neighbors=12, weights=distance;, score=0.814 total time=   0.0s\n",
      "[CV 3/5] END algorithm=kd_tree, n_neighbors=12, weights=distance;, score=0.838 total time=   0.0s\n",
      "[CV 4/5] END algorithm=kd_tree, n_neighbors=12, weights=distance;, score=0.830 total time=   0.0s\n",
      "[CV 5/5] END algorithm=kd_tree, n_neighbors=12, weights=distance;, score=0.832 total time=   0.0s\n",
      "[CV 1/5] END algorithm=kd_tree, n_neighbors=13, weights=uniform;, score=0.829 total time=   0.1s\n",
      "[CV 2/5] END algorithm=kd_tree, n_neighbors=13, weights=uniform;, score=0.814 total time=   0.1s\n",
      "[CV 3/5] END algorithm=kd_tree, n_neighbors=13, weights=uniform;, score=0.837 total time=   0.1s\n",
      "[CV 4/5] END algorithm=kd_tree, n_neighbors=13, weights=uniform;, score=0.828 total time=   0.1s\n",
      "[CV 5/5] END algorithm=kd_tree, n_neighbors=13, weights=uniform;, score=0.836 total time=   0.1s\n",
      "[CV 1/5] END algorithm=kd_tree, n_neighbors=13, weights=distance;, score=0.831 total time=   0.0s\n",
      "[CV 2/5] END algorithm=kd_tree, n_neighbors=13, weights=distance;, score=0.819 total time=   0.0s\n",
      "[CV 3/5] END algorithm=kd_tree, n_neighbors=13, weights=distance;, score=0.835 total time=   0.0s\n",
      "[CV 4/5] END algorithm=kd_tree, n_neighbors=13, weights=distance;, score=0.828 total time=   0.1s\n",
      "[CV 5/5] END algorithm=kd_tree, n_neighbors=13, weights=distance;, score=0.833 total time=   0.0s\n",
      "[CV 1/5] END algorithm=kd_tree, n_neighbors=14, weights=uniform;, score=0.825 total time=   0.1s\n",
      "[CV 2/5] END algorithm=kd_tree, n_neighbors=14, weights=uniform;, score=0.814 total time=   0.1s\n",
      "[CV 3/5] END algorithm=kd_tree, n_neighbors=14, weights=uniform;, score=0.829 total time=   0.1s\n",
      "[CV 4/5] END algorithm=kd_tree, n_neighbors=14, weights=uniform;, score=0.829 total time=   0.1s\n",
      "[CV 5/5] END algorithm=kd_tree, n_neighbors=14, weights=uniform;, score=0.836 total time=   0.1s\n",
      "[CV 1/5] END algorithm=kd_tree, n_neighbors=14, weights=distance;, score=0.829 total time=   0.1s\n",
      "[CV 2/5] END algorithm=kd_tree, n_neighbors=14, weights=distance;, score=0.816 total time=   0.1s\n",
      "[CV 3/5] END algorithm=kd_tree, n_neighbors=14, weights=distance;, score=0.836 total time=   0.1s\n",
      "[CV 4/5] END algorithm=kd_tree, n_neighbors=14, weights=distance;, score=0.829 total time=   0.1s\n",
      "[CV 5/5] END algorithm=kd_tree, n_neighbors=14, weights=distance;, score=0.835 total time=   0.1s\n",
      "[CV 1/5] END algorithm=kd_tree, n_neighbors=15, weights=uniform;, score=0.828 total time=   0.1s\n",
      "[CV 2/5] END algorithm=kd_tree, n_neighbors=15, weights=uniform;, score=0.816 total time=   0.1s\n",
      "[CV 3/5] END algorithm=kd_tree, n_neighbors=15, weights=uniform;, score=0.829 total time=   0.1s\n",
      "[CV 4/5] END algorithm=kd_tree, n_neighbors=15, weights=uniform;, score=0.828 total time=   0.1s\n",
      "[CV 5/5] END algorithm=kd_tree, n_neighbors=15, weights=uniform;, score=0.836 total time=   0.1s\n",
      "[CV 1/5] END algorithm=kd_tree, n_neighbors=15, weights=distance;, score=0.834 total time=   0.1s\n",
      "[CV 2/5] END algorithm=kd_tree, n_neighbors=15, weights=distance;, score=0.820 total time=   0.1s\n",
      "[CV 3/5] END algorithm=kd_tree, n_neighbors=15, weights=distance;, score=0.832 total time=   0.1s\n",
      "[CV 4/5] END algorithm=kd_tree, n_neighbors=15, weights=distance;, score=0.827 total time=   0.1s\n",
      "[CV 5/5] END algorithm=kd_tree, n_neighbors=15, weights=distance;, score=0.834 total time=   0.1s\n",
      "[CV 1/5] END algorithm=kd_tree, n_neighbors=16, weights=uniform;, score=0.828 total time=   0.1s\n",
      "[CV 2/5] END algorithm=kd_tree, n_neighbors=16, weights=uniform;, score=0.814 total time=   0.1s\n",
      "[CV 3/5] END algorithm=kd_tree, n_neighbors=16, weights=uniform;, score=0.825 total time=   0.1s\n",
      "[CV 4/5] END algorithm=kd_tree, n_neighbors=16, weights=uniform;, score=0.829 total time=   0.1s\n",
      "[CV 5/5] END algorithm=kd_tree, n_neighbors=16, weights=uniform;, score=0.834 total time=   0.1s\n",
      "[CV 1/5] END algorithm=kd_tree, n_neighbors=16, weights=distance;, score=0.834 total time=   0.1s\n",
      "[CV 2/5] END algorithm=kd_tree, n_neighbors=16, weights=distance;, score=0.817 total time=   0.1s\n",
      "[CV 3/5] END algorithm=kd_tree, n_neighbors=16, weights=distance;, score=0.834 total time=   0.1s\n",
      "[CV 4/5] END algorithm=kd_tree, n_neighbors=16, weights=distance;, score=0.830 total time=   0.1s\n",
      "[CV 5/5] END algorithm=kd_tree, n_neighbors=16, weights=distance;, score=0.836 total time=   0.1s\n",
      "[CV 1/5] END algorithm=kd_tree, n_neighbors=17, weights=uniform;, score=0.831 total time=   0.1s\n",
      "[CV 2/5] END algorithm=kd_tree, n_neighbors=17, weights=uniform;, score=0.812 total time=   0.1s\n",
      "[CV 3/5] END algorithm=kd_tree, n_neighbors=17, weights=uniform;, score=0.827 total time=   0.1s\n",
      "[CV 4/5] END algorithm=kd_tree, n_neighbors=17, weights=uniform;, score=0.827 total time=   0.1s\n",
      "[CV 5/5] END algorithm=kd_tree, n_neighbors=17, weights=uniform;, score=0.834 total time=   0.1s\n",
      "[CV 1/5] END algorithm=kd_tree, n_neighbors=17, weights=distance;, score=0.833 total time=   0.1s\n"
     ]
    },
    {
     "name": "stdout",
     "output_type": "stream",
     "text": [
      "[CV 2/5] END algorithm=kd_tree, n_neighbors=17, weights=distance;, score=0.816 total time=   0.1s\n",
      "[CV 3/5] END algorithm=kd_tree, n_neighbors=17, weights=distance;, score=0.830 total time=   0.1s\n",
      "[CV 4/5] END algorithm=kd_tree, n_neighbors=17, weights=distance;, score=0.829 total time=   0.1s\n",
      "[CV 5/5] END algorithm=kd_tree, n_neighbors=17, weights=distance;, score=0.834 total time=   0.1s\n",
      "[CV 1/5] END algorithm=kd_tree, n_neighbors=18, weights=uniform;, score=0.826 total time=   0.1s\n",
      "[CV 2/5] END algorithm=kd_tree, n_neighbors=18, weights=uniform;, score=0.811 total time=   0.1s\n",
      "[CV 3/5] END algorithm=kd_tree, n_neighbors=18, weights=uniform;, score=0.824 total time=   0.1s\n",
      "[CV 4/5] END algorithm=kd_tree, n_neighbors=18, weights=uniform;, score=0.822 total time=   0.1s\n",
      "[CV 5/5] END algorithm=kd_tree, n_neighbors=18, weights=uniform;, score=0.829 total time=   0.1s\n",
      "[CV 1/5] END algorithm=kd_tree, n_neighbors=18, weights=distance;, score=0.833 total time=   0.1s\n",
      "[CV 2/5] END algorithm=kd_tree, n_neighbors=18, weights=distance;, score=0.815 total time=   0.1s\n",
      "[CV 3/5] END algorithm=kd_tree, n_neighbors=18, weights=distance;, score=0.834 total time=   0.1s\n",
      "[CV 4/5] END algorithm=kd_tree, n_neighbors=18, weights=distance;, score=0.832 total time=   0.1s\n",
      "[CV 5/5] END algorithm=kd_tree, n_neighbors=18, weights=distance;, score=0.836 total time=   0.1s\n",
      "[CV 1/5] END algorithm=kd_tree, n_neighbors=19, weights=uniform;, score=0.829 total time=   0.1s\n",
      "[CV 2/5] END algorithm=kd_tree, n_neighbors=19, weights=uniform;, score=0.811 total time=   0.1s\n",
      "[CV 3/5] END algorithm=kd_tree, n_neighbors=19, weights=uniform;, score=0.828 total time=   0.1s\n",
      "[CV 4/5] END algorithm=kd_tree, n_neighbors=19, weights=uniform;, score=0.824 total time=   0.1s\n",
      "[CV 5/5] END algorithm=kd_tree, n_neighbors=19, weights=uniform;, score=0.834 total time=   0.1s\n",
      "[CV 1/5] END algorithm=kd_tree, n_neighbors=19, weights=distance;, score=0.830 total time=   0.1s\n",
      "[CV 2/5] END algorithm=kd_tree, n_neighbors=19, weights=distance;, score=0.817 total time=   0.1s\n",
      "[CV 3/5] END algorithm=kd_tree, n_neighbors=19, weights=distance;, score=0.832 total time=   0.1s\n",
      "[CV 4/5] END algorithm=kd_tree, n_neighbors=19, weights=distance;, score=0.826 total time=   0.1s\n",
      "[CV 5/5] END algorithm=kd_tree, n_neighbors=19, weights=distance;, score=0.836 total time=   0.1s\n",
      "[CV 1/5] END algorithm=kd_tree, n_neighbors=20, weights=uniform;, score=0.826 total time=   0.1s\n",
      "[CV 2/5] END algorithm=kd_tree, n_neighbors=20, weights=uniform;, score=0.810 total time=   0.1s\n",
      "[CV 3/5] END algorithm=kd_tree, n_neighbors=20, weights=uniform;, score=0.826 total time=   0.1s\n",
      "[CV 4/5] END algorithm=kd_tree, n_neighbors=20, weights=uniform;, score=0.825 total time=   0.1s\n",
      "[CV 5/5] END algorithm=kd_tree, n_neighbors=20, weights=uniform;, score=0.829 total time=   0.2s\n",
      "[CV 1/5] END algorithm=kd_tree, n_neighbors=20, weights=distance;, score=0.831 total time=   0.1s\n",
      "[CV 2/5] END algorithm=kd_tree, n_neighbors=20, weights=distance;, score=0.814 total time=   0.1s\n",
      "[CV 3/5] END algorithm=kd_tree, n_neighbors=20, weights=distance;, score=0.829 total time=   0.1s\n",
      "[CV 4/5] END algorithm=kd_tree, n_neighbors=20, weights=distance;, score=0.829 total time=   0.1s\n",
      "[CV 5/5] END algorithm=kd_tree, n_neighbors=20, weights=distance;, score=0.837 total time=   0.1s\n",
      "[CV 1/5] END algorithm=kd_tree, n_neighbors=21, weights=uniform;, score=0.826 total time=   0.1s\n",
      "[CV 2/5] END algorithm=kd_tree, n_neighbors=21, weights=uniform;, score=0.810 total time=   0.1s\n",
      "[CV 3/5] END algorithm=kd_tree, n_neighbors=21, weights=uniform;, score=0.830 total time=   0.1s\n",
      "[CV 4/5] END algorithm=kd_tree, n_neighbors=21, weights=uniform;, score=0.829 total time=   0.1s\n",
      "[CV 5/5] END algorithm=kd_tree, n_neighbors=21, weights=uniform;, score=0.836 total time=   0.1s\n",
      "[CV 1/5] END algorithm=kd_tree, n_neighbors=21, weights=distance;, score=0.829 total time=   0.1s\n",
      "[CV 2/5] END algorithm=kd_tree, n_neighbors=21, weights=distance;, score=0.815 total time=   0.1s\n",
      "[CV 3/5] END algorithm=kd_tree, n_neighbors=21, weights=distance;, score=0.834 total time=   0.1s\n",
      "[CV 4/5] END algorithm=kd_tree, n_neighbors=21, weights=distance;, score=0.831 total time=   0.1s\n",
      "[CV 5/5] END algorithm=kd_tree, n_neighbors=21, weights=distance;, score=0.838 total time=   0.1s\n",
      "[CV 1/5] END algorithm=kd_tree, n_neighbors=22, weights=uniform;, score=0.826 total time=   0.1s\n",
      "[CV 2/5] END algorithm=kd_tree, n_neighbors=22, weights=uniform;, score=0.806 total time=   0.1s\n",
      "[CV 3/5] END algorithm=kd_tree, n_neighbors=22, weights=uniform;, score=0.829 total time=   0.1s\n",
      "[CV 4/5] END algorithm=kd_tree, n_neighbors=22, weights=uniform;, score=0.829 total time=   0.1s\n",
      "[CV 5/5] END algorithm=kd_tree, n_neighbors=22, weights=uniform;, score=0.831 total time=   0.1s\n",
      "[CV 1/5] END algorithm=kd_tree, n_neighbors=22, weights=distance;, score=0.829 total time=   0.1s\n",
      "[CV 2/5] END algorithm=kd_tree, n_neighbors=22, weights=distance;, score=0.816 total time=   0.1s\n",
      "[CV 3/5] END algorithm=kd_tree, n_neighbors=22, weights=distance;, score=0.834 total time=   0.1s\n",
      "[CV 4/5] END algorithm=kd_tree, n_neighbors=22, weights=distance;, score=0.830 total time=   0.1s\n",
      "[CV 5/5] END algorithm=kd_tree, n_neighbors=22, weights=distance;, score=0.836 total time=   0.1s\n",
      "[CV 1/5] END algorithm=kd_tree, n_neighbors=23, weights=uniform;, score=0.825 total time=   0.1s\n",
      "[CV 2/5] END algorithm=kd_tree, n_neighbors=23, weights=uniform;, score=0.809 total time=   0.1s\n",
      "[CV 3/5] END algorithm=kd_tree, n_neighbors=23, weights=uniform;, score=0.831 total time=   0.1s\n",
      "[CV 4/5] END algorithm=kd_tree, n_neighbors=23, weights=uniform;, score=0.827 total time=   0.1s\n",
      "[CV 5/5] END algorithm=kd_tree, n_neighbors=23, weights=uniform;, score=0.831 total time=   0.1s\n",
      "[CV 1/5] END algorithm=kd_tree, n_neighbors=23, weights=distance;, score=0.827 total time=   0.1s\n",
      "[CV 2/5] END algorithm=kd_tree, n_neighbors=23, weights=distance;, score=0.814 total time=   0.1s\n",
      "[CV 3/5] END algorithm=kd_tree, n_neighbors=23, weights=distance;, score=0.834 total time=   0.1s\n",
      "[CV 4/5] END algorithm=kd_tree, n_neighbors=23, weights=distance;, score=0.829 total time=   0.1s\n",
      "[CV 5/5] END algorithm=kd_tree, n_neighbors=23, weights=distance;, score=0.835 total time=   0.1s\n",
      "[CV 1/5] END algorithm=kd_tree, n_neighbors=24, weights=uniform;, score=0.822 total time=   0.1s\n",
      "[CV 2/5] END algorithm=kd_tree, n_neighbors=24, weights=uniform;, score=0.808 total time=   0.1s\n",
      "[CV 3/5] END algorithm=kd_tree, n_neighbors=24, weights=uniform;, score=0.826 total time=   0.1s\n",
      "[CV 4/5] END algorithm=kd_tree, n_neighbors=24, weights=uniform;, score=0.826 total time=   0.1s\n",
      "[CV 5/5] END algorithm=kd_tree, n_neighbors=24, weights=uniform;, score=0.831 total time=   0.1s\n",
      "[CV 1/5] END algorithm=kd_tree, n_neighbors=24, weights=distance;, score=0.826 total time=   0.1s\n",
      "[CV 2/5] END algorithm=kd_tree, n_neighbors=24, weights=distance;, score=0.814 total time=   0.1s\n",
      "[CV 3/5] END algorithm=kd_tree, n_neighbors=24, weights=distance;, score=0.831 total time=   0.1s\n",
      "[CV 4/5] END algorithm=kd_tree, n_neighbors=24, weights=distance;, score=0.829 total time=   0.1s\n",
      "[CV 5/5] END algorithm=kd_tree, n_neighbors=24, weights=distance;, score=0.836 total time=   0.1s\n",
      "[CV 1/5] END algorithm=kd_tree, n_neighbors=25, weights=uniform;, score=0.823 total time=   0.1s\n",
      "[CV 2/5] END algorithm=kd_tree, n_neighbors=25, weights=uniform;, score=0.809 total time=   0.1s\n",
      "[CV 3/5] END algorithm=kd_tree, n_neighbors=25, weights=uniform;, score=0.829 total time=   0.1s\n",
      "[CV 4/5] END algorithm=kd_tree, n_neighbors=25, weights=uniform;, score=0.822 total time=   0.1s\n",
      "[CV 5/5] END algorithm=kd_tree, n_neighbors=25, weights=uniform;, score=0.830 total time=   0.1s\n",
      "[CV 1/5] END algorithm=kd_tree, n_neighbors=25, weights=distance;, score=0.826 total time=   0.1s\n",
      "[CV 2/5] END algorithm=kd_tree, n_neighbors=25, weights=distance;, score=0.813 total time=   0.1s\n",
      "[CV 3/5] END algorithm=kd_tree, n_neighbors=25, weights=distance;, score=0.832 total time=   0.1s\n",
      "[CV 4/5] END algorithm=kd_tree, n_neighbors=25, weights=distance;, score=0.823 total time=   0.1s\n",
      "[CV 5/5] END algorithm=kd_tree, n_neighbors=25, weights=distance;, score=0.832 total time=   0.1s\n",
      "[CV 1/5] END algorithm=kd_tree, n_neighbors=26, weights=uniform;, score=0.822 total time=   0.1s\n"
     ]
    },
    {
     "name": "stdout",
     "output_type": "stream",
     "text": [
      "[CV 2/5] END algorithm=kd_tree, n_neighbors=26, weights=uniform;, score=0.809 total time=   0.1s\n",
      "[CV 3/5] END algorithm=kd_tree, n_neighbors=26, weights=uniform;, score=0.826 total time=   0.1s\n",
      "[CV 4/5] END algorithm=kd_tree, n_neighbors=26, weights=uniform;, score=0.822 total time=   0.1s\n",
      "[CV 5/5] END algorithm=kd_tree, n_neighbors=26, weights=uniform;, score=0.829 total time=   0.1s\n",
      "[CV 1/5] END algorithm=kd_tree, n_neighbors=26, weights=distance;, score=0.824 total time=   0.1s\n",
      "[CV 2/5] END algorithm=kd_tree, n_neighbors=26, weights=distance;, score=0.810 total time=   0.1s\n",
      "[CV 3/5] END algorithm=kd_tree, n_neighbors=26, weights=distance;, score=0.834 total time=   0.1s\n",
      "[CV 4/5] END algorithm=kd_tree, n_neighbors=26, weights=distance;, score=0.823 total time=   0.1s\n",
      "[CV 5/5] END algorithm=kd_tree, n_neighbors=26, weights=distance;, score=0.832 total time=   0.1s\n",
      "[CV 1/5] END algorithm=kd_tree, n_neighbors=27, weights=uniform;, score=0.822 total time=   0.1s\n",
      "[CV 2/5] END algorithm=kd_tree, n_neighbors=27, weights=uniform;, score=0.809 total time=   0.1s\n",
      "[CV 3/5] END algorithm=kd_tree, n_neighbors=27, weights=uniform;, score=0.827 total time=   0.1s\n",
      "[CV 4/5] END algorithm=kd_tree, n_neighbors=27, weights=uniform;, score=0.821 total time=   0.1s\n",
      "[CV 5/5] END algorithm=kd_tree, n_neighbors=27, weights=uniform;, score=0.831 total time=   0.1s\n",
      "[CV 1/5] END algorithm=kd_tree, n_neighbors=27, weights=distance;, score=0.824 total time=   0.1s\n",
      "[CV 2/5] END algorithm=kd_tree, n_neighbors=27, weights=distance;, score=0.812 total time=   0.1s\n",
      "[CV 3/5] END algorithm=kd_tree, n_neighbors=27, weights=distance;, score=0.830 total time=   0.1s\n",
      "[CV 4/5] END algorithm=kd_tree, n_neighbors=27, weights=distance;, score=0.821 total time=   0.1s\n",
      "[CV 5/5] END algorithm=kd_tree, n_neighbors=27, weights=distance;, score=0.831 total time=   0.1s\n",
      "[CV 1/5] END algorithm=kd_tree, n_neighbors=28, weights=uniform;, score=0.819 total time=   0.1s\n",
      "[CV 2/5] END algorithm=kd_tree, n_neighbors=28, weights=uniform;, score=0.810 total time=   0.1s\n",
      "[CV 3/5] END algorithm=kd_tree, n_neighbors=28, weights=uniform;, score=0.825 total time=   0.1s\n",
      "[CV 4/5] END algorithm=kd_tree, n_neighbors=28, weights=uniform;, score=0.823 total time=   0.1s\n",
      "[CV 5/5] END algorithm=kd_tree, n_neighbors=28, weights=uniform;, score=0.831 total time=   0.1s\n",
      "[CV 1/5] END algorithm=kd_tree, n_neighbors=28, weights=distance;, score=0.825 total time=   0.1s\n",
      "[CV 2/5] END algorithm=kd_tree, n_neighbors=28, weights=distance;, score=0.811 total time=   0.1s\n",
      "[CV 3/5] END algorithm=kd_tree, n_neighbors=28, weights=distance;, score=0.830 total time=   0.1s\n",
      "[CV 4/5] END algorithm=kd_tree, n_neighbors=28, weights=distance;, score=0.823 total time=   0.1s\n",
      "[CV 5/5] END algorithm=kd_tree, n_neighbors=28, weights=distance;, score=0.831 total time=   0.1s\n",
      "[CV 1/5] END algorithm=kd_tree, n_neighbors=29, weights=uniform;, score=0.824 total time=   0.1s\n",
      "[CV 2/5] END algorithm=kd_tree, n_neighbors=29, weights=uniform;, score=0.809 total time=   0.1s\n",
      "[CV 3/5] END algorithm=kd_tree, n_neighbors=29, weights=uniform;, score=0.831 total time=   0.1s\n",
      "[CV 4/5] END algorithm=kd_tree, n_neighbors=29, weights=uniform;, score=0.821 total time=   0.1s\n",
      "[CV 5/5] END algorithm=kd_tree, n_neighbors=29, weights=uniform;, score=0.826 total time=   0.1s\n",
      "[CV 1/5] END algorithm=kd_tree, n_neighbors=29, weights=distance;, score=0.824 total time=   0.1s\n",
      "[CV 2/5] END algorithm=kd_tree, n_neighbors=29, weights=distance;, score=0.810 total time=   0.1s\n",
      "[CV 3/5] END algorithm=kd_tree, n_neighbors=29, weights=distance;, score=0.831 total time=   0.1s\n",
      "[CV 4/5] END algorithm=kd_tree, n_neighbors=29, weights=distance;, score=0.824 total time=   0.1s\n",
      "[CV 5/5] END algorithm=kd_tree, n_neighbors=29, weights=distance;, score=0.829 total time=   0.1s\n",
      "[CV 1/5] END algorithm=kd_tree, n_neighbors=30, weights=uniform;, score=0.821 total time=   0.1s\n",
      "[CV 2/5] END algorithm=kd_tree, n_neighbors=30, weights=uniform;, score=0.808 total time=   0.1s\n",
      "[CV 3/5] END algorithm=kd_tree, n_neighbors=30, weights=uniform;, score=0.825 total time=   0.1s\n",
      "[CV 4/5] END algorithm=kd_tree, n_neighbors=30, weights=uniform;, score=0.822 total time=   0.1s\n",
      "[CV 5/5] END algorithm=kd_tree, n_neighbors=30, weights=uniform;, score=0.829 total time=   0.1s\n",
      "[CV 1/5] END algorithm=kd_tree, n_neighbors=30, weights=distance;, score=0.826 total time=   0.1s\n",
      "[CV 2/5] END algorithm=kd_tree, n_neighbors=30, weights=distance;, score=0.811 total time=   0.1s\n",
      "[CV 3/5] END algorithm=kd_tree, n_neighbors=30, weights=distance;, score=0.829 total time=   0.1s\n",
      "[CV 4/5] END algorithm=kd_tree, n_neighbors=30, weights=distance;, score=0.822 total time=   0.1s\n",
      "[CV 5/5] END algorithm=kd_tree, n_neighbors=30, weights=distance;, score=0.831 total time=   0.1s\n",
      "[CV 1/5] END algorithm=brute, n_neighbors=1, weights=uniform;, score=0.770 total time=   0.2s\n",
      "[CV 2/5] END algorithm=brute, n_neighbors=1, weights=uniform;, score=0.775 total time=   0.1s\n",
      "[CV 3/5] END algorithm=brute, n_neighbors=1, weights=uniform;, score=0.805 total time=   0.1s\n",
      "[CV 4/5] END algorithm=brute, n_neighbors=1, weights=uniform;, score=0.775 total time=   0.1s\n",
      "[CV 5/5] END algorithm=brute, n_neighbors=1, weights=uniform;, score=0.796 total time=   0.2s\n",
      "[CV 1/5] END algorithm=brute, n_neighbors=1, weights=distance;, score=0.770 total time=   0.1s\n",
      "[CV 2/5] END algorithm=brute, n_neighbors=1, weights=distance;, score=0.775 total time=   0.1s\n",
      "[CV 3/5] END algorithm=brute, n_neighbors=1, weights=distance;, score=0.805 total time=   0.1s\n",
      "[CV 4/5] END algorithm=brute, n_neighbors=1, weights=distance;, score=0.775 total time=   0.1s\n",
      "[CV 5/5] END algorithm=brute, n_neighbors=1, weights=distance;, score=0.796 total time=   0.1s\n",
      "[CV 1/5] END algorithm=brute, n_neighbors=2, weights=uniform;, score=0.811 total time=   0.1s\n",
      "[CV 2/5] END algorithm=brute, n_neighbors=2, weights=uniform;, score=0.814 total time=   0.1s\n",
      "[CV 3/5] END algorithm=brute, n_neighbors=2, weights=uniform;, score=0.819 total time=   0.2s\n",
      "[CV 4/5] END algorithm=brute, n_neighbors=2, weights=uniform;, score=0.812 total time=   0.1s\n",
      "[CV 5/5] END algorithm=brute, n_neighbors=2, weights=uniform;, score=0.818 total time=   0.1s\n",
      "[CV 1/5] END algorithm=brute, n_neighbors=2, weights=distance;, score=0.770 total time=   0.1s\n",
      "[CV 2/5] END algorithm=brute, n_neighbors=2, weights=distance;, score=0.775 total time=   0.1s\n",
      "[CV 3/5] END algorithm=brute, n_neighbors=2, weights=distance;, score=0.805 total time=   0.1s\n",
      "[CV 4/5] END algorithm=brute, n_neighbors=2, weights=distance;, score=0.775 total time=   0.1s\n",
      "[CV 5/5] END algorithm=brute, n_neighbors=2, weights=distance;, score=0.796 total time=   0.1s\n",
      "[CV 1/5] END algorithm=brute, n_neighbors=3, weights=uniform;, score=0.802 total time=   0.2s\n",
      "[CV 2/5] END algorithm=brute, n_neighbors=3, weights=uniform;, score=0.806 total time=   0.2s\n",
      "[CV 3/5] END algorithm=brute, n_neighbors=3, weights=uniform;, score=0.820 total time=   0.1s\n",
      "[CV 4/5] END algorithm=brute, n_neighbors=3, weights=uniform;, score=0.814 total time=   0.2s\n",
      "[CV 5/5] END algorithm=brute, n_neighbors=3, weights=uniform;, score=0.814 total time=   0.2s\n",
      "[CV 1/5] END algorithm=brute, n_neighbors=3, weights=distance;, score=0.802 total time=   0.1s\n",
      "[CV 2/5] END algorithm=brute, n_neighbors=3, weights=distance;, score=0.804 total time=   0.1s\n",
      "[CV 3/5] END algorithm=brute, n_neighbors=3, weights=distance;, score=0.819 total time=   0.1s\n",
      "[CV 4/5] END algorithm=brute, n_neighbors=3, weights=distance;, score=0.813 total time=   0.1s\n",
      "[CV 5/5] END algorithm=brute, n_neighbors=3, weights=distance;, score=0.819 total time=   0.1s\n",
      "[CV 1/5] END algorithm=brute, n_neighbors=4, weights=uniform;, score=0.816 total time=   0.2s\n",
      "[CV 2/5] END algorithm=brute, n_neighbors=4, weights=uniform;, score=0.804 total time=   0.2s\n",
      "[CV 3/5] END algorithm=brute, n_neighbors=4, weights=uniform;, score=0.827 total time=   0.2s\n",
      "[CV 4/5] END algorithm=brute, n_neighbors=4, weights=uniform;, score=0.821 total time=   0.2s\n",
      "[CV 5/5] END algorithm=brute, n_neighbors=4, weights=uniform;, score=0.821 total time=   0.2s\n",
      "[CV 1/5] END algorithm=brute, n_neighbors=4, weights=distance;, score=0.811 total time=   0.1s\n",
      "[CV 2/5] END algorithm=brute, n_neighbors=4, weights=distance;, score=0.807 total time=   0.1s\n"
     ]
    },
    {
     "name": "stdout",
     "output_type": "stream",
     "text": [
      "[CV 3/5] END algorithm=brute, n_neighbors=4, weights=distance;, score=0.819 total time=   0.1s\n",
      "[CV 4/5] END algorithm=brute, n_neighbors=4, weights=distance;, score=0.811 total time=   0.2s\n",
      "[CV 5/5] END algorithm=brute, n_neighbors=4, weights=distance;, score=0.812 total time=   0.1s\n",
      "[CV 1/5] END algorithm=brute, n_neighbors=5, weights=uniform;, score=0.812 total time=   0.2s\n",
      "[CV 2/5] END algorithm=brute, n_neighbors=5, weights=uniform;, score=0.807 total time=   0.2s\n",
      "[CV 3/5] END algorithm=brute, n_neighbors=5, weights=uniform;, score=0.827 total time=   0.2s\n",
      "[CV 4/5] END algorithm=brute, n_neighbors=5, weights=uniform;, score=0.819 total time=   0.2s\n",
      "[CV 5/5] END algorithm=brute, n_neighbors=5, weights=uniform;, score=0.821 total time=   0.2s\n",
      "[CV 1/5] END algorithm=brute, n_neighbors=5, weights=distance;, score=0.811 total time=   0.1s\n",
      "[CV 2/5] END algorithm=brute, n_neighbors=5, weights=distance;, score=0.808 total time=   0.1s\n",
      "[CV 3/5] END algorithm=brute, n_neighbors=5, weights=distance;, score=0.828 total time=   0.1s\n",
      "[CV 4/5] END algorithm=brute, n_neighbors=5, weights=distance;, score=0.821 total time=   0.1s\n",
      "[CV 5/5] END algorithm=brute, n_neighbors=5, weights=distance;, score=0.822 total time=   0.1s\n",
      "[CV 1/5] END algorithm=brute, n_neighbors=6, weights=uniform;, score=0.820 total time=   0.2s\n",
      "[CV 2/5] END algorithm=brute, n_neighbors=6, weights=uniform;, score=0.811 total time=   0.2s\n",
      "[CV 3/5] END algorithm=brute, n_neighbors=6, weights=uniform;, score=0.824 total time=   0.2s\n",
      "[CV 4/5] END algorithm=brute, n_neighbors=6, weights=uniform;, score=0.826 total time=   0.2s\n",
      "[CV 5/5] END algorithm=brute, n_neighbors=6, weights=uniform;, score=0.825 total time=   0.2s\n",
      "[CV 1/5] END algorithm=brute, n_neighbors=6, weights=distance;, score=0.816 total time=   0.1s\n",
      "[CV 2/5] END algorithm=brute, n_neighbors=6, weights=distance;, score=0.811 total time=   0.1s\n",
      "[CV 3/5] END algorithm=brute, n_neighbors=6, weights=distance;, score=0.833 total time=   0.1s\n",
      "[CV 4/5] END algorithm=brute, n_neighbors=6, weights=distance;, score=0.829 total time=   0.1s\n",
      "[CV 5/5] END algorithm=brute, n_neighbors=6, weights=distance;, score=0.826 total time=   0.1s\n",
      "[CV 1/5] END algorithm=brute, n_neighbors=7, weights=uniform;, score=0.819 total time=   0.2s\n",
      "[CV 2/5] END algorithm=brute, n_neighbors=7, weights=uniform;, score=0.816 total time=   0.2s\n",
      "[CV 3/5] END algorithm=brute, n_neighbors=7, weights=uniform;, score=0.821 total time=   0.2s\n",
      "[CV 4/5] END algorithm=brute, n_neighbors=7, weights=uniform;, score=0.826 total time=   0.2s\n",
      "[CV 5/5] END algorithm=brute, n_neighbors=7, weights=uniform;, score=0.829 total time=   0.2s\n",
      "[CV 1/5] END algorithm=brute, n_neighbors=7, weights=distance;, score=0.819 total time=   0.1s\n",
      "[CV 2/5] END algorithm=brute, n_neighbors=7, weights=distance;, score=0.816 total time=   0.1s\n",
      "[CV 3/5] END algorithm=brute, n_neighbors=7, weights=distance;, score=0.824 total time=   0.1s\n",
      "[CV 4/5] END algorithm=brute, n_neighbors=7, weights=distance;, score=0.827 total time=   0.1s\n",
      "[CV 5/5] END algorithm=brute, n_neighbors=7, weights=distance;, score=0.829 total time=   0.2s\n",
      "[CV 1/5] END algorithm=brute, n_neighbors=8, weights=uniform;, score=0.821 total time=   0.2s\n",
      "[CV 2/5] END algorithm=brute, n_neighbors=8, weights=uniform;, score=0.811 total time=   0.2s\n",
      "[CV 3/5] END algorithm=brute, n_neighbors=8, weights=uniform;, score=0.822 total time=   0.2s\n",
      "[CV 4/5] END algorithm=brute, n_neighbors=8, weights=uniform;, score=0.831 total time=   0.2s\n",
      "[CV 5/5] END algorithm=brute, n_neighbors=8, weights=uniform;, score=0.828 total time=   0.2s\n",
      "[CV 1/5] END algorithm=brute, n_neighbors=8, weights=distance;, score=0.829 total time=   0.1s\n",
      "[CV 2/5] END algorithm=brute, n_neighbors=8, weights=distance;, score=0.817 total time=   0.1s\n",
      "[CV 3/5] END algorithm=brute, n_neighbors=8, weights=distance;, score=0.831 total time=   0.2s\n",
      "[CV 4/5] END algorithm=brute, n_neighbors=8, weights=distance;, score=0.831 total time=   0.1s\n",
      "[CV 5/5] END algorithm=brute, n_neighbors=8, weights=distance;, score=0.831 total time=   0.1s\n",
      "[CV 1/5] END algorithm=brute, n_neighbors=9, weights=uniform;, score=0.829 total time=   0.2s\n",
      "[CV 2/5] END algorithm=brute, n_neighbors=9, weights=uniform;, score=0.811 total time=   0.2s\n",
      "[CV 3/5] END algorithm=brute, n_neighbors=9, weights=uniform;, score=0.830 total time=   0.2s\n",
      "[CV 4/5] END algorithm=brute, n_neighbors=9, weights=uniform;, score=0.834 total time=   0.3s\n",
      "[CV 5/5] END algorithm=brute, n_neighbors=9, weights=uniform;, score=0.831 total time=   0.3s\n",
      "[CV 1/5] END algorithm=brute, n_neighbors=9, weights=distance;, score=0.829 total time=   0.2s\n",
      "[CV 2/5] END algorithm=brute, n_neighbors=9, weights=distance;, score=0.812 total time=   0.1s\n",
      "[CV 3/5] END algorithm=brute, n_neighbors=9, weights=distance;, score=0.833 total time=   0.2s\n",
      "[CV 4/5] END algorithm=brute, n_neighbors=9, weights=distance;, score=0.834 total time=   0.1s\n",
      "[CV 5/5] END algorithm=brute, n_neighbors=9, weights=distance;, score=0.831 total time=   0.2s\n",
      "[CV 1/5] END algorithm=brute, n_neighbors=10, weights=uniform;, score=0.819 total time=   0.4s\n",
      "[CV 2/5] END algorithm=brute, n_neighbors=10, weights=uniform;, score=0.813 total time=   0.2s\n",
      "[CV 3/5] END algorithm=brute, n_neighbors=10, weights=uniform;, score=0.825 total time=   0.2s\n",
      "[CV 4/5] END algorithm=brute, n_neighbors=10, weights=uniform;, score=0.822 total time=   0.2s\n",
      "[CV 5/5] END algorithm=brute, n_neighbors=10, weights=uniform;, score=0.831 total time=   0.2s\n",
      "[CV 1/5] END algorithm=brute, n_neighbors=10, weights=distance;, score=0.830 total time=   0.1s\n",
      "[CV 2/5] END algorithm=brute, n_neighbors=10, weights=distance;, score=0.816 total time=   0.1s\n",
      "[CV 3/5] END algorithm=brute, n_neighbors=10, weights=distance;, score=0.838 total time=   0.2s\n",
      "[CV 4/5] END algorithm=brute, n_neighbors=10, weights=distance;, score=0.829 total time=   0.2s\n",
      "[CV 5/5] END algorithm=brute, n_neighbors=10, weights=distance;, score=0.835 total time=   0.2s\n",
      "[CV 1/5] END algorithm=brute, n_neighbors=11, weights=uniform;, score=0.825 total time=   0.2s\n",
      "[CV 2/5] END algorithm=brute, n_neighbors=11, weights=uniform;, score=0.813 total time=   0.2s\n",
      "[CV 3/5] END algorithm=brute, n_neighbors=11, weights=uniform;, score=0.831 total time=   0.2s\n",
      "[CV 4/5] END algorithm=brute, n_neighbors=11, weights=uniform;, score=0.829 total time=   0.3s\n",
      "[CV 5/5] END algorithm=brute, n_neighbors=11, weights=uniform;, score=0.833 total time=   0.2s\n",
      "[CV 1/5] END algorithm=brute, n_neighbors=11, weights=distance;, score=0.827 total time=   0.2s\n",
      "[CV 2/5] END algorithm=brute, n_neighbors=11, weights=distance;, score=0.811 total time=   0.2s\n",
      "[CV 3/5] END algorithm=brute, n_neighbors=11, weights=distance;, score=0.831 total time=   0.2s\n",
      "[CV 4/5] END algorithm=brute, n_neighbors=11, weights=distance;, score=0.830 total time=   0.2s\n",
      "[CV 5/5] END algorithm=brute, n_neighbors=11, weights=distance;, score=0.831 total time=   0.2s\n",
      "[CV 1/5] END algorithm=brute, n_neighbors=12, weights=uniform;, score=0.824 total time=   0.3s\n",
      "[CV 2/5] END algorithm=brute, n_neighbors=12, weights=uniform;, score=0.811 total time=   0.2s\n",
      "[CV 3/5] END algorithm=brute, n_neighbors=12, weights=uniform;, score=0.832 total time=   0.2s\n",
      "[CV 4/5] END algorithm=brute, n_neighbors=12, weights=uniform;, score=0.824 total time=   0.3s\n",
      "[CV 5/5] END algorithm=brute, n_neighbors=12, weights=uniform;, score=0.832 total time=   0.2s\n",
      "[CV 1/5] END algorithm=brute, n_neighbors=12, weights=distance;, score=0.834 total time=   0.2s\n",
      "[CV 2/5] END algorithm=brute, n_neighbors=12, weights=distance;, score=0.814 total time=   0.2s\n",
      "[CV 3/5] END algorithm=brute, n_neighbors=12, weights=distance;, score=0.838 total time=   0.2s\n",
      "[CV 4/5] END algorithm=brute, n_neighbors=12, weights=distance;, score=0.830 total time=   0.2s\n",
      "[CV 5/5] END algorithm=brute, n_neighbors=12, weights=distance;, score=0.832 total time=   0.2s\n",
      "[CV 1/5] END algorithm=brute, n_neighbors=13, weights=uniform;, score=0.829 total time=   0.2s\n",
      "[CV 2/5] END algorithm=brute, n_neighbors=13, weights=uniform;, score=0.814 total time=   0.2s\n",
      "[CV 3/5] END algorithm=brute, n_neighbors=13, weights=uniform;, score=0.837 total time=   0.2s\n",
      "[CV 4/5] END algorithm=brute, n_neighbors=13, weights=uniform;, score=0.828 total time=   0.3s\n"
     ]
    },
    {
     "name": "stdout",
     "output_type": "stream",
     "text": [
      "[CV 5/5] END algorithm=brute, n_neighbors=13, weights=uniform;, score=0.836 total time=   0.2s\n",
      "[CV 1/5] END algorithm=brute, n_neighbors=13, weights=distance;, score=0.831 total time=   0.2s\n",
      "[CV 2/5] END algorithm=brute, n_neighbors=13, weights=distance;, score=0.819 total time=   0.3s\n",
      "[CV 3/5] END algorithm=brute, n_neighbors=13, weights=distance;, score=0.835 total time=   0.2s\n",
      "[CV 4/5] END algorithm=brute, n_neighbors=13, weights=distance;, score=0.828 total time=   0.2s\n",
      "[CV 5/5] END algorithm=brute, n_neighbors=13, weights=distance;, score=0.833 total time=   0.2s\n",
      "[CV 1/5] END algorithm=brute, n_neighbors=14, weights=uniform;, score=0.825 total time=   0.2s\n",
      "[CV 2/5] END algorithm=brute, n_neighbors=14, weights=uniform;, score=0.814 total time=   0.2s\n",
      "[CV 3/5] END algorithm=brute, n_neighbors=14, weights=uniform;, score=0.829 total time=   0.2s\n",
      "[CV 4/5] END algorithm=brute, n_neighbors=14, weights=uniform;, score=0.829 total time=   0.2s\n",
      "[CV 5/5] END algorithm=brute, n_neighbors=14, weights=uniform;, score=0.836 total time=   0.2s\n",
      "[CV 1/5] END algorithm=brute, n_neighbors=14, weights=distance;, score=0.829 total time=   0.2s\n",
      "[CV 2/5] END algorithm=brute, n_neighbors=14, weights=distance;, score=0.816 total time=   0.1s\n",
      "[CV 3/5] END algorithm=brute, n_neighbors=14, weights=distance;, score=0.836 total time=   0.2s\n",
      "[CV 4/5] END algorithm=brute, n_neighbors=14, weights=distance;, score=0.829 total time=   0.1s\n",
      "[CV 5/5] END algorithm=brute, n_neighbors=14, weights=distance;, score=0.835 total time=   0.2s\n",
      "[CV 1/5] END algorithm=brute, n_neighbors=15, weights=uniform;, score=0.828 total time=   0.2s\n",
      "[CV 2/5] END algorithm=brute, n_neighbors=15, weights=uniform;, score=0.816 total time=   0.2s\n",
      "[CV 3/5] END algorithm=brute, n_neighbors=15, weights=uniform;, score=0.829 total time=   0.2s\n",
      "[CV 4/5] END algorithm=brute, n_neighbors=15, weights=uniform;, score=0.828 total time=   0.2s\n",
      "[CV 5/5] END algorithm=brute, n_neighbors=15, weights=uniform;, score=0.836 total time=   0.2s\n",
      "[CV 1/5] END algorithm=brute, n_neighbors=15, weights=distance;, score=0.834 total time=   0.2s\n",
      "[CV 2/5] END algorithm=brute, n_neighbors=15, weights=distance;, score=0.820 total time=   0.2s\n",
      "[CV 3/5] END algorithm=brute, n_neighbors=15, weights=distance;, score=0.832 total time=   0.2s\n",
      "[CV 4/5] END algorithm=brute, n_neighbors=15, weights=distance;, score=0.827 total time=   0.2s\n",
      "[CV 5/5] END algorithm=brute, n_neighbors=15, weights=distance;, score=0.834 total time=   0.2s\n",
      "[CV 1/5] END algorithm=brute, n_neighbors=16, weights=uniform;, score=0.828 total time=   0.2s\n",
      "[CV 2/5] END algorithm=brute, n_neighbors=16, weights=uniform;, score=0.814 total time=   0.2s\n",
      "[CV 3/5] END algorithm=brute, n_neighbors=16, weights=uniform;, score=0.825 total time=   0.2s\n",
      "[CV 4/5] END algorithm=brute, n_neighbors=16, weights=uniform;, score=0.829 total time=   0.2s\n",
      "[CV 5/5] END algorithm=brute, n_neighbors=16, weights=uniform;, score=0.834 total time=   0.2s\n",
      "[CV 1/5] END algorithm=brute, n_neighbors=16, weights=distance;, score=0.834 total time=   0.2s\n",
      "[CV 2/5] END algorithm=brute, n_neighbors=16, weights=distance;, score=0.817 total time=   0.2s\n",
      "[CV 3/5] END algorithm=brute, n_neighbors=16, weights=distance;, score=0.834 total time=   0.2s\n",
      "[CV 4/5] END algorithm=brute, n_neighbors=16, weights=distance;, score=0.830 total time=   0.1s\n",
      "[CV 5/5] END algorithm=brute, n_neighbors=16, weights=distance;, score=0.836 total time=   0.1s\n",
      "[CV 1/5] END algorithm=brute, n_neighbors=17, weights=uniform;, score=0.831 total time=   0.3s\n",
      "[CV 2/5] END algorithm=brute, n_neighbors=17, weights=uniform;, score=0.812 total time=   0.2s\n",
      "[CV 3/5] END algorithm=brute, n_neighbors=17, weights=uniform;, score=0.827 total time=   0.3s\n",
      "[CV 4/5] END algorithm=brute, n_neighbors=17, weights=uniform;, score=0.827 total time=   0.2s\n",
      "[CV 5/5] END algorithm=brute, n_neighbors=17, weights=uniform;, score=0.834 total time=   0.2s\n",
      "[CV 1/5] END algorithm=brute, n_neighbors=17, weights=distance;, score=0.833 total time=   0.1s\n",
      "[CV 2/5] END algorithm=brute, n_neighbors=17, weights=distance;, score=0.816 total time=   0.1s\n",
      "[CV 3/5] END algorithm=brute, n_neighbors=17, weights=distance;, score=0.830 total time=   0.2s\n",
      "[CV 4/5] END algorithm=brute, n_neighbors=17, weights=distance;, score=0.829 total time=   0.1s\n",
      "[CV 5/5] END algorithm=brute, n_neighbors=17, weights=distance;, score=0.834 total time=   0.1s\n",
      "[CV 1/5] END algorithm=brute, n_neighbors=18, weights=uniform;, score=0.826 total time=   0.2s\n",
      "[CV 2/5] END algorithm=brute, n_neighbors=18, weights=uniform;, score=0.811 total time=   0.2s\n",
      "[CV 3/5] END algorithm=brute, n_neighbors=18, weights=uniform;, score=0.824 total time=   0.2s\n",
      "[CV 4/5] END algorithm=brute, n_neighbors=18, weights=uniform;, score=0.822 total time=   0.2s\n",
      "[CV 5/5] END algorithm=brute, n_neighbors=18, weights=uniform;, score=0.829 total time=   0.2s\n",
      "[CV 1/5] END algorithm=brute, n_neighbors=18, weights=distance;, score=0.833 total time=   0.1s\n",
      "[CV 2/5] END algorithm=brute, n_neighbors=18, weights=distance;, score=0.815 total time=   0.2s\n",
      "[CV 3/5] END algorithm=brute, n_neighbors=18, weights=distance;, score=0.834 total time=   0.2s\n",
      "[CV 4/5] END algorithm=brute, n_neighbors=18, weights=distance;, score=0.832 total time=   0.2s\n",
      "[CV 5/5] END algorithm=brute, n_neighbors=18, weights=distance;, score=0.836 total time=   0.2s\n",
      "[CV 1/5] END algorithm=brute, n_neighbors=19, weights=uniform;, score=0.829 total time=   0.2s\n",
      "[CV 2/5] END algorithm=brute, n_neighbors=19, weights=uniform;, score=0.811 total time=   0.2s\n",
      "[CV 3/5] END algorithm=brute, n_neighbors=19, weights=uniform;, score=0.828 total time=   0.2s\n",
      "[CV 4/5] END algorithm=brute, n_neighbors=19, weights=uniform;, score=0.824 total time=   0.2s\n",
      "[CV 5/5] END algorithm=brute, n_neighbors=19, weights=uniform;, score=0.834 total time=   0.3s\n",
      "[CV 1/5] END algorithm=brute, n_neighbors=19, weights=distance;, score=0.830 total time=   0.2s\n",
      "[CV 2/5] END algorithm=brute, n_neighbors=19, weights=distance;, score=0.817 total time=   0.1s\n",
      "[CV 3/5] END algorithm=brute, n_neighbors=19, weights=distance;, score=0.832 total time=   0.1s\n",
      "[CV 4/5] END algorithm=brute, n_neighbors=19, weights=distance;, score=0.826 total time=   0.2s\n",
      "[CV 5/5] END algorithm=brute, n_neighbors=19, weights=distance;, score=0.836 total time=   0.2s\n",
      "[CV 1/5] END algorithm=brute, n_neighbors=20, weights=uniform;, score=0.826 total time=   0.2s\n",
      "[CV 2/5] END algorithm=brute, n_neighbors=20, weights=uniform;, score=0.810 total time=   0.2s\n",
      "[CV 3/5] END algorithm=brute, n_neighbors=20, weights=uniform;, score=0.826 total time=   0.2s\n",
      "[CV 4/5] END algorithm=brute, n_neighbors=20, weights=uniform;, score=0.825 total time=   0.2s\n",
      "[CV 5/5] END algorithm=brute, n_neighbors=20, weights=uniform;, score=0.829 total time=   0.2s\n",
      "[CV 1/5] END algorithm=brute, n_neighbors=20, weights=distance;, score=0.831 total time=   0.1s\n",
      "[CV 2/5] END algorithm=brute, n_neighbors=20, weights=distance;, score=0.814 total time=   0.2s\n",
      "[CV 3/5] END algorithm=brute, n_neighbors=20, weights=distance;, score=0.829 total time=   0.1s\n",
      "[CV 4/5] END algorithm=brute, n_neighbors=20, weights=distance;, score=0.829 total time=   0.1s\n",
      "[CV 5/5] END algorithm=brute, n_neighbors=20, weights=distance;, score=0.837 total time=   0.2s\n",
      "[CV 1/5] END algorithm=brute, n_neighbors=21, weights=uniform;, score=0.826 total time=   0.2s\n",
      "[CV 2/5] END algorithm=brute, n_neighbors=21, weights=uniform;, score=0.810 total time=   0.2s\n",
      "[CV 3/5] END algorithm=brute, n_neighbors=21, weights=uniform;, score=0.830 total time=   0.2s\n",
      "[CV 4/5] END algorithm=brute, n_neighbors=21, weights=uniform;, score=0.829 total time=   0.2s\n",
      "[CV 5/5] END algorithm=brute, n_neighbors=21, weights=uniform;, score=0.836 total time=   0.2s\n",
      "[CV 1/5] END algorithm=brute, n_neighbors=21, weights=distance;, score=0.829 total time=   0.1s\n",
      "[CV 2/5] END algorithm=brute, n_neighbors=21, weights=distance;, score=0.815 total time=   0.1s\n",
      "[CV 3/5] END algorithm=brute, n_neighbors=21, weights=distance;, score=0.834 total time=   0.2s\n",
      "[CV 4/5] END algorithm=brute, n_neighbors=21, weights=distance;, score=0.831 total time=   0.2s\n",
      "[CV 5/5] END algorithm=brute, n_neighbors=21, weights=distance;, score=0.838 total time=   0.1s\n"
     ]
    },
    {
     "name": "stdout",
     "output_type": "stream",
     "text": [
      "[CV 1/5] END algorithm=brute, n_neighbors=22, weights=uniform;, score=0.826 total time=   0.2s\n",
      "[CV 2/5] END algorithm=brute, n_neighbors=22, weights=uniform;, score=0.806 total time=   0.2s\n",
      "[CV 3/5] END algorithm=brute, n_neighbors=22, weights=uniform;, score=0.829 total time=   0.2s\n",
      "[CV 4/5] END algorithm=brute, n_neighbors=22, weights=uniform;, score=0.829 total time=   0.2s\n",
      "[CV 5/5] END algorithm=brute, n_neighbors=22, weights=uniform;, score=0.831 total time=   0.2s\n",
      "[CV 1/5] END algorithm=brute, n_neighbors=22, weights=distance;, score=0.829 total time=   0.1s\n",
      "[CV 2/5] END algorithm=brute, n_neighbors=22, weights=distance;, score=0.816 total time=   0.2s\n",
      "[CV 3/5] END algorithm=brute, n_neighbors=22, weights=distance;, score=0.834 total time=   0.2s\n",
      "[CV 4/5] END algorithm=brute, n_neighbors=22, weights=distance;, score=0.830 total time=   0.2s\n",
      "[CV 5/5] END algorithm=brute, n_neighbors=22, weights=distance;, score=0.836 total time=   0.1s\n",
      "[CV 1/5] END algorithm=brute, n_neighbors=23, weights=uniform;, score=0.825 total time=   0.2s\n",
      "[CV 2/5] END algorithm=brute, n_neighbors=23, weights=uniform;, score=0.809 total time=   0.2s\n",
      "[CV 3/5] END algorithm=brute, n_neighbors=23, weights=uniform;, score=0.831 total time=   0.2s\n",
      "[CV 4/5] END algorithm=brute, n_neighbors=23, weights=uniform;, score=0.827 total time=   0.2s\n",
      "[CV 5/5] END algorithm=brute, n_neighbors=23, weights=uniform;, score=0.831 total time=   0.2s\n",
      "[CV 1/5] END algorithm=brute, n_neighbors=23, weights=distance;, score=0.827 total time=   0.2s\n",
      "[CV 2/5] END algorithm=brute, n_neighbors=23, weights=distance;, score=0.814 total time=   0.1s\n",
      "[CV 3/5] END algorithm=brute, n_neighbors=23, weights=distance;, score=0.834 total time=   0.2s\n",
      "[CV 4/5] END algorithm=brute, n_neighbors=23, weights=distance;, score=0.829 total time=   0.2s\n",
      "[CV 5/5] END algorithm=brute, n_neighbors=23, weights=distance;, score=0.835 total time=   0.2s\n",
      "[CV 1/5] END algorithm=brute, n_neighbors=24, weights=uniform;, score=0.822 total time=   0.2s\n",
      "[CV 2/5] END algorithm=brute, n_neighbors=24, weights=uniform;, score=0.808 total time=   0.2s\n",
      "[CV 3/5] END algorithm=brute, n_neighbors=24, weights=uniform;, score=0.826 total time=   0.2s\n",
      "[CV 4/5] END algorithm=brute, n_neighbors=24, weights=uniform;, score=0.826 total time=   0.2s\n",
      "[CV 5/5] END algorithm=brute, n_neighbors=24, weights=uniform;, score=0.831 total time=   0.2s\n",
      "[CV 1/5] END algorithm=brute, n_neighbors=24, weights=distance;, score=0.826 total time=   0.1s\n",
      "[CV 2/5] END algorithm=brute, n_neighbors=24, weights=distance;, score=0.814 total time=   0.1s\n",
      "[CV 3/5] END algorithm=brute, n_neighbors=24, weights=distance;, score=0.831 total time=   0.2s\n",
      "[CV 4/5] END algorithm=brute, n_neighbors=24, weights=distance;, score=0.829 total time=   0.2s\n",
      "[CV 5/5] END algorithm=brute, n_neighbors=24, weights=distance;, score=0.836 total time=   0.2s\n",
      "[CV 1/5] END algorithm=brute, n_neighbors=25, weights=uniform;, score=0.823 total time=   0.2s\n",
      "[CV 2/5] END algorithm=brute, n_neighbors=25, weights=uniform;, score=0.809 total time=   0.2s\n",
      "[CV 3/5] END algorithm=brute, n_neighbors=25, weights=uniform;, score=0.829 total time=   0.2s\n",
      "[CV 4/5] END algorithm=brute, n_neighbors=25, weights=uniform;, score=0.822 total time=   0.2s\n",
      "[CV 5/5] END algorithm=brute, n_neighbors=25, weights=uniform;, score=0.830 total time=   0.2s\n",
      "[CV 1/5] END algorithm=brute, n_neighbors=25, weights=distance;, score=0.826 total time=   0.1s\n",
      "[CV 2/5] END algorithm=brute, n_neighbors=25, weights=distance;, score=0.813 total time=   0.2s\n",
      "[CV 3/5] END algorithm=brute, n_neighbors=25, weights=distance;, score=0.832 total time=   0.2s\n",
      "[CV 4/5] END algorithm=brute, n_neighbors=25, weights=distance;, score=0.823 total time=   0.1s\n",
      "[CV 5/5] END algorithm=brute, n_neighbors=25, weights=distance;, score=0.832 total time=   0.1s\n",
      "[CV 1/5] END algorithm=brute, n_neighbors=26, weights=uniform;, score=0.822 total time=   0.2s\n",
      "[CV 2/5] END algorithm=brute, n_neighbors=26, weights=uniform;, score=0.809 total time=   0.2s\n",
      "[CV 3/5] END algorithm=brute, n_neighbors=26, weights=uniform;, score=0.826 total time=   0.2s\n",
      "[CV 4/5] END algorithm=brute, n_neighbors=26, weights=uniform;, score=0.822 total time=   0.2s\n",
      "[CV 5/5] END algorithm=brute, n_neighbors=26, weights=uniform;, score=0.829 total time=   0.2s\n",
      "[CV 1/5] END algorithm=brute, n_neighbors=26, weights=distance;, score=0.824 total time=   0.1s\n",
      "[CV 2/5] END algorithm=brute, n_neighbors=26, weights=distance;, score=0.810 total time=   0.1s\n",
      "[CV 3/5] END algorithm=brute, n_neighbors=26, weights=distance;, score=0.834 total time=   0.2s\n",
      "[CV 4/5] END algorithm=brute, n_neighbors=26, weights=distance;, score=0.823 total time=   0.2s\n",
      "[CV 5/5] END algorithm=brute, n_neighbors=26, weights=distance;, score=0.832 total time=   0.1s\n",
      "[CV 1/5] END algorithm=brute, n_neighbors=27, weights=uniform;, score=0.822 total time=   0.2s\n",
      "[CV 2/5] END algorithm=brute, n_neighbors=27, weights=uniform;, score=0.809 total time=   0.2s\n",
      "[CV 3/5] END algorithm=brute, n_neighbors=27, weights=uniform;, score=0.827 total time=   0.3s\n",
      "[CV 4/5] END algorithm=brute, n_neighbors=27, weights=uniform;, score=0.821 total time=   0.2s\n",
      "[CV 5/5] END algorithm=brute, n_neighbors=27, weights=uniform;, score=0.831 total time=   0.2s\n",
      "[CV 1/5] END algorithm=brute, n_neighbors=27, weights=distance;, score=0.824 total time=   0.1s\n",
      "[CV 2/5] END algorithm=brute, n_neighbors=27, weights=distance;, score=0.812 total time=   0.1s\n",
      "[CV 3/5] END algorithm=brute, n_neighbors=27, weights=distance;, score=0.830 total time=   0.1s\n",
      "[CV 4/5] END algorithm=brute, n_neighbors=27, weights=distance;, score=0.821 total time=   0.1s\n",
      "[CV 5/5] END algorithm=brute, n_neighbors=27, weights=distance;, score=0.831 total time=   0.2s\n",
      "[CV 1/5] END algorithm=brute, n_neighbors=28, weights=uniform;, score=0.819 total time=   0.2s\n",
      "[CV 2/5] END algorithm=brute, n_neighbors=28, weights=uniform;, score=0.810 total time=   0.2s\n",
      "[CV 3/5] END algorithm=brute, n_neighbors=28, weights=uniform;, score=0.825 total time=   0.2s\n",
      "[CV 4/5] END algorithm=brute, n_neighbors=28, weights=uniform;, score=0.823 total time=   0.2s\n",
      "[CV 5/5] END algorithm=brute, n_neighbors=28, weights=uniform;, score=0.831 total time=   0.2s\n",
      "[CV 1/5] END algorithm=brute, n_neighbors=28, weights=distance;, score=0.825 total time=   0.1s\n",
      "[CV 2/5] END algorithm=brute, n_neighbors=28, weights=distance;, score=0.811 total time=   0.2s\n",
      "[CV 3/5] END algorithm=brute, n_neighbors=28, weights=distance;, score=0.830 total time=   0.2s\n",
      "[CV 4/5] END algorithm=brute, n_neighbors=28, weights=distance;, score=0.823 total time=   0.2s\n",
      "[CV 5/5] END algorithm=brute, n_neighbors=28, weights=distance;, score=0.831 total time=   0.2s\n",
      "[CV 1/5] END algorithm=brute, n_neighbors=29, weights=uniform;, score=0.824 total time=   0.2s\n",
      "[CV 2/5] END algorithm=brute, n_neighbors=29, weights=uniform;, score=0.809 total time=   0.2s\n",
      "[CV 3/5] END algorithm=brute, n_neighbors=29, weights=uniform;, score=0.831 total time=   0.2s\n",
      "[CV 4/5] END algorithm=brute, n_neighbors=29, weights=uniform;, score=0.821 total time=   0.2s\n",
      "[CV 5/5] END algorithm=brute, n_neighbors=29, weights=uniform;, score=0.826 total time=   0.2s\n",
      "[CV 1/5] END algorithm=brute, n_neighbors=29, weights=distance;, score=0.824 total time=   0.1s\n",
      "[CV 2/5] END algorithm=brute, n_neighbors=29, weights=distance;, score=0.810 total time=   0.1s\n",
      "[CV 3/5] END algorithm=brute, n_neighbors=29, weights=distance;, score=0.831 total time=   0.2s\n",
      "[CV 4/5] END algorithm=brute, n_neighbors=29, weights=distance;, score=0.824 total time=   0.2s\n",
      "[CV 5/5] END algorithm=brute, n_neighbors=29, weights=distance;, score=0.829 total time=   0.2s\n",
      "[CV 1/5] END algorithm=brute, n_neighbors=30, weights=uniform;, score=0.821 total time=   0.2s\n",
      "[CV 2/5] END algorithm=brute, n_neighbors=30, weights=uniform;, score=0.808 total time=   0.2s\n",
      "[CV 3/5] END algorithm=brute, n_neighbors=30, weights=uniform;, score=0.825 total time=   0.2s\n",
      "[CV 4/5] END algorithm=brute, n_neighbors=30, weights=uniform;, score=0.822 total time=   0.2s\n",
      "[CV 5/5] END algorithm=brute, n_neighbors=30, weights=uniform;, score=0.829 total time=   0.2s\n",
      "[CV 1/5] END algorithm=brute, n_neighbors=30, weights=distance;, score=0.826 total time=   0.1s\n"
     ]
    },
    {
     "name": "stdout",
     "output_type": "stream",
     "text": [
      "[CV 2/5] END algorithm=brute, n_neighbors=30, weights=distance;, score=0.811 total time=   0.1s\n",
      "[CV 3/5] END algorithm=brute, n_neighbors=30, weights=distance;, score=0.829 total time=   0.1s\n",
      "[CV 4/5] END algorithm=brute, n_neighbors=30, weights=distance;, score=0.822 total time=   0.2s\n",
      "[CV 5/5] END algorithm=brute, n_neighbors=30, weights=distance;, score=0.831 total time=   0.1s\n"
     ]
    },
    {
     "data": {
      "text/plain": [
       "GridSearchCV(cv=5, estimator=KNeighborsClassifier(),\n",
       "             param_grid={'algorithm': ['auto', 'ball_tree', 'kd_tree', 'brute'],\n",
       "                         'n_neighbors': [1, 2, 3, 4, 5, 6, 7, 8, 9, 10, 11, 12,\n",
       "                                         13, 14, 15, 16, 17, 18, 19, 20, 21, 22,\n",
       "                                         23, 24, 25, 26, 27, 28, 29, 30],\n",
       "                         'weights': ['uniform', 'distance']},\n",
       "             scoring='accuracy', verbose=3)"
      ]
     },
     "execution_count": 97,
     "metadata": {},
     "output_type": "execute_result"
    }
   ],
   "source": [
    "kn_grid.fit(X_train_clean, y_train)"
   ]
  },
  {
   "cell_type": "code",
   "execution_count": 98,
   "id": "5f7eaf8a",
   "metadata": {},
   "outputs": [
    {
     "name": "stdout",
     "output_type": "stream",
     "text": [
      "{'algorithm': 'auto', 'n_neighbors': 18, 'weights': 'distance'}\n"
     ]
    }
   ],
   "source": [
    "print(kn_grid.best_params_)"
   ]
  },
  {
   "cell_type": "code",
   "execution_count": 99,
   "id": "f7c36235",
   "metadata": {},
   "outputs": [],
   "source": [
    "# Refit the KNeighborsRegressor\n",
    "kn_grid = KNeighborsClassifier(n_neighbors = kn_grid.best_params_[\"n_neighbors\"],\n",
    "                               weights = kn_grid.best_params_[\"weights\"],\n",
    "                               algorithm = kn_grid.best_params_[\"algorithm\"]\n",
    "                              )"
   ]
  },
  {
   "cell_type": "code",
   "execution_count": 100,
   "id": "0157bff0",
   "metadata": {},
   "outputs": [
    {
     "data": {
      "text/plain": [
       "KNeighborsClassifier(n_neighbors=18, weights='distance')"
      ]
     },
     "execution_count": 100,
     "metadata": {},
     "output_type": "execute_result"
    }
   ],
   "source": [
    "kn_grid.fit(X_train_clean, y_train)"
   ]
  },
  {
   "cell_type": "code",
   "execution_count": 101,
   "id": "a5369a15",
   "metadata": {},
   "outputs": [],
   "source": [
    "knn_cvpred = kn_grid.predict(X_test_clean)"
   ]
  },
  {
   "cell_type": "code",
   "execution_count": 102,
   "id": "5977fdcf",
   "metadata": {},
   "outputs": [
    {
     "name": "stdout",
     "output_type": "stream",
     "text": [
      "              precision    recall  f1-score   support\n",
      "\n",
      "           0       0.83      0.97      0.90      1424\n",
      "           1       0.70      0.27      0.39       376\n",
      "\n",
      "    accuracy                           0.82      1800\n",
      "   macro avg       0.77      0.62      0.64      1800\n",
      "weighted avg       0.81      0.82      0.79      1800\n",
      "\n"
     ]
    }
   ],
   "source": [
    "print(classification_report(y_test, knn_cvpred, labels=[0,1]))"
   ]
  },
  {
   "cell_type": "code",
   "execution_count": 103,
   "id": "f935b737",
   "metadata": {},
   "outputs": [
    {
     "name": "stdout",
     "output_type": "stream",
     "text": [
      "Training Data Score: 1.0\n",
      "Validating Data Score: 0.85\n",
      "Testing Data Score: 0.8233333333333334\n"
     ]
    }
   ],
   "source": [
    "print(f\"Training Data Score: {kn_grid.score(X_train_clean, y_train)}\")\n",
    "print(f\"Validating Data Score: {kn_grid.score(X_valid_clean, y_valid)}\")\n",
    "print(f\"Testing Data Score: {kn_grid.score(X_test_clean, y_test)}\")"
   ]
  },
  {
   "cell_type": "code",
   "execution_count": 104,
   "id": "228d0eaa",
   "metadata": {},
   "outputs": [
    {
     "data": {
      "image/png": "[encoded data removed]",
      "text/plain": [
       "<Figure size 432x288 with 2 Axes>"
      ]
     },
     "metadata": {
      "needs_background": "light"
     },
     "output_type": "display_data"
    }
   ],
   "source": [
    "ConfusionMatrixDisplay.from_predictions(y_test, knn_cvpred, display_labels = [False, True])\n",
    "plt.show()"
   ]
  },
  {
   "cell_type": "markdown",
   "id": "12087f66",
   "metadata": {},
   "source": [
    "### Bagging Classifier"
   ]
  },
  {
   "cell_type": "code",
   "execution_count": 105,
   "id": "e57ddd24",
   "metadata": {},
   "outputs": [],
   "source": [
    "dec_tree = DecisionTreeClassifier(random_state=123)"
   ]
  },
  {
   "cell_type": "code",
   "execution_count": 106,
   "id": "d9b56e80",
   "metadata": {},
   "outputs": [],
   "source": [
    "bagging_cls = BaggingClassifier(base_estimator=dec_tree, n_estimators=10, random_state=123)"
   ]
  },
  {
   "cell_type": "code",
   "execution_count": 107,
   "id": "dfae829d",
   "metadata": {},
   "outputs": [
    {
     "data": {
      "text/plain": [
       "BaggingClassifier(base_estimator=DecisionTreeClassifier(random_state=123),\n",
       "                  random_state=123)"
      ]
     },
     "execution_count": 107,
     "metadata": {},
     "output_type": "execute_result"
    }
   ],
   "source": [
    "# fit KNeighborsRegressor\n",
    "bagging_cls.fit(X_train_clean, y_train)"
   ]
  },
  {
   "cell_type": "code",
   "execution_count": 108,
   "id": "fe150b20",
   "metadata": {},
   "outputs": [
    {
     "data": {
      "text/plain": [
       "0.9844285714285714"
      ]
     },
     "execution_count": 108,
     "metadata": {},
     "output_type": "execute_result"
    }
   ],
   "source": [
    "bagging_cls.score(X_train_clean, y_train)"
   ]
  },
  {
   "cell_type": "code",
   "execution_count": 109,
   "id": "52b54821",
   "metadata": {},
   "outputs": [],
   "source": [
    "bagging_predict = bagging_cls.predict(X_test_clean)"
   ]
  },
  {
   "cell_type": "code",
   "execution_count": 110,
   "id": "0744610f",
   "metadata": {},
   "outputs": [
    {
     "name": "stdout",
     "output_type": "stream",
     "text": [
      "              precision    recall  f1-score   support\n",
      "\n",
      "           0       0.88      0.96      0.91      1424\n",
      "           1       0.75      0.49      0.59       376\n",
      "\n",
      "    accuracy                           0.86      1800\n",
      "   macro avg       0.81      0.72      0.75      1800\n",
      "weighted avg       0.85      0.86      0.85      1800\n",
      "\n"
     ]
    }
   ],
   "source": [
    "print(classification_report(y_test, bagging_predict, labels=[0,1]))"
   ]
  },
  {
   "cell_type": "code",
   "execution_count": 111,
   "id": "704b539b",
   "metadata": {},
   "outputs": [
    {
     "name": "stdout",
     "output_type": "stream",
     "text": [
      "Training Data Score: 0.9844285714285714\n",
      "Validating Data Score: 0.85\n",
      "Testing Data Score: 0.8588888888888889\n"
     ]
    }
   ],
   "source": [
    "print(f\"Training Data Score: {bagging_cls.score(X_train_clean, y_train)}\")\n",
    "print(f\"Validating Data Score: {bagging_cls.score(X_valid_clean, y_valid)}\")\n",
    "print(f\"Testing Data Score: {bagging_cls.score(X_test_clean, y_test)}\")"
   ]
  },
  {
   "cell_type": "markdown",
   "id": "9f4c8d33",
   "metadata": {},
   "source": [
    "## Tuning Parameter Bagging Classifier"
   ]
  },
  {
   "cell_type": "code",
   "execution_count": 112,
   "id": "91e4ba2b",
   "metadata": {},
   "outputs": [],
   "source": [
    "cv = RepeatedStratifiedKFold(n_splits=10, n_repeats=3, random_state=123)\n",
    "bagging_param_grid = {'n_estimators' : [10, 100, 1000]}"
   ]
  },
  {
   "cell_type": "code",
   "execution_count": 113,
   "id": "d7d95eaa",
   "metadata": {},
   "outputs": [],
   "source": [
    "bagging_grid_cv = GridSearchCV(estimator=BaggingClassifier(random_state=123), \n",
    "                               param_grid=bagging_param_grid, \n",
    "                               n_jobs=-1, \n",
    "                               cv=cv, \n",
    "                               scoring='accuracy',\n",
    "                               error_score=0)"
   ]
  },
  {
   "cell_type": "code",
   "execution_count": 114,
   "id": "3fd18f4a",
   "metadata": {},
   "outputs": [
    {
     "data": {
      "text/plain": [
       "GridSearchCV(cv=RepeatedStratifiedKFold(n_repeats=3, n_splits=10, random_state=123),\n",
       "             error_score=0, estimator=BaggingClassifier(random_state=123),\n",
       "             n_jobs=-1, param_grid={'n_estimators': [10, 100, 1000]},\n",
       "             scoring='accuracy')"
      ]
     },
     "execution_count": 114,
     "metadata": {},
     "output_type": "execute_result"
    }
   ],
   "source": [
    "bagging_grid_cv.fit(X_train_clean, y_train)"
   ]
  },
  {
   "cell_type": "code",
   "execution_count": 115,
   "id": "2ad6a852",
   "metadata": {},
   "outputs": [
    {
     "data": {
      "text/plain": [
       "{'n_estimators': 1000}"
      ]
     },
     "execution_count": 115,
     "metadata": {},
     "output_type": "execute_result"
    }
   ],
   "source": [
    "bagging_grid_cv.best_params_"
   ]
  },
  {
   "cell_type": "code",
   "execution_count": 116,
   "id": "a13e5e40",
   "metadata": {},
   "outputs": [],
   "source": [
    "bagging_cv  = BaggingClassifier(n_estimators = bagging_grid_cv.best_params_[\"n_estimators\"])"
   ]
  },
  {
   "cell_type": "code",
   "execution_count": 117,
   "id": "56c6956a",
   "metadata": {},
   "outputs": [
    {
     "data": {
      "text/plain": [
       "BaggingClassifier(n_estimators=1000)"
      ]
     },
     "execution_count": 117,
     "metadata": {},
     "output_type": "execute_result"
    }
   ],
   "source": [
    "bagging_cv.fit(X_train_clean, y_train)"
   ]
  },
  {
   "cell_type": "code",
   "execution_count": 118,
   "id": "4b5db73c",
   "metadata": {},
   "outputs": [],
   "source": [
    "baggingcv_predict = bagging_cv.predict(X_test_clean)"
   ]
  },
  {
   "cell_type": "code",
   "execution_count": 119,
   "id": "9760210a",
   "metadata": {},
   "outputs": [
    {
     "name": "stdout",
     "output_type": "stream",
     "text": [
      "              precision    recall  f1-score   support\n",
      "\n",
      "           0       0.88      0.95      0.92      1424\n",
      "           1       0.74      0.52      0.61       376\n",
      "\n",
      "    accuracy                           0.86      1800\n",
      "   macro avg       0.81      0.74      0.76      1800\n",
      "weighted avg       0.85      0.86      0.85      1800\n",
      "\n"
     ]
    }
   ],
   "source": [
    "print(classification_report(y_test, baggingcv_predict, labels=[0,1]))"
   ]
  },
  {
   "cell_type": "code",
   "execution_count": 120,
   "id": "4d6409a2",
   "metadata": {},
   "outputs": [
    {
     "name": "stdout",
     "output_type": "stream",
     "text": [
      "Training Data Score: 1.0\n",
      "Validating Data Score: 0.8683333333333333\n",
      "Testing Data Score: 0.8616666666666667\n"
     ]
    }
   ],
   "source": [
    "print(f\"Training Data Score: {bagging_cv.score(X_train_clean, y_train)}\")\n",
    "print(f\"Validating Data Score: {bagging_cv.score(X_valid_clean, y_valid)}\")\n",
    "print(f\"Testing Data Score: {bagging_cv.score(X_test_clean, y_test)}\")"
   ]
  },
  {
   "cell_type": "code",
   "execution_count": 121,
   "id": "78db6ac7",
   "metadata": {},
   "outputs": [
    {
     "data": {
      "image/png": "[encoded data removed]",
      "text/plain": [
       "<Figure size 432x288 with 2 Axes>"
      ]
     },
     "metadata": {
      "needs_background": "light"
     },
     "output_type": "display_data"
    }
   ],
   "source": [
    "ConfusionMatrixDisplay.from_predictions(y_test, baggingcv_predict, display_labels = [False, True])\n",
    "plt.show()"
   ]
  },
  {
   "cell_type": "markdown",
   "id": "15e3239e",
   "metadata": {},
   "source": [
    "## Gradient Boosting"
   ]
  },
  {
   "cell_type": "code",
   "execution_count": 122,
   "id": "05f3ac86",
   "metadata": {},
   "outputs": [],
   "source": [
    "# Build GradientBoosting\n",
    "grad_boost = GradientBoostingClassifier(random_state = 123)"
   ]
  },
  {
   "cell_type": "code",
   "execution_count": 123,
   "id": "14134990",
   "metadata": {},
   "outputs": [
    {
     "data": {
      "text/plain": [
       "GradientBoostingClassifier(random_state=123)"
      ]
     },
     "execution_count": 123,
     "metadata": {},
     "output_type": "execute_result"
    }
   ],
   "source": [
    "# Fit GradientBoosting\n",
    "grad_boost.fit(X_train_clean, y_train)"
   ]
  },
  {
   "cell_type": "code",
   "execution_count": 124,
   "id": "0dba7df4",
   "metadata": {},
   "outputs": [
    {
     "data": {
      "text/plain": [
       "0.8718571428571429"
      ]
     },
     "execution_count": 124,
     "metadata": {},
     "output_type": "execute_result"
    }
   ],
   "source": [
    "grad_boost.score(X_train_clean, y_train)"
   ]
  },
  {
   "cell_type": "code",
   "execution_count": 125,
   "id": "4965fe34",
   "metadata": {},
   "outputs": [],
   "source": [
    "gradboost_predict = grad_boost.predict(X_test_clean)"
   ]
  },
  {
   "cell_type": "code",
   "execution_count": 126,
   "id": "668f3610",
   "metadata": {},
   "outputs": [
    {
     "name": "stdout",
     "output_type": "stream",
     "text": [
      "              precision    recall  f1-score   support\n",
      "\n",
      "           0       0.88      0.97      0.92      1424\n",
      "           1       0.80      0.52      0.63       376\n",
      "\n",
      "    accuracy                           0.87      1800\n",
      "   macro avg       0.84      0.74      0.78      1800\n",
      "weighted avg       0.87      0.87      0.86      1800\n",
      "\n"
     ]
    }
   ],
   "source": [
    "print(classification_report(y_test, gradboost_predict, labels=[0,1]))"
   ]
  },
  {
   "cell_type": "code",
   "execution_count": 127,
   "id": "b6e967f3",
   "metadata": {},
   "outputs": [
    {
     "name": "stdout",
     "output_type": "stream",
     "text": [
      "Training Data Score: 0.8718571428571429\n",
      "Validating Data Score: 0.88\n",
      "Testing Data Score: 0.8722222222222222\n"
     ]
    }
   ],
   "source": [
    "print(f\"Training Data Score: {grad_boost.score(X_train_clean, y_train)}\")\n",
    "print(f\"Validating Data Score: {grad_boost.score(X_valid_clean, y_valid)}\")\n",
    "print(f\"Testing Data Score: {grad_boost.score(X_test_clean, y_test)}\")"
   ]
  },
  {
   "cell_type": "markdown",
   "id": "9ea3d9fe",
   "metadata": {},
   "source": [
    "### Tuning Parameter Gradient Boosting"
   ]
  },
  {
   "cell_type": "code",
   "execution_count": 128,
   "id": "3de4bb3b",
   "metadata": {},
   "outputs": [],
   "source": [
    "grad_param_grid = {\n",
    "    'n_estimators' : [10, 50, 100],\n",
    "    'learning_rate' : [0.001, 0.01, 0.1],\n",
    "    'subsample' : [0.5, 0.7, 1.0],\n",
    "    'max_depth' : [3, 7, 9]\n",
    "}"
   ]
  },
  {
   "cell_type": "code",
   "execution_count": 129,
   "id": "a15b72ae",
   "metadata": {},
   "outputs": [],
   "source": [
    "grad_grid_cv = GridSearchCV(estimator=GradientBoostingClassifier(), \n",
    "                           param_grid=grad_param_grid,\n",
    "                           cv=5, \n",
    "                           scoring='accuracy',\n",
    "                           error_score=0)"
   ]
  },
  {
   "cell_type": "code",
   "execution_count": 130,
   "id": "40e08780",
   "metadata": {},
   "outputs": [
    {
     "data": {
      "text/plain": [
       "GridSearchCV(cv=5, error_score=0, estimator=GradientBoostingClassifier(),\n",
       "             param_grid={'learning_rate': [0.001, 0.01, 0.1],\n",
       "                         'max_depth': [3, 7, 9], 'n_estimators': [10, 50, 100],\n",
       "                         'subsample': [0.5, 0.7, 1.0]},\n",
       "             scoring='accuracy')"
      ]
     },
     "execution_count": 130,
     "metadata": {},
     "output_type": "execute_result"
    }
   ],
   "source": [
    "grad_grid_cv.fit(X_train_clean, y_train)"
   ]
  },
  {
   "cell_type": "code",
   "execution_count": 131,
   "id": "267f1b81",
   "metadata": {},
   "outputs": [
    {
     "data": {
      "text/plain": [
       "{'learning_rate': 0.1, 'max_depth': 3, 'n_estimators': 100, 'subsample': 1.0}"
      ]
     },
     "execution_count": 131,
     "metadata": {},
     "output_type": "execute_result"
    }
   ],
   "source": [
    "grad_grid_cv.best_params_"
   ]
  },
  {
   "cell_type": "code",
   "execution_count": 132,
   "id": "ea9e3dd3",
   "metadata": {},
   "outputs": [],
   "source": [
    "gradboost_cv  = GradientBoostingClassifier(n_estimators = grad_grid_cv.best_params_[\"n_estimators\"],\n",
    "                                           learning_rate = grad_grid_cv.best_params_[\"learning_rate\"],\n",
    "                                           subsample = grad_grid_cv.best_params_[\"subsample\"],\n",
    "                                           max_depth = grad_grid_cv.best_params_[\"max_depth\"],\n",
    "                                           random_state = 123)"
   ]
  },
  {
   "cell_type": "code",
   "execution_count": 133,
   "id": "66ae01e5",
   "metadata": {},
   "outputs": [
    {
     "data": {
      "text/plain": [
       "GradientBoostingClassifier(random_state=123)"
      ]
     },
     "execution_count": 133,
     "metadata": {},
     "output_type": "execute_result"
    }
   ],
   "source": [
    "gradboost_cv.fit(X_train_clean, y_train)"
   ]
  },
  {
   "cell_type": "code",
   "execution_count": 134,
   "id": "94a07cde",
   "metadata": {},
   "outputs": [],
   "source": [
    "gradboost_pred_cv = gradboost_cv.predict(X_test_clean)"
   ]
  },
  {
   "cell_type": "code",
   "execution_count": 135,
   "id": "cb90802f",
   "metadata": {},
   "outputs": [
    {
     "name": "stdout",
     "output_type": "stream",
     "text": [
      "              precision    recall  f1-score   support\n",
      "\n",
      "           0       0.88      0.97      0.92      1424\n",
      "           1       0.80      0.52      0.63       376\n",
      "\n",
      "    accuracy                           0.87      1800\n",
      "   macro avg       0.84      0.74      0.78      1800\n",
      "weighted avg       0.87      0.87      0.86      1800\n",
      "\n"
     ]
    }
   ],
   "source": [
    "print(classification_report(y_test, gradboost_pred_cv, labels=[0,1]))"
   ]
  },
  {
   "cell_type": "code",
   "execution_count": 136,
   "id": "2d3aafe8",
   "metadata": {},
   "outputs": [
    {
     "data": {
      "image/png": "[encoded data removed]",
      "text/plain": [
       "<Figure size 432x288 with 2 Axes>"
      ]
     },
     "metadata": {
      "needs_background": "light"
     },
     "output_type": "display_data"
    }
   ],
   "source": [
    "ConfusionMatrixDisplay.from_predictions(y_test, gradboost_pred_cv, display_labels = [False, True])\n",
    "plt.show()"
   ]
  },
  {
   "cell_type": "markdown",
   "id": "aeaffbdd",
   "metadata": {},
   "source": [
    "## Adaboost Classifier"
   ]
  },
  {
   "cell_type": "markdown",
   "id": "eb6b8ba7",
   "metadata": {},
   "source": [
    "### Adaboost SVC"
   ]
  },
  {
   "cell_type": "code",
   "execution_count": 137,
   "id": "004cb105",
   "metadata": {},
   "outputs": [],
   "source": [
    "svc = SVC(probability=True, kernel='linear', random_state = 123)\n",
    "\n",
    "# Create adaboost classifer object\n",
    "adaboost_svc = AdaBoostClassifier(n_estimators=50, \n",
    "                                  base_estimator=svc,\n",
    "                                  learning_rate=1)"
   ]
  },
  {
   "cell_type": "code",
   "execution_count": 138,
   "id": "7a209d0a",
   "metadata": {},
   "outputs": [
    {
     "data": {
      "text/plain": [
       "AdaBoostClassifier(base_estimator=SVC(kernel='linear', probability=True,\n",
       "                                      random_state=123),\n",
       "                   learning_rate=1)"
      ]
     },
     "execution_count": 138,
     "metadata": {},
     "output_type": "execute_result"
    }
   ],
   "source": [
    "# Train Adaboost Classifer\n",
    "adaboost_svc.fit(X_train_clean, y_train)"
   ]
  },
  {
   "cell_type": "code",
   "execution_count": 139,
   "id": "1fa8614d",
   "metadata": {},
   "outputs": [
    {
     "data": {
      "text/plain": [
       "0.7947142857142857"
      ]
     },
     "execution_count": 139,
     "metadata": {},
     "output_type": "execute_result"
    }
   ],
   "source": [
    "adaboost_svc.score(X_train_clean, y_train)"
   ]
  },
  {
   "cell_type": "code",
   "execution_count": 140,
   "id": "a7419135",
   "metadata": {},
   "outputs": [],
   "source": [
    "ada_predict = adaboost_svc.predict(X_test_clean)"
   ]
  },
  {
   "cell_type": "code",
   "execution_count": 141,
   "id": "756dc431",
   "metadata": {},
   "outputs": [
    {
     "name": "stdout",
     "output_type": "stream",
     "text": [
      "              precision    recall  f1-score   support\n",
      "\n",
      "           0       0.79      1.00      0.88      1424\n",
      "           1       0.50      0.00      0.01       376\n",
      "\n",
      "    accuracy                           0.79      1800\n",
      "   macro avg       0.65      0.50      0.44      1800\n",
      "weighted avg       0.73      0.79      0.70      1800\n",
      "\n"
     ]
    }
   ],
   "source": [
    "print(classification_report(y_test, ada_predict, labels=[0,1]))"
   ]
  },
  {
   "cell_type": "code",
   "execution_count": 142,
   "id": "f582f5a8",
   "metadata": {},
   "outputs": [
    {
     "name": "stdout",
     "output_type": "stream",
     "text": [
      "Training Data Score: 0.7947142857142857\n",
      "Validating Data Score: 0.8083333333333333\n",
      "Testing Data Score: 0.7911111111111111\n"
     ]
    }
   ],
   "source": [
    "print(f\"Training Data Score: {adaboost_svc.score(X_train_clean, y_train)}\")\n",
    "print(f\"Validating Data Score: {adaboost_svc.score(X_valid_clean, y_valid)}\")\n",
    "print(f\"Testing Data Score: {adaboost_svc.score(X_test_clean, y_test)}\")"
   ]
  },
  {
   "cell_type": "markdown",
   "id": "4f551ec0",
   "metadata": {},
   "source": [
    "### Adaboost Original"
   ]
  },
  {
   "cell_type": "code",
   "execution_count": 143,
   "id": "1e46259b",
   "metadata": {},
   "outputs": [],
   "source": [
    "# Create adaboost classifer object\n",
    "abc = AdaBoostClassifier(n_estimators=50,\n",
    "                         learning_rate=1,\n",
    "                         random_state = 123)"
   ]
  },
  {
   "cell_type": "code",
   "execution_count": 144,
   "id": "4a38eee2",
   "metadata": {},
   "outputs": [],
   "source": [
    "# Train Adaboost Classifer\n",
    "abc_ori = abc.fit(X_train_clean, y_train)"
   ]
  },
  {
   "cell_type": "code",
   "execution_count": 145,
   "id": "928c8ea9",
   "metadata": {},
   "outputs": [
    {
     "data": {
      "text/plain": [
       "0.8532857142857143"
      ]
     },
     "execution_count": 145,
     "metadata": {},
     "output_type": "execute_result"
    }
   ],
   "source": [
    "abc_ori.score(X_train_clean, y_train)"
   ]
  },
  {
   "cell_type": "code",
   "execution_count": 146,
   "id": "39e0e63b",
   "metadata": {},
   "outputs": [],
   "source": [
    "adaboost_pred_ori = abc_ori.predict(X_test_clean)"
   ]
  },
  {
   "cell_type": "code",
   "execution_count": 147,
   "id": "7be930ab",
   "metadata": {},
   "outputs": [
    {
     "name": "stdout",
     "output_type": "stream",
     "text": [
      "              precision    recall  f1-score   support\n",
      "\n",
      "           0       0.88      0.95      0.92      1424\n",
      "           1       0.73      0.53      0.62       376\n",
      "\n",
      "    accuracy                           0.86      1800\n",
      "   macro avg       0.81      0.74      0.77      1800\n",
      "weighted avg       0.85      0.86      0.85      1800\n",
      "\n"
     ]
    }
   ],
   "source": [
    "print(classification_report(y_test, adaboost_pred_ori, labels=[0,1]))"
   ]
  },
  {
   "cell_type": "code",
   "execution_count": 148,
   "id": "cc0aba55",
   "metadata": {},
   "outputs": [
    {
     "name": "stdout",
     "output_type": "stream",
     "text": [
      "Training Data Score: 0.8532857142857143\n",
      "Validating Data Score: 0.8733333333333333\n",
      "Testing Data Score: 0.8616666666666667\n"
     ]
    }
   ],
   "source": [
    "print(f\"Training Data Score: {abc_ori.score(X_train_clean, y_train)}\")\n",
    "print(f\"Validating Data Score: {abc_ori.score(X_valid_clean, y_valid)}\")\n",
    "print(f\"Testing Data Score: {abc_ori.score(X_test_clean, y_test)}\")"
   ]
  },
  {
   "cell_type": "markdown",
   "id": "44e8d2d9",
   "metadata": {},
   "source": [
    "## Tuning Parameter Adaboost"
   ]
  },
  {
   "cell_type": "code",
   "execution_count": 149,
   "id": "f62b0b38",
   "metadata": {},
   "outputs": [],
   "source": [
    "adaboost = AdaBoostClassifier(random_state = 123)"
   ]
  },
  {
   "cell_type": "code",
   "execution_count": 150,
   "id": "63041a6e",
   "metadata": {},
   "outputs": [],
   "source": [
    "param_grid = {\n",
    "    'n_estimators': [50, 100, 200],\n",
    "    'learning_rate': [0.1, 0.5, 1.0],\n",
    "    'algorithm': ['SAMME', 'SAMME.R']\n",
    "}"
   ]
  },
  {
   "cell_type": "code",
   "execution_count": 151,
   "id": "25c6263d",
   "metadata": {},
   "outputs": [],
   "source": [
    "grid_search_adaboost = GridSearchCV(adaboost, param_grid, scoring='accuracy', cv=5)"
   ]
  },
  {
   "cell_type": "code",
   "execution_count": 152,
   "id": "39f82a50",
   "metadata": {},
   "outputs": [
    {
     "data": {
      "text/plain": [
       "GridSearchCV(cv=5, estimator=AdaBoostClassifier(random_state=123),\n",
       "             param_grid={'algorithm': ['SAMME', 'SAMME.R'],\n",
       "                         'learning_rate': [0.1, 0.5, 1.0],\n",
       "                         'n_estimators': [50, 100, 200]},\n",
       "             scoring='accuracy')"
      ]
     },
     "execution_count": 152,
     "metadata": {},
     "output_type": "execute_result"
    }
   ],
   "source": [
    "grid_search_adaboost.fit(X_train_clean, y_train)"
   ]
  },
  {
   "cell_type": "code",
   "execution_count": 153,
   "id": "293f6f86",
   "metadata": {},
   "outputs": [
    {
     "name": "stdout",
     "output_type": "stream",
     "text": [
      "{'algorithm': 'SAMME.R', 'learning_rate': 0.1, 'n_estimators': 200}\n"
     ]
    }
   ],
   "source": [
    "print(grid_search_adaboost.best_params_)"
   ]
  },
  {
   "cell_type": "code",
   "execution_count": 154,
   "id": "917ab65c",
   "metadata": {},
   "outputs": [],
   "source": [
    "adaboost_best = AdaBoostClassifier(n_estimators = grid_search_adaboost.best_params_[\"n_estimators\"],\n",
    "                                   learning_rate = grid_search_adaboost.best_params_[\"learning_rate\"],\n",
    "                                   algorithm = grid_search_adaboost.best_params_[\"algorithm\"]\n",
    "                                  )"
   ]
  },
  {
   "cell_type": "code",
   "execution_count": 155,
   "id": "e8226954",
   "metadata": {},
   "outputs": [
    {
     "data": {
      "text/plain": [
       "AdaBoostClassifier(learning_rate=0.1, n_estimators=200)"
      ]
     },
     "execution_count": 155,
     "metadata": {},
     "output_type": "execute_result"
    }
   ],
   "source": [
    "adaboost_best.fit(X_train_clean, y_train)"
   ]
  },
  {
   "cell_type": "code",
   "execution_count": 156,
   "id": "03619c8a",
   "metadata": {},
   "outputs": [],
   "source": [
    "adaboost_pred_cv = adaboost_best.predict(X_test_clean)"
   ]
  },
  {
   "cell_type": "code",
   "execution_count": 157,
   "id": "9321c089",
   "metadata": {},
   "outputs": [
    {
     "name": "stdout",
     "output_type": "stream",
     "text": [
      "              precision    recall  f1-score   support\n",
      "\n",
      "           0       0.87      0.96      0.92      1424\n",
      "           1       0.77      0.47      0.59       376\n",
      "\n",
      "    accuracy                           0.86      1800\n",
      "   macro avg       0.82      0.72      0.75      1800\n",
      "weighted avg       0.85      0.86      0.85      1800\n",
      "\n"
     ]
    }
   ],
   "source": [
    "print(classification_report(y_test, adaboost_pred_cv, labels=[0,1]))"
   ]
  },
  {
   "cell_type": "code",
   "execution_count": 158,
   "id": "b6a3dda1",
   "metadata": {},
   "outputs": [
    {
     "name": "stdout",
     "output_type": "stream",
     "text": [
      "Training Data Score: 0.8567142857142858\n",
      "Validating Data Score: 0.87\n",
      "Testing Data Score: 0.8605555555555555\n"
     ]
    }
   ],
   "source": [
    "print(f\"Training Data Score: {adaboost_best.score(X_train_clean, y_train)}\")\n",
    "print(f\"Validating Data Score: {adaboost_best.score(X_valid_clean, y_valid)}\")\n",
    "print(f\"Testing Data Score: {adaboost_best.score(X_test_clean, y_test)}\")"
   ]
  },
  {
   "cell_type": "code",
   "execution_count": 159,
   "id": "98105025",
   "metadata": {},
   "outputs": [
    {
     "data": {
      "image/png": "[encoded data removed]",
      "text/plain": [
       "<Figure size 432x288 with 2 Axes>"
      ]
     },
     "metadata": {
      "needs_background": "light"
     },
     "output_type": "display_data"
    }
   ],
   "source": [
    "ConfusionMatrixDisplay.from_predictions(y_test, adaboost_pred_cv, display_labels = [False, True])\n",
    "plt.show()"
   ]
  },
  {
   "cell_type": "markdown",
   "id": "ce8e40e5",
   "metadata": {},
   "source": [
    "## Extratrees Classifier"
   ]
  },
  {
   "cell_type": "code",
   "execution_count": 160,
   "id": "4a837c56",
   "metadata": {},
   "outputs": [],
   "source": [
    "extra_trees_awal = ExtraTreesClassifier(random_state = 123)"
   ]
  },
  {
   "cell_type": "code",
   "execution_count": 161,
   "id": "3afc86c1",
   "metadata": {},
   "outputs": [
    {
     "data": {
      "text/plain": [
       "ExtraTreesClassifier(random_state=123)"
      ]
     },
     "execution_count": 161,
     "metadata": {},
     "output_type": "execute_result"
    }
   ],
   "source": [
    "extra_trees_awal.fit(X_train_clean, y_train)"
   ]
  },
  {
   "cell_type": "code",
   "execution_count": 162,
   "id": "cedf77cb",
   "metadata": {},
   "outputs": [
    {
     "data": {
      "text/plain": [
       "1.0"
      ]
     },
     "execution_count": 162,
     "metadata": {},
     "output_type": "execute_result"
    }
   ],
   "source": [
    "extra_trees_awal.score(X_train_clean, y_train)"
   ]
  },
  {
   "cell_type": "code",
   "execution_count": 163,
   "id": "4d797c65",
   "metadata": {},
   "outputs": [],
   "source": [
    "y_extratress_pred = extra_trees_awal.predict(X_test_clean)"
   ]
  },
  {
   "cell_type": "code",
   "execution_count": 164,
   "id": "3956b34c",
   "metadata": {},
   "outputs": [
    {
     "name": "stdout",
     "output_type": "stream",
     "text": [
      "              precision    recall  f1-score   support\n",
      "\n",
      "           0       0.87      0.97      0.92      1424\n",
      "           1       0.79      0.46      0.58       376\n",
      "\n",
      "    accuracy                           0.86      1800\n",
      "   macro avg       0.83      0.71      0.75      1800\n",
      "weighted avg       0.85      0.86      0.85      1800\n",
      "\n"
     ]
    }
   ],
   "source": [
    "print(classification_report(y_test, y_extratress_pred, labels=[0,1]))"
   ]
  },
  {
   "cell_type": "code",
   "execution_count": 165,
   "id": "ab4e1da8",
   "metadata": {},
   "outputs": [
    {
     "name": "stdout",
     "output_type": "stream",
     "text": [
      "Training Data Score: 1.0\n",
      "Validating Data Score: 0.8716666666666667\n",
      "Testing Data Score: 0.8616666666666667\n"
     ]
    }
   ],
   "source": [
    "print(f\"Training Data Score: {extra_trees_awal.score(X_train_clean, y_train)}\")\n",
    "print(f\"Validating Data Score: {extra_trees_awal.score(X_valid_clean, y_valid)}\")\n",
    "print(f\"Testing Data Score: {extra_trees_awal.score(X_test_clean, y_test)}\")"
   ]
  },
  {
   "cell_type": "markdown",
   "id": "710885fe",
   "metadata": {},
   "source": [
    "## Tuning Parameter Extratrees Classifier"
   ]
  },
  {
   "cell_type": "code",
   "execution_count": 166,
   "id": "416a6be3",
   "metadata": {},
   "outputs": [],
   "source": [
    "extra_trees = ExtraTreesClassifier(random_state = 123)"
   ]
  },
  {
   "cell_type": "code",
   "execution_count": 167,
   "id": "f42ffb66",
   "metadata": {},
   "outputs": [],
   "source": [
    "param_grid = {\n",
    "    'n_estimators': [50, 100, 200],\n",
    "    'max_depth': [10, 20, 30, None],\n",
    "    'min_samples_split': [2, 5, 10],\n",
    "    'min_samples_leaf': [1, 2, 4]\n",
    "}"
   ]
  },
  {
   "cell_type": "code",
   "execution_count": 168,
   "id": "289440b5",
   "metadata": {},
   "outputs": [],
   "source": [
    "grid_search_et = GridSearchCV(extra_trees, param_grid, scoring='accuracy', cv=5)"
   ]
  },
  {
   "cell_type": "code",
   "execution_count": 169,
   "id": "e9aa04cf",
   "metadata": {},
   "outputs": [
    {
     "data": {
      "text/plain": [
       "GridSearchCV(cv=5, estimator=ExtraTreesClassifier(random_state=123),\n",
       "             param_grid={'max_depth': [10, 20, 30, None],\n",
       "                         'min_samples_leaf': [1, 2, 4],\n",
       "                         'min_samples_split': [2, 5, 10],\n",
       "                         'n_estimators': [50, 100, 200]},\n",
       "             scoring='accuracy')"
      ]
     },
     "execution_count": 169,
     "metadata": {},
     "output_type": "execute_result"
    }
   ],
   "source": [
    "grid_search_et.fit(X_train_clean, y_train)"
   ]
  },
  {
   "cell_type": "code",
   "execution_count": 170,
   "id": "5df36345",
   "metadata": {},
   "outputs": [
    {
     "name": "stdout",
     "output_type": "stream",
     "text": [
      "{'max_depth': 20, 'min_samples_leaf': 1, 'min_samples_split': 5, 'n_estimators': 50}\n"
     ]
    }
   ],
   "source": [
    "print(grid_search_et.best_params_)"
   ]
  },
  {
   "cell_type": "code",
   "execution_count": 171,
   "id": "face1715",
   "metadata": {},
   "outputs": [],
   "source": [
    "extra_trees_best = ExtraTreesClassifier(n_estimators = grid_search_et.best_params_[\"n_estimators\"], \n",
    "                                        max_depth = grid_search_et.best_params_[\"max_depth\"], \n",
    "                                        min_samples_split= grid_search_et.best_params_[\"min_samples_split\"], \n",
    "                                        min_samples_leaf=grid_search_et.best_params_[\"min_samples_leaf\"])"
   ]
  },
  {
   "cell_type": "code",
   "execution_count": 172,
   "id": "1e321a09",
   "metadata": {},
   "outputs": [
    {
     "data": {
      "text/plain": [
       "ExtraTreesClassifier(max_depth=20, min_samples_split=5, n_estimators=50)"
      ]
     },
     "execution_count": 172,
     "metadata": {},
     "output_type": "execute_result"
    }
   ],
   "source": [
    "extra_trees_best.fit(X_train_clean, y_train)"
   ]
  },
  {
   "cell_type": "code",
   "execution_count": 173,
   "id": "654ceca1",
   "metadata": {},
   "outputs": [],
   "source": [
    "extratreescv_pred = extra_trees_best.predict(X_test_clean)"
   ]
  },
  {
   "cell_type": "code",
   "execution_count": 174,
   "id": "cda1cd1b",
   "metadata": {},
   "outputs": [
    {
     "name": "stdout",
     "output_type": "stream",
     "text": [
      "              precision    recall  f1-score   support\n",
      "\n",
      "           0       0.87      0.97      0.92      1424\n",
      "           1       0.82      0.44      0.57       376\n",
      "\n",
      "    accuracy                           0.86      1800\n",
      "   macro avg       0.84      0.71      0.74      1800\n",
      "weighted avg       0.86      0.86      0.85      1800\n",
      "\n"
     ]
    }
   ],
   "source": [
    "print(classification_report(y_test, extratreescv_pred, labels=[0,1]))"
   ]
  },
  {
   "cell_type": "code",
   "execution_count": 175,
   "id": "e42a76ba",
   "metadata": {},
   "outputs": [
    {
     "name": "stdout",
     "output_type": "stream",
     "text": [
      "Training Data Score: 0.9745714285714285\n",
      "Validating Data Score: 0.8733333333333333\n",
      "Testing Data Score: 0.8622222222222222\n"
     ]
    }
   ],
   "source": [
    "print(f\"Training Data Score: {extra_trees_best.score(X_train_clean, y_train)}\")\n",
    "print(f\"Validating Data Score: {extra_trees_best.score(X_valid_clean, y_valid)}\")\n",
    "print(f\"Testing Data Score: {extra_trees_best.score(X_test_clean, y_test)}\")"
   ]
  },
  {
   "cell_type": "code",
   "execution_count": 176,
   "id": "ff88c810",
   "metadata": {},
   "outputs": [
    {
     "data": {
      "image/png": "[encoded data removed]",
      "text/plain": [
       "<Figure size 432x288 with 2 Axes>"
      ]
     },
     "metadata": {
      "needs_background": "light"
     },
     "output_type": "display_data"
    }
   ],
   "source": [
    "ConfusionMatrixDisplay.from_predictions(y_test, extratreescv_pred, display_labels = [False, True])\n",
    "plt.show()"
   ]
  },
  {
   "cell_type": "markdown",
   "id": "5bb686f7",
   "metadata": {},
   "source": [
    "## XGboost Classifier"
   ]
  },
  {
   "cell_type": "code",
   "execution_count": 177,
   "id": "b9aa0e2f",
   "metadata": {},
   "outputs": [],
   "source": [
    "xgb_classifier = xgb.XGBClassifier(random_state = 123)"
   ]
  },
  {
   "cell_type": "code",
   "execution_count": 178,
   "id": "2b6b62bb",
   "metadata": {},
   "outputs": [
    {
     "data": {
      "text/plain": [
       "XGBClassifier(base_score=None, booster=None, callbacks=None,\n",
       "              colsample_bylevel=None, colsample_bynode=None,\n",
       "              colsample_bytree=None, early_stopping_rounds=None,\n",
       "              enable_categorical=False, eval_metric=None, feature_types=None,\n",
       "              gamma=None, gpu_id=None, grow_policy=None, importance_type=None,\n",
       "              interaction_constraints=None, learning_rate=None, max_bin=None,\n",
       "              max_cat_threshold=None, max_cat_to_onehot=None,\n",
       "              max_delta_step=None, max_depth=None, max_leaves=None,\n",
       "              min_child_weight=None, missing=nan, monotone_constraints=None,\n",
       "              n_estimators=100, n_jobs=None, num_parallel_tree=None,\n",
       "              predictor=None, random_state=123, ...)"
      ]
     },
     "execution_count": 178,
     "metadata": {},
     "output_type": "execute_result"
    }
   ],
   "source": [
    "xgb_classifier.fit(X_train_clean, y_train)"
   ]
  },
  {
   "cell_type": "code",
   "execution_count": 179,
   "id": "4c0538a7",
   "metadata": {},
   "outputs": [
    {
     "data": {
      "text/plain": [
       "0.9605714285714285"
      ]
     },
     "execution_count": 179,
     "metadata": {},
     "output_type": "execute_result"
    }
   ],
   "source": [
    "xgb_classifier.score(X_train_clean, y_train)"
   ]
  },
  {
   "cell_type": "code",
   "execution_count": 180,
   "id": "77c8b688",
   "metadata": {},
   "outputs": [],
   "source": [
    "xgb_pred = xgb_classifier.predict(X_test_clean)"
   ]
  },
  {
   "cell_type": "code",
   "execution_count": 181,
   "id": "5ac4b9bf",
   "metadata": {},
   "outputs": [
    {
     "name": "stdout",
     "output_type": "stream",
     "text": [
      "              precision    recall  f1-score   support\n",
      "\n",
      "           0       0.89      0.95      0.91      1424\n",
      "           1       0.73      0.53      0.62       376\n",
      "\n",
      "    accuracy                           0.86      1800\n",
      "   macro avg       0.81      0.74      0.77      1800\n",
      "weighted avg       0.85      0.86      0.85      1800\n",
      "\n"
     ]
    }
   ],
   "source": [
    "print(classification_report(y_test, xgb_pred, labels=[0,1]))"
   ]
  },
  {
   "cell_type": "code",
   "execution_count": 182,
   "id": "facdc3da",
   "metadata": {},
   "outputs": [
    {
     "name": "stdout",
     "output_type": "stream",
     "text": [
      "Training Data Score: 0.9605714285714285\n",
      "Validating Data Score: 0.8641666666666666\n",
      "Testing Data Score: 0.8605555555555555\n"
     ]
    }
   ],
   "source": [
    "print(f\"Training Data Score: {xgb_classifier.score(X_train_clean, y_train)}\")\n",
    "print(f\"Validating Data Score: {xgb_classifier.score(X_valid_clean, y_valid)}\")\n",
    "print(f\"Testing Data Score: {xgb_classifier.score(X_test_clean, y_test)}\")"
   ]
  },
  {
   "cell_type": "markdown",
   "id": "317da2d0",
   "metadata": {},
   "source": [
    "## Tuning Parameter XGboost"
   ]
  },
  {
   "cell_type": "code",
   "execution_count": 183,
   "id": "c5488576",
   "metadata": {},
   "outputs": [],
   "source": [
    "param_grid = {\n",
    "    'n_estimators': [50, 100, 200],\n",
    "    'max_depth': [3, 5, 7],\n",
    "    'learning_rate': [0.1, 0.5, 1.0],\n",
    "    'subsample': [0.5, 0.7, 1.0]\n",
    "}\n"
   ]
  },
  {
   "cell_type": "code",
   "execution_count": 184,
   "id": "dbf84597",
   "metadata": {},
   "outputs": [],
   "source": [
    "grid_search_xg = GridSearchCV(xgb_classifier, param_grid, scoring='accuracy', cv=5)"
   ]
  },
  {
   "cell_type": "code",
   "execution_count": 185,
   "id": "8204bc0b",
   "metadata": {},
   "outputs": [
    {
     "data": {
      "text/plain": [
       "GridSearchCV(cv=5,\n",
       "             estimator=XGBClassifier(base_score=None, booster=None,\n",
       "                                     callbacks=None, colsample_bylevel=None,\n",
       "                                     colsample_bynode=None,\n",
       "                                     colsample_bytree=None,\n",
       "                                     early_stopping_rounds=None,\n",
       "                                     enable_categorical=False, eval_metric=None,\n",
       "                                     feature_types=None, gamma=None,\n",
       "                                     gpu_id=None, grow_policy=None,\n",
       "                                     importance_type=None,\n",
       "                                     interaction_constraints=None,\n",
       "                                     learning_rate=None,...\n",
       "                                     max_cat_to_onehot=None,\n",
       "                                     max_delta_step=None, max_depth=None,\n",
       "                                     max_leaves=None, min_child_weight=None,\n",
       "                                     missing=nan, monotone_constraints=None,\n",
       "                                     n_estimators=100, n_jobs=None,\n",
       "                                     num_parallel_tree=None, predictor=None,\n",
       "                                     random_state=123, ...),\n",
       "             param_grid={'learning_rate': [0.1, 0.5, 1.0],\n",
       "                         'max_depth': [3, 5, 7], 'n_estimators': [50, 100, 200],\n",
       "                         'subsample': [0.5, 0.7, 1.0]},\n",
       "             scoring='accuracy')"
      ]
     },
     "execution_count": 185,
     "metadata": {},
     "output_type": "execute_result"
    }
   ],
   "source": [
    "grid_search_xg.fit(X_train_clean, y_train)"
   ]
  },
  {
   "cell_type": "code",
   "execution_count": 186,
   "id": "12acb6a1",
   "metadata": {},
   "outputs": [
    {
     "name": "stdout",
     "output_type": "stream",
     "text": [
      "{'learning_rate': 0.1, 'max_depth': 5, 'n_estimators': 100, 'subsample': 1.0}\n"
     ]
    }
   ],
   "source": [
    "print(grid_search_xg.best_params_)"
   ]
  },
  {
   "cell_type": "code",
   "execution_count": 187,
   "id": "95468116",
   "metadata": {},
   "outputs": [],
   "source": [
    "xgb_best = xgb.XGBClassifier(n_estimators = grid_search_xg.best_params_[\"n_estimators\"], \n",
    "                             max_depth = grid_search_xg.best_params_[\"max_depth\"], \n",
    "                             learning_rate = grid_search_xg.best_params_[\"learning_rate\"], \n",
    "                             subsample = grid_search_xg.best_params_[\"subsample\"])"
   ]
  },
  {
   "cell_type": "code",
   "execution_count": 188,
   "id": "7e7b563b",
   "metadata": {},
   "outputs": [
    {
     "data": {
      "text/plain": [
       "XGBClassifier(base_score=None, booster=None, callbacks=None,\n",
       "              colsample_bylevel=None, colsample_bynode=None,\n",
       "              colsample_bytree=None, early_stopping_rounds=None,\n",
       "              enable_categorical=False, eval_metric=None, feature_types=None,\n",
       "              gamma=None, gpu_id=None, grow_policy=None, importance_type=None,\n",
       "              interaction_constraints=None, learning_rate=0.1, max_bin=None,\n",
       "              max_cat_threshold=None, max_cat_to_onehot=None,\n",
       "              max_delta_step=None, max_depth=5, max_leaves=None,\n",
       "              min_child_weight=None, missing=nan, monotone_constraints=None,\n",
       "              n_estimators=100, n_jobs=None, num_parallel_tree=None,\n",
       "              predictor=None, random_state=None, ...)"
      ]
     },
     "execution_count": 188,
     "metadata": {},
     "output_type": "execute_result"
    }
   ],
   "source": [
    "xgb_best.fit(X_train_clean, y_train)"
   ]
  },
  {
   "cell_type": "code",
   "execution_count": 189,
   "id": "7622f560",
   "metadata": {},
   "outputs": [],
   "source": [
    "xgboost_cv_pred = xgb_best.predict(X_test_clean)"
   ]
  },
  {
   "cell_type": "code",
   "execution_count": 190,
   "id": "8c4aa20f",
   "metadata": {},
   "outputs": [
    {
     "name": "stdout",
     "output_type": "stream",
     "text": [
      "              precision    recall  f1-score   support\n",
      "\n",
      "           0       0.88      0.96      0.92      1424\n",
      "           1       0.78      0.52      0.62       376\n",
      "\n",
      "    accuracy                           0.87      1800\n",
      "   macro avg       0.83      0.74      0.77      1800\n",
      "weighted avg       0.86      0.87      0.86      1800\n",
      "\n"
     ]
    }
   ],
   "source": [
    "print(classification_report(y_test, xgboost_cv_pred, labels=[0,1]))"
   ]
  },
  {
   "cell_type": "code",
   "execution_count": 191,
   "id": "d0fc368a",
   "metadata": {},
   "outputs": [
    {
     "data": {
      "image/png": "[encoded data removed]",
      "text/plain": [
       "<Figure size 432x288 with 2 Axes>"
      ]
     },
     "metadata": {
      "needs_background": "light"
     },
     "output_type": "display_data"
    }
   ],
   "source": [
    "ConfusionMatrixDisplay.from_predictions(y_test, xgboost_cv_pred, display_labels = [False, True])\n",
    "plt.show()"
   ]
  },
  {
   "cell_type": "markdown",
   "id": "10645cd8",
   "metadata": {},
   "source": [
    "## Deep Learning"
   ]
  },
  {
   "cell_type": "code",
   "execution_count": 192,
   "id": "efec1d96",
   "metadata": {},
   "outputs": [],
   "source": [
    "model = Sequential([\n",
    "    Dense(64, activation='relu', input_shape=(13,)),\n",
    "    Dropout(0.2),\n",
    "    Dense(32, activation='relu'),\n",
    "    Dropout(0.2),\n",
    "    Dense(1, activation='sigmoid')\n",
    "])"
   ]
  },
  {
   "cell_type": "code",
   "execution_count": 193,
   "id": "747c391d",
   "metadata": {},
   "outputs": [],
   "source": [
    "model.compile(optimizer='adam', loss='binary_crossentropy', metrics=['accuracy'])"
   ]
  },
  {
   "cell_type": "code",
   "execution_count": 194,
   "id": "88a4d79a",
   "metadata": {},
   "outputs": [
    {
     "name": "stdout",
     "output_type": "stream",
     "text": [
      "Epoch 1/500\n",
      "219/219 [==============================] - 5s 5ms/step - loss: 0.4706 - accuracy: 0.7899 - val_loss: 0.4032 - val_accuracy: 0.8233\n",
      "Epoch 2/500\n",
      "219/219 [==============================] - 1s 3ms/step - loss: 0.4394 - accuracy: 0.8053 - val_loss: 0.3999 - val_accuracy: 0.8242\n",
      "Epoch 3/500\n",
      "219/219 [==============================] - 1s 3ms/step - loss: 0.4266 - accuracy: 0.8150 - val_loss: 0.3977 - val_accuracy: 0.8342\n",
      "Epoch 4/500\n",
      "219/219 [==============================] - 1s 3ms/step - loss: 0.4206 - accuracy: 0.8211 - val_loss: 0.3872 - val_accuracy: 0.8450\n",
      "Epoch 5/500\n",
      "219/219 [==============================] - 1s 3ms/step - loss: 0.4150 - accuracy: 0.8240 - val_loss: 0.3852 - val_accuracy: 0.8442\n",
      "Epoch 6/500\n",
      "219/219 [==============================] - 1s 2ms/step - loss: 0.4122 - accuracy: 0.8286 - val_loss: 0.3857 - val_accuracy: 0.8483\n",
      "Epoch 7/500\n",
      "219/219 [==============================] - 1s 2ms/step - loss: 0.4085 - accuracy: 0.8331 - val_loss: 0.3769 - val_accuracy: 0.8458\n",
      "Epoch 8/500\n",
      "219/219 [==============================] - 1s 3ms/step - loss: 0.3990 - accuracy: 0.8346 - val_loss: 0.3803 - val_accuracy: 0.8425\n",
      "Epoch 9/500\n",
      "219/219 [==============================] - 1s 2ms/step - loss: 0.3964 - accuracy: 0.8399 - val_loss: 0.3684 - val_accuracy: 0.8492\n",
      "Epoch 10/500\n",
      "219/219 [==============================] - 1s 3ms/step - loss: 0.3875 - accuracy: 0.8420 - val_loss: 0.3652 - val_accuracy: 0.8525\n",
      "Epoch 11/500\n",
      "219/219 [==============================] - 1s 2ms/step - loss: 0.3807 - accuracy: 0.8436 - val_loss: 0.3556 - val_accuracy: 0.8567\n",
      "Epoch 12/500\n",
      "219/219 [==============================] - 1s 2ms/step - loss: 0.3773 - accuracy: 0.8444 - val_loss: 0.3462 - val_accuracy: 0.8600\n",
      "Epoch 13/500\n",
      "219/219 [==============================] - 1s 2ms/step - loss: 0.3736 - accuracy: 0.8471 - val_loss: 0.3465 - val_accuracy: 0.8592\n",
      "Epoch 14/500\n",
      "219/219 [==============================] - 1s 2ms/step - loss: 0.3647 - accuracy: 0.8533 - val_loss: 0.3349 - val_accuracy: 0.8683\n",
      "Epoch 15/500\n",
      "219/219 [==============================] - 1s 2ms/step - loss: 0.3630 - accuracy: 0.8531 - val_loss: 0.3436 - val_accuracy: 0.8717\n",
      "Epoch 16/500\n",
      "219/219 [==============================] - 1s 3ms/step - loss: 0.3540 - accuracy: 0.8549 - val_loss: 0.3289 - val_accuracy: 0.8658\n",
      "Epoch 17/500\n",
      "219/219 [==============================] - 1s 2ms/step - loss: 0.3522 - accuracy: 0.8549 - val_loss: 0.3260 - val_accuracy: 0.8750\n",
      "Epoch 18/500\n",
      "219/219 [==============================] - 1s 3ms/step - loss: 0.3506 - accuracy: 0.8550 - val_loss: 0.3262 - val_accuracy: 0.8733\n",
      "Epoch 19/500\n",
      "219/219 [==============================] - 1s 2ms/step - loss: 0.3502 - accuracy: 0.8576 - val_loss: 0.3253 - val_accuracy: 0.8742\n",
      "Epoch 20/500\n",
      "219/219 [==============================] - 1s 2ms/step - loss: 0.3504 - accuracy: 0.8553 - val_loss: 0.3223 - val_accuracy: 0.8733\n",
      "Epoch 21/500\n",
      "219/219 [==============================] - 1s 3ms/step - loss: 0.3422 - accuracy: 0.8623 - val_loss: 0.3211 - val_accuracy: 0.8767\n",
      "Epoch 22/500\n",
      "219/219 [==============================] - 1s 2ms/step - loss: 0.3422 - accuracy: 0.8609 - val_loss: 0.3212 - val_accuracy: 0.8700\n",
      "Epoch 23/500\n",
      "219/219 [==============================] - 1s 2ms/step - loss: 0.3422 - accuracy: 0.8560 - val_loss: 0.3192 - val_accuracy: 0.8733\n",
      "Epoch 24/500\n",
      "219/219 [==============================] - 1s 2ms/step - loss: 0.3387 - accuracy: 0.8617 - val_loss: 0.3219 - val_accuracy: 0.8742\n",
      "Epoch 25/500\n",
      "219/219 [==============================] - 1s 2ms/step - loss: 0.3429 - accuracy: 0.8571 - val_loss: 0.3190 - val_accuracy: 0.8758\n",
      "Epoch 26/500\n",
      "219/219 [==============================] - 1s 2ms/step - loss: 0.3409 - accuracy: 0.8619 - val_loss: 0.3190 - val_accuracy: 0.8683\n",
      "Epoch 27/500\n",
      "219/219 [==============================] - 1s 2ms/step - loss: 0.3396 - accuracy: 0.8581 - val_loss: 0.3169 - val_accuracy: 0.8717\n",
      "Epoch 28/500\n",
      "219/219 [==============================] - 1s 2ms/step - loss: 0.3360 - accuracy: 0.8607 - val_loss: 0.3195 - val_accuracy: 0.8717\n",
      "Epoch 29/500\n",
      "219/219 [==============================] - 1s 2ms/step - loss: 0.3362 - accuracy: 0.8609 - val_loss: 0.3204 - val_accuracy: 0.8725\n",
      "Epoch 30/500\n",
      "219/219 [==============================] - 1s 3ms/step - loss: 0.3341 - accuracy: 0.8634 - val_loss: 0.3187 - val_accuracy: 0.8733\n",
      "Epoch 31/500\n",
      "219/219 [==============================] - 1s 2ms/step - loss: 0.3389 - accuracy: 0.8614 - val_loss: 0.3185 - val_accuracy: 0.8742\n",
      "Epoch 32/500\n",
      "219/219 [==============================] - 1s 3ms/step - loss: 0.3351 - accuracy: 0.8631 - val_loss: 0.3149 - val_accuracy: 0.8750\n",
      "Epoch 33/500\n",
      "219/219 [==============================] - 1s 3ms/step - loss: 0.3350 - accuracy: 0.8630 - val_loss: 0.3142 - val_accuracy: 0.8725\n",
      "Epoch 34/500\n",
      "219/219 [==============================] - 1s 2ms/step - loss: 0.3334 - accuracy: 0.8641 - val_loss: 0.3140 - val_accuracy: 0.8750\n",
      "Epoch 35/500\n",
      "219/219 [==============================] - 1s 3ms/step - loss: 0.3343 - accuracy: 0.8636 - val_loss: 0.3167 - val_accuracy: 0.8750\n",
      "Epoch 36/500\n",
      "219/219 [==============================] - 1s 2ms/step - loss: 0.3334 - accuracy: 0.8646 - val_loss: 0.3179 - val_accuracy: 0.8725\n",
      "Epoch 37/500\n",
      "219/219 [==============================] - 1s 2ms/step - loss: 0.3342 - accuracy: 0.8633 - val_loss: 0.3164 - val_accuracy: 0.8758\n",
      "Epoch 38/500\n",
      "219/219 [==============================] - 1s 2ms/step - loss: 0.3352 - accuracy: 0.8621 - val_loss: 0.3183 - val_accuracy: 0.8783\n",
      "Epoch 39/500\n",
      "219/219 [==============================] - 1s 2ms/step - loss: 0.3334 - accuracy: 0.8641 - val_loss: 0.3173 - val_accuracy: 0.8758\n",
      "Epoch 40/500\n",
      "219/219 [==============================] - 1s 2ms/step - loss: 0.3339 - accuracy: 0.8664 - val_loss: 0.3168 - val_accuracy: 0.8767\n",
      "Epoch 41/500\n",
      "219/219 [==============================] - 1s 2ms/step - loss: 0.3326 - accuracy: 0.8631 - val_loss: 0.3182 - val_accuracy: 0.8767\n",
      "Epoch 42/500\n",
      "219/219 [==============================] - 1s 2ms/step - loss: 0.3317 - accuracy: 0.8647 - val_loss: 0.3169 - val_accuracy: 0.8733\n",
      "Epoch 43/500\n",
      "219/219 [==============================] - 1s 2ms/step - loss: 0.3307 - accuracy: 0.8670 - val_loss: 0.3169 - val_accuracy: 0.8717\n",
      "Epoch 44/500\n",
      "219/219 [==============================] - 1s 2ms/step - loss: 0.3345 - accuracy: 0.8644 - val_loss: 0.3173 - val_accuracy: 0.8717\n",
      "Epoch 45/500\n",
      "219/219 [==============================] - 1s 2ms/step - loss: 0.3272 - accuracy: 0.8656 - val_loss: 0.3202 - val_accuracy: 0.8675\n",
      "Epoch 46/500\n",
      "219/219 [==============================] - 1s 3ms/step - loss: 0.3301 - accuracy: 0.8674 - val_loss: 0.3201 - val_accuracy: 0.8725\n",
      "Epoch 47/500\n",
      "219/219 [==============================] - 1s 2ms/step - loss: 0.3260 - accuracy: 0.8671 - val_loss: 0.3178 - val_accuracy: 0.8742\n",
      "Epoch 48/500\n",
      "219/219 [==============================] - 1s 2ms/step - loss: 0.3281 - accuracy: 0.8647 - val_loss: 0.3154 - val_accuracy: 0.8775\n",
      "Epoch 49/500\n",
      "219/219 [==============================] - 1s 3ms/step - loss: 0.3288 - accuracy: 0.8649 - val_loss: 0.3167 - val_accuracy: 0.8750\n",
      "Epoch 50/500\n",
      "219/219 [==============================] - 0s 2ms/step - loss: 0.3272 - accuracy: 0.8651 - val_loss: 0.3157 - val_accuracy: 0.8733\n",
      "Epoch 51/500\n",
      "219/219 [==============================] - 1s 2ms/step - loss: 0.3263 - accuracy: 0.8623 - val_loss: 0.3201 - val_accuracy: 0.8708\n",
      "Epoch 52/500\n",
      "219/219 [==============================] - 1s 3ms/step - loss: 0.3256 - accuracy: 0.8663 - val_loss: 0.3168 - val_accuracy: 0.8758\n",
      "Epoch 53/500\n",
      "219/219 [==============================] - 1s 3ms/step - loss: 0.3262 - accuracy: 0.8640 - val_loss: 0.3170 - val_accuracy: 0.8725\n",
      "Epoch 54/500\n",
      "219/219 [==============================] - 1s 3ms/step - loss: 0.3280 - accuracy: 0.8631 - val_loss: 0.3171 - val_accuracy: 0.8742\n",
      "Epoch 55/500\n",
      "219/219 [==============================] - 1s 2ms/step - loss: 0.3221 - accuracy: 0.8689 - val_loss: 0.3203 - val_accuracy: 0.8708\n",
      "Epoch 56/500\n",
      "219/219 [==============================] - 1s 3ms/step - loss: 0.3236 - accuracy: 0.8663 - val_loss: 0.3241 - val_accuracy: 0.8742\n",
      "Epoch 57/500\n",
      "219/219 [==============================] - 1s 2ms/step - loss: 0.3240 - accuracy: 0.8683 - val_loss: 0.3219 - val_accuracy: 0.8708\n"
     ]
    },
    {
     "name": "stdout",
     "output_type": "stream",
     "text": [
      "Epoch 58/500\n",
      "219/219 [==============================] - 1s 2ms/step - loss: 0.3201 - accuracy: 0.8697 - val_loss: 0.3228 - val_accuracy: 0.8708\n",
      "Epoch 59/500\n",
      "219/219 [==============================] - 1s 3ms/step - loss: 0.3256 - accuracy: 0.8687 - val_loss: 0.3194 - val_accuracy: 0.8700\n",
      "Epoch 60/500\n",
      "219/219 [==============================] - 1s 2ms/step - loss: 0.3225 - accuracy: 0.8689 - val_loss: 0.3212 - val_accuracy: 0.8725\n",
      "Epoch 61/500\n",
      "219/219 [==============================] - 1s 2ms/step - loss: 0.3240 - accuracy: 0.8659 - val_loss: 0.3181 - val_accuracy: 0.8750\n",
      "Epoch 62/500\n",
      "219/219 [==============================] - 1s 2ms/step - loss: 0.3195 - accuracy: 0.8670 - val_loss: 0.3185 - val_accuracy: 0.8742\n",
      "Epoch 63/500\n",
      "219/219 [==============================] - 1s 2ms/step - loss: 0.3182 - accuracy: 0.8704 - val_loss: 0.3208 - val_accuracy: 0.8733\n",
      "Epoch 64/500\n",
      "219/219 [==============================] - 1s 2ms/step - loss: 0.3172 - accuracy: 0.8657 - val_loss: 0.3203 - val_accuracy: 0.8692\n",
      "Epoch 65/500\n",
      "219/219 [==============================] - 1s 2ms/step - loss: 0.3177 - accuracy: 0.8656 - val_loss: 0.3222 - val_accuracy: 0.8725\n",
      "Epoch 66/500\n",
      "219/219 [==============================] - 1s 2ms/step - loss: 0.3174 - accuracy: 0.8724 - val_loss: 0.3227 - val_accuracy: 0.8733\n",
      "Epoch 67/500\n",
      "219/219 [==============================] - 1s 2ms/step - loss: 0.3214 - accuracy: 0.8646 - val_loss: 0.3213 - val_accuracy: 0.8708\n",
      "Epoch 68/500\n",
      "219/219 [==============================] - 1s 2ms/step - loss: 0.3197 - accuracy: 0.8684 - val_loss: 0.3210 - val_accuracy: 0.8742\n",
      "Epoch 69/500\n",
      "219/219 [==============================] - 1s 2ms/step - loss: 0.3212 - accuracy: 0.8690 - val_loss: 0.3190 - val_accuracy: 0.8725\n",
      "Epoch 70/500\n",
      "219/219 [==============================] - 1s 2ms/step - loss: 0.3186 - accuracy: 0.8700 - val_loss: 0.3202 - val_accuracy: 0.8692\n",
      "Epoch 71/500\n",
      "219/219 [==============================] - 1s 2ms/step - loss: 0.3191 - accuracy: 0.8691 - val_loss: 0.3233 - val_accuracy: 0.8742\n",
      "Epoch 72/500\n",
      "219/219 [==============================] - 1s 2ms/step - loss: 0.3170 - accuracy: 0.8743 - val_loss: 0.3190 - val_accuracy: 0.8758\n",
      "Epoch 73/500\n",
      "219/219 [==============================] - 1s 2ms/step - loss: 0.3161 - accuracy: 0.8681 - val_loss: 0.3189 - val_accuracy: 0.8742\n",
      "Epoch 74/500\n",
      "219/219 [==============================] - 1s 2ms/step - loss: 0.3176 - accuracy: 0.8704 - val_loss: 0.3252 - val_accuracy: 0.8700\n",
      "Epoch 75/500\n",
      "219/219 [==============================] - 1s 2ms/step - loss: 0.3176 - accuracy: 0.8699 - val_loss: 0.3221 - val_accuracy: 0.8700\n",
      "Epoch 76/500\n",
      "219/219 [==============================] - 1s 3ms/step - loss: 0.3150 - accuracy: 0.8707 - val_loss: 0.3241 - val_accuracy: 0.8725\n",
      "Epoch 77/500\n",
      "219/219 [==============================] - 1s 3ms/step - loss: 0.3128 - accuracy: 0.8686 - val_loss: 0.3251 - val_accuracy: 0.8692\n",
      "Epoch 78/500\n",
      "219/219 [==============================] - 1s 2ms/step - loss: 0.3159 - accuracy: 0.8693 - val_loss: 0.3234 - val_accuracy: 0.8742\n",
      "Epoch 79/500\n",
      "219/219 [==============================] - 1s 2ms/step - loss: 0.3142 - accuracy: 0.8680 - val_loss: 0.3267 - val_accuracy: 0.8725\n",
      "Epoch 80/500\n",
      "219/219 [==============================] - 1s 2ms/step - loss: 0.3152 - accuracy: 0.8674 - val_loss: 0.3255 - val_accuracy: 0.8742\n",
      "Epoch 81/500\n",
      "219/219 [==============================] - 1s 2ms/step - loss: 0.3137 - accuracy: 0.8747 - val_loss: 0.3232 - val_accuracy: 0.8758\n",
      "Epoch 82/500\n",
      "219/219 [==============================] - 1s 2ms/step - loss: 0.3086 - accuracy: 0.8746 - val_loss: 0.3258 - val_accuracy: 0.8775\n",
      "Epoch 83/500\n",
      "219/219 [==============================] - 1s 3ms/step - loss: 0.3101 - accuracy: 0.8699 - val_loss: 0.3246 - val_accuracy: 0.8775\n",
      "Epoch 84/500\n",
      "219/219 [==============================] - 0s 2ms/step - loss: 0.3152 - accuracy: 0.8713 - val_loss: 0.3235 - val_accuracy: 0.8750\n",
      "Epoch 85/500\n",
      "219/219 [==============================] - 1s 2ms/step - loss: 0.3130 - accuracy: 0.8724 - val_loss: 0.3257 - val_accuracy: 0.8717\n",
      "Epoch 86/500\n",
      "219/219 [==============================] - 1s 2ms/step - loss: 0.3145 - accuracy: 0.8697 - val_loss: 0.3285 - val_accuracy: 0.8742\n",
      "Epoch 87/500\n",
      "219/219 [==============================] - 1s 2ms/step - loss: 0.3130 - accuracy: 0.8700 - val_loss: 0.3238 - val_accuracy: 0.8708\n",
      "Epoch 88/500\n",
      "219/219 [==============================] - 1s 4ms/step - loss: 0.3110 - accuracy: 0.8716 - val_loss: 0.3278 - val_accuracy: 0.8675\n",
      "Epoch 89/500\n",
      "219/219 [==============================] - 1s 3ms/step - loss: 0.3120 - accuracy: 0.8709 - val_loss: 0.3304 - val_accuracy: 0.8717\n",
      "Epoch 90/500\n",
      "219/219 [==============================] - 1s 2ms/step - loss: 0.3110 - accuracy: 0.8734 - val_loss: 0.3287 - val_accuracy: 0.8742\n",
      "Epoch 91/500\n",
      "219/219 [==============================] - 1s 2ms/step - loss: 0.3091 - accuracy: 0.8737 - val_loss: 0.3237 - val_accuracy: 0.8708\n",
      "Epoch 92/500\n",
      "219/219 [==============================] - 1s 3ms/step - loss: 0.3077 - accuracy: 0.8737 - val_loss: 0.3313 - val_accuracy: 0.8700\n",
      "Epoch 93/500\n",
      "219/219 [==============================] - 1s 2ms/step - loss: 0.3098 - accuracy: 0.8743 - val_loss: 0.3277 - val_accuracy: 0.8717\n",
      "Epoch 94/500\n",
      "219/219 [==============================] - 1s 3ms/step - loss: 0.3100 - accuracy: 0.8721 - val_loss: 0.3246 - val_accuracy: 0.8725\n",
      "Epoch 95/500\n",
      "219/219 [==============================] - 1s 2ms/step - loss: 0.3097 - accuracy: 0.8699 - val_loss: 0.3266 - val_accuracy: 0.8717\n",
      "Epoch 96/500\n",
      "219/219 [==============================] - 1s 2ms/step - loss: 0.3124 - accuracy: 0.8726 - val_loss: 0.3265 - val_accuracy: 0.8758\n",
      "Epoch 97/500\n",
      "219/219 [==============================] - 1s 2ms/step - loss: 0.3088 - accuracy: 0.8729 - val_loss: 0.3291 - val_accuracy: 0.8733\n",
      "Epoch 98/500\n",
      "219/219 [==============================] - 1s 3ms/step - loss: 0.3068 - accuracy: 0.8770 - val_loss: 0.3230 - val_accuracy: 0.8742\n",
      "Epoch 99/500\n",
      "219/219 [==============================] - 1s 2ms/step - loss: 0.3058 - accuracy: 0.8720 - val_loss: 0.3238 - val_accuracy: 0.8758\n",
      "Epoch 100/500\n",
      "219/219 [==============================] - 1s 2ms/step - loss: 0.3085 - accuracy: 0.8706 - val_loss: 0.3262 - val_accuracy: 0.8750\n",
      "Epoch 101/500\n",
      "219/219 [==============================] - 1s 2ms/step - loss: 0.3074 - accuracy: 0.8717 - val_loss: 0.3250 - val_accuracy: 0.8733\n",
      "Epoch 102/500\n",
      "219/219 [==============================] - 1s 2ms/step - loss: 0.3038 - accuracy: 0.8707 - val_loss: 0.3252 - val_accuracy: 0.8800\n",
      "Epoch 103/500\n",
      "219/219 [==============================] - 1s 2ms/step - loss: 0.3065 - accuracy: 0.8736 - val_loss: 0.3249 - val_accuracy: 0.8742\n",
      "Epoch 104/500\n",
      "219/219 [==============================] - 1s 2ms/step - loss: 0.3058 - accuracy: 0.8750 - val_loss: 0.3245 - val_accuracy: 0.8733\n",
      "Epoch 105/500\n",
      "219/219 [==============================] - 1s 2ms/step - loss: 0.3018 - accuracy: 0.8747 - val_loss: 0.3259 - val_accuracy: 0.8750\n",
      "Epoch 106/500\n",
      "219/219 [==============================] - 1s 2ms/step - loss: 0.3052 - accuracy: 0.8733 - val_loss: 0.3272 - val_accuracy: 0.8742\n",
      "Epoch 107/500\n",
      "219/219 [==============================] - 1s 2ms/step - loss: 0.3055 - accuracy: 0.8694 - val_loss: 0.3294 - val_accuracy: 0.8733\n",
      "Epoch 108/500\n",
      "219/219 [==============================] - 1s 2ms/step - loss: 0.3057 - accuracy: 0.8733 - val_loss: 0.3272 - val_accuracy: 0.8733\n",
      "Epoch 109/500\n",
      "219/219 [==============================] - 1s 2ms/step - loss: 0.3055 - accuracy: 0.8721 - val_loss: 0.3306 - val_accuracy: 0.8725\n",
      "Epoch 110/500\n",
      "219/219 [==============================] - 1s 3ms/step - loss: 0.3040 - accuracy: 0.8727 - val_loss: 0.3265 - val_accuracy: 0.8667\n",
      "Epoch 111/500\n",
      "219/219 [==============================] - 1s 2ms/step - loss: 0.3044 - accuracy: 0.8766 - val_loss: 0.3274 - val_accuracy: 0.8717\n",
      "Epoch 112/500\n",
      "219/219 [==============================] - 1s 2ms/step - loss: 0.3097 - accuracy: 0.8731 - val_loss: 0.3268 - val_accuracy: 0.8708\n",
      "Epoch 113/500\n",
      "219/219 [==============================] - 1s 2ms/step - loss: 0.3049 - accuracy: 0.8740 - val_loss: 0.3317 - val_accuracy: 0.8717\n",
      "Epoch 114/500\n",
      "219/219 [==============================] - 1s 2ms/step - loss: 0.3015 - accuracy: 0.8740 - val_loss: 0.3320 - val_accuracy: 0.8683\n"
     ]
    },
    {
     "name": "stdout",
     "output_type": "stream",
     "text": [
      "Epoch 115/500\n",
      "219/219 [==============================] - 1s 2ms/step - loss: 0.3028 - accuracy: 0.8741 - val_loss: 0.3325 - val_accuracy: 0.8692\n",
      "Epoch 116/500\n",
      "219/219 [==============================] - 1s 2ms/step - loss: 0.3029 - accuracy: 0.8707 - val_loss: 0.3295 - val_accuracy: 0.8717\n",
      "Epoch 117/500\n",
      "219/219 [==============================] - 0s 2ms/step - loss: 0.2996 - accuracy: 0.8740 - val_loss: 0.3351 - val_accuracy: 0.8742\n",
      "Epoch 118/500\n",
      "219/219 [==============================] - 0s 2ms/step - loss: 0.3039 - accuracy: 0.8719 - val_loss: 0.3308 - val_accuracy: 0.8683\n",
      "Epoch 119/500\n",
      "219/219 [==============================] - 1s 2ms/step - loss: 0.2984 - accuracy: 0.8786 - val_loss: 0.3341 - val_accuracy: 0.8708\n",
      "Epoch 120/500\n",
      "219/219 [==============================] - 1s 2ms/step - loss: 0.3044 - accuracy: 0.8740 - val_loss: 0.3307 - val_accuracy: 0.8683\n",
      "Epoch 121/500\n",
      "219/219 [==============================] - 1s 2ms/step - loss: 0.3040 - accuracy: 0.8741 - val_loss: 0.3319 - val_accuracy: 0.8742\n",
      "Epoch 122/500\n",
      "219/219 [==============================] - 1s 2ms/step - loss: 0.2996 - accuracy: 0.8746 - val_loss: 0.3286 - val_accuracy: 0.8708\n",
      "Epoch 123/500\n",
      "219/219 [==============================] - 1s 2ms/step - loss: 0.3016 - accuracy: 0.8789 - val_loss: 0.3292 - val_accuracy: 0.8717\n",
      "Epoch 124/500\n",
      "219/219 [==============================] - 0s 2ms/step - loss: 0.2993 - accuracy: 0.8793 - val_loss: 0.3272 - val_accuracy: 0.8700\n",
      "Epoch 125/500\n",
      "219/219 [==============================] - 0s 2ms/step - loss: 0.3029 - accuracy: 0.8739 - val_loss: 0.3311 - val_accuracy: 0.8717\n",
      "Epoch 126/500\n",
      "219/219 [==============================] - 1s 2ms/step - loss: 0.2978 - accuracy: 0.8730 - val_loss: 0.3305 - val_accuracy: 0.8675\n",
      "Epoch 127/500\n",
      "219/219 [==============================] - 1s 3ms/step - loss: 0.3002 - accuracy: 0.8764 - val_loss: 0.3315 - val_accuracy: 0.8692\n",
      "Epoch 128/500\n",
      "219/219 [==============================] - 1s 2ms/step - loss: 0.3016 - accuracy: 0.8720 - val_loss: 0.3310 - val_accuracy: 0.8725\n",
      "Epoch 129/500\n",
      "219/219 [==============================] - 1s 2ms/step - loss: 0.2966 - accuracy: 0.8777 - val_loss: 0.3334 - val_accuracy: 0.8700\n",
      "Epoch 130/500\n",
      "219/219 [==============================] - 0s 2ms/step - loss: 0.3012 - accuracy: 0.8719 - val_loss: 0.3314 - val_accuracy: 0.8742\n",
      "Epoch 131/500\n",
      "219/219 [==============================] - 1s 3ms/step - loss: 0.2979 - accuracy: 0.8740 - val_loss: 0.3343 - val_accuracy: 0.8692\n",
      "Epoch 132/500\n",
      "219/219 [==============================] - 1s 3ms/step - loss: 0.3024 - accuracy: 0.8749 - val_loss: 0.3340 - val_accuracy: 0.8692\n",
      "Epoch 133/500\n",
      "219/219 [==============================] - 1s 3ms/step - loss: 0.2972 - accuracy: 0.8791 - val_loss: 0.3333 - val_accuracy: 0.8717\n",
      "Epoch 134/500\n",
      "219/219 [==============================] - 1s 3ms/step - loss: 0.2965 - accuracy: 0.8769 - val_loss: 0.3317 - val_accuracy: 0.8683\n",
      "Epoch 135/500\n",
      "219/219 [==============================] - 1s 3ms/step - loss: 0.2983 - accuracy: 0.8733 - val_loss: 0.3329 - val_accuracy: 0.8717\n",
      "Epoch 136/500\n",
      "219/219 [==============================] - 1s 3ms/step - loss: 0.3025 - accuracy: 0.8760 - val_loss: 0.3355 - val_accuracy: 0.8742\n",
      "Epoch 137/500\n",
      "219/219 [==============================] - 1s 3ms/step - loss: 0.3021 - accuracy: 0.8759 - val_loss: 0.3324 - val_accuracy: 0.8675\n",
      "Epoch 138/500\n",
      "219/219 [==============================] - 1s 3ms/step - loss: 0.3040 - accuracy: 0.8736 - val_loss: 0.3325 - val_accuracy: 0.8650\n",
      "Epoch 139/500\n",
      "219/219 [==============================] - 1s 3ms/step - loss: 0.2974 - accuracy: 0.8784 - val_loss: 0.3311 - val_accuracy: 0.8700\n",
      "Epoch 140/500\n",
      "219/219 [==============================] - 1s 3ms/step - loss: 0.2954 - accuracy: 0.8806 - val_loss: 0.3326 - val_accuracy: 0.8708\n",
      "Epoch 141/500\n",
      "219/219 [==============================] - 1s 3ms/step - loss: 0.2972 - accuracy: 0.8784 - val_loss: 0.3314 - val_accuracy: 0.8750\n",
      "Epoch 142/500\n",
      "219/219 [==============================] - 1s 3ms/step - loss: 0.2929 - accuracy: 0.8780 - val_loss: 0.3310 - val_accuracy: 0.8683\n",
      "Epoch 143/500\n",
      "219/219 [==============================] - 1s 2ms/step - loss: 0.2994 - accuracy: 0.8750 - val_loss: 0.3325 - val_accuracy: 0.8708\n",
      "Epoch 144/500\n",
      "219/219 [==============================] - 1s 3ms/step - loss: 0.2992 - accuracy: 0.8741 - val_loss: 0.3316 - val_accuracy: 0.8708\n",
      "Epoch 145/500\n",
      "219/219 [==============================] - 1s 3ms/step - loss: 0.2973 - accuracy: 0.8767 - val_loss: 0.3316 - val_accuracy: 0.8700\n",
      "Epoch 146/500\n",
      "219/219 [==============================] - 1s 3ms/step - loss: 0.2994 - accuracy: 0.8787 - val_loss: 0.3323 - val_accuracy: 0.8717\n",
      "Epoch 147/500\n",
      "219/219 [==============================] - 1s 3ms/step - loss: 0.2988 - accuracy: 0.8780 - val_loss: 0.3319 - val_accuracy: 0.8700\n",
      "Epoch 148/500\n",
      "219/219 [==============================] - 1s 3ms/step - loss: 0.2949 - accuracy: 0.8793 - val_loss: 0.3341 - val_accuracy: 0.8742\n",
      "Epoch 149/500\n",
      "219/219 [==============================] - 1s 3ms/step - loss: 0.2979 - accuracy: 0.8757 - val_loss: 0.3324 - val_accuracy: 0.8700\n",
      "Epoch 150/500\n",
      "219/219 [==============================] - 1s 3ms/step - loss: 0.2954 - accuracy: 0.8797 - val_loss: 0.3336 - val_accuracy: 0.8700\n",
      "Epoch 151/500\n",
      "219/219 [==============================] - 1s 3ms/step - loss: 0.2944 - accuracy: 0.8767 - val_loss: 0.3323 - val_accuracy: 0.8692\n",
      "Epoch 152/500\n",
      "219/219 [==============================] - 1s 3ms/step - loss: 0.3007 - accuracy: 0.8767 - val_loss: 0.3341 - val_accuracy: 0.8750\n",
      "Epoch 153/500\n",
      "219/219 [==============================] - 1s 3ms/step - loss: 0.2961 - accuracy: 0.8809 - val_loss: 0.3313 - val_accuracy: 0.8708\n",
      "Epoch 154/500\n",
      "219/219 [==============================] - 1s 3ms/step - loss: 0.3001 - accuracy: 0.8786 - val_loss: 0.3292 - val_accuracy: 0.8783\n",
      "Epoch 155/500\n",
      "219/219 [==============================] - 1s 3ms/step - loss: 0.3014 - accuracy: 0.8750 - val_loss: 0.3348 - val_accuracy: 0.8742\n",
      "Epoch 156/500\n",
      "219/219 [==============================] - 1s 3ms/step - loss: 0.2925 - accuracy: 0.8799 - val_loss: 0.3377 - val_accuracy: 0.8692\n",
      "Epoch 157/500\n",
      "219/219 [==============================] - 1s 3ms/step - loss: 0.2921 - accuracy: 0.8783 - val_loss: 0.3414 - val_accuracy: 0.8667\n",
      "Epoch 158/500\n",
      "219/219 [==============================] - 1s 3ms/step - loss: 0.2952 - accuracy: 0.8806 - val_loss: 0.3355 - val_accuracy: 0.8708\n",
      "Epoch 159/500\n",
      "219/219 [==============================] - 1s 3ms/step - loss: 0.2955 - accuracy: 0.8750 - val_loss: 0.3392 - val_accuracy: 0.8667\n",
      "Epoch 160/500\n",
      "219/219 [==============================] - 1s 4ms/step - loss: 0.2962 - accuracy: 0.8811 - val_loss: 0.3342 - val_accuracy: 0.8667\n",
      "Epoch 161/500\n",
      "219/219 [==============================] - 1s 4ms/step - loss: 0.2948 - accuracy: 0.8763 - val_loss: 0.3325 - val_accuracy: 0.8675\n",
      "Epoch 162/500\n",
      "219/219 [==============================] - 1s 3ms/step - loss: 0.2920 - accuracy: 0.8793 - val_loss: 0.3371 - val_accuracy: 0.8733\n",
      "Epoch 163/500\n",
      "219/219 [==============================] - 1s 2ms/step - loss: 0.2925 - accuracy: 0.8791 - val_loss: 0.3373 - val_accuracy: 0.8650\n",
      "Epoch 164/500\n",
      "219/219 [==============================] - 1s 3ms/step - loss: 0.2956 - accuracy: 0.8776 - val_loss: 0.3377 - val_accuracy: 0.8675\n",
      "Epoch 165/500\n",
      "219/219 [==============================] - 1s 3ms/step - loss: 0.2966 - accuracy: 0.8803 - val_loss: 0.3335 - val_accuracy: 0.8700\n",
      "Epoch 166/500\n",
      "219/219 [==============================] - 1s 3ms/step - loss: 0.2930 - accuracy: 0.8797 - val_loss: 0.3368 - val_accuracy: 0.8708\n",
      "Epoch 167/500\n",
      "219/219 [==============================] - 1s 3ms/step - loss: 0.2910 - accuracy: 0.8804 - val_loss: 0.3341 - val_accuracy: 0.8708\n",
      "Epoch 168/500\n",
      "219/219 [==============================] - 1s 3ms/step - loss: 0.2927 - accuracy: 0.8776 - val_loss: 0.3361 - val_accuracy: 0.8708\n",
      "Epoch 169/500\n",
      "219/219 [==============================] - 1s 3ms/step - loss: 0.2923 - accuracy: 0.8781 - val_loss: 0.3330 - val_accuracy: 0.8733\n",
      "Epoch 170/500\n",
      "219/219 [==============================] - 1s 3ms/step - loss: 0.2926 - accuracy: 0.8756 - val_loss: 0.3334 - val_accuracy: 0.8667\n",
      "Epoch 171/500\n",
      "219/219 [==============================] - 1s 2ms/step - loss: 0.2933 - accuracy: 0.8800 - val_loss: 0.3354 - val_accuracy: 0.8700\n",
      "Epoch 172/500\n",
      "219/219 [==============================] - 1s 3ms/step - loss: 0.2892 - accuracy: 0.8803 - val_loss: 0.3355 - val_accuracy: 0.8708\n",
      "Epoch 173/500\n",
      "219/219 [==============================] - 1s 2ms/step - loss: 0.2931 - accuracy: 0.8786 - val_loss: 0.3340 - val_accuracy: 0.8767\n",
      "Epoch 174/500\n",
      "219/219 [==============================] - 1s 2ms/step - loss: 0.2920 - accuracy: 0.8809 - val_loss: 0.3375 - val_accuracy: 0.8717\n",
      "Epoch 175/500\n",
      "219/219 [==============================] - 1s 2ms/step - loss: 0.2912 - accuracy: 0.8801 - val_loss: 0.3347 - val_accuracy: 0.8725\n",
      "Epoch 176/500\n",
      "219/219 [==============================] - 1s 2ms/step - loss: 0.2913 - accuracy: 0.8791 - val_loss: 0.3355 - val_accuracy: 0.8692\n",
      "Epoch 177/500\n",
      "219/219 [==============================] - 1s 2ms/step - loss: 0.2966 - accuracy: 0.8753 - val_loss: 0.3349 - val_accuracy: 0.8708\n",
      "Epoch 178/500\n",
      "219/219 [==============================] - 0s 2ms/step - loss: 0.2928 - accuracy: 0.8791 - val_loss: 0.3315 - val_accuracy: 0.8708\n",
      "Epoch 179/500\n",
      "219/219 [==============================] - 1s 2ms/step - loss: 0.2911 - accuracy: 0.8820 - val_loss: 0.3314 - val_accuracy: 0.8742\n",
      "Epoch 180/500\n",
      "219/219 [==============================] - 1s 2ms/step - loss: 0.2935 - accuracy: 0.8791 - val_loss: 0.3340 - val_accuracy: 0.8700\n",
      "Epoch 181/500\n",
      "219/219 [==============================] - 1s 2ms/step - loss: 0.2916 - accuracy: 0.8791 - val_loss: 0.3397 - val_accuracy: 0.8708\n",
      "Epoch 182/500\n",
      "219/219 [==============================] - 1s 2ms/step - loss: 0.2892 - accuracy: 0.8816 - val_loss: 0.3409 - val_accuracy: 0.8700\n",
      "Epoch 183/500\n",
      "219/219 [==============================] - 1s 2ms/step - loss: 0.2835 - accuracy: 0.8794 - val_loss: 0.3407 - val_accuracy: 0.8750\n",
      "Epoch 184/500\n",
      "219/219 [==============================] - 1s 3ms/step - loss: 0.2948 - accuracy: 0.8777 - val_loss: 0.3350 - val_accuracy: 0.8750\n",
      "Epoch 185/500\n",
      "219/219 [==============================] - 1s 2ms/step - loss: 0.2910 - accuracy: 0.8806 - val_loss: 0.3360 - val_accuracy: 0.8733\n",
      "Epoch 186/500\n",
      "219/219 [==============================] - 1s 2ms/step - loss: 0.2922 - accuracy: 0.8783 - val_loss: 0.3371 - val_accuracy: 0.8658\n",
      "Epoch 187/500\n",
      "219/219 [==============================] - 1s 2ms/step - loss: 0.2922 - accuracy: 0.8806 - val_loss: 0.3324 - val_accuracy: 0.8700\n",
      "Epoch 188/500\n",
      "219/219 [==============================] - 1s 2ms/step - loss: 0.2902 - accuracy: 0.8816 - val_loss: 0.3339 - val_accuracy: 0.8683\n",
      "Epoch 189/500\n",
      "219/219 [==============================] - 1s 2ms/step - loss: 0.2880 - accuracy: 0.8817 - val_loss: 0.3347 - val_accuracy: 0.8708\n",
      "Epoch 190/500\n",
      "219/219 [==============================] - 1s 2ms/step - loss: 0.2917 - accuracy: 0.8774 - val_loss: 0.3306 - val_accuracy: 0.8742\n",
      "Epoch 191/500\n",
      "219/219 [==============================] - 1s 2ms/step - loss: 0.2873 - accuracy: 0.8809 - val_loss: 0.3356 - val_accuracy: 0.8725\n",
      "Epoch 192/500\n",
      "219/219 [==============================] - 1s 2ms/step - loss: 0.2887 - accuracy: 0.8760 - val_loss: 0.3359 - val_accuracy: 0.8675\n",
      "Epoch 193/500\n",
      "219/219 [==============================] - 1s 2ms/step - loss: 0.2916 - accuracy: 0.8789 - val_loss: 0.3314 - val_accuracy: 0.8683\n",
      "Epoch 194/500\n",
      "219/219 [==============================] - 1s 2ms/step - loss: 0.2884 - accuracy: 0.8806 - val_loss: 0.3345 - val_accuracy: 0.8700\n",
      "Epoch 195/500\n",
      "219/219 [==============================] - 1s 3ms/step - loss: 0.2954 - accuracy: 0.8770 - val_loss: 0.3344 - val_accuracy: 0.8700\n",
      "Epoch 196/500\n",
      "219/219 [==============================] - 1s 2ms/step - loss: 0.2916 - accuracy: 0.8777 - val_loss: 0.3354 - val_accuracy: 0.8692\n",
      "Epoch 197/500\n",
      "219/219 [==============================] - 0s 2ms/step - loss: 0.2887 - accuracy: 0.8794 - val_loss: 0.3389 - val_accuracy: 0.8692\n",
      "Epoch 198/500\n",
      "219/219 [==============================] - 1s 2ms/step - loss: 0.2835 - accuracy: 0.8790 - val_loss: 0.3391 - val_accuracy: 0.8708\n",
      "Epoch 199/500\n",
      "219/219 [==============================] - 1s 2ms/step - loss: 0.2864 - accuracy: 0.8794 - val_loss: 0.3408 - val_accuracy: 0.8667\n",
      "Epoch 200/500\n",
      "219/219 [==============================] - 1s 3ms/step - loss: 0.2879 - accuracy: 0.8821 - val_loss: 0.3395 - val_accuracy: 0.8658\n",
      "Epoch 201/500\n",
      "219/219 [==============================] - 1s 2ms/step - loss: 0.2859 - accuracy: 0.8796 - val_loss: 0.3314 - val_accuracy: 0.8692\n",
      "Epoch 202/500\n",
      "219/219 [==============================] - 1s 2ms/step - loss: 0.2906 - accuracy: 0.8773 - val_loss: 0.3388 - val_accuracy: 0.8675\n",
      "Epoch 203/500\n",
      "219/219 [==============================] - 1s 2ms/step - loss: 0.2883 - accuracy: 0.8801 - val_loss: 0.3385 - val_accuracy: 0.8633\n",
      "Epoch 204/500\n",
      "219/219 [==============================] - 1s 2ms/step - loss: 0.2894 - accuracy: 0.8793 - val_loss: 0.3397 - val_accuracy: 0.8683\n",
      "Epoch 205/500\n",
      "219/219 [==============================] - 1s 2ms/step - loss: 0.2866 - accuracy: 0.8824 - val_loss: 0.3399 - val_accuracy: 0.8650\n",
      "Epoch 206/500\n",
      "219/219 [==============================] - 1s 2ms/step - loss: 0.2858 - accuracy: 0.8800 - val_loss: 0.3373 - val_accuracy: 0.8658\n",
      "Epoch 207/500\n",
      "219/219 [==============================] - 1s 2ms/step - loss: 0.2893 - accuracy: 0.8790 - val_loss: 0.3403 - val_accuracy: 0.8692\n",
      "Epoch 208/500\n",
      "219/219 [==============================] - 1s 2ms/step - loss: 0.2909 - accuracy: 0.8803 - val_loss: 0.3397 - val_accuracy: 0.8717\n",
      "Epoch 209/500\n",
      "219/219 [==============================] - 1s 2ms/step - loss: 0.2902 - accuracy: 0.8813 - val_loss: 0.3379 - val_accuracy: 0.8692\n",
      "Epoch 210/500\n",
      "219/219 [==============================] - 1s 2ms/step - loss: 0.2906 - accuracy: 0.8767 - val_loss: 0.3373 - val_accuracy: 0.8642\n",
      "Epoch 211/500\n",
      "219/219 [==============================] - 1s 2ms/step - loss: 0.2825 - accuracy: 0.8827 - val_loss: 0.3395 - val_accuracy: 0.8725\n",
      "Epoch 212/500\n",
      "219/219 [==============================] - 1s 2ms/step - loss: 0.2874 - accuracy: 0.8787 - val_loss: 0.3352 - val_accuracy: 0.8675\n",
      "Epoch 213/500\n",
      "219/219 [==============================] - 1s 2ms/step - loss: 0.2914 - accuracy: 0.8823 - val_loss: 0.3342 - val_accuracy: 0.8667\n",
      "Epoch 214/500\n",
      "219/219 [==============================] - 1s 2ms/step - loss: 0.2852 - accuracy: 0.8813 - val_loss: 0.3410 - val_accuracy: 0.8692\n",
      "Epoch 215/500\n",
      "219/219 [==============================] - 1s 3ms/step - loss: 0.2854 - accuracy: 0.8794 - val_loss: 0.3406 - val_accuracy: 0.8683\n",
      "Epoch 216/500\n",
      "219/219 [==============================] - 1s 2ms/step - loss: 0.2873 - accuracy: 0.8797 - val_loss: 0.3396 - val_accuracy: 0.8717\n",
      "Epoch 217/500\n",
      "219/219 [==============================] - 1s 2ms/step - loss: 0.2894 - accuracy: 0.8827 - val_loss: 0.3362 - val_accuracy: 0.8683\n",
      "Epoch 218/500\n",
      "219/219 [==============================] - 1s 2ms/step - loss: 0.2874 - accuracy: 0.8837 - val_loss: 0.3394 - val_accuracy: 0.8708\n",
      "Epoch 219/500\n",
      "219/219 [==============================] - 1s 2ms/step - loss: 0.2886 - accuracy: 0.8809 - val_loss: 0.3349 - val_accuracy: 0.8750\n",
      "Epoch 220/500\n",
      "219/219 [==============================] - 0s 2ms/step - loss: 0.2889 - accuracy: 0.8781 - val_loss: 0.3386 - val_accuracy: 0.8700\n",
      "Epoch 221/500\n",
      "219/219 [==============================] - 1s 2ms/step - loss: 0.2820 - accuracy: 0.8824 - val_loss: 0.3436 - val_accuracy: 0.8733\n",
      "Epoch 222/500\n",
      "219/219 [==============================] - 1s 2ms/step - loss: 0.2853 - accuracy: 0.8806 - val_loss: 0.3423 - val_accuracy: 0.8692\n",
      "Epoch 223/500\n",
      "219/219 [==============================] - 1s 2ms/step - loss: 0.2863 - accuracy: 0.8846 - val_loss: 0.3431 - val_accuracy: 0.8667\n",
      "Epoch 224/500\n",
      "219/219 [==============================] - 1s 2ms/step - loss: 0.2857 - accuracy: 0.8807 - val_loss: 0.3436 - val_accuracy: 0.8708\n",
      "Epoch 225/500\n",
      "219/219 [==============================] - 1s 2ms/step - loss: 0.2874 - accuracy: 0.8834 - val_loss: 0.3411 - val_accuracy: 0.8700\n",
      "Epoch 226/500\n",
      "219/219 [==============================] - 1s 2ms/step - loss: 0.2784 - accuracy: 0.8890 - val_loss: 0.3432 - val_accuracy: 0.8692\n",
      "Epoch 227/500\n"
     ]
    },
    {
     "name": "stdout",
     "output_type": "stream",
     "text": [
      "219/219 [==============================] - 1s 2ms/step - loss: 0.2862 - accuracy: 0.8804 - val_loss: 0.3428 - val_accuracy: 0.8675\n",
      "Epoch 228/500\n",
      "219/219 [==============================] - 1s 3ms/step - loss: 0.2825 - accuracy: 0.8863 - val_loss: 0.3425 - val_accuracy: 0.8692\n",
      "Epoch 229/500\n",
      "219/219 [==============================] - 1s 2ms/step - loss: 0.2855 - accuracy: 0.8769 - val_loss: 0.3383 - val_accuracy: 0.8717\n",
      "Epoch 230/500\n",
      "219/219 [==============================] - 1s 2ms/step - loss: 0.2886 - accuracy: 0.8814 - val_loss: 0.3421 - val_accuracy: 0.8667\n",
      "Epoch 231/500\n",
      "219/219 [==============================] - 1s 2ms/step - loss: 0.2834 - accuracy: 0.8833 - val_loss: 0.3439 - val_accuracy: 0.8700\n",
      "Epoch 232/500\n",
      "219/219 [==============================] - 1s 2ms/step - loss: 0.2829 - accuracy: 0.8826 - val_loss: 0.3458 - val_accuracy: 0.8683\n",
      "Epoch 233/500\n",
      "219/219 [==============================] - 1s 2ms/step - loss: 0.2795 - accuracy: 0.8844 - val_loss: 0.3427 - val_accuracy: 0.8700\n",
      "Epoch 234/500\n",
      "219/219 [==============================] - 1s 2ms/step - loss: 0.2840 - accuracy: 0.8817 - val_loss: 0.3433 - val_accuracy: 0.8667\n",
      "Epoch 235/500\n",
      "219/219 [==============================] - 1s 2ms/step - loss: 0.2917 - accuracy: 0.8777 - val_loss: 0.3349 - val_accuracy: 0.8675\n",
      "Epoch 236/500\n",
      "219/219 [==============================] - 1s 2ms/step - loss: 0.2826 - accuracy: 0.8853 - val_loss: 0.3390 - val_accuracy: 0.8708\n",
      "Epoch 237/500\n",
      "219/219 [==============================] - 1s 2ms/step - loss: 0.2826 - accuracy: 0.8824 - val_loss: 0.3393 - val_accuracy: 0.8667\n",
      "Epoch 238/500\n",
      "219/219 [==============================] - 1s 2ms/step - loss: 0.2783 - accuracy: 0.8844 - val_loss: 0.3351 - val_accuracy: 0.8700\n",
      "Epoch 239/500\n",
      "219/219 [==============================] - 1s 2ms/step - loss: 0.2853 - accuracy: 0.8803 - val_loss: 0.3368 - val_accuracy: 0.8717\n",
      "Epoch 240/500\n",
      "219/219 [==============================] - 1s 3ms/step - loss: 0.2773 - accuracy: 0.8869 - val_loss: 0.3372 - val_accuracy: 0.8675\n",
      "Epoch 241/500\n",
      "219/219 [==============================] - 1s 2ms/step - loss: 0.2782 - accuracy: 0.8839 - val_loss: 0.3415 - val_accuracy: 0.8708\n",
      "Epoch 242/500\n",
      "219/219 [==============================] - 1s 2ms/step - loss: 0.2851 - accuracy: 0.8814 - val_loss: 0.3417 - val_accuracy: 0.8700\n",
      "Epoch 243/500\n",
      "219/219 [==============================] - 1s 2ms/step - loss: 0.2866 - accuracy: 0.8811 - val_loss: 0.3456 - val_accuracy: 0.8675\n",
      "Epoch 244/500\n",
      "219/219 [==============================] - 1s 2ms/step - loss: 0.2809 - accuracy: 0.8849 - val_loss: 0.3411 - val_accuracy: 0.8683\n",
      "Epoch 245/500\n",
      "219/219 [==============================] - 1s 2ms/step - loss: 0.2786 - accuracy: 0.8857 - val_loss: 0.3395 - val_accuracy: 0.8742\n",
      "Epoch 246/500\n",
      "219/219 [==============================] - 1s 2ms/step - loss: 0.2767 - accuracy: 0.8846 - val_loss: 0.3373 - val_accuracy: 0.8667\n",
      "Epoch 247/500\n",
      "219/219 [==============================] - 1s 3ms/step - loss: 0.2869 - accuracy: 0.8810 - val_loss: 0.3366 - val_accuracy: 0.8667\n",
      "Epoch 248/500\n",
      "219/219 [==============================] - 1s 3ms/step - loss: 0.2808 - accuracy: 0.8793 - val_loss: 0.3364 - val_accuracy: 0.8708\n",
      "Epoch 249/500\n",
      "219/219 [==============================] - 1s 3ms/step - loss: 0.2844 - accuracy: 0.8824 - val_loss: 0.3360 - val_accuracy: 0.8692\n",
      "Epoch 250/500\n",
      "219/219 [==============================] - 1s 3ms/step - loss: 0.2823 - accuracy: 0.8826 - val_loss: 0.3409 - val_accuracy: 0.8667\n",
      "Epoch 251/500\n",
      "219/219 [==============================] - 1s 2ms/step - loss: 0.2810 - accuracy: 0.8821 - val_loss: 0.3403 - val_accuracy: 0.8658\n",
      "Epoch 252/500\n",
      "219/219 [==============================] - 1s 2ms/step - loss: 0.2764 - accuracy: 0.8876 - val_loss: 0.3405 - val_accuracy: 0.8708\n",
      "Epoch 253/500\n",
      "219/219 [==============================] - 1s 2ms/step - loss: 0.2784 - accuracy: 0.8857 - val_loss: 0.3421 - val_accuracy: 0.8708\n",
      "Epoch 254/500\n",
      "219/219 [==============================] - 1s 2ms/step - loss: 0.2885 - accuracy: 0.8807 - val_loss: 0.3441 - val_accuracy: 0.8667\n",
      "Epoch 255/500\n",
      "219/219 [==============================] - 1s 2ms/step - loss: 0.2824 - accuracy: 0.8827 - val_loss: 0.3365 - val_accuracy: 0.8708\n",
      "Epoch 256/500\n",
      "219/219 [==============================] - 1s 2ms/step - loss: 0.2831 - accuracy: 0.8824 - val_loss: 0.3415 - val_accuracy: 0.8683\n",
      "Epoch 257/500\n",
      "219/219 [==============================] - 1s 2ms/step - loss: 0.2815 - accuracy: 0.8826 - val_loss: 0.3419 - val_accuracy: 0.8692\n",
      "Epoch 258/500\n",
      "219/219 [==============================] - 1s 3ms/step - loss: 0.2783 - accuracy: 0.8867 - val_loss: 0.3409 - val_accuracy: 0.8692\n",
      "Epoch 259/500\n",
      "219/219 [==============================] - 1s 2ms/step - loss: 0.2810 - accuracy: 0.8836 - val_loss: 0.3406 - val_accuracy: 0.8667\n",
      "Epoch 260/500\n",
      "219/219 [==============================] - 1s 2ms/step - loss: 0.2799 - accuracy: 0.8814 - val_loss: 0.3411 - val_accuracy: 0.8683\n",
      "Epoch 261/500\n",
      "219/219 [==============================] - 1s 2ms/step - loss: 0.2811 - accuracy: 0.8851 - val_loss: 0.3426 - val_accuracy: 0.8692\n",
      "Epoch 262/500\n",
      "219/219 [==============================] - 1s 2ms/step - loss: 0.2778 - accuracy: 0.8830 - val_loss: 0.3379 - val_accuracy: 0.8700\n",
      "Epoch 263/500\n",
      "219/219 [==============================] - 1s 2ms/step - loss: 0.2845 - accuracy: 0.8803 - val_loss: 0.3420 - val_accuracy: 0.8658\n",
      "Epoch 264/500\n",
      "219/219 [==============================] - 1s 2ms/step - loss: 0.2826 - accuracy: 0.8827 - val_loss: 0.3434 - val_accuracy: 0.8600\n",
      "Epoch 265/500\n",
      "219/219 [==============================] - 1s 2ms/step - loss: 0.2797 - accuracy: 0.8857 - val_loss: 0.3438 - val_accuracy: 0.8700\n",
      "Epoch 266/500\n",
      "219/219 [==============================] - 0s 2ms/step - loss: 0.2798 - accuracy: 0.8844 - val_loss: 0.3438 - val_accuracy: 0.8692\n",
      "Epoch 267/500\n",
      "219/219 [==============================] - 1s 2ms/step - loss: 0.2830 - accuracy: 0.8827 - val_loss: 0.3388 - val_accuracy: 0.8692\n",
      "Epoch 268/500\n",
      "219/219 [==============================] - 1s 2ms/step - loss: 0.2774 - accuracy: 0.8849 - val_loss: 0.3385 - val_accuracy: 0.8700\n",
      "Epoch 269/500\n",
      "219/219 [==============================] - 1s 2ms/step - loss: 0.2778 - accuracy: 0.8850 - val_loss: 0.3412 - val_accuracy: 0.8650\n",
      "Epoch 270/500\n",
      "219/219 [==============================] - 0s 2ms/step - loss: 0.2749 - accuracy: 0.8841 - val_loss: 0.3394 - val_accuracy: 0.8667\n",
      "Epoch 271/500\n",
      "219/219 [==============================] - 1s 2ms/step - loss: 0.2791 - accuracy: 0.8853 - val_loss: 0.3447 - val_accuracy: 0.8633\n",
      "Epoch 272/500\n",
      "219/219 [==============================] - 0s 2ms/step - loss: 0.2765 - accuracy: 0.8843 - val_loss: 0.3477 - val_accuracy: 0.8700\n",
      "Epoch 273/500\n",
      "219/219 [==============================] - 1s 3ms/step - loss: 0.2795 - accuracy: 0.8866 - val_loss: 0.3476 - val_accuracy: 0.8667\n",
      "Epoch 274/500\n",
      "219/219 [==============================] - 0s 2ms/step - loss: 0.2822 - accuracy: 0.8854 - val_loss: 0.3429 - val_accuracy: 0.8675\n",
      "Epoch 275/500\n",
      "219/219 [==============================] - 1s 2ms/step - loss: 0.2855 - accuracy: 0.8821 - val_loss: 0.3463 - val_accuracy: 0.8658\n",
      "Epoch 276/500\n",
      "219/219 [==============================] - 1s 2ms/step - loss: 0.2832 - accuracy: 0.8820 - val_loss: 0.3456 - val_accuracy: 0.8650\n",
      "Epoch 277/500\n",
      "219/219 [==============================] - 1s 2ms/step - loss: 0.2765 - accuracy: 0.8854 - val_loss: 0.3454 - val_accuracy: 0.8642\n",
      "Epoch 278/500\n",
      "219/219 [==============================] - 1s 2ms/step - loss: 0.2769 - accuracy: 0.8877 - val_loss: 0.3459 - val_accuracy: 0.8675\n",
      "Epoch 279/500\n",
      "219/219 [==============================] - 1s 2ms/step - loss: 0.2755 - accuracy: 0.8869 - val_loss: 0.3468 - val_accuracy: 0.8650\n",
      "Epoch 280/500\n",
      "219/219 [==============================] - 1s 3ms/step - loss: 0.2817 - accuracy: 0.8820 - val_loss: 0.3453 - val_accuracy: 0.8633\n",
      "Epoch 281/500\n",
      "219/219 [==============================] - 1s 2ms/step - loss: 0.2754 - accuracy: 0.8859 - val_loss: 0.3457 - val_accuracy: 0.8717\n",
      "Epoch 282/500\n",
      "219/219 [==============================] - 1s 2ms/step - loss: 0.2772 - accuracy: 0.8861 - val_loss: 0.3464 - val_accuracy: 0.8675\n",
      "Epoch 283/500\n",
      "219/219 [==============================] - 0s 2ms/step - loss: 0.2791 - accuracy: 0.8857 - val_loss: 0.3462 - val_accuracy: 0.8683\n",
      "Epoch 284/500\n",
      "219/219 [==============================] - 1s 2ms/step - loss: 0.2747 - accuracy: 0.8863 - val_loss: 0.3443 - val_accuracy: 0.8700\n",
      "Epoch 285/500\n",
      "219/219 [==============================] - 1s 2ms/step - loss: 0.2781 - accuracy: 0.8823 - val_loss: 0.3425 - val_accuracy: 0.8700\n",
      "Epoch 286/500\n",
      "219/219 [==============================] - 0s 2ms/step - loss: 0.2767 - accuracy: 0.8850 - val_loss: 0.3412 - val_accuracy: 0.8708\n",
      "Epoch 287/500\n",
      "219/219 [==============================] - 0s 2ms/step - loss: 0.2746 - accuracy: 0.8894 - val_loss: 0.3476 - val_accuracy: 0.8667\n",
      "Epoch 288/500\n",
      "219/219 [==============================] - 1s 2ms/step - loss: 0.2770 - accuracy: 0.8821 - val_loss: 0.3504 - val_accuracy: 0.8667\n",
      "Epoch 289/500\n",
      "219/219 [==============================] - 1s 2ms/step - loss: 0.2750 - accuracy: 0.8859 - val_loss: 0.3433 - val_accuracy: 0.8642\n",
      "Epoch 290/500\n",
      "219/219 [==============================] - 1s 2ms/step - loss: 0.2795 - accuracy: 0.8849 - val_loss: 0.3463 - val_accuracy: 0.8708\n",
      "Epoch 291/500\n",
      "219/219 [==============================] - 1s 2ms/step - loss: 0.2764 - accuracy: 0.8824 - val_loss: 0.3444 - val_accuracy: 0.8658\n",
      "Epoch 292/500\n",
      "219/219 [==============================] - 0s 2ms/step - loss: 0.2759 - accuracy: 0.8874 - val_loss: 0.3447 - val_accuracy: 0.8708\n",
      "Epoch 293/500\n",
      "219/219 [==============================] - 0s 2ms/step - loss: 0.2815 - accuracy: 0.8796 - val_loss: 0.3478 - val_accuracy: 0.8667\n",
      "Epoch 294/500\n",
      "219/219 [==============================] - 1s 2ms/step - loss: 0.2776 - accuracy: 0.8889 - val_loss: 0.3444 - val_accuracy: 0.8692\n",
      "Epoch 295/500\n",
      "219/219 [==============================] - 1s 2ms/step - loss: 0.2748 - accuracy: 0.8854 - val_loss: 0.3485 - val_accuracy: 0.8675\n",
      "Epoch 296/500\n",
      "219/219 [==============================] - 1s 3ms/step - loss: 0.2762 - accuracy: 0.8871 - val_loss: 0.3452 - val_accuracy: 0.8667\n",
      "Epoch 297/500\n",
      "219/219 [==============================] - 1s 2ms/step - loss: 0.2799 - accuracy: 0.8856 - val_loss: 0.3440 - val_accuracy: 0.8650\n",
      "Epoch 298/500\n",
      "219/219 [==============================] - 1s 2ms/step - loss: 0.2787 - accuracy: 0.8869 - val_loss: 0.3426 - val_accuracy: 0.8675\n",
      "Epoch 299/500\n",
      "219/219 [==============================] - 0s 2ms/step - loss: 0.2790 - accuracy: 0.8809 - val_loss: 0.3427 - val_accuracy: 0.8725\n",
      "Epoch 300/500\n",
      "219/219 [==============================] - 1s 2ms/step - loss: 0.2788 - accuracy: 0.8841 - val_loss: 0.3410 - val_accuracy: 0.8667\n",
      "Epoch 301/500\n",
      "219/219 [==============================] - 1s 2ms/step - loss: 0.2829 - accuracy: 0.8809 - val_loss: 0.3450 - val_accuracy: 0.8708\n",
      "Epoch 302/500\n",
      "219/219 [==============================] - 1s 2ms/step - loss: 0.2766 - accuracy: 0.8837 - val_loss: 0.3447 - val_accuracy: 0.8667\n",
      "Epoch 303/500\n",
      "219/219 [==============================] - 1s 2ms/step - loss: 0.2790 - accuracy: 0.8813 - val_loss: 0.3459 - val_accuracy: 0.8658\n",
      "Epoch 304/500\n",
      "219/219 [==============================] - 1s 2ms/step - loss: 0.2786 - accuracy: 0.8867 - val_loss: 0.3421 - val_accuracy: 0.8683\n",
      "Epoch 305/500\n",
      "219/219 [==============================] - 1s 2ms/step - loss: 0.2780 - accuracy: 0.8821 - val_loss: 0.3418 - val_accuracy: 0.8683\n",
      "Epoch 306/500\n",
      "219/219 [==============================] - 1s 2ms/step - loss: 0.2775 - accuracy: 0.8830 - val_loss: 0.3428 - val_accuracy: 0.8667\n",
      "Epoch 307/500\n",
      "219/219 [==============================] - 1s 2ms/step - loss: 0.2760 - accuracy: 0.8864 - val_loss: 0.3428 - val_accuracy: 0.8642\n",
      "Epoch 308/500\n",
      "219/219 [==============================] - 1s 2ms/step - loss: 0.2747 - accuracy: 0.8871 - val_loss: 0.3469 - val_accuracy: 0.8633\n",
      "Epoch 309/500\n",
      "219/219 [==============================] - 1s 3ms/step - loss: 0.2782 - accuracy: 0.8864 - val_loss: 0.3458 - val_accuracy: 0.8667\n",
      "Epoch 310/500\n",
      "219/219 [==============================] - 1s 2ms/step - loss: 0.2745 - accuracy: 0.8887 - val_loss: 0.3407 - val_accuracy: 0.8683\n",
      "Epoch 311/500\n",
      "219/219 [==============================] - 1s 2ms/step - loss: 0.2751 - accuracy: 0.8853 - val_loss: 0.3436 - val_accuracy: 0.8700\n",
      "Epoch 312/500\n",
      "219/219 [==============================] - 1s 2ms/step - loss: 0.2756 - accuracy: 0.8816 - val_loss: 0.3483 - val_accuracy: 0.8642\n",
      "Epoch 313/500\n",
      "219/219 [==============================] - 1s 2ms/step - loss: 0.2754 - accuracy: 0.8839 - val_loss: 0.3473 - val_accuracy: 0.8667\n",
      "Epoch 314/500\n",
      "219/219 [==============================] - 1s 2ms/step - loss: 0.2741 - accuracy: 0.8901 - val_loss: 0.3473 - val_accuracy: 0.8683\n",
      "Epoch 315/500\n",
      "219/219 [==============================] - 1s 3ms/step - loss: 0.2741 - accuracy: 0.8866 - val_loss: 0.3479 - val_accuracy: 0.8675\n",
      "Epoch 316/500\n",
      "219/219 [==============================] - 1s 2ms/step - loss: 0.2761 - accuracy: 0.8876 - val_loss: 0.3480 - val_accuracy: 0.8633\n",
      "Epoch 317/500\n",
      "219/219 [==============================] - 1s 2ms/step - loss: 0.2715 - accuracy: 0.8873 - val_loss: 0.3441 - val_accuracy: 0.8658\n",
      "Epoch 318/500\n",
      "219/219 [==============================] - 1s 2ms/step - loss: 0.2761 - accuracy: 0.8874 - val_loss: 0.3444 - val_accuracy: 0.8717\n",
      "Epoch 319/500\n",
      "219/219 [==============================] - 1s 2ms/step - loss: 0.2779 - accuracy: 0.8851 - val_loss: 0.3441 - val_accuracy: 0.8708\n",
      "Epoch 320/500\n",
      "219/219 [==============================] - 1s 3ms/step - loss: 0.2796 - accuracy: 0.8844 - val_loss: 0.3473 - val_accuracy: 0.8658\n",
      "Epoch 321/500\n",
      "219/219 [==============================] - 0s 2ms/step - loss: 0.2777 - accuracy: 0.8844 - val_loss: 0.3460 - val_accuracy: 0.8675\n",
      "Epoch 322/500\n",
      "219/219 [==============================] - 0s 2ms/step - loss: 0.2704 - accuracy: 0.8874 - val_loss: 0.3459 - val_accuracy: 0.8683\n",
      "Epoch 323/500\n",
      "219/219 [==============================] - 1s 2ms/step - loss: 0.2808 - accuracy: 0.8844 - val_loss: 0.3479 - val_accuracy: 0.8692\n",
      "Epoch 324/500\n",
      "219/219 [==============================] - 1s 2ms/step - loss: 0.2722 - accuracy: 0.8874 - val_loss: 0.3462 - val_accuracy: 0.8658\n",
      "Epoch 325/500\n",
      "219/219 [==============================] - 1s 2ms/step - loss: 0.2824 - accuracy: 0.8846 - val_loss: 0.3411 - val_accuracy: 0.8658\n",
      "Epoch 326/500\n",
      "219/219 [==============================] - 1s 2ms/step - loss: 0.2737 - accuracy: 0.8846 - val_loss: 0.3488 - val_accuracy: 0.8650\n",
      "Epoch 327/500\n",
      "219/219 [==============================] - 1s 2ms/step - loss: 0.2741 - accuracy: 0.8874 - val_loss: 0.3441 - val_accuracy: 0.8700\n",
      "Epoch 328/500\n",
      "219/219 [==============================] - 1s 2ms/step - loss: 0.2782 - accuracy: 0.8821 - val_loss: 0.3393 - val_accuracy: 0.8683\n",
      "Epoch 329/500\n",
      "219/219 [==============================] - 1s 3ms/step - loss: 0.2715 - accuracy: 0.8886 - val_loss: 0.3393 - val_accuracy: 0.8658\n",
      "Epoch 330/500\n",
      "219/219 [==============================] - 1s 2ms/step - loss: 0.2677 - accuracy: 0.8904 - val_loss: 0.3451 - val_accuracy: 0.8642\n",
      "Epoch 331/500\n",
      "219/219 [==============================] - 1s 2ms/step - loss: 0.2696 - accuracy: 0.8861 - val_loss: 0.3478 - val_accuracy: 0.8633\n",
      "Epoch 332/500\n",
      "219/219 [==============================] - 1s 2ms/step - loss: 0.2807 - accuracy: 0.8840 - val_loss: 0.3420 - val_accuracy: 0.8675\n",
      "Epoch 333/500\n",
      "219/219 [==============================] - 1s 2ms/step - loss: 0.2754 - accuracy: 0.8853 - val_loss: 0.3416 - val_accuracy: 0.8675\n",
      "Epoch 334/500\n",
      "219/219 [==============================] - 1s 2ms/step - loss: 0.2735 - accuracy: 0.8890 - val_loss: 0.3481 - val_accuracy: 0.8650\n",
      "Epoch 335/500\n",
      "219/219 [==============================] - 1s 2ms/step - loss: 0.2736 - accuracy: 0.8836 - val_loss: 0.3495 - val_accuracy: 0.8617\n",
      "Epoch 336/500\n",
      "219/219 [==============================] - 1s 3ms/step - loss: 0.2755 - accuracy: 0.8830 - val_loss: 0.3477 - val_accuracy: 0.8650\n",
      "Epoch 337/500\n",
      "219/219 [==============================] - 1s 3ms/step - loss: 0.2775 - accuracy: 0.8861 - val_loss: 0.3487 - val_accuracy: 0.8625\n",
      "Epoch 338/500\n",
      "219/219 [==============================] - 1s 2ms/step - loss: 0.2748 - accuracy: 0.8867 - val_loss: 0.3452 - val_accuracy: 0.8633\n",
      "Epoch 339/500\n"
     ]
    },
    {
     "name": "stdout",
     "output_type": "stream",
     "text": [
      "219/219 [==============================] - 1s 2ms/step - loss: 0.2725 - accuracy: 0.8839 - val_loss: 0.3443 - val_accuracy: 0.8675\n",
      "Epoch 340/500\n",
      "219/219 [==============================] - 1s 2ms/step - loss: 0.2664 - accuracy: 0.8876 - val_loss: 0.3470 - val_accuracy: 0.8650\n",
      "Epoch 341/500\n",
      "219/219 [==============================] - 1s 2ms/step - loss: 0.2740 - accuracy: 0.8866 - val_loss: 0.3523 - val_accuracy: 0.8642\n",
      "Epoch 342/500\n",
      "219/219 [==============================] - 1s 3ms/step - loss: 0.2741 - accuracy: 0.8866 - val_loss: 0.3527 - val_accuracy: 0.8617\n",
      "Epoch 343/500\n",
      "219/219 [==============================] - 1s 2ms/step - loss: 0.2682 - accuracy: 0.8896 - val_loss: 0.3502 - val_accuracy: 0.8583\n",
      "Epoch 344/500\n",
      "219/219 [==============================] - 1s 2ms/step - loss: 0.2770 - accuracy: 0.8853 - val_loss: 0.3492 - val_accuracy: 0.8575\n",
      "Epoch 345/500\n",
      "219/219 [==============================] - 1s 2ms/step - loss: 0.2757 - accuracy: 0.8826 - val_loss: 0.3466 - val_accuracy: 0.8617\n",
      "Epoch 346/500\n",
      "219/219 [==============================] - 1s 3ms/step - loss: 0.2678 - accuracy: 0.8901 - val_loss: 0.3501 - val_accuracy: 0.8592\n",
      "Epoch 347/500\n",
      "219/219 [==============================] - 1s 3ms/step - loss: 0.2684 - accuracy: 0.8857 - val_loss: 0.3497 - val_accuracy: 0.8583\n",
      "Epoch 348/500\n",
      "219/219 [==============================] - 1s 3ms/step - loss: 0.2744 - accuracy: 0.8876 - val_loss: 0.3461 - val_accuracy: 0.8575\n",
      "Epoch 349/500\n",
      "219/219 [==============================] - 1s 2ms/step - loss: 0.2686 - accuracy: 0.8916 - val_loss: 0.3462 - val_accuracy: 0.8617\n",
      "Epoch 350/500\n",
      "219/219 [==============================] - 1s 2ms/step - loss: 0.2721 - accuracy: 0.8861 - val_loss: 0.3488 - val_accuracy: 0.8583\n",
      "Epoch 351/500\n",
      "219/219 [==============================] - 1s 2ms/step - loss: 0.2675 - accuracy: 0.8893 - val_loss: 0.3456 - val_accuracy: 0.8575\n",
      "Epoch 352/500\n",
      "219/219 [==============================] - 1s 2ms/step - loss: 0.2678 - accuracy: 0.8890 - val_loss: 0.3505 - val_accuracy: 0.8633\n",
      "Epoch 353/500\n",
      "219/219 [==============================] - 1s 2ms/step - loss: 0.2758 - accuracy: 0.8871 - val_loss: 0.3505 - val_accuracy: 0.8592\n",
      "Epoch 354/500\n",
      "219/219 [==============================] - 1s 3ms/step - loss: 0.2692 - accuracy: 0.8870 - val_loss: 0.3472 - val_accuracy: 0.8608\n",
      "Epoch 355/500\n",
      "219/219 [==============================] - 1s 3ms/step - loss: 0.2753 - accuracy: 0.8856 - val_loss: 0.3503 - val_accuracy: 0.8608\n",
      "Epoch 356/500\n",
      "219/219 [==============================] - 1s 3ms/step - loss: 0.2681 - accuracy: 0.8866 - val_loss: 0.3506 - val_accuracy: 0.8583\n",
      "Epoch 357/500\n",
      "219/219 [==============================] - 1s 2ms/step - loss: 0.2713 - accuracy: 0.8876 - val_loss: 0.3462 - val_accuracy: 0.8617\n",
      "Epoch 358/500\n",
      "219/219 [==============================] - 1s 2ms/step - loss: 0.2685 - accuracy: 0.8876 - val_loss: 0.3502 - val_accuracy: 0.8592\n",
      "Epoch 359/500\n",
      "219/219 [==============================] - 1s 3ms/step - loss: 0.2720 - accuracy: 0.8889 - val_loss: 0.3527 - val_accuracy: 0.8600\n",
      "Epoch 360/500\n",
      "219/219 [==============================] - 1s 2ms/step - loss: 0.2744 - accuracy: 0.8843 - val_loss: 0.3512 - val_accuracy: 0.8617\n",
      "Epoch 361/500\n",
      "219/219 [==============================] - 1s 3ms/step - loss: 0.2703 - accuracy: 0.8867 - val_loss: 0.3480 - val_accuracy: 0.8650\n",
      "Epoch 362/500\n",
      "219/219 [==============================] - 1s 3ms/step - loss: 0.2739 - accuracy: 0.8861 - val_loss: 0.3490 - val_accuracy: 0.8625\n",
      "Epoch 363/500\n",
      "219/219 [==============================] - 1s 2ms/step - loss: 0.2680 - accuracy: 0.8894 - val_loss: 0.3486 - val_accuracy: 0.8583\n",
      "Epoch 364/500\n",
      "219/219 [==============================] - 1s 2ms/step - loss: 0.2706 - accuracy: 0.8887 - val_loss: 0.3485 - val_accuracy: 0.8592\n",
      "Epoch 365/500\n",
      "219/219 [==============================] - 1s 3ms/step - loss: 0.2754 - accuracy: 0.8864 - val_loss: 0.3448 - val_accuracy: 0.8633\n",
      "Epoch 366/500\n",
      "219/219 [==============================] - 1s 2ms/step - loss: 0.2685 - accuracy: 0.8886 - val_loss: 0.3497 - val_accuracy: 0.8617\n",
      "Epoch 367/500\n",
      "219/219 [==============================] - 1s 2ms/step - loss: 0.2661 - accuracy: 0.8881 - val_loss: 0.3511 - val_accuracy: 0.8642\n",
      "Epoch 368/500\n",
      "219/219 [==============================] - 1s 2ms/step - loss: 0.2722 - accuracy: 0.8877 - val_loss: 0.3530 - val_accuracy: 0.8625\n",
      "Epoch 369/500\n",
      "219/219 [==============================] - 1s 2ms/step - loss: 0.2669 - accuracy: 0.8854 - val_loss: 0.3514 - val_accuracy: 0.8617\n",
      "Epoch 370/500\n",
      "219/219 [==============================] - 1s 2ms/step - loss: 0.2719 - accuracy: 0.8866 - val_loss: 0.3562 - val_accuracy: 0.8625\n",
      "Epoch 371/500\n",
      "219/219 [==============================] - 1s 2ms/step - loss: 0.2709 - accuracy: 0.8887 - val_loss: 0.3492 - val_accuracy: 0.8625\n",
      "Epoch 372/500\n",
      "219/219 [==============================] - 1s 2ms/step - loss: 0.2659 - accuracy: 0.8913 - val_loss: 0.3546 - val_accuracy: 0.8608\n",
      "Epoch 373/500\n",
      "219/219 [==============================] - 1s 2ms/step - loss: 0.2684 - accuracy: 0.8863 - val_loss: 0.3531 - val_accuracy: 0.8575\n",
      "Epoch 374/500\n",
      "219/219 [==============================] - 0s 2ms/step - loss: 0.2690 - accuracy: 0.8859 - val_loss: 0.3473 - val_accuracy: 0.8642\n",
      "Epoch 375/500\n",
      "219/219 [==============================] - 1s 2ms/step - loss: 0.2717 - accuracy: 0.8877 - val_loss: 0.3504 - val_accuracy: 0.8667\n",
      "Epoch 376/500\n",
      "219/219 [==============================] - 0s 2ms/step - loss: 0.2740 - accuracy: 0.8841 - val_loss: 0.3477 - val_accuracy: 0.8683\n",
      "Epoch 377/500\n",
      "219/219 [==============================] - 0s 2ms/step - loss: 0.2647 - accuracy: 0.8917 - val_loss: 0.3527 - val_accuracy: 0.8633\n",
      "Epoch 378/500\n",
      "219/219 [==============================] - 1s 2ms/step - loss: 0.2694 - accuracy: 0.8886 - val_loss: 0.3577 - val_accuracy: 0.8617\n",
      "Epoch 379/500\n",
      "219/219 [==============================] - 1s 2ms/step - loss: 0.2738 - accuracy: 0.8879 - val_loss: 0.3558 - val_accuracy: 0.8617\n",
      "Epoch 380/500\n",
      "219/219 [==============================] - 1s 3ms/step - loss: 0.2619 - accuracy: 0.8906 - val_loss: 0.3544 - val_accuracy: 0.8583\n",
      "Epoch 381/500\n",
      "219/219 [==============================] - 0s 2ms/step - loss: 0.2657 - accuracy: 0.8884 - val_loss: 0.3508 - val_accuracy: 0.8625\n",
      "Epoch 382/500\n",
      "219/219 [==============================] - 1s 2ms/step - loss: 0.2656 - accuracy: 0.8887 - val_loss: 0.3554 - val_accuracy: 0.8617\n",
      "Epoch 383/500\n",
      "219/219 [==============================] - 1s 2ms/step - loss: 0.2719 - accuracy: 0.8860 - val_loss: 0.3562 - val_accuracy: 0.8608\n",
      "Epoch 384/500\n",
      "219/219 [==============================] - 1s 2ms/step - loss: 0.2695 - accuracy: 0.8889 - val_loss: 0.3556 - val_accuracy: 0.8567\n",
      "Epoch 385/500\n",
      "219/219 [==============================] - 1s 2ms/step - loss: 0.2666 - accuracy: 0.8869 - val_loss: 0.3573 - val_accuracy: 0.8575\n",
      "Epoch 386/500\n",
      "219/219 [==============================] - 1s 2ms/step - loss: 0.2671 - accuracy: 0.8841 - val_loss: 0.3589 - val_accuracy: 0.8608\n",
      "Epoch 387/500\n",
      "219/219 [==============================] - 1s 2ms/step - loss: 0.2736 - accuracy: 0.8899 - val_loss: 0.3573 - val_accuracy: 0.8625\n",
      "Epoch 388/500\n",
      "219/219 [==============================] - 1s 2ms/step - loss: 0.2694 - accuracy: 0.8910 - val_loss: 0.3587 - val_accuracy: 0.8600\n",
      "Epoch 389/500\n",
      "219/219 [==============================] - 0s 2ms/step - loss: 0.2699 - accuracy: 0.8887 - val_loss: 0.3567 - val_accuracy: 0.8592\n",
      "Epoch 390/500\n",
      "219/219 [==============================] - 1s 2ms/step - loss: 0.2730 - accuracy: 0.8844 - val_loss: 0.3540 - val_accuracy: 0.8567\n",
      "Epoch 391/500\n",
      "219/219 [==============================] - 1s 2ms/step - loss: 0.2758 - accuracy: 0.8830 - val_loss: 0.3522 - val_accuracy: 0.8625\n",
      "Epoch 392/500\n",
      "219/219 [==============================] - 1s 2ms/step - loss: 0.2672 - accuracy: 0.8921 - val_loss: 0.3555 - val_accuracy: 0.8608\n",
      "Epoch 393/500\n",
      "219/219 [==============================] - 1s 3ms/step - loss: 0.2755 - accuracy: 0.8876 - val_loss: 0.3554 - val_accuracy: 0.8650\n",
      "Epoch 394/500\n",
      "219/219 [==============================] - 1s 2ms/step - loss: 0.2754 - accuracy: 0.8851 - val_loss: 0.3499 - val_accuracy: 0.8633\n",
      "Epoch 395/500\n",
      "219/219 [==============================] - 0s 2ms/step - loss: 0.2610 - accuracy: 0.8931 - val_loss: 0.3575 - val_accuracy: 0.8642\n",
      "Epoch 396/500\n",
      "219/219 [==============================] - 0s 2ms/step - loss: 0.2623 - accuracy: 0.8916 - val_loss: 0.3508 - val_accuracy: 0.8592\n",
      "Epoch 397/500\n",
      "219/219 [==============================] - 1s 3ms/step - loss: 0.2665 - accuracy: 0.8889 - val_loss: 0.3542 - val_accuracy: 0.8600\n",
      "Epoch 398/500\n",
      "219/219 [==============================] - 1s 4ms/step - loss: 0.2712 - accuracy: 0.8861 - val_loss: 0.3553 - val_accuracy: 0.8558\n",
      "Epoch 399/500\n",
      "219/219 [==============================] - 1s 3ms/step - loss: 0.2677 - accuracy: 0.8924 - val_loss: 0.3534 - val_accuracy: 0.8600\n",
      "Epoch 400/500\n",
      "219/219 [==============================] - 1s 3ms/step - loss: 0.2635 - accuracy: 0.8900 - val_loss: 0.3607 - val_accuracy: 0.8650\n",
      "Epoch 401/500\n",
      "219/219 [==============================] - 1s 3ms/step - loss: 0.2617 - accuracy: 0.8926 - val_loss: 0.3572 - val_accuracy: 0.8583\n",
      "Epoch 402/500\n",
      "219/219 [==============================] - 1s 3ms/step - loss: 0.2705 - accuracy: 0.8869 - val_loss: 0.3594 - val_accuracy: 0.8617\n",
      "Epoch 403/500\n",
      "219/219 [==============================] - 1s 2ms/step - loss: 0.2689 - accuracy: 0.8889 - val_loss: 0.3576 - val_accuracy: 0.8575\n",
      "Epoch 404/500\n",
      "219/219 [==============================] - 0s 2ms/step - loss: 0.2692 - accuracy: 0.8867 - val_loss: 0.3556 - val_accuracy: 0.8642\n",
      "Epoch 405/500\n",
      "219/219 [==============================] - 1s 2ms/step - loss: 0.2649 - accuracy: 0.8897 - val_loss: 0.3556 - val_accuracy: 0.8650\n",
      "Epoch 406/500\n",
      "219/219 [==============================] - 1s 2ms/step - loss: 0.2726 - accuracy: 0.8874 - val_loss: 0.3534 - val_accuracy: 0.8617\n",
      "Epoch 407/500\n",
      "219/219 [==============================] - 0s 2ms/step - loss: 0.2696 - accuracy: 0.8820 - val_loss: 0.3549 - val_accuracy: 0.8625\n",
      "Epoch 408/500\n",
      "219/219 [==============================] - 1s 2ms/step - loss: 0.2687 - accuracy: 0.8897 - val_loss: 0.3607 - val_accuracy: 0.8567\n",
      "Epoch 409/500\n",
      "219/219 [==============================] - 1s 2ms/step - loss: 0.2728 - accuracy: 0.8859 - val_loss: 0.3576 - val_accuracy: 0.8633\n",
      "Epoch 410/500\n",
      "219/219 [==============================] - 1s 2ms/step - loss: 0.2716 - accuracy: 0.8856 - val_loss: 0.3581 - val_accuracy: 0.8642\n",
      "Epoch 411/500\n",
      "219/219 [==============================] - 1s 2ms/step - loss: 0.2735 - accuracy: 0.8869 - val_loss: 0.3567 - val_accuracy: 0.8600\n",
      "Epoch 412/500\n",
      "219/219 [==============================] - 0s 2ms/step - loss: 0.2708 - accuracy: 0.8909 - val_loss: 0.3609 - val_accuracy: 0.8625\n",
      "Epoch 413/500\n",
      "219/219 [==============================] - 1s 2ms/step - loss: 0.2659 - accuracy: 0.8893 - val_loss: 0.3578 - val_accuracy: 0.8592\n",
      "Epoch 414/500\n",
      "219/219 [==============================] - 1s 2ms/step - loss: 0.2692 - accuracy: 0.8906 - val_loss: 0.3581 - val_accuracy: 0.8642\n",
      "Epoch 415/500\n",
      "219/219 [==============================] - 1s 2ms/step - loss: 0.2683 - accuracy: 0.8873 - val_loss: 0.3563 - val_accuracy: 0.8633\n",
      "Epoch 416/500\n",
      "219/219 [==============================] - 1s 2ms/step - loss: 0.2646 - accuracy: 0.8946 - val_loss: 0.3599 - val_accuracy: 0.8608\n",
      "Epoch 417/500\n",
      "219/219 [==============================] - 1s 2ms/step - loss: 0.2661 - accuracy: 0.8901 - val_loss: 0.3561 - val_accuracy: 0.8608\n",
      "Epoch 418/500\n",
      "219/219 [==============================] - 1s 2ms/step - loss: 0.2684 - accuracy: 0.8887 - val_loss: 0.3543 - val_accuracy: 0.8608\n",
      "Epoch 419/500\n",
      "219/219 [==============================] - 1s 2ms/step - loss: 0.2661 - accuracy: 0.8890 - val_loss: 0.3554 - val_accuracy: 0.8650\n",
      "Epoch 420/500\n",
      "219/219 [==============================] - 1s 2ms/step - loss: 0.2661 - accuracy: 0.8920 - val_loss: 0.3591 - val_accuracy: 0.8625\n",
      "Epoch 421/500\n",
      "219/219 [==============================] - 1s 3ms/step - loss: 0.2628 - accuracy: 0.8900 - val_loss: 0.3611 - val_accuracy: 0.8600\n",
      "Epoch 422/500\n",
      "219/219 [==============================] - 1s 3ms/step - loss: 0.2657 - accuracy: 0.8914 - val_loss: 0.3553 - val_accuracy: 0.8608\n",
      "Epoch 423/500\n",
      "219/219 [==============================] - 1s 2ms/step - loss: 0.2722 - accuracy: 0.8899 - val_loss: 0.3565 - val_accuracy: 0.8592\n",
      "Epoch 424/500\n",
      "219/219 [==============================] - 0s 2ms/step - loss: 0.2607 - accuracy: 0.8911 - val_loss: 0.3617 - val_accuracy: 0.8567\n",
      "Epoch 425/500\n",
      "219/219 [==============================] - 1s 2ms/step - loss: 0.2627 - accuracy: 0.8894 - val_loss: 0.3598 - val_accuracy: 0.8600\n",
      "Epoch 426/500\n",
      "219/219 [==============================] - 1s 2ms/step - loss: 0.2655 - accuracy: 0.8907 - val_loss: 0.3596 - val_accuracy: 0.8575\n",
      "Epoch 427/500\n",
      "219/219 [==============================] - 1s 2ms/step - loss: 0.2658 - accuracy: 0.8896 - val_loss: 0.3604 - val_accuracy: 0.8633\n",
      "Epoch 428/500\n",
      "219/219 [==============================] - 1s 2ms/step - loss: 0.2653 - accuracy: 0.8890 - val_loss: 0.3573 - val_accuracy: 0.8633\n",
      "Epoch 429/500\n",
      "219/219 [==============================] - 1s 2ms/step - loss: 0.2692 - accuracy: 0.8869 - val_loss: 0.3547 - val_accuracy: 0.8583\n",
      "Epoch 430/500\n",
      "219/219 [==============================] - 0s 2ms/step - loss: 0.2649 - accuracy: 0.8917 - val_loss: 0.3593 - val_accuracy: 0.8667\n",
      "Epoch 431/500\n",
      "219/219 [==============================] - 1s 2ms/step - loss: 0.2708 - accuracy: 0.8903 - val_loss: 0.3643 - val_accuracy: 0.8600\n",
      "Epoch 432/500\n",
      "219/219 [==============================] - 1s 2ms/step - loss: 0.2652 - accuracy: 0.8911 - val_loss: 0.3622 - val_accuracy: 0.8592\n",
      "Epoch 433/500\n",
      "219/219 [==============================] - 1s 2ms/step - loss: 0.2677 - accuracy: 0.8920 - val_loss: 0.3603 - val_accuracy: 0.8608\n",
      "Epoch 434/500\n",
      "219/219 [==============================] - 1s 2ms/step - loss: 0.2663 - accuracy: 0.8884 - val_loss: 0.3673 - val_accuracy: 0.8567\n",
      "Epoch 435/500\n",
      "219/219 [==============================] - 1s 2ms/step - loss: 0.2740 - accuracy: 0.8841 - val_loss: 0.3588 - val_accuracy: 0.8650\n",
      "Epoch 436/500\n",
      "219/219 [==============================] - 1s 2ms/step - loss: 0.2678 - accuracy: 0.8913 - val_loss: 0.3634 - val_accuracy: 0.8592\n",
      "Epoch 437/500\n",
      "219/219 [==============================] - 1s 3ms/step - loss: 0.2594 - accuracy: 0.8929 - val_loss: 0.3569 - val_accuracy: 0.8608\n",
      "Epoch 438/500\n",
      "219/219 [==============================] - 0s 2ms/step - loss: 0.2639 - accuracy: 0.8903 - val_loss: 0.3582 - val_accuracy: 0.8567\n",
      "Epoch 439/500\n",
      "219/219 [==============================] - 1s 3ms/step - loss: 0.2681 - accuracy: 0.8856 - val_loss: 0.3597 - val_accuracy: 0.8575\n",
      "Epoch 440/500\n",
      "219/219 [==============================] - 1s 2ms/step - loss: 0.2620 - accuracy: 0.8913 - val_loss: 0.3583 - val_accuracy: 0.8608\n",
      "Epoch 441/500\n",
      "219/219 [==============================] - 1s 2ms/step - loss: 0.2686 - accuracy: 0.8886 - val_loss: 0.3627 - val_accuracy: 0.8575\n",
      "Epoch 442/500\n",
      "219/219 [==============================] - 1s 2ms/step - loss: 0.2614 - accuracy: 0.8904 - val_loss: 0.3580 - val_accuracy: 0.8567\n",
      "Epoch 443/500\n",
      "219/219 [==============================] - 1s 2ms/step - loss: 0.2662 - accuracy: 0.8891 - val_loss: 0.3620 - val_accuracy: 0.8608\n",
      "Epoch 444/500\n",
      "219/219 [==============================] - 1s 2ms/step - loss: 0.2638 - accuracy: 0.8911 - val_loss: 0.3598 - val_accuracy: 0.8558\n",
      "Epoch 445/500\n",
      "219/219 [==============================] - 1s 2ms/step - loss: 0.2690 - accuracy: 0.8897 - val_loss: 0.3571 - val_accuracy: 0.8592\n",
      "Epoch 446/500\n",
      "219/219 [==============================] - 1s 3ms/step - loss: 0.2652 - accuracy: 0.8866 - val_loss: 0.3585 - val_accuracy: 0.8633\n",
      "Epoch 447/500\n",
      "219/219 [==============================] - 1s 2ms/step - loss: 0.2596 - accuracy: 0.8937 - val_loss: 0.3620 - val_accuracy: 0.8575\n",
      "Epoch 448/500\n",
      "219/219 [==============================] - 1s 2ms/step - loss: 0.2675 - accuracy: 0.8891 - val_loss: 0.3571 - val_accuracy: 0.8608\n",
      "Epoch 449/500\n",
      "219/219 [==============================] - 1s 4ms/step - loss: 0.2705 - accuracy: 0.8873 - val_loss: 0.3627 - val_accuracy: 0.8533\n",
      "Epoch 450/500\n",
      "219/219 [==============================] - 1s 3ms/step - loss: 0.2662 - accuracy: 0.8911 - val_loss: 0.3607 - val_accuracy: 0.8542\n",
      "Epoch 451/500\n"
     ]
    },
    {
     "name": "stdout",
     "output_type": "stream",
     "text": [
      "219/219 [==============================] - 1s 2ms/step - loss: 0.2700 - accuracy: 0.8900 - val_loss: 0.3617 - val_accuracy: 0.8550\n",
      "Epoch 452/500\n",
      "219/219 [==============================] - 1s 2ms/step - loss: 0.2693 - accuracy: 0.8891 - val_loss: 0.3604 - val_accuracy: 0.8558\n",
      "Epoch 453/500\n",
      "219/219 [==============================] - 1s 2ms/step - loss: 0.2687 - accuracy: 0.8880 - val_loss: 0.3625 - val_accuracy: 0.8625\n",
      "Epoch 454/500\n",
      "219/219 [==============================] - 1s 2ms/step - loss: 0.2673 - accuracy: 0.8924 - val_loss: 0.3596 - val_accuracy: 0.8600\n",
      "Epoch 455/500\n",
      "219/219 [==============================] - 1s 2ms/step - loss: 0.2711 - accuracy: 0.8890 - val_loss: 0.3588 - val_accuracy: 0.8600\n",
      "Epoch 456/500\n",
      "219/219 [==============================] - 1s 2ms/step - loss: 0.2682 - accuracy: 0.8854 - val_loss: 0.3615 - val_accuracy: 0.8625\n",
      "Epoch 457/500\n",
      "219/219 [==============================] - 0s 2ms/step - loss: 0.2663 - accuracy: 0.8886 - val_loss: 0.3648 - val_accuracy: 0.8625\n",
      "Epoch 458/500\n",
      "219/219 [==============================] - 1s 2ms/step - loss: 0.2670 - accuracy: 0.8894 - val_loss: 0.3613 - val_accuracy: 0.8633\n",
      "Epoch 459/500\n",
      "219/219 [==============================] - 1s 3ms/step - loss: 0.2670 - accuracy: 0.8861 - val_loss: 0.3608 - val_accuracy: 0.8600\n",
      "Epoch 460/500\n",
      "219/219 [==============================] - 1s 2ms/step - loss: 0.2664 - accuracy: 0.8904 - val_loss: 0.3605 - val_accuracy: 0.8533\n",
      "Epoch 461/500\n",
      "219/219 [==============================] - 1s 2ms/step - loss: 0.2680 - accuracy: 0.8923 - val_loss: 0.3586 - val_accuracy: 0.8583\n",
      "Epoch 462/500\n",
      "219/219 [==============================] - 1s 2ms/step - loss: 0.2641 - accuracy: 0.8961 - val_loss: 0.3552 - val_accuracy: 0.8675\n",
      "Epoch 463/500\n",
      "219/219 [==============================] - 1s 2ms/step - loss: 0.2623 - accuracy: 0.8890 - val_loss: 0.3573 - val_accuracy: 0.8633\n",
      "Epoch 464/500\n",
      "219/219 [==============================] - 1s 2ms/step - loss: 0.2664 - accuracy: 0.8890 - val_loss: 0.3589 - val_accuracy: 0.8608\n",
      "Epoch 465/500\n",
      "219/219 [==============================] - 1s 2ms/step - loss: 0.2638 - accuracy: 0.8909 - val_loss: 0.3645 - val_accuracy: 0.8625\n",
      "Epoch 466/500\n",
      "219/219 [==============================] - 1s 3ms/step - loss: 0.2673 - accuracy: 0.8904 - val_loss: 0.3646 - val_accuracy: 0.8600\n",
      "Epoch 467/500\n",
      "219/219 [==============================] - 1s 2ms/step - loss: 0.2661 - accuracy: 0.8906 - val_loss: 0.3622 - val_accuracy: 0.8658\n",
      "Epoch 468/500\n",
      "219/219 [==============================] - 1s 2ms/step - loss: 0.2632 - accuracy: 0.8896 - val_loss: 0.3634 - val_accuracy: 0.8575\n",
      "Epoch 469/500\n",
      "219/219 [==============================] - 1s 2ms/step - loss: 0.2666 - accuracy: 0.8903 - val_loss: 0.3591 - val_accuracy: 0.8600\n",
      "Epoch 470/500\n",
      "219/219 [==============================] - 1s 3ms/step - loss: 0.2631 - accuracy: 0.8919 - val_loss: 0.3633 - val_accuracy: 0.8575\n",
      "Epoch 471/500\n",
      "219/219 [==============================] - 1s 3ms/step - loss: 0.2605 - accuracy: 0.8930 - val_loss: 0.3597 - val_accuracy: 0.8608\n",
      "Epoch 472/500\n",
      "219/219 [==============================] - 1s 3ms/step - loss: 0.2701 - accuracy: 0.8891 - val_loss: 0.3578 - val_accuracy: 0.8633\n",
      "Epoch 473/500\n",
      "219/219 [==============================] - 1s 3ms/step - loss: 0.2605 - accuracy: 0.8920 - val_loss: 0.3596 - val_accuracy: 0.8625\n",
      "Epoch 474/500\n",
      "219/219 [==============================] - 1s 2ms/step - loss: 0.2605 - accuracy: 0.8903 - val_loss: 0.3652 - val_accuracy: 0.8575\n",
      "Epoch 475/500\n",
      "219/219 [==============================] - 0s 2ms/step - loss: 0.2622 - accuracy: 0.8913 - val_loss: 0.3661 - val_accuracy: 0.8550\n",
      "Epoch 476/500\n",
      "219/219 [==============================] - 0s 2ms/step - loss: 0.2613 - accuracy: 0.8936 - val_loss: 0.3621 - val_accuracy: 0.8600\n",
      "Epoch 477/500\n",
      "219/219 [==============================] - 1s 2ms/step - loss: 0.2595 - accuracy: 0.8947 - val_loss: 0.3633 - val_accuracy: 0.8558\n",
      "Epoch 478/500\n",
      "219/219 [==============================] - 1s 2ms/step - loss: 0.2683 - accuracy: 0.8883 - val_loss: 0.3608 - val_accuracy: 0.8600\n",
      "Epoch 479/500\n",
      "219/219 [==============================] - 1s 2ms/step - loss: 0.2621 - accuracy: 0.8906 - val_loss: 0.3633 - val_accuracy: 0.8633\n",
      "Epoch 480/500\n",
      "219/219 [==============================] - 1s 2ms/step - loss: 0.2669 - accuracy: 0.8904 - val_loss: 0.3614 - val_accuracy: 0.8592\n",
      "Epoch 481/500\n",
      "219/219 [==============================] - 1s 2ms/step - loss: 0.2615 - accuracy: 0.8904 - val_loss: 0.3661 - val_accuracy: 0.8583\n",
      "Epoch 482/500\n",
      "219/219 [==============================] - 1s 2ms/step - loss: 0.2612 - accuracy: 0.8893 - val_loss: 0.3617 - val_accuracy: 0.8617\n",
      "Epoch 483/500\n",
      "219/219 [==============================] - 1s 2ms/step - loss: 0.2592 - accuracy: 0.8899 - val_loss: 0.3677 - val_accuracy: 0.8542\n",
      "Epoch 484/500\n",
      "219/219 [==============================] - 1s 2ms/step - loss: 0.2611 - accuracy: 0.8924 - val_loss: 0.3645 - val_accuracy: 0.8583\n",
      "Epoch 485/500\n",
      "219/219 [==============================] - 1s 3ms/step - loss: 0.2666 - accuracy: 0.8893 - val_loss: 0.3650 - val_accuracy: 0.8583\n",
      "Epoch 486/500\n",
      "219/219 [==============================] - 1s 2ms/step - loss: 0.2677 - accuracy: 0.8884 - val_loss: 0.3621 - val_accuracy: 0.8583\n",
      "Epoch 487/500\n",
      "219/219 [==============================] - 0s 2ms/step - loss: 0.2673 - accuracy: 0.8869 - val_loss: 0.3648 - val_accuracy: 0.8575\n",
      "Epoch 488/500\n",
      "219/219 [==============================] - 0s 2ms/step - loss: 0.2658 - accuracy: 0.8906 - val_loss: 0.3684 - val_accuracy: 0.8550\n",
      "Epoch 489/500\n",
      "219/219 [==============================] - 1s 2ms/step - loss: 0.2663 - accuracy: 0.8909 - val_loss: 0.3661 - val_accuracy: 0.8592\n",
      "Epoch 490/500\n",
      "219/219 [==============================] - 1s 2ms/step - loss: 0.2683 - accuracy: 0.8853 - val_loss: 0.3673 - val_accuracy: 0.8583\n",
      "Epoch 491/500\n",
      "219/219 [==============================] - 1s 2ms/step - loss: 0.2647 - accuracy: 0.8871 - val_loss: 0.3662 - val_accuracy: 0.8592\n",
      "Epoch 492/500\n",
      "219/219 [==============================] - 1s 3ms/step - loss: 0.2596 - accuracy: 0.8963 - val_loss: 0.3711 - val_accuracy: 0.8533\n",
      "Epoch 493/500\n",
      "219/219 [==============================] - 0s 2ms/step - loss: 0.2652 - accuracy: 0.8917 - val_loss: 0.3700 - val_accuracy: 0.8583\n",
      "Epoch 494/500\n",
      "219/219 [==============================] - 1s 2ms/step - loss: 0.2607 - accuracy: 0.8940 - val_loss: 0.3652 - val_accuracy: 0.8592\n",
      "Epoch 495/500\n",
      "219/219 [==============================] - 1s 2ms/step - loss: 0.2618 - accuracy: 0.8937 - val_loss: 0.3690 - val_accuracy: 0.8542\n",
      "Epoch 496/500\n",
      "219/219 [==============================] - 1s 2ms/step - loss: 0.2663 - accuracy: 0.8881 - val_loss: 0.3686 - val_accuracy: 0.8592\n",
      "Epoch 497/500\n",
      "219/219 [==============================] - 1s 2ms/step - loss: 0.2699 - accuracy: 0.8913 - val_loss: 0.3648 - val_accuracy: 0.8600\n",
      "Epoch 498/500\n",
      "219/219 [==============================] - 1s 2ms/step - loss: 0.2669 - accuracy: 0.8884 - val_loss: 0.3688 - val_accuracy: 0.8617\n",
      "Epoch 499/500\n",
      "219/219 [==============================] - 1s 2ms/step - loss: 0.2612 - accuracy: 0.8893 - val_loss: 0.3667 - val_accuracy: 0.8600\n",
      "Epoch 500/500\n",
      "219/219 [==============================] - 1s 2ms/step - loss: 0.2692 - accuracy: 0.8883 - val_loss: 0.3634 - val_accuracy: 0.8592\n"
     ]
    }
   ],
   "source": [
    "history = model.fit(X_train_clean, y_train, epochs=500, batch_size=32, validation_data=(X_valid_clean, y_valid))"
   ]
  },
  {
   "cell_type": "code",
   "execution_count": 195,
   "id": "d75f781c",
   "metadata": {},
   "outputs": [
    {
     "name": "stdout",
     "output_type": "stream",
     "text": [
      "38/38 [==============================] - 0s 1ms/step\n",
      "Accuracy: 0.8091666666666667\n"
     ]
    }
   ],
   "source": [
    "deep_pred = np.argmax(model.predict(X_valid_clean), axis=-1)\n",
    "accuracy = accuracy_score(y_valid, deep_pred)\n",
    "print(\"Accuracy:\", accuracy)"
   ]
  },
  {
   "cell_type": "code",
   "execution_count": 196,
   "id": "50baace3",
   "metadata": {},
   "outputs": [
    {
     "name": "stdout",
     "output_type": "stream",
     "text": [
      "57/57 [==============================] - 0s 1ms/step\n",
      "Accuracy: 0.7911111111111111\n"
     ]
    }
   ],
   "source": [
    "deep_pred = np.argmax(model.predict(X_test_clean), axis=-1)\n",
    "accuracy = accuracy_score(y_test, deep_pred)\n",
    "print(\"Accuracy:\", accuracy)"
   ]
  },
  {
   "cell_type": "code",
   "execution_count": 197,
   "id": "185121d4",
   "metadata": {},
   "outputs": [
    {
     "name": "stdout",
     "output_type": "stream",
     "text": [
      "              precision    recall  f1-score   support\n",
      "\n",
      "           0       0.79      1.00      0.88      1424\n",
      "           1       0.00      0.00      0.00       376\n",
      "\n",
      "    accuracy                           0.79      1800\n",
      "   macro avg       0.40      0.50      0.44      1800\n",
      "weighted avg       0.63      0.79      0.70      1800\n",
      "\n"
     ]
    }
   ],
   "source": [
    "print(classification_report(y_test, deep_pred, labels=[0,1]))"
   ]
  },
  {
   "cell_type": "markdown",
   "id": "d8dc29ae",
   "metadata": {},
   "source": [
    "## Tuning Parameter Deep Learning"
   ]
  },
  {
   "cell_type": "code",
   "execution_count": 198,
   "id": "abf3d143",
   "metadata": {},
   "outputs": [],
   "source": [
    "def create_model(units=64, layers=2, dropout=0.2):\n",
    "    model = Sequential()\n",
    "    model.add(Dense(units, activation='relu', input_shape=(13,)))\n",
    "    model.add(Dropout(dropout))\n",
    "    for i in range(layers-1):\n",
    "        model.add(Dense(units, activation='relu'))\n",
    "        model.add(Dropout(dropout))\n",
    "    model.add(Dense(1, activation='sigmoid'))\n",
    "    model.compile(optimizer='adam', loss='binary_crossentropy', metrics=['accuracy'])\n",
    "    return model"
   ]
  },
  {
   "cell_type": "code",
   "execution_count": 199,
   "id": "201ed6f1",
   "metadata": {},
   "outputs": [],
   "source": [
    "model = KerasClassifier(build_fn=create_model)"
   ]
  },
  {
   "cell_type": "code",
   "execution_count": 200,
   "id": "5cd80a1f",
   "metadata": {},
   "outputs": [],
   "source": [
    "param_grid = {\n",
    "    'units': [32, 64, 128],\n",
    "    'layers': [2, 3, 4],\n",
    "    'dropout': [0.2, 0.3, 0.4]\n",
    "}"
   ]
  },
  {
   "cell_type": "code",
   "execution_count": 201,
   "id": "a284fc4f",
   "metadata": {},
   "outputs": [],
   "source": [
    "grid = GridSearchCV(estimator=model, param_grid=param_grid, cv=5)"
   ]
  },
  {
   "cell_type": "code",
   "execution_count": 202,
   "id": "460119f6",
   "metadata": {},
   "outputs": [
    {
     "name": "stdout",
     "output_type": "stream",
     "text": [
      "175/175 [==============================] - 1s 2ms/step - loss: 0.5022 - accuracy: 0.7745\n",
      "44/44 [==============================] - 0s 2ms/step - loss: 0.4300 - accuracy: 0.8164\n",
      "175/175 [==============================] - 3s 2ms/step - loss: 0.5096 - accuracy: 0.7721\n",
      "44/44 [==============================] - 0s 2ms/step - loss: 0.4601 - accuracy: 0.7979\n",
      "175/175 [==============================] - 1s 2ms/step - loss: 0.5255 - accuracy: 0.7661\n",
      "44/44 [==============================] - 0s 2ms/step - loss: 0.4484 - accuracy: 0.7850\n",
      "175/175 [==============================] - 1s 2ms/step - loss: 0.4881 - accuracy: 0.7954\n",
      "44/44 [==============================] - 0s 1ms/step - loss: 0.4572 - accuracy: 0.7914\n",
      "175/175 [==============================] - 1s 2ms/step - loss: 0.4964 - accuracy: 0.7895\n",
      "44/44 [==============================] - 0s 1ms/step - loss: 0.4354 - accuracy: 0.7957\n",
      "175/175 [==============================] - 1s 2ms/step - loss: 0.4930 - accuracy: 0.7689\n",
      "44/44 [==============================] - 0s 2ms/step - loss: 0.4232 - accuracy: 0.8186\n",
      "175/175 [==============================] - 1s 2ms/step - loss: 0.4744 - accuracy: 0.7829\n",
      "44/44 [==============================] - 0s 2ms/step - loss: 0.4574 - accuracy: 0.7914\n",
      "175/175 [==============================] - 1s 2ms/step - loss: 0.4711 - accuracy: 0.7934\n",
      "44/44 [==============================] - 0s 2ms/step - loss: 0.4286 - accuracy: 0.8093\n",
      "175/175 [==============================] - 1s 3ms/step - loss: 0.4816 - accuracy: 0.7880\n",
      "44/44 [==============================] - 0s 2ms/step - loss: 0.4430 - accuracy: 0.8021\n",
      "175/175 [==============================] - 1s 2ms/step - loss: 0.4707 - accuracy: 0.8000\n",
      "44/44 [==============================] - 0s 2ms/step - loss: 0.4297 - accuracy: 0.7986\n",
      "175/175 [==============================] - 1s 2ms/step - loss: 0.4563 - accuracy: 0.8000\n",
      "44/44 [==============================] - 0s 2ms/step - loss: 0.4090 - accuracy: 0.8279\n",
      "175/175 [==============================] - 1s 2ms/step - loss: 0.4492 - accuracy: 0.8050\n",
      "44/44 [==============================] - 0s 2ms/step - loss: 0.4477 - accuracy: 0.8014\n",
      "175/175 [==============================] - 1s 2ms/step - loss: 0.4612 - accuracy: 0.7991\n",
      "44/44 [==============================] - 0s 2ms/step - loss: 0.4197 - accuracy: 0.8121\n",
      "175/175 [==============================] - 1s 2ms/step - loss: 0.4517 - accuracy: 0.8005\n",
      "44/44 [==============================] - 0s 2ms/step - loss: 0.4336 - accuracy: 0.8107\n",
      "175/175 [==============================] - 1s 2ms/step - loss: 0.4585 - accuracy: 0.8005\n",
      "44/44 [==============================] - 0s 2ms/step - loss: 0.4199 - accuracy: 0.8121\n",
      "175/175 [==============================] - 1s 2ms/step - loss: 0.5262 - accuracy: 0.7720\n",
      "44/44 [==============================] - 0s 2ms/step - loss: 0.4301 - accuracy: 0.8164\n",
      "175/175 [==============================] - 1s 2ms/step - loss: 0.5080 - accuracy: 0.7916\n",
      "44/44 [==============================] - 0s 2ms/step - loss: 0.4628 - accuracy: 0.7921\n",
      "175/175 [==============================] - 1s 2ms/step - loss: 0.5001 - accuracy: 0.7891\n",
      "44/44 [==============================] - 0s 2ms/step - loss: 0.4498 - accuracy: 0.7850\n",
      "175/175 [==============================] - 1s 2ms/step - loss: 0.5141 - accuracy: 0.7930\n",
      "44/44 [==============================] - 0s 2ms/step - loss: 0.4629 - accuracy: 0.7907\n",
      "175/175 [==============================] - 1s 2ms/step - loss: 0.5089 - accuracy: 0.7921\n",
      "44/44 [==============================] - 0s 2ms/step - loss: 0.4433 - accuracy: 0.7900\n",
      "175/175 [==============================] - 1s 2ms/step - loss: 0.4732 - accuracy: 0.7923\n",
      "44/44 [==============================] - 0s 2ms/step - loss: 0.4170 - accuracy: 0.8236\n",
      "175/175 [==============================] - 1s 2ms/step - loss: 0.4687 - accuracy: 0.7952\n",
      "44/44 [==============================] - 0s 2ms/step - loss: 0.4497 - accuracy: 0.8071\n",
      "175/175 [==============================] - 1s 2ms/step - loss: 0.4826 - accuracy: 0.7882\n",
      "44/44 [==============================] - 0s 2ms/step - loss: 0.4409 - accuracy: 0.8050\n",
      "175/175 [==============================] - 1s 2ms/step - loss: 0.4697 - accuracy: 0.7986\n",
      "44/44 [==============================] - 0s 2ms/step - loss: 0.4446 - accuracy: 0.8079\n",
      "175/175 [==============================] - 1s 2ms/step - loss: 0.4726 - accuracy: 0.7962\n",
      "44/44 [==============================] - 0s 2ms/step - loss: 0.4215 - accuracy: 0.8114\n",
      "175/175 [==============================] - 1s 4ms/step - loss: 0.4671 - accuracy: 0.7896\n",
      "44/44 [==============================] - 0s 2ms/step - loss: 0.4076 - accuracy: 0.8229\n",
      "175/175 [==============================] - 1s 2ms/step - loss: 0.4533 - accuracy: 0.7986\n",
      "44/44 [==============================] - 0s 2ms/step - loss: 0.4674 - accuracy: 0.8064\n",
      "175/175 [==============================] - 1s 2ms/step - loss: 0.4593 - accuracy: 0.7998\n",
      "44/44 [==============================] - 0s 2ms/step - loss: 0.4198 - accuracy: 0.8214\n",
      "175/175 [==============================] - 1s 2ms/step - loss: 0.4557 - accuracy: 0.8000\n",
      "44/44 [==============================] - 0s 2ms/step - loss: 0.4450 - accuracy: 0.7993\n",
      "175/175 [==============================] - 1s 3ms/step - loss: 0.4637 - accuracy: 0.8009\n",
      "44/44 [==============================] - 0s 2ms/step - loss: 0.4219 - accuracy: 0.8043\n",
      "175/175 [==============================] - 1s 2ms/step - loss: 0.5295 - accuracy: 0.7570\n",
      "44/44 [==============================] - 0s 2ms/step - loss: 0.4308 - accuracy: 0.8150\n",
      "175/175 [==============================] - 1s 2ms/step - loss: 0.5176 - accuracy: 0.7845\n",
      "44/44 [==============================] - 0s 2ms/step - loss: 0.4624 - accuracy: 0.7957\n",
      "175/175 [==============================] - 1s 2ms/step - loss: 0.5171 - accuracy: 0.7741\n",
      "44/44 [==============================] - 0s 2ms/step - loss: 0.4453 - accuracy: 0.7850\n",
      "175/175 [==============================] - 1s 2ms/step - loss: 0.5114 - accuracy: 0.7902\n",
      "44/44 [==============================] - 0s 2ms/step - loss: 0.4540 - accuracy: 0.7907\n",
      "175/175 [==============================] - 1s 2ms/step - loss: 0.5194 - accuracy: 0.7864\n",
      "44/44 [==============================] - 0s 2ms/step - loss: 0.4519 - accuracy: 0.7907\n",
      "175/175 [==============================] - 1s 2ms/step - loss: 0.4880 - accuracy: 0.7852\n",
      "44/44 [==============================] - 0s 2ms/step - loss: 0.4233 - accuracy: 0.8136\n",
      "175/175 [==============================] - 1s 2ms/step - loss: 0.4694 - accuracy: 0.7934\n",
      "44/44 [==============================] - 0s 2ms/step - loss: 0.4482 - accuracy: 0.8043\n",
      "175/175 [==============================] - 1s 2ms/step - loss: 0.4736 - accuracy: 0.7950\n",
      "44/44 [==============================] - 0s 2ms/step - loss: 0.4265 - accuracy: 0.8186\n",
      "175/175 [==============================] - 1s 2ms/step - loss: 0.4771 - accuracy: 0.7934\n",
      "44/44 [==============================] - 0s 2ms/step - loss: 0.4430 - accuracy: 0.7907\n",
      "175/175 [==============================] - 1s 2ms/step - loss: 0.4843 - accuracy: 0.7937\n",
      "44/44 [==============================] - 0s 2ms/step - loss: 0.4325 - accuracy: 0.7907\n",
      "175/175 [==============================] - 1s 3ms/step - loss: 0.4680 - accuracy: 0.7921\n",
      "44/44 [==============================] - 0s 3ms/step - loss: 0.4317 - accuracy: 0.8143\n",
      "175/175 [==============================] - 1s 3ms/step - loss: 0.4563 - accuracy: 0.8025\n",
      "44/44 [==============================] - 0s 2ms/step - loss: 0.4487 - accuracy: 0.8000\n",
      "175/175 [==============================] - 1s 3ms/step - loss: 0.4697 - accuracy: 0.7934\n",
      "44/44 [==============================] - 0s 2ms/step - loss: 0.4286 - accuracy: 0.7964\n",
      "175/175 [==============================] - 1s 3ms/step - loss: 0.4558 - accuracy: 0.7977\n",
      "44/44 [==============================] - 0s 2ms/step - loss: 0.4427 - accuracy: 0.8093\n",
      "175/175 [==============================] - 1s 3ms/step - loss: 0.4599 - accuracy: 0.8014\n",
      "44/44 [==============================] - 0s 2ms/step - loss: 0.4206 - accuracy: 0.8136\n",
      "175/175 [==============================] - 1s 2ms/step - loss: 0.5620 - accuracy: 0.7414\n",
      "44/44 [==============================] - 0s 2ms/step - loss: 0.4442 - accuracy: 0.8150\n",
      "175/175 [==============================] - 1s 2ms/step - loss: 0.5448 - accuracy: 0.7589\n",
      "44/44 [==============================] - 0s 2ms/step - loss: 0.4676 - accuracy: 0.7971\n",
      "175/175 [==============================] - 1s 2ms/step - loss: 0.5155 - accuracy: 0.7664\n",
      "44/44 [==============================] - 0s 2ms/step - loss: 0.4489 - accuracy: 0.7936\n",
      "175/175 [==============================] - 1s 2ms/step - loss: 0.5067 - accuracy: 0.7895\n",
      "44/44 [==============================] - 0s 2ms/step - loss: 0.4602 - accuracy: 0.7936\n",
      "175/175 [==============================] - 1s 2ms/step - loss: 0.4999 - accuracy: 0.7893\n",
      "44/44 [==============================] - 0s 1ms/step - loss: 0.4436 - accuracy: 0.7943\n",
      "175/175 [==============================] - 1s 2ms/step - loss: 0.5002 - accuracy: 0.7818\n",
      "44/44 [==============================] - 0s 2ms/step - loss: 0.4156 - accuracy: 0.8257\n",
      "175/175 [==============================] - 1s 2ms/step - loss: 0.4696 - accuracy: 0.8009\n",
      "44/44 [==============================] - 0s 2ms/step - loss: 0.4538 - accuracy: 0.7879\n",
      "175/175 [==============================] - 1s 2ms/step - loss: 0.4853 - accuracy: 0.7943\n",
      "44/44 [==============================] - 0s 2ms/step - loss: 0.4344 - accuracy: 0.7964\n",
      "175/175 [==============================] - 1s 2ms/step - loss: 0.4781 - accuracy: 0.7939\n",
      "44/44 [==============================] - 0s 1ms/step - loss: 0.4411 - accuracy: 0.8014\n",
      "175/175 [==============================] - 1s 2ms/step - loss: 0.4862 - accuracy: 0.7891\n",
      "44/44 [==============================] - 0s 1ms/step - loss: 0.4293 - accuracy: 0.8086\n",
      "175/175 [==============================] - 1s 2ms/step - loss: 0.4668 - accuracy: 0.7934\n",
      "44/44 [==============================] - 0s 2ms/step - loss: 0.4155 - accuracy: 0.8271\n",
      "175/175 [==============================] - 1s 2ms/step - loss: 0.4580 - accuracy: 0.7982\n",
      "44/44 [==============================] - 0s 2ms/step - loss: 0.4514 - accuracy: 0.8021\n",
      "175/175 [==============================] - 1s 2ms/step - loss: 0.4746 - accuracy: 0.7889\n",
      "44/44 [==============================] - 0s 2ms/step - loss: 0.4260 - accuracy: 0.8171\n",
      "175/175 [==============================] - 1s 3ms/step - loss: 0.4663 - accuracy: 0.7936\n",
      "44/44 [==============================] - 0s 3ms/step - loss: 0.4398 - accuracy: 0.8100\n",
      "175/175 [==============================] - 1s 2ms/step - loss: 0.4624 - accuracy: 0.7996\n",
      "44/44 [==============================] - 0s 1ms/step - loss: 0.4195 - accuracy: 0.8093\n",
      "175/175 [==============================] - 1s 2ms/step - loss: 0.5201 - accuracy: 0.7686\n",
      "44/44 [==============================] - 0s 1ms/step - loss: 0.4343 - accuracy: 0.8150\n",
      "175/175 [==============================] - 1s 2ms/step - loss: 0.5223 - accuracy: 0.7661\n",
      "44/44 [==============================] - 0s 1ms/step - loss: 0.4727 - accuracy: 0.7957\n",
      "175/175 [==============================] - 1s 2ms/step - loss: 0.5123 - accuracy: 0.7821\n",
      "44/44 [==============================] - 0s 2ms/step - loss: 0.4521 - accuracy: 0.7850\n",
      "175/175 [==============================] - 1s 2ms/step - loss: 0.5067 - accuracy: 0.7902\n",
      "44/44 [==============================] - 0s 1ms/step - loss: 0.4655 - accuracy: 0.7907\n",
      "175/175 [==============================] - 1s 2ms/step - loss: 0.5480 - accuracy: 0.7696\n",
      "44/44 [==============================] - 0s 1ms/step - loss: 0.4755 - accuracy: 0.7907\n",
      "175/175 [==============================] - 1s 2ms/step - loss: 0.5144 - accuracy: 0.7663\n",
      "44/44 [==============================] - 1s 1ms/step - loss: 0.4219 - accuracy: 0.8150\n",
      "175/175 [==============================] - 1s 2ms/step - loss: 0.4993 - accuracy: 0.7887\n",
      "44/44 [==============================] - 0s 1ms/step - loss: 0.4555 - accuracy: 0.7929\n",
      "175/175 [==============================] - 1s 2ms/step - loss: 0.4838 - accuracy: 0.7955\n",
      "44/44 [==============================] - 0s 1ms/step - loss: 0.4377 - accuracy: 0.7907\n",
      "175/175 [==============================] - 1s 2ms/step - loss: 0.4844 - accuracy: 0.7916\n",
      "44/44 [==============================] - 0s 1ms/step - loss: 0.4463 - accuracy: 0.8050\n",
      "175/175 [==============================] - 1s 2ms/step - loss: 0.4842 - accuracy: 0.7955\n",
      "44/44 [==============================] - 0s 1ms/step - loss: 0.4287 - accuracy: 0.7964\n",
      "175/175 [==============================] - 1s 2ms/step - loss: 0.4703 - accuracy: 0.7925\n",
      "44/44 [==============================] - 0s 2ms/step - loss: 0.4209 - accuracy: 0.8279\n",
      "175/175 [==============================] - 1s 3ms/step - loss: 0.4580 - accuracy: 0.8016\n",
      "44/44 [==============================] - 0s 2ms/step - loss: 0.4455 - accuracy: 0.8064\n",
      "175/175 [==============================] - 1s 2ms/step - loss: 0.4650 - accuracy: 0.7982\n",
      "44/44 [==============================] - 0s 2ms/step - loss: 0.4337 - accuracy: 0.8157\n",
      "175/175 [==============================] - 1s 2ms/step - loss: 0.4688 - accuracy: 0.7905\n",
      "44/44 [==============================] - 0s 2ms/step - loss: 0.4421 - accuracy: 0.8036\n",
      "175/175 [==============================] - 1s 2ms/step - loss: 0.4654 - accuracy: 0.7948\n",
      "44/44 [==============================] - 0s 2ms/step - loss: 0.4220 - accuracy: 0.8100\n",
      "175/175 [==============================] - 1s 2ms/step - loss: 0.5357 - accuracy: 0.7736\n",
      "44/44 [==============================] - 0s 1ms/step - loss: 0.4578 - accuracy: 0.8150\n",
      "175/175 [==============================] - 1s 2ms/step - loss: 0.5196 - accuracy: 0.7907\n",
      "44/44 [==============================] - 0s 2ms/step - loss: 0.4615 - accuracy: 0.7957\n",
      "175/175 [==============================] - 1s 2ms/step - loss: 0.5245 - accuracy: 0.7870\n",
      "44/44 [==============================] - 0s 1ms/step - loss: 0.4538 - accuracy: 0.7850\n",
      "175/175 [==============================] - 1s 2ms/step - loss: 0.5569 - accuracy: 0.7568\n",
      "44/44 [==============================] - 0s 2ms/step - loss: 0.4711 - accuracy: 0.7907\n",
      "175/175 [==============================] - 1s 2ms/step - loss: 0.5117 - accuracy: 0.7943\n",
      "44/44 [==============================] - 0s 2ms/step - loss: 0.4586 - accuracy: 0.7907\n",
      "175/175 [==============================] - 1s 2ms/step - loss: 0.5167 - accuracy: 0.7723\n",
      "44/44 [==============================] - 0s 2ms/step - loss: 0.4159 - accuracy: 0.8186\n",
      "175/175 [==============================] - 1s 2ms/step - loss: 0.4975 - accuracy: 0.7804\n",
      "44/44 [==============================] - 0s 1ms/step - loss: 0.4556 - accuracy: 0.7957\n",
      "175/175 [==============================] - 1s 2ms/step - loss: 0.4971 - accuracy: 0.7930\n",
      "44/44 [==============================] - 0s 1ms/step - loss: 0.4460 - accuracy: 0.7850\n",
      "175/175 [==============================] - 1s 2ms/step - loss: 0.4810 - accuracy: 0.7927\n",
      "44/44 [==============================] - 0s 1ms/step - loss: 0.4487 - accuracy: 0.7936\n",
      "175/175 [==============================] - 1s 2ms/step - loss: 0.5108 - accuracy: 0.7761\n",
      "44/44 [==============================] - 0s 1ms/step - loss: 0.4478 - accuracy: 0.7907\n",
      "175/175 [==============================] - 1s 3ms/step - loss: 0.4750 - accuracy: 0.7905\n",
      "44/44 [==============================] - 0s 2ms/step - loss: 0.4160 - accuracy: 0.8229\n",
      "175/175 [==============================] - 1s 3ms/step - loss: 0.4671 - accuracy: 0.7943\n",
      "44/44 [==============================] - 0s 2ms/step - loss: 0.4532 - accuracy: 0.7957\n",
      "175/175 [==============================] - 1s 3ms/step - loss: 0.4707 - accuracy: 0.7975\n",
      "44/44 [==============================] - 0s 2ms/step - loss: 0.4269 - accuracy: 0.8000\n",
      "175/175 [==============================] - 1s 3ms/step - loss: 0.4683 - accuracy: 0.7918\n",
      "44/44 [==============================] - 0s 2ms/step - loss: 0.4480 - accuracy: 0.7986\n",
      "175/175 [==============================] - 1s 3ms/step - loss: 0.4697 - accuracy: 0.7955\n",
      "44/44 [==============================] - 0s 2ms/step - loss: 0.4211 - accuracy: 0.8086\n",
      "175/175 [==============================] - 1s 2ms/step - loss: 0.5527 - accuracy: 0.7411\n",
      "44/44 [==============================] - 0s 2ms/step - loss: 0.4438 - accuracy: 0.8150\n",
      "175/175 [==============================] - 1s 2ms/step - loss: 0.6454 - accuracy: 0.6752\n",
      "44/44 [==============================] - 0s 1ms/step - loss: 0.4807 - accuracy: 0.7957\n",
      "175/175 [==============================] - 1s 2ms/step - loss: 0.5428 - accuracy: 0.7570\n",
      "44/44 [==============================] - 0s 1ms/step - loss: 0.4663 - accuracy: 0.7850\n"
     ]
    },
    {
     "name": "stdout",
     "output_type": "stream",
     "text": [
      "175/175 [==============================] - 1s 2ms/step - loss: 0.5479 - accuracy: 0.7611\n",
      "44/44 [==============================] - 0s 2ms/step - loss: 0.4669 - accuracy: 0.7871\n",
      "175/175 [==============================] - 1s 2ms/step - loss: 0.5755 - accuracy: 0.7275\n",
      "44/44 [==============================] - 0s 1ms/step - loss: 0.4652 - accuracy: 0.7907\n",
      "175/175 [==============================] - 1s 2ms/step - loss: 0.5102 - accuracy: 0.7693\n",
      "44/44 [==============================] - 0s 1ms/step - loss: 0.4226 - accuracy: 0.8214\n",
      "175/175 [==============================] - 1s 2ms/step - loss: 0.4794 - accuracy: 0.7929\n",
      "44/44 [==============================] - 0s 1ms/step - loss: 0.4558 - accuracy: 0.7907\n",
      "175/175 [==============================] - 1s 2ms/step - loss: 0.4931 - accuracy: 0.7932\n",
      "44/44 [==============================] - 0s 1ms/step - loss: 0.4321 - accuracy: 0.8064\n",
      "175/175 [==============================] - 1s 2ms/step - loss: 0.4884 - accuracy: 0.7932\n",
      "44/44 [==============================] - 0s 1ms/step - loss: 0.4400 - accuracy: 0.8036\n",
      "175/175 [==============================] - 1s 2ms/step - loss: 0.4869 - accuracy: 0.7905\n",
      "44/44 [==============================] - 0s 1ms/step - loss: 0.4304 - accuracy: 0.8014\n",
      "175/175 [==============================] - 1s 2ms/step - loss: 0.4752 - accuracy: 0.7889\n",
      "44/44 [==============================] - 0s 2ms/step - loss: 0.4156 - accuracy: 0.8264\n",
      "175/175 [==============================] - 1s 2ms/step - loss: 0.4605 - accuracy: 0.7950\n",
      "44/44 [==============================] - 0s 1ms/step - loss: 0.4500 - accuracy: 0.8043\n",
      "175/175 [==============================] - 1s 2ms/step - loss: 0.4665 - accuracy: 0.7959\n",
      "44/44 [==============================] - 0s 2ms/step - loss: 0.4243 - accuracy: 0.8129\n",
      "175/175 [==============================] - 1s 2ms/step - loss: 0.4636 - accuracy: 0.7973\n",
      "44/44 [==============================] - 0s 1ms/step - loss: 0.4423 - accuracy: 0.8043\n",
      "175/175 [==============================] - 1s 2ms/step - loss: 0.4838 - accuracy: 0.7866\n",
      "44/44 [==============================] - 0s 1ms/step - loss: 0.4223 - accuracy: 0.8036\n",
      "175/175 [==============================] - 1s 2ms/step - loss: 0.5635 - accuracy: 0.7446\n",
      "44/44 [==============================] - 0s 1ms/step - loss: 0.4542 - accuracy: 0.8150\n",
      "175/175 [==============================] - 1s 3ms/step - loss: 0.5823 - accuracy: 0.7216\n",
      "44/44 [==============================] - 0s 2ms/step - loss: 0.4799 - accuracy: 0.7957\n",
      "175/175 [==============================] - 1s 2ms/step - loss: 0.5615 - accuracy: 0.7618\n",
      "44/44 [==============================] - 0s 1ms/step - loss: 0.4823 - accuracy: 0.7850\n",
      "175/175 [==============================] - 1s 2ms/step - loss: 0.5369 - accuracy: 0.7770\n",
      "44/44 [==============================] - 0s 1ms/step - loss: 0.4684 - accuracy: 0.7907\n",
      "175/175 [==============================] - 1s 2ms/step - loss: 0.5338 - accuracy: 0.7746\n",
      "44/44 [==============================] - 0s 2ms/step - loss: 0.4590 - accuracy: 0.7907\n",
      "175/175 [==============================] - 1s 2ms/step - loss: 0.5109 - accuracy: 0.7782\n",
      "44/44 [==============================] - 0s 2ms/step - loss: 0.4270 - accuracy: 0.8121\n",
      "175/175 [==============================] - 1s 2ms/step - loss: 0.5021 - accuracy: 0.7873\n",
      "44/44 [==============================] - 0s 1ms/step - loss: 0.4554 - accuracy: 0.7929\n",
      "175/175 [==============================] - 1s 2ms/step - loss: 0.5007 - accuracy: 0.7907\n",
      "44/44 [==============================] - 0s 2ms/step - loss: 0.4517 - accuracy: 0.7850\n",
      "175/175 [==============================] - 1s 2ms/step - loss: 0.5023 - accuracy: 0.7898\n",
      "44/44 [==============================] - 0s 1ms/step - loss: 0.4493 - accuracy: 0.7971\n",
      "175/175 [==============================] - 1s 2ms/step - loss: 0.4937 - accuracy: 0.7936\n",
      "44/44 [==============================] - 0s 1ms/step - loss: 0.4485 - accuracy: 0.7914\n",
      "175/175 [==============================] - 1s 2ms/step - loss: 0.4731 - accuracy: 0.7954\n",
      "44/44 [==============================] - 0s 2ms/step - loss: 0.4136 - accuracy: 0.8200\n",
      "175/175 [==============================] - 1s 2ms/step - loss: 0.4740 - accuracy: 0.7962\n",
      "44/44 [==============================] - 0s 2ms/step - loss: 0.4517 - accuracy: 0.7971\n",
      "175/175 [==============================] - 1s 3ms/step - loss: 0.4776 - accuracy: 0.7962\n",
      "44/44 [==============================] - 0s 1ms/step - loss: 0.4245 - accuracy: 0.8179\n",
      "175/175 [==============================] - 1s 2ms/step - loss: 0.4819 - accuracy: 0.7929\n",
      "44/44 [==============================] - 0s 2ms/step - loss: 0.4415 - accuracy: 0.8093\n",
      "175/175 [==============================] - 1s 2ms/step - loss: 0.4865 - accuracy: 0.7886\n",
      "44/44 [==============================] - 0s 2ms/step - loss: 0.4344 - accuracy: 0.7957\n",
      "175/175 [==============================] - 1s 2ms/step - loss: 0.5707 - accuracy: 0.7437\n",
      "44/44 [==============================] - 0s 1ms/step - loss: 0.4687 - accuracy: 0.8150\n",
      "175/175 [==============================] - 1s 2ms/step - loss: 0.5457 - accuracy: 0.7657\n",
      "44/44 [==============================] - 0s 2ms/step - loss: 0.4645 - accuracy: 0.7957\n",
      "175/175 [==============================] - 1s 2ms/step - loss: 0.5690 - accuracy: 0.7564\n",
      "44/44 [==============================] - 0s 2ms/step - loss: 0.4699 - accuracy: 0.7850\n",
      "175/175 [==============================] - 1s 2ms/step - loss: 0.5672 - accuracy: 0.7529\n",
      "44/44 [==============================] - 0s 1ms/step - loss: 0.4913 - accuracy: 0.7907\n",
      "175/175 [==============================] - 1s 2ms/step - loss: 0.5484 - accuracy: 0.7705\n",
      "44/44 [==============================] - 0s 1ms/step - loss: 0.4744 - accuracy: 0.7907\n",
      "175/175 [==============================] - 1s 3ms/step - loss: 0.5403 - accuracy: 0.7680\n",
      "44/44 [==============================] - 0s 2ms/step - loss: 0.4284 - accuracy: 0.8150\n",
      "175/175 [==============================] - 1s 2ms/step - loss: 0.5069 - accuracy: 0.7946\n",
      "44/44 [==============================] - 0s 2ms/step - loss: 0.4782 - accuracy: 0.7957\n",
      "175/175 [==============================] - 1s 2ms/step - loss: 0.5202 - accuracy: 0.7868\n",
      "44/44 [==============================] - 0s 2ms/step - loss: 0.4521 - accuracy: 0.7850\n",
      "175/175 [==============================] - 1s 2ms/step - loss: 0.5098 - accuracy: 0.7864\n",
      "44/44 [==============================] - 0s 1ms/step - loss: 0.4597 - accuracy: 0.7907\n",
      "175/175 [==============================] - 1s 2ms/step - loss: 0.5199 - accuracy: 0.7830\n",
      "44/44 [==============================] - 0s 1ms/step - loss: 0.4563 - accuracy: 0.7907\n",
      "175/175 [==============================] - 1s 3ms/step - loss: 0.4908 - accuracy: 0.7841\n",
      "44/44 [==============================] - 0s 2ms/step - loss: 0.4359 - accuracy: 0.8164\n",
      "175/175 [==============================] - 1s 3ms/step - loss: 0.4785 - accuracy: 0.7909\n",
      "44/44 [==============================] - 0s 2ms/step - loss: 0.4524 - accuracy: 0.7950\n",
      "175/175 [==============================] - 1s 3ms/step - loss: 0.4788 - accuracy: 0.7955\n",
      "44/44 [==============================] - 0s 2ms/step - loss: 0.4353 - accuracy: 0.7850\n",
      "175/175 [==============================] - 1s 3ms/step - loss: 0.4825 - accuracy: 0.7914\n",
      "44/44 [==============================] - 0s 2ms/step - loss: 0.4609 - accuracy: 0.7950\n",
      "175/175 [==============================] - 1s 3ms/step - loss: 0.4884 - accuracy: 0.7943\n",
      "44/44 [==============================] - 0s 2ms/step - loss: 0.4557 - accuracy: 0.7914\n",
      "219/219 [==============================] - 1s 2ms/step - loss: 0.4575 - accuracy: 0.8003\n"
     ]
    }
   ],
   "source": [
    "grid_result = grid.fit(X_train_clean, y_train)"
   ]
  },
  {
   "cell_type": "code",
   "execution_count": 203,
   "id": "d669b375",
   "metadata": {},
   "outputs": [
    {
     "name": "stdout",
     "output_type": "stream",
     "text": [
      "Best: 0.813143 using {'dropout': 0.3, 'layers': 2, 'units': 128}\n"
     ]
    }
   ],
   "source": [
    "print(\"Best: %f using %s\" % (grid_result.best_score_, grid_result.best_params_))"
   ]
  },
  {
   "cell_type": "code",
   "execution_count": 204,
   "id": "c933f81f",
   "metadata": {},
   "outputs": [
    {
     "name": "stdout",
     "output_type": "stream",
     "text": [
      "57/57 [==============================] - 0s 1ms/step\n",
      "Accuracy: 0.7911111111111111\n"
     ]
    }
   ],
   "source": [
    "deep_pred = np.argmax(grid_result.predict(X_test_clean), axis=-1)\n",
    "accuracy = accuracy_score(y_test, deep_pred)\n",
    "print(\"Accuracy:\", accuracy)"
   ]
  },
  {
   "cell_type": "code",
   "execution_count": 205,
   "id": "e87bada3",
   "metadata": {},
   "outputs": [
    {
     "name": "stdout",
     "output_type": "stream",
     "text": [
      "              precision    recall  f1-score   support\n",
      "\n",
      "           0       0.79      1.00      0.88      1424\n",
      "           1       0.00      0.00      0.00       376\n",
      "\n",
      "    accuracy                           0.79      1800\n",
      "   macro avg       0.40      0.50      0.44      1800\n",
      "weighted avg       0.63      0.79      0.70      1800\n",
      "\n"
     ]
    }
   ],
   "source": [
    "print(classification_report(y_test, deep_pred, labels=[0,1]))"
   ]
  },
  {
   "cell_type": "code",
   "execution_count": 206,
   "id": "bf2a5689",
   "metadata": {},
   "outputs": [
    {
     "data": {
      "image/png": "[encoded data removed]",
      "text/plain": [
       "<Figure size 432x288 with 2 Axes>"
      ]
     },
     "metadata": {
      "needs_background": "light"
     },
     "output_type": "display_data"
    }
   ],
   "source": [
    "ConfusionMatrixDisplay.from_predictions(y_test, deep_pred, display_labels = [False, True])\n",
    "plt.show()"
   ]
  },
  {
   "cell_type": "markdown",
   "id": "b9dcef65",
   "metadata": {},
   "source": [
    "## LightGBM"
   ]
  },
  {
   "cell_type": "code",
   "execution_count": 207,
   "id": "2ee7e020",
   "metadata": {},
   "outputs": [],
   "source": [
    "# define the LightGBM classifier\n",
    "lgb_awal = LGBMClassifier(random_state = 123)"
   ]
  },
  {
   "cell_type": "code",
   "execution_count": 208,
   "id": "2a74ea1d",
   "metadata": {},
   "outputs": [
    {
     "data": {
      "text/plain": [
       "LGBMClassifier(random_state=123)"
      ]
     },
     "execution_count": 208,
     "metadata": {},
     "output_type": "execute_result"
    }
   ],
   "source": [
    "lgb_awal.fit(X_train_clean, y_train)"
   ]
  },
  {
   "cell_type": "code",
   "execution_count": 209,
   "id": "9ef42b45",
   "metadata": {},
   "outputs": [
    {
     "data": {
      "text/plain": [
       "0.917"
      ]
     },
     "execution_count": 209,
     "metadata": {},
     "output_type": "execute_result"
    }
   ],
   "source": [
    "# train the classifier\n",
    "lgb_awal.score(X_train_clean, y_train)"
   ]
  },
  {
   "cell_type": "code",
   "execution_count": 210,
   "id": "069a9504",
   "metadata": {},
   "outputs": [],
   "source": [
    "# make predictions on the testing set\n",
    "lgb_pred = lgb_awal.predict(X_test_clean)"
   ]
  },
  {
   "cell_type": "code",
   "execution_count": 211,
   "id": "ad3df390",
   "metadata": {},
   "outputs": [
    {
     "name": "stdout",
     "output_type": "stream",
     "text": [
      "Training Data Score: 0.917\n",
      "Validating Data Score: 0.8733333333333333\n",
      "Testing Data Score: 0.8694444444444445\n"
     ]
    }
   ],
   "source": [
    "print(f\"Training Data Score: {lgb_awal.score(X_train_clean, y_train)}\")\n",
    "print(f\"Validating Data Score: {lgb_awal.score(X_valid_clean, y_valid)}\")\n",
    "print(f\"Testing Data Score: {lgb_awal.score(X_test_clean, y_test)}\")"
   ]
  },
  {
   "cell_type": "code",
   "execution_count": 212,
   "id": "49abd02b",
   "metadata": {},
   "outputs": [
    {
     "name": "stdout",
     "output_type": "stream",
     "text": [
      "              precision    recall  f1-score   support\n",
      "\n",
      "           0       0.89      0.96      0.92      1424\n",
      "           1       0.77      0.54      0.63       376\n",
      "\n",
      "    accuracy                           0.87      1800\n",
      "   macro avg       0.83      0.75      0.78      1800\n",
      "weighted avg       0.86      0.87      0.86      1800\n",
      "\n"
     ]
    }
   ],
   "source": [
    "print(classification_report(y_test, lgb_pred, labels=[0,1]))"
   ]
  },
  {
   "cell_type": "markdown",
   "id": "d1d1468c",
   "metadata": {},
   "source": [
    "## Tuning Parameter LightGBM"
   ]
  },
  {
   "cell_type": "code",
   "execution_count": 213,
   "id": "d91829ad",
   "metadata": {},
   "outputs": [],
   "source": [
    "# define the LightGBM classifier\n",
    "lgb = LGBMClassifier()"
   ]
  },
  {
   "cell_type": "code",
   "execution_count": 214,
   "id": "845936f2",
   "metadata": {},
   "outputs": [],
   "source": [
    "# define the hyperparameters to tune\n",
    "param_grid = {\n",
    "    'num_leaves': [10, 20, 30],\n",
    "    'max_depth': [3, 4, 5],\n",
    "    'learning_rate': [0.1, 0.01, 0.001]\n",
    "}"
   ]
  },
  {
   "cell_type": "code",
   "execution_count": 215,
   "id": "7848d5e5",
   "metadata": {},
   "outputs": [],
   "source": [
    "# create the grid search object\n",
    "grid_search_lgb = GridSearchCV(lgb, param_grid=param_grid, cv=5)"
   ]
  },
  {
   "cell_type": "code",
   "execution_count": 216,
   "id": "b01ee185",
   "metadata": {},
   "outputs": [
    {
     "data": {
      "text/plain": [
       "GridSearchCV(cv=5, estimator=LGBMClassifier(),\n",
       "             param_grid={'learning_rate': [0.1, 0.01, 0.001],\n",
       "                         'max_depth': [3, 4, 5], 'num_leaves': [10, 20, 30]})"
      ]
     },
     "execution_count": 216,
     "metadata": {},
     "output_type": "execute_result"
    }
   ],
   "source": [
    "# train the grid search object\n",
    "grid_search_lgb.fit(X_train_clean, y_train)"
   ]
  },
  {
   "cell_type": "code",
   "execution_count": 217,
   "id": "98309473",
   "metadata": {},
   "outputs": [],
   "source": [
    "best_params = grid_search_lgb.best_params_"
   ]
  },
  {
   "cell_type": "code",
   "execution_count": 218,
   "id": "ab159150",
   "metadata": {},
   "outputs": [],
   "source": [
    "lgbm_best = LGBMClassifier(**best_params)"
   ]
  },
  {
   "cell_type": "code",
   "execution_count": 219,
   "id": "1a411da6",
   "metadata": {},
   "outputs": [
    {
     "data": {
      "text/plain": [
       "LGBMClassifier(max_depth=5, num_leaves=30)"
      ]
     },
     "execution_count": 219,
     "metadata": {},
     "output_type": "execute_result"
    }
   ],
   "source": [
    "lgbm_best.fit(X_train_clean, y_train)"
   ]
  },
  {
   "cell_type": "code",
   "execution_count": 220,
   "id": "6b7b9570",
   "metadata": {},
   "outputs": [],
   "source": [
    "lgb_best_pred = lgbm_best.predict(X_test_clean)"
   ]
  },
  {
   "cell_type": "code",
   "execution_count": 221,
   "id": "bc1797d6",
   "metadata": {},
   "outputs": [
    {
     "name": "stdout",
     "output_type": "stream",
     "text": [
      "              precision    recall  f1-score   support\n",
      "\n",
      "           0       0.89      0.96      0.92      1424\n",
      "           1       0.76      0.54      0.63       376\n",
      "\n",
      "    accuracy                           0.87      1800\n",
      "   macro avg       0.82      0.75      0.78      1800\n",
      "weighted avg       0.86      0.87      0.86      1800\n",
      "\n"
     ]
    }
   ],
   "source": [
    "print(classification_report(y_test, lgb_best_pred, labels=[0,1]))"
   ]
  },
  {
   "cell_type": "code",
   "execution_count": 222,
   "id": "8453012d",
   "metadata": {},
   "outputs": [
    {
     "data": {
      "image/png": "[encoded data removed]",
      "text/plain": [
       "<Figure size 432x288 with 2 Axes>"
      ]
     },
     "metadata": {
      "needs_background": "light"
     },
     "output_type": "display_data"
    }
   ],
   "source": [
    "ConfusionMatrixDisplay.from_predictions(y_test, lgb_best_pred, display_labels = [False, True])\n",
    "plt.show()"
   ]
  },
  {
   "cell_type": "code",
   "execution_count": 223,
   "id": "4bb0d8eb",
   "metadata": {},
   "outputs": [
    {
     "name": "stdout",
     "output_type": "stream",
     "text": [
      "Accuracy: 0.8683333333333333\n",
      "ROC AUC score: 0.7464962347597418\n"
     ]
    }
   ],
   "source": [
    "# evaluate the classifier using accuracy score and ROC AUC score\n",
    "acc = accuracy_score(y_test, lgb_best_pred)\n",
    "roc_auc = roc_auc_score(y_test, lgb_best_pred)\n",
    "print('Accuracy:', acc)\n",
    "print('ROC AUC score:', roc_auc)"
   ]
  },
  {
   "cell_type": "code",
   "execution_count": 225,
   "id": "03a68d74",
   "metadata": {},
   "outputs": [
    {
     "name": "stdout",
     "output_type": "stream",
     "text": [
      "                              precision    recall  f1_score  accuracy  \\\n",
      "Logistic Regression            0.783109  0.810000  0.774771  0.810000   \n",
      "Logistic Regression CV         0.786511  0.811667  0.774114  0.811667   \n",
      "Decision Tree                  0.801276  0.798889  0.800043  0.798889   \n",
      "Decision Tree CV               0.852122  0.860000  0.845564  0.860000   \n",
      "Support Vector Classifier      0.858290  0.858333  0.836229  0.858333   \n",
      "Support Vector Classifier CV   0.854877  0.850000  0.821057  0.850000   \n",
      "Random Forest                  0.852944  0.853889  0.830103  0.853889   \n",
      "Random Forest CV               0.859963  0.865556  0.850963  0.865556   \n",
      "Ridge                          0.771130  0.801667  0.744961  0.801667   \n",
      "Ridge CV                       0.771130  0.801667  0.744961  0.801667   \n",
      "KNN                            0.810844  0.827778  0.811822  0.827778   \n",
      "KNN CV                         0.806523  0.823333  0.790137  0.823333   \n",
      "Bagging                        0.849576  0.858889  0.847451  0.858889   \n",
      "Bagging CV                     0.852828  0.861667  0.852075  0.861667   \n",
      "gradient Boosting              0.866153  0.872222  0.861240  0.872222   \n",
      "gradient Boosting CV           0.866153  0.872222  0.861240  0.872222   \n",
      "Adaboost                       0.852921  0.861667  0.852901  0.861667   \n",
      "Adaboost SVC                   0.730557  0.791111  0.699895  0.791111   \n",
      "Adaboost CV                    0.852239  0.860556  0.847278  0.860556   \n",
      "Extratrees                     0.854370  0.861667  0.847279  0.861667   \n",
      "Extratrees CV                  0.857578  0.862222  0.845182  0.862222   \n",
      "XGboost                        0.851785  0.860556  0.852327  0.860556   \n",
      "XGboost CV                     0.861663  0.868889  0.858471  0.868889   \n",
      "LightGBM                       0.861991  0.869444  0.860392  0.869444   \n",
      "LightGBM CV                    0.860663  0.868333  0.859403  0.868333   \n",
      "\n",
      "                              macro_avg_precision  macro_avg_recall  \\\n",
      "Logistic Regression                      0.722373          0.599039   \n",
      "Logistic Regression CV                   0.732266          0.596178   \n",
      "Decision Tree                            0.697052          0.701627   \n",
      "Decision Tree CV                         0.825318          0.712848   \n",
      "Support Vector Classifier                0.858179          0.684392   \n",
      "Support Vector Classifier CV             0.865615          0.656616   \n",
      "Random Forest                            0.850619          0.674733   \n",
      "Random Forest CV                         0.841646          0.718317   \n",
      "Ridge                                    0.717971          0.552669   \n",
      "Ridge CV                                 0.717971          0.552669   \n",
      "KNN                                      0.748354          0.669974   \n",
      "KNN CV                                   0.768880          0.618232   \n",
      "Bagging                                  0.811450          0.723890   \n",
      "Bagging CV                               0.811841          0.735432   \n",
      "gradient Boosting                        0.842418          0.741125   \n",
      "gradient Boosting CV                     0.842418          0.741125   \n",
      "Adaboost                                 0.809278          0.739347   \n",
      "Adaboost SVC                             0.645717          0.500979   \n",
      "Adaboost CV                              0.822184          0.718093   \n",
      "Extratrees                               0.829701          0.714880   \n",
      "Extratrees CV                            0.843750          0.705445   \n",
      "XGboost                                  0.805363          0.740602   \n",
      "XGboost CV                               0.831613          0.739997   \n",
      "LightGBM                                 0.827427          0.747198   \n",
      "LightGBM CV                              0.824455          0.746496   \n",
      "\n",
      "                              macro_avg_f1_score  weighted_avg_precision  \\\n",
      "Logistic Regression                     0.615634                0.783109   \n",
      "Logistic Regression CV                  0.612157                0.786511   \n",
      "Decision Tree                           0.699267                0.801276   \n",
      "Decision Tree CV                        0.747326                0.852122   \n",
      "Support Vector Classifier               0.724320                0.858290   \n",
      "Support Vector Classifier CV            0.693608                0.854877   \n",
      "Random Forest                           0.713070                0.852944   \n",
      "Random Forest CV                        0.755382                0.859963   \n",
      "Ridge                                   0.547528                0.771130   \n",
      "Ridge CV                                0.547528                0.771130   \n",
      "KNN                                     0.694062                0.810844   \n",
      "KNN CV                                  0.641460                0.806523   \n",
      "Bagging                                 0.753800                0.849576   \n",
      "Bagging CV                              0.763118                0.852828   \n",
      "gradient Boosting                       0.775351                0.866153   \n",
      "gradient Boosting CV                    0.775351                0.866153   \n",
      "Adaboost                                0.765413                0.852921   \n",
      "Adaboost SVC                            0.444297                0.730557   \n",
      "Adaboost CV                             0.751314                0.852239   \n",
      "Extratrees                              0.749999                0.854370   \n",
      "Extratrees CV                           0.743717                0.857578   \n",
      "XGboost                                 0.765224                0.851785   \n",
      "XGboost CV                              0.771824                0.861663   \n",
      "LightGBM                                0.776436                0.861991   \n",
      "LightGBM CV                             0.775085                0.860663   \n",
      "\n",
      "                              weighted_avg_recall  weighted_avg_f1_score  \n",
      "Logistic Regression                      0.810000               0.774771  \n",
      "Logistic Regression CV                   0.811667               0.774114  \n",
      "Decision Tree                            0.798889               0.800043  \n",
      "Decision Tree CV                         0.860000               0.845564  \n",
      "Support Vector Classifier                0.858333               0.836229  \n",
      "Support Vector Classifier CV             0.850000               0.821057  \n",
      "Random Forest                            0.853889               0.830103  \n",
      "Random Forest CV                         0.865556               0.850963  \n",
      "Ridge                                    0.801667               0.744961  \n",
      "Ridge CV                                 0.801667               0.744961  \n",
      "KNN                                      0.827778               0.811822  \n",
      "KNN CV                                   0.823333               0.790137  \n",
      "Bagging                                  0.858889               0.847451  \n",
      "Bagging CV                               0.861667               0.852075  \n",
      "gradient Boosting                        0.872222               0.861240  \n",
      "gradient Boosting CV                     0.872222               0.861240  \n",
      "Adaboost                                 0.861667               0.852901  \n",
      "Adaboost SVC                             0.791111               0.699895  \n",
      "Adaboost CV                              0.860556               0.847278  \n",
      "Extratrees                               0.861667               0.847279  \n",
      "Extratrees CV                            0.862222               0.845182  \n",
      "XGboost                                  0.860556               0.852327  \n",
      "XGboost CV                               0.868889               0.858471  \n",
      "LightGBM                                 0.869444               0.860392  \n",
      "LightGBM CV                              0.868333               0.859403  \n"
     ]
    }
   ],
   "source": [
    "import pandas as pd\n",
    "from sklearn.metrics import classification_report\n",
    "\n",
    "# definisikan model-model yang ingin dibandingkan\n",
    "models = {'Logistic Regression': logreg_awal, \n",
    "          'Logistic Regression CV': lr_grid_cv,\n",
    "          'Decision Tree': decTree, \n",
    "          'Decision Tree CV': best_decTree,\n",
    "          'Support Vector Classifier':svc_ori,\n",
    "          'Support Vector Classifier CV':svc_grid_cv,\n",
    "          'Random Forest':random_forest,\n",
    "          'Random Forest CV':random_forestcls_cv,\n",
    "          'Ridge':ridge,\n",
    "          'Ridge CV':ridge_cv,\n",
    "          'KNN':knn_awal,\n",
    "          'KNN CV':kn_grid,\n",
    "          'Bagging':bagging_cls,\n",
    "          'Bagging CV':bagging_cv,\n",
    "          'gradient Boosting':grad_boost,\n",
    "          'gradient Boosting CV':gradboost_cv,\n",
    "          'Adaboost':abc_ori,\n",
    "          'Adaboost SVC':adaboost_svc,\n",
    "          'Adaboost CV':adaboost_best,\n",
    "          'Extratrees':extra_trees_awal,\n",
    "          'Extratrees CV':extra_trees_best,\n",
    "          'XGboost':xgb_classifier,\n",
    "          'XGboost CV':xgb_best,\n",
    "          'LightGBM':lgb_awal,\n",
    "          'LightGBM CV':lgbm_best\n",
    "         }\n",
    "\n",
    "# loop untuk menghitung dan menyimpan metrik untuk setiap model\n",
    "results = {}\n",
    "for name, model in models.items():\n",
    "    # hitung prediksi pada data test\n",
    "    y_pred = model.predict(X_test_clean)\n",
    "    # hitung metrik\n",
    "    report = classification_report(y_test, y_pred, output_dict=True)\n",
    "    # simpan metrik ke dictionary\n",
    "    results[name] = {\n",
    "        'precision': report['weighted avg']['precision'],\n",
    "        'recall': report['weighted avg']['recall'],\n",
    "        'f1_score': report['weighted avg']['f1-score'],\n",
    "        'accuracy': report['accuracy'],\n",
    "        'macro_avg_precision': report['macro avg']['precision'],\n",
    "        'macro_avg_recall': report['macro avg']['recall'],\n",
    "        'macro_avg_f1_score': report['macro avg']['f1-score'],\n",
    "        'weighted_avg_precision': report['weighted avg']['precision'],\n",
    "        'weighted_avg_recall': report['weighted avg']['recall'],\n",
    "        'weighted_avg_f1_score': report['weighted avg']['f1-score']\n",
    "    }\n",
    "\n",
    "# buat dataframe dari dictionary\n",
    "df_results = pd.DataFrame.from_dict(results, orient='index')\n",
    "\n",
    "# tampilkan dataframe sebagai tabel\n",
    "print(df_results)\n"
   ]
  },
  {
   "cell_type": "code",
   "execution_count": 226,
   "id": "1c7f3ed7",
   "metadata": {},
   "outputs": [
    {
     "data": {
      "text/html": [
       "<div>\n",
       "<style scoped>\n",
       "    .dataframe tbody tr th:only-of-type {\n",
       "        vertical-align: middle;\n",
       "    }\n",
       "\n",
       "    .dataframe tbody tr th {\n",
       "        vertical-align: top;\n",
       "    }\n",
       "\n",
       "    .dataframe thead th {\n",
       "        text-align: right;\n",
       "    }\n",
       "</style>\n",
       "<table border=\"1\" class=\"dataframe\">\n",
       "  <thead>\n",
       "    <tr style=\"text-align: right;\">\n",
       "      <th></th>\n",
       "      <th>precision</th>\n",
       "      <th>recall</th>\n",
       "      <th>f1_score</th>\n",
       "      <th>accuracy</th>\n",
       "      <th>macro_avg_precision</th>\n",
       "      <th>macro_avg_recall</th>\n",
       "      <th>macro_avg_f1_score</th>\n",
       "      <th>weighted_avg_precision</th>\n",
       "      <th>weighted_avg_recall</th>\n",
       "      <th>weighted_avg_f1_score</th>\n",
       "    </tr>\n",
       "  </thead>\n",
       "  <tbody>\n",
       "    <tr>\n",
       "      <th>Logistic Regression</th>\n",
       "      <td>0.783109</td>\n",
       "      <td>0.810000</td>\n",
       "      <td>0.774771</td>\n",
       "      <td>0.810000</td>\n",
       "      <td>0.722373</td>\n",
       "      <td>0.599039</td>\n",
       "      <td>0.615634</td>\n",
       "      <td>0.783109</td>\n",
       "      <td>0.810000</td>\n",
       "      <td>0.774771</td>\n",
       "    </tr>\n",
       "    <tr>\n",
       "      <th>Logistic Regression CV</th>\n",
       "      <td>0.786511</td>\n",
       "      <td>0.811667</td>\n",
       "      <td>0.774114</td>\n",
       "      <td>0.811667</td>\n",
       "      <td>0.732266</td>\n",
       "      <td>0.596178</td>\n",
       "      <td>0.612157</td>\n",
       "      <td>0.786511</td>\n",
       "      <td>0.811667</td>\n",
       "      <td>0.774114</td>\n",
       "    </tr>\n",
       "    <tr>\n",
       "      <th>Decision Tree</th>\n",
       "      <td>0.801276</td>\n",
       "      <td>0.798889</td>\n",
       "      <td>0.800043</td>\n",
       "      <td>0.798889</td>\n",
       "      <td>0.697052</td>\n",
       "      <td>0.701627</td>\n",
       "      <td>0.699267</td>\n",
       "      <td>0.801276</td>\n",
       "      <td>0.798889</td>\n",
       "      <td>0.800043</td>\n",
       "    </tr>\n",
       "    <tr>\n",
       "      <th>Decision Tree CV</th>\n",
       "      <td>0.852122</td>\n",
       "      <td>0.860000</td>\n",
       "      <td>0.845564</td>\n",
       "      <td>0.860000</td>\n",
       "      <td>0.825318</td>\n",
       "      <td>0.712848</td>\n",
       "      <td>0.747326</td>\n",
       "      <td>0.852122</td>\n",
       "      <td>0.860000</td>\n",
       "      <td>0.845564</td>\n",
       "    </tr>\n",
       "    <tr>\n",
       "      <th>Support Vector Classifier</th>\n",
       "      <td>0.858290</td>\n",
       "      <td>0.858333</td>\n",
       "      <td>0.836229</td>\n",
       "      <td>0.858333</td>\n",
       "      <td>0.858179</td>\n",
       "      <td>0.684392</td>\n",
       "      <td>0.724320</td>\n",
       "      <td>0.858290</td>\n",
       "      <td>0.858333</td>\n",
       "      <td>0.836229</td>\n",
       "    </tr>\n",
       "    <tr>\n",
       "      <th>Support Vector Classifier CV</th>\n",
       "      <td>0.854877</td>\n",
       "      <td>0.850000</td>\n",
       "      <td>0.821057</td>\n",
       "      <td>0.850000</td>\n",
       "      <td>0.865615</td>\n",
       "      <td>0.656616</td>\n",
       "      <td>0.693608</td>\n",
       "      <td>0.854877</td>\n",
       "      <td>0.850000</td>\n",
       "      <td>0.821057</td>\n",
       "    </tr>\n",
       "    <tr>\n",
       "      <th>Random Forest</th>\n",
       "      <td>0.852944</td>\n",
       "      <td>0.853889</td>\n",
       "      <td>0.830103</td>\n",
       "      <td>0.853889</td>\n",
       "      <td>0.850619</td>\n",
       "      <td>0.674733</td>\n",
       "      <td>0.713070</td>\n",
       "      <td>0.852944</td>\n",
       "      <td>0.853889</td>\n",
       "      <td>0.830103</td>\n",
       "    </tr>\n",
       "    <tr>\n",
       "      <th>Random Forest CV</th>\n",
       "      <td>0.859963</td>\n",
       "      <td>0.865556</td>\n",
       "      <td>0.850963</td>\n",
       "      <td>0.865556</td>\n",
       "      <td>0.841646</td>\n",
       "      <td>0.718317</td>\n",
       "      <td>0.755382</td>\n",
       "      <td>0.859963</td>\n",
       "      <td>0.865556</td>\n",
       "      <td>0.850963</td>\n",
       "    </tr>\n",
       "    <tr>\n",
       "      <th>Ridge</th>\n",
       "      <td>0.771130</td>\n",
       "      <td>0.801667</td>\n",
       "      <td>0.744961</td>\n",
       "      <td>0.801667</td>\n",
       "      <td>0.717971</td>\n",
       "      <td>0.552669</td>\n",
       "      <td>0.547528</td>\n",
       "      <td>0.771130</td>\n",
       "      <td>0.801667</td>\n",
       "      <td>0.744961</td>\n",
       "    </tr>\n",
       "    <tr>\n",
       "      <th>Ridge CV</th>\n",
       "      <td>0.771130</td>\n",
       "      <td>0.801667</td>\n",
       "      <td>0.744961</td>\n",
       "      <td>0.801667</td>\n",
       "      <td>0.717971</td>\n",
       "      <td>0.552669</td>\n",
       "      <td>0.547528</td>\n",
       "      <td>0.771130</td>\n",
       "      <td>0.801667</td>\n",
       "      <td>0.744961</td>\n",
       "    </tr>\n",
       "    <tr>\n",
       "      <th>KNN</th>\n",
       "      <td>0.810844</td>\n",
       "      <td>0.827778</td>\n",
       "      <td>0.811822</td>\n",
       "      <td>0.827778</td>\n",
       "      <td>0.748354</td>\n",
       "      <td>0.669974</td>\n",
       "      <td>0.694062</td>\n",
       "      <td>0.810844</td>\n",
       "      <td>0.827778</td>\n",
       "      <td>0.811822</td>\n",
       "    </tr>\n",
       "    <tr>\n",
       "      <th>KNN CV</th>\n",
       "      <td>0.806523</td>\n",
       "      <td>0.823333</td>\n",
       "      <td>0.790137</td>\n",
       "      <td>0.823333</td>\n",
       "      <td>0.768880</td>\n",
       "      <td>0.618232</td>\n",
       "      <td>0.641460</td>\n",
       "      <td>0.806523</td>\n",
       "      <td>0.823333</td>\n",
       "      <td>0.790137</td>\n",
       "    </tr>\n",
       "    <tr>\n",
       "      <th>Bagging</th>\n",
       "      <td>0.849576</td>\n",
       "      <td>0.858889</td>\n",
       "      <td>0.847451</td>\n",
       "      <td>0.858889</td>\n",
       "      <td>0.811450</td>\n",
       "      <td>0.723890</td>\n",
       "      <td>0.753800</td>\n",
       "      <td>0.849576</td>\n",
       "      <td>0.858889</td>\n",
       "      <td>0.847451</td>\n",
       "    </tr>\n",
       "    <tr>\n",
       "      <th>Bagging CV</th>\n",
       "      <td>0.852828</td>\n",
       "      <td>0.861667</td>\n",
       "      <td>0.852075</td>\n",
       "      <td>0.861667</td>\n",
       "      <td>0.811841</td>\n",
       "      <td>0.735432</td>\n",
       "      <td>0.763118</td>\n",
       "      <td>0.852828</td>\n",
       "      <td>0.861667</td>\n",
       "      <td>0.852075</td>\n",
       "    </tr>\n",
       "    <tr>\n",
       "      <th>gradient Boosting</th>\n",
       "      <td>0.866153</td>\n",
       "      <td>0.872222</td>\n",
       "      <td>0.861240</td>\n",
       "      <td>0.872222</td>\n",
       "      <td>0.842418</td>\n",
       "      <td>0.741125</td>\n",
       "      <td>0.775351</td>\n",
       "      <td>0.866153</td>\n",
       "      <td>0.872222</td>\n",
       "      <td>0.861240</td>\n",
       "    </tr>\n",
       "    <tr>\n",
       "      <th>gradient Boosting CV</th>\n",
       "      <td>0.866153</td>\n",
       "      <td>0.872222</td>\n",
       "      <td>0.861240</td>\n",
       "      <td>0.872222</td>\n",
       "      <td>0.842418</td>\n",
       "      <td>0.741125</td>\n",
       "      <td>0.775351</td>\n",
       "      <td>0.866153</td>\n",
       "      <td>0.872222</td>\n",
       "      <td>0.861240</td>\n",
       "    </tr>\n",
       "    <tr>\n",
       "      <th>Adaboost</th>\n",
       "      <td>0.852921</td>\n",
       "      <td>0.861667</td>\n",
       "      <td>0.852901</td>\n",
       "      <td>0.861667</td>\n",
       "      <td>0.809278</td>\n",
       "      <td>0.739347</td>\n",
       "      <td>0.765413</td>\n",
       "      <td>0.852921</td>\n",
       "      <td>0.861667</td>\n",
       "      <td>0.852901</td>\n",
       "    </tr>\n",
       "    <tr>\n",
       "      <th>Adaboost SVC</th>\n",
       "      <td>0.730557</td>\n",
       "      <td>0.791111</td>\n",
       "      <td>0.699895</td>\n",
       "      <td>0.791111</td>\n",
       "      <td>0.645717</td>\n",
       "      <td>0.500979</td>\n",
       "      <td>0.444297</td>\n",
       "      <td>0.730557</td>\n",
       "      <td>0.791111</td>\n",
       "      <td>0.699895</td>\n",
       "    </tr>\n",
       "    <tr>\n",
       "      <th>Adaboost CV</th>\n",
       "      <td>0.852239</td>\n",
       "      <td>0.860556</td>\n",
       "      <td>0.847278</td>\n",
       "      <td>0.860556</td>\n",
       "      <td>0.822184</td>\n",
       "      <td>0.718093</td>\n",
       "      <td>0.751314</td>\n",
       "      <td>0.852239</td>\n",
       "      <td>0.860556</td>\n",
       "      <td>0.847278</td>\n",
       "    </tr>\n",
       "    <tr>\n",
       "      <th>Extratrees</th>\n",
       "      <td>0.854370</td>\n",
       "      <td>0.861667</td>\n",
       "      <td>0.847279</td>\n",
       "      <td>0.861667</td>\n",
       "      <td>0.829701</td>\n",
       "      <td>0.714880</td>\n",
       "      <td>0.749999</td>\n",
       "      <td>0.854370</td>\n",
       "      <td>0.861667</td>\n",
       "      <td>0.847279</td>\n",
       "    </tr>\n",
       "    <tr>\n",
       "      <th>Extratrees CV</th>\n",
       "      <td>0.857578</td>\n",
       "      <td>0.862222</td>\n",
       "      <td>0.845182</td>\n",
       "      <td>0.862222</td>\n",
       "      <td>0.843750</td>\n",
       "      <td>0.705445</td>\n",
       "      <td>0.743717</td>\n",
       "      <td>0.857578</td>\n",
       "      <td>0.862222</td>\n",
       "      <td>0.845182</td>\n",
       "    </tr>\n",
       "    <tr>\n",
       "      <th>XGboost</th>\n",
       "      <td>0.851785</td>\n",
       "      <td>0.860556</td>\n",
       "      <td>0.852327</td>\n",
       "      <td>0.860556</td>\n",
       "      <td>0.805363</td>\n",
       "      <td>0.740602</td>\n",
       "      <td>0.765224</td>\n",
       "      <td>0.851785</td>\n",
       "      <td>0.860556</td>\n",
       "      <td>0.852327</td>\n",
       "    </tr>\n",
       "    <tr>\n",
       "      <th>XGboost CV</th>\n",
       "      <td>0.861663</td>\n",
       "      <td>0.868889</td>\n",
       "      <td>0.858471</td>\n",
       "      <td>0.868889</td>\n",
       "      <td>0.831613</td>\n",
       "      <td>0.739997</td>\n",
       "      <td>0.771824</td>\n",
       "      <td>0.861663</td>\n",
       "      <td>0.868889</td>\n",
       "      <td>0.858471</td>\n",
       "    </tr>\n",
       "    <tr>\n",
       "      <th>LightGBM</th>\n",
       "      <td>0.861991</td>\n",
       "      <td>0.869444</td>\n",
       "      <td>0.860392</td>\n",
       "      <td>0.869444</td>\n",
       "      <td>0.827427</td>\n",
       "      <td>0.747198</td>\n",
       "      <td>0.776436</td>\n",
       "      <td>0.861991</td>\n",
       "      <td>0.869444</td>\n",
       "      <td>0.860392</td>\n",
       "    </tr>\n",
       "    <tr>\n",
       "      <th>LightGBM CV</th>\n",
       "      <td>0.860663</td>\n",
       "      <td>0.868333</td>\n",
       "      <td>0.859403</td>\n",
       "      <td>0.868333</td>\n",
       "      <td>0.824455</td>\n",
       "      <td>0.746496</td>\n",
       "      <td>0.775085</td>\n",
       "      <td>0.860663</td>\n",
       "      <td>0.868333</td>\n",
       "      <td>0.859403</td>\n",
       "    </tr>\n",
       "  </tbody>\n",
       "</table>\n",
       "</div>"
      ],
      "text/plain": [
       "                              precision    recall  f1_score  accuracy  \\\n",
       "Logistic Regression            0.783109  0.810000  0.774771  0.810000   \n",
       "Logistic Regression CV         0.786511  0.811667  0.774114  0.811667   \n",
       "Decision Tree                  0.801276  0.798889  0.800043  0.798889   \n",
       "Decision Tree CV               0.852122  0.860000  0.845564  0.860000   \n",
       "Support Vector Classifier      0.858290  0.858333  0.836229  0.858333   \n",
       "Support Vector Classifier CV   0.854877  0.850000  0.821057  0.850000   \n",
       "Random Forest                  0.852944  0.853889  0.830103  0.853889   \n",
       "Random Forest CV               0.859963  0.865556  0.850963  0.865556   \n",
       "Ridge                          0.771130  0.801667  0.744961  0.801667   \n",
       "Ridge CV                       0.771130  0.801667  0.744961  0.801667   \n",
       "KNN                            0.810844  0.827778  0.811822  0.827778   \n",
       "KNN CV                         0.806523  0.823333  0.790137  0.823333   \n",
       "Bagging                        0.849576  0.858889  0.847451  0.858889   \n",
       "Bagging CV                     0.852828  0.861667  0.852075  0.861667   \n",
       "gradient Boosting              0.866153  0.872222  0.861240  0.872222   \n",
       "gradient Boosting CV           0.866153  0.872222  0.861240  0.872222   \n",
       "Adaboost                       0.852921  0.861667  0.852901  0.861667   \n",
       "Adaboost SVC                   0.730557  0.791111  0.699895  0.791111   \n",
       "Adaboost CV                    0.852239  0.860556  0.847278  0.860556   \n",
       "Extratrees                     0.854370  0.861667  0.847279  0.861667   \n",
       "Extratrees CV                  0.857578  0.862222  0.845182  0.862222   \n",
       "XGboost                        0.851785  0.860556  0.852327  0.860556   \n",
       "XGboost CV                     0.861663  0.868889  0.858471  0.868889   \n",
       "LightGBM                       0.861991  0.869444  0.860392  0.869444   \n",
       "LightGBM CV                    0.860663  0.868333  0.859403  0.868333   \n",
       "\n",
       "                              macro_avg_precision  macro_avg_recall  \\\n",
       "Logistic Regression                      0.722373          0.599039   \n",
       "Logistic Regression CV                   0.732266          0.596178   \n",
       "Decision Tree                            0.697052          0.701627   \n",
       "Decision Tree CV                         0.825318          0.712848   \n",
       "Support Vector Classifier                0.858179          0.684392   \n",
       "Support Vector Classifier CV             0.865615          0.656616   \n",
       "Random Forest                            0.850619          0.674733   \n",
       "Random Forest CV                         0.841646          0.718317   \n",
       "Ridge                                    0.717971          0.552669   \n",
       "Ridge CV                                 0.717971          0.552669   \n",
       "KNN                                      0.748354          0.669974   \n",
       "KNN CV                                   0.768880          0.618232   \n",
       "Bagging                                  0.811450          0.723890   \n",
       "Bagging CV                               0.811841          0.735432   \n",
       "gradient Boosting                        0.842418          0.741125   \n",
       "gradient Boosting CV                     0.842418          0.741125   \n",
       "Adaboost                                 0.809278          0.739347   \n",
       "Adaboost SVC                             0.645717          0.500979   \n",
       "Adaboost CV                              0.822184          0.718093   \n",
       "Extratrees                               0.829701          0.714880   \n",
       "Extratrees CV                            0.843750          0.705445   \n",
       "XGboost                                  0.805363          0.740602   \n",
       "XGboost CV                               0.831613          0.739997   \n",
       "LightGBM                                 0.827427          0.747198   \n",
       "LightGBM CV                              0.824455          0.746496   \n",
       "\n",
       "                              macro_avg_f1_score  weighted_avg_precision  \\\n",
       "Logistic Regression                     0.615634                0.783109   \n",
       "Logistic Regression CV                  0.612157                0.786511   \n",
       "Decision Tree                           0.699267                0.801276   \n",
       "Decision Tree CV                        0.747326                0.852122   \n",
       "Support Vector Classifier               0.724320                0.858290   \n",
       "Support Vector Classifier CV            0.693608                0.854877   \n",
       "Random Forest                           0.713070                0.852944   \n",
       "Random Forest CV                        0.755382                0.859963   \n",
       "Ridge                                   0.547528                0.771130   \n",
       "Ridge CV                                0.547528                0.771130   \n",
       "KNN                                     0.694062                0.810844   \n",
       "KNN CV                                  0.641460                0.806523   \n",
       "Bagging                                 0.753800                0.849576   \n",
       "Bagging CV                              0.763118                0.852828   \n",
       "gradient Boosting                       0.775351                0.866153   \n",
       "gradient Boosting CV                    0.775351                0.866153   \n",
       "Adaboost                                0.765413                0.852921   \n",
       "Adaboost SVC                            0.444297                0.730557   \n",
       "Adaboost CV                             0.751314                0.852239   \n",
       "Extratrees                              0.749999                0.854370   \n",
       "Extratrees CV                           0.743717                0.857578   \n",
       "XGboost                                 0.765224                0.851785   \n",
       "XGboost CV                              0.771824                0.861663   \n",
       "LightGBM                                0.776436                0.861991   \n",
       "LightGBM CV                             0.775085                0.860663   \n",
       "\n",
       "                              weighted_avg_recall  weighted_avg_f1_score  \n",
       "Logistic Regression                      0.810000               0.774771  \n",
       "Logistic Regression CV                   0.811667               0.774114  \n",
       "Decision Tree                            0.798889               0.800043  \n",
       "Decision Tree CV                         0.860000               0.845564  \n",
       "Support Vector Classifier                0.858333               0.836229  \n",
       "Support Vector Classifier CV             0.850000               0.821057  \n",
       "Random Forest                            0.853889               0.830103  \n",
       "Random Forest CV                         0.865556               0.850963  \n",
       "Ridge                                    0.801667               0.744961  \n",
       "Ridge CV                                 0.801667               0.744961  \n",
       "KNN                                      0.827778               0.811822  \n",
       "KNN CV                                   0.823333               0.790137  \n",
       "Bagging                                  0.858889               0.847451  \n",
       "Bagging CV                               0.861667               0.852075  \n",
       "gradient Boosting                        0.872222               0.861240  \n",
       "gradient Boosting CV                     0.872222               0.861240  \n",
       "Adaboost                                 0.861667               0.852901  \n",
       "Adaboost SVC                             0.791111               0.699895  \n",
       "Adaboost CV                              0.860556               0.847278  \n",
       "Extratrees                               0.861667               0.847279  \n",
       "Extratrees CV                            0.862222               0.845182  \n",
       "XGboost                                  0.860556               0.852327  \n",
       "XGboost CV                               0.868889               0.858471  \n",
       "LightGBM                                 0.869444               0.860392  \n",
       "LightGBM CV                              0.868333               0.859403  "
      ]
     },
     "execution_count": 226,
     "metadata": {},
     "output_type": "execute_result"
    }
   ],
   "source": [
    "df_results"
   ]
  },
  {
   "cell_type": "markdown",
   "id": "66c320ef",
   "metadata": {},
   "source": [
    "# Save Model"
   ]
  },
  {
   "cell_type": "markdown",
   "id": "373919a6",
   "metadata": {},
   "source": [
    "## Logistic Regression"
   ]
  },
  {
   "cell_type": "code",
   "execution_count": 227,
   "id": "46741057",
   "metadata": {},
   "outputs": [],
   "source": [
    "logreg = 'C:/Users/HALAL/Final Project ML Process/model/1 - Model Unbalance Dataset/logreg.pkl'\n",
    "with open(logreg, 'wb') as file:\n",
    "    pickle.dump(logreg_awal, file)\n",
    "    \n",
    "logreg_cv = 'C:/Users/HALAL/Final Project ML Process/model/1 - Model Unbalance Dataset/logreg_cv.pkl'\n",
    "with open(logreg_cv, 'wb') as file:\n",
    "    pickle.dump(lr_grid_cv, file)"
   ]
  },
  {
   "cell_type": "markdown",
   "id": "94784dd6",
   "metadata": {},
   "source": [
    "## Support Vector Classifier"
   ]
  },
  {
   "cell_type": "code",
   "execution_count": 228,
   "id": "1a6b6e3d",
   "metadata": {},
   "outputs": [],
   "source": [
    "svc = 'C:/Users/HALAL/Final Project ML Process/model/1 - Model Unbalance Dataset/svc.pkl'\n",
    "with open(svc, 'wb') as file:\n",
    "    pickle.dump(svc_ori, file)\n",
    "    \n",
    "svc_cv = 'C:/Users/HALAL/Final Project ML Process/model/1 - Model Unbalance Dataset/svc_cv.pkl'\n",
    "with open(svc_cv, 'wb') as file:\n",
    "    pickle.dump(svc_grid_cv, file)"
   ]
  },
  {
   "cell_type": "markdown",
   "id": "19ad5289",
   "metadata": {},
   "source": [
    "## Decisiontree"
   ]
  },
  {
   "cell_type": "code",
   "execution_count": 229,
   "id": "0a7f2de4",
   "metadata": {},
   "outputs": [],
   "source": [
    "dectree = 'C:/Users/HALAL/Final Project ML Process/model/1 - Model Unbalance Dataset/dectree.pkl'\n",
    "with open(dectree, 'wb') as file:\n",
    "    pickle.dump(decTree, file)\n",
    "    \n",
    "dectree_cv = 'C:/Users/HALAL/Final Project ML Process/model/1 - Model Unbalance Dataset/dectree_cv.pkl'\n",
    "with open(dectree_cv, 'wb') as file:\n",
    "    pickle.dump(best_decTree, file)"
   ]
  },
  {
   "cell_type": "markdown",
   "id": "4e1e16ca",
   "metadata": {},
   "source": [
    "## Randomforest"
   ]
  },
  {
   "cell_type": "code",
   "execution_count": 230,
   "id": "e0ba0331",
   "metadata": {},
   "outputs": [],
   "source": [
    "randomforest = 'C:/Users/HALAL/Final Project ML Process/model/1 - Model Unbalance Dataset/randomforest.pkl'\n",
    "with open(randomforest, 'wb') as file:\n",
    "    pickle.dump(random_forest, file)\n",
    "    \n",
    "randomforest_cv = 'C:/Users/HALAL/Final Project ML Process/model/1 - Model Unbalance Dataset/randomforest_cv.pkl'\n",
    "with open(randomforest_cv, 'wb') as file:\n",
    "    pickle.dump(random_forestcls_cv, file)"
   ]
  },
  {
   "cell_type": "markdown",
   "id": "76188bf1",
   "metadata": {},
   "source": [
    "## Ridge Classifier"
   ]
  },
  {
   "cell_type": "code",
   "execution_count": 231,
   "id": "6c51d47a",
   "metadata": {},
   "outputs": [],
   "source": [
    "ridge = 'C:/Users/HALAL/Final Project ML Process/model/1 - Model Unbalance Dataset/ridge.pkl'\n",
    "with open(ridge, 'wb') as file:\n",
    "    pickle.dump(ridge, file)\n",
    "    \n",
    "ridge_cv = 'C:/Users/HALAL/Final Project ML Process/model/1 - Model Unbalance Dataset/ridge_cv.pkl'\n",
    "with open(ridge_cv, 'wb') as file:\n",
    "    pickle.dump(ridge_cv, file)"
   ]
  },
  {
   "cell_type": "markdown",
   "id": "561c42b1",
   "metadata": {},
   "source": [
    "## KNN "
   ]
  },
  {
   "cell_type": "code",
   "execution_count": 232,
   "id": "e5be5c17",
   "metadata": {},
   "outputs": [],
   "source": [
    "knn = 'C:/Users/HALAL/Final Project ML Process/model/1 - Model Unbalance Dataset/knn.pkl'\n",
    "with open(knn, 'wb') as file:\n",
    "    pickle.dump(knn_awal, file)\n",
    "    \n",
    "knn_cv = 'C:/Users/HALAL/Final Project ML Process/model/1 - Model Unbalance Dataset/knn_cv.pkl'\n",
    "with open(knn_cv, 'wb') as file:\n",
    "    pickle.dump(kn_grid, file)"
   ]
  },
  {
   "cell_type": "markdown",
   "id": "05049437",
   "metadata": {},
   "source": [
    "## Bagging Classifier"
   ]
  },
  {
   "cell_type": "code",
   "execution_count": 233,
   "id": "fecc1db1",
   "metadata": {},
   "outputs": [],
   "source": [
    "bagging = 'C:/Users/HALAL/Final Project ML Process/model/1 - Model Unbalance Dataset/bagging.pkl'\n",
    "with open(bagging, 'wb') as file:\n",
    "    pickle.dump(bagging_cls, file)\n",
    "    \n",
    "bagging_cv = 'C:/Users/HALAL/Final Project ML Process/model/1 - Model Unbalance Dataset/bagging_cv.pkl'\n",
    "with open(bagging_cv, 'wb') as file:\n",
    "    pickle.dump(bagging_cv, file)"
   ]
  },
  {
   "cell_type": "markdown",
   "id": "76299cb8",
   "metadata": {},
   "source": [
    "## Gradient Boosting"
   ]
  },
  {
   "cell_type": "code",
   "execution_count": 234,
   "id": "fec03953",
   "metadata": {},
   "outputs": [],
   "source": [
    "grad_boost = 'C:/Users/HALAL/Final Project ML Process/model/1 - Model Unbalance Dataset/grad_boost.pkl'\n",
    "with open(grad_boost, 'wb') as file:\n",
    "    pickle.dump(grad_boost, file)\n",
    "    \n",
    "grad_boost_cv = 'C:/Users/HALAL/Final Project ML Process/model/1 - Model Unbalance Dataset/grad_boost_cv.pkl'\n",
    "with open(grad_boost_cv, 'wb') as file:\n",
    "    pickle.dump(gradboost_cv, file)"
   ]
  },
  {
   "cell_type": "markdown",
   "id": "83be62dd",
   "metadata": {},
   "source": [
    "## Adaboost"
   ]
  },
  {
   "cell_type": "code",
   "execution_count": 235,
   "id": "eb77bf76",
   "metadata": {},
   "outputs": [],
   "source": [
    "adaboost_svc = 'C:/Users/HALAL/Final Project ML Process/model/1 - Model Unbalance Dataset/adaboost_svc.pkl'\n",
    "with open(adaboost_svc, 'wb') as file:\n",
    "    pickle.dump(adaboost_svc, file)\n",
    "    \n",
    "adaboost_ori = 'C:/Users/HALAL/Final Project ML Process/model/1 - Model Unbalance Dataset/adaboost_ori.pkl'\n",
    "with open(adaboost_ori, 'wb') as file:\n",
    "    pickle.dump(abc_ori, file)\n",
    "    \n",
    "adaboost_cv = 'C:/Users/HALAL/Final Project ML Process/model/1 - Model Unbalance Dataset/adaboost_cv.pkl'\n",
    "with open(adaboost_cv, 'wb') as file:\n",
    "    pickle.dump(adaboost_best, file)"
   ]
  },
  {
   "cell_type": "markdown",
   "id": "268f6258",
   "metadata": {},
   "source": [
    "## Extratrees"
   ]
  },
  {
   "cell_type": "code",
   "execution_count": 236,
   "id": "29c111b8",
   "metadata": {},
   "outputs": [],
   "source": [
    "extra_trees = 'C:/Users/HALAL/Final Project ML Process/model/1 - Model Unbalance Dataset/extra_trees.pkl'\n",
    "with open(extra_trees, 'wb') as file:\n",
    "    pickle.dump(extra_trees_awal, file)\n",
    "    \n",
    "extra_tree_cv = 'C:/Users/HALAL/Final Project ML Process/model/1 - Model Unbalance Dataset/extra_tree_cv.pkl'\n",
    "with open(extra_tree_cv, 'wb') as file:\n",
    "    pickle.dump(extra_trees_best, file)"
   ]
  },
  {
   "cell_type": "markdown",
   "id": "c9575423",
   "metadata": {},
   "source": [
    "## XgBoost"
   ]
  },
  {
   "cell_type": "code",
   "execution_count": 237,
   "id": "8694bc2d",
   "metadata": {},
   "outputs": [],
   "source": [
    "xgboost = 'C:/Users/HALAL/Final Project ML Process/model/1 - Model Unbalance Dataset/xgboost.pkl'\n",
    "with open(xgboost, 'wb') as file:\n",
    "    pickle.dump(xgb_classifier, file)\n",
    "    \n",
    "xgboost_cv = 'C:/Users/HALAL/Final Project ML Process/model/1 - Model Unbalance Dataset/xgboost_cv.pkl'\n",
    "with open(xgboost_cv, 'wb') as file:\n",
    "    pickle.dump(xgb_best, file)"
   ]
  },
  {
   "cell_type": "markdown",
   "id": "079f475c",
   "metadata": {},
   "source": [
    "## Deep Learning"
   ]
  },
  {
   "cell_type": "code",
   "execution_count": 238,
   "id": "809ac55c",
   "metadata": {},
   "outputs": [
    {
     "name": "stdout",
     "output_type": "stream",
     "text": [
      "INFO:tensorflow:Assets written to: C:\\Users\\HALAL\\AppData\\Local\\Temp\\tmp0de6a86h\\assets\n"
     ]
    }
   ],
   "source": [
    "deep_learning = 'C:/Users/HALAL/Final Project ML Process/model/1 - Model Unbalance Dataset/deep_learning.pkl'\n",
    "with open(deep_learning, 'wb') as file:\n",
    "    pickle.dump(model, file)\n",
    "    \n",
    "    \n",
    "deep_learning_cv = 'C:/Users/HALAL/Final Project ML Process/model/1 - Model Unbalance Dataset/deep_learning_cv.pkl'\n",
    "with open(deep_learning_cv, 'wb') as file:\n",
    "    pickle.dump(grid_result, file)"
   ]
  },
  {
   "cell_type": "markdown",
   "id": "e6e9ee23",
   "metadata": {},
   "source": [
    "## LightGBM"
   ]
  },
  {
   "cell_type": "code",
   "execution_count": 239,
   "id": "fba12f92",
   "metadata": {},
   "outputs": [],
   "source": [
    "lgbm = 'C:/Users/HALAL/Final Project ML Process/model/1 - Model Unbalance Dataset/lgbm.pkl'\n",
    "with open(lgbm, 'wb') as file:\n",
    "    pickle.dump(lgb_awal, file)\n",
    "    \n",
    "lgbm_cv = 'C:/Users/HALAL/Final Project ML Process/model/1 - Model Unbalance Dataset/lgbm_cv.pkl'\n",
    "with open(lgbm_cv, 'wb') as file:\n",
    "    pickle.dump(lgbm_best, file)"
   ]
  },
  {
   "cell_type": "markdown",
   "id": "2033f72a",
   "metadata": {},
   "source": [
    "## Cara Load Model"
   ]
  },
  {
   "cell_type": "code",
   "execution_count": null,
   "id": "eba972ca",
   "metadata": {},
   "outputs": [],
   "source": [
    "# Load model dari folder models\n",
    "\"\"\"\n",
    "filename = 'models/model.pkl'\n",
    "with open(filename, 'rb') as file:\n",
    "    model = pickle.load(file)\n",
    "\"''\""
   ]
  }
 ],
 "metadata": {
  "kernelspec": {
   "display_name": "Python 3 (ipykernel)",
   "language": "python",
   "name": "python3"
  },
  "language_info": {
   "codemirror_mode": {
    "name": "ipython",
    "version": 3
   },
   "file_extension": ".py",
   "mimetype": "text/x-python",
   "name": "python",
   "nbconvert_exporter": "python",
   "pygments_lexer": "ipython3",
   "version": "3.9.12"
  }
 },
 "nbformat": 4,
 "nbformat_minor": 5
}
