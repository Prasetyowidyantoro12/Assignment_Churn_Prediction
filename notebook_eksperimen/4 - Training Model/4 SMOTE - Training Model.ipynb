{
 "cells": [
  {
   "cell_type": "markdown",
   "id": "586e0e61",
   "metadata": {},
   "source": [
    "# Training Model - SMOTE"
   ]
  },
  {
   "cell_type": "markdown",
   "id": "6e146939",
   "metadata": {},
   "source": [
    "# Import Library"
   ]
  },
  {
   "cell_type": "code",
   "execution_count": 2,
   "id": "e86bcca6",
   "metadata": {},
   "outputs": [],
   "source": [
    "#import all realated libraries\n",
    "#import libraries for data analysis\n",
    "import numpy as np\n",
    "import pandas as pd\n",
    "\n",
    "# import library for visualization\n",
    "import seaborn as sns\n",
    "import matplotlib.pyplot as plt\n",
    "\n",
    "# import pickle and json file for columns and model file\n",
    "import pickle\n",
    "import json\n",
    "import joblib\n",
    "\n",
    "# import warnings for ignore the warnings\n",
    "import warnings \n",
    "warnings.filterwarnings(\"ignore\")\n",
    "\n",
    "# library for model selection and models\n",
    "from sklearn.model_selection import train_test_split\n",
    "from sklearn.linear_model import LogisticRegression\n",
    "from sklearn.neighbors import KNeighborsClassifier\n",
    "from sklearn.tree import DecisionTreeClassifier\n",
    "from sklearn.ensemble import RandomForestClassifier\n",
    "from sklearn.ensemble import AdaBoostClassifier\n",
    "from xgboost import XGBClassifier\n",
    "from sklearn.svm import SVC\n",
    "from sklearn.linear_model import RidgeClassifier\n",
    "from sklearn.ensemble import BaggingClassifier\n",
    "from sklearn.ensemble import GradientBoostingClassifier\n",
    "from sklearn.ensemble import ExtraTreesClassifier\n",
    "import xgboost as xgb\n",
    "import lightgbm as lgb\n",
    "from lightgbm import LGBMClassifier\n",
    "\n",
    "# evaluation metrics for classification model\n",
    "from sklearn.metrics import accuracy_score,classification_report,confusion_matrix\n",
    "from sklearn.metrics import classification_report, ConfusionMatrixDisplay\n",
    "from sklearn.metrics import accuracy_score, roc_auc_score\n",
    "\n",
    "from sklearn.model_selection import GridSearchCV\n",
    "from sklearn.model_selection import RepeatedStratifiedKFold\n",
    "\n",
    "\n",
    "import tensorflow as tf\n",
    "from tensorflow.keras.models import Sequential\n",
    "from tensorflow.keras.layers import Dense, Dropout\n",
    "from scikeras.wrappers import KerasClassifier\n",
    "from tensorflow import keras\n",
    "from tensorflow.keras.wrappers.scikit_learn import KerasClassifier"
   ]
  },
  {
   "cell_type": "markdown",
   "id": "254cb49d",
   "metadata": {},
   "source": [
    "## Read Data"
   ]
  },
  {
   "cell_type": "code",
   "execution_count": 3,
   "id": "1af710e2",
   "metadata": {},
   "outputs": [],
   "source": [
    "#Read data X_train dan y_sm hasil dari data preparation\n",
    "X_sm_clean = joblib.load(\"C:/Users/HALAL/Final Project ML Process/dataset/3 - final/2 - Scaling Data - Standart Scaler/X_sm_clean.pkl\") \n",
    "y_sm = joblib.load(\"C:/Users/HALAL/Final Project ML Process/dataset/3 - final/2 - Scaling Data - Standart Scaler/y_sm.pkl\")\n",
    "\n",
    "#Read data X_valid dan y_valid hasil dari data preparation\n",
    "X_valid_clean = joblib.load(\"C:/Users/HALAL/Final Project ML Process/dataset/3 - final/2 - Scaling Data - Standart Scaler/X_valid_clean.pkl\")\n",
    "y_valid = joblib.load(\"C:/Users/HALAL/Final Project ML Process/dataset/3 - final/2 - Scaling Data - Standart Scaler/y_valid.pkl\")\n",
    "\n",
    "#Read data X_test dan y_test hasil dari data preparation\n",
    "X_test_clean = joblib.load(\"C:/Users/HALAL/Final Project ML Process/dataset/3 - final/2 - Scaling Data - Standart Scaler/X_test_clean.pkl\")\n",
    "y_test = joblib.load(\"C:/Users/HALAL/Final Project ML Process/dataset/3 - final/2 - Scaling Data - Standart Scaler/y_test.pkl\")"
   ]
  },
  {
   "cell_type": "code",
   "execution_count": 4,
   "id": "e1ca0819",
   "metadata": {},
   "outputs": [
    {
     "data": {
      "text/html": [
       "<div>\n",
       "<style scoped>\n",
       "    .dataframe tbody tr th:only-of-type {\n",
       "        vertical-align: middle;\n",
       "    }\n",
       "\n",
       "    .dataframe tbody tr th {\n",
       "        vertical-align: top;\n",
       "    }\n",
       "\n",
       "    .dataframe thead th {\n",
       "        text-align: right;\n",
       "    }\n",
       "</style>\n",
       "<table border=\"1\" class=\"dataframe\">\n",
       "  <thead>\n",
       "    <tr style=\"text-align: right;\">\n",
       "      <th></th>\n",
       "      <th>CreditScore</th>\n",
       "      <th>Age</th>\n",
       "      <th>Tenure</th>\n",
       "      <th>EstimatedSalary</th>\n",
       "      <th>Balance</th>\n",
       "      <th>NumOfProducts</th>\n",
       "      <th>IsActiveMember</th>\n",
       "      <th>HasCrCard</th>\n",
       "      <th>Geography_France</th>\n",
       "      <th>Geography_Germany</th>\n",
       "      <th>Geography_Spain</th>\n",
       "      <th>Gender_Female</th>\n",
       "      <th>Gender_Male</th>\n",
       "    </tr>\n",
       "  </thead>\n",
       "  <tbody>\n",
       "    <tr>\n",
       "      <th>0</th>\n",
       "      <td>0.005830</td>\n",
       "      <td>1.402566</td>\n",
       "      <td>-1.408523</td>\n",
       "      <td>1.418607</td>\n",
       "      <td>-0.022073</td>\n",
       "      <td>1</td>\n",
       "      <td>1</td>\n",
       "      <td>0</td>\n",
       "      <td>0</td>\n",
       "      <td>0</td>\n",
       "      <td>1</td>\n",
       "      <td>0</td>\n",
       "      <td>1</td>\n",
       "    </tr>\n",
       "    <tr>\n",
       "      <th>1</th>\n",
       "      <td>0.499235</td>\n",
       "      <td>1.601247</td>\n",
       "      <td>1.519890</td>\n",
       "      <td>0.617282</td>\n",
       "      <td>-1.347378</td>\n",
       "      <td>2</td>\n",
       "      <td>1</td>\n",
       "      <td>1</td>\n",
       "      <td>0</td>\n",
       "      <td>0</td>\n",
       "      <td>1</td>\n",
       "      <td>1</td>\n",
       "      <td>0</td>\n",
       "    </tr>\n",
       "    <tr>\n",
       "      <th>2</th>\n",
       "      <td>-0.673974</td>\n",
       "      <td>-0.782920</td>\n",
       "      <td>0.787787</td>\n",
       "      <td>1.187554</td>\n",
       "      <td>-1.347378</td>\n",
       "      <td>2</td>\n",
       "      <td>1</td>\n",
       "      <td>1</td>\n",
       "      <td>0</td>\n",
       "      <td>0</td>\n",
       "      <td>1</td>\n",
       "      <td>1</td>\n",
       "      <td>0</td>\n",
       "    </tr>\n",
       "    <tr>\n",
       "      <th>3</th>\n",
       "      <td>-2.296730</td>\n",
       "      <td>-0.981601</td>\n",
       "      <td>1.153838</td>\n",
       "      <td>-0.959313</td>\n",
       "      <td>-0.070469</td>\n",
       "      <td>1</td>\n",
       "      <td>0</td>\n",
       "      <td>1</td>\n",
       "      <td>0</td>\n",
       "      <td>1</td>\n",
       "      <td>0</td>\n",
       "      <td>0</td>\n",
       "      <td>1</td>\n",
       "    </tr>\n",
       "    <tr>\n",
       "      <th>4</th>\n",
       "      <td>1.321578</td>\n",
       "      <td>0.210483</td>\n",
       "      <td>-1.042471</td>\n",
       "      <td>-1.408218</td>\n",
       "      <td>0.757994</td>\n",
       "      <td>2</td>\n",
       "      <td>0</td>\n",
       "      <td>0</td>\n",
       "      <td>0</td>\n",
       "      <td>1</td>\n",
       "      <td>0</td>\n",
       "      <td>1</td>\n",
       "      <td>0</td>\n",
       "    </tr>\n",
       "    <tr>\n",
       "      <th>...</th>\n",
       "      <td>...</td>\n",
       "      <td>...</td>\n",
       "      <td>...</td>\n",
       "      <td>...</td>\n",
       "      <td>...</td>\n",
       "      <td>...</td>\n",
       "      <td>...</td>\n",
       "      <td>...</td>\n",
       "      <td>...</td>\n",
       "      <td>...</td>\n",
       "      <td>...</td>\n",
       "      <td>...</td>\n",
       "      <td>...</td>\n",
       "    </tr>\n",
       "    <tr>\n",
       "      <th>11131</th>\n",
       "      <td>0.365275</td>\n",
       "      <td>1.104545</td>\n",
       "      <td>-1.042471</td>\n",
       "      <td>-1.699851</td>\n",
       "      <td>1.099824</td>\n",
       "      <td>1</td>\n",
       "      <td>0</td>\n",
       "      <td>0</td>\n",
       "      <td>0</td>\n",
       "      <td>1</td>\n",
       "      <td>0</td>\n",
       "      <td>1</td>\n",
       "      <td>0</td>\n",
       "    </tr>\n",
       "    <tr>\n",
       "      <th>11132</th>\n",
       "      <td>-0.980921</td>\n",
       "      <td>1.700587</td>\n",
       "      <td>-1.042471</td>\n",
       "      <td>1.031187</td>\n",
       "      <td>1.371110</td>\n",
       "      <td>1</td>\n",
       "      <td>0</td>\n",
       "      <td>1</td>\n",
       "      <td>1</td>\n",
       "      <td>0</td>\n",
       "      <td>0</td>\n",
       "      <td>0</td>\n",
       "      <td>0</td>\n",
       "    </tr>\n",
       "    <tr>\n",
       "      <th>11133</th>\n",
       "      <td>1.424574</td>\n",
       "      <td>0.309823</td>\n",
       "      <td>-0.676420</td>\n",
       "      <td>-1.238966</td>\n",
       "      <td>0.445339</td>\n",
       "      <td>1</td>\n",
       "      <td>1</td>\n",
       "      <td>1</td>\n",
       "      <td>0</td>\n",
       "      <td>0</td>\n",
       "      <td>0</td>\n",
       "      <td>0</td>\n",
       "      <td>0</td>\n",
       "    </tr>\n",
       "    <tr>\n",
       "      <th>11134</th>\n",
       "      <td>-1.196345</td>\n",
       "      <td>0.905865</td>\n",
       "      <td>-1.408523</td>\n",
       "      <td>0.071839</td>\n",
       "      <td>-1.347378</td>\n",
       "      <td>2</td>\n",
       "      <td>1</td>\n",
       "      <td>1</td>\n",
       "      <td>1</td>\n",
       "      <td>0</td>\n",
       "      <td>0</td>\n",
       "      <td>0</td>\n",
       "      <td>0</td>\n",
       "    </tr>\n",
       "    <tr>\n",
       "      <th>11135</th>\n",
       "      <td>1.369129</td>\n",
       "      <td>1.402566</td>\n",
       "      <td>1.153838</td>\n",
       "      <td>1.401626</td>\n",
       "      <td>0.180807</td>\n",
       "      <td>1</td>\n",
       "      <td>0</td>\n",
       "      <td>1</td>\n",
       "      <td>0</td>\n",
       "      <td>1</td>\n",
       "      <td>0</td>\n",
       "      <td>1</td>\n",
       "      <td>0</td>\n",
       "    </tr>\n",
       "  </tbody>\n",
       "</table>\n",
       "<p>11136 rows × 13 columns</p>\n",
       "</div>"
      ],
      "text/plain": [
       "       CreditScore       Age    Tenure  EstimatedSalary   Balance  \\\n",
       "0         0.005830  1.402566 -1.408523         1.418607 -0.022073   \n",
       "1         0.499235  1.601247  1.519890         0.617282 -1.347378   \n",
       "2        -0.673974 -0.782920  0.787787         1.187554 -1.347378   \n",
       "3        -2.296730 -0.981601  1.153838        -0.959313 -0.070469   \n",
       "4         1.321578  0.210483 -1.042471        -1.408218  0.757994   \n",
       "...            ...       ...       ...              ...       ...   \n",
       "11131     0.365275  1.104545 -1.042471        -1.699851  1.099824   \n",
       "11132    -0.980921  1.700587 -1.042471         1.031187  1.371110   \n",
       "11133     1.424574  0.309823 -0.676420        -1.238966  0.445339   \n",
       "11134    -1.196345  0.905865 -1.408523         0.071839 -1.347378   \n",
       "11135     1.369129  1.402566  1.153838         1.401626  0.180807   \n",
       "\n",
       "       NumOfProducts  IsActiveMember  HasCrCard  Geography_France  \\\n",
       "0                  1               1          0                 0   \n",
       "1                  2               1          1                 0   \n",
       "2                  2               1          1                 0   \n",
       "3                  1               0          1                 0   \n",
       "4                  2               0          0                 0   \n",
       "...              ...             ...        ...               ...   \n",
       "11131              1               0          0                 0   \n",
       "11132              1               0          1                 1   \n",
       "11133              1               1          1                 0   \n",
       "11134              2               1          1                 1   \n",
       "11135              1               0          1                 0   \n",
       "\n",
       "       Geography_Germany  Geography_Spain  Gender_Female  Gender_Male  \n",
       "0                      0                1              0            1  \n",
       "1                      0                1              1            0  \n",
       "2                      0                1              1            0  \n",
       "3                      1                0              0            1  \n",
       "4                      1                0              1            0  \n",
       "...                  ...              ...            ...          ...  \n",
       "11131                  1                0              1            0  \n",
       "11132                  0                0              0            0  \n",
       "11133                  0                0              0            0  \n",
       "11134                  0                0              0            0  \n",
       "11135                  1                0              1            0  \n",
       "\n",
       "[11136 rows x 13 columns]"
      ]
     },
     "execution_count": 4,
     "metadata": {},
     "output_type": "execute_result"
    }
   ],
   "source": [
    "X_sm_clean"
   ]
  },
  {
   "cell_type": "code",
   "execution_count": 5,
   "id": "ee1f4945",
   "metadata": {},
   "outputs": [
    {
     "data": {
      "text/plain": [
       "0        0\n",
       "1        0\n",
       "2        0\n",
       "3        0\n",
       "4        0\n",
       "        ..\n",
       "11131    1\n",
       "11132    1\n",
       "11133    1\n",
       "11134    1\n",
       "11135    1\n",
       "Name: Exited, Length: 11136, dtype: int64"
      ]
     },
     "execution_count": 5,
     "metadata": {},
     "output_type": "execute_result"
    }
   ],
   "source": [
    "y_sm"
   ]
  },
  {
   "cell_type": "markdown",
   "id": "945d7cd6",
   "metadata": {},
   "source": [
    "## Baseline Model"
   ]
  },
  {
   "cell_type": "code",
   "execution_count": 6,
   "id": "ad0a82b7",
   "metadata": {},
   "outputs": [
    {
     "data": {
      "text/plain": [
       "0    0.5\n",
       "1    0.5\n",
       "Name: Exited, dtype: float64"
      ]
     },
     "execution_count": 6,
     "metadata": {},
     "output_type": "execute_result"
    }
   ],
   "source": [
    "y_sm.value_counts(normalize = True)\n",
    "# baseline akurasi = 80%\n",
    "# Before Smote Sampling"
   ]
  },
  {
   "cell_type": "code",
   "execution_count": 7,
   "id": "d9d769a6",
   "metadata": {},
   "outputs": [
    {
     "data": {
      "text/plain": [
       "0.5"
      ]
     },
     "execution_count": 7,
     "metadata": {},
     "output_type": "execute_result"
    }
   ],
   "source": [
    "y_baseline_predict = y_sm.mean()\n",
    "y_baseline_predict"
   ]
  },
  {
   "cell_type": "markdown",
   "id": "d24cde69",
   "metadata": {},
   "source": [
    "## Logistic Regression"
   ]
  },
  {
   "cell_type": "code",
   "execution_count": 8,
   "id": "19ebdcc8",
   "metadata": {},
   "outputs": [],
   "source": [
    "# Build Logistic Regression\n",
    "logreg_awal = LogisticRegression(random_state = 123)"
   ]
  },
  {
   "cell_type": "code",
   "execution_count": 9,
   "id": "6c58f364",
   "metadata": {},
   "outputs": [
    {
     "data": {
      "text/plain": [
       "LogisticRegression(random_state=123)"
      ]
     },
     "execution_count": 9,
     "metadata": {},
     "output_type": "execute_result"
    }
   ],
   "source": [
    "# fit Logistic Regression\n",
    "logreg_awal.fit(X_sm_clean, y_sm)"
   ]
  },
  {
   "cell_type": "code",
   "execution_count": 10,
   "id": "3faffac6",
   "metadata": {},
   "outputs": [
    {
     "data": {
      "text/plain": [
       "0.8369252873563219"
      ]
     },
     "execution_count": 10,
     "metadata": {},
     "output_type": "execute_result"
    }
   ],
   "source": [
    "# Melihat Score dari model logreg\n",
    "logreg_awal.score(X_sm_clean, y_sm)"
   ]
  },
  {
   "cell_type": "code",
   "execution_count": 11,
   "id": "e333ed5b",
   "metadata": {},
   "outputs": [],
   "source": [
    "#Prediksi Logreg\n",
    "logreg_pred = logreg_awal.predict(X_test_clean)"
   ]
  },
  {
   "cell_type": "code",
   "execution_count": 12,
   "id": "e8391495",
   "metadata": {},
   "outputs": [
    {
     "name": "stdout",
     "output_type": "stream",
     "text": [
      "              precision    recall  f1-score   support\n",
      "\n",
      "           0       0.86      0.87      0.87      1424\n",
      "           1       0.50      0.47      0.48       376\n",
      "\n",
      "    accuracy                           0.79      1800\n",
      "   macro avg       0.68      0.67      0.67      1800\n",
      "weighted avg       0.79      0.79      0.79      1800\n",
      "\n"
     ]
    }
   ],
   "source": [
    "#Melihat Classification report\n",
    "print(classification_report(y_test, logreg_pred, labels=[0,1]))"
   ]
  },
  {
   "cell_type": "code",
   "execution_count": 13,
   "id": "29d5e96c",
   "metadata": {},
   "outputs": [
    {
     "name": "stdout",
     "output_type": "stream",
     "text": [
      "Train_Score =  0.8369252873563219 Valid_Score =  0.8108333333333333 Test_Score =  0.7894444444444444\n"
     ]
    }
   ],
   "source": [
    "#Melihat score data train, validation dan test\n",
    "print(\"Train_Score = \", logreg_awal.score(X_sm_clean, y_sm), \n",
    "      \"Valid_Score = \",logreg_awal.score(X_valid_clean, y_valid),\n",
    "      \"Test_Score = \", logreg_awal.score(X_test_clean, y_test))"
   ]
  },
  {
   "cell_type": "markdown",
   "id": "996c0816",
   "metadata": {},
   "source": [
    "## Tuning Parameter Logistic Regression"
   ]
  },
  {
   "cell_type": "code",
   "execution_count": 14,
   "id": "44b7a5d7",
   "metadata": {},
   "outputs": [],
   "source": [
    "# Build Logistic Regression\n",
    "logreg = LogisticRegression(random_state = 123)"
   ]
  },
  {
   "cell_type": "code",
   "execution_count": 15,
   "id": "280f9f73",
   "metadata": {},
   "outputs": [],
   "source": [
    "# Membentuk parameter untuk eksperimentasi\n",
    "lr_param_grid = {\n",
    "    'C' : [0.01, 0.05, 0.1, 0.5, 1, 5],\n",
    "    'solver' : ['liblinear', 'newton-cg', 'lbfgs', 'sag', 'saga'],\n",
    "    'penalty' : ['l1', 'l2', 'elasticnet','none']\n",
    "}"
   ]
  },
  {
   "cell_type": "code",
   "execution_count": 16,
   "id": "00f8d485",
   "metadata": {},
   "outputs": [],
   "source": [
    "# Cross Validation menggunakan GridsearchCV\n",
    "lr_grid = GridSearchCV(LogisticRegression(random_state = 123), lr_param_grid, verbose=3, cv= 5, scoring='accuracy')"
   ]
  },
  {
   "cell_type": "code",
   "execution_count": 17,
   "id": "0e29eb37",
   "metadata": {},
   "outputs": [
    {
     "name": "stdout",
     "output_type": "stream",
     "text": [
      "Fitting 5 folds for each of 120 candidates, totalling 600 fits\n",
      "[CV 1/5] END C=0.01, penalty=l1, solver=liblinear;, score=0.642 total time=   0.0s\n",
      "[CV 2/5] END C=0.01, penalty=l1, solver=liblinear;, score=0.822 total time=   0.0s\n",
      "[CV 3/5] END C=0.01, penalty=l1, solver=liblinear;, score=0.859 total time=   0.0s\n",
      "[CV 4/5] END C=0.01, penalty=l1, solver=liblinear;, score=0.833 total time=   0.0s\n",
      "[CV 5/5] END C=0.01, penalty=l1, solver=liblinear;, score=0.858 total time=   0.0s\n",
      "[CV 1/5] END C=0.01, penalty=l1, solver=newton-cg;, score=nan total time=   0.0s\n",
      "[CV 2/5] END C=0.01, penalty=l1, solver=newton-cg;, score=nan total time=   0.0s\n",
      "[CV 3/5] END C=0.01, penalty=l1, solver=newton-cg;, score=nan total time=   0.0s\n",
      "[CV 4/5] END C=0.01, penalty=l1, solver=newton-cg;, score=nan total time=   0.0s\n",
      "[CV 5/5] END C=0.01, penalty=l1, solver=newton-cg;, score=nan total time=   0.0s\n",
      "[CV 1/5] END ....C=0.01, penalty=l1, solver=lbfgs;, score=nan total time=   0.0s\n",
      "[CV 2/5] END ....C=0.01, penalty=l1, solver=lbfgs;, score=nan total time=   0.0s\n",
      "[CV 3/5] END ....C=0.01, penalty=l1, solver=lbfgs;, score=nan total time=   0.0s\n",
      "[CV 4/5] END ....C=0.01, penalty=l1, solver=lbfgs;, score=nan total time=   0.0s\n",
      "[CV 5/5] END ....C=0.01, penalty=l1, solver=lbfgs;, score=nan total time=   0.0s\n",
      "[CV 1/5] END ......C=0.01, penalty=l1, solver=sag;, score=nan total time=   0.0s\n",
      "[CV 2/5] END ......C=0.01, penalty=l1, solver=sag;, score=nan total time=   0.0s\n",
      "[CV 3/5] END ......C=0.01, penalty=l1, solver=sag;, score=nan total time=   0.0s\n",
      "[CV 4/5] END ......C=0.01, penalty=l1, solver=sag;, score=nan total time=   0.0s\n",
      "[CV 5/5] END ......C=0.01, penalty=l1, solver=sag;, score=nan total time=   0.0s\n",
      "[CV 1/5] END ...C=0.01, penalty=l1, solver=saga;, score=0.640 total time=   0.0s\n",
      "[CV 2/5] END ...C=0.01, penalty=l1, solver=saga;, score=0.824 total time=   0.0s\n",
      "[CV 3/5] END ...C=0.01, penalty=l1, solver=saga;, score=0.869 total time=   0.0s\n",
      "[CV 4/5] END ...C=0.01, penalty=l1, solver=saga;, score=0.850 total time=   0.0s\n",
      "[CV 5/5] END ...C=0.01, penalty=l1, solver=saga;, score=0.871 total time=   0.0s\n",
      "[CV 1/5] END C=0.01, penalty=l2, solver=liblinear;, score=0.644 total time=   0.0s\n",
      "[CV 2/5] END C=0.01, penalty=l2, solver=liblinear;, score=0.818 total time=   0.0s\n",
      "[CV 3/5] END C=0.01, penalty=l2, solver=liblinear;, score=0.864 total time=   0.0s\n",
      "[CV 4/5] END C=0.01, penalty=l2, solver=liblinear;, score=0.836 total time=   0.0s\n",
      "[CV 5/5] END C=0.01, penalty=l2, solver=liblinear;, score=0.853 total time=   0.0s\n",
      "[CV 1/5] END C=0.01, penalty=l2, solver=newton-cg;, score=0.639 total time=   0.0s\n",
      "[CV 2/5] END C=0.01, penalty=l2, solver=newton-cg;, score=0.819 total time=   0.0s\n",
      "[CV 3/5] END C=0.01, penalty=l2, solver=newton-cg;, score=0.872 total time=   0.0s\n",
      "[CV 4/5] END C=0.01, penalty=l2, solver=newton-cg;, score=0.851 total time=   0.0s\n",
      "[CV 5/5] END C=0.01, penalty=l2, solver=newton-cg;, score=0.877 total time=   0.0s\n",
      "[CV 1/5] END ..C=0.01, penalty=l2, solver=lbfgs;, score=0.639 total time=   0.0s\n",
      "[CV 2/5] END ..C=0.01, penalty=l2, solver=lbfgs;, score=0.819 total time=   0.0s\n",
      "[CV 3/5] END ..C=0.01, penalty=l2, solver=lbfgs;, score=0.872 total time=   0.0s\n",
      "[CV 4/5] END ..C=0.01, penalty=l2, solver=lbfgs;, score=0.851 total time=   0.0s\n",
      "[CV 5/5] END ..C=0.01, penalty=l2, solver=lbfgs;, score=0.877 total time=   0.0s\n",
      "[CV 1/5] END ....C=0.01, penalty=l2, solver=sag;, score=0.639 total time=   0.0s\n",
      "[CV 2/5] END ....C=0.01, penalty=l2, solver=sag;, score=0.819 total time=   0.0s\n",
      "[CV 3/5] END ....C=0.01, penalty=l2, solver=sag;, score=0.872 total time=   0.0s\n",
      "[CV 4/5] END ....C=0.01, penalty=l2, solver=sag;, score=0.851 total time=   0.0s\n",
      "[CV 5/5] END ....C=0.01, penalty=l2, solver=sag;, score=0.877 total time=   0.0s\n",
      "[CV 1/5] END ...C=0.01, penalty=l2, solver=saga;, score=0.639 total time=   0.0s\n",
      "[CV 2/5] END ...C=0.01, penalty=l2, solver=saga;, score=0.819 total time=   0.0s\n",
      "[CV 3/5] END ...C=0.01, penalty=l2, solver=saga;, score=0.872 total time=   0.0s\n",
      "[CV 4/5] END ...C=0.01, penalty=l2, solver=saga;, score=0.851 total time=   0.0s\n",
      "[CV 5/5] END ...C=0.01, penalty=l2, solver=saga;, score=0.877 total time=   0.0s\n",
      "[CV 1/5] END C=0.01, penalty=elasticnet, solver=liblinear;, score=nan total time=   0.0s\n",
      "[CV 2/5] END C=0.01, penalty=elasticnet, solver=liblinear;, score=nan total time=   0.0s\n",
      "[CV 3/5] END C=0.01, penalty=elasticnet, solver=liblinear;, score=nan total time=   0.0s\n",
      "[CV 4/5] END C=0.01, penalty=elasticnet, solver=liblinear;, score=nan total time=   0.0s\n",
      "[CV 5/5] END C=0.01, penalty=elasticnet, solver=liblinear;, score=nan total time=   0.0s\n",
      "[CV 1/5] END C=0.01, penalty=elasticnet, solver=newton-cg;, score=nan total time=   0.0s\n",
      "[CV 2/5] END C=0.01, penalty=elasticnet, solver=newton-cg;, score=nan total time=   0.0s\n",
      "[CV 3/5] END C=0.01, penalty=elasticnet, solver=newton-cg;, score=nan total time=   0.0s\n",
      "[CV 4/5] END C=0.01, penalty=elasticnet, solver=newton-cg;, score=nan total time=   0.0s\n",
      "[CV 5/5] END C=0.01, penalty=elasticnet, solver=newton-cg;, score=nan total time=   0.0s\n",
      "[CV 1/5] END C=0.01, penalty=elasticnet, solver=lbfgs;, score=nan total time=   0.0s\n",
      "[CV 2/5] END C=0.01, penalty=elasticnet, solver=lbfgs;, score=nan total time=   0.0s\n",
      "[CV 3/5] END C=0.01, penalty=elasticnet, solver=lbfgs;, score=nan total time=   0.0s\n",
      "[CV 4/5] END C=0.01, penalty=elasticnet, solver=lbfgs;, score=nan total time=   0.0s\n",
      "[CV 5/5] END C=0.01, penalty=elasticnet, solver=lbfgs;, score=nan total time=   0.0s\n",
      "[CV 1/5] END C=0.01, penalty=elasticnet, solver=sag;, score=nan total time=   0.0s\n",
      "[CV 2/5] END C=0.01, penalty=elasticnet, solver=sag;, score=nan total time=   0.0s\n",
      "[CV 3/5] END C=0.01, penalty=elasticnet, solver=sag;, score=nan total time=   0.0s\n",
      "[CV 4/5] END C=0.01, penalty=elasticnet, solver=sag;, score=nan total time=   0.0s\n",
      "[CV 5/5] END C=0.01, penalty=elasticnet, solver=sag;, score=nan total time=   0.0s\n",
      "[CV 1/5] END C=0.01, penalty=elasticnet, solver=saga;, score=nan total time=   0.0s\n",
      "[CV 2/5] END C=0.01, penalty=elasticnet, solver=saga;, score=nan total time=   0.0s\n",
      "[CV 3/5] END C=0.01, penalty=elasticnet, solver=saga;, score=nan total time=   0.0s\n",
      "[CV 4/5] END C=0.01, penalty=elasticnet, solver=saga;, score=nan total time=   0.0s\n",
      "[CV 5/5] END C=0.01, penalty=elasticnet, solver=saga;, score=nan total time=   0.0s\n",
      "[CV 1/5] END C=0.01, penalty=none, solver=liblinear;, score=nan total time=   0.0s\n",
      "[CV 2/5] END C=0.01, penalty=none, solver=liblinear;, score=nan total time=   0.0s\n",
      "[CV 3/5] END C=0.01, penalty=none, solver=liblinear;, score=nan total time=   0.0s\n",
      "[CV 4/5] END C=0.01, penalty=none, solver=liblinear;, score=nan total time=   0.0s\n",
      "[CV 5/5] END C=0.01, penalty=none, solver=liblinear;, score=nan total time=   0.0s\n",
      "[CV 1/5] END C=0.01, penalty=none, solver=newton-cg;, score=0.614 total time=   0.1s\n",
      "[CV 2/5] END C=0.01, penalty=none, solver=newton-cg;, score=0.828 total time=   0.1s\n",
      "[CV 3/5] END C=0.01, penalty=none, solver=newton-cg;, score=0.900 total time=   0.2s\n",
      "[CV 4/5] END C=0.01, penalty=none, solver=newton-cg;, score=0.889 total time=   0.2s\n",
      "[CV 5/5] END C=0.01, penalty=none, solver=newton-cg;, score=0.901 total time=   0.2s\n",
      "[CV 1/5] END C=0.01, penalty=none, solver=lbfgs;, score=0.614 total time=   0.0s\n",
      "[CV 2/5] END C=0.01, penalty=none, solver=lbfgs;, score=0.828 total time=   0.0s\n",
      "[CV 3/5] END C=0.01, penalty=none, solver=lbfgs;, score=0.900 total time=   0.0s\n",
      "[CV 4/5] END C=0.01, penalty=none, solver=lbfgs;, score=0.889 total time=   0.0s\n",
      "[CV 5/5] END C=0.01, penalty=none, solver=lbfgs;, score=0.901 total time=   0.0s\n",
      "[CV 1/5] END ..C=0.01, penalty=none, solver=sag;, score=0.614 total time=   0.2s\n",
      "[CV 2/5] END ..C=0.01, penalty=none, solver=sag;, score=0.828 total time=   0.2s\n",
      "[CV 3/5] END ..C=0.01, penalty=none, solver=sag;, score=0.900 total time=   0.2s\n",
      "[CV 4/5] END ..C=0.01, penalty=none, solver=sag;, score=0.889 total time=   0.2s\n",
      "[CV 5/5] END ..C=0.01, penalty=none, solver=sag;, score=0.901 total time=   0.2s\n",
      "[CV 1/5] END .C=0.01, penalty=none, solver=saga;, score=0.614 total time=   0.3s\n",
      "[CV 2/5] END .C=0.01, penalty=none, solver=saga;, score=0.828 total time=   0.2s\n",
      "[CV 3/5] END .C=0.01, penalty=none, solver=saga;, score=0.900 total time=   0.3s\n",
      "[CV 4/5] END .C=0.01, penalty=none, solver=saga;, score=0.889 total time=   0.3s\n"
     ]
    },
    {
     "name": "stdout",
     "output_type": "stream",
     "text": [
      "[CV 5/5] END .C=0.01, penalty=none, solver=saga;, score=0.901 total time=   0.3s\n",
      "[CV 1/5] END C=0.05, penalty=l1, solver=liblinear;, score=0.615 total time=   0.0s\n",
      "[CV 2/5] END C=0.05, penalty=l1, solver=liblinear;, score=0.829 total time=   0.0s\n",
      "[CV 3/5] END C=0.05, penalty=l1, solver=liblinear;, score=0.898 total time=   0.0s\n",
      "[CV 4/5] END C=0.05, penalty=l1, solver=liblinear;, score=0.885 total time=   0.0s\n",
      "[CV 5/5] END C=0.05, penalty=l1, solver=liblinear;, score=0.899 total time=   0.0s\n",
      "[CV 1/5] END C=0.05, penalty=l1, solver=newton-cg;, score=nan total time=   0.0s\n",
      "[CV 2/5] END C=0.05, penalty=l1, solver=newton-cg;, score=nan total time=   0.0s\n",
      "[CV 3/5] END C=0.05, penalty=l1, solver=newton-cg;, score=nan total time=   0.0s\n",
      "[CV 4/5] END C=0.05, penalty=l1, solver=newton-cg;, score=nan total time=   0.0s\n",
      "[CV 5/5] END C=0.05, penalty=l1, solver=newton-cg;, score=nan total time=   0.0s\n",
      "[CV 1/5] END ....C=0.05, penalty=l1, solver=lbfgs;, score=nan total time=   0.0s\n",
      "[CV 2/5] END ....C=0.05, penalty=l1, solver=lbfgs;, score=nan total time=   0.0s\n",
      "[CV 3/5] END ....C=0.05, penalty=l1, solver=lbfgs;, score=nan total time=   0.0s\n",
      "[CV 4/5] END ....C=0.05, penalty=l1, solver=lbfgs;, score=nan total time=   0.0s\n",
      "[CV 5/5] END ....C=0.05, penalty=l1, solver=lbfgs;, score=nan total time=   0.0s\n",
      "[CV 1/5] END ......C=0.05, penalty=l1, solver=sag;, score=nan total time=   0.0s\n",
      "[CV 2/5] END ......C=0.05, penalty=l1, solver=sag;, score=nan total time=   0.0s\n",
      "[CV 3/5] END ......C=0.05, penalty=l1, solver=sag;, score=nan total time=   0.0s\n",
      "[CV 4/5] END ......C=0.05, penalty=l1, solver=sag;, score=nan total time=   0.0s\n",
      "[CV 5/5] END ......C=0.05, penalty=l1, solver=sag;, score=nan total time=   0.0s\n",
      "[CV 1/5] END ...C=0.05, penalty=l1, solver=saga;, score=0.615 total time=   0.0s\n",
      "[CV 2/5] END ...C=0.05, penalty=l1, solver=saga;, score=0.831 total time=   0.0s\n",
      "[CV 3/5] END ...C=0.05, penalty=l1, solver=saga;, score=0.899 total time=   0.0s\n",
      "[CV 4/5] END ...C=0.05, penalty=l1, solver=saga;, score=0.884 total time=   0.0s\n",
      "[CV 5/5] END ...C=0.05, penalty=l1, solver=saga;, score=0.901 total time=   0.0s\n",
      "[CV 1/5] END C=0.05, penalty=l2, solver=liblinear;, score=0.623 total time=   0.0s\n",
      "[CV 2/5] END C=0.05, penalty=l2, solver=liblinear;, score=0.824 total time=   0.0s\n",
      "[CV 3/5] END C=0.05, penalty=l2, solver=liblinear;, score=0.887 total time=   0.0s\n",
      "[CV 4/5] END C=0.05, penalty=l2, solver=liblinear;, score=0.872 total time=   0.0s\n",
      "[CV 5/5] END C=0.05, penalty=l2, solver=liblinear;, score=0.885 total time=   0.0s\n",
      "[CV 1/5] END C=0.05, penalty=l2, solver=newton-cg;, score=0.624 total time=   0.0s\n",
      "[CV 2/5] END C=0.05, penalty=l2, solver=newton-cg;, score=0.825 total time=   0.0s\n",
      "[CV 3/5] END C=0.05, penalty=l2, solver=newton-cg;, score=0.893 total time=   0.0s\n",
      "[CV 4/5] END C=0.05, penalty=l2, solver=newton-cg;, score=0.877 total time=   0.0s\n",
      "[CV 5/5] END C=0.05, penalty=l2, solver=newton-cg;, score=0.893 total time=   0.0s\n",
      "[CV 1/5] END ..C=0.05, penalty=l2, solver=lbfgs;, score=0.624 total time=   0.0s\n",
      "[CV 2/5] END ..C=0.05, penalty=l2, solver=lbfgs;, score=0.825 total time=   0.0s\n",
      "[CV 3/5] END ..C=0.05, penalty=l2, solver=lbfgs;, score=0.893 total time=   0.0s\n",
      "[CV 4/5] END ..C=0.05, penalty=l2, solver=lbfgs;, score=0.877 total time=   0.0s\n",
      "[CV 5/5] END ..C=0.05, penalty=l2, solver=lbfgs;, score=0.893 total time=   0.0s\n",
      "[CV 1/5] END ....C=0.05, penalty=l2, solver=sag;, score=0.624 total time=   0.0s\n",
      "[CV 2/5] END ....C=0.05, penalty=l2, solver=sag;, score=0.825 total time=   0.0s\n",
      "[CV 3/5] END ....C=0.05, penalty=l2, solver=sag;, score=0.893 total time=   0.0s\n",
      "[CV 4/5] END ....C=0.05, penalty=l2, solver=sag;, score=0.877 total time=   0.0s\n",
      "[CV 5/5] END ....C=0.05, penalty=l2, solver=sag;, score=0.893 total time=   0.0s\n",
      "[CV 1/5] END ...C=0.05, penalty=l2, solver=saga;, score=0.624 total time=   0.0s\n",
      "[CV 2/5] END ...C=0.05, penalty=l2, solver=saga;, score=0.825 total time=   0.0s\n",
      "[CV 3/5] END ...C=0.05, penalty=l2, solver=saga;, score=0.893 total time=   0.0s\n",
      "[CV 4/5] END ...C=0.05, penalty=l2, solver=saga;, score=0.877 total time=   0.0s\n",
      "[CV 5/5] END ...C=0.05, penalty=l2, solver=saga;, score=0.893 total time=   0.0s\n",
      "[CV 1/5] END C=0.05, penalty=elasticnet, solver=liblinear;, score=nan total time=   0.0s\n",
      "[CV 2/5] END C=0.05, penalty=elasticnet, solver=liblinear;, score=nan total time=   0.0s\n",
      "[CV 3/5] END C=0.05, penalty=elasticnet, solver=liblinear;, score=nan total time=   0.0s\n",
      "[CV 4/5] END C=0.05, penalty=elasticnet, solver=liblinear;, score=nan total time=   0.0s\n",
      "[CV 5/5] END C=0.05, penalty=elasticnet, solver=liblinear;, score=nan total time=   0.0s\n",
      "[CV 1/5] END C=0.05, penalty=elasticnet, solver=newton-cg;, score=nan total time=   0.0s\n",
      "[CV 2/5] END C=0.05, penalty=elasticnet, solver=newton-cg;, score=nan total time=   0.0s\n",
      "[CV 3/5] END C=0.05, penalty=elasticnet, solver=newton-cg;, score=nan total time=   0.0s\n",
      "[CV 4/5] END C=0.05, penalty=elasticnet, solver=newton-cg;, score=nan total time=   0.0s\n",
      "[CV 5/5] END C=0.05, penalty=elasticnet, solver=newton-cg;, score=nan total time=   0.0s\n",
      "[CV 1/5] END C=0.05, penalty=elasticnet, solver=lbfgs;, score=nan total time=   0.0s\n",
      "[CV 2/5] END C=0.05, penalty=elasticnet, solver=lbfgs;, score=nan total time=   0.0s\n",
      "[CV 3/5] END C=0.05, penalty=elasticnet, solver=lbfgs;, score=nan total time=   0.0s\n",
      "[CV 4/5] END C=0.05, penalty=elasticnet, solver=lbfgs;, score=nan total time=   0.0s\n",
      "[CV 5/5] END C=0.05, penalty=elasticnet, solver=lbfgs;, score=nan total time=   0.0s\n",
      "[CV 1/5] END C=0.05, penalty=elasticnet, solver=sag;, score=nan total time=   0.0s\n",
      "[CV 2/5] END C=0.05, penalty=elasticnet, solver=sag;, score=nan total time=   0.0s\n",
      "[CV 3/5] END C=0.05, penalty=elasticnet, solver=sag;, score=nan total time=   0.0s\n",
      "[CV 4/5] END C=0.05, penalty=elasticnet, solver=sag;, score=nan total time=   0.0s\n",
      "[CV 5/5] END C=0.05, penalty=elasticnet, solver=sag;, score=nan total time=   0.0s\n",
      "[CV 1/5] END C=0.05, penalty=elasticnet, solver=saga;, score=nan total time=   0.0s\n",
      "[CV 2/5] END C=0.05, penalty=elasticnet, solver=saga;, score=nan total time=   0.0s\n",
      "[CV 3/5] END C=0.05, penalty=elasticnet, solver=saga;, score=nan total time=   0.0s\n",
      "[CV 4/5] END C=0.05, penalty=elasticnet, solver=saga;, score=nan total time=   0.0s\n",
      "[CV 5/5] END C=0.05, penalty=elasticnet, solver=saga;, score=nan total time=   0.0s\n",
      "[CV 1/5] END C=0.05, penalty=none, solver=liblinear;, score=nan total time=   0.0s\n",
      "[CV 2/5] END C=0.05, penalty=none, solver=liblinear;, score=nan total time=   0.0s\n",
      "[CV 3/5] END C=0.05, penalty=none, solver=liblinear;, score=nan total time=   0.0s\n",
      "[CV 4/5] END C=0.05, penalty=none, solver=liblinear;, score=nan total time=   0.0s\n",
      "[CV 5/5] END C=0.05, penalty=none, solver=liblinear;, score=nan total time=   0.0s\n",
      "[CV 1/5] END C=0.05, penalty=none, solver=newton-cg;, score=0.614 total time=   0.2s\n",
      "[CV 2/5] END C=0.05, penalty=none, solver=newton-cg;, score=0.828 total time=   0.2s\n",
      "[CV 3/5] END C=0.05, penalty=none, solver=newton-cg;, score=0.900 total time=   0.2s\n",
      "[CV 4/5] END C=0.05, penalty=none, solver=newton-cg;, score=0.889 total time=   0.2s\n",
      "[CV 5/5] END C=0.05, penalty=none, solver=newton-cg;, score=0.901 total time=   0.2s\n",
      "[CV 1/5] END C=0.05, penalty=none, solver=lbfgs;, score=0.614 total time=   0.0s\n",
      "[CV 2/5] END C=0.05, penalty=none, solver=lbfgs;, score=0.828 total time=   0.0s\n",
      "[CV 3/5] END C=0.05, penalty=none, solver=lbfgs;, score=0.900 total time=   0.0s\n",
      "[CV 4/5] END C=0.05, penalty=none, solver=lbfgs;, score=0.889 total time=   0.0s\n",
      "[CV 5/5] END C=0.05, penalty=none, solver=lbfgs;, score=0.901 total time=   0.0s\n",
      "[CV 1/5] END ..C=0.05, penalty=none, solver=sag;, score=0.614 total time=   0.3s\n",
      "[CV 2/5] END ..C=0.05, penalty=none, solver=sag;, score=0.828 total time=   0.3s\n",
      "[CV 3/5] END ..C=0.05, penalty=none, solver=sag;, score=0.900 total time=   0.3s\n",
      "[CV 4/5] END ..C=0.05, penalty=none, solver=sag;, score=0.889 total time=   0.3s\n",
      "[CV 5/5] END ..C=0.05, penalty=none, solver=sag;, score=0.901 total time=   0.3s\n",
      "[CV 1/5] END .C=0.05, penalty=none, solver=saga;, score=0.614 total time=   0.3s\n",
      "[CV 2/5] END .C=0.05, penalty=none, solver=saga;, score=0.828 total time=   0.3s\n",
      "[CV 3/5] END .C=0.05, penalty=none, solver=saga;, score=0.900 total time=   0.4s\n"
     ]
    },
    {
     "name": "stdout",
     "output_type": "stream",
     "text": [
      "[CV 4/5] END .C=0.05, penalty=none, solver=saga;, score=0.889 total time=   0.3s\n",
      "[CV 5/5] END .C=0.05, penalty=none, solver=saga;, score=0.901 total time=   0.3s\n",
      "[CV 1/5] END C=0.1, penalty=l1, solver=liblinear;, score=0.611 total time=   0.1s\n",
      "[CV 2/5] END C=0.1, penalty=l1, solver=liblinear;, score=0.830 total time=   0.1s\n",
      "[CV 3/5] END C=0.1, penalty=l1, solver=liblinear;, score=0.899 total time=   0.1s\n",
      "[CV 4/5] END C=0.1, penalty=l1, solver=liblinear;, score=0.886 total time=   0.1s\n",
      "[CV 5/5] END C=0.1, penalty=l1, solver=liblinear;, score=0.901 total time=   0.1s\n",
      "[CV 1/5] END .C=0.1, penalty=l1, solver=newton-cg;, score=nan total time=   0.0s\n",
      "[CV 2/5] END .C=0.1, penalty=l1, solver=newton-cg;, score=nan total time=   0.0s\n",
      "[CV 3/5] END .C=0.1, penalty=l1, solver=newton-cg;, score=nan total time=   0.0s\n",
      "[CV 4/5] END .C=0.1, penalty=l1, solver=newton-cg;, score=nan total time=   0.0s\n",
      "[CV 5/5] END .C=0.1, penalty=l1, solver=newton-cg;, score=nan total time=   0.0s\n",
      "[CV 1/5] END .....C=0.1, penalty=l1, solver=lbfgs;, score=nan total time=   0.0s\n",
      "[CV 2/5] END .....C=0.1, penalty=l1, solver=lbfgs;, score=nan total time=   0.0s\n",
      "[CV 3/5] END .....C=0.1, penalty=l1, solver=lbfgs;, score=nan total time=   0.0s\n",
      "[CV 4/5] END .....C=0.1, penalty=l1, solver=lbfgs;, score=nan total time=   0.0s\n",
      "[CV 5/5] END .....C=0.1, penalty=l1, solver=lbfgs;, score=nan total time=   0.0s\n",
      "[CV 1/5] END .......C=0.1, penalty=l1, solver=sag;, score=nan total time=   0.0s\n",
      "[CV 2/5] END .......C=0.1, penalty=l1, solver=sag;, score=nan total time=   0.0s\n",
      "[CV 3/5] END .......C=0.1, penalty=l1, solver=sag;, score=nan total time=   0.0s\n",
      "[CV 4/5] END .......C=0.1, penalty=l1, solver=sag;, score=nan total time=   0.0s\n",
      "[CV 5/5] END .......C=0.1, penalty=l1, solver=sag;, score=nan total time=   0.0s\n",
      "[CV 1/5] END ....C=0.1, penalty=l1, solver=saga;, score=0.614 total time=   0.1s\n",
      "[CV 2/5] END ....C=0.1, penalty=l1, solver=saga;, score=0.829 total time=   0.1s\n",
      "[CV 3/5] END ....C=0.1, penalty=l1, solver=saga;, score=0.899 total time=   0.1s\n",
      "[CV 4/5] END ....C=0.1, penalty=l1, solver=saga;, score=0.885 total time=   0.0s\n",
      "[CV 5/5] END ....C=0.1, penalty=l1, solver=saga;, score=0.902 total time=   0.0s\n",
      "[CV 1/5] END C=0.1, penalty=l2, solver=liblinear;, score=0.618 total time=   0.0s\n",
      "[CV 2/5] END C=0.1, penalty=l2, solver=liblinear;, score=0.829 total time=   0.0s\n",
      "[CV 3/5] END C=0.1, penalty=l2, solver=liblinear;, score=0.894 total time=   0.0s\n",
      "[CV 4/5] END C=0.1, penalty=l2, solver=liblinear;, score=0.883 total time=   0.0s\n",
      "[CV 5/5] END C=0.1, penalty=l2, solver=liblinear;, score=0.894 total time=   0.0s\n",
      "[CV 1/5] END C=0.1, penalty=l2, solver=newton-cg;, score=0.618 total time=   0.0s\n",
      "[CV 2/5] END C=0.1, penalty=l2, solver=newton-cg;, score=0.825 total time=   0.0s\n",
      "[CV 3/5] END C=0.1, penalty=l2, solver=newton-cg;, score=0.899 total time=   0.0s\n",
      "[CV 4/5] END C=0.1, penalty=l2, solver=newton-cg;, score=0.880 total time=   0.0s\n",
      "[CV 5/5] END C=0.1, penalty=l2, solver=newton-cg;, score=0.898 total time=   0.0s\n",
      "[CV 1/5] END ...C=0.1, penalty=l2, solver=lbfgs;, score=0.618 total time=   0.0s\n",
      "[CV 2/5] END ...C=0.1, penalty=l2, solver=lbfgs;, score=0.825 total time=   0.0s\n",
      "[CV 3/5] END ...C=0.1, penalty=l2, solver=lbfgs;, score=0.899 total time=   0.0s\n",
      "[CV 4/5] END ...C=0.1, penalty=l2, solver=lbfgs;, score=0.880 total time=   0.0s\n",
      "[CV 5/5] END ...C=0.1, penalty=l2, solver=lbfgs;, score=0.898 total time=   0.0s\n",
      "[CV 1/5] END .....C=0.1, penalty=l2, solver=sag;, score=0.618 total time=   0.0s\n",
      "[CV 2/5] END .....C=0.1, penalty=l2, solver=sag;, score=0.825 total time=   0.0s\n",
      "[CV 3/5] END .....C=0.1, penalty=l2, solver=sag;, score=0.899 total time=   0.0s\n",
      "[CV 4/5] END .....C=0.1, penalty=l2, solver=sag;, score=0.880 total time=   0.0s\n",
      "[CV 5/5] END .....C=0.1, penalty=l2, solver=sag;, score=0.898 total time=   0.0s\n",
      "[CV 1/5] END ....C=0.1, penalty=l2, solver=saga;, score=0.618 total time=   0.0s\n",
      "[CV 2/5] END ....C=0.1, penalty=l2, solver=saga;, score=0.825 total time=   0.0s\n",
      "[CV 3/5] END ....C=0.1, penalty=l2, solver=saga;, score=0.899 total time=   0.0s\n",
      "[CV 4/5] END ....C=0.1, penalty=l2, solver=saga;, score=0.880 total time=   0.0s\n",
      "[CV 5/5] END ....C=0.1, penalty=l2, solver=saga;, score=0.898 total time=   0.0s\n",
      "[CV 1/5] END C=0.1, penalty=elasticnet, solver=liblinear;, score=nan total time=   0.0s\n",
      "[CV 2/5] END C=0.1, penalty=elasticnet, solver=liblinear;, score=nan total time=   0.0s\n",
      "[CV 3/5] END C=0.1, penalty=elasticnet, solver=liblinear;, score=nan total time=   0.0s\n",
      "[CV 4/5] END C=0.1, penalty=elasticnet, solver=liblinear;, score=nan total time=   0.0s\n",
      "[CV 5/5] END C=0.1, penalty=elasticnet, solver=liblinear;, score=nan total time=   0.0s\n",
      "[CV 1/5] END C=0.1, penalty=elasticnet, solver=newton-cg;, score=nan total time=   0.0s\n",
      "[CV 2/5] END C=0.1, penalty=elasticnet, solver=newton-cg;, score=nan total time=   0.0s\n",
      "[CV 3/5] END C=0.1, penalty=elasticnet, solver=newton-cg;, score=nan total time=   0.0s\n",
      "[CV 4/5] END C=0.1, penalty=elasticnet, solver=newton-cg;, score=nan total time=   0.0s\n",
      "[CV 5/5] END C=0.1, penalty=elasticnet, solver=newton-cg;, score=nan total time=   0.0s\n",
      "[CV 1/5] END C=0.1, penalty=elasticnet, solver=lbfgs;, score=nan total time=   0.0s\n",
      "[CV 2/5] END C=0.1, penalty=elasticnet, solver=lbfgs;, score=nan total time=   0.0s\n",
      "[CV 3/5] END C=0.1, penalty=elasticnet, solver=lbfgs;, score=nan total time=   0.0s\n",
      "[CV 4/5] END C=0.1, penalty=elasticnet, solver=lbfgs;, score=nan total time=   0.0s\n",
      "[CV 5/5] END C=0.1, penalty=elasticnet, solver=lbfgs;, score=nan total time=   0.0s\n",
      "[CV 1/5] END C=0.1, penalty=elasticnet, solver=sag;, score=nan total time=   0.0s\n",
      "[CV 2/5] END C=0.1, penalty=elasticnet, solver=sag;, score=nan total time=   0.0s\n",
      "[CV 3/5] END C=0.1, penalty=elasticnet, solver=sag;, score=nan total time=   0.0s\n",
      "[CV 4/5] END C=0.1, penalty=elasticnet, solver=sag;, score=nan total time=   0.0s\n",
      "[CV 5/5] END C=0.1, penalty=elasticnet, solver=sag;, score=nan total time=   0.0s\n",
      "[CV 1/5] END C=0.1, penalty=elasticnet, solver=saga;, score=nan total time=   0.0s\n",
      "[CV 2/5] END C=0.1, penalty=elasticnet, solver=saga;, score=nan total time=   0.0s\n",
      "[CV 3/5] END C=0.1, penalty=elasticnet, solver=saga;, score=nan total time=   0.0s\n",
      "[CV 4/5] END C=0.1, penalty=elasticnet, solver=saga;, score=nan total time=   0.0s\n",
      "[CV 5/5] END C=0.1, penalty=elasticnet, solver=saga;, score=nan total time=   0.0s\n",
      "[CV 1/5] END C=0.1, penalty=none, solver=liblinear;, score=nan total time=   0.0s\n",
      "[CV 2/5] END C=0.1, penalty=none, solver=liblinear;, score=nan total time=   0.0s\n",
      "[CV 3/5] END C=0.1, penalty=none, solver=liblinear;, score=nan total time=   0.0s\n",
      "[CV 4/5] END C=0.1, penalty=none, solver=liblinear;, score=nan total time=   0.0s\n",
      "[CV 5/5] END C=0.1, penalty=none, solver=liblinear;, score=nan total time=   0.0s\n",
      "[CV 1/5] END C=0.1, penalty=none, solver=newton-cg;, score=0.614 total time=   0.2s\n",
      "[CV 2/5] END C=0.1, penalty=none, solver=newton-cg;, score=0.828 total time=   0.1s\n",
      "[CV 3/5] END C=0.1, penalty=none, solver=newton-cg;, score=0.900 total time=   0.2s\n",
      "[CV 4/5] END C=0.1, penalty=none, solver=newton-cg;, score=0.889 total time=   0.1s\n",
      "[CV 5/5] END C=0.1, penalty=none, solver=newton-cg;, score=0.901 total time=   0.1s\n",
      "[CV 1/5] END .C=0.1, penalty=none, solver=lbfgs;, score=0.614 total time=   0.0s\n",
      "[CV 2/5] END .C=0.1, penalty=none, solver=lbfgs;, score=0.828 total time=   0.0s\n",
      "[CV 3/5] END .C=0.1, penalty=none, solver=lbfgs;, score=0.900 total time=   0.0s\n",
      "[CV 4/5] END .C=0.1, penalty=none, solver=lbfgs;, score=0.889 total time=   0.0s\n",
      "[CV 5/5] END .C=0.1, penalty=none, solver=lbfgs;, score=0.901 total time=   0.0s\n",
      "[CV 1/5] END ...C=0.1, penalty=none, solver=sag;, score=0.614 total time=   0.2s\n",
      "[CV 2/5] END ...C=0.1, penalty=none, solver=sag;, score=0.828 total time=   0.2s\n",
      "[CV 3/5] END ...C=0.1, penalty=none, solver=sag;, score=0.900 total time=   0.2s\n",
      "[CV 4/5] END ...C=0.1, penalty=none, solver=sag;, score=0.889 total time=   0.1s\n",
      "[CV 5/5] END ...C=0.1, penalty=none, solver=sag;, score=0.901 total time=   0.2s\n",
      "[CV 1/5] END ..C=0.1, penalty=none, solver=saga;, score=0.614 total time=   0.3s\n",
      "[CV 2/5] END ..C=0.1, penalty=none, solver=saga;, score=0.828 total time=   0.2s\n",
      "[CV 3/5] END ..C=0.1, penalty=none, solver=saga;, score=0.900 total time=   0.2s\n"
     ]
    },
    {
     "name": "stdout",
     "output_type": "stream",
     "text": [
      "[CV 4/5] END ..C=0.1, penalty=none, solver=saga;, score=0.889 total time=   0.2s\n",
      "[CV 5/5] END ..C=0.1, penalty=none, solver=saga;, score=0.901 total time=   0.2s\n",
      "[CV 1/5] END C=0.5, penalty=l1, solver=liblinear;, score=0.614 total time=   0.2s\n",
      "[CV 2/5] END C=0.5, penalty=l1, solver=liblinear;, score=0.828 total time=   0.4s\n",
      "[CV 3/5] END C=0.5, penalty=l1, solver=liblinear;, score=0.900 total time=   0.4s\n",
      "[CV 4/5] END C=0.5, penalty=l1, solver=liblinear;, score=0.888 total time=   0.4s\n",
      "[CV 5/5] END C=0.5, penalty=l1, solver=liblinear;, score=0.901 total time=   0.4s\n",
      "[CV 1/5] END .C=0.5, penalty=l1, solver=newton-cg;, score=nan total time=   0.0s\n",
      "[CV 2/5] END .C=0.5, penalty=l1, solver=newton-cg;, score=nan total time=   0.0s\n",
      "[CV 3/5] END .C=0.5, penalty=l1, solver=newton-cg;, score=nan total time=   0.0s\n",
      "[CV 4/5] END .C=0.5, penalty=l1, solver=newton-cg;, score=nan total time=   0.0s\n",
      "[CV 5/5] END .C=0.5, penalty=l1, solver=newton-cg;, score=nan total time=   0.0s\n",
      "[CV 1/5] END .....C=0.5, penalty=l1, solver=lbfgs;, score=nan total time=   0.0s\n",
      "[CV 2/5] END .....C=0.5, penalty=l1, solver=lbfgs;, score=nan total time=   0.0s\n",
      "[CV 3/5] END .....C=0.5, penalty=l1, solver=lbfgs;, score=nan total time=   0.0s\n",
      "[CV 4/5] END .....C=0.5, penalty=l1, solver=lbfgs;, score=nan total time=   0.0s\n",
      "[CV 5/5] END .....C=0.5, penalty=l1, solver=lbfgs;, score=nan total time=   0.0s\n",
      "[CV 1/5] END .......C=0.5, penalty=l1, solver=sag;, score=nan total time=   0.0s\n",
      "[CV 2/5] END .......C=0.5, penalty=l1, solver=sag;, score=nan total time=   0.0s\n",
      "[CV 3/5] END .......C=0.5, penalty=l1, solver=sag;, score=nan total time=   0.0s\n",
      "[CV 4/5] END .......C=0.5, penalty=l1, solver=sag;, score=nan total time=   0.0s\n",
      "[CV 5/5] END .......C=0.5, penalty=l1, solver=sag;, score=nan total time=   0.0s\n",
      "[CV 1/5] END ....C=0.5, penalty=l1, solver=saga;, score=0.615 total time=   0.3s\n",
      "[CV 2/5] END ....C=0.5, penalty=l1, solver=saga;, score=0.828 total time=   0.3s\n",
      "[CV 3/5] END ....C=0.5, penalty=l1, solver=saga;, score=0.900 total time=   0.3s\n",
      "[CV 4/5] END ....C=0.5, penalty=l1, solver=saga;, score=0.888 total time=   0.3s\n",
      "[CV 5/5] END ....C=0.5, penalty=l1, solver=saga;, score=0.901 total time=   0.2s\n",
      "[CV 1/5] END C=0.5, penalty=l2, solver=liblinear;, score=0.613 total time=   0.0s\n",
      "[CV 2/5] END C=0.5, penalty=l2, solver=liblinear;, score=0.828 total time=   0.0s\n",
      "[CV 3/5] END C=0.5, penalty=l2, solver=liblinear;, score=0.900 total time=   0.0s\n",
      "[CV 4/5] END C=0.5, penalty=l2, solver=liblinear;, score=0.885 total time=   0.0s\n",
      "[CV 5/5] END C=0.5, penalty=l2, solver=liblinear;, score=0.900 total time=   0.0s\n",
      "[CV 1/5] END C=0.5, penalty=l2, solver=newton-cg;, score=0.614 total time=   0.0s\n",
      "[CV 2/5] END C=0.5, penalty=l2, solver=newton-cg;, score=0.830 total time=   0.0s\n",
      "[CV 3/5] END C=0.5, penalty=l2, solver=newton-cg;, score=0.899 total time=   0.0s\n",
      "[CV 4/5] END C=0.5, penalty=l2, solver=newton-cg;, score=0.885 total time=   0.0s\n",
      "[CV 5/5] END C=0.5, penalty=l2, solver=newton-cg;, score=0.901 total time=   0.0s\n",
      "[CV 1/5] END ...C=0.5, penalty=l2, solver=lbfgs;, score=0.614 total time=   0.0s\n",
      "[CV 2/5] END ...C=0.5, penalty=l2, solver=lbfgs;, score=0.830 total time=   0.0s\n",
      "[CV 3/5] END ...C=0.5, penalty=l2, solver=lbfgs;, score=0.899 total time=   0.0s\n",
      "[CV 4/5] END ...C=0.5, penalty=l2, solver=lbfgs;, score=0.885 total time=   0.0s\n",
      "[CV 5/5] END ...C=0.5, penalty=l2, solver=lbfgs;, score=0.901 total time=   0.0s\n",
      "[CV 1/5] END .....C=0.5, penalty=l2, solver=sag;, score=0.614 total time=   0.0s\n",
      "[CV 2/5] END .....C=0.5, penalty=l2, solver=sag;, score=0.830 total time=   0.0s\n",
      "[CV 3/5] END .....C=0.5, penalty=l2, solver=sag;, score=0.899 total time=   0.0s\n",
      "[CV 4/5] END .....C=0.5, penalty=l2, solver=sag;, score=0.885 total time=   0.0s\n",
      "[CV 5/5] END .....C=0.5, penalty=l2, solver=sag;, score=0.901 total time=   0.0s\n",
      "[CV 1/5] END ....C=0.5, penalty=l2, solver=saga;, score=0.614 total time=   0.0s\n",
      "[CV 2/5] END ....C=0.5, penalty=l2, solver=saga;, score=0.830 total time=   0.0s\n",
      "[CV 3/5] END ....C=0.5, penalty=l2, solver=saga;, score=0.899 total time=   0.0s\n",
      "[CV 4/5] END ....C=0.5, penalty=l2, solver=saga;, score=0.885 total time=   0.0s\n",
      "[CV 5/5] END ....C=0.5, penalty=l2, solver=saga;, score=0.901 total time=   0.0s\n",
      "[CV 1/5] END C=0.5, penalty=elasticnet, solver=liblinear;, score=nan total time=   0.0s\n",
      "[CV 2/5] END C=0.5, penalty=elasticnet, solver=liblinear;, score=nan total time=   0.0s\n",
      "[CV 3/5] END C=0.5, penalty=elasticnet, solver=liblinear;, score=nan total time=   0.0s\n",
      "[CV 4/5] END C=0.5, penalty=elasticnet, solver=liblinear;, score=nan total time=   0.0s\n",
      "[CV 5/5] END C=0.5, penalty=elasticnet, solver=liblinear;, score=nan total time=   0.0s\n",
      "[CV 1/5] END C=0.5, penalty=elasticnet, solver=newton-cg;, score=nan total time=   0.0s\n",
      "[CV 2/5] END C=0.5, penalty=elasticnet, solver=newton-cg;, score=nan total time=   0.0s\n",
      "[CV 3/5] END C=0.5, penalty=elasticnet, solver=newton-cg;, score=nan total time=   0.0s\n",
      "[CV 4/5] END C=0.5, penalty=elasticnet, solver=newton-cg;, score=nan total time=   0.0s\n",
      "[CV 5/5] END C=0.5, penalty=elasticnet, solver=newton-cg;, score=nan total time=   0.0s\n",
      "[CV 1/5] END C=0.5, penalty=elasticnet, solver=lbfgs;, score=nan total time=   0.0s\n",
      "[CV 2/5] END C=0.5, penalty=elasticnet, solver=lbfgs;, score=nan total time=   0.0s\n",
      "[CV 3/5] END C=0.5, penalty=elasticnet, solver=lbfgs;, score=nan total time=   0.0s\n",
      "[CV 4/5] END C=0.5, penalty=elasticnet, solver=lbfgs;, score=nan total time=   0.0s\n",
      "[CV 5/5] END C=0.5, penalty=elasticnet, solver=lbfgs;, score=nan total time=   0.0s\n",
      "[CV 1/5] END C=0.5, penalty=elasticnet, solver=sag;, score=nan total time=   0.0s\n",
      "[CV 2/5] END C=0.5, penalty=elasticnet, solver=sag;, score=nan total time=   0.0s\n",
      "[CV 3/5] END C=0.5, penalty=elasticnet, solver=sag;, score=nan total time=   0.0s\n",
      "[CV 4/5] END C=0.5, penalty=elasticnet, solver=sag;, score=nan total time=   0.0s\n",
      "[CV 5/5] END C=0.5, penalty=elasticnet, solver=sag;, score=nan total time=   0.0s\n",
      "[CV 1/5] END C=0.5, penalty=elasticnet, solver=saga;, score=nan total time=   0.0s\n",
      "[CV 2/5] END C=0.5, penalty=elasticnet, solver=saga;, score=nan total time=   0.0s\n",
      "[CV 3/5] END C=0.5, penalty=elasticnet, solver=saga;, score=nan total time=   0.0s\n",
      "[CV 4/5] END C=0.5, penalty=elasticnet, solver=saga;, score=nan total time=   0.0s\n",
      "[CV 5/5] END C=0.5, penalty=elasticnet, solver=saga;, score=nan total time=   0.0s\n",
      "[CV 1/5] END C=0.5, penalty=none, solver=liblinear;, score=nan total time=   0.0s\n",
      "[CV 2/5] END C=0.5, penalty=none, solver=liblinear;, score=nan total time=   0.0s\n",
      "[CV 3/5] END C=0.5, penalty=none, solver=liblinear;, score=nan total time=   0.0s\n",
      "[CV 4/5] END C=0.5, penalty=none, solver=liblinear;, score=nan total time=   0.0s\n",
      "[CV 5/5] END C=0.5, penalty=none, solver=liblinear;, score=nan total time=   0.0s\n",
      "[CV 1/5] END C=0.5, penalty=none, solver=newton-cg;, score=0.614 total time=   0.2s\n",
      "[CV 2/5] END C=0.5, penalty=none, solver=newton-cg;, score=0.828 total time=   0.1s\n",
      "[CV 3/5] END C=0.5, penalty=none, solver=newton-cg;, score=0.900 total time=   0.2s\n",
      "[CV 4/5] END C=0.5, penalty=none, solver=newton-cg;, score=0.889 total time=   0.1s\n",
      "[CV 5/5] END C=0.5, penalty=none, solver=newton-cg;, score=0.901 total time=   0.2s\n",
      "[CV 1/5] END .C=0.5, penalty=none, solver=lbfgs;, score=0.614 total time=   0.0s\n",
      "[CV 2/5] END .C=0.5, penalty=none, solver=lbfgs;, score=0.828 total time=   0.0s\n",
      "[CV 3/5] END .C=0.5, penalty=none, solver=lbfgs;, score=0.900 total time=   0.0s\n",
      "[CV 4/5] END .C=0.5, penalty=none, solver=lbfgs;, score=0.889 total time=   0.0s\n",
      "[CV 5/5] END .C=0.5, penalty=none, solver=lbfgs;, score=0.901 total time=   0.0s\n",
      "[CV 1/5] END ...C=0.5, penalty=none, solver=sag;, score=0.614 total time=   0.2s\n",
      "[CV 2/5] END ...C=0.5, penalty=none, solver=sag;, score=0.828 total time=   0.2s\n",
      "[CV 3/5] END ...C=0.5, penalty=none, solver=sag;, score=0.900 total time=   0.2s\n",
      "[CV 4/5] END ...C=0.5, penalty=none, solver=sag;, score=0.889 total time=   0.2s\n",
      "[CV 5/5] END ...C=0.5, penalty=none, solver=sag;, score=0.901 total time=   0.2s\n",
      "[CV 1/5] END ..C=0.5, penalty=none, solver=saga;, score=0.614 total time=   0.3s\n",
      "[CV 2/5] END ..C=0.5, penalty=none, solver=saga;, score=0.828 total time=   0.3s\n",
      "[CV 3/5] END ..C=0.5, penalty=none, solver=saga;, score=0.900 total time=   0.2s\n"
     ]
    },
    {
     "name": "stdout",
     "output_type": "stream",
     "text": [
      "[CV 4/5] END ..C=0.5, penalty=none, solver=saga;, score=0.889 total time=   0.3s\n",
      "[CV 5/5] END ..C=0.5, penalty=none, solver=saga;, score=0.901 total time=   0.2s\n",
      "[CV 1/5] END .C=1, penalty=l1, solver=liblinear;, score=0.614 total time=   0.4s\n",
      "[CV 2/5] END .C=1, penalty=l1, solver=liblinear;, score=0.828 total time=   0.6s\n",
      "[CV 3/5] END .C=1, penalty=l1, solver=liblinear;, score=0.900 total time=   0.6s\n",
      "[CV 4/5] END .C=1, penalty=l1, solver=liblinear;, score=0.888 total time=   0.7s\n",
      "[CV 5/5] END .C=1, penalty=l1, solver=liblinear;, score=0.901 total time=   0.5s\n",
      "[CV 1/5] END ...C=1, penalty=l1, solver=newton-cg;, score=nan total time=   0.0s\n",
      "[CV 2/5] END ...C=1, penalty=l1, solver=newton-cg;, score=nan total time=   0.0s\n",
      "[CV 3/5] END ...C=1, penalty=l1, solver=newton-cg;, score=nan total time=   0.0s\n",
      "[CV 4/5] END ...C=1, penalty=l1, solver=newton-cg;, score=nan total time=   0.0s\n",
      "[CV 5/5] END ...C=1, penalty=l1, solver=newton-cg;, score=nan total time=   0.0s\n",
      "[CV 1/5] END .......C=1, penalty=l1, solver=lbfgs;, score=nan total time=   0.0s\n",
      "[CV 2/5] END .......C=1, penalty=l1, solver=lbfgs;, score=nan total time=   0.0s\n",
      "[CV 3/5] END .......C=1, penalty=l1, solver=lbfgs;, score=nan total time=   0.0s\n",
      "[CV 4/5] END .......C=1, penalty=l1, solver=lbfgs;, score=nan total time=   0.0s\n",
      "[CV 5/5] END .......C=1, penalty=l1, solver=lbfgs;, score=nan total time=   0.0s\n",
      "[CV 1/5] END .........C=1, penalty=l1, solver=sag;, score=nan total time=   0.0s\n",
      "[CV 2/5] END .........C=1, penalty=l1, solver=sag;, score=nan total time=   0.0s\n",
      "[CV 3/5] END .........C=1, penalty=l1, solver=sag;, score=nan total time=   0.0s\n",
      "[CV 4/5] END .........C=1, penalty=l1, solver=sag;, score=nan total time=   0.0s\n",
      "[CV 5/5] END .........C=1, penalty=l1, solver=sag;, score=nan total time=   0.0s\n",
      "[CV 1/5] END ......C=1, penalty=l1, solver=saga;, score=0.614 total time=   0.3s\n",
      "[CV 2/5] END ......C=1, penalty=l1, solver=saga;, score=0.828 total time=   0.3s\n",
      "[CV 3/5] END ......C=1, penalty=l1, solver=saga;, score=0.900 total time=   0.3s\n",
      "[CV 4/5] END ......C=1, penalty=l1, solver=saga;, score=0.889 total time=   0.3s\n",
      "[CV 5/5] END ......C=1, penalty=l1, solver=saga;, score=0.901 total time=   0.3s\n",
      "[CV 1/5] END .C=1, penalty=l2, solver=liblinear;, score=0.613 total time=   0.0s\n",
      "[CV 2/5] END .C=1, penalty=l2, solver=liblinear;, score=0.828 total time=   0.0s\n",
      "[CV 3/5] END .C=1, penalty=l2, solver=liblinear;, score=0.900 total time=   0.0s\n",
      "[CV 4/5] END .C=1, penalty=l2, solver=liblinear;, score=0.886 total time=   0.0s\n",
      "[CV 5/5] END .C=1, penalty=l2, solver=liblinear;, score=0.900 total time=   0.0s\n",
      "[CV 1/5] END .C=1, penalty=l2, solver=newton-cg;, score=0.614 total time=   0.0s\n",
      "[CV 2/5] END .C=1, penalty=l2, solver=newton-cg;, score=0.829 total time=   0.0s\n",
      "[CV 3/5] END .C=1, penalty=l2, solver=newton-cg;, score=0.900 total time=   0.0s\n",
      "[CV 4/5] END .C=1, penalty=l2, solver=newton-cg;, score=0.886 total time=   0.0s\n",
      "[CV 5/5] END .C=1, penalty=l2, solver=newton-cg;, score=0.901 total time=   0.0s\n",
      "[CV 1/5] END .....C=1, penalty=l2, solver=lbfgs;, score=0.614 total time=   0.0s\n",
      "[CV 2/5] END .....C=1, penalty=l2, solver=lbfgs;, score=0.829 total time=   0.0s\n",
      "[CV 3/5] END .....C=1, penalty=l2, solver=lbfgs;, score=0.900 total time=   0.0s\n",
      "[CV 4/5] END .....C=1, penalty=l2, solver=lbfgs;, score=0.886 total time=   0.0s\n",
      "[CV 5/5] END .....C=1, penalty=l2, solver=lbfgs;, score=0.901 total time=   0.0s\n",
      "[CV 1/5] END .......C=1, penalty=l2, solver=sag;, score=0.614 total time=   0.0s\n",
      "[CV 2/5] END .......C=1, penalty=l2, solver=sag;, score=0.829 total time=   0.0s\n",
      "[CV 3/5] END .......C=1, penalty=l2, solver=sag;, score=0.900 total time=   0.0s\n",
      "[CV 4/5] END .......C=1, penalty=l2, solver=sag;, score=0.886 total time=   0.0s\n",
      "[CV 5/5] END .......C=1, penalty=l2, solver=sag;, score=0.902 total time=   0.0s\n",
      "[CV 1/5] END ......C=1, penalty=l2, solver=saga;, score=0.614 total time=   0.0s\n",
      "[CV 2/5] END ......C=1, penalty=l2, solver=saga;, score=0.829 total time=   0.0s\n",
      "[CV 3/5] END ......C=1, penalty=l2, solver=saga;, score=0.900 total time=   0.1s\n",
      "[CV 4/5] END ......C=1, penalty=l2, solver=saga;, score=0.886 total time=   0.1s\n",
      "[CV 5/5] END ......C=1, penalty=l2, solver=saga;, score=0.901 total time=   0.1s\n",
      "[CV 1/5] END C=1, penalty=elasticnet, solver=liblinear;, score=nan total time=   0.0s\n",
      "[CV 2/5] END C=1, penalty=elasticnet, solver=liblinear;, score=nan total time=   0.0s\n",
      "[CV 3/5] END C=1, penalty=elasticnet, solver=liblinear;, score=nan total time=   0.0s\n",
      "[CV 4/5] END C=1, penalty=elasticnet, solver=liblinear;, score=nan total time=   0.0s\n",
      "[CV 5/5] END C=1, penalty=elasticnet, solver=liblinear;, score=nan total time=   0.0s\n",
      "[CV 1/5] END C=1, penalty=elasticnet, solver=newton-cg;, score=nan total time=   0.0s\n",
      "[CV 2/5] END C=1, penalty=elasticnet, solver=newton-cg;, score=nan total time=   0.0s\n",
      "[CV 3/5] END C=1, penalty=elasticnet, solver=newton-cg;, score=nan total time=   0.0s\n",
      "[CV 4/5] END C=1, penalty=elasticnet, solver=newton-cg;, score=nan total time=   0.0s\n",
      "[CV 5/5] END C=1, penalty=elasticnet, solver=newton-cg;, score=nan total time=   0.0s\n",
      "[CV 1/5] END C=1, penalty=elasticnet, solver=lbfgs;, score=nan total time=   0.0s\n",
      "[CV 2/5] END C=1, penalty=elasticnet, solver=lbfgs;, score=nan total time=   0.0s\n",
      "[CV 3/5] END C=1, penalty=elasticnet, solver=lbfgs;, score=nan total time=   0.0s\n",
      "[CV 4/5] END C=1, penalty=elasticnet, solver=lbfgs;, score=nan total time=   0.0s\n",
      "[CV 5/5] END C=1, penalty=elasticnet, solver=lbfgs;, score=nan total time=   0.0s\n",
      "[CV 1/5] END .C=1, penalty=elasticnet, solver=sag;, score=nan total time=   0.0s\n",
      "[CV 2/5] END .C=1, penalty=elasticnet, solver=sag;, score=nan total time=   0.0s\n",
      "[CV 3/5] END .C=1, penalty=elasticnet, solver=sag;, score=nan total time=   0.0s\n",
      "[CV 4/5] END .C=1, penalty=elasticnet, solver=sag;, score=nan total time=   0.0s\n",
      "[CV 5/5] END .C=1, penalty=elasticnet, solver=sag;, score=nan total time=   0.0s\n",
      "[CV 1/5] END C=1, penalty=elasticnet, solver=saga;, score=nan total time=   0.0s\n",
      "[CV 2/5] END C=1, penalty=elasticnet, solver=saga;, score=nan total time=   0.0s\n",
      "[CV 3/5] END C=1, penalty=elasticnet, solver=saga;, score=nan total time=   0.0s\n",
      "[CV 4/5] END C=1, penalty=elasticnet, solver=saga;, score=nan total time=   0.0s\n",
      "[CV 5/5] END C=1, penalty=elasticnet, solver=saga;, score=nan total time=   0.0s\n",
      "[CV 1/5] END .C=1, penalty=none, solver=liblinear;, score=nan total time=   0.0s\n",
      "[CV 2/5] END .C=1, penalty=none, solver=liblinear;, score=nan total time=   0.0s\n",
      "[CV 3/5] END .C=1, penalty=none, solver=liblinear;, score=nan total time=   0.0s\n",
      "[CV 4/5] END .C=1, penalty=none, solver=liblinear;, score=nan total time=   0.0s\n",
      "[CV 5/5] END .C=1, penalty=none, solver=liblinear;, score=nan total time=   0.0s\n",
      "[CV 1/5] END C=1, penalty=none, solver=newton-cg;, score=0.614 total time=   0.1s\n",
      "[CV 2/5] END C=1, penalty=none, solver=newton-cg;, score=0.828 total time=   0.1s\n",
      "[CV 3/5] END C=1, penalty=none, solver=newton-cg;, score=0.900 total time=   0.2s\n",
      "[CV 4/5] END C=1, penalty=none, solver=newton-cg;, score=0.889 total time=   0.1s\n",
      "[CV 5/5] END C=1, penalty=none, solver=newton-cg;, score=0.901 total time=   0.2s\n",
      "[CV 1/5] END ...C=1, penalty=none, solver=lbfgs;, score=0.614 total time=   0.0s\n",
      "[CV 2/5] END ...C=1, penalty=none, solver=lbfgs;, score=0.828 total time=   0.0s\n",
      "[CV 3/5] END ...C=1, penalty=none, solver=lbfgs;, score=0.900 total time=   0.0s\n",
      "[CV 4/5] END ...C=1, penalty=none, solver=lbfgs;, score=0.889 total time=   0.0s\n",
      "[CV 5/5] END ...C=1, penalty=none, solver=lbfgs;, score=0.901 total time=   0.0s\n",
      "[CV 1/5] END .....C=1, penalty=none, solver=sag;, score=0.614 total time=   0.2s\n",
      "[CV 2/5] END .....C=1, penalty=none, solver=sag;, score=0.828 total time=   0.2s\n",
      "[CV 3/5] END .....C=1, penalty=none, solver=sag;, score=0.900 total time=   0.2s\n",
      "[CV 4/5] END .....C=1, penalty=none, solver=sag;, score=0.889 total time=   0.3s\n",
      "[CV 5/5] END .....C=1, penalty=none, solver=sag;, score=0.901 total time=   0.2s\n",
      "[CV 1/5] END ....C=1, penalty=none, solver=saga;, score=0.614 total time=   0.2s\n",
      "[CV 2/5] END ....C=1, penalty=none, solver=saga;, score=0.828 total time=   0.3s\n",
      "[CV 3/5] END ....C=1, penalty=none, solver=saga;, score=0.900 total time=   0.2s\n",
      "[CV 4/5] END ....C=1, penalty=none, solver=saga;, score=0.889 total time=   0.2s\n"
     ]
    },
    {
     "name": "stdout",
     "output_type": "stream",
     "text": [
      "[CV 5/5] END ....C=1, penalty=none, solver=saga;, score=0.901 total time=   0.2s\n",
      "[CV 1/5] END .C=5, penalty=l1, solver=liblinear;, score=0.614 total time=   0.8s\n",
      "[CV 2/5] END .C=5, penalty=l1, solver=liblinear;, score=0.828 total time=   1.5s\n",
      "[CV 3/5] END .C=5, penalty=l1, solver=liblinear;, score=0.900 total time=   1.9s\n",
      "[CV 4/5] END .C=5, penalty=l1, solver=liblinear;, score=0.889 total time=   1.6s\n",
      "[CV 5/5] END .C=5, penalty=l1, solver=liblinear;, score=0.901 total time=   1.7s\n",
      "[CV 1/5] END ...C=5, penalty=l1, solver=newton-cg;, score=nan total time=   0.0s\n",
      "[CV 2/5] END ...C=5, penalty=l1, solver=newton-cg;, score=nan total time=   0.0s\n",
      "[CV 3/5] END ...C=5, penalty=l1, solver=newton-cg;, score=nan total time=   0.0s\n",
      "[CV 4/5] END ...C=5, penalty=l1, solver=newton-cg;, score=nan total time=   0.0s\n",
      "[CV 5/5] END ...C=5, penalty=l1, solver=newton-cg;, score=nan total time=   0.0s\n",
      "[CV 1/5] END .......C=5, penalty=l1, solver=lbfgs;, score=nan total time=   0.0s\n",
      "[CV 2/5] END .......C=5, penalty=l1, solver=lbfgs;, score=nan total time=   0.0s\n",
      "[CV 3/5] END .......C=5, penalty=l1, solver=lbfgs;, score=nan total time=   0.0s\n",
      "[CV 4/5] END .......C=5, penalty=l1, solver=lbfgs;, score=nan total time=   0.0s\n",
      "[CV 5/5] END .......C=5, penalty=l1, solver=lbfgs;, score=nan total time=   0.0s\n",
      "[CV 1/5] END .........C=5, penalty=l1, solver=sag;, score=nan total time=   0.0s\n",
      "[CV 2/5] END .........C=5, penalty=l1, solver=sag;, score=nan total time=   0.0s\n",
      "[CV 3/5] END .........C=5, penalty=l1, solver=sag;, score=nan total time=   0.0s\n",
      "[CV 4/5] END .........C=5, penalty=l1, solver=sag;, score=nan total time=   0.0s\n",
      "[CV 5/5] END .........C=5, penalty=l1, solver=sag;, score=nan total time=   0.0s\n",
      "[CV 1/5] END ......C=5, penalty=l1, solver=saga;, score=0.614 total time=   0.2s\n",
      "[CV 2/5] END ......C=5, penalty=l1, solver=saga;, score=0.828 total time=   0.4s\n",
      "[CV 3/5] END ......C=5, penalty=l1, solver=saga;, score=0.900 total time=   0.3s\n",
      "[CV 4/5] END ......C=5, penalty=l1, solver=saga;, score=0.889 total time=   0.3s\n",
      "[CV 5/5] END ......C=5, penalty=l1, solver=saga;, score=0.901 total time=   0.3s\n",
      "[CV 1/5] END .C=5, penalty=l2, solver=liblinear;, score=0.614 total time=   0.0s\n",
      "[CV 2/5] END .C=5, penalty=l2, solver=liblinear;, score=0.828 total time=   0.0s\n",
      "[CV 3/5] END .C=5, penalty=l2, solver=liblinear;, score=0.900 total time=   0.0s\n",
      "[CV 4/5] END .C=5, penalty=l2, solver=liblinear;, score=0.888 total time=   0.0s\n",
      "[CV 5/5] END .C=5, penalty=l2, solver=liblinear;, score=0.901 total time=   0.0s\n",
      "[CV 1/5] END .C=5, penalty=l2, solver=newton-cg;, score=0.614 total time=   0.0s\n",
      "[CV 2/5] END .C=5, penalty=l2, solver=newton-cg;, score=0.829 total time=   0.0s\n",
      "[CV 3/5] END .C=5, penalty=l2, solver=newton-cg;, score=0.900 total time=   0.0s\n",
      "[CV 4/5] END .C=5, penalty=l2, solver=newton-cg;, score=0.889 total time=   0.0s\n",
      "[CV 5/5] END .C=5, penalty=l2, solver=newton-cg;, score=0.901 total time=   0.1s\n",
      "[CV 1/5] END .....C=5, penalty=l2, solver=lbfgs;, score=0.614 total time=   0.0s\n",
      "[CV 2/5] END .....C=5, penalty=l2, solver=lbfgs;, score=0.829 total time=   0.0s\n",
      "[CV 3/5] END .....C=5, penalty=l2, solver=lbfgs;, score=0.900 total time=   0.0s\n",
      "[CV 4/5] END .....C=5, penalty=l2, solver=lbfgs;, score=0.889 total time=   0.0s\n",
      "[CV 5/5] END .....C=5, penalty=l2, solver=lbfgs;, score=0.901 total time=   0.1s\n",
      "[CV 1/5] END .......C=5, penalty=l2, solver=sag;, score=0.614 total time=   0.1s\n",
      "[CV 2/5] END .......C=5, penalty=l2, solver=sag;, score=0.829 total time=   0.0s\n",
      "[CV 3/5] END .......C=5, penalty=l2, solver=sag;, score=0.900 total time=   0.1s\n",
      "[CV 4/5] END .......C=5, penalty=l2, solver=sag;, score=0.889 total time=   0.1s\n",
      "[CV 5/5] END .......C=5, penalty=l2, solver=sag;, score=0.901 total time=   0.0s\n",
      "[CV 1/5] END ......C=5, penalty=l2, solver=saga;, score=0.614 total time=   0.2s\n",
      "[CV 2/5] END ......C=5, penalty=l2, solver=saga;, score=0.829 total time=   0.2s\n",
      "[CV 3/5] END ......C=5, penalty=l2, solver=saga;, score=0.900 total time=   0.2s\n",
      "[CV 4/5] END ......C=5, penalty=l2, solver=saga;, score=0.889 total time=   0.2s\n",
      "[CV 5/5] END ......C=5, penalty=l2, solver=saga;, score=0.901 total time=   0.2s\n",
      "[CV 1/5] END C=5, penalty=elasticnet, solver=liblinear;, score=nan total time=   0.0s\n",
      "[CV 2/5] END C=5, penalty=elasticnet, solver=liblinear;, score=nan total time=   0.0s\n",
      "[CV 3/5] END C=5, penalty=elasticnet, solver=liblinear;, score=nan total time=   0.0s\n",
      "[CV 4/5] END C=5, penalty=elasticnet, solver=liblinear;, score=nan total time=   0.0s\n",
      "[CV 5/5] END C=5, penalty=elasticnet, solver=liblinear;, score=nan total time=   0.0s\n",
      "[CV 1/5] END C=5, penalty=elasticnet, solver=newton-cg;, score=nan total time=   0.0s\n",
      "[CV 2/5] END C=5, penalty=elasticnet, solver=newton-cg;, score=nan total time=   0.0s\n",
      "[CV 3/5] END C=5, penalty=elasticnet, solver=newton-cg;, score=nan total time=   0.0s\n",
      "[CV 4/5] END C=5, penalty=elasticnet, solver=newton-cg;, score=nan total time=   0.0s\n",
      "[CV 5/5] END C=5, penalty=elasticnet, solver=newton-cg;, score=nan total time=   0.0s\n",
      "[CV 1/5] END C=5, penalty=elasticnet, solver=lbfgs;, score=nan total time=   0.0s\n",
      "[CV 2/5] END C=5, penalty=elasticnet, solver=lbfgs;, score=nan total time=   0.0s\n",
      "[CV 3/5] END C=5, penalty=elasticnet, solver=lbfgs;, score=nan total time=   0.0s\n",
      "[CV 4/5] END C=5, penalty=elasticnet, solver=lbfgs;, score=nan total time=   0.0s\n",
      "[CV 5/5] END C=5, penalty=elasticnet, solver=lbfgs;, score=nan total time=   0.0s\n",
      "[CV 1/5] END .C=5, penalty=elasticnet, solver=sag;, score=nan total time=   0.0s\n",
      "[CV 2/5] END .C=5, penalty=elasticnet, solver=sag;, score=nan total time=   0.0s\n",
      "[CV 3/5] END .C=5, penalty=elasticnet, solver=sag;, score=nan total time=   0.0s\n",
      "[CV 4/5] END .C=5, penalty=elasticnet, solver=sag;, score=nan total time=   0.0s\n",
      "[CV 5/5] END .C=5, penalty=elasticnet, solver=sag;, score=nan total time=   0.0s\n",
      "[CV 1/5] END C=5, penalty=elasticnet, solver=saga;, score=nan total time=   0.0s\n",
      "[CV 2/5] END C=5, penalty=elasticnet, solver=saga;, score=nan total time=   0.0s\n",
      "[CV 3/5] END C=5, penalty=elasticnet, solver=saga;, score=nan total time=   0.0s\n",
      "[CV 4/5] END C=5, penalty=elasticnet, solver=saga;, score=nan total time=   0.0s\n",
      "[CV 5/5] END C=5, penalty=elasticnet, solver=saga;, score=nan total time=   0.0s\n",
      "[CV 1/5] END .C=5, penalty=none, solver=liblinear;, score=nan total time=   0.0s\n",
      "[CV 2/5] END .C=5, penalty=none, solver=liblinear;, score=nan total time=   0.0s\n",
      "[CV 3/5] END .C=5, penalty=none, solver=liblinear;, score=nan total time=   0.0s\n",
      "[CV 4/5] END .C=5, penalty=none, solver=liblinear;, score=nan total time=   0.0s\n",
      "[CV 5/5] END .C=5, penalty=none, solver=liblinear;, score=nan total time=   0.0s\n",
      "[CV 1/5] END C=5, penalty=none, solver=newton-cg;, score=0.614 total time=   0.1s\n",
      "[CV 2/5] END C=5, penalty=none, solver=newton-cg;, score=0.828 total time=   0.1s\n",
      "[CV 3/5] END C=5, penalty=none, solver=newton-cg;, score=0.900 total time=   0.1s\n",
      "[CV 4/5] END C=5, penalty=none, solver=newton-cg;, score=0.889 total time=   0.1s\n",
      "[CV 5/5] END C=5, penalty=none, solver=newton-cg;, score=0.901 total time=   0.1s\n",
      "[CV 1/5] END ...C=5, penalty=none, solver=lbfgs;, score=0.614 total time=   0.0s\n",
      "[CV 2/5] END ...C=5, penalty=none, solver=lbfgs;, score=0.828 total time=   0.0s\n",
      "[CV 3/5] END ...C=5, penalty=none, solver=lbfgs;, score=0.900 total time=   0.0s\n",
      "[CV 4/5] END ...C=5, penalty=none, solver=lbfgs;, score=0.889 total time=   0.0s\n",
      "[CV 5/5] END ...C=5, penalty=none, solver=lbfgs;, score=0.901 total time=   0.0s\n",
      "[CV 1/5] END .....C=5, penalty=none, solver=sag;, score=0.614 total time=   0.1s\n",
      "[CV 2/5] END .....C=5, penalty=none, solver=sag;, score=0.828 total time=   0.2s\n",
      "[CV 3/5] END .....C=5, penalty=none, solver=sag;, score=0.900 total time=   0.2s\n",
      "[CV 4/5] END .....C=5, penalty=none, solver=sag;, score=0.889 total time=   0.1s\n",
      "[CV 5/5] END .....C=5, penalty=none, solver=sag;, score=0.901 total time=   0.1s\n",
      "[CV 1/5] END ....C=5, penalty=none, solver=saga;, score=0.614 total time=   0.2s\n",
      "[CV 2/5] END ....C=5, penalty=none, solver=saga;, score=0.828 total time=   0.2s\n",
      "[CV 3/5] END ....C=5, penalty=none, solver=saga;, score=0.900 total time=   0.2s\n",
      "[CV 4/5] END ....C=5, penalty=none, solver=saga;, score=0.889 total time=   0.2s\n",
      "[CV 5/5] END ....C=5, penalty=none, solver=saga;, score=0.901 total time=   0.2s\n"
     ]
    },
    {
     "data": {
      "text/plain": [
       "GridSearchCV(cv=5, estimator=LogisticRegression(random_state=123),\n",
       "             param_grid={'C': [0.01, 0.05, 0.1, 0.5, 1, 5],\n",
       "                         'penalty': ['l1', 'l2', 'elasticnet', 'none'],\n",
       "                         'solver': ['liblinear', 'newton-cg', 'lbfgs', 'sag',\n",
       "                                    'saga']},\n",
       "             scoring='accuracy', verbose=3)"
      ]
     },
     "execution_count": 17,
     "metadata": {},
     "output_type": "execute_result"
    }
   ],
   "source": [
    "#Fitting Model lr grid\n",
    "lr_grid.fit(X_sm_clean, y_sm)"
   ]
  },
  {
   "cell_type": "code",
   "execution_count": 18,
   "id": "c5fe0146",
   "metadata": {},
   "outputs": [
    {
     "name": "stdout",
     "output_type": "stream",
     "text": [
      "{'C': 5, 'penalty': 'l2', 'solver': 'newton-cg'}\n"
     ]
    }
   ],
   "source": [
    "#Melihat parameter terbaik untuk model\n",
    "print(lr_grid.best_params_)"
   ]
  },
  {
   "cell_type": "code",
   "execution_count": 19,
   "id": "1515c8a7",
   "metadata": {},
   "outputs": [
    {
     "data": {
      "text/plain": [
       "LogisticRegression(C=5, solver='newton-cg')"
      ]
     },
     "execution_count": 19,
     "metadata": {},
     "output_type": "execute_result"
    }
   ],
   "source": [
    "#Input parameter terbaik hasil GridsearchCV\n",
    "lr_grid_cv  = LogisticRegression(C = lr_grid.best_params_[\"C\"],\n",
    "                                 penalty = lr_grid.best_params_[\"penalty\"],\n",
    "                                 solver = lr_grid.best_params_[\"solver\"])\n",
    "\n",
    "#Kembali fitting model\n",
    "lr_grid_cv.fit(X_sm_clean, y_sm)"
   ]
  },
  {
   "cell_type": "code",
   "execution_count": 20,
   "id": "a612f2ec",
   "metadata": {},
   "outputs": [
    {
     "name": "stdout",
     "output_type": "stream",
     "text": [
      "Training Data Score: 0.8369252873563219\n",
      "Validating Data Score: 0.8116666666666666\n",
      "Testing Data Score: 0.7905555555555556\n"
     ]
    }
   ],
   "source": [
    "print(f\"Training Data Score: {lr_grid_cv.score(X_sm_clean, y_sm)}\")\n",
    "print(f\"Validating Data Score: {lr_grid_cv.score(X_valid_clean, y_valid)}\")\n",
    "print(f\"Testing Data Score: {lr_grid_cv.score(X_test_clean, y_test)}\")"
   ]
  },
  {
   "cell_type": "code",
   "execution_count": 21,
   "id": "cc86cd15",
   "metadata": {},
   "outputs": [],
   "source": [
    "#Prediksi dengan menggunakan data test\n",
    "logregtun_pred = lr_grid_cv.predict(X_test_clean)"
   ]
  },
  {
   "cell_type": "code",
   "execution_count": 22,
   "id": "ddcdcfb0",
   "metadata": {},
   "outputs": [
    {
     "name": "stdout",
     "output_type": "stream",
     "text": [
      "              precision    recall  f1-score   support\n",
      "\n",
      "           0       0.86      0.88      0.87      1424\n",
      "           1       0.50      0.47      0.48       376\n",
      "\n",
      "    accuracy                           0.79      1800\n",
      "   macro avg       0.68      0.67      0.68      1800\n",
      "weighted avg       0.79      0.79      0.79      1800\n",
      "\n"
     ]
    }
   ],
   "source": [
    "#Melihat Classification report\n",
    "print(classification_report(y_test, logregtun_pred, labels=[0,1]))"
   ]
  },
  {
   "cell_type": "code",
   "execution_count": 23,
   "id": "a1903b9c",
   "metadata": {},
   "outputs": [
    {
     "data": {
      "image/png": "[encoded data removed]",
      "text/plain": [
       "<Figure size 432x288 with 2 Axes>"
      ]
     },
     "metadata": {
      "needs_background": "light"
     },
     "output_type": "display_data"
    }
   ],
   "source": [
    "ConfusionMatrixDisplay.from_predictions(y_test, logregtun_pred, display_labels = [False, True])\n",
    "plt.show()"
   ]
  },
  {
   "cell_type": "markdown",
   "id": "21d6311b",
   "metadata": {},
   "source": [
    "## Support Vector Classifier"
   ]
  },
  {
   "cell_type": "code",
   "execution_count": 24,
   "id": "867c56d2",
   "metadata": {},
   "outputs": [],
   "source": [
    "svc_ori = SVC(random_state = 123)"
   ]
  },
  {
   "cell_type": "code",
   "execution_count": 25,
   "id": "e5de88f3",
   "metadata": {},
   "outputs": [
    {
     "data": {
      "text/plain": [
       "SVC(random_state=123)"
      ]
     },
     "execution_count": 25,
     "metadata": {},
     "output_type": "execute_result"
    }
   ],
   "source": [
    "# fit Support Vector Classifier\n",
    "svc_ori.fit(X_sm_clean, y_sm)"
   ]
  },
  {
   "cell_type": "code",
   "execution_count": 26,
   "id": "299535e7",
   "metadata": {},
   "outputs": [
    {
     "data": {
      "text/plain": [
       "0.883441091954023"
      ]
     },
     "execution_count": 26,
     "metadata": {},
     "output_type": "execute_result"
    }
   ],
   "source": [
    "#Cek Score model SVC\n",
    "svc_ori.score(X_sm_clean, y_sm)"
   ]
  },
  {
   "cell_type": "code",
   "execution_count": 27,
   "id": "cd127cf3",
   "metadata": {},
   "outputs": [],
   "source": [
    "svc_predict = svc_ori.predict(X_test_clean)"
   ]
  },
  {
   "cell_type": "code",
   "execution_count": 28,
   "id": "bc2baaa0",
   "metadata": {},
   "outputs": [
    {
     "name": "stdout",
     "output_type": "stream",
     "text": [
      "              precision    recall  f1-score   support\n",
      "\n",
      "           0       0.89      0.90      0.90      1424\n",
      "           1       0.62      0.59      0.60       376\n",
      "\n",
      "    accuracy                           0.84      1800\n",
      "   macro avg       0.75      0.75      0.75      1800\n",
      "weighted avg       0.84      0.84      0.84      1800\n",
      "\n"
     ]
    }
   ],
   "source": [
    "print(classification_report(y_test, svc_predict, labels=[0,1]))"
   ]
  },
  {
   "cell_type": "code",
   "execution_count": 29,
   "id": "be978df3",
   "metadata": {},
   "outputs": [
    {
     "name": "stdout",
     "output_type": "stream",
     "text": [
      "Training Data Score: 0.883441091954023\n",
      "Validating Data Score: 0.86\n",
      "Testing Data Score: 0.8377777777777777\n"
     ]
    }
   ],
   "source": [
    "print(f\"Training Data Score: {svc_ori.score(X_sm_clean, y_sm)}\")\n",
    "print(f\"Validating Data Score: {svc_ori.score(X_valid_clean, y_valid)}\")\n",
    "print(f\"Testing Data Score: {svc_ori.score(X_test_clean, y_test)}\")"
   ]
  },
  {
   "cell_type": "markdown",
   "id": "1a26cdae",
   "metadata": {},
   "source": [
    "## Tuning Parameter SVC"
   ]
  },
  {
   "cell_type": "code",
   "execution_count": 30,
   "id": "5ce72ccc",
   "metadata": {},
   "outputs": [],
   "source": [
    "# Create the GridSearchCV model\n",
    "# Create the GridSearch estimator along with a parameter object containing the values to adjust\n",
    "param_grid = {'kernel' : ['linear', 'rbf', 'poly', 'sigmoid'],\n",
    "              'C': [0.0005,0.001, 0.01, 0.1, 0.5],\n",
    "              'gamma': ['scale', 'auto']\n",
    "             }"
   ]
  },
  {
   "cell_type": "code",
   "execution_count": 31,
   "id": "1b562945",
   "metadata": {},
   "outputs": [],
   "source": [
    "#Membentuk parameter untuk eksperimentasi\n",
    "svc_grid = GridSearchCV(SVC(random_state = 123), \n",
    "                        param_grid, \n",
    "                        verbose=3, \n",
    "                        cv= 5, \n",
    "                        n_jobs=4, \n",
    "                        scoring='accuracy')"
   ]
  },
  {
   "cell_type": "code",
   "execution_count": 32,
   "id": "9de15714",
   "metadata": {},
   "outputs": [
    {
     "name": "stdout",
     "output_type": "stream",
     "text": [
      "Fitting 5 folds for each of 40 candidates, totalling 200 fits\n"
     ]
    },
    {
     "data": {
      "text/plain": [
       "GridSearchCV(cv=5, estimator=SVC(random_state=123), n_jobs=4,\n",
       "             param_grid={'C': [0.0005, 0.001, 0.01, 0.1, 0.5],\n",
       "                         'gamma': ['scale', 'auto'],\n",
       "                         'kernel': ['linear', 'rbf', 'poly', 'sigmoid']},\n",
       "             scoring='accuracy', verbose=3)"
      ]
     },
     "execution_count": 32,
     "metadata": {},
     "output_type": "execute_result"
    }
   ],
   "source": [
    "#Melakukan fitting model gridsearchcv\n",
    "svc_grid.fit(X_sm_clean, y_sm)"
   ]
  },
  {
   "cell_type": "code",
   "execution_count": 33,
   "id": "2a1e17d3",
   "metadata": {},
   "outputs": [
    {
     "data": {
      "text/plain": [
       "{'C': 0.5, 'gamma': 'scale', 'kernel': 'rbf'}"
      ]
     },
     "execution_count": 33,
     "metadata": {},
     "output_type": "execute_result"
    }
   ],
   "source": [
    "#Melihat parameter terbaik\n",
    "svc_grid.best_params_"
   ]
  },
  {
   "cell_type": "code",
   "execution_count": 34,
   "id": "7061c62f",
   "metadata": {},
   "outputs": [],
   "source": [
    "#Melakukan input parameter terbaik hasil gridsearch\n",
    "svc_grid_cv  = SVC(kernel = svc_grid.best_params_[\"kernel\"],\n",
    "                   gamma = svc_grid.best_params_[\"gamma\"],\n",
    "                   C = svc_grid.best_params_[\"C\"]\n",
    "                  )"
   ]
  },
  {
   "cell_type": "code",
   "execution_count": 35,
   "id": "237e3db8",
   "metadata": {},
   "outputs": [
    {
     "data": {
      "text/plain": [
       "SVC(C=0.5)"
      ]
     },
     "execution_count": 35,
     "metadata": {},
     "output_type": "execute_result"
    }
   ],
   "source": [
    "svc_grid_cv.fit(X_sm_clean, y_sm)"
   ]
  },
  {
   "cell_type": "code",
   "execution_count": 36,
   "id": "ed628a25",
   "metadata": {},
   "outputs": [
    {
     "name": "stdout",
     "output_type": "stream",
     "text": [
      "Training Data Score: 0.8781429597701149\n",
      "Validating Data Score: 0.8541666666666666\n",
      "Testing Data Score: 0.8416666666666667\n"
     ]
    }
   ],
   "source": [
    "print(f\"Training Data Score: {svc_grid_cv.score(X_sm_clean, y_sm)}\")\n",
    "print(f\"Validating Data Score: {svc_grid_cv.score(X_valid_clean, y_valid)}\")\n",
    "print(f\"Testing Data Score: {svc_grid_cv.score(X_test_clean, y_test)}\")"
   ]
  },
  {
   "cell_type": "code",
   "execution_count": 37,
   "id": "3acaeca5",
   "metadata": {},
   "outputs": [],
   "source": [
    "svc_pred_cv = svc_grid_cv.predict(X_test_clean)"
   ]
  },
  {
   "cell_type": "code",
   "execution_count": 38,
   "id": "e2af5b83",
   "metadata": {},
   "outputs": [
    {
     "name": "stdout",
     "output_type": "stream",
     "text": [
      "              precision    recall  f1-score   support\n",
      "\n",
      "           0       0.89      0.91      0.90      1424\n",
      "           1       0.63      0.59      0.61       376\n",
      "\n",
      "    accuracy                           0.84      1800\n",
      "   macro avg       0.76      0.75      0.75      1800\n",
      "weighted avg       0.84      0.84      0.84      1800\n",
      "\n"
     ]
    }
   ],
   "source": [
    "print(classification_report(y_test, svc_pred_cv, labels=[0,1]))"
   ]
  },
  {
   "cell_type": "code",
   "execution_count": 39,
   "id": "a09ea284",
   "metadata": {},
   "outputs": [
    {
     "data": {
      "image/png": "[encoded data removed]",
      "text/plain": [
       "<Figure size 432x288 with 2 Axes>"
      ]
     },
     "metadata": {
      "needs_background": "light"
     },
     "output_type": "display_data"
    }
   ],
   "source": [
    "ConfusionMatrixDisplay.from_predictions(y_test, svc_pred_cv, display_labels = [False, True])\n",
    "plt.show()"
   ]
  },
  {
   "cell_type": "markdown",
   "id": "5828814a",
   "metadata": {},
   "source": [
    "## Decisiontree"
   ]
  },
  {
   "cell_type": "code",
   "execution_count": 40,
   "id": "b03b5770",
   "metadata": {},
   "outputs": [],
   "source": [
    "# Model Decision Tree\n",
    "decTree = DecisionTreeClassifier(random_state = 123)"
   ]
  },
  {
   "cell_type": "code",
   "execution_count": 41,
   "id": "b930980d",
   "metadata": {},
   "outputs": [
    {
     "data": {
      "text/plain": [
       "DecisionTreeClassifier(random_state=123)"
      ]
     },
     "execution_count": 41,
     "metadata": {},
     "output_type": "execute_result"
    }
   ],
   "source": [
    "# Fitting model\n",
    "decTree.fit(X_sm_clean, y_sm)"
   ]
  },
  {
   "cell_type": "code",
   "execution_count": 42,
   "id": "a4b617b2",
   "metadata": {},
   "outputs": [
    {
     "data": {
      "text/plain": [
       "1.0"
      ]
     },
     "execution_count": 42,
     "metadata": {},
     "output_type": "execute_result"
    }
   ],
   "source": [
    "# Model score\n",
    "decTree.score(X_sm_clean, y_sm)"
   ]
  },
  {
   "cell_type": "code",
   "execution_count": 43,
   "id": "bbdc03ed",
   "metadata": {},
   "outputs": [],
   "source": [
    "#Prediksi data menggunakan data test\n",
    "dectree_predict = decTree.predict(X_test_clean)"
   ]
  },
  {
   "cell_type": "code",
   "execution_count": 44,
   "id": "8f677d5a",
   "metadata": {},
   "outputs": [
    {
     "name": "stdout",
     "output_type": "stream",
     "text": [
      "              precision    recall  f1-score   support\n",
      "\n",
      "           0       0.89      0.82      0.85      1424\n",
      "           1       0.48      0.63      0.54       376\n",
      "\n",
      "    accuracy                           0.78      1800\n",
      "   macro avg       0.68      0.72      0.70      1800\n",
      "weighted avg       0.81      0.78      0.79      1800\n",
      "\n"
     ]
    }
   ],
   "source": [
    "#Melihat Classification report\n",
    "print(classification_report(y_test, dectree_predict, labels=[0,1]))"
   ]
  },
  {
   "cell_type": "code",
   "execution_count": 45,
   "id": "b0e753d6",
   "metadata": {},
   "outputs": [
    {
     "name": "stdout",
     "output_type": "stream",
     "text": [
      "Training Data Score: 1.0\n",
      "Validating Data Score: 0.7733333333333333\n",
      "Testing Data Score: 0.7777777777777778\n"
     ]
    }
   ],
   "source": [
    "#Melihat score prediksi dari data train, valid dan test\n",
    "print(f\"Training Data Score: {decTree.score(X_sm_clean, y_sm)}\")\n",
    "print(f\"Validating Data Score: {decTree.score(X_valid_clean, y_valid)}\")\n",
    "print(f\"Testing Data Score: {decTree.score(X_test_clean, y_test)}\")"
   ]
  },
  {
   "cell_type": "markdown",
   "id": "11a5b44a",
   "metadata": {},
   "source": [
    "## Tuning Parameter Decisiontree"
   ]
  },
  {
   "cell_type": "code",
   "execution_count": 46,
   "id": "a74787e4",
   "metadata": {},
   "outputs": [],
   "source": [
    "# Buat parameter untuk eksperimen\n",
    "decTree_param = {\"max_depth\": [2, 3, 4, 5, 6, 7, 8, 9, 10, 11, 12],\n",
    "                \"criterion\": [\"gini\", \"entropy\", \"log_loss\"],\n",
    "                 'min_samples_split': [2, 5, 10],\n",
    "                 'min_samples_leaf': [1, 2, 4],}"
   ]
  },
  {
   "cell_type": "code",
   "execution_count": 47,
   "id": "93127a9f",
   "metadata": {},
   "outputs": [],
   "source": [
    "# Buat plan eksperimentasi\n",
    "random_decTree = GridSearchCV(estimator = DecisionTreeClassifier(random_state=123),\n",
    "                              param_grid = decTree_param,\n",
    "                              cv = 5,\n",
    "                              scoring = \"accuracy\") "
   ]
  },
  {
   "cell_type": "code",
   "execution_count": 48,
   "id": "5e46ac51",
   "metadata": {},
   "outputs": [
    {
     "data": {
      "text/plain": [
       "GridSearchCV(cv=5, estimator=DecisionTreeClassifier(random_state=123),\n",
       "             param_grid={'criterion': ['gini', 'entropy', 'log_loss'],\n",
       "                         'max_depth': [2, 3, 4, 5, 6, 7, 8, 9, 10, 11, 12],\n",
       "                         'min_samples_leaf': [1, 2, 4],\n",
       "                         'min_samples_split': [2, 5, 10]},\n",
       "             scoring='accuracy')"
      ]
     },
     "execution_count": 48,
     "metadata": {},
     "output_type": "execute_result"
    }
   ],
   "source": [
    "# Lakukan fitting eksperimentasi\n",
    "random_decTree.fit(X_sm_clean, y_sm)"
   ]
  },
  {
   "cell_type": "code",
   "execution_count": 49,
   "id": "48a790c9",
   "metadata": {},
   "outputs": [
    {
     "data": {
      "text/plain": [
       "{'criterion': 'entropy',\n",
       " 'max_depth': 9,\n",
       " 'min_samples_leaf': 4,\n",
       " 'min_samples_split': 2}"
      ]
     },
     "execution_count": 49,
     "metadata": {},
     "output_type": "execute_result"
    }
   ],
   "source": [
    "random_decTree.best_params_"
   ]
  },
  {
   "cell_type": "code",
   "execution_count": 50,
   "id": "a4470ba4",
   "metadata": {},
   "outputs": [],
   "source": [
    "# Buat model\n",
    "best_decTree = DecisionTreeClassifier(max_depth = random_decTree.best_params_[\"max_depth\"],\n",
    "                                      criterion = random_decTree.best_params_[\"criterion\"],\n",
    "                                      min_samples_leaf = random_decTree.best_params_[\"min_samples_leaf\"],\n",
    "                                      min_samples_split = random_decTree.best_params_[\"min_samples_split\"],\n",
    "                                      random_state = 123)"
   ]
  },
  {
   "cell_type": "code",
   "execution_count": 51,
   "id": "79916272",
   "metadata": {},
   "outputs": [
    {
     "data": {
      "text/plain": [
       "DecisionTreeClassifier(criterion='entropy', max_depth=9, min_samples_leaf=4,\n",
       "                       random_state=123)"
      ]
     },
     "execution_count": 51,
     "metadata": {},
     "output_type": "execute_result"
    }
   ],
   "source": [
    "# Fit model\n",
    "best_decTree.fit(X_sm_clean, y_sm)"
   ]
  },
  {
   "cell_type": "code",
   "execution_count": 52,
   "id": "7724e94e",
   "metadata": {},
   "outputs": [
    {
     "data": {
      "text/plain": [
       "0.8808369252873564"
      ]
     },
     "execution_count": 52,
     "metadata": {},
     "output_type": "execute_result"
    }
   ],
   "source": [
    "# Cek Train data\n",
    "best_decTree.score(X_sm_clean, y_sm)"
   ]
  },
  {
   "cell_type": "code",
   "execution_count": 53,
   "id": "bb8ca1f2",
   "metadata": {},
   "outputs": [],
   "source": [
    "y_predict_dectree = best_decTree.predict(X_test_clean)"
   ]
  },
  {
   "cell_type": "code",
   "execution_count": 54,
   "id": "2e148f66",
   "metadata": {},
   "outputs": [
    {
     "name": "stdout",
     "output_type": "stream",
     "text": [
      "              precision    recall  f1-score   support\n",
      "\n",
      "           0       0.90      0.85      0.88      1424\n",
      "           1       0.54      0.66      0.59       376\n",
      "\n",
      "    accuracy                           0.81      1800\n",
      "   macro avg       0.72      0.75      0.73      1800\n",
      "weighted avg       0.83      0.81      0.82      1800\n",
      "\n"
     ]
    }
   ],
   "source": [
    "print(classification_report(y_test, y_predict_dectree))"
   ]
  },
  {
   "cell_type": "code",
   "execution_count": 55,
   "id": "ede4e61b",
   "metadata": {},
   "outputs": [
    {
     "name": "stdout",
     "output_type": "stream",
     "text": [
      "Training Data Score: 0.8808369252873564\n",
      "Validating Data Score: 0.8191666666666667\n",
      "Testing Data Score: 0.8111111111111111\n"
     ]
    }
   ],
   "source": [
    "print(f\"Training Data Score: {best_decTree.score(X_sm_clean, y_sm)}\")\n",
    "print(f\"Validating Data Score: {best_decTree.score(X_valid_clean, y_valid)}\")\n",
    "print(f\"Testing Data Score: {best_decTree.score(X_test_clean, y_test)}\")"
   ]
  },
  {
   "cell_type": "code",
   "execution_count": 56,
   "id": "0738114e",
   "metadata": {},
   "outputs": [
    {
     "data": {
      "image/png": "[encoded data removed]",
      "text/plain": [
       "<Figure size 432x288 with 2 Axes>"
      ]
     },
     "metadata": {
      "needs_background": "light"
     },
     "output_type": "display_data"
    }
   ],
   "source": [
    "ConfusionMatrixDisplay.from_predictions(y_test, y_predict_dectree, display_labels = [False, True])\n",
    "plt.show()"
   ]
  },
  {
   "cell_type": "markdown",
   "id": "2463ddab",
   "metadata": {},
   "source": [
    "## Randomforest Classifier"
   ]
  },
  {
   "cell_type": "code",
   "execution_count": 57,
   "id": "1187cbe5",
   "metadata": {},
   "outputs": [],
   "source": [
    "# Build random forest\n",
    "random_forest = RandomForestClassifier(n_estimators = 100, \n",
    "                                       criterion = \"gini\",\n",
    "                                       max_features = \"sqrt\",\n",
    "                                       max_depth=6, \n",
    "                                       min_samples_leaf=8,\n",
    "                                       random_state = 123)"
   ]
  },
  {
   "cell_type": "code",
   "execution_count": 58,
   "id": "8297613f",
   "metadata": {},
   "outputs": [
    {
     "data": {
      "text/plain": [
       "RandomForestClassifier(max_depth=6, max_features='sqrt', min_samples_leaf=8,\n",
       "                       random_state=123)"
      ]
     },
     "execution_count": 58,
     "metadata": {},
     "output_type": "execute_result"
    }
   ],
   "source": [
    "random_forest.fit(X_sm_clean, y_sm)"
   ]
  },
  {
   "cell_type": "code",
   "execution_count": 59,
   "id": "8c86acb4",
   "metadata": {},
   "outputs": [
    {
     "data": {
      "text/plain": [
       "RandomForestClassifier(max_depth=6, max_features='sqrt', min_samples_leaf=8,\n",
       "                       random_state=123)"
      ]
     },
     "execution_count": 59,
     "metadata": {},
     "output_type": "execute_result"
    }
   ],
   "source": [
    "random_forest.fit(X_sm_clean, y_sm)"
   ]
  },
  {
   "cell_type": "code",
   "execution_count": 60,
   "id": "0befb2e9",
   "metadata": {},
   "outputs": [
    {
     "data": {
      "text/plain": [
       "0.8658405172413793"
      ]
     },
     "execution_count": 60,
     "metadata": {},
     "output_type": "execute_result"
    }
   ],
   "source": [
    "# Model score\n",
    "random_forest.score(X_sm_clean, y_sm)"
   ]
  },
  {
   "cell_type": "code",
   "execution_count": 61,
   "id": "d6f54f8c",
   "metadata": {},
   "outputs": [],
   "source": [
    "y_pred_rf = random_forest.predict(X_test_clean)"
   ]
  },
  {
   "cell_type": "code",
   "execution_count": 62,
   "id": "e171133b",
   "metadata": {},
   "outputs": [
    {
     "name": "stdout",
     "output_type": "stream",
     "text": [
      "              precision    recall  f1-score   support\n",
      "\n",
      "           0       0.91      0.85      0.88      1424\n",
      "           1       0.54      0.67      0.60       376\n",
      "\n",
      "    accuracy                           0.81      1800\n",
      "   macro avg       0.72      0.76      0.74      1800\n",
      "weighted avg       0.83      0.81      0.82      1800\n",
      "\n"
     ]
    }
   ],
   "source": [
    "print(classification_report(y_test, y_pred_rf, labels=[0,1]))"
   ]
  },
  {
   "cell_type": "code",
   "execution_count": 63,
   "id": "bd28fb06",
   "metadata": {},
   "outputs": [
    {
     "data": {
      "image/png": "[encoded data removed]",
      "text/plain": [
       "<Figure size 432x288 with 2 Axes>"
      ]
     },
     "metadata": {
      "needs_background": "light"
     },
     "output_type": "display_data"
    }
   ],
   "source": [
    "ConfusionMatrixDisplay.from_predictions(y_test, y_pred_rf, display_labels = [False, True])\n",
    "plt.show()"
   ]
  },
  {
   "cell_type": "markdown",
   "id": "85c8c9a1",
   "metadata": {},
   "source": [
    "## Tuning Parameter Randomforest"
   ]
  },
  {
   "cell_type": "code",
   "execution_count": 64,
   "id": "ad00f78b",
   "metadata": {},
   "outputs": [],
   "source": [
    "# Buat parameter untuk eksperimen\n",
    "random_param = {\"max_depth\": [2, 3, 4, 5, 6, 7, 8, 9, 10, 11, 12],\n",
    "                'n_estimators': [50, 100, 200],\n",
    "                'min_samples_leaf': [1, 2, 4],\n",
    "                'min_samples_split': [2, 5, 10],\n",
    "                \"criterion\": [\"gini\", \"entropy\"]\n",
    "                }"
   ]
  },
  {
   "cell_type": "code",
   "execution_count": 65,
   "id": "d40a7cec",
   "metadata": {},
   "outputs": [],
   "source": [
    "# Buat plan eksperimentasi\n",
    "random_forestcls = GridSearchCV(estimator = RandomForestClassifier(random_state=123),\n",
    "                                param_grid = random_param,\n",
    "                                cv = 5,\n",
    "                                scoring = \"accuracy\") "
   ]
  },
  {
   "cell_type": "code",
   "execution_count": 66,
   "id": "b3d4b2e3",
   "metadata": {},
   "outputs": [
    {
     "data": {
      "text/plain": [
       "GridSearchCV(cv=5, estimator=RandomForestClassifier(random_state=123),\n",
       "             param_grid={'criterion': ['gini', 'entropy'],\n",
       "                         'max_depth': [2, 3, 4, 5, 6, 7, 8, 9, 10, 11, 12],\n",
       "                         'min_samples_leaf': [1, 2, 4],\n",
       "                         'min_samples_split': [2, 5, 10],\n",
       "                         'n_estimators': [50, 100, 200]},\n",
       "             scoring='accuracy')"
      ]
     },
     "execution_count": 66,
     "metadata": {},
     "output_type": "execute_result"
    }
   ],
   "source": [
    "# Lakukan fitting eksperimentasi\n",
    "random_forestcls.fit(X_sm_clean, y_sm)"
   ]
  },
  {
   "cell_type": "code",
   "execution_count": 67,
   "id": "900462d3",
   "metadata": {},
   "outputs": [
    {
     "data": {
      "text/plain": [
       "{'criterion': 'entropy',\n",
       " 'max_depth': 12,\n",
       " 'min_samples_leaf': 1,\n",
       " 'min_samples_split': 2,\n",
       " 'n_estimators': 200}"
      ]
     },
     "execution_count": 67,
     "metadata": {},
     "output_type": "execute_result"
    }
   ],
   "source": [
    "random_forestcls.best_params_"
   ]
  },
  {
   "cell_type": "code",
   "execution_count": 68,
   "id": "8d1c89f9",
   "metadata": {},
   "outputs": [],
   "source": [
    "# Buat model\n",
    "random_forestcls_cv = RandomForestClassifier(max_depth = random_forestcls.best_params_[\"max_depth\"],\n",
    "                                             criterion = random_forestcls.best_params_[\"criterion\"],\n",
    "                                             n_estimators = random_forestcls.best_params_[\"n_estimators\"],\n",
    "                                             min_samples_leaf = random_forestcls.best_params_[\"min_samples_leaf\"],\n",
    "                                             min_samples_split = random_forestcls.best_params_[\"min_samples_split\"],\n",
    "                                             random_state = 123)"
   ]
  },
  {
   "cell_type": "code",
   "execution_count": 69,
   "id": "881bcd92",
   "metadata": {},
   "outputs": [
    {
     "data": {
      "text/plain": [
       "RandomForestClassifier(criterion='entropy', max_depth=12, n_estimators=200,\n",
       "                       random_state=123)"
      ]
     },
     "execution_count": 69,
     "metadata": {},
     "output_type": "execute_result"
    }
   ],
   "source": [
    "# Fit model\n",
    "random_forestcls_cv.fit(X_sm_clean, y_sm)"
   ]
  },
  {
   "cell_type": "code",
   "execution_count": 70,
   "id": "b4b6bfe9",
   "metadata": {},
   "outputs": [],
   "source": [
    "predict_randomcls_cv = random_forestcls_cv.predict(X_test_clean)"
   ]
  },
  {
   "cell_type": "code",
   "execution_count": 71,
   "id": "0674960b",
   "metadata": {},
   "outputs": [
    {
     "name": "stdout",
     "output_type": "stream",
     "text": [
      "              precision    recall  f1-score   support\n",
      "\n",
      "           0       0.91      0.89      0.90      1424\n",
      "           1       0.60      0.65      0.62       376\n",
      "\n",
      "    accuracy                           0.84      1800\n",
      "   macro avg       0.75      0.77      0.76      1800\n",
      "weighted avg       0.84      0.84      0.84      1800\n",
      "\n"
     ]
    }
   ],
   "source": [
    "print(classification_report(y_test, predict_randomcls_cv))"
   ]
  },
  {
   "cell_type": "code",
   "execution_count": 72,
   "id": "e98caf47",
   "metadata": {},
   "outputs": [
    {
     "name": "stdout",
     "output_type": "stream",
     "text": [
      "Training Data Score: 0.9568067528735632\n",
      "Validating Data Score: 0.8516666666666667\n",
      "Testing Data Score: 0.8366666666666667\n"
     ]
    }
   ],
   "source": [
    "print(f\"Training Data Score: {random_forestcls_cv.score(X_sm_clean, y_sm)}\")\n",
    "print(f\"Validating Data Score: {random_forestcls_cv.score(X_valid_clean, y_valid)}\")\n",
    "print(f\"Testing Data Score: {random_forestcls_cv.score(X_test_clean, y_test)}\")"
   ]
  },
  {
   "cell_type": "code",
   "execution_count": 73,
   "id": "fbec3c0e",
   "metadata": {},
   "outputs": [
    {
     "data": {
      "image/png": "[encoded data removed]",
      "text/plain": [
       "<Figure size 432x288 with 2 Axes>"
      ]
     },
     "metadata": {
      "needs_background": "light"
     },
     "output_type": "display_data"
    }
   ],
   "source": [
    "ConfusionMatrixDisplay.from_predictions(y_test, predict_randomcls_cv, display_labels = [False, True])\n",
    "plt.show()"
   ]
  },
  {
   "cell_type": "markdown",
   "id": "99f4c2aa",
   "metadata": {},
   "source": [
    "## Ridge Classifier"
   ]
  },
  {
   "cell_type": "code",
   "execution_count": 74,
   "id": "8ff949d5",
   "metadata": {},
   "outputs": [],
   "source": [
    "ridge = RidgeClassifier(random_state = 123) #create a ridge classifier object"
   ]
  },
  {
   "cell_type": "code",
   "execution_count": 75,
   "id": "336549ab",
   "metadata": {},
   "outputs": [
    {
     "data": {
      "text/plain": [
       "RidgeClassifier(random_state=123)"
      ]
     },
     "execution_count": 75,
     "metadata": {},
     "output_type": "execute_result"
    }
   ],
   "source": [
    "ridge.fit(X_sm_clean, y_sm) #train the model"
   ]
  },
  {
   "cell_type": "code",
   "execution_count": 76,
   "id": "1676dcc4",
   "metadata": {},
   "outputs": [
    {
     "data": {
      "text/plain": [
       "0.8301005747126436"
      ]
     },
     "execution_count": 76,
     "metadata": {},
     "output_type": "execute_result"
    }
   ],
   "source": [
    "ridge.score(X_sm_clean, y_sm)"
   ]
  },
  {
   "cell_type": "code",
   "execution_count": 77,
   "id": "ee605ef2",
   "metadata": {},
   "outputs": [],
   "source": [
    "pred_ridge = ridge.predict(X_test_clean)"
   ]
  },
  {
   "cell_type": "code",
   "execution_count": 78,
   "id": "f0f33c3b",
   "metadata": {},
   "outputs": [
    {
     "name": "stdout",
     "output_type": "stream",
     "text": [
      "              precision    recall  f1-score   support\n",
      "\n",
      "           0       0.86      0.88      0.87      1424\n",
      "           1       0.50      0.44      0.47       376\n",
      "\n",
      "    accuracy                           0.79      1800\n",
      "   macro avg       0.68      0.66      0.67      1800\n",
      "weighted avg       0.78      0.79      0.79      1800\n",
      "\n"
     ]
    }
   ],
   "source": [
    "print(classification_report(y_test, pred_ridge, labels=[0,1]))"
   ]
  },
  {
   "cell_type": "code",
   "execution_count": 79,
   "id": "f600b577",
   "metadata": {},
   "outputs": [
    {
     "name": "stdout",
     "output_type": "stream",
     "text": [
      "Training Data Score: 0.8301005747126436\n",
      "Validating Data Score: 0.8091666666666667\n",
      "Testing Data Score: 0.7911111111111111\n"
     ]
    }
   ],
   "source": [
    "print(f\"Training Data Score: {ridge.score(X_sm_clean, y_sm)}\")\n",
    "print(f\"Validating Data Score: {ridge.score(X_valid_clean, y_valid)}\")\n",
    "print(f\"Testing Data Score: {ridge.score(X_test_clean, y_test)}\")"
   ]
  },
  {
   "cell_type": "markdown",
   "id": "aee31291",
   "metadata": {},
   "source": [
    "## Tuning Parameter Ridge Classifier"
   ]
  },
  {
   "cell_type": "code",
   "execution_count": 80,
   "id": "bd44e283",
   "metadata": {},
   "outputs": [],
   "source": [
    "clf_ridge = RidgeClassifier(random_state = 123)\n",
    "\n",
    "alpha = [0.1, 0.2, 0.3, 0.4, 0.5, 0.6, 0.7, 0.8, 0.9, 1.0]\n",
    "\n",
    "# define grid search\n",
    "grid = dict(alpha=alpha)\n",
    "\n",
    "cv = RepeatedStratifiedKFold(n_splits=10, n_repeats=3, random_state=1)\n",
    "\n",
    "ridge_cv = GridSearchCV(estimator=clf_ridge, param_grid=grid, n_jobs=-1, cv=cv, scoring='accuracy',error_score=0)"
   ]
  },
  {
   "cell_type": "code",
   "execution_count": 81,
   "id": "0b02a7cd",
   "metadata": {},
   "outputs": [
    {
     "data": {
      "text/plain": [
       "GridSearchCV(cv=RepeatedStratifiedKFold(n_repeats=3, n_splits=10, random_state=1),\n",
       "             error_score=0, estimator=RidgeClassifier(random_state=123),\n",
       "             n_jobs=-1,\n",
       "             param_grid={'alpha': [0.1, 0.2, 0.3, 0.4, 0.5, 0.6, 0.7, 0.8, 0.9,\n",
       "                                   1.0]},\n",
       "             scoring='accuracy')"
      ]
     },
     "execution_count": 81,
     "metadata": {},
     "output_type": "execute_result"
    }
   ],
   "source": [
    "ridge_cv.fit(X_sm_clean, y_sm)"
   ]
  },
  {
   "cell_type": "code",
   "execution_count": 82,
   "id": "c42fff83",
   "metadata": {},
   "outputs": [
    {
     "data": {
      "text/plain": [
       "{'alpha': 0.5}"
      ]
     },
     "execution_count": 82,
     "metadata": {},
     "output_type": "execute_result"
    }
   ],
   "source": [
    "ridge_cv.best_params_"
   ]
  },
  {
   "cell_type": "code",
   "execution_count": 83,
   "id": "462b1213",
   "metadata": {},
   "outputs": [],
   "source": [
    "# Buat model\n",
    "ridge_cv = RidgeClassifier(alpha = ridge_cv.best_params_[\"alpha\"],\n",
    "                           random_state = 123)"
   ]
  },
  {
   "cell_type": "code",
   "execution_count": 84,
   "id": "040baeda",
   "metadata": {},
   "outputs": [
    {
     "data": {
      "text/plain": [
       "RidgeClassifier(alpha=0.5, random_state=123)"
      ]
     },
     "execution_count": 84,
     "metadata": {},
     "output_type": "execute_result"
    }
   ],
   "source": [
    "# Fit model\n",
    "ridge_cv.fit(X_sm_clean, y_sm)"
   ]
  },
  {
   "cell_type": "code",
   "execution_count": 85,
   "id": "96d4efa2",
   "metadata": {},
   "outputs": [
    {
     "data": {
      "text/plain": [
       "0.830010775862069"
      ]
     },
     "execution_count": 85,
     "metadata": {},
     "output_type": "execute_result"
    }
   ],
   "source": [
    "# Cek Test data\n",
    "ridge_cv.score(X_sm_clean, y_sm)"
   ]
  },
  {
   "cell_type": "code",
   "execution_count": 86,
   "id": "f2ac6d1a",
   "metadata": {},
   "outputs": [],
   "source": [
    "predict_ridgecv = ridge_cv.predict(X_test_clean)"
   ]
  },
  {
   "cell_type": "code",
   "execution_count": 87,
   "id": "2407b6be",
   "metadata": {},
   "outputs": [
    {
     "name": "stdout",
     "output_type": "stream",
     "text": [
      "              precision    recall  f1-score   support\n",
      "\n",
      "           0       0.86      0.88      0.87      1424\n",
      "           1       0.50      0.44      0.47       376\n",
      "\n",
      "    accuracy                           0.79      1800\n",
      "   macro avg       0.68      0.66      0.67      1800\n",
      "weighted avg       0.78      0.79      0.79      1800\n",
      "\n"
     ]
    }
   ],
   "source": [
    "print(classification_report(y_test, predict_ridgecv))"
   ]
  },
  {
   "cell_type": "code",
   "execution_count": 88,
   "id": "23446aaa",
   "metadata": {},
   "outputs": [
    {
     "name": "stdout",
     "output_type": "stream",
     "text": [
      "Training Data Score: 0.830010775862069\n",
      "Validating Data Score: 0.8091666666666667\n",
      "Testing Data Score: 0.7911111111111111\n"
     ]
    }
   ],
   "source": [
    "print(f\"Training Data Score: {ridge_cv.score(X_sm_clean, y_sm)}\")\n",
    "print(f\"Validating Data Score: {ridge_cv.score(X_valid_clean, y_valid)}\")\n",
    "print(f\"Testing Data Score: {ridge_cv.score(X_test_clean, y_test)}\")"
   ]
  },
  {
   "cell_type": "code",
   "execution_count": 89,
   "id": "034ad890",
   "metadata": {},
   "outputs": [
    {
     "data": {
      "image/png": "[encoded data removed]",
      "text/plain": [
       "<Figure size 432x288 with 2 Axes>"
      ]
     },
     "metadata": {
      "needs_background": "light"
     },
     "output_type": "display_data"
    }
   ],
   "source": [
    "ConfusionMatrixDisplay.from_predictions(y_test, predict_ridgecv, display_labels = [False, True])\n",
    "plt.show()"
   ]
  },
  {
   "cell_type": "markdown",
   "id": "9a261060",
   "metadata": {},
   "source": [
    "## KNeighborsClassifier"
   ]
  },
  {
   "cell_type": "code",
   "execution_count": 90,
   "id": "9f0071ca",
   "metadata": {},
   "outputs": [],
   "source": [
    "# Build KNeighborsRegressor\n",
    "knn_awal = KNeighborsClassifier()"
   ]
  },
  {
   "cell_type": "code",
   "execution_count": 91,
   "id": "da0e675d",
   "metadata": {},
   "outputs": [
    {
     "data": {
      "text/plain": [
       "KNeighborsClassifier()"
      ]
     },
     "execution_count": 91,
     "metadata": {},
     "output_type": "execute_result"
    }
   ],
   "source": [
    "# fit KNeighborsRegressor\n",
    "knn_awal.fit(X_sm_clean, y_sm)"
   ]
  },
  {
   "cell_type": "code",
   "execution_count": 92,
   "id": "50add511",
   "metadata": {},
   "outputs": [
    {
     "data": {
      "text/plain": [
       "0.9075969827586207"
      ]
     },
     "execution_count": 92,
     "metadata": {},
     "output_type": "execute_result"
    }
   ],
   "source": [
    "knn_awal.score(X_sm_clean, y_sm)"
   ]
  },
  {
   "cell_type": "code",
   "execution_count": 93,
   "id": "336eada5",
   "metadata": {},
   "outputs": [],
   "source": [
    "knn_pred = knn_awal.predict(X_test_clean)"
   ]
  },
  {
   "cell_type": "code",
   "execution_count": 94,
   "id": "f80b4def",
   "metadata": {},
   "outputs": [
    {
     "name": "stdout",
     "output_type": "stream",
     "text": [
      "              precision    recall  f1-score   support\n",
      "\n",
      "           0       0.89      0.84      0.86      1424\n",
      "           1       0.50      0.59      0.54       376\n",
      "\n",
      "    accuracy                           0.79      1800\n",
      "   macro avg       0.69      0.72      0.70      1800\n",
      "weighted avg       0.80      0.79      0.80      1800\n",
      "\n"
     ]
    }
   ],
   "source": [
    "print(classification_report(y_test, knn_pred, labels=[0,1]))"
   ]
  },
  {
   "cell_type": "code",
   "execution_count": 95,
   "id": "1ff7ad8d",
   "metadata": {},
   "outputs": [
    {
     "name": "stdout",
     "output_type": "stream",
     "text": [
      "Training Data Score: 0.9075969827586207\n",
      "Validating Data Score: 0.7883333333333333\n",
      "Testing Data Score: 0.7894444444444444\n"
     ]
    }
   ],
   "source": [
    "print(f\"Training Data Score: {knn_awal.score(X_sm_clean, y_sm)}\")\n",
    "print(f\"Validating Data Score: {knn_awal.score(X_valid_clean, y_valid)}\")\n",
    "print(f\"Testing Data Score: {knn_awal.score(X_test_clean, y_test)}\")"
   ]
  },
  {
   "cell_type": "code",
   "execution_count": 96,
   "id": "c269e271",
   "metadata": {},
   "outputs": [
    {
     "data": {
      "image/png": "[encoded data removed]",
      "text/plain": [
       "<Figure size 432x288 with 2 Axes>"
      ]
     },
     "metadata": {
      "needs_background": "light"
     },
     "output_type": "display_data"
    }
   ],
   "source": [
    "ConfusionMatrixDisplay.from_predictions(y_test, knn_pred, display_labels = [False, True])\n",
    "plt.show()"
   ]
  },
  {
   "cell_type": "markdown",
   "id": "7aeafd64",
   "metadata": {},
   "source": [
    "## Tuning Parameter KNeighborsClassifier"
   ]
  },
  {
   "cell_type": "code",
   "execution_count": 97,
   "id": "ede28947",
   "metadata": {},
   "outputs": [],
   "source": [
    "kn_param_grid = {\n",
    "    'n_neighbors' : [1, 2, 3, 4, 5, 6, 7, 8, 9, 10, 11, 12, 13, 14, 15, 16, 17, 18, 19, 20, 21, 22, 23, 24, 25, 26, 27, 28, 29, 30],\n",
    "    'weights' : ['uniform', 'distance'],\n",
    "    'algorithm' : ['auto', 'ball_tree', 'kd_tree', 'brute']\n",
    "}"
   ]
  },
  {
   "cell_type": "code",
   "execution_count": 98,
   "id": "a2bfead1",
   "metadata": {},
   "outputs": [],
   "source": [
    "knn = KNeighborsClassifier()"
   ]
  },
  {
   "cell_type": "code",
   "execution_count": 99,
   "id": "969ebd1e",
   "metadata": {},
   "outputs": [],
   "source": [
    "kn_grid = GridSearchCV(knn, kn_param_grid, verbose=3, cv= 5, scoring='accuracy')"
   ]
  },
  {
   "cell_type": "code",
   "execution_count": 100,
   "id": "426168f3",
   "metadata": {},
   "outputs": [
    {
     "name": "stdout",
     "output_type": "stream",
     "text": [
      "Fitting 5 folds for each of 240 candidates, totalling 1200 fits\n",
      "[CV 1/5] END algorithm=auto, n_neighbors=1, weights=uniform;, score=0.731 total time=   0.2s\n",
      "[CV 2/5] END algorithm=auto, n_neighbors=1, weights=uniform;, score=0.857 total time=   0.2s\n",
      "[CV 3/5] END algorithm=auto, n_neighbors=1, weights=uniform;, score=0.901 total time=   0.2s\n",
      "[CV 4/5] END algorithm=auto, n_neighbors=1, weights=uniform;, score=0.891 total time=   0.1s\n",
      "[CV 5/5] END algorithm=auto, n_neighbors=1, weights=uniform;, score=0.886 total time=   0.2s\n",
      "[CV 1/5] END algorithm=auto, n_neighbors=1, weights=distance;, score=0.731 total time=   0.1s\n",
      "[CV 2/5] END algorithm=auto, n_neighbors=1, weights=distance;, score=0.857 total time=   0.1s\n",
      "[CV 3/5] END algorithm=auto, n_neighbors=1, weights=distance;, score=0.901 total time=   0.1s\n",
      "[CV 4/5] END algorithm=auto, n_neighbors=1, weights=distance;, score=0.891 total time=   0.0s\n",
      "[CV 5/5] END algorithm=auto, n_neighbors=1, weights=distance;, score=0.886 total time=   0.1s\n",
      "[CV 1/5] END algorithm=auto, n_neighbors=2, weights=uniform;, score=0.677 total time=   0.2s\n",
      "[CV 2/5] END algorithm=auto, n_neighbors=2, weights=uniform;, score=0.840 total time=   0.2s\n",
      "[CV 3/5] END algorithm=auto, n_neighbors=2, weights=uniform;, score=0.909 total time=   0.2s\n",
      "[CV 4/5] END algorithm=auto, n_neighbors=2, weights=uniform;, score=0.905 total time=   0.2s\n",
      "[CV 5/5] END algorithm=auto, n_neighbors=2, weights=uniform;, score=0.900 total time=   0.2s\n",
      "[CV 1/5] END algorithm=auto, n_neighbors=2, weights=distance;, score=0.731 total time=   0.1s\n",
      "[CV 2/5] END algorithm=auto, n_neighbors=2, weights=distance;, score=0.857 total time=   0.1s\n",
      "[CV 3/5] END algorithm=auto, n_neighbors=2, weights=distance;, score=0.901 total time=   0.1s\n",
      "[CV 4/5] END algorithm=auto, n_neighbors=2, weights=distance;, score=0.891 total time=   0.1s\n",
      "[CV 5/5] END algorithm=auto, n_neighbors=2, weights=distance;, score=0.886 total time=   0.1s\n",
      "[CV 1/5] END algorithm=auto, n_neighbors=3, weights=uniform;, score=0.724 total time=   0.2s\n",
      "[CV 2/5] END algorithm=auto, n_neighbors=3, weights=uniform;, score=0.859 total time=   0.2s\n",
      "[CV 3/5] END algorithm=auto, n_neighbors=3, weights=uniform;, score=0.904 total time=   0.2s\n",
      "[CV 4/5] END algorithm=auto, n_neighbors=3, weights=uniform;, score=0.890 total time=   0.2s\n",
      "[CV 5/5] END algorithm=auto, n_neighbors=3, weights=uniform;, score=0.889 total time=   0.2s\n",
      "[CV 1/5] END algorithm=auto, n_neighbors=3, weights=distance;, score=0.736 total time=   0.1s\n",
      "[CV 2/5] END algorithm=auto, n_neighbors=3, weights=distance;, score=0.863 total time=   0.2s\n",
      "[CV 3/5] END algorithm=auto, n_neighbors=3, weights=distance;, score=0.913 total time=   0.1s\n",
      "[CV 4/5] END algorithm=auto, n_neighbors=3, weights=distance;, score=0.894 total time=   0.1s\n",
      "[CV 5/5] END algorithm=auto, n_neighbors=3, weights=distance;, score=0.892 total time=   0.1s\n",
      "[CV 1/5] END algorithm=auto, n_neighbors=4, weights=uniform;, score=0.699 total time=   0.2s\n",
      "[CV 2/5] END algorithm=auto, n_neighbors=4, weights=uniform;, score=0.845 total time=   0.2s\n",
      "[CV 3/5] END algorithm=auto, n_neighbors=4, weights=uniform;, score=0.913 total time=   0.2s\n",
      "[CV 4/5] END algorithm=auto, n_neighbors=4, weights=uniform;, score=0.898 total time=   0.2s\n",
      "[CV 5/5] END algorithm=auto, n_neighbors=4, weights=uniform;, score=0.902 total time=   0.2s\n",
      "[CV 1/5] END algorithm=auto, n_neighbors=4, weights=distance;, score=0.732 total time=   0.1s\n",
      "[CV 2/5] END algorithm=auto, n_neighbors=4, weights=distance;, score=0.863 total time=   0.2s\n",
      "[CV 3/5] END algorithm=auto, n_neighbors=4, weights=distance;, score=0.915 total time=   0.2s\n",
      "[CV 4/5] END algorithm=auto, n_neighbors=4, weights=distance;, score=0.899 total time=   0.1s\n",
      "[CV 5/5] END algorithm=auto, n_neighbors=4, weights=distance;, score=0.894 total time=   0.1s\n",
      "[CV 1/5] END algorithm=auto, n_neighbors=5, weights=uniform;, score=0.726 total time=   0.2s\n",
      "[CV 2/5] END algorithm=auto, n_neighbors=5, weights=uniform;, score=0.855 total time=   0.2s\n",
      "[CV 3/5] END algorithm=auto, n_neighbors=5, weights=uniform;, score=0.911 total time=   0.2s\n",
      "[CV 4/5] END algorithm=auto, n_neighbors=5, weights=uniform;, score=0.890 total time=   0.2s\n",
      "[CV 5/5] END algorithm=auto, n_neighbors=5, weights=uniform;, score=0.890 total time=   0.2s\n",
      "[CV 1/5] END algorithm=auto, n_neighbors=5, weights=distance;, score=0.738 total time=   0.2s\n",
      "[CV 2/5] END algorithm=auto, n_neighbors=5, weights=distance;, score=0.862 total time=   0.2s\n",
      "[CV 3/5] END algorithm=auto, n_neighbors=5, weights=distance;, score=0.919 total time=   0.2s\n",
      "[CV 4/5] END algorithm=auto, n_neighbors=5, weights=distance;, score=0.899 total time=   0.2s\n",
      "[CV 5/5] END algorithm=auto, n_neighbors=5, weights=distance;, score=0.896 total time=   0.2s\n",
      "[CV 1/5] END algorithm=auto, n_neighbors=6, weights=uniform;, score=0.703 total time=   0.2s\n",
      "[CV 2/5] END algorithm=auto, n_neighbors=6, weights=uniform;, score=0.852 total time=   0.2s\n",
      "[CV 3/5] END algorithm=auto, n_neighbors=6, weights=uniform;, score=0.904 total time=   0.2s\n",
      "[CV 4/5] END algorithm=auto, n_neighbors=6, weights=uniform;, score=0.895 total time=   0.2s\n",
      "[CV 5/5] END algorithm=auto, n_neighbors=6, weights=uniform;, score=0.894 total time=   0.2s\n",
      "[CV 1/5] END algorithm=auto, n_neighbors=6, weights=distance;, score=0.735 total time=   0.2s\n",
      "[CV 2/5] END algorithm=auto, n_neighbors=6, weights=distance;, score=0.868 total time=   0.2s\n",
      "[CV 3/5] END algorithm=auto, n_neighbors=6, weights=distance;, score=0.919 total time=   0.2s\n",
      "[CV 4/5] END algorithm=auto, n_neighbors=6, weights=distance;, score=0.903 total time=   0.2s\n",
      "[CV 5/5] END algorithm=auto, n_neighbors=6, weights=distance;, score=0.900 total time=   0.2s\n",
      "[CV 1/5] END algorithm=auto, n_neighbors=7, weights=uniform;, score=0.725 total time=   0.2s\n",
      "[CV 2/5] END algorithm=auto, n_neighbors=7, weights=uniform;, score=0.860 total time=   0.3s\n",
      "[CV 3/5] END algorithm=auto, n_neighbors=7, weights=uniform;, score=0.899 total time=   0.2s\n",
      "[CV 4/5] END algorithm=auto, n_neighbors=7, weights=uniform;, score=0.893 total time=   0.3s\n",
      "[CV 5/5] END algorithm=auto, n_neighbors=7, weights=uniform;, score=0.896 total time=   0.2s\n",
      "[CV 1/5] END algorithm=auto, n_neighbors=7, weights=distance;, score=0.735 total time=   0.2s\n",
      "[CV 2/5] END algorithm=auto, n_neighbors=7, weights=distance;, score=0.868 total time=   0.2s\n",
      "[CV 3/5] END algorithm=auto, n_neighbors=7, weights=distance;, score=0.911 total time=   0.2s\n",
      "[CV 4/5] END algorithm=auto, n_neighbors=7, weights=distance;, score=0.899 total time=   0.2s\n",
      "[CV 5/5] END algorithm=auto, n_neighbors=7, weights=distance;, score=0.903 total time=   0.2s\n",
      "[CV 1/5] END algorithm=auto, n_neighbors=8, weights=uniform;, score=0.708 total time=   0.3s\n",
      "[CV 2/5] END algorithm=auto, n_neighbors=8, weights=uniform;, score=0.859 total time=   0.3s\n",
      "[CV 3/5] END algorithm=auto, n_neighbors=8, weights=uniform;, score=0.902 total time=   0.3s\n",
      "[CV 4/5] END algorithm=auto, n_neighbors=8, weights=uniform;, score=0.894 total time=   0.3s\n",
      "[CV 5/5] END algorithm=auto, n_neighbors=8, weights=uniform;, score=0.899 total time=   0.3s\n",
      "[CV 1/5] END algorithm=auto, n_neighbors=8, weights=distance;, score=0.737 total time=   0.2s\n",
      "[CV 2/5] END algorithm=auto, n_neighbors=8, weights=distance;, score=0.869 total time=   0.2s\n",
      "[CV 3/5] END algorithm=auto, n_neighbors=8, weights=distance;, score=0.909 total time=   0.3s\n",
      "[CV 4/5] END algorithm=auto, n_neighbors=8, weights=distance;, score=0.904 total time=   0.3s\n",
      "[CV 5/5] END algorithm=auto, n_neighbors=8, weights=distance;, score=0.903 total time=   0.2s\n",
      "[CV 1/5] END algorithm=auto, n_neighbors=9, weights=uniform;, score=0.733 total time=   0.3s\n",
      "[CV 2/5] END algorithm=auto, n_neighbors=9, weights=uniform;, score=0.858 total time=   0.3s\n",
      "[CV 3/5] END algorithm=auto, n_neighbors=9, weights=uniform;, score=0.892 total time=   0.3s\n",
      "[CV 4/5] END algorithm=auto, n_neighbors=9, weights=uniform;, score=0.887 total time=   0.3s\n",
      "[CV 5/5] END algorithm=auto, n_neighbors=9, weights=uniform;, score=0.892 total time=   0.3s\n",
      "[CV 1/5] END algorithm=auto, n_neighbors=9, weights=distance;, score=0.744 total time=   0.2s\n",
      "[CV 2/5] END algorithm=auto, n_neighbors=9, weights=distance;, score=0.865 total time=   0.2s\n"
     ]
    },
    {
     "name": "stdout",
     "output_type": "stream",
     "text": [
      "[CV 3/5] END algorithm=auto, n_neighbors=9, weights=distance;, score=0.901 total time=   0.2s\n",
      "[CV 4/5] END algorithm=auto, n_neighbors=9, weights=distance;, score=0.899 total time=   0.2s\n",
      "[CV 5/5] END algorithm=auto, n_neighbors=9, weights=distance;, score=0.899 total time=   0.2s\n",
      "[CV 1/5] END algorithm=auto, n_neighbors=10, weights=uniform;, score=0.711 total time=   0.3s\n",
      "[CV 2/5] END algorithm=auto, n_neighbors=10, weights=uniform;, score=0.863 total time=   0.3s\n",
      "[CV 3/5] END algorithm=auto, n_neighbors=10, weights=uniform;, score=0.894 total time=   0.3s\n",
      "[CV 4/5] END algorithm=auto, n_neighbors=10, weights=uniform;, score=0.892 total time=   0.3s\n",
      "[CV 5/5] END algorithm=auto, n_neighbors=10, weights=uniform;, score=0.896 total time=   0.3s\n",
      "[CV 1/5] END algorithm=auto, n_neighbors=10, weights=distance;, score=0.738 total time=   0.2s\n",
      "[CV 2/5] END algorithm=auto, n_neighbors=10, weights=distance;, score=0.867 total time=   0.2s\n",
      "[CV 3/5] END algorithm=auto, n_neighbors=10, weights=distance;, score=0.907 total time=   0.2s\n",
      "[CV 4/5] END algorithm=auto, n_neighbors=10, weights=distance;, score=0.900 total time=   0.2s\n",
      "[CV 5/5] END algorithm=auto, n_neighbors=10, weights=distance;, score=0.907 total time=   0.2s\n",
      "[CV 1/5] END algorithm=auto, n_neighbors=11, weights=uniform;, score=0.725 total time=   0.3s\n",
      "[CV 2/5] END algorithm=auto, n_neighbors=11, weights=uniform;, score=0.861 total time=   0.3s\n",
      "[CV 3/5] END algorithm=auto, n_neighbors=11, weights=uniform;, score=0.889 total time=   0.3s\n",
      "[CV 4/5] END algorithm=auto, n_neighbors=11, weights=uniform;, score=0.886 total time=   0.3s\n",
      "[CV 5/5] END algorithm=auto, n_neighbors=11, weights=uniform;, score=0.891 total time=   0.3s\n",
      "[CV 1/5] END algorithm=auto, n_neighbors=11, weights=distance;, score=0.736 total time=   0.2s\n",
      "[CV 2/5] END algorithm=auto, n_neighbors=11, weights=distance;, score=0.868 total time=   0.2s\n",
      "[CV 3/5] END algorithm=auto, n_neighbors=11, weights=distance;, score=0.900 total time=   0.2s\n",
      "[CV 4/5] END algorithm=auto, n_neighbors=11, weights=distance;, score=0.899 total time=   0.2s\n",
      "[CV 5/5] END algorithm=auto, n_neighbors=11, weights=distance;, score=0.901 total time=   0.2s\n",
      "[CV 1/5] END algorithm=auto, n_neighbors=12, weights=uniform;, score=0.714 total time=   0.3s\n",
      "[CV 2/5] END algorithm=auto, n_neighbors=12, weights=uniform;, score=0.863 total time=   0.3s\n",
      "[CV 3/5] END algorithm=auto, n_neighbors=12, weights=uniform;, score=0.891 total time=   0.3s\n",
      "[CV 4/5] END algorithm=auto, n_neighbors=12, weights=uniform;, score=0.893 total time=   0.3s\n",
      "[CV 5/5] END algorithm=auto, n_neighbors=12, weights=uniform;, score=0.898 total time=   0.3s\n",
      "[CV 1/5] END algorithm=auto, n_neighbors=12, weights=distance;, score=0.734 total time=   0.2s\n",
      "[CV 2/5] END algorithm=auto, n_neighbors=12, weights=distance;, score=0.871 total time=   0.2s\n",
      "[CV 3/5] END algorithm=auto, n_neighbors=12, weights=distance;, score=0.902 total time=   0.2s\n",
      "[CV 4/5] END algorithm=auto, n_neighbors=12, weights=distance;, score=0.902 total time=   0.2s\n",
      "[CV 5/5] END algorithm=auto, n_neighbors=12, weights=distance;, score=0.906 total time=   0.2s\n",
      "[CV 1/5] END algorithm=auto, n_neighbors=13, weights=uniform;, score=0.725 total time=   0.3s\n",
      "[CV 2/5] END algorithm=auto, n_neighbors=13, weights=uniform;, score=0.862 total time=   0.3s\n",
      "[CV 3/5] END algorithm=auto, n_neighbors=13, weights=uniform;, score=0.887 total time=   0.3s\n",
      "[CV 4/5] END algorithm=auto, n_neighbors=13, weights=uniform;, score=0.884 total time=   0.3s\n",
      "[CV 5/5] END algorithm=auto, n_neighbors=13, weights=uniform;, score=0.895 total time=   0.3s\n",
      "[CV 1/5] END algorithm=auto, n_neighbors=13, weights=distance;, score=0.736 total time=   0.2s\n",
      "[CV 2/5] END algorithm=auto, n_neighbors=13, weights=distance;, score=0.868 total time=   0.2s\n",
      "[CV 3/5] END algorithm=auto, n_neighbors=13, weights=distance;, score=0.900 total time=   0.2s\n",
      "[CV 4/5] END algorithm=auto, n_neighbors=13, weights=distance;, score=0.896 total time=   0.2s\n",
      "[CV 5/5] END algorithm=auto, n_neighbors=13, weights=distance;, score=0.905 total time=   0.2s\n",
      "[CV 1/5] END algorithm=auto, n_neighbors=14, weights=uniform;, score=0.712 total time=   0.3s\n",
      "[CV 2/5] END algorithm=auto, n_neighbors=14, weights=uniform;, score=0.861 total time=   0.3s\n",
      "[CV 3/5] END algorithm=auto, n_neighbors=14, weights=uniform;, score=0.887 total time=   0.3s\n",
      "[CV 4/5] END algorithm=auto, n_neighbors=14, weights=uniform;, score=0.890 total time=   0.3s\n",
      "[CV 5/5] END algorithm=auto, n_neighbors=14, weights=uniform;, score=0.899 total time=   0.3s\n",
      "[CV 1/5] END algorithm=auto, n_neighbors=14, weights=distance;, score=0.730 total time=   0.2s\n",
      "[CV 2/5] END algorithm=auto, n_neighbors=14, weights=distance;, score=0.868 total time=   0.2s\n",
      "[CV 3/5] END algorithm=auto, n_neighbors=14, weights=distance;, score=0.904 total time=   0.2s\n",
      "[CV 4/5] END algorithm=auto, n_neighbors=14, weights=distance;, score=0.897 total time=   0.2s\n",
      "[CV 5/5] END algorithm=auto, n_neighbors=14, weights=distance;, score=0.905 total time=   0.2s\n",
      "[CV 1/5] END algorithm=auto, n_neighbors=15, weights=uniform;, score=0.724 total time=   0.3s\n",
      "[CV 2/5] END algorithm=auto, n_neighbors=15, weights=uniform;, score=0.861 total time=   0.3s\n",
      "[CV 3/5] END algorithm=auto, n_neighbors=15, weights=uniform;, score=0.887 total time=   0.3s\n",
      "[CV 4/5] END algorithm=auto, n_neighbors=15, weights=uniform;, score=0.882 total time=   0.3s\n",
      "[CV 5/5] END algorithm=auto, n_neighbors=15, weights=uniform;, score=0.892 total time=   0.3s\n",
      "[CV 1/5] END algorithm=auto, n_neighbors=15, weights=distance;, score=0.731 total time=   0.2s\n",
      "[CV 2/5] END algorithm=auto, n_neighbors=15, weights=distance;, score=0.866 total time=   0.3s\n",
      "[CV 3/5] END algorithm=auto, n_neighbors=15, weights=distance;, score=0.902 total time=   0.2s\n",
      "[CV 4/5] END algorithm=auto, n_neighbors=15, weights=distance;, score=0.894 total time=   0.3s\n",
      "[CV 5/5] END algorithm=auto, n_neighbors=15, weights=distance;, score=0.904 total time=   0.3s\n",
      "[CV 1/5] END algorithm=auto, n_neighbors=16, weights=uniform;, score=0.715 total time=   0.3s\n",
      "[CV 2/5] END algorithm=auto, n_neighbors=16, weights=uniform;, score=0.861 total time=   0.3s\n",
      "[CV 3/5] END algorithm=auto, n_neighbors=16, weights=uniform;, score=0.891 total time=   0.3s\n",
      "[CV 4/5] END algorithm=auto, n_neighbors=16, weights=uniform;, score=0.890 total time=   0.3s\n",
      "[CV 5/5] END algorithm=auto, n_neighbors=16, weights=uniform;, score=0.898 total time=   0.3s\n",
      "[CV 1/5] END algorithm=auto, n_neighbors=16, weights=distance;, score=0.730 total time=   0.3s\n",
      "[CV 2/5] END algorithm=auto, n_neighbors=16, weights=distance;, score=0.872 total time=   0.3s\n",
      "[CV 3/5] END algorithm=auto, n_neighbors=16, weights=distance;, score=0.902 total time=   0.2s\n",
      "[CV 4/5] END algorithm=auto, n_neighbors=16, weights=distance;, score=0.900 total time=   0.3s\n",
      "[CV 5/5] END algorithm=auto, n_neighbors=16, weights=distance;, score=0.903 total time=   0.3s\n",
      "[CV 1/5] END algorithm=auto, n_neighbors=17, weights=uniform;, score=0.722 total time=   0.3s\n",
      "[CV 2/5] END algorithm=auto, n_neighbors=17, weights=uniform;, score=0.859 total time=   0.3s\n",
      "[CV 3/5] END algorithm=auto, n_neighbors=17, weights=uniform;, score=0.885 total time=   0.3s\n",
      "[CV 4/5] END algorithm=auto, n_neighbors=17, weights=uniform;, score=0.881 total time=   0.3s\n",
      "[CV 5/5] END algorithm=auto, n_neighbors=17, weights=uniform;, score=0.893 total time=   0.3s\n",
      "[CV 1/5] END algorithm=auto, n_neighbors=17, weights=distance;, score=0.730 total time=   0.3s\n",
      "[CV 2/5] END algorithm=auto, n_neighbors=17, weights=distance;, score=0.871 total time=   0.3s\n",
      "[CV 3/5] END algorithm=auto, n_neighbors=17, weights=distance;, score=0.899 total time=   0.3s\n",
      "[CV 4/5] END algorithm=auto, n_neighbors=17, weights=distance;, score=0.893 total time=   0.3s\n",
      "[CV 5/5] END algorithm=auto, n_neighbors=17, weights=distance;, score=0.904 total time=   0.3s\n",
      "[CV 1/5] END algorithm=auto, n_neighbors=18, weights=uniform;, score=0.718 total time=   0.4s\n",
      "[CV 2/5] END algorithm=auto, n_neighbors=18, weights=uniform;, score=0.859 total time=   0.3s\n",
      "[CV 3/5] END algorithm=auto, n_neighbors=18, weights=uniform;, score=0.891 total time=   0.3s\n",
      "[CV 4/5] END algorithm=auto, n_neighbors=18, weights=uniform;, score=0.880 total time=   0.3s\n"
     ]
    },
    {
     "name": "stdout",
     "output_type": "stream",
     "text": [
      "[CV 5/5] END algorithm=auto, n_neighbors=18, weights=uniform;, score=0.898 total time=   0.3s\n",
      "[CV 1/5] END algorithm=auto, n_neighbors=18, weights=distance;, score=0.731 total time=   0.3s\n",
      "[CV 2/5] END algorithm=auto, n_neighbors=18, weights=distance;, score=0.871 total time=   0.3s\n",
      "[CV 3/5] END algorithm=auto, n_neighbors=18, weights=distance;, score=0.897 total time=   0.5s\n",
      "[CV 4/5] END algorithm=auto, n_neighbors=18, weights=distance;, score=0.894 total time=   0.3s\n",
      "[CV 5/5] END algorithm=auto, n_neighbors=18, weights=distance;, score=0.902 total time=   0.3s\n",
      "[CV 1/5] END algorithm=auto, n_neighbors=19, weights=uniform;, score=0.728 total time=   0.3s\n",
      "[CV 2/5] END algorithm=auto, n_neighbors=19, weights=uniform;, score=0.859 total time=   0.3s\n",
      "[CV 3/5] END algorithm=auto, n_neighbors=19, weights=uniform;, score=0.885 total time=   0.3s\n",
      "[CV 4/5] END algorithm=auto, n_neighbors=19, weights=uniform;, score=0.877 total time=   0.3s\n",
      "[CV 5/5] END algorithm=auto, n_neighbors=19, weights=uniform;, score=0.893 total time=   0.3s\n",
      "[CV 1/5] END algorithm=auto, n_neighbors=19, weights=distance;, score=0.733 total time=   0.3s\n",
      "[CV 2/5] END algorithm=auto, n_neighbors=19, weights=distance;, score=0.868 total time=   0.3s\n",
      "[CV 3/5] END algorithm=auto, n_neighbors=19, weights=distance;, score=0.896 total time=   0.3s\n",
      "[CV 4/5] END algorithm=auto, n_neighbors=19, weights=distance;, score=0.888 total time=   0.3s\n",
      "[CV 5/5] END algorithm=auto, n_neighbors=19, weights=distance;, score=0.905 total time=   0.3s\n",
      "[CV 1/5] END algorithm=auto, n_neighbors=20, weights=uniform;, score=0.717 total time=   0.3s\n",
      "[CV 2/5] END algorithm=auto, n_neighbors=20, weights=uniform;, score=0.859 total time=   0.3s\n",
      "[CV 3/5] END algorithm=auto, n_neighbors=20, weights=uniform;, score=0.891 total time=   0.3s\n",
      "[CV 4/5] END algorithm=auto, n_neighbors=20, weights=uniform;, score=0.882 total time=   0.4s\n",
      "[CV 5/5] END algorithm=auto, n_neighbors=20, weights=uniform;, score=0.894 total time=   0.3s\n",
      "[CV 1/5] END algorithm=auto, n_neighbors=20, weights=distance;, score=0.733 total time=   0.4s\n",
      "[CV 2/5] END algorithm=auto, n_neighbors=20, weights=distance;, score=0.864 total time=   0.3s\n",
      "[CV 3/5] END algorithm=auto, n_neighbors=20, weights=distance;, score=0.897 total time=   0.3s\n",
      "[CV 4/5] END algorithm=auto, n_neighbors=20, weights=distance;, score=0.892 total time=   0.3s\n",
      "[CV 5/5] END algorithm=auto, n_neighbors=20, weights=distance;, score=0.899 total time=   0.4s\n",
      "[CV 1/5] END algorithm=auto, n_neighbors=21, weights=uniform;, score=0.728 total time=   0.4s\n",
      "[CV 2/5] END algorithm=auto, n_neighbors=21, weights=uniform;, score=0.860 total time=   0.4s\n",
      "[CV 3/5] END algorithm=auto, n_neighbors=21, weights=uniform;, score=0.886 total time=   0.3s\n",
      "[CV 4/5] END algorithm=auto, n_neighbors=21, weights=uniform;, score=0.882 total time=   0.4s\n",
      "[CV 5/5] END algorithm=auto, n_neighbors=21, weights=uniform;, score=0.889 total time=   0.3s\n",
      "[CV 1/5] END algorithm=auto, n_neighbors=21, weights=distance;, score=0.735 total time=   0.3s\n",
      "[CV 2/5] END algorithm=auto, n_neighbors=21, weights=distance;, score=0.865 total time=   0.3s\n",
      "[CV 3/5] END algorithm=auto, n_neighbors=21, weights=distance;, score=0.898 total time=   0.3s\n",
      "[CV 4/5] END algorithm=auto, n_neighbors=21, weights=distance;, score=0.892 total time=   0.3s\n",
      "[CV 5/5] END algorithm=auto, n_neighbors=21, weights=distance;, score=0.899 total time=   0.3s\n",
      "[CV 1/5] END algorithm=auto, n_neighbors=22, weights=uniform;, score=0.719 total time=   0.3s\n",
      "[CV 2/5] END algorithm=auto, n_neighbors=22, weights=uniform;, score=0.859 total time=   0.4s\n",
      "[CV 3/5] END algorithm=auto, n_neighbors=22, weights=uniform;, score=0.887 total time=   0.4s\n",
      "[CV 4/5] END algorithm=auto, n_neighbors=22, weights=uniform;, score=0.882 total time=   0.4s\n",
      "[CV 5/5] END algorithm=auto, n_neighbors=22, weights=uniform;, score=0.888 total time=   0.4s\n",
      "[CV 1/5] END algorithm=auto, n_neighbors=22, weights=distance;, score=0.736 total time=   0.3s\n",
      "[CV 2/5] END algorithm=auto, n_neighbors=22, weights=distance;, score=0.863 total time=   0.3s\n",
      "[CV 3/5] END algorithm=auto, n_neighbors=22, weights=distance;, score=0.895 total time=   0.3s\n",
      "[CV 4/5] END algorithm=auto, n_neighbors=22, weights=distance;, score=0.894 total time=   0.3s\n",
      "[CV 5/5] END algorithm=auto, n_neighbors=22, weights=distance;, score=0.897 total time=   0.3s\n",
      "[CV 1/5] END algorithm=auto, n_neighbors=23, weights=uniform;, score=0.729 total time=   0.3s\n",
      "[CV 2/5] END algorithm=auto, n_neighbors=23, weights=uniform;, score=0.859 total time=   0.3s\n",
      "[CV 3/5] END algorithm=auto, n_neighbors=23, weights=uniform;, score=0.883 total time=   0.3s\n",
      "[CV 4/5] END algorithm=auto, n_neighbors=23, weights=uniform;, score=0.885 total time=   0.3s\n",
      "[CV 5/5] END algorithm=auto, n_neighbors=23, weights=uniform;, score=0.887 total time=   0.4s\n",
      "[CV 1/5] END algorithm=auto, n_neighbors=23, weights=distance;, score=0.736 total time=   0.3s\n",
      "[CV 2/5] END algorithm=auto, n_neighbors=23, weights=distance;, score=0.866 total time=   0.3s\n",
      "[CV 3/5] END algorithm=auto, n_neighbors=23, weights=distance;, score=0.893 total time=   0.3s\n",
      "[CV 4/5] END algorithm=auto, n_neighbors=23, weights=distance;, score=0.893 total time=   0.3s\n",
      "[CV 5/5] END algorithm=auto, n_neighbors=23, weights=distance;, score=0.901 total time=   0.3s\n",
      "[CV 1/5] END algorithm=auto, n_neighbors=24, weights=uniform;, score=0.724 total time=   0.3s\n",
      "[CV 2/5] END algorithm=auto, n_neighbors=24, weights=uniform;, score=0.856 total time=   0.4s\n",
      "[CV 3/5] END algorithm=auto, n_neighbors=24, weights=uniform;, score=0.883 total time=   0.4s\n",
      "[CV 4/5] END algorithm=auto, n_neighbors=24, weights=uniform;, score=0.885 total time=   0.4s\n",
      "[CV 5/5] END algorithm=auto, n_neighbors=24, weights=uniform;, score=0.891 total time=   0.4s\n",
      "[CV 1/5] END algorithm=auto, n_neighbors=24, weights=distance;, score=0.735 total time=   0.3s\n",
      "[CV 2/5] END algorithm=auto, n_neighbors=24, weights=distance;, score=0.867 total time=   0.3s\n",
      "[CV 3/5] END algorithm=auto, n_neighbors=24, weights=distance;, score=0.894 total time=   0.3s\n",
      "[CV 4/5] END algorithm=auto, n_neighbors=24, weights=distance;, score=0.893 total time=   0.3s\n",
      "[CV 5/5] END algorithm=auto, n_neighbors=24, weights=distance;, score=0.899 total time=   0.3s\n",
      "[CV 1/5] END algorithm=auto, n_neighbors=25, weights=uniform;, score=0.728 total time=   0.4s\n",
      "[CV 2/5] END algorithm=auto, n_neighbors=25, weights=uniform;, score=0.859 total time=   0.4s\n",
      "[CV 3/5] END algorithm=auto, n_neighbors=25, weights=uniform;, score=0.881 total time=   0.4s\n",
      "[CV 4/5] END algorithm=auto, n_neighbors=25, weights=uniform;, score=0.882 total time=   0.4s\n",
      "[CV 5/5] END algorithm=auto, n_neighbors=25, weights=uniform;, score=0.887 total time=   0.4s\n",
      "[CV 1/5] END algorithm=auto, n_neighbors=25, weights=distance;, score=0.734 total time=   0.3s\n",
      "[CV 2/5] END algorithm=auto, n_neighbors=25, weights=distance;, score=0.868 total time=   0.3s\n",
      "[CV 3/5] END algorithm=auto, n_neighbors=25, weights=distance;, score=0.897 total time=   0.3s\n",
      "[CV 4/5] END algorithm=auto, n_neighbors=25, weights=distance;, score=0.890 total time=   0.3s\n",
      "[CV 5/5] END algorithm=auto, n_neighbors=25, weights=distance;, score=0.899 total time=   0.3s\n",
      "[CV 1/5] END algorithm=auto, n_neighbors=26, weights=uniform;, score=0.721 total time=   0.4s\n",
      "[CV 2/5] END algorithm=auto, n_neighbors=26, weights=uniform;, score=0.857 total time=   0.4s\n",
      "[CV 3/5] END algorithm=auto, n_neighbors=26, weights=uniform;, score=0.886 total time=   0.4s\n",
      "[CV 4/5] END algorithm=auto, n_neighbors=26, weights=uniform;, score=0.884 total time=   0.4s\n",
      "[CV 5/5] END algorithm=auto, n_neighbors=26, weights=uniform;, score=0.892 total time=   0.4s\n",
      "[CV 1/5] END algorithm=auto, n_neighbors=26, weights=distance;, score=0.738 total time=   0.3s\n",
      "[CV 2/5] END algorithm=auto, n_neighbors=26, weights=distance;, score=0.867 total time=   0.3s\n",
      "[CV 3/5] END algorithm=auto, n_neighbors=26, weights=distance;, score=0.894 total time=   0.3s\n",
      "[CV 4/5] END algorithm=auto, n_neighbors=26, weights=distance;, score=0.891 total time=   0.3s\n",
      "[CV 5/5] END algorithm=auto, n_neighbors=26, weights=distance;, score=0.898 total time=   0.3s\n",
      "[CV 1/5] END algorithm=auto, n_neighbors=27, weights=uniform;, score=0.728 total time=   0.4s\n"
     ]
    },
    {
     "name": "stdout",
     "output_type": "stream",
     "text": [
      "[CV 2/5] END algorithm=auto, n_neighbors=27, weights=uniform;, score=0.854 total time=   0.4s\n",
      "[CV 3/5] END algorithm=auto, n_neighbors=27, weights=uniform;, score=0.883 total time=   0.4s\n",
      "[CV 4/5] END algorithm=auto, n_neighbors=27, weights=uniform;, score=0.876 total time=   0.4s\n",
      "[CV 5/5] END algorithm=auto, n_neighbors=27, weights=uniform;, score=0.885 total time=   0.4s\n",
      "[CV 1/5] END algorithm=auto, n_neighbors=27, weights=distance;, score=0.737 total time=   0.3s\n",
      "[CV 2/5] END algorithm=auto, n_neighbors=27, weights=distance;, score=0.865 total time=   0.3s\n",
      "[CV 3/5] END algorithm=auto, n_neighbors=27, weights=distance;, score=0.895 total time=   0.3s\n",
      "[CV 4/5] END algorithm=auto, n_neighbors=27, weights=distance;, score=0.888 total time=   0.3s\n",
      "[CV 5/5] END algorithm=auto, n_neighbors=27, weights=distance;, score=0.896 total time=   0.3s\n",
      "[CV 1/5] END algorithm=auto, n_neighbors=28, weights=uniform;, score=0.721 total time=   0.4s\n",
      "[CV 2/5] END algorithm=auto, n_neighbors=28, weights=uniform;, score=0.855 total time=   0.4s\n",
      "[CV 3/5] END algorithm=auto, n_neighbors=28, weights=uniform;, score=0.887 total time=   0.4s\n",
      "[CV 4/5] END algorithm=auto, n_neighbors=28, weights=uniform;, score=0.880 total time=   0.4s\n",
      "[CV 5/5] END algorithm=auto, n_neighbors=28, weights=uniform;, score=0.888 total time=   0.4s\n",
      "[CV 1/5] END algorithm=auto, n_neighbors=28, weights=distance;, score=0.737 total time=   0.3s\n",
      "[CV 2/5] END algorithm=auto, n_neighbors=28, weights=distance;, score=0.863 total time=   0.3s\n",
      "[CV 3/5] END algorithm=auto, n_neighbors=28, weights=distance;, score=0.895 total time=   0.3s\n",
      "[CV 4/5] END algorithm=auto, n_neighbors=28, weights=distance;, score=0.891 total time=   0.3s\n",
      "[CV 5/5] END algorithm=auto, n_neighbors=28, weights=distance;, score=0.896 total time=   0.3s\n",
      "[CV 1/5] END algorithm=auto, n_neighbors=29, weights=uniform;, score=0.728 total time=   0.4s\n",
      "[CV 2/5] END algorithm=auto, n_neighbors=29, weights=uniform;, score=0.859 total time=   0.4s\n",
      "[CV 3/5] END algorithm=auto, n_neighbors=29, weights=uniform;, score=0.881 total time=   0.4s\n",
      "[CV 4/5] END algorithm=auto, n_neighbors=29, weights=uniform;, score=0.877 total time=   0.4s\n",
      "[CV 5/5] END algorithm=auto, n_neighbors=29, weights=uniform;, score=0.887 total time=   0.4s\n",
      "[CV 1/5] END algorithm=auto, n_neighbors=29, weights=distance;, score=0.732 total time=   0.3s\n",
      "[CV 2/5] END algorithm=auto, n_neighbors=29, weights=distance;, score=0.866 total time=   0.3s\n",
      "[CV 3/5] END algorithm=auto, n_neighbors=29, weights=distance;, score=0.895 total time=   0.3s\n",
      "[CV 4/5] END algorithm=auto, n_neighbors=29, weights=distance;, score=0.889 total time=   0.3s\n",
      "[CV 5/5] END algorithm=auto, n_neighbors=29, weights=distance;, score=0.897 total time=   0.3s\n",
      "[CV 1/5] END algorithm=auto, n_neighbors=30, weights=uniform;, score=0.723 total time=   0.4s\n",
      "[CV 2/5] END algorithm=auto, n_neighbors=30, weights=uniform;, score=0.856 total time=   0.4s\n",
      "[CV 3/5] END algorithm=auto, n_neighbors=30, weights=uniform;, score=0.883 total time=   0.4s\n",
      "[CV 4/5] END algorithm=auto, n_neighbors=30, weights=uniform;, score=0.878 total time=   0.4s\n",
      "[CV 5/5] END algorithm=auto, n_neighbors=30, weights=uniform;, score=0.890 total time=   0.4s\n",
      "[CV 1/5] END algorithm=auto, n_neighbors=30, weights=distance;, score=0.733 total time=   0.3s\n",
      "[CV 2/5] END algorithm=auto, n_neighbors=30, weights=distance;, score=0.863 total time=   0.3s\n",
      "[CV 3/5] END algorithm=auto, n_neighbors=30, weights=distance;, score=0.894 total time=   0.3s\n",
      "[CV 4/5] END algorithm=auto, n_neighbors=30, weights=distance;, score=0.888 total time=   0.3s\n",
      "[CV 5/5] END algorithm=auto, n_neighbors=30, weights=distance;, score=0.899 total time=   0.3s\n",
      "[CV 1/5] END algorithm=ball_tree, n_neighbors=1, weights=uniform;, score=0.731 total time=   0.3s\n",
      "[CV 2/5] END algorithm=ball_tree, n_neighbors=1, weights=uniform;, score=0.857 total time=   0.3s\n",
      "[CV 3/5] END algorithm=ball_tree, n_neighbors=1, weights=uniform;, score=0.901 total time=   0.3s\n",
      "[CV 4/5] END algorithm=ball_tree, n_neighbors=1, weights=uniform;, score=0.891 total time=   0.3s\n",
      "[CV 5/5] END algorithm=ball_tree, n_neighbors=1, weights=uniform;, score=0.886 total time=   0.3s\n",
      "[CV 1/5] END algorithm=ball_tree, n_neighbors=1, weights=distance;, score=0.731 total time=   0.2s\n",
      "[CV 2/5] END algorithm=ball_tree, n_neighbors=1, weights=distance;, score=0.857 total time=   0.2s\n",
      "[CV 3/5] END algorithm=ball_tree, n_neighbors=1, weights=distance;, score=0.901 total time=   0.2s\n",
      "[CV 4/5] END algorithm=ball_tree, n_neighbors=1, weights=distance;, score=0.891 total time=   0.2s\n",
      "[CV 5/5] END algorithm=ball_tree, n_neighbors=1, weights=distance;, score=0.886 total time=   0.2s\n",
      "[CV 1/5] END algorithm=ball_tree, n_neighbors=2, weights=uniform;, score=0.677 total time=   0.3s\n",
      "[CV 2/5] END algorithm=ball_tree, n_neighbors=2, weights=uniform;, score=0.840 total time=   0.3s\n",
      "[CV 3/5] END algorithm=ball_tree, n_neighbors=2, weights=uniform;, score=0.909 total time=   0.3s\n",
      "[CV 4/5] END algorithm=ball_tree, n_neighbors=2, weights=uniform;, score=0.905 total time=   0.3s\n",
      "[CV 5/5] END algorithm=ball_tree, n_neighbors=2, weights=uniform;, score=0.900 total time=   0.4s\n",
      "[CV 1/5] END algorithm=ball_tree, n_neighbors=2, weights=distance;, score=0.731 total time=   0.3s\n",
      "[CV 2/5] END algorithm=ball_tree, n_neighbors=2, weights=distance;, score=0.857 total time=   0.3s\n",
      "[CV 3/5] END algorithm=ball_tree, n_neighbors=2, weights=distance;, score=0.901 total time=   0.3s\n",
      "[CV 4/5] END algorithm=ball_tree, n_neighbors=2, weights=distance;, score=0.891 total time=   0.3s\n",
      "[CV 5/5] END algorithm=ball_tree, n_neighbors=2, weights=distance;, score=0.886 total time=   0.3s\n",
      "[CV 1/5] END algorithm=ball_tree, n_neighbors=3, weights=uniform;, score=0.724 total time=   0.3s\n",
      "[CV 2/5] END algorithm=ball_tree, n_neighbors=3, weights=uniform;, score=0.859 total time=   0.4s\n",
      "[CV 3/5] END algorithm=ball_tree, n_neighbors=3, weights=uniform;, score=0.904 total time=   0.4s\n",
      "[CV 4/5] END algorithm=ball_tree, n_neighbors=3, weights=uniform;, score=0.890 total time=   0.4s\n",
      "[CV 5/5] END algorithm=ball_tree, n_neighbors=3, weights=uniform;, score=0.889 total time=   0.4s\n",
      "[CV 1/5] END algorithm=ball_tree, n_neighbors=3, weights=distance;, score=0.736 total time=   0.3s\n",
      "[CV 2/5] END algorithm=ball_tree, n_neighbors=3, weights=distance;, score=0.863 total time=   0.3s\n",
      "[CV 3/5] END algorithm=ball_tree, n_neighbors=3, weights=distance;, score=0.913 total time=   0.3s\n",
      "[CV 4/5] END algorithm=ball_tree, n_neighbors=3, weights=distance;, score=0.894 total time=   0.3s\n",
      "[CV 5/5] END algorithm=ball_tree, n_neighbors=3, weights=distance;, score=0.892 total time=   0.3s\n",
      "[CV 1/5] END algorithm=ball_tree, n_neighbors=4, weights=uniform;, score=0.699 total time=   0.4s\n",
      "[CV 2/5] END algorithm=ball_tree, n_neighbors=4, weights=uniform;, score=0.845 total time=   0.4s\n",
      "[CV 3/5] END algorithm=ball_tree, n_neighbors=4, weights=uniform;, score=0.913 total time=   0.4s\n",
      "[CV 4/5] END algorithm=ball_tree, n_neighbors=4, weights=uniform;, score=0.898 total time=   0.4s\n",
      "[CV 5/5] END algorithm=ball_tree, n_neighbors=4, weights=uniform;, score=0.902 total time=   0.4s\n",
      "[CV 1/5] END algorithm=ball_tree, n_neighbors=4, weights=distance;, score=0.732 total time=   0.3s\n",
      "[CV 2/5] END algorithm=ball_tree, n_neighbors=4, weights=distance;, score=0.863 total time=   0.3s\n",
      "[CV 3/5] END algorithm=ball_tree, n_neighbors=4, weights=distance;, score=0.915 total time=   0.3s\n",
      "[CV 4/5] END algorithm=ball_tree, n_neighbors=4, weights=distance;, score=0.899 total time=   0.4s\n",
      "[CV 5/5] END algorithm=ball_tree, n_neighbors=4, weights=distance;, score=0.894 total time=   0.4s\n",
      "[CV 1/5] END algorithm=ball_tree, n_neighbors=5, weights=uniform;, score=0.726 total time=   0.4s\n",
      "[CV 2/5] END algorithm=ball_tree, n_neighbors=5, weights=uniform;, score=0.855 total time=   0.4s\n",
      "[CV 3/5] END algorithm=ball_tree, n_neighbors=5, weights=uniform;, score=0.911 total time=   0.4s\n",
      "[CV 4/5] END algorithm=ball_tree, n_neighbors=5, weights=uniform;, score=0.890 total time=   0.4s\n",
      "[CV 5/5] END algorithm=ball_tree, n_neighbors=5, weights=uniform;, score=0.890 total time=   0.4s\n",
      "[CV 1/5] END algorithm=ball_tree, n_neighbors=5, weights=distance;, score=0.738 total time=   0.3s\n"
     ]
    },
    {
     "name": "stdout",
     "output_type": "stream",
     "text": [
      "[CV 2/5] END algorithm=ball_tree, n_neighbors=5, weights=distance;, score=0.862 total time=   0.3s\n",
      "[CV 3/5] END algorithm=ball_tree, n_neighbors=5, weights=distance;, score=0.919 total time=   0.3s\n",
      "[CV 4/5] END algorithm=ball_tree, n_neighbors=5, weights=distance;, score=0.899 total time=   0.3s\n",
      "[CV 5/5] END algorithm=ball_tree, n_neighbors=5, weights=distance;, score=0.896 total time=   0.3s\n",
      "[CV 1/5] END algorithm=ball_tree, n_neighbors=6, weights=uniform;, score=0.703 total time=   0.4s\n",
      "[CV 2/5] END algorithm=ball_tree, n_neighbors=6, weights=uniform;, score=0.852 total time=   0.4s\n",
      "[CV 3/5] END algorithm=ball_tree, n_neighbors=6, weights=uniform;, score=0.904 total time=   0.4s\n",
      "[CV 4/5] END algorithm=ball_tree, n_neighbors=6, weights=uniform;, score=0.895 total time=   0.4s\n",
      "[CV 5/5] END algorithm=ball_tree, n_neighbors=6, weights=uniform;, score=0.894 total time=   0.4s\n",
      "[CV 1/5] END algorithm=ball_tree, n_neighbors=6, weights=distance;, score=0.735 total time=   0.3s\n",
      "[CV 2/5] END algorithm=ball_tree, n_neighbors=6, weights=distance;, score=0.868 total time=   0.3s\n",
      "[CV 3/5] END algorithm=ball_tree, n_neighbors=6, weights=distance;, score=0.919 total time=   0.4s\n",
      "[CV 4/5] END algorithm=ball_tree, n_neighbors=6, weights=distance;, score=0.903 total time=   0.3s\n",
      "[CV 5/5] END algorithm=ball_tree, n_neighbors=6, weights=distance;, score=0.900 total time=   0.3s\n",
      "[CV 1/5] END algorithm=ball_tree, n_neighbors=7, weights=uniform;, score=0.725 total time=   0.4s\n",
      "[CV 2/5] END algorithm=ball_tree, n_neighbors=7, weights=uniform;, score=0.860 total time=   0.4s\n",
      "[CV 3/5] END algorithm=ball_tree, n_neighbors=7, weights=uniform;, score=0.899 total time=   0.4s\n",
      "[CV 4/5] END algorithm=ball_tree, n_neighbors=7, weights=uniform;, score=0.893 total time=   0.4s\n",
      "[CV 5/5] END algorithm=ball_tree, n_neighbors=7, weights=uniform;, score=0.896 total time=   0.4s\n",
      "[CV 1/5] END algorithm=ball_tree, n_neighbors=7, weights=distance;, score=0.735 total time=   0.3s\n",
      "[CV 2/5] END algorithm=ball_tree, n_neighbors=7, weights=distance;, score=0.868 total time=   0.4s\n",
      "[CV 3/5] END algorithm=ball_tree, n_neighbors=7, weights=distance;, score=0.911 total time=   0.3s\n",
      "[CV 4/5] END algorithm=ball_tree, n_neighbors=7, weights=distance;, score=0.899 total time=   0.4s\n",
      "[CV 5/5] END algorithm=ball_tree, n_neighbors=7, weights=distance;, score=0.903 total time=   0.3s\n",
      "[CV 1/5] END algorithm=ball_tree, n_neighbors=8, weights=uniform;, score=0.708 total time=   0.4s\n",
      "[CV 2/5] END algorithm=ball_tree, n_neighbors=8, weights=uniform;, score=0.859 total time=   0.4s\n",
      "[CV 3/5] END algorithm=ball_tree, n_neighbors=8, weights=uniform;, score=0.902 total time=   0.4s\n",
      "[CV 4/5] END algorithm=ball_tree, n_neighbors=8, weights=uniform;, score=0.894 total time=   0.4s\n",
      "[CV 5/5] END algorithm=ball_tree, n_neighbors=8, weights=uniform;, score=0.899 total time=   0.4s\n",
      "[CV 1/5] END algorithm=ball_tree, n_neighbors=8, weights=distance;, score=0.737 total time=   0.3s\n",
      "[CV 2/5] END algorithm=ball_tree, n_neighbors=8, weights=distance;, score=0.869 total time=   0.4s\n",
      "[CV 3/5] END algorithm=ball_tree, n_neighbors=8, weights=distance;, score=0.909 total time=   0.4s\n",
      "[CV 4/5] END algorithm=ball_tree, n_neighbors=8, weights=distance;, score=0.904 total time=   0.4s\n",
      "[CV 5/5] END algorithm=ball_tree, n_neighbors=8, weights=distance;, score=0.903 total time=   0.4s\n",
      "[CV 1/5] END algorithm=ball_tree, n_neighbors=9, weights=uniform;, score=0.733 total time=   0.4s\n",
      "[CV 2/5] END algorithm=ball_tree, n_neighbors=9, weights=uniform;, score=0.858 total time=   0.6s\n",
      "[CV 3/5] END algorithm=ball_tree, n_neighbors=9, weights=uniform;, score=0.892 total time=   0.5s\n",
      "[CV 4/5] END algorithm=ball_tree, n_neighbors=9, weights=uniform;, score=0.887 total time=   0.4s\n",
      "[CV 5/5] END algorithm=ball_tree, n_neighbors=9, weights=uniform;, score=0.892 total time=   0.4s\n",
      "[CV 1/5] END algorithm=ball_tree, n_neighbors=9, weights=distance;, score=0.744 total time=   0.3s\n",
      "[CV 2/5] END algorithm=ball_tree, n_neighbors=9, weights=distance;, score=0.865 total time=   0.4s\n",
      "[CV 3/5] END algorithm=ball_tree, n_neighbors=9, weights=distance;, score=0.901 total time=   0.4s\n",
      "[CV 4/5] END algorithm=ball_tree, n_neighbors=9, weights=distance;, score=0.899 total time=   0.4s\n",
      "[CV 5/5] END algorithm=ball_tree, n_neighbors=9, weights=distance;, score=0.899 total time=   0.4s\n",
      "[CV 1/5] END algorithm=ball_tree, n_neighbors=10, weights=uniform;, score=0.711 total time=   0.4s\n",
      "[CV 2/5] END algorithm=ball_tree, n_neighbors=10, weights=uniform;, score=0.863 total time=   0.4s\n",
      "[CV 3/5] END algorithm=ball_tree, n_neighbors=10, weights=uniform;, score=0.894 total time=   0.4s\n",
      "[CV 4/5] END algorithm=ball_tree, n_neighbors=10, weights=uniform;, score=0.892 total time=   0.4s\n",
      "[CV 5/5] END algorithm=ball_tree, n_neighbors=10, weights=uniform;, score=0.896 total time=   0.4s\n",
      "[CV 1/5] END algorithm=ball_tree, n_neighbors=10, weights=distance;, score=0.738 total time=   0.3s\n",
      "[CV 2/5] END algorithm=ball_tree, n_neighbors=10, weights=distance;, score=0.867 total time=   0.4s\n",
      "[CV 3/5] END algorithm=ball_tree, n_neighbors=10, weights=distance;, score=0.907 total time=   0.4s\n",
      "[CV 4/5] END algorithm=ball_tree, n_neighbors=10, weights=distance;, score=0.900 total time=   0.4s\n",
      "[CV 5/5] END algorithm=ball_tree, n_neighbors=10, weights=distance;, score=0.907 total time=   0.4s\n",
      "[CV 1/5] END algorithm=ball_tree, n_neighbors=11, weights=uniform;, score=0.725 total time=   0.4s\n",
      "[CV 2/5] END algorithm=ball_tree, n_neighbors=11, weights=uniform;, score=0.861 total time=   0.4s\n",
      "[CV 3/5] END algorithm=ball_tree, n_neighbors=11, weights=uniform;, score=0.889 total time=   0.4s\n",
      "[CV 4/5] END algorithm=ball_tree, n_neighbors=11, weights=uniform;, score=0.886 total time=   0.4s\n",
      "[CV 5/5] END algorithm=ball_tree, n_neighbors=11, weights=uniform;, score=0.891 total time=   0.4s\n",
      "[CV 1/5] END algorithm=ball_tree, n_neighbors=11, weights=distance;, score=0.736 total time=   0.4s\n",
      "[CV 2/5] END algorithm=ball_tree, n_neighbors=11, weights=distance;, score=0.868 total time=   0.4s\n",
      "[CV 3/5] END algorithm=ball_tree, n_neighbors=11, weights=distance;, score=0.900 total time=   0.4s\n",
      "[CV 4/5] END algorithm=ball_tree, n_neighbors=11, weights=distance;, score=0.899 total time=   0.4s\n",
      "[CV 5/5] END algorithm=ball_tree, n_neighbors=11, weights=distance;, score=0.901 total time=   0.4s\n",
      "[CV 1/5] END algorithm=ball_tree, n_neighbors=12, weights=uniform;, score=0.714 total time=   0.4s\n",
      "[CV 2/5] END algorithm=ball_tree, n_neighbors=12, weights=uniform;, score=0.863 total time=   0.4s\n",
      "[CV 3/5] END algorithm=ball_tree, n_neighbors=12, weights=uniform;, score=0.891 total time=   0.5s\n",
      "[CV 4/5] END algorithm=ball_tree, n_neighbors=12, weights=uniform;, score=0.893 total time=   0.4s\n",
      "[CV 5/5] END algorithm=ball_tree, n_neighbors=12, weights=uniform;, score=0.898 total time=   0.4s\n",
      "[CV 1/5] END algorithm=ball_tree, n_neighbors=12, weights=distance;, score=0.734 total time=   0.4s\n",
      "[CV 2/5] END algorithm=ball_tree, n_neighbors=12, weights=distance;, score=0.871 total time=   0.4s\n",
      "[CV 3/5] END algorithm=ball_tree, n_neighbors=12, weights=distance;, score=0.902 total time=   0.4s\n",
      "[CV 4/5] END algorithm=ball_tree, n_neighbors=12, weights=distance;, score=0.902 total time=   0.4s\n",
      "[CV 5/5] END algorithm=ball_tree, n_neighbors=12, weights=distance;, score=0.906 total time=   0.4s\n",
      "[CV 1/5] END algorithm=ball_tree, n_neighbors=13, weights=uniform;, score=0.725 total time=   0.4s\n",
      "[CV 2/5] END algorithm=ball_tree, n_neighbors=13, weights=uniform;, score=0.862 total time=   0.5s\n",
      "[CV 3/5] END algorithm=ball_tree, n_neighbors=13, weights=uniform;, score=0.887 total time=   0.5s\n",
      "[CV 4/5] END algorithm=ball_tree, n_neighbors=13, weights=uniform;, score=0.884 total time=   0.5s\n",
      "[CV 5/5] END algorithm=ball_tree, n_neighbors=13, weights=uniform;, score=0.895 total time=   0.7s\n",
      "[CV 1/5] END algorithm=ball_tree, n_neighbors=13, weights=distance;, score=0.736 total time=   0.4s\n",
      "[CV 2/5] END algorithm=ball_tree, n_neighbors=13, weights=distance;, score=0.868 total time=   0.7s\n",
      "[CV 3/5] END algorithm=ball_tree, n_neighbors=13, weights=distance;, score=0.900 total time=   0.5s\n",
      "[CV 4/5] END algorithm=ball_tree, n_neighbors=13, weights=distance;, score=0.896 total time=   0.4s\n"
     ]
    },
    {
     "name": "stdout",
     "output_type": "stream",
     "text": [
      "[CV 5/5] END algorithm=ball_tree, n_neighbors=13, weights=distance;, score=0.905 total time=   0.8s\n",
      "[CV 1/5] END algorithm=ball_tree, n_neighbors=14, weights=uniform;, score=0.712 total time=   0.5s\n",
      "[CV 2/5] END algorithm=ball_tree, n_neighbors=14, weights=uniform;, score=0.861 total time=   0.6s\n",
      "[CV 3/5] END algorithm=ball_tree, n_neighbors=14, weights=uniform;, score=0.887 total time=   0.8s\n",
      "[CV 4/5] END algorithm=ball_tree, n_neighbors=14, weights=uniform;, score=0.890 total time=   1.4s\n",
      "[CV 5/5] END algorithm=ball_tree, n_neighbors=14, weights=uniform;, score=0.899 total time=   1.0s\n",
      "[CV 1/5] END algorithm=ball_tree, n_neighbors=14, weights=distance;, score=0.730 total time=   0.9s\n",
      "[CV 2/5] END algorithm=ball_tree, n_neighbors=14, weights=distance;, score=0.868 total time=   0.7s\n",
      "[CV 3/5] END algorithm=ball_tree, n_neighbors=14, weights=distance;, score=0.904 total time=   0.7s\n",
      "[CV 4/5] END algorithm=ball_tree, n_neighbors=14, weights=distance;, score=0.897 total time=   0.8s\n",
      "[CV 5/5] END algorithm=ball_tree, n_neighbors=14, weights=distance;, score=0.905 total time=   0.5s\n",
      "[CV 1/5] END algorithm=ball_tree, n_neighbors=15, weights=uniform;, score=0.724 total time=   0.7s\n",
      "[CV 2/5] END algorithm=ball_tree, n_neighbors=15, weights=uniform;, score=0.861 total time=   0.7s\n",
      "[CV 3/5] END algorithm=ball_tree, n_neighbors=15, weights=uniform;, score=0.887 total time=   0.6s\n",
      "[CV 4/5] END algorithm=ball_tree, n_neighbors=15, weights=uniform;, score=0.882 total time=   0.5s\n",
      "[CV 5/5] END algorithm=ball_tree, n_neighbors=15, weights=uniform;, score=0.892 total time=   0.6s\n",
      "[CV 1/5] END algorithm=ball_tree, n_neighbors=15, weights=distance;, score=0.731 total time=   0.5s\n",
      "[CV 2/5] END algorithm=ball_tree, n_neighbors=15, weights=distance;, score=0.866 total time=   0.4s\n",
      "[CV 3/5] END algorithm=ball_tree, n_neighbors=15, weights=distance;, score=0.902 total time=   0.4s\n",
      "[CV 4/5] END algorithm=ball_tree, n_neighbors=15, weights=distance;, score=0.894 total time=   0.4s\n",
      "[CV 5/5] END algorithm=ball_tree, n_neighbors=15, weights=distance;, score=0.904 total time=   0.6s\n",
      "[CV 1/5] END algorithm=ball_tree, n_neighbors=16, weights=uniform;, score=0.715 total time=   0.5s\n",
      "[CV 2/5] END algorithm=ball_tree, n_neighbors=16, weights=uniform;, score=0.861 total time=   0.5s\n",
      "[CV 3/5] END algorithm=ball_tree, n_neighbors=16, weights=uniform;, score=0.891 total time=   0.5s\n",
      "[CV 4/5] END algorithm=ball_tree, n_neighbors=16, weights=uniform;, score=0.890 total time=   0.6s\n",
      "[CV 5/5] END algorithm=ball_tree, n_neighbors=16, weights=uniform;, score=0.898 total time=   0.5s\n",
      "[CV 1/5] END algorithm=ball_tree, n_neighbors=16, weights=distance;, score=0.730 total time=   0.5s\n",
      "[CV 2/5] END algorithm=ball_tree, n_neighbors=16, weights=distance;, score=0.872 total time=   0.4s\n",
      "[CV 3/5] END algorithm=ball_tree, n_neighbors=16, weights=distance;, score=0.902 total time=   0.4s\n",
      "[CV 4/5] END algorithm=ball_tree, n_neighbors=16, weights=distance;, score=0.900 total time=   0.4s\n",
      "[CV 5/5] END algorithm=ball_tree, n_neighbors=16, weights=distance;, score=0.903 total time=   0.4s\n",
      "[CV 1/5] END algorithm=ball_tree, n_neighbors=17, weights=uniform;, score=0.722 total time=   0.4s\n",
      "[CV 2/5] END algorithm=ball_tree, n_neighbors=17, weights=uniform;, score=0.859 total time=   0.5s\n",
      "[CV 3/5] END algorithm=ball_tree, n_neighbors=17, weights=uniform;, score=0.885 total time=   0.8s\n",
      "[CV 4/5] END algorithm=ball_tree, n_neighbors=17, weights=uniform;, score=0.881 total time=   0.7s\n",
      "[CV 5/5] END algorithm=ball_tree, n_neighbors=17, weights=uniform;, score=0.893 total time=   0.8s\n",
      "[CV 1/5] END algorithm=ball_tree, n_neighbors=17, weights=distance;, score=0.730 total time=   0.5s\n",
      "[CV 2/5] END algorithm=ball_tree, n_neighbors=17, weights=distance;, score=0.871 total time=   0.5s\n",
      "[CV 3/5] END algorithm=ball_tree, n_neighbors=17, weights=distance;, score=0.899 total time=   0.5s\n",
      "[CV 4/5] END algorithm=ball_tree, n_neighbors=17, weights=distance;, score=0.893 total time=   1.2s\n",
      "[CV 5/5] END algorithm=ball_tree, n_neighbors=17, weights=distance;, score=0.904 total time=   0.6s\n",
      "[CV 1/5] END algorithm=ball_tree, n_neighbors=18, weights=uniform;, score=0.718 total time=   0.5s\n",
      "[CV 2/5] END algorithm=ball_tree, n_neighbors=18, weights=uniform;, score=0.859 total time=   0.6s\n",
      "[CV 3/5] END algorithm=ball_tree, n_neighbors=18, weights=uniform;, score=0.891 total time=   0.5s\n",
      "[CV 4/5] END algorithm=ball_tree, n_neighbors=18, weights=uniform;, score=0.880 total time=   1.0s\n",
      "[CV 5/5] END algorithm=ball_tree, n_neighbors=18, weights=uniform;, score=0.898 total time=   1.2s\n",
      "[CV 1/5] END algorithm=ball_tree, n_neighbors=18, weights=distance;, score=0.731 total time=   1.3s\n",
      "[CV 2/5] END algorithm=ball_tree, n_neighbors=18, weights=distance;, score=0.871 total time=   2.2s\n",
      "[CV 3/5] END algorithm=ball_tree, n_neighbors=18, weights=distance;, score=0.897 total time=   1.5s\n",
      "[CV 4/5] END algorithm=ball_tree, n_neighbors=18, weights=distance;, score=0.894 total time=   1.5s\n",
      "[CV 5/5] END algorithm=ball_tree, n_neighbors=18, weights=distance;, score=0.902 total time=   0.9s\n",
      "[CV 1/5] END algorithm=ball_tree, n_neighbors=19, weights=uniform;, score=0.728 total time=   0.6s\n",
      "[CV 2/5] END algorithm=ball_tree, n_neighbors=19, weights=uniform;, score=0.859 total time=   0.9s\n",
      "[CV 3/5] END algorithm=ball_tree, n_neighbors=19, weights=uniform;, score=0.885 total time=   0.7s\n",
      "[CV 4/5] END algorithm=ball_tree, n_neighbors=19, weights=uniform;, score=0.877 total time=   0.7s\n",
      "[CV 5/5] END algorithm=ball_tree, n_neighbors=19, weights=uniform;, score=0.893 total time=   0.6s\n",
      "[CV 1/5] END algorithm=ball_tree, n_neighbors=19, weights=distance;, score=0.733 total time=   0.5s\n",
      "[CV 2/5] END algorithm=ball_tree, n_neighbors=19, weights=distance;, score=0.868 total time=   0.5s\n",
      "[CV 3/5] END algorithm=ball_tree, n_neighbors=19, weights=distance;, score=0.896 total time=   0.5s\n",
      "[CV 4/5] END algorithm=ball_tree, n_neighbors=19, weights=distance;, score=0.888 total time=   0.5s\n",
      "[CV 5/5] END algorithm=ball_tree, n_neighbors=19, weights=distance;, score=0.905 total time=   0.5s\n",
      "[CV 1/5] END algorithm=ball_tree, n_neighbors=20, weights=uniform;, score=0.717 total time=   0.5s\n",
      "[CV 2/5] END algorithm=ball_tree, n_neighbors=20, weights=uniform;, score=0.859 total time=   0.5s\n",
      "[CV 3/5] END algorithm=ball_tree, n_neighbors=20, weights=uniform;, score=0.891 total time=   0.6s\n",
      "[CV 4/5] END algorithm=ball_tree, n_neighbors=20, weights=uniform;, score=0.882 total time=   0.7s\n",
      "[CV 5/5] END algorithm=ball_tree, n_neighbors=20, weights=uniform;, score=0.894 total time=   0.5s\n",
      "[CV 1/5] END algorithm=ball_tree, n_neighbors=20, weights=distance;, score=0.733 total time=   0.7s\n",
      "[CV 2/5] END algorithm=ball_tree, n_neighbors=20, weights=distance;, score=0.864 total time=   0.5s\n",
      "[CV 3/5] END algorithm=ball_tree, n_neighbors=20, weights=distance;, score=0.897 total time=   0.5s\n",
      "[CV 4/5] END algorithm=ball_tree, n_neighbors=20, weights=distance;, score=0.892 total time=   0.6s\n",
      "[CV 5/5] END algorithm=ball_tree, n_neighbors=20, weights=distance;, score=0.899 total time=   0.5s\n",
      "[CV 1/5] END algorithm=ball_tree, n_neighbors=21, weights=uniform;, score=0.728 total time=   0.5s\n",
      "[CV 2/5] END algorithm=ball_tree, n_neighbors=21, weights=uniform;, score=0.860 total time=   0.6s\n",
      "[CV 3/5] END algorithm=ball_tree, n_neighbors=21, weights=uniform;, score=0.886 total time=   0.6s\n",
      "[CV 4/5] END algorithm=ball_tree, n_neighbors=21, weights=uniform;, score=0.882 total time=   0.6s\n",
      "[CV 5/5] END algorithm=ball_tree, n_neighbors=21, weights=uniform;, score=0.889 total time=   0.6s\n",
      "[CV 1/5] END algorithm=ball_tree, n_neighbors=21, weights=distance;, score=0.735 total time=   0.4s\n",
      "[CV 2/5] END algorithm=ball_tree, n_neighbors=21, weights=distance;, score=0.865 total time=   0.5s\n",
      "[CV 3/5] END algorithm=ball_tree, n_neighbors=21, weights=distance;, score=0.898 total time=   0.5s\n",
      "[CV 4/5] END algorithm=ball_tree, n_neighbors=21, weights=distance;, score=0.892 total time=   0.5s\n",
      "[CV 5/5] END algorithm=ball_tree, n_neighbors=21, weights=distance;, score=0.899 total time=   0.5s\n",
      "[CV 1/5] END algorithm=ball_tree, n_neighbors=22, weights=uniform;, score=0.719 total time=   0.5s\n",
      "[CV 2/5] END algorithm=ball_tree, n_neighbors=22, weights=uniform;, score=0.859 total time=   0.8s\n"
     ]
    },
    {
     "name": "stdout",
     "output_type": "stream",
     "text": [
      "[CV 3/5] END algorithm=ball_tree, n_neighbors=22, weights=uniform;, score=0.887 total time=   0.6s\n",
      "[CV 4/5] END algorithm=ball_tree, n_neighbors=22, weights=uniform;, score=0.882 total time=   0.6s\n",
      "[CV 5/5] END algorithm=ball_tree, n_neighbors=22, weights=uniform;, score=0.888 total time=   0.5s\n",
      "[CV 1/5] END algorithm=ball_tree, n_neighbors=22, weights=distance;, score=0.736 total time=   0.4s\n",
      "[CV 2/5] END algorithm=ball_tree, n_neighbors=22, weights=distance;, score=0.863 total time=   0.5s\n",
      "[CV 3/5] END algorithm=ball_tree, n_neighbors=22, weights=distance;, score=0.895 total time=   0.5s\n",
      "[CV 4/5] END algorithm=ball_tree, n_neighbors=22, weights=distance;, score=0.894 total time=   0.5s\n",
      "[CV 5/5] END algorithm=ball_tree, n_neighbors=22, weights=distance;, score=0.897 total time=   0.5s\n",
      "[CV 1/5] END algorithm=ball_tree, n_neighbors=23, weights=uniform;, score=0.729 total time=   0.5s\n",
      "[CV 2/5] END algorithm=ball_tree, n_neighbors=23, weights=uniform;, score=0.859 total time=   0.8s\n",
      "[CV 3/5] END algorithm=ball_tree, n_neighbors=23, weights=uniform;, score=0.883 total time=   0.6s\n",
      "[CV 4/5] END algorithm=ball_tree, n_neighbors=23, weights=uniform;, score=0.885 total time=   0.5s\n",
      "[CV 5/5] END algorithm=ball_tree, n_neighbors=23, weights=uniform;, score=0.887 total time=   0.5s\n",
      "[CV 1/5] END algorithm=ball_tree, n_neighbors=23, weights=distance;, score=0.736 total time=   0.5s\n",
      "[CV 2/5] END algorithm=ball_tree, n_neighbors=23, weights=distance;, score=0.866 total time=   0.5s\n",
      "[CV 3/5] END algorithm=ball_tree, n_neighbors=23, weights=distance;, score=0.893 total time=   0.9s\n",
      "[CV 4/5] END algorithm=ball_tree, n_neighbors=23, weights=distance;, score=0.893 total time=   0.7s\n",
      "[CV 5/5] END algorithm=ball_tree, n_neighbors=23, weights=distance;, score=0.901 total time=   0.6s\n",
      "[CV 1/5] END algorithm=ball_tree, n_neighbors=24, weights=uniform;, score=0.724 total time=   0.6s\n",
      "[CV 2/5] END algorithm=ball_tree, n_neighbors=24, weights=uniform;, score=0.856 total time=   0.5s\n",
      "[CV 3/5] END algorithm=ball_tree, n_neighbors=24, weights=uniform;, score=0.883 total time=   0.6s\n",
      "[CV 4/5] END algorithm=ball_tree, n_neighbors=24, weights=uniform;, score=0.885 total time=   0.6s\n",
      "[CV 5/5] END algorithm=ball_tree, n_neighbors=24, weights=uniform;, score=0.891 total time=   0.6s\n",
      "[CV 1/5] END algorithm=ball_tree, n_neighbors=24, weights=distance;, score=0.735 total time=   0.5s\n",
      "[CV 2/5] END algorithm=ball_tree, n_neighbors=24, weights=distance;, score=0.867 total time=   0.5s\n",
      "[CV 3/5] END algorithm=ball_tree, n_neighbors=24, weights=distance;, score=0.894 total time=   0.5s\n",
      "[CV 4/5] END algorithm=ball_tree, n_neighbors=24, weights=distance;, score=0.893 total time=   0.5s\n",
      "[CV 5/5] END algorithm=ball_tree, n_neighbors=24, weights=distance;, score=0.899 total time=   0.7s\n",
      "[CV 1/5] END algorithm=ball_tree, n_neighbors=25, weights=uniform;, score=0.728 total time=   0.6s\n",
      "[CV 2/5] END algorithm=ball_tree, n_neighbors=25, weights=uniform;, score=0.859 total time=   0.6s\n",
      "[CV 3/5] END algorithm=ball_tree, n_neighbors=25, weights=uniform;, score=0.881 total time=   0.6s\n",
      "[CV 4/5] END algorithm=ball_tree, n_neighbors=25, weights=uniform;, score=0.882 total time=   0.6s\n",
      "[CV 5/5] END algorithm=ball_tree, n_neighbors=25, weights=uniform;, score=0.887 total time=   0.6s\n",
      "[CV 1/5] END algorithm=ball_tree, n_neighbors=25, weights=distance;, score=0.734 total time=   0.5s\n",
      "[CV 2/5] END algorithm=ball_tree, n_neighbors=25, weights=distance;, score=0.868 total time=   0.7s\n",
      "[CV 3/5] END algorithm=ball_tree, n_neighbors=25, weights=distance;, score=0.897 total time=   0.5s\n",
      "[CV 4/5] END algorithm=ball_tree, n_neighbors=25, weights=distance;, score=0.890 total time=   0.5s\n",
      "[CV 5/5] END algorithm=ball_tree, n_neighbors=25, weights=distance;, score=0.899 total time=   0.5s\n",
      "[CV 1/5] END algorithm=ball_tree, n_neighbors=26, weights=uniform;, score=0.721 total time=   0.7s\n",
      "[CV 2/5] END algorithm=ball_tree, n_neighbors=26, weights=uniform;, score=0.857 total time=   0.8s\n",
      "[CV 3/5] END algorithm=ball_tree, n_neighbors=26, weights=uniform;, score=0.886 total time=   0.5s\n",
      "[CV 4/5] END algorithm=ball_tree, n_neighbors=26, weights=uniform;, score=0.884 total time=   0.6s\n",
      "[CV 5/5] END algorithm=ball_tree, n_neighbors=26, weights=uniform;, score=0.892 total time=   0.8s\n",
      "[CV 1/5] END algorithm=ball_tree, n_neighbors=26, weights=distance;, score=0.738 total time=   0.5s\n",
      "[CV 2/5] END algorithm=ball_tree, n_neighbors=26, weights=distance;, score=0.867 total time=   0.6s\n",
      "[CV 3/5] END algorithm=ball_tree, n_neighbors=26, weights=distance;, score=0.894 total time=   0.5s\n",
      "[CV 4/5] END algorithm=ball_tree, n_neighbors=26, weights=distance;, score=0.891 total time=   0.6s\n",
      "[CV 5/5] END algorithm=ball_tree, n_neighbors=26, weights=distance;, score=0.898 total time=   0.5s\n",
      "[CV 1/5] END algorithm=ball_tree, n_neighbors=27, weights=uniform;, score=0.728 total time=   0.5s\n",
      "[CV 2/5] END algorithm=ball_tree, n_neighbors=27, weights=uniform;, score=0.854 total time=   0.8s\n",
      "[CV 3/5] END algorithm=ball_tree, n_neighbors=27, weights=uniform;, score=0.883 total time=   0.6s\n",
      "[CV 4/5] END algorithm=ball_tree, n_neighbors=27, weights=uniform;, score=0.876 total time=   0.6s\n",
      "[CV 5/5] END algorithm=ball_tree, n_neighbors=27, weights=uniform;, score=0.885 total time=   0.5s\n",
      "[CV 1/5] END algorithm=ball_tree, n_neighbors=27, weights=distance;, score=0.737 total time=   0.5s\n",
      "[CV 2/5] END algorithm=ball_tree, n_neighbors=27, weights=distance;, score=0.865 total time=   0.5s\n",
      "[CV 3/5] END algorithm=ball_tree, n_neighbors=27, weights=distance;, score=0.895 total time=   0.5s\n",
      "[CV 4/5] END algorithm=ball_tree, n_neighbors=27, weights=distance;, score=0.888 total time=   0.5s\n",
      "[CV 5/5] END algorithm=ball_tree, n_neighbors=27, weights=distance;, score=0.896 total time=   0.5s\n",
      "[CV 1/5] END algorithm=ball_tree, n_neighbors=28, weights=uniform;, score=0.721 total time=   0.5s\n",
      "[CV 2/5] END algorithm=ball_tree, n_neighbors=28, weights=uniform;, score=0.855 total time=   0.7s\n",
      "[CV 3/5] END algorithm=ball_tree, n_neighbors=28, weights=uniform;, score=0.887 total time=   0.6s\n",
      "[CV 4/5] END algorithm=ball_tree, n_neighbors=28, weights=uniform;, score=0.880 total time=   0.7s\n",
      "[CV 5/5] END algorithm=ball_tree, n_neighbors=28, weights=uniform;, score=0.888 total time=   0.6s\n",
      "[CV 1/5] END algorithm=ball_tree, n_neighbors=28, weights=distance;, score=0.737 total time=   0.5s\n",
      "[CV 2/5] END algorithm=ball_tree, n_neighbors=28, weights=distance;, score=0.863 total time=   0.5s\n",
      "[CV 3/5] END algorithm=ball_tree, n_neighbors=28, weights=distance;, score=0.895 total time=   0.5s\n",
      "[CV 4/5] END algorithm=ball_tree, n_neighbors=28, weights=distance;, score=0.891 total time=   0.5s\n",
      "[CV 5/5] END algorithm=ball_tree, n_neighbors=28, weights=distance;, score=0.896 total time=   0.5s\n",
      "[CV 1/5] END algorithm=ball_tree, n_neighbors=29, weights=uniform;, score=0.728 total time=   0.9s\n",
      "[CV 2/5] END algorithm=ball_tree, n_neighbors=29, weights=uniform;, score=0.859 total time=   0.5s\n",
      "[CV 3/5] END algorithm=ball_tree, n_neighbors=29, weights=uniform;, score=0.881 total time=   0.6s\n",
      "[CV 4/5] END algorithm=ball_tree, n_neighbors=29, weights=uniform;, score=0.877 total time=   0.6s\n",
      "[CV 5/5] END algorithm=ball_tree, n_neighbors=29, weights=uniform;, score=0.887 total time=   0.6s\n",
      "[CV 1/5] END algorithm=ball_tree, n_neighbors=29, weights=distance;, score=0.732 total time=   0.5s\n",
      "[CV 2/5] END algorithm=ball_tree, n_neighbors=29, weights=distance;, score=0.866 total time=   0.5s\n",
      "[CV 3/5] END algorithm=ball_tree, n_neighbors=29, weights=distance;, score=0.895 total time=   0.8s\n",
      "[CV 4/5] END algorithm=ball_tree, n_neighbors=29, weights=distance;, score=0.889 total time=   0.7s\n",
      "[CV 5/5] END algorithm=ball_tree, n_neighbors=29, weights=distance;, score=0.897 total time=   0.6s\n",
      "[CV 1/5] END algorithm=ball_tree, n_neighbors=30, weights=uniform;, score=0.723 total time=   0.6s\n",
      "[CV 2/5] END algorithm=ball_tree, n_neighbors=30, weights=uniform;, score=0.856 total time=   0.5s\n",
      "[CV 3/5] END algorithm=ball_tree, n_neighbors=30, weights=uniform;, score=0.883 total time=   0.5s\n",
      "[CV 4/5] END algorithm=ball_tree, n_neighbors=30, weights=uniform;, score=0.878 total time=   0.6s\n",
      "[CV 5/5] END algorithm=ball_tree, n_neighbors=30, weights=uniform;, score=0.890 total time=   0.5s\n"
     ]
    },
    {
     "name": "stdout",
     "output_type": "stream",
     "text": [
      "[CV 1/5] END algorithm=ball_tree, n_neighbors=30, weights=distance;, score=0.733 total time=   0.5s\n",
      "[CV 2/5] END algorithm=ball_tree, n_neighbors=30, weights=distance;, score=0.863 total time=   0.5s\n",
      "[CV 3/5] END algorithm=ball_tree, n_neighbors=30, weights=distance;, score=0.894 total time=   0.6s\n",
      "[CV 4/5] END algorithm=ball_tree, n_neighbors=30, weights=distance;, score=0.888 total time=   0.9s\n",
      "[CV 5/5] END algorithm=ball_tree, n_neighbors=30, weights=distance;, score=0.899 total time=   0.7s\n",
      "[CV 1/5] END algorithm=kd_tree, n_neighbors=1, weights=uniform;, score=0.731 total time=   0.2s\n",
      "[CV 2/5] END algorithm=kd_tree, n_neighbors=1, weights=uniform;, score=0.857 total time=   0.1s\n",
      "[CV 3/5] END algorithm=kd_tree, n_neighbors=1, weights=uniform;, score=0.901 total time=   0.1s\n",
      "[CV 4/5] END algorithm=kd_tree, n_neighbors=1, weights=uniform;, score=0.891 total time=   0.1s\n",
      "[CV 5/5] END algorithm=kd_tree, n_neighbors=1, weights=uniform;, score=0.886 total time=   0.1s\n",
      "[CV 1/5] END algorithm=kd_tree, n_neighbors=1, weights=distance;, score=0.731 total time=   0.1s\n",
      "[CV 2/5] END algorithm=kd_tree, n_neighbors=1, weights=distance;, score=0.857 total time=   0.2s\n",
      "[CV 3/5] END algorithm=kd_tree, n_neighbors=1, weights=distance;, score=0.901 total time=   0.4s\n",
      "[CV 4/5] END algorithm=kd_tree, n_neighbors=1, weights=distance;, score=0.891 total time=   0.2s\n",
      "[CV 5/5] END algorithm=kd_tree, n_neighbors=1, weights=distance;, score=0.886 total time=   0.2s\n",
      "[CV 1/5] END algorithm=kd_tree, n_neighbors=2, weights=uniform;, score=0.677 total time=   0.3s\n",
      "[CV 2/5] END algorithm=kd_tree, n_neighbors=2, weights=uniform;, score=0.840 total time=   0.3s\n",
      "[CV 3/5] END algorithm=kd_tree, n_neighbors=2, weights=uniform;, score=0.909 total time=   0.2s\n",
      "[CV 4/5] END algorithm=kd_tree, n_neighbors=2, weights=uniform;, score=0.905 total time=   0.4s\n",
      "[CV 5/5] END algorithm=kd_tree, n_neighbors=2, weights=uniform;, score=0.900 total time=   0.5s\n",
      "[CV 1/5] END algorithm=kd_tree, n_neighbors=2, weights=distance;, score=0.731 total time=   0.4s\n",
      "[CV 2/5] END algorithm=kd_tree, n_neighbors=2, weights=distance;, score=0.857 total time=   0.6s\n",
      "[CV 3/5] END algorithm=kd_tree, n_neighbors=2, weights=distance;, score=0.901 total time=   0.8s\n",
      "[CV 4/5] END algorithm=kd_tree, n_neighbors=2, weights=distance;, score=0.891 total time=   0.7s\n",
      "[CV 5/5] END algorithm=kd_tree, n_neighbors=2, weights=distance;, score=0.886 total time=   1.0s\n",
      "[CV 1/5] END algorithm=kd_tree, n_neighbors=3, weights=uniform;, score=0.724 total time=   1.0s\n",
      "[CV 2/5] END algorithm=kd_tree, n_neighbors=3, weights=uniform;, score=0.859 total time=   0.5s\n",
      "[CV 3/5] END algorithm=kd_tree, n_neighbors=3, weights=uniform;, score=0.904 total time=   0.5s\n",
      "[CV 4/5] END algorithm=kd_tree, n_neighbors=3, weights=uniform;, score=0.890 total time=   0.4s\n",
      "[CV 5/5] END algorithm=kd_tree, n_neighbors=3, weights=uniform;, score=0.889 total time=   0.3s\n",
      "[CV 1/5] END algorithm=kd_tree, n_neighbors=3, weights=distance;, score=0.736 total time=   0.2s\n",
      "[CV 2/5] END algorithm=kd_tree, n_neighbors=3, weights=distance;, score=0.863 total time=   0.4s\n",
      "[CV 3/5] END algorithm=kd_tree, n_neighbors=3, weights=distance;, score=0.913 total time=   0.2s\n",
      "[CV 4/5] END algorithm=kd_tree, n_neighbors=3, weights=distance;, score=0.894 total time=   0.2s\n",
      "[CV 5/5] END algorithm=kd_tree, n_neighbors=3, weights=distance;, score=0.892 total time=   0.2s\n",
      "[CV 1/5] END algorithm=kd_tree, n_neighbors=4, weights=uniform;, score=0.699 total time=   0.3s\n",
      "[CV 2/5] END algorithm=kd_tree, n_neighbors=4, weights=uniform;, score=0.845 total time=   0.4s\n",
      "[CV 3/5] END algorithm=kd_tree, n_neighbors=4, weights=uniform;, score=0.913 total time=   0.4s\n",
      "[CV 4/5] END algorithm=kd_tree, n_neighbors=4, weights=uniform;, score=0.898 total time=   0.3s\n",
      "[CV 5/5] END algorithm=kd_tree, n_neighbors=4, weights=uniform;, score=0.902 total time=   0.3s\n",
      "[CV 1/5] END algorithm=kd_tree, n_neighbors=4, weights=distance;, score=0.732 total time=   0.2s\n",
      "[CV 2/5] END algorithm=kd_tree, n_neighbors=4, weights=distance;, score=0.863 total time=   0.2s\n",
      "[CV 3/5] END algorithm=kd_tree, n_neighbors=4, weights=distance;, score=0.915 total time=   0.2s\n",
      "[CV 4/5] END algorithm=kd_tree, n_neighbors=4, weights=distance;, score=0.899 total time=   0.2s\n",
      "[CV 5/5] END algorithm=kd_tree, n_neighbors=4, weights=distance;, score=0.894 total time=   0.3s\n",
      "[CV 1/5] END algorithm=kd_tree, n_neighbors=5, weights=uniform;, score=0.726 total time=   0.3s\n",
      "[CV 2/5] END algorithm=kd_tree, n_neighbors=5, weights=uniform;, score=0.855 total time=   0.3s\n",
      "[CV 3/5] END algorithm=kd_tree, n_neighbors=5, weights=uniform;, score=0.911 total time=   0.3s\n",
      "[CV 4/5] END algorithm=kd_tree, n_neighbors=5, weights=uniform;, score=0.890 total time=   0.3s\n",
      "[CV 5/5] END algorithm=kd_tree, n_neighbors=5, weights=uniform;, score=0.890 total time=   0.8s\n",
      "[CV 1/5] END algorithm=kd_tree, n_neighbors=5, weights=distance;, score=0.738 total time=   0.6s\n",
      "[CV 2/5] END algorithm=kd_tree, n_neighbors=5, weights=distance;, score=0.862 total time=   0.3s\n",
      "[CV 3/5] END algorithm=kd_tree, n_neighbors=5, weights=distance;, score=0.919 total time=   1.3s\n",
      "[CV 4/5] END algorithm=kd_tree, n_neighbors=5, weights=distance;, score=0.899 total time=   0.7s\n",
      "[CV 5/5] END algorithm=kd_tree, n_neighbors=5, weights=distance;, score=0.896 total time=   0.5s\n",
      "[CV 1/5] END algorithm=kd_tree, n_neighbors=6, weights=uniform;, score=0.703 total time=   0.5s\n",
      "[CV 2/5] END algorithm=kd_tree, n_neighbors=6, weights=uniform;, score=0.852 total time=   0.4s\n",
      "[CV 3/5] END algorithm=kd_tree, n_neighbors=6, weights=uniform;, score=0.904 total time=   0.4s\n",
      "[CV 4/5] END algorithm=kd_tree, n_neighbors=6, weights=uniform;, score=0.895 total time=   0.4s\n",
      "[CV 5/5] END algorithm=kd_tree, n_neighbors=6, weights=uniform;, score=0.894 total time=   0.3s\n",
      "[CV 1/5] END algorithm=kd_tree, n_neighbors=6, weights=distance;, score=0.735 total time=   0.2s\n",
      "[CV 2/5] END algorithm=kd_tree, n_neighbors=6, weights=distance;, score=0.868 total time=   0.3s\n",
      "[CV 3/5] END algorithm=kd_tree, n_neighbors=6, weights=distance;, score=0.919 total time=   0.2s\n",
      "[CV 4/5] END algorithm=kd_tree, n_neighbors=6, weights=distance;, score=0.903 total time=   0.3s\n",
      "[CV 5/5] END algorithm=kd_tree, n_neighbors=6, weights=distance;, score=0.900 total time=   0.2s\n",
      "[CV 1/5] END algorithm=kd_tree, n_neighbors=7, weights=uniform;, score=0.725 total time=   0.3s\n",
      "[CV 2/5] END algorithm=kd_tree, n_neighbors=7, weights=uniform;, score=0.860 total time=   0.3s\n",
      "[CV 3/5] END algorithm=kd_tree, n_neighbors=7, weights=uniform;, score=0.899 total time=   0.3s\n",
      "[CV 4/5] END algorithm=kd_tree, n_neighbors=7, weights=uniform;, score=0.893 total time=   0.3s\n",
      "[CV 5/5] END algorithm=kd_tree, n_neighbors=7, weights=uniform;, score=0.896 total time=   0.6s\n",
      "[CV 1/5] END algorithm=kd_tree, n_neighbors=7, weights=distance;, score=0.735 total time=   0.3s\n",
      "[CV 2/5] END algorithm=kd_tree, n_neighbors=7, weights=distance;, score=0.868 total time=   0.6s\n",
      "[CV 3/5] END algorithm=kd_tree, n_neighbors=7, weights=distance;, score=0.911 total time=   0.3s\n",
      "[CV 4/5] END algorithm=kd_tree, n_neighbors=7, weights=distance;, score=0.899 total time=   0.3s\n",
      "[CV 5/5] END algorithm=kd_tree, n_neighbors=7, weights=distance;, score=0.903 total time=   0.2s\n",
      "[CV 1/5] END algorithm=kd_tree, n_neighbors=8, weights=uniform;, score=0.708 total time=   0.3s\n",
      "[CV 2/5] END algorithm=kd_tree, n_neighbors=8, weights=uniform;, score=0.859 total time=   0.3s\n",
      "[CV 3/5] END algorithm=kd_tree, n_neighbors=8, weights=uniform;, score=0.902 total time=   0.3s\n",
      "[CV 4/5] END algorithm=kd_tree, n_neighbors=8, weights=uniform;, score=0.894 total time=   0.3s\n",
      "[CV 5/5] END algorithm=kd_tree, n_neighbors=8, weights=uniform;, score=0.899 total time=   0.3s\n",
      "[CV 1/5] END algorithm=kd_tree, n_neighbors=8, weights=distance;, score=0.737 total time=   0.2s\n",
      "[CV 2/5] END algorithm=kd_tree, n_neighbors=8, weights=distance;, score=0.869 total time=   0.2s\n",
      "[CV 3/5] END algorithm=kd_tree, n_neighbors=8, weights=distance;, score=0.909 total time=   0.2s\n",
      "[CV 4/5] END algorithm=kd_tree, n_neighbors=8, weights=distance;, score=0.904 total time=   0.2s\n",
      "[CV 5/5] END algorithm=kd_tree, n_neighbors=8, weights=distance;, score=0.903 total time=   0.2s\n"
     ]
    },
    {
     "name": "stdout",
     "output_type": "stream",
     "text": [
      "[CV 1/5] END algorithm=kd_tree, n_neighbors=9, weights=uniform;, score=0.733 total time=   0.3s\n",
      "[CV 2/5] END algorithm=kd_tree, n_neighbors=9, weights=uniform;, score=0.858 total time=   0.3s\n",
      "[CV 3/5] END algorithm=kd_tree, n_neighbors=9, weights=uniform;, score=0.892 total time=   0.4s\n",
      "[CV 4/5] END algorithm=kd_tree, n_neighbors=9, weights=uniform;, score=0.887 total time=   0.3s\n",
      "[CV 5/5] END algorithm=kd_tree, n_neighbors=9, weights=uniform;, score=0.892 total time=   0.3s\n",
      "[CV 1/5] END algorithm=kd_tree, n_neighbors=9, weights=distance;, score=0.744 total time=   0.2s\n",
      "[CV 2/5] END algorithm=kd_tree, n_neighbors=9, weights=distance;, score=0.865 total time=   0.4s\n",
      "[CV 3/5] END algorithm=kd_tree, n_neighbors=9, weights=distance;, score=0.901 total time=   0.2s\n",
      "[CV 4/5] END algorithm=kd_tree, n_neighbors=9, weights=distance;, score=0.899 total time=   0.4s\n",
      "[CV 5/5] END algorithm=kd_tree, n_neighbors=9, weights=distance;, score=0.899 total time=   0.3s\n",
      "[CV 1/5] END algorithm=kd_tree, n_neighbors=10, weights=uniform;, score=0.711 total time=   0.5s\n",
      "[CV 2/5] END algorithm=kd_tree, n_neighbors=10, weights=uniform;, score=0.863 total time=   0.3s\n",
      "[CV 3/5] END algorithm=kd_tree, n_neighbors=10, weights=uniform;, score=0.894 total time=   0.3s\n",
      "[CV 4/5] END algorithm=kd_tree, n_neighbors=10, weights=uniform;, score=0.892 total time=   0.7s\n",
      "[CV 5/5] END algorithm=kd_tree, n_neighbors=10, weights=uniform;, score=0.896 total time=   0.3s\n",
      "[CV 1/5] END algorithm=kd_tree, n_neighbors=10, weights=distance;, score=0.738 total time=   0.3s\n",
      "[CV 2/5] END algorithm=kd_tree, n_neighbors=10, weights=distance;, score=0.867 total time=   0.3s\n",
      "[CV 3/5] END algorithm=kd_tree, n_neighbors=10, weights=distance;, score=0.907 total time=   0.2s\n",
      "[CV 4/5] END algorithm=kd_tree, n_neighbors=10, weights=distance;, score=0.900 total time=   0.3s\n",
      "[CV 5/5] END algorithm=kd_tree, n_neighbors=10, weights=distance;, score=0.907 total time=   0.3s\n",
      "[CV 1/5] END algorithm=kd_tree, n_neighbors=11, weights=uniform;, score=0.725 total time=   0.3s\n",
      "[CV 2/5] END algorithm=kd_tree, n_neighbors=11, weights=uniform;, score=0.861 total time=   0.3s\n",
      "[CV 3/5] END algorithm=kd_tree, n_neighbors=11, weights=uniform;, score=0.889 total time=   0.4s\n",
      "[CV 4/5] END algorithm=kd_tree, n_neighbors=11, weights=uniform;, score=0.886 total time=   0.3s\n",
      "[CV 5/5] END algorithm=kd_tree, n_neighbors=11, weights=uniform;, score=0.891 total time=   0.4s\n",
      "[CV 1/5] END algorithm=kd_tree, n_neighbors=11, weights=distance;, score=0.736 total time=   0.4s\n",
      "[CV 2/5] END algorithm=kd_tree, n_neighbors=11, weights=distance;, score=0.868 total time=   0.3s\n",
      "[CV 3/5] END algorithm=kd_tree, n_neighbors=11, weights=distance;, score=0.900 total time=   0.3s\n",
      "[CV 4/5] END algorithm=kd_tree, n_neighbors=11, weights=distance;, score=0.899 total time=   0.4s\n",
      "[CV 5/5] END algorithm=kd_tree, n_neighbors=11, weights=distance;, score=0.901 total time=   0.3s\n",
      "[CV 1/5] END algorithm=kd_tree, n_neighbors=12, weights=uniform;, score=0.714 total time=   0.9s\n",
      "[CV 2/5] END algorithm=kd_tree, n_neighbors=12, weights=uniform;, score=0.863 total time=   0.8s\n",
      "[CV 3/5] END algorithm=kd_tree, n_neighbors=12, weights=uniform;, score=0.891 total time=   0.7s\n",
      "[CV 4/5] END algorithm=kd_tree, n_neighbors=12, weights=uniform;, score=0.893 total time=   1.1s\n",
      "[CV 5/5] END algorithm=kd_tree, n_neighbors=12, weights=uniform;, score=0.898 total time=   0.5s\n",
      "[CV 1/5] END algorithm=kd_tree, n_neighbors=12, weights=distance;, score=0.734 total time=   0.4s\n",
      "[CV 2/5] END algorithm=kd_tree, n_neighbors=12, weights=distance;, score=0.871 total time=   0.3s\n",
      "[CV 3/5] END algorithm=kd_tree, n_neighbors=12, weights=distance;, score=0.902 total time=   0.3s\n",
      "[CV 4/5] END algorithm=kd_tree, n_neighbors=12, weights=distance;, score=0.902 total time=   0.3s\n",
      "[CV 5/5] END algorithm=kd_tree, n_neighbors=12, weights=distance;, score=0.906 total time=   0.5s\n",
      "[CV 1/5] END algorithm=kd_tree, n_neighbors=13, weights=uniform;, score=0.725 total time=   0.6s\n",
      "[CV 2/5] END algorithm=kd_tree, n_neighbors=13, weights=uniform;, score=0.862 total time=   0.4s\n",
      "[CV 3/5] END algorithm=kd_tree, n_neighbors=13, weights=uniform;, score=0.887 total time=   0.4s\n",
      "[CV 4/5] END algorithm=kd_tree, n_neighbors=13, weights=uniform;, score=0.884 total time=   0.6s\n",
      "[CV 5/5] END algorithm=kd_tree, n_neighbors=13, weights=uniform;, score=0.895 total time=   0.7s\n",
      "[CV 1/5] END algorithm=kd_tree, n_neighbors=13, weights=distance;, score=0.736 total time=   0.3s\n",
      "[CV 2/5] END algorithm=kd_tree, n_neighbors=13, weights=distance;, score=0.868 total time=   0.3s\n",
      "[CV 3/5] END algorithm=kd_tree, n_neighbors=13, weights=distance;, score=0.900 total time=   0.2s\n",
      "[CV 4/5] END algorithm=kd_tree, n_neighbors=13, weights=distance;, score=0.896 total time=   0.2s\n",
      "[CV 5/5] END algorithm=kd_tree, n_neighbors=13, weights=distance;, score=0.905 total time=   0.2s\n",
      "[CV 1/5] END algorithm=kd_tree, n_neighbors=14, weights=uniform;, score=0.712 total time=   0.4s\n",
      "[CV 2/5] END algorithm=kd_tree, n_neighbors=14, weights=uniform;, score=0.861 total time=   0.5s\n",
      "[CV 3/5] END algorithm=kd_tree, n_neighbors=14, weights=uniform;, score=0.887 total time=   0.4s\n",
      "[CV 4/5] END algorithm=kd_tree, n_neighbors=14, weights=uniform;, score=0.890 total time=   0.4s\n",
      "[CV 5/5] END algorithm=kd_tree, n_neighbors=14, weights=uniform;, score=0.899 total time=   0.6s\n",
      "[CV 1/5] END algorithm=kd_tree, n_neighbors=14, weights=distance;, score=0.730 total time=   0.5s\n",
      "[CV 2/5] END algorithm=kd_tree, n_neighbors=14, weights=distance;, score=0.868 total time=   0.4s\n",
      "[CV 3/5] END algorithm=kd_tree, n_neighbors=14, weights=distance;, score=0.904 total time=   0.3s\n",
      "[CV 4/5] END algorithm=kd_tree, n_neighbors=14, weights=distance;, score=0.897 total time=   0.2s\n",
      "[CV 5/5] END algorithm=kd_tree, n_neighbors=14, weights=distance;, score=0.905 total time=   0.3s\n",
      "[CV 1/5] END algorithm=kd_tree, n_neighbors=15, weights=uniform;, score=0.724 total time=   0.4s\n",
      "[CV 2/5] END algorithm=kd_tree, n_neighbors=15, weights=uniform;, score=0.861 total time=   0.4s\n",
      "[CV 3/5] END algorithm=kd_tree, n_neighbors=15, weights=uniform;, score=0.887 total time=   0.4s\n",
      "[CV 4/5] END algorithm=kd_tree, n_neighbors=15, weights=uniform;, score=0.882 total time=   0.4s\n",
      "[CV 5/5] END algorithm=kd_tree, n_neighbors=15, weights=uniform;, score=0.892 total time=   0.5s\n",
      "[CV 1/5] END algorithm=kd_tree, n_neighbors=15, weights=distance;, score=0.731 total time=   0.3s\n",
      "[CV 2/5] END algorithm=kd_tree, n_neighbors=15, weights=distance;, score=0.866 total time=   0.3s\n",
      "[CV 3/5] END algorithm=kd_tree, n_neighbors=15, weights=distance;, score=0.902 total time=   0.3s\n",
      "[CV 4/5] END algorithm=kd_tree, n_neighbors=15, weights=distance;, score=0.894 total time=   0.2s\n",
      "[CV 5/5] END algorithm=kd_tree, n_neighbors=15, weights=distance;, score=0.904 total time=   0.3s\n",
      "[CV 1/5] END algorithm=kd_tree, n_neighbors=16, weights=uniform;, score=0.715 total time=   0.3s\n",
      "[CV 2/5] END algorithm=kd_tree, n_neighbors=16, weights=uniform;, score=0.861 total time=   0.4s\n",
      "[CV 3/5] END algorithm=kd_tree, n_neighbors=16, weights=uniform;, score=0.891 total time=   0.3s\n",
      "[CV 4/5] END algorithm=kd_tree, n_neighbors=16, weights=uniform;, score=0.890 total time=   0.3s\n",
      "[CV 5/5] END algorithm=kd_tree, n_neighbors=16, weights=uniform;, score=0.898 total time=   0.3s\n",
      "[CV 1/5] END algorithm=kd_tree, n_neighbors=16, weights=distance;, score=0.730 total time=   0.3s\n",
      "[CV 2/5] END algorithm=kd_tree, n_neighbors=16, weights=distance;, score=0.872 total time=   0.3s\n",
      "[CV 3/5] END algorithm=kd_tree, n_neighbors=16, weights=distance;, score=0.902 total time=   0.3s\n",
      "[CV 4/5] END algorithm=kd_tree, n_neighbors=16, weights=distance;, score=0.900 total time=   0.3s\n",
      "[CV 5/5] END algorithm=kd_tree, n_neighbors=16, weights=distance;, score=0.903 total time=   0.3s\n",
      "[CV 1/5] END algorithm=kd_tree, n_neighbors=17, weights=uniform;, score=0.722 total time=   0.3s\n",
      "[CV 2/5] END algorithm=kd_tree, n_neighbors=17, weights=uniform;, score=0.859 total time=   0.4s\n",
      "[CV 3/5] END algorithm=kd_tree, n_neighbors=17, weights=uniform;, score=0.885 total time=   0.3s\n",
      "[CV 4/5] END algorithm=kd_tree, n_neighbors=17, weights=uniform;, score=0.881 total time=   0.3s\n",
      "[CV 5/5] END algorithm=kd_tree, n_neighbors=17, weights=uniform;, score=0.893 total time=   0.3s\n"
     ]
    },
    {
     "name": "stdout",
     "output_type": "stream",
     "text": [
      "[CV 1/5] END algorithm=kd_tree, n_neighbors=17, weights=distance;, score=0.730 total time=   0.3s\n",
      "[CV 2/5] END algorithm=kd_tree, n_neighbors=17, weights=distance;, score=0.871 total time=   0.3s\n",
      "[CV 3/5] END algorithm=kd_tree, n_neighbors=17, weights=distance;, score=0.899 total time=   0.4s\n",
      "[CV 4/5] END algorithm=kd_tree, n_neighbors=17, weights=distance;, score=0.893 total time=   0.3s\n",
      "[CV 5/5] END algorithm=kd_tree, n_neighbors=17, weights=distance;, score=0.904 total time=   0.3s\n",
      "[CV 1/5] END algorithm=kd_tree, n_neighbors=18, weights=uniform;, score=0.718 total time=   0.3s\n",
      "[CV 2/5] END algorithm=kd_tree, n_neighbors=18, weights=uniform;, score=0.859 total time=   0.3s\n",
      "[CV 3/5] END algorithm=kd_tree, n_neighbors=18, weights=uniform;, score=0.891 total time=   0.4s\n",
      "[CV 4/5] END algorithm=kd_tree, n_neighbors=18, weights=uniform;, score=0.880 total time=   0.3s\n",
      "[CV 5/5] END algorithm=kd_tree, n_neighbors=18, weights=uniform;, score=0.898 total time=   0.4s\n",
      "[CV 1/5] END algorithm=kd_tree, n_neighbors=18, weights=distance;, score=0.731 total time=   0.6s\n",
      "[CV 2/5] END algorithm=kd_tree, n_neighbors=18, weights=distance;, score=0.871 total time=   0.3s\n",
      "[CV 3/5] END algorithm=kd_tree, n_neighbors=18, weights=distance;, score=0.897 total time=   0.4s\n",
      "[CV 4/5] END algorithm=kd_tree, n_neighbors=18, weights=distance;, score=0.894 total time=   0.3s\n",
      "[CV 5/5] END algorithm=kd_tree, n_neighbors=18, weights=distance;, score=0.902 total time=   0.3s\n",
      "[CV 1/5] END algorithm=kd_tree, n_neighbors=19, weights=uniform;, score=0.728 total time=   0.4s\n",
      "[CV 2/5] END algorithm=kd_tree, n_neighbors=19, weights=uniform;, score=0.859 total time=   0.3s\n",
      "[CV 3/5] END algorithm=kd_tree, n_neighbors=19, weights=uniform;, score=0.885 total time=   0.4s\n",
      "[CV 4/5] END algorithm=kd_tree, n_neighbors=19, weights=uniform;, score=0.877 total time=   0.3s\n",
      "[CV 5/5] END algorithm=kd_tree, n_neighbors=19, weights=uniform;, score=0.893 total time=   0.3s\n",
      "[CV 1/5] END algorithm=kd_tree, n_neighbors=19, weights=distance;, score=0.733 total time=   0.3s\n",
      "[CV 2/5] END algorithm=kd_tree, n_neighbors=19, weights=distance;, score=0.868 total time=   0.3s\n",
      "[CV 3/5] END algorithm=kd_tree, n_neighbors=19, weights=distance;, score=0.896 total time=   0.3s\n",
      "[CV 4/5] END algorithm=kd_tree, n_neighbors=19, weights=distance;, score=0.888 total time=   0.3s\n",
      "[CV 5/5] END algorithm=kd_tree, n_neighbors=19, weights=distance;, score=0.905 total time=   0.3s\n",
      "[CV 1/5] END algorithm=kd_tree, n_neighbors=20, weights=uniform;, score=0.717 total time=   0.4s\n",
      "[CV 2/5] END algorithm=kd_tree, n_neighbors=20, weights=uniform;, score=0.859 total time=   0.4s\n",
      "[CV 3/5] END algorithm=kd_tree, n_neighbors=20, weights=uniform;, score=0.891 total time=   0.4s\n",
      "[CV 4/5] END algorithm=kd_tree, n_neighbors=20, weights=uniform;, score=0.882 total time=   0.4s\n",
      "[CV 5/5] END algorithm=kd_tree, n_neighbors=20, weights=uniform;, score=0.894 total time=   0.6s\n",
      "[CV 1/5] END algorithm=kd_tree, n_neighbors=20, weights=distance;, score=0.733 total time=   0.3s\n",
      "[CV 2/5] END algorithm=kd_tree, n_neighbors=20, weights=distance;, score=0.864 total time=   0.6s\n",
      "[CV 3/5] END algorithm=kd_tree, n_neighbors=20, weights=distance;, score=0.897 total time=   0.3s\n",
      "[CV 4/5] END algorithm=kd_tree, n_neighbors=20, weights=distance;, score=0.892 total time=   0.3s\n",
      "[CV 5/5] END algorithm=kd_tree, n_neighbors=20, weights=distance;, score=0.899 total time=   0.3s\n",
      "[CV 1/5] END algorithm=kd_tree, n_neighbors=21, weights=uniform;, score=0.728 total time=   0.3s\n",
      "[CV 2/5] END algorithm=kd_tree, n_neighbors=21, weights=uniform;, score=0.860 total time=   0.4s\n",
      "[CV 3/5] END algorithm=kd_tree, n_neighbors=21, weights=uniform;, score=0.886 total time=   0.5s\n",
      "[CV 4/5] END algorithm=kd_tree, n_neighbors=21, weights=uniform;, score=0.882 total time=   0.4s\n",
      "[CV 5/5] END algorithm=kd_tree, n_neighbors=21, weights=uniform;, score=0.889 total time=   0.4s\n",
      "[CV 1/5] END algorithm=kd_tree, n_neighbors=21, weights=distance;, score=0.735 total time=   0.3s\n",
      "[CV 2/5] END algorithm=kd_tree, n_neighbors=21, weights=distance;, score=0.865 total time=   0.3s\n",
      "[CV 3/5] END algorithm=kd_tree, n_neighbors=21, weights=distance;, score=0.898 total time=   0.5s\n",
      "[CV 4/5] END algorithm=kd_tree, n_neighbors=21, weights=distance;, score=0.892 total time=   0.4s\n",
      "[CV 5/5] END algorithm=kd_tree, n_neighbors=21, weights=distance;, score=0.899 total time=   0.3s\n",
      "[CV 1/5] END algorithm=kd_tree, n_neighbors=22, weights=uniform;, score=0.719 total time=   0.4s\n",
      "[CV 2/5] END algorithm=kd_tree, n_neighbors=22, weights=uniform;, score=0.859 total time=   1.1s\n",
      "[CV 3/5] END algorithm=kd_tree, n_neighbors=22, weights=uniform;, score=0.887 total time=   0.4s\n",
      "[CV 4/5] END algorithm=kd_tree, n_neighbors=22, weights=uniform;, score=0.882 total time=   0.4s\n",
      "[CV 5/5] END algorithm=kd_tree, n_neighbors=22, weights=uniform;, score=0.888 total time=   0.5s\n",
      "[CV 1/5] END algorithm=kd_tree, n_neighbors=22, weights=distance;, score=0.736 total time=   0.5s\n",
      "[CV 2/5] END algorithm=kd_tree, n_neighbors=22, weights=distance;, score=0.863 total time=   0.8s\n",
      "[CV 3/5] END algorithm=kd_tree, n_neighbors=22, weights=distance;, score=0.895 total time=   0.5s\n",
      "[CV 4/5] END algorithm=kd_tree, n_neighbors=22, weights=distance;, score=0.894 total time=   0.5s\n",
      "[CV 5/5] END algorithm=kd_tree, n_neighbors=22, weights=distance;, score=0.897 total time=   0.3s\n",
      "[CV 1/5] END algorithm=kd_tree, n_neighbors=23, weights=uniform;, score=0.729 total time=   0.5s\n",
      "[CV 2/5] END algorithm=kd_tree, n_neighbors=23, weights=uniform;, score=0.859 total time=   0.4s\n",
      "[CV 3/5] END algorithm=kd_tree, n_neighbors=23, weights=uniform;, score=0.883 total time=   0.4s\n",
      "[CV 4/5] END algorithm=kd_tree, n_neighbors=23, weights=uniform;, score=0.885 total time=   0.4s\n",
      "[CV 5/5] END algorithm=kd_tree, n_neighbors=23, weights=uniform;, score=0.887 total time=   0.4s\n",
      "[CV 1/5] END algorithm=kd_tree, n_neighbors=23, weights=distance;, score=0.736 total time=   0.3s\n",
      "[CV 2/5] END algorithm=kd_tree, n_neighbors=23, weights=distance;, score=0.866 total time=   0.3s\n",
      "[CV 3/5] END algorithm=kd_tree, n_neighbors=23, weights=distance;, score=0.893 total time=   0.3s\n",
      "[CV 4/5] END algorithm=kd_tree, n_neighbors=23, weights=distance;, score=0.893 total time=   0.3s\n",
      "[CV 5/5] END algorithm=kd_tree, n_neighbors=23, weights=distance;, score=0.901 total time=   0.4s\n",
      "[CV 1/5] END algorithm=kd_tree, n_neighbors=24, weights=uniform;, score=0.724 total time=   0.4s\n",
      "[CV 2/5] END algorithm=kd_tree, n_neighbors=24, weights=uniform;, score=0.856 total time=   0.3s\n",
      "[CV 3/5] END algorithm=kd_tree, n_neighbors=24, weights=uniform;, score=0.883 total time=   0.3s\n",
      "[CV 4/5] END algorithm=kd_tree, n_neighbors=24, weights=uniform;, score=0.885 total time=   0.4s\n",
      "[CV 5/5] END algorithm=kd_tree, n_neighbors=24, weights=uniform;, score=0.891 total time=   0.4s\n",
      "[CV 1/5] END algorithm=kd_tree, n_neighbors=24, weights=distance;, score=0.735 total time=   0.3s\n",
      "[CV 2/5] END algorithm=kd_tree, n_neighbors=24, weights=distance;, score=0.867 total time=   0.5s\n",
      "[CV 3/5] END algorithm=kd_tree, n_neighbors=24, weights=distance;, score=0.894 total time=   0.4s\n",
      "[CV 4/5] END algorithm=kd_tree, n_neighbors=24, weights=distance;, score=0.893 total time=   0.4s\n",
      "[CV 5/5] END algorithm=kd_tree, n_neighbors=24, weights=distance;, score=0.899 total time=   0.4s\n",
      "[CV 1/5] END algorithm=kd_tree, n_neighbors=25, weights=uniform;, score=0.728 total time=   0.4s\n",
      "[CV 2/5] END algorithm=kd_tree, n_neighbors=25, weights=uniform;, score=0.859 total time=   0.4s\n",
      "[CV 3/5] END algorithm=kd_tree, n_neighbors=25, weights=uniform;, score=0.881 total time=   0.4s\n",
      "[CV 4/5] END algorithm=kd_tree, n_neighbors=25, weights=uniform;, score=0.882 total time=   0.4s\n",
      "[CV 5/5] END algorithm=kd_tree, n_neighbors=25, weights=uniform;, score=0.887 total time=   0.4s\n",
      "[CV 1/5] END algorithm=kd_tree, n_neighbors=25, weights=distance;, score=0.734 total time=   0.3s\n",
      "[CV 2/5] END algorithm=kd_tree, n_neighbors=25, weights=distance;, score=0.868 total time=   0.3s\n",
      "[CV 3/5] END algorithm=kd_tree, n_neighbors=25, weights=distance;, score=0.897 total time=   0.3s\n",
      "[CV 4/5] END algorithm=kd_tree, n_neighbors=25, weights=distance;, score=0.890 total time=   0.3s\n",
      "[CV 5/5] END algorithm=kd_tree, n_neighbors=25, weights=distance;, score=0.899 total time=   0.3s\n"
     ]
    },
    {
     "name": "stdout",
     "output_type": "stream",
     "text": [
      "[CV 1/5] END algorithm=kd_tree, n_neighbors=26, weights=uniform;, score=0.721 total time=   0.4s\n",
      "[CV 2/5] END algorithm=kd_tree, n_neighbors=26, weights=uniform;, score=0.857 total time=   0.4s\n",
      "[CV 3/5] END algorithm=kd_tree, n_neighbors=26, weights=uniform;, score=0.886 total time=   0.5s\n",
      "[CV 4/5] END algorithm=kd_tree, n_neighbors=26, weights=uniform;, score=0.884 total time=   0.4s\n",
      "[CV 5/5] END algorithm=kd_tree, n_neighbors=26, weights=uniform;, score=0.892 total time=   0.4s\n",
      "[CV 1/5] END algorithm=kd_tree, n_neighbors=26, weights=distance;, score=0.738 total time=   0.3s\n",
      "[CV 2/5] END algorithm=kd_tree, n_neighbors=26, weights=distance;, score=0.867 total time=   0.3s\n",
      "[CV 3/5] END algorithm=kd_tree, n_neighbors=26, weights=distance;, score=0.894 total time=   0.3s\n",
      "[CV 4/5] END algorithm=kd_tree, n_neighbors=26, weights=distance;, score=0.891 total time=   0.3s\n",
      "[CV 5/5] END algorithm=kd_tree, n_neighbors=26, weights=distance;, score=0.898 total time=   0.5s\n",
      "[CV 1/5] END algorithm=kd_tree, n_neighbors=27, weights=uniform;, score=0.728 total time=   1.0s\n",
      "[CV 2/5] END algorithm=kd_tree, n_neighbors=27, weights=uniform;, score=0.854 total time=   0.5s\n",
      "[CV 3/5] END algorithm=kd_tree, n_neighbors=27, weights=uniform;, score=0.883 total time=   0.5s\n",
      "[CV 4/5] END algorithm=kd_tree, n_neighbors=27, weights=uniform;, score=0.876 total time=   0.4s\n",
      "[CV 5/5] END algorithm=kd_tree, n_neighbors=27, weights=uniform;, score=0.885 total time=   0.5s\n",
      "[CV 1/5] END algorithm=kd_tree, n_neighbors=27, weights=distance;, score=0.737 total time=   0.3s\n",
      "[CV 2/5] END algorithm=kd_tree, n_neighbors=27, weights=distance;, score=0.865 total time=   0.4s\n",
      "[CV 3/5] END algorithm=kd_tree, n_neighbors=27, weights=distance;, score=0.895 total time=   0.6s\n",
      "[CV 4/5] END algorithm=kd_tree, n_neighbors=27, weights=distance;, score=0.888 total time=   0.3s\n",
      "[CV 5/5] END algorithm=kd_tree, n_neighbors=27, weights=distance;, score=0.896 total time=   0.5s\n",
      "[CV 1/5] END algorithm=kd_tree, n_neighbors=28, weights=uniform;, score=0.721 total time=   0.8s\n",
      "[CV 2/5] END algorithm=kd_tree, n_neighbors=28, weights=uniform;, score=0.855 total time=   0.5s\n",
      "[CV 3/5] END algorithm=kd_tree, n_neighbors=28, weights=uniform;, score=0.887 total time=   0.4s\n",
      "[CV 4/5] END algorithm=kd_tree, n_neighbors=28, weights=uniform;, score=0.880 total time=   0.4s\n",
      "[CV 5/5] END algorithm=kd_tree, n_neighbors=28, weights=uniform;, score=0.888 total time=   0.4s\n",
      "[CV 1/5] END algorithm=kd_tree, n_neighbors=28, weights=distance;, score=0.737 total time=   0.3s\n",
      "[CV 2/5] END algorithm=kd_tree, n_neighbors=28, weights=distance;, score=0.863 total time=   0.3s\n",
      "[CV 3/5] END algorithm=kd_tree, n_neighbors=28, weights=distance;, score=0.895 total time=   0.3s\n",
      "[CV 4/5] END algorithm=kd_tree, n_neighbors=28, weights=distance;, score=0.891 total time=   0.3s\n",
      "[CV 5/5] END algorithm=kd_tree, n_neighbors=28, weights=distance;, score=0.896 total time=   0.3s\n",
      "[CV 1/5] END algorithm=kd_tree, n_neighbors=29, weights=uniform;, score=0.728 total time=   0.4s\n",
      "[CV 2/5] END algorithm=kd_tree, n_neighbors=29, weights=uniform;, score=0.859 total time=   0.4s\n",
      "[CV 3/5] END algorithm=kd_tree, n_neighbors=29, weights=uniform;, score=0.881 total time=   0.5s\n",
      "[CV 4/5] END algorithm=kd_tree, n_neighbors=29, weights=uniform;, score=0.877 total time=   0.4s\n",
      "[CV 5/5] END algorithm=kd_tree, n_neighbors=29, weights=uniform;, score=0.887 total time=   0.7s\n",
      "[CV 1/5] END algorithm=kd_tree, n_neighbors=29, weights=distance;, score=0.732 total time=   0.4s\n",
      "[CV 2/5] END algorithm=kd_tree, n_neighbors=29, weights=distance;, score=0.866 total time=   0.3s\n",
      "[CV 3/5] END algorithm=kd_tree, n_neighbors=29, weights=distance;, score=0.895 total time=   0.4s\n",
      "[CV 4/5] END algorithm=kd_tree, n_neighbors=29, weights=distance;, score=0.889 total time=   0.3s\n",
      "[CV 5/5] END algorithm=kd_tree, n_neighbors=29, weights=distance;, score=0.897 total time=   0.4s\n",
      "[CV 1/5] END algorithm=kd_tree, n_neighbors=30, weights=uniform;, score=0.723 total time=   0.6s\n",
      "[CV 2/5] END algorithm=kd_tree, n_neighbors=30, weights=uniform;, score=0.856 total time=   0.4s\n",
      "[CV 3/5] END algorithm=kd_tree, n_neighbors=30, weights=uniform;, score=0.883 total time=   0.4s\n",
      "[CV 4/5] END algorithm=kd_tree, n_neighbors=30, weights=uniform;, score=0.878 total time=   0.4s\n",
      "[CV 5/5] END algorithm=kd_tree, n_neighbors=30, weights=uniform;, score=0.890 total time=   0.4s\n",
      "[CV 1/5] END algorithm=kd_tree, n_neighbors=30, weights=distance;, score=0.733 total time=   0.3s\n",
      "[CV 2/5] END algorithm=kd_tree, n_neighbors=30, weights=distance;, score=0.863 total time=   0.5s\n",
      "[CV 3/5] END algorithm=kd_tree, n_neighbors=30, weights=distance;, score=0.894 total time=   0.4s\n",
      "[CV 4/5] END algorithm=kd_tree, n_neighbors=30, weights=distance;, score=0.888 total time=   0.4s\n",
      "[CV 5/5] END algorithm=kd_tree, n_neighbors=30, weights=distance;, score=0.899 total time=   0.3s\n",
      "[CV 1/5] END algorithm=brute, n_neighbors=1, weights=uniform;, score=0.731 total time=   0.3s\n",
      "[CV 2/5] END algorithm=brute, n_neighbors=1, weights=uniform;, score=0.857 total time=   0.4s\n",
      "[CV 3/5] END algorithm=brute, n_neighbors=1, weights=uniform;, score=0.901 total time=   0.5s\n",
      "[CV 4/5] END algorithm=brute, n_neighbors=1, weights=uniform;, score=0.891 total time=   0.4s\n",
      "[CV 5/5] END algorithm=brute, n_neighbors=1, weights=uniform;, score=0.886 total time=   0.5s\n",
      "[CV 1/5] END algorithm=brute, n_neighbors=1, weights=distance;, score=0.731 total time=   0.3s\n",
      "[CV 2/5] END algorithm=brute, n_neighbors=1, weights=distance;, score=0.857 total time=   0.4s\n",
      "[CV 3/5] END algorithm=brute, n_neighbors=1, weights=distance;, score=0.901 total time=   0.7s\n",
      "[CV 4/5] END algorithm=brute, n_neighbors=1, weights=distance;, score=0.891 total time=   0.4s\n",
      "[CV 5/5] END algorithm=brute, n_neighbors=1, weights=distance;, score=0.886 total time=   0.4s\n",
      "[CV 1/5] END algorithm=brute, n_neighbors=2, weights=uniform;, score=0.677 total time=   0.5s\n",
      "[CV 2/5] END algorithm=brute, n_neighbors=2, weights=uniform;, score=0.840 total time=   0.4s\n",
      "[CV 3/5] END algorithm=brute, n_neighbors=2, weights=uniform;, score=0.909 total time=   0.4s\n",
      "[CV 4/5] END algorithm=brute, n_neighbors=2, weights=uniform;, score=0.905 total time=   0.4s\n",
      "[CV 5/5] END algorithm=brute, n_neighbors=2, weights=uniform;, score=0.900 total time=   0.4s\n",
      "[CV 1/5] END algorithm=brute, n_neighbors=2, weights=distance;, score=0.731 total time=   0.3s\n",
      "[CV 2/5] END algorithm=brute, n_neighbors=2, weights=distance;, score=0.857 total time=   0.4s\n",
      "[CV 3/5] END algorithm=brute, n_neighbors=2, weights=distance;, score=0.901 total time=   0.5s\n",
      "[CV 4/5] END algorithm=brute, n_neighbors=2, weights=distance;, score=0.891 total time=   0.3s\n",
      "[CV 5/5] END algorithm=brute, n_neighbors=2, weights=distance;, score=0.886 total time=   0.4s\n",
      "[CV 1/5] END algorithm=brute, n_neighbors=3, weights=uniform;, score=0.724 total time=   0.7s\n",
      "[CV 2/5] END algorithm=brute, n_neighbors=3, weights=uniform;, score=0.859 total time=   1.0s\n",
      "[CV 3/5] END algorithm=brute, n_neighbors=3, weights=uniform;, score=0.904 total time=   0.7s\n",
      "[CV 4/5] END algorithm=brute, n_neighbors=3, weights=uniform;, score=0.890 total time=   0.5s\n",
      "[CV 5/5] END algorithm=brute, n_neighbors=3, weights=uniform;, score=0.889 total time=   0.5s\n",
      "[CV 1/5] END algorithm=brute, n_neighbors=3, weights=distance;, score=0.736 total time=   0.4s\n",
      "[CV 2/5] END algorithm=brute, n_neighbors=3, weights=distance;, score=0.863 total time=   0.4s\n",
      "[CV 3/5] END algorithm=brute, n_neighbors=3, weights=distance;, score=0.913 total time=   0.5s\n",
      "[CV 4/5] END algorithm=brute, n_neighbors=3, weights=distance;, score=0.894 total time=   0.4s\n",
      "[CV 5/5] END algorithm=brute, n_neighbors=3, weights=distance;, score=0.892 total time=   0.4s\n",
      "[CV 1/5] END algorithm=brute, n_neighbors=4, weights=uniform;, score=0.699 total time=   0.5s\n",
      "[CV 2/5] END algorithm=brute, n_neighbors=4, weights=uniform;, score=0.845 total time=   0.8s\n",
      "[CV 3/5] END algorithm=brute, n_neighbors=4, weights=uniform;, score=0.913 total time=   0.6s\n",
      "[CV 4/5] END algorithm=brute, n_neighbors=4, weights=uniform;, score=0.898 total time=   0.7s\n",
      "[CV 5/5] END algorithm=brute, n_neighbors=4, weights=uniform;, score=0.902 total time=   0.6s\n",
      "[CV 1/5] END algorithm=brute, n_neighbors=4, weights=distance;, score=0.732 total time=   0.6s\n"
     ]
    },
    {
     "name": "stdout",
     "output_type": "stream",
     "text": [
      "[CV 2/5] END algorithm=brute, n_neighbors=4, weights=distance;, score=0.863 total time=   0.5s\n",
      "[CV 3/5] END algorithm=brute, n_neighbors=4, weights=distance;, score=0.915 total time=   0.6s\n",
      "[CV 4/5] END algorithm=brute, n_neighbors=4, weights=distance;, score=0.899 total time=   0.5s\n",
      "[CV 5/5] END algorithm=brute, n_neighbors=4, weights=distance;, score=0.894 total time=   0.6s\n",
      "[CV 1/5] END algorithm=brute, n_neighbors=5, weights=uniform;, score=0.726 total time=   0.5s\n",
      "[CV 2/5] END algorithm=brute, n_neighbors=5, weights=uniform;, score=0.855 total time=   0.5s\n",
      "[CV 3/5] END algorithm=brute, n_neighbors=5, weights=uniform;, score=0.911 total time=   0.5s\n",
      "[CV 4/5] END algorithm=brute, n_neighbors=5, weights=uniform;, score=0.890 total time=   0.5s\n",
      "[CV 5/5] END algorithm=brute, n_neighbors=5, weights=uniform;, score=0.890 total time=   0.6s\n",
      "[CV 1/5] END algorithm=brute, n_neighbors=5, weights=distance;, score=0.738 total time=   0.4s\n",
      "[CV 2/5] END algorithm=brute, n_neighbors=5, weights=distance;, score=0.862 total time=   0.5s\n",
      "[CV 3/5] END algorithm=brute, n_neighbors=5, weights=distance;, score=0.919 total time=   0.5s\n",
      "[CV 4/5] END algorithm=brute, n_neighbors=5, weights=distance;, score=0.899 total time=   0.4s\n",
      "[CV 5/5] END algorithm=brute, n_neighbors=5, weights=distance;, score=0.896 total time=   0.5s\n",
      "[CV 1/5] END algorithm=brute, n_neighbors=6, weights=uniform;, score=0.703 total time=   0.5s\n",
      "[CV 2/5] END algorithm=brute, n_neighbors=6, weights=uniform;, score=0.852 total time=   0.5s\n",
      "[CV 3/5] END algorithm=brute, n_neighbors=6, weights=uniform;, score=0.904 total time=   0.5s\n",
      "[CV 4/5] END algorithm=brute, n_neighbors=6, weights=uniform;, score=0.895 total time=   0.6s\n",
      "[CV 5/5] END algorithm=brute, n_neighbors=6, weights=uniform;, score=0.894 total time=   0.6s\n",
      "[CV 1/5] END algorithm=brute, n_neighbors=6, weights=distance;, score=0.735 total time=   0.9s\n",
      "[CV 2/5] END algorithm=brute, n_neighbors=6, weights=distance;, score=0.868 total time=   0.6s\n",
      "[CV 3/5] END algorithm=brute, n_neighbors=6, weights=distance;, score=0.919 total time=   0.6s\n",
      "[CV 4/5] END algorithm=brute, n_neighbors=6, weights=distance;, score=0.903 total time=   0.5s\n",
      "[CV 5/5] END algorithm=brute, n_neighbors=6, weights=distance;, score=0.900 total time=   0.7s\n",
      "[CV 1/5] END algorithm=brute, n_neighbors=7, weights=uniform;, score=0.725 total time=   0.8s\n",
      "[CV 2/5] END algorithm=brute, n_neighbors=7, weights=uniform;, score=0.860 total time=   0.8s\n",
      "[CV 3/5] END algorithm=brute, n_neighbors=7, weights=uniform;, score=0.899 total time=   0.7s\n",
      "[CV 4/5] END algorithm=brute, n_neighbors=7, weights=uniform;, score=0.893 total time=   0.7s\n",
      "[CV 5/5] END algorithm=brute, n_neighbors=7, weights=uniform;, score=0.896 total time=   0.9s\n",
      "[CV 1/5] END algorithm=brute, n_neighbors=7, weights=distance;, score=0.735 total time=   0.5s\n",
      "[CV 2/5] END algorithm=brute, n_neighbors=7, weights=distance;, score=0.868 total time=   0.5s\n",
      "[CV 3/5] END algorithm=brute, n_neighbors=7, weights=distance;, score=0.911 total time=   0.5s\n",
      "[CV 4/5] END algorithm=brute, n_neighbors=7, weights=distance;, score=0.899 total time=   0.5s\n",
      "[CV 5/5] END algorithm=brute, n_neighbors=7, weights=distance;, score=0.903 total time=   0.5s\n",
      "[CV 1/5] END algorithm=brute, n_neighbors=8, weights=uniform;, score=0.708 total time=   0.6s\n",
      "[CV 2/5] END algorithm=brute, n_neighbors=8, weights=uniform;, score=0.859 total time=   0.6s\n",
      "[CV 3/5] END algorithm=brute, n_neighbors=8, weights=uniform;, score=0.902 total time=   0.5s\n",
      "[CV 4/5] END algorithm=brute, n_neighbors=8, weights=uniform;, score=0.894 total time=   0.8s\n",
      "[CV 5/5] END algorithm=brute, n_neighbors=8, weights=uniform;, score=0.899 total time=   0.7s\n",
      "[CV 1/5] END algorithm=brute, n_neighbors=8, weights=distance;, score=0.737 total time=   0.4s\n",
      "[CV 2/5] END algorithm=brute, n_neighbors=8, weights=distance;, score=0.869 total time=   0.5s\n",
      "[CV 3/5] END algorithm=brute, n_neighbors=8, weights=distance;, score=0.909 total time=   0.5s\n",
      "[CV 4/5] END algorithm=brute, n_neighbors=8, weights=distance;, score=0.904 total time=   0.5s\n",
      "[CV 5/5] END algorithm=brute, n_neighbors=8, weights=distance;, score=0.903 total time=   0.5s\n",
      "[CV 1/5] END algorithm=brute, n_neighbors=9, weights=uniform;, score=0.733 total time=   0.5s\n",
      "[CV 2/5] END algorithm=brute, n_neighbors=9, weights=uniform;, score=0.858 total time=   0.7s\n",
      "[CV 3/5] END algorithm=brute, n_neighbors=9, weights=uniform;, score=0.892 total time=   0.6s\n",
      "[CV 4/5] END algorithm=brute, n_neighbors=9, weights=uniform;, score=0.887 total time=   0.5s\n",
      "[CV 5/5] END algorithm=brute, n_neighbors=9, weights=uniform;, score=0.892 total time=   0.5s\n",
      "[CV 1/5] END algorithm=brute, n_neighbors=9, weights=distance;, score=0.744 total time=   0.5s\n",
      "[CV 2/5] END algorithm=brute, n_neighbors=9, weights=distance;, score=0.865 total time=   0.5s\n",
      "[CV 3/5] END algorithm=brute, n_neighbors=9, weights=distance;, score=0.901 total time=   0.5s\n",
      "[CV 4/5] END algorithm=brute, n_neighbors=9, weights=distance;, score=0.899 total time=   0.6s\n",
      "[CV 5/5] END algorithm=brute, n_neighbors=9, weights=distance;, score=0.899 total time=   0.5s\n",
      "[CV 1/5] END algorithm=brute, n_neighbors=10, weights=uniform;, score=0.711 total time=   0.5s\n",
      "[CV 2/5] END algorithm=brute, n_neighbors=10, weights=uniform;, score=0.863 total time=   0.5s\n",
      "[CV 3/5] END algorithm=brute, n_neighbors=10, weights=uniform;, score=0.894 total time=   0.6s\n",
      "[CV 4/5] END algorithm=brute, n_neighbors=10, weights=uniform;, score=0.892 total time=   0.6s\n",
      "[CV 5/5] END algorithm=brute, n_neighbors=10, weights=uniform;, score=0.896 total time=   0.6s\n",
      "[CV 1/5] END algorithm=brute, n_neighbors=10, weights=distance;, score=0.738 total time=   0.5s\n",
      "[CV 2/5] END algorithm=brute, n_neighbors=10, weights=distance;, score=0.867 total time=   0.5s\n",
      "[CV 3/5] END algorithm=brute, n_neighbors=10, weights=distance;, score=0.907 total time=   0.4s\n",
      "[CV 4/5] END algorithm=brute, n_neighbors=10, weights=distance;, score=0.900 total time=   0.6s\n",
      "[CV 5/5] END algorithm=brute, n_neighbors=10, weights=distance;, score=0.907 total time=   0.5s\n",
      "[CV 1/5] END algorithm=brute, n_neighbors=11, weights=uniform;, score=0.725 total time=   0.6s\n",
      "[CV 2/5] END algorithm=brute, n_neighbors=11, weights=uniform;, score=0.861 total time=   0.6s\n",
      "[CV 3/5] END algorithm=brute, n_neighbors=11, weights=uniform;, score=0.889 total time=   0.6s\n",
      "[CV 4/5] END algorithm=brute, n_neighbors=11, weights=uniform;, score=0.886 total time=   0.6s\n",
      "[CV 5/5] END algorithm=brute, n_neighbors=11, weights=uniform;, score=0.891 total time=   0.7s\n",
      "[CV 1/5] END algorithm=brute, n_neighbors=11, weights=distance;, score=0.736 total time=   0.7s\n",
      "[CV 2/5] END algorithm=brute, n_neighbors=11, weights=distance;, score=0.868 total time=   0.5s\n",
      "[CV 3/5] END algorithm=brute, n_neighbors=11, weights=distance;, score=0.900 total time=   0.5s\n",
      "[CV 4/5] END algorithm=brute, n_neighbors=11, weights=distance;, score=0.899 total time=   0.5s\n",
      "[CV 5/5] END algorithm=brute, n_neighbors=11, weights=distance;, score=0.901 total time=   0.5s\n",
      "[CV 1/5] END algorithm=brute, n_neighbors=12, weights=uniform;, score=0.714 total time=   0.6s\n",
      "[CV 2/5] END algorithm=brute, n_neighbors=12, weights=uniform;, score=0.863 total time=   0.7s\n",
      "[CV 3/5] END algorithm=brute, n_neighbors=12, weights=uniform;, score=0.891 total time=   0.6s\n",
      "[CV 4/5] END algorithm=brute, n_neighbors=12, weights=uniform;, score=0.893 total time=   0.5s\n",
      "[CV 5/5] END algorithm=brute, n_neighbors=12, weights=uniform;, score=0.898 total time=   0.6s\n",
      "[CV 1/5] END algorithm=brute, n_neighbors=12, weights=distance;, score=0.734 total time=   0.7s\n",
      "[CV 2/5] END algorithm=brute, n_neighbors=12, weights=distance;, score=0.871 total time=   0.6s\n",
      "[CV 3/5] END algorithm=brute, n_neighbors=12, weights=distance;, score=0.902 total time=   0.5s\n",
      "[CV 4/5] END algorithm=brute, n_neighbors=12, weights=distance;, score=0.902 total time=   0.5s\n",
      "[CV 5/5] END algorithm=brute, n_neighbors=12, weights=distance;, score=0.906 total time=   0.5s\n",
      "[CV 1/5] END algorithm=brute, n_neighbors=13, weights=uniform;, score=0.725 total time=   0.5s\n",
      "[CV 2/5] END algorithm=brute, n_neighbors=13, weights=uniform;, score=0.862 total time=   0.5s\n",
      "[CV 3/5] END algorithm=brute, n_neighbors=13, weights=uniform;, score=0.887 total time=   0.6s\n"
     ]
    },
    {
     "name": "stdout",
     "output_type": "stream",
     "text": [
      "[CV 4/5] END algorithm=brute, n_neighbors=13, weights=uniform;, score=0.884 total time=   0.6s\n",
      "[CV 5/5] END algorithm=brute, n_neighbors=13, weights=uniform;, score=0.895 total time=   0.6s\n",
      "[CV 1/5] END algorithm=brute, n_neighbors=13, weights=distance;, score=0.736 total time=   0.5s\n",
      "[CV 2/5] END algorithm=brute, n_neighbors=13, weights=distance;, score=0.868 total time=   0.5s\n",
      "[CV 3/5] END algorithm=brute, n_neighbors=13, weights=distance;, score=0.900 total time=   0.5s\n",
      "[CV 4/5] END algorithm=brute, n_neighbors=13, weights=distance;, score=0.896 total time=   0.5s\n",
      "[CV 5/5] END algorithm=brute, n_neighbors=13, weights=distance;, score=0.905 total time=   0.5s\n",
      "[CV 1/5] END algorithm=brute, n_neighbors=14, weights=uniform;, score=0.712 total time=   0.5s\n",
      "[CV 2/5] END algorithm=brute, n_neighbors=14, weights=uniform;, score=0.861 total time=   0.5s\n",
      "[CV 3/5] END algorithm=brute, n_neighbors=14, weights=uniform;, score=0.887 total time=   0.5s\n",
      "[CV 4/5] END algorithm=brute, n_neighbors=14, weights=uniform;, score=0.890 total time=   0.5s\n",
      "[CV 5/5] END algorithm=brute, n_neighbors=14, weights=uniform;, score=0.899 total time=   0.5s\n",
      "[CV 1/5] END algorithm=brute, n_neighbors=14, weights=distance;, score=0.730 total time=   0.7s\n",
      "[CV 2/5] END algorithm=brute, n_neighbors=14, weights=distance;, score=0.868 total time=   0.5s\n",
      "[CV 3/5] END algorithm=brute, n_neighbors=14, weights=distance;, score=0.904 total time=   0.4s\n",
      "[CV 4/5] END algorithm=brute, n_neighbors=14, weights=distance;, score=0.897 total time=   0.5s\n",
      "[CV 5/5] END algorithm=brute, n_neighbors=14, weights=distance;, score=0.905 total time=   0.4s\n",
      "[CV 1/5] END algorithm=brute, n_neighbors=15, weights=uniform;, score=0.724 total time=   0.5s\n",
      "[CV 2/5] END algorithm=brute, n_neighbors=15, weights=uniform;, score=0.861 total time=   0.5s\n",
      "[CV 3/5] END algorithm=brute, n_neighbors=15, weights=uniform;, score=0.887 total time=   0.5s\n",
      "[CV 4/5] END algorithm=brute, n_neighbors=15, weights=uniform;, score=0.882 total time=   0.6s\n",
      "[CV 5/5] END algorithm=brute, n_neighbors=15, weights=uniform;, score=0.892 total time=   0.6s\n",
      "[CV 1/5] END algorithm=brute, n_neighbors=15, weights=distance;, score=0.731 total time=   0.5s\n",
      "[CV 2/5] END algorithm=brute, n_neighbors=15, weights=distance;, score=0.866 total time=   0.5s\n",
      "[CV 3/5] END algorithm=brute, n_neighbors=15, weights=distance;, score=0.902 total time=   0.6s\n",
      "[CV 4/5] END algorithm=brute, n_neighbors=15, weights=distance;, score=0.894 total time=   0.6s\n",
      "[CV 5/5] END algorithm=brute, n_neighbors=15, weights=distance;, score=0.904 total time=   0.5s\n",
      "[CV 1/5] END algorithm=brute, n_neighbors=16, weights=uniform;, score=0.715 total time=   0.5s\n",
      "[CV 2/5] END algorithm=brute, n_neighbors=16, weights=uniform;, score=0.861 total time=   0.5s\n",
      "[CV 3/5] END algorithm=brute, n_neighbors=16, weights=uniform;, score=0.891 total time=   0.5s\n",
      "[CV 4/5] END algorithm=brute, n_neighbors=16, weights=uniform;, score=0.890 total time=   0.6s\n",
      "[CV 5/5] END algorithm=brute, n_neighbors=16, weights=uniform;, score=0.898 total time=   0.6s\n",
      "[CV 1/5] END algorithm=brute, n_neighbors=16, weights=distance;, score=0.730 total time=   0.4s\n",
      "[CV 2/5] END algorithm=brute, n_neighbors=16, weights=distance;, score=0.872 total time=   0.4s\n",
      "[CV 3/5] END algorithm=brute, n_neighbors=16, weights=distance;, score=0.902 total time=   0.5s\n",
      "[CV 4/5] END algorithm=brute, n_neighbors=16, weights=distance;, score=0.900 total time=   0.4s\n",
      "[CV 5/5] END algorithm=brute, n_neighbors=16, weights=distance;, score=0.903 total time=   0.5s\n",
      "[CV 1/5] END algorithm=brute, n_neighbors=17, weights=uniform;, score=0.722 total time=   0.5s\n",
      "[CV 2/5] END algorithm=brute, n_neighbors=17, weights=uniform;, score=0.859 total time=   0.6s\n",
      "[CV 3/5] END algorithm=brute, n_neighbors=17, weights=uniform;, score=0.885 total time=   0.5s\n",
      "[CV 4/5] END algorithm=brute, n_neighbors=17, weights=uniform;, score=0.881 total time=   0.5s\n",
      "[CV 5/5] END algorithm=brute, n_neighbors=17, weights=uniform;, score=0.893 total time=   0.6s\n",
      "[CV 1/5] END algorithm=brute, n_neighbors=17, weights=distance;, score=0.730 total time=   0.5s\n",
      "[CV 2/5] END algorithm=brute, n_neighbors=17, weights=distance;, score=0.871 total time=   0.6s\n",
      "[CV 3/5] END algorithm=brute, n_neighbors=17, weights=distance;, score=0.899 total time=   0.5s\n",
      "[CV 4/5] END algorithm=brute, n_neighbors=17, weights=distance;, score=0.893 total time=   0.8s\n",
      "[CV 5/5] END algorithm=brute, n_neighbors=17, weights=distance;, score=0.904 total time=   1.0s\n",
      "[CV 1/5] END algorithm=brute, n_neighbors=18, weights=uniform;, score=0.718 total time=   0.9s\n",
      "[CV 2/5] END algorithm=brute, n_neighbors=18, weights=uniform;, score=0.859 total time=   0.9s\n",
      "[CV 3/5] END algorithm=brute, n_neighbors=18, weights=uniform;, score=0.891 total time=   0.7s\n",
      "[CV 4/5] END algorithm=brute, n_neighbors=18, weights=uniform;, score=0.880 total time=   0.7s\n",
      "[CV 5/5] END algorithm=brute, n_neighbors=18, weights=uniform;, score=0.898 total time=   0.6s\n",
      "[CV 1/5] END algorithm=brute, n_neighbors=18, weights=distance;, score=0.731 total time=   1.1s\n",
      "[CV 2/5] END algorithm=brute, n_neighbors=18, weights=distance;, score=0.871 total time=   1.2s\n",
      "[CV 3/5] END algorithm=brute, n_neighbors=18, weights=distance;, score=0.897 total time=   1.1s\n",
      "[CV 4/5] END algorithm=brute, n_neighbors=18, weights=distance;, score=0.894 total time=   0.6s\n",
      "[CV 5/5] END algorithm=brute, n_neighbors=18, weights=distance;, score=0.902 total time=   0.6s\n",
      "[CV 1/5] END algorithm=brute, n_neighbors=19, weights=uniform;, score=0.728 total time=   0.6s\n",
      "[CV 2/5] END algorithm=brute, n_neighbors=19, weights=uniform;, score=0.859 total time=   0.6s\n",
      "[CV 3/5] END algorithm=brute, n_neighbors=19, weights=uniform;, score=0.885 total time=   0.6s\n",
      "[CV 4/5] END algorithm=brute, n_neighbors=19, weights=uniform;, score=0.877 total time=   0.6s\n",
      "[CV 5/5] END algorithm=brute, n_neighbors=19, weights=uniform;, score=0.893 total time=   0.5s\n",
      "[CV 1/5] END algorithm=brute, n_neighbors=19, weights=distance;, score=0.733 total time=   0.5s\n",
      "[CV 2/5] END algorithm=brute, n_neighbors=19, weights=distance;, score=0.868 total time=   0.5s\n",
      "[CV 3/5] END algorithm=brute, n_neighbors=19, weights=distance;, score=0.896 total time=   0.5s\n",
      "[CV 4/5] END algorithm=brute, n_neighbors=19, weights=distance;, score=0.888 total time=   0.4s\n",
      "[CV 5/5] END algorithm=brute, n_neighbors=19, weights=distance;, score=0.905 total time=   0.5s\n",
      "[CV 1/5] END algorithm=brute, n_neighbors=20, weights=uniform;, score=0.717 total time=   1.3s\n",
      "[CV 2/5] END algorithm=brute, n_neighbors=20, weights=uniform;, score=0.859 total time=   1.4s\n",
      "[CV 3/5] END algorithm=brute, n_neighbors=20, weights=uniform;, score=0.891 total time=   1.0s\n",
      "[CV 4/5] END algorithm=brute, n_neighbors=20, weights=uniform;, score=0.882 total time=   1.8s\n",
      "[CV 5/5] END algorithm=brute, n_neighbors=20, weights=uniform;, score=0.894 total time=   2.6s\n",
      "[CV 1/5] END algorithm=brute, n_neighbors=20, weights=distance;, score=0.733 total time=   0.5s\n",
      "[CV 2/5] END algorithm=brute, n_neighbors=20, weights=distance;, score=0.864 total time=   0.5s\n",
      "[CV 3/5] END algorithm=brute, n_neighbors=20, weights=distance;, score=0.897 total time=   0.6s\n",
      "[CV 4/5] END algorithm=brute, n_neighbors=20, weights=distance;, score=0.892 total time=   0.5s\n",
      "[CV 5/5] END algorithm=brute, n_neighbors=20, weights=distance;, score=0.899 total time=   0.6s\n",
      "[CV 1/5] END algorithm=brute, n_neighbors=21, weights=uniform;, score=0.728 total time=   0.6s\n",
      "[CV 2/5] END algorithm=brute, n_neighbors=21, weights=uniform;, score=0.860 total time=   0.6s\n",
      "[CV 3/5] END algorithm=brute, n_neighbors=21, weights=uniform;, score=0.886 total time=   0.6s\n",
      "[CV 4/5] END algorithm=brute, n_neighbors=21, weights=uniform;, score=0.882 total time=   0.6s\n",
      "[CV 5/5] END algorithm=brute, n_neighbors=21, weights=uniform;, score=0.889 total time=   0.6s\n",
      "[CV 1/5] END algorithm=brute, n_neighbors=21, weights=distance;, score=0.735 total time=   0.9s\n",
      "[CV 2/5] END algorithm=brute, n_neighbors=21, weights=distance;, score=0.865 total time=   1.1s\n",
      "[CV 3/5] END algorithm=brute, n_neighbors=21, weights=distance;, score=0.898 total time=   1.1s\n",
      "[CV 4/5] END algorithm=brute, n_neighbors=21, weights=distance;, score=0.892 total time=   1.1s\n"
     ]
    },
    {
     "name": "stdout",
     "output_type": "stream",
     "text": [
      "[CV 5/5] END algorithm=brute, n_neighbors=21, weights=distance;, score=0.899 total time=   1.1s\n",
      "[CV 1/5] END algorithm=brute, n_neighbors=22, weights=uniform;, score=0.719 total time=   1.2s\n",
      "[CV 2/5] END algorithm=brute, n_neighbors=22, weights=uniform;, score=0.859 total time=   1.5s\n",
      "[CV 3/5] END algorithm=brute, n_neighbors=22, weights=uniform;, score=0.887 total time=   1.2s\n",
      "[CV 4/5] END algorithm=brute, n_neighbors=22, weights=uniform;, score=0.882 total time=   1.5s\n",
      "[CV 5/5] END algorithm=brute, n_neighbors=22, weights=uniform;, score=0.888 total time=   1.2s\n",
      "[CV 1/5] END algorithm=brute, n_neighbors=22, weights=distance;, score=0.736 total time=   1.2s\n",
      "[CV 2/5] END algorithm=brute, n_neighbors=22, weights=distance;, score=0.863 total time=   1.6s\n",
      "[CV 3/5] END algorithm=brute, n_neighbors=22, weights=distance;, score=0.895 total time=   1.0s\n",
      "[CV 4/5] END algorithm=brute, n_neighbors=22, weights=distance;, score=0.894 total time=   1.0s\n",
      "[CV 5/5] END algorithm=brute, n_neighbors=22, weights=distance;, score=0.897 total time=   0.8s\n",
      "[CV 1/5] END algorithm=brute, n_neighbors=23, weights=uniform;, score=0.729 total time=   0.8s\n",
      "[CV 2/5] END algorithm=brute, n_neighbors=23, weights=uniform;, score=0.859 total time=   0.6s\n",
      "[CV 3/5] END algorithm=brute, n_neighbors=23, weights=uniform;, score=0.883 total time=   0.6s\n",
      "[CV 4/5] END algorithm=brute, n_neighbors=23, weights=uniform;, score=0.885 total time=   0.7s\n",
      "[CV 5/5] END algorithm=brute, n_neighbors=23, weights=uniform;, score=0.887 total time=   0.9s\n",
      "[CV 1/5] END algorithm=brute, n_neighbors=23, weights=distance;, score=0.736 total time=   0.5s\n",
      "[CV 2/5] END algorithm=brute, n_neighbors=23, weights=distance;, score=0.866 total time=   0.7s\n",
      "[CV 3/5] END algorithm=brute, n_neighbors=23, weights=distance;, score=0.893 total time=   0.6s\n",
      "[CV 4/5] END algorithm=brute, n_neighbors=23, weights=distance;, score=0.893 total time=   0.5s\n",
      "[CV 5/5] END algorithm=brute, n_neighbors=23, weights=distance;, score=0.901 total time=   0.5s\n",
      "[CV 1/5] END algorithm=brute, n_neighbors=24, weights=uniform;, score=0.724 total time=   0.7s\n",
      "[CV 2/5] END algorithm=brute, n_neighbors=24, weights=uniform;, score=0.856 total time=   0.6s\n",
      "[CV 3/5] END algorithm=brute, n_neighbors=24, weights=uniform;, score=0.883 total time=   0.8s\n",
      "[CV 4/5] END algorithm=brute, n_neighbors=24, weights=uniform;, score=0.885 total time=   0.7s\n",
      "[CV 5/5] END algorithm=brute, n_neighbors=24, weights=uniform;, score=0.891 total time=   0.7s\n",
      "[CV 1/5] END algorithm=brute, n_neighbors=24, weights=distance;, score=0.735 total time=   0.5s\n",
      "[CV 2/5] END algorithm=brute, n_neighbors=24, weights=distance;, score=0.867 total time=   0.5s\n",
      "[CV 3/5] END algorithm=brute, n_neighbors=24, weights=distance;, score=0.894 total time=   0.4s\n",
      "[CV 4/5] END algorithm=brute, n_neighbors=24, weights=distance;, score=0.893 total time=   0.5s\n",
      "[CV 5/5] END algorithm=brute, n_neighbors=24, weights=distance;, score=0.899 total time=   0.5s\n",
      "[CV 1/5] END algorithm=brute, n_neighbors=25, weights=uniform;, score=0.728 total time=   0.7s\n",
      "[CV 2/5] END algorithm=brute, n_neighbors=25, weights=uniform;, score=0.859 total time=   0.5s\n",
      "[CV 3/5] END algorithm=brute, n_neighbors=25, weights=uniform;, score=0.881 total time=   0.6s\n",
      "[CV 4/5] END algorithm=brute, n_neighbors=25, weights=uniform;, score=0.882 total time=   0.7s\n",
      "[CV 5/5] END algorithm=brute, n_neighbors=25, weights=uniform;, score=0.887 total time=   0.6s\n",
      "[CV 1/5] END algorithm=brute, n_neighbors=25, weights=distance;, score=0.734 total time=   0.6s\n",
      "[CV 2/5] END algorithm=brute, n_neighbors=25, weights=distance;, score=0.868 total time=   0.5s\n",
      "[CV 3/5] END algorithm=brute, n_neighbors=25, weights=distance;, score=0.897 total time=   0.5s\n",
      "[CV 4/5] END algorithm=brute, n_neighbors=25, weights=distance;, score=0.890 total time=   0.5s\n",
      "[CV 5/5] END algorithm=brute, n_neighbors=25, weights=distance;, score=0.899 total time=   0.6s\n",
      "[CV 1/5] END algorithm=brute, n_neighbors=26, weights=uniform;, score=0.721 total time=   0.5s\n",
      "[CV 2/5] END algorithm=brute, n_neighbors=26, weights=uniform;, score=0.857 total time=   0.5s\n",
      "[CV 3/5] END algorithm=brute, n_neighbors=26, weights=uniform;, score=0.886 total time=   0.6s\n",
      "[CV 4/5] END algorithm=brute, n_neighbors=26, weights=uniform;, score=0.884 total time=   0.8s\n",
      "[CV 5/5] END algorithm=brute, n_neighbors=26, weights=uniform;, score=0.892 total time=   0.7s\n",
      "[CV 1/5] END algorithm=brute, n_neighbors=26, weights=distance;, score=0.738 total time=   0.5s\n",
      "[CV 2/5] END algorithm=brute, n_neighbors=26, weights=distance;, score=0.867 total time=   0.5s\n",
      "[CV 3/5] END algorithm=brute, n_neighbors=26, weights=distance;, score=0.894 total time=   0.5s\n",
      "[CV 4/5] END algorithm=brute, n_neighbors=26, weights=distance;, score=0.891 total time=   0.5s\n",
      "[CV 5/5] END algorithm=brute, n_neighbors=26, weights=distance;, score=0.898 total time=   0.4s\n",
      "[CV 1/5] END algorithm=brute, n_neighbors=27, weights=uniform;, score=0.728 total time=   0.6s\n",
      "[CV 2/5] END algorithm=brute, n_neighbors=27, weights=uniform;, score=0.854 total time=   0.7s\n",
      "[CV 3/5] END algorithm=brute, n_neighbors=27, weights=uniform;, score=0.883 total time=   0.6s\n",
      "[CV 4/5] END algorithm=brute, n_neighbors=27, weights=uniform;, score=0.876 total time=   0.7s\n",
      "[CV 5/5] END algorithm=brute, n_neighbors=27, weights=uniform;, score=0.885 total time=   0.5s\n",
      "[CV 1/5] END algorithm=brute, n_neighbors=27, weights=distance;, score=0.737 total time=   0.5s\n",
      "[CV 2/5] END algorithm=brute, n_neighbors=27, weights=distance;, score=0.865 total time=   0.6s\n",
      "[CV 3/5] END algorithm=brute, n_neighbors=27, weights=distance;, score=0.895 total time=   0.5s\n",
      "[CV 4/5] END algorithm=brute, n_neighbors=27, weights=distance;, score=0.888 total time=   0.5s\n",
      "[CV 5/5] END algorithm=brute, n_neighbors=27, weights=distance;, score=0.896 total time=   0.4s\n",
      "[CV 1/5] END algorithm=brute, n_neighbors=28, weights=uniform;, score=0.721 total time=   0.5s\n",
      "[CV 2/5] END algorithm=brute, n_neighbors=28, weights=uniform;, score=0.855 total time=   0.7s\n",
      "[CV 3/5] END algorithm=brute, n_neighbors=28, weights=uniform;, score=0.887 total time=   0.7s\n",
      "[CV 4/5] END algorithm=brute, n_neighbors=28, weights=uniform;, score=0.880 total time=   0.5s\n",
      "[CV 5/5] END algorithm=brute, n_neighbors=28, weights=uniform;, score=0.888 total time=   0.7s\n",
      "[CV 1/5] END algorithm=brute, n_neighbors=28, weights=distance;, score=0.737 total time=   0.6s\n",
      "[CV 2/5] END algorithm=brute, n_neighbors=28, weights=distance;, score=0.863 total time=   0.5s\n",
      "[CV 3/5] END algorithm=brute, n_neighbors=28, weights=distance;, score=0.895 total time=   0.5s\n",
      "[CV 4/5] END algorithm=brute, n_neighbors=28, weights=distance;, score=0.891 total time=   0.5s\n",
      "[CV 5/5] END algorithm=brute, n_neighbors=28, weights=distance;, score=0.896 total time=   0.5s\n",
      "[CV 1/5] END algorithm=brute, n_neighbors=29, weights=uniform;, score=0.728 total time=   0.5s\n",
      "[CV 2/5] END algorithm=brute, n_neighbors=29, weights=uniform;, score=0.859 total time=   0.6s\n",
      "[CV 3/5] END algorithm=brute, n_neighbors=29, weights=uniform;, score=0.881 total time=   0.6s\n",
      "[CV 4/5] END algorithm=brute, n_neighbors=29, weights=uniform;, score=0.877 total time=   0.8s\n",
      "[CV 5/5] END algorithm=brute, n_neighbors=29, weights=uniform;, score=0.887 total time=   0.8s\n",
      "[CV 1/5] END algorithm=brute, n_neighbors=29, weights=distance;, score=0.732 total time=   0.6s\n",
      "[CV 2/5] END algorithm=brute, n_neighbors=29, weights=distance;, score=0.866 total time=   0.5s\n",
      "[CV 3/5] END algorithm=brute, n_neighbors=29, weights=distance;, score=0.895 total time=   0.5s\n",
      "[CV 4/5] END algorithm=brute, n_neighbors=29, weights=distance;, score=0.889 total time=   0.4s\n",
      "[CV 5/5] END algorithm=brute, n_neighbors=29, weights=distance;, score=0.897 total time=   0.5s\n",
      "[CV 1/5] END algorithm=brute, n_neighbors=30, weights=uniform;, score=0.723 total time=   0.6s\n",
      "[CV 2/5] END algorithm=brute, n_neighbors=30, weights=uniform;, score=0.856 total time=   0.9s\n",
      "[CV 3/5] END algorithm=brute, n_neighbors=30, weights=uniform;, score=0.883 total time=   0.6s\n",
      "[CV 4/5] END algorithm=brute, n_neighbors=30, weights=uniform;, score=0.878 total time=   0.6s\n",
      "[CV 5/5] END algorithm=brute, n_neighbors=30, weights=uniform;, score=0.890 total time=   0.6s\n"
     ]
    },
    {
     "name": "stdout",
     "output_type": "stream",
     "text": [
      "[CV 1/5] END algorithm=brute, n_neighbors=30, weights=distance;, score=0.733 total time=   0.4s\n",
      "[CV 2/5] END algorithm=brute, n_neighbors=30, weights=distance;, score=0.863 total time=   0.5s\n",
      "[CV 3/5] END algorithm=brute, n_neighbors=30, weights=distance;, score=0.894 total time=   0.5s\n",
      "[CV 4/5] END algorithm=brute, n_neighbors=30, weights=distance;, score=0.888 total time=   0.5s\n",
      "[CV 5/5] END algorithm=brute, n_neighbors=30, weights=distance;, score=0.899 total time=   0.5s\n"
     ]
    },
    {
     "data": {
      "text/plain": [
       "GridSearchCV(cv=5, estimator=KNeighborsClassifier(),\n",
       "             param_grid={'algorithm': ['auto', 'ball_tree', 'kd_tree', 'brute'],\n",
       "                         'n_neighbors': [1, 2, 3, 4, 5, 6, 7, 8, 9, 10, 11, 12,\n",
       "                                         13, 14, 15, 16, 17, 18, 19, 20, 21, 22,\n",
       "                                         23, 24, 25, 26, 27, 28, 29, 30],\n",
       "                         'weights': ['uniform', 'distance']},\n",
       "             scoring='accuracy', verbose=3)"
      ]
     },
     "execution_count": 100,
     "metadata": {},
     "output_type": "execute_result"
    }
   ],
   "source": [
    "kn_grid.fit(X_sm_clean, y_sm)"
   ]
  },
  {
   "cell_type": "code",
   "execution_count": 101,
   "id": "5f7eaf8a",
   "metadata": {},
   "outputs": [
    {
     "name": "stdout",
     "output_type": "stream",
     "text": [
      "{'algorithm': 'auto', 'n_neighbors': 6, 'weights': 'distance'}\n"
     ]
    }
   ],
   "source": [
    "print(kn_grid.best_params_)"
   ]
  },
  {
   "cell_type": "code",
   "execution_count": 102,
   "id": "f7c36235",
   "metadata": {},
   "outputs": [],
   "source": [
    "# Refit the KNeighborsRegressor\n",
    "kn_grid = KNeighborsClassifier(n_neighbors = kn_grid.best_params_[\"n_neighbors\"],\n",
    "                               weights = kn_grid.best_params_[\"weights\"],\n",
    "                               algorithm = kn_grid.best_params_[\"algorithm\"]\n",
    "                              )"
   ]
  },
  {
   "cell_type": "code",
   "execution_count": 103,
   "id": "0157bff0",
   "metadata": {},
   "outputs": [
    {
     "data": {
      "text/plain": [
       "KNeighborsClassifier(n_neighbors=6, weights='distance')"
      ]
     },
     "execution_count": 103,
     "metadata": {},
     "output_type": "execute_result"
    }
   ],
   "source": [
    "kn_grid.fit(X_sm_clean, y_sm)"
   ]
  },
  {
   "cell_type": "code",
   "execution_count": 104,
   "id": "a5369a15",
   "metadata": {},
   "outputs": [],
   "source": [
    "knn_cvpred = kn_grid.predict(X_test_clean)"
   ]
  },
  {
   "cell_type": "code",
   "execution_count": 105,
   "id": "5977fdcf",
   "metadata": {},
   "outputs": [
    {
     "name": "stdout",
     "output_type": "stream",
     "text": [
      "              precision    recall  f1-score   support\n",
      "\n",
      "           0       0.89      0.85      0.87      1424\n",
      "           1       0.50      0.60      0.55       376\n",
      "\n",
      "    accuracy                           0.79      1800\n",
      "   macro avg       0.70      0.72      0.71      1800\n",
      "weighted avg       0.81      0.79      0.80      1800\n",
      "\n"
     ]
    }
   ],
   "source": [
    "print(classification_report(y_test, knn_cvpred, labels=[0,1]))"
   ]
  },
  {
   "cell_type": "code",
   "execution_count": 106,
   "id": "f935b737",
   "metadata": {},
   "outputs": [
    {
     "name": "stdout",
     "output_type": "stream",
     "text": [
      "Training Data Score: 1.0\n",
      "Validating Data Score: 0.795\n",
      "Testing Data Score: 0.7933333333333333\n"
     ]
    }
   ],
   "source": [
    "print(f\"Training Data Score: {kn_grid.score(X_sm_clean, y_sm)}\")\n",
    "print(f\"Validating Data Score: {kn_grid.score(X_valid_clean, y_valid)}\")\n",
    "print(f\"Testing Data Score: {kn_grid.score(X_test_clean, y_test)}\")"
   ]
  },
  {
   "cell_type": "code",
   "execution_count": 107,
   "id": "228d0eaa",
   "metadata": {},
   "outputs": [
    {
     "data": {
      "image/png": "[encoded data removed]",
      "text/plain": [
       "<Figure size 432x288 with 2 Axes>"
      ]
     },
     "metadata": {
      "needs_background": "light"
     },
     "output_type": "display_data"
    }
   ],
   "source": [
    "ConfusionMatrixDisplay.from_predictions(y_test, knn_cvpred, display_labels = [False, True])\n",
    "plt.show()"
   ]
  },
  {
   "cell_type": "markdown",
   "id": "12087f66",
   "metadata": {},
   "source": [
    "### Bagging Classifier"
   ]
  },
  {
   "cell_type": "code",
   "execution_count": 108,
   "id": "e57ddd24",
   "metadata": {},
   "outputs": [],
   "source": [
    "dec_tree = DecisionTreeClassifier(random_state=123)"
   ]
  },
  {
   "cell_type": "code",
   "execution_count": 109,
   "id": "d9b56e80",
   "metadata": {},
   "outputs": [],
   "source": [
    "bagging_cls = BaggingClassifier(base_estimator=dec_tree, n_estimators=10, random_state=123)"
   ]
  },
  {
   "cell_type": "code",
   "execution_count": 110,
   "id": "dfae829d",
   "metadata": {},
   "outputs": [
    {
     "data": {
      "text/plain": [
       "BaggingClassifier(base_estimator=DecisionTreeClassifier(random_state=123),\n",
       "                  random_state=123)"
      ]
     },
     "execution_count": 110,
     "metadata": {},
     "output_type": "execute_result"
    }
   ],
   "source": [
    "# fit KNeighborsRegressor\n",
    "bagging_cls.fit(X_sm_clean, y_sm)"
   ]
  },
  {
   "cell_type": "code",
   "execution_count": 111,
   "id": "fe150b20",
   "metadata": {},
   "outputs": [
    {
     "data": {
      "text/plain": [
       "0.9904813218390804"
      ]
     },
     "execution_count": 111,
     "metadata": {},
     "output_type": "execute_result"
    }
   ],
   "source": [
    "bagging_cls.score(X_sm_clean, y_sm)"
   ]
  },
  {
   "cell_type": "code",
   "execution_count": 112,
   "id": "52b54821",
   "metadata": {},
   "outputs": [],
   "source": [
    "bagging_predict = bagging_cls.predict(X_test_clean)"
   ]
  },
  {
   "cell_type": "code",
   "execution_count": 113,
   "id": "0744610f",
   "metadata": {},
   "outputs": [
    {
     "name": "stdout",
     "output_type": "stream",
     "text": [
      "              precision    recall  f1-score   support\n",
      "\n",
      "           0       0.89      0.89      0.89      1424\n",
      "           1       0.58      0.60      0.59       376\n",
      "\n",
      "    accuracy                           0.83      1800\n",
      "   macro avg       0.74      0.74      0.74      1800\n",
      "weighted avg       0.83      0.83      0.83      1800\n",
      "\n"
     ]
    }
   ],
   "source": [
    "print(classification_report(y_test, bagging_predict, labels=[0,1]))"
   ]
  },
  {
   "cell_type": "code",
   "execution_count": 114,
   "id": "704b539b",
   "metadata": {},
   "outputs": [
    {
     "name": "stdout",
     "output_type": "stream",
     "text": [
      "Training Data Score: 0.9904813218390804\n",
      "Validating Data Score: 0.8475\n",
      "Testing Data Score: 0.8272222222222222\n"
     ]
    }
   ],
   "source": [
    "print(f\"Training Data Score: {bagging_cls.score(X_sm_clean, y_sm)}\")\n",
    "print(f\"Validating Data Score: {bagging_cls.score(X_valid_clean, y_valid)}\")\n",
    "print(f\"Testing Data Score: {bagging_cls.score(X_test_clean, y_test)}\")"
   ]
  },
  {
   "cell_type": "markdown",
   "id": "9f4c8d33",
   "metadata": {},
   "source": [
    "## Tuning Parameter Bagging Classifier"
   ]
  },
  {
   "cell_type": "code",
   "execution_count": 115,
   "id": "91e4ba2b",
   "metadata": {},
   "outputs": [],
   "source": [
    "cv = RepeatedStratifiedKFold(n_splits=10, n_repeats=3, random_state=123)\n",
    "bagging_param_grid = {'n_estimators' : [10, 100, 1000]}"
   ]
  },
  {
   "cell_type": "code",
   "execution_count": 116,
   "id": "d7d95eaa",
   "metadata": {},
   "outputs": [],
   "source": [
    "bagging_grid_cv = GridSearchCV(estimator=BaggingClassifier(random_state=123), \n",
    "                               param_grid=bagging_param_grid, \n",
    "                               n_jobs=-1, \n",
    "                               cv=cv, \n",
    "                               scoring='accuracy',\n",
    "                               error_score=0)"
   ]
  },
  {
   "cell_type": "code",
   "execution_count": 117,
   "id": "3fd18f4a",
   "metadata": {},
   "outputs": [
    {
     "data": {
      "text/plain": [
       "GridSearchCV(cv=RepeatedStratifiedKFold(n_repeats=3, n_splits=10, random_state=123),\n",
       "             error_score=0, estimator=BaggingClassifier(random_state=123),\n",
       "             n_jobs=-1, param_grid={'n_estimators': [10, 100, 1000]},\n",
       "             scoring='accuracy')"
      ]
     },
     "execution_count": 117,
     "metadata": {},
     "output_type": "execute_result"
    }
   ],
   "source": [
    "bagging_grid_cv.fit(X_sm_clean, y_sm)"
   ]
  },
  {
   "cell_type": "code",
   "execution_count": 118,
   "id": "2ad6a852",
   "metadata": {},
   "outputs": [
    {
     "data": {
      "text/plain": [
       "{'n_estimators': 1000}"
      ]
     },
     "execution_count": 118,
     "metadata": {},
     "output_type": "execute_result"
    }
   ],
   "source": [
    "bagging_grid_cv.best_params_"
   ]
  },
  {
   "cell_type": "code",
   "execution_count": 119,
   "id": "a13e5e40",
   "metadata": {},
   "outputs": [],
   "source": [
    "bagging_cv  = BaggingClassifier(n_estimators = bagging_grid_cv.best_params_[\"n_estimators\"])"
   ]
  },
  {
   "cell_type": "code",
   "execution_count": 120,
   "id": "56c6956a",
   "metadata": {},
   "outputs": [
    {
     "data": {
      "text/plain": [
       "BaggingClassifier(n_estimators=1000)"
      ]
     },
     "execution_count": 120,
     "metadata": {},
     "output_type": "execute_result"
    }
   ],
   "source": [
    "bagging_cv.fit(X_sm_clean, y_sm)"
   ]
  },
  {
   "cell_type": "code",
   "execution_count": 121,
   "id": "4b5db73c",
   "metadata": {},
   "outputs": [],
   "source": [
    "baggingcv_predict = bagging_cv.predict(X_test_clean)"
   ]
  },
  {
   "cell_type": "code",
   "execution_count": 122,
   "id": "9760210a",
   "metadata": {},
   "outputs": [
    {
     "name": "stdout",
     "output_type": "stream",
     "text": [
      "              precision    recall  f1-score   support\n",
      "\n",
      "           0       0.91      0.88      0.89      1424\n",
      "           1       0.60      0.65      0.62       376\n",
      "\n",
      "    accuracy                           0.83      1800\n",
      "   macro avg       0.75      0.77      0.76      1800\n",
      "weighted avg       0.84      0.83      0.84      1800\n",
      "\n"
     ]
    }
   ],
   "source": [
    "print(classification_report(y_test, baggingcv_predict, labels=[0,1]))"
   ]
  },
  {
   "cell_type": "code",
   "execution_count": 123,
   "id": "4d6409a2",
   "metadata": {},
   "outputs": [
    {
     "name": "stdout",
     "output_type": "stream",
     "text": [
      "Training Data Score: 1.0\n",
      "Validating Data Score: 0.8491666666666666\n",
      "Testing Data Score: 0.835\n"
     ]
    }
   ],
   "source": [
    "print(f\"Training Data Score: {bagging_cv.score(X_sm_clean, y_sm)}\")\n",
    "print(f\"Validating Data Score: {bagging_cv.score(X_valid_clean, y_valid)}\")\n",
    "print(f\"Testing Data Score: {bagging_cv.score(X_test_clean, y_test)}\")"
   ]
  },
  {
   "cell_type": "code",
   "execution_count": 124,
   "id": "78db6ac7",
   "metadata": {},
   "outputs": [
    {
     "data": {
      "image/png": "[encoded data removed]",
      "text/plain": [
       "<Figure size 432x288 with 2 Axes>"
      ]
     },
     "metadata": {
      "needs_background": "light"
     },
     "output_type": "display_data"
    }
   ],
   "source": [
    "ConfusionMatrixDisplay.from_predictions(y_test, baggingcv_predict, display_labels = [False, True])\n",
    "plt.show()"
   ]
  },
  {
   "cell_type": "markdown",
   "id": "15e3239e",
   "metadata": {},
   "source": [
    "## Gradient Boosting"
   ]
  },
  {
   "cell_type": "code",
   "execution_count": 125,
   "id": "05f3ac86",
   "metadata": {},
   "outputs": [],
   "source": [
    "# Build GradientBoosting\n",
    "grad_boost = GradientBoostingClassifier(random_state = 123)"
   ]
  },
  {
   "cell_type": "code",
   "execution_count": 126,
   "id": "14134990",
   "metadata": {},
   "outputs": [
    {
     "data": {
      "text/plain": [
       "GradientBoostingClassifier(random_state=123)"
      ]
     },
     "execution_count": 126,
     "metadata": {},
     "output_type": "execute_result"
    }
   ],
   "source": [
    "# Fit GradientBoosting\n",
    "grad_boost.fit(X_sm_clean, y_sm)"
   ]
  },
  {
   "cell_type": "code",
   "execution_count": 127,
   "id": "0dba7df4",
   "metadata": {},
   "outputs": [
    {
     "data": {
      "text/plain": [
       "0.8839798850574713"
      ]
     },
     "execution_count": 127,
     "metadata": {},
     "output_type": "execute_result"
    }
   ],
   "source": [
    "grad_boost.score(X_sm_clean, y_sm)"
   ]
  },
  {
   "cell_type": "code",
   "execution_count": 128,
   "id": "4965fe34",
   "metadata": {},
   "outputs": [],
   "source": [
    "gradboost_predict = grad_boost.predict(X_test_clean)"
   ]
  },
  {
   "cell_type": "code",
   "execution_count": 129,
   "id": "668f3610",
   "metadata": {},
   "outputs": [
    {
     "name": "stdout",
     "output_type": "stream",
     "text": [
      "              precision    recall  f1-score   support\n",
      "\n",
      "           0       0.91      0.89      0.90      1424\n",
      "           1       0.60      0.66      0.63       376\n",
      "\n",
      "    accuracy                           0.84      1800\n",
      "   macro avg       0.76      0.77      0.76      1800\n",
      "weighted avg       0.84      0.84      0.84      1800\n",
      "\n"
     ]
    }
   ],
   "source": [
    "print(classification_report(y_test, gradboost_predict, labels=[0,1]))"
   ]
  },
  {
   "cell_type": "code",
   "execution_count": 130,
   "id": "b6e967f3",
   "metadata": {},
   "outputs": [
    {
     "name": "stdout",
     "output_type": "stream",
     "text": [
      "Training Data Score: 0.8839798850574713\n",
      "Validating Data Score: 0.8491666666666666\n",
      "Testing Data Score: 0.8388888888888889\n"
     ]
    }
   ],
   "source": [
    "print(f\"Training Data Score: {grad_boost.score(X_sm_clean, y_sm)}\")\n",
    "print(f\"Validating Data Score: {grad_boost.score(X_valid_clean, y_valid)}\")\n",
    "print(f\"Testing Data Score: {grad_boost.score(X_test_clean, y_test)}\")"
   ]
  },
  {
   "cell_type": "markdown",
   "id": "9ea3d9fe",
   "metadata": {},
   "source": [
    "### Tuning Parameter Gradient Boosting"
   ]
  },
  {
   "cell_type": "code",
   "execution_count": 131,
   "id": "3de4bb3b",
   "metadata": {},
   "outputs": [],
   "source": [
    "grad_param_grid = {\n",
    "    'n_estimators' : [10, 50, 100],\n",
    "    'learning_rate' : [0.001, 0.01, 0.1],\n",
    "    'subsample' : [0.5, 0.7, 1.0],\n",
    "    'max_depth' : [3, 7, 9]\n",
    "}"
   ]
  },
  {
   "cell_type": "code",
   "execution_count": 132,
   "id": "a15b72ae",
   "metadata": {},
   "outputs": [],
   "source": [
    "grad_grid_cv = GridSearchCV(estimator=GradientBoostingClassifier(), \n",
    "                           param_grid=grad_param_grid,\n",
    "                           cv=5, \n",
    "                           scoring='accuracy',\n",
    "                           error_score=0)"
   ]
  },
  {
   "cell_type": "code",
   "execution_count": 133,
   "id": "40e08780",
   "metadata": {},
   "outputs": [
    {
     "data": {
      "text/plain": [
       "GridSearchCV(cv=5, error_score=0, estimator=GradientBoostingClassifier(),\n",
       "             param_grid={'learning_rate': [0.001, 0.01, 0.1],\n",
       "                         'max_depth': [3, 7, 9], 'n_estimators': [10, 50, 100],\n",
       "                         'subsample': [0.5, 0.7, 1.0]},\n",
       "             scoring='accuracy')"
      ]
     },
     "execution_count": 133,
     "metadata": {},
     "output_type": "execute_result"
    }
   ],
   "source": [
    "grad_grid_cv.fit(X_sm_clean, y_sm)"
   ]
  },
  {
   "cell_type": "code",
   "execution_count": 134,
   "id": "267f1b81",
   "metadata": {},
   "outputs": [
    {
     "data": {
      "text/plain": [
       "{'learning_rate': 0.1, 'max_depth': 9, 'n_estimators': 100, 'subsample': 1.0}"
      ]
     },
     "execution_count": 134,
     "metadata": {},
     "output_type": "execute_result"
    }
   ],
   "source": [
    "grad_grid_cv.best_params_"
   ]
  },
  {
   "cell_type": "code",
   "execution_count": 135,
   "id": "ea9e3dd3",
   "metadata": {},
   "outputs": [],
   "source": [
    "gradboost_cv  = GradientBoostingClassifier(n_estimators = grad_grid_cv.best_params_[\"n_estimators\"],\n",
    "                                           learning_rate = grad_grid_cv.best_params_[\"learning_rate\"],\n",
    "                                           subsample = grad_grid_cv.best_params_[\"subsample\"],\n",
    "                                           max_depth = grad_grid_cv.best_params_[\"max_depth\"],\n",
    "                                           random_state = 123)"
   ]
  },
  {
   "cell_type": "code",
   "execution_count": 136,
   "id": "66ae01e5",
   "metadata": {},
   "outputs": [
    {
     "data": {
      "text/plain": [
       "GradientBoostingClassifier(max_depth=9, random_state=123)"
      ]
     },
     "execution_count": 136,
     "metadata": {},
     "output_type": "execute_result"
    }
   ],
   "source": [
    "gradboost_cv.fit(X_sm_clean, y_sm)"
   ]
  },
  {
   "cell_type": "code",
   "execution_count": 137,
   "id": "94a07cde",
   "metadata": {},
   "outputs": [],
   "source": [
    "gradboost_pred_cv = gradboost_cv.predict(X_test_clean)"
   ]
  },
  {
   "cell_type": "code",
   "execution_count": 138,
   "id": "cb90802f",
   "metadata": {},
   "outputs": [
    {
     "name": "stdout",
     "output_type": "stream",
     "text": [
      "              precision    recall  f1-score   support\n",
      "\n",
      "           0       0.91      0.90      0.90      1424\n",
      "           1       0.63      0.65      0.64       376\n",
      "\n",
      "    accuracy                           0.85      1800\n",
      "   macro avg       0.77      0.77      0.77      1800\n",
      "weighted avg       0.85      0.85      0.85      1800\n",
      "\n"
     ]
    }
   ],
   "source": [
    "print(classification_report(y_test, gradboost_pred_cv, labels=[0,1]))"
   ]
  },
  {
   "cell_type": "code",
   "execution_count": 139,
   "id": "2d3aafe8",
   "metadata": {},
   "outputs": [
    {
     "data": {
      "image/png": "[encoded data removed]",
      "text/plain": [
       "<Figure size 432x288 with 2 Axes>"
      ]
     },
     "metadata": {
      "needs_background": "light"
     },
     "output_type": "display_data"
    }
   ],
   "source": [
    "ConfusionMatrixDisplay.from_predictions(y_test, gradboost_pred_cv, display_labels = [False, True])\n",
    "plt.show()"
   ]
  },
  {
   "cell_type": "markdown",
   "id": "aeaffbdd",
   "metadata": {},
   "source": [
    "## Adaboost Classifier"
   ]
  },
  {
   "cell_type": "markdown",
   "id": "eb6b8ba7",
   "metadata": {},
   "source": [
    "### Adaboost SVC"
   ]
  },
  {
   "cell_type": "code",
   "execution_count": 140,
   "id": "004cb105",
   "metadata": {},
   "outputs": [],
   "source": [
    "svc = SVC(probability=True, kernel='linear', random_state = 123)\n",
    "\n",
    "# Create adaboost classifer object\n",
    "adaboost_svc = AdaBoostClassifier(n_estimators=50, \n",
    "                                  base_estimator=svc,\n",
    "                                  learning_rate=1)"
   ]
  },
  {
   "cell_type": "code",
   "execution_count": 141,
   "id": "7a209d0a",
   "metadata": {},
   "outputs": [
    {
     "data": {
      "text/plain": [
       "AdaBoostClassifier(base_estimator=SVC(kernel='linear', probability=True,\n",
       "                                      random_state=123),\n",
       "                   learning_rate=1)"
      ]
     },
     "execution_count": 141,
     "metadata": {},
     "output_type": "execute_result"
    }
   ],
   "source": [
    "# Train Adaboost Classifer\n",
    "adaboost_svc.fit(X_sm_clean, y_sm)"
   ]
  },
  {
   "cell_type": "code",
   "execution_count": 142,
   "id": "1fa8614d",
   "metadata": {},
   "outputs": [
    {
     "data": {
      "text/plain": [
       "0.6376616379310345"
      ]
     },
     "execution_count": 142,
     "metadata": {},
     "output_type": "execute_result"
    }
   ],
   "source": [
    "adaboost_svc.score(X_sm_clean, y_sm)"
   ]
  },
  {
   "cell_type": "code",
   "execution_count": 143,
   "id": "a7419135",
   "metadata": {},
   "outputs": [],
   "source": [
    "ada_predict = adaboost_svc.predict(X_test_clean)"
   ]
  },
  {
   "cell_type": "code",
   "execution_count": 144,
   "id": "756dc431",
   "metadata": {},
   "outputs": [
    {
     "name": "stdout",
     "output_type": "stream",
     "text": [
      "              precision    recall  f1-score   support\n",
      "\n",
      "           0       0.85      0.49      0.63      1424\n",
      "           1       0.26      0.68      0.38       376\n",
      "\n",
      "    accuracy                           0.53      1800\n",
      "   macro avg       0.56      0.59      0.50      1800\n",
      "weighted avg       0.73      0.53      0.57      1800\n",
      "\n"
     ]
    }
   ],
   "source": [
    "print(classification_report(y_test, ada_predict, labels=[0,1]))"
   ]
  },
  {
   "cell_type": "code",
   "execution_count": 145,
   "id": "f582f5a8",
   "metadata": {},
   "outputs": [
    {
     "name": "stdout",
     "output_type": "stream",
     "text": [
      "Training Data Score: 0.6376616379310345\n",
      "Validating Data Score: 0.5116666666666667\n",
      "Testing Data Score: 0.5327777777777778\n"
     ]
    }
   ],
   "source": [
    "print(f\"Training Data Score: {adaboost_svc.score(X_sm_clean, y_sm)}\")\n",
    "print(f\"Validating Data Score: {adaboost_svc.score(X_valid_clean, y_valid)}\")\n",
    "print(f\"Testing Data Score: {adaboost_svc.score(X_test_clean, y_test)}\")"
   ]
  },
  {
   "cell_type": "markdown",
   "id": "4f551ec0",
   "metadata": {},
   "source": [
    "### Adaboost Original"
   ]
  },
  {
   "cell_type": "code",
   "execution_count": 146,
   "id": "1e46259b",
   "metadata": {},
   "outputs": [],
   "source": [
    "# Create adaboost classifer object\n",
    "abc = AdaBoostClassifier(n_estimators=50,\n",
    "                         learning_rate=1,\n",
    "                         random_state = 123)"
   ]
  },
  {
   "cell_type": "code",
   "execution_count": 147,
   "id": "4a38eee2",
   "metadata": {},
   "outputs": [],
   "source": [
    "# Train Adaboost Classifer\n",
    "abc_ori = abc.fit(X_sm_clean, y_sm)"
   ]
  },
  {
   "cell_type": "code",
   "execution_count": 148,
   "id": "928c8ea9",
   "metadata": {},
   "outputs": [
    {
     "data": {
      "text/plain": [
       "0.8624281609195402"
      ]
     },
     "execution_count": 148,
     "metadata": {},
     "output_type": "execute_result"
    }
   ],
   "source": [
    "abc_ori.score(X_sm_clean, y_sm)"
   ]
  },
  {
   "cell_type": "code",
   "execution_count": 149,
   "id": "39e0e63b",
   "metadata": {},
   "outputs": [],
   "source": [
    "adaboost_pred_ori = abc_ori.predict(X_test_clean)"
   ]
  },
  {
   "cell_type": "code",
   "execution_count": 150,
   "id": "7be930ab",
   "metadata": {},
   "outputs": [
    {
     "name": "stdout",
     "output_type": "stream",
     "text": [
      "              precision    recall  f1-score   support\n",
      "\n",
      "           0       0.91      0.85      0.88      1424\n",
      "           1       0.55      0.70      0.62       376\n",
      "\n",
      "    accuracy                           0.82      1800\n",
      "   macro avg       0.73      0.77      0.75      1800\n",
      "weighted avg       0.84      0.82      0.82      1800\n",
      "\n"
     ]
    }
   ],
   "source": [
    "print(classification_report(y_test, adaboost_pred_ori, labels=[0,1]))"
   ]
  },
  {
   "cell_type": "code",
   "execution_count": 151,
   "id": "cc0aba55",
   "metadata": {},
   "outputs": [
    {
     "name": "stdout",
     "output_type": "stream",
     "text": [
      "Training Data Score: 0.8624281609195402\n",
      "Validating Data Score: 0.8283333333333334\n",
      "Testing Data Score: 0.8172222222222222\n"
     ]
    }
   ],
   "source": [
    "print(f\"Training Data Score: {abc_ori.score(X_sm_clean, y_sm)}\")\n",
    "print(f\"Validating Data Score: {abc_ori.score(X_valid_clean, y_valid)}\")\n",
    "print(f\"Testing Data Score: {abc_ori.score(X_test_clean, y_test)}\")"
   ]
  },
  {
   "cell_type": "markdown",
   "id": "44e8d2d9",
   "metadata": {},
   "source": [
    "## Tuning Parameter Adaboost"
   ]
  },
  {
   "cell_type": "code",
   "execution_count": 152,
   "id": "f62b0b38",
   "metadata": {},
   "outputs": [],
   "source": [
    "adaboost = AdaBoostClassifier(random_state = 123)"
   ]
  },
  {
   "cell_type": "code",
   "execution_count": 153,
   "id": "63041a6e",
   "metadata": {},
   "outputs": [],
   "source": [
    "param_grid = {\n",
    "    'n_estimators': [50, 100, 200],\n",
    "    'learning_rate': [0.1, 0.5, 1.0],\n",
    "    'algorithm': ['SAMME', 'SAMME.R']\n",
    "}"
   ]
  },
  {
   "cell_type": "code",
   "execution_count": 154,
   "id": "25c6263d",
   "metadata": {},
   "outputs": [],
   "source": [
    "grid_search_adaboost = GridSearchCV(adaboost, param_grid, scoring='accuracy', cv=5)"
   ]
  },
  {
   "cell_type": "code",
   "execution_count": 155,
   "id": "39f82a50",
   "metadata": {},
   "outputs": [
    {
     "data": {
      "text/plain": [
       "GridSearchCV(cv=5, estimator=AdaBoostClassifier(random_state=123),\n",
       "             param_grid={'algorithm': ['SAMME', 'SAMME.R'],\n",
       "                         'learning_rate': [0.1, 0.5, 1.0],\n",
       "                         'n_estimators': [50, 100, 200]},\n",
       "             scoring='accuracy')"
      ]
     },
     "execution_count": 155,
     "metadata": {},
     "output_type": "execute_result"
    }
   ],
   "source": [
    "grid_search_adaboost.fit(X_sm_clean, y_sm)"
   ]
  },
  {
   "cell_type": "code",
   "execution_count": 156,
   "id": "293f6f86",
   "metadata": {},
   "outputs": [
    {
     "name": "stdout",
     "output_type": "stream",
     "text": [
      "{'algorithm': 'SAMME.R', 'learning_rate': 1.0, 'n_estimators': 200}\n"
     ]
    }
   ],
   "source": [
    "print(grid_search_adaboost.best_params_)"
   ]
  },
  {
   "cell_type": "code",
   "execution_count": 157,
   "id": "917ab65c",
   "metadata": {},
   "outputs": [],
   "source": [
    "adaboost_best = AdaBoostClassifier(n_estimators = grid_search_adaboost.best_params_[\"n_estimators\"],\n",
    "                                   learning_rate = grid_search_adaboost.best_params_[\"learning_rate\"],\n",
    "                                   algorithm = grid_search_adaboost.best_params_[\"algorithm\"]\n",
    "                                  )"
   ]
  },
  {
   "cell_type": "code",
   "execution_count": 158,
   "id": "e8226954",
   "metadata": {},
   "outputs": [
    {
     "data": {
      "text/plain": [
       "AdaBoostClassifier(n_estimators=200)"
      ]
     },
     "execution_count": 158,
     "metadata": {},
     "output_type": "execute_result"
    }
   ],
   "source": [
    "adaboost_best.fit(X_sm_clean, y_sm)"
   ]
  },
  {
   "cell_type": "code",
   "execution_count": 159,
   "id": "03619c8a",
   "metadata": {},
   "outputs": [],
   "source": [
    "adaboost_pred_cv = adaboost_best.predict(X_test_clean)"
   ]
  },
  {
   "cell_type": "code",
   "execution_count": 160,
   "id": "9321c089",
   "metadata": {},
   "outputs": [
    {
     "name": "stdout",
     "output_type": "stream",
     "text": [
      "              precision    recall  f1-score   support\n",
      "\n",
      "           0       0.91      0.87      0.89      1424\n",
      "           1       0.57      0.66      0.61       376\n",
      "\n",
      "    accuracy                           0.82      1800\n",
      "   macro avg       0.74      0.76      0.75      1800\n",
      "weighted avg       0.84      0.82      0.83      1800\n",
      "\n"
     ]
    }
   ],
   "source": [
    "print(classification_report(y_test, adaboost_pred_cv, labels=[0,1]))"
   ]
  },
  {
   "cell_type": "code",
   "execution_count": 161,
   "id": "b6a3dda1",
   "metadata": {},
   "outputs": [
    {
     "name": "stdout",
     "output_type": "stream",
     "text": [
      "Training Data Score: 0.8708692528735632\n",
      "Validating Data Score: 0.8458333333333333\n",
      "Testing Data Score: 0.8244444444444444\n"
     ]
    }
   ],
   "source": [
    "print(f\"Training Data Score: {adaboost_best.score(X_sm_clean, y_sm)}\")\n",
    "print(f\"Validating Data Score: {adaboost_best.score(X_valid_clean, y_valid)}\")\n",
    "print(f\"Testing Data Score: {adaboost_best.score(X_test_clean, y_test)}\")"
   ]
  },
  {
   "cell_type": "code",
   "execution_count": 162,
   "id": "98105025",
   "metadata": {},
   "outputs": [
    {
     "data": {
      "image/png": "[encoded data removed]",
      "text/plain": [
       "<Figure size 432x288 with 2 Axes>"
      ]
     },
     "metadata": {
      "needs_background": "light"
     },
     "output_type": "display_data"
    }
   ],
   "source": [
    "ConfusionMatrixDisplay.from_predictions(y_test, adaboost_pred_cv, display_labels = [False, True])\n",
    "plt.show()"
   ]
  },
  {
   "cell_type": "markdown",
   "id": "ce8e40e5",
   "metadata": {},
   "source": [
    "## Extratrees Classifier"
   ]
  },
  {
   "cell_type": "code",
   "execution_count": 163,
   "id": "4a837c56",
   "metadata": {},
   "outputs": [],
   "source": [
    "extra_trees_awal = ExtraTreesClassifier(random_state = 123)"
   ]
  },
  {
   "cell_type": "code",
   "execution_count": 164,
   "id": "3afc86c1",
   "metadata": {},
   "outputs": [
    {
     "data": {
      "text/plain": [
       "ExtraTreesClassifier(random_state=123)"
      ]
     },
     "execution_count": 164,
     "metadata": {},
     "output_type": "execute_result"
    }
   ],
   "source": [
    "extra_trees_awal.fit(X_sm_clean, y_sm)"
   ]
  },
  {
   "cell_type": "code",
   "execution_count": 165,
   "id": "cedf77cb",
   "metadata": {},
   "outputs": [
    {
     "data": {
      "text/plain": [
       "1.0"
      ]
     },
     "execution_count": 165,
     "metadata": {},
     "output_type": "execute_result"
    }
   ],
   "source": [
    "extra_trees_awal.score(X_sm_clean, y_sm)"
   ]
  },
  {
   "cell_type": "code",
   "execution_count": 166,
   "id": "4d797c65",
   "metadata": {},
   "outputs": [],
   "source": [
    "y_extratress_pred = extra_trees_awal.predict(X_test_clean)"
   ]
  },
  {
   "cell_type": "code",
   "execution_count": 167,
   "id": "3956b34c",
   "metadata": {},
   "outputs": [
    {
     "name": "stdout",
     "output_type": "stream",
     "text": [
      "              precision    recall  f1-score   support\n",
      "\n",
      "           0       0.89      0.90      0.90      1424\n",
      "           1       0.61      0.57      0.59       376\n",
      "\n",
      "    accuracy                           0.83      1800\n",
      "   macro avg       0.75      0.74      0.74      1800\n",
      "weighted avg       0.83      0.83      0.83      1800\n",
      "\n"
     ]
    }
   ],
   "source": [
    "print(classification_report(y_test, y_extratress_pred, labels=[0,1]))"
   ]
  },
  {
   "cell_type": "code",
   "execution_count": 168,
   "id": "ab4e1da8",
   "metadata": {},
   "outputs": [
    {
     "name": "stdout",
     "output_type": "stream",
     "text": [
      "Training Data Score: 1.0\n",
      "Validating Data Score: 0.8583333333333333\n",
      "Testing Data Score: 0.8338888888888889\n"
     ]
    }
   ],
   "source": [
    "print(f\"Training Data Score: {extra_trees_awal.score(X_sm_clean, y_sm)}\")\n",
    "print(f\"Validating Data Score: {extra_trees_awal.score(X_valid_clean, y_valid)}\")\n",
    "print(f\"Testing Data Score: {extra_trees_awal.score(X_test_clean, y_test)}\")"
   ]
  },
  {
   "cell_type": "markdown",
   "id": "710885fe",
   "metadata": {},
   "source": [
    "## Tuning Parameter Extratrees Classifier"
   ]
  },
  {
   "cell_type": "code",
   "execution_count": 169,
   "id": "816c06d0",
   "metadata": {},
   "outputs": [],
   "source": [
    "extra_trees = ExtraTreesClassifier(random_state = 123)"
   ]
  },
  {
   "cell_type": "code",
   "execution_count": 170,
   "id": "f42ffb66",
   "metadata": {},
   "outputs": [],
   "source": [
    "param_grid = {\n",
    "    'n_estimators': [50, 100, 200],\n",
    "    'max_depth': [10, 20, 30, None],\n",
    "    'min_samples_split': [2, 5, 10],\n",
    "    'min_samples_leaf': [1, 2, 4]\n",
    "}"
   ]
  },
  {
   "cell_type": "code",
   "execution_count": 171,
   "id": "289440b5",
   "metadata": {},
   "outputs": [],
   "source": [
    "grid_search_et = GridSearchCV(extra_trees, param_grid, scoring='accuracy', cv=5)"
   ]
  },
  {
   "cell_type": "code",
   "execution_count": 172,
   "id": "e9aa04cf",
   "metadata": {},
   "outputs": [
    {
     "data": {
      "text/plain": [
       "GridSearchCV(cv=5, estimator=ExtraTreesClassifier(random_state=123),\n",
       "             param_grid={'max_depth': [10, 20, 30, None],\n",
       "                         'min_samples_leaf': [1, 2, 4],\n",
       "                         'min_samples_split': [2, 5, 10],\n",
       "                         'n_estimators': [50, 100, 200]},\n",
       "             scoring='accuracy')"
      ]
     },
     "execution_count": 172,
     "metadata": {},
     "output_type": "execute_result"
    }
   ],
   "source": [
    "grid_search_et.fit(X_sm_clean, y_sm)"
   ]
  },
  {
   "cell_type": "code",
   "execution_count": 173,
   "id": "5df36345",
   "metadata": {},
   "outputs": [
    {
     "name": "stdout",
     "output_type": "stream",
     "text": [
      "{'max_depth': 20, 'min_samples_leaf': 1, 'min_samples_split': 2, 'n_estimators': 200}\n"
     ]
    }
   ],
   "source": [
    "print(grid_search_et.best_params_)"
   ]
  },
  {
   "cell_type": "code",
   "execution_count": 174,
   "id": "face1715",
   "metadata": {},
   "outputs": [],
   "source": [
    "extra_trees_best = ExtraTreesClassifier(n_estimators = grid_search_et.best_params_[\"n_estimators\"], \n",
    "                                        max_depth = grid_search_et.best_params_[\"max_depth\"], \n",
    "                                        min_samples_split= grid_search_et.best_params_[\"min_samples_split\"], \n",
    "                                        min_samples_leaf=grid_search_et.best_params_[\"min_samples_leaf\"])"
   ]
  },
  {
   "cell_type": "code",
   "execution_count": 175,
   "id": "1e321a09",
   "metadata": {},
   "outputs": [
    {
     "data": {
      "text/plain": [
       "ExtraTreesClassifier(max_depth=20, n_estimators=200)"
      ]
     },
     "execution_count": 175,
     "metadata": {},
     "output_type": "execute_result"
    }
   ],
   "source": [
    "extra_trees_best.fit(X_sm_clean, y_sm)"
   ]
  },
  {
   "cell_type": "code",
   "execution_count": 176,
   "id": "654ceca1",
   "metadata": {},
   "outputs": [],
   "source": [
    "extratreescv_pred = extra_trees_best.predict(X_test_clean)"
   ]
  },
  {
   "cell_type": "code",
   "execution_count": 177,
   "id": "cda1cd1b",
   "metadata": {},
   "outputs": [
    {
     "name": "stdout",
     "output_type": "stream",
     "text": [
      "              precision    recall  f1-score   support\n",
      "\n",
      "           0       0.89      0.91      0.90      1424\n",
      "           1       0.63      0.59      0.61       376\n",
      "\n",
      "    accuracy                           0.84      1800\n",
      "   macro avg       0.76      0.75      0.76      1800\n",
      "weighted avg       0.84      0.84      0.84      1800\n",
      "\n"
     ]
    }
   ],
   "source": [
    "print(classification_report(y_test, extratreescv_pred, labels=[0,1]))"
   ]
  },
  {
   "cell_type": "code",
   "execution_count": 178,
   "id": "e42a76ba",
   "metadata": {},
   "outputs": [
    {
     "name": "stdout",
     "output_type": "stream",
     "text": [
      "Training Data Score: 1.0\n",
      "Validating Data Score: 0.8608333333333333\n",
      "Testing Data Score: 0.8416666666666667\n"
     ]
    }
   ],
   "source": [
    "print(f\"Training Data Score: {extra_trees_best.score(X_sm_clean, y_sm)}\")\n",
    "print(f\"Validating Data Score: {extra_trees_best.score(X_valid_clean, y_valid)}\")\n",
    "print(f\"Testing Data Score: {extra_trees_best.score(X_test_clean, y_test)}\")"
   ]
  },
  {
   "cell_type": "code",
   "execution_count": 179,
   "id": "ff88c810",
   "metadata": {},
   "outputs": [
    {
     "data": {
      "image/png": "[encoded data removed]",
      "text/plain": [
       "<Figure size 432x288 with 2 Axes>"
      ]
     },
     "metadata": {
      "needs_background": "light"
     },
     "output_type": "display_data"
    }
   ],
   "source": [
    "ConfusionMatrixDisplay.from_predictions(y_test, extratreescv_pred, display_labels = [False, True])\n",
    "plt.show()"
   ]
  },
  {
   "cell_type": "markdown",
   "id": "5bb686f7",
   "metadata": {},
   "source": [
    "## XGboost Classifier"
   ]
  },
  {
   "cell_type": "code",
   "execution_count": 180,
   "id": "b9aa0e2f",
   "metadata": {},
   "outputs": [],
   "source": [
    "xgb_classifier = xgb.XGBClassifier(random_state = 123)"
   ]
  },
  {
   "cell_type": "code",
   "execution_count": 181,
   "id": "2b6b62bb",
   "metadata": {},
   "outputs": [
    {
     "data": {
      "text/plain": [
       "XGBClassifier(base_score=None, booster=None, callbacks=None,\n",
       "              colsample_bylevel=None, colsample_bynode=None,\n",
       "              colsample_bytree=None, early_stopping_rounds=None,\n",
       "              enable_categorical=False, eval_metric=None, feature_types=None,\n",
       "              gamma=None, gpu_id=None, grow_policy=None, importance_type=None,\n",
       "              interaction_constraints=None, learning_rate=None, max_bin=None,\n",
       "              max_cat_threshold=None, max_cat_to_onehot=None,\n",
       "              max_delta_step=None, max_depth=None, max_leaves=None,\n",
       "              min_child_weight=None, missing=nan, monotone_constraints=None,\n",
       "              n_estimators=100, n_jobs=None, num_parallel_tree=None,\n",
       "              predictor=None, random_state=123, ...)"
      ]
     },
     "execution_count": 181,
     "metadata": {},
     "output_type": "execute_result"
    }
   ],
   "source": [
    "xgb_classifier.fit(X_sm_clean, y_sm)"
   ]
  },
  {
   "cell_type": "code",
   "execution_count": 182,
   "id": "4c0538a7",
   "metadata": {},
   "outputs": [
    {
     "data": {
      "text/plain": [
       "0.970007183908046"
      ]
     },
     "execution_count": 182,
     "metadata": {},
     "output_type": "execute_result"
    }
   ],
   "source": [
    "xgb_classifier.score(X_sm_clean, y_sm)"
   ]
  },
  {
   "cell_type": "code",
   "execution_count": 183,
   "id": "77c8b688",
   "metadata": {},
   "outputs": [],
   "source": [
    "xgb_pred = xgb_classifier.predict(X_test_clean)"
   ]
  },
  {
   "cell_type": "code",
   "execution_count": 184,
   "id": "5ac4b9bf",
   "metadata": {},
   "outputs": [
    {
     "name": "stdout",
     "output_type": "stream",
     "text": [
      "              precision    recall  f1-score   support\n",
      "\n",
      "           0       0.91      0.89      0.90      1424\n",
      "           1       0.62      0.68      0.65       376\n",
      "\n",
      "    accuracy                           0.84      1800\n",
      "   macro avg       0.77      0.79      0.77      1800\n",
      "weighted avg       0.85      0.84      0.85      1800\n",
      "\n"
     ]
    }
   ],
   "source": [
    "print(classification_report(y_test, xgb_pred, labels=[0,1]))"
   ]
  },
  {
   "cell_type": "code",
   "execution_count": 185,
   "id": "facdc3da",
   "metadata": {},
   "outputs": [
    {
     "name": "stdout",
     "output_type": "stream",
     "text": [
      "Training Data Score: 0.970007183908046\n",
      "Validating Data Score: 0.8441666666666666\n",
      "Testing Data Score: 0.845\n"
     ]
    }
   ],
   "source": [
    "print(f\"Training Data Score: {xgb_classifier.score(X_sm_clean, y_sm)}\")\n",
    "print(f\"Validating Data Score: {xgb_classifier.score(X_valid_clean, y_valid)}\")\n",
    "print(f\"Testing Data Score: {xgb_classifier.score(X_test_clean, y_test)}\")"
   ]
  },
  {
   "cell_type": "markdown",
   "id": "317da2d0",
   "metadata": {},
   "source": [
    "## Tuning Parameter XGboost"
   ]
  },
  {
   "cell_type": "code",
   "execution_count": 186,
   "id": "c5488576",
   "metadata": {},
   "outputs": [],
   "source": [
    "param_grid = {\n",
    "    'n_estimators': [50, 100, 200],\n",
    "    'max_depth': [3, 5, 7],\n",
    "    'learning_rate': [0.1, 0.5, 1.0],\n",
    "    'subsample': [0.5, 0.7, 1.0]\n",
    "}\n"
   ]
  },
  {
   "cell_type": "code",
   "execution_count": 187,
   "id": "dbf84597",
   "metadata": {},
   "outputs": [],
   "source": [
    "grid_search_xg = GridSearchCV(xgb_classifier, param_grid, scoring='accuracy', cv=5)"
   ]
  },
  {
   "cell_type": "code",
   "execution_count": 188,
   "id": "8204bc0b",
   "metadata": {},
   "outputs": [
    {
     "data": {
      "text/plain": [
       "GridSearchCV(cv=5,\n",
       "             estimator=XGBClassifier(base_score=None, booster=None,\n",
       "                                     callbacks=None, colsample_bylevel=None,\n",
       "                                     colsample_bynode=None,\n",
       "                                     colsample_bytree=None,\n",
       "                                     early_stopping_rounds=None,\n",
       "                                     enable_categorical=False, eval_metric=None,\n",
       "                                     feature_types=None, gamma=None,\n",
       "                                     gpu_id=None, grow_policy=None,\n",
       "                                     importance_type=None,\n",
       "                                     interaction_constraints=None,\n",
       "                                     learning_rate=None,...\n",
       "                                     max_cat_to_onehot=None,\n",
       "                                     max_delta_step=None, max_depth=None,\n",
       "                                     max_leaves=None, min_child_weight=None,\n",
       "                                     missing=nan, monotone_constraints=None,\n",
       "                                     n_estimators=100, n_jobs=None,\n",
       "                                     num_parallel_tree=None, predictor=None,\n",
       "                                     random_state=123, ...),\n",
       "             param_grid={'learning_rate': [0.1, 0.5, 1.0],\n",
       "                         'max_depth': [3, 5, 7], 'n_estimators': [50, 100, 200],\n",
       "                         'subsample': [0.5, 0.7, 1.0]},\n",
       "             scoring='accuracy')"
      ]
     },
     "execution_count": 188,
     "metadata": {},
     "output_type": "execute_result"
    }
   ],
   "source": [
    "grid_search_xg.fit(X_sm_clean, y_sm)"
   ]
  },
  {
   "cell_type": "code",
   "execution_count": 189,
   "id": "12acb6a1",
   "metadata": {},
   "outputs": [
    {
     "name": "stdout",
     "output_type": "stream",
     "text": [
      "{'learning_rate': 0.1, 'max_depth': 7, 'n_estimators': 200, 'subsample': 0.7}\n"
     ]
    }
   ],
   "source": [
    "print(grid_search_xg.best_params_)"
   ]
  },
  {
   "cell_type": "code",
   "execution_count": 190,
   "id": "95468116",
   "metadata": {},
   "outputs": [],
   "source": [
    "xgb_best = xgb.XGBClassifier(n_estimators = grid_search_xg.best_params_[\"n_estimators\"], \n",
    "                             max_depth = grid_search_xg.best_params_[\"max_depth\"], \n",
    "                             learning_rate = grid_search_xg.best_params_[\"learning_rate\"], \n",
    "                             subsample = grid_search_xg.best_params_[\"subsample\"])"
   ]
  },
  {
   "cell_type": "code",
   "execution_count": 191,
   "id": "7e7b563b",
   "metadata": {},
   "outputs": [
    {
     "data": {
      "text/plain": [
       "XGBClassifier(base_score=None, booster=None, callbacks=None,\n",
       "              colsample_bylevel=None, colsample_bynode=None,\n",
       "              colsample_bytree=None, early_stopping_rounds=None,\n",
       "              enable_categorical=False, eval_metric=None, feature_types=None,\n",
       "              gamma=None, gpu_id=None, grow_policy=None, importance_type=None,\n",
       "              interaction_constraints=None, learning_rate=0.1, max_bin=None,\n",
       "              max_cat_threshold=None, max_cat_to_onehot=None,\n",
       "              max_delta_step=None, max_depth=7, max_leaves=None,\n",
       "              min_child_weight=None, missing=nan, monotone_constraints=None,\n",
       "              n_estimators=200, n_jobs=None, num_parallel_tree=None,\n",
       "              predictor=None, random_state=None, ...)"
      ]
     },
     "execution_count": 191,
     "metadata": {},
     "output_type": "execute_result"
    }
   ],
   "source": [
    "xgb_best.fit(X_sm_clean, y_sm)"
   ]
  },
  {
   "cell_type": "code",
   "execution_count": 192,
   "id": "7622f560",
   "metadata": {},
   "outputs": [],
   "source": [
    "xgboost_cv_pred = xgb_best.predict(X_test_clean)"
   ]
  },
  {
   "cell_type": "code",
   "execution_count": 193,
   "id": "8c4aa20f",
   "metadata": {},
   "outputs": [
    {
     "name": "stdout",
     "output_type": "stream",
     "text": [
      "              precision    recall  f1-score   support\n",
      "\n",
      "           0       0.91      0.90      0.90      1424\n",
      "           1       0.63      0.68      0.65       376\n",
      "\n",
      "    accuracy                           0.85      1800\n",
      "   macro avg       0.77      0.79      0.78      1800\n",
      "weighted avg       0.85      0.85      0.85      1800\n",
      "\n"
     ]
    }
   ],
   "source": [
    "print(classification_report(y_test, xgboost_cv_pred, labels=[0,1]))"
   ]
  },
  {
   "cell_type": "code",
   "execution_count": 194,
   "id": "d0fc368a",
   "metadata": {},
   "outputs": [
    {
     "data": {
      "image/png": "[encoded data removed]",
      "text/plain": [
       "<Figure size 432x288 with 2 Axes>"
      ]
     },
     "metadata": {
      "needs_background": "light"
     },
     "output_type": "display_data"
    }
   ],
   "source": [
    "ConfusionMatrixDisplay.from_predictions(y_test, xgboost_cv_pred, display_labels = [False, True])\n",
    "plt.show()"
   ]
  },
  {
   "cell_type": "markdown",
   "id": "10645cd8",
   "metadata": {},
   "source": [
    "## Deep Learning"
   ]
  },
  {
   "cell_type": "code",
   "execution_count": 195,
   "id": "efec1d96",
   "metadata": {},
   "outputs": [],
   "source": [
    "model = Sequential([\n",
    "    Dense(64, activation='relu', input_shape=(13,)),\n",
    "    Dropout(0.2),\n",
    "    Dense(32, activation='relu'),\n",
    "    Dropout(0.2),\n",
    "    Dense(1, activation='sigmoid')\n",
    "])"
   ]
  },
  {
   "cell_type": "code",
   "execution_count": 196,
   "id": "747c391d",
   "metadata": {},
   "outputs": [],
   "source": [
    "model.compile(optimizer='adam', loss='binary_crossentropy', metrics=['accuracy'])"
   ]
  },
  {
   "cell_type": "code",
   "execution_count": 197,
   "id": "88a4d79a",
   "metadata": {},
   "outputs": [
    {
     "name": "stdout",
     "output_type": "stream",
     "text": [
      "Epoch 1/500\n",
      "348/348 [==============================] - 10s 4ms/step - loss: 0.5246 - accuracy: 0.7468 - val_loss: 0.4595 - val_accuracy: 0.7933\n",
      "Epoch 2/500\n",
      "348/348 [==============================] - 1s 3ms/step - loss: 0.4228 - accuracy: 0.8063 - val_loss: 0.4601 - val_accuracy: 0.7933\n",
      "Epoch 3/500\n",
      "348/348 [==============================] - 1s 2ms/step - loss: 0.3776 - accuracy: 0.8316 - val_loss: 0.4154 - val_accuracy: 0.8167\n",
      "Epoch 4/500\n",
      "348/348 [==============================] - 1s 2ms/step - loss: 0.3581 - accuracy: 0.8361 - val_loss: 0.4315 - val_accuracy: 0.8067\n",
      "Epoch 5/500\n",
      "348/348 [==============================] - 1s 2ms/step - loss: 0.3426 - accuracy: 0.8442 - val_loss: 0.3958 - val_accuracy: 0.8225\n",
      "Epoch 6/500\n",
      "348/348 [==============================] - 1s 2ms/step - loss: 0.3277 - accuracy: 0.8507 - val_loss: 0.4229 - val_accuracy: 0.8100\n",
      "Epoch 7/500\n",
      "348/348 [==============================] - 1s 2ms/step - loss: 0.3212 - accuracy: 0.8559 - val_loss: 0.3721 - val_accuracy: 0.8533\n",
      "Epoch 8/500\n",
      "348/348 [==============================] - 1s 2ms/step - loss: 0.3147 - accuracy: 0.8589 - val_loss: 0.3935 - val_accuracy: 0.8292\n",
      "Epoch 9/500\n",
      "348/348 [==============================] - 1s 2ms/step - loss: 0.3075 - accuracy: 0.8612 - val_loss: 0.3667 - val_accuracy: 0.8517\n",
      "Epoch 10/500\n",
      "348/348 [==============================] - 1s 2ms/step - loss: 0.3001 - accuracy: 0.8649 - val_loss: 0.3598 - val_accuracy: 0.8567\n",
      "Epoch 11/500\n",
      "348/348 [==============================] - 1s 2ms/step - loss: 0.2986 - accuracy: 0.8675 - val_loss: 0.3892 - val_accuracy: 0.8350\n",
      "Epoch 12/500\n",
      "348/348 [==============================] - 1s 2ms/step - loss: 0.2968 - accuracy: 0.8659 - val_loss: 0.3681 - val_accuracy: 0.8517\n",
      "Epoch 13/500\n",
      "348/348 [==============================] - 1s 3ms/step - loss: 0.2966 - accuracy: 0.8704 - val_loss: 0.3490 - val_accuracy: 0.8658\n",
      "Epoch 14/500\n",
      "348/348 [==============================] - 2s 4ms/step - loss: 0.2938 - accuracy: 0.8693 - val_loss: 0.3686 - val_accuracy: 0.8517\n",
      "Epoch 15/500\n",
      "348/348 [==============================] - 1s 4ms/step - loss: 0.2913 - accuracy: 0.8709 - val_loss: 0.3760 - val_accuracy: 0.8450\n",
      "Epoch 16/500\n",
      "348/348 [==============================] - 1s 3ms/step - loss: 0.2915 - accuracy: 0.8691 - val_loss: 0.3798 - val_accuracy: 0.8542\n",
      "Epoch 17/500\n",
      "348/348 [==============================] - 1s 3ms/step - loss: 0.2859 - accuracy: 0.8722 - val_loss: 0.3728 - val_accuracy: 0.8450\n",
      "Epoch 18/500\n",
      "348/348 [==============================] - 1s 3ms/step - loss: 0.2873 - accuracy: 0.8732 - val_loss: 0.3528 - val_accuracy: 0.8600\n",
      "Epoch 19/500\n",
      "348/348 [==============================] - 1s 2ms/step - loss: 0.2860 - accuracy: 0.8734 - val_loss: 0.3627 - val_accuracy: 0.8642\n",
      "Epoch 20/500\n",
      "348/348 [==============================] - 1s 2ms/step - loss: 0.2827 - accuracy: 0.8748 - val_loss: 0.3587 - val_accuracy: 0.8600\n",
      "Epoch 21/500\n",
      "348/348 [==============================] - 1s 2ms/step - loss: 0.2855 - accuracy: 0.8756 - val_loss: 0.3994 - val_accuracy: 0.8375\n",
      "Epoch 22/500\n",
      "348/348 [==============================] - 1s 2ms/step - loss: 0.2834 - accuracy: 0.8755 - val_loss: 0.3736 - val_accuracy: 0.8458\n",
      "Epoch 23/500\n",
      "348/348 [==============================] - 1s 2ms/step - loss: 0.2837 - accuracy: 0.8751 - val_loss: 0.3676 - val_accuracy: 0.8575\n",
      "Epoch 24/500\n",
      "348/348 [==============================] - 1s 2ms/step - loss: 0.2770 - accuracy: 0.8781 - val_loss: 0.3548 - val_accuracy: 0.8608\n",
      "Epoch 25/500\n",
      "348/348 [==============================] - 1s 2ms/step - loss: 0.2804 - accuracy: 0.8753 - val_loss: 0.3637 - val_accuracy: 0.8592\n",
      "Epoch 26/500\n",
      "348/348 [==============================] - 1s 2ms/step - loss: 0.2800 - accuracy: 0.8762 - val_loss: 0.3842 - val_accuracy: 0.8492\n",
      "Epoch 27/500\n",
      "348/348 [==============================] - 1s 2ms/step - loss: 0.2778 - accuracy: 0.8760 - val_loss: 0.3599 - val_accuracy: 0.8633\n",
      "Epoch 28/500\n",
      "348/348 [==============================] - 1s 2ms/step - loss: 0.2777 - accuracy: 0.8781 - val_loss: 0.3842 - val_accuracy: 0.8442\n",
      "Epoch 29/500\n",
      "348/348 [==============================] - 1s 2ms/step - loss: 0.2774 - accuracy: 0.8753 - val_loss: 0.3783 - val_accuracy: 0.8517\n",
      "Epoch 30/500\n",
      "348/348 [==============================] - 1s 2ms/step - loss: 0.2751 - accuracy: 0.8751 - val_loss: 0.3770 - val_accuracy: 0.8558\n",
      "Epoch 31/500\n",
      "348/348 [==============================] - 1s 2ms/step - loss: 0.2756 - accuracy: 0.8773 - val_loss: 0.3664 - val_accuracy: 0.8575\n",
      "Epoch 32/500\n",
      "348/348 [==============================] - 1s 2ms/step - loss: 0.2754 - accuracy: 0.8775 - val_loss: 0.3610 - val_accuracy: 0.8617\n",
      "Epoch 33/500\n",
      "348/348 [==============================] - 1s 2ms/step - loss: 0.2721 - accuracy: 0.8776 - val_loss: 0.3452 - val_accuracy: 0.8633\n",
      "Epoch 34/500\n",
      "348/348 [==============================] - 1s 2ms/step - loss: 0.2753 - accuracy: 0.8766 - val_loss: 0.3740 - val_accuracy: 0.8525\n",
      "Epoch 35/500\n",
      "348/348 [==============================] - 1s 2ms/step - loss: 0.2754 - accuracy: 0.8788 - val_loss: 0.3781 - val_accuracy: 0.8508\n",
      "Epoch 36/500\n",
      "348/348 [==============================] - 1s 2ms/step - loss: 0.2739 - accuracy: 0.8782 - val_loss: 0.3701 - val_accuracy: 0.8508\n",
      "Epoch 37/500\n",
      "348/348 [==============================] - 1s 2ms/step - loss: 0.2740 - accuracy: 0.8799 - val_loss: 0.3589 - val_accuracy: 0.8600\n",
      "Epoch 38/500\n",
      "348/348 [==============================] - 1s 2ms/step - loss: 0.2717 - accuracy: 0.8804 - val_loss: 0.3579 - val_accuracy: 0.8575\n",
      "Epoch 39/500\n",
      "348/348 [==============================] - 1s 2ms/step - loss: 0.2725 - accuracy: 0.8790 - val_loss: 0.3801 - val_accuracy: 0.8533\n",
      "Epoch 40/500\n",
      "348/348 [==============================] - 1s 2ms/step - loss: 0.2721 - accuracy: 0.8790 - val_loss: 0.3636 - val_accuracy: 0.8617\n",
      "Epoch 41/500\n",
      "348/348 [==============================] - 1s 2ms/step - loss: 0.2694 - accuracy: 0.8798 - val_loss: 0.3544 - val_accuracy: 0.8692\n",
      "Epoch 42/500\n",
      "348/348 [==============================] - 1s 2ms/step - loss: 0.2752 - accuracy: 0.8773 - val_loss: 0.3687 - val_accuracy: 0.8517\n",
      "Epoch 43/500\n",
      "348/348 [==============================] - 1s 2ms/step - loss: 0.2737 - accuracy: 0.8779 - val_loss: 0.3560 - val_accuracy: 0.8667\n",
      "Epoch 44/500\n",
      "348/348 [==============================] - 1s 2ms/step - loss: 0.2709 - accuracy: 0.8797 - val_loss: 0.3590 - val_accuracy: 0.8650\n",
      "Epoch 45/500\n",
      "348/348 [==============================] - 1s 2ms/step - loss: 0.2704 - accuracy: 0.8784 - val_loss: 0.3596 - val_accuracy: 0.8592\n",
      "Epoch 46/500\n",
      "348/348 [==============================] - 1s 2ms/step - loss: 0.2705 - accuracy: 0.8821 - val_loss: 0.3845 - val_accuracy: 0.8483\n",
      "Epoch 47/500\n",
      "348/348 [==============================] - 1s 2ms/step - loss: 0.2681 - accuracy: 0.8798 - val_loss: 0.3678 - val_accuracy: 0.8583\n",
      "Epoch 48/500\n",
      "348/348 [==============================] - 1s 2ms/step - loss: 0.2694 - accuracy: 0.8793 - val_loss: 0.3716 - val_accuracy: 0.8542\n",
      "Epoch 49/500\n",
      "348/348 [==============================] - 1s 2ms/step - loss: 0.2689 - accuracy: 0.8835 - val_loss: 0.3694 - val_accuracy: 0.8575\n",
      "Epoch 50/500\n",
      "348/348 [==============================] - 1s 2ms/step - loss: 0.2677 - accuracy: 0.8807 - val_loss: 0.3724 - val_accuracy: 0.8508\n",
      "Epoch 51/500\n",
      "348/348 [==============================] - 1s 2ms/step - loss: 0.2670 - accuracy: 0.8826 - val_loss: 0.3630 - val_accuracy: 0.8600\n",
      "Epoch 52/500\n",
      "348/348 [==============================] - 1s 2ms/step - loss: 0.2665 - accuracy: 0.8822 - val_loss: 0.3908 - val_accuracy: 0.8500\n",
      "Epoch 53/500\n",
      "348/348 [==============================] - 1s 2ms/step - loss: 0.2692 - accuracy: 0.8809 - val_loss: 0.3657 - val_accuracy: 0.8517\n",
      "Epoch 54/500\n",
      "348/348 [==============================] - 1s 2ms/step - loss: 0.2688 - accuracy: 0.8815 - val_loss: 0.3658 - val_accuracy: 0.8567\n",
      "Epoch 55/500\n",
      "348/348 [==============================] - 1s 2ms/step - loss: 0.2669 - accuracy: 0.8818 - val_loss: 0.3615 - val_accuracy: 0.8567\n",
      "Epoch 56/500\n",
      "348/348 [==============================] - 1s 2ms/step - loss: 0.2634 - accuracy: 0.8830 - val_loss: 0.3723 - val_accuracy: 0.8542\n",
      "Epoch 57/500\n",
      "348/348 [==============================] - 1s 2ms/step - loss: 0.2637 - accuracy: 0.8824 - val_loss: 0.3720 - val_accuracy: 0.8533\n"
     ]
    },
    {
     "name": "stdout",
     "output_type": "stream",
     "text": [
      "Epoch 58/500\n",
      "348/348 [==============================] - 1s 2ms/step - loss: 0.2652 - accuracy: 0.8841 - val_loss: 0.3687 - val_accuracy: 0.8575\n",
      "Epoch 59/500\n",
      "348/348 [==============================] - 1s 2ms/step - loss: 0.2647 - accuracy: 0.8835 - val_loss: 0.3633 - val_accuracy: 0.8592\n",
      "Epoch 60/500\n",
      "348/348 [==============================] - 1s 2ms/step - loss: 0.2636 - accuracy: 0.8842 - val_loss: 0.3886 - val_accuracy: 0.8458\n",
      "Epoch 61/500\n",
      "348/348 [==============================] - 1s 2ms/step - loss: 0.2625 - accuracy: 0.8838 - val_loss: 0.3643 - val_accuracy: 0.8558\n",
      "Epoch 62/500\n",
      "348/348 [==============================] - 1s 2ms/step - loss: 0.2635 - accuracy: 0.8815 - val_loss: 0.3843 - val_accuracy: 0.8442\n",
      "Epoch 63/500\n",
      "348/348 [==============================] - 1s 2ms/step - loss: 0.2605 - accuracy: 0.8837 - val_loss: 0.3749 - val_accuracy: 0.8517\n",
      "Epoch 64/500\n",
      "348/348 [==============================] - 1s 2ms/step - loss: 0.2612 - accuracy: 0.8841 - val_loss: 0.3657 - val_accuracy: 0.8592\n",
      "Epoch 65/500\n",
      "348/348 [==============================] - 1s 2ms/step - loss: 0.2620 - accuracy: 0.8869 - val_loss: 0.3698 - val_accuracy: 0.8592\n",
      "Epoch 66/500\n",
      "348/348 [==============================] - 1s 3ms/step - loss: 0.2645 - accuracy: 0.8822 - val_loss: 0.3562 - val_accuracy: 0.8583\n",
      "Epoch 67/500\n",
      "348/348 [==============================] - 1s 3ms/step - loss: 0.2620 - accuracy: 0.8842 - val_loss: 0.3701 - val_accuracy: 0.8558\n",
      "Epoch 68/500\n",
      "348/348 [==============================] - 1s 2ms/step - loss: 0.2604 - accuracy: 0.8856 - val_loss: 0.3588 - val_accuracy: 0.8625\n",
      "Epoch 69/500\n",
      "348/348 [==============================] - 1s 2ms/step - loss: 0.2613 - accuracy: 0.8851 - val_loss: 0.3729 - val_accuracy: 0.8567\n",
      "Epoch 70/500\n",
      "348/348 [==============================] - 1s 2ms/step - loss: 0.2576 - accuracy: 0.8883 - val_loss: 0.3802 - val_accuracy: 0.8500\n",
      "Epoch 71/500\n",
      "348/348 [==============================] - 1s 2ms/step - loss: 0.2621 - accuracy: 0.8849 - val_loss: 0.3615 - val_accuracy: 0.8600\n",
      "Epoch 72/500\n",
      "348/348 [==============================] - 1s 2ms/step - loss: 0.2604 - accuracy: 0.8833 - val_loss: 0.3577 - val_accuracy: 0.8625\n",
      "Epoch 73/500\n",
      "348/348 [==============================] - 1s 3ms/step - loss: 0.2588 - accuracy: 0.8870 - val_loss: 0.3738 - val_accuracy: 0.8525\n",
      "Epoch 74/500\n",
      "348/348 [==============================] - 1s 2ms/step - loss: 0.2597 - accuracy: 0.8864 - val_loss: 0.3852 - val_accuracy: 0.8442\n",
      "Epoch 75/500\n",
      "348/348 [==============================] - 1s 2ms/step - loss: 0.2566 - accuracy: 0.8870 - val_loss: 0.3784 - val_accuracy: 0.8508\n",
      "Epoch 76/500\n",
      "348/348 [==============================] - 1s 2ms/step - loss: 0.2590 - accuracy: 0.8877 - val_loss: 0.3746 - val_accuracy: 0.8575\n",
      "Epoch 77/500\n",
      "348/348 [==============================] - 1s 2ms/step - loss: 0.2591 - accuracy: 0.8830 - val_loss: 0.3646 - val_accuracy: 0.8592\n",
      "Epoch 78/500\n",
      "348/348 [==============================] - 1s 2ms/step - loss: 0.2591 - accuracy: 0.8883 - val_loss: 0.3584 - val_accuracy: 0.8633\n",
      "Epoch 79/500\n",
      "348/348 [==============================] - 1s 2ms/step - loss: 0.2574 - accuracy: 0.8849 - val_loss: 0.3700 - val_accuracy: 0.8575\n",
      "Epoch 80/500\n",
      "348/348 [==============================] - 1s 2ms/step - loss: 0.2572 - accuracy: 0.8850 - val_loss: 0.3615 - val_accuracy: 0.8558\n",
      "Epoch 81/500\n",
      "348/348 [==============================] - 1s 2ms/step - loss: 0.2557 - accuracy: 0.8893 - val_loss: 0.3661 - val_accuracy: 0.8550\n",
      "Epoch 82/500\n",
      "348/348 [==============================] - 1s 2ms/step - loss: 0.2572 - accuracy: 0.8869 - val_loss: 0.3725 - val_accuracy: 0.8558\n",
      "Epoch 83/500\n",
      "348/348 [==============================] - 1s 2ms/step - loss: 0.2591 - accuracy: 0.8853 - val_loss: 0.3782 - val_accuracy: 0.8517\n",
      "Epoch 84/500\n",
      "348/348 [==============================] - 1s 2ms/step - loss: 0.2551 - accuracy: 0.8872 - val_loss: 0.3721 - val_accuracy: 0.8642\n",
      "Epoch 85/500\n",
      "348/348 [==============================] - 1s 2ms/step - loss: 0.2569 - accuracy: 0.8870 - val_loss: 0.3710 - val_accuracy: 0.8575\n",
      "Epoch 86/500\n",
      "348/348 [==============================] - 1s 2ms/step - loss: 0.2597 - accuracy: 0.8868 - val_loss: 0.3731 - val_accuracy: 0.8575\n",
      "Epoch 87/500\n",
      "348/348 [==============================] - 1s 2ms/step - loss: 0.2557 - accuracy: 0.8895 - val_loss: 0.3739 - val_accuracy: 0.8508\n",
      "Epoch 88/500\n",
      "348/348 [==============================] - 1s 3ms/step - loss: 0.2537 - accuracy: 0.8907 - val_loss: 0.3882 - val_accuracy: 0.8500\n",
      "Epoch 89/500\n",
      "348/348 [==============================] - 1s 3ms/step - loss: 0.2547 - accuracy: 0.8895 - val_loss: 0.3787 - val_accuracy: 0.8525\n",
      "Epoch 90/500\n",
      "348/348 [==============================] - 1s 3ms/step - loss: 0.2557 - accuracy: 0.8881 - val_loss: 0.3762 - val_accuracy: 0.8550\n",
      "Epoch 91/500\n",
      "348/348 [==============================] - 1s 2ms/step - loss: 0.2583 - accuracy: 0.8869 - val_loss: 0.3846 - val_accuracy: 0.8525\n",
      "Epoch 92/500\n",
      "348/348 [==============================] - 1s 3ms/step - loss: 0.2549 - accuracy: 0.8873 - val_loss: 0.3647 - val_accuracy: 0.8583\n",
      "Epoch 93/500\n",
      "348/348 [==============================] - 1s 3ms/step - loss: 0.2547 - accuracy: 0.8886 - val_loss: 0.3801 - val_accuracy: 0.8617\n",
      "Epoch 94/500\n",
      "348/348 [==============================] - 1s 2ms/step - loss: 0.2538 - accuracy: 0.8895 - val_loss: 0.3753 - val_accuracy: 0.8608\n",
      "Epoch 95/500\n",
      "348/348 [==============================] - 1s 2ms/step - loss: 0.2565 - accuracy: 0.8886 - val_loss: 0.3622 - val_accuracy: 0.8625\n",
      "Epoch 96/500\n",
      "348/348 [==============================] - 1s 2ms/step - loss: 0.2539 - accuracy: 0.8893 - val_loss: 0.3821 - val_accuracy: 0.8500\n",
      "Epoch 97/500\n",
      "348/348 [==============================] - 1s 3ms/step - loss: 0.2554 - accuracy: 0.8904 - val_loss: 0.3690 - val_accuracy: 0.8592\n",
      "Epoch 98/500\n",
      "348/348 [==============================] - 1s 2ms/step - loss: 0.2522 - accuracy: 0.8913 - val_loss: 0.3878 - val_accuracy: 0.8517\n",
      "Epoch 99/500\n",
      "348/348 [==============================] - 1s 2ms/step - loss: 0.2524 - accuracy: 0.8881 - val_loss: 0.3756 - val_accuracy: 0.8508\n",
      "Epoch 100/500\n",
      "348/348 [==============================] - 1s 2ms/step - loss: 0.2508 - accuracy: 0.8918 - val_loss: 0.3959 - val_accuracy: 0.8442\n",
      "Epoch 101/500\n",
      "348/348 [==============================] - 1s 2ms/step - loss: 0.2518 - accuracy: 0.8886 - val_loss: 0.3721 - val_accuracy: 0.8533\n",
      "Epoch 102/500\n",
      "348/348 [==============================] - 1s 2ms/step - loss: 0.2524 - accuracy: 0.8895 - val_loss: 0.3670 - val_accuracy: 0.8600\n",
      "Epoch 103/500\n",
      "348/348 [==============================] - 1s 2ms/step - loss: 0.2528 - accuracy: 0.8866 - val_loss: 0.3635 - val_accuracy: 0.8608\n",
      "Epoch 104/500\n",
      "348/348 [==============================] - 1s 2ms/step - loss: 0.2521 - accuracy: 0.8886 - val_loss: 0.3589 - val_accuracy: 0.8642\n",
      "Epoch 105/500\n",
      "348/348 [==============================] - 1s 2ms/step - loss: 0.2545 - accuracy: 0.8902 - val_loss: 0.3736 - val_accuracy: 0.8542\n",
      "Epoch 106/500\n",
      "348/348 [==============================] - 1s 2ms/step - loss: 0.2517 - accuracy: 0.8920 - val_loss: 0.3557 - val_accuracy: 0.8650\n",
      "Epoch 107/500\n",
      "348/348 [==============================] - 1s 2ms/step - loss: 0.2533 - accuracy: 0.8912 - val_loss: 0.3745 - val_accuracy: 0.8583\n",
      "Epoch 108/500\n",
      "348/348 [==============================] - 1s 2ms/step - loss: 0.2521 - accuracy: 0.8884 - val_loss: 0.3750 - val_accuracy: 0.8517\n",
      "Epoch 109/500\n",
      "348/348 [==============================] - 1s 2ms/step - loss: 0.2523 - accuracy: 0.8879 - val_loss: 0.3804 - val_accuracy: 0.8575\n",
      "Epoch 110/500\n",
      "348/348 [==============================] - 1s 2ms/step - loss: 0.2506 - accuracy: 0.8899 - val_loss: 0.3667 - val_accuracy: 0.8600\n",
      "Epoch 111/500\n",
      "348/348 [==============================] - 1s 2ms/step - loss: 0.2503 - accuracy: 0.8918 - val_loss: 0.3676 - val_accuracy: 0.8633\n",
      "Epoch 112/500\n",
      "348/348 [==============================] - 1s 2ms/step - loss: 0.2514 - accuracy: 0.8886 - val_loss: 0.3697 - val_accuracy: 0.8542\n",
      "Epoch 113/500\n",
      "348/348 [==============================] - 1s 2ms/step - loss: 0.2522 - accuracy: 0.8883 - val_loss: 0.3695 - val_accuracy: 0.8625\n",
      "Epoch 114/500\n",
      "348/348 [==============================] - 1s 2ms/step - loss: 0.2492 - accuracy: 0.8917 - val_loss: 0.3772 - val_accuracy: 0.8600\n"
     ]
    },
    {
     "name": "stdout",
     "output_type": "stream",
     "text": [
      "Epoch 115/500\n",
      "348/348 [==============================] - 1s 2ms/step - loss: 0.2488 - accuracy: 0.8910 - val_loss: 0.3804 - val_accuracy: 0.8508\n",
      "Epoch 116/500\n",
      "348/348 [==============================] - 1s 2ms/step - loss: 0.2544 - accuracy: 0.8896 - val_loss: 0.3713 - val_accuracy: 0.8625\n",
      "Epoch 117/500\n",
      "348/348 [==============================] - 1s 2ms/step - loss: 0.2473 - accuracy: 0.8928 - val_loss: 0.3739 - val_accuracy: 0.8608\n",
      "Epoch 118/500\n",
      "348/348 [==============================] - 1s 2ms/step - loss: 0.2516 - accuracy: 0.8925 - val_loss: 0.3733 - val_accuracy: 0.8608\n",
      "Epoch 119/500\n",
      "348/348 [==============================] - 1s 2ms/step - loss: 0.2527 - accuracy: 0.8904 - val_loss: 0.3808 - val_accuracy: 0.8533\n",
      "Epoch 120/500\n",
      "348/348 [==============================] - 1s 2ms/step - loss: 0.2527 - accuracy: 0.8883 - val_loss: 0.3745 - val_accuracy: 0.8583\n",
      "Epoch 121/500\n",
      "348/348 [==============================] - 1s 2ms/step - loss: 0.2526 - accuracy: 0.8923 - val_loss: 0.3782 - val_accuracy: 0.8592\n",
      "Epoch 122/500\n",
      "348/348 [==============================] - 1s 2ms/step - loss: 0.2479 - accuracy: 0.8911 - val_loss: 0.3850 - val_accuracy: 0.8550\n",
      "Epoch 123/500\n",
      "348/348 [==============================] - 1s 2ms/step - loss: 0.2484 - accuracy: 0.8913 - val_loss: 0.3612 - val_accuracy: 0.8675\n",
      "Epoch 124/500\n",
      "348/348 [==============================] - 1s 2ms/step - loss: 0.2491 - accuracy: 0.8893 - val_loss: 0.3688 - val_accuracy: 0.8658\n",
      "Epoch 125/500\n",
      "348/348 [==============================] - 1s 3ms/step - loss: 0.2504 - accuracy: 0.8921 - val_loss: 0.3736 - val_accuracy: 0.8683\n",
      "Epoch 126/500\n",
      "348/348 [==============================] - 1s 2ms/step - loss: 0.2508 - accuracy: 0.8902 - val_loss: 0.3785 - val_accuracy: 0.8608\n",
      "Epoch 127/500\n",
      "348/348 [==============================] - 1s 2ms/step - loss: 0.2519 - accuracy: 0.8889 - val_loss: 0.3915 - val_accuracy: 0.8508\n",
      "Epoch 128/500\n",
      "348/348 [==============================] - 1s 2ms/step - loss: 0.2494 - accuracy: 0.8912 - val_loss: 0.3830 - val_accuracy: 0.8550\n",
      "Epoch 129/500\n",
      "348/348 [==============================] - 1s 2ms/step - loss: 0.2486 - accuracy: 0.8930 - val_loss: 0.3866 - val_accuracy: 0.8508\n",
      "Epoch 130/500\n",
      "348/348 [==============================] - 1s 2ms/step - loss: 0.2494 - accuracy: 0.8922 - val_loss: 0.3811 - val_accuracy: 0.8500\n",
      "Epoch 131/500\n",
      "348/348 [==============================] - 1s 2ms/step - loss: 0.2506 - accuracy: 0.8886 - val_loss: 0.3699 - val_accuracy: 0.8600\n",
      "Epoch 132/500\n",
      "348/348 [==============================] - 1s 2ms/step - loss: 0.2484 - accuracy: 0.8929 - val_loss: 0.3660 - val_accuracy: 0.8667\n",
      "Epoch 133/500\n",
      "348/348 [==============================] - 1s 2ms/step - loss: 0.2479 - accuracy: 0.8935 - val_loss: 0.3763 - val_accuracy: 0.8583\n",
      "Epoch 134/500\n",
      "348/348 [==============================] - 1s 2ms/step - loss: 0.2497 - accuracy: 0.8925 - val_loss: 0.3795 - val_accuracy: 0.8583\n",
      "Epoch 135/500\n",
      "348/348 [==============================] - 1s 3ms/step - loss: 0.2469 - accuracy: 0.8918 - val_loss: 0.3749 - val_accuracy: 0.8650\n",
      "Epoch 136/500\n",
      "348/348 [==============================] - 1s 2ms/step - loss: 0.2488 - accuracy: 0.8896 - val_loss: 0.3690 - val_accuracy: 0.8608\n",
      "Epoch 137/500\n",
      "348/348 [==============================] - 1s 2ms/step - loss: 0.2470 - accuracy: 0.8915 - val_loss: 0.3834 - val_accuracy: 0.8608\n",
      "Epoch 138/500\n",
      "348/348 [==============================] - 1s 2ms/step - loss: 0.2478 - accuracy: 0.8913 - val_loss: 0.3801 - val_accuracy: 0.8567\n",
      "Epoch 139/500\n",
      "348/348 [==============================] - 1s 2ms/step - loss: 0.2453 - accuracy: 0.8963 - val_loss: 0.3786 - val_accuracy: 0.8600\n",
      "Epoch 140/500\n",
      "348/348 [==============================] - 1s 3ms/step - loss: 0.2470 - accuracy: 0.8910 - val_loss: 0.3787 - val_accuracy: 0.8608\n",
      "Epoch 141/500\n",
      "348/348 [==============================] - 1s 2ms/step - loss: 0.2447 - accuracy: 0.8943 - val_loss: 0.3680 - val_accuracy: 0.8617\n",
      "Epoch 142/500\n",
      "348/348 [==============================] - 1s 2ms/step - loss: 0.2434 - accuracy: 0.8945 - val_loss: 0.3751 - val_accuracy: 0.8658\n",
      "Epoch 143/500\n",
      "348/348 [==============================] - 1s 2ms/step - loss: 0.2460 - accuracy: 0.8945 - val_loss: 0.3740 - val_accuracy: 0.8625\n",
      "Epoch 144/500\n",
      "348/348 [==============================] - 1s 2ms/step - loss: 0.2450 - accuracy: 0.8940 - val_loss: 0.3769 - val_accuracy: 0.8658\n",
      "Epoch 145/500\n",
      "348/348 [==============================] - 1s 2ms/step - loss: 0.2482 - accuracy: 0.8924 - val_loss: 0.3635 - val_accuracy: 0.8633\n",
      "Epoch 146/500\n",
      "348/348 [==============================] - 1s 2ms/step - loss: 0.2447 - accuracy: 0.8951 - val_loss: 0.3766 - val_accuracy: 0.8625\n",
      "Epoch 147/500\n",
      "348/348 [==============================] - 1s 2ms/step - loss: 0.2435 - accuracy: 0.8953 - val_loss: 0.3649 - val_accuracy: 0.8692\n",
      "Epoch 148/500\n",
      "348/348 [==============================] - 1s 2ms/step - loss: 0.2491 - accuracy: 0.8890 - val_loss: 0.3780 - val_accuracy: 0.8675\n",
      "Epoch 149/500\n",
      "348/348 [==============================] - 1s 2ms/step - loss: 0.2485 - accuracy: 0.8905 - val_loss: 0.3854 - val_accuracy: 0.8575\n",
      "Epoch 150/500\n",
      "348/348 [==============================] - 1s 2ms/step - loss: 0.2420 - accuracy: 0.8925 - val_loss: 0.3790 - val_accuracy: 0.8600\n",
      "Epoch 151/500\n",
      "348/348 [==============================] - 1s 2ms/step - loss: 0.2445 - accuracy: 0.8925 - val_loss: 0.3622 - val_accuracy: 0.8700\n",
      "Epoch 152/500\n",
      "348/348 [==============================] - 1s 2ms/step - loss: 0.2439 - accuracy: 0.8937 - val_loss: 0.3702 - val_accuracy: 0.8625\n",
      "Epoch 153/500\n",
      "348/348 [==============================] - 1s 2ms/step - loss: 0.2449 - accuracy: 0.8915 - val_loss: 0.3701 - val_accuracy: 0.8667\n",
      "Epoch 154/500\n",
      "348/348 [==============================] - 1s 2ms/step - loss: 0.2426 - accuracy: 0.8959 - val_loss: 0.3729 - val_accuracy: 0.8617\n",
      "Epoch 155/500\n",
      "348/348 [==============================] - 1s 2ms/step - loss: 0.2450 - accuracy: 0.8921 - val_loss: 0.3781 - val_accuracy: 0.8583\n",
      "Epoch 156/500\n",
      "348/348 [==============================] - 1s 2ms/step - loss: 0.2451 - accuracy: 0.8915 - val_loss: 0.3666 - val_accuracy: 0.8667\n",
      "Epoch 157/500\n",
      "348/348 [==============================] - 1s 2ms/step - loss: 0.2447 - accuracy: 0.8911 - val_loss: 0.3793 - val_accuracy: 0.8600\n",
      "Epoch 158/500\n",
      "348/348 [==============================] - 1s 2ms/step - loss: 0.2432 - accuracy: 0.8917 - val_loss: 0.3732 - val_accuracy: 0.8650\n",
      "Epoch 159/500\n",
      "348/348 [==============================] - 1s 2ms/step - loss: 0.2429 - accuracy: 0.8940 - val_loss: 0.3771 - val_accuracy: 0.8642\n",
      "Epoch 160/500\n",
      "348/348 [==============================] - 1s 2ms/step - loss: 0.2439 - accuracy: 0.8932 - val_loss: 0.3857 - val_accuracy: 0.8567\n",
      "Epoch 161/500\n",
      "348/348 [==============================] - 1s 2ms/step - loss: 0.2388 - accuracy: 0.8977 - val_loss: 0.3825 - val_accuracy: 0.8600\n",
      "Epoch 162/500\n",
      "348/348 [==============================] - 1s 2ms/step - loss: 0.2464 - accuracy: 0.8915 - val_loss: 0.3874 - val_accuracy: 0.8500\n",
      "Epoch 163/500\n",
      "348/348 [==============================] - 1s 2ms/step - loss: 0.2455 - accuracy: 0.8939 - val_loss: 0.3782 - val_accuracy: 0.8625\n",
      "Epoch 164/500\n",
      "348/348 [==============================] - 1s 2ms/step - loss: 0.2421 - accuracy: 0.8936 - val_loss: 0.3860 - val_accuracy: 0.8558\n",
      "Epoch 165/500\n",
      "348/348 [==============================] - 1s 2ms/step - loss: 0.2427 - accuracy: 0.8952 - val_loss: 0.3882 - val_accuracy: 0.8533\n",
      "Epoch 166/500\n",
      "348/348 [==============================] - 1s 2ms/step - loss: 0.2417 - accuracy: 0.8962 - val_loss: 0.3716 - val_accuracy: 0.8625\n",
      "Epoch 167/500\n",
      "348/348 [==============================] - 1s 2ms/step - loss: 0.2450 - accuracy: 0.8926 - val_loss: 0.3785 - val_accuracy: 0.8633\n",
      "Epoch 168/500\n",
      "348/348 [==============================] - 1s 2ms/step - loss: 0.2425 - accuracy: 0.8959 - val_loss: 0.3844 - val_accuracy: 0.8550\n",
      "Epoch 169/500\n",
      "348/348 [==============================] - 1s 2ms/step - loss: 0.2397 - accuracy: 0.8953 - val_loss: 0.3806 - val_accuracy: 0.8608\n",
      "Epoch 170/500\n",
      "348/348 [==============================] - 1s 2ms/step - loss: 0.2406 - accuracy: 0.8961 - val_loss: 0.3715 - val_accuracy: 0.8642\n",
      "Epoch 171/500\n"
     ]
    },
    {
     "name": "stdout",
     "output_type": "stream",
     "text": [
      "348/348 [==============================] - 1s 2ms/step - loss: 0.2423 - accuracy: 0.8935 - val_loss: 0.3737 - val_accuracy: 0.8608\n",
      "Epoch 172/500\n",
      "348/348 [==============================] - 1s 2ms/step - loss: 0.2427 - accuracy: 0.8958 - val_loss: 0.3765 - val_accuracy: 0.8542\n",
      "Epoch 173/500\n",
      "348/348 [==============================] - 1s 2ms/step - loss: 0.2430 - accuracy: 0.8948 - val_loss: 0.3722 - val_accuracy: 0.8592\n",
      "Epoch 174/500\n",
      "348/348 [==============================] - 1s 2ms/step - loss: 0.2416 - accuracy: 0.8943 - val_loss: 0.3754 - val_accuracy: 0.8625\n",
      "Epoch 175/500\n",
      "348/348 [==============================] - 1s 2ms/step - loss: 0.2409 - accuracy: 0.8940 - val_loss: 0.3679 - val_accuracy: 0.8683\n",
      "Epoch 176/500\n",
      "348/348 [==============================] - 1s 2ms/step - loss: 0.2408 - accuracy: 0.8932 - val_loss: 0.3820 - val_accuracy: 0.8592\n",
      "Epoch 177/500\n",
      "348/348 [==============================] - 1s 2ms/step - loss: 0.2417 - accuracy: 0.8957 - val_loss: 0.3762 - val_accuracy: 0.8625\n",
      "Epoch 178/500\n",
      "348/348 [==============================] - 1s 2ms/step - loss: 0.2394 - accuracy: 0.8943 - val_loss: 0.3722 - val_accuracy: 0.8625\n",
      "Epoch 179/500\n",
      "348/348 [==============================] - 1s 2ms/step - loss: 0.2433 - accuracy: 0.8930 - val_loss: 0.3766 - val_accuracy: 0.8508\n",
      "Epoch 180/500\n",
      "348/348 [==============================] - 1s 2ms/step - loss: 0.2388 - accuracy: 0.8974 - val_loss: 0.3940 - val_accuracy: 0.8542\n",
      "Epoch 181/500\n",
      "348/348 [==============================] - 1s 2ms/step - loss: 0.2422 - accuracy: 0.8941 - val_loss: 0.3843 - val_accuracy: 0.8617\n",
      "Epoch 182/500\n",
      "348/348 [==============================] - 1s 2ms/step - loss: 0.2421 - accuracy: 0.8967 - val_loss: 0.3746 - val_accuracy: 0.8642\n",
      "Epoch 183/500\n",
      "348/348 [==============================] - 1s 2ms/step - loss: 0.2409 - accuracy: 0.8960 - val_loss: 0.3834 - val_accuracy: 0.8583\n",
      "Epoch 184/500\n",
      "348/348 [==============================] - 1s 2ms/step - loss: 0.2419 - accuracy: 0.8955 - val_loss: 0.3845 - val_accuracy: 0.8550\n",
      "Epoch 185/500\n",
      "348/348 [==============================] - 1s 2ms/step - loss: 0.2408 - accuracy: 0.8951 - val_loss: 0.3872 - val_accuracy: 0.8600\n",
      "Epoch 186/500\n",
      "348/348 [==============================] - 1s 2ms/step - loss: 0.2385 - accuracy: 0.8966 - val_loss: 0.3912 - val_accuracy: 0.8558\n",
      "Epoch 187/500\n",
      "348/348 [==============================] - 1s 2ms/step - loss: 0.2377 - accuracy: 0.8965 - val_loss: 0.3818 - val_accuracy: 0.8550\n",
      "Epoch 188/500\n",
      "348/348 [==============================] - 1s 2ms/step - loss: 0.2407 - accuracy: 0.8935 - val_loss: 0.3860 - val_accuracy: 0.8608\n",
      "Epoch 189/500\n",
      "348/348 [==============================] - 1s 2ms/step - loss: 0.2408 - accuracy: 0.8961 - val_loss: 0.3727 - val_accuracy: 0.8642\n",
      "Epoch 190/500\n",
      "348/348 [==============================] - 1s 2ms/step - loss: 0.2417 - accuracy: 0.8958 - val_loss: 0.3793 - val_accuracy: 0.8650\n",
      "Epoch 191/500\n",
      "348/348 [==============================] - 1s 3ms/step - loss: 0.2397 - accuracy: 0.8966 - val_loss: 0.3830 - val_accuracy: 0.8608\n",
      "Epoch 192/500\n",
      "348/348 [==============================] - 1s 3ms/step - loss: 0.2388 - accuracy: 0.8958 - val_loss: 0.3757 - val_accuracy: 0.8592\n",
      "Epoch 193/500\n",
      "348/348 [==============================] - 1s 3ms/step - loss: 0.2408 - accuracy: 0.8957 - val_loss: 0.3856 - val_accuracy: 0.8583\n",
      "Epoch 194/500\n",
      "348/348 [==============================] - 1s 3ms/step - loss: 0.2412 - accuracy: 0.8961 - val_loss: 0.3828 - val_accuracy: 0.8600\n",
      "Epoch 195/500\n",
      "348/348 [==============================] - 1s 2ms/step - loss: 0.2433 - accuracy: 0.8957 - val_loss: 0.3717 - val_accuracy: 0.8675\n",
      "Epoch 196/500\n",
      "348/348 [==============================] - 1s 2ms/step - loss: 0.2404 - accuracy: 0.8948 - val_loss: 0.3833 - val_accuracy: 0.8625\n",
      "Epoch 197/500\n",
      "348/348 [==============================] - 1s 3ms/step - loss: 0.2382 - accuracy: 0.8965 - val_loss: 0.3905 - val_accuracy: 0.8575\n",
      "Epoch 198/500\n",
      "348/348 [==============================] - 1s 3ms/step - loss: 0.2393 - accuracy: 0.8949 - val_loss: 0.3865 - val_accuracy: 0.8650\n",
      "Epoch 199/500\n",
      "348/348 [==============================] - 1s 2ms/step - loss: 0.2375 - accuracy: 0.8978 - val_loss: 0.3811 - val_accuracy: 0.8600\n",
      "Epoch 200/500\n",
      "348/348 [==============================] - 1s 3ms/step - loss: 0.2382 - accuracy: 0.8974 - val_loss: 0.3771 - val_accuracy: 0.8617\n",
      "Epoch 201/500\n",
      "348/348 [==============================] - 1s 3ms/step - loss: 0.2417 - accuracy: 0.8957 - val_loss: 0.3781 - val_accuracy: 0.8592\n",
      "Epoch 202/500\n",
      "348/348 [==============================] - 1s 2ms/step - loss: 0.2387 - accuracy: 0.8970 - val_loss: 0.3863 - val_accuracy: 0.8525\n",
      "Epoch 203/500\n",
      "348/348 [==============================] - 1s 2ms/step - loss: 0.2422 - accuracy: 0.8947 - val_loss: 0.3811 - val_accuracy: 0.8642\n",
      "Epoch 204/500\n",
      "348/348 [==============================] - 1s 2ms/step - loss: 0.2395 - accuracy: 0.8960 - val_loss: 0.3954 - val_accuracy: 0.8583\n",
      "Epoch 205/500\n",
      "348/348 [==============================] - 1s 2ms/step - loss: 0.2401 - accuracy: 0.8960 - val_loss: 0.3965 - val_accuracy: 0.8550\n",
      "Epoch 206/500\n",
      "348/348 [==============================] - 1s 2ms/step - loss: 0.2402 - accuracy: 0.8961 - val_loss: 0.3857 - val_accuracy: 0.8558\n",
      "Epoch 207/500\n",
      "348/348 [==============================] - 1s 2ms/step - loss: 0.2353 - accuracy: 0.8970 - val_loss: 0.3925 - val_accuracy: 0.8583\n",
      "Epoch 208/500\n",
      "348/348 [==============================] - 1s 2ms/step - loss: 0.2349 - accuracy: 0.8975 - val_loss: 0.3878 - val_accuracy: 0.8517\n",
      "Epoch 209/500\n",
      "348/348 [==============================] - 1s 2ms/step - loss: 0.2378 - accuracy: 0.8982 - val_loss: 0.3843 - val_accuracy: 0.8617\n",
      "Epoch 210/500\n",
      "348/348 [==============================] - 1s 2ms/step - loss: 0.2346 - accuracy: 0.8974 - val_loss: 0.3977 - val_accuracy: 0.8542\n",
      "Epoch 211/500\n",
      "348/348 [==============================] - 1s 2ms/step - loss: 0.2385 - accuracy: 0.8984 - val_loss: 0.3961 - val_accuracy: 0.8567\n",
      "Epoch 212/500\n",
      "348/348 [==============================] - 1s 2ms/step - loss: 0.2364 - accuracy: 0.8946 - val_loss: 0.3896 - val_accuracy: 0.8583\n",
      "Epoch 213/500\n",
      "348/348 [==============================] - 1s 2ms/step - loss: 0.2390 - accuracy: 0.8947 - val_loss: 0.3891 - val_accuracy: 0.8542\n",
      "Epoch 214/500\n",
      "348/348 [==============================] - 1s 2ms/step - loss: 0.2412 - accuracy: 0.8939 - val_loss: 0.3747 - val_accuracy: 0.8608\n",
      "Epoch 215/500\n",
      "348/348 [==============================] - 1s 3ms/step - loss: 0.2355 - accuracy: 0.8965 - val_loss: 0.3880 - val_accuracy: 0.8567\n",
      "Epoch 216/500\n",
      "348/348 [==============================] - 1s 2ms/step - loss: 0.2399 - accuracy: 0.8976 - val_loss: 0.3946 - val_accuracy: 0.8483\n",
      "Epoch 217/500\n",
      "348/348 [==============================] - 1s 2ms/step - loss: 0.2365 - accuracy: 0.8970 - val_loss: 0.3947 - val_accuracy: 0.8550\n",
      "Epoch 218/500\n",
      "348/348 [==============================] - 1s 2ms/step - loss: 0.2347 - accuracy: 0.8970 - val_loss: 0.3754 - val_accuracy: 0.8650\n",
      "Epoch 219/500\n",
      "348/348 [==============================] - 1s 2ms/step - loss: 0.2411 - accuracy: 0.8948 - val_loss: 0.3790 - val_accuracy: 0.8625\n",
      "Epoch 220/500\n",
      "348/348 [==============================] - 1s 2ms/step - loss: 0.2366 - accuracy: 0.8958 - val_loss: 0.3994 - val_accuracy: 0.8483\n",
      "Epoch 221/500\n",
      "348/348 [==============================] - 1s 2ms/step - loss: 0.2370 - accuracy: 0.8963 - val_loss: 0.3819 - val_accuracy: 0.8567\n",
      "Epoch 222/500\n",
      "348/348 [==============================] - 1s 2ms/step - loss: 0.2433 - accuracy: 0.8968 - val_loss: 0.3901 - val_accuracy: 0.8533\n",
      "Epoch 223/500\n",
      "348/348 [==============================] - 1s 3ms/step - loss: 0.2345 - accuracy: 0.8977 - val_loss: 0.3788 - val_accuracy: 0.8592\n",
      "Epoch 224/500\n",
      "348/348 [==============================] - 1s 3ms/step - loss: 0.2356 - accuracy: 0.8970 - val_loss: 0.3842 - val_accuracy: 0.8617\n",
      "Epoch 225/500\n",
      "348/348 [==============================] - 1s 2ms/step - loss: 0.2363 - accuracy: 0.8952 - val_loss: 0.3967 - val_accuracy: 0.8525\n",
      "Epoch 226/500\n",
      "348/348 [==============================] - 1s 2ms/step - loss: 0.2371 - accuracy: 0.8978 - val_loss: 0.4071 - val_accuracy: 0.8508\n",
      "Epoch 227/500\n"
     ]
    },
    {
     "name": "stdout",
     "output_type": "stream",
     "text": [
      "348/348 [==============================] - 1s 2ms/step - loss: 0.2372 - accuracy: 0.8959 - val_loss: 0.3861 - val_accuracy: 0.8550\n",
      "Epoch 228/500\n",
      "348/348 [==============================] - 1s 2ms/step - loss: 0.2348 - accuracy: 0.8978 - val_loss: 0.3850 - val_accuracy: 0.8550\n",
      "Epoch 229/500\n",
      "348/348 [==============================] - 1s 2ms/step - loss: 0.2377 - accuracy: 0.8969 - val_loss: 0.3814 - val_accuracy: 0.8617\n",
      "Epoch 230/500\n",
      "348/348 [==============================] - 1s 2ms/step - loss: 0.2352 - accuracy: 0.8977 - val_loss: 0.3991 - val_accuracy: 0.8500\n",
      "Epoch 231/500\n",
      "348/348 [==============================] - 1s 2ms/step - loss: 0.2392 - accuracy: 0.8991 - val_loss: 0.3837 - val_accuracy: 0.8583\n",
      "Epoch 232/500\n",
      "348/348 [==============================] - 1s 2ms/step - loss: 0.2359 - accuracy: 0.8976 - val_loss: 0.3861 - val_accuracy: 0.8625\n",
      "Epoch 233/500\n",
      "348/348 [==============================] - 1s 2ms/step - loss: 0.2365 - accuracy: 0.9001 - val_loss: 0.3819 - val_accuracy: 0.8567\n",
      "Epoch 234/500\n",
      "348/348 [==============================] - 1s 2ms/step - loss: 0.2353 - accuracy: 0.8996 - val_loss: 0.3785 - val_accuracy: 0.8625\n",
      "Epoch 235/500\n",
      "348/348 [==============================] - 1s 2ms/step - loss: 0.2384 - accuracy: 0.8990 - val_loss: 0.3840 - val_accuracy: 0.8533\n",
      "Epoch 236/500\n",
      "348/348 [==============================] - 1s 2ms/step - loss: 0.2357 - accuracy: 0.8966 - val_loss: 0.3871 - val_accuracy: 0.8575\n",
      "Epoch 237/500\n",
      "348/348 [==============================] - 1s 2ms/step - loss: 0.2372 - accuracy: 0.8992 - val_loss: 0.3897 - val_accuracy: 0.8592\n",
      "Epoch 238/500\n",
      "348/348 [==============================] - 1s 2ms/step - loss: 0.2362 - accuracy: 0.8968 - val_loss: 0.3965 - val_accuracy: 0.8517\n",
      "Epoch 239/500\n",
      "348/348 [==============================] - 1s 2ms/step - loss: 0.2354 - accuracy: 0.8974 - val_loss: 0.3888 - val_accuracy: 0.8558\n",
      "Epoch 240/500\n",
      "348/348 [==============================] - 1s 2ms/step - loss: 0.2364 - accuracy: 0.8989 - val_loss: 0.3867 - val_accuracy: 0.8600\n",
      "Epoch 241/500\n",
      "348/348 [==============================] - 1s 2ms/step - loss: 0.2381 - accuracy: 0.8985 - val_loss: 0.3904 - val_accuracy: 0.8533\n",
      "Epoch 242/500\n",
      "348/348 [==============================] - 1s 3ms/step - loss: 0.2392 - accuracy: 0.8955 - val_loss: 0.3850 - val_accuracy: 0.8567\n",
      "Epoch 243/500\n",
      "348/348 [==============================] - 1s 2ms/step - loss: 0.2329 - accuracy: 0.8987 - val_loss: 0.3788 - val_accuracy: 0.8617\n",
      "Epoch 244/500\n",
      "348/348 [==============================] - 1s 2ms/step - loss: 0.2383 - accuracy: 0.8975 - val_loss: 0.3984 - val_accuracy: 0.8492\n",
      "Epoch 245/500\n",
      "348/348 [==============================] - 1s 2ms/step - loss: 0.2341 - accuracy: 0.8962 - val_loss: 0.3880 - val_accuracy: 0.8558\n",
      "Epoch 246/500\n",
      "348/348 [==============================] - 1s 2ms/step - loss: 0.2337 - accuracy: 0.8947 - val_loss: 0.3826 - val_accuracy: 0.8567\n",
      "Epoch 247/500\n",
      "348/348 [==============================] - 1s 2ms/step - loss: 0.2353 - accuracy: 0.8982 - val_loss: 0.3924 - val_accuracy: 0.8558\n",
      "Epoch 248/500\n",
      "348/348 [==============================] - 1s 2ms/step - loss: 0.2338 - accuracy: 0.8994 - val_loss: 0.3943 - val_accuracy: 0.8583\n",
      "Epoch 249/500\n",
      "348/348 [==============================] - 1s 2ms/step - loss: 0.2335 - accuracy: 0.8996 - val_loss: 0.3880 - val_accuracy: 0.8608\n",
      "Epoch 250/500\n",
      "348/348 [==============================] - 1s 2ms/step - loss: 0.2382 - accuracy: 0.8970 - val_loss: 0.3809 - val_accuracy: 0.8575\n",
      "Epoch 251/500\n",
      "348/348 [==============================] - 1s 2ms/step - loss: 0.2324 - accuracy: 0.9009 - val_loss: 0.3919 - val_accuracy: 0.8558\n",
      "Epoch 252/500\n",
      "348/348 [==============================] - 1s 2ms/step - loss: 0.2376 - accuracy: 0.8967 - val_loss: 0.4030 - val_accuracy: 0.8575\n",
      "Epoch 253/500\n",
      "348/348 [==============================] - 1s 3ms/step - loss: 0.2335 - accuracy: 0.8999 - val_loss: 0.3925 - val_accuracy: 0.8617\n",
      "Epoch 254/500\n",
      "348/348 [==============================] - 1s 3ms/step - loss: 0.2358 - accuracy: 0.8992 - val_loss: 0.3890 - val_accuracy: 0.8550\n",
      "Epoch 255/500\n",
      "348/348 [==============================] - 1s 2ms/step - loss: 0.2358 - accuracy: 0.8982 - val_loss: 0.3881 - val_accuracy: 0.8567\n",
      "Epoch 256/500\n",
      "348/348 [==============================] - 1s 3ms/step - loss: 0.2348 - accuracy: 0.8983 - val_loss: 0.3898 - val_accuracy: 0.8567\n",
      "Epoch 257/500\n",
      "348/348 [==============================] - 1s 3ms/step - loss: 0.2365 - accuracy: 0.8992 - val_loss: 0.3945 - val_accuracy: 0.8558\n",
      "Epoch 258/500\n",
      "348/348 [==============================] - 1s 3ms/step - loss: 0.2349 - accuracy: 0.8974 - val_loss: 0.3834 - val_accuracy: 0.8592\n",
      "Epoch 259/500\n",
      "348/348 [==============================] - 1s 3ms/step - loss: 0.2356 - accuracy: 0.8978 - val_loss: 0.3976 - val_accuracy: 0.8533\n",
      "Epoch 260/500\n",
      "348/348 [==============================] - 1s 3ms/step - loss: 0.2345 - accuracy: 0.9015 - val_loss: 0.3836 - val_accuracy: 0.8592\n",
      "Epoch 261/500\n",
      "348/348 [==============================] - 1s 2ms/step - loss: 0.2322 - accuracy: 0.8991 - val_loss: 0.3884 - val_accuracy: 0.8558\n",
      "Epoch 262/500\n",
      "348/348 [==============================] - 1s 3ms/step - loss: 0.2331 - accuracy: 0.8966 - val_loss: 0.3993 - val_accuracy: 0.8508\n",
      "Epoch 263/500\n",
      "348/348 [==============================] - 1s 3ms/step - loss: 0.2318 - accuracy: 0.9003 - val_loss: 0.3844 - val_accuracy: 0.8542\n",
      "Epoch 264/500\n",
      "348/348 [==============================] - 1s 3ms/step - loss: 0.2362 - accuracy: 0.8988 - val_loss: 0.3821 - val_accuracy: 0.8617\n",
      "Epoch 265/500\n",
      "348/348 [==============================] - 1s 4ms/step - loss: 0.2370 - accuracy: 0.8967 - val_loss: 0.3839 - val_accuracy: 0.8558\n",
      "Epoch 266/500\n",
      "348/348 [==============================] - 1s 4ms/step - loss: 0.2330 - accuracy: 0.8982 - val_loss: 0.3876 - val_accuracy: 0.8542\n",
      "Epoch 267/500\n",
      "348/348 [==============================] - 1s 4ms/step - loss: 0.2324 - accuracy: 0.9003 - val_loss: 0.4091 - val_accuracy: 0.8500\n",
      "Epoch 268/500\n",
      "348/348 [==============================] - 1s 3ms/step - loss: 0.2341 - accuracy: 0.8985 - val_loss: 0.4009 - val_accuracy: 0.8492\n",
      "Epoch 269/500\n",
      "348/348 [==============================] - 1s 2ms/step - loss: 0.2326 - accuracy: 0.8991 - val_loss: 0.3959 - val_accuracy: 0.8550\n",
      "Epoch 270/500\n",
      "348/348 [==============================] - 1s 2ms/step - loss: 0.2371 - accuracy: 0.8974 - val_loss: 0.3924 - val_accuracy: 0.8533\n",
      "Epoch 271/500\n",
      "348/348 [==============================] - 1s 2ms/step - loss: 0.2367 - accuracy: 0.8982 - val_loss: 0.3949 - val_accuracy: 0.8467\n",
      "Epoch 272/500\n",
      "348/348 [==============================] - 1s 2ms/step - loss: 0.2296 - accuracy: 0.8982 - val_loss: 0.4021 - val_accuracy: 0.8542\n",
      "Epoch 273/500\n",
      "348/348 [==============================] - 1s 2ms/step - loss: 0.2339 - accuracy: 0.8977 - val_loss: 0.3754 - val_accuracy: 0.8600\n",
      "Epoch 274/500\n",
      "348/348 [==============================] - 1s 2ms/step - loss: 0.2387 - accuracy: 0.8971 - val_loss: 0.3877 - val_accuracy: 0.8600\n",
      "Epoch 275/500\n",
      "348/348 [==============================] - 1s 2ms/step - loss: 0.2350 - accuracy: 0.8991 - val_loss: 0.3882 - val_accuracy: 0.8567\n",
      "Epoch 276/500\n",
      "348/348 [==============================] - 1s 2ms/step - loss: 0.2348 - accuracy: 0.8981 - val_loss: 0.3971 - val_accuracy: 0.8533\n",
      "Epoch 277/500\n",
      "348/348 [==============================] - 1s 2ms/step - loss: 0.2368 - accuracy: 0.8973 - val_loss: 0.3889 - val_accuracy: 0.8542\n",
      "Epoch 278/500\n",
      "348/348 [==============================] - 1s 2ms/step - loss: 0.2303 - accuracy: 0.9005 - val_loss: 0.3740 - val_accuracy: 0.8583\n",
      "Epoch 279/500\n",
      "348/348 [==============================] - 1s 2ms/step - loss: 0.2338 - accuracy: 0.8982 - val_loss: 0.3891 - val_accuracy: 0.8492\n",
      "Epoch 280/500\n",
      "348/348 [==============================] - 1s 2ms/step - loss: 0.2353 - accuracy: 0.9009 - val_loss: 0.3778 - val_accuracy: 0.8583\n",
      "Epoch 281/500\n",
      "348/348 [==============================] - 1s 2ms/step - loss: 0.2347 - accuracy: 0.8964 - val_loss: 0.3800 - val_accuracy: 0.8642\n",
      "Epoch 282/500\n",
      "348/348 [==============================] - 1s 2ms/step - loss: 0.2336 - accuracy: 0.8994 - val_loss: 0.3912 - val_accuracy: 0.8517\n",
      "Epoch 283/500\n"
     ]
    },
    {
     "name": "stdout",
     "output_type": "stream",
     "text": [
      "348/348 [==============================] - 1s 2ms/step - loss: 0.2378 - accuracy: 0.8972 - val_loss: 0.3920 - val_accuracy: 0.8475\n",
      "Epoch 284/500\n",
      "348/348 [==============================] - 1s 2ms/step - loss: 0.2315 - accuracy: 0.8988 - val_loss: 0.3849 - val_accuracy: 0.8583\n",
      "Epoch 285/500\n",
      "348/348 [==============================] - 1s 2ms/step - loss: 0.2357 - accuracy: 0.8998 - val_loss: 0.3817 - val_accuracy: 0.8625\n",
      "Epoch 286/500\n",
      "348/348 [==============================] - 1s 2ms/step - loss: 0.2318 - accuracy: 0.8990 - val_loss: 0.3818 - val_accuracy: 0.8575\n",
      "Epoch 287/500\n",
      "348/348 [==============================] - 1s 3ms/step - loss: 0.2396 - accuracy: 0.8978 - val_loss: 0.3809 - val_accuracy: 0.8583\n",
      "Epoch 288/500\n",
      "348/348 [==============================] - 1s 2ms/step - loss: 0.2299 - accuracy: 0.9016 - val_loss: 0.3886 - val_accuracy: 0.8592\n",
      "Epoch 289/500\n",
      "348/348 [==============================] - 1s 2ms/step - loss: 0.2322 - accuracy: 0.8977 - val_loss: 0.3858 - val_accuracy: 0.8575\n",
      "Epoch 290/500\n",
      "348/348 [==============================] - 1s 2ms/step - loss: 0.2326 - accuracy: 0.8986 - val_loss: 0.3876 - val_accuracy: 0.8625\n",
      "Epoch 291/500\n",
      "348/348 [==============================] - 1s 2ms/step - loss: 0.2291 - accuracy: 0.9027 - val_loss: 0.3903 - val_accuracy: 0.8583\n",
      "Epoch 292/500\n",
      "348/348 [==============================] - 1s 2ms/step - loss: 0.2306 - accuracy: 0.8999 - val_loss: 0.3920 - val_accuracy: 0.8550\n",
      "Epoch 293/500\n",
      "348/348 [==============================] - 1s 2ms/step - loss: 0.2357 - accuracy: 0.8990 - val_loss: 0.3947 - val_accuracy: 0.8542\n",
      "Epoch 294/500\n",
      "348/348 [==============================] - 1s 2ms/step - loss: 0.2321 - accuracy: 0.8994 - val_loss: 0.3894 - val_accuracy: 0.8558\n",
      "Epoch 295/500\n",
      "348/348 [==============================] - 1s 2ms/step - loss: 0.2318 - accuracy: 0.8999 - val_loss: 0.3859 - val_accuracy: 0.8550\n",
      "Epoch 296/500\n",
      "348/348 [==============================] - 1s 2ms/step - loss: 0.2329 - accuracy: 0.9028 - val_loss: 0.3984 - val_accuracy: 0.8558\n",
      "Epoch 297/500\n",
      "348/348 [==============================] - 1s 2ms/step - loss: 0.2317 - accuracy: 0.9010 - val_loss: 0.3927 - val_accuracy: 0.8558\n",
      "Epoch 298/500\n",
      "348/348 [==============================] - 1s 2ms/step - loss: 0.2294 - accuracy: 0.9010 - val_loss: 0.3952 - val_accuracy: 0.8567\n",
      "Epoch 299/500\n",
      "348/348 [==============================] - 1s 2ms/step - loss: 0.2317 - accuracy: 0.9001 - val_loss: 0.3831 - val_accuracy: 0.8600\n",
      "Epoch 300/500\n",
      "348/348 [==============================] - 1s 2ms/step - loss: 0.2307 - accuracy: 0.9012 - val_loss: 0.3821 - val_accuracy: 0.8608\n",
      "Epoch 301/500\n",
      "348/348 [==============================] - 1s 2ms/step - loss: 0.2330 - accuracy: 0.8991 - val_loss: 0.3763 - val_accuracy: 0.8608\n",
      "Epoch 302/500\n",
      "348/348 [==============================] - 1s 2ms/step - loss: 0.2332 - accuracy: 0.9013 - val_loss: 0.3928 - val_accuracy: 0.8517\n",
      "Epoch 303/500\n",
      "348/348 [==============================] - 1s 3ms/step - loss: 0.2336 - accuracy: 0.8979 - val_loss: 0.3963 - val_accuracy: 0.8492\n",
      "Epoch 304/500\n",
      "348/348 [==============================] - 1s 3ms/step - loss: 0.2310 - accuracy: 0.9001 - val_loss: 0.3824 - val_accuracy: 0.8550\n",
      "Epoch 305/500\n",
      "348/348 [==============================] - 1s 2ms/step - loss: 0.2337 - accuracy: 0.9002 - val_loss: 0.3983 - val_accuracy: 0.8500\n",
      "Epoch 306/500\n",
      "348/348 [==============================] - 1s 2ms/step - loss: 0.2344 - accuracy: 0.9001 - val_loss: 0.3949 - val_accuracy: 0.8525\n",
      "Epoch 307/500\n",
      "348/348 [==============================] - 1s 2ms/step - loss: 0.2342 - accuracy: 0.8989 - val_loss: 0.3874 - val_accuracy: 0.8558\n",
      "Epoch 308/500\n",
      "348/348 [==============================] - 1s 2ms/step - loss: 0.2278 - accuracy: 0.8995 - val_loss: 0.3894 - val_accuracy: 0.8517\n",
      "Epoch 309/500\n",
      "348/348 [==============================] - 1s 2ms/step - loss: 0.2334 - accuracy: 0.9005 - val_loss: 0.3826 - val_accuracy: 0.8542\n",
      "Epoch 310/500\n",
      "348/348 [==============================] - 1s 2ms/step - loss: 0.2359 - accuracy: 0.8973 - val_loss: 0.4042 - val_accuracy: 0.8442\n",
      "Epoch 311/500\n",
      "348/348 [==============================] - 1s 2ms/step - loss: 0.2283 - accuracy: 0.9018 - val_loss: 0.4011 - val_accuracy: 0.8508\n",
      "Epoch 312/500\n",
      "348/348 [==============================] - 1s 2ms/step - loss: 0.2314 - accuracy: 0.8995 - val_loss: 0.3839 - val_accuracy: 0.8575\n",
      "Epoch 313/500\n",
      "348/348 [==============================] - 1s 3ms/step - loss: 0.2286 - accuracy: 0.9009 - val_loss: 0.4168 - val_accuracy: 0.8425\n",
      "Epoch 314/500\n",
      "348/348 [==============================] - 1s 2ms/step - loss: 0.2283 - accuracy: 0.9014 - val_loss: 0.3961 - val_accuracy: 0.8508\n",
      "Epoch 315/500\n",
      "348/348 [==============================] - 1s 2ms/step - loss: 0.2317 - accuracy: 0.9000 - val_loss: 0.3885 - val_accuracy: 0.8608\n",
      "Epoch 316/500\n",
      "348/348 [==============================] - 1s 2ms/step - loss: 0.2315 - accuracy: 0.9011 - val_loss: 0.4065 - val_accuracy: 0.8525\n",
      "Epoch 317/500\n",
      "348/348 [==============================] - 1s 2ms/step - loss: 0.2314 - accuracy: 0.9019 - val_loss: 0.3898 - val_accuracy: 0.8550\n",
      "Epoch 318/500\n",
      "348/348 [==============================] - 1s 2ms/step - loss: 0.2309 - accuracy: 0.9010 - val_loss: 0.3941 - val_accuracy: 0.8592\n",
      "Epoch 319/500\n",
      "348/348 [==============================] - 1s 2ms/step - loss: 0.2327 - accuracy: 0.8992 - val_loss: 0.3897 - val_accuracy: 0.8608\n",
      "Epoch 320/500\n",
      "348/348 [==============================] - 1s 2ms/step - loss: 0.2296 - accuracy: 0.9027 - val_loss: 0.3913 - val_accuracy: 0.8567\n",
      "Epoch 321/500\n",
      "348/348 [==============================] - 1s 2ms/step - loss: 0.2346 - accuracy: 0.8996 - val_loss: 0.3935 - val_accuracy: 0.8533\n",
      "Epoch 322/500\n",
      "348/348 [==============================] - 1s 2ms/step - loss: 0.2293 - accuracy: 0.8984 - val_loss: 0.3956 - val_accuracy: 0.8542\n",
      "Epoch 323/500\n",
      "348/348 [==============================] - 1s 2ms/step - loss: 0.2335 - accuracy: 0.8975 - val_loss: 0.3938 - val_accuracy: 0.8575\n",
      "Epoch 324/500\n",
      "348/348 [==============================] - 1s 2ms/step - loss: 0.2311 - accuracy: 0.8991 - val_loss: 0.3861 - val_accuracy: 0.8600\n",
      "Epoch 325/500\n",
      "348/348 [==============================] - 1s 2ms/step - loss: 0.2296 - accuracy: 0.9023 - val_loss: 0.3887 - val_accuracy: 0.8542\n",
      "Epoch 326/500\n",
      "348/348 [==============================] - 1s 2ms/step - loss: 0.2359 - accuracy: 0.8988 - val_loss: 0.3861 - val_accuracy: 0.8567\n",
      "Epoch 327/500\n",
      "348/348 [==============================] - 1s 2ms/step - loss: 0.2357 - accuracy: 0.8984 - val_loss: 0.3877 - val_accuracy: 0.8558\n",
      "Epoch 328/500\n",
      "348/348 [==============================] - 1s 2ms/step - loss: 0.2323 - accuracy: 0.9011 - val_loss: 0.4041 - val_accuracy: 0.8442\n",
      "Epoch 329/500\n",
      "348/348 [==============================] - 1s 2ms/step - loss: 0.2309 - accuracy: 0.9008 - val_loss: 0.3950 - val_accuracy: 0.8567\n",
      "Epoch 330/500\n",
      "348/348 [==============================] - 1s 2ms/step - loss: 0.2332 - accuracy: 0.8988 - val_loss: 0.3953 - val_accuracy: 0.8533\n",
      "Epoch 331/500\n",
      "348/348 [==============================] - 1s 2ms/step - loss: 0.2289 - accuracy: 0.9003 - val_loss: 0.4010 - val_accuracy: 0.8542\n",
      "Epoch 332/500\n",
      "348/348 [==============================] - 1s 2ms/step - loss: 0.2301 - accuracy: 0.9021 - val_loss: 0.3904 - val_accuracy: 0.8533\n",
      "Epoch 333/500\n",
      "348/348 [==============================] - 1s 2ms/step - loss: 0.2317 - accuracy: 0.8994 - val_loss: 0.4026 - val_accuracy: 0.8483\n",
      "Epoch 334/500\n",
      "348/348 [==============================] - 1s 2ms/step - loss: 0.2356 - accuracy: 0.8997 - val_loss: 0.3951 - val_accuracy: 0.8567\n",
      "Epoch 335/500\n",
      "348/348 [==============================] - 1s 2ms/step - loss: 0.2260 - accuracy: 0.9023 - val_loss: 0.3997 - val_accuracy: 0.8483\n",
      "Epoch 336/500\n",
      "348/348 [==============================] - 1s 2ms/step - loss: 0.2324 - accuracy: 0.9007 - val_loss: 0.3883 - val_accuracy: 0.8617\n",
      "Epoch 337/500\n",
      "348/348 [==============================] - 1s 2ms/step - loss: 0.2351 - accuracy: 0.8985 - val_loss: 0.3887 - val_accuracy: 0.8508\n",
      "Epoch 338/500\n",
      "348/348 [==============================] - 1s 2ms/step - loss: 0.2315 - accuracy: 0.9001 - val_loss: 0.3913 - val_accuracy: 0.8550\n",
      "Epoch 339/500\n"
     ]
    },
    {
     "name": "stdout",
     "output_type": "stream",
     "text": [
      "348/348 [==============================] - 1s 2ms/step - loss: 0.2296 - accuracy: 0.9008 - val_loss: 0.3861 - val_accuracy: 0.8567\n",
      "Epoch 340/500\n",
      "348/348 [==============================] - 1s 2ms/step - loss: 0.2293 - accuracy: 0.9030 - val_loss: 0.4047 - val_accuracy: 0.8483\n",
      "Epoch 341/500\n",
      "348/348 [==============================] - 1s 2ms/step - loss: 0.2279 - accuracy: 0.9027 - val_loss: 0.3867 - val_accuracy: 0.8583\n",
      "Epoch 342/500\n",
      "348/348 [==============================] - 1s 2ms/step - loss: 0.2295 - accuracy: 0.9019 - val_loss: 0.3897 - val_accuracy: 0.8608\n",
      "Epoch 343/500\n",
      "348/348 [==============================] - 1s 2ms/step - loss: 0.2268 - accuracy: 0.9023 - val_loss: 0.3878 - val_accuracy: 0.8583\n",
      "Epoch 344/500\n",
      "348/348 [==============================] - 1s 2ms/step - loss: 0.2303 - accuracy: 0.8989 - val_loss: 0.3896 - val_accuracy: 0.8592\n",
      "Epoch 345/500\n",
      "348/348 [==============================] - 1s 2ms/step - loss: 0.2322 - accuracy: 0.9002 - val_loss: 0.3963 - val_accuracy: 0.8508\n",
      "Epoch 346/500\n",
      "348/348 [==============================] - 1s 2ms/step - loss: 0.2292 - accuracy: 0.9031 - val_loss: 0.3994 - val_accuracy: 0.8525\n",
      "Epoch 347/500\n",
      "348/348 [==============================] - 1s 2ms/step - loss: 0.2298 - accuracy: 0.9018 - val_loss: 0.3950 - val_accuracy: 0.8550\n",
      "Epoch 348/500\n",
      "348/348 [==============================] - 1s 2ms/step - loss: 0.2290 - accuracy: 0.9027 - val_loss: 0.3936 - val_accuracy: 0.8517\n",
      "Epoch 349/500\n",
      "348/348 [==============================] - 1s 2ms/step - loss: 0.2286 - accuracy: 0.9012 - val_loss: 0.3998 - val_accuracy: 0.8567\n",
      "Epoch 350/500\n",
      "348/348 [==============================] - 1s 2ms/step - loss: 0.2279 - accuracy: 0.9018 - val_loss: 0.3903 - val_accuracy: 0.8575\n",
      "Epoch 351/500\n",
      "348/348 [==============================] - 1s 4ms/step - loss: 0.2293 - accuracy: 0.9043 - val_loss: 0.3942 - val_accuracy: 0.8525\n",
      "Epoch 352/500\n",
      "348/348 [==============================] - 2s 5ms/step - loss: 0.2272 - accuracy: 0.9007 - val_loss: 0.3885 - val_accuracy: 0.8583\n",
      "Epoch 353/500\n",
      "348/348 [==============================] - 1s 2ms/step - loss: 0.2299 - accuracy: 0.9013 - val_loss: 0.3986 - val_accuracy: 0.8542\n",
      "Epoch 354/500\n",
      "348/348 [==============================] - 1s 3ms/step - loss: 0.2304 - accuracy: 0.9001 - val_loss: 0.3986 - val_accuracy: 0.8617\n",
      "Epoch 355/500\n",
      "348/348 [==============================] - 2s 5ms/step - loss: 0.2300 - accuracy: 0.9023 - val_loss: 0.3843 - val_accuracy: 0.8558\n",
      "Epoch 356/500\n",
      "348/348 [==============================] - 2s 6ms/step - loss: 0.2272 - accuracy: 0.9005 - val_loss: 0.3891 - val_accuracy: 0.8558\n",
      "Epoch 357/500\n",
      "348/348 [==============================] - 1s 4ms/step - loss: 0.2337 - accuracy: 0.8972 - val_loss: 0.3928 - val_accuracy: 0.8600\n",
      "Epoch 358/500\n",
      "348/348 [==============================] - 1s 3ms/step - loss: 0.2270 - accuracy: 0.9033 - val_loss: 0.3979 - val_accuracy: 0.8592\n",
      "Epoch 359/500\n",
      "348/348 [==============================] - 1s 3ms/step - loss: 0.2288 - accuracy: 0.9013 - val_loss: 0.3910 - val_accuracy: 0.8575\n",
      "Epoch 360/500\n",
      "348/348 [==============================] - 1s 2ms/step - loss: 0.2296 - accuracy: 0.9012 - val_loss: 0.3935 - val_accuracy: 0.8533\n",
      "Epoch 361/500\n",
      "348/348 [==============================] - 1s 2ms/step - loss: 0.2316 - accuracy: 0.8983 - val_loss: 0.3901 - val_accuracy: 0.8650\n",
      "Epoch 362/500\n",
      "348/348 [==============================] - 1s 2ms/step - loss: 0.2269 - accuracy: 0.9026 - val_loss: 0.3886 - val_accuracy: 0.8592\n",
      "Epoch 363/500\n",
      "348/348 [==============================] - 1s 2ms/step - loss: 0.2291 - accuracy: 0.9015 - val_loss: 0.3985 - val_accuracy: 0.8508\n",
      "Epoch 364/500\n",
      "348/348 [==============================] - 1s 2ms/step - loss: 0.2274 - accuracy: 0.9019 - val_loss: 0.4007 - val_accuracy: 0.8550\n",
      "Epoch 365/500\n",
      "348/348 [==============================] - 1s 2ms/step - loss: 0.2300 - accuracy: 0.9020 - val_loss: 0.3972 - val_accuracy: 0.8575\n",
      "Epoch 366/500\n",
      "348/348 [==============================] - 1s 2ms/step - loss: 0.2282 - accuracy: 0.9023 - val_loss: 0.3947 - val_accuracy: 0.8592\n",
      "Epoch 367/500\n",
      "348/348 [==============================] - 1s 3ms/step - loss: 0.2308 - accuracy: 0.8989 - val_loss: 0.3988 - val_accuracy: 0.8542\n",
      "Epoch 368/500\n",
      "348/348 [==============================] - 1s 3ms/step - loss: 0.2258 - accuracy: 0.9008 - val_loss: 0.4022 - val_accuracy: 0.8558\n",
      "Epoch 369/500\n",
      "348/348 [==============================] - 1s 2ms/step - loss: 0.2207 - accuracy: 0.9043 - val_loss: 0.4155 - val_accuracy: 0.8475\n",
      "Epoch 370/500\n",
      "348/348 [==============================] - 1s 2ms/step - loss: 0.2295 - accuracy: 0.8994 - val_loss: 0.4025 - val_accuracy: 0.8617\n",
      "Epoch 371/500\n",
      "348/348 [==============================] - 1s 2ms/step - loss: 0.2277 - accuracy: 0.9033 - val_loss: 0.3952 - val_accuracy: 0.8583\n",
      "Epoch 372/500\n",
      "348/348 [==============================] - 1s 2ms/step - loss: 0.2323 - accuracy: 0.8972 - val_loss: 0.3940 - val_accuracy: 0.8608\n",
      "Epoch 373/500\n",
      "348/348 [==============================] - 1s 2ms/step - loss: 0.2260 - accuracy: 0.9027 - val_loss: 0.3986 - val_accuracy: 0.8517\n",
      "Epoch 374/500\n",
      "348/348 [==============================] - 1s 2ms/step - loss: 0.2300 - accuracy: 0.9045 - val_loss: 0.4138 - val_accuracy: 0.8567\n",
      "Epoch 375/500\n",
      "348/348 [==============================] - 1s 2ms/step - loss: 0.2290 - accuracy: 0.9006 - val_loss: 0.4177 - val_accuracy: 0.8458\n",
      "Epoch 376/500\n",
      "348/348 [==============================] - 1s 2ms/step - loss: 0.2311 - accuracy: 0.9017 - val_loss: 0.3870 - val_accuracy: 0.8592\n",
      "Epoch 377/500\n",
      "348/348 [==============================] - 1s 2ms/step - loss: 0.2313 - accuracy: 0.9003 - val_loss: 0.3918 - val_accuracy: 0.8575\n",
      "Epoch 378/500\n",
      "348/348 [==============================] - 1s 2ms/step - loss: 0.2276 - accuracy: 0.9016 - val_loss: 0.4057 - val_accuracy: 0.8508\n",
      "Epoch 379/500\n",
      "348/348 [==============================] - 1s 2ms/step - loss: 0.2263 - accuracy: 0.9028 - val_loss: 0.3965 - val_accuracy: 0.8542\n",
      "Epoch 380/500\n",
      "348/348 [==============================] - 1s 2ms/step - loss: 0.2248 - accuracy: 0.9033 - val_loss: 0.4065 - val_accuracy: 0.8575\n",
      "Epoch 381/500\n",
      "348/348 [==============================] - 1s 2ms/step - loss: 0.2303 - accuracy: 0.8997 - val_loss: 0.3958 - val_accuracy: 0.8517\n",
      "Epoch 382/500\n",
      "348/348 [==============================] - 1s 2ms/step - loss: 0.2288 - accuracy: 0.8988 - val_loss: 0.4001 - val_accuracy: 0.8558\n",
      "Epoch 383/500\n",
      "348/348 [==============================] - 1s 2ms/step - loss: 0.2338 - accuracy: 0.8992 - val_loss: 0.4031 - val_accuracy: 0.8525\n",
      "Epoch 384/500\n",
      "348/348 [==============================] - 1s 2ms/step - loss: 0.2294 - accuracy: 0.8981 - val_loss: 0.3862 - val_accuracy: 0.8625\n",
      "Epoch 385/500\n",
      "348/348 [==============================] - 1s 2ms/step - loss: 0.2285 - accuracy: 0.9002 - val_loss: 0.4062 - val_accuracy: 0.8550\n",
      "Epoch 386/500\n",
      "348/348 [==============================] - 1s 2ms/step - loss: 0.2264 - accuracy: 0.9011 - val_loss: 0.3963 - val_accuracy: 0.8533\n",
      "Epoch 387/500\n",
      "348/348 [==============================] - 1s 2ms/step - loss: 0.2283 - accuracy: 0.9029 - val_loss: 0.4011 - val_accuracy: 0.8533\n",
      "Epoch 388/500\n",
      "348/348 [==============================] - 1s 2ms/step - loss: 0.2252 - accuracy: 0.9012 - val_loss: 0.4048 - val_accuracy: 0.8525\n",
      "Epoch 389/500\n",
      "348/348 [==============================] - 1s 2ms/step - loss: 0.2233 - accuracy: 0.9040 - val_loss: 0.4086 - val_accuracy: 0.8533\n",
      "Epoch 390/500\n",
      "348/348 [==============================] - 1s 2ms/step - loss: 0.2307 - accuracy: 0.9009 - val_loss: 0.3911 - val_accuracy: 0.8550\n",
      "Epoch 391/500\n",
      "348/348 [==============================] - 2s 4ms/step - loss: 0.2267 - accuracy: 0.9026 - val_loss: 0.4085 - val_accuracy: 0.8533\n",
      "Epoch 392/500\n",
      "348/348 [==============================] - 1s 2ms/step - loss: 0.2310 - accuracy: 0.9027 - val_loss: 0.4091 - val_accuracy: 0.8583\n",
      "Epoch 393/500\n",
      "348/348 [==============================] - 1s 2ms/step - loss: 0.2276 - accuracy: 0.9030 - val_loss: 0.3925 - val_accuracy: 0.8575\n",
      "Epoch 394/500\n",
      "348/348 [==============================] - 1s 2ms/step - loss: 0.2261 - accuracy: 0.9026 - val_loss: 0.3991 - val_accuracy: 0.8517\n",
      "Epoch 395/500\n"
     ]
    },
    {
     "name": "stdout",
     "output_type": "stream",
     "text": [
      "348/348 [==============================] - 1s 3ms/step - loss: 0.2317 - accuracy: 0.8990 - val_loss: 0.4076 - val_accuracy: 0.8492\n",
      "Epoch 396/500\n",
      "348/348 [==============================] - 1s 2ms/step - loss: 0.2246 - accuracy: 0.9036 - val_loss: 0.3859 - val_accuracy: 0.8583\n",
      "Epoch 397/500\n",
      "348/348 [==============================] - 1s 2ms/step - loss: 0.2289 - accuracy: 0.9033 - val_loss: 0.4019 - val_accuracy: 0.8592\n",
      "Epoch 398/500\n",
      "348/348 [==============================] - 1s 2ms/step - loss: 0.2269 - accuracy: 0.9031 - val_loss: 0.4043 - val_accuracy: 0.8608\n",
      "Epoch 399/500\n",
      "348/348 [==============================] - 1s 2ms/step - loss: 0.2261 - accuracy: 0.9025 - val_loss: 0.3915 - val_accuracy: 0.8600\n",
      "Epoch 400/500\n",
      "348/348 [==============================] - 1s 2ms/step - loss: 0.2299 - accuracy: 0.9013 - val_loss: 0.3969 - val_accuracy: 0.8575\n",
      "Epoch 401/500\n",
      "348/348 [==============================] - 1s 2ms/step - loss: 0.2251 - accuracy: 0.9007 - val_loss: 0.3896 - val_accuracy: 0.8508\n",
      "Epoch 402/500\n",
      "348/348 [==============================] - 1s 2ms/step - loss: 0.2294 - accuracy: 0.8992 - val_loss: 0.3972 - val_accuracy: 0.8608\n",
      "Epoch 403/500\n",
      "348/348 [==============================] - 1s 2ms/step - loss: 0.2286 - accuracy: 0.9030 - val_loss: 0.3976 - val_accuracy: 0.8608\n",
      "Epoch 404/500\n",
      "348/348 [==============================] - 1s 2ms/step - loss: 0.2272 - accuracy: 0.9012 - val_loss: 0.3958 - val_accuracy: 0.8583\n",
      "Epoch 405/500\n",
      "348/348 [==============================] - 1s 2ms/step - loss: 0.2266 - accuracy: 0.9035 - val_loss: 0.3909 - val_accuracy: 0.8617\n",
      "Epoch 406/500\n",
      "348/348 [==============================] - 1s 2ms/step - loss: 0.2298 - accuracy: 0.9037 - val_loss: 0.3847 - val_accuracy: 0.8625\n",
      "Epoch 407/500\n",
      "348/348 [==============================] - 1s 2ms/step - loss: 0.2264 - accuracy: 0.9026 - val_loss: 0.3892 - val_accuracy: 0.8592\n",
      "Epoch 408/500\n",
      "348/348 [==============================] - 1s 2ms/step - loss: 0.2226 - accuracy: 0.9039 - val_loss: 0.3856 - val_accuracy: 0.8633\n",
      "Epoch 409/500\n",
      "348/348 [==============================] - 1s 2ms/step - loss: 0.2275 - accuracy: 0.9039 - val_loss: 0.3883 - val_accuracy: 0.8617\n",
      "Epoch 410/500\n",
      "348/348 [==============================] - 1s 2ms/step - loss: 0.2213 - accuracy: 0.9024 - val_loss: 0.3966 - val_accuracy: 0.8600\n",
      "Epoch 411/500\n",
      "348/348 [==============================] - 1s 2ms/step - loss: 0.2279 - accuracy: 0.9008 - val_loss: 0.4018 - val_accuracy: 0.8617\n",
      "Epoch 412/500\n",
      "348/348 [==============================] - 1s 2ms/step - loss: 0.2238 - accuracy: 0.9052 - val_loss: 0.4022 - val_accuracy: 0.8583\n",
      "Epoch 413/500\n",
      "348/348 [==============================] - 1s 2ms/step - loss: 0.2312 - accuracy: 0.8992 - val_loss: 0.3947 - val_accuracy: 0.8558\n",
      "Epoch 414/500\n",
      "348/348 [==============================] - 1s 2ms/step - loss: 0.2247 - accuracy: 0.9045 - val_loss: 0.3915 - val_accuracy: 0.8617\n",
      "Epoch 415/500\n",
      "348/348 [==============================] - 1s 2ms/step - loss: 0.2267 - accuracy: 0.9054 - val_loss: 0.3946 - val_accuracy: 0.8600\n",
      "Epoch 416/500\n",
      "348/348 [==============================] - 1s 2ms/step - loss: 0.2254 - accuracy: 0.9037 - val_loss: 0.3995 - val_accuracy: 0.8525\n",
      "Epoch 417/500\n",
      "348/348 [==============================] - 1s 2ms/step - loss: 0.2289 - accuracy: 0.8992 - val_loss: 0.3966 - val_accuracy: 0.8533\n",
      "Epoch 418/500\n",
      "348/348 [==============================] - 1s 2ms/step - loss: 0.2321 - accuracy: 0.8998 - val_loss: 0.4021 - val_accuracy: 0.8558\n",
      "Epoch 419/500\n",
      "348/348 [==============================] - 1s 2ms/step - loss: 0.2307 - accuracy: 0.8992 - val_loss: 0.3942 - val_accuracy: 0.8592\n",
      "Epoch 420/500\n",
      "348/348 [==============================] - 1s 2ms/step - loss: 0.2261 - accuracy: 0.9024 - val_loss: 0.3950 - val_accuracy: 0.8558\n",
      "Epoch 421/500\n",
      "348/348 [==============================] - 1s 2ms/step - loss: 0.2256 - accuracy: 0.9025 - val_loss: 0.4102 - val_accuracy: 0.8592\n",
      "Epoch 422/500\n",
      "348/348 [==============================] - 1s 2ms/step - loss: 0.2258 - accuracy: 0.9003 - val_loss: 0.4048 - val_accuracy: 0.8533\n",
      "Epoch 423/500\n",
      "348/348 [==============================] - 1s 2ms/step - loss: 0.2226 - accuracy: 0.9056 - val_loss: 0.4043 - val_accuracy: 0.8592\n",
      "Epoch 424/500\n",
      "348/348 [==============================] - 1s 2ms/step - loss: 0.2297 - accuracy: 0.9018 - val_loss: 0.3903 - val_accuracy: 0.8608\n",
      "Epoch 425/500\n",
      "348/348 [==============================] - 1s 2ms/step - loss: 0.2292 - accuracy: 0.9008 - val_loss: 0.3975 - val_accuracy: 0.8567\n",
      "Epoch 426/500\n",
      "348/348 [==============================] - 1s 2ms/step - loss: 0.2248 - accuracy: 0.9024 - val_loss: 0.3992 - val_accuracy: 0.8600\n",
      "Epoch 427/500\n",
      "348/348 [==============================] - 1s 2ms/step - loss: 0.2273 - accuracy: 0.9019 - val_loss: 0.4035 - val_accuracy: 0.8542\n",
      "Epoch 428/500\n",
      "348/348 [==============================] - 1s 2ms/step - loss: 0.2249 - accuracy: 0.9024 - val_loss: 0.3944 - val_accuracy: 0.8625\n",
      "Epoch 429/500\n",
      "348/348 [==============================] - 1s 2ms/step - loss: 0.2291 - accuracy: 0.9017 - val_loss: 0.3984 - val_accuracy: 0.8525\n",
      "Epoch 430/500\n",
      "348/348 [==============================] - 1s 2ms/step - loss: 0.2278 - accuracy: 0.9022 - val_loss: 0.3865 - val_accuracy: 0.8617\n",
      "Epoch 431/500\n",
      "348/348 [==============================] - 1s 3ms/step - loss: 0.2271 - accuracy: 0.9022 - val_loss: 0.4030 - val_accuracy: 0.8617\n",
      "Epoch 432/500\n",
      "348/348 [==============================] - 1s 3ms/step - loss: 0.2259 - accuracy: 0.9044 - val_loss: 0.3852 - val_accuracy: 0.8617\n",
      "Epoch 433/500\n",
      "348/348 [==============================] - 1s 3ms/step - loss: 0.2277 - accuracy: 0.9010 - val_loss: 0.3976 - val_accuracy: 0.8583\n",
      "Epoch 434/500\n",
      "348/348 [==============================] - 1s 2ms/step - loss: 0.2286 - accuracy: 0.8997 - val_loss: 0.3927 - val_accuracy: 0.8658\n",
      "Epoch 435/500\n",
      "348/348 [==============================] - 1s 2ms/step - loss: 0.2249 - accuracy: 0.9025 - val_loss: 0.3999 - val_accuracy: 0.8642\n",
      "Epoch 436/500\n",
      "348/348 [==============================] - 1s 2ms/step - loss: 0.2293 - accuracy: 0.9001 - val_loss: 0.3981 - val_accuracy: 0.8567\n",
      "Epoch 437/500\n",
      "348/348 [==============================] - 1s 2ms/step - loss: 0.2239 - accuracy: 0.9025 - val_loss: 0.3986 - val_accuracy: 0.8583\n",
      "Epoch 438/500\n",
      "348/348 [==============================] - 1s 2ms/step - loss: 0.2279 - accuracy: 0.9021 - val_loss: 0.4011 - val_accuracy: 0.8533\n",
      "Epoch 439/500\n",
      "348/348 [==============================] - 1s 2ms/step - loss: 0.2280 - accuracy: 0.9007 - val_loss: 0.3886 - val_accuracy: 0.8642\n",
      "Epoch 440/500\n",
      "348/348 [==============================] - 1s 2ms/step - loss: 0.2223 - accuracy: 0.9041 - val_loss: 0.3932 - val_accuracy: 0.8542\n",
      "Epoch 441/500\n",
      "348/348 [==============================] - 1s 2ms/step - loss: 0.2259 - accuracy: 0.9036 - val_loss: 0.3967 - val_accuracy: 0.8675\n",
      "Epoch 442/500\n",
      "348/348 [==============================] - 1s 2ms/step - loss: 0.2287 - accuracy: 0.9027 - val_loss: 0.4051 - val_accuracy: 0.8500\n",
      "Epoch 443/500\n",
      "348/348 [==============================] - 1s 2ms/step - loss: 0.2254 - accuracy: 0.9010 - val_loss: 0.4100 - val_accuracy: 0.8550\n",
      "Epoch 444/500\n",
      "348/348 [==============================] - 1s 2ms/step - loss: 0.2280 - accuracy: 0.8983 - val_loss: 0.4094 - val_accuracy: 0.8558\n",
      "Epoch 445/500\n",
      "348/348 [==============================] - 1s 2ms/step - loss: 0.2242 - accuracy: 0.9042 - val_loss: 0.4013 - val_accuracy: 0.8608\n",
      "Epoch 446/500\n",
      "348/348 [==============================] - 1s 2ms/step - loss: 0.2265 - accuracy: 0.9027 - val_loss: 0.4052 - val_accuracy: 0.8567\n",
      "Epoch 447/500\n",
      "348/348 [==============================] - 1s 2ms/step - loss: 0.2253 - accuracy: 0.9037 - val_loss: 0.4051 - val_accuracy: 0.8567\n",
      "Epoch 448/500\n",
      "348/348 [==============================] - 1s 2ms/step - loss: 0.2266 - accuracy: 0.9020 - val_loss: 0.3950 - val_accuracy: 0.8558\n",
      "Epoch 449/500\n",
      "348/348 [==============================] - 1s 2ms/step - loss: 0.2269 - accuracy: 0.9028 - val_loss: 0.4030 - val_accuracy: 0.8558\n",
      "Epoch 450/500\n",
      "348/348 [==============================] - 1s 2ms/step - loss: 0.2248 - accuracy: 0.9036 - val_loss: 0.3966 - val_accuracy: 0.8575\n",
      "Epoch 451/500\n"
     ]
    },
    {
     "name": "stdout",
     "output_type": "stream",
     "text": [
      "348/348 [==============================] - 1s 2ms/step - loss: 0.2260 - accuracy: 0.9018 - val_loss: 0.4074 - val_accuracy: 0.8542\n",
      "Epoch 452/500\n",
      "348/348 [==============================] - 1s 2ms/step - loss: 0.2241 - accuracy: 0.9039 - val_loss: 0.4100 - val_accuracy: 0.8542\n",
      "Epoch 453/500\n",
      "348/348 [==============================] - 1s 3ms/step - loss: 0.2282 - accuracy: 0.9008 - val_loss: 0.4030 - val_accuracy: 0.8625\n",
      "Epoch 454/500\n",
      "348/348 [==============================] - 1s 2ms/step - loss: 0.2198 - accuracy: 0.9027 - val_loss: 0.4061 - val_accuracy: 0.8558\n",
      "Epoch 455/500\n",
      "348/348 [==============================] - 1s 2ms/step - loss: 0.2258 - accuracy: 0.9002 - val_loss: 0.3969 - val_accuracy: 0.8625\n",
      "Epoch 456/500\n",
      "348/348 [==============================] - 1s 2ms/step - loss: 0.2238 - accuracy: 0.9027 - val_loss: 0.4170 - val_accuracy: 0.8492\n",
      "Epoch 457/500\n",
      "348/348 [==============================] - 1s 2ms/step - loss: 0.2277 - accuracy: 0.9001 - val_loss: 0.4128 - val_accuracy: 0.8492\n",
      "Epoch 458/500\n",
      "348/348 [==============================] - 1s 2ms/step - loss: 0.2266 - accuracy: 0.9021 - val_loss: 0.4099 - val_accuracy: 0.8483\n",
      "Epoch 459/500\n",
      "348/348 [==============================] - 1s 2ms/step - loss: 0.2245 - accuracy: 0.9015 - val_loss: 0.4114 - val_accuracy: 0.8483\n",
      "Epoch 460/500\n",
      "348/348 [==============================] - 1s 2ms/step - loss: 0.2263 - accuracy: 0.9025 - val_loss: 0.4037 - val_accuracy: 0.8558\n",
      "Epoch 461/500\n",
      "348/348 [==============================] - 1s 2ms/step - loss: 0.2251 - accuracy: 0.9042 - val_loss: 0.3964 - val_accuracy: 0.8617\n",
      "Epoch 462/500\n",
      "348/348 [==============================] - 1s 2ms/step - loss: 0.2262 - accuracy: 0.9027 - val_loss: 0.3989 - val_accuracy: 0.8508\n",
      "Epoch 463/500\n",
      "348/348 [==============================] - 1s 2ms/step - loss: 0.2242 - accuracy: 0.9038 - val_loss: 0.4095 - val_accuracy: 0.8483\n",
      "Epoch 464/500\n",
      "348/348 [==============================] - 1s 2ms/step - loss: 0.2257 - accuracy: 0.9067 - val_loss: 0.4041 - val_accuracy: 0.8625\n",
      "Epoch 465/500\n",
      "348/348 [==============================] - 1s 2ms/step - loss: 0.2250 - accuracy: 0.9027 - val_loss: 0.4068 - val_accuracy: 0.8517\n",
      "Epoch 466/500\n",
      "348/348 [==============================] - 1s 2ms/step - loss: 0.2284 - accuracy: 0.9012 - val_loss: 0.3933 - val_accuracy: 0.8575\n",
      "Epoch 467/500\n",
      "348/348 [==============================] - 1s 2ms/step - loss: 0.2261 - accuracy: 0.9038 - val_loss: 0.3989 - val_accuracy: 0.8567\n",
      "Epoch 468/500\n",
      "348/348 [==============================] - 1s 2ms/step - loss: 0.2275 - accuracy: 0.9007 - val_loss: 0.3946 - val_accuracy: 0.8592\n",
      "Epoch 469/500\n",
      "348/348 [==============================] - 1s 2ms/step - loss: 0.2234 - accuracy: 0.9027 - val_loss: 0.3966 - val_accuracy: 0.8617\n",
      "Epoch 470/500\n",
      "348/348 [==============================] - 1s 2ms/step - loss: 0.2244 - accuracy: 0.9028 - val_loss: 0.3979 - val_accuracy: 0.8600\n",
      "Epoch 471/500\n",
      "348/348 [==============================] - 1s 2ms/step - loss: 0.2289 - accuracy: 0.9017 - val_loss: 0.4068 - val_accuracy: 0.8500\n",
      "Epoch 472/500\n",
      "348/348 [==============================] - 1s 2ms/step - loss: 0.2240 - accuracy: 0.9018 - val_loss: 0.3978 - val_accuracy: 0.8642\n",
      "Epoch 473/500\n",
      "348/348 [==============================] - 1s 2ms/step - loss: 0.2219 - accuracy: 0.9036 - val_loss: 0.4151 - val_accuracy: 0.8467\n",
      "Epoch 474/500\n",
      "348/348 [==============================] - 1s 2ms/step - loss: 0.2261 - accuracy: 0.9023 - val_loss: 0.4003 - val_accuracy: 0.8533\n",
      "Epoch 475/500\n",
      "348/348 [==============================] - 1s 2ms/step - loss: 0.2267 - accuracy: 0.9041 - val_loss: 0.4037 - val_accuracy: 0.8508\n",
      "Epoch 476/500\n",
      "348/348 [==============================] - 1s 2ms/step - loss: 0.2270 - accuracy: 0.9026 - val_loss: 0.3920 - val_accuracy: 0.8608\n",
      "Epoch 477/500\n",
      "348/348 [==============================] - 1s 2ms/step - loss: 0.2226 - accuracy: 0.9028 - val_loss: 0.4041 - val_accuracy: 0.8517\n",
      "Epoch 478/500\n",
      "348/348 [==============================] - 1s 2ms/step - loss: 0.2210 - accuracy: 0.9038 - val_loss: 0.3932 - val_accuracy: 0.8625\n",
      "Epoch 479/500\n",
      "348/348 [==============================] - 1s 2ms/step - loss: 0.2211 - accuracy: 0.9041 - val_loss: 0.4008 - val_accuracy: 0.8575\n",
      "Epoch 480/500\n",
      "348/348 [==============================] - 1s 2ms/step - loss: 0.2254 - accuracy: 0.9013 - val_loss: 0.4006 - val_accuracy: 0.8550\n",
      "Epoch 481/500\n",
      "348/348 [==============================] - 1s 2ms/step - loss: 0.2252 - accuracy: 0.9037 - val_loss: 0.4067 - val_accuracy: 0.8542\n",
      "Epoch 482/500\n",
      "348/348 [==============================] - 1s 2ms/step - loss: 0.2256 - accuracy: 0.9028 - val_loss: 0.4087 - val_accuracy: 0.8533\n",
      "Epoch 483/500\n",
      "348/348 [==============================] - 1s 2ms/step - loss: 0.2229 - accuracy: 0.9051 - val_loss: 0.4060 - val_accuracy: 0.8525\n",
      "Epoch 484/500\n",
      "348/348 [==============================] - 1s 2ms/step - loss: 0.2233 - accuracy: 0.9030 - val_loss: 0.4058 - val_accuracy: 0.8533\n",
      "Epoch 485/500\n",
      "348/348 [==============================] - 1s 2ms/step - loss: 0.2265 - accuracy: 0.9019 - val_loss: 0.4039 - val_accuracy: 0.8525\n",
      "Epoch 486/500\n",
      "348/348 [==============================] - 1s 2ms/step - loss: 0.2224 - accuracy: 0.9056 - val_loss: 0.4032 - val_accuracy: 0.8550\n",
      "Epoch 487/500\n",
      "348/348 [==============================] - 1s 2ms/step - loss: 0.2221 - accuracy: 0.9034 - val_loss: 0.4102 - val_accuracy: 0.8533\n",
      "Epoch 488/500\n",
      "348/348 [==============================] - 1s 2ms/step - loss: 0.2249 - accuracy: 0.9047 - val_loss: 0.4004 - val_accuracy: 0.8558\n",
      "Epoch 489/500\n",
      "348/348 [==============================] - 1s 2ms/step - loss: 0.2234 - accuracy: 0.9020 - val_loss: 0.4120 - val_accuracy: 0.8433\n",
      "Epoch 490/500\n",
      "348/348 [==============================] - 1s 2ms/step - loss: 0.2241 - accuracy: 0.9027 - val_loss: 0.4023 - val_accuracy: 0.8542\n",
      "Epoch 491/500\n",
      "348/348 [==============================] - 1s 2ms/step - loss: 0.2233 - accuracy: 0.9038 - val_loss: 0.4000 - val_accuracy: 0.8458\n",
      "Epoch 492/500\n",
      "348/348 [==============================] - 1s 4ms/step - loss: 0.2200 - accuracy: 0.9062 - val_loss: 0.4062 - val_accuracy: 0.8433\n",
      "Epoch 493/500\n",
      "348/348 [==============================] - 1s 3ms/step - loss: 0.2248 - accuracy: 0.9027 - val_loss: 0.3879 - val_accuracy: 0.8625\n",
      "Epoch 494/500\n",
      "348/348 [==============================] - 1s 2ms/step - loss: 0.2271 - accuracy: 0.9024 - val_loss: 0.3923 - val_accuracy: 0.8575\n",
      "Epoch 495/500\n",
      "348/348 [==============================] - 1s 2ms/step - loss: 0.2241 - accuracy: 0.9064 - val_loss: 0.4052 - val_accuracy: 0.8517\n",
      "Epoch 496/500\n",
      "348/348 [==============================] - 1s 3ms/step - loss: 0.2194 - accuracy: 0.9055 - val_loss: 0.3998 - val_accuracy: 0.8592\n",
      "Epoch 497/500\n",
      "348/348 [==============================] - 1s 2ms/step - loss: 0.2210 - accuracy: 0.9041 - val_loss: 0.4126 - val_accuracy: 0.8500\n",
      "Epoch 498/500\n",
      "348/348 [==============================] - 1s 3ms/step - loss: 0.2260 - accuracy: 0.9005 - val_loss: 0.3963 - val_accuracy: 0.8483\n",
      "Epoch 499/500\n",
      "348/348 [==============================] - 1s 3ms/step - loss: 0.2246 - accuracy: 0.9038 - val_loss: 0.4022 - val_accuracy: 0.8442\n",
      "Epoch 500/500\n",
      "348/348 [==============================] - 1s 3ms/step - loss: 0.2235 - accuracy: 0.9070 - val_loss: 0.3967 - val_accuracy: 0.8558\n"
     ]
    }
   ],
   "source": [
    "history = model.fit(X_sm_clean, y_sm, epochs=500, batch_size=32, validation_data=(X_valid_clean, y_valid))"
   ]
  },
  {
   "cell_type": "code",
   "execution_count": 198,
   "id": "d75f781c",
   "metadata": {},
   "outputs": [
    {
     "name": "stdout",
     "output_type": "stream",
     "text": [
      "38/38 [==============================] - 0s 2ms/step\n",
      "Accuracy: 0.8091666666666667\n"
     ]
    }
   ],
   "source": [
    "deep_pred = np.argmax(model.predict(X_valid_clean), axis=-1)\n",
    "accuracy = accuracy_score(y_valid, deep_pred)\n",
    "print(\"Accuracy:\", accuracy)"
   ]
  },
  {
   "cell_type": "code",
   "execution_count": 199,
   "id": "50baace3",
   "metadata": {},
   "outputs": [
    {
     "name": "stdout",
     "output_type": "stream",
     "text": [
      "57/57 [==============================] - 0s 1ms/step\n",
      "Accuracy: 0.7911111111111111\n"
     ]
    }
   ],
   "source": [
    "deep_pred = np.argmax(model.predict(X_test_clean), axis=-1)\n",
    "accuracy = accuracy_score(y_test, deep_pred)\n",
    "print(\"Accuracy:\", accuracy)"
   ]
  },
  {
   "cell_type": "code",
   "execution_count": 200,
   "id": "185121d4",
   "metadata": {},
   "outputs": [
    {
     "name": "stdout",
     "output_type": "stream",
     "text": [
      "              precision    recall  f1-score   support\n",
      "\n",
      "           0       0.79      1.00      0.88      1424\n",
      "           1       0.00      0.00      0.00       376\n",
      "\n",
      "    accuracy                           0.79      1800\n",
      "   macro avg       0.40      0.50      0.44      1800\n",
      "weighted avg       0.63      0.79      0.70      1800\n",
      "\n"
     ]
    }
   ],
   "source": [
    "print(classification_report(y_test, deep_pred, labels=[0,1]))"
   ]
  },
  {
   "cell_type": "markdown",
   "id": "d8dc29ae",
   "metadata": {},
   "source": [
    "## Tuning Parameter Deep Learning"
   ]
  },
  {
   "cell_type": "code",
   "execution_count": 201,
   "id": "abf3d143",
   "metadata": {},
   "outputs": [],
   "source": [
    "def create_model(units=64, layers=2, dropout=0.2):\n",
    "    model = Sequential()\n",
    "    model.add(Dense(units, activation='relu', input_shape=(13,)))\n",
    "    model.add(Dropout(dropout))\n",
    "    for i in range(layers-1):\n",
    "        model.add(Dense(units, activation='relu'))\n",
    "        model.add(Dropout(dropout))\n",
    "    model.add(Dense(1, activation='sigmoid'))\n",
    "    model.compile(optimizer='adam', loss='binary_crossentropy', metrics=['accuracy'])\n",
    "    return model"
   ]
  },
  {
   "cell_type": "code",
   "execution_count": 202,
   "id": "201ed6f1",
   "metadata": {},
   "outputs": [],
   "source": [
    "model = KerasClassifier(build_fn=create_model)"
   ]
  },
  {
   "cell_type": "code",
   "execution_count": 203,
   "id": "5cd80a1f",
   "metadata": {},
   "outputs": [],
   "source": [
    "param_grid = {\n",
    "    'units': [32, 64, 128],\n",
    "    'layers': [2, 3, 4],\n",
    "    'dropout': [0.2, 0.3, 0.4]\n",
    "}"
   ]
  },
  {
   "cell_type": "code",
   "execution_count": 204,
   "id": "a284fc4f",
   "metadata": {},
   "outputs": [],
   "source": [
    "grid = GridSearchCV(estimator=model, param_grid=param_grid, cv=5)"
   ]
  },
  {
   "cell_type": "code",
   "execution_count": 205,
   "id": "460119f6",
   "metadata": {},
   "outputs": [
    {
     "name": "stdout",
     "output_type": "stream",
     "text": [
      "279/279 [==============================] - 2s 2ms/step - loss: 0.5677 - accuracy: 0.7103\n",
      "70/70 [==============================] - 0s 2ms/step - loss: 0.5687 - accuracy: 0.7145\n",
      "279/279 [==============================] - 2s 4ms/step - loss: 0.5800 - accuracy: 0.6979\n",
      "70/70 [==============================] - 0s 2ms/step - loss: 0.5502 - accuracy: 0.7548\n",
      "279/279 [==============================] - 1s 2ms/step - loss: 0.5520 - accuracy: 0.7214\n",
      "70/70 [==============================] - 0s 2ms/step - loss: 0.5579 - accuracy: 0.7283\n",
      "279/279 [==============================] - 1s 2ms/step - loss: 0.6013 - accuracy: 0.6698\n",
      "70/70 [==============================] - 0s 1ms/step - loss: 0.5523 - accuracy: 0.7324\n",
      "279/279 [==============================] - 1s 2ms/step - loss: 0.5653 - accuracy: 0.6983\n",
      "70/70 [==============================] - 0s 1ms/step - loss: 0.6351 - accuracy: 0.6794\n",
      "279/279 [==============================] - 1s 2ms/step - loss: 0.5204 - accuracy: 0.7513\n",
      "70/70 [==============================] - 0s 1ms/step - loss: 0.5463 - accuracy: 0.7379\n",
      "279/279 [==============================] - 1s 2ms/step - loss: 0.5180 - accuracy: 0.7554\n",
      "70/70 [==============================] - 0s 1ms/step - loss: 0.4765 - accuracy: 0.7795\n",
      "279/279 [==============================] - 1s 2ms/step - loss: 0.5082 - accuracy: 0.7605\n",
      "70/70 [==============================] - 0s 1ms/step - loss: 0.5615 - accuracy: 0.7243\n",
      "279/279 [==============================] - 1s 2ms/step - loss: 0.5438 - accuracy: 0.7225\n",
      "70/70 [==============================] - 0s 1ms/step - loss: 0.5726 - accuracy: 0.7086\n",
      "279/279 [==============================] - 1s 2ms/step - loss: 0.5340 - accuracy: 0.7307\n",
      "70/70 [==============================] - 0s 1ms/step - loss: 0.5490 - accuracy: 0.7355\n",
      "279/279 [==============================] - 1s 2ms/step - loss: 0.4618 - accuracy: 0.7859\n",
      "70/70 [==============================] - 0s 1ms/step - loss: 0.4704 - accuracy: 0.7859\n",
      "279/279 [==============================] - 2s 2ms/step - loss: 0.4729 - accuracy: 0.7812\n",
      "70/70 [==============================] - 0s 1ms/step - loss: 0.4908 - accuracy: 0.7773\n",
      "279/279 [==============================] - 1s 2ms/step - loss: 0.4617 - accuracy: 0.7898\n",
      "70/70 [==============================] - 0s 1ms/step - loss: 0.4872 - accuracy: 0.7755\n",
      "279/279 [==============================] - 1s 2ms/step - loss: 0.4982 - accuracy: 0.7595\n",
      "70/70 [==============================] - 0s 1ms/step - loss: 0.3540 - accuracy: 0.8536\n",
      "279/279 [==============================] - 1s 2ms/step - loss: 0.5000 - accuracy: 0.7562\n",
      "70/70 [==============================] - 0s 3ms/step - loss: 0.4319 - accuracy: 0.7997\n",
      "279/279 [==============================] - 1s 2ms/step - loss: 0.6128 - accuracy: 0.6723\n",
      "70/70 [==============================] - 0s 1ms/step - loss: 0.5308 - accuracy: 0.7500\n",
      "279/279 [==============================] - 1s 2ms/step - loss: 0.5869 - accuracy: 0.6961\n",
      "70/70 [==============================] - 0s 1ms/step - loss: 0.5153 - accuracy: 0.7539\n",
      "279/279 [==============================] - 1s 2ms/step - loss: 0.5626 - accuracy: 0.7203\n",
      "70/70 [==============================] - 0s 1ms/step - loss: 0.5942 - accuracy: 0.7203\n",
      "279/279 [==============================] - 1s 2ms/step - loss: 0.5803 - accuracy: 0.6890\n",
      "70/70 [==============================] - 0s 1ms/step - loss: 0.6267 - accuracy: 0.7113\n",
      "279/279 [==============================] - 1s 2ms/step - loss: 0.5841 - accuracy: 0.6901\n",
      "70/70 [==============================] - 0s 1ms/step - loss: 0.6633 - accuracy: 0.6736\n",
      "279/279 [==============================] - 1s 2ms/step - loss: 0.5239 - accuracy: 0.7411\n",
      "70/70 [==============================] - 0s 2ms/step - loss: 0.4913 - accuracy: 0.7846\n",
      "279/279 [==============================] - 1s 2ms/step - loss: 0.5119 - accuracy: 0.7579\n",
      "70/70 [==============================] - 0s 1ms/step - loss: 0.4690 - accuracy: 0.7831\n",
      "279/279 [==============================] - 1s 2ms/step - loss: 0.5092 - accuracy: 0.7531\n",
      "70/70 [==============================] - 0s 1ms/step - loss: 0.5313 - accuracy: 0.7562\n",
      "279/279 [==============================] - 1s 2ms/step - loss: 0.5391 - accuracy: 0.7369\n",
      "70/70 [==============================] - 0s 1ms/step - loss: 0.4238 - accuracy: 0.8132\n",
      "279/279 [==============================] - 2s 2ms/step - loss: 0.5364 - accuracy: 0.7349\n",
      "70/70 [==============================] - 0s 1ms/step - loss: 0.5188 - accuracy: 0.7580\n",
      "279/279 [==============================] - 1s 3ms/step - loss: 0.4596 - accuracy: 0.7851\n",
      "70/70 [==============================] - 0s 1ms/step - loss: 0.4277 - accuracy: 0.8092\n",
      "279/279 [==============================] - 2s 3ms/step - loss: 0.4660 - accuracy: 0.7794\n",
      "70/70 [==============================] - 0s 2ms/step - loss: 0.4454 - accuracy: 0.8002\n",
      "279/279 [==============================] - 1s 3ms/step - loss: 0.4662 - accuracy: 0.7822\n",
      "70/70 [==============================] - 0s 2ms/step - loss: 0.4857 - accuracy: 0.7863\n",
      "279/279 [==============================] - 1s 3ms/step - loss: 0.5016 - accuracy: 0.7526\n",
      "70/70 [==============================] - 0s 1ms/step - loss: 0.2870 - accuracy: 0.8788\n",
      "279/279 [==============================] - 1s 3ms/step - loss: 0.4973 - accuracy: 0.7602\n",
      "70/70 [==============================] - 0s 2ms/step - loss: 0.4417 - accuracy: 0.7804\n",
      "279/279 [==============================] - 1s 2ms/step - loss: 0.5813 - accuracy: 0.6954\n",
      "70/70 [==============================] - 0s 1ms/step - loss: 0.5093 - accuracy: 0.7662\n",
      "279/279 [==============================] - 1s 2ms/step - loss: 0.5787 - accuracy: 0.7052\n",
      "70/70 [==============================] - 0s 1ms/step - loss: 0.5033 - accuracy: 0.7881\n",
      "279/279 [==============================] - 1s 2ms/step - loss: 0.6012 - accuracy: 0.6730\n",
      "70/70 [==============================] - 0s 1ms/step - loss: 0.5819 - accuracy: 0.7220\n",
      "279/279 [==============================] - 1s 3ms/step - loss: 0.5970 - accuracy: 0.6752\n",
      "70/70 [==============================] - 0s 1ms/step - loss: 0.5666 - accuracy: 0.7593\n",
      "279/279 [==============================] - 1s 2ms/step - loss: 0.6085 - accuracy: 0.6684\n",
      "70/70 [==============================] - 0s 1ms/step - loss: 0.6537 - accuracy: 0.6673\n",
      "279/279 [==============================] - 1s 2ms/step - loss: 0.5315 - accuracy: 0.7325\n",
      "70/70 [==============================] - 0s 1ms/step - loss: 0.5830 - accuracy: 0.7352\n",
      "279/279 [==============================] - 2s 3ms/step - loss: 0.5193 - accuracy: 0.7450\n",
      "70/70 [==============================] - 0s 2ms/step - loss: 0.5543 - accuracy: 0.7445\n",
      "279/279 [==============================] - 1s 2ms/step - loss: 0.5275 - accuracy: 0.7381\n",
      "70/70 [==============================] - 0s 1ms/step - loss: 0.4713 - accuracy: 0.8069\n",
      "279/279 [==============================] - 1s 2ms/step - loss: 0.5407 - accuracy: 0.7283\n",
      "70/70 [==============================] - 0s 1ms/step - loss: 0.4440 - accuracy: 0.7934\n",
      "279/279 [==============================] - 1s 2ms/step - loss: 0.5462 - accuracy: 0.7241\n",
      "70/70 [==============================] - 0s 1ms/step - loss: 0.4796 - accuracy: 0.7705\n",
      "279/279 [==============================] - 2s 3ms/step - loss: 0.4632 - accuracy: 0.7832\n",
      "70/70 [==============================] - 0s 2ms/step - loss: 0.4572 - accuracy: 0.8012\n",
      "279/279 [==============================] - 2s 3ms/step - loss: 0.4758 - accuracy: 0.7791\n",
      "70/70 [==============================] - 0s 2ms/step - loss: 0.4543 - accuracy: 0.8119\n",
      "279/279 [==============================] - 2s 3ms/step - loss: 0.4607 - accuracy: 0.7856\n",
      "70/70 [==============================] - 0s 2ms/step - loss: 0.4511 - accuracy: 0.8033\n",
      "279/279 [==============================] - 2s 3ms/step - loss: 0.4996 - accuracy: 0.7598\n",
      "70/70 [==============================] - 0s 2ms/step - loss: 0.3934 - accuracy: 0.7916\n",
      "279/279 [==============================] - 2s 3ms/step - loss: 0.4976 - accuracy: 0.7666\n",
      "70/70 [==============================] - 0s 1ms/step - loss: 0.3901 - accuracy: 0.7930\n",
      "279/279 [==============================] - 1s 2ms/step - loss: 0.6033 - accuracy: 0.6775\n",
      "70/70 [==============================] - 0s 1ms/step - loss: 0.5906 - accuracy: 0.7011\n",
      "279/279 [==============================] - 1s 2ms/step - loss: 0.6200 - accuracy: 0.6608\n"
     ]
    },
    {
     "name": "stdout",
     "output_type": "stream",
     "text": [
      "70/70 [==============================] - 0s 1ms/step - loss: 0.5958 - accuracy: 0.7014\n",
      "279/279 [==============================] - 1s 2ms/step - loss: 0.6140 - accuracy: 0.6715\n",
      "70/70 [==============================] - 0s 1ms/step - loss: 0.5869 - accuracy: 0.7211\n",
      "279/279 [==============================] - 1s 2ms/step - loss: 0.5959 - accuracy: 0.6746\n",
      "70/70 [==============================] - 0s 1ms/step - loss: 0.5888 - accuracy: 0.6843\n",
      "279/279 [==============================] - 1s 2ms/step - loss: 0.5913 - accuracy: 0.6829\n",
      "70/70 [==============================] - 0s 1ms/step - loss: 0.7210 - accuracy: 0.6084\n",
      "279/279 [==============================] - 1s 2ms/step - loss: 0.5421 - accuracy: 0.7283\n",
      "70/70 [==============================] - 0s 1ms/step - loss: 0.5252 - accuracy: 0.7401\n",
      "279/279 [==============================] - 1s 2ms/step - loss: 0.5293 - accuracy: 0.7415\n",
      "70/70 [==============================] - 0s 1ms/step - loss: 0.4928 - accuracy: 0.7773\n",
      "279/279 [==============================] - 1s 2ms/step - loss: 0.5331 - accuracy: 0.7431\n",
      "70/70 [==============================] - 0s 1ms/step - loss: 0.5687 - accuracy: 0.7167\n",
      "279/279 [==============================] - 1s 2ms/step - loss: 0.5540 - accuracy: 0.7208\n",
      "70/70 [==============================] - 0s 1ms/step - loss: 0.5071 - accuracy: 0.7678\n",
      "279/279 [==============================] - 1s 2ms/step - loss: 0.5494 - accuracy: 0.7230\n",
      "70/70 [==============================] - 0s 1ms/step - loss: 0.6069 - accuracy: 0.6960\n",
      "279/279 [==============================] - 1s 2ms/step - loss: 0.4817 - accuracy: 0.7718\n",
      "70/70 [==============================] - 0s 1ms/step - loss: 0.4781 - accuracy: 0.7837\n",
      "279/279 [==============================] - 1s 2ms/step - loss: 0.4946 - accuracy: 0.7672\n",
      "70/70 [==============================] - 0s 1ms/step - loss: 0.4407 - accuracy: 0.8038\n",
      "279/279 [==============================] - 1s 2ms/step - loss: 0.4865 - accuracy: 0.7694\n",
      "70/70 [==============================] - 0s 2ms/step - loss: 0.4647 - accuracy: 0.7984\n",
      "279/279 [==============================] - 1s 2ms/step - loss: 0.5039 - accuracy: 0.7610\n",
      "70/70 [==============================] - 0s 1ms/step - loss: 0.4132 - accuracy: 0.8159\n",
      "279/279 [==============================] - 1s 2ms/step - loss: 0.5111 - accuracy: 0.7478\n",
      "70/70 [==============================] - 0s 1ms/step - loss: 0.4481 - accuracy: 0.7930\n",
      "279/279 [==============================] - 1s 2ms/step - loss: 0.6207 - accuracy: 0.6641\n",
      "70/70 [==============================] - 0s 1ms/step - loss: 0.6083 - accuracy: 0.7195\n",
      "279/279 [==============================] - 2s 2ms/step - loss: 0.6149 - accuracy: 0.6703\n",
      "70/70 [==============================] - 0s 1ms/step - loss: 0.5993 - accuracy: 0.7211\n",
      "279/279 [==============================] - 1s 2ms/step - loss: 0.6199 - accuracy: 0.6630\n",
      "70/70 [==============================] - 0s 1ms/step - loss: 0.5946 - accuracy: 0.6947\n",
      "279/279 [==============================] - 1s 2ms/step - loss: 0.6135 - accuracy: 0.6530\n",
      "70/70 [==============================] - 0s 1ms/step - loss: 0.5967 - accuracy: 0.7045\n",
      "279/279 [==============================] - 1s 2ms/step - loss: 0.6028 - accuracy: 0.6615\n",
      "70/70 [==============================] - 0s 1ms/step - loss: 0.7014 - accuracy: 0.6304\n",
      "279/279 [==============================] - 1s 2ms/step - loss: 0.5432 - accuracy: 0.7372\n",
      "70/70 [==============================] - 0s 1ms/step - loss: 0.5764 - accuracy: 0.7208\n",
      "279/279 [==============================] - 1s 2ms/step - loss: 0.5612 - accuracy: 0.7184\n",
      "70/70 [==============================] - 0s 1ms/step - loss: 0.5070 - accuracy: 0.7701\n",
      "279/279 [==============================] - 1s 2ms/step - loss: 0.5568 - accuracy: 0.7238\n",
      "70/70 [==============================] - 0s 1ms/step - loss: 0.5584 - accuracy: 0.7315\n",
      "279/279 [==============================] - 1s 2ms/step - loss: 0.5715 - accuracy: 0.7039\n",
      "70/70 [==============================] - 0s 1ms/step - loss: 0.5311 - accuracy: 0.7593\n",
      "279/279 [==============================] - 1s 2ms/step - loss: 0.5641 - accuracy: 0.7050\n",
      "70/70 [==============================] - 0s 1ms/step - loss: 0.5184 - accuracy: 0.7517\n",
      "279/279 [==============================] - 1s 3ms/step - loss: 0.4857 - accuracy: 0.7699\n",
      "70/70 [==============================] - 0s 2ms/step - loss: 0.4447 - accuracy: 0.8079\n",
      "279/279 [==============================] - 1s 3ms/step - loss: 0.4914 - accuracy: 0.7668\n",
      "70/70 [==============================] - 0s 1ms/step - loss: 0.4557 - accuracy: 0.8006\n",
      "279/279 [==============================] - 2s 3ms/step - loss: 0.4919 - accuracy: 0.7618\n",
      "70/70 [==============================] - 0s 1ms/step - loss: 0.5077 - accuracy: 0.7678\n",
      "279/279 [==============================] - 1s 3ms/step - loss: 0.5227 - accuracy: 0.7468\n",
      "70/70 [==============================] - 0s 1ms/step - loss: 0.3304 - accuracy: 0.8612\n",
      "279/279 [==============================] - 1s 3ms/step - loss: 0.5205 - accuracy: 0.7442\n",
      "70/70 [==============================] - 0s 1ms/step - loss: 0.4761 - accuracy: 0.7557\n",
      "279/279 [==============================] - 1s 2ms/step - loss: 0.6266 - accuracy: 0.6464\n",
      "70/70 [==============================] - 0s 1ms/step - loss: 0.5944 - accuracy: 0.7374\n",
      "279/279 [==============================] - 1s 2ms/step - loss: 0.6500 - accuracy: 0.6263\n",
      "70/70 [==============================] - 0s 1ms/step - loss: 0.5906 - accuracy: 0.7126\n",
      "279/279 [==============================] - 1s 2ms/step - loss: 0.6250 - accuracy: 0.6543\n",
      "70/70 [==============================] - 1s 3ms/step - loss: 0.6083 - accuracy: 0.7220\n",
      "279/279 [==============================] - 2s 3ms/step - loss: 0.6323 - accuracy: 0.6303\n",
      "70/70 [==============================] - 0s 2ms/step - loss: 0.5629 - accuracy: 0.7441\n",
      "279/279 [==============================] - 1s 2ms/step - loss: 0.6161 - accuracy: 0.6475\n",
      "70/70 [==============================] - 0s 1ms/step - loss: 0.6891 - accuracy: 0.6830\n",
      "279/279 [==============================] - 1s 2ms/step - loss: 0.5537 - accuracy: 0.7167\n",
      "70/70 [==============================] - 0s 1ms/step - loss: 0.4791 - accuracy: 0.7899\n",
      "279/279 [==============================] - 2s 3ms/step - loss: 0.5680 - accuracy: 0.7085\n",
      "70/70 [==============================] - 0s 2ms/step - loss: 0.5403 - accuracy: 0.7710\n",
      "279/279 [==============================] - 2s 2ms/step - loss: 0.5719 - accuracy: 0.7032\n",
      "70/70 [==============================] - 0s 2ms/step - loss: 0.5985 - accuracy: 0.7234\n",
      "279/279 [==============================] - 1s 2ms/step - loss: 0.5690 - accuracy: 0.7112\n",
      "70/70 [==============================] - 0s 1ms/step - loss: 0.5061 - accuracy: 0.7328\n",
      "279/279 [==============================] - 1s 2ms/step - loss: 0.5699 - accuracy: 0.7036\n",
      "70/70 [==============================] - 0s 1ms/step - loss: 0.5605 - accuracy: 0.7391\n",
      "279/279 [==============================] - 2s 3ms/step - loss: 0.4973 - accuracy: 0.7576\n",
      "70/70 [==============================] - 0s 2ms/step - loss: 0.4603 - accuracy: 0.8066\n",
      "279/279 [==============================] - 2s 4ms/step - loss: 0.4933 - accuracy: 0.7617\n",
      "70/70 [==============================] - 0s 2ms/step - loss: 0.4454 - accuracy: 0.8101\n",
      "279/279 [==============================] - 2s 4ms/step - loss: 0.4908 - accuracy: 0.7608\n",
      "70/70 [==============================] - 0s 2ms/step - loss: 0.4735 - accuracy: 0.8163\n",
      "279/279 [==============================] - 2s 3ms/step - loss: 0.5248 - accuracy: 0.7478\n",
      "70/70 [==============================] - 0s 1ms/step - loss: 0.4958 - accuracy: 0.7297\n",
      "279/279 [==============================] - 2s 3ms/step - loss: 0.5274 - accuracy: 0.7432\n",
      "70/70 [==============================] - 0s 2ms/step - loss: 0.3622 - accuracy: 0.8168\n",
      "279/279 [==============================] - 1s 2ms/step - loss: 0.5978 - accuracy: 0.6806\n",
      "70/70 [==============================] - 0s 2ms/step - loss: 0.5896 - accuracy: 0.7222\n",
      "279/279 [==============================] - 1s 2ms/step - loss: 0.6152 - accuracy: 0.6661\n",
      "70/70 [==============================] - 0s 1ms/step - loss: 0.5866 - accuracy: 0.7211\n",
      "279/279 [==============================] - 1s 2ms/step - loss: 0.6140 - accuracy: 0.6725\n",
      "70/70 [==============================] - 0s 1ms/step - loss: 0.6125 - accuracy: 0.6906\n"
     ]
    },
    {
     "name": "stdout",
     "output_type": "stream",
     "text": [
      "279/279 [==============================] - 1s 2ms/step - loss: 0.6595 - accuracy: 0.6213\n",
      "70/70 [==============================] - 0s 1ms/step - loss: 0.7303 - accuracy: 0.4921\n",
      "279/279 [==============================] - 1s 2ms/step - loss: 0.6021 - accuracy: 0.6721\n",
      "70/70 [==============================] - 0s 1ms/step - loss: 0.7167 - accuracy: 0.5950\n",
      "279/279 [==============================] - 1s 2ms/step - loss: 0.5672 - accuracy: 0.7128\n",
      "70/70 [==============================] - 0s 1ms/step - loss: 0.5371 - accuracy: 0.7513\n",
      "279/279 [==============================] - 1s 2ms/step - loss: 0.5849 - accuracy: 0.6946\n",
      "70/70 [==============================] - 0s 1ms/step - loss: 0.5744 - accuracy: 0.7283\n",
      "279/279 [==============================] - 1s 2ms/step - loss: 0.5606 - accuracy: 0.7165\n",
      "70/70 [==============================] - 0s 1ms/step - loss: 0.5488 - accuracy: 0.7409\n",
      "279/279 [==============================] - 1s 2ms/step - loss: 0.5733 - accuracy: 0.7047\n",
      "70/70 [==============================] - 0s 1ms/step - loss: 0.5735 - accuracy: 0.7220\n",
      "279/279 [==============================] - 1s 2ms/step - loss: 0.5610 - accuracy: 0.7105\n",
      "70/70 [==============================] - 0s 1ms/step - loss: 0.5674 - accuracy: 0.7167\n",
      "279/279 [==============================] - 1s 2ms/step - loss: 0.5135 - accuracy: 0.7513\n",
      "70/70 [==============================] - 0s 1ms/step - loss: 0.5065 - accuracy: 0.7581\n",
      "279/279 [==============================] - 1s 2ms/step - loss: 0.5098 - accuracy: 0.7541\n",
      "70/70 [==============================] - 0s 1ms/step - loss: 0.4708 - accuracy: 0.7899\n",
      "279/279 [==============================] - 1s 2ms/step - loss: 0.5104 - accuracy: 0.7650\n",
      "70/70 [==============================] - 0s 1ms/step - loss: 0.4618 - accuracy: 0.7979\n",
      "279/279 [==============================] - 1s 2ms/step - loss: 0.5412 - accuracy: 0.7307\n",
      "70/70 [==============================] - 0s 1ms/step - loss: 0.4454 - accuracy: 0.8051\n",
      "279/279 [==============================] - 1s 2ms/step - loss: 0.5273 - accuracy: 0.7372\n",
      "70/70 [==============================] - 0s 1ms/step - loss: 0.5778 - accuracy: 0.7122\n",
      "279/279 [==============================] - 1s 2ms/step - loss: 0.6602 - accuracy: 0.6152\n",
      "70/70 [==============================] - 0s 1ms/step - loss: 0.6399 - accuracy: 0.6526\n",
      "279/279 [==============================] - 1s 2ms/step - loss: 0.6396 - accuracy: 0.6354\n",
      "70/70 [==============================] - 0s 1ms/step - loss: 0.6042 - accuracy: 0.7292\n",
      "279/279 [==============================] - 1s 2ms/step - loss: 0.6583 - accuracy: 0.6168\n",
      "70/70 [==============================] - 0s 1ms/step - loss: 0.6096 - accuracy: 0.7436\n",
      "279/279 [==============================] - 1s 2ms/step - loss: 0.6607 - accuracy: 0.6023\n",
      "70/70 [==============================] - 0s 1ms/step - loss: 0.6858 - accuracy: 0.5990\n",
      "279/279 [==============================] - 1s 2ms/step - loss: 0.6442 - accuracy: 0.6177\n",
      "70/70 [==============================] - 0s 1ms/step - loss: 0.8425 - accuracy: 0.2824\n",
      "279/279 [==============================] - 1s 2ms/step - loss: 0.5719 - accuracy: 0.7073\n",
      "70/70 [==============================] - 0s 1ms/step - loss: 0.5488 - accuracy: 0.7428\n",
      "279/279 [==============================] - 2s 2ms/step - loss: 0.5869 - accuracy: 0.6880\n",
      "70/70 [==============================] - 0s 1ms/step - loss: 0.5070 - accuracy: 0.7714\n",
      "279/279 [==============================] - 1s 2ms/step - loss: 0.5894 - accuracy: 0.6926\n",
      "70/70 [==============================] - 0s 1ms/step - loss: 0.5659 - accuracy: 0.7405\n",
      "279/279 [==============================] - 1s 2ms/step - loss: 0.5925 - accuracy: 0.6821\n",
      "70/70 [==============================] - 0s 1ms/step - loss: 0.5287 - accuracy: 0.7607\n",
      "279/279 [==============================] - 1s 2ms/step - loss: 0.5826 - accuracy: 0.6903\n",
      "70/70 [==============================] - 0s 1ms/step - loss: 0.5814 - accuracy: 0.7562\n",
      "279/279 [==============================] - 1s 3ms/step - loss: 0.5249 - accuracy: 0.7429\n",
      "70/70 [==============================] - 0s 1ms/step - loss: 0.4757 - accuracy: 0.7926\n",
      "279/279 [==============================] - 1s 3ms/step - loss: 0.5178 - accuracy: 0.7491\n",
      "70/70 [==============================] - 0s 1ms/step - loss: 0.4789 - accuracy: 0.7952\n",
      "279/279 [==============================] - 1s 3ms/step - loss: 0.5203 - accuracy: 0.7458\n",
      "70/70 [==============================] - 0s 1ms/step - loss: 0.4842 - accuracy: 0.7943\n",
      "279/279 [==============================] - 1s 3ms/step - loss: 0.5485 - accuracy: 0.7180\n",
      "70/70 [==============================] - 0s 1ms/step - loss: 0.4440 - accuracy: 0.8020\n",
      "279/279 [==============================] - 1s 3ms/step - loss: 0.5323 - accuracy: 0.7389\n",
      "70/70 [==============================] - 0s 1ms/step - loss: 0.4694 - accuracy: 0.7728\n",
      "279/279 [==============================] - 1s 2ms/step - loss: 0.6691 - accuracy: 0.5915\n",
      "70/70 [==============================] - 0s 2ms/step - loss: 0.6251 - accuracy: 0.7204\n",
      "279/279 [==============================] - 2s 2ms/step - loss: 0.6661 - accuracy: 0.6051\n",
      "70/70 [==============================] - 0s 2ms/step - loss: 0.6074 - accuracy: 0.7153\n",
      "279/279 [==============================] - 2s 2ms/step - loss: 0.6533 - accuracy: 0.6104\n",
      "70/70 [==============================] - 0s 1ms/step - loss: 0.6495 - accuracy: 0.6767\n",
      "279/279 [==============================] - 2s 2ms/step - loss: 0.6680 - accuracy: 0.5931\n",
      "70/70 [==============================] - 0s 1ms/step - loss: 0.7380 - accuracy: 0.4522\n",
      "279/279 [==============================] - 1s 2ms/step - loss: 0.6458 - accuracy: 0.6049\n",
      "70/70 [==============================] - 0s 2ms/step - loss: 0.7806 - accuracy: 0.1819\n",
      "279/279 [==============================] - 1s 2ms/step - loss: 0.6291 - accuracy: 0.6593\n",
      "70/70 [==============================] - 0s 1ms/step - loss: 0.5740 - accuracy: 0.7285\n",
      "279/279 [==============================] - 1s 2ms/step - loss: 0.6109 - accuracy: 0.6654\n",
      "70/70 [==============================] - 0s 1ms/step - loss: 0.5448 - accuracy: 0.7530\n",
      "279/279 [==============================] - 1s 2ms/step - loss: 0.6063 - accuracy: 0.6752\n",
      "70/70 [==============================] - 0s 1ms/step - loss: 0.6191 - accuracy: 0.7131\n",
      "279/279 [==============================] - 1s 2ms/step - loss: 0.6075 - accuracy: 0.6683\n",
      "70/70 [==============================] - 0s 1ms/step - loss: 0.6036 - accuracy: 0.7494\n",
      "279/279 [==============================] - 1s 2ms/step - loss: 0.6158 - accuracy: 0.6560\n",
      "70/70 [==============================] - 0s 1ms/step - loss: 0.6387 - accuracy: 0.7171\n",
      "279/279 [==============================] - 2s 3ms/step - loss: 0.5401 - accuracy: 0.7327\n",
      "70/70 [==============================] - 0s 2ms/step - loss: 0.4843 - accuracy: 0.7868\n",
      "279/279 [==============================] - 2s 3ms/step - loss: 0.5419 - accuracy: 0.7330\n",
      "70/70 [==============================] - 0s 2ms/step - loss: 0.5034 - accuracy: 0.7813\n",
      "279/279 [==============================] - 2s 3ms/step - loss: 0.5311 - accuracy: 0.7353\n",
      "70/70 [==============================] - 0s 2ms/step - loss: 0.5123 - accuracy: 0.7831\n",
      "279/279 [==============================] - 2s 3ms/step - loss: 0.5667 - accuracy: 0.7087\n",
      "70/70 [==============================] - 0s 2ms/step - loss: 0.4265 - accuracy: 0.7957\n",
      "279/279 [==============================] - 2s 3ms/step - loss: 0.5669 - accuracy: 0.7075\n",
      "70/70 [==============================] - 0s 1ms/step - loss: 0.4215 - accuracy: 0.8491\n",
      "348/348 [==============================] - 1s 2ms/step - loss: 0.4694 - accuracy: 0.7784\n"
     ]
    }
   ],
   "source": [
    "grid_result = grid.fit(X_sm_clean, y_sm)"
   ]
  },
  {
   "cell_type": "code",
   "execution_count": 206,
   "id": "d669b375",
   "metadata": {},
   "outputs": [
    {
     "name": "stdout",
     "output_type": "stream",
     "text": [
      "Best: 0.810974 using {'dropout': 0.2, 'layers': 3, 'units': 128}\n"
     ]
    }
   ],
   "source": [
    "print(\"Best: %f using %s\" % (grid_result.best_score_, grid_result.best_params_))"
   ]
  },
  {
   "cell_type": "code",
   "execution_count": 207,
   "id": "c933f81f",
   "metadata": {},
   "outputs": [
    {
     "name": "stdout",
     "output_type": "stream",
     "text": [
      "57/57 [==============================] - 0s 1ms/step\n",
      "Accuracy: 0.7911111111111111\n"
     ]
    }
   ],
   "source": [
    "deep_pred = np.argmax(grid_result.predict(X_test_clean), axis=-1)\n",
    "accuracy = accuracy_score(y_test, deep_pred)\n",
    "print(\"Accuracy:\", accuracy)"
   ]
  },
  {
   "cell_type": "code",
   "execution_count": 208,
   "id": "e87bada3",
   "metadata": {},
   "outputs": [
    {
     "name": "stdout",
     "output_type": "stream",
     "text": [
      "              precision    recall  f1-score   support\n",
      "\n",
      "           0       0.79      1.00      0.88      1424\n",
      "           1       0.00      0.00      0.00       376\n",
      "\n",
      "    accuracy                           0.79      1800\n",
      "   macro avg       0.40      0.50      0.44      1800\n",
      "weighted avg       0.63      0.79      0.70      1800\n",
      "\n"
     ]
    }
   ],
   "source": [
    "print(classification_report(y_test, deep_pred, labels=[0,1]))"
   ]
  },
  {
   "cell_type": "code",
   "execution_count": 209,
   "id": "bf2a5689",
   "metadata": {},
   "outputs": [
    {
     "data": {
      "image/png": "[encoded data removed]",
      "text/plain": [
       "<Figure size 432x288 with 2 Axes>"
      ]
     },
     "metadata": {
      "needs_background": "light"
     },
     "output_type": "display_data"
    }
   ],
   "source": [
    "ConfusionMatrixDisplay.from_predictions(y_test, deep_pred, display_labels = [False, True])\n",
    "plt.show()"
   ]
  },
  {
   "cell_type": "markdown",
   "id": "b9dcef65",
   "metadata": {},
   "source": [
    "## LightGBM"
   ]
  },
  {
   "cell_type": "code",
   "execution_count": 210,
   "id": "2ee7e020",
   "metadata": {},
   "outputs": [],
   "source": [
    "# define the LightGBM classifier\n",
    "lgb_awal = LGBMClassifier(random_state = 123)"
   ]
  },
  {
   "cell_type": "code",
   "execution_count": 211,
   "id": "2a74ea1d",
   "metadata": {},
   "outputs": [
    {
     "data": {
      "text/plain": [
       "LGBMClassifier(random_state=123)"
      ]
     },
     "execution_count": 211,
     "metadata": {},
     "output_type": "execute_result"
    }
   ],
   "source": [
    "lgb_awal.fit(X_sm_clean, y_sm)"
   ]
  },
  {
   "cell_type": "code",
   "execution_count": 212,
   "id": "9ef42b45",
   "metadata": {},
   "outputs": [
    {
     "data": {
      "text/plain": [
       "0.9289691091954023"
      ]
     },
     "execution_count": 212,
     "metadata": {},
     "output_type": "execute_result"
    }
   ],
   "source": [
    "# train the classifier\n",
    "lgb_awal.score(X_sm_clean, y_sm)"
   ]
  },
  {
   "cell_type": "code",
   "execution_count": 213,
   "id": "069a9504",
   "metadata": {},
   "outputs": [],
   "source": [
    "# make predictions on the testing set\n",
    "lgb_pred = lgb_awal.predict(X_test_clean)"
   ]
  },
  {
   "cell_type": "code",
   "execution_count": 214,
   "id": "ad3df390",
   "metadata": {},
   "outputs": [
    {
     "name": "stdout",
     "output_type": "stream",
     "text": [
      "Training Data Score: 0.9289691091954023\n",
      "Validating Data Score: 0.8533333333333334\n",
      "Testing Data Score: 0.8477777777777777\n"
     ]
    }
   ],
   "source": [
    "print(f\"Training Data Score: {lgb_awal.score(X_sm_clean, y_sm)}\")\n",
    "print(f\"Validating Data Score: {lgb_awal.score(X_valid_clean, y_valid)}\")\n",
    "print(f\"Testing Data Score: {lgb_awal.score(X_test_clean, y_test)}\")"
   ]
  },
  {
   "cell_type": "code",
   "execution_count": 215,
   "id": "49abd02b",
   "metadata": {},
   "outputs": [
    {
     "name": "stdout",
     "output_type": "stream",
     "text": [
      "              precision    recall  f1-score   support\n",
      "\n",
      "           0       0.91      0.90      0.90      1424\n",
      "           1       0.63      0.67      0.65       376\n",
      "\n",
      "    accuracy                           0.85      1800\n",
      "   macro avg       0.77      0.78      0.77      1800\n",
      "weighted avg       0.85      0.85      0.85      1800\n",
      "\n"
     ]
    }
   ],
   "source": [
    "print(classification_report(y_test, lgb_pred, labels=[0,1]))"
   ]
  },
  {
   "cell_type": "markdown",
   "id": "d1d1468c",
   "metadata": {},
   "source": [
    "## Tuning Parameter LightGBM"
   ]
  },
  {
   "cell_type": "code",
   "execution_count": 216,
   "id": "d91829ad",
   "metadata": {},
   "outputs": [],
   "source": [
    "# define the LightGBM classifier\n",
    "lgb = LGBMClassifier()"
   ]
  },
  {
   "cell_type": "code",
   "execution_count": 217,
   "id": "845936f2",
   "metadata": {},
   "outputs": [],
   "source": [
    "# define the hyperparameters to tune\n",
    "param_grid = {\n",
    "    'num_leaves': [10, 20, 30],\n",
    "    'max_depth': [3, 4, 5],\n",
    "    'learning_rate': [0.1, 0.01, 0.001]\n",
    "}"
   ]
  },
  {
   "cell_type": "code",
   "execution_count": 218,
   "id": "7848d5e5",
   "metadata": {},
   "outputs": [],
   "source": [
    "# create the grid search object\n",
    "grid_search_lgb = GridSearchCV(lgb, param_grid=param_grid, cv=5)"
   ]
  },
  {
   "cell_type": "code",
   "execution_count": 219,
   "id": "b01ee185",
   "metadata": {},
   "outputs": [
    {
     "data": {
      "text/plain": [
       "GridSearchCV(cv=5, estimator=LGBMClassifier(),\n",
       "             param_grid={'learning_rate': [0.1, 0.01, 0.001],\n",
       "                         'max_depth': [3, 4, 5], 'num_leaves': [10, 20, 30]})"
      ]
     },
     "execution_count": 219,
     "metadata": {},
     "output_type": "execute_result"
    }
   ],
   "source": [
    "# train the grid search object\n",
    "grid_search_lgb.fit(X_sm_clean, y_sm)"
   ]
  },
  {
   "cell_type": "code",
   "execution_count": 220,
   "id": "98309473",
   "metadata": {},
   "outputs": [],
   "source": [
    "best_params = grid_search_lgb.best_params_"
   ]
  },
  {
   "cell_type": "code",
   "execution_count": 221,
   "id": "ab159150",
   "metadata": {},
   "outputs": [],
   "source": [
    "lgbm_best = LGBMClassifier(**best_params)"
   ]
  },
  {
   "cell_type": "code",
   "execution_count": 222,
   "id": "1a411da6",
   "metadata": {},
   "outputs": [
    {
     "data": {
      "text/plain": [
       "LGBMClassifier(max_depth=5, num_leaves=30)"
      ]
     },
     "execution_count": 222,
     "metadata": {},
     "output_type": "execute_result"
    }
   ],
   "source": [
    "lgbm_best.fit(X_sm_clean, y_sm)"
   ]
  },
  {
   "cell_type": "code",
   "execution_count": 223,
   "id": "6b7b9570",
   "metadata": {},
   "outputs": [],
   "source": [
    "lgb_best_pred = lgbm_best.predict(X_test_clean)"
   ]
  },
  {
   "cell_type": "code",
   "execution_count": 224,
   "id": "bc1797d6",
   "metadata": {},
   "outputs": [
    {
     "name": "stdout",
     "output_type": "stream",
     "text": [
      "              precision    recall  f1-score   support\n",
      "\n",
      "           0       0.91      0.88      0.90      1424\n",
      "           1       0.61      0.68      0.64       376\n",
      "\n",
      "    accuracy                           0.84      1800\n",
      "   macro avg       0.76      0.78      0.77      1800\n",
      "weighted avg       0.85      0.84      0.85      1800\n",
      "\n"
     ]
    }
   ],
   "source": [
    "print(classification_report(y_test, lgb_best_pred, labels=[0,1]))"
   ]
  },
  {
   "cell_type": "code",
   "execution_count": 225,
   "id": "8453012d",
   "metadata": {},
   "outputs": [
    {
     "data": {
      "image/png": "[encoded data removed]",
      "text/plain": [
       "<Figure size 432x288 with 2 Axes>"
      ]
     },
     "metadata": {
      "needs_background": "light"
     },
     "output_type": "display_data"
    }
   ],
   "source": [
    "ConfusionMatrixDisplay.from_predictions(y_test, lgb_best_pred, display_labels = [False, True])\n",
    "plt.show()"
   ]
  },
  {
   "cell_type": "code",
   "execution_count": 226,
   "id": "4bb0d8eb",
   "metadata": {},
   "outputs": [
    {
     "name": "stdout",
     "output_type": "stream",
     "text": [
      "Accuracy: 0.8422222222222222\n",
      "ROC AUC score: 0.7838199258905092\n"
     ]
    }
   ],
   "source": [
    "# evaluate the classifier using accuracy score and ROC AUC score\n",
    "acc = accuracy_score(y_test, lgb_best_pred)\n",
    "roc_auc = roc_auc_score(y_test, lgb_best_pred)\n",
    "print('Accuracy:', acc)\n",
    "print('ROC AUC score:', roc_auc)"
   ]
  },
  {
   "cell_type": "code",
   "execution_count": 227,
   "id": "876de2ec",
   "metadata": {},
   "outputs": [
    {
     "name": "stdout",
     "output_type": "stream",
     "text": [
      "                              precision    recall  f1_score  accuracy  \\\n",
      "Logistic Regression            0.785177  0.789444  0.787191  0.789444   \n",
      "Logistic Regression CV         0.785915  0.790556  0.788091  0.790556   \n",
      "Decision Tree                  0.805567  0.777778  0.788181  0.777778   \n",
      "Decision Tree CV               0.827719  0.811111  0.817597  0.811111   \n",
      "Support Vector Classifier      0.835026  0.837778  0.836298  0.837778   \n",
      "Support Vector Classifier CV   0.837735  0.841667  0.839462  0.841667   \n",
      "Random Forest                  0.829060  0.809444  0.816843  0.809444   \n",
      "Random Forest CV               0.841739  0.836667  0.838930  0.836667   \n",
      "Ridge                          0.782002  0.791111  0.785966  0.791111   \n",
      "Ridge CV                       0.782002  0.791111  0.785966  0.791111   \n",
      "KNN                            0.804355  0.789444  0.795678  0.789444   \n",
      "KNN CV                         0.807817  0.793333  0.799375  0.793333   \n",
      "Bagging                        0.828420  0.827222  0.827806  0.827222   \n",
      "Bagging CV                     0.841385  0.835000  0.837783  0.835000   \n",
      "gradient Boosting              0.844613  0.838889  0.841400  0.838889   \n",
      "gradient Boosting CV           0.848518  0.846667  0.847546  0.846667   \n",
      "Adaboost                       0.838131  0.817222  0.824802  0.817222   \n",
      "Adaboost SVC                   0.729714  0.532778  0.574135  0.532778   \n",
      "Adaboost CV                    0.836096  0.824444  0.829177  0.824444   \n",
      "Extratrees                     0.830021  0.833889  0.831756  0.833889   \n",
      "Extratrees CV                  0.838564  0.841667  0.839972  0.841667   \n",
      "XGboost                        0.851780  0.845000  0.847875  0.845000   \n",
      "XGboost CV                     0.854057  0.850000  0.851815  0.850000   \n",
      "LightGBM                       0.851554  0.847778  0.849485  0.847778   \n",
      "LightGBM CV                    0.850007  0.842222  0.845475  0.842222   \n",
      "\n",
      "                              macro_avg_precision  macro_avg_recall  \\\n",
      "Logistic Regression                      0.678683          0.671191   \n",
      "Logistic Regression CV                   0.680183          0.671894   \n",
      "Decision Tree                            0.684222          0.722538   \n",
      "Decision Tree CV                         0.721588          0.754370   \n",
      "Support Vector Classifier                0.754914          0.745779   \n",
      "Support Vector Classifier CV             0.761430          0.747258   \n",
      "Random Forest                            0.720864          0.758210   \n",
      "Random Forest CV                         0.753147          0.767586   \n",
      "Ridge                                    0.678231          0.661480   \n",
      "Ridge CV                                 0.678231          0.661480   \n",
      "KNN                                      0.691119          0.715231   \n",
      "KNN CV                                   0.696205          0.720625   \n",
      "Bagging                                  0.738794          0.742044   \n",
      "Bagging CV                               0.750957          0.768490   \n",
      "gradient Boosting                        0.756396          0.772905   \n",
      "gradient Boosting CV                     0.767691          0.773906   \n",
      "Adaboost                                 0.731760          0.773891   \n",
      "Adaboost SVC                             0.557436          0.586287   \n",
      "Adaboost CV                              0.737624          0.764755   \n",
      "Extratrees                               0.748943          0.736471   \n",
      "Extratrees CV                            0.761143          0.750194   \n",
      "XGboost                                  0.765131          0.785576   \n",
      "XGboost CV                               0.772287          0.785800   \n",
      "LightGBM                                 0.769107          0.781459   \n",
      "LightGBM CV                              0.761324          0.783820   \n",
      "\n",
      "                              macro_avg_f1_score  weighted_avg_precision  \\\n",
      "Logistic Regression                     0.674715                0.785177   \n",
      "Logistic Regression CV                  0.675770                0.785915   \n",
      "Decision Tree                           0.697328                0.805567   \n",
      "Decision Tree CV                        0.734702                0.827719   \n",
      "Support Vector Classifier               0.750148                0.835026   \n",
      "Support Vector Classifier CV            0.753883                0.837735   \n",
      "Random Forest                           0.735225                0.829060   \n",
      "Random Forest CV                        0.759856                0.841739   \n",
      "Ridge                                   0.668749                0.782002   \n",
      "Ridge CV                                0.668749                0.782002   \n",
      "KNN                                     0.700994                0.804355   \n",
      "KNN CV                                  0.706264                0.807817   \n",
      "Bagging                                 0.740391                0.828420   \n",
      "Bagging CV                              0.758959                0.841385   \n",
      "gradient Boosting                       0.763994                0.844613   \n",
      "gradient Boosting CV                    0.770712                0.848518   \n",
      "Adaboost                                0.747675                0.838131   \n",
      "Adaboost SVC                            0.501777                0.729714   \n",
      "Adaboost CV                             0.749185                0.836096   \n",
      "Extratrees                              0.742324                0.830021   \n",
      "Extratrees CV                           0.755393                0.838564   \n",
      "XGboost                                 0.774389                0.851780   \n",
      "XGboost CV                              0.778640                0.854057   \n",
      "LightGBM                                0.774941                0.851554   \n",
      "LightGBM CV                             0.771377                0.850007   \n",
      "\n",
      "                              weighted_avg_recall  weighted_avg_f1_score  \n",
      "Logistic Regression                      0.789444               0.787191  \n",
      "Logistic Regression CV                   0.790556               0.788091  \n",
      "Decision Tree                            0.777778               0.788181  \n",
      "Decision Tree CV                         0.811111               0.817597  \n",
      "Support Vector Classifier                0.837778               0.836298  \n",
      "Support Vector Classifier CV             0.841667               0.839462  \n",
      "Random Forest                            0.809444               0.816843  \n",
      "Random Forest CV                         0.836667               0.838930  \n",
      "Ridge                                    0.791111               0.785966  \n",
      "Ridge CV                                 0.791111               0.785966  \n",
      "KNN                                      0.789444               0.795678  \n",
      "KNN CV                                   0.793333               0.799375  \n",
      "Bagging                                  0.827222               0.827806  \n",
      "Bagging CV                               0.835000               0.837783  \n",
      "gradient Boosting                        0.838889               0.841400  \n",
      "gradient Boosting CV                     0.846667               0.847546  \n",
      "Adaboost                                 0.817222               0.824802  \n",
      "Adaboost SVC                             0.532778               0.574135  \n",
      "Adaboost CV                              0.824444               0.829177  \n",
      "Extratrees                               0.833889               0.831756  \n",
      "Extratrees CV                            0.841667               0.839972  \n",
      "XGboost                                  0.845000               0.847875  \n",
      "XGboost CV                               0.850000               0.851815  \n",
      "LightGBM                                 0.847778               0.849485  \n",
      "LightGBM CV                              0.842222               0.845475  \n"
     ]
    }
   ],
   "source": [
    "import pandas as pd\n",
    "from sklearn.metrics import classification_report\n",
    "\n",
    "# definisikan model-model yang ingin dibandingkan\n",
    "models = {'Logistic Regression': logreg_awal, \n",
    "          'Logistic Regression CV': lr_grid_cv,\n",
    "          'Decision Tree': decTree, \n",
    "          'Decision Tree CV': best_decTree,\n",
    "          'Support Vector Classifier':svc_ori,\n",
    "          'Support Vector Classifier CV':svc_grid_cv,\n",
    "          'Random Forest':random_forest,\n",
    "          'Random Forest CV':random_forestcls_cv,\n",
    "          'Ridge':ridge,\n",
    "          'Ridge CV':ridge_cv,\n",
    "          'KNN':knn_awal,\n",
    "          'KNN CV':kn_grid,\n",
    "          'Bagging':bagging_cls,\n",
    "          'Bagging CV':bagging_cv,\n",
    "          'gradient Boosting':grad_boost,\n",
    "          'gradient Boosting CV':gradboost_cv,\n",
    "          'Adaboost':abc_ori,\n",
    "          'Adaboost SVC':adaboost_svc,\n",
    "          'Adaboost CV':adaboost_best,\n",
    "          'Extratrees':extra_trees_awal,\n",
    "          'Extratrees CV':extra_trees_best,\n",
    "          'XGboost':xgb_classifier,\n",
    "          'XGboost CV':xgb_best,\n",
    "          'LightGBM':lgb_awal,\n",
    "          'LightGBM CV':lgbm_best\n",
    "         }\n",
    "\n",
    "# loop untuk menghitung dan menyimpan metrik untuk setiap model\n",
    "results = {}\n",
    "for name, model in models.items():\n",
    "    # hitung prediksi pada data test\n",
    "    y_pred = model.predict(X_test_clean)\n",
    "    # hitung metrik\n",
    "    report = classification_report(y_test, y_pred, output_dict=True)\n",
    "    # simpan metrik ke dictionary\n",
    "    results[name] = {\n",
    "        'precision': report['weighted avg']['precision'],\n",
    "        'recall': report['weighted avg']['recall'],\n",
    "        'f1_score': report['weighted avg']['f1-score'],\n",
    "        'accuracy': report['accuracy'],\n",
    "        'macro_avg_precision': report['macro avg']['precision'],\n",
    "        'macro_avg_recall': report['macro avg']['recall'],\n",
    "        'macro_avg_f1_score': report['macro avg']['f1-score'],\n",
    "        'weighted_avg_precision': report['weighted avg']['precision'],\n",
    "        'weighted_avg_recall': report['weighted avg']['recall'],\n",
    "        'weighted_avg_f1_score': report['weighted avg']['f1-score']\n",
    "    }\n",
    "\n",
    "# buat dataframe dari dictionary\n",
    "df_results = pd.DataFrame.from_dict(results, orient='index')\n",
    "\n",
    "# tampilkan dataframe sebagai tabel\n",
    "print(df_results)"
   ]
  },
  {
   "cell_type": "code",
   "execution_count": 228,
   "id": "583562ff",
   "metadata": {},
   "outputs": [
    {
     "data": {
      "text/html": [
       "<div>\n",
       "<style scoped>\n",
       "    .dataframe tbody tr th:only-of-type {\n",
       "        vertical-align: middle;\n",
       "    }\n",
       "\n",
       "    .dataframe tbody tr th {\n",
       "        vertical-align: top;\n",
       "    }\n",
       "\n",
       "    .dataframe thead th {\n",
       "        text-align: right;\n",
       "    }\n",
       "</style>\n",
       "<table border=\"1\" class=\"dataframe\">\n",
       "  <thead>\n",
       "    <tr style=\"text-align: right;\">\n",
       "      <th></th>\n",
       "      <th>precision</th>\n",
       "      <th>recall</th>\n",
       "      <th>f1_score</th>\n",
       "      <th>accuracy</th>\n",
       "      <th>macro_avg_precision</th>\n",
       "      <th>macro_avg_recall</th>\n",
       "      <th>macro_avg_f1_score</th>\n",
       "      <th>weighted_avg_precision</th>\n",
       "      <th>weighted_avg_recall</th>\n",
       "      <th>weighted_avg_f1_score</th>\n",
       "    </tr>\n",
       "  </thead>\n",
       "  <tbody>\n",
       "    <tr>\n",
       "      <th>Logistic Regression</th>\n",
       "      <td>0.785177</td>\n",
       "      <td>0.789444</td>\n",
       "      <td>0.787191</td>\n",
       "      <td>0.789444</td>\n",
       "      <td>0.678683</td>\n",
       "      <td>0.671191</td>\n",
       "      <td>0.674715</td>\n",
       "      <td>0.785177</td>\n",
       "      <td>0.789444</td>\n",
       "      <td>0.787191</td>\n",
       "    </tr>\n",
       "    <tr>\n",
       "      <th>Logistic Regression CV</th>\n",
       "      <td>0.785915</td>\n",
       "      <td>0.790556</td>\n",
       "      <td>0.788091</td>\n",
       "      <td>0.790556</td>\n",
       "      <td>0.680183</td>\n",
       "      <td>0.671894</td>\n",
       "      <td>0.675770</td>\n",
       "      <td>0.785915</td>\n",
       "      <td>0.790556</td>\n",
       "      <td>0.788091</td>\n",
       "    </tr>\n",
       "    <tr>\n",
       "      <th>Decision Tree</th>\n",
       "      <td>0.805567</td>\n",
       "      <td>0.777778</td>\n",
       "      <td>0.788181</td>\n",
       "      <td>0.777778</td>\n",
       "      <td>0.684222</td>\n",
       "      <td>0.722538</td>\n",
       "      <td>0.697328</td>\n",
       "      <td>0.805567</td>\n",
       "      <td>0.777778</td>\n",
       "      <td>0.788181</td>\n",
       "    </tr>\n",
       "    <tr>\n",
       "      <th>Decision Tree CV</th>\n",
       "      <td>0.827719</td>\n",
       "      <td>0.811111</td>\n",
       "      <td>0.817597</td>\n",
       "      <td>0.811111</td>\n",
       "      <td>0.721588</td>\n",
       "      <td>0.754370</td>\n",
       "      <td>0.734702</td>\n",
       "      <td>0.827719</td>\n",
       "      <td>0.811111</td>\n",
       "      <td>0.817597</td>\n",
       "    </tr>\n",
       "    <tr>\n",
       "      <th>Support Vector Classifier</th>\n",
       "      <td>0.835026</td>\n",
       "      <td>0.837778</td>\n",
       "      <td>0.836298</td>\n",
       "      <td>0.837778</td>\n",
       "      <td>0.754914</td>\n",
       "      <td>0.745779</td>\n",
       "      <td>0.750148</td>\n",
       "      <td>0.835026</td>\n",
       "      <td>0.837778</td>\n",
       "      <td>0.836298</td>\n",
       "    </tr>\n",
       "    <tr>\n",
       "      <th>Support Vector Classifier CV</th>\n",
       "      <td>0.837735</td>\n",
       "      <td>0.841667</td>\n",
       "      <td>0.839462</td>\n",
       "      <td>0.841667</td>\n",
       "      <td>0.761430</td>\n",
       "      <td>0.747258</td>\n",
       "      <td>0.753883</td>\n",
       "      <td>0.837735</td>\n",
       "      <td>0.841667</td>\n",
       "      <td>0.839462</td>\n",
       "    </tr>\n",
       "    <tr>\n",
       "      <th>Random Forest</th>\n",
       "      <td>0.829060</td>\n",
       "      <td>0.809444</td>\n",
       "      <td>0.816843</td>\n",
       "      <td>0.809444</td>\n",
       "      <td>0.720864</td>\n",
       "      <td>0.758210</td>\n",
       "      <td>0.735225</td>\n",
       "      <td>0.829060</td>\n",
       "      <td>0.809444</td>\n",
       "      <td>0.816843</td>\n",
       "    </tr>\n",
       "    <tr>\n",
       "      <th>Random Forest CV</th>\n",
       "      <td>0.841739</td>\n",
       "      <td>0.836667</td>\n",
       "      <td>0.838930</td>\n",
       "      <td>0.836667</td>\n",
       "      <td>0.753147</td>\n",
       "      <td>0.767586</td>\n",
       "      <td>0.759856</td>\n",
       "      <td>0.841739</td>\n",
       "      <td>0.836667</td>\n",
       "      <td>0.838930</td>\n",
       "    </tr>\n",
       "    <tr>\n",
       "      <th>Ridge</th>\n",
       "      <td>0.782002</td>\n",
       "      <td>0.791111</td>\n",
       "      <td>0.785966</td>\n",
       "      <td>0.791111</td>\n",
       "      <td>0.678231</td>\n",
       "      <td>0.661480</td>\n",
       "      <td>0.668749</td>\n",
       "      <td>0.782002</td>\n",
       "      <td>0.791111</td>\n",
       "      <td>0.785966</td>\n",
       "    </tr>\n",
       "    <tr>\n",
       "      <th>Ridge CV</th>\n",
       "      <td>0.782002</td>\n",
       "      <td>0.791111</td>\n",
       "      <td>0.785966</td>\n",
       "      <td>0.791111</td>\n",
       "      <td>0.678231</td>\n",
       "      <td>0.661480</td>\n",
       "      <td>0.668749</td>\n",
       "      <td>0.782002</td>\n",
       "      <td>0.791111</td>\n",
       "      <td>0.785966</td>\n",
       "    </tr>\n",
       "    <tr>\n",
       "      <th>KNN</th>\n",
       "      <td>0.804355</td>\n",
       "      <td>0.789444</td>\n",
       "      <td>0.795678</td>\n",
       "      <td>0.789444</td>\n",
       "      <td>0.691119</td>\n",
       "      <td>0.715231</td>\n",
       "      <td>0.700994</td>\n",
       "      <td>0.804355</td>\n",
       "      <td>0.789444</td>\n",
       "      <td>0.795678</td>\n",
       "    </tr>\n",
       "    <tr>\n",
       "      <th>KNN CV</th>\n",
       "      <td>0.807817</td>\n",
       "      <td>0.793333</td>\n",
       "      <td>0.799375</td>\n",
       "      <td>0.793333</td>\n",
       "      <td>0.696205</td>\n",
       "      <td>0.720625</td>\n",
       "      <td>0.706264</td>\n",
       "      <td>0.807817</td>\n",
       "      <td>0.793333</td>\n",
       "      <td>0.799375</td>\n",
       "    </tr>\n",
       "    <tr>\n",
       "      <th>Bagging</th>\n",
       "      <td>0.828420</td>\n",
       "      <td>0.827222</td>\n",
       "      <td>0.827806</td>\n",
       "      <td>0.827222</td>\n",
       "      <td>0.738794</td>\n",
       "      <td>0.742044</td>\n",
       "      <td>0.740391</td>\n",
       "      <td>0.828420</td>\n",
       "      <td>0.827222</td>\n",
       "      <td>0.827806</td>\n",
       "    </tr>\n",
       "    <tr>\n",
       "      <th>Bagging CV</th>\n",
       "      <td>0.841385</td>\n",
       "      <td>0.835000</td>\n",
       "      <td>0.837783</td>\n",
       "      <td>0.835000</td>\n",
       "      <td>0.750957</td>\n",
       "      <td>0.768490</td>\n",
       "      <td>0.758959</td>\n",
       "      <td>0.841385</td>\n",
       "      <td>0.835000</td>\n",
       "      <td>0.837783</td>\n",
       "    </tr>\n",
       "    <tr>\n",
       "      <th>gradient Boosting</th>\n",
       "      <td>0.844613</td>\n",
       "      <td>0.838889</td>\n",
       "      <td>0.841400</td>\n",
       "      <td>0.838889</td>\n",
       "      <td>0.756396</td>\n",
       "      <td>0.772905</td>\n",
       "      <td>0.763994</td>\n",
       "      <td>0.844613</td>\n",
       "      <td>0.838889</td>\n",
       "      <td>0.841400</td>\n",
       "    </tr>\n",
       "    <tr>\n",
       "      <th>gradient Boosting CV</th>\n",
       "      <td>0.848518</td>\n",
       "      <td>0.846667</td>\n",
       "      <td>0.847546</td>\n",
       "      <td>0.846667</td>\n",
       "      <td>0.767691</td>\n",
       "      <td>0.773906</td>\n",
       "      <td>0.770712</td>\n",
       "      <td>0.848518</td>\n",
       "      <td>0.846667</td>\n",
       "      <td>0.847546</td>\n",
       "    </tr>\n",
       "    <tr>\n",
       "      <th>Adaboost</th>\n",
       "      <td>0.838131</td>\n",
       "      <td>0.817222</td>\n",
       "      <td>0.824802</td>\n",
       "      <td>0.817222</td>\n",
       "      <td>0.731760</td>\n",
       "      <td>0.773891</td>\n",
       "      <td>0.747675</td>\n",
       "      <td>0.838131</td>\n",
       "      <td>0.817222</td>\n",
       "      <td>0.824802</td>\n",
       "    </tr>\n",
       "    <tr>\n",
       "      <th>Adaboost SVC</th>\n",
       "      <td>0.729714</td>\n",
       "      <td>0.532778</td>\n",
       "      <td>0.574135</td>\n",
       "      <td>0.532778</td>\n",
       "      <td>0.557436</td>\n",
       "      <td>0.586287</td>\n",
       "      <td>0.501777</td>\n",
       "      <td>0.729714</td>\n",
       "      <td>0.532778</td>\n",
       "      <td>0.574135</td>\n",
       "    </tr>\n",
       "    <tr>\n",
       "      <th>Adaboost CV</th>\n",
       "      <td>0.836096</td>\n",
       "      <td>0.824444</td>\n",
       "      <td>0.829177</td>\n",
       "      <td>0.824444</td>\n",
       "      <td>0.737624</td>\n",
       "      <td>0.764755</td>\n",
       "      <td>0.749185</td>\n",
       "      <td>0.836096</td>\n",
       "      <td>0.824444</td>\n",
       "      <td>0.829177</td>\n",
       "    </tr>\n",
       "    <tr>\n",
       "      <th>Extratrees</th>\n",
       "      <td>0.830021</td>\n",
       "      <td>0.833889</td>\n",
       "      <td>0.831756</td>\n",
       "      <td>0.833889</td>\n",
       "      <td>0.748943</td>\n",
       "      <td>0.736471</td>\n",
       "      <td>0.742324</td>\n",
       "      <td>0.830021</td>\n",
       "      <td>0.833889</td>\n",
       "      <td>0.831756</td>\n",
       "    </tr>\n",
       "    <tr>\n",
       "      <th>Extratrees CV</th>\n",
       "      <td>0.838564</td>\n",
       "      <td>0.841667</td>\n",
       "      <td>0.839972</td>\n",
       "      <td>0.841667</td>\n",
       "      <td>0.761143</td>\n",
       "      <td>0.750194</td>\n",
       "      <td>0.755393</td>\n",
       "      <td>0.838564</td>\n",
       "      <td>0.841667</td>\n",
       "      <td>0.839972</td>\n",
       "    </tr>\n",
       "    <tr>\n",
       "      <th>XGboost</th>\n",
       "      <td>0.851780</td>\n",
       "      <td>0.845000</td>\n",
       "      <td>0.847875</td>\n",
       "      <td>0.845000</td>\n",
       "      <td>0.765131</td>\n",
       "      <td>0.785576</td>\n",
       "      <td>0.774389</td>\n",
       "      <td>0.851780</td>\n",
       "      <td>0.845000</td>\n",
       "      <td>0.847875</td>\n",
       "    </tr>\n",
       "    <tr>\n",
       "      <th>XGboost CV</th>\n",
       "      <td>0.854057</td>\n",
       "      <td>0.850000</td>\n",
       "      <td>0.851815</td>\n",
       "      <td>0.850000</td>\n",
       "      <td>0.772287</td>\n",
       "      <td>0.785800</td>\n",
       "      <td>0.778640</td>\n",
       "      <td>0.854057</td>\n",
       "      <td>0.850000</td>\n",
       "      <td>0.851815</td>\n",
       "    </tr>\n",
       "    <tr>\n",
       "      <th>LightGBM</th>\n",
       "      <td>0.851554</td>\n",
       "      <td>0.847778</td>\n",
       "      <td>0.849485</td>\n",
       "      <td>0.847778</td>\n",
       "      <td>0.769107</td>\n",
       "      <td>0.781459</td>\n",
       "      <td>0.774941</td>\n",
       "      <td>0.851554</td>\n",
       "      <td>0.847778</td>\n",
       "      <td>0.849485</td>\n",
       "    </tr>\n",
       "    <tr>\n",
       "      <th>LightGBM CV</th>\n",
       "      <td>0.850007</td>\n",
       "      <td>0.842222</td>\n",
       "      <td>0.845475</td>\n",
       "      <td>0.842222</td>\n",
       "      <td>0.761324</td>\n",
       "      <td>0.783820</td>\n",
       "      <td>0.771377</td>\n",
       "      <td>0.850007</td>\n",
       "      <td>0.842222</td>\n",
       "      <td>0.845475</td>\n",
       "    </tr>\n",
       "  </tbody>\n",
       "</table>\n",
       "</div>"
      ],
      "text/plain": [
       "                              precision    recall  f1_score  accuracy  \\\n",
       "Logistic Regression            0.785177  0.789444  0.787191  0.789444   \n",
       "Logistic Regression CV         0.785915  0.790556  0.788091  0.790556   \n",
       "Decision Tree                  0.805567  0.777778  0.788181  0.777778   \n",
       "Decision Tree CV               0.827719  0.811111  0.817597  0.811111   \n",
       "Support Vector Classifier      0.835026  0.837778  0.836298  0.837778   \n",
       "Support Vector Classifier CV   0.837735  0.841667  0.839462  0.841667   \n",
       "Random Forest                  0.829060  0.809444  0.816843  0.809444   \n",
       "Random Forest CV               0.841739  0.836667  0.838930  0.836667   \n",
       "Ridge                          0.782002  0.791111  0.785966  0.791111   \n",
       "Ridge CV                       0.782002  0.791111  0.785966  0.791111   \n",
       "KNN                            0.804355  0.789444  0.795678  0.789444   \n",
       "KNN CV                         0.807817  0.793333  0.799375  0.793333   \n",
       "Bagging                        0.828420  0.827222  0.827806  0.827222   \n",
       "Bagging CV                     0.841385  0.835000  0.837783  0.835000   \n",
       "gradient Boosting              0.844613  0.838889  0.841400  0.838889   \n",
       "gradient Boosting CV           0.848518  0.846667  0.847546  0.846667   \n",
       "Adaboost                       0.838131  0.817222  0.824802  0.817222   \n",
       "Adaboost SVC                   0.729714  0.532778  0.574135  0.532778   \n",
       "Adaboost CV                    0.836096  0.824444  0.829177  0.824444   \n",
       "Extratrees                     0.830021  0.833889  0.831756  0.833889   \n",
       "Extratrees CV                  0.838564  0.841667  0.839972  0.841667   \n",
       "XGboost                        0.851780  0.845000  0.847875  0.845000   \n",
       "XGboost CV                     0.854057  0.850000  0.851815  0.850000   \n",
       "LightGBM                       0.851554  0.847778  0.849485  0.847778   \n",
       "LightGBM CV                    0.850007  0.842222  0.845475  0.842222   \n",
       "\n",
       "                              macro_avg_precision  macro_avg_recall  \\\n",
       "Logistic Regression                      0.678683          0.671191   \n",
       "Logistic Regression CV                   0.680183          0.671894   \n",
       "Decision Tree                            0.684222          0.722538   \n",
       "Decision Tree CV                         0.721588          0.754370   \n",
       "Support Vector Classifier                0.754914          0.745779   \n",
       "Support Vector Classifier CV             0.761430          0.747258   \n",
       "Random Forest                            0.720864          0.758210   \n",
       "Random Forest CV                         0.753147          0.767586   \n",
       "Ridge                                    0.678231          0.661480   \n",
       "Ridge CV                                 0.678231          0.661480   \n",
       "KNN                                      0.691119          0.715231   \n",
       "KNN CV                                   0.696205          0.720625   \n",
       "Bagging                                  0.738794          0.742044   \n",
       "Bagging CV                               0.750957          0.768490   \n",
       "gradient Boosting                        0.756396          0.772905   \n",
       "gradient Boosting CV                     0.767691          0.773906   \n",
       "Adaboost                                 0.731760          0.773891   \n",
       "Adaboost SVC                             0.557436          0.586287   \n",
       "Adaboost CV                              0.737624          0.764755   \n",
       "Extratrees                               0.748943          0.736471   \n",
       "Extratrees CV                            0.761143          0.750194   \n",
       "XGboost                                  0.765131          0.785576   \n",
       "XGboost CV                               0.772287          0.785800   \n",
       "LightGBM                                 0.769107          0.781459   \n",
       "LightGBM CV                              0.761324          0.783820   \n",
       "\n",
       "                              macro_avg_f1_score  weighted_avg_precision  \\\n",
       "Logistic Regression                     0.674715                0.785177   \n",
       "Logistic Regression CV                  0.675770                0.785915   \n",
       "Decision Tree                           0.697328                0.805567   \n",
       "Decision Tree CV                        0.734702                0.827719   \n",
       "Support Vector Classifier               0.750148                0.835026   \n",
       "Support Vector Classifier CV            0.753883                0.837735   \n",
       "Random Forest                           0.735225                0.829060   \n",
       "Random Forest CV                        0.759856                0.841739   \n",
       "Ridge                                   0.668749                0.782002   \n",
       "Ridge CV                                0.668749                0.782002   \n",
       "KNN                                     0.700994                0.804355   \n",
       "KNN CV                                  0.706264                0.807817   \n",
       "Bagging                                 0.740391                0.828420   \n",
       "Bagging CV                              0.758959                0.841385   \n",
       "gradient Boosting                       0.763994                0.844613   \n",
       "gradient Boosting CV                    0.770712                0.848518   \n",
       "Adaboost                                0.747675                0.838131   \n",
       "Adaboost SVC                            0.501777                0.729714   \n",
       "Adaboost CV                             0.749185                0.836096   \n",
       "Extratrees                              0.742324                0.830021   \n",
       "Extratrees CV                           0.755393                0.838564   \n",
       "XGboost                                 0.774389                0.851780   \n",
       "XGboost CV                              0.778640                0.854057   \n",
       "LightGBM                                0.774941                0.851554   \n",
       "LightGBM CV                             0.771377                0.850007   \n",
       "\n",
       "                              weighted_avg_recall  weighted_avg_f1_score  \n",
       "Logistic Regression                      0.789444               0.787191  \n",
       "Logistic Regression CV                   0.790556               0.788091  \n",
       "Decision Tree                            0.777778               0.788181  \n",
       "Decision Tree CV                         0.811111               0.817597  \n",
       "Support Vector Classifier                0.837778               0.836298  \n",
       "Support Vector Classifier CV             0.841667               0.839462  \n",
       "Random Forest                            0.809444               0.816843  \n",
       "Random Forest CV                         0.836667               0.838930  \n",
       "Ridge                                    0.791111               0.785966  \n",
       "Ridge CV                                 0.791111               0.785966  \n",
       "KNN                                      0.789444               0.795678  \n",
       "KNN CV                                   0.793333               0.799375  \n",
       "Bagging                                  0.827222               0.827806  \n",
       "Bagging CV                               0.835000               0.837783  \n",
       "gradient Boosting                        0.838889               0.841400  \n",
       "gradient Boosting CV                     0.846667               0.847546  \n",
       "Adaboost                                 0.817222               0.824802  \n",
       "Adaboost SVC                             0.532778               0.574135  \n",
       "Adaboost CV                              0.824444               0.829177  \n",
       "Extratrees                               0.833889               0.831756  \n",
       "Extratrees CV                            0.841667               0.839972  \n",
       "XGboost                                  0.845000               0.847875  \n",
       "XGboost CV                               0.850000               0.851815  \n",
       "LightGBM                                 0.847778               0.849485  \n",
       "LightGBM CV                              0.842222               0.845475  "
      ]
     },
     "execution_count": 228,
     "metadata": {},
     "output_type": "execute_result"
    }
   ],
   "source": [
    "df_results"
   ]
  },
  {
   "cell_type": "markdown",
   "id": "66c320ef",
   "metadata": {},
   "source": [
    "# Save Model"
   ]
  },
  {
   "cell_type": "markdown",
   "id": "373919a6",
   "metadata": {},
   "source": [
    "## Logistic Regression"
   ]
  },
  {
   "cell_type": "code",
   "execution_count": 229,
   "id": "46741057",
   "metadata": {},
   "outputs": [],
   "source": [
    "logreg = 'C:/Users/HALAL/Final Project ML Process/model/4 - Model SMOTE/logreg.pkl'\n",
    "with open(logreg, 'wb') as file:\n",
    "    pickle.dump(logreg_awal, file)\n",
    "    \n",
    "logreg_cv = 'C:/Users/HALAL/Final Project ML Process/model/4 - Model SMOTE/logreg_cv.pkl'\n",
    "with open(logreg_cv, 'wb') as file:\n",
    "    pickle.dump(lr_grid_cv, file)"
   ]
  },
  {
   "cell_type": "markdown",
   "id": "94784dd6",
   "metadata": {},
   "source": [
    "## Support Vector Classifier"
   ]
  },
  {
   "cell_type": "code",
   "execution_count": 230,
   "id": "1a6b6e3d",
   "metadata": {},
   "outputs": [],
   "source": [
    "svc = 'C:/Users/HALAL/Final Project ML Process/model/4 - Model SMOTE/svc.pkl'\n",
    "with open(svc, 'wb') as file:\n",
    "    pickle.dump(svc_ori, file)\n",
    "    \n",
    "svc_cv = 'C:/Users/HALAL/Final Project ML Process/model/4 - Model SMOTE/svc_cv.pkl'\n",
    "with open(svc_cv, 'wb') as file:\n",
    "    pickle.dump(svc_grid_cv, file)"
   ]
  },
  {
   "cell_type": "markdown",
   "id": "19ad5289",
   "metadata": {},
   "source": [
    "## Decisiontree"
   ]
  },
  {
   "cell_type": "code",
   "execution_count": 231,
   "id": "0a7f2de4",
   "metadata": {},
   "outputs": [],
   "source": [
    "dectree = 'C:/Users/HALAL/Final Project ML Process/model/4 - Model SMOTE/dectree.pkl'\n",
    "with open(dectree, 'wb') as file:\n",
    "    pickle.dump(decTree, file)\n",
    "    \n",
    "dectree_cv = 'C:/Users/HALAL/Final Project ML Process/model/4 - Model SMOTE/dectree_cv.pkl'\n",
    "with open(dectree_cv, 'wb') as file:\n",
    "    pickle.dump(best_decTree, file)"
   ]
  },
  {
   "cell_type": "markdown",
   "id": "4e1e16ca",
   "metadata": {},
   "source": [
    "## Randomforest"
   ]
  },
  {
   "cell_type": "code",
   "execution_count": 232,
   "id": "e0ba0331",
   "metadata": {},
   "outputs": [],
   "source": [
    "randomforest = 'C:/Users/HALAL/Final Project ML Process/model/4 - Model SMOTE/randomforest.pkl'\n",
    "with open(randomforest, 'wb') as file:\n",
    "    pickle.dump(random_forest, file)\n",
    "    \n",
    "randomforest_cv = 'C:/Users/HALAL/Final Project ML Process/model/4 - Model SMOTE/randomforest_cv.pkl'\n",
    "with open(randomforest_cv, 'wb') as file:\n",
    "    pickle.dump(random_forestcls_cv, file)"
   ]
  },
  {
   "cell_type": "markdown",
   "id": "76188bf1",
   "metadata": {},
   "source": [
    "## Ridge Classifier"
   ]
  },
  {
   "cell_type": "code",
   "execution_count": 233,
   "id": "6c51d47a",
   "metadata": {},
   "outputs": [],
   "source": [
    "ridge = 'C:/Users/HALAL/Final Project ML Process/model/4 - Model SMOTE/ridge.pkl'\n",
    "with open(ridge, 'wb') as file:\n",
    "    pickle.dump(ridge, file)\n",
    "    \n",
    "ridge_cv = 'C:/Users/HALAL/Final Project ML Process/model/4 - Model SMOTE/ridge_cv.pkl'\n",
    "with open(ridge_cv, 'wb') as file:\n",
    "    pickle.dump(ridge_cv, file)"
   ]
  },
  {
   "cell_type": "markdown",
   "id": "561c42b1",
   "metadata": {},
   "source": [
    "## KNN "
   ]
  },
  {
   "cell_type": "code",
   "execution_count": 234,
   "id": "e5be5c17",
   "metadata": {},
   "outputs": [],
   "source": [
    "knn = 'C:/Users/HALAL/Final Project ML Process/model/4 - Model SMOTE/knn.pkl'\n",
    "with open(knn, 'wb') as file:\n",
    "    pickle.dump(knn_awal, file)\n",
    "    \n",
    "knn_cv = 'C:/Users/HALAL/Final Project ML Process/model/4 - Model SMOTE/knn_cv.pkl'\n",
    "with open(knn_cv, 'wb') as file:\n",
    "    pickle.dump(kn_grid, file)"
   ]
  },
  {
   "cell_type": "markdown",
   "id": "05049437",
   "metadata": {},
   "source": [
    "## Bagging Classifier"
   ]
  },
  {
   "cell_type": "code",
   "execution_count": 235,
   "id": "fecc1db1",
   "metadata": {},
   "outputs": [],
   "source": [
    "bagging = 'C:/Users/HALAL/Final Project ML Process/model/4 - Model SMOTE/bagging.pkl'\n",
    "with open(bagging, 'wb') as file:\n",
    "    pickle.dump(bagging_cls, file)\n",
    "    \n",
    "bagging_cv = 'C:/Users/HALAL/Final Project ML Process/model/4 - Model SMOTE/bagging_cv.pkl'\n",
    "with open(bagging_cv, 'wb') as file:\n",
    "    pickle.dump(bagging_cv, file)"
   ]
  },
  {
   "cell_type": "markdown",
   "id": "76299cb8",
   "metadata": {},
   "source": [
    "## Gradient Boosting"
   ]
  },
  {
   "cell_type": "code",
   "execution_count": 236,
   "id": "fec03953",
   "metadata": {},
   "outputs": [],
   "source": [
    "grad_boost = 'C:/Users/HALAL/Final Project ML Process/model/4 - Model SMOTE/grad_boost.pkl'\n",
    "with open(grad_boost, 'wb') as file:\n",
    "    pickle.dump(grad_boost, file)\n",
    "    \n",
    "grad_boost_cv = 'C:/Users/HALAL/Final Project ML Process/model/4 - Model SMOTE/grad_boost_cv.pkl'\n",
    "with open(grad_boost_cv, 'wb') as file:\n",
    "    pickle.dump(gradboost_cv, file)"
   ]
  },
  {
   "cell_type": "markdown",
   "id": "83be62dd",
   "metadata": {},
   "source": [
    "## Adaboost"
   ]
  },
  {
   "cell_type": "code",
   "execution_count": 237,
   "id": "eb77bf76",
   "metadata": {},
   "outputs": [],
   "source": [
    "adaboost_svc = 'C:/Users/HALAL/Final Project ML Process/model/4 - Model SMOTE/adaboost_svc.pkl'\n",
    "with open(adaboost_svc, 'wb') as file:\n",
    "    pickle.dump(adaboost_svc, file)\n",
    "    \n",
    "adaboost_ori = 'C:/Users/HALAL/Final Project ML Process/model/4 - Model SMOTE/adaboost_ori.pkl'\n",
    "with open(adaboost_ori, 'wb') as file:\n",
    "    pickle.dump(abc_ori, file)\n",
    "    \n",
    "adaboost_cv = 'C:/Users/HALAL/Final Project ML Process/model/4 - Model SMOTE/adaboost_cv.pkl'\n",
    "with open(adaboost_cv, 'wb') as file:\n",
    "    pickle.dump(adaboost_best, file)"
   ]
  },
  {
   "cell_type": "markdown",
   "id": "268f6258",
   "metadata": {},
   "source": [
    "## Extratrees"
   ]
  },
  {
   "cell_type": "code",
   "execution_count": 238,
   "id": "29c111b8",
   "metadata": {},
   "outputs": [],
   "source": [
    "extra_trees = 'C:/Users/HALAL/Final Project ML Process/model/4 - Model SMOTE/extra_trees.pkl'\n",
    "with open(extra_trees, 'wb') as file:\n",
    "    pickle.dump(extra_trees_awal, file)\n",
    "    \n",
    "extra_tree_cv = 'C:/Users/HALAL/Final Project ML Process/model/4 - Model SMOTE/extra_tree_cv.pkl'\n",
    "with open(extra_tree_cv, 'wb') as file:\n",
    "    pickle.dump(extra_trees_best, file)"
   ]
  },
  {
   "cell_type": "markdown",
   "id": "c9575423",
   "metadata": {},
   "source": [
    "## XgBoost"
   ]
  },
  {
   "cell_type": "code",
   "execution_count": 239,
   "id": "8694bc2d",
   "metadata": {},
   "outputs": [],
   "source": [
    "xgboost = 'C:/Users/HALAL/Final Project ML Process/model/4 - Model SMOTE/xgboost.pkl'\n",
    "with open(xgboost, 'wb') as file:\n",
    "    pickle.dump(xgb_classifier, file)\n",
    "    \n",
    "xgboost_cv = 'C:/Users/HALAL/Final Project ML Process/model/4 - Model SMOTE/xgboost_cv.pkl'\n",
    "with open(xgboost_cv, 'wb') as file:\n",
    "    pickle.dump(xgb_best, file)"
   ]
  },
  {
   "cell_type": "markdown",
   "id": "079f475c",
   "metadata": {},
   "source": [
    "## Deep Learning"
   ]
  },
  {
   "cell_type": "code",
   "execution_count": 240,
   "id": "809ac55c",
   "metadata": {},
   "outputs": [
    {
     "name": "stdout",
     "output_type": "stream",
     "text": [
      "INFO:tensorflow:Assets written to: C:\\Users\\HALAL\\AppData\\Local\\Temp\\tmp0mc4525j\\assets\n"
     ]
    }
   ],
   "source": [
    "deep_learning = 'C:/Users/HALAL/Final Project ML Process/model/4 - Model SMOTE/deep_learning.pkl'\n",
    "with open(deep_learning, 'wb') as file:\n",
    "    pickle.dump(model, file)\n",
    "    \n",
    "    \n",
    "deep_learning_cv = 'C:/Users/HALAL/Final Project ML Process/model/4 - Model SMOTE/deep_learning_cv.pkl'\n",
    "with open(deep_learning_cv, 'wb') as file:\n",
    "    pickle.dump(grid_result, file)"
   ]
  },
  {
   "cell_type": "markdown",
   "id": "e6e9ee23",
   "metadata": {},
   "source": [
    "## LightGBM"
   ]
  },
  {
   "cell_type": "code",
   "execution_count": 241,
   "id": "fba12f92",
   "metadata": {},
   "outputs": [],
   "source": [
    "lgbm = 'C:/Users/HALAL/Final Project ML Process/model/4 - Model SMOTE/lgbm.pkl'\n",
    "with open(lgbm, 'wb') as file:\n",
    "    pickle.dump(lgb_awal, file)\n",
    "    \n",
    "lgbm_cv = 'C:/Users/HALAL/Final Project ML Process/model/4 - Model SMOTE/lgbm_cv.pkl'\n",
    "with open(lgbm_cv, 'wb') as file:\n",
    "    pickle.dump(lgbm_best, file)"
   ]
  },
  {
   "cell_type": "code",
   "execution_count": 242,
   "id": "6f4904e0",
   "metadata": {},
   "outputs": [
    {
     "name": "stdout",
     "output_type": "stream",
     "text": [
      "<class 'pandas.core.frame.DataFrame'>\n",
      "RangeIndex: 11136 entries, 0 to 11135\n",
      "Data columns (total 13 columns):\n",
      " #   Column             Non-Null Count  Dtype  \n",
      "---  ------             --------------  -----  \n",
      " 0   CreditScore        11136 non-null  float64\n",
      " 1   Age                11136 non-null  float64\n",
      " 2   Tenure             11136 non-null  float64\n",
      " 3   EstimatedSalary    11136 non-null  float64\n",
      " 4   Balance            11136 non-null  float64\n",
      " 5   NumOfProducts      11136 non-null  int64  \n",
      " 6   IsActiveMember     11136 non-null  int64  \n",
      " 7   HasCrCard          11136 non-null  int64  \n",
      " 8   Geography_France   11136 non-null  uint8  \n",
      " 9   Geography_Germany  11136 non-null  uint8  \n",
      " 10  Geography_Spain    11136 non-null  uint8  \n",
      " 11  Gender_Female      11136 non-null  uint8  \n",
      " 12  Gender_Male        11136 non-null  uint8  \n",
      "dtypes: float64(5), int64(3), uint8(5)\n",
      "memory usage: 750.5 KB\n"
     ]
    }
   ],
   "source": [
    "X_sm_clean.info()"
   ]
  },
  {
   "cell_type": "markdown",
   "id": "2033f72a",
   "metadata": {},
   "source": [
    "## Cara Load Model"
   ]
  },
  {
   "cell_type": "code",
   "execution_count": null,
   "id": "eba972ca",
   "metadata": {},
   "outputs": [],
   "source": [
    "# Load model dari folder models\n",
    "\"\"\"\n",
    "filename = 'models/model.pkl'\n",
    "with open(filename, 'rb') as file:\n",
    "    model = pickle.load(file)\n",
    "\"''\""
   ]
  }
 ],
 "metadata": {
  "kernelspec": {
   "display_name": "Python 3 (ipykernel)",
   "language": "python",
   "name": "python3"
  },
  "language_info": {
   "codemirror_mode": {
    "name": "ipython",
    "version": 3
   },
   "file_extension": ".py",
   "mimetype": "text/x-python",
   "name": "python",
   "nbconvert_exporter": "python",
   "pygments_lexer": "ipython3",
   "version": "3.9.12"
  }
 },
 "nbformat": 4,
 "nbformat_minor": 5
}
