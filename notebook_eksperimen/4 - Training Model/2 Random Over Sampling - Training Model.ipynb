{
 "cells": [
  {
   "cell_type": "markdown",
   "id": "861c88aa",
   "metadata": {},
   "source": [
    "# Training Model - Random Over Sampling"
   ]
  },
  {
   "cell_type": "markdown",
   "id": "6aa6f4ec",
   "metadata": {},
   "source": [
    "# Import Library"
   ]
  },
  {
   "cell_type": "code",
   "execution_count": 1,
   "id": "44097bfc",
   "metadata": {},
   "outputs": [],
   "source": [
    "#import all realated libraries\n",
    "#import libraries for data analysis\n",
    "import numpy as np\n",
    "import pandas as pd\n",
    "\n",
    "# import library for visualization\n",
    "import seaborn as sns\n",
    "import matplotlib.pyplot as plt\n",
    "\n",
    "# import pickle and json file for columns and model file\n",
    "import pickle\n",
    "import json\n",
    "import joblib\n",
    "\n",
    "# import warnings for ignore the warnings\n",
    "import warnings \n",
    "warnings.filterwarnings(\"ignore\")\n",
    "\n",
    "# library for model selection and models\n",
    "from sklearn.model_selection import train_test_split\n",
    "from sklearn.linear_model import LogisticRegression\n",
    "from sklearn.neighbors import KNeighborsClassifier\n",
    "from sklearn.tree import DecisionTreeClassifier\n",
    "from sklearn.ensemble import RandomForestClassifier\n",
    "from sklearn.ensemble import AdaBoostClassifier\n",
    "from xgboost import XGBClassifier\n",
    "from sklearn.svm import SVC\n",
    "from sklearn.linear_model import RidgeClassifier\n",
    "from sklearn.ensemble import BaggingClassifier\n",
    "from sklearn.ensemble import GradientBoostingClassifier\n",
    "from sklearn.ensemble import ExtraTreesClassifier\n",
    "import xgboost as xgb\n",
    "import lightgbm as lgb\n",
    "from lightgbm import LGBMClassifier\n",
    "\n",
    "# evaluation metrics for classification model\n",
    "from sklearn.metrics import accuracy_score,classification_report,confusion_matrix\n",
    "from sklearn.metrics import classification_report, ConfusionMatrixDisplay\n",
    "from sklearn.metrics import accuracy_score, roc_auc_score\n",
    "\n",
    "from sklearn.model_selection import GridSearchCV\n",
    "from sklearn.model_selection import RepeatedStratifiedKFold\n",
    "\n",
    "\n",
    "import tensorflow as tf\n",
    "from tensorflow.keras.models import Sequential\n",
    "from tensorflow.keras.layers import Dense, Dropout\n",
    "from scikeras.wrappers import KerasClassifier\n",
    "from tensorflow import keras\n",
    "from tensorflow.keras.wrappers.scikit_learn import KerasClassifier"
   ]
  },
  {
   "cell_type": "markdown",
   "id": "03dc4023",
   "metadata": {},
   "source": [
    "## Read Data"
   ]
  },
  {
   "cell_type": "code",
   "execution_count": 2,
   "id": "afbca9c6",
   "metadata": {},
   "outputs": [],
   "source": [
    "#Read data X_train dan y_ros hasil dari data preparation\n",
    "X_ros_clean = joblib.load(\"C:/Users/HALAL/Final Project ML Process/dataset/3 - final/2 - Scaling Data - Standart Scaler/X_ros_clean.pkl\") \n",
    "y_ros = joblib.load(\"C:/Users/HALAL/Final Project ML Process/dataset/3 - final/2 - Scaling Data - Standart Scaler/y_ros.pkl\")\n",
    "\n",
    "#Read data X_valid dan y_valid hasil dari data preparation\n",
    "X_valid_clean = joblib.load(\"C:/Users/HALAL/Final Project ML Process/dataset/3 - final/2 - Scaling Data - Standart Scaler/X_valid_clean.pkl\")\n",
    "y_valid = joblib.load(\"C:/Users/HALAL/Final Project ML Process/dataset/3 - final/2 - Scaling Data - Standart Scaler/y_valid.pkl\")\n",
    "\n",
    "#Read data X_test dan y_test hasil dari data preparation\n",
    "X_test_clean = joblib.load(\"C:/Users/HALAL/Final Project ML Process/dataset/3 - final/2 - Scaling Data - Standart Scaler/X_test_clean.pkl\")\n",
    "y_test = joblib.load(\"C:/Users/HALAL/Final Project ML Process/dataset/3 - final/2 - Scaling Data - Standart Scaler/y_test.pkl\")"
   ]
  },
  {
   "cell_type": "markdown",
   "id": "47085035",
   "metadata": {},
   "source": [
    "## Baseline Model"
   ]
  },
  {
   "cell_type": "code",
   "execution_count": 3,
   "id": "fa0b33f1",
   "metadata": {},
   "outputs": [
    {
     "data": {
      "text/plain": [
       "0    0.5\n",
       "1    0.5\n",
       "Name: Exited, dtype: float64"
      ]
     },
     "execution_count": 3,
     "metadata": {},
     "output_type": "execute_result"
    }
   ],
   "source": [
    "y_ros.value_counts(normalize = True)\n",
    "# baseline akurasi = 80%\n",
    "# Before Smote Sampling"
   ]
  },
  {
   "cell_type": "code",
   "execution_count": 4,
   "id": "c741a684",
   "metadata": {},
   "outputs": [
    {
     "data": {
      "text/plain": [
       "0.5"
      ]
     },
     "execution_count": 4,
     "metadata": {},
     "output_type": "execute_result"
    }
   ],
   "source": [
    "y_baseline_predict = y_ros.mean()\n",
    "y_baseline_predict"
   ]
  },
  {
   "cell_type": "markdown",
   "id": "846d95ca",
   "metadata": {},
   "source": [
    "## Logistic Regression"
   ]
  },
  {
   "cell_type": "code",
   "execution_count": 5,
   "id": "ae11bb8d",
   "metadata": {},
   "outputs": [],
   "source": [
    "# Build Logistic Regression\n",
    "logreg_awal = LogisticRegression(random_state = 123)"
   ]
  },
  {
   "cell_type": "code",
   "execution_count": 6,
   "id": "55cf0c0e",
   "metadata": {},
   "outputs": [
    {
     "data": {
      "text/plain": [
       "LogisticRegression(random_state=123)"
      ]
     },
     "execution_count": 6,
     "metadata": {},
     "output_type": "execute_result"
    }
   ],
   "source": [
    "# fit Logistic Regression\n",
    "logreg_awal.fit(X_ros_clean, y_ros)"
   ]
  },
  {
   "cell_type": "code",
   "execution_count": 7,
   "id": "b1e4ac59",
   "metadata": {},
   "outputs": [
    {
     "data": {
      "text/plain": [
       "0.7054597701149425"
      ]
     },
     "execution_count": 7,
     "metadata": {},
     "output_type": "execute_result"
    }
   ],
   "source": [
    "# Melihat Score dari model logreg\n",
    "logreg_awal.score(X_ros_clean, y_ros)"
   ]
  },
  {
   "cell_type": "code",
   "execution_count": 8,
   "id": "45f2d80c",
   "metadata": {},
   "outputs": [],
   "source": [
    "#Prediksi Logreg\n",
    "logreg_pred = logreg_awal.predict(X_test_clean)"
   ]
  },
  {
   "cell_type": "code",
   "execution_count": 9,
   "id": "ae81b8f2",
   "metadata": {},
   "outputs": [
    {
     "name": "stdout",
     "output_type": "stream",
     "text": [
      "              precision    recall  f1-score   support\n",
      "\n",
      "           0       0.92      0.65      0.76      1424\n",
      "           1       0.37      0.78      0.51       376\n",
      "\n",
      "    accuracy                           0.68      1800\n",
      "   macro avg       0.65      0.72      0.63      1800\n",
      "weighted avg       0.81      0.68      0.71      1800\n",
      "\n"
     ]
    }
   ],
   "source": [
    "#Melihat Classification report\n",
    "print(classification_report(y_test, logreg_pred, labels=[0,1]))"
   ]
  },
  {
   "cell_type": "code",
   "execution_count": 10,
   "id": "466c8df9",
   "metadata": {},
   "outputs": [
    {
     "name": "stdout",
     "output_type": "stream",
     "text": [
      "Train_Score =  0.7054597701149425 Valid_Score =  0.665 Test_Score =  0.6788888888888889\n"
     ]
    }
   ],
   "source": [
    "#Melihat score data train, validation dan test\n",
    "print(\"Train_Score = \", logreg_awal.score(X_ros_clean, y_ros), \n",
    "      \"Valid_Score = \",logreg_awal.score(X_valid_clean, y_valid),\n",
    "      \"Test_Score = \", logreg_awal.score(X_test_clean, y_test))"
   ]
  },
  {
   "cell_type": "markdown",
   "id": "f2849d06",
   "metadata": {},
   "source": [
    "## Tuning Parameter Logistic Regression"
   ]
  },
  {
   "cell_type": "code",
   "execution_count": 11,
   "id": "aea15c37",
   "metadata": {},
   "outputs": [],
   "source": [
    "# Membentuk parameter untuk eksperimentasi\n",
    "lr_param_grid = {\n",
    "    'C' : [0.01, 0.05, 0.1, 0.5, 1, 5],\n",
    "    'solver' : ['liblinear', 'newton-cg', 'lbfgs', 'sag', 'saga'],\n",
    "    'penalty' : ['l1', 'l2', 'elasticnet','none']\n",
    "}"
   ]
  },
  {
   "cell_type": "code",
   "execution_count": 12,
   "id": "231cb1de",
   "metadata": {},
   "outputs": [],
   "source": [
    "# Cross Validation menggunakan GridsearchCV\n",
    "lr_grid = GridSearchCV(LogisticRegression(random_state = 123), lr_param_grid, verbose=3, cv= 5, scoring='accuracy')"
   ]
  },
  {
   "cell_type": "code",
   "execution_count": 13,
   "id": "0e7e1bdb",
   "metadata": {},
   "outputs": [
    {
     "name": "stdout",
     "output_type": "stream",
     "text": [
      "Fitting 5 folds for each of 120 candidates, totalling 600 fits\n",
      "[CV 1/5] END C=0.01, penalty=l1, solver=liblinear;, score=0.691 total time=   0.1s\n",
      "[CV 2/5] END C=0.01, penalty=l1, solver=liblinear;, score=0.713 total time=   0.0s\n",
      "[CV 3/5] END C=0.01, penalty=l1, solver=liblinear;, score=0.716 total time=   0.0s\n",
      "[CV 4/5] END C=0.01, penalty=l1, solver=liblinear;, score=0.684 total time=   0.0s\n",
      "[CV 5/5] END C=0.01, penalty=l1, solver=liblinear;, score=0.711 total time=   0.0s\n",
      "[CV 1/5] END C=0.01, penalty=l1, solver=newton-cg;, score=nan total time=   0.0s\n",
      "[CV 2/5] END C=0.01, penalty=l1, solver=newton-cg;, score=nan total time=   0.0s\n",
      "[CV 3/5] END C=0.01, penalty=l1, solver=newton-cg;, score=nan total time=   0.0s\n",
      "[CV 4/5] END C=0.01, penalty=l1, solver=newton-cg;, score=nan total time=   0.0s\n",
      "[CV 5/5] END C=0.01, penalty=l1, solver=newton-cg;, score=nan total time=   0.0s\n",
      "[CV 1/5] END ....C=0.01, penalty=l1, solver=lbfgs;, score=nan total time=   0.0s\n",
      "[CV 2/5] END ....C=0.01, penalty=l1, solver=lbfgs;, score=nan total time=   0.0s\n",
      "[CV 3/5] END ....C=0.01, penalty=l1, solver=lbfgs;, score=nan total time=   0.0s\n",
      "[CV 4/5] END ....C=0.01, penalty=l1, solver=lbfgs;, score=nan total time=   0.0s\n",
      "[CV 5/5] END ....C=0.01, penalty=l1, solver=lbfgs;, score=nan total time=   0.0s\n",
      "[CV 1/5] END ......C=0.01, penalty=l1, solver=sag;, score=nan total time=   0.0s\n",
      "[CV 2/5] END ......C=0.01, penalty=l1, solver=sag;, score=nan total time=   0.0s\n",
      "[CV 3/5] END ......C=0.01, penalty=l1, solver=sag;, score=nan total time=   0.0s\n",
      "[CV 4/5] END ......C=0.01, penalty=l1, solver=sag;, score=nan total time=   0.0s\n",
      "[CV 5/5] END ......C=0.01, penalty=l1, solver=sag;, score=nan total time=   0.0s\n",
      "[CV 1/5] END ...C=0.01, penalty=l1, solver=saga;, score=0.691 total time=   0.0s\n",
      "[CV 2/5] END ...C=0.01, penalty=l1, solver=saga;, score=0.713 total time=   0.0s\n",
      "[CV 3/5] END ...C=0.01, penalty=l1, solver=saga;, score=0.717 total time=   0.0s\n",
      "[CV 4/5] END ...C=0.01, penalty=l1, solver=saga;, score=0.684 total time=   0.0s\n",
      "[CV 5/5] END ...C=0.01, penalty=l1, solver=saga;, score=0.711 total time=   0.0s\n",
      "[CV 1/5] END C=0.01, penalty=l2, solver=liblinear;, score=0.698 total time=   0.0s\n",
      "[CV 2/5] END C=0.01, penalty=l2, solver=liblinear;, score=0.720 total time=   0.0s\n",
      "[CV 3/5] END C=0.01, penalty=l2, solver=liblinear;, score=0.718 total time=   0.0s\n",
      "[CV 4/5] END C=0.01, penalty=l2, solver=liblinear;, score=0.682 total time=   0.0s\n",
      "[CV 5/5] END C=0.01, penalty=l2, solver=liblinear;, score=0.708 total time=   0.0s\n",
      "[CV 1/5] END C=0.01, penalty=l2, solver=newton-cg;, score=0.698 total time=   0.0s\n",
      "[CV 2/5] END C=0.01, penalty=l2, solver=newton-cg;, score=0.721 total time=   0.0s\n",
      "[CV 3/5] END C=0.01, penalty=l2, solver=newton-cg;, score=0.716 total time=   0.0s\n",
      "[CV 4/5] END C=0.01, penalty=l2, solver=newton-cg;, score=0.684 total time=   0.0s\n",
      "[CV 5/5] END C=0.01, penalty=l2, solver=newton-cg;, score=0.708 total time=   0.0s\n",
      "[CV 1/5] END ..C=0.01, penalty=l2, solver=lbfgs;, score=0.698 total time=   0.0s\n",
      "[CV 2/5] END ..C=0.01, penalty=l2, solver=lbfgs;, score=0.721 total time=   0.0s\n",
      "[CV 3/5] END ..C=0.01, penalty=l2, solver=lbfgs;, score=0.716 total time=   0.0s\n",
      "[CV 4/5] END ..C=0.01, penalty=l2, solver=lbfgs;, score=0.684 total time=   0.0s\n",
      "[CV 5/5] END ..C=0.01, penalty=l2, solver=lbfgs;, score=0.708 total time=   0.0s\n",
      "[CV 1/5] END ....C=0.01, penalty=l2, solver=sag;, score=0.698 total time=   0.0s\n",
      "[CV 2/5] END ....C=0.01, penalty=l2, solver=sag;, score=0.721 total time=   0.0s\n",
      "[CV 3/5] END ....C=0.01, penalty=l2, solver=sag;, score=0.716 total time=   0.0s\n",
      "[CV 4/5] END ....C=0.01, penalty=l2, solver=sag;, score=0.684 total time=   0.0s\n",
      "[CV 5/5] END ....C=0.01, penalty=l2, solver=sag;, score=0.708 total time=   0.0s\n",
      "[CV 1/5] END ...C=0.01, penalty=l2, solver=saga;, score=0.698 total time=   0.0s\n",
      "[CV 2/5] END ...C=0.01, penalty=l2, solver=saga;, score=0.721 total time=   0.0s\n",
      "[CV 3/5] END ...C=0.01, penalty=l2, solver=saga;, score=0.716 total time=   0.0s\n",
      "[CV 4/5] END ...C=0.01, penalty=l2, solver=saga;, score=0.684 total time=   0.0s\n",
      "[CV 5/5] END ...C=0.01, penalty=l2, solver=saga;, score=0.708 total time=   0.0s\n",
      "[CV 1/5] END C=0.01, penalty=elasticnet, solver=liblinear;, score=nan total time=   0.0s\n",
      "[CV 2/5] END C=0.01, penalty=elasticnet, solver=liblinear;, score=nan total time=   0.0s\n",
      "[CV 3/5] END C=0.01, penalty=elasticnet, solver=liblinear;, score=nan total time=   0.0s\n",
      "[CV 4/5] END C=0.01, penalty=elasticnet, solver=liblinear;, score=nan total time=   0.0s\n",
      "[CV 5/5] END C=0.01, penalty=elasticnet, solver=liblinear;, score=nan total time=   0.0s\n",
      "[CV 1/5] END C=0.01, penalty=elasticnet, solver=newton-cg;, score=nan total time=   0.0s\n",
      "[CV 2/5] END C=0.01, penalty=elasticnet, solver=newton-cg;, score=nan total time=   0.0s\n",
      "[CV 3/5] END C=0.01, penalty=elasticnet, solver=newton-cg;, score=nan total time=   0.0s\n",
      "[CV 4/5] END C=0.01, penalty=elasticnet, solver=newton-cg;, score=nan total time=   0.0s\n",
      "[CV 5/5] END C=0.01, penalty=elasticnet, solver=newton-cg;, score=nan total time=   0.0s\n",
      "[CV 1/5] END C=0.01, penalty=elasticnet, solver=lbfgs;, score=nan total time=   0.0s\n",
      "[CV 2/5] END C=0.01, penalty=elasticnet, solver=lbfgs;, score=nan total time=   0.0s\n",
      "[CV 3/5] END C=0.01, penalty=elasticnet, solver=lbfgs;, score=nan total time=   0.0s\n",
      "[CV 4/5] END C=0.01, penalty=elasticnet, solver=lbfgs;, score=nan total time=   0.0s\n",
      "[CV 5/5] END C=0.01, penalty=elasticnet, solver=lbfgs;, score=nan total time=   0.0s\n",
      "[CV 1/5] END C=0.01, penalty=elasticnet, solver=sag;, score=nan total time=   0.0s\n",
      "[CV 2/5] END C=0.01, penalty=elasticnet, solver=sag;, score=nan total time=   0.0s\n",
      "[CV 3/5] END C=0.01, penalty=elasticnet, solver=sag;, score=nan total time=   0.0s\n",
      "[CV 4/5] END C=0.01, penalty=elasticnet, solver=sag;, score=nan total time=   0.0s\n",
      "[CV 5/5] END C=0.01, penalty=elasticnet, solver=sag;, score=nan total time=   0.0s\n",
      "[CV 1/5] END C=0.01, penalty=elasticnet, solver=saga;, score=nan total time=   0.0s\n",
      "[CV 2/5] END C=0.01, penalty=elasticnet, solver=saga;, score=nan total time=   0.0s\n",
      "[CV 3/5] END C=0.01, penalty=elasticnet, solver=saga;, score=nan total time=   0.0s\n",
      "[CV 4/5] END C=0.01, penalty=elasticnet, solver=saga;, score=nan total time=   0.0s\n",
      "[CV 5/5] END C=0.01, penalty=elasticnet, solver=saga;, score=nan total time=   0.0s\n",
      "[CV 1/5] END C=0.01, penalty=none, solver=liblinear;, score=nan total time=   0.0s\n",
      "[CV 2/5] END C=0.01, penalty=none, solver=liblinear;, score=nan total time=   0.0s\n",
      "[CV 3/5] END C=0.01, penalty=none, solver=liblinear;, score=nan total time=   0.0s\n",
      "[CV 4/5] END C=0.01, penalty=none, solver=liblinear;, score=nan total time=   0.0s\n",
      "[CV 5/5] END C=0.01, penalty=none, solver=liblinear;, score=nan total time=   0.0s\n",
      "[CV 1/5] END C=0.01, penalty=none, solver=newton-cg;, score=0.694 total time=   0.0s\n",
      "[CV 2/5] END C=0.01, penalty=none, solver=newton-cg;, score=0.712 total time=   0.0s\n",
      "[CV 3/5] END C=0.01, penalty=none, solver=newton-cg;, score=0.717 total time=   0.0s\n",
      "[CV 4/5] END C=0.01, penalty=none, solver=newton-cg;, score=0.678 total time=   0.0s\n",
      "[CV 5/5] END C=0.01, penalty=none, solver=newton-cg;, score=0.707 total time=   0.0s\n",
      "[CV 1/5] END C=0.01, penalty=none, solver=lbfgs;, score=0.694 total time=   0.0s\n",
      "[CV 2/5] END C=0.01, penalty=none, solver=lbfgs;, score=0.712 total time=   0.0s\n",
      "[CV 3/5] END C=0.01, penalty=none, solver=lbfgs;, score=0.717 total time=   0.0s\n",
      "[CV 4/5] END C=0.01, penalty=none, solver=lbfgs;, score=0.678 total time=   0.0s\n",
      "[CV 5/5] END C=0.01, penalty=none, solver=lbfgs;, score=0.707 total time=   0.0s\n",
      "[CV 1/5] END ..C=0.01, penalty=none, solver=sag;, score=0.694 total time=   0.0s\n",
      "[CV 2/5] END ..C=0.01, penalty=none, solver=sag;, score=0.712 total time=   0.0s\n",
      "[CV 3/5] END ..C=0.01, penalty=none, solver=sag;, score=0.717 total time=   0.0s\n",
      "[CV 4/5] END ..C=0.01, penalty=none, solver=sag;, score=0.678 total time=   0.0s\n",
      "[CV 5/5] END ..C=0.01, penalty=none, solver=sag;, score=0.707 total time=   0.0s\n",
      "[CV 1/5] END .C=0.01, penalty=none, solver=saga;, score=0.694 total time=   0.0s\n",
      "[CV 2/5] END .C=0.01, penalty=none, solver=saga;, score=0.712 total time=   0.0s\n",
      "[CV 3/5] END .C=0.01, penalty=none, solver=saga;, score=0.717 total time=   0.0s\n",
      "[CV 4/5] END .C=0.01, penalty=none, solver=saga;, score=0.678 total time=   0.0s\n"
     ]
    },
    {
     "name": "stdout",
     "output_type": "stream",
     "text": [
      "[CV 5/5] END .C=0.01, penalty=none, solver=saga;, score=0.707 total time=   0.0s\n",
      "[CV 1/5] END C=0.05, penalty=l1, solver=liblinear;, score=0.696 total time=   0.0s\n",
      "[CV 2/5] END C=0.05, penalty=l1, solver=liblinear;, score=0.718 total time=   0.0s\n",
      "[CV 3/5] END C=0.05, penalty=l1, solver=liblinear;, score=0.718 total time=   0.0s\n",
      "[CV 4/5] END C=0.05, penalty=l1, solver=liblinear;, score=0.683 total time=   0.0s\n",
      "[CV 5/5] END C=0.05, penalty=l1, solver=liblinear;, score=0.710 total time=   0.0s\n",
      "[CV 1/5] END C=0.05, penalty=l1, solver=newton-cg;, score=nan total time=   0.0s\n",
      "[CV 2/5] END C=0.05, penalty=l1, solver=newton-cg;, score=nan total time=   0.0s\n",
      "[CV 3/5] END C=0.05, penalty=l1, solver=newton-cg;, score=nan total time=   0.0s\n",
      "[CV 4/5] END C=0.05, penalty=l1, solver=newton-cg;, score=nan total time=   0.0s\n",
      "[CV 5/5] END C=0.05, penalty=l1, solver=newton-cg;, score=nan total time=   0.0s\n",
      "[CV 1/5] END ....C=0.05, penalty=l1, solver=lbfgs;, score=nan total time=   0.0s\n",
      "[CV 2/5] END ....C=0.05, penalty=l1, solver=lbfgs;, score=nan total time=   0.0s\n",
      "[CV 3/5] END ....C=0.05, penalty=l1, solver=lbfgs;, score=nan total time=   0.0s\n",
      "[CV 4/5] END ....C=0.05, penalty=l1, solver=lbfgs;, score=nan total time=   0.0s\n",
      "[CV 5/5] END ....C=0.05, penalty=l1, solver=lbfgs;, score=nan total time=   0.0s\n",
      "[CV 1/5] END ......C=0.05, penalty=l1, solver=sag;, score=nan total time=   0.0s\n",
      "[CV 2/5] END ......C=0.05, penalty=l1, solver=sag;, score=nan total time=   0.0s\n",
      "[CV 3/5] END ......C=0.05, penalty=l1, solver=sag;, score=nan total time=   0.0s\n",
      "[CV 4/5] END ......C=0.05, penalty=l1, solver=sag;, score=nan total time=   0.0s\n",
      "[CV 5/5] END ......C=0.05, penalty=l1, solver=sag;, score=nan total time=   0.0s\n",
      "[CV 1/5] END ...C=0.05, penalty=l1, solver=saga;, score=0.693 total time=   0.0s\n",
      "[CV 2/5] END ...C=0.05, penalty=l1, solver=saga;, score=0.718 total time=   0.0s\n",
      "[CV 3/5] END ...C=0.05, penalty=l1, solver=saga;, score=0.719 total time=   0.0s\n",
      "[CV 4/5] END ...C=0.05, penalty=l1, solver=saga;, score=0.683 total time=   0.0s\n",
      "[CV 5/5] END ...C=0.05, penalty=l1, solver=saga;, score=0.712 total time=   0.0s\n",
      "[CV 1/5] END C=0.05, penalty=l2, solver=liblinear;, score=0.693 total time=   0.0s\n",
      "[CV 2/5] END C=0.05, penalty=l2, solver=liblinear;, score=0.717 total time=   0.0s\n",
      "[CV 3/5] END C=0.05, penalty=l2, solver=liblinear;, score=0.715 total time=   0.0s\n",
      "[CV 4/5] END C=0.05, penalty=l2, solver=liblinear;, score=0.680 total time=   0.0s\n",
      "[CV 5/5] END C=0.05, penalty=l2, solver=liblinear;, score=0.707 total time=   0.0s\n",
      "[CV 1/5] END C=0.05, penalty=l2, solver=newton-cg;, score=0.695 total time=   0.0s\n",
      "[CV 2/5] END C=0.05, penalty=l2, solver=newton-cg;, score=0.715 total time=   0.0s\n",
      "[CV 3/5] END C=0.05, penalty=l2, solver=newton-cg;, score=0.716 total time=   0.0s\n",
      "[CV 4/5] END C=0.05, penalty=l2, solver=newton-cg;, score=0.679 total time=   0.0s\n",
      "[CV 5/5] END C=0.05, penalty=l2, solver=newton-cg;, score=0.707 total time=   0.0s\n",
      "[CV 1/5] END ..C=0.05, penalty=l2, solver=lbfgs;, score=0.695 total time=   0.0s\n",
      "[CV 2/5] END ..C=0.05, penalty=l2, solver=lbfgs;, score=0.715 total time=   0.0s\n",
      "[CV 3/5] END ..C=0.05, penalty=l2, solver=lbfgs;, score=0.716 total time=   0.0s\n",
      "[CV 4/5] END ..C=0.05, penalty=l2, solver=lbfgs;, score=0.679 total time=   0.0s\n",
      "[CV 5/5] END ..C=0.05, penalty=l2, solver=lbfgs;, score=0.707 total time=   0.0s\n",
      "[CV 1/5] END ....C=0.05, penalty=l2, solver=sag;, score=0.695 total time=   0.0s\n",
      "[CV 2/5] END ....C=0.05, penalty=l2, solver=sag;, score=0.715 total time=   0.1s\n",
      "[CV 3/5] END ....C=0.05, penalty=l2, solver=sag;, score=0.716 total time=   0.1s\n",
      "[CV 4/5] END ....C=0.05, penalty=l2, solver=sag;, score=0.679 total time=   0.1s\n",
      "[CV 5/5] END ....C=0.05, penalty=l2, solver=sag;, score=0.707 total time=   0.0s\n",
      "[CV 1/5] END ...C=0.05, penalty=l2, solver=saga;, score=0.695 total time=   0.1s\n",
      "[CV 2/5] END ...C=0.05, penalty=l2, solver=saga;, score=0.715 total time=   0.1s\n",
      "[CV 3/5] END ...C=0.05, penalty=l2, solver=saga;, score=0.716 total time=   0.1s\n",
      "[CV 4/5] END ...C=0.05, penalty=l2, solver=saga;, score=0.679 total time=   0.0s\n",
      "[CV 5/5] END ...C=0.05, penalty=l2, solver=saga;, score=0.707 total time=   0.1s\n",
      "[CV 1/5] END C=0.05, penalty=elasticnet, solver=liblinear;, score=nan total time=   0.0s\n",
      "[CV 2/5] END C=0.05, penalty=elasticnet, solver=liblinear;, score=nan total time=   0.0s\n",
      "[CV 3/5] END C=0.05, penalty=elasticnet, solver=liblinear;, score=nan total time=   0.0s\n",
      "[CV 4/5] END C=0.05, penalty=elasticnet, solver=liblinear;, score=nan total time=   0.0s\n",
      "[CV 5/5] END C=0.05, penalty=elasticnet, solver=liblinear;, score=nan total time=   0.0s\n",
      "[CV 1/5] END C=0.05, penalty=elasticnet, solver=newton-cg;, score=nan total time=   0.0s\n",
      "[CV 2/5] END C=0.05, penalty=elasticnet, solver=newton-cg;, score=nan total time=   0.0s\n",
      "[CV 3/5] END C=0.05, penalty=elasticnet, solver=newton-cg;, score=nan total time=   0.0s\n",
      "[CV 4/5] END C=0.05, penalty=elasticnet, solver=newton-cg;, score=nan total time=   0.0s\n",
      "[CV 5/5] END C=0.05, penalty=elasticnet, solver=newton-cg;, score=nan total time=   0.0s\n",
      "[CV 1/5] END C=0.05, penalty=elasticnet, solver=lbfgs;, score=nan total time=   0.0s\n",
      "[CV 2/5] END C=0.05, penalty=elasticnet, solver=lbfgs;, score=nan total time=   0.0s\n",
      "[CV 3/5] END C=0.05, penalty=elasticnet, solver=lbfgs;, score=nan total time=   0.0s\n",
      "[CV 4/5] END C=0.05, penalty=elasticnet, solver=lbfgs;, score=nan total time=   0.0s\n",
      "[CV 5/5] END C=0.05, penalty=elasticnet, solver=lbfgs;, score=nan total time=   0.0s\n",
      "[CV 1/5] END C=0.05, penalty=elasticnet, solver=sag;, score=nan total time=   0.0s\n",
      "[CV 2/5] END C=0.05, penalty=elasticnet, solver=sag;, score=nan total time=   0.0s\n",
      "[CV 3/5] END C=0.05, penalty=elasticnet, solver=sag;, score=nan total time=   0.0s\n",
      "[CV 4/5] END C=0.05, penalty=elasticnet, solver=sag;, score=nan total time=   0.0s\n",
      "[CV 5/5] END C=0.05, penalty=elasticnet, solver=sag;, score=nan total time=   0.0s\n",
      "[CV 1/5] END C=0.05, penalty=elasticnet, solver=saga;, score=nan total time=   0.0s\n",
      "[CV 2/5] END C=0.05, penalty=elasticnet, solver=saga;, score=nan total time=   0.0s\n",
      "[CV 3/5] END C=0.05, penalty=elasticnet, solver=saga;, score=nan total time=   0.0s\n",
      "[CV 4/5] END C=0.05, penalty=elasticnet, solver=saga;, score=nan total time=   0.0s\n",
      "[CV 5/5] END C=0.05, penalty=elasticnet, solver=saga;, score=nan total time=   0.0s\n",
      "[CV 1/5] END C=0.05, penalty=none, solver=liblinear;, score=nan total time=   0.0s\n",
      "[CV 2/5] END C=0.05, penalty=none, solver=liblinear;, score=nan total time=   0.0s\n",
      "[CV 3/5] END C=0.05, penalty=none, solver=liblinear;, score=nan total time=   0.0s\n",
      "[CV 4/5] END C=0.05, penalty=none, solver=liblinear;, score=nan total time=   0.0s\n",
      "[CV 5/5] END C=0.05, penalty=none, solver=liblinear;, score=nan total time=   0.0s\n",
      "[CV 1/5] END C=0.05, penalty=none, solver=newton-cg;, score=0.694 total time=   0.1s\n",
      "[CV 2/5] END C=0.05, penalty=none, solver=newton-cg;, score=0.712 total time=   0.1s\n",
      "[CV 3/5] END C=0.05, penalty=none, solver=newton-cg;, score=0.717 total time=   0.1s\n",
      "[CV 4/5] END C=0.05, penalty=none, solver=newton-cg;, score=0.678 total time=   0.1s\n",
      "[CV 5/5] END C=0.05, penalty=none, solver=newton-cg;, score=0.707 total time=   0.1s\n",
      "[CV 1/5] END C=0.05, penalty=none, solver=lbfgs;, score=0.694 total time=   0.0s\n",
      "[CV 2/5] END C=0.05, penalty=none, solver=lbfgs;, score=0.712 total time=   0.0s\n",
      "[CV 3/5] END C=0.05, penalty=none, solver=lbfgs;, score=0.717 total time=   0.0s\n",
      "[CV 4/5] END C=0.05, penalty=none, solver=lbfgs;, score=0.678 total time=   0.0s\n",
      "[CV 5/5] END C=0.05, penalty=none, solver=lbfgs;, score=0.707 total time=   0.0s\n",
      "[CV 1/5] END ..C=0.05, penalty=none, solver=sag;, score=0.694 total time=   0.1s\n",
      "[CV 2/5] END ..C=0.05, penalty=none, solver=sag;, score=0.712 total time=   0.1s\n",
      "[CV 3/5] END ..C=0.05, penalty=none, solver=sag;, score=0.717 total time=   0.1s\n",
      "[CV 4/5] END ..C=0.05, penalty=none, solver=sag;, score=0.678 total time=   0.2s\n",
      "[CV 5/5] END ..C=0.05, penalty=none, solver=sag;, score=0.707 total time=   0.1s\n",
      "[CV 1/5] END .C=0.05, penalty=none, solver=saga;, score=0.694 total time=   0.1s\n",
      "[CV 2/5] END .C=0.05, penalty=none, solver=saga;, score=0.712 total time=   0.0s\n",
      "[CV 3/5] END .C=0.05, penalty=none, solver=saga;, score=0.717 total time=   0.1s\n",
      "[CV 4/5] END .C=0.05, penalty=none, solver=saga;, score=0.678 total time=   0.1s\n"
     ]
    },
    {
     "name": "stdout",
     "output_type": "stream",
     "text": [
      "[CV 5/5] END .C=0.05, penalty=none, solver=saga;, score=0.707 total time=   0.1s\n",
      "[CV 1/5] END C=0.1, penalty=l1, solver=liblinear;, score=0.693 total time=   0.0s\n",
      "[CV 2/5] END C=0.1, penalty=l1, solver=liblinear;, score=0.718 total time=   0.0s\n",
      "[CV 3/5] END C=0.1, penalty=l1, solver=liblinear;, score=0.718 total time=   0.0s\n",
      "[CV 4/5] END C=0.1, penalty=l1, solver=liblinear;, score=0.680 total time=   0.1s\n",
      "[CV 5/5] END C=0.1, penalty=l1, solver=liblinear;, score=0.710 total time=   0.1s\n",
      "[CV 1/5] END .C=0.1, penalty=l1, solver=newton-cg;, score=nan total time=   0.0s\n",
      "[CV 2/5] END .C=0.1, penalty=l1, solver=newton-cg;, score=nan total time=   0.0s\n",
      "[CV 3/5] END .C=0.1, penalty=l1, solver=newton-cg;, score=nan total time=   0.0s\n",
      "[CV 4/5] END .C=0.1, penalty=l1, solver=newton-cg;, score=nan total time=   0.0s\n",
      "[CV 5/5] END .C=0.1, penalty=l1, solver=newton-cg;, score=nan total time=   0.0s\n",
      "[CV 1/5] END .....C=0.1, penalty=l1, solver=lbfgs;, score=nan total time=   0.0s\n",
      "[CV 2/5] END .....C=0.1, penalty=l1, solver=lbfgs;, score=nan total time=   0.0s\n",
      "[CV 3/5] END .....C=0.1, penalty=l1, solver=lbfgs;, score=nan total time=   0.0s\n",
      "[CV 4/5] END .....C=0.1, penalty=l1, solver=lbfgs;, score=nan total time=   0.0s\n",
      "[CV 5/5] END .....C=0.1, penalty=l1, solver=lbfgs;, score=nan total time=   0.0s\n",
      "[CV 1/5] END .......C=0.1, penalty=l1, solver=sag;, score=nan total time=   0.0s\n",
      "[CV 2/5] END .......C=0.1, penalty=l1, solver=sag;, score=nan total time=   0.0s\n",
      "[CV 3/5] END .......C=0.1, penalty=l1, solver=sag;, score=nan total time=   0.0s\n",
      "[CV 4/5] END .......C=0.1, penalty=l1, solver=sag;, score=nan total time=   0.0s\n",
      "[CV 5/5] END .......C=0.1, penalty=l1, solver=sag;, score=nan total time=   0.0s\n",
      "[CV 1/5] END ....C=0.1, penalty=l1, solver=saga;, score=0.694 total time=   0.2s\n",
      "[CV 2/5] END ....C=0.1, penalty=l1, solver=saga;, score=0.715 total time=   0.1s\n",
      "[CV 3/5] END ....C=0.1, penalty=l1, solver=saga;, score=0.720 total time=   0.1s\n",
      "[CV 4/5] END ....C=0.1, penalty=l1, solver=saga;, score=0.681 total time=   0.1s\n",
      "[CV 5/5] END ....C=0.1, penalty=l1, solver=saga;, score=0.710 total time=   0.1s\n",
      "[CV 1/5] END C=0.1, penalty=l2, solver=liblinear;, score=0.694 total time=   0.0s\n",
      "[CV 2/5] END C=0.1, penalty=l2, solver=liblinear;, score=0.715 total time=   0.0s\n",
      "[CV 3/5] END C=0.1, penalty=l2, solver=liblinear;, score=0.715 total time=   0.0s\n",
      "[CV 4/5] END C=0.1, penalty=l2, solver=liblinear;, score=0.679 total time=   0.0s\n",
      "[CV 5/5] END C=0.1, penalty=l2, solver=liblinear;, score=0.707 total time=   0.0s\n",
      "[CV 1/5] END C=0.1, penalty=l2, solver=newton-cg;, score=0.694 total time=   0.1s\n",
      "[CV 2/5] END C=0.1, penalty=l2, solver=newton-cg;, score=0.713 total time=   0.1s\n",
      "[CV 3/5] END C=0.1, penalty=l2, solver=newton-cg;, score=0.715 total time=   0.2s\n",
      "[CV 4/5] END C=0.1, penalty=l2, solver=newton-cg;, score=0.678 total time=   0.1s\n",
      "[CV 5/5] END C=0.1, penalty=l2, solver=newton-cg;, score=0.708 total time=   0.2s\n",
      "[CV 1/5] END ...C=0.1, penalty=l2, solver=lbfgs;, score=0.694 total time=   0.0s\n",
      "[CV 2/5] END ...C=0.1, penalty=l2, solver=lbfgs;, score=0.713 total time=   0.0s\n",
      "[CV 3/5] END ...C=0.1, penalty=l2, solver=lbfgs;, score=0.715 total time=   0.0s\n",
      "[CV 4/5] END ...C=0.1, penalty=l2, solver=lbfgs;, score=0.678 total time=   0.0s\n",
      "[CV 5/5] END ...C=0.1, penalty=l2, solver=lbfgs;, score=0.708 total time=   0.0s\n",
      "[CV 1/5] END .....C=0.1, penalty=l2, solver=sag;, score=0.694 total time=   0.1s\n",
      "[CV 2/5] END .....C=0.1, penalty=l2, solver=sag;, score=0.713 total time=   0.1s\n",
      "[CV 3/5] END .....C=0.1, penalty=l2, solver=sag;, score=0.715 total time=   0.1s\n",
      "[CV 4/5] END .....C=0.1, penalty=l2, solver=sag;, score=0.678 total time=   0.1s\n",
      "[CV 5/5] END .....C=0.1, penalty=l2, solver=sag;, score=0.708 total time=   0.1s\n",
      "[CV 1/5] END ....C=0.1, penalty=l2, solver=saga;, score=0.694 total time=   0.2s\n",
      "[CV 2/5] END ....C=0.1, penalty=l2, solver=saga;, score=0.713 total time=   0.2s\n",
      "[CV 3/5] END ....C=0.1, penalty=l2, solver=saga;, score=0.715 total time=   0.2s\n",
      "[CV 4/5] END ....C=0.1, penalty=l2, solver=saga;, score=0.678 total time=   0.2s\n",
      "[CV 5/5] END ....C=0.1, penalty=l2, solver=saga;, score=0.708 total time=   0.2s\n",
      "[CV 1/5] END C=0.1, penalty=elasticnet, solver=liblinear;, score=nan total time=   0.0s\n",
      "[CV 2/5] END C=0.1, penalty=elasticnet, solver=liblinear;, score=nan total time=   0.0s\n",
      "[CV 3/5] END C=0.1, penalty=elasticnet, solver=liblinear;, score=nan total time=   0.0s\n",
      "[CV 4/5] END C=0.1, penalty=elasticnet, solver=liblinear;, score=nan total time=   0.0s\n",
      "[CV 5/5] END C=0.1, penalty=elasticnet, solver=liblinear;, score=nan total time=   0.0s\n",
      "[CV 1/5] END C=0.1, penalty=elasticnet, solver=newton-cg;, score=nan total time=   0.0s\n",
      "[CV 2/5] END C=0.1, penalty=elasticnet, solver=newton-cg;, score=nan total time=   0.0s\n",
      "[CV 3/5] END C=0.1, penalty=elasticnet, solver=newton-cg;, score=nan total time=   0.0s\n",
      "[CV 4/5] END C=0.1, penalty=elasticnet, solver=newton-cg;, score=nan total time=   0.0s\n",
      "[CV 5/5] END C=0.1, penalty=elasticnet, solver=newton-cg;, score=nan total time=   0.0s\n",
      "[CV 1/5] END C=0.1, penalty=elasticnet, solver=lbfgs;, score=nan total time=   0.0s\n",
      "[CV 2/5] END C=0.1, penalty=elasticnet, solver=lbfgs;, score=nan total time=   0.0s\n",
      "[CV 3/5] END C=0.1, penalty=elasticnet, solver=lbfgs;, score=nan total time=   0.0s\n",
      "[CV 4/5] END C=0.1, penalty=elasticnet, solver=lbfgs;, score=nan total time=   0.0s\n",
      "[CV 5/5] END C=0.1, penalty=elasticnet, solver=lbfgs;, score=nan total time=   0.0s\n",
      "[CV 1/5] END C=0.1, penalty=elasticnet, solver=sag;, score=nan total time=   0.0s\n",
      "[CV 2/5] END C=0.1, penalty=elasticnet, solver=sag;, score=nan total time=   0.0s\n",
      "[CV 3/5] END C=0.1, penalty=elasticnet, solver=sag;, score=nan total time=   0.0s\n",
      "[CV 4/5] END C=0.1, penalty=elasticnet, solver=sag;, score=nan total time=   0.0s\n",
      "[CV 5/5] END C=0.1, penalty=elasticnet, solver=sag;, score=nan total time=   0.0s\n",
      "[CV 1/5] END C=0.1, penalty=elasticnet, solver=saga;, score=nan total time=   0.0s\n",
      "[CV 2/5] END C=0.1, penalty=elasticnet, solver=saga;, score=nan total time=   0.0s\n",
      "[CV 3/5] END C=0.1, penalty=elasticnet, solver=saga;, score=nan total time=   0.0s\n",
      "[CV 4/5] END C=0.1, penalty=elasticnet, solver=saga;, score=nan total time=   0.0s\n",
      "[CV 5/5] END C=0.1, penalty=elasticnet, solver=saga;, score=nan total time=   0.0s\n",
      "[CV 1/5] END C=0.1, penalty=none, solver=liblinear;, score=nan total time=   0.0s\n",
      "[CV 2/5] END C=0.1, penalty=none, solver=liblinear;, score=nan total time=   0.0s\n",
      "[CV 3/5] END C=0.1, penalty=none, solver=liblinear;, score=nan total time=   0.0s\n",
      "[CV 4/5] END C=0.1, penalty=none, solver=liblinear;, score=nan total time=   0.0s\n",
      "[CV 5/5] END C=0.1, penalty=none, solver=liblinear;, score=nan total time=   0.0s\n",
      "[CV 1/5] END C=0.1, penalty=none, solver=newton-cg;, score=0.694 total time=   0.1s\n",
      "[CV 2/5] END C=0.1, penalty=none, solver=newton-cg;, score=0.712 total time=   0.1s\n",
      "[CV 3/5] END C=0.1, penalty=none, solver=newton-cg;, score=0.717 total time=   0.1s\n",
      "[CV 4/5] END C=0.1, penalty=none, solver=newton-cg;, score=0.678 total time=   0.1s\n",
      "[CV 5/5] END C=0.1, penalty=none, solver=newton-cg;, score=0.707 total time=   0.1s\n",
      "[CV 1/5] END .C=0.1, penalty=none, solver=lbfgs;, score=0.694 total time=   0.0s\n",
      "[CV 2/5] END .C=0.1, penalty=none, solver=lbfgs;, score=0.712 total time=   0.0s\n",
      "[CV 3/5] END .C=0.1, penalty=none, solver=lbfgs;, score=0.717 total time=   0.0s\n",
      "[CV 4/5] END .C=0.1, penalty=none, solver=lbfgs;, score=0.678 total time=   0.0s\n",
      "[CV 5/5] END .C=0.1, penalty=none, solver=lbfgs;, score=0.707 total time=   0.0s\n",
      "[CV 1/5] END ...C=0.1, penalty=none, solver=sag;, score=0.694 total time=   0.1s\n",
      "[CV 2/5] END ...C=0.1, penalty=none, solver=sag;, score=0.712 total time=   0.1s\n",
      "[CV 3/5] END ...C=0.1, penalty=none, solver=sag;, score=0.717 total time=   0.1s\n",
      "[CV 4/5] END ...C=0.1, penalty=none, solver=sag;, score=0.678 total time=   0.1s\n",
      "[CV 5/5] END ...C=0.1, penalty=none, solver=sag;, score=0.707 total time=   0.1s\n",
      "[CV 1/5] END ..C=0.1, penalty=none, solver=saga;, score=0.694 total time=   0.0s\n",
      "[CV 2/5] END ..C=0.1, penalty=none, solver=saga;, score=0.712 total time=   0.1s\n",
      "[CV 3/5] END ..C=0.1, penalty=none, solver=saga;, score=0.717 total time=   0.1s\n",
      "[CV 4/5] END ..C=0.1, penalty=none, solver=saga;, score=0.678 total time=   0.1s\n",
      "[CV 5/5] END ..C=0.1, penalty=none, solver=saga;, score=0.707 total time=   0.1s\n"
     ]
    },
    {
     "name": "stdout",
     "output_type": "stream",
     "text": [
      "[CV 1/5] END C=0.5, penalty=l1, solver=liblinear;, score=0.693 total time=   0.1s\n",
      "[CV 2/5] END C=0.5, penalty=l1, solver=liblinear;, score=0.712 total time=   0.1s\n",
      "[CV 3/5] END C=0.5, penalty=l1, solver=liblinear;, score=0.716 total time=   0.1s\n",
      "[CV 4/5] END C=0.5, penalty=l1, solver=liblinear;, score=0.678 total time=   0.1s\n",
      "[CV 5/5] END C=0.5, penalty=l1, solver=liblinear;, score=0.708 total time=   0.1s\n",
      "[CV 1/5] END .C=0.5, penalty=l1, solver=newton-cg;, score=nan total time=   0.0s\n",
      "[CV 2/5] END .C=0.5, penalty=l1, solver=newton-cg;, score=nan total time=   0.0s\n",
      "[CV 3/5] END .C=0.5, penalty=l1, solver=newton-cg;, score=nan total time=   0.0s\n",
      "[CV 4/5] END .C=0.5, penalty=l1, solver=newton-cg;, score=nan total time=   0.0s\n",
      "[CV 5/5] END .C=0.5, penalty=l1, solver=newton-cg;, score=nan total time=   0.0s\n",
      "[CV 1/5] END .....C=0.5, penalty=l1, solver=lbfgs;, score=nan total time=   0.0s\n",
      "[CV 2/5] END .....C=0.5, penalty=l1, solver=lbfgs;, score=nan total time=   0.0s\n",
      "[CV 3/5] END .....C=0.5, penalty=l1, solver=lbfgs;, score=nan total time=   0.0s\n",
      "[CV 4/5] END .....C=0.5, penalty=l1, solver=lbfgs;, score=nan total time=   0.0s\n",
      "[CV 5/5] END .....C=0.5, penalty=l1, solver=lbfgs;, score=nan total time=   0.0s\n",
      "[CV 1/5] END .......C=0.5, penalty=l1, solver=sag;, score=nan total time=   0.0s\n",
      "[CV 2/5] END .......C=0.5, penalty=l1, solver=sag;, score=nan total time=   0.0s\n",
      "[CV 3/5] END .......C=0.5, penalty=l1, solver=sag;, score=nan total time=   0.0s\n",
      "[CV 4/5] END .......C=0.5, penalty=l1, solver=sag;, score=nan total time=   0.0s\n",
      "[CV 5/5] END .......C=0.5, penalty=l1, solver=sag;, score=nan total time=   0.0s\n",
      "[CV 1/5] END ....C=0.5, penalty=l1, solver=saga;, score=0.694 total time=   0.1s\n",
      "[CV 2/5] END ....C=0.5, penalty=l1, solver=saga;, score=0.713 total time=   0.1s\n",
      "[CV 3/5] END ....C=0.5, penalty=l1, solver=saga;, score=0.716 total time=   0.1s\n",
      "[CV 4/5] END ....C=0.5, penalty=l1, solver=saga;, score=0.678 total time=   0.1s\n",
      "[CV 5/5] END ....C=0.5, penalty=l1, solver=saga;, score=0.708 total time=   0.1s\n",
      "[CV 1/5] END C=0.5, penalty=l2, solver=liblinear;, score=0.694 total time=   0.0s\n",
      "[CV 2/5] END C=0.5, penalty=l2, solver=liblinear;, score=0.712 total time=   0.0s\n",
      "[CV 3/5] END C=0.5, penalty=l2, solver=liblinear;, score=0.715 total time=   0.0s\n",
      "[CV 4/5] END C=0.5, penalty=l2, solver=liblinear;, score=0.677 total time=   0.0s\n",
      "[CV 5/5] END C=0.5, penalty=l2, solver=liblinear;, score=0.707 total time=   0.0s\n",
      "[CV 1/5] END C=0.5, penalty=l2, solver=newton-cg;, score=0.694 total time=   0.2s\n",
      "[CV 2/5] END C=0.5, penalty=l2, solver=newton-cg;, score=0.712 total time=   0.1s\n",
      "[CV 3/5] END C=0.5, penalty=l2, solver=newton-cg;, score=0.715 total time=   0.1s\n",
      "[CV 4/5] END C=0.5, penalty=l2, solver=newton-cg;, score=0.677 total time=   0.1s\n",
      "[CV 5/5] END C=0.5, penalty=l2, solver=newton-cg;, score=0.707 total time=   0.1s\n",
      "[CV 1/5] END ...C=0.5, penalty=l2, solver=lbfgs;, score=0.694 total time=   0.0s\n",
      "[CV 2/5] END ...C=0.5, penalty=l2, solver=lbfgs;, score=0.712 total time=   0.1s\n",
      "[CV 3/5] END ...C=0.5, penalty=l2, solver=lbfgs;, score=0.715 total time=   0.1s\n",
      "[CV 4/5] END ...C=0.5, penalty=l2, solver=lbfgs;, score=0.677 total time=   0.0s\n",
      "[CV 5/5] END ...C=0.5, penalty=l2, solver=lbfgs;, score=0.707 total time=   0.0s\n",
      "[CV 1/5] END .....C=0.5, penalty=l2, solver=sag;, score=0.694 total time=   0.2s\n",
      "[CV 2/5] END .....C=0.5, penalty=l2, solver=sag;, score=0.712 total time=   0.2s\n",
      "[CV 3/5] END .....C=0.5, penalty=l2, solver=sag;, score=0.715 total time=   0.2s\n",
      "[CV 4/5] END .....C=0.5, penalty=l2, solver=sag;, score=0.677 total time=   0.2s\n",
      "[CV 5/5] END .....C=0.5, penalty=l2, solver=sag;, score=0.707 total time=   0.2s\n",
      "[CV 1/5] END ....C=0.5, penalty=l2, solver=saga;, score=0.694 total time=   0.6s\n",
      "[CV 2/5] END ....C=0.5, penalty=l2, solver=saga;, score=0.712 total time=   0.5s\n",
      "[CV 3/5] END ....C=0.5, penalty=l2, solver=saga;, score=0.715 total time=   0.6s\n",
      "[CV 4/5] END ....C=0.5, penalty=l2, solver=saga;, score=0.677 total time=   0.5s\n",
      "[CV 5/5] END ....C=0.5, penalty=l2, solver=saga;, score=0.707 total time=   0.6s\n",
      "[CV 1/5] END C=0.5, penalty=elasticnet, solver=liblinear;, score=nan total time=   0.0s\n",
      "[CV 2/5] END C=0.5, penalty=elasticnet, solver=liblinear;, score=nan total time=   0.0s\n",
      "[CV 3/5] END C=0.5, penalty=elasticnet, solver=liblinear;, score=nan total time=   0.0s\n",
      "[CV 4/5] END C=0.5, penalty=elasticnet, solver=liblinear;, score=nan total time=   0.0s\n",
      "[CV 5/5] END C=0.5, penalty=elasticnet, solver=liblinear;, score=nan total time=   0.0s\n",
      "[CV 1/5] END C=0.5, penalty=elasticnet, solver=newton-cg;, score=nan total time=   0.0s\n",
      "[CV 2/5] END C=0.5, penalty=elasticnet, solver=newton-cg;, score=nan total time=   0.0s\n",
      "[CV 3/5] END C=0.5, penalty=elasticnet, solver=newton-cg;, score=nan total time=   0.0s\n",
      "[CV 4/5] END C=0.5, penalty=elasticnet, solver=newton-cg;, score=nan total time=   0.0s\n",
      "[CV 5/5] END C=0.5, penalty=elasticnet, solver=newton-cg;, score=nan total time=   0.0s\n",
      "[CV 1/5] END C=0.5, penalty=elasticnet, solver=lbfgs;, score=nan total time=   0.0s\n",
      "[CV 2/5] END C=0.5, penalty=elasticnet, solver=lbfgs;, score=nan total time=   0.0s\n",
      "[CV 3/5] END C=0.5, penalty=elasticnet, solver=lbfgs;, score=nan total time=   0.0s\n",
      "[CV 4/5] END C=0.5, penalty=elasticnet, solver=lbfgs;, score=nan total time=   0.0s\n",
      "[CV 5/5] END C=0.5, penalty=elasticnet, solver=lbfgs;, score=nan total time=   0.0s\n",
      "[CV 1/5] END C=0.5, penalty=elasticnet, solver=sag;, score=nan total time=   0.0s\n",
      "[CV 2/5] END C=0.5, penalty=elasticnet, solver=sag;, score=nan total time=   0.0s\n",
      "[CV 3/5] END C=0.5, penalty=elasticnet, solver=sag;, score=nan total time=   0.0s\n",
      "[CV 4/5] END C=0.5, penalty=elasticnet, solver=sag;, score=nan total time=   0.0s\n",
      "[CV 5/5] END C=0.5, penalty=elasticnet, solver=sag;, score=nan total time=   0.0s\n",
      "[CV 1/5] END C=0.5, penalty=elasticnet, solver=saga;, score=nan total time=   0.0s\n",
      "[CV 2/5] END C=0.5, penalty=elasticnet, solver=saga;, score=nan total time=   0.0s\n",
      "[CV 3/5] END C=0.5, penalty=elasticnet, solver=saga;, score=nan total time=   0.0s\n",
      "[CV 4/5] END C=0.5, penalty=elasticnet, solver=saga;, score=nan total time=   0.0s\n",
      "[CV 5/5] END C=0.5, penalty=elasticnet, solver=saga;, score=nan total time=   0.0s\n",
      "[CV 1/5] END C=0.5, penalty=none, solver=liblinear;, score=nan total time=   0.0s\n",
      "[CV 2/5] END C=0.5, penalty=none, solver=liblinear;, score=nan total time=   0.0s\n",
      "[CV 3/5] END C=0.5, penalty=none, solver=liblinear;, score=nan total time=   0.0s\n",
      "[CV 4/5] END C=0.5, penalty=none, solver=liblinear;, score=nan total time=   0.0s\n",
      "[CV 5/5] END C=0.5, penalty=none, solver=liblinear;, score=nan total time=   0.0s\n",
      "[CV 1/5] END C=0.5, penalty=none, solver=newton-cg;, score=0.694 total time=   0.1s\n",
      "[CV 2/5] END C=0.5, penalty=none, solver=newton-cg;, score=0.712 total time=   0.1s\n",
      "[CV 3/5] END C=0.5, penalty=none, solver=newton-cg;, score=0.717 total time=   0.1s\n",
      "[CV 4/5] END C=0.5, penalty=none, solver=newton-cg;, score=0.678 total time=   0.1s\n",
      "[CV 5/5] END C=0.5, penalty=none, solver=newton-cg;, score=0.707 total time=   0.1s\n",
      "[CV 1/5] END .C=0.5, penalty=none, solver=lbfgs;, score=0.694 total time=   0.0s\n",
      "[CV 2/5] END .C=0.5, penalty=none, solver=lbfgs;, score=0.712 total time=   0.0s\n",
      "[CV 3/5] END .C=0.5, penalty=none, solver=lbfgs;, score=0.717 total time=   0.0s\n",
      "[CV 4/5] END .C=0.5, penalty=none, solver=lbfgs;, score=0.678 total time=   0.0s\n",
      "[CV 5/5] END .C=0.5, penalty=none, solver=lbfgs;, score=0.707 total time=   0.0s\n",
      "[CV 1/5] END ...C=0.5, penalty=none, solver=sag;, score=0.694 total time=   0.1s\n",
      "[CV 2/5] END ...C=0.5, penalty=none, solver=sag;, score=0.712 total time=   0.1s\n",
      "[CV 3/5] END ...C=0.5, penalty=none, solver=sag;, score=0.717 total time=   0.1s\n",
      "[CV 4/5] END ...C=0.5, penalty=none, solver=sag;, score=0.678 total time=   0.1s\n",
      "[CV 5/5] END ...C=0.5, penalty=none, solver=sag;, score=0.707 total time=   0.2s\n",
      "[CV 1/5] END ..C=0.5, penalty=none, solver=saga;, score=0.694 total time=   0.1s\n",
      "[CV 2/5] END ..C=0.5, penalty=none, solver=saga;, score=0.712 total time=   0.1s\n",
      "[CV 3/5] END ..C=0.5, penalty=none, solver=saga;, score=0.717 total time=   0.1s\n",
      "[CV 4/5] END ..C=0.5, penalty=none, solver=saga;, score=0.678 total time=   0.1s\n",
      "[CV 5/5] END ..C=0.5, penalty=none, solver=saga;, score=0.707 total time=   0.1s\n"
     ]
    },
    {
     "name": "stdout",
     "output_type": "stream",
     "text": [
      "[CV 1/5] END .C=1, penalty=l1, solver=liblinear;, score=0.693 total time=   0.2s\n",
      "[CV 2/5] END .C=1, penalty=l1, solver=liblinear;, score=0.712 total time=   0.2s\n",
      "[CV 3/5] END .C=1, penalty=l1, solver=liblinear;, score=0.716 total time=   0.3s\n",
      "[CV 4/5] END .C=1, penalty=l1, solver=liblinear;, score=0.678 total time=   0.7s\n",
      "[CV 5/5] END .C=1, penalty=l1, solver=liblinear;, score=0.707 total time=   0.2s\n",
      "[CV 1/5] END ...C=1, penalty=l1, solver=newton-cg;, score=nan total time=   0.0s\n",
      "[CV 2/5] END ...C=1, penalty=l1, solver=newton-cg;, score=nan total time=   0.0s\n",
      "[CV 3/5] END ...C=1, penalty=l1, solver=newton-cg;, score=nan total time=   0.0s\n",
      "[CV 4/5] END ...C=1, penalty=l1, solver=newton-cg;, score=nan total time=   0.0s\n",
      "[CV 5/5] END ...C=1, penalty=l1, solver=newton-cg;, score=nan total time=   0.0s\n",
      "[CV 1/5] END .......C=1, penalty=l1, solver=lbfgs;, score=nan total time=   0.0s\n",
      "[CV 2/5] END .......C=1, penalty=l1, solver=lbfgs;, score=nan total time=   0.0s\n",
      "[CV 3/5] END .......C=1, penalty=l1, solver=lbfgs;, score=nan total time=   0.0s\n",
      "[CV 4/5] END .......C=1, penalty=l1, solver=lbfgs;, score=nan total time=   0.0s\n",
      "[CV 5/5] END .......C=1, penalty=l1, solver=lbfgs;, score=nan total time=   0.0s\n",
      "[CV 1/5] END .........C=1, penalty=l1, solver=sag;, score=nan total time=   0.0s\n",
      "[CV 2/5] END .........C=1, penalty=l1, solver=sag;, score=nan total time=   0.0s\n",
      "[CV 3/5] END .........C=1, penalty=l1, solver=sag;, score=nan total time=   0.0s\n",
      "[CV 4/5] END .........C=1, penalty=l1, solver=sag;, score=nan total time=   0.0s\n",
      "[CV 5/5] END .........C=1, penalty=l1, solver=sag;, score=nan total time=   0.0s\n",
      "[CV 1/5] END ......C=1, penalty=l1, solver=saga;, score=0.694 total time=   0.2s\n",
      "[CV 2/5] END ......C=1, penalty=l1, solver=saga;, score=0.712 total time=   0.1s\n",
      "[CV 3/5] END ......C=1, penalty=l1, solver=saga;, score=0.717 total time=   0.0s\n",
      "[CV 4/5] END ......C=1, penalty=l1, solver=saga;, score=0.678 total time=   0.0s\n",
      "[CV 5/5] END ......C=1, penalty=l1, solver=saga;, score=0.707 total time=   0.1s\n",
      "[CV 1/5] END .C=1, penalty=l2, solver=liblinear;, score=0.694 total time=   0.0s\n",
      "[CV 2/5] END .C=1, penalty=l2, solver=liblinear;, score=0.712 total time=   0.0s\n",
      "[CV 3/5] END .C=1, penalty=l2, solver=liblinear;, score=0.715 total time=   0.0s\n",
      "[CV 4/5] END .C=1, penalty=l2, solver=liblinear;, score=0.678 total time=   0.0s\n",
      "[CV 5/5] END .C=1, penalty=l2, solver=liblinear;, score=0.707 total time=   0.0s\n",
      "[CV 1/5] END .C=1, penalty=l2, solver=newton-cg;, score=0.693 total time=   0.1s\n",
      "[CV 2/5] END .C=1, penalty=l2, solver=newton-cg;, score=0.712 total time=   0.1s\n",
      "[CV 3/5] END .C=1, penalty=l2, solver=newton-cg;, score=0.715 total time=   0.1s\n",
      "[CV 4/5] END .C=1, penalty=l2, solver=newton-cg;, score=0.678 total time=   0.1s\n",
      "[CV 5/5] END .C=1, penalty=l2, solver=newton-cg;, score=0.707 total time=   0.1s\n",
      "[CV 1/5] END .....C=1, penalty=l2, solver=lbfgs;, score=0.693 total time=   0.0s\n",
      "[CV 2/5] END .....C=1, penalty=l2, solver=lbfgs;, score=0.712 total time=   0.1s\n",
      "[CV 3/5] END .....C=1, penalty=l2, solver=lbfgs;, score=0.715 total time=   0.0s\n",
      "[CV 4/5] END .....C=1, penalty=l2, solver=lbfgs;, score=0.678 total time=   0.0s\n",
      "[CV 5/5] END .....C=1, penalty=l2, solver=lbfgs;, score=0.707 total time=   0.0s\n",
      "[CV 1/5] END .......C=1, penalty=l2, solver=sag;, score=0.693 total time=   0.4s\n",
      "[CV 2/5] END .......C=1, penalty=l2, solver=sag;, score=0.712 total time=   0.5s\n",
      "[CV 3/5] END .......C=1, penalty=l2, solver=sag;, score=0.715 total time=   0.4s\n",
      "[CV 4/5] END .......C=1, penalty=l2, solver=sag;, score=0.678 total time=   0.4s\n",
      "[CV 5/5] END .......C=1, penalty=l2, solver=sag;, score=0.707 total time=   0.4s\n",
      "[CV 1/5] END ......C=1, penalty=l2, solver=saga;, score=0.693 total time=   0.6s\n",
      "[CV 2/5] END ......C=1, penalty=l2, solver=saga;, score=0.712 total time=   0.6s\n",
      "[CV 3/5] END ......C=1, penalty=l2, solver=saga;, score=0.715 total time=   0.6s\n",
      "[CV 4/5] END ......C=1, penalty=l2, solver=saga;, score=0.678 total time=   0.6s\n",
      "[CV 5/5] END ......C=1, penalty=l2, solver=saga;, score=0.707 total time=   0.6s\n",
      "[CV 1/5] END C=1, penalty=elasticnet, solver=liblinear;, score=nan total time=   0.0s\n",
      "[CV 2/5] END C=1, penalty=elasticnet, solver=liblinear;, score=nan total time=   0.0s\n",
      "[CV 3/5] END C=1, penalty=elasticnet, solver=liblinear;, score=nan total time=   0.0s\n",
      "[CV 4/5] END C=1, penalty=elasticnet, solver=liblinear;, score=nan total time=   0.0s\n",
      "[CV 5/5] END C=1, penalty=elasticnet, solver=liblinear;, score=nan total time=   0.0s\n",
      "[CV 1/5] END C=1, penalty=elasticnet, solver=newton-cg;, score=nan total time=   0.0s\n",
      "[CV 2/5] END C=1, penalty=elasticnet, solver=newton-cg;, score=nan total time=   0.0s\n",
      "[CV 3/5] END C=1, penalty=elasticnet, solver=newton-cg;, score=nan total time=   0.0s\n",
      "[CV 4/5] END C=1, penalty=elasticnet, solver=newton-cg;, score=nan total time=   0.0s\n",
      "[CV 5/5] END C=1, penalty=elasticnet, solver=newton-cg;, score=nan total time=   0.0s\n",
      "[CV 1/5] END C=1, penalty=elasticnet, solver=lbfgs;, score=nan total time=   0.0s\n",
      "[CV 2/5] END C=1, penalty=elasticnet, solver=lbfgs;, score=nan total time=   0.0s\n",
      "[CV 3/5] END C=1, penalty=elasticnet, solver=lbfgs;, score=nan total time=   0.0s\n",
      "[CV 4/5] END C=1, penalty=elasticnet, solver=lbfgs;, score=nan total time=   0.0s\n",
      "[CV 5/5] END C=1, penalty=elasticnet, solver=lbfgs;, score=nan total time=   0.0s\n",
      "[CV 1/5] END .C=1, penalty=elasticnet, solver=sag;, score=nan total time=   0.0s\n",
      "[CV 2/5] END .C=1, penalty=elasticnet, solver=sag;, score=nan total time=   0.0s\n",
      "[CV 3/5] END .C=1, penalty=elasticnet, solver=sag;, score=nan total time=   0.0s\n",
      "[CV 4/5] END .C=1, penalty=elasticnet, solver=sag;, score=nan total time=   0.0s\n",
      "[CV 5/5] END .C=1, penalty=elasticnet, solver=sag;, score=nan total time=   0.0s\n",
      "[CV 1/5] END C=1, penalty=elasticnet, solver=saga;, score=nan total time=   0.0s\n",
      "[CV 2/5] END C=1, penalty=elasticnet, solver=saga;, score=nan total time=   0.0s\n",
      "[CV 3/5] END C=1, penalty=elasticnet, solver=saga;, score=nan total time=   0.0s\n",
      "[CV 4/5] END C=1, penalty=elasticnet, solver=saga;, score=nan total time=   0.0s\n",
      "[CV 5/5] END C=1, penalty=elasticnet, solver=saga;, score=nan total time=   0.0s\n",
      "[CV 1/5] END .C=1, penalty=none, solver=liblinear;, score=nan total time=   0.0s\n",
      "[CV 2/5] END .C=1, penalty=none, solver=liblinear;, score=nan total time=   0.0s\n",
      "[CV 3/5] END .C=1, penalty=none, solver=liblinear;, score=nan total time=   0.0s\n",
      "[CV 4/5] END .C=1, penalty=none, solver=liblinear;, score=nan total time=   0.0s\n",
      "[CV 5/5] END .C=1, penalty=none, solver=liblinear;, score=nan total time=   0.0s\n",
      "[CV 1/5] END C=1, penalty=none, solver=newton-cg;, score=0.694 total time=   0.1s\n",
      "[CV 2/5] END C=1, penalty=none, solver=newton-cg;, score=0.712 total time=   0.1s\n",
      "[CV 3/5] END C=1, penalty=none, solver=newton-cg;, score=0.717 total time=   0.1s\n",
      "[CV 4/5] END C=1, penalty=none, solver=newton-cg;, score=0.678 total time=   0.1s\n",
      "[CV 5/5] END C=1, penalty=none, solver=newton-cg;, score=0.707 total time=   0.1s\n",
      "[CV 1/5] END ...C=1, penalty=none, solver=lbfgs;, score=0.694 total time=   0.0s\n",
      "[CV 2/5] END ...C=1, penalty=none, solver=lbfgs;, score=0.712 total time=   0.0s\n",
      "[CV 3/5] END ...C=1, penalty=none, solver=lbfgs;, score=0.717 total time=   0.0s\n",
      "[CV 4/5] END ...C=1, penalty=none, solver=lbfgs;, score=0.678 total time=   0.0s\n",
      "[CV 5/5] END ...C=1, penalty=none, solver=lbfgs;, score=0.707 total time=   0.0s\n",
      "[CV 1/5] END .....C=1, penalty=none, solver=sag;, score=0.694 total time=   0.2s\n",
      "[CV 2/5] END .....C=1, penalty=none, solver=sag;, score=0.712 total time=   0.1s\n",
      "[CV 3/5] END .....C=1, penalty=none, solver=sag;, score=0.717 total time=   0.1s\n",
      "[CV 4/5] END .....C=1, penalty=none, solver=sag;, score=0.678 total time=   0.2s\n",
      "[CV 5/5] END .....C=1, penalty=none, solver=sag;, score=0.707 total time=   0.1s\n",
      "[CV 1/5] END ....C=1, penalty=none, solver=saga;, score=0.694 total time=   0.1s\n",
      "[CV 2/5] END ....C=1, penalty=none, solver=saga;, score=0.712 total time=   0.1s\n",
      "[CV 3/5] END ....C=1, penalty=none, solver=saga;, score=0.717 total time=   0.1s\n",
      "[CV 4/5] END ....C=1, penalty=none, solver=saga;, score=0.678 total time=   0.1s\n",
      "[CV 5/5] END ....C=1, penalty=none, solver=saga;, score=0.707 total time=   0.1s\n",
      "[CV 1/5] END .C=5, penalty=l1, solver=liblinear;, score=0.693 total time=   0.9s\n"
     ]
    },
    {
     "name": "stdout",
     "output_type": "stream",
     "text": [
      "[CV 2/5] END .C=5, penalty=l1, solver=liblinear;, score=0.712 total time=   0.9s\n",
      "[CV 3/5] END .C=5, penalty=l1, solver=liblinear;, score=0.717 total time=   1.5s\n",
      "[CV 4/5] END .C=5, penalty=l1, solver=liblinear;, score=0.678 total time=   1.2s\n",
      "[CV 5/5] END .C=5, penalty=l1, solver=liblinear;, score=0.707 total time=   0.8s\n",
      "[CV 1/5] END ...C=5, penalty=l1, solver=newton-cg;, score=nan total time=   0.0s\n",
      "[CV 2/5] END ...C=5, penalty=l1, solver=newton-cg;, score=nan total time=   0.0s\n",
      "[CV 3/5] END ...C=5, penalty=l1, solver=newton-cg;, score=nan total time=   0.0s\n",
      "[CV 4/5] END ...C=5, penalty=l1, solver=newton-cg;, score=nan total time=   0.0s\n",
      "[CV 5/5] END ...C=5, penalty=l1, solver=newton-cg;, score=nan total time=   0.0s\n",
      "[CV 1/5] END .......C=5, penalty=l1, solver=lbfgs;, score=nan total time=   0.0s\n",
      "[CV 2/5] END .......C=5, penalty=l1, solver=lbfgs;, score=nan total time=   0.0s\n",
      "[CV 3/5] END .......C=5, penalty=l1, solver=lbfgs;, score=nan total time=   0.0s\n",
      "[CV 4/5] END .......C=5, penalty=l1, solver=lbfgs;, score=nan total time=   0.0s\n",
      "[CV 5/5] END .......C=5, penalty=l1, solver=lbfgs;, score=nan total time=   0.0s\n",
      "[CV 1/5] END .........C=5, penalty=l1, solver=sag;, score=nan total time=   0.0s\n",
      "[CV 2/5] END .........C=5, penalty=l1, solver=sag;, score=nan total time=   0.0s\n",
      "[CV 3/5] END .........C=5, penalty=l1, solver=sag;, score=nan total time=   0.0s\n",
      "[CV 4/5] END .........C=5, penalty=l1, solver=sag;, score=nan total time=   0.0s\n",
      "[CV 5/5] END .........C=5, penalty=l1, solver=sag;, score=nan total time=   0.0s\n",
      "[CV 1/5] END ......C=5, penalty=l1, solver=saga;, score=0.694 total time=   0.4s\n",
      "[CV 2/5] END ......C=5, penalty=l1, solver=saga;, score=0.712 total time=   0.4s\n",
      "[CV 3/5] END ......C=5, penalty=l1, solver=saga;, score=0.717 total time=   0.4s\n",
      "[CV 4/5] END ......C=5, penalty=l1, solver=saga;, score=0.678 total time=   0.4s\n",
      "[CV 5/5] END ......C=5, penalty=l1, solver=saga;, score=0.707 total time=   0.2s\n",
      "[CV 1/5] END .C=5, penalty=l2, solver=liblinear;, score=0.694 total time=   0.0s\n",
      "[CV 2/5] END .C=5, penalty=l2, solver=liblinear;, score=0.712 total time=   0.0s\n",
      "[CV 3/5] END .C=5, penalty=l2, solver=liblinear;, score=0.715 total time=   0.0s\n",
      "[CV 4/5] END .C=5, penalty=l2, solver=liblinear;, score=0.678 total time=   0.0s\n",
      "[CV 5/5] END .C=5, penalty=l2, solver=liblinear;, score=0.707 total time=   0.0s\n",
      "[CV 1/5] END .C=5, penalty=l2, solver=newton-cg;, score=0.694 total time=   0.1s\n",
      "[CV 2/5] END .C=5, penalty=l2, solver=newton-cg;, score=0.712 total time=   0.2s\n",
      "[CV 3/5] END .C=5, penalty=l2, solver=newton-cg;, score=0.717 total time=   0.1s\n",
      "[CV 4/5] END .C=5, penalty=l2, solver=newton-cg;, score=0.678 total time=   0.1s\n",
      "[CV 5/5] END .C=5, penalty=l2, solver=newton-cg;, score=0.707 total time=   0.1s\n",
      "[CV 1/5] END .....C=5, penalty=l2, solver=lbfgs;, score=0.694 total time=   0.0s\n",
      "[CV 2/5] END .....C=5, penalty=l2, solver=lbfgs;, score=0.712 total time=   0.0s\n",
      "[CV 3/5] END .....C=5, penalty=l2, solver=lbfgs;, score=0.715 total time=   0.0s\n",
      "[CV 4/5] END .....C=5, penalty=l2, solver=lbfgs;, score=0.678 total time=   0.0s\n",
      "[CV 5/5] END .....C=5, penalty=l2, solver=lbfgs;, score=0.707 total time=   0.0s\n",
      "[CV 1/5] END .......C=5, penalty=l2, solver=sag;, score=0.694 total time=   0.6s\n",
      "[CV 2/5] END .......C=5, penalty=l2, solver=sag;, score=0.712 total time=   0.5s\n",
      "[CV 3/5] END .......C=5, penalty=l2, solver=sag;, score=0.715 total time=   0.5s\n",
      "[CV 4/5] END .......C=5, penalty=l2, solver=sag;, score=0.678 total time=   0.5s\n",
      "[CV 5/5] END .......C=5, penalty=l2, solver=sag;, score=0.707 total time=   0.5s\n",
      "[CV 1/5] END ......C=5, penalty=l2, solver=saga;, score=0.694 total time=   0.6s\n",
      "[CV 2/5] END ......C=5, penalty=l2, solver=saga;, score=0.712 total time=   0.7s\n",
      "[CV 3/5] END ......C=5, penalty=l2, solver=saga;, score=0.715 total time=   0.6s\n",
      "[CV 4/5] END ......C=5, penalty=l2, solver=saga;, score=0.678 total time=   0.8s\n",
      "[CV 5/5] END ......C=5, penalty=l2, solver=saga;, score=0.707 total time=   0.6s\n",
      "[CV 1/5] END C=5, penalty=elasticnet, solver=liblinear;, score=nan total time=   0.0s\n",
      "[CV 2/5] END C=5, penalty=elasticnet, solver=liblinear;, score=nan total time=   0.0s\n",
      "[CV 3/5] END C=5, penalty=elasticnet, solver=liblinear;, score=nan total time=   0.0s\n",
      "[CV 4/5] END C=5, penalty=elasticnet, solver=liblinear;, score=nan total time=   0.0s\n",
      "[CV 5/5] END C=5, penalty=elasticnet, solver=liblinear;, score=nan total time=   0.0s\n",
      "[CV 1/5] END C=5, penalty=elasticnet, solver=newton-cg;, score=nan total time=   0.0s\n",
      "[CV 2/5] END C=5, penalty=elasticnet, solver=newton-cg;, score=nan total time=   0.0s\n",
      "[CV 3/5] END C=5, penalty=elasticnet, solver=newton-cg;, score=nan total time=   0.0s\n",
      "[CV 4/5] END C=5, penalty=elasticnet, solver=newton-cg;, score=nan total time=   0.0s\n",
      "[CV 5/5] END C=5, penalty=elasticnet, solver=newton-cg;, score=nan total time=   0.0s\n",
      "[CV 1/5] END C=5, penalty=elasticnet, solver=lbfgs;, score=nan total time=   0.0s\n",
      "[CV 2/5] END C=5, penalty=elasticnet, solver=lbfgs;, score=nan total time=   0.0s\n",
      "[CV 3/5] END C=5, penalty=elasticnet, solver=lbfgs;, score=nan total time=   0.0s\n",
      "[CV 4/5] END C=5, penalty=elasticnet, solver=lbfgs;, score=nan total time=   0.0s\n",
      "[CV 5/5] END C=5, penalty=elasticnet, solver=lbfgs;, score=nan total time=   0.0s\n",
      "[CV 1/5] END .C=5, penalty=elasticnet, solver=sag;, score=nan total time=   0.0s\n",
      "[CV 2/5] END .C=5, penalty=elasticnet, solver=sag;, score=nan total time=   0.0s\n",
      "[CV 3/5] END .C=5, penalty=elasticnet, solver=sag;, score=nan total time=   0.0s\n",
      "[CV 4/5] END .C=5, penalty=elasticnet, solver=sag;, score=nan total time=   0.0s\n",
      "[CV 5/5] END .C=5, penalty=elasticnet, solver=sag;, score=nan total time=   0.0s\n",
      "[CV 1/5] END C=5, penalty=elasticnet, solver=saga;, score=nan total time=   0.0s\n",
      "[CV 2/5] END C=5, penalty=elasticnet, solver=saga;, score=nan total time=   0.0s\n",
      "[CV 3/5] END C=5, penalty=elasticnet, solver=saga;, score=nan total time=   0.0s\n",
      "[CV 4/5] END C=5, penalty=elasticnet, solver=saga;, score=nan total time=   0.0s\n",
      "[CV 5/5] END C=5, penalty=elasticnet, solver=saga;, score=nan total time=   0.0s\n",
      "[CV 1/5] END .C=5, penalty=none, solver=liblinear;, score=nan total time=   0.0s\n",
      "[CV 2/5] END .C=5, penalty=none, solver=liblinear;, score=nan total time=   0.0s\n",
      "[CV 3/5] END .C=5, penalty=none, solver=liblinear;, score=nan total time=   0.0s\n",
      "[CV 4/5] END .C=5, penalty=none, solver=liblinear;, score=nan total time=   0.0s\n",
      "[CV 5/5] END .C=5, penalty=none, solver=liblinear;, score=nan total time=   0.0s\n",
      "[CV 1/5] END C=5, penalty=none, solver=newton-cg;, score=0.694 total time=   0.1s\n",
      "[CV 2/5] END C=5, penalty=none, solver=newton-cg;, score=0.712 total time=   0.1s\n",
      "[CV 3/5] END C=5, penalty=none, solver=newton-cg;, score=0.717 total time=   0.1s\n",
      "[CV 4/5] END C=5, penalty=none, solver=newton-cg;, score=0.678 total time=   0.1s\n",
      "[CV 5/5] END C=5, penalty=none, solver=newton-cg;, score=0.707 total time=   0.1s\n",
      "[CV 1/5] END ...C=5, penalty=none, solver=lbfgs;, score=0.694 total time=   0.0s\n",
      "[CV 2/5] END ...C=5, penalty=none, solver=lbfgs;, score=0.712 total time=   0.0s\n",
      "[CV 3/5] END ...C=5, penalty=none, solver=lbfgs;, score=0.717 total time=   0.0s\n",
      "[CV 4/5] END ...C=5, penalty=none, solver=lbfgs;, score=0.678 total time=   0.0s\n",
      "[CV 5/5] END ...C=5, penalty=none, solver=lbfgs;, score=0.707 total time=   0.0s\n",
      "[CV 1/5] END .....C=5, penalty=none, solver=sag;, score=0.694 total time=   0.1s\n",
      "[CV 2/5] END .....C=5, penalty=none, solver=sag;, score=0.712 total time=   0.1s\n",
      "[CV 3/5] END .....C=5, penalty=none, solver=sag;, score=0.717 total time=   0.1s\n",
      "[CV 4/5] END .....C=5, penalty=none, solver=sag;, score=0.678 total time=   0.2s\n",
      "[CV 5/5] END .....C=5, penalty=none, solver=sag;, score=0.707 total time=   0.1s\n",
      "[CV 1/5] END ....C=5, penalty=none, solver=saga;, score=0.694 total time=   0.1s\n",
      "[CV 2/5] END ....C=5, penalty=none, solver=saga;, score=0.712 total time=   0.0s\n",
      "[CV 3/5] END ....C=5, penalty=none, solver=saga;, score=0.717 total time=   0.1s\n",
      "[CV 4/5] END ....C=5, penalty=none, solver=saga;, score=0.678 total time=   0.1s\n",
      "[CV 5/5] END ....C=5, penalty=none, solver=saga;, score=0.707 total time=   0.1s\n"
     ]
    },
    {
     "data": {
      "text/plain": [
       "GridSearchCV(cv=5, estimator=LogisticRegression(random_state=123),\n",
       "             param_grid={'C': [0.01, 0.05, 0.1, 0.5, 1, 5],\n",
       "                         'penalty': ['l1', 'l2', 'elasticnet', 'none'],\n",
       "                         'solver': ['liblinear', 'newton-cg', 'lbfgs', 'sag',\n",
       "                                    'saga']},\n",
       "             scoring='accuracy', verbose=3)"
      ]
     },
     "execution_count": 13,
     "metadata": {},
     "output_type": "execute_result"
    }
   ],
   "source": [
    "#Fitting Model lr grid\n",
    "lr_grid.fit(X_ros_clean, y_ros)"
   ]
  },
  {
   "cell_type": "code",
   "execution_count": 14,
   "id": "4a92c8f2",
   "metadata": {},
   "outputs": [
    {
     "name": "stdout",
     "output_type": "stream",
     "text": [
      "{'C': 0.01, 'penalty': 'l2', 'solver': 'newton-cg'}\n"
     ]
    }
   ],
   "source": [
    "#Melihat parameter terbaik untuk model\n",
    "print(lr_grid.best_params_)"
   ]
  },
  {
   "cell_type": "code",
   "execution_count": 15,
   "id": "b9880dc7",
   "metadata": {},
   "outputs": [
    {
     "data": {
      "text/plain": [
       "LogisticRegression(C=0.01, solver='newton-cg')"
      ]
     },
     "execution_count": 15,
     "metadata": {},
     "output_type": "execute_result"
    }
   ],
   "source": [
    "#Input parameter terbaik hasil GridsearchCV\n",
    "lr_grid_cv  = LogisticRegression(C = lr_grid.best_params_[\"C\"],\n",
    "                                 penalty = lr_grid.best_params_[\"penalty\"],\n",
    "                                 solver = lr_grid.best_params_[\"solver\"])\n",
    "\n",
    "#Kembali fitting model\n",
    "lr_grid_cv.fit(X_ros_clean, y_ros)"
   ]
  },
  {
   "cell_type": "code",
   "execution_count": 16,
   "id": "04bc001c",
   "metadata": {},
   "outputs": [
    {
     "name": "stdout",
     "output_type": "stream",
     "text": [
      "Training Data Score: 0.7066271551724138\n",
      "Validating Data Score: 0.6641666666666667\n",
      "Testing Data Score: 0.6816666666666666\n"
     ]
    }
   ],
   "source": [
    "print(f\"Training Data Score: {lr_grid_cv.score(X_ros_clean, y_ros)}\")\n",
    "print(f\"Validating Data Score: {lr_grid_cv.score(X_valid_clean, y_valid)}\")\n",
    "print(f\"Testing Data Score: {lr_grid_cv.score(X_test_clean, y_test)}\")"
   ]
  },
  {
   "cell_type": "code",
   "execution_count": 17,
   "id": "320c116e",
   "metadata": {},
   "outputs": [],
   "source": [
    "#Prediksi dengan menggunakan data test\n",
    "logregtun_pred = lr_grid_cv.predict(X_test_clean)"
   ]
  },
  {
   "cell_type": "code",
   "execution_count": 18,
   "id": "40c57422",
   "metadata": {},
   "outputs": [
    {
     "name": "stdout",
     "output_type": "stream",
     "text": [
      "              precision    recall  f1-score   support\n",
      "\n",
      "           0       0.92      0.65      0.76      1424\n",
      "           1       0.38      0.79      0.51       376\n",
      "\n",
      "    accuracy                           0.68      1800\n",
      "   macro avg       0.65      0.72      0.64      1800\n",
      "weighted avg       0.81      0.68      0.71      1800\n",
      "\n"
     ]
    }
   ],
   "source": [
    "#Melihat Classification report\n",
    "print(classification_report(y_test, logregtun_pred, labels=[0,1]))"
   ]
  },
  {
   "cell_type": "code",
   "execution_count": 19,
   "id": "b05523de",
   "metadata": {},
   "outputs": [
    {
     "data": {
      "image/png": "[encoded data removed]",
      "text/plain": [
       "<Figure size 432x288 with 2 Axes>"
      ]
     },
     "metadata": {
      "needs_background": "light"
     },
     "output_type": "display_data"
    }
   ],
   "source": [
    "ConfusionMatrixDisplay.from_predictions(y_test, logregtun_pred, display_labels = [False, True])\n",
    "plt.show()"
   ]
  },
  {
   "cell_type": "markdown",
   "id": "daaae6ea",
   "metadata": {},
   "source": [
    "## Support Vector Classifier"
   ]
  },
  {
   "cell_type": "code",
   "execution_count": 20,
   "id": "f37ae554",
   "metadata": {},
   "outputs": [],
   "source": [
    "svc_ori = SVC(random_state = 123)"
   ]
  },
  {
   "cell_type": "code",
   "execution_count": 21,
   "id": "7e5972f0",
   "metadata": {},
   "outputs": [
    {
     "data": {
      "text/plain": [
       "SVC(random_state=123)"
      ]
     },
     "execution_count": 21,
     "metadata": {},
     "output_type": "execute_result"
    }
   ],
   "source": [
    "# fit Support Vector Classifier\n",
    "svc_ori.fit(X_ros_clean, y_ros)"
   ]
  },
  {
   "cell_type": "code",
   "execution_count": 22,
   "id": "8efa2d89",
   "metadata": {},
   "outputs": [
    {
     "data": {
      "text/plain": [
       "0.8127693965517241"
      ]
     },
     "execution_count": 22,
     "metadata": {},
     "output_type": "execute_result"
    }
   ],
   "source": [
    "#Cek Score model SVC\n",
    "svc_ori.score(X_ros_clean, y_ros)"
   ]
  },
  {
   "cell_type": "code",
   "execution_count": 23,
   "id": "785d220f",
   "metadata": {},
   "outputs": [],
   "source": [
    "svc_predict = svc_ori.predict(X_test_clean)"
   ]
  },
  {
   "cell_type": "code",
   "execution_count": 24,
   "id": "4502ae72",
   "metadata": {},
   "outputs": [
    {
     "name": "stdout",
     "output_type": "stream",
     "text": [
      "              precision    recall  f1-score   support\n",
      "\n",
      "           0       0.94      0.78      0.85      1424\n",
      "           1       0.49      0.80      0.61       376\n",
      "\n",
      "    accuracy                           0.78      1800\n",
      "   macro avg       0.71      0.79      0.73      1800\n",
      "weighted avg       0.84      0.78      0.80      1800\n",
      "\n"
     ]
    }
   ],
   "source": [
    "print(classification_report(y_test, svc_predict, labels=[0,1]))"
   ]
  },
  {
   "cell_type": "code",
   "execution_count": 25,
   "id": "4698b4e0",
   "metadata": {},
   "outputs": [
    {
     "name": "stdout",
     "output_type": "stream",
     "text": [
      "Training Data Score: 0.8127693965517241\n",
      "Validating Data Score: 0.7641666666666667\n",
      "Testing Data Score: 0.7827777777777778\n"
     ]
    }
   ],
   "source": [
    "print(f\"Training Data Score: {svc_ori.score(X_ros_clean, y_ros)}\")\n",
    "print(f\"Validating Data Score: {svc_ori.score(X_valid_clean, y_valid)}\")\n",
    "print(f\"Testing Data Score: {svc_ori.score(X_test_clean, y_test)}\")"
   ]
  },
  {
   "cell_type": "markdown",
   "id": "73f34c94",
   "metadata": {},
   "source": [
    "## Tuning Parameter SVC"
   ]
  },
  {
   "cell_type": "code",
   "execution_count": 26,
   "id": "4a5cce8f",
   "metadata": {},
   "outputs": [],
   "source": [
    "# Create the GridSearchCV model\n",
    "# Create the GridSearch estimator along with a parameter object containing the values to adjust\n",
    "param_grid = {'kernel' : ['linear', 'rbf', 'poly', 'sigmoid'],\n",
    "              'C': [0.0005,0.001, 0.01, 0.1, 0.5],\n",
    "              'gamma': ['scale', 'auto']\n",
    "             }"
   ]
  },
  {
   "cell_type": "code",
   "execution_count": 27,
   "id": "be34b9d6",
   "metadata": {},
   "outputs": [],
   "source": [
    "#Membentuk parameter untuk eksperimentasi\n",
    "svc_grid = GridSearchCV(SVC(random_state = 123), \n",
    "                        param_grid, \n",
    "                        verbose=3, \n",
    "                        cv= 5, \n",
    "                        n_jobs=4, \n",
    "                        scoring='accuracy')"
   ]
  },
  {
   "cell_type": "code",
   "execution_count": 28,
   "id": "a9052cfb",
   "metadata": {},
   "outputs": [
    {
     "name": "stdout",
     "output_type": "stream",
     "text": [
      "Fitting 5 folds for each of 40 candidates, totalling 200 fits\n"
     ]
    },
    {
     "data": {
      "text/plain": [
       "GridSearchCV(cv=5, estimator=SVC(random_state=123), n_jobs=4,\n",
       "             param_grid={'C': [0.0005, 0.001, 0.01, 0.1, 0.5],\n",
       "                         'gamma': ['scale', 'auto'],\n",
       "                         'kernel': ['linear', 'rbf', 'poly', 'sigmoid']},\n",
       "             scoring='accuracy', verbose=3)"
      ]
     },
     "execution_count": 28,
     "metadata": {},
     "output_type": "execute_result"
    }
   ],
   "source": [
    "#Melakukan fitting model gridsearchcv\n",
    "svc_grid.fit(X_ros_clean, y_ros)"
   ]
  },
  {
   "cell_type": "code",
   "execution_count": 29,
   "id": "63db6cc5",
   "metadata": {},
   "outputs": [
    {
     "data": {
      "text/plain": [
       "{'C': 0.5, 'gamma': 'scale', 'kernel': 'rbf'}"
      ]
     },
     "execution_count": 29,
     "metadata": {},
     "output_type": "execute_result"
    }
   ],
   "source": [
    "#Melihat parameter terbaik\n",
    "svc_grid.best_params_"
   ]
  },
  {
   "cell_type": "code",
   "execution_count": 30,
   "id": "5b66aea3",
   "metadata": {},
   "outputs": [],
   "source": [
    "#Melakukan input parameter terbaik hasil gridsearch\n",
    "svc_grid_cv  = SVC(kernel = svc_grid.best_params_[\"kernel\"],\n",
    "                   gamma = svc_grid.best_params_[\"gamma\"],\n",
    "                   C = svc_grid.best_params_[\"C\"]\n",
    "                  )"
   ]
  },
  {
   "cell_type": "code",
   "execution_count": 31,
   "id": "9bde8497",
   "metadata": {},
   "outputs": [
    {
     "data": {
      "text/plain": [
       "SVC(C=0.5)"
      ]
     },
     "execution_count": 31,
     "metadata": {},
     "output_type": "execute_result"
    }
   ],
   "source": [
    "svc_grid_cv.fit(X_ros_clean, y_ros)"
   ]
  },
  {
   "cell_type": "code",
   "execution_count": 32,
   "id": "68a63388",
   "metadata": {},
   "outputs": [
    {
     "name": "stdout",
     "output_type": "stream",
     "text": [
      "Training Data Score: 0.8000179597701149\n",
      "Validating Data Score: 0.76\n",
      "Testing Data Score: 0.7811111111111111\n"
     ]
    }
   ],
   "source": [
    "print(f\"Training Data Score: {svc_grid_cv.score(X_ros_clean, y_ros)}\")\n",
    "print(f\"Validating Data Score: {svc_grid_cv.score(X_valid_clean, y_valid)}\")\n",
    "print(f\"Testing Data Score: {svc_grid_cv.score(X_test_clean, y_test)}\")"
   ]
  },
  {
   "cell_type": "code",
   "execution_count": 33,
   "id": "c9c89abb",
   "metadata": {},
   "outputs": [],
   "source": [
    "svc_pred_cv = svc_grid_cv.predict(X_test_clean)"
   ]
  },
  {
   "cell_type": "code",
   "execution_count": 34,
   "id": "080eea20",
   "metadata": {},
   "outputs": [
    {
     "name": "stdout",
     "output_type": "stream",
     "text": [
      "              precision    recall  f1-score   support\n",
      "\n",
      "           0       0.93      0.78      0.85      1424\n",
      "           1       0.49      0.80      0.60       376\n",
      "\n",
      "    accuracy                           0.78      1800\n",
      "   macro avg       0.71      0.79      0.73      1800\n",
      "weighted avg       0.84      0.78      0.80      1800\n",
      "\n"
     ]
    }
   ],
   "source": [
    "print(classification_report(y_test, svc_pred_cv, labels=[0,1]))"
   ]
  },
  {
   "cell_type": "code",
   "execution_count": 35,
   "id": "5581aa77",
   "metadata": {},
   "outputs": [
    {
     "data": {
      "image/png": "[encoded data removed]",
      "text/plain": [
       "<Figure size 432x288 with 2 Axes>"
      ]
     },
     "metadata": {
      "needs_background": "light"
     },
     "output_type": "display_data"
    }
   ],
   "source": [
    "ConfusionMatrixDisplay.from_predictions(y_test, svc_pred_cv, display_labels = [False, True])\n",
    "plt.show()"
   ]
  },
  {
   "cell_type": "markdown",
   "id": "79deb24d",
   "metadata": {},
   "source": [
    "## Decisiontree"
   ]
  },
  {
   "cell_type": "code",
   "execution_count": 36,
   "id": "74f9f5f1",
   "metadata": {},
   "outputs": [],
   "source": [
    "# Model Decision Tree\n",
    "decTree = DecisionTreeClassifier(random_state = 123)"
   ]
  },
  {
   "cell_type": "code",
   "execution_count": 37,
   "id": "3548416f",
   "metadata": {},
   "outputs": [
    {
     "data": {
      "text/plain": [
       "DecisionTreeClassifier(random_state=123)"
      ]
     },
     "execution_count": 37,
     "metadata": {},
     "output_type": "execute_result"
    }
   ],
   "source": [
    "# Fitting model\n",
    "decTree.fit(X_ros_clean, y_ros)"
   ]
  },
  {
   "cell_type": "code",
   "execution_count": 38,
   "id": "d5cf1799",
   "metadata": {},
   "outputs": [
    {
     "data": {
      "text/plain": [
       "1.0"
      ]
     },
     "execution_count": 38,
     "metadata": {},
     "output_type": "execute_result"
    }
   ],
   "source": [
    "# Model score\n",
    "decTree.score(X_ros_clean, y_ros)"
   ]
  },
  {
   "cell_type": "code",
   "execution_count": 39,
   "id": "ae23817d",
   "metadata": {},
   "outputs": [],
   "source": [
    "#Prediksi data menggunakan data test\n",
    "dectree_predict = decTree.predict(X_test_clean)"
   ]
  },
  {
   "cell_type": "code",
   "execution_count": 40,
   "id": "ca4890e7",
   "metadata": {},
   "outputs": [
    {
     "name": "stdout",
     "output_type": "stream",
     "text": [
      "              precision    recall  f1-score   support\n",
      "\n",
      "           0       0.88      0.86      0.87      1424\n",
      "           1       0.52      0.56      0.54       376\n",
      "\n",
      "    accuracy                           0.80      1800\n",
      "   macro avg       0.70      0.71      0.70      1800\n",
      "weighted avg       0.81      0.80      0.80      1800\n",
      "\n"
     ]
    }
   ],
   "source": [
    "#Melihat Classification report\n",
    "print(classification_report(y_test, dectree_predict, labels=[0,1]))"
   ]
  },
  {
   "cell_type": "code",
   "execution_count": 41,
   "id": "4517614b",
   "metadata": {},
   "outputs": [
    {
     "name": "stdout",
     "output_type": "stream",
     "text": [
      "Training Data Score: 1.0\n",
      "Validating Data Score: 0.7875\n",
      "Testing Data Score: 0.7994444444444444\n"
     ]
    }
   ],
   "source": [
    "#Melihat score prediksi dari data train, valid dan test\n",
    "print(f\"Training Data Score: {decTree.score(X_ros_clean, y_ros)}\")\n",
    "print(f\"Validating Data Score: {decTree.score(X_valid_clean, y_valid)}\")\n",
    "print(f\"Testing Data Score: {decTree.score(X_test_clean, y_test)}\")"
   ]
  },
  {
   "cell_type": "markdown",
   "id": "9065bb6e",
   "metadata": {},
   "source": [
    "## Tuning Parameter Decisiontree"
   ]
  },
  {
   "cell_type": "code",
   "execution_count": 42,
   "id": "1ab54d94",
   "metadata": {},
   "outputs": [],
   "source": [
    "# Buat parameter untuk eksperimen\n",
    "decTree_param = {\"max_depth\": [2, 3, 4, 5, 6, 7, 8, 9, 10, 11, 12],\n",
    "                \"criterion\": [\"gini\", \"entropy\", \"log_loss\"],\n",
    "                 'min_samples_split': [2, 5, 10],\n",
    "                 'min_samples_leaf': [1, 2, 4],}"
   ]
  },
  {
   "cell_type": "code",
   "execution_count": 43,
   "id": "0d3bd63c",
   "metadata": {},
   "outputs": [],
   "source": [
    "# Buat plan eksperimentasi\n",
    "random_decTree = GridSearchCV(estimator = DecisionTreeClassifier(random_state=123),\n",
    "                              param_grid = decTree_param,\n",
    "                              cv = 5,\n",
    "                              scoring = \"accuracy\") "
   ]
  },
  {
   "cell_type": "code",
   "execution_count": 44,
   "id": "9b5f70dc",
   "metadata": {},
   "outputs": [
    {
     "data": {
      "text/plain": [
       "GridSearchCV(cv=5, estimator=DecisionTreeClassifier(random_state=123),\n",
       "             param_grid={'criterion': ['gini', 'entropy', 'log_loss'],\n",
       "                         'max_depth': [2, 3, 4, 5, 6, 7, 8, 9, 10, 11, 12],\n",
       "                         'min_samples_leaf': [1, 2, 4],\n",
       "                         'min_samples_split': [2, 5, 10]},\n",
       "             scoring='accuracy')"
      ]
     },
     "execution_count": 44,
     "metadata": {},
     "output_type": "execute_result"
    }
   ],
   "source": [
    "# Lakukan fitting eksperimentasi\n",
    "random_decTree.fit(X_ros_clean, y_ros)"
   ]
  },
  {
   "cell_type": "code",
   "execution_count": 45,
   "id": "2ef9f9f2",
   "metadata": {},
   "outputs": [
    {
     "data": {
      "text/plain": [
       "{'criterion': 'gini',\n",
       " 'max_depth': 12,\n",
       " 'min_samples_leaf': 1,\n",
       " 'min_samples_split': 2}"
      ]
     },
     "execution_count": 45,
     "metadata": {},
     "output_type": "execute_result"
    }
   ],
   "source": [
    "random_decTree.best_params_"
   ]
  },
  {
   "cell_type": "code",
   "execution_count": 46,
   "id": "8b2fe9f7",
   "metadata": {},
   "outputs": [],
   "source": [
    "# Buat model\n",
    "best_decTree = DecisionTreeClassifier(max_depth = random_decTree.best_params_[\"max_depth\"],\n",
    "                                      criterion = random_decTree.best_params_[\"criterion\"],\n",
    "                                      min_samples_leaf = random_decTree.best_params_[\"min_samples_leaf\"],\n",
    "                                      min_samples_split = random_decTree.best_params_[\"min_samples_split\"],\n",
    "                                      random_state = 123)"
   ]
  },
  {
   "cell_type": "code",
   "execution_count": 47,
   "id": "ababef4d",
   "metadata": {},
   "outputs": [
    {
     "data": {
      "text/plain": [
       "DecisionTreeClassifier(max_depth=12, random_state=123)"
      ]
     },
     "execution_count": 47,
     "metadata": {},
     "output_type": "execute_result"
    }
   ],
   "source": [
    "# Fit model\n",
    "best_decTree.fit(X_ros_clean, y_ros)"
   ]
  },
  {
   "cell_type": "code",
   "execution_count": 48,
   "id": "c177c6e5",
   "metadata": {},
   "outputs": [
    {
     "data": {
      "text/plain": [
       "0.914691091954023"
      ]
     },
     "execution_count": 48,
     "metadata": {},
     "output_type": "execute_result"
    }
   ],
   "source": [
    "# Cek Train data\n",
    "best_decTree.score(X_ros_clean, y_ros)"
   ]
  },
  {
   "cell_type": "code",
   "execution_count": 49,
   "id": "806c86d4",
   "metadata": {},
   "outputs": [],
   "source": [
    "y_predict_dectree = best_decTree.predict(X_test_clean)"
   ]
  },
  {
   "cell_type": "code",
   "execution_count": 50,
   "id": "ddcb7b83",
   "metadata": {},
   "outputs": [
    {
     "name": "stdout",
     "output_type": "stream",
     "text": [
      "              precision    recall  f1-score   support\n",
      "\n",
      "           0       0.91      0.83      0.87      1424\n",
      "           1       0.51      0.68      0.58       376\n",
      "\n",
      "    accuracy                           0.80      1800\n",
      "   macro avg       0.71      0.75      0.72      1800\n",
      "weighted avg       0.82      0.80      0.81      1800\n",
      "\n"
     ]
    }
   ],
   "source": [
    "print(classification_report(y_test, y_predict_dectree))"
   ]
  },
  {
   "cell_type": "code",
   "execution_count": 51,
   "id": "511bb10a",
   "metadata": {},
   "outputs": [
    {
     "name": "stdout",
     "output_type": "stream",
     "text": [
      "Training Data Score: 0.914691091954023\n",
      "Validating Data Score: 0.7675\n",
      "Testing Data Score: 0.7961111111111111\n"
     ]
    }
   ],
   "source": [
    "print(f\"Training Data Score: {best_decTree.score(X_ros_clean, y_ros)}\")\n",
    "print(f\"Validating Data Score: {best_decTree.score(X_valid_clean, y_valid)}\")\n",
    "print(f\"Testing Data Score: {best_decTree.score(X_test_clean, y_test)}\")"
   ]
  },
  {
   "cell_type": "code",
   "execution_count": 52,
   "id": "053dc9ae",
   "metadata": {},
   "outputs": [
    {
     "data": {
      "image/png": "[encoded data removed]",
      "text/plain": [
       "<Figure size 432x288 with 2 Axes>"
      ]
     },
     "metadata": {
      "needs_background": "light"
     },
     "output_type": "display_data"
    }
   ],
   "source": [
    "ConfusionMatrixDisplay.from_predictions(y_test, y_predict_dectree, display_labels = [False, True])\n",
    "plt.show()"
   ]
  },
  {
   "cell_type": "markdown",
   "id": "2cbda651",
   "metadata": {},
   "source": [
    "## Randomforest Classifier"
   ]
  },
  {
   "cell_type": "code",
   "execution_count": 53,
   "id": "8efe5499",
   "metadata": {},
   "outputs": [],
   "source": [
    "# Build random forest\n",
    "random_forest = RandomForestClassifier(n_estimators = 100, \n",
    "                                       criterion = \"gini\",\n",
    "                                       max_features = \"sqrt\",\n",
    "                                       max_depth=6, \n",
    "                                       min_samples_leaf=8,\n",
    "                                       random_state = 123)"
   ]
  },
  {
   "cell_type": "code",
   "execution_count": 54,
   "id": "cf477876",
   "metadata": {},
   "outputs": [
    {
     "data": {
      "text/plain": [
       "RandomForestClassifier(max_depth=6, max_features='sqrt', min_samples_leaf=8,\n",
       "                       random_state=123)"
      ]
     },
     "execution_count": 54,
     "metadata": {},
     "output_type": "execute_result"
    }
   ],
   "source": [
    "random_forest.fit(X_ros_clean, y_ros)"
   ]
  },
  {
   "cell_type": "code",
   "execution_count": 55,
   "id": "1546432e",
   "metadata": {},
   "outputs": [
    {
     "data": {
      "text/plain": [
       "RandomForestClassifier(max_depth=6, max_features='sqrt', min_samples_leaf=8,\n",
       "                       random_state=123)"
      ]
     },
     "execution_count": 55,
     "metadata": {},
     "output_type": "execute_result"
    }
   ],
   "source": [
    "random_forest.fit(X_ros_clean, y_ros)"
   ]
  },
  {
   "cell_type": "code",
   "execution_count": 56,
   "id": "c3ab4316",
   "metadata": {},
   "outputs": [
    {
     "data": {
      "text/plain": [
       "0.7974137931034483"
      ]
     },
     "execution_count": 56,
     "metadata": {},
     "output_type": "execute_result"
    }
   ],
   "source": [
    "# Model score\n",
    "random_forest.score(X_ros_clean, y_ros)"
   ]
  },
  {
   "cell_type": "code",
   "execution_count": 57,
   "id": "6d402721",
   "metadata": {},
   "outputs": [],
   "source": [
    "y_pred_rf = random_forest.predict(X_test_clean)"
   ]
  },
  {
   "cell_type": "code",
   "execution_count": 58,
   "id": "fb158cff",
   "metadata": {},
   "outputs": [
    {
     "name": "stdout",
     "output_type": "stream",
     "text": [
      "              precision    recall  f1-score   support\n",
      "\n",
      "           0       0.93      0.78      0.85      1424\n",
      "           1       0.48      0.79      0.60       376\n",
      "\n",
      "    accuracy                           0.78      1800\n",
      "   macro avg       0.71      0.78      0.72      1800\n",
      "weighted avg       0.84      0.78      0.80      1800\n",
      "\n"
     ]
    }
   ],
   "source": [
    "print(classification_report(y_test, y_pred_rf, labels=[0,1]))"
   ]
  },
  {
   "cell_type": "code",
   "execution_count": 59,
   "id": "c48d7253",
   "metadata": {},
   "outputs": [
    {
     "data": {
      "image/png": "[encoded data removed]",
      "text/plain": [
       "<Figure size 432x288 with 2 Axes>"
      ]
     },
     "metadata": {
      "needs_background": "light"
     },
     "output_type": "display_data"
    }
   ],
   "source": [
    "ConfusionMatrixDisplay.from_predictions(y_test, y_pred_rf, display_labels = [False, True])\n",
    "plt.show()"
   ]
  },
  {
   "cell_type": "markdown",
   "id": "cb6847a3",
   "metadata": {},
   "source": [
    "## Tuning Parameter Randomforest"
   ]
  },
  {
   "cell_type": "code",
   "execution_count": 60,
   "id": "e2c75e9a",
   "metadata": {},
   "outputs": [],
   "source": [
    "# Buat parameter untuk eksperimen\n",
    "random_param = {\"max_depth\": [2, 3, 4, 5, 6, 7, 8, 9, 10, 11, 12],\n",
    "                'n_estimators': [50, 100, 200],\n",
    "                'min_samples_leaf': [1, 2, 4],\n",
    "                'min_samples_split': [2, 5, 10],\n",
    "                \"criterion\": [\"gini\", \"entropy\"]\n",
    "                }"
   ]
  },
  {
   "cell_type": "code",
   "execution_count": 61,
   "id": "09115e97",
   "metadata": {},
   "outputs": [],
   "source": [
    "# Buat plan eksperimentasi\n",
    "random_forestcls = GridSearchCV(estimator = RandomForestClassifier(random_state=123),\n",
    "                                param_grid = random_param,\n",
    "                                cv = 5,\n",
    "                                scoring = \"accuracy\") "
   ]
  },
  {
   "cell_type": "code",
   "execution_count": 62,
   "id": "94b45379",
   "metadata": {},
   "outputs": [
    {
     "data": {
      "text/plain": [
       "GridSearchCV(cv=5, estimator=RandomForestClassifier(random_state=123),\n",
       "             param_grid={'criterion': ['gini', 'entropy'],\n",
       "                         'max_depth': [2, 3, 4, 5, 6, 7, 8, 9, 10, 11, 12],\n",
       "                         'min_samples_leaf': [1, 2, 4],\n",
       "                         'min_samples_split': [2, 5, 10],\n",
       "                         'n_estimators': [50, 100, 200]},\n",
       "             scoring='accuracy')"
      ]
     },
     "execution_count": 62,
     "metadata": {},
     "output_type": "execute_result"
    }
   ],
   "source": [
    "# Lakukan fitting eksperimentasi\n",
    "random_forestcls.fit(X_ros_clean, y_ros)"
   ]
  },
  {
   "cell_type": "code",
   "execution_count": 63,
   "id": "18150242",
   "metadata": {},
   "outputs": [
    {
     "data": {
      "text/plain": [
       "{'criterion': 'gini',\n",
       " 'max_depth': 12,\n",
       " 'min_samples_leaf': 1,\n",
       " 'min_samples_split': 2,\n",
       " 'n_estimators': 200}"
      ]
     },
     "execution_count": 63,
     "metadata": {},
     "output_type": "execute_result"
    }
   ],
   "source": [
    "random_forestcls.best_params_"
   ]
  },
  {
   "cell_type": "code",
   "execution_count": 64,
   "id": "1fb62acf",
   "metadata": {},
   "outputs": [],
   "source": [
    "# Buat model\n",
    "random_forestcls_cv = RandomForestClassifier(max_depth = random_forestcls.best_params_[\"max_depth\"],\n",
    "                                             criterion = random_forestcls.best_params_[\"criterion\"],\n",
    "                                             n_estimators = random_forestcls.best_params_[\"n_estimators\"],\n",
    "                                             min_samples_leaf = random_forestcls.best_params_[\"min_samples_leaf\"],\n",
    "                                             min_samples_split = random_forestcls.best_params_[\"min_samples_split\"],\n",
    "                                             random_state = 123)"
   ]
  },
  {
   "cell_type": "code",
   "execution_count": 65,
   "id": "85a545bb",
   "metadata": {},
   "outputs": [
    {
     "data": {
      "text/plain": [
       "RandomForestClassifier(max_depth=12, n_estimators=200, random_state=123)"
      ]
     },
     "execution_count": 65,
     "metadata": {},
     "output_type": "execute_result"
    }
   ],
   "source": [
    "# Fit model\n",
    "random_forestcls_cv.fit(X_ros_clean, y_ros)"
   ]
  },
  {
   "cell_type": "code",
   "execution_count": 66,
   "id": "f06149f2",
   "metadata": {},
   "outputs": [],
   "source": [
    "predict_randomcls_cv = random_forestcls_cv.predict(X_test_clean)"
   ]
  },
  {
   "cell_type": "code",
   "execution_count": 67,
   "id": "9301df3d",
   "metadata": {},
   "outputs": [
    {
     "name": "stdout",
     "output_type": "stream",
     "text": [
      "              precision    recall  f1-score   support\n",
      "\n",
      "           0       0.92      0.87      0.89      1424\n",
      "           1       0.59      0.69      0.64       376\n",
      "\n",
      "    accuracy                           0.83      1800\n",
      "   macro avg       0.75      0.78      0.76      1800\n",
      "weighted avg       0.85      0.83      0.84      1800\n",
      "\n"
     ]
    }
   ],
   "source": [
    "print(classification_report(y_test, predict_randomcls_cv))"
   ]
  },
  {
   "cell_type": "code",
   "execution_count": 68,
   "id": "bc869783",
   "metadata": {},
   "outputs": [
    {
     "name": "stdout",
     "output_type": "stream",
     "text": [
      "Training Data Score: 0.9683010057471264\n",
      "Validating Data Score: 0.8341666666666666\n",
      "Testing Data Score: 0.8338888888888889\n"
     ]
    }
   ],
   "source": [
    "print(f\"Training Data Score: {random_forestcls_cv.score(X_ros_clean, y_ros)}\")\n",
    "print(f\"Validating Data Score: {random_forestcls_cv.score(X_valid_clean, y_valid)}\")\n",
    "print(f\"Testing Data Score: {random_forestcls_cv.score(X_test_clean, y_test)}\")"
   ]
  },
  {
   "cell_type": "code",
   "execution_count": 69,
   "id": "2701b799",
   "metadata": {},
   "outputs": [
    {
     "data": {
      "image/png": "[encoded data removed]",
      "text/plain": [
       "<Figure size 432x288 with 2 Axes>"
      ]
     },
     "metadata": {
      "needs_background": "light"
     },
     "output_type": "display_data"
    }
   ],
   "source": [
    "ConfusionMatrixDisplay.from_predictions(y_test, predict_randomcls_cv, display_labels = [False, True])\n",
    "plt.show()"
   ]
  },
  {
   "cell_type": "markdown",
   "id": "7a80e9aa",
   "metadata": {},
   "source": [
    "## Ridge Classifier"
   ]
  },
  {
   "cell_type": "code",
   "execution_count": 70,
   "id": "74676458",
   "metadata": {},
   "outputs": [],
   "source": [
    "ridge = RidgeClassifier(random_state = 123) #create a ridge classifier object"
   ]
  },
  {
   "cell_type": "code",
   "execution_count": 71,
   "id": "c0933097",
   "metadata": {},
   "outputs": [
    {
     "data": {
      "text/plain": [
       "RidgeClassifier(random_state=123)"
      ]
     },
     "execution_count": 71,
     "metadata": {},
     "output_type": "execute_result"
    }
   ],
   "source": [
    "ridge.fit(X_ros_clean, y_ros) #train the model"
   ]
  },
  {
   "cell_type": "code",
   "execution_count": 72,
   "id": "7358a04e",
   "metadata": {},
   "outputs": [
    {
     "data": {
      "text/plain": [
       "0.703753591954023"
      ]
     },
     "execution_count": 72,
     "metadata": {},
     "output_type": "execute_result"
    }
   ],
   "source": [
    "ridge.score(X_ros_clean, y_ros)"
   ]
  },
  {
   "cell_type": "code",
   "execution_count": 73,
   "id": "bfb5a9f6",
   "metadata": {},
   "outputs": [],
   "source": [
    "pred_ridge = ridge.predict(X_test_clean)"
   ]
  },
  {
   "cell_type": "code",
   "execution_count": 74,
   "id": "8c0b4605",
   "metadata": {},
   "outputs": [
    {
     "name": "stdout",
     "output_type": "stream",
     "text": [
      "              precision    recall  f1-score   support\n",
      "\n",
      "           0       0.92      0.66      0.77      1424\n",
      "           1       0.37      0.78      0.50       376\n",
      "\n",
      "    accuracy                           0.68      1800\n",
      "   macro avg       0.65      0.72      0.64      1800\n",
      "weighted avg       0.80      0.68      0.71      1800\n",
      "\n"
     ]
    }
   ],
   "source": [
    "print(classification_report(y_test, pred_ridge, labels=[0,1]))"
   ]
  },
  {
   "cell_type": "code",
   "execution_count": 75,
   "id": "8f5e1a3c",
   "metadata": {},
   "outputs": [
    {
     "name": "stdout",
     "output_type": "stream",
     "text": [
      "Training Data Score: 0.703753591954023\n",
      "Validating Data Score: 0.6683333333333333\n",
      "Testing Data Score: 0.6816666666666666\n"
     ]
    }
   ],
   "source": [
    "print(f\"Training Data Score: {ridge.score(X_ros_clean, y_ros)}\")\n",
    "print(f\"Validating Data Score: {ridge.score(X_valid_clean, y_valid)}\")\n",
    "print(f\"Testing Data Score: {ridge.score(X_test_clean, y_test)}\")"
   ]
  },
  {
   "cell_type": "markdown",
   "id": "c713e428",
   "metadata": {},
   "source": [
    "## Tuning Parameter Ridge Classifier"
   ]
  },
  {
   "cell_type": "code",
   "execution_count": 76,
   "id": "119490de",
   "metadata": {},
   "outputs": [],
   "source": [
    "clf_ridge = RidgeClassifier(random_state = 123)\n",
    "\n",
    "alpha = [0.1, 0.2, 0.3, 0.4, 0.5, 0.6, 0.7, 0.8, 0.9, 1.0]\n",
    "\n",
    "# define grid search\n",
    "grid = dict(alpha=alpha)\n",
    "\n",
    "cv = RepeatedStratifiedKFold(n_splits=10, n_repeats=3, random_state=1)\n",
    "\n",
    "ridge_cv = GridSearchCV(estimator=clf_ridge, param_grid=grid, n_jobs=-1, cv=cv, scoring='accuracy',error_score=0)"
   ]
  },
  {
   "cell_type": "code",
   "execution_count": 77,
   "id": "2fab865e",
   "metadata": {},
   "outputs": [
    {
     "data": {
      "text/plain": [
       "GridSearchCV(cv=RepeatedStratifiedKFold(n_repeats=3, n_splits=10, random_state=1),\n",
       "             error_score=0, estimator=RidgeClassifier(random_state=123),\n",
       "             n_jobs=-1,\n",
       "             param_grid={'alpha': [0.1, 0.2, 0.3, 0.4, 0.5, 0.6, 0.7, 0.8, 0.9,\n",
       "                                   1.0]},\n",
       "             scoring='accuracy')"
      ]
     },
     "execution_count": 77,
     "metadata": {},
     "output_type": "execute_result"
    }
   ],
   "source": [
    "ridge_cv.fit(X_ros_clean, y_ros)"
   ]
  },
  {
   "cell_type": "code",
   "execution_count": 78,
   "id": "bbe6a293",
   "metadata": {},
   "outputs": [
    {
     "data": {
      "text/plain": [
       "{'alpha': 0.1}"
      ]
     },
     "execution_count": 78,
     "metadata": {},
     "output_type": "execute_result"
    }
   ],
   "source": [
    "ridge_cv.best_params_"
   ]
  },
  {
   "cell_type": "code",
   "execution_count": 79,
   "id": "94d22dd4",
   "metadata": {},
   "outputs": [],
   "source": [
    "# Buat model\n",
    "ridge_cv = RidgeClassifier(alpha = ridge_cv.best_params_[\"alpha\"],\n",
    "                           random_state = 123)"
   ]
  },
  {
   "cell_type": "code",
   "execution_count": 80,
   "id": "6efc4cb4",
   "metadata": {},
   "outputs": [
    {
     "data": {
      "text/plain": [
       "RidgeClassifier(alpha=0.1, random_state=123)"
      ]
     },
     "execution_count": 80,
     "metadata": {},
     "output_type": "execute_result"
    }
   ],
   "source": [
    "# Fit model\n",
    "ridge_cv.fit(X_ros_clean, y_ros)"
   ]
  },
  {
   "cell_type": "code",
   "execution_count": 81,
   "id": "7b27526e",
   "metadata": {},
   "outputs": [
    {
     "data": {
      "text/plain": [
       "0.703753591954023"
      ]
     },
     "execution_count": 81,
     "metadata": {},
     "output_type": "execute_result"
    }
   ],
   "source": [
    "# Cek Test data\n",
    "ridge_cv.score(X_ros_clean, y_ros)"
   ]
  },
  {
   "cell_type": "code",
   "execution_count": 82,
   "id": "8994cd8f",
   "metadata": {},
   "outputs": [],
   "source": [
    "predict_ridgecv = ridge_cv.predict(X_test_clean)"
   ]
  },
  {
   "cell_type": "code",
   "execution_count": 83,
   "id": "9439c4d3",
   "metadata": {},
   "outputs": [
    {
     "name": "stdout",
     "output_type": "stream",
     "text": [
      "              precision    recall  f1-score   support\n",
      "\n",
      "           0       0.92      0.66      0.77      1424\n",
      "           1       0.37      0.78      0.50       376\n",
      "\n",
      "    accuracy                           0.68      1800\n",
      "   macro avg       0.65      0.72      0.64      1800\n",
      "weighted avg       0.80      0.68      0.71      1800\n",
      "\n"
     ]
    }
   ],
   "source": [
    "print(classification_report(y_test, predict_ridgecv))"
   ]
  },
  {
   "cell_type": "code",
   "execution_count": 84,
   "id": "61825b97",
   "metadata": {},
   "outputs": [
    {
     "name": "stdout",
     "output_type": "stream",
     "text": [
      "Training Data Score: 0.703753591954023\n",
      "Validating Data Score: 0.6683333333333333\n",
      "Testing Data Score: 0.6816666666666666\n"
     ]
    }
   ],
   "source": [
    "print(f\"Training Data Score: {ridge_cv.score(X_ros_clean, y_ros)}\")\n",
    "print(f\"Validating Data Score: {ridge_cv.score(X_valid_clean, y_valid)}\")\n",
    "print(f\"Testing Data Score: {ridge_cv.score(X_test_clean, y_test)}\")"
   ]
  },
  {
   "cell_type": "code",
   "execution_count": 85,
   "id": "e0237116",
   "metadata": {},
   "outputs": [
    {
     "data": {
      "image/png": "[encoded data removed]",
      "text/plain": [
       "<Figure size 432x288 with 2 Axes>"
      ]
     },
     "metadata": {
      "needs_background": "light"
     },
     "output_type": "display_data"
    }
   ],
   "source": [
    "ConfusionMatrixDisplay.from_predictions(y_test, predict_ridgecv, display_labels = [False, True])\n",
    "plt.show()"
   ]
  },
  {
   "cell_type": "markdown",
   "id": "5679aca7",
   "metadata": {},
   "source": [
    "## KNeighborsClassifier"
   ]
  },
  {
   "cell_type": "code",
   "execution_count": 86,
   "id": "c0ad2538",
   "metadata": {},
   "outputs": [],
   "source": [
    "# Build KNeighborsRegressor\n",
    "knn_awal = KNeighborsClassifier()"
   ]
  },
  {
   "cell_type": "code",
   "execution_count": 87,
   "id": "8ad7e571",
   "metadata": {},
   "outputs": [
    {
     "data": {
      "text/plain": [
       "KNeighborsClassifier()"
      ]
     },
     "execution_count": 87,
     "metadata": {},
     "output_type": "execute_result"
    }
   ],
   "source": [
    "# fit KNeighborsRegressor\n",
    "knn_awal.fit(X_ros_clean, y_ros)"
   ]
  },
  {
   "cell_type": "code",
   "execution_count": 88,
   "id": "cce792b4",
   "metadata": {},
   "outputs": [
    {
     "data": {
      "text/plain": [
       "0.8903556034482759"
      ]
     },
     "execution_count": 88,
     "metadata": {},
     "output_type": "execute_result"
    }
   ],
   "source": [
    "knn_awal.score(X_ros_clean, y_ros)"
   ]
  },
  {
   "cell_type": "code",
   "execution_count": 89,
   "id": "65c71a68",
   "metadata": {},
   "outputs": [],
   "source": [
    "knn_pred = knn_awal.predict(X_test_clean)"
   ]
  },
  {
   "cell_type": "code",
   "execution_count": 90,
   "id": "d340aa98",
   "metadata": {},
   "outputs": [
    {
     "name": "stdout",
     "output_type": "stream",
     "text": [
      "              precision    recall  f1-score   support\n",
      "\n",
      "           0       0.90      0.72      0.80      1424\n",
      "           1       0.40      0.69      0.51       376\n",
      "\n",
      "    accuracy                           0.72      1800\n",
      "   macro avg       0.65      0.71      0.65      1800\n",
      "weighted avg       0.79      0.72      0.74      1800\n",
      "\n"
     ]
    }
   ],
   "source": [
    "print(classification_report(y_test, knn_pred, labels=[0,1]))"
   ]
  },
  {
   "cell_type": "code",
   "execution_count": 91,
   "id": "0d35bc26",
   "metadata": {},
   "outputs": [
    {
     "name": "stdout",
     "output_type": "stream",
     "text": [
      "Training Data Score: 0.8903556034482759\n",
      "Validating Data Score: 0.7166666666666667\n",
      "Testing Data Score: 0.7166666666666667\n"
     ]
    }
   ],
   "source": [
    "print(f\"Training Data Score: {knn_awal.score(X_ros_clean, y_ros)}\")\n",
    "print(f\"Validating Data Score: {knn_awal.score(X_valid_clean, y_valid)}\")\n",
    "print(f\"Testing Data Score: {knn_awal.score(X_test_clean, y_test)}\")"
   ]
  },
  {
   "cell_type": "code",
   "execution_count": 92,
   "id": "b041cca5",
   "metadata": {},
   "outputs": [
    {
     "data": {
      "image/png": "[encoded data removed]",
      "text/plain": [
       "<Figure size 432x288 with 2 Axes>"
      ]
     },
     "metadata": {
      "needs_background": "light"
     },
     "output_type": "display_data"
    }
   ],
   "source": [
    "ConfusionMatrixDisplay.from_predictions(y_test, knn_pred, display_labels = [False, True])\n",
    "plt.show()"
   ]
  },
  {
   "cell_type": "markdown",
   "id": "60b87c42",
   "metadata": {},
   "source": [
    "## Tuning Parameter KNeighborsClassifier"
   ]
  },
  {
   "cell_type": "code",
   "execution_count": 93,
   "id": "61ad627f",
   "metadata": {},
   "outputs": [],
   "source": [
    "kn_param_grid = {\n",
    "    'n_neighbors' : [1, 2, 3, 4, 5, 6, 7, 8, 9, 10, 11, 12, 13, 14, 15, 16, 17, 18, 19, 20, 21, 22, 23, 24, 25, 26, 27, 28, 29, 30],\n",
    "    'weights' : ['uniform', 'distance'],\n",
    "    'algorithm' : ['auto', 'ball_tree', 'kd_tree', 'brute']\n",
    "}"
   ]
  },
  {
   "cell_type": "code",
   "execution_count": 94,
   "id": "c6423746",
   "metadata": {},
   "outputs": [],
   "source": [
    "knn = KNeighborsClassifier()"
   ]
  },
  {
   "cell_type": "code",
   "execution_count": 95,
   "id": "a18f4928",
   "metadata": {},
   "outputs": [],
   "source": [
    "kn_grid = GridSearchCV(knn, kn_param_grid, verbose=3, cv= 5, scoring='accuracy')"
   ]
  },
  {
   "cell_type": "code",
   "execution_count": 96,
   "id": "6004ed1b",
   "metadata": {},
   "outputs": [
    {
     "name": "stdout",
     "output_type": "stream",
     "text": [
      "Fitting 5 folds for each of 240 candidates, totalling 1200 fits\n",
      "[CV 1/5] END algorithm=auto, n_neighbors=1, weights=uniform;, score=0.911 total time=   0.1s\n",
      "[CV 2/5] END algorithm=auto, n_neighbors=1, weights=uniform;, score=0.921 total time=   0.1s\n",
      "[CV 3/5] END algorithm=auto, n_neighbors=1, weights=uniform;, score=0.939 total time=   0.1s\n",
      "[CV 4/5] END algorithm=auto, n_neighbors=1, weights=uniform;, score=0.922 total time=   0.1s\n",
      "[CV 5/5] END algorithm=auto, n_neighbors=1, weights=uniform;, score=0.929 total time=   0.1s\n",
      "[CV 1/5] END algorithm=auto, n_neighbors=1, weights=distance;, score=0.911 total time=   0.0s\n",
      "[CV 2/5] END algorithm=auto, n_neighbors=1, weights=distance;, score=0.921 total time=   0.0s\n",
      "[CV 3/5] END algorithm=auto, n_neighbors=1, weights=distance;, score=0.939 total time=   0.0s\n",
      "[CV 4/5] END algorithm=auto, n_neighbors=1, weights=distance;, score=0.922 total time=   0.0s\n",
      "[CV 5/5] END algorithm=auto, n_neighbors=1, weights=distance;, score=0.929 total time=   0.0s\n",
      "[CV 1/5] END algorithm=auto, n_neighbors=2, weights=uniform;, score=0.867 total time=   0.1s\n",
      "[CV 2/5] END algorithm=auto, n_neighbors=2, weights=uniform;, score=0.895 total time=   0.1s\n",
      "[CV 3/5] END algorithm=auto, n_neighbors=2, weights=uniform;, score=0.912 total time=   0.1s\n",
      "[CV 4/5] END algorithm=auto, n_neighbors=2, weights=uniform;, score=0.894 total time=   0.1s\n",
      "[CV 5/5] END algorithm=auto, n_neighbors=2, weights=uniform;, score=0.908 total time=   0.1s\n",
      "[CV 1/5] END algorithm=auto, n_neighbors=2, weights=distance;, score=0.911 total time=   0.0s\n",
      "[CV 2/5] END algorithm=auto, n_neighbors=2, weights=distance;, score=0.921 total time=   0.0s\n",
      "[CV 3/5] END algorithm=auto, n_neighbors=2, weights=distance;, score=0.939 total time=   0.0s\n",
      "[CV 4/5] END algorithm=auto, n_neighbors=2, weights=distance;, score=0.922 total time=   0.0s\n",
      "[CV 5/5] END algorithm=auto, n_neighbors=2, weights=distance;, score=0.929 total time=   0.0s\n",
      "[CV 1/5] END algorithm=auto, n_neighbors=3, weights=uniform;, score=0.837 total time=   0.1s\n",
      "[CV 2/5] END algorithm=auto, n_neighbors=3, weights=uniform;, score=0.859 total time=   0.1s\n",
      "[CV 3/5] END algorithm=auto, n_neighbors=3, weights=uniform;, score=0.876 total time=   0.1s\n",
      "[CV 4/5] END algorithm=auto, n_neighbors=3, weights=uniform;, score=0.855 total time=   0.1s\n",
      "[CV 5/5] END algorithm=auto, n_neighbors=3, weights=uniform;, score=0.855 total time=   0.1s\n",
      "[CV 1/5] END algorithm=auto, n_neighbors=3, weights=distance;, score=0.872 total time=   0.1s\n",
      "[CV 2/5] END algorithm=auto, n_neighbors=3, weights=distance;, score=0.885 total time=   0.1s\n",
      "[CV 3/5] END algorithm=auto, n_neighbors=3, weights=distance;, score=0.900 total time=   0.1s\n",
      "[CV 4/5] END algorithm=auto, n_neighbors=3, weights=distance;, score=0.880 total time=   0.1s\n",
      "[CV 5/5] END algorithm=auto, n_neighbors=3, weights=distance;, score=0.875 total time=   0.1s\n",
      "[CV 1/5] END algorithm=auto, n_neighbors=4, weights=uniform;, score=0.806 total time=   0.2s\n",
      "[CV 2/5] END algorithm=auto, n_neighbors=4, weights=uniform;, score=0.824 total time=   0.2s\n",
      "[CV 3/5] END algorithm=auto, n_neighbors=4, weights=uniform;, score=0.835 total time=   0.2s\n",
      "[CV 4/5] END algorithm=auto, n_neighbors=4, weights=uniform;, score=0.836 total time=   0.1s\n",
      "[CV 5/5] END algorithm=auto, n_neighbors=4, weights=uniform;, score=0.828 total time=   0.1s\n",
      "[CV 1/5] END algorithm=auto, n_neighbors=4, weights=distance;, score=0.877 total time=   0.1s\n",
      "[CV 2/5] END algorithm=auto, n_neighbors=4, weights=distance;, score=0.891 total time=   0.1s\n",
      "[CV 3/5] END algorithm=auto, n_neighbors=4, weights=distance;, score=0.902 total time=   0.1s\n",
      "[CV 4/5] END algorithm=auto, n_neighbors=4, weights=distance;, score=0.883 total time=   0.1s\n",
      "[CV 5/5] END algorithm=auto, n_neighbors=4, weights=distance;, score=0.882 total time=   0.1s\n",
      "[CV 1/5] END algorithm=auto, n_neighbors=5, weights=uniform;, score=0.790 total time=   0.2s\n",
      "[CV 2/5] END algorithm=auto, n_neighbors=5, weights=uniform;, score=0.802 total time=   0.2s\n",
      "[CV 3/5] END algorithm=auto, n_neighbors=5, weights=uniform;, score=0.827 total time=   0.2s\n",
      "[CV 4/5] END algorithm=auto, n_neighbors=5, weights=uniform;, score=0.812 total time=   0.2s\n",
      "[CV 5/5] END algorithm=auto, n_neighbors=5, weights=uniform;, score=0.806 total time=   0.2s\n",
      "[CV 1/5] END algorithm=auto, n_neighbors=5, weights=distance;, score=0.860 total time=   0.1s\n",
      "[CV 2/5] END algorithm=auto, n_neighbors=5, weights=distance;, score=0.864 total time=   0.1s\n",
      "[CV 3/5] END algorithm=auto, n_neighbors=5, weights=distance;, score=0.883 total time=   0.1s\n",
      "[CV 4/5] END algorithm=auto, n_neighbors=5, weights=distance;, score=0.865 total time=   0.1s\n",
      "[CV 5/5] END algorithm=auto, n_neighbors=5, weights=distance;, score=0.864 total time=   0.1s\n",
      "[CV 1/5] END algorithm=auto, n_neighbors=6, weights=uniform;, score=0.774 total time=   0.2s\n",
      "[CV 2/5] END algorithm=auto, n_neighbors=6, weights=uniform;, score=0.800 total time=   0.2s\n",
      "[CV 3/5] END algorithm=auto, n_neighbors=6, weights=uniform;, score=0.806 total time=   0.2s\n",
      "[CV 4/5] END algorithm=auto, n_neighbors=6, weights=uniform;, score=0.800 total time=   0.2s\n",
      "[CV 5/5] END algorithm=auto, n_neighbors=6, weights=uniform;, score=0.789 total time=   0.3s\n",
      "[CV 1/5] END algorithm=auto, n_neighbors=6, weights=distance;, score=0.866 total time=   0.3s\n",
      "[CV 2/5] END algorithm=auto, n_neighbors=6, weights=distance;, score=0.874 total time=   0.2s\n",
      "[CV 3/5] END algorithm=auto, n_neighbors=6, weights=distance;, score=0.895 total time=   0.2s\n",
      "[CV 4/5] END algorithm=auto, n_neighbors=6, weights=distance;, score=0.872 total time=   0.2s\n",
      "[CV 5/5] END algorithm=auto, n_neighbors=6, weights=distance;, score=0.874 total time=   0.2s\n",
      "[CV 1/5] END algorithm=auto, n_neighbors=7, weights=uniform;, score=0.775 total time=   0.2s\n",
      "[CV 2/5] END algorithm=auto, n_neighbors=7, weights=uniform;, score=0.789 total time=   0.2s\n",
      "[CV 3/5] END algorithm=auto, n_neighbors=7, weights=uniform;, score=0.801 total time=   0.2s\n",
      "[CV 4/5] END algorithm=auto, n_neighbors=7, weights=uniform;, score=0.798 total time=   0.2s\n",
      "[CV 5/5] END algorithm=auto, n_neighbors=7, weights=uniform;, score=0.789 total time=   0.2s\n",
      "[CV 1/5] END algorithm=auto, n_neighbors=7, weights=distance;, score=0.858 total time=   0.1s\n",
      "[CV 2/5] END algorithm=auto, n_neighbors=7, weights=distance;, score=0.867 total time=   0.1s\n",
      "[CV 3/5] END algorithm=auto, n_neighbors=7, weights=distance;, score=0.885 total time=   0.1s\n",
      "[CV 4/5] END algorithm=auto, n_neighbors=7, weights=distance;, score=0.864 total time=   0.1s\n",
      "[CV 5/5] END algorithm=auto, n_neighbors=7, weights=distance;, score=0.868 total time=   0.1s\n",
      "[CV 1/5] END algorithm=auto, n_neighbors=8, weights=uniform;, score=0.771 total time=   0.2s\n",
      "[CV 2/5] END algorithm=auto, n_neighbors=8, weights=uniform;, score=0.784 total time=   0.2s\n",
      "[CV 3/5] END algorithm=auto, n_neighbors=8, weights=uniform;, score=0.800 total time=   0.2s\n",
      "[CV 4/5] END algorithm=auto, n_neighbors=8, weights=uniform;, score=0.782 total time=   0.2s\n",
      "[CV 5/5] END algorithm=auto, n_neighbors=8, weights=uniform;, score=0.788 total time=   0.2s\n",
      "[CV 1/5] END algorithm=auto, n_neighbors=8, weights=distance;, score=0.864 total time=   0.2s\n",
      "[CV 2/5] END algorithm=auto, n_neighbors=8, weights=distance;, score=0.875 total time=   0.1s\n",
      "[CV 3/5] END algorithm=auto, n_neighbors=8, weights=distance;, score=0.892 total time=   0.2s\n",
      "[CV 4/5] END algorithm=auto, n_neighbors=8, weights=distance;, score=0.868 total time=   0.1s\n",
      "[CV 5/5] END algorithm=auto, n_neighbors=8, weights=distance;, score=0.878 total time=   0.2s\n",
      "[CV 1/5] END algorithm=auto, n_neighbors=9, weights=uniform;, score=0.769 total time=   0.3s\n",
      "[CV 2/5] END algorithm=auto, n_neighbors=9, weights=uniform;, score=0.784 total time=   0.2s\n",
      "[CV 3/5] END algorithm=auto, n_neighbors=9, weights=uniform;, score=0.803 total time=   0.2s\n",
      "[CV 4/5] END algorithm=auto, n_neighbors=9, weights=uniform;, score=0.771 total time=   0.3s\n",
      "[CV 5/5] END algorithm=auto, n_neighbors=9, weights=uniform;, score=0.799 total time=   0.2s\n",
      "[CV 1/5] END algorithm=auto, n_neighbors=9, weights=distance;, score=0.858 total time=   0.2s\n",
      "[CV 2/5] END algorithm=auto, n_neighbors=9, weights=distance;, score=0.874 total time=   0.2s\n"
     ]
    },
    {
     "name": "stdout",
     "output_type": "stream",
     "text": [
      "[CV 3/5] END algorithm=auto, n_neighbors=9, weights=distance;, score=0.884 total time=   0.2s\n",
      "[CV 4/5] END algorithm=auto, n_neighbors=9, weights=distance;, score=0.860 total time=   0.2s\n",
      "[CV 5/5] END algorithm=auto, n_neighbors=9, weights=distance;, score=0.879 total time=   0.2s\n",
      "[CV 1/5] END algorithm=auto, n_neighbors=10, weights=uniform;, score=0.769 total time=   0.2s\n",
      "[CV 2/5] END algorithm=auto, n_neighbors=10, weights=uniform;, score=0.791 total time=   0.2s\n",
      "[CV 3/5] END algorithm=auto, n_neighbors=10, weights=uniform;, score=0.801 total time=   0.2s\n",
      "[CV 4/5] END algorithm=auto, n_neighbors=10, weights=uniform;, score=0.770 total time=   0.2s\n",
      "[CV 5/5] END algorithm=auto, n_neighbors=10, weights=uniform;, score=0.788 total time=   0.2s\n",
      "[CV 1/5] END algorithm=auto, n_neighbors=10, weights=distance;, score=0.860 total time=   0.2s\n",
      "[CV 2/5] END algorithm=auto, n_neighbors=10, weights=distance;, score=0.883 total time=   0.2s\n",
      "[CV 3/5] END algorithm=auto, n_neighbors=10, weights=distance;, score=0.890 total time=   0.2s\n",
      "[CV 4/5] END algorithm=auto, n_neighbors=10, weights=distance;, score=0.860 total time=   0.2s\n",
      "[CV 5/5] END algorithm=auto, n_neighbors=10, weights=distance;, score=0.880 total time=   0.2s\n",
      "[CV 1/5] END algorithm=auto, n_neighbors=11, weights=uniform;, score=0.766 total time=   0.2s\n",
      "[CV 2/5] END algorithm=auto, n_neighbors=11, weights=uniform;, score=0.784 total time=   0.2s\n",
      "[CV 3/5] END algorithm=auto, n_neighbors=11, weights=uniform;, score=0.802 total time=   0.3s\n",
      "[CV 4/5] END algorithm=auto, n_neighbors=11, weights=uniform;, score=0.762 total time=   0.2s\n",
      "[CV 5/5] END algorithm=auto, n_neighbors=11, weights=uniform;, score=0.788 total time=   0.2s\n",
      "[CV 1/5] END algorithm=auto, n_neighbors=11, weights=distance;, score=0.863 total time=   0.2s\n",
      "[CV 2/5] END algorithm=auto, n_neighbors=11, weights=distance;, score=0.877 total time=   0.2s\n",
      "[CV 3/5] END algorithm=auto, n_neighbors=11, weights=distance;, score=0.890 total time=   0.2s\n",
      "[CV 4/5] END algorithm=auto, n_neighbors=11, weights=distance;, score=0.858 total time=   0.2s\n",
      "[CV 5/5] END algorithm=auto, n_neighbors=11, weights=distance;, score=0.877 total time=   0.2s\n",
      "[CV 1/5] END algorithm=auto, n_neighbors=12, weights=uniform;, score=0.760 total time=   0.2s\n",
      "[CV 2/5] END algorithm=auto, n_neighbors=12, weights=uniform;, score=0.775 total time=   0.2s\n",
      "[CV 3/5] END algorithm=auto, n_neighbors=12, weights=uniform;, score=0.785 total time=   0.2s\n",
      "[CV 4/5] END algorithm=auto, n_neighbors=12, weights=uniform;, score=0.764 total time=   0.3s\n",
      "[CV 5/5] END algorithm=auto, n_neighbors=12, weights=uniform;, score=0.788 total time=   0.3s\n",
      "[CV 1/5] END algorithm=auto, n_neighbors=12, weights=distance;, score=0.866 total time=   0.2s\n",
      "[CV 2/5] END algorithm=auto, n_neighbors=12, weights=distance;, score=0.878 total time=   0.2s\n",
      "[CV 3/5] END algorithm=auto, n_neighbors=12, weights=distance;, score=0.894 total time=   0.2s\n",
      "[CV 4/5] END algorithm=auto, n_neighbors=12, weights=distance;, score=0.863 total time=   0.2s\n",
      "[CV 5/5] END algorithm=auto, n_neighbors=12, weights=distance;, score=0.876 total time=   0.2s\n",
      "[CV 1/5] END algorithm=auto, n_neighbors=13, weights=uniform;, score=0.763 total time=   0.3s\n",
      "[CV 2/5] END algorithm=auto, n_neighbors=13, weights=uniform;, score=0.773 total time=   0.3s\n",
      "[CV 3/5] END algorithm=auto, n_neighbors=13, weights=uniform;, score=0.787 total time=   0.3s\n",
      "[CV 4/5] END algorithm=auto, n_neighbors=13, weights=uniform;, score=0.763 total time=   0.3s\n",
      "[CV 5/5] END algorithm=auto, n_neighbors=13, weights=uniform;, score=0.792 total time=   0.3s\n",
      "[CV 1/5] END algorithm=auto, n_neighbors=13, weights=distance;, score=0.867 total time=   0.2s\n",
      "[CV 2/5] END algorithm=auto, n_neighbors=13, weights=distance;, score=0.877 total time=   0.2s\n",
      "[CV 3/5] END algorithm=auto, n_neighbors=13, weights=distance;, score=0.889 total time=   0.2s\n",
      "[CV 4/5] END algorithm=auto, n_neighbors=13, weights=distance;, score=0.866 total time=   0.2s\n",
      "[CV 5/5] END algorithm=auto, n_neighbors=13, weights=distance;, score=0.876 total time=   0.2s\n",
      "[CV 1/5] END algorithm=auto, n_neighbors=14, weights=uniform;, score=0.757 total time=   0.3s\n",
      "[CV 2/5] END algorithm=auto, n_neighbors=14, weights=uniform;, score=0.771 total time=   0.3s\n",
      "[CV 3/5] END algorithm=auto, n_neighbors=14, weights=uniform;, score=0.788 total time=   0.3s\n",
      "[CV 4/5] END algorithm=auto, n_neighbors=14, weights=uniform;, score=0.759 total time=   0.3s\n",
      "[CV 5/5] END algorithm=auto, n_neighbors=14, weights=uniform;, score=0.779 total time=   0.3s\n",
      "[CV 1/5] END algorithm=auto, n_neighbors=14, weights=distance;, score=0.870 total time=   0.2s\n",
      "[CV 2/5] END algorithm=auto, n_neighbors=14, weights=distance;, score=0.881 total time=   0.2s\n",
      "[CV 3/5] END algorithm=auto, n_neighbors=14, weights=distance;, score=0.891 total time=   0.2s\n",
      "[CV 4/5] END algorithm=auto, n_neighbors=14, weights=distance;, score=0.866 total time=   0.2s\n",
      "[CV 5/5] END algorithm=auto, n_neighbors=14, weights=distance;, score=0.881 total time=   0.2s\n",
      "[CV 1/5] END algorithm=auto, n_neighbors=15, weights=uniform;, score=0.758 total time=   0.3s\n",
      "[CV 2/5] END algorithm=auto, n_neighbors=15, weights=uniform;, score=0.770 total time=   0.3s\n",
      "[CV 3/5] END algorithm=auto, n_neighbors=15, weights=uniform;, score=0.792 total time=   0.3s\n",
      "[CV 4/5] END algorithm=auto, n_neighbors=15, weights=uniform;, score=0.754 total time=   0.3s\n",
      "[CV 5/5] END algorithm=auto, n_neighbors=15, weights=uniform;, score=0.773 total time=   0.3s\n",
      "[CV 1/5] END algorithm=auto, n_neighbors=15, weights=distance;, score=0.864 total time=   0.2s\n",
      "[CV 2/5] END algorithm=auto, n_neighbors=15, weights=distance;, score=0.879 total time=   0.2s\n",
      "[CV 3/5] END algorithm=auto, n_neighbors=15, weights=distance;, score=0.892 total time=   0.2s\n",
      "[CV 4/5] END algorithm=auto, n_neighbors=15, weights=distance;, score=0.865 total time=   0.2s\n",
      "[CV 5/5] END algorithm=auto, n_neighbors=15, weights=distance;, score=0.880 total time=   0.2s\n",
      "[CV 1/5] END algorithm=auto, n_neighbors=16, weights=uniform;, score=0.754 total time=   0.3s\n",
      "[CV 2/5] END algorithm=auto, n_neighbors=16, weights=uniform;, score=0.766 total time=   0.3s\n",
      "[CV 3/5] END algorithm=auto, n_neighbors=16, weights=uniform;, score=0.782 total time=   0.3s\n",
      "[CV 4/5] END algorithm=auto, n_neighbors=16, weights=uniform;, score=0.756 total time=   0.3s\n",
      "[CV 5/5] END algorithm=auto, n_neighbors=16, weights=uniform;, score=0.780 total time=   0.3s\n",
      "[CV 1/5] END algorithm=auto, n_neighbors=16, weights=distance;, score=0.865 total time=   0.2s\n",
      "[CV 2/5] END algorithm=auto, n_neighbors=16, weights=distance;, score=0.879 total time=   0.2s\n",
      "[CV 3/5] END algorithm=auto, n_neighbors=16, weights=distance;, score=0.899 total time=   0.2s\n",
      "[CV 4/5] END algorithm=auto, n_neighbors=16, weights=distance;, score=0.865 total time=   0.2s\n",
      "[CV 5/5] END algorithm=auto, n_neighbors=16, weights=distance;, score=0.880 total time=   0.2s\n",
      "[CV 1/5] END algorithm=auto, n_neighbors=17, weights=uniform;, score=0.755 total time=   0.3s\n",
      "[CV 2/5] END algorithm=auto, n_neighbors=17, weights=uniform;, score=0.765 total time=   0.3s\n",
      "[CV 3/5] END algorithm=auto, n_neighbors=17, weights=uniform;, score=0.782 total time=   0.3s\n",
      "[CV 4/5] END algorithm=auto, n_neighbors=17, weights=uniform;, score=0.754 total time=   0.3s\n",
      "[CV 5/5] END algorithm=auto, n_neighbors=17, weights=uniform;, score=0.783 total time=   0.3s\n",
      "[CV 1/5] END algorithm=auto, n_neighbors=17, weights=distance;, score=0.863 total time=   0.2s\n",
      "[CV 2/5] END algorithm=auto, n_neighbors=17, weights=distance;, score=0.883 total time=   0.2s\n",
      "[CV 3/5] END algorithm=auto, n_neighbors=17, weights=distance;, score=0.896 total time=   0.2s\n",
      "[CV 4/5] END algorithm=auto, n_neighbors=17, weights=distance;, score=0.864 total time=   0.2s\n",
      "[CV 5/5] END algorithm=auto, n_neighbors=17, weights=distance;, score=0.881 total time=   0.2s\n",
      "[CV 1/5] END algorithm=auto, n_neighbors=18, weights=uniform;, score=0.754 total time=   0.3s\n",
      "[CV 2/5] END algorithm=auto, n_neighbors=18, weights=uniform;, score=0.766 total time=   0.3s\n",
      "[CV 3/5] END algorithm=auto, n_neighbors=18, weights=uniform;, score=0.781 total time=   0.3s\n",
      "[CV 4/5] END algorithm=auto, n_neighbors=18, weights=uniform;, score=0.750 total time=   0.3s\n"
     ]
    },
    {
     "name": "stdout",
     "output_type": "stream",
     "text": [
      "[CV 5/5] END algorithm=auto, n_neighbors=18, weights=uniform;, score=0.777 total time=   0.3s\n",
      "[CV 1/5] END algorithm=auto, n_neighbors=18, weights=distance;, score=0.862 total time=   0.2s\n",
      "[CV 2/5] END algorithm=auto, n_neighbors=18, weights=distance;, score=0.885 total time=   0.2s\n",
      "[CV 3/5] END algorithm=auto, n_neighbors=18, weights=distance;, score=0.895 total time=   0.2s\n",
      "[CV 4/5] END algorithm=auto, n_neighbors=18, weights=distance;, score=0.867 total time=   0.2s\n",
      "[CV 5/5] END algorithm=auto, n_neighbors=18, weights=distance;, score=0.881 total time=   0.2s\n",
      "[CV 1/5] END algorithm=auto, n_neighbors=19, weights=uniform;, score=0.752 total time=   0.3s\n",
      "[CV 2/5] END algorithm=auto, n_neighbors=19, weights=uniform;, score=0.768 total time=   0.3s\n",
      "[CV 3/5] END algorithm=auto, n_neighbors=19, weights=uniform;, score=0.781 total time=   0.3s\n",
      "[CV 4/5] END algorithm=auto, n_neighbors=19, weights=uniform;, score=0.758 total time=   0.3s\n",
      "[CV 5/5] END algorithm=auto, n_neighbors=19, weights=uniform;, score=0.780 total time=   0.3s\n",
      "[CV 1/5] END algorithm=auto, n_neighbors=19, weights=distance;, score=0.864 total time=   0.2s\n",
      "[CV 2/5] END algorithm=auto, n_neighbors=19, weights=distance;, score=0.886 total time=   0.2s\n",
      "[CV 3/5] END algorithm=auto, n_neighbors=19, weights=distance;, score=0.894 total time=   0.2s\n",
      "[CV 4/5] END algorithm=auto, n_neighbors=19, weights=distance;, score=0.865 total time=   0.2s\n",
      "[CV 5/5] END algorithm=auto, n_neighbors=19, weights=distance;, score=0.878 total time=   0.2s\n",
      "[CV 1/5] END algorithm=auto, n_neighbors=20, weights=uniform;, score=0.749 total time=   0.3s\n",
      "[CV 2/5] END algorithm=auto, n_neighbors=20, weights=uniform;, score=0.765 total time=   0.3s\n",
      "[CV 3/5] END algorithm=auto, n_neighbors=20, weights=uniform;, score=0.774 total time=   0.3s\n",
      "[CV 4/5] END algorithm=auto, n_neighbors=20, weights=uniform;, score=0.753 total time=   0.3s\n",
      "[CV 5/5] END algorithm=auto, n_neighbors=20, weights=uniform;, score=0.775 total time=   0.3s\n",
      "[CV 1/5] END algorithm=auto, n_neighbors=20, weights=distance;, score=0.864 total time=   0.2s\n",
      "[CV 2/5] END algorithm=auto, n_neighbors=20, weights=distance;, score=0.888 total time=   0.2s\n",
      "[CV 3/5] END algorithm=auto, n_neighbors=20, weights=distance;, score=0.892 total time=   0.2s\n",
      "[CV 4/5] END algorithm=auto, n_neighbors=20, weights=distance;, score=0.868 total time=   0.2s\n",
      "[CV 5/5] END algorithm=auto, n_neighbors=20, weights=distance;, score=0.879 total time=   0.2s\n",
      "[CV 1/5] END algorithm=auto, n_neighbors=21, weights=uniform;, score=0.753 total time=   0.3s\n",
      "[CV 2/5] END algorithm=auto, n_neighbors=21, weights=uniform;, score=0.768 total time=   0.4s\n",
      "[CV 3/5] END algorithm=auto, n_neighbors=21, weights=uniform;, score=0.776 total time=   0.4s\n",
      "[CV 4/5] END algorithm=auto, n_neighbors=21, weights=uniform;, score=0.749 total time=   0.3s\n",
      "[CV 5/5] END algorithm=auto, n_neighbors=21, weights=uniform;, score=0.769 total time=   0.3s\n",
      "[CV 1/5] END algorithm=auto, n_neighbors=21, weights=distance;, score=0.866 total time=   0.3s\n",
      "[CV 2/5] END algorithm=auto, n_neighbors=21, weights=distance;, score=0.885 total time=   0.2s\n",
      "[CV 3/5] END algorithm=auto, n_neighbors=21, weights=distance;, score=0.889 total time=   0.3s\n",
      "[CV 4/5] END algorithm=auto, n_neighbors=21, weights=distance;, score=0.867 total time=   0.2s\n",
      "[CV 5/5] END algorithm=auto, n_neighbors=21, weights=distance;, score=0.878 total time=   0.2s\n",
      "[CV 1/5] END algorithm=auto, n_neighbors=22, weights=uniform;, score=0.748 total time=   0.3s\n",
      "[CV 2/5] END algorithm=auto, n_neighbors=22, weights=uniform;, score=0.766 total time=   0.3s\n",
      "[CV 3/5] END algorithm=auto, n_neighbors=22, weights=uniform;, score=0.781 total time=   0.3s\n",
      "[CV 4/5] END algorithm=auto, n_neighbors=22, weights=uniform;, score=0.754 total time=   0.3s\n",
      "[CV 5/5] END algorithm=auto, n_neighbors=22, weights=uniform;, score=0.773 total time=   0.3s\n",
      "[CV 1/5] END algorithm=auto, n_neighbors=22, weights=distance;, score=0.865 total time=   0.3s\n",
      "[CV 2/5] END algorithm=auto, n_neighbors=22, weights=distance;, score=0.885 total time=   0.3s\n",
      "[CV 3/5] END algorithm=auto, n_neighbors=22, weights=distance;, score=0.890 total time=   0.3s\n",
      "[CV 4/5] END algorithm=auto, n_neighbors=22, weights=distance;, score=0.866 total time=   0.2s\n",
      "[CV 5/5] END algorithm=auto, n_neighbors=22, weights=distance;, score=0.878 total time=   0.3s\n",
      "[CV 1/5] END algorithm=auto, n_neighbors=23, weights=uniform;, score=0.747 total time=   0.3s\n",
      "[CV 2/5] END algorithm=auto, n_neighbors=23, weights=uniform;, score=0.765 total time=   0.3s\n",
      "[CV 3/5] END algorithm=auto, n_neighbors=23, weights=uniform;, score=0.781 total time=   0.3s\n",
      "[CV 4/5] END algorithm=auto, n_neighbors=23, weights=uniform;, score=0.754 total time=   0.3s\n",
      "[CV 5/5] END algorithm=auto, n_neighbors=23, weights=uniform;, score=0.770 total time=   0.3s\n",
      "[CV 1/5] END algorithm=auto, n_neighbors=23, weights=distance;, score=0.859 total time=   0.3s\n",
      "[CV 2/5] END algorithm=auto, n_neighbors=23, weights=distance;, score=0.882 total time=   0.3s\n",
      "[CV 3/5] END algorithm=auto, n_neighbors=23, weights=distance;, score=0.894 total time=   0.3s\n",
      "[CV 4/5] END algorithm=auto, n_neighbors=23, weights=distance;, score=0.866 total time=   0.3s\n",
      "[CV 5/5] END algorithm=auto, n_neighbors=23, weights=distance;, score=0.876 total time=   0.3s\n",
      "[CV 1/5] END algorithm=auto, n_neighbors=24, weights=uniform;, score=0.744 total time=   0.3s\n",
      "[CV 2/5] END algorithm=auto, n_neighbors=24, weights=uniform;, score=0.761 total time=   0.3s\n",
      "[CV 3/5] END algorithm=auto, n_neighbors=24, weights=uniform;, score=0.779 total time=   0.3s\n",
      "[CV 4/5] END algorithm=auto, n_neighbors=24, weights=uniform;, score=0.760 total time=   0.3s\n",
      "[CV 5/5] END algorithm=auto, n_neighbors=24, weights=uniform;, score=0.772 total time=   0.3s\n",
      "[CV 1/5] END algorithm=auto, n_neighbors=24, weights=distance;, score=0.859 total time=   0.4s\n",
      "[CV 2/5] END algorithm=auto, n_neighbors=24, weights=distance;, score=0.885 total time=   0.4s\n",
      "[CV 3/5] END algorithm=auto, n_neighbors=24, weights=distance;, score=0.892 total time=   0.3s\n",
      "[CV 4/5] END algorithm=auto, n_neighbors=24, weights=distance;, score=0.868 total time=   0.3s\n",
      "[CV 5/5] END algorithm=auto, n_neighbors=24, weights=distance;, score=0.880 total time=   0.3s\n",
      "[CV 1/5] END algorithm=auto, n_neighbors=25, weights=uniform;, score=0.743 total time=   0.3s\n",
      "[CV 2/5] END algorithm=auto, n_neighbors=25, weights=uniform;, score=0.768 total time=   0.3s\n",
      "[CV 3/5] END algorithm=auto, n_neighbors=25, weights=uniform;, score=0.780 total time=   0.3s\n",
      "[CV 4/5] END algorithm=auto, n_neighbors=25, weights=uniform;, score=0.757 total time=   0.3s\n",
      "[CV 5/5] END algorithm=auto, n_neighbors=25, weights=uniform;, score=0.773 total time=   0.4s\n",
      "[CV 1/5] END algorithm=auto, n_neighbors=25, weights=distance;, score=0.859 total time=   0.3s\n",
      "[CV 2/5] END algorithm=auto, n_neighbors=25, weights=distance;, score=0.884 total time=   0.3s\n",
      "[CV 3/5] END algorithm=auto, n_neighbors=25, weights=distance;, score=0.893 total time=   0.3s\n",
      "[CV 4/5] END algorithm=auto, n_neighbors=25, weights=distance;, score=0.868 total time=   0.3s\n",
      "[CV 5/5] END algorithm=auto, n_neighbors=25, weights=distance;, score=0.881 total time=   0.3s\n",
      "[CV 1/5] END algorithm=auto, n_neighbors=26, weights=uniform;, score=0.746 total time=   0.3s\n",
      "[CV 2/5] END algorithm=auto, n_neighbors=26, weights=uniform;, score=0.767 total time=   0.3s\n",
      "[CV 3/5] END algorithm=auto, n_neighbors=26, weights=uniform;, score=0.784 total time=   0.3s\n",
      "[CV 4/5] END algorithm=auto, n_neighbors=26, weights=uniform;, score=0.754 total time=   0.3s\n",
      "[CV 5/5] END algorithm=auto, n_neighbors=26, weights=uniform;, score=0.772 total time=   0.3s\n",
      "[CV 1/5] END algorithm=auto, n_neighbors=26, weights=distance;, score=0.859 total time=   0.3s\n",
      "[CV 2/5] END algorithm=auto, n_neighbors=26, weights=distance;, score=0.884 total time=   0.3s\n",
      "[CV 3/5] END algorithm=auto, n_neighbors=26, weights=distance;, score=0.894 total time=   0.3s\n",
      "[CV 4/5] END algorithm=auto, n_neighbors=26, weights=distance;, score=0.869 total time=   0.3s\n",
      "[CV 5/5] END algorithm=auto, n_neighbors=26, weights=distance;, score=0.881 total time=   0.3s\n",
      "[CV 1/5] END algorithm=auto, n_neighbors=27, weights=uniform;, score=0.751 total time=   0.3s\n"
     ]
    },
    {
     "name": "stdout",
     "output_type": "stream",
     "text": [
      "[CV 2/5] END algorithm=auto, n_neighbors=27, weights=uniform;, score=0.767 total time=   0.3s\n",
      "[CV 3/5] END algorithm=auto, n_neighbors=27, weights=uniform;, score=0.784 total time=   0.3s\n",
      "[CV 4/5] END algorithm=auto, n_neighbors=27, weights=uniform;, score=0.753 total time=   0.3s\n",
      "[CV 5/5] END algorithm=auto, n_neighbors=27, weights=uniform;, score=0.773 total time=   0.3s\n",
      "[CV 1/5] END algorithm=auto, n_neighbors=27, weights=distance;, score=0.862 total time=   0.3s\n",
      "[CV 2/5] END algorithm=auto, n_neighbors=27, weights=distance;, score=0.886 total time=   0.3s\n",
      "[CV 3/5] END algorithm=auto, n_neighbors=27, weights=distance;, score=0.896 total time=   0.3s\n",
      "[CV 4/5] END algorithm=auto, n_neighbors=27, weights=distance;, score=0.870 total time=   0.3s\n",
      "[CV 5/5] END algorithm=auto, n_neighbors=27, weights=distance;, score=0.881 total time=   0.3s\n",
      "[CV 1/5] END algorithm=auto, n_neighbors=28, weights=uniform;, score=0.752 total time=   0.3s\n",
      "[CV 2/5] END algorithm=auto, n_neighbors=28, weights=uniform;, score=0.770 total time=   0.3s\n",
      "[CV 3/5] END algorithm=auto, n_neighbors=28, weights=uniform;, score=0.777 total time=   0.3s\n",
      "[CV 4/5] END algorithm=auto, n_neighbors=28, weights=uniform;, score=0.752 total time=   0.3s\n",
      "[CV 5/5] END algorithm=auto, n_neighbors=28, weights=uniform;, score=0.776 total time=   0.4s\n",
      "[CV 1/5] END algorithm=auto, n_neighbors=28, weights=distance;, score=0.863 total time=   0.3s\n",
      "[CV 2/5] END algorithm=auto, n_neighbors=28, weights=distance;, score=0.890 total time=   0.3s\n",
      "[CV 3/5] END algorithm=auto, n_neighbors=28, weights=distance;, score=0.894 total time=   0.3s\n",
      "[CV 4/5] END algorithm=auto, n_neighbors=28, weights=distance;, score=0.869 total time=   0.4s\n",
      "[CV 5/5] END algorithm=auto, n_neighbors=28, weights=distance;, score=0.884 total time=   0.3s\n",
      "[CV 1/5] END algorithm=auto, n_neighbors=29, weights=uniform;, score=0.755 total time=   0.4s\n",
      "[CV 2/5] END algorithm=auto, n_neighbors=29, weights=uniform;, score=0.772 total time=   0.4s\n",
      "[CV 3/5] END algorithm=auto, n_neighbors=29, weights=uniform;, score=0.775 total time=   0.4s\n",
      "[CV 4/5] END algorithm=auto, n_neighbors=29, weights=uniform;, score=0.749 total time=   0.4s\n",
      "[CV 5/5] END algorithm=auto, n_neighbors=29, weights=uniform;, score=0.770 total time=   0.4s\n",
      "[CV 1/5] END algorithm=auto, n_neighbors=29, weights=distance;, score=0.866 total time=   0.3s\n",
      "[CV 2/5] END algorithm=auto, n_neighbors=29, weights=distance;, score=0.887 total time=   0.4s\n",
      "[CV 3/5] END algorithm=auto, n_neighbors=29, weights=distance;, score=0.895 total time=   0.3s\n",
      "[CV 4/5] END algorithm=auto, n_neighbors=29, weights=distance;, score=0.871 total time=   0.4s\n",
      "[CV 5/5] END algorithm=auto, n_neighbors=29, weights=distance;, score=0.881 total time=   0.3s\n",
      "[CV 1/5] END algorithm=auto, n_neighbors=30, weights=uniform;, score=0.750 total time=   0.4s\n",
      "[CV 2/5] END algorithm=auto, n_neighbors=30, weights=uniform;, score=0.771 total time=   0.4s\n",
      "[CV 3/5] END algorithm=auto, n_neighbors=30, weights=uniform;, score=0.777 total time=   0.3s\n",
      "[CV 4/5] END algorithm=auto, n_neighbors=30, weights=uniform;, score=0.751 total time=   0.3s\n",
      "[CV 5/5] END algorithm=auto, n_neighbors=30, weights=uniform;, score=0.767 total time=   0.3s\n",
      "[CV 1/5] END algorithm=auto, n_neighbors=30, weights=distance;, score=0.867 total time=   0.3s\n",
      "[CV 2/5] END algorithm=auto, n_neighbors=30, weights=distance;, score=0.888 total time=   0.3s\n",
      "[CV 3/5] END algorithm=auto, n_neighbors=30, weights=distance;, score=0.896 total time=   0.3s\n",
      "[CV 4/5] END algorithm=auto, n_neighbors=30, weights=distance;, score=0.870 total time=   0.3s\n",
      "[CV 5/5] END algorithm=auto, n_neighbors=30, weights=distance;, score=0.881 total time=   0.3s\n",
      "[CV 1/5] END algorithm=ball_tree, n_neighbors=1, weights=uniform;, score=0.911 total time=   0.4s\n",
      "[CV 2/5] END algorithm=ball_tree, n_neighbors=1, weights=uniform;, score=0.921 total time=   0.2s\n",
      "[CV 3/5] END algorithm=ball_tree, n_neighbors=1, weights=uniform;, score=0.939 total time=   0.2s\n",
      "[CV 4/5] END algorithm=ball_tree, n_neighbors=1, weights=uniform;, score=0.922 total time=   0.2s\n",
      "[CV 5/5] END algorithm=ball_tree, n_neighbors=1, weights=uniform;, score=0.929 total time=   0.2s\n",
      "[CV 1/5] END algorithm=ball_tree, n_neighbors=1, weights=distance;, score=0.911 total time=   0.2s\n",
      "[CV 2/5] END algorithm=ball_tree, n_neighbors=1, weights=distance;, score=0.921 total time=   0.2s\n",
      "[CV 3/5] END algorithm=ball_tree, n_neighbors=1, weights=distance;, score=0.939 total time=   0.2s\n",
      "[CV 4/5] END algorithm=ball_tree, n_neighbors=1, weights=distance;, score=0.922 total time=   0.2s\n",
      "[CV 5/5] END algorithm=ball_tree, n_neighbors=1, weights=distance;, score=0.929 total time=   0.2s\n",
      "[CV 1/5] END algorithm=ball_tree, n_neighbors=2, weights=uniform;, score=0.867 total time=   0.3s\n",
      "[CV 2/5] END algorithm=ball_tree, n_neighbors=2, weights=uniform;, score=0.895 total time=   0.3s\n",
      "[CV 3/5] END algorithm=ball_tree, n_neighbors=2, weights=uniform;, score=0.912 total time=   0.3s\n",
      "[CV 4/5] END algorithm=ball_tree, n_neighbors=2, weights=uniform;, score=0.894 total time=   0.3s\n",
      "[CV 5/5] END algorithm=ball_tree, n_neighbors=2, weights=uniform;, score=0.908 total time=   0.3s\n",
      "[CV 1/5] END algorithm=ball_tree, n_neighbors=2, weights=distance;, score=0.911 total time=   0.2s\n",
      "[CV 2/5] END algorithm=ball_tree, n_neighbors=2, weights=distance;, score=0.921 total time=   0.2s\n",
      "[CV 3/5] END algorithm=ball_tree, n_neighbors=2, weights=distance;, score=0.939 total time=   0.2s\n",
      "[CV 4/5] END algorithm=ball_tree, n_neighbors=2, weights=distance;, score=0.922 total time=   0.2s\n",
      "[CV 5/5] END algorithm=ball_tree, n_neighbors=2, weights=distance;, score=0.929 total time=   0.2s\n",
      "[CV 1/5] END algorithm=ball_tree, n_neighbors=3, weights=uniform;, score=0.837 total time=   0.3s\n",
      "[CV 2/5] END algorithm=ball_tree, n_neighbors=3, weights=uniform;, score=0.859 total time=   0.3s\n",
      "[CV 3/5] END algorithm=ball_tree, n_neighbors=3, weights=uniform;, score=0.876 total time=   0.3s\n",
      "[CV 4/5] END algorithm=ball_tree, n_neighbors=3, weights=uniform;, score=0.855 total time=   0.3s\n",
      "[CV 5/5] END algorithm=ball_tree, n_neighbors=3, weights=uniform;, score=0.855 total time=   0.3s\n",
      "[CV 1/5] END algorithm=ball_tree, n_neighbors=3, weights=distance;, score=0.872 total time=   0.2s\n",
      "[CV 2/5] END algorithm=ball_tree, n_neighbors=3, weights=distance;, score=0.885 total time=   0.2s\n",
      "[CV 3/5] END algorithm=ball_tree, n_neighbors=3, weights=distance;, score=0.900 total time=   0.2s\n",
      "[CV 4/5] END algorithm=ball_tree, n_neighbors=3, weights=distance;, score=0.880 total time=   0.2s\n",
      "[CV 5/5] END algorithm=ball_tree, n_neighbors=3, weights=distance;, score=0.875 total time=   0.2s\n",
      "[CV 1/5] END algorithm=ball_tree, n_neighbors=4, weights=uniform;, score=0.806 total time=   0.3s\n",
      "[CV 2/5] END algorithm=ball_tree, n_neighbors=4, weights=uniform;, score=0.824 total time=   0.3s\n",
      "[CV 3/5] END algorithm=ball_tree, n_neighbors=4, weights=uniform;, score=0.835 total time=   0.3s\n",
      "[CV 4/5] END algorithm=ball_tree, n_neighbors=4, weights=uniform;, score=0.836 total time=   0.3s\n",
      "[CV 5/5] END algorithm=ball_tree, n_neighbors=4, weights=uniform;, score=0.828 total time=   0.3s\n",
      "[CV 1/5] END algorithm=ball_tree, n_neighbors=4, weights=distance;, score=0.877 total time=   0.3s\n",
      "[CV 2/5] END algorithm=ball_tree, n_neighbors=4, weights=distance;, score=0.891 total time=   0.3s\n",
      "[CV 3/5] END algorithm=ball_tree, n_neighbors=4, weights=distance;, score=0.902 total time=   0.3s\n",
      "[CV 4/5] END algorithm=ball_tree, n_neighbors=4, weights=distance;, score=0.883 total time=   0.3s\n",
      "[CV 5/5] END algorithm=ball_tree, n_neighbors=4, weights=distance;, score=0.882 total time=   0.3s\n",
      "[CV 1/5] END algorithm=ball_tree, n_neighbors=5, weights=uniform;, score=0.790 total time=   0.3s\n",
      "[CV 2/5] END algorithm=ball_tree, n_neighbors=5, weights=uniform;, score=0.802 total time=   0.3s\n",
      "[CV 3/5] END algorithm=ball_tree, n_neighbors=5, weights=uniform;, score=0.827 total time=   0.3s\n",
      "[CV 4/5] END algorithm=ball_tree, n_neighbors=5, weights=uniform;, score=0.812 total time=   0.3s\n",
      "[CV 5/5] END algorithm=ball_tree, n_neighbors=5, weights=uniform;, score=0.806 total time=   0.4s\n",
      "[CV 1/5] END algorithm=ball_tree, n_neighbors=5, weights=distance;, score=0.860 total time=   0.3s\n"
     ]
    },
    {
     "name": "stdout",
     "output_type": "stream",
     "text": [
      "[CV 2/5] END algorithm=ball_tree, n_neighbors=5, weights=distance;, score=0.864 total time=   0.3s\n",
      "[CV 3/5] END algorithm=ball_tree, n_neighbors=5, weights=distance;, score=0.883 total time=   0.3s\n",
      "[CV 4/5] END algorithm=ball_tree, n_neighbors=5, weights=distance;, score=0.865 total time=   0.3s\n",
      "[CV 5/5] END algorithm=ball_tree, n_neighbors=5, weights=distance;, score=0.864 total time=   0.3s\n",
      "[CV 1/5] END algorithm=ball_tree, n_neighbors=6, weights=uniform;, score=0.774 total time=   0.4s\n",
      "[CV 2/5] END algorithm=ball_tree, n_neighbors=6, weights=uniform;, score=0.800 total time=   0.4s\n",
      "[CV 3/5] END algorithm=ball_tree, n_neighbors=6, weights=uniform;, score=0.806 total time=   0.4s\n",
      "[CV 4/5] END algorithm=ball_tree, n_neighbors=6, weights=uniform;, score=0.800 total time=   0.4s\n",
      "[CV 5/5] END algorithm=ball_tree, n_neighbors=6, weights=uniform;, score=0.789 total time=   0.4s\n",
      "[CV 1/5] END algorithm=ball_tree, n_neighbors=6, weights=distance;, score=0.866 total time=   0.3s\n",
      "[CV 2/5] END algorithm=ball_tree, n_neighbors=6, weights=distance;, score=0.874 total time=   0.3s\n",
      "[CV 3/5] END algorithm=ball_tree, n_neighbors=6, weights=distance;, score=0.895 total time=   0.3s\n",
      "[CV 4/5] END algorithm=ball_tree, n_neighbors=6, weights=distance;, score=0.872 total time=   0.3s\n",
      "[CV 5/5] END algorithm=ball_tree, n_neighbors=6, weights=distance;, score=0.874 total time=   0.3s\n",
      "[CV 1/5] END algorithm=ball_tree, n_neighbors=7, weights=uniform;, score=0.775 total time=   0.4s\n",
      "[CV 2/5] END algorithm=ball_tree, n_neighbors=7, weights=uniform;, score=0.789 total time=   0.4s\n",
      "[CV 3/5] END algorithm=ball_tree, n_neighbors=7, weights=uniform;, score=0.801 total time=   0.4s\n",
      "[CV 4/5] END algorithm=ball_tree, n_neighbors=7, weights=uniform;, score=0.798 total time=   0.4s\n",
      "[CV 5/5] END algorithm=ball_tree, n_neighbors=7, weights=uniform;, score=0.789 total time=   0.4s\n",
      "[CV 1/5] END algorithm=ball_tree, n_neighbors=7, weights=distance;, score=0.858 total time=   0.3s\n",
      "[CV 2/5] END algorithm=ball_tree, n_neighbors=7, weights=distance;, score=0.867 total time=   0.3s\n",
      "[CV 3/5] END algorithm=ball_tree, n_neighbors=7, weights=distance;, score=0.885 total time=   0.3s\n",
      "[CV 4/5] END algorithm=ball_tree, n_neighbors=7, weights=distance;, score=0.864 total time=   0.3s\n",
      "[CV 5/5] END algorithm=ball_tree, n_neighbors=7, weights=distance;, score=0.868 total time=   0.3s\n",
      "[CV 1/5] END algorithm=ball_tree, n_neighbors=8, weights=uniform;, score=0.771 total time=   0.4s\n",
      "[CV 2/5] END algorithm=ball_tree, n_neighbors=8, weights=uniform;, score=0.784 total time=   0.4s\n",
      "[CV 3/5] END algorithm=ball_tree, n_neighbors=8, weights=uniform;, score=0.800 total time=   0.4s\n",
      "[CV 4/5] END algorithm=ball_tree, n_neighbors=8, weights=uniform;, score=0.782 total time=   0.4s\n",
      "[CV 5/5] END algorithm=ball_tree, n_neighbors=8, weights=uniform;, score=0.788 total time=   0.4s\n",
      "[CV 1/5] END algorithm=ball_tree, n_neighbors=8, weights=distance;, score=0.864 total time=   0.3s\n",
      "[CV 2/5] END algorithm=ball_tree, n_neighbors=8, weights=distance;, score=0.875 total time=   0.3s\n",
      "[CV 3/5] END algorithm=ball_tree, n_neighbors=8, weights=distance;, score=0.892 total time=   0.3s\n",
      "[CV 4/5] END algorithm=ball_tree, n_neighbors=8, weights=distance;, score=0.868 total time=   0.3s\n",
      "[CV 5/5] END algorithm=ball_tree, n_neighbors=8, weights=distance;, score=0.878 total time=   0.3s\n",
      "[CV 1/5] END algorithm=ball_tree, n_neighbors=9, weights=uniform;, score=0.769 total time=   0.4s\n",
      "[CV 2/5] END algorithm=ball_tree, n_neighbors=9, weights=uniform;, score=0.784 total time=   0.4s\n",
      "[CV 3/5] END algorithm=ball_tree, n_neighbors=9, weights=uniform;, score=0.803 total time=   0.4s\n",
      "[CV 4/5] END algorithm=ball_tree, n_neighbors=9, weights=uniform;, score=0.771 total time=   0.4s\n",
      "[CV 5/5] END algorithm=ball_tree, n_neighbors=9, weights=uniform;, score=0.799 total time=   0.4s\n",
      "[CV 1/5] END algorithm=ball_tree, n_neighbors=9, weights=distance;, score=0.858 total time=   0.3s\n",
      "[CV 2/5] END algorithm=ball_tree, n_neighbors=9, weights=distance;, score=0.874 total time=   0.3s\n",
      "[CV 3/5] END algorithm=ball_tree, n_neighbors=9, weights=distance;, score=0.884 total time=   0.3s\n",
      "[CV 4/5] END algorithm=ball_tree, n_neighbors=9, weights=distance;, score=0.860 total time=   0.3s\n",
      "[CV 5/5] END algorithm=ball_tree, n_neighbors=9, weights=distance;, score=0.879 total time=   0.3s\n",
      "[CV 1/5] END algorithm=ball_tree, n_neighbors=10, weights=uniform;, score=0.769 total time=   0.4s\n",
      "[CV 2/5] END algorithm=ball_tree, n_neighbors=10, weights=uniform;, score=0.791 total time=   0.4s\n",
      "[CV 3/5] END algorithm=ball_tree, n_neighbors=10, weights=uniform;, score=0.801 total time=   0.4s\n",
      "[CV 4/5] END algorithm=ball_tree, n_neighbors=10, weights=uniform;, score=0.770 total time=   0.4s\n",
      "[CV 5/5] END algorithm=ball_tree, n_neighbors=10, weights=uniform;, score=0.788 total time=   0.4s\n",
      "[CV 1/5] END algorithm=ball_tree, n_neighbors=10, weights=distance;, score=0.860 total time=   0.3s\n",
      "[CV 2/5] END algorithm=ball_tree, n_neighbors=10, weights=distance;, score=0.883 total time=   0.3s\n",
      "[CV 3/5] END algorithm=ball_tree, n_neighbors=10, weights=distance;, score=0.890 total time=   0.3s\n",
      "[CV 4/5] END algorithm=ball_tree, n_neighbors=10, weights=distance;, score=0.860 total time=   0.3s\n",
      "[CV 5/5] END algorithm=ball_tree, n_neighbors=10, weights=distance;, score=0.880 total time=   0.3s\n",
      "[CV 1/5] END algorithm=ball_tree, n_neighbors=11, weights=uniform;, score=0.766 total time=   0.4s\n",
      "[CV 2/5] END algorithm=ball_tree, n_neighbors=11, weights=uniform;, score=0.784 total time=   0.4s\n",
      "[CV 3/5] END algorithm=ball_tree, n_neighbors=11, weights=uniform;, score=0.802 total time=   0.4s\n",
      "[CV 4/5] END algorithm=ball_tree, n_neighbors=11, weights=uniform;, score=0.762 total time=   0.4s\n",
      "[CV 5/5] END algorithm=ball_tree, n_neighbors=11, weights=uniform;, score=0.788 total time=   0.4s\n",
      "[CV 1/5] END algorithm=ball_tree, n_neighbors=11, weights=distance;, score=0.863 total time=   0.3s\n",
      "[CV 2/5] END algorithm=ball_tree, n_neighbors=11, weights=distance;, score=0.877 total time=   0.3s\n",
      "[CV 3/5] END algorithm=ball_tree, n_neighbors=11, weights=distance;, score=0.890 total time=   0.3s\n",
      "[CV 4/5] END algorithm=ball_tree, n_neighbors=11, weights=distance;, score=0.858 total time=   0.3s\n",
      "[CV 5/5] END algorithm=ball_tree, n_neighbors=11, weights=distance;, score=0.877 total time=   0.3s\n",
      "[CV 1/5] END algorithm=ball_tree, n_neighbors=12, weights=uniform;, score=0.760 total time=   0.4s\n",
      "[CV 2/5] END algorithm=ball_tree, n_neighbors=12, weights=uniform;, score=0.775 total time=   0.4s\n",
      "[CV 3/5] END algorithm=ball_tree, n_neighbors=12, weights=uniform;, score=0.785 total time=   0.4s\n",
      "[CV 4/5] END algorithm=ball_tree, n_neighbors=12, weights=uniform;, score=0.764 total time=   0.4s\n",
      "[CV 5/5] END algorithm=ball_tree, n_neighbors=12, weights=uniform;, score=0.788 total time=   0.4s\n",
      "[CV 1/5] END algorithm=ball_tree, n_neighbors=12, weights=distance;, score=0.866 total time=   0.3s\n",
      "[CV 2/5] END algorithm=ball_tree, n_neighbors=12, weights=distance;, score=0.878 total time=   0.3s\n",
      "[CV 3/5] END algorithm=ball_tree, n_neighbors=12, weights=distance;, score=0.894 total time=   0.4s\n",
      "[CV 4/5] END algorithm=ball_tree, n_neighbors=12, weights=distance;, score=0.863 total time=   0.3s\n",
      "[CV 5/5] END algorithm=ball_tree, n_neighbors=12, weights=distance;, score=0.876 total time=   0.3s\n",
      "[CV 1/5] END algorithm=ball_tree, n_neighbors=13, weights=uniform;, score=0.763 total time=   0.4s\n",
      "[CV 2/5] END algorithm=ball_tree, n_neighbors=13, weights=uniform;, score=0.773 total time=   0.4s\n",
      "[CV 3/5] END algorithm=ball_tree, n_neighbors=13, weights=uniform;, score=0.787 total time=   0.4s\n",
      "[CV 4/5] END algorithm=ball_tree, n_neighbors=13, weights=uniform;, score=0.763 total time=   0.4s\n",
      "[CV 5/5] END algorithm=ball_tree, n_neighbors=13, weights=uniform;, score=0.792 total time=   0.4s\n",
      "[CV 1/5] END algorithm=ball_tree, n_neighbors=13, weights=distance;, score=0.867 total time=   0.4s\n",
      "[CV 2/5] END algorithm=ball_tree, n_neighbors=13, weights=distance;, score=0.877 total time=   0.3s\n",
      "[CV 3/5] END algorithm=ball_tree, n_neighbors=13, weights=distance;, score=0.889 total time=   0.3s\n",
      "[CV 4/5] END algorithm=ball_tree, n_neighbors=13, weights=distance;, score=0.866 total time=   0.3s\n"
     ]
    },
    {
     "name": "stdout",
     "output_type": "stream",
     "text": [
      "[CV 5/5] END algorithm=ball_tree, n_neighbors=13, weights=distance;, score=0.876 total time=   0.4s\n",
      "[CV 1/5] END algorithm=ball_tree, n_neighbors=14, weights=uniform;, score=0.757 total time=   0.4s\n",
      "[CV 2/5] END algorithm=ball_tree, n_neighbors=14, weights=uniform;, score=0.771 total time=   0.4s\n",
      "[CV 3/5] END algorithm=ball_tree, n_neighbors=14, weights=uniform;, score=0.788 total time=   0.4s\n",
      "[CV 4/5] END algorithm=ball_tree, n_neighbors=14, weights=uniform;, score=0.759 total time=   0.4s\n",
      "[CV 5/5] END algorithm=ball_tree, n_neighbors=14, weights=uniform;, score=0.779 total time=   0.4s\n",
      "[CV 1/5] END algorithm=ball_tree, n_neighbors=14, weights=distance;, score=0.870 total time=   0.3s\n",
      "[CV 2/5] END algorithm=ball_tree, n_neighbors=14, weights=distance;, score=0.881 total time=   0.4s\n",
      "[CV 3/5] END algorithm=ball_tree, n_neighbors=14, weights=distance;, score=0.891 total time=   0.3s\n",
      "[CV 4/5] END algorithm=ball_tree, n_neighbors=14, weights=distance;, score=0.866 total time=   0.4s\n",
      "[CV 5/5] END algorithm=ball_tree, n_neighbors=14, weights=distance;, score=0.881 total time=   0.3s\n",
      "[CV 1/5] END algorithm=ball_tree, n_neighbors=15, weights=uniform;, score=0.758 total time=   0.4s\n",
      "[CV 2/5] END algorithm=ball_tree, n_neighbors=15, weights=uniform;, score=0.770 total time=   0.4s\n",
      "[CV 3/5] END algorithm=ball_tree, n_neighbors=15, weights=uniform;, score=0.792 total time=   0.4s\n",
      "[CV 4/5] END algorithm=ball_tree, n_neighbors=15, weights=uniform;, score=0.754 total time=   0.4s\n",
      "[CV 5/5] END algorithm=ball_tree, n_neighbors=15, weights=uniform;, score=0.773 total time=   0.4s\n",
      "[CV 1/5] END algorithm=ball_tree, n_neighbors=15, weights=distance;, score=0.864 total time=   0.4s\n",
      "[CV 2/5] END algorithm=ball_tree, n_neighbors=15, weights=distance;, score=0.879 total time=   0.4s\n",
      "[CV 3/5] END algorithm=ball_tree, n_neighbors=15, weights=distance;, score=0.892 total time=   0.3s\n",
      "[CV 4/5] END algorithm=ball_tree, n_neighbors=15, weights=distance;, score=0.865 total time=   0.4s\n",
      "[CV 5/5] END algorithm=ball_tree, n_neighbors=15, weights=distance;, score=0.880 total time=   0.4s\n",
      "[CV 1/5] END algorithm=ball_tree, n_neighbors=16, weights=uniform;, score=0.754 total time=   0.4s\n",
      "[CV 2/5] END algorithm=ball_tree, n_neighbors=16, weights=uniform;, score=0.766 total time=   0.4s\n",
      "[CV 3/5] END algorithm=ball_tree, n_neighbors=16, weights=uniform;, score=0.782 total time=   0.4s\n",
      "[CV 4/5] END algorithm=ball_tree, n_neighbors=16, weights=uniform;, score=0.756 total time=   0.4s\n",
      "[CV 5/5] END algorithm=ball_tree, n_neighbors=16, weights=uniform;, score=0.780 total time=   0.4s\n",
      "[CV 1/5] END algorithm=ball_tree, n_neighbors=16, weights=distance;, score=0.865 total time=   0.4s\n",
      "[CV 2/5] END algorithm=ball_tree, n_neighbors=16, weights=distance;, score=0.879 total time=   0.4s\n",
      "[CV 3/5] END algorithm=ball_tree, n_neighbors=16, weights=distance;, score=0.899 total time=   0.4s\n",
      "[CV 4/5] END algorithm=ball_tree, n_neighbors=16, weights=distance;, score=0.865 total time=   0.4s\n",
      "[CV 5/5] END algorithm=ball_tree, n_neighbors=16, weights=distance;, score=0.880 total time=   0.4s\n",
      "[CV 1/5] END algorithm=ball_tree, n_neighbors=17, weights=uniform;, score=0.755 total time=   0.4s\n",
      "[CV 2/5] END algorithm=ball_tree, n_neighbors=17, weights=uniform;, score=0.765 total time=   0.4s\n",
      "[CV 3/5] END algorithm=ball_tree, n_neighbors=17, weights=uniform;, score=0.782 total time=   0.4s\n",
      "[CV 4/5] END algorithm=ball_tree, n_neighbors=17, weights=uniform;, score=0.754 total time=   0.4s\n",
      "[CV 5/5] END algorithm=ball_tree, n_neighbors=17, weights=uniform;, score=0.783 total time=   0.4s\n",
      "[CV 1/5] END algorithm=ball_tree, n_neighbors=17, weights=distance;, score=0.863 total time=   0.4s\n",
      "[CV 2/5] END algorithm=ball_tree, n_neighbors=17, weights=distance;, score=0.883 total time=   0.4s\n",
      "[CV 3/5] END algorithm=ball_tree, n_neighbors=17, weights=distance;, score=0.896 total time=   0.4s\n",
      "[CV 4/5] END algorithm=ball_tree, n_neighbors=17, weights=distance;, score=0.864 total time=   0.4s\n",
      "[CV 5/5] END algorithm=ball_tree, n_neighbors=17, weights=distance;, score=0.881 total time=   0.4s\n",
      "[CV 1/5] END algorithm=ball_tree, n_neighbors=18, weights=uniform;, score=0.754 total time=   0.4s\n",
      "[CV 2/5] END algorithm=ball_tree, n_neighbors=18, weights=uniform;, score=0.766 total time=   0.4s\n",
      "[CV 3/5] END algorithm=ball_tree, n_neighbors=18, weights=uniform;, score=0.781 total time=   0.4s\n",
      "[CV 4/5] END algorithm=ball_tree, n_neighbors=18, weights=uniform;, score=0.750 total time=   0.4s\n",
      "[CV 5/5] END algorithm=ball_tree, n_neighbors=18, weights=uniform;, score=0.777 total time=   0.4s\n",
      "[CV 1/5] END algorithm=ball_tree, n_neighbors=18, weights=distance;, score=0.862 total time=   0.4s\n",
      "[CV 2/5] END algorithm=ball_tree, n_neighbors=18, weights=distance;, score=0.885 total time=   0.4s\n",
      "[CV 3/5] END algorithm=ball_tree, n_neighbors=18, weights=distance;, score=0.895 total time=   0.4s\n",
      "[CV 4/5] END algorithm=ball_tree, n_neighbors=18, weights=distance;, score=0.867 total time=   0.4s\n",
      "[CV 5/5] END algorithm=ball_tree, n_neighbors=18, weights=distance;, score=0.881 total time=   0.4s\n",
      "[CV 1/5] END algorithm=ball_tree, n_neighbors=19, weights=uniform;, score=0.752 total time=   0.4s\n",
      "[CV 2/5] END algorithm=ball_tree, n_neighbors=19, weights=uniform;, score=0.768 total time=   0.7s\n",
      "[CV 3/5] END algorithm=ball_tree, n_neighbors=19, weights=uniform;, score=0.781 total time=   0.4s\n",
      "[CV 4/5] END algorithm=ball_tree, n_neighbors=19, weights=uniform;, score=0.758 total time=   0.4s\n",
      "[CV 5/5] END algorithm=ball_tree, n_neighbors=19, weights=uniform;, score=0.780 total time=   0.4s\n",
      "[CV 1/5] END algorithm=ball_tree, n_neighbors=19, weights=distance;, score=0.864 total time=   0.4s\n",
      "[CV 2/5] END algorithm=ball_tree, n_neighbors=19, weights=distance;, score=0.886 total time=   0.4s\n",
      "[CV 3/5] END algorithm=ball_tree, n_neighbors=19, weights=distance;, score=0.894 total time=   0.4s\n",
      "[CV 4/5] END algorithm=ball_tree, n_neighbors=19, weights=distance;, score=0.865 total time=   0.4s\n",
      "[CV 5/5] END algorithm=ball_tree, n_neighbors=19, weights=distance;, score=0.878 total time=   0.4s\n",
      "[CV 1/5] END algorithm=ball_tree, n_neighbors=20, weights=uniform;, score=0.749 total time=   0.4s\n",
      "[CV 2/5] END algorithm=ball_tree, n_neighbors=20, weights=uniform;, score=0.765 total time=   0.4s\n",
      "[CV 3/5] END algorithm=ball_tree, n_neighbors=20, weights=uniform;, score=0.774 total time=   0.4s\n",
      "[CV 4/5] END algorithm=ball_tree, n_neighbors=20, weights=uniform;, score=0.753 total time=   0.4s\n",
      "[CV 5/5] END algorithm=ball_tree, n_neighbors=20, weights=uniform;, score=0.775 total time=   0.4s\n",
      "[CV 1/5] END algorithm=ball_tree, n_neighbors=20, weights=distance;, score=0.864 total time=   0.4s\n",
      "[CV 2/5] END algorithm=ball_tree, n_neighbors=20, weights=distance;, score=0.888 total time=   0.4s\n",
      "[CV 3/5] END algorithm=ball_tree, n_neighbors=20, weights=distance;, score=0.892 total time=   0.4s\n",
      "[CV 4/5] END algorithm=ball_tree, n_neighbors=20, weights=distance;, score=0.868 total time=   0.4s\n",
      "[CV 5/5] END algorithm=ball_tree, n_neighbors=20, weights=distance;, score=0.879 total time=   0.4s\n",
      "[CV 1/5] END algorithm=ball_tree, n_neighbors=21, weights=uniform;, score=0.753 total time=   0.4s\n",
      "[CV 2/5] END algorithm=ball_tree, n_neighbors=21, weights=uniform;, score=0.768 total time=   0.4s\n",
      "[CV 3/5] END algorithm=ball_tree, n_neighbors=21, weights=uniform;, score=0.776 total time=   0.4s\n",
      "[CV 4/5] END algorithm=ball_tree, n_neighbors=21, weights=uniform;, score=0.749 total time=   0.4s\n",
      "[CV 5/5] END algorithm=ball_tree, n_neighbors=21, weights=uniform;, score=0.769 total time=   0.4s\n",
      "[CV 1/5] END algorithm=ball_tree, n_neighbors=21, weights=distance;, score=0.866 total time=   0.4s\n",
      "[CV 2/5] END algorithm=ball_tree, n_neighbors=21, weights=distance;, score=0.885 total time=   0.4s\n",
      "[CV 3/5] END algorithm=ball_tree, n_neighbors=21, weights=distance;, score=0.889 total time=   0.4s\n",
      "[CV 4/5] END algorithm=ball_tree, n_neighbors=21, weights=distance;, score=0.867 total time=   0.4s\n",
      "[CV 5/5] END algorithm=ball_tree, n_neighbors=21, weights=distance;, score=0.878 total time=   0.4s\n",
      "[CV 1/5] END algorithm=ball_tree, n_neighbors=22, weights=uniform;, score=0.748 total time=   0.4s\n",
      "[CV 2/5] END algorithm=ball_tree, n_neighbors=22, weights=uniform;, score=0.766 total time=   0.4s\n"
     ]
    },
    {
     "name": "stdout",
     "output_type": "stream",
     "text": [
      "[CV 3/5] END algorithm=ball_tree, n_neighbors=22, weights=uniform;, score=0.781 total time=   0.4s\n",
      "[CV 4/5] END algorithm=ball_tree, n_neighbors=22, weights=uniform;, score=0.754 total time=   0.4s\n",
      "[CV 5/5] END algorithm=ball_tree, n_neighbors=22, weights=uniform;, score=0.773 total time=   0.4s\n",
      "[CV 1/5] END algorithm=ball_tree, n_neighbors=22, weights=distance;, score=0.865 total time=   0.4s\n",
      "[CV 2/5] END algorithm=ball_tree, n_neighbors=22, weights=distance;, score=0.885 total time=   0.4s\n",
      "[CV 3/5] END algorithm=ball_tree, n_neighbors=22, weights=distance;, score=0.890 total time=   0.4s\n",
      "[CV 4/5] END algorithm=ball_tree, n_neighbors=22, weights=distance;, score=0.866 total time=   0.4s\n",
      "[CV 5/5] END algorithm=ball_tree, n_neighbors=22, weights=distance;, score=0.878 total time=   0.4s\n",
      "[CV 1/5] END algorithm=ball_tree, n_neighbors=23, weights=uniform;, score=0.747 total time=   0.4s\n",
      "[CV 2/5] END algorithm=ball_tree, n_neighbors=23, weights=uniform;, score=0.765 total time=   0.4s\n",
      "[CV 3/5] END algorithm=ball_tree, n_neighbors=23, weights=uniform;, score=0.781 total time=   0.4s\n",
      "[CV 4/5] END algorithm=ball_tree, n_neighbors=23, weights=uniform;, score=0.754 total time=   0.4s\n",
      "[CV 5/5] END algorithm=ball_tree, n_neighbors=23, weights=uniform;, score=0.770 total time=   0.4s\n",
      "[CV 1/5] END algorithm=ball_tree, n_neighbors=23, weights=distance;, score=0.859 total time=   0.4s\n",
      "[CV 2/5] END algorithm=ball_tree, n_neighbors=23, weights=distance;, score=0.882 total time=   0.4s\n",
      "[CV 3/5] END algorithm=ball_tree, n_neighbors=23, weights=distance;, score=0.894 total time=   0.4s\n",
      "[CV 4/5] END algorithm=ball_tree, n_neighbors=23, weights=distance;, score=0.866 total time=   0.4s\n",
      "[CV 5/5] END algorithm=ball_tree, n_neighbors=23, weights=distance;, score=0.876 total time=   0.4s\n",
      "[CV 1/5] END algorithm=ball_tree, n_neighbors=24, weights=uniform;, score=0.744 total time=   0.5s\n",
      "[CV 2/5] END algorithm=ball_tree, n_neighbors=24, weights=uniform;, score=0.761 total time=   0.5s\n",
      "[CV 3/5] END algorithm=ball_tree, n_neighbors=24, weights=uniform;, score=0.779 total time=   0.4s\n",
      "[CV 4/5] END algorithm=ball_tree, n_neighbors=24, weights=uniform;, score=0.760 total time=   0.4s\n",
      "[CV 5/5] END algorithm=ball_tree, n_neighbors=24, weights=uniform;, score=0.772 total time=   0.4s\n",
      "[CV 1/5] END algorithm=ball_tree, n_neighbors=24, weights=distance;, score=0.859 total time=   0.4s\n",
      "[CV 2/5] END algorithm=ball_tree, n_neighbors=24, weights=distance;, score=0.885 total time=   0.4s\n",
      "[CV 3/5] END algorithm=ball_tree, n_neighbors=24, weights=distance;, score=0.892 total time=   0.4s\n",
      "[CV 4/5] END algorithm=ball_tree, n_neighbors=24, weights=distance;, score=0.868 total time=   0.4s\n",
      "[CV 5/5] END algorithm=ball_tree, n_neighbors=24, weights=distance;, score=0.880 total time=   0.4s\n",
      "[CV 1/5] END algorithm=ball_tree, n_neighbors=25, weights=uniform;, score=0.743 total time=   0.5s\n",
      "[CV 2/5] END algorithm=ball_tree, n_neighbors=25, weights=uniform;, score=0.768 total time=   0.4s\n",
      "[CV 3/5] END algorithm=ball_tree, n_neighbors=25, weights=uniform;, score=0.780 total time=   0.4s\n",
      "[CV 4/5] END algorithm=ball_tree, n_neighbors=25, weights=uniform;, score=0.757 total time=   0.4s\n",
      "[CV 5/5] END algorithm=ball_tree, n_neighbors=25, weights=uniform;, score=0.773 total time=   0.4s\n",
      "[CV 1/5] END algorithm=ball_tree, n_neighbors=25, weights=distance;, score=0.859 total time=   0.4s\n",
      "[CV 2/5] END algorithm=ball_tree, n_neighbors=25, weights=distance;, score=0.884 total time=   0.4s\n",
      "[CV 3/5] END algorithm=ball_tree, n_neighbors=25, weights=distance;, score=0.893 total time=   0.4s\n",
      "[CV 4/5] END algorithm=ball_tree, n_neighbors=25, weights=distance;, score=0.868 total time=   0.4s\n",
      "[CV 5/5] END algorithm=ball_tree, n_neighbors=25, weights=distance;, score=0.881 total time=   0.4s\n",
      "[CV 1/5] END algorithm=ball_tree, n_neighbors=26, weights=uniform;, score=0.746 total time=   0.4s\n",
      "[CV 2/5] END algorithm=ball_tree, n_neighbors=26, weights=uniform;, score=0.767 total time=   0.4s\n",
      "[CV 3/5] END algorithm=ball_tree, n_neighbors=26, weights=uniform;, score=0.784 total time=   0.5s\n",
      "[CV 4/5] END algorithm=ball_tree, n_neighbors=26, weights=uniform;, score=0.754 total time=   0.4s\n",
      "[CV 5/5] END algorithm=ball_tree, n_neighbors=26, weights=uniform;, score=0.772 total time=   0.4s\n",
      "[CV 1/5] END algorithm=ball_tree, n_neighbors=26, weights=distance;, score=0.859 total time=   0.4s\n",
      "[CV 2/5] END algorithm=ball_tree, n_neighbors=26, weights=distance;, score=0.884 total time=   0.4s\n",
      "[CV 3/5] END algorithm=ball_tree, n_neighbors=26, weights=distance;, score=0.894 total time=   0.4s\n",
      "[CV 4/5] END algorithm=ball_tree, n_neighbors=26, weights=distance;, score=0.869 total time=   0.4s\n",
      "[CV 5/5] END algorithm=ball_tree, n_neighbors=26, weights=distance;, score=0.881 total time=   0.4s\n",
      "[CV 1/5] END algorithm=ball_tree, n_neighbors=27, weights=uniform;, score=0.751 total time=   0.5s\n",
      "[CV 2/5] END algorithm=ball_tree, n_neighbors=27, weights=uniform;, score=0.767 total time=   0.4s\n",
      "[CV 3/5] END algorithm=ball_tree, n_neighbors=27, weights=uniform;, score=0.784 total time=   0.5s\n",
      "[CV 4/5] END algorithm=ball_tree, n_neighbors=27, weights=uniform;, score=0.753 total time=   0.4s\n",
      "[CV 5/5] END algorithm=ball_tree, n_neighbors=27, weights=uniform;, score=0.773 total time=   0.4s\n",
      "[CV 1/5] END algorithm=ball_tree, n_neighbors=27, weights=distance;, score=0.862 total time=   0.4s\n",
      "[CV 2/5] END algorithm=ball_tree, n_neighbors=27, weights=distance;, score=0.886 total time=   0.4s\n",
      "[CV 3/5] END algorithm=ball_tree, n_neighbors=27, weights=distance;, score=0.896 total time=   0.4s\n",
      "[CV 4/5] END algorithm=ball_tree, n_neighbors=27, weights=distance;, score=0.870 total time=   0.4s\n",
      "[CV 5/5] END algorithm=ball_tree, n_neighbors=27, weights=distance;, score=0.881 total time=   0.4s\n",
      "[CV 1/5] END algorithm=ball_tree, n_neighbors=28, weights=uniform;, score=0.752 total time=   0.5s\n",
      "[CV 2/5] END algorithm=ball_tree, n_neighbors=28, weights=uniform;, score=0.770 total time=   0.4s\n",
      "[CV 3/5] END algorithm=ball_tree, n_neighbors=28, weights=uniform;, score=0.777 total time=   0.4s\n",
      "[CV 4/5] END algorithm=ball_tree, n_neighbors=28, weights=uniform;, score=0.752 total time=   0.5s\n",
      "[CV 5/5] END algorithm=ball_tree, n_neighbors=28, weights=uniform;, score=0.776 total time=   0.5s\n",
      "[CV 1/5] END algorithm=ball_tree, n_neighbors=28, weights=distance;, score=0.863 total time=   0.4s\n",
      "[CV 2/5] END algorithm=ball_tree, n_neighbors=28, weights=distance;, score=0.890 total time=   0.4s\n",
      "[CV 3/5] END algorithm=ball_tree, n_neighbors=28, weights=distance;, score=0.894 total time=   0.4s\n",
      "[CV 4/5] END algorithm=ball_tree, n_neighbors=28, weights=distance;, score=0.869 total time=   0.4s\n",
      "[CV 5/5] END algorithm=ball_tree, n_neighbors=28, weights=distance;, score=0.884 total time=   0.4s\n",
      "[CV 1/5] END algorithm=ball_tree, n_neighbors=29, weights=uniform;, score=0.755 total time=   0.5s\n",
      "[CV 2/5] END algorithm=ball_tree, n_neighbors=29, weights=uniform;, score=0.772 total time=   0.4s\n",
      "[CV 3/5] END algorithm=ball_tree, n_neighbors=29, weights=uniform;, score=0.775 total time=   0.5s\n",
      "[CV 4/5] END algorithm=ball_tree, n_neighbors=29, weights=uniform;, score=0.749 total time=   0.4s\n",
      "[CV 5/5] END algorithm=ball_tree, n_neighbors=29, weights=uniform;, score=0.770 total time=   0.5s\n",
      "[CV 1/5] END algorithm=ball_tree, n_neighbors=29, weights=distance;, score=0.866 total time=   0.4s\n",
      "[CV 2/5] END algorithm=ball_tree, n_neighbors=29, weights=distance;, score=0.887 total time=   0.4s\n",
      "[CV 3/5] END algorithm=ball_tree, n_neighbors=29, weights=distance;, score=0.895 total time=   0.4s\n",
      "[CV 4/5] END algorithm=ball_tree, n_neighbors=29, weights=distance;, score=0.871 total time=   0.4s\n",
      "[CV 5/5] END algorithm=ball_tree, n_neighbors=29, weights=distance;, score=0.881 total time=   0.4s\n",
      "[CV 1/5] END algorithm=ball_tree, n_neighbors=30, weights=uniform;, score=0.750 total time=   0.5s\n",
      "[CV 2/5] END algorithm=ball_tree, n_neighbors=30, weights=uniform;, score=0.771 total time=   0.5s\n",
      "[CV 3/5] END algorithm=ball_tree, n_neighbors=30, weights=uniform;, score=0.777 total time=   0.4s\n",
      "[CV 4/5] END algorithm=ball_tree, n_neighbors=30, weights=uniform;, score=0.751 total time=   0.5s\n",
      "[CV 5/5] END algorithm=ball_tree, n_neighbors=30, weights=uniform;, score=0.767 total time=   0.5s\n"
     ]
    },
    {
     "name": "stdout",
     "output_type": "stream",
     "text": [
      "[CV 1/5] END algorithm=ball_tree, n_neighbors=30, weights=distance;, score=0.867 total time=   0.4s\n",
      "[CV 2/5] END algorithm=ball_tree, n_neighbors=30, weights=distance;, score=0.888 total time=   0.4s\n",
      "[CV 3/5] END algorithm=ball_tree, n_neighbors=30, weights=distance;, score=0.896 total time=   0.4s\n",
      "[CV 4/5] END algorithm=ball_tree, n_neighbors=30, weights=distance;, score=0.870 total time=   0.4s\n",
      "[CV 5/5] END algorithm=ball_tree, n_neighbors=30, weights=distance;, score=0.881 total time=   0.4s\n",
      "[CV 1/5] END algorithm=kd_tree, n_neighbors=1, weights=uniform;, score=0.911 total time=   0.1s\n",
      "[CV 2/5] END algorithm=kd_tree, n_neighbors=1, weights=uniform;, score=0.921 total time=   0.1s\n",
      "[CV 3/5] END algorithm=kd_tree, n_neighbors=1, weights=uniform;, score=0.939 total time=   0.1s\n",
      "[CV 4/5] END algorithm=kd_tree, n_neighbors=1, weights=uniform;, score=0.922 total time=   0.1s\n",
      "[CV 5/5] END algorithm=kd_tree, n_neighbors=1, weights=uniform;, score=0.929 total time=   0.1s\n",
      "[CV 1/5] END algorithm=kd_tree, n_neighbors=1, weights=distance;, score=0.911 total time=   0.0s\n",
      "[CV 2/5] END algorithm=kd_tree, n_neighbors=1, weights=distance;, score=0.921 total time=   0.0s\n",
      "[CV 3/5] END algorithm=kd_tree, n_neighbors=1, weights=distance;, score=0.939 total time=   0.0s\n",
      "[CV 4/5] END algorithm=kd_tree, n_neighbors=1, weights=distance;, score=0.922 total time=   0.0s\n",
      "[CV 5/5] END algorithm=kd_tree, n_neighbors=1, weights=distance;, score=0.929 total time=   0.0s\n",
      "[CV 1/5] END algorithm=kd_tree, n_neighbors=2, weights=uniform;, score=0.867 total time=   0.1s\n",
      "[CV 2/5] END algorithm=kd_tree, n_neighbors=2, weights=uniform;, score=0.895 total time=   0.1s\n",
      "[CV 3/5] END algorithm=kd_tree, n_neighbors=2, weights=uniform;, score=0.912 total time=   0.1s\n",
      "[CV 4/5] END algorithm=kd_tree, n_neighbors=2, weights=uniform;, score=0.894 total time=   0.1s\n",
      "[CV 5/5] END algorithm=kd_tree, n_neighbors=2, weights=uniform;, score=0.908 total time=   0.1s\n",
      "[CV 1/5] END algorithm=kd_tree, n_neighbors=2, weights=distance;, score=0.911 total time=   0.0s\n",
      "[CV 2/5] END algorithm=kd_tree, n_neighbors=2, weights=distance;, score=0.921 total time=   0.0s\n",
      "[CV 3/5] END algorithm=kd_tree, n_neighbors=2, weights=distance;, score=0.939 total time=   0.0s\n",
      "[CV 4/5] END algorithm=kd_tree, n_neighbors=2, weights=distance;, score=0.922 total time=   0.0s\n",
      "[CV 5/5] END algorithm=kd_tree, n_neighbors=2, weights=distance;, score=0.929 total time=   0.0s\n",
      "[CV 1/5] END algorithm=kd_tree, n_neighbors=3, weights=uniform;, score=0.837 total time=   0.1s\n",
      "[CV 2/5] END algorithm=kd_tree, n_neighbors=3, weights=uniform;, score=0.859 total time=   0.1s\n",
      "[CV 3/5] END algorithm=kd_tree, n_neighbors=3, weights=uniform;, score=0.876 total time=   0.1s\n",
      "[CV 4/5] END algorithm=kd_tree, n_neighbors=3, weights=uniform;, score=0.855 total time=   0.2s\n",
      "[CV 5/5] END algorithm=kd_tree, n_neighbors=3, weights=uniform;, score=0.855 total time=   0.1s\n",
      "[CV 1/5] END algorithm=kd_tree, n_neighbors=3, weights=distance;, score=0.872 total time=   0.1s\n",
      "[CV 2/5] END algorithm=kd_tree, n_neighbors=3, weights=distance;, score=0.885 total time=   0.1s\n",
      "[CV 3/5] END algorithm=kd_tree, n_neighbors=3, weights=distance;, score=0.900 total time=   0.1s\n",
      "[CV 4/5] END algorithm=kd_tree, n_neighbors=3, weights=distance;, score=0.880 total time=   0.1s\n",
      "[CV 5/5] END algorithm=kd_tree, n_neighbors=3, weights=distance;, score=0.875 total time=   0.1s\n",
      "[CV 1/5] END algorithm=kd_tree, n_neighbors=4, weights=uniform;, score=0.806 total time=   0.1s\n",
      "[CV 2/5] END algorithm=kd_tree, n_neighbors=4, weights=uniform;, score=0.824 total time=   0.2s\n",
      "[CV 3/5] END algorithm=kd_tree, n_neighbors=4, weights=uniform;, score=0.835 total time=   0.1s\n",
      "[CV 4/5] END algorithm=kd_tree, n_neighbors=4, weights=uniform;, score=0.836 total time=   0.1s\n",
      "[CV 5/5] END algorithm=kd_tree, n_neighbors=4, weights=uniform;, score=0.828 total time=   0.1s\n",
      "[CV 1/5] END algorithm=kd_tree, n_neighbors=4, weights=distance;, score=0.877 total time=   0.1s\n",
      "[CV 2/5] END algorithm=kd_tree, n_neighbors=4, weights=distance;, score=0.891 total time=   0.1s\n",
      "[CV 3/5] END algorithm=kd_tree, n_neighbors=4, weights=distance;, score=0.902 total time=   0.1s\n",
      "[CV 4/5] END algorithm=kd_tree, n_neighbors=4, weights=distance;, score=0.883 total time=   0.1s\n",
      "[CV 5/5] END algorithm=kd_tree, n_neighbors=4, weights=distance;, score=0.882 total time=   0.1s\n",
      "[CV 1/5] END algorithm=kd_tree, n_neighbors=5, weights=uniform;, score=0.790 total time=   0.2s\n",
      "[CV 2/5] END algorithm=kd_tree, n_neighbors=5, weights=uniform;, score=0.802 total time=   0.2s\n",
      "[CV 3/5] END algorithm=kd_tree, n_neighbors=5, weights=uniform;, score=0.827 total time=   0.2s\n",
      "[CV 4/5] END algorithm=kd_tree, n_neighbors=5, weights=uniform;, score=0.812 total time=   0.2s\n",
      "[CV 5/5] END algorithm=kd_tree, n_neighbors=5, weights=uniform;, score=0.806 total time=   0.2s\n",
      "[CV 1/5] END algorithm=kd_tree, n_neighbors=5, weights=distance;, score=0.860 total time=   0.1s\n",
      "[CV 2/5] END algorithm=kd_tree, n_neighbors=5, weights=distance;, score=0.864 total time=   0.1s\n",
      "[CV 3/5] END algorithm=kd_tree, n_neighbors=5, weights=distance;, score=0.883 total time=   0.1s\n",
      "[CV 4/5] END algorithm=kd_tree, n_neighbors=5, weights=distance;, score=0.865 total time=   0.1s\n",
      "[CV 5/5] END algorithm=kd_tree, n_neighbors=5, weights=distance;, score=0.864 total time=   0.1s\n",
      "[CV 1/5] END algorithm=kd_tree, n_neighbors=6, weights=uniform;, score=0.774 total time=   0.2s\n",
      "[CV 2/5] END algorithm=kd_tree, n_neighbors=6, weights=uniform;, score=0.800 total time=   0.2s\n",
      "[CV 3/5] END algorithm=kd_tree, n_neighbors=6, weights=uniform;, score=0.806 total time=   0.2s\n",
      "[CV 4/5] END algorithm=kd_tree, n_neighbors=6, weights=uniform;, score=0.800 total time=   0.2s\n",
      "[CV 5/5] END algorithm=kd_tree, n_neighbors=6, weights=uniform;, score=0.789 total time=   0.2s\n",
      "[CV 1/5] END algorithm=kd_tree, n_neighbors=6, weights=distance;, score=0.866 total time=   0.1s\n",
      "[CV 2/5] END algorithm=kd_tree, n_neighbors=6, weights=distance;, score=0.874 total time=   0.1s\n",
      "[CV 3/5] END algorithm=kd_tree, n_neighbors=6, weights=distance;, score=0.895 total time=   0.1s\n",
      "[CV 4/5] END algorithm=kd_tree, n_neighbors=6, weights=distance;, score=0.872 total time=   0.1s\n",
      "[CV 5/5] END algorithm=kd_tree, n_neighbors=6, weights=distance;, score=0.874 total time=   0.1s\n",
      "[CV 1/5] END algorithm=kd_tree, n_neighbors=7, weights=uniform;, score=0.775 total time=   0.2s\n",
      "[CV 2/5] END algorithm=kd_tree, n_neighbors=7, weights=uniform;, score=0.789 total time=   0.2s\n",
      "[CV 3/5] END algorithm=kd_tree, n_neighbors=7, weights=uniform;, score=0.801 total time=   0.2s\n",
      "[CV 4/5] END algorithm=kd_tree, n_neighbors=7, weights=uniform;, score=0.798 total time=   0.2s\n",
      "[CV 5/5] END algorithm=kd_tree, n_neighbors=7, weights=uniform;, score=0.789 total time=   0.2s\n",
      "[CV 1/5] END algorithm=kd_tree, n_neighbors=7, weights=distance;, score=0.858 total time=   0.1s\n",
      "[CV 2/5] END algorithm=kd_tree, n_neighbors=7, weights=distance;, score=0.867 total time=   0.1s\n",
      "[CV 3/5] END algorithm=kd_tree, n_neighbors=7, weights=distance;, score=0.885 total time=   0.1s\n",
      "[CV 4/5] END algorithm=kd_tree, n_neighbors=7, weights=distance;, score=0.864 total time=   0.1s\n",
      "[CV 5/5] END algorithm=kd_tree, n_neighbors=7, weights=distance;, score=0.868 total time=   0.1s\n",
      "[CV 1/5] END algorithm=kd_tree, n_neighbors=8, weights=uniform;, score=0.771 total time=   0.2s\n",
      "[CV 2/5] END algorithm=kd_tree, n_neighbors=8, weights=uniform;, score=0.784 total time=   0.2s\n",
      "[CV 3/5] END algorithm=kd_tree, n_neighbors=8, weights=uniform;, score=0.800 total time=   0.2s\n",
      "[CV 4/5] END algorithm=kd_tree, n_neighbors=8, weights=uniform;, score=0.782 total time=   0.2s\n",
      "[CV 5/5] END algorithm=kd_tree, n_neighbors=8, weights=uniform;, score=0.788 total time=   0.2s\n",
      "[CV 1/5] END algorithm=kd_tree, n_neighbors=8, weights=distance;, score=0.864 total time=   0.2s\n",
      "[CV 2/5] END algorithm=kd_tree, n_neighbors=8, weights=distance;, score=0.875 total time=   0.1s\n",
      "[CV 3/5] END algorithm=kd_tree, n_neighbors=8, weights=distance;, score=0.892 total time=   0.2s\n",
      "[CV 4/5] END algorithm=kd_tree, n_neighbors=8, weights=distance;, score=0.868 total time=   0.1s\n",
      "[CV 5/5] END algorithm=kd_tree, n_neighbors=8, weights=distance;, score=0.878 total time=   0.1s\n"
     ]
    },
    {
     "name": "stdout",
     "output_type": "stream",
     "text": [
      "[CV 1/5] END algorithm=kd_tree, n_neighbors=9, weights=uniform;, score=0.769 total time=   0.2s\n",
      "[CV 2/5] END algorithm=kd_tree, n_neighbors=9, weights=uniform;, score=0.784 total time=   0.2s\n",
      "[CV 3/5] END algorithm=kd_tree, n_neighbors=9, weights=uniform;, score=0.803 total time=   0.2s\n",
      "[CV 4/5] END algorithm=kd_tree, n_neighbors=9, weights=uniform;, score=0.771 total time=   0.2s\n",
      "[CV 5/5] END algorithm=kd_tree, n_neighbors=9, weights=uniform;, score=0.799 total time=   0.2s\n",
      "[CV 1/5] END algorithm=kd_tree, n_neighbors=9, weights=distance;, score=0.858 total time=   0.2s\n",
      "[CV 2/5] END algorithm=kd_tree, n_neighbors=9, weights=distance;, score=0.874 total time=   0.2s\n",
      "[CV 3/5] END algorithm=kd_tree, n_neighbors=9, weights=distance;, score=0.884 total time=   0.2s\n",
      "[CV 4/5] END algorithm=kd_tree, n_neighbors=9, weights=distance;, score=0.860 total time=   0.2s\n",
      "[CV 5/5] END algorithm=kd_tree, n_neighbors=9, weights=distance;, score=0.879 total time=   0.2s\n",
      "[CV 1/5] END algorithm=kd_tree, n_neighbors=10, weights=uniform;, score=0.769 total time=   0.2s\n",
      "[CV 2/5] END algorithm=kd_tree, n_neighbors=10, weights=uniform;, score=0.791 total time=   0.2s\n",
      "[CV 3/5] END algorithm=kd_tree, n_neighbors=10, weights=uniform;, score=0.801 total time=   0.2s\n",
      "[CV 4/5] END algorithm=kd_tree, n_neighbors=10, weights=uniform;, score=0.770 total time=   0.2s\n",
      "[CV 5/5] END algorithm=kd_tree, n_neighbors=10, weights=uniform;, score=0.788 total time=   0.2s\n",
      "[CV 1/5] END algorithm=kd_tree, n_neighbors=10, weights=distance;, score=0.860 total time=   0.2s\n",
      "[CV 2/5] END algorithm=kd_tree, n_neighbors=10, weights=distance;, score=0.883 total time=   0.2s\n",
      "[CV 3/5] END algorithm=kd_tree, n_neighbors=10, weights=distance;, score=0.890 total time=   0.2s\n",
      "[CV 4/5] END algorithm=kd_tree, n_neighbors=10, weights=distance;, score=0.860 total time=   0.2s\n",
      "[CV 5/5] END algorithm=kd_tree, n_neighbors=10, weights=distance;, score=0.880 total time=   0.2s\n",
      "[CV 1/5] END algorithm=kd_tree, n_neighbors=11, weights=uniform;, score=0.766 total time=   0.2s\n",
      "[CV 2/5] END algorithm=kd_tree, n_neighbors=11, weights=uniform;, score=0.784 total time=   0.2s\n",
      "[CV 3/5] END algorithm=kd_tree, n_neighbors=11, weights=uniform;, score=0.802 total time=   0.2s\n",
      "[CV 4/5] END algorithm=kd_tree, n_neighbors=11, weights=uniform;, score=0.762 total time=   0.2s\n",
      "[CV 5/5] END algorithm=kd_tree, n_neighbors=11, weights=uniform;, score=0.788 total time=   0.2s\n",
      "[CV 1/5] END algorithm=kd_tree, n_neighbors=11, weights=distance;, score=0.863 total time=   0.2s\n",
      "[CV 2/5] END algorithm=kd_tree, n_neighbors=11, weights=distance;, score=0.877 total time=   0.2s\n",
      "[CV 3/5] END algorithm=kd_tree, n_neighbors=11, weights=distance;, score=0.890 total time=   0.2s\n",
      "[CV 4/5] END algorithm=kd_tree, n_neighbors=11, weights=distance;, score=0.858 total time=   0.2s\n",
      "[CV 5/5] END algorithm=kd_tree, n_neighbors=11, weights=distance;, score=0.877 total time=   0.2s\n",
      "[CV 1/5] END algorithm=kd_tree, n_neighbors=12, weights=uniform;, score=0.760 total time=   0.2s\n",
      "[CV 2/5] END algorithm=kd_tree, n_neighbors=12, weights=uniform;, score=0.775 total time=   0.2s\n",
      "[CV 3/5] END algorithm=kd_tree, n_neighbors=12, weights=uniform;, score=0.785 total time=   0.2s\n",
      "[CV 4/5] END algorithm=kd_tree, n_neighbors=12, weights=uniform;, score=0.764 total time=   0.2s\n",
      "[CV 5/5] END algorithm=kd_tree, n_neighbors=12, weights=uniform;, score=0.788 total time=   0.3s\n",
      "[CV 1/5] END algorithm=kd_tree, n_neighbors=12, weights=distance;, score=0.866 total time=   0.2s\n",
      "[CV 2/5] END algorithm=kd_tree, n_neighbors=12, weights=distance;, score=0.878 total time=   0.2s\n",
      "[CV 3/5] END algorithm=kd_tree, n_neighbors=12, weights=distance;, score=0.894 total time=   0.2s\n",
      "[CV 4/5] END algorithm=kd_tree, n_neighbors=12, weights=distance;, score=0.863 total time=   0.2s\n",
      "[CV 5/5] END algorithm=kd_tree, n_neighbors=12, weights=distance;, score=0.876 total time=   0.2s\n",
      "[CV 1/5] END algorithm=kd_tree, n_neighbors=13, weights=uniform;, score=0.763 total time=   0.3s\n",
      "[CV 2/5] END algorithm=kd_tree, n_neighbors=13, weights=uniform;, score=0.773 total time=   0.3s\n",
      "[CV 3/5] END algorithm=kd_tree, n_neighbors=13, weights=uniform;, score=0.787 total time=   0.3s\n",
      "[CV 4/5] END algorithm=kd_tree, n_neighbors=13, weights=uniform;, score=0.763 total time=   0.3s\n",
      "[CV 5/5] END algorithm=kd_tree, n_neighbors=13, weights=uniform;, score=0.792 total time=   0.3s\n",
      "[CV 1/5] END algorithm=kd_tree, n_neighbors=13, weights=distance;, score=0.867 total time=   0.2s\n",
      "[CV 2/5] END algorithm=kd_tree, n_neighbors=13, weights=distance;, score=0.877 total time=   0.2s\n",
      "[CV 3/5] END algorithm=kd_tree, n_neighbors=13, weights=distance;, score=0.889 total time=   0.2s\n",
      "[CV 4/5] END algorithm=kd_tree, n_neighbors=13, weights=distance;, score=0.866 total time=   0.2s\n",
      "[CV 5/5] END algorithm=kd_tree, n_neighbors=13, weights=distance;, score=0.876 total time=   0.2s\n",
      "[CV 1/5] END algorithm=kd_tree, n_neighbors=14, weights=uniform;, score=0.757 total time=   0.3s\n",
      "[CV 2/5] END algorithm=kd_tree, n_neighbors=14, weights=uniform;, score=0.771 total time=   0.3s\n",
      "[CV 3/5] END algorithm=kd_tree, n_neighbors=14, weights=uniform;, score=0.788 total time=   0.3s\n",
      "[CV 4/5] END algorithm=kd_tree, n_neighbors=14, weights=uniform;, score=0.759 total time=   0.3s\n",
      "[CV 5/5] END algorithm=kd_tree, n_neighbors=14, weights=uniform;, score=0.779 total time=   0.3s\n",
      "[CV 1/5] END algorithm=kd_tree, n_neighbors=14, weights=distance;, score=0.870 total time=   0.2s\n",
      "[CV 2/5] END algorithm=kd_tree, n_neighbors=14, weights=distance;, score=0.881 total time=   0.2s\n",
      "[CV 3/5] END algorithm=kd_tree, n_neighbors=14, weights=distance;, score=0.891 total time=   0.2s\n",
      "[CV 4/5] END algorithm=kd_tree, n_neighbors=14, weights=distance;, score=0.866 total time=   0.2s\n",
      "[CV 5/5] END algorithm=kd_tree, n_neighbors=14, weights=distance;, score=0.881 total time=   0.2s\n",
      "[CV 1/5] END algorithm=kd_tree, n_neighbors=15, weights=uniform;, score=0.758 total time=   0.3s\n",
      "[CV 2/5] END algorithm=kd_tree, n_neighbors=15, weights=uniform;, score=0.770 total time=   0.3s\n",
      "[CV 3/5] END algorithm=kd_tree, n_neighbors=15, weights=uniform;, score=0.792 total time=   0.3s\n",
      "[CV 4/5] END algorithm=kd_tree, n_neighbors=15, weights=uniform;, score=0.754 total time=   0.3s\n",
      "[CV 5/5] END algorithm=kd_tree, n_neighbors=15, weights=uniform;, score=0.773 total time=   0.3s\n",
      "[CV 1/5] END algorithm=kd_tree, n_neighbors=15, weights=distance;, score=0.864 total time=   0.2s\n",
      "[CV 2/5] END algorithm=kd_tree, n_neighbors=15, weights=distance;, score=0.879 total time=   0.2s\n",
      "[CV 3/5] END algorithm=kd_tree, n_neighbors=15, weights=distance;, score=0.892 total time=   0.2s\n",
      "[CV 4/5] END algorithm=kd_tree, n_neighbors=15, weights=distance;, score=0.865 total time=   0.2s\n",
      "[CV 5/5] END algorithm=kd_tree, n_neighbors=15, weights=distance;, score=0.880 total time=   0.2s\n",
      "[CV 1/5] END algorithm=kd_tree, n_neighbors=16, weights=uniform;, score=0.754 total time=   0.3s\n",
      "[CV 2/5] END algorithm=kd_tree, n_neighbors=16, weights=uniform;, score=0.766 total time=   0.3s\n",
      "[CV 3/5] END algorithm=kd_tree, n_neighbors=16, weights=uniform;, score=0.782 total time=   0.3s\n",
      "[CV 4/5] END algorithm=kd_tree, n_neighbors=16, weights=uniform;, score=0.756 total time=   0.3s\n",
      "[CV 5/5] END algorithm=kd_tree, n_neighbors=16, weights=uniform;, score=0.780 total time=   0.3s\n",
      "[CV 1/5] END algorithm=kd_tree, n_neighbors=16, weights=distance;, score=0.865 total time=   0.2s\n",
      "[CV 2/5] END algorithm=kd_tree, n_neighbors=16, weights=distance;, score=0.879 total time=   0.2s\n",
      "[CV 3/5] END algorithm=kd_tree, n_neighbors=16, weights=distance;, score=0.899 total time=   0.2s\n",
      "[CV 4/5] END algorithm=kd_tree, n_neighbors=16, weights=distance;, score=0.865 total time=   0.2s\n",
      "[CV 5/5] END algorithm=kd_tree, n_neighbors=16, weights=distance;, score=0.880 total time=   0.2s\n",
      "[CV 1/5] END algorithm=kd_tree, n_neighbors=17, weights=uniform;, score=0.755 total time=   0.3s\n",
      "[CV 2/5] END algorithm=kd_tree, n_neighbors=17, weights=uniform;, score=0.765 total time=   0.3s\n",
      "[CV 3/5] END algorithm=kd_tree, n_neighbors=17, weights=uniform;, score=0.782 total time=   0.3s\n",
      "[CV 4/5] END algorithm=kd_tree, n_neighbors=17, weights=uniform;, score=0.754 total time=   0.3s\n",
      "[CV 5/5] END algorithm=kd_tree, n_neighbors=17, weights=uniform;, score=0.783 total time=   0.3s\n"
     ]
    },
    {
     "name": "stdout",
     "output_type": "stream",
     "text": [
      "[CV 1/5] END algorithm=kd_tree, n_neighbors=17, weights=distance;, score=0.863 total time=   0.2s\n",
      "[CV 2/5] END algorithm=kd_tree, n_neighbors=17, weights=distance;, score=0.883 total time=   0.2s\n",
      "[CV 3/5] END algorithm=kd_tree, n_neighbors=17, weights=distance;, score=0.896 total time=   0.2s\n",
      "[CV 4/5] END algorithm=kd_tree, n_neighbors=17, weights=distance;, score=0.864 total time=   0.2s\n",
      "[CV 5/5] END algorithm=kd_tree, n_neighbors=17, weights=distance;, score=0.881 total time=   0.2s\n",
      "[CV 1/5] END algorithm=kd_tree, n_neighbors=18, weights=uniform;, score=0.754 total time=   0.3s\n",
      "[CV 2/5] END algorithm=kd_tree, n_neighbors=18, weights=uniform;, score=0.766 total time=   0.3s\n",
      "[CV 3/5] END algorithm=kd_tree, n_neighbors=18, weights=uniform;, score=0.781 total time=   0.3s\n",
      "[CV 4/5] END algorithm=kd_tree, n_neighbors=18, weights=uniform;, score=0.750 total time=   0.3s\n",
      "[CV 5/5] END algorithm=kd_tree, n_neighbors=18, weights=uniform;, score=0.777 total time=   0.3s\n",
      "[CV 1/5] END algorithm=kd_tree, n_neighbors=18, weights=distance;, score=0.862 total time=   0.2s\n",
      "[CV 2/5] END algorithm=kd_tree, n_neighbors=18, weights=distance;, score=0.885 total time=   0.2s\n",
      "[CV 3/5] END algorithm=kd_tree, n_neighbors=18, weights=distance;, score=0.895 total time=   0.2s\n",
      "[CV 4/5] END algorithm=kd_tree, n_neighbors=18, weights=distance;, score=0.867 total time=   0.2s\n",
      "[CV 5/5] END algorithm=kd_tree, n_neighbors=18, weights=distance;, score=0.881 total time=   0.3s\n",
      "[CV 1/5] END algorithm=kd_tree, n_neighbors=19, weights=uniform;, score=0.752 total time=   0.4s\n",
      "[CV 2/5] END algorithm=kd_tree, n_neighbors=19, weights=uniform;, score=0.768 total time=   0.3s\n",
      "[CV 3/5] END algorithm=kd_tree, n_neighbors=19, weights=uniform;, score=0.781 total time=   0.3s\n",
      "[CV 4/5] END algorithm=kd_tree, n_neighbors=19, weights=uniform;, score=0.758 total time=   0.3s\n",
      "[CV 5/5] END algorithm=kd_tree, n_neighbors=19, weights=uniform;, score=0.780 total time=   0.3s\n",
      "[CV 1/5] END algorithm=kd_tree, n_neighbors=19, weights=distance;, score=0.864 total time=   0.2s\n",
      "[CV 2/5] END algorithm=kd_tree, n_neighbors=19, weights=distance;, score=0.886 total time=   0.2s\n",
      "[CV 3/5] END algorithm=kd_tree, n_neighbors=19, weights=distance;, score=0.894 total time=   0.2s\n",
      "[CV 4/5] END algorithm=kd_tree, n_neighbors=19, weights=distance;, score=0.865 total time=   0.2s\n",
      "[CV 5/5] END algorithm=kd_tree, n_neighbors=19, weights=distance;, score=0.878 total time=   0.2s\n",
      "[CV 1/5] END algorithm=kd_tree, n_neighbors=20, weights=uniform;, score=0.749 total time=   0.3s\n",
      "[CV 2/5] END algorithm=kd_tree, n_neighbors=20, weights=uniform;, score=0.765 total time=   0.3s\n",
      "[CV 3/5] END algorithm=kd_tree, n_neighbors=20, weights=uniform;, score=0.774 total time=   0.3s\n",
      "[CV 4/5] END algorithm=kd_tree, n_neighbors=20, weights=uniform;, score=0.753 total time=   0.3s\n",
      "[CV 5/5] END algorithm=kd_tree, n_neighbors=20, weights=uniform;, score=0.775 total time=   0.3s\n",
      "[CV 1/5] END algorithm=kd_tree, n_neighbors=20, weights=distance;, score=0.864 total time=   0.2s\n",
      "[CV 2/5] END algorithm=kd_tree, n_neighbors=20, weights=distance;, score=0.888 total time=   0.3s\n",
      "[CV 3/5] END algorithm=kd_tree, n_neighbors=20, weights=distance;, score=0.892 total time=   0.2s\n",
      "[CV 4/5] END algorithm=kd_tree, n_neighbors=20, weights=distance;, score=0.868 total time=   0.2s\n",
      "[CV 5/5] END algorithm=kd_tree, n_neighbors=20, weights=distance;, score=0.879 total time=   0.3s\n",
      "[CV 1/5] END algorithm=kd_tree, n_neighbors=21, weights=uniform;, score=0.753 total time=   0.3s\n",
      "[CV 2/5] END algorithm=kd_tree, n_neighbors=21, weights=uniform;, score=0.768 total time=   0.3s\n",
      "[CV 3/5] END algorithm=kd_tree, n_neighbors=21, weights=uniform;, score=0.776 total time=   0.3s\n",
      "[CV 4/5] END algorithm=kd_tree, n_neighbors=21, weights=uniform;, score=0.749 total time=   0.3s\n",
      "[CV 5/5] END algorithm=kd_tree, n_neighbors=21, weights=uniform;, score=0.769 total time=   0.3s\n",
      "[CV 1/5] END algorithm=kd_tree, n_neighbors=21, weights=distance;, score=0.866 total time=   0.2s\n",
      "[CV 2/5] END algorithm=kd_tree, n_neighbors=21, weights=distance;, score=0.885 total time=   0.2s\n",
      "[CV 3/5] END algorithm=kd_tree, n_neighbors=21, weights=distance;, score=0.889 total time=   0.3s\n",
      "[CV 4/5] END algorithm=kd_tree, n_neighbors=21, weights=distance;, score=0.867 total time=   0.2s\n",
      "[CV 5/5] END algorithm=kd_tree, n_neighbors=21, weights=distance;, score=0.878 total time=   0.3s\n",
      "[CV 1/5] END algorithm=kd_tree, n_neighbors=22, weights=uniform;, score=0.748 total time=   0.3s\n",
      "[CV 2/5] END algorithm=kd_tree, n_neighbors=22, weights=uniform;, score=0.766 total time=   0.3s\n",
      "[CV 3/5] END algorithm=kd_tree, n_neighbors=22, weights=uniform;, score=0.781 total time=   0.3s\n",
      "[CV 4/5] END algorithm=kd_tree, n_neighbors=22, weights=uniform;, score=0.754 total time=   0.3s\n",
      "[CV 5/5] END algorithm=kd_tree, n_neighbors=22, weights=uniform;, score=0.773 total time=   0.3s\n",
      "[CV 1/5] END algorithm=kd_tree, n_neighbors=22, weights=distance;, score=0.865 total time=   0.3s\n",
      "[CV 2/5] END algorithm=kd_tree, n_neighbors=22, weights=distance;, score=0.885 total time=   0.3s\n",
      "[CV 3/5] END algorithm=kd_tree, n_neighbors=22, weights=distance;, score=0.890 total time=   0.3s\n",
      "[CV 4/5] END algorithm=kd_tree, n_neighbors=22, weights=distance;, score=0.866 total time=   0.2s\n",
      "[CV 5/5] END algorithm=kd_tree, n_neighbors=22, weights=distance;, score=0.878 total time=   0.3s\n",
      "[CV 1/5] END algorithm=kd_tree, n_neighbors=23, weights=uniform;, score=0.747 total time=   0.3s\n",
      "[CV 2/5] END algorithm=kd_tree, n_neighbors=23, weights=uniform;, score=0.765 total time=   0.3s\n",
      "[CV 3/5] END algorithm=kd_tree, n_neighbors=23, weights=uniform;, score=0.781 total time=   0.3s\n",
      "[CV 4/5] END algorithm=kd_tree, n_neighbors=23, weights=uniform;, score=0.754 total time=   0.3s\n",
      "[CV 5/5] END algorithm=kd_tree, n_neighbors=23, weights=uniform;, score=0.770 total time=   0.3s\n",
      "[CV 1/5] END algorithm=kd_tree, n_neighbors=23, weights=distance;, score=0.859 total time=   0.3s\n",
      "[CV 2/5] END algorithm=kd_tree, n_neighbors=23, weights=distance;, score=0.882 total time=   0.3s\n",
      "[CV 3/5] END algorithm=kd_tree, n_neighbors=23, weights=distance;, score=0.894 total time=   0.3s\n",
      "[CV 4/5] END algorithm=kd_tree, n_neighbors=23, weights=distance;, score=0.866 total time=   0.3s\n",
      "[CV 5/5] END algorithm=kd_tree, n_neighbors=23, weights=distance;, score=0.876 total time=   0.3s\n",
      "[CV 1/5] END algorithm=kd_tree, n_neighbors=24, weights=uniform;, score=0.744 total time=   0.3s\n",
      "[CV 2/5] END algorithm=kd_tree, n_neighbors=24, weights=uniform;, score=0.761 total time=   0.3s\n",
      "[CV 3/5] END algorithm=kd_tree, n_neighbors=24, weights=uniform;, score=0.779 total time=   0.3s\n",
      "[CV 4/5] END algorithm=kd_tree, n_neighbors=24, weights=uniform;, score=0.760 total time=   0.3s\n",
      "[CV 5/5] END algorithm=kd_tree, n_neighbors=24, weights=uniform;, score=0.772 total time=   0.3s\n",
      "[CV 1/5] END algorithm=kd_tree, n_neighbors=24, weights=distance;, score=0.859 total time=   0.3s\n",
      "[CV 2/5] END algorithm=kd_tree, n_neighbors=24, weights=distance;, score=0.885 total time=   0.3s\n",
      "[CV 3/5] END algorithm=kd_tree, n_neighbors=24, weights=distance;, score=0.892 total time=   0.3s\n",
      "[CV 4/5] END algorithm=kd_tree, n_neighbors=24, weights=distance;, score=0.868 total time=   0.3s\n",
      "[CV 5/5] END algorithm=kd_tree, n_neighbors=24, weights=distance;, score=0.880 total time=   0.3s\n",
      "[CV 1/5] END algorithm=kd_tree, n_neighbors=25, weights=uniform;, score=0.743 total time=   0.3s\n",
      "[CV 2/5] END algorithm=kd_tree, n_neighbors=25, weights=uniform;, score=0.768 total time=   0.3s\n",
      "[CV 3/5] END algorithm=kd_tree, n_neighbors=25, weights=uniform;, score=0.780 total time=   0.3s\n",
      "[CV 4/5] END algorithm=kd_tree, n_neighbors=25, weights=uniform;, score=0.757 total time=   0.3s\n",
      "[CV 5/5] END algorithm=kd_tree, n_neighbors=25, weights=uniform;, score=0.773 total time=   0.4s\n",
      "[CV 1/5] END algorithm=kd_tree, n_neighbors=25, weights=distance;, score=0.859 total time=   0.3s\n",
      "[CV 2/5] END algorithm=kd_tree, n_neighbors=25, weights=distance;, score=0.884 total time=   0.3s\n",
      "[CV 3/5] END algorithm=kd_tree, n_neighbors=25, weights=distance;, score=0.893 total time=   0.3s\n",
      "[CV 4/5] END algorithm=kd_tree, n_neighbors=25, weights=distance;, score=0.868 total time=   0.3s\n",
      "[CV 5/5] END algorithm=kd_tree, n_neighbors=25, weights=distance;, score=0.881 total time=   0.3s\n"
     ]
    },
    {
     "name": "stdout",
     "output_type": "stream",
     "text": [
      "[CV 1/5] END algorithm=kd_tree, n_neighbors=26, weights=uniform;, score=0.746 total time=   0.3s\n",
      "[CV 2/5] END algorithm=kd_tree, n_neighbors=26, weights=uniform;, score=0.767 total time=   0.3s\n",
      "[CV 3/5] END algorithm=kd_tree, n_neighbors=26, weights=uniform;, score=0.784 total time=   0.3s\n",
      "[CV 4/5] END algorithm=kd_tree, n_neighbors=26, weights=uniform;, score=0.754 total time=   0.3s\n",
      "[CV 5/5] END algorithm=kd_tree, n_neighbors=26, weights=uniform;, score=0.772 total time=   0.4s\n",
      "[CV 1/5] END algorithm=kd_tree, n_neighbors=26, weights=distance;, score=0.859 total time=   0.3s\n",
      "[CV 2/5] END algorithm=kd_tree, n_neighbors=26, weights=distance;, score=0.884 total time=   0.3s\n",
      "[CV 3/5] END algorithm=kd_tree, n_neighbors=26, weights=distance;, score=0.894 total time=   0.3s\n",
      "[CV 4/5] END algorithm=kd_tree, n_neighbors=26, weights=distance;, score=0.869 total time=   0.3s\n",
      "[CV 5/5] END algorithm=kd_tree, n_neighbors=26, weights=distance;, score=0.881 total time=   0.3s\n",
      "[CV 1/5] END algorithm=kd_tree, n_neighbors=27, weights=uniform;, score=0.751 total time=   0.3s\n",
      "[CV 2/5] END algorithm=kd_tree, n_neighbors=27, weights=uniform;, score=0.767 total time=   0.3s\n",
      "[CV 3/5] END algorithm=kd_tree, n_neighbors=27, weights=uniform;, score=0.784 total time=   0.3s\n",
      "[CV 4/5] END algorithm=kd_tree, n_neighbors=27, weights=uniform;, score=0.753 total time=   0.3s\n",
      "[CV 5/5] END algorithm=kd_tree, n_neighbors=27, weights=uniform;, score=0.773 total time=   0.3s\n",
      "[CV 1/5] END algorithm=kd_tree, n_neighbors=27, weights=distance;, score=0.862 total time=   0.3s\n",
      "[CV 2/5] END algorithm=kd_tree, n_neighbors=27, weights=distance;, score=0.886 total time=   0.3s\n",
      "[CV 3/5] END algorithm=kd_tree, n_neighbors=27, weights=distance;, score=0.896 total time=   0.3s\n",
      "[CV 4/5] END algorithm=kd_tree, n_neighbors=27, weights=distance;, score=0.870 total time=   0.3s\n",
      "[CV 5/5] END algorithm=kd_tree, n_neighbors=27, weights=distance;, score=0.881 total time=   0.3s\n",
      "[CV 1/5] END algorithm=kd_tree, n_neighbors=28, weights=uniform;, score=0.752 total time=   0.3s\n",
      "[CV 2/5] END algorithm=kd_tree, n_neighbors=28, weights=uniform;, score=0.770 total time=   0.3s\n",
      "[CV 3/5] END algorithm=kd_tree, n_neighbors=28, weights=uniform;, score=0.777 total time=   0.3s\n",
      "[CV 4/5] END algorithm=kd_tree, n_neighbors=28, weights=uniform;, score=0.752 total time=   0.3s\n",
      "[CV 5/5] END algorithm=kd_tree, n_neighbors=28, weights=uniform;, score=0.776 total time=   0.4s\n",
      "[CV 1/5] END algorithm=kd_tree, n_neighbors=28, weights=distance;, score=0.863 total time=   0.4s\n",
      "[CV 2/5] END algorithm=kd_tree, n_neighbors=28, weights=distance;, score=0.890 total time=   0.3s\n",
      "[CV 3/5] END algorithm=kd_tree, n_neighbors=28, weights=distance;, score=0.894 total time=   0.3s\n",
      "[CV 4/5] END algorithm=kd_tree, n_neighbors=28, weights=distance;, score=0.869 total time=   0.3s\n",
      "[CV 5/5] END algorithm=kd_tree, n_neighbors=28, weights=distance;, score=0.884 total time=   0.3s\n",
      "[CV 1/5] END algorithm=kd_tree, n_neighbors=29, weights=uniform;, score=0.755 total time=   0.3s\n",
      "[CV 2/5] END algorithm=kd_tree, n_neighbors=29, weights=uniform;, score=0.772 total time=   0.3s\n",
      "[CV 3/5] END algorithm=kd_tree, n_neighbors=29, weights=uniform;, score=0.775 total time=   0.4s\n",
      "[CV 4/5] END algorithm=kd_tree, n_neighbors=29, weights=uniform;, score=0.749 total time=   0.4s\n",
      "[CV 5/5] END algorithm=kd_tree, n_neighbors=29, weights=uniform;, score=0.770 total time=   0.3s\n",
      "[CV 1/5] END algorithm=kd_tree, n_neighbors=29, weights=distance;, score=0.866 total time=   0.3s\n",
      "[CV 2/5] END algorithm=kd_tree, n_neighbors=29, weights=distance;, score=0.887 total time=   0.3s\n",
      "[CV 3/5] END algorithm=kd_tree, n_neighbors=29, weights=distance;, score=0.895 total time=   0.3s\n",
      "[CV 4/5] END algorithm=kd_tree, n_neighbors=29, weights=distance;, score=0.871 total time=   0.3s\n",
      "[CV 5/5] END algorithm=kd_tree, n_neighbors=29, weights=distance;, score=0.881 total time=   0.3s\n",
      "[CV 1/5] END algorithm=kd_tree, n_neighbors=30, weights=uniform;, score=0.750 total time=   0.3s\n",
      "[CV 2/5] END algorithm=kd_tree, n_neighbors=30, weights=uniform;, score=0.771 total time=   0.3s\n",
      "[CV 3/5] END algorithm=kd_tree, n_neighbors=30, weights=uniform;, score=0.777 total time=   0.4s\n",
      "[CV 4/5] END algorithm=kd_tree, n_neighbors=30, weights=uniform;, score=0.751 total time=   0.4s\n",
      "[CV 5/5] END algorithm=kd_tree, n_neighbors=30, weights=uniform;, score=0.767 total time=   0.3s\n",
      "[CV 1/5] END algorithm=kd_tree, n_neighbors=30, weights=distance;, score=0.867 total time=   0.3s\n",
      "[CV 2/5] END algorithm=kd_tree, n_neighbors=30, weights=distance;, score=0.888 total time=   0.3s\n",
      "[CV 3/5] END algorithm=kd_tree, n_neighbors=30, weights=distance;, score=0.896 total time=   0.3s\n",
      "[CV 4/5] END algorithm=kd_tree, n_neighbors=30, weights=distance;, score=0.870 total time=   0.3s\n",
      "[CV 5/5] END algorithm=kd_tree, n_neighbors=30, weights=distance;, score=0.881 total time=   0.3s\n",
      "[CV 1/5] END algorithm=brute, n_neighbors=1, weights=uniform;, score=0.911 total time=   0.5s\n",
      "[CV 2/5] END algorithm=brute, n_neighbors=1, weights=uniform;, score=0.921 total time=   0.4s\n",
      "[CV 3/5] END algorithm=brute, n_neighbors=1, weights=uniform;, score=0.939 total time=   0.4s\n",
      "[CV 4/5] END algorithm=brute, n_neighbors=1, weights=uniform;, score=0.922 total time=   0.4s\n",
      "[CV 5/5] END algorithm=brute, n_neighbors=1, weights=uniform;, score=0.929 total time=   0.3s\n",
      "[CV 1/5] END algorithm=brute, n_neighbors=1, weights=distance;, score=0.911 total time=   0.3s\n",
      "[CV 2/5] END algorithm=brute, n_neighbors=1, weights=distance;, score=0.921 total time=   0.3s\n",
      "[CV 3/5] END algorithm=brute, n_neighbors=1, weights=distance;, score=0.939 total time=   0.3s\n",
      "[CV 4/5] END algorithm=brute, n_neighbors=1, weights=distance;, score=0.922 total time=   0.3s\n",
      "[CV 5/5] END algorithm=brute, n_neighbors=1, weights=distance;, score=0.929 total time=   0.3s\n",
      "[CV 1/5] END algorithm=brute, n_neighbors=2, weights=uniform;, score=0.867 total time=   0.4s\n",
      "[CV 2/5] END algorithm=brute, n_neighbors=2, weights=uniform;, score=0.895 total time=   0.4s\n",
      "[CV 3/5] END algorithm=brute, n_neighbors=2, weights=uniform;, score=0.912 total time=   0.4s\n",
      "[CV 4/5] END algorithm=brute, n_neighbors=2, weights=uniform;, score=0.894 total time=   0.4s\n",
      "[CV 5/5] END algorithm=brute, n_neighbors=2, weights=uniform;, score=0.908 total time=   0.4s\n",
      "[CV 1/5] END algorithm=brute, n_neighbors=2, weights=distance;, score=0.911 total time=   0.3s\n",
      "[CV 2/5] END algorithm=brute, n_neighbors=2, weights=distance;, score=0.921 total time=   0.3s\n",
      "[CV 3/5] END algorithm=brute, n_neighbors=2, weights=distance;, score=0.939 total time=   0.3s\n",
      "[CV 4/5] END algorithm=brute, n_neighbors=2, weights=distance;, score=0.922 total time=   0.3s\n",
      "[CV 5/5] END algorithm=brute, n_neighbors=2, weights=distance;, score=0.929 total time=   0.3s\n",
      "[CV 1/5] END algorithm=brute, n_neighbors=3, weights=uniform;, score=0.837 total time=   0.4s\n",
      "[CV 2/5] END algorithm=brute, n_neighbors=3, weights=uniform;, score=0.859 total time=   0.4s\n",
      "[CV 3/5] END algorithm=brute, n_neighbors=3, weights=uniform;, score=0.876 total time=   0.4s\n",
      "[CV 4/5] END algorithm=brute, n_neighbors=3, weights=uniform;, score=0.855 total time=   0.4s\n",
      "[CV 5/5] END algorithm=brute, n_neighbors=3, weights=uniform;, score=0.855 total time=   0.4s\n",
      "[CV 1/5] END algorithm=brute, n_neighbors=3, weights=distance;, score=0.872 total time=   0.3s\n",
      "[CV 2/5] END algorithm=brute, n_neighbors=3, weights=distance;, score=0.885 total time=   0.4s\n",
      "[CV 3/5] END algorithm=brute, n_neighbors=3, weights=distance;, score=0.900 total time=   0.4s\n",
      "[CV 4/5] END algorithm=brute, n_neighbors=3, weights=distance;, score=0.880 total time=   0.4s\n",
      "[CV 5/5] END algorithm=brute, n_neighbors=3, weights=distance;, score=0.875 total time=   0.4s\n",
      "[CV 1/5] END algorithm=brute, n_neighbors=4, weights=uniform;, score=0.806 total time=   0.5s\n",
      "[CV 2/5] END algorithm=brute, n_neighbors=4, weights=uniform;, score=0.824 total time=   0.5s\n",
      "[CV 3/5] END algorithm=brute, n_neighbors=4, weights=uniform;, score=0.835 total time=   0.5s\n",
      "[CV 4/5] END algorithm=brute, n_neighbors=4, weights=uniform;, score=0.836 total time=   0.5s\n",
      "[CV 5/5] END algorithm=brute, n_neighbors=4, weights=uniform;, score=0.828 total time=   0.5s\n",
      "[CV 1/5] END algorithm=brute, n_neighbors=4, weights=distance;, score=0.877 total time=   0.4s\n"
     ]
    },
    {
     "name": "stdout",
     "output_type": "stream",
     "text": [
      "[CV 2/5] END algorithm=brute, n_neighbors=4, weights=distance;, score=0.891 total time=   0.5s\n",
      "[CV 3/5] END algorithm=brute, n_neighbors=4, weights=distance;, score=0.902 total time=   0.5s\n",
      "[CV 4/5] END algorithm=brute, n_neighbors=4, weights=distance;, score=0.883 total time=   0.5s\n",
      "[CV 5/5] END algorithm=brute, n_neighbors=4, weights=distance;, score=0.882 total time=   0.4s\n",
      "[CV 1/5] END algorithm=brute, n_neighbors=5, weights=uniform;, score=0.790 total time=   0.5s\n",
      "[CV 2/5] END algorithm=brute, n_neighbors=5, weights=uniform;, score=0.802 total time=   0.5s\n",
      "[CV 3/5] END algorithm=brute, n_neighbors=5, weights=uniform;, score=0.827 total time=   0.5s\n",
      "[CV 4/5] END algorithm=brute, n_neighbors=5, weights=uniform;, score=0.812 total time=   0.5s\n",
      "[CV 5/5] END algorithm=brute, n_neighbors=5, weights=uniform;, score=0.806 total time=   0.5s\n",
      "[CV 1/5] END algorithm=brute, n_neighbors=5, weights=distance;, score=0.860 total time=   0.4s\n",
      "[CV 2/5] END algorithm=brute, n_neighbors=5, weights=distance;, score=0.864 total time=   0.5s\n",
      "[CV 3/5] END algorithm=brute, n_neighbors=5, weights=distance;, score=0.883 total time=   0.4s\n",
      "[CV 4/5] END algorithm=brute, n_neighbors=5, weights=distance;, score=0.865 total time=   0.4s\n",
      "[CV 5/5] END algorithm=brute, n_neighbors=5, weights=distance;, score=0.864 total time=   0.4s\n",
      "[CV 1/5] END algorithm=brute, n_neighbors=6, weights=uniform;, score=0.774 total time=   0.5s\n",
      "[CV 2/5] END algorithm=brute, n_neighbors=6, weights=uniform;, score=0.800 total time=   0.5s\n",
      "[CV 3/5] END algorithm=brute, n_neighbors=6, weights=uniform;, score=0.806 total time=   0.5s\n",
      "[CV 4/5] END algorithm=brute, n_neighbors=6, weights=uniform;, score=0.800 total time=   0.5s\n",
      "[CV 5/5] END algorithm=brute, n_neighbors=6, weights=uniform;, score=0.789 total time=   0.5s\n",
      "[CV 1/5] END algorithm=brute, n_neighbors=6, weights=distance;, score=0.866 total time=   0.4s\n",
      "[CV 2/5] END algorithm=brute, n_neighbors=6, weights=distance;, score=0.874 total time=   0.4s\n",
      "[CV 3/5] END algorithm=brute, n_neighbors=6, weights=distance;, score=0.895 total time=   0.5s\n",
      "[CV 4/5] END algorithm=brute, n_neighbors=6, weights=distance;, score=0.872 total time=   0.4s\n",
      "[CV 5/5] END algorithm=brute, n_neighbors=6, weights=distance;, score=0.874 total time=   0.4s\n",
      "[CV 1/5] END algorithm=brute, n_neighbors=7, weights=uniform;, score=0.775 total time=   0.5s\n",
      "[CV 2/5] END algorithm=brute, n_neighbors=7, weights=uniform;, score=0.789 total time=   0.6s\n",
      "[CV 3/5] END algorithm=brute, n_neighbors=7, weights=uniform;, score=0.801 total time=   0.5s\n",
      "[CV 4/5] END algorithm=brute, n_neighbors=7, weights=uniform;, score=0.798 total time=   0.5s\n",
      "[CV 5/5] END algorithm=brute, n_neighbors=7, weights=uniform;, score=0.789 total time=   0.5s\n",
      "[CV 1/5] END algorithm=brute, n_neighbors=7, weights=distance;, score=0.858 total time=   0.4s\n",
      "[CV 2/5] END algorithm=brute, n_neighbors=7, weights=distance;, score=0.867 total time=   0.4s\n",
      "[CV 3/5] END algorithm=brute, n_neighbors=7, weights=distance;, score=0.885 total time=   0.4s\n",
      "[CV 4/5] END algorithm=brute, n_neighbors=7, weights=distance;, score=0.864 total time=   0.4s\n",
      "[CV 5/5] END algorithm=brute, n_neighbors=7, weights=distance;, score=0.868 total time=   0.5s\n",
      "[CV 1/5] END algorithm=brute, n_neighbors=8, weights=uniform;, score=0.771 total time=   0.5s\n",
      "[CV 2/5] END algorithm=brute, n_neighbors=8, weights=uniform;, score=0.784 total time=   0.5s\n",
      "[CV 3/5] END algorithm=brute, n_neighbors=8, weights=uniform;, score=0.800 total time=   0.5s\n",
      "[CV 4/5] END algorithm=brute, n_neighbors=8, weights=uniform;, score=0.782 total time=   0.5s\n",
      "[CV 5/5] END algorithm=brute, n_neighbors=8, weights=uniform;, score=0.788 total time=   0.5s\n",
      "[CV 1/5] END algorithm=brute, n_neighbors=8, weights=distance;, score=0.864 total time=   0.4s\n",
      "[CV 2/5] END algorithm=brute, n_neighbors=8, weights=distance;, score=0.875 total time=   0.4s\n",
      "[CV 3/5] END algorithm=brute, n_neighbors=8, weights=distance;, score=0.892 total time=   0.4s\n",
      "[CV 4/5] END algorithm=brute, n_neighbors=8, weights=distance;, score=0.868 total time=   0.5s\n",
      "[CV 5/5] END algorithm=brute, n_neighbors=8, weights=distance;, score=0.878 total time=   0.5s\n",
      "[CV 1/5] END algorithm=brute, n_neighbors=9, weights=uniform;, score=0.769 total time=   0.5s\n",
      "[CV 2/5] END algorithm=brute, n_neighbors=9, weights=uniform;, score=0.784 total time=   0.6s\n",
      "[CV 3/5] END algorithm=brute, n_neighbors=9, weights=uniform;, score=0.803 total time=   0.5s\n",
      "[CV 4/5] END algorithm=brute, n_neighbors=9, weights=uniform;, score=0.771 total time=   0.5s\n",
      "[CV 5/5] END algorithm=brute, n_neighbors=9, weights=uniform;, score=0.799 total time=   0.5s\n",
      "[CV 1/5] END algorithm=brute, n_neighbors=9, weights=distance;, score=0.858 total time=   0.4s\n",
      "[CV 2/5] END algorithm=brute, n_neighbors=9, weights=distance;, score=0.874 total time=   0.4s\n",
      "[CV 3/5] END algorithm=brute, n_neighbors=9, weights=distance;, score=0.884 total time=   0.5s\n",
      "[CV 4/5] END algorithm=brute, n_neighbors=9, weights=distance;, score=0.860 total time=   0.5s\n",
      "[CV 5/5] END algorithm=brute, n_neighbors=9, weights=distance;, score=0.879 total time=   0.4s\n",
      "[CV 1/5] END algorithm=brute, n_neighbors=10, weights=uniform;, score=0.769 total time=   0.5s\n",
      "[CV 2/5] END algorithm=brute, n_neighbors=10, weights=uniform;, score=0.791 total time=   0.6s\n",
      "[CV 3/5] END algorithm=brute, n_neighbors=10, weights=uniform;, score=0.801 total time=   0.5s\n",
      "[CV 4/5] END algorithm=brute, n_neighbors=10, weights=uniform;, score=0.770 total time=   0.5s\n",
      "[CV 5/5] END algorithm=brute, n_neighbors=10, weights=uniform;, score=0.788 total time=   0.5s\n",
      "[CV 1/5] END algorithm=brute, n_neighbors=10, weights=distance;, score=0.860 total time=   0.4s\n",
      "[CV 2/5] END algorithm=brute, n_neighbors=10, weights=distance;, score=0.883 total time=   0.5s\n",
      "[CV 3/5] END algorithm=brute, n_neighbors=10, weights=distance;, score=0.890 total time=   0.4s\n",
      "[CV 4/5] END algorithm=brute, n_neighbors=10, weights=distance;, score=0.860 total time=   0.5s\n",
      "[CV 5/5] END algorithm=brute, n_neighbors=10, weights=distance;, score=0.880 total time=   0.5s\n",
      "[CV 1/5] END algorithm=brute, n_neighbors=11, weights=uniform;, score=0.766 total time=   0.5s\n",
      "[CV 2/5] END algorithm=brute, n_neighbors=11, weights=uniform;, score=0.784 total time=   0.5s\n",
      "[CV 3/5] END algorithm=brute, n_neighbors=11, weights=uniform;, score=0.802 total time=   0.5s\n",
      "[CV 4/5] END algorithm=brute, n_neighbors=11, weights=uniform;, score=0.762 total time=   0.5s\n",
      "[CV 5/5] END algorithm=brute, n_neighbors=11, weights=uniform;, score=0.788 total time=   0.5s\n",
      "[CV 1/5] END algorithm=brute, n_neighbors=11, weights=distance;, score=0.863 total time=   0.4s\n",
      "[CV 2/5] END algorithm=brute, n_neighbors=11, weights=distance;, score=0.877 total time=   0.4s\n",
      "[CV 3/5] END algorithm=brute, n_neighbors=11, weights=distance;, score=0.890 total time=   0.5s\n",
      "[CV 4/5] END algorithm=brute, n_neighbors=11, weights=distance;, score=0.858 total time=   0.4s\n",
      "[CV 5/5] END algorithm=brute, n_neighbors=11, weights=distance;, score=0.877 total time=   0.5s\n",
      "[CV 1/5] END algorithm=brute, n_neighbors=12, weights=uniform;, score=0.760 total time=   0.5s\n",
      "[CV 2/5] END algorithm=brute, n_neighbors=12, weights=uniform;, score=0.775 total time=   0.5s\n",
      "[CV 3/5] END algorithm=brute, n_neighbors=12, weights=uniform;, score=0.785 total time=   0.5s\n",
      "[CV 4/5] END algorithm=brute, n_neighbors=12, weights=uniform;, score=0.764 total time=   0.5s\n",
      "[CV 5/5] END algorithm=brute, n_neighbors=12, weights=uniform;, score=0.788 total time=   0.5s\n",
      "[CV 1/5] END algorithm=brute, n_neighbors=12, weights=distance;, score=0.866 total time=   0.4s\n",
      "[CV 2/5] END algorithm=brute, n_neighbors=12, weights=distance;, score=0.878 total time=   0.4s\n",
      "[CV 3/5] END algorithm=brute, n_neighbors=12, weights=distance;, score=0.894 total time=   0.4s\n",
      "[CV 4/5] END algorithm=brute, n_neighbors=12, weights=distance;, score=0.863 total time=   0.4s\n",
      "[CV 5/5] END algorithm=brute, n_neighbors=12, weights=distance;, score=0.876 total time=   0.5s\n",
      "[CV 1/5] END algorithm=brute, n_neighbors=13, weights=uniform;, score=0.763 total time=   0.5s\n",
      "[CV 2/5] END algorithm=brute, n_neighbors=13, weights=uniform;, score=0.773 total time=   0.5s\n",
      "[CV 3/5] END algorithm=brute, n_neighbors=13, weights=uniform;, score=0.787 total time=   0.5s\n"
     ]
    },
    {
     "name": "stdout",
     "output_type": "stream",
     "text": [
      "[CV 4/5] END algorithm=brute, n_neighbors=13, weights=uniform;, score=0.763 total time=   0.5s\n",
      "[CV 5/5] END algorithm=brute, n_neighbors=13, weights=uniform;, score=0.792 total time=   0.5s\n",
      "[CV 1/5] END algorithm=brute, n_neighbors=13, weights=distance;, score=0.867 total time=   0.4s\n",
      "[CV 2/5] END algorithm=brute, n_neighbors=13, weights=distance;, score=0.877 total time=   0.5s\n",
      "[CV 3/5] END algorithm=brute, n_neighbors=13, weights=distance;, score=0.889 total time=   0.4s\n",
      "[CV 4/5] END algorithm=brute, n_neighbors=13, weights=distance;, score=0.866 total time=   0.5s\n",
      "[CV 5/5] END algorithm=brute, n_neighbors=13, weights=distance;, score=0.876 total time=   0.4s\n",
      "[CV 1/5] END algorithm=brute, n_neighbors=14, weights=uniform;, score=0.757 total time=   0.5s\n",
      "[CV 2/5] END algorithm=brute, n_neighbors=14, weights=uniform;, score=0.771 total time=   0.5s\n",
      "[CV 3/5] END algorithm=brute, n_neighbors=14, weights=uniform;, score=0.788 total time=   0.5s\n",
      "[CV 4/5] END algorithm=brute, n_neighbors=14, weights=uniform;, score=0.759 total time=   0.5s\n",
      "[CV 5/5] END algorithm=brute, n_neighbors=14, weights=uniform;, score=0.779 total time=   0.5s\n",
      "[CV 1/5] END algorithm=brute, n_neighbors=14, weights=distance;, score=0.870 total time=   0.4s\n",
      "[CV 2/5] END algorithm=brute, n_neighbors=14, weights=distance;, score=0.881 total time=   0.4s\n",
      "[CV 3/5] END algorithm=brute, n_neighbors=14, weights=distance;, score=0.891 total time=   0.4s\n",
      "[CV 4/5] END algorithm=brute, n_neighbors=14, weights=distance;, score=0.866 total time=   0.5s\n",
      "[CV 5/5] END algorithm=brute, n_neighbors=14, weights=distance;, score=0.881 total time=   0.4s\n",
      "[CV 1/5] END algorithm=brute, n_neighbors=15, weights=uniform;, score=0.758 total time=   0.5s\n",
      "[CV 2/5] END algorithm=brute, n_neighbors=15, weights=uniform;, score=0.770 total time=   0.5s\n",
      "[CV 3/5] END algorithm=brute, n_neighbors=15, weights=uniform;, score=0.792 total time=   0.5s\n",
      "[CV 4/5] END algorithm=brute, n_neighbors=15, weights=uniform;, score=0.754 total time=   0.5s\n",
      "[CV 5/5] END algorithm=brute, n_neighbors=15, weights=uniform;, score=0.773 total time=   0.5s\n",
      "[CV 1/5] END algorithm=brute, n_neighbors=15, weights=distance;, score=0.864 total time=   0.4s\n",
      "[CV 2/5] END algorithm=brute, n_neighbors=15, weights=distance;, score=0.879 total time=   0.4s\n",
      "[CV 3/5] END algorithm=brute, n_neighbors=15, weights=distance;, score=0.892 total time=   0.4s\n",
      "[CV 4/5] END algorithm=brute, n_neighbors=15, weights=distance;, score=0.865 total time=   0.5s\n",
      "[CV 5/5] END algorithm=brute, n_neighbors=15, weights=distance;, score=0.880 total time=   0.5s\n",
      "[CV 1/5] END algorithm=brute, n_neighbors=16, weights=uniform;, score=0.754 total time=   0.5s\n",
      "[CV 2/5] END algorithm=brute, n_neighbors=16, weights=uniform;, score=0.766 total time=   0.5s\n",
      "[CV 3/5] END algorithm=brute, n_neighbors=16, weights=uniform;, score=0.782 total time=   0.5s\n",
      "[CV 4/5] END algorithm=brute, n_neighbors=16, weights=uniform;, score=0.756 total time=   0.5s\n",
      "[CV 5/5] END algorithm=brute, n_neighbors=16, weights=uniform;, score=0.780 total time=   0.5s\n",
      "[CV 1/5] END algorithm=brute, n_neighbors=16, weights=distance;, score=0.865 total time=   0.4s\n",
      "[CV 2/5] END algorithm=brute, n_neighbors=16, weights=distance;, score=0.879 total time=   0.5s\n",
      "[CV 3/5] END algorithm=brute, n_neighbors=16, weights=distance;, score=0.899 total time=   0.4s\n",
      "[CV 4/5] END algorithm=brute, n_neighbors=16, weights=distance;, score=0.865 total time=   0.4s\n",
      "[CV 5/5] END algorithm=brute, n_neighbors=16, weights=distance;, score=0.880 total time=   0.5s\n",
      "[CV 1/5] END algorithm=brute, n_neighbors=17, weights=uniform;, score=0.755 total time=   0.5s\n",
      "[CV 2/5] END algorithm=brute, n_neighbors=17, weights=uniform;, score=0.765 total time=   0.5s\n",
      "[CV 3/5] END algorithm=brute, n_neighbors=17, weights=uniform;, score=0.782 total time=   0.5s\n",
      "[CV 4/5] END algorithm=brute, n_neighbors=17, weights=uniform;, score=0.754 total time=   0.5s\n",
      "[CV 5/5] END algorithm=brute, n_neighbors=17, weights=uniform;, score=0.783 total time=   0.5s\n",
      "[CV 1/5] END algorithm=brute, n_neighbors=17, weights=distance;, score=0.863 total time=   0.4s\n",
      "[CV 2/5] END algorithm=brute, n_neighbors=17, weights=distance;, score=0.883 total time=   0.4s\n",
      "[CV 3/5] END algorithm=brute, n_neighbors=17, weights=distance;, score=0.896 total time=   0.4s\n",
      "[CV 4/5] END algorithm=brute, n_neighbors=17, weights=distance;, score=0.864 total time=   0.5s\n",
      "[CV 5/5] END algorithm=brute, n_neighbors=17, weights=distance;, score=0.881 total time=   0.4s\n",
      "[CV 1/5] END algorithm=brute, n_neighbors=18, weights=uniform;, score=0.754 total time=   0.5s\n",
      "[CV 2/5] END algorithm=brute, n_neighbors=18, weights=uniform;, score=0.766 total time=   0.5s\n",
      "[CV 3/5] END algorithm=brute, n_neighbors=18, weights=uniform;, score=0.781 total time=   0.5s\n",
      "[CV 4/5] END algorithm=brute, n_neighbors=18, weights=uniform;, score=0.750 total time=   0.5s\n",
      "[CV 5/5] END algorithm=brute, n_neighbors=18, weights=uniform;, score=0.777 total time=   0.5s\n",
      "[CV 1/5] END algorithm=brute, n_neighbors=18, weights=distance;, score=0.862 total time=   0.5s\n",
      "[CV 2/5] END algorithm=brute, n_neighbors=18, weights=distance;, score=0.885 total time=   0.4s\n",
      "[CV 3/5] END algorithm=brute, n_neighbors=18, weights=distance;, score=0.895 total time=   0.5s\n",
      "[CV 4/5] END algorithm=brute, n_neighbors=18, weights=distance;, score=0.867 total time=   0.5s\n",
      "[CV 5/5] END algorithm=brute, n_neighbors=18, weights=distance;, score=0.881 total time=   0.4s\n",
      "[CV 1/5] END algorithm=brute, n_neighbors=19, weights=uniform;, score=0.752 total time=   0.5s\n",
      "[CV 2/5] END algorithm=brute, n_neighbors=19, weights=uniform;, score=0.768 total time=   0.5s\n",
      "[CV 3/5] END algorithm=brute, n_neighbors=19, weights=uniform;, score=0.781 total time=   0.5s\n",
      "[CV 4/5] END algorithm=brute, n_neighbors=19, weights=uniform;, score=0.758 total time=   0.5s\n",
      "[CV 5/5] END algorithm=brute, n_neighbors=19, weights=uniform;, score=0.780 total time=   0.5s\n",
      "[CV 1/5] END algorithm=brute, n_neighbors=19, weights=distance;, score=0.864 total time=   0.4s\n",
      "[CV 2/5] END algorithm=brute, n_neighbors=19, weights=distance;, score=0.886 total time=   0.4s\n",
      "[CV 3/5] END algorithm=brute, n_neighbors=19, weights=distance;, score=0.894 total time=   0.4s\n",
      "[CV 4/5] END algorithm=brute, n_neighbors=19, weights=distance;, score=0.865 total time=   0.5s\n",
      "[CV 5/5] END algorithm=brute, n_neighbors=19, weights=distance;, score=0.878 total time=   0.5s\n",
      "[CV 1/5] END algorithm=brute, n_neighbors=20, weights=uniform;, score=0.749 total time=   0.5s\n",
      "[CV 2/5] END algorithm=brute, n_neighbors=20, weights=uniform;, score=0.765 total time=   0.5s\n",
      "[CV 3/5] END algorithm=brute, n_neighbors=20, weights=uniform;, score=0.774 total time=   0.5s\n",
      "[CV 4/5] END algorithm=brute, n_neighbors=20, weights=uniform;, score=0.753 total time=   0.5s\n",
      "[CV 5/5] END algorithm=brute, n_neighbors=20, weights=uniform;, score=0.775 total time=   0.5s\n",
      "[CV 1/5] END algorithm=brute, n_neighbors=20, weights=distance;, score=0.864 total time=   0.5s\n",
      "[CV 2/5] END algorithm=brute, n_neighbors=20, weights=distance;, score=0.888 total time=   0.5s\n",
      "[CV 3/5] END algorithm=brute, n_neighbors=20, weights=distance;, score=0.892 total time=   0.5s\n",
      "[CV 4/5] END algorithm=brute, n_neighbors=20, weights=distance;, score=0.868 total time=   0.4s\n",
      "[CV 5/5] END algorithm=brute, n_neighbors=20, weights=distance;, score=0.879 total time=   0.4s\n",
      "[CV 1/5] END algorithm=brute, n_neighbors=21, weights=uniform;, score=0.753 total time=   0.5s\n",
      "[CV 2/5] END algorithm=brute, n_neighbors=21, weights=uniform;, score=0.768 total time=   0.5s\n",
      "[CV 3/5] END algorithm=brute, n_neighbors=21, weights=uniform;, score=0.776 total time=   0.5s\n",
      "[CV 4/5] END algorithm=brute, n_neighbors=21, weights=uniform;, score=0.749 total time=   0.5s\n",
      "[CV 5/5] END algorithm=brute, n_neighbors=21, weights=uniform;, score=0.769 total time=   0.5s\n",
      "[CV 1/5] END algorithm=brute, n_neighbors=21, weights=distance;, score=0.866 total time=   0.4s\n",
      "[CV 2/5] END algorithm=brute, n_neighbors=21, weights=distance;, score=0.885 total time=   0.5s\n",
      "[CV 3/5] END algorithm=brute, n_neighbors=21, weights=distance;, score=0.889 total time=   0.5s\n",
      "[CV 4/5] END algorithm=brute, n_neighbors=21, weights=distance;, score=0.867 total time=   0.5s\n"
     ]
    },
    {
     "name": "stdout",
     "output_type": "stream",
     "text": [
      "[CV 5/5] END algorithm=brute, n_neighbors=21, weights=distance;, score=0.878 total time=   0.5s\n",
      "[CV 1/5] END algorithm=brute, n_neighbors=22, weights=uniform;, score=0.748 total time=   0.5s\n",
      "[CV 2/5] END algorithm=brute, n_neighbors=22, weights=uniform;, score=0.766 total time=   0.7s\n",
      "[CV 3/5] END algorithm=brute, n_neighbors=22, weights=uniform;, score=0.781 total time=   0.5s\n",
      "[CV 4/5] END algorithm=brute, n_neighbors=22, weights=uniform;, score=0.754 total time=   0.5s\n",
      "[CV 5/5] END algorithm=brute, n_neighbors=22, weights=uniform;, score=0.773 total time=   0.5s\n",
      "[CV 1/5] END algorithm=brute, n_neighbors=22, weights=distance;, score=0.865 total time=   0.4s\n",
      "[CV 2/5] END algorithm=brute, n_neighbors=22, weights=distance;, score=0.885 total time=   0.5s\n",
      "[CV 3/5] END algorithm=brute, n_neighbors=22, weights=distance;, score=0.890 total time=   0.4s\n",
      "[CV 4/5] END algorithm=brute, n_neighbors=22, weights=distance;, score=0.866 total time=   0.4s\n",
      "[CV 5/5] END algorithm=brute, n_neighbors=22, weights=distance;, score=0.878 total time=   0.5s\n",
      "[CV 1/5] END algorithm=brute, n_neighbors=23, weights=uniform;, score=0.747 total time=   0.5s\n",
      "[CV 2/5] END algorithm=brute, n_neighbors=23, weights=uniform;, score=0.765 total time=   0.5s\n",
      "[CV 3/5] END algorithm=brute, n_neighbors=23, weights=uniform;, score=0.781 total time=   0.5s\n",
      "[CV 4/5] END algorithm=brute, n_neighbors=23, weights=uniform;, score=0.754 total time=   0.5s\n",
      "[CV 5/5] END algorithm=brute, n_neighbors=23, weights=uniform;, score=0.770 total time=   0.5s\n",
      "[CV 1/5] END algorithm=brute, n_neighbors=23, weights=distance;, score=0.859 total time=   0.4s\n",
      "[CV 2/5] END algorithm=brute, n_neighbors=23, weights=distance;, score=0.882 total time=   0.5s\n",
      "[CV 3/5] END algorithm=brute, n_neighbors=23, weights=distance;, score=0.894 total time=   0.4s\n",
      "[CV 4/5] END algorithm=brute, n_neighbors=23, weights=distance;, score=0.866 total time=   0.4s\n",
      "[CV 5/5] END algorithm=brute, n_neighbors=23, weights=distance;, score=0.876 total time=   0.5s\n",
      "[CV 1/5] END algorithm=brute, n_neighbors=24, weights=uniform;, score=0.744 total time=   0.5s\n",
      "[CV 2/5] END algorithm=brute, n_neighbors=24, weights=uniform;, score=0.761 total time=   0.5s\n",
      "[CV 3/5] END algorithm=brute, n_neighbors=24, weights=uniform;, score=0.779 total time=   0.5s\n",
      "[CV 4/5] END algorithm=brute, n_neighbors=24, weights=uniform;, score=0.760 total time=   0.5s\n",
      "[CV 5/5] END algorithm=brute, n_neighbors=24, weights=uniform;, score=0.772 total time=   0.5s\n",
      "[CV 1/5] END algorithm=brute, n_neighbors=24, weights=distance;, score=0.859 total time=   0.4s\n",
      "[CV 2/5] END algorithm=brute, n_neighbors=24, weights=distance;, score=0.885 total time=   0.4s\n",
      "[CV 3/5] END algorithm=brute, n_neighbors=24, weights=distance;, score=0.892 total time=   0.5s\n",
      "[CV 4/5] END algorithm=brute, n_neighbors=24, weights=distance;, score=0.868 total time=   0.4s\n",
      "[CV 5/5] END algorithm=brute, n_neighbors=24, weights=distance;, score=0.880 total time=   0.5s\n",
      "[CV 1/5] END algorithm=brute, n_neighbors=25, weights=uniform;, score=0.743 total time=   0.5s\n",
      "[CV 2/5] END algorithm=brute, n_neighbors=25, weights=uniform;, score=0.768 total time=   0.5s\n",
      "[CV 3/5] END algorithm=brute, n_neighbors=25, weights=uniform;, score=0.780 total time=   0.5s\n",
      "[CV 4/5] END algorithm=brute, n_neighbors=25, weights=uniform;, score=0.757 total time=   0.5s\n",
      "[CV 5/5] END algorithm=brute, n_neighbors=25, weights=uniform;, score=0.773 total time=   0.5s\n",
      "[CV 1/5] END algorithm=brute, n_neighbors=25, weights=distance;, score=0.859 total time=   0.4s\n",
      "[CV 2/5] END algorithm=brute, n_neighbors=25, weights=distance;, score=0.884 total time=   0.4s\n",
      "[CV 3/5] END algorithm=brute, n_neighbors=25, weights=distance;, score=0.893 total time=   0.5s\n",
      "[CV 4/5] END algorithm=brute, n_neighbors=25, weights=distance;, score=0.868 total time=   0.4s\n",
      "[CV 5/5] END algorithm=brute, n_neighbors=25, weights=distance;, score=0.881 total time=   0.5s\n",
      "[CV 1/5] END algorithm=brute, n_neighbors=26, weights=uniform;, score=0.746 total time=   0.5s\n",
      "[CV 2/5] END algorithm=brute, n_neighbors=26, weights=uniform;, score=0.767 total time=   0.5s\n",
      "[CV 3/5] END algorithm=brute, n_neighbors=26, weights=uniform;, score=0.784 total time=   0.5s\n",
      "[CV 4/5] END algorithm=brute, n_neighbors=26, weights=uniform;, score=0.754 total time=   0.5s\n",
      "[CV 5/5] END algorithm=brute, n_neighbors=26, weights=uniform;, score=0.772 total time=   0.5s\n",
      "[CV 1/5] END algorithm=brute, n_neighbors=26, weights=distance;, score=0.859 total time=   0.4s\n",
      "[CV 2/5] END algorithm=brute, n_neighbors=26, weights=distance;, score=0.884 total time=   0.5s\n",
      "[CV 3/5] END algorithm=brute, n_neighbors=26, weights=distance;, score=0.894 total time=   0.4s\n",
      "[CV 4/5] END algorithm=brute, n_neighbors=26, weights=distance;, score=0.869 total time=   0.5s\n",
      "[CV 5/5] END algorithm=brute, n_neighbors=26, weights=distance;, score=0.881 total time=   0.4s\n",
      "[CV 1/5] END algorithm=brute, n_neighbors=27, weights=uniform;, score=0.751 total time=   0.5s\n",
      "[CV 2/5] END algorithm=brute, n_neighbors=27, weights=uniform;, score=0.767 total time=   0.5s\n",
      "[CV 3/5] END algorithm=brute, n_neighbors=27, weights=uniform;, score=0.784 total time=   0.5s\n",
      "[CV 4/5] END algorithm=brute, n_neighbors=27, weights=uniform;, score=0.753 total time=   0.5s\n",
      "[CV 5/5] END algorithm=brute, n_neighbors=27, weights=uniform;, score=0.773 total time=   0.5s\n",
      "[CV 1/5] END algorithm=brute, n_neighbors=27, weights=distance;, score=0.862 total time=   0.4s\n",
      "[CV 2/5] END algorithm=brute, n_neighbors=27, weights=distance;, score=0.886 total time=   0.5s\n",
      "[CV 3/5] END algorithm=brute, n_neighbors=27, weights=distance;, score=0.896 total time=   0.4s\n",
      "[CV 4/5] END algorithm=brute, n_neighbors=27, weights=distance;, score=0.870 total time=   0.5s\n",
      "[CV 5/5] END algorithm=brute, n_neighbors=27, weights=distance;, score=0.881 total time=   0.4s\n",
      "[CV 1/5] END algorithm=brute, n_neighbors=28, weights=uniform;, score=0.752 total time=   0.5s\n",
      "[CV 2/5] END algorithm=brute, n_neighbors=28, weights=uniform;, score=0.770 total time=   0.5s\n",
      "[CV 3/5] END algorithm=brute, n_neighbors=28, weights=uniform;, score=0.777 total time=   0.5s\n",
      "[CV 4/5] END algorithm=brute, n_neighbors=28, weights=uniform;, score=0.752 total time=   0.5s\n",
      "[CV 5/5] END algorithm=brute, n_neighbors=28, weights=uniform;, score=0.776 total time=   0.5s\n",
      "[CV 1/5] END algorithm=brute, n_neighbors=28, weights=distance;, score=0.863 total time=   0.4s\n",
      "[CV 2/5] END algorithm=brute, n_neighbors=28, weights=distance;, score=0.890 total time=   0.4s\n",
      "[CV 3/5] END algorithm=brute, n_neighbors=28, weights=distance;, score=0.894 total time=   0.5s\n",
      "[CV 4/5] END algorithm=brute, n_neighbors=28, weights=distance;, score=0.869 total time=   0.4s\n",
      "[CV 5/5] END algorithm=brute, n_neighbors=28, weights=distance;, score=0.884 total time=   0.4s\n",
      "[CV 1/5] END algorithm=brute, n_neighbors=29, weights=uniform;, score=0.755 total time=   0.5s\n",
      "[CV 2/5] END algorithm=brute, n_neighbors=29, weights=uniform;, score=0.772 total time=   0.5s\n",
      "[CV 3/5] END algorithm=brute, n_neighbors=29, weights=uniform;, score=0.775 total time=   0.5s\n",
      "[CV 4/5] END algorithm=brute, n_neighbors=29, weights=uniform;, score=0.749 total time=   0.5s\n",
      "[CV 5/5] END algorithm=brute, n_neighbors=29, weights=uniform;, score=0.770 total time=   0.5s\n",
      "[CV 1/5] END algorithm=brute, n_neighbors=29, weights=distance;, score=0.866 total time=   0.4s\n",
      "[CV 2/5] END algorithm=brute, n_neighbors=29, weights=distance;, score=0.887 total time=   0.5s\n",
      "[CV 3/5] END algorithm=brute, n_neighbors=29, weights=distance;, score=0.895 total time=   0.5s\n",
      "[CV 4/5] END algorithm=brute, n_neighbors=29, weights=distance;, score=0.871 total time=   0.4s\n",
      "[CV 5/5] END algorithm=brute, n_neighbors=29, weights=distance;, score=0.881 total time=   0.5s\n",
      "[CV 1/5] END algorithm=brute, n_neighbors=30, weights=uniform;, score=0.750 total time=   0.5s\n",
      "[CV 2/5] END algorithm=brute, n_neighbors=30, weights=uniform;, score=0.771 total time=   0.5s\n",
      "[CV 3/5] END algorithm=brute, n_neighbors=30, weights=uniform;, score=0.777 total time=   0.5s\n",
      "[CV 4/5] END algorithm=brute, n_neighbors=30, weights=uniform;, score=0.751 total time=   0.5s\n",
      "[CV 5/5] END algorithm=brute, n_neighbors=30, weights=uniform;, score=0.767 total time=   0.5s\n"
     ]
    },
    {
     "name": "stdout",
     "output_type": "stream",
     "text": [
      "[CV 1/5] END algorithm=brute, n_neighbors=30, weights=distance;, score=0.867 total time=   0.4s\n",
      "[CV 2/5] END algorithm=brute, n_neighbors=30, weights=distance;, score=0.888 total time=   0.5s\n",
      "[CV 3/5] END algorithm=brute, n_neighbors=30, weights=distance;, score=0.896 total time=   0.4s\n",
      "[CV 4/5] END algorithm=brute, n_neighbors=30, weights=distance;, score=0.870 total time=   0.4s\n",
      "[CV 5/5] END algorithm=brute, n_neighbors=30, weights=distance;, score=0.881 total time=   0.5s\n"
     ]
    },
    {
     "data": {
      "text/plain": [
       "GridSearchCV(cv=5, estimator=KNeighborsClassifier(),\n",
       "             param_grid={'algorithm': ['auto', 'ball_tree', 'kd_tree', 'brute'],\n",
       "                         'n_neighbors': [1, 2, 3, 4, 5, 6, 7, 8, 9, 10, 11, 12,\n",
       "                                         13, 14, 15, 16, 17, 18, 19, 20, 21, 22,\n",
       "                                         23, 24, 25, 26, 27, 28, 29, 30],\n",
       "                         'weights': ['uniform', 'distance']},\n",
       "             scoring='accuracy', verbose=3)"
      ]
     },
     "execution_count": 96,
     "metadata": {},
     "output_type": "execute_result"
    }
   ],
   "source": [
    "kn_grid.fit(X_ros_clean, y_ros)"
   ]
  },
  {
   "cell_type": "code",
   "execution_count": 97,
   "id": "d9902423",
   "metadata": {},
   "outputs": [
    {
     "name": "stdout",
     "output_type": "stream",
     "text": [
      "{'algorithm': 'auto', 'n_neighbors': 1, 'weights': 'uniform'}\n"
     ]
    }
   ],
   "source": [
    "print(kn_grid.best_params_)"
   ]
  },
  {
   "cell_type": "code",
   "execution_count": 98,
   "id": "b55b5bf2",
   "metadata": {},
   "outputs": [],
   "source": [
    "# Refit the KNeighborsRegressor\n",
    "kn_grid = KNeighborsClassifier(n_neighbors = kn_grid.best_params_[\"n_neighbors\"],\n",
    "                               weights = kn_grid.best_params_[\"weights\"],\n",
    "                               algorithm = kn_grid.best_params_[\"algorithm\"]\n",
    "                              )"
   ]
  },
  {
   "cell_type": "code",
   "execution_count": 99,
   "id": "f5b58d4f",
   "metadata": {},
   "outputs": [
    {
     "data": {
      "text/plain": [
       "KNeighborsClassifier(n_neighbors=1)"
      ]
     },
     "execution_count": 99,
     "metadata": {},
     "output_type": "execute_result"
    }
   ],
   "source": [
    "kn_grid.fit(X_ros_clean, y_ros)"
   ]
  },
  {
   "cell_type": "code",
   "execution_count": 100,
   "id": "2ff55f13",
   "metadata": {},
   "outputs": [],
   "source": [
    "knn_cvpred = kn_grid.predict(X_test_clean)"
   ]
  },
  {
   "cell_type": "code",
   "execution_count": 101,
   "id": "3867aabb",
   "metadata": {},
   "outputs": [
    {
     "name": "stdout",
     "output_type": "stream",
     "text": [
      "              precision    recall  f1-score   support\n",
      "\n",
      "           0       0.86      0.85      0.85      1424\n",
      "           1       0.44      0.46      0.45       376\n",
      "\n",
      "    accuracy                           0.76      1800\n",
      "   macro avg       0.65      0.65      0.65      1800\n",
      "weighted avg       0.77      0.76      0.77      1800\n",
      "\n"
     ]
    }
   ],
   "source": [
    "print(classification_report(y_test, knn_cvpred, labels=[0,1]))"
   ]
  },
  {
   "cell_type": "code",
   "execution_count": 102,
   "id": "c82b7c89",
   "metadata": {},
   "outputs": [
    {
     "name": "stdout",
     "output_type": "stream",
     "text": [
      "Training Data Score: 1.0\n",
      "Validating Data Score: 0.7866666666666666\n",
      "Testing Data Score: 0.7644444444444445\n"
     ]
    }
   ],
   "source": [
    "print(f\"Training Data Score: {kn_grid.score(X_ros_clean, y_ros)}\")\n",
    "print(f\"Validating Data Score: {kn_grid.score(X_valid_clean, y_valid)}\")\n",
    "print(f\"Testing Data Score: {kn_grid.score(X_test_clean, y_test)}\")"
   ]
  },
  {
   "cell_type": "code",
   "execution_count": 103,
   "id": "2b339399",
   "metadata": {},
   "outputs": [
    {
     "data": {
      "image/png": "[encoded data removed]",
      "text/plain": [
       "<Figure size 432x288 with 2 Axes>"
      ]
     },
     "metadata": {
      "needs_background": "light"
     },
     "output_type": "display_data"
    }
   ],
   "source": [
    "ConfusionMatrixDisplay.from_predictions(y_test, knn_cvpred, display_labels = [False, True])\n",
    "plt.show()"
   ]
  },
  {
   "cell_type": "markdown",
   "id": "88d77790",
   "metadata": {},
   "source": [
    "### Bagging Classifier"
   ]
  },
  {
   "cell_type": "code",
   "execution_count": 104,
   "id": "cf4b1227",
   "metadata": {},
   "outputs": [],
   "source": [
    "dec_tree = DecisionTreeClassifier(random_state=123)"
   ]
  },
  {
   "cell_type": "code",
   "execution_count": 105,
   "id": "12bef752",
   "metadata": {},
   "outputs": [],
   "source": [
    "bagging_cls = BaggingClassifier(base_estimator=dec_tree, n_estimators=10, random_state=123)"
   ]
  },
  {
   "cell_type": "code",
   "execution_count": 106,
   "id": "67a6c770",
   "metadata": {},
   "outputs": [
    {
     "data": {
      "text/plain": [
       "BaggingClassifier(base_estimator=DecisionTreeClassifier(random_state=123),\n",
       "                  random_state=123)"
      ]
     },
     "execution_count": 106,
     "metadata": {},
     "output_type": "execute_result"
    }
   ],
   "source": [
    "# fit KNeighborsRegressor\n",
    "bagging_cls.fit(X_ros_clean, y_ros)"
   ]
  },
  {
   "cell_type": "code",
   "execution_count": 107,
   "id": "1c2236e4",
   "metadata": {},
   "outputs": [
    {
     "data": {
      "text/plain": [
       "0.9975754310344828"
      ]
     },
     "execution_count": 107,
     "metadata": {},
     "output_type": "execute_result"
    }
   ],
   "source": [
    "bagging_cls.score(X_ros_clean, y_ros)"
   ]
  },
  {
   "cell_type": "code",
   "execution_count": 108,
   "id": "7ca5c93a",
   "metadata": {},
   "outputs": [],
   "source": [
    "bagging_predict = bagging_cls.predict(X_test_clean)"
   ]
  },
  {
   "cell_type": "code",
   "execution_count": 109,
   "id": "85364a86",
   "metadata": {},
   "outputs": [
    {
     "name": "stdout",
     "output_type": "stream",
     "text": [
      "              precision    recall  f1-score   support\n",
      "\n",
      "           0       0.89      0.91      0.90      1424\n",
      "           1       0.62      0.57      0.60       376\n",
      "\n",
      "    accuracy                           0.84      1800\n",
      "   macro avg       0.76      0.74      0.75      1800\n",
      "weighted avg       0.83      0.84      0.84      1800\n",
      "\n"
     ]
    }
   ],
   "source": [
    "print(classification_report(y_test, bagging_predict, labels=[0,1]))"
   ]
  },
  {
   "cell_type": "code",
   "execution_count": 110,
   "id": "e577b5f9",
   "metadata": {},
   "outputs": [
    {
     "name": "stdout",
     "output_type": "stream",
     "text": [
      "Training Data Score: 0.9975754310344828\n",
      "Validating Data Score: 0.8408333333333333\n",
      "Testing Data Score: 0.8388888888888889\n"
     ]
    }
   ],
   "source": [
    "print(f\"Training Data Score: {bagging_cls.score(X_ros_clean, y_ros)}\")\n",
    "print(f\"Validating Data Score: {bagging_cls.score(X_valid_clean, y_valid)}\")\n",
    "print(f\"Testing Data Score: {bagging_cls.score(X_test_clean, y_test)}\")"
   ]
  },
  {
   "cell_type": "markdown",
   "id": "9eb7030f",
   "metadata": {},
   "source": [
    "## Tuning Parameter Bagging Classifier"
   ]
  },
  {
   "cell_type": "code",
   "execution_count": 111,
   "id": "93d1d2e5",
   "metadata": {},
   "outputs": [],
   "source": [
    "cv = RepeatedStratifiedKFold(n_splits=10, n_repeats=3, random_state=123)\n",
    "bagging_param_grid = {'n_estimators' : [10, 100, 1000]}"
   ]
  },
  {
   "cell_type": "code",
   "execution_count": 112,
   "id": "cad36160",
   "metadata": {},
   "outputs": [],
   "source": [
    "bagging_grid_cv = GridSearchCV(estimator=BaggingClassifier(random_state=123), \n",
    "                               param_grid=bagging_param_grid, \n",
    "                               n_jobs=-1, \n",
    "                               cv=cv, \n",
    "                               scoring='accuracy',\n",
    "                               error_score=0)"
   ]
  },
  {
   "cell_type": "code",
   "execution_count": 113,
   "id": "9e3e51d6",
   "metadata": {},
   "outputs": [
    {
     "data": {
      "text/plain": [
       "GridSearchCV(cv=RepeatedStratifiedKFold(n_repeats=3, n_splits=10, random_state=123),\n",
       "             error_score=0, estimator=BaggingClassifier(random_state=123),\n",
       "             n_jobs=-1, param_grid={'n_estimators': [10, 100, 1000]},\n",
       "             scoring='accuracy')"
      ]
     },
     "execution_count": 113,
     "metadata": {},
     "output_type": "execute_result"
    }
   ],
   "source": [
    "bagging_grid_cv.fit(X_ros_clean, y_ros)"
   ]
  },
  {
   "cell_type": "code",
   "execution_count": 114,
   "id": "f6160199",
   "metadata": {},
   "outputs": [
    {
     "data": {
      "text/plain": [
       "{'n_estimators': 1000}"
      ]
     },
     "execution_count": 114,
     "metadata": {},
     "output_type": "execute_result"
    }
   ],
   "source": [
    "bagging_grid_cv.best_params_"
   ]
  },
  {
   "cell_type": "code",
   "execution_count": 115,
   "id": "07095f23",
   "metadata": {},
   "outputs": [],
   "source": [
    "bagging_cv  = BaggingClassifier(n_estimators = bagging_grid_cv.best_params_[\"n_estimators\"])"
   ]
  },
  {
   "cell_type": "code",
   "execution_count": 116,
   "id": "3670e4f9",
   "metadata": {},
   "outputs": [
    {
     "data": {
      "text/plain": [
       "BaggingClassifier(n_estimators=1000)"
      ]
     },
     "execution_count": 116,
     "metadata": {},
     "output_type": "execute_result"
    }
   ],
   "source": [
    "bagging_cv.fit(X_ros_clean, y_ros)"
   ]
  },
  {
   "cell_type": "code",
   "execution_count": 117,
   "id": "144aa28d",
   "metadata": {},
   "outputs": [],
   "source": [
    "baggingcv_predict = bagging_cv.predict(X_test_clean)"
   ]
  },
  {
   "cell_type": "code",
   "execution_count": 118,
   "id": "daa3a0f4",
   "metadata": {},
   "outputs": [
    {
     "name": "stdout",
     "output_type": "stream",
     "text": [
      "              precision    recall  f1-score   support\n",
      "\n",
      "           0       0.89      0.91      0.90      1424\n",
      "           1       0.62      0.59      0.61       376\n",
      "\n",
      "    accuracy                           0.84      1800\n",
      "   macro avg       0.76      0.75      0.75      1800\n",
      "weighted avg       0.84      0.84      0.84      1800\n",
      "\n"
     ]
    }
   ],
   "source": [
    "print(classification_report(y_test, baggingcv_predict, labels=[0,1]))"
   ]
  },
  {
   "cell_type": "code",
   "execution_count": 119,
   "id": "ad5d8a47",
   "metadata": {},
   "outputs": [
    {
     "name": "stdout",
     "output_type": "stream",
     "text": [
      "Training Data Score: 1.0\n",
      "Validating Data Score: 0.8475\n",
      "Testing Data Score: 0.8394444444444444\n"
     ]
    }
   ],
   "source": [
    "print(f\"Training Data Score: {bagging_cv.score(X_ros_clean, y_ros)}\")\n",
    "print(f\"Validating Data Score: {bagging_cv.score(X_valid_clean, y_valid)}\")\n",
    "print(f\"Testing Data Score: {bagging_cv.score(X_test_clean, y_test)}\")"
   ]
  },
  {
   "cell_type": "code",
   "execution_count": 120,
   "id": "a0247b93",
   "metadata": {},
   "outputs": [
    {
     "data": {
      "image/png": "[encoded data removed]",
      "text/plain": [
       "<Figure size 432x288 with 2 Axes>"
      ]
     },
     "metadata": {
      "needs_background": "light"
     },
     "output_type": "display_data"
    }
   ],
   "source": [
    "ConfusionMatrixDisplay.from_predictions(y_test, baggingcv_predict, display_labels = [False, True])\n",
    "plt.show()"
   ]
  },
  {
   "cell_type": "markdown",
   "id": "bdd585e4",
   "metadata": {},
   "source": [
    "## Gradient Boosting"
   ]
  },
  {
   "cell_type": "code",
   "execution_count": 121,
   "id": "ed310495",
   "metadata": {},
   "outputs": [],
   "source": [
    "# Build GradientBoosting\n",
    "grad_boost = GradientBoostingClassifier(random_state = 123)"
   ]
  },
  {
   "cell_type": "code",
   "execution_count": 122,
   "id": "e08d4092",
   "metadata": {},
   "outputs": [
    {
     "data": {
      "text/plain": [
       "GradientBoostingClassifier(random_state=123)"
      ]
     },
     "execution_count": 122,
     "metadata": {},
     "output_type": "execute_result"
    }
   ],
   "source": [
    "# Fit GradientBoosting\n",
    "grad_boost.fit(X_ros_clean, y_ros)"
   ]
  },
  {
   "cell_type": "code",
   "execution_count": 123,
   "id": "02ee96b1",
   "metadata": {},
   "outputs": [
    {
     "data": {
      "text/plain": [
       "0.805944683908046"
      ]
     },
     "execution_count": 123,
     "metadata": {},
     "output_type": "execute_result"
    }
   ],
   "source": [
    "grad_boost.score(X_ros_clean, y_ros)"
   ]
  },
  {
   "cell_type": "code",
   "execution_count": 124,
   "id": "e38758dd",
   "metadata": {},
   "outputs": [],
   "source": [
    "gradboost_predict = grad_boost.predict(X_test_clean)"
   ]
  },
  {
   "cell_type": "code",
   "execution_count": 125,
   "id": "65e7d545",
   "metadata": {},
   "outputs": [
    {
     "name": "stdout",
     "output_type": "stream",
     "text": [
      "              precision    recall  f1-score   support\n",
      "\n",
      "           0       0.94      0.78      0.85      1424\n",
      "           1       0.49      0.81      0.61       376\n",
      "\n",
      "    accuracy                           0.78      1800\n",
      "   macro avg       0.71      0.79      0.73      1800\n",
      "weighted avg       0.84      0.78      0.80      1800\n",
      "\n"
     ]
    }
   ],
   "source": [
    "print(classification_report(y_test, gradboost_predict, labels=[0,1]))"
   ]
  },
  {
   "cell_type": "code",
   "execution_count": 126,
   "id": "ed169aef",
   "metadata": {},
   "outputs": [
    {
     "name": "stdout",
     "output_type": "stream",
     "text": [
      "Training Data Score: 0.805944683908046\n",
      "Validating Data Score: 0.7783333333333333\n",
      "Testing Data Score: 0.7822222222222223\n"
     ]
    }
   ],
   "source": [
    "print(f\"Training Data Score: {grad_boost.score(X_ros_clean, y_ros)}\")\n",
    "print(f\"Validating Data Score: {grad_boost.score(X_valid_clean, y_valid)}\")\n",
    "print(f\"Testing Data Score: {grad_boost.score(X_test_clean, y_test)}\")"
   ]
  },
  {
   "cell_type": "markdown",
   "id": "262bda29",
   "metadata": {},
   "source": [
    "### Tuning Parameter Gradient Boosting"
   ]
  },
  {
   "cell_type": "code",
   "execution_count": 127,
   "id": "3d0d0b12",
   "metadata": {},
   "outputs": [],
   "source": [
    "grad_param_grid = {\n",
    "    'n_estimators' : [10, 50, 100],\n",
    "    'learning_rate' : [0.001, 0.01, 0.1],\n",
    "    'subsample' : [0.5, 0.7, 1.0],\n",
    "    'max_depth' : [3, 7, 9]\n",
    "}"
   ]
  },
  {
   "cell_type": "code",
   "execution_count": 128,
   "id": "5a17e424",
   "metadata": {},
   "outputs": [],
   "source": [
    "grad_grid_cv = GridSearchCV(estimator=GradientBoostingClassifier(), \n",
    "                           param_grid=grad_param_grid,\n",
    "                           cv=5, \n",
    "                           scoring='accuracy',\n",
    "                           error_score=0)"
   ]
  },
  {
   "cell_type": "code",
   "execution_count": 129,
   "id": "95e1dee9",
   "metadata": {},
   "outputs": [
    {
     "data": {
      "text/plain": [
       "GridSearchCV(cv=5, error_score=0, estimator=GradientBoostingClassifier(),\n",
       "             param_grid={'learning_rate': [0.001, 0.01, 0.1],\n",
       "                         'max_depth': [3, 7, 9], 'n_estimators': [10, 50, 100],\n",
       "                         'subsample': [0.5, 0.7, 1.0]},\n",
       "             scoring='accuracy')"
      ]
     },
     "execution_count": 129,
     "metadata": {},
     "output_type": "execute_result"
    }
   ],
   "source": [
    "grad_grid_cv.fit(X_ros_clean, y_ros)"
   ]
  },
  {
   "cell_type": "code",
   "execution_count": 130,
   "id": "84296588",
   "metadata": {},
   "outputs": [
    {
     "data": {
      "text/plain": [
       "{'learning_rate': 0.1, 'max_depth': 9, 'n_estimators': 100, 'subsample': 0.7}"
      ]
     },
     "execution_count": 130,
     "metadata": {},
     "output_type": "execute_result"
    }
   ],
   "source": [
    "grad_grid_cv.best_params_"
   ]
  },
  {
   "cell_type": "code",
   "execution_count": 131,
   "id": "02b94e52",
   "metadata": {},
   "outputs": [],
   "source": [
    "gradboost_cv  = GradientBoostingClassifier(n_estimators = grad_grid_cv.best_params_[\"n_estimators\"],\n",
    "                                           learning_rate = grad_grid_cv.best_params_[\"learning_rate\"],\n",
    "                                           subsample = grad_grid_cv.best_params_[\"subsample\"],\n",
    "                                           max_depth = grad_grid_cv.best_params_[\"max_depth\"],\n",
    "                                           random_state = 123)"
   ]
  },
  {
   "cell_type": "code",
   "execution_count": 132,
   "id": "7c974022",
   "metadata": {},
   "outputs": [
    {
     "data": {
      "text/plain": [
       "GradientBoostingClassifier(max_depth=9, random_state=123, subsample=0.7)"
      ]
     },
     "execution_count": 132,
     "metadata": {},
     "output_type": "execute_result"
    }
   ],
   "source": [
    "gradboost_cv.fit(X_ros_clean, y_ros)"
   ]
  },
  {
   "cell_type": "code",
   "execution_count": 133,
   "id": "5a2bb59c",
   "metadata": {},
   "outputs": [],
   "source": [
    "gradboost_pred_cv = gradboost_cv.predict(X_test_clean)"
   ]
  },
  {
   "cell_type": "code",
   "execution_count": 134,
   "id": "df26e411",
   "metadata": {},
   "outputs": [
    {
     "name": "stdout",
     "output_type": "stream",
     "text": [
      "              precision    recall  f1-score   support\n",
      "\n",
      "           0       0.90      0.90      0.90      1424\n",
      "           1       0.64      0.64      0.64       376\n",
      "\n",
      "    accuracy                           0.85      1800\n",
      "   macro avg       0.77      0.77      0.77      1800\n",
      "weighted avg       0.85      0.85      0.85      1800\n",
      "\n"
     ]
    }
   ],
   "source": [
    "print(classification_report(y_test, gradboost_pred_cv, labels=[0,1]))"
   ]
  },
  {
   "cell_type": "code",
   "execution_count": 135,
   "id": "04df897e",
   "metadata": {},
   "outputs": [
    {
     "data": {
      "image/png": "[encoded data removed]",
      "text/plain": [
       "<Figure size 432x288 with 2 Axes>"
      ]
     },
     "metadata": {
      "needs_background": "light"
     },
     "output_type": "display_data"
    }
   ],
   "source": [
    "ConfusionMatrixDisplay.from_predictions(y_test, gradboost_pred_cv, display_labels = [False, True])\n",
    "plt.show()"
   ]
  },
  {
   "cell_type": "markdown",
   "id": "e44c81e2",
   "metadata": {},
   "source": [
    "## Adaboost Classifier"
   ]
  },
  {
   "cell_type": "markdown",
   "id": "b4f7b73a",
   "metadata": {},
   "source": [
    "### Adaboost SVC"
   ]
  },
  {
   "cell_type": "code",
   "execution_count": 136,
   "id": "965240ec",
   "metadata": {},
   "outputs": [],
   "source": [
    "svc = SVC(probability=True, kernel='linear', random_state = 123)\n",
    "\n",
    "# Create adaboost classifer object\n",
    "adaboost_svc = AdaBoostClassifier(n_estimators=50, \n",
    "                                  base_estimator=svc,\n",
    "                                  learning_rate=1)"
   ]
  },
  {
   "cell_type": "code",
   "execution_count": 137,
   "id": "f316e056",
   "metadata": {},
   "outputs": [
    {
     "data": {
      "text/plain": [
       "AdaBoostClassifier(base_estimator=SVC(kernel='linear', probability=True,\n",
       "                                      random_state=123),\n",
       "                   learning_rate=1)"
      ]
     },
     "execution_count": 137,
     "metadata": {},
     "output_type": "execute_result"
    }
   ],
   "source": [
    "# Train Adaboost Classifer\n",
    "adaboost_svc.fit(X_ros_clean, y_ros)"
   ]
  },
  {
   "cell_type": "code",
   "execution_count": 138,
   "id": "10cde0c9",
   "metadata": {},
   "outputs": [
    {
     "data": {
      "text/plain": [
       "0.6041666666666666"
      ]
     },
     "execution_count": 138,
     "metadata": {},
     "output_type": "execute_result"
    }
   ],
   "source": [
    "adaboost_svc.score(X_ros_clean, y_ros)"
   ]
  },
  {
   "cell_type": "code",
   "execution_count": 139,
   "id": "d8792238",
   "metadata": {},
   "outputs": [],
   "source": [
    "ada_predict = adaboost_svc.predict(X_test_clean)"
   ]
  },
  {
   "cell_type": "code",
   "execution_count": 140,
   "id": "4822d760",
   "metadata": {},
   "outputs": [
    {
     "name": "stdout",
     "output_type": "stream",
     "text": [
      "              precision    recall  f1-score   support\n",
      "\n",
      "           0       0.87      0.55      0.67      1424\n",
      "           1       0.29      0.68      0.40       376\n",
      "\n",
      "    accuracy                           0.58      1800\n",
      "   macro avg       0.58      0.62      0.54      1800\n",
      "weighted avg       0.75      0.58      0.62      1800\n",
      "\n"
     ]
    }
   ],
   "source": [
    "print(classification_report(y_test, ada_predict, labels=[0,1]))"
   ]
  },
  {
   "cell_type": "code",
   "execution_count": 141,
   "id": "a56855ba",
   "metadata": {},
   "outputs": [
    {
     "name": "stdout",
     "output_type": "stream",
     "text": [
      "Training Data Score: 0.6041666666666666\n",
      "Validating Data Score: 0.5525\n",
      "Testing Data Score: 0.5761111111111111\n"
     ]
    }
   ],
   "source": [
    "print(f\"Training Data Score: {adaboost_svc.score(X_ros_clean, y_ros)}\")\n",
    "print(f\"Validating Data Score: {adaboost_svc.score(X_valid_clean, y_valid)}\")\n",
    "print(f\"Testing Data Score: {adaboost_svc.score(X_test_clean, y_test)}\")"
   ]
  },
  {
   "cell_type": "markdown",
   "id": "2be59d51",
   "metadata": {},
   "source": [
    "### Adaboost Original"
   ]
  },
  {
   "cell_type": "code",
   "execution_count": 142,
   "id": "09a8334f",
   "metadata": {},
   "outputs": [],
   "source": [
    "# Create adaboost classifer object\n",
    "abc = AdaBoostClassifier(n_estimators=50,\n",
    "                         learning_rate=1,\n",
    "                         random_state = 123)"
   ]
  },
  {
   "cell_type": "code",
   "execution_count": 143,
   "id": "558fb2eb",
   "metadata": {},
   "outputs": [],
   "source": [
    "# Train Adaboost Classifer\n",
    "abc_ori = abc.fit(X_ros_clean, y_ros)"
   ]
  },
  {
   "cell_type": "code",
   "execution_count": 144,
   "id": "f8974f1d",
   "metadata": {},
   "outputs": [
    {
     "data": {
      "text/plain": [
       "0.7755028735632183"
      ]
     },
     "execution_count": 144,
     "metadata": {},
     "output_type": "execute_result"
    }
   ],
   "source": [
    "abc_ori.score(X_ros_clean, y_ros)"
   ]
  },
  {
   "cell_type": "code",
   "execution_count": 145,
   "id": "7922e1c6",
   "metadata": {},
   "outputs": [],
   "source": [
    "adaboost_pred_ori = abc_ori.predict(X_test_clean)"
   ]
  },
  {
   "cell_type": "code",
   "execution_count": 146,
   "id": "94cbd225",
   "metadata": {},
   "outputs": [
    {
     "name": "stdout",
     "output_type": "stream",
     "text": [
      "              precision    recall  f1-score   support\n",
      "\n",
      "           0       0.94      0.76      0.84      1424\n",
      "           1       0.47      0.82      0.60       376\n",
      "\n",
      "    accuracy                           0.77      1800\n",
      "   macro avg       0.71      0.79      0.72      1800\n",
      "weighted avg       0.84      0.77      0.79      1800\n",
      "\n"
     ]
    }
   ],
   "source": [
    "print(classification_report(y_test, adaboost_pred_ori, labels=[0,1]))"
   ]
  },
  {
   "cell_type": "code",
   "execution_count": 147,
   "id": "c82923f8",
   "metadata": {},
   "outputs": [
    {
     "name": "stdout",
     "output_type": "stream",
     "text": [
      "Training Data Score: 0.7755028735632183\n",
      "Validating Data Score: 0.7716666666666666\n",
      "Testing Data Score: 0.77\n"
     ]
    }
   ],
   "source": [
    "print(f\"Training Data Score: {abc_ori.score(X_ros_clean, y_ros)}\")\n",
    "print(f\"Validating Data Score: {abc_ori.score(X_valid_clean, y_valid)}\")\n",
    "print(f\"Testing Data Score: {abc_ori.score(X_test_clean, y_test)}\")"
   ]
  },
  {
   "cell_type": "markdown",
   "id": "a2a050a5",
   "metadata": {},
   "source": [
    "## Tuning Parameter Adaboost"
   ]
  },
  {
   "cell_type": "code",
   "execution_count": 148,
   "id": "0778b2e8",
   "metadata": {},
   "outputs": [],
   "source": [
    "adaboost = AdaBoostClassifier(random_state = 123)"
   ]
  },
  {
   "cell_type": "code",
   "execution_count": 149,
   "id": "810c6198",
   "metadata": {},
   "outputs": [],
   "source": [
    "param_grid = {\n",
    "    'n_estimators': [50, 100, 200],\n",
    "    'learning_rate': [0.1, 0.5, 1.0],\n",
    "    'algorithm': ['SAMME', 'SAMME.R']\n",
    "}"
   ]
  },
  {
   "cell_type": "code",
   "execution_count": 150,
   "id": "1bab5244",
   "metadata": {},
   "outputs": [],
   "source": [
    "grid_search_adaboost = GridSearchCV(adaboost, param_grid, scoring='accuracy', cv=5)"
   ]
  },
  {
   "cell_type": "code",
   "execution_count": 151,
   "id": "3d265cf3",
   "metadata": {},
   "outputs": [
    {
     "data": {
      "text/plain": [
       "GridSearchCV(cv=5, estimator=AdaBoostClassifier(random_state=123),\n",
       "             param_grid={'algorithm': ['SAMME', 'SAMME.R'],\n",
       "                         'learning_rate': [0.1, 0.5, 1.0],\n",
       "                         'n_estimators': [50, 100, 200]},\n",
       "             scoring='accuracy')"
      ]
     },
     "execution_count": 151,
     "metadata": {},
     "output_type": "execute_result"
    }
   ],
   "source": [
    "grid_search_adaboost.fit(X_ros_clean, y_ros)"
   ]
  },
  {
   "cell_type": "code",
   "execution_count": 152,
   "id": "e2257e71",
   "metadata": {},
   "outputs": [
    {
     "name": "stdout",
     "output_type": "stream",
     "text": [
      "{'algorithm': 'SAMME.R', 'learning_rate': 1.0, 'n_estimators': 200}\n"
     ]
    }
   ],
   "source": [
    "print(grid_search_adaboost.best_params_)"
   ]
  },
  {
   "cell_type": "code",
   "execution_count": 153,
   "id": "cc833d3c",
   "metadata": {},
   "outputs": [],
   "source": [
    "adaboost_best = AdaBoostClassifier(n_estimators = grid_search_adaboost.best_params_[\"n_estimators\"],\n",
    "                                   learning_rate = grid_search_adaboost.best_params_[\"learning_rate\"],\n",
    "                                   algorithm = grid_search_adaboost.best_params_[\"algorithm\"]\n",
    "                                  )"
   ]
  },
  {
   "cell_type": "code",
   "execution_count": 154,
   "id": "ba4d2f8a",
   "metadata": {},
   "outputs": [
    {
     "data": {
      "text/plain": [
       "AdaBoostClassifier(n_estimators=200)"
      ]
     },
     "execution_count": 154,
     "metadata": {},
     "output_type": "execute_result"
    }
   ],
   "source": [
    "adaboost_best.fit(X_ros_clean, y_ros)"
   ]
  },
  {
   "cell_type": "code",
   "execution_count": 155,
   "id": "60b4c743",
   "metadata": {},
   "outputs": [],
   "source": [
    "adaboost_pred_cv = adaboost_best.predict(X_test_clean)"
   ]
  },
  {
   "cell_type": "code",
   "execution_count": 156,
   "id": "6bcb6527",
   "metadata": {},
   "outputs": [
    {
     "name": "stdout",
     "output_type": "stream",
     "text": [
      "              precision    recall  f1-score   support\n",
      "\n",
      "           0       0.94      0.76      0.84      1424\n",
      "           1       0.48      0.82      0.60       376\n",
      "\n",
      "    accuracy                           0.78      1800\n",
      "   macro avg       0.71      0.79      0.72      1800\n",
      "weighted avg       0.84      0.78      0.79      1800\n",
      "\n"
     ]
    }
   ],
   "source": [
    "print(classification_report(y_test, adaboost_pred_cv, labels=[0,1]))"
   ]
  },
  {
   "cell_type": "code",
   "execution_count": 157,
   "id": "4a6fbc23",
   "metadata": {},
   "outputs": [
    {
     "name": "stdout",
     "output_type": "stream",
     "text": [
      "Training Data Score: 0.78125\n",
      "Validating Data Score: 0.7658333333333334\n",
      "Testing Data Score: 0.7761111111111111\n"
     ]
    }
   ],
   "source": [
    "print(f\"Training Data Score: {adaboost_best.score(X_ros_clean, y_ros)}\")\n",
    "print(f\"Validating Data Score: {adaboost_best.score(X_valid_clean, y_valid)}\")\n",
    "print(f\"Testing Data Score: {adaboost_best.score(X_test_clean, y_test)}\")"
   ]
  },
  {
   "cell_type": "code",
   "execution_count": 158,
   "id": "3820f2c8",
   "metadata": {},
   "outputs": [
    {
     "data": {
      "image/png": "[encoded data removed]",
      "text/plain": [
       "<Figure size 432x288 with 2 Axes>"
      ]
     },
     "metadata": {
      "needs_background": "light"
     },
     "output_type": "display_data"
    }
   ],
   "source": [
    "ConfusionMatrixDisplay.from_predictions(y_test, adaboost_pred_cv, display_labels = [False, True])\n",
    "plt.show()"
   ]
  },
  {
   "cell_type": "markdown",
   "id": "2dca04b0",
   "metadata": {},
   "source": [
    "## Extratrees Classifier"
   ]
  },
  {
   "cell_type": "code",
   "execution_count": 159,
   "id": "5f5749f7",
   "metadata": {},
   "outputs": [],
   "source": [
    "extra_trees_awal = ExtraTreesClassifier(random_state = 123)"
   ]
  },
  {
   "cell_type": "code",
   "execution_count": 160,
   "id": "4031c389",
   "metadata": {},
   "outputs": [
    {
     "data": {
      "text/plain": [
       "ExtraTreesClassifier(random_state=123)"
      ]
     },
     "execution_count": 160,
     "metadata": {},
     "output_type": "execute_result"
    }
   ],
   "source": [
    "extra_trees_awal.fit(X_ros_clean, y_ros)"
   ]
  },
  {
   "cell_type": "code",
   "execution_count": 161,
   "id": "8162dc67",
   "metadata": {},
   "outputs": [
    {
     "data": {
      "text/plain": [
       "1.0"
      ]
     },
     "execution_count": 161,
     "metadata": {},
     "output_type": "execute_result"
    }
   ],
   "source": [
    "extra_trees_awal.score(X_ros_clean, y_ros)"
   ]
  },
  {
   "cell_type": "code",
   "execution_count": 162,
   "id": "cf042d8b",
   "metadata": {},
   "outputs": [],
   "source": [
    "y_extratress_pred = extra_trees_awal.predict(X_test_clean)"
   ]
  },
  {
   "cell_type": "code",
   "execution_count": 163,
   "id": "2304f534",
   "metadata": {},
   "outputs": [
    {
     "name": "stdout",
     "output_type": "stream",
     "text": [
      "              precision    recall  f1-score   support\n",
      "\n",
      "           0       0.88      0.95      0.91      1424\n",
      "           1       0.74      0.49      0.59       376\n",
      "\n",
      "    accuracy                           0.86      1800\n",
      "   macro avg       0.81      0.72      0.75      1800\n",
      "weighted avg       0.85      0.86      0.85      1800\n",
      "\n"
     ]
    }
   ],
   "source": [
    "print(classification_report(y_test, y_extratress_pred, labels=[0,1]))"
   ]
  },
  {
   "cell_type": "code",
   "execution_count": 164,
   "id": "699934bd",
   "metadata": {},
   "outputs": [
    {
     "name": "stdout",
     "output_type": "stream",
     "text": [
      "Training Data Score: 1.0\n",
      "Validating Data Score: 0.8741666666666666\n",
      "Testing Data Score: 0.8583333333333333\n"
     ]
    }
   ],
   "source": [
    "print(f\"Training Data Score: {extra_trees_awal.score(X_ros_clean, y_ros)}\")\n",
    "print(f\"Validating Data Score: {extra_trees_awal.score(X_valid_clean, y_valid)}\")\n",
    "print(f\"Testing Data Score: {extra_trees_awal.score(X_test_clean, y_test)}\")"
   ]
  },
  {
   "cell_type": "markdown",
   "id": "a74b4e63",
   "metadata": {},
   "source": [
    "## Tuning Parameter Extratrees Classifier"
   ]
  },
  {
   "cell_type": "code",
   "execution_count": 165,
   "id": "6d4eb954",
   "metadata": {},
   "outputs": [],
   "source": [
    "extra_trees = ExtraTreesClassifier(random_state = 123) "
   ]
  },
  {
   "cell_type": "code",
   "execution_count": 166,
   "id": "50997d01",
   "metadata": {},
   "outputs": [],
   "source": [
    "param_grid = {\n",
    "    'n_estimators': [50, 100, 200],\n",
    "    'max_depth': [10, 20, 30, None],\n",
    "    'min_samples_split': [2, 5, 10],\n",
    "    'min_samples_leaf': [1, 2, 4]\n",
    "}"
   ]
  },
  {
   "cell_type": "code",
   "execution_count": 167,
   "id": "b032218c",
   "metadata": {},
   "outputs": [],
   "source": [
    "grid_search_et = GridSearchCV(extra_trees, param_grid, scoring='accuracy', cv=5)"
   ]
  },
  {
   "cell_type": "code",
   "execution_count": 168,
   "id": "65651970",
   "metadata": {},
   "outputs": [
    {
     "data": {
      "text/plain": [
       "GridSearchCV(cv=5, estimator=ExtraTreesClassifier(random_state=123),\n",
       "             param_grid={'max_depth': [10, 20, 30, None],\n",
       "                         'min_samples_leaf': [1, 2, 4],\n",
       "                         'min_samples_split': [2, 5, 10],\n",
       "                         'n_estimators': [50, 100, 200]},\n",
       "             scoring='accuracy')"
      ]
     },
     "execution_count": 168,
     "metadata": {},
     "output_type": "execute_result"
    }
   ],
   "source": [
    "grid_search_et.fit(X_ros_clean, y_ros)"
   ]
  },
  {
   "cell_type": "code",
   "execution_count": 169,
   "id": "3bb936ae",
   "metadata": {},
   "outputs": [
    {
     "name": "stdout",
     "output_type": "stream",
     "text": [
      "{'max_depth': None, 'min_samples_leaf': 1, 'min_samples_split': 2, 'n_estimators': 200}\n"
     ]
    }
   ],
   "source": [
    "print(grid_search_et.best_params_)"
   ]
  },
  {
   "cell_type": "code",
   "execution_count": 170,
   "id": "2faddec6",
   "metadata": {},
   "outputs": [],
   "source": [
    "extra_trees_best = ExtraTreesClassifier(n_estimators = grid_search_et.best_params_[\"n_estimators\"], \n",
    "                                        max_depth = grid_search_et.best_params_[\"max_depth\"], \n",
    "                                        min_samples_split= grid_search_et.best_params_[\"min_samples_split\"], \n",
    "                                        min_samples_leaf=grid_search_et.best_params_[\"min_samples_leaf\"])"
   ]
  },
  {
   "cell_type": "code",
   "execution_count": 171,
   "id": "e19219cb",
   "metadata": {},
   "outputs": [
    {
     "data": {
      "text/plain": [
       "ExtraTreesClassifier(n_estimators=200)"
      ]
     },
     "execution_count": 171,
     "metadata": {},
     "output_type": "execute_result"
    }
   ],
   "source": [
    "extra_trees_best.fit(X_ros_clean, y_ros)"
   ]
  },
  {
   "cell_type": "code",
   "execution_count": 172,
   "id": "fd367767",
   "metadata": {},
   "outputs": [],
   "source": [
    "extratreescv_pred = extra_trees_best.predict(X_test_clean)"
   ]
  },
  {
   "cell_type": "code",
   "execution_count": 173,
   "id": "4c6922eb",
   "metadata": {},
   "outputs": [
    {
     "name": "stdout",
     "output_type": "stream",
     "text": [
      "              precision    recall  f1-score   support\n",
      "\n",
      "           0       0.88      0.95      0.91      1424\n",
      "           1       0.73      0.49      0.59       376\n",
      "\n",
      "    accuracy                           0.86      1800\n",
      "   macro avg       0.81      0.72      0.75      1800\n",
      "weighted avg       0.85      0.86      0.85      1800\n",
      "\n"
     ]
    }
   ],
   "source": [
    "print(classification_report(y_test, extratreescv_pred, labels=[0,1]))"
   ]
  },
  {
   "cell_type": "code",
   "execution_count": 174,
   "id": "2f58b365",
   "metadata": {},
   "outputs": [
    {
     "name": "stdout",
     "output_type": "stream",
     "text": [
      "Training Data Score: 1.0\n",
      "Validating Data Score: 0.8675\n",
      "Testing Data Score: 0.8566666666666667\n"
     ]
    }
   ],
   "source": [
    "print(f\"Training Data Score: {extra_trees_best.score(X_ros_clean, y_ros)}\")\n",
    "print(f\"Validating Data Score: {extra_trees_best.score(X_valid_clean, y_valid)}\")\n",
    "print(f\"Testing Data Score: {extra_trees_best.score(X_test_clean, y_test)}\")"
   ]
  },
  {
   "cell_type": "code",
   "execution_count": 175,
   "id": "679071c2",
   "metadata": {},
   "outputs": [
    {
     "data": {
      "image/png": "[encoded data removed]",
      "text/plain": [
       "<Figure size 432x288 with 2 Axes>"
      ]
     },
     "metadata": {
      "needs_background": "light"
     },
     "output_type": "display_data"
    }
   ],
   "source": [
    "ConfusionMatrixDisplay.from_predictions(y_test, extratreescv_pred, display_labels = [False, True])\n",
    "plt.show()"
   ]
  },
  {
   "cell_type": "markdown",
   "id": "8642139d",
   "metadata": {},
   "source": [
    "## XGboost Classifier"
   ]
  },
  {
   "cell_type": "code",
   "execution_count": 176,
   "id": "c81788cd",
   "metadata": {},
   "outputs": [],
   "source": [
    "xgb_classifier = xgb.XGBClassifier(random_state = 123)"
   ]
  },
  {
   "cell_type": "code",
   "execution_count": 177,
   "id": "9bd39aff",
   "metadata": {},
   "outputs": [
    {
     "data": {
      "text/plain": [
       "XGBClassifier(base_score=None, booster=None, callbacks=None,\n",
       "              colsample_bylevel=None, colsample_bynode=None,\n",
       "              colsample_bytree=None, early_stopping_rounds=None,\n",
       "              enable_categorical=False, eval_metric=None, feature_types=None,\n",
       "              gamma=None, gpu_id=None, grow_policy=None, importance_type=None,\n",
       "              interaction_constraints=None, learning_rate=None, max_bin=None,\n",
       "              max_cat_threshold=None, max_cat_to_onehot=None,\n",
       "              max_delta_step=None, max_depth=None, max_leaves=None,\n",
       "              min_child_weight=None, missing=nan, monotone_constraints=None,\n",
       "              n_estimators=100, n_jobs=None, num_parallel_tree=None,\n",
       "              predictor=None, random_state=123, ...)"
      ]
     },
     "execution_count": 177,
     "metadata": {},
     "output_type": "execute_result"
    }
   ],
   "source": [
    "xgb_classifier.fit(X_ros_clean, y_ros)"
   ]
  },
  {
   "cell_type": "code",
   "execution_count": 178,
   "id": "b4b92e8b",
   "metadata": {},
   "outputs": [
    {
     "data": {
      "text/plain": [
       "0.9709051724137931"
      ]
     },
     "execution_count": 178,
     "metadata": {},
     "output_type": "execute_result"
    }
   ],
   "source": [
    "xgb_classifier.score(X_ros_clean, y_ros)"
   ]
  },
  {
   "cell_type": "code",
   "execution_count": 179,
   "id": "316fa870",
   "metadata": {},
   "outputs": [],
   "source": [
    "xgb_pred = xgb_classifier.predict(X_test_clean)"
   ]
  },
  {
   "cell_type": "code",
   "execution_count": 180,
   "id": "a8269ef5",
   "metadata": {},
   "outputs": [
    {
     "name": "stdout",
     "output_type": "stream",
     "text": [
      "              precision    recall  f1-score   support\n",
      "\n",
      "           0       0.92      0.87      0.89      1424\n",
      "           1       0.59      0.72      0.65       376\n",
      "\n",
      "    accuracy                           0.84      1800\n",
      "   macro avg       0.75      0.79      0.77      1800\n",
      "weighted avg       0.85      0.84      0.84      1800\n",
      "\n"
     ]
    }
   ],
   "source": [
    "print(classification_report(y_test, xgb_pred, labels=[0,1]))"
   ]
  },
  {
   "cell_type": "code",
   "execution_count": 181,
   "id": "8b198451",
   "metadata": {},
   "outputs": [
    {
     "name": "stdout",
     "output_type": "stream",
     "text": [
      "Training Data Score: 0.9709051724137931\n",
      "Validating Data Score: 0.815\n",
      "Testing Data Score: 0.8361111111111111\n"
     ]
    }
   ],
   "source": [
    "print(f\"Training Data Score: {xgb_classifier.score(X_ros_clean, y_ros)}\")\n",
    "print(f\"Validating Data Score: {xgb_classifier.score(X_valid_clean, y_valid)}\")\n",
    "print(f\"Testing Data Score: {xgb_classifier.score(X_test_clean, y_test)}\")"
   ]
  },
  {
   "cell_type": "markdown",
   "id": "d1a709ef",
   "metadata": {},
   "source": [
    "## Tuning Parameter XGboost"
   ]
  },
  {
   "cell_type": "code",
   "execution_count": 182,
   "id": "f936ea2a",
   "metadata": {},
   "outputs": [],
   "source": [
    "param_grid = {\n",
    "    'n_estimators': [50, 100, 200],\n",
    "    'max_depth': [3, 5, 7],\n",
    "    'learning_rate': [0.1, 0.5, 1.0],\n",
    "    'subsample': [0.5, 0.7, 1.0]\n",
    "}\n"
   ]
  },
  {
   "cell_type": "code",
   "execution_count": 183,
   "id": "3846e11a",
   "metadata": {},
   "outputs": [],
   "source": [
    "grid_search_xg = GridSearchCV(xgb_classifier, param_grid, scoring='accuracy', cv=5)"
   ]
  },
  {
   "cell_type": "code",
   "execution_count": 184,
   "id": "d05ae736",
   "metadata": {},
   "outputs": [
    {
     "data": {
      "text/plain": [
       "GridSearchCV(cv=5,\n",
       "             estimator=XGBClassifier(base_score=None, booster=None,\n",
       "                                     callbacks=None, colsample_bylevel=None,\n",
       "                                     colsample_bynode=None,\n",
       "                                     colsample_bytree=None,\n",
       "                                     early_stopping_rounds=None,\n",
       "                                     enable_categorical=False, eval_metric=None,\n",
       "                                     feature_types=None, gamma=None,\n",
       "                                     gpu_id=None, grow_policy=None,\n",
       "                                     importance_type=None,\n",
       "                                     interaction_constraints=None,\n",
       "                                     learning_rate=None,...\n",
       "                                     max_cat_to_onehot=None,\n",
       "                                     max_delta_step=None, max_depth=None,\n",
       "                                     max_leaves=None, min_child_weight=None,\n",
       "                                     missing=nan, monotone_constraints=None,\n",
       "                                     n_estimators=100, n_jobs=None,\n",
       "                                     num_parallel_tree=None, predictor=None,\n",
       "                                     random_state=123, ...),\n",
       "             param_grid={'learning_rate': [0.1, 0.5, 1.0],\n",
       "                         'max_depth': [3, 5, 7], 'n_estimators': [50, 100, 200],\n",
       "                         'subsample': [0.5, 0.7, 1.0]},\n",
       "             scoring='accuracy')"
      ]
     },
     "execution_count": 184,
     "metadata": {},
     "output_type": "execute_result"
    }
   ],
   "source": [
    "grid_search_xg.fit(X_ros_clean, y_ros)"
   ]
  },
  {
   "cell_type": "code",
   "execution_count": 185,
   "id": "51070043",
   "metadata": {},
   "outputs": [
    {
     "name": "stdout",
     "output_type": "stream",
     "text": [
      "{'learning_rate': 0.5, 'max_depth': 7, 'n_estimators': 200, 'subsample': 1.0}\n"
     ]
    }
   ],
   "source": [
    "print(grid_search_xg.best_params_)"
   ]
  },
  {
   "cell_type": "code",
   "execution_count": 186,
   "id": "a7f388ff",
   "metadata": {},
   "outputs": [],
   "source": [
    "xgb_best = xgb.XGBClassifier(n_estimators = grid_search_xg.best_params_[\"n_estimators\"], \n",
    "                             max_depth = grid_search_xg.best_params_[\"max_depth\"], \n",
    "                             learning_rate = grid_search_xg.best_params_[\"learning_rate\"], \n",
    "                             subsample = grid_search_xg.best_params_[\"subsample\"])"
   ]
  },
  {
   "cell_type": "code",
   "execution_count": 187,
   "id": "a1f0b263",
   "metadata": {},
   "outputs": [
    {
     "data": {
      "text/plain": [
       "XGBClassifier(base_score=None, booster=None, callbacks=None,\n",
       "              colsample_bylevel=None, colsample_bynode=None,\n",
       "              colsample_bytree=None, early_stopping_rounds=None,\n",
       "              enable_categorical=False, eval_metric=None, feature_types=None,\n",
       "              gamma=None, gpu_id=None, grow_policy=None, importance_type=None,\n",
       "              interaction_constraints=None, learning_rate=0.5, max_bin=None,\n",
       "              max_cat_threshold=None, max_cat_to_onehot=None,\n",
       "              max_delta_step=None, max_depth=7, max_leaves=None,\n",
       "              min_child_weight=None, missing=nan, monotone_constraints=None,\n",
       "              n_estimators=200, n_jobs=None, num_parallel_tree=None,\n",
       "              predictor=None, random_state=None, ...)"
      ]
     },
     "execution_count": 187,
     "metadata": {},
     "output_type": "execute_result"
    }
   ],
   "source": [
    "xgb_best.fit(X_ros_clean, y_ros)"
   ]
  },
  {
   "cell_type": "code",
   "execution_count": 188,
   "id": "3b7c4638",
   "metadata": {},
   "outputs": [],
   "source": [
    "xgboost_cv_pred = xgb_best.predict(X_test_clean)"
   ]
  },
  {
   "cell_type": "code",
   "execution_count": 189,
   "id": "fafa51f9",
   "metadata": {},
   "outputs": [
    {
     "name": "stdout",
     "output_type": "stream",
     "text": [
      "              precision    recall  f1-score   support\n",
      "\n",
      "           0       0.90      0.90      0.90      1424\n",
      "           1       0.62      0.60      0.61       376\n",
      "\n",
      "    accuracy                           0.84      1800\n",
      "   macro avg       0.76      0.75      0.75      1800\n",
      "weighted avg       0.84      0.84      0.84      1800\n",
      "\n"
     ]
    }
   ],
   "source": [
    "print(classification_report(y_test, xgboost_cv_pred, labels=[0,1]))"
   ]
  },
  {
   "cell_type": "code",
   "execution_count": 190,
   "id": "1c7faf2a",
   "metadata": {},
   "outputs": [
    {
     "data": {
      "image/png": "[encoded data removed]",
      "text/plain": [
       "<Figure size 432x288 with 2 Axes>"
      ]
     },
     "metadata": {
      "needs_background": "light"
     },
     "output_type": "display_data"
    }
   ],
   "source": [
    "ConfusionMatrixDisplay.from_predictions(y_test, xgboost_cv_pred, display_labels = [False, True])\n",
    "plt.show()"
   ]
  },
  {
   "cell_type": "markdown",
   "id": "41e7bb7b",
   "metadata": {},
   "source": [
    "## Deep Learning"
   ]
  },
  {
   "cell_type": "code",
   "execution_count": 191,
   "id": "eca3babe",
   "metadata": {},
   "outputs": [],
   "source": [
    "model = Sequential([\n",
    "    Dense(64, activation='relu', input_shape=(13,)),\n",
    "    Dropout(0.2),\n",
    "    Dense(32, activation='relu'),\n",
    "    Dropout(0.2),\n",
    "    Dense(1, activation='sigmoid')\n",
    "])"
   ]
  },
  {
   "cell_type": "code",
   "execution_count": 192,
   "id": "0d48615c",
   "metadata": {},
   "outputs": [],
   "source": [
    "model.compile(optimizer='adam', loss='binary_crossentropy', metrics=['accuracy'])"
   ]
  },
  {
   "cell_type": "code",
   "execution_count": 193,
   "id": "62772fd8",
   "metadata": {},
   "outputs": [
    {
     "name": "stdout",
     "output_type": "stream",
     "text": [
      "Epoch 1/500\n",
      "348/348 [==============================] - 4s 3ms/step - loss: 0.6113 - accuracy: 0.6699 - val_loss: 0.6031 - val_accuracy: 0.6817\n",
      "Epoch 2/500\n",
      "348/348 [==============================] - 1s 2ms/step - loss: 0.5736 - accuracy: 0.7069 - val_loss: 0.5712 - val_accuracy: 0.7133\n",
      "Epoch 3/500\n",
      "348/348 [==============================] - 1s 2ms/step - loss: 0.5457 - accuracy: 0.7267 - val_loss: 0.5149 - val_accuracy: 0.7667\n",
      "Epoch 4/500\n",
      "348/348 [==============================] - 1s 2ms/step - loss: 0.5246 - accuracy: 0.7394 - val_loss: 0.5342 - val_accuracy: 0.7417\n",
      "Epoch 5/500\n",
      "348/348 [==============================] - 1s 2ms/step - loss: 0.5084 - accuracy: 0.7497 - val_loss: 0.5437 - val_accuracy: 0.7333\n",
      "Epoch 6/500\n",
      "348/348 [==============================] - 1s 2ms/step - loss: 0.4939 - accuracy: 0.7594 - val_loss: 0.5148 - val_accuracy: 0.7600\n",
      "Epoch 7/500\n",
      "348/348 [==============================] - 1s 2ms/step - loss: 0.4834 - accuracy: 0.7681 - val_loss: 0.4919 - val_accuracy: 0.7683\n",
      "Epoch 8/500\n",
      "348/348 [==============================] - 1s 2ms/step - loss: 0.4780 - accuracy: 0.7702 - val_loss: 0.5269 - val_accuracy: 0.7492\n",
      "Epoch 9/500\n",
      "348/348 [==============================] - 1s 2ms/step - loss: 0.4709 - accuracy: 0.7736 - val_loss: 0.4935 - val_accuracy: 0.7658\n",
      "Epoch 10/500\n",
      "348/348 [==============================] - 1s 2ms/step - loss: 0.4664 - accuracy: 0.7764 - val_loss: 0.5304 - val_accuracy: 0.7375\n",
      "Epoch 11/500\n",
      "348/348 [==============================] - 1s 2ms/step - loss: 0.4634 - accuracy: 0.7811 - val_loss: 0.4561 - val_accuracy: 0.7908\n",
      "Epoch 12/500\n",
      "348/348 [==============================] - 1s 2ms/step - loss: 0.4563 - accuracy: 0.7829 - val_loss: 0.5101 - val_accuracy: 0.7450\n",
      "Epoch 13/500\n",
      "348/348 [==============================] - 1s 2ms/step - loss: 0.4552 - accuracy: 0.7821 - val_loss: 0.4647 - val_accuracy: 0.7800\n",
      "Epoch 14/500\n",
      "348/348 [==============================] - 1s 2ms/step - loss: 0.4518 - accuracy: 0.7869 - val_loss: 0.4819 - val_accuracy: 0.7708\n",
      "Epoch 15/500\n",
      "348/348 [==============================] - 1s 2ms/step - loss: 0.4497 - accuracy: 0.7843 - val_loss: 0.4991 - val_accuracy: 0.7533\n",
      "Epoch 16/500\n",
      "348/348 [==============================] - 1s 2ms/step - loss: 0.4488 - accuracy: 0.7883 - val_loss: 0.4454 - val_accuracy: 0.7958\n",
      "Epoch 17/500\n",
      "348/348 [==============================] - 1s 2ms/step - loss: 0.4464 - accuracy: 0.7880 - val_loss: 0.5265 - val_accuracy: 0.7425\n",
      "Epoch 18/500\n",
      "348/348 [==============================] - 1s 2ms/step - loss: 0.4475 - accuracy: 0.7897 - val_loss: 0.4639 - val_accuracy: 0.7800\n",
      "Epoch 19/500\n",
      "348/348 [==============================] - 1s 2ms/step - loss: 0.4430 - accuracy: 0.7881 - val_loss: 0.4709 - val_accuracy: 0.7650\n",
      "Epoch 20/500\n",
      "348/348 [==============================] - 1s 2ms/step - loss: 0.4459 - accuracy: 0.7876 - val_loss: 0.4833 - val_accuracy: 0.7608\n",
      "Epoch 21/500\n",
      "348/348 [==============================] - 1s 2ms/step - loss: 0.4407 - accuracy: 0.7903 - val_loss: 0.4796 - val_accuracy: 0.7692\n",
      "Epoch 22/500\n",
      "348/348 [==============================] - 1s 2ms/step - loss: 0.4360 - accuracy: 0.7942 - val_loss: 0.4836 - val_accuracy: 0.7583\n",
      "Epoch 23/500\n",
      "348/348 [==============================] - 1s 2ms/step - loss: 0.4352 - accuracy: 0.7938 - val_loss: 0.4984 - val_accuracy: 0.7533\n",
      "Epoch 24/500\n",
      "348/348 [==============================] - 1s 2ms/step - loss: 0.4366 - accuracy: 0.7936 - val_loss: 0.4335 - val_accuracy: 0.7925\n",
      "Epoch 25/500\n",
      "348/348 [==============================] - 1s 2ms/step - loss: 0.4337 - accuracy: 0.7919 - val_loss: 0.4492 - val_accuracy: 0.7842\n",
      "Epoch 26/500\n",
      "348/348 [==============================] - 1s 2ms/step - loss: 0.4309 - accuracy: 0.7993 - val_loss: 0.5012 - val_accuracy: 0.7508\n",
      "Epoch 27/500\n",
      "348/348 [==============================] - 1s 2ms/step - loss: 0.4302 - accuracy: 0.7982 - val_loss: 0.4929 - val_accuracy: 0.7525\n",
      "Epoch 28/500\n",
      "348/348 [==============================] - 1s 2ms/step - loss: 0.4319 - accuracy: 0.7981 - val_loss: 0.4827 - val_accuracy: 0.7583\n",
      "Epoch 29/500\n",
      "348/348 [==============================] - 1s 2ms/step - loss: 0.4321 - accuracy: 0.7961 - val_loss: 0.5096 - val_accuracy: 0.7392\n",
      "Epoch 30/500\n",
      "348/348 [==============================] - 1s 2ms/step - loss: 0.4321 - accuracy: 0.7959 - val_loss: 0.4854 - val_accuracy: 0.7558\n",
      "Epoch 31/500\n",
      "348/348 [==============================] - 1s 2ms/step - loss: 0.4253 - accuracy: 0.8005 - val_loss: 0.5062 - val_accuracy: 0.7450\n",
      "Epoch 32/500\n",
      "348/348 [==============================] - 1s 2ms/step - loss: 0.4280 - accuracy: 0.7979 - val_loss: 0.4741 - val_accuracy: 0.7633\n",
      "Epoch 33/500\n",
      "348/348 [==============================] - 1s 2ms/step - loss: 0.4186 - accuracy: 0.8026 - val_loss: 0.4741 - val_accuracy: 0.7600\n",
      "Epoch 34/500\n",
      "348/348 [==============================] - 1s 2ms/step - loss: 0.4256 - accuracy: 0.7994 - val_loss: 0.4973 - val_accuracy: 0.7467\n",
      "Epoch 35/500\n",
      "348/348 [==============================] - 1s 2ms/step - loss: 0.4215 - accuracy: 0.8042 - val_loss: 0.4625 - val_accuracy: 0.7642\n",
      "Epoch 36/500\n",
      "348/348 [==============================] - 1s 2ms/step - loss: 0.4232 - accuracy: 0.8000 - val_loss: 0.4555 - val_accuracy: 0.7717\n",
      "Epoch 37/500\n",
      "348/348 [==============================] - 1s 2ms/step - loss: 0.4214 - accuracy: 0.8014 - val_loss: 0.4752 - val_accuracy: 0.7575\n",
      "Epoch 38/500\n",
      "348/348 [==============================] - 1s 2ms/step - loss: 0.4158 - accuracy: 0.8038 - val_loss: 0.4900 - val_accuracy: 0.7492\n",
      "Epoch 39/500\n",
      "348/348 [==============================] - 1s 2ms/step - loss: 0.4142 - accuracy: 0.8067 - val_loss: 0.4951 - val_accuracy: 0.7450\n",
      "Epoch 40/500\n",
      "348/348 [==============================] - 1s 2ms/step - loss: 0.4140 - accuracy: 0.8031 - val_loss: 0.4819 - val_accuracy: 0.7583\n",
      "Epoch 41/500\n",
      "348/348 [==============================] - 1s 2ms/step - loss: 0.4145 - accuracy: 0.8044 - val_loss: 0.4861 - val_accuracy: 0.7558\n",
      "Epoch 42/500\n",
      "348/348 [==============================] - 1s 2ms/step - loss: 0.4141 - accuracy: 0.8062 - val_loss: 0.4866 - val_accuracy: 0.7592\n",
      "Epoch 43/500\n",
      "348/348 [==============================] - 1s 2ms/step - loss: 0.4138 - accuracy: 0.8084 - val_loss: 0.4900 - val_accuracy: 0.7517\n",
      "Epoch 44/500\n",
      "348/348 [==============================] - 1s 2ms/step - loss: 0.4111 - accuracy: 0.8041 - val_loss: 0.4824 - val_accuracy: 0.7625\n",
      "Epoch 45/500\n",
      "348/348 [==============================] - 1s 2ms/step - loss: 0.4133 - accuracy: 0.8074 - val_loss: 0.4820 - val_accuracy: 0.7675\n",
      "Epoch 46/500\n",
      "348/348 [==============================] - 1s 2ms/step - loss: 0.4082 - accuracy: 0.8131 - val_loss: 0.4748 - val_accuracy: 0.7650\n",
      "Epoch 47/500\n",
      "348/348 [==============================] - 1s 2ms/step - loss: 0.4067 - accuracy: 0.8095 - val_loss: 0.4827 - val_accuracy: 0.7608\n",
      "Epoch 48/500\n",
      "348/348 [==============================] - 1s 2ms/step - loss: 0.4096 - accuracy: 0.8071 - val_loss: 0.4832 - val_accuracy: 0.7625\n",
      "Epoch 49/500\n",
      "348/348 [==============================] - 1s 2ms/step - loss: 0.4071 - accuracy: 0.8112 - val_loss: 0.4513 - val_accuracy: 0.7842\n",
      "Epoch 50/500\n",
      "348/348 [==============================] - 1s 2ms/step - loss: 0.4067 - accuracy: 0.8075 - val_loss: 0.4781 - val_accuracy: 0.7592\n",
      "Epoch 51/500\n",
      "348/348 [==============================] - 1s 2ms/step - loss: 0.4036 - accuracy: 0.8121 - val_loss: 0.4625 - val_accuracy: 0.7750\n",
      "Epoch 52/500\n",
      "348/348 [==============================] - 1s 2ms/step - loss: 0.4013 - accuracy: 0.8122 - val_loss: 0.4792 - val_accuracy: 0.7642\n",
      "Epoch 53/500\n",
      "348/348 [==============================] - 1s 2ms/step - loss: 0.4044 - accuracy: 0.8132 - val_loss: 0.4691 - val_accuracy: 0.7733\n",
      "Epoch 54/500\n",
      "348/348 [==============================] - 1s 2ms/step - loss: 0.4039 - accuracy: 0.8115 - val_loss: 0.5082 - val_accuracy: 0.7442\n",
      "Epoch 55/500\n",
      "348/348 [==============================] - 1s 2ms/step - loss: 0.4038 - accuracy: 0.8150 - val_loss: 0.5130 - val_accuracy: 0.7408\n",
      "Epoch 56/500\n",
      "348/348 [==============================] - 1s 2ms/step - loss: 0.4005 - accuracy: 0.8144 - val_loss: 0.4770 - val_accuracy: 0.7733\n",
      "Epoch 57/500\n",
      "348/348 [==============================] - 1s 2ms/step - loss: 0.4029 - accuracy: 0.8144 - val_loss: 0.4997 - val_accuracy: 0.7525\n"
     ]
    },
    {
     "name": "stdout",
     "output_type": "stream",
     "text": [
      "Epoch 58/500\n",
      "348/348 [==============================] - 1s 2ms/step - loss: 0.3998 - accuracy: 0.8164 - val_loss: 0.4595 - val_accuracy: 0.7900\n",
      "Epoch 59/500\n",
      "348/348 [==============================] - 1s 2ms/step - loss: 0.3967 - accuracy: 0.8174 - val_loss: 0.4880 - val_accuracy: 0.7642\n",
      "Epoch 60/500\n",
      "348/348 [==============================] - 1s 2ms/step - loss: 0.4016 - accuracy: 0.8211 - val_loss: 0.4549 - val_accuracy: 0.7908\n",
      "Epoch 61/500\n",
      "348/348 [==============================] - 1s 2ms/step - loss: 0.3943 - accuracy: 0.8160 - val_loss: 0.4257 - val_accuracy: 0.8042\n",
      "Epoch 62/500\n",
      "348/348 [==============================] - 1s 2ms/step - loss: 0.3922 - accuracy: 0.8164 - val_loss: 0.4778 - val_accuracy: 0.7725\n",
      "Epoch 63/500\n",
      "348/348 [==============================] - 1s 2ms/step - loss: 0.3952 - accuracy: 0.8165 - val_loss: 0.4601 - val_accuracy: 0.7825\n",
      "Epoch 64/500\n",
      "348/348 [==============================] - 1s 2ms/step - loss: 0.3919 - accuracy: 0.8182 - val_loss: 0.4841 - val_accuracy: 0.7650\n",
      "Epoch 65/500\n",
      "348/348 [==============================] - 1s 2ms/step - loss: 0.3948 - accuracy: 0.8171 - val_loss: 0.5058 - val_accuracy: 0.7558\n",
      "Epoch 66/500\n",
      "348/348 [==============================] - 1s 2ms/step - loss: 0.3913 - accuracy: 0.8186 - val_loss: 0.4708 - val_accuracy: 0.7717\n",
      "Epoch 67/500\n",
      "348/348 [==============================] - 1s 2ms/step - loss: 0.3888 - accuracy: 0.8220 - val_loss: 0.4733 - val_accuracy: 0.7842\n",
      "Epoch 68/500\n",
      "348/348 [==============================] - 1s 2ms/step - loss: 0.3920 - accuracy: 0.8250 - val_loss: 0.4771 - val_accuracy: 0.7667\n",
      "Epoch 69/500\n",
      "348/348 [==============================] - 1s 2ms/step - loss: 0.3839 - accuracy: 0.8232 - val_loss: 0.4582 - val_accuracy: 0.7867\n",
      "Epoch 70/500\n",
      "348/348 [==============================] - 1s 2ms/step - loss: 0.3875 - accuracy: 0.8241 - val_loss: 0.4895 - val_accuracy: 0.7592\n",
      "Epoch 71/500\n",
      "348/348 [==============================] - 1s 2ms/step - loss: 0.3835 - accuracy: 0.8287 - val_loss: 0.4696 - val_accuracy: 0.7742\n",
      "Epoch 72/500\n",
      "348/348 [==============================] - 1s 2ms/step - loss: 0.3889 - accuracy: 0.8237 - val_loss: 0.4811 - val_accuracy: 0.7742\n",
      "Epoch 73/500\n",
      "348/348 [==============================] - 1s 2ms/step - loss: 0.3851 - accuracy: 0.8247 - val_loss: 0.4716 - val_accuracy: 0.7758\n",
      "Epoch 74/500\n",
      "348/348 [==============================] - 1s 2ms/step - loss: 0.3848 - accuracy: 0.8239 - val_loss: 0.4683 - val_accuracy: 0.7775\n",
      "Epoch 75/500\n",
      "348/348 [==============================] - 1s 2ms/step - loss: 0.3872 - accuracy: 0.8221 - val_loss: 0.4834 - val_accuracy: 0.7692\n",
      "Epoch 76/500\n",
      "348/348 [==============================] - 1s 2ms/step - loss: 0.3811 - accuracy: 0.8255 - val_loss: 0.4817 - val_accuracy: 0.7708\n",
      "Epoch 77/500\n",
      "348/348 [==============================] - 1s 2ms/step - loss: 0.3824 - accuracy: 0.8272 - val_loss: 0.4556 - val_accuracy: 0.7842\n",
      "Epoch 78/500\n",
      "348/348 [==============================] - 1s 2ms/step - loss: 0.3831 - accuracy: 0.8258 - val_loss: 0.4742 - val_accuracy: 0.7717\n",
      "Epoch 79/500\n",
      "348/348 [==============================] - 1s 2ms/step - loss: 0.3834 - accuracy: 0.8244 - val_loss: 0.4747 - val_accuracy: 0.7708\n",
      "Epoch 80/500\n",
      "348/348 [==============================] - 1s 2ms/step - loss: 0.3825 - accuracy: 0.8246 - val_loss: 0.4956 - val_accuracy: 0.7667\n",
      "Epoch 81/500\n",
      "348/348 [==============================] - 1s 2ms/step - loss: 0.3799 - accuracy: 0.8249 - val_loss: 0.4761 - val_accuracy: 0.7683\n",
      "Epoch 82/500\n",
      "348/348 [==============================] - 1s 2ms/step - loss: 0.3788 - accuracy: 0.8237 - val_loss: 0.4580 - val_accuracy: 0.7892\n",
      "Epoch 83/500\n",
      "348/348 [==============================] - 1s 2ms/step - loss: 0.3809 - accuracy: 0.8255 - val_loss: 0.4722 - val_accuracy: 0.7742\n",
      "Epoch 84/500\n",
      "348/348 [==============================] - 1s 2ms/step - loss: 0.3782 - accuracy: 0.8283 - val_loss: 0.5046 - val_accuracy: 0.7592\n",
      "Epoch 85/500\n",
      "348/348 [==============================] - 1s 2ms/step - loss: 0.3794 - accuracy: 0.8275 - val_loss: 0.4924 - val_accuracy: 0.7658\n",
      "Epoch 86/500\n",
      "348/348 [==============================] - 1s 2ms/step - loss: 0.3767 - accuracy: 0.8293 - val_loss: 0.4487 - val_accuracy: 0.7950\n",
      "Epoch 87/500\n",
      "348/348 [==============================] - 1s 2ms/step - loss: 0.3799 - accuracy: 0.8231 - val_loss: 0.4827 - val_accuracy: 0.7742\n",
      "Epoch 88/500\n",
      "348/348 [==============================] - 1s 2ms/step - loss: 0.3783 - accuracy: 0.8279 - val_loss: 0.4770 - val_accuracy: 0.7758\n",
      "Epoch 89/500\n",
      "348/348 [==============================] - 1s 2ms/step - loss: 0.3753 - accuracy: 0.8278 - val_loss: 0.4656 - val_accuracy: 0.7900\n",
      "Epoch 90/500\n",
      "348/348 [==============================] - 1s 2ms/step - loss: 0.3780 - accuracy: 0.8244 - val_loss: 0.4779 - val_accuracy: 0.7742\n",
      "Epoch 91/500\n",
      "348/348 [==============================] - 1s 2ms/step - loss: 0.3725 - accuracy: 0.8297 - val_loss: 0.4690 - val_accuracy: 0.7775\n",
      "Epoch 92/500\n",
      "348/348 [==============================] - 1s 2ms/step - loss: 0.3742 - accuracy: 0.8304 - val_loss: 0.4792 - val_accuracy: 0.7708\n",
      "Epoch 93/500\n",
      "348/348 [==============================] - 1s 2ms/step - loss: 0.3755 - accuracy: 0.8305 - val_loss: 0.5036 - val_accuracy: 0.7592\n",
      "Epoch 94/500\n",
      "348/348 [==============================] - 1s 2ms/step - loss: 0.3768 - accuracy: 0.8286 - val_loss: 0.4779 - val_accuracy: 0.7783\n",
      "Epoch 95/500\n",
      "348/348 [==============================] - 1s 2ms/step - loss: 0.3750 - accuracy: 0.8297 - val_loss: 0.4917 - val_accuracy: 0.7583\n",
      "Epoch 96/500\n",
      "348/348 [==============================] - 1s 2ms/step - loss: 0.3727 - accuracy: 0.8304 - val_loss: 0.4668 - val_accuracy: 0.7775\n",
      "Epoch 97/500\n",
      "348/348 [==============================] - 1s 2ms/step - loss: 0.3704 - accuracy: 0.8358 - val_loss: 0.4924 - val_accuracy: 0.7625\n",
      "Epoch 98/500\n",
      "348/348 [==============================] - 1s 2ms/step - loss: 0.3704 - accuracy: 0.8306 - val_loss: 0.4763 - val_accuracy: 0.7767\n",
      "Epoch 99/500\n",
      "348/348 [==============================] - 1s 2ms/step - loss: 0.3769 - accuracy: 0.8324 - val_loss: 0.4848 - val_accuracy: 0.7742\n",
      "Epoch 100/500\n",
      "348/348 [==============================] - 1s 2ms/step - loss: 0.3720 - accuracy: 0.8333 - val_loss: 0.4912 - val_accuracy: 0.7667\n",
      "Epoch 101/500\n",
      "348/348 [==============================] - 1s 2ms/step - loss: 0.3696 - accuracy: 0.8314 - val_loss: 0.4810 - val_accuracy: 0.7733\n",
      "Epoch 102/500\n",
      "348/348 [==============================] - 1s 2ms/step - loss: 0.3701 - accuracy: 0.8346 - val_loss: 0.5002 - val_accuracy: 0.7575\n",
      "Epoch 103/500\n",
      "348/348 [==============================] - 1s 2ms/step - loss: 0.3690 - accuracy: 0.8298 - val_loss: 0.5074 - val_accuracy: 0.7650\n",
      "Epoch 104/500\n",
      "348/348 [==============================] - 1s 2ms/step - loss: 0.3675 - accuracy: 0.8349 - val_loss: 0.4886 - val_accuracy: 0.7567\n",
      "Epoch 105/500\n",
      "348/348 [==============================] - 1s 2ms/step - loss: 0.3692 - accuracy: 0.8358 - val_loss: 0.4742 - val_accuracy: 0.7775\n",
      "Epoch 106/500\n",
      "348/348 [==============================] - 1s 2ms/step - loss: 0.3737 - accuracy: 0.8323 - val_loss: 0.4677 - val_accuracy: 0.7800\n",
      "Epoch 107/500\n",
      "348/348 [==============================] - 1s 2ms/step - loss: 0.3646 - accuracy: 0.8352 - val_loss: 0.4850 - val_accuracy: 0.7683\n",
      "Epoch 108/500\n",
      "348/348 [==============================] - 1s 2ms/step - loss: 0.3708 - accuracy: 0.8319 - val_loss: 0.5080 - val_accuracy: 0.7550\n",
      "Epoch 109/500\n",
      "348/348 [==============================] - 1s 2ms/step - loss: 0.3660 - accuracy: 0.8362 - val_loss: 0.4864 - val_accuracy: 0.7625\n",
      "Epoch 110/500\n",
      "348/348 [==============================] - 1s 2ms/step - loss: 0.3670 - accuracy: 0.8358 - val_loss: 0.4706 - val_accuracy: 0.7767\n",
      "Epoch 111/500\n",
      "348/348 [==============================] - 1s 2ms/step - loss: 0.3693 - accuracy: 0.8306 - val_loss: 0.4604 - val_accuracy: 0.7850\n",
      "Epoch 112/500\n",
      "348/348 [==============================] - 1s 2ms/step - loss: 0.3713 - accuracy: 0.8365 - val_loss: 0.4707 - val_accuracy: 0.7792\n",
      "Epoch 113/500\n",
      "348/348 [==============================] - 1s 2ms/step - loss: 0.3684 - accuracy: 0.8367 - val_loss: 0.4739 - val_accuracy: 0.7725\n",
      "Epoch 114/500\n",
      "348/348 [==============================] - 1s 2ms/step - loss: 0.3622 - accuracy: 0.8331 - val_loss: 0.4710 - val_accuracy: 0.7733\n"
     ]
    },
    {
     "name": "stdout",
     "output_type": "stream",
     "text": [
      "Epoch 115/500\n",
      "348/348 [==============================] - 1s 2ms/step - loss: 0.3664 - accuracy: 0.8340 - val_loss: 0.4922 - val_accuracy: 0.7642\n",
      "Epoch 116/500\n",
      "348/348 [==============================] - 1s 2ms/step - loss: 0.3623 - accuracy: 0.8349 - val_loss: 0.4569 - val_accuracy: 0.7883\n",
      "Epoch 117/500\n",
      "348/348 [==============================] - 1s 2ms/step - loss: 0.3600 - accuracy: 0.8358 - val_loss: 0.4758 - val_accuracy: 0.7758\n",
      "Epoch 118/500\n",
      "348/348 [==============================] - 1s 2ms/step - loss: 0.3631 - accuracy: 0.8346 - val_loss: 0.4978 - val_accuracy: 0.7708\n",
      "Epoch 119/500\n",
      "348/348 [==============================] - 1s 2ms/step - loss: 0.3622 - accuracy: 0.8353 - val_loss: 0.4634 - val_accuracy: 0.7900\n",
      "Epoch 120/500\n",
      "348/348 [==============================] - 1s 2ms/step - loss: 0.3621 - accuracy: 0.8385 - val_loss: 0.4867 - val_accuracy: 0.7692\n",
      "Epoch 121/500\n",
      "348/348 [==============================] - 1s 2ms/step - loss: 0.3640 - accuracy: 0.8369 - val_loss: 0.4910 - val_accuracy: 0.7608\n",
      "Epoch 122/500\n",
      "348/348 [==============================] - 1s 2ms/step - loss: 0.3667 - accuracy: 0.8321 - val_loss: 0.4880 - val_accuracy: 0.7725\n",
      "Epoch 123/500\n",
      "348/348 [==============================] - 1s 2ms/step - loss: 0.3640 - accuracy: 0.8347 - val_loss: 0.4761 - val_accuracy: 0.7742\n",
      "Epoch 124/500\n",
      "348/348 [==============================] - 1s 2ms/step - loss: 0.3577 - accuracy: 0.8385 - val_loss: 0.4669 - val_accuracy: 0.7833\n",
      "Epoch 125/500\n",
      "348/348 [==============================] - 1s 2ms/step - loss: 0.3605 - accuracy: 0.8376 - val_loss: 0.4829 - val_accuracy: 0.7767\n",
      "Epoch 126/500\n",
      "348/348 [==============================] - 1s 2ms/step - loss: 0.3678 - accuracy: 0.8318 - val_loss: 0.4899 - val_accuracy: 0.7617\n",
      "Epoch 127/500\n",
      "348/348 [==============================] - 1s 2ms/step - loss: 0.3630 - accuracy: 0.8349 - val_loss: 0.4682 - val_accuracy: 0.7833\n",
      "Epoch 128/500\n",
      "348/348 [==============================] - 1s 2ms/step - loss: 0.3645 - accuracy: 0.8349 - val_loss: 0.4813 - val_accuracy: 0.7692\n",
      "Epoch 129/500\n",
      "348/348 [==============================] - 1s 2ms/step - loss: 0.3600 - accuracy: 0.8355 - val_loss: 0.4807 - val_accuracy: 0.7758\n",
      "Epoch 130/500\n",
      "348/348 [==============================] - 1s 2ms/step - loss: 0.3596 - accuracy: 0.8403 - val_loss: 0.4897 - val_accuracy: 0.7783\n",
      "Epoch 131/500\n",
      "348/348 [==============================] - 1s 2ms/step - loss: 0.3610 - accuracy: 0.8404 - val_loss: 0.4926 - val_accuracy: 0.7725\n",
      "Epoch 132/500\n",
      "348/348 [==============================] - 1s 2ms/step - loss: 0.3625 - accuracy: 0.8349 - val_loss: 0.4797 - val_accuracy: 0.7725\n",
      "Epoch 133/500\n",
      "348/348 [==============================] - 1s 2ms/step - loss: 0.3566 - accuracy: 0.8393 - val_loss: 0.4913 - val_accuracy: 0.7683\n",
      "Epoch 134/500\n",
      "348/348 [==============================] - 1s 2ms/step - loss: 0.3557 - accuracy: 0.8360 - val_loss: 0.4833 - val_accuracy: 0.7742\n",
      "Epoch 135/500\n",
      "348/348 [==============================] - 1s 2ms/step - loss: 0.3584 - accuracy: 0.8374 - val_loss: 0.4889 - val_accuracy: 0.7758\n",
      "Epoch 136/500\n",
      "348/348 [==============================] - 1s 2ms/step - loss: 0.3531 - accuracy: 0.8386 - val_loss: 0.4910 - val_accuracy: 0.7700\n",
      "Epoch 137/500\n",
      "348/348 [==============================] - 1s 2ms/step - loss: 0.3585 - accuracy: 0.8376 - val_loss: 0.4683 - val_accuracy: 0.7817\n",
      "Epoch 138/500\n",
      "348/348 [==============================] - 1s 2ms/step - loss: 0.3591 - accuracy: 0.8402 - val_loss: 0.4611 - val_accuracy: 0.7867\n",
      "Epoch 139/500\n",
      "348/348 [==============================] - 1s 2ms/step - loss: 0.3604 - accuracy: 0.8392 - val_loss: 0.4646 - val_accuracy: 0.7800\n",
      "Epoch 140/500\n",
      "348/348 [==============================] - 1s 2ms/step - loss: 0.3573 - accuracy: 0.8393 - val_loss: 0.4672 - val_accuracy: 0.7800\n",
      "Epoch 141/500\n",
      "348/348 [==============================] - 1s 2ms/step - loss: 0.3569 - accuracy: 0.8449 - val_loss: 0.4640 - val_accuracy: 0.7908\n",
      "Epoch 142/500\n",
      "348/348 [==============================] - 1s 2ms/step - loss: 0.3568 - accuracy: 0.8376 - val_loss: 0.4663 - val_accuracy: 0.7833\n",
      "Epoch 143/500\n",
      "348/348 [==============================] - 1s 2ms/step - loss: 0.3638 - accuracy: 0.8374 - val_loss: 0.4767 - val_accuracy: 0.7717\n",
      "Epoch 144/500\n",
      "348/348 [==============================] - 1s 2ms/step - loss: 0.3560 - accuracy: 0.8415 - val_loss: 0.4692 - val_accuracy: 0.7783\n",
      "Epoch 145/500\n",
      "348/348 [==============================] - 1s 2ms/step - loss: 0.3520 - accuracy: 0.8431 - val_loss: 0.4936 - val_accuracy: 0.7617\n",
      "Epoch 146/500\n",
      "348/348 [==============================] - 1s 2ms/step - loss: 0.3496 - accuracy: 0.8385 - val_loss: 0.4721 - val_accuracy: 0.7875\n",
      "Epoch 147/500\n",
      "348/348 [==============================] - 1s 2ms/step - loss: 0.3543 - accuracy: 0.8405 - val_loss: 0.4782 - val_accuracy: 0.7842\n",
      "Epoch 148/500\n",
      "348/348 [==============================] - 1s 2ms/step - loss: 0.3546 - accuracy: 0.8386 - val_loss: 0.4630 - val_accuracy: 0.7850\n",
      "Epoch 149/500\n",
      "348/348 [==============================] - 1s 2ms/step - loss: 0.3533 - accuracy: 0.8438 - val_loss: 0.4720 - val_accuracy: 0.7883\n",
      "Epoch 150/500\n",
      "348/348 [==============================] - 1s 2ms/step - loss: 0.3588 - accuracy: 0.8388 - val_loss: 0.4693 - val_accuracy: 0.7875\n",
      "Epoch 151/500\n",
      "348/348 [==============================] - 1s 2ms/step - loss: 0.3564 - accuracy: 0.8404 - val_loss: 0.4515 - val_accuracy: 0.7925\n",
      "Epoch 152/500\n",
      "348/348 [==============================] - 1s 2ms/step - loss: 0.3514 - accuracy: 0.8435 - val_loss: 0.4789 - val_accuracy: 0.7800\n",
      "Epoch 153/500\n",
      "348/348 [==============================] - 1s 2ms/step - loss: 0.3489 - accuracy: 0.8411 - val_loss: 0.4883 - val_accuracy: 0.7733\n",
      "Epoch 154/500\n",
      "348/348 [==============================] - 1s 2ms/step - loss: 0.3501 - accuracy: 0.8429 - val_loss: 0.4748 - val_accuracy: 0.7800\n",
      "Epoch 155/500\n",
      "348/348 [==============================] - 1s 2ms/step - loss: 0.3482 - accuracy: 0.8435 - val_loss: 0.4818 - val_accuracy: 0.7750\n",
      "Epoch 156/500\n",
      "348/348 [==============================] - 1s 2ms/step - loss: 0.3516 - accuracy: 0.8408 - val_loss: 0.4794 - val_accuracy: 0.7758\n",
      "Epoch 157/500\n",
      "348/348 [==============================] - 1s 2ms/step - loss: 0.3493 - accuracy: 0.8438 - val_loss: 0.4754 - val_accuracy: 0.7817\n",
      "Epoch 158/500\n",
      "348/348 [==============================] - 1s 2ms/step - loss: 0.3513 - accuracy: 0.8402 - val_loss: 0.4653 - val_accuracy: 0.7958\n",
      "Epoch 159/500\n",
      "348/348 [==============================] - 1s 2ms/step - loss: 0.3512 - accuracy: 0.8431 - val_loss: 0.4860 - val_accuracy: 0.7817\n",
      "Epoch 160/500\n",
      "348/348 [==============================] - 1s 2ms/step - loss: 0.3495 - accuracy: 0.8427 - val_loss: 0.4654 - val_accuracy: 0.7917\n",
      "Epoch 161/500\n",
      "348/348 [==============================] - 1s 2ms/step - loss: 0.3535 - accuracy: 0.8419 - val_loss: 0.4675 - val_accuracy: 0.7867\n",
      "Epoch 162/500\n",
      "348/348 [==============================] - 1s 2ms/step - loss: 0.3533 - accuracy: 0.8399 - val_loss: 0.4675 - val_accuracy: 0.7842\n",
      "Epoch 163/500\n",
      "348/348 [==============================] - 1s 2ms/step - loss: 0.3473 - accuracy: 0.8464 - val_loss: 0.4771 - val_accuracy: 0.7817\n",
      "Epoch 164/500\n",
      "348/348 [==============================] - 1s 2ms/step - loss: 0.3517 - accuracy: 0.8439 - val_loss: 0.4878 - val_accuracy: 0.7733\n",
      "Epoch 165/500\n",
      "348/348 [==============================] - 1s 2ms/step - loss: 0.3553 - accuracy: 0.8406 - val_loss: 0.4854 - val_accuracy: 0.7775\n",
      "Epoch 166/500\n",
      "348/348 [==============================] - 1s 2ms/step - loss: 0.3438 - accuracy: 0.8473 - val_loss: 0.4814 - val_accuracy: 0.7808\n",
      "Epoch 167/500\n",
      "348/348 [==============================] - 1s 2ms/step - loss: 0.3519 - accuracy: 0.8427 - val_loss: 0.4967 - val_accuracy: 0.7725\n",
      "Epoch 168/500\n",
      "348/348 [==============================] - 1s 2ms/step - loss: 0.3519 - accuracy: 0.8465 - val_loss: 0.4661 - val_accuracy: 0.7875\n",
      "Epoch 169/500\n",
      "348/348 [==============================] - 1s 2ms/step - loss: 0.3483 - accuracy: 0.8431 - val_loss: 0.4599 - val_accuracy: 0.7967\n",
      "Epoch 170/500\n",
      "348/348 [==============================] - 1s 2ms/step - loss: 0.3437 - accuracy: 0.8461 - val_loss: 0.4930 - val_accuracy: 0.7700\n",
      "Epoch 171/500\n"
     ]
    },
    {
     "name": "stdout",
     "output_type": "stream",
     "text": [
      "348/348 [==============================] - 1s 2ms/step - loss: 0.3479 - accuracy: 0.8476 - val_loss: 0.4626 - val_accuracy: 0.7925\n",
      "Epoch 172/500\n",
      "348/348 [==============================] - 1s 2ms/step - loss: 0.3493 - accuracy: 0.8432 - val_loss: 0.4832 - val_accuracy: 0.7800\n",
      "Epoch 173/500\n",
      "348/348 [==============================] - 1s 2ms/step - loss: 0.3477 - accuracy: 0.8420 - val_loss: 0.4831 - val_accuracy: 0.7742\n",
      "Epoch 174/500\n",
      "348/348 [==============================] - 1s 2ms/step - loss: 0.3548 - accuracy: 0.8421 - val_loss: 0.4758 - val_accuracy: 0.7842\n",
      "Epoch 175/500\n",
      "348/348 [==============================] - 1s 2ms/step - loss: 0.3533 - accuracy: 0.8393 - val_loss: 0.4674 - val_accuracy: 0.7900\n",
      "Epoch 176/500\n",
      "348/348 [==============================] - 1s 2ms/step - loss: 0.3561 - accuracy: 0.8393 - val_loss: 0.4753 - val_accuracy: 0.7858\n",
      "Epoch 177/500\n",
      "348/348 [==============================] - 1s 2ms/step - loss: 0.3421 - accuracy: 0.8481 - val_loss: 0.4778 - val_accuracy: 0.7883\n",
      "Epoch 178/500\n",
      "348/348 [==============================] - 1s 2ms/step - loss: 0.3483 - accuracy: 0.8493 - val_loss: 0.4882 - val_accuracy: 0.7750\n",
      "Epoch 179/500\n",
      "348/348 [==============================] - 1s 2ms/step - loss: 0.3470 - accuracy: 0.8442 - val_loss: 0.4735 - val_accuracy: 0.7900\n",
      "Epoch 180/500\n",
      "348/348 [==============================] - 1s 2ms/step - loss: 0.3488 - accuracy: 0.8474 - val_loss: 0.4804 - val_accuracy: 0.7783\n",
      "Epoch 181/500\n",
      "348/348 [==============================] - 1s 2ms/step - loss: 0.3430 - accuracy: 0.8477 - val_loss: 0.4891 - val_accuracy: 0.7708\n",
      "Epoch 182/500\n",
      "348/348 [==============================] - 1s 2ms/step - loss: 0.3460 - accuracy: 0.8478 - val_loss: 0.4685 - val_accuracy: 0.7833\n",
      "Epoch 183/500\n",
      "348/348 [==============================] - 1s 2ms/step - loss: 0.3506 - accuracy: 0.8455 - val_loss: 0.4742 - val_accuracy: 0.7800\n",
      "Epoch 184/500\n",
      "348/348 [==============================] - 1s 2ms/step - loss: 0.3422 - accuracy: 0.8446 - val_loss: 0.4887 - val_accuracy: 0.7767\n",
      "Epoch 185/500\n",
      "348/348 [==============================] - 1s 2ms/step - loss: 0.3455 - accuracy: 0.8460 - val_loss: 0.4890 - val_accuracy: 0.7708\n",
      "Epoch 186/500\n",
      "348/348 [==============================] - 1s 2ms/step - loss: 0.3517 - accuracy: 0.8429 - val_loss: 0.4897 - val_accuracy: 0.7742\n",
      "Epoch 187/500\n",
      "348/348 [==============================] - 1s 2ms/step - loss: 0.3456 - accuracy: 0.8485 - val_loss: 0.4583 - val_accuracy: 0.7842\n",
      "Epoch 188/500\n",
      "348/348 [==============================] - 1s 2ms/step - loss: 0.3484 - accuracy: 0.8453 - val_loss: 0.4835 - val_accuracy: 0.7733\n",
      "Epoch 189/500\n",
      "348/348 [==============================] - 1s 2ms/step - loss: 0.3465 - accuracy: 0.8460 - val_loss: 0.4615 - val_accuracy: 0.7833\n",
      "Epoch 190/500\n",
      "348/348 [==============================] - 1s 2ms/step - loss: 0.3442 - accuracy: 0.8455 - val_loss: 0.4772 - val_accuracy: 0.7742\n",
      "Epoch 191/500\n",
      "348/348 [==============================] - 1s 2ms/step - loss: 0.3458 - accuracy: 0.8446 - val_loss: 0.4701 - val_accuracy: 0.7775\n",
      "Epoch 192/500\n",
      "348/348 [==============================] - 1s 2ms/step - loss: 0.3435 - accuracy: 0.8498 - val_loss: 0.4660 - val_accuracy: 0.7792\n",
      "Epoch 193/500\n",
      "348/348 [==============================] - 1s 2ms/step - loss: 0.3445 - accuracy: 0.8484 - val_loss: 0.4820 - val_accuracy: 0.7717\n",
      "Epoch 194/500\n",
      "348/348 [==============================] - 1s 2ms/step - loss: 0.3401 - accuracy: 0.8473 - val_loss: 0.4541 - val_accuracy: 0.7958\n",
      "Epoch 195/500\n",
      "348/348 [==============================] - 1s 2ms/step - loss: 0.3439 - accuracy: 0.8468 - val_loss: 0.4833 - val_accuracy: 0.7708\n",
      "Epoch 196/500\n",
      "348/348 [==============================] - 1s 2ms/step - loss: 0.3417 - accuracy: 0.8509 - val_loss: 0.4680 - val_accuracy: 0.7783\n",
      "Epoch 197/500\n",
      "348/348 [==============================] - 1s 2ms/step - loss: 0.3405 - accuracy: 0.8512 - val_loss: 0.4739 - val_accuracy: 0.7833\n",
      "Epoch 198/500\n",
      "348/348 [==============================] - 1s 2ms/step - loss: 0.3415 - accuracy: 0.8497 - val_loss: 0.4755 - val_accuracy: 0.7775\n",
      "Epoch 199/500\n",
      "348/348 [==============================] - 1s 2ms/step - loss: 0.3422 - accuracy: 0.8498 - val_loss: 0.4721 - val_accuracy: 0.7783\n",
      "Epoch 200/500\n",
      "348/348 [==============================] - 1s 2ms/step - loss: 0.3356 - accuracy: 0.8508 - val_loss: 0.5004 - val_accuracy: 0.7692\n",
      "Epoch 201/500\n",
      "348/348 [==============================] - 1s 2ms/step - loss: 0.3440 - accuracy: 0.8473 - val_loss: 0.4541 - val_accuracy: 0.7933\n",
      "Epoch 202/500\n",
      "348/348 [==============================] - 1s 2ms/step - loss: 0.3476 - accuracy: 0.8463 - val_loss: 0.4784 - val_accuracy: 0.7725\n",
      "Epoch 203/500\n",
      "348/348 [==============================] - 1s 2ms/step - loss: 0.3427 - accuracy: 0.8476 - val_loss: 0.4894 - val_accuracy: 0.7783\n",
      "Epoch 204/500\n",
      "348/348 [==============================] - 1s 2ms/step - loss: 0.3424 - accuracy: 0.8446 - val_loss: 0.4679 - val_accuracy: 0.7817\n",
      "Epoch 205/500\n",
      "348/348 [==============================] - 1s 2ms/step - loss: 0.3424 - accuracy: 0.8444 - val_loss: 0.4612 - val_accuracy: 0.7958\n",
      "Epoch 206/500\n",
      "348/348 [==============================] - 1s 2ms/step - loss: 0.3339 - accuracy: 0.8520 - val_loss: 0.4730 - val_accuracy: 0.7817\n",
      "Epoch 207/500\n",
      "348/348 [==============================] - 1s 2ms/step - loss: 0.3380 - accuracy: 0.8549 - val_loss: 0.4948 - val_accuracy: 0.7708\n",
      "Epoch 208/500\n",
      "348/348 [==============================] - 1s 2ms/step - loss: 0.3455 - accuracy: 0.8471 - val_loss: 0.4718 - val_accuracy: 0.7850\n",
      "Epoch 209/500\n",
      "348/348 [==============================] - 1s 2ms/step - loss: 0.3492 - accuracy: 0.8431 - val_loss: 0.5001 - val_accuracy: 0.7625\n",
      "Epoch 210/500\n",
      "348/348 [==============================] - 1s 2ms/step - loss: 0.3415 - accuracy: 0.8482 - val_loss: 0.4766 - val_accuracy: 0.7833\n",
      "Epoch 211/500\n",
      "348/348 [==============================] - 1s 2ms/step - loss: 0.3373 - accuracy: 0.8508 - val_loss: 0.4723 - val_accuracy: 0.7817\n",
      "Epoch 212/500\n",
      "348/348 [==============================] - 1s 2ms/step - loss: 0.3408 - accuracy: 0.8521 - val_loss: 0.5010 - val_accuracy: 0.7583\n",
      "Epoch 213/500\n",
      "348/348 [==============================] - 1s 2ms/step - loss: 0.3391 - accuracy: 0.8471 - val_loss: 0.4786 - val_accuracy: 0.7783\n",
      "Epoch 214/500\n",
      "348/348 [==============================] - 1s 2ms/step - loss: 0.3383 - accuracy: 0.8479 - val_loss: 0.4933 - val_accuracy: 0.7692\n",
      "Epoch 215/500\n",
      "348/348 [==============================] - 1s 2ms/step - loss: 0.3389 - accuracy: 0.8473 - val_loss: 0.4940 - val_accuracy: 0.7683\n",
      "Epoch 216/500\n",
      "348/348 [==============================] - 1s 2ms/step - loss: 0.3377 - accuracy: 0.8507 - val_loss: 0.4742 - val_accuracy: 0.7817\n",
      "Epoch 217/500\n",
      "348/348 [==============================] - 1s 2ms/step - loss: 0.3451 - accuracy: 0.8452 - val_loss: 0.4868 - val_accuracy: 0.7733\n",
      "Epoch 218/500\n",
      "348/348 [==============================] - 1s 2ms/step - loss: 0.3383 - accuracy: 0.8499 - val_loss: 0.4707 - val_accuracy: 0.7825\n",
      "Epoch 219/500\n",
      "348/348 [==============================] - 1s 2ms/step - loss: 0.3353 - accuracy: 0.8530 - val_loss: 0.5000 - val_accuracy: 0.7675\n",
      "Epoch 220/500\n",
      "348/348 [==============================] - 1s 2ms/step - loss: 0.3402 - accuracy: 0.8511 - val_loss: 0.4745 - val_accuracy: 0.7817\n",
      "Epoch 221/500\n",
      "348/348 [==============================] - 1s 2ms/step - loss: 0.3380 - accuracy: 0.8482 - val_loss: 0.4658 - val_accuracy: 0.7875\n",
      "Epoch 222/500\n",
      "348/348 [==============================] - 1s 2ms/step - loss: 0.3370 - accuracy: 0.8529 - val_loss: 0.4980 - val_accuracy: 0.7708\n",
      "Epoch 223/500\n",
      "348/348 [==============================] - 1s 2ms/step - loss: 0.3438 - accuracy: 0.8457 - val_loss: 0.4573 - val_accuracy: 0.7883\n",
      "Epoch 224/500\n",
      "348/348 [==============================] - 1s 2ms/step - loss: 0.3363 - accuracy: 0.8525 - val_loss: 0.4830 - val_accuracy: 0.7725\n",
      "Epoch 225/500\n",
      "348/348 [==============================] - 1s 2ms/step - loss: 0.3374 - accuracy: 0.8500 - val_loss: 0.4488 - val_accuracy: 0.7908\n",
      "Epoch 226/500\n",
      "348/348 [==============================] - 1s 2ms/step - loss: 0.3348 - accuracy: 0.8498 - val_loss: 0.4700 - val_accuracy: 0.7875\n",
      "Epoch 227/500\n"
     ]
    },
    {
     "name": "stdout",
     "output_type": "stream",
     "text": [
      "348/348 [==============================] - 1s 2ms/step - loss: 0.3383 - accuracy: 0.8463 - val_loss: 0.4666 - val_accuracy: 0.7775\n",
      "Epoch 228/500\n",
      "348/348 [==============================] - 1s 2ms/step - loss: 0.3364 - accuracy: 0.8512 - val_loss: 0.4899 - val_accuracy: 0.7717\n",
      "Epoch 229/500\n",
      "348/348 [==============================] - 1s 2ms/step - loss: 0.3369 - accuracy: 0.8496 - val_loss: 0.4704 - val_accuracy: 0.7917\n",
      "Epoch 230/500\n",
      "348/348 [==============================] - 1s 2ms/step - loss: 0.3352 - accuracy: 0.8490 - val_loss: 0.4608 - val_accuracy: 0.7908\n",
      "Epoch 231/500\n",
      "348/348 [==============================] - 1s 2ms/step - loss: 0.3395 - accuracy: 0.8500 - val_loss: 0.4935 - val_accuracy: 0.7708\n",
      "Epoch 232/500\n",
      "348/348 [==============================] - 1s 2ms/step - loss: 0.3348 - accuracy: 0.8501 - val_loss: 0.4663 - val_accuracy: 0.7792\n",
      "Epoch 233/500\n",
      "348/348 [==============================] - 1s 2ms/step - loss: 0.3377 - accuracy: 0.8512 - val_loss: 0.4702 - val_accuracy: 0.7767\n",
      "Epoch 234/500\n",
      "348/348 [==============================] - 1s 2ms/step - loss: 0.3402 - accuracy: 0.8465 - val_loss: 0.4685 - val_accuracy: 0.7750\n",
      "Epoch 235/500\n",
      "348/348 [==============================] - 1s 2ms/step - loss: 0.3414 - accuracy: 0.8482 - val_loss: 0.4680 - val_accuracy: 0.7792\n",
      "Epoch 236/500\n",
      "348/348 [==============================] - 1s 2ms/step - loss: 0.3384 - accuracy: 0.8527 - val_loss: 0.4671 - val_accuracy: 0.7792\n",
      "Epoch 237/500\n",
      "348/348 [==============================] - 1s 2ms/step - loss: 0.3369 - accuracy: 0.8487 - val_loss: 0.4974 - val_accuracy: 0.7617\n",
      "Epoch 238/500\n",
      "348/348 [==============================] - 1s 2ms/step - loss: 0.3425 - accuracy: 0.8484 - val_loss: 0.4837 - val_accuracy: 0.7717\n",
      "Epoch 239/500\n",
      "348/348 [==============================] - 1s 2ms/step - loss: 0.3348 - accuracy: 0.8478 - val_loss: 0.4590 - val_accuracy: 0.7933\n",
      "Epoch 240/500\n",
      "348/348 [==============================] - 1s 2ms/step - loss: 0.3303 - accuracy: 0.8504 - val_loss: 0.4704 - val_accuracy: 0.7775\n",
      "Epoch 241/500\n",
      "348/348 [==============================] - 1s 2ms/step - loss: 0.3336 - accuracy: 0.8530 - val_loss: 0.4602 - val_accuracy: 0.7858\n",
      "Epoch 242/500\n",
      "348/348 [==============================] - 1s 2ms/step - loss: 0.3348 - accuracy: 0.8507 - val_loss: 0.4681 - val_accuracy: 0.7817\n",
      "Epoch 243/500\n",
      "348/348 [==============================] - 1s 2ms/step - loss: 0.3428 - accuracy: 0.8492 - val_loss: 0.4733 - val_accuracy: 0.7767\n",
      "Epoch 244/500\n",
      "348/348 [==============================] - 1s 2ms/step - loss: 0.3363 - accuracy: 0.8495 - val_loss: 0.4859 - val_accuracy: 0.7758\n",
      "Epoch 245/500\n",
      "348/348 [==============================] - 1s 2ms/step - loss: 0.3293 - accuracy: 0.8563 - val_loss: 0.4641 - val_accuracy: 0.7900\n",
      "Epoch 246/500\n",
      "348/348 [==============================] - 1s 2ms/step - loss: 0.3328 - accuracy: 0.8484 - val_loss: 0.4702 - val_accuracy: 0.7742\n",
      "Epoch 247/500\n",
      "348/348 [==============================] - 1s 2ms/step - loss: 0.3330 - accuracy: 0.8522 - val_loss: 0.4576 - val_accuracy: 0.7908\n",
      "Epoch 248/500\n",
      "348/348 [==============================] - 1s 2ms/step - loss: 0.3394 - accuracy: 0.8526 - val_loss: 0.4934 - val_accuracy: 0.7767\n",
      "Epoch 249/500\n",
      "348/348 [==============================] - 1s 2ms/step - loss: 0.3413 - accuracy: 0.8482 - val_loss: 0.4743 - val_accuracy: 0.7758\n",
      "Epoch 250/500\n",
      "348/348 [==============================] - 1s 2ms/step - loss: 0.3323 - accuracy: 0.8495 - val_loss: 0.4909 - val_accuracy: 0.7708\n",
      "Epoch 251/500\n",
      "348/348 [==============================] - 1s 2ms/step - loss: 0.3335 - accuracy: 0.8499 - val_loss: 0.4880 - val_accuracy: 0.7742\n",
      "Epoch 252/500\n",
      "348/348 [==============================] - 1s 2ms/step - loss: 0.3298 - accuracy: 0.8501 - val_loss: 0.4777 - val_accuracy: 0.7850\n",
      "Epoch 253/500\n",
      "348/348 [==============================] - 1s 2ms/step - loss: 0.3400 - accuracy: 0.8520 - val_loss: 0.4610 - val_accuracy: 0.7883\n",
      "Epoch 254/500\n",
      "348/348 [==============================] - 1s 2ms/step - loss: 0.3355 - accuracy: 0.8494 - val_loss: 0.4796 - val_accuracy: 0.7817\n",
      "Epoch 255/500\n",
      "348/348 [==============================] - 1s 2ms/step - loss: 0.3377 - accuracy: 0.8496 - val_loss: 0.4823 - val_accuracy: 0.7725\n",
      "Epoch 256/500\n",
      "348/348 [==============================] - 1s 2ms/step - loss: 0.3299 - accuracy: 0.8534 - val_loss: 0.4831 - val_accuracy: 0.7750\n",
      "Epoch 257/500\n",
      "348/348 [==============================] - 1s 2ms/step - loss: 0.3355 - accuracy: 0.8534 - val_loss: 0.4761 - val_accuracy: 0.7775\n",
      "Epoch 258/500\n",
      "348/348 [==============================] - 1s 2ms/step - loss: 0.3357 - accuracy: 0.8503 - val_loss: 0.4933 - val_accuracy: 0.7642\n",
      "Epoch 259/500\n",
      "348/348 [==============================] - 1s 2ms/step - loss: 0.3388 - accuracy: 0.8489 - val_loss: 0.4938 - val_accuracy: 0.7650\n",
      "Epoch 260/500\n",
      "348/348 [==============================] - 1s 2ms/step - loss: 0.3348 - accuracy: 0.8526 - val_loss: 0.5002 - val_accuracy: 0.7633\n",
      "Epoch 261/500\n",
      "348/348 [==============================] - 1s 2ms/step - loss: 0.3346 - accuracy: 0.8500 - val_loss: 0.4862 - val_accuracy: 0.7733\n",
      "Epoch 262/500\n",
      "348/348 [==============================] - 1s 2ms/step - loss: 0.3355 - accuracy: 0.8532 - val_loss: 0.4788 - val_accuracy: 0.7775\n",
      "Epoch 263/500\n",
      "348/348 [==============================] - 1s 2ms/step - loss: 0.3391 - accuracy: 0.8463 - val_loss: 0.4752 - val_accuracy: 0.7833\n",
      "Epoch 264/500\n",
      "348/348 [==============================] - 1s 2ms/step - loss: 0.3323 - accuracy: 0.8525 - val_loss: 0.4849 - val_accuracy: 0.7800\n",
      "Epoch 265/500\n",
      "348/348 [==============================] - 1s 2ms/step - loss: 0.3296 - accuracy: 0.8526 - val_loss: 0.4810 - val_accuracy: 0.7792\n",
      "Epoch 266/500\n",
      "348/348 [==============================] - 1s 2ms/step - loss: 0.3316 - accuracy: 0.8516 - val_loss: 0.4661 - val_accuracy: 0.7833\n",
      "Epoch 267/500\n",
      "348/348 [==============================] - 1s 2ms/step - loss: 0.3333 - accuracy: 0.8532 - val_loss: 0.4763 - val_accuracy: 0.7742\n",
      "Epoch 268/500\n",
      "348/348 [==============================] - 1s 2ms/step - loss: 0.3342 - accuracy: 0.8503 - val_loss: 0.4795 - val_accuracy: 0.7750\n",
      "Epoch 269/500\n",
      "348/348 [==============================] - 1s 2ms/step - loss: 0.3310 - accuracy: 0.8507 - val_loss: 0.4659 - val_accuracy: 0.7883\n",
      "Epoch 270/500\n",
      "348/348 [==============================] - 1s 2ms/step - loss: 0.3350 - accuracy: 0.8508 - val_loss: 0.4844 - val_accuracy: 0.7750\n",
      "Epoch 271/500\n",
      "348/348 [==============================] - 1s 2ms/step - loss: 0.3233 - accuracy: 0.8570 - val_loss: 0.4924 - val_accuracy: 0.7633\n",
      "Epoch 272/500\n",
      "348/348 [==============================] - 1s 2ms/step - loss: 0.3300 - accuracy: 0.8543 - val_loss: 0.4882 - val_accuracy: 0.7708\n",
      "Epoch 273/500\n",
      "348/348 [==============================] - 1s 2ms/step - loss: 0.3399 - accuracy: 0.8529 - val_loss: 0.4909 - val_accuracy: 0.7792\n",
      "Epoch 274/500\n",
      "348/348 [==============================] - 1s 2ms/step - loss: 0.3311 - accuracy: 0.8539 - val_loss: 0.4754 - val_accuracy: 0.7808\n",
      "Epoch 275/500\n",
      "348/348 [==============================] - 1s 2ms/step - loss: 0.3323 - accuracy: 0.8513 - val_loss: 0.4821 - val_accuracy: 0.7817\n",
      "Epoch 276/500\n",
      "348/348 [==============================] - 1s 2ms/step - loss: 0.3354 - accuracy: 0.8518 - val_loss: 0.4729 - val_accuracy: 0.7817\n",
      "Epoch 277/500\n",
      "348/348 [==============================] - 1s 2ms/step - loss: 0.3361 - accuracy: 0.8526 - val_loss: 0.4679 - val_accuracy: 0.7892\n",
      "Epoch 278/500\n",
      "348/348 [==============================] - 1s 2ms/step - loss: 0.3340 - accuracy: 0.8527 - val_loss: 0.4737 - val_accuracy: 0.7875\n",
      "Epoch 279/500\n",
      "348/348 [==============================] - 1s 2ms/step - loss: 0.3334 - accuracy: 0.8511 - val_loss: 0.4886 - val_accuracy: 0.7742\n",
      "Epoch 280/500\n",
      "348/348 [==============================] - 1s 2ms/step - loss: 0.3354 - accuracy: 0.8480 - val_loss: 0.4838 - val_accuracy: 0.7725\n",
      "Epoch 281/500\n",
      "348/348 [==============================] - 1s 2ms/step - loss: 0.3328 - accuracy: 0.8524 - val_loss: 0.4794 - val_accuracy: 0.7792\n",
      "Epoch 282/500\n",
      "348/348 [==============================] - 1s 2ms/step - loss: 0.3284 - accuracy: 0.8554 - val_loss: 0.4851 - val_accuracy: 0.7658\n",
      "Epoch 283/500\n"
     ]
    },
    {
     "name": "stdout",
     "output_type": "stream",
     "text": [
      "348/348 [==============================] - 1s 2ms/step - loss: 0.3271 - accuracy: 0.8580 - val_loss: 0.4633 - val_accuracy: 0.7817\n",
      "Epoch 284/500\n",
      "348/348 [==============================] - 1s 2ms/step - loss: 0.3291 - accuracy: 0.8537 - val_loss: 0.4787 - val_accuracy: 0.7867\n",
      "Epoch 285/500\n",
      "348/348 [==============================] - 1s 2ms/step - loss: 0.3349 - accuracy: 0.8523 - val_loss: 0.4798 - val_accuracy: 0.7758\n",
      "Epoch 286/500\n",
      "348/348 [==============================] - 1s 2ms/step - loss: 0.3325 - accuracy: 0.8554 - val_loss: 0.4880 - val_accuracy: 0.7833\n",
      "Epoch 287/500\n",
      "348/348 [==============================] - 1s 2ms/step - loss: 0.3278 - accuracy: 0.8551 - val_loss: 0.4678 - val_accuracy: 0.7867\n",
      "Epoch 288/500\n",
      "348/348 [==============================] - 1s 2ms/step - loss: 0.3333 - accuracy: 0.8550 - val_loss: 0.4961 - val_accuracy: 0.7625\n",
      "Epoch 289/500\n",
      "348/348 [==============================] - 1s 2ms/step - loss: 0.3329 - accuracy: 0.8534 - val_loss: 0.4838 - val_accuracy: 0.7733\n",
      "Epoch 290/500\n",
      "348/348 [==============================] - 1s 2ms/step - loss: 0.3343 - accuracy: 0.8540 - val_loss: 0.5008 - val_accuracy: 0.7675\n",
      "Epoch 291/500\n",
      "348/348 [==============================] - 1s 2ms/step - loss: 0.3337 - accuracy: 0.8503 - val_loss: 0.4724 - val_accuracy: 0.7842\n",
      "Epoch 292/500\n",
      "348/348 [==============================] - 1s 2ms/step - loss: 0.3288 - accuracy: 0.8554 - val_loss: 0.4868 - val_accuracy: 0.7733\n",
      "Epoch 293/500\n",
      "348/348 [==============================] - 1s 2ms/step - loss: 0.3346 - accuracy: 0.8554 - val_loss: 0.4807 - val_accuracy: 0.7800\n",
      "Epoch 294/500\n",
      "348/348 [==============================] - 1s 2ms/step - loss: 0.3282 - accuracy: 0.8549 - val_loss: 0.4754 - val_accuracy: 0.7800\n",
      "Epoch 295/500\n",
      "348/348 [==============================] - 1s 2ms/step - loss: 0.3277 - accuracy: 0.8538 - val_loss: 0.4753 - val_accuracy: 0.7867\n",
      "Epoch 296/500\n",
      "348/348 [==============================] - 1s 2ms/step - loss: 0.3254 - accuracy: 0.8552 - val_loss: 0.4980 - val_accuracy: 0.7592\n",
      "Epoch 297/500\n",
      "348/348 [==============================] - 1s 2ms/step - loss: 0.3293 - accuracy: 0.8564 - val_loss: 0.4859 - val_accuracy: 0.7725\n",
      "Epoch 298/500\n",
      "348/348 [==============================] - 1s 2ms/step - loss: 0.3315 - accuracy: 0.8537 - val_loss: 0.4810 - val_accuracy: 0.7717\n",
      "Epoch 299/500\n",
      "348/348 [==============================] - 1s 2ms/step - loss: 0.3198 - accuracy: 0.8580 - val_loss: 0.4991 - val_accuracy: 0.7692\n",
      "Epoch 300/500\n",
      "348/348 [==============================] - 1s 2ms/step - loss: 0.3314 - accuracy: 0.8533 - val_loss: 0.4813 - val_accuracy: 0.7750\n",
      "Epoch 301/500\n",
      "348/348 [==============================] - 1s 2ms/step - loss: 0.3303 - accuracy: 0.8533 - val_loss: 0.4765 - val_accuracy: 0.7867\n",
      "Epoch 302/500\n",
      "348/348 [==============================] - 1s 2ms/step - loss: 0.3270 - accuracy: 0.8537 - val_loss: 0.4847 - val_accuracy: 0.7817\n",
      "Epoch 303/500\n",
      "348/348 [==============================] - 1s 2ms/step - loss: 0.3225 - accuracy: 0.8561 - val_loss: 0.4826 - val_accuracy: 0.7775\n",
      "Epoch 304/500\n",
      "348/348 [==============================] - 1s 2ms/step - loss: 0.3347 - accuracy: 0.8514 - val_loss: 0.4942 - val_accuracy: 0.7675\n",
      "Epoch 305/500\n",
      "348/348 [==============================] - 1s 2ms/step - loss: 0.3199 - accuracy: 0.8622 - val_loss: 0.4937 - val_accuracy: 0.7708\n",
      "Epoch 306/500\n",
      "348/348 [==============================] - 1s 2ms/step - loss: 0.3307 - accuracy: 0.8570 - val_loss: 0.4911 - val_accuracy: 0.7808\n",
      "Epoch 307/500\n",
      "348/348 [==============================] - 1s 2ms/step - loss: 0.3270 - accuracy: 0.8542 - val_loss: 0.4697 - val_accuracy: 0.7792\n",
      "Epoch 308/500\n",
      "348/348 [==============================] - 1s 2ms/step - loss: 0.3288 - accuracy: 0.8563 - val_loss: 0.4883 - val_accuracy: 0.7775\n",
      "Epoch 309/500\n",
      "348/348 [==============================] - 1s 2ms/step - loss: 0.3292 - accuracy: 0.8527 - val_loss: 0.4967 - val_accuracy: 0.7733\n",
      "Epoch 310/500\n",
      "348/348 [==============================] - 1s 2ms/step - loss: 0.3359 - accuracy: 0.8509 - val_loss: 0.4860 - val_accuracy: 0.7675\n",
      "Epoch 311/500\n",
      "348/348 [==============================] - 1s 2ms/step - loss: 0.3252 - accuracy: 0.8561 - val_loss: 0.4926 - val_accuracy: 0.7733\n",
      "Epoch 312/500\n",
      "348/348 [==============================] - 1s 2ms/step - loss: 0.3234 - accuracy: 0.8583 - val_loss: 0.4885 - val_accuracy: 0.7683\n",
      "Epoch 313/500\n",
      "348/348 [==============================] - 1s 2ms/step - loss: 0.3359 - accuracy: 0.8544 - val_loss: 0.4850 - val_accuracy: 0.7733\n",
      "Epoch 314/500\n",
      "348/348 [==============================] - 1s 2ms/step - loss: 0.3303 - accuracy: 0.8559 - val_loss: 0.4888 - val_accuracy: 0.7717\n",
      "Epoch 315/500\n",
      "348/348 [==============================] - 1s 2ms/step - loss: 0.3262 - accuracy: 0.8580 - val_loss: 0.4872 - val_accuracy: 0.7775\n",
      "Epoch 316/500\n",
      "348/348 [==============================] - 1s 2ms/step - loss: 0.3309 - accuracy: 0.8561 - val_loss: 0.4872 - val_accuracy: 0.7775\n",
      "Epoch 317/500\n",
      "348/348 [==============================] - 1s 2ms/step - loss: 0.3217 - accuracy: 0.8604 - val_loss: 0.4804 - val_accuracy: 0.7842\n",
      "Epoch 318/500\n",
      "348/348 [==============================] - 1s 2ms/step - loss: 0.3311 - accuracy: 0.8534 - val_loss: 0.4756 - val_accuracy: 0.7783\n",
      "Epoch 319/500\n",
      "348/348 [==============================] - 1s 2ms/step - loss: 0.3275 - accuracy: 0.8542 - val_loss: 0.4814 - val_accuracy: 0.7792\n",
      "Epoch 320/500\n",
      "348/348 [==============================] - 1s 2ms/step - loss: 0.3272 - accuracy: 0.8577 - val_loss: 0.4811 - val_accuracy: 0.7833\n",
      "Epoch 321/500\n",
      "348/348 [==============================] - 1s 2ms/step - loss: 0.3291 - accuracy: 0.8571 - val_loss: 0.4947 - val_accuracy: 0.7717\n",
      "Epoch 322/500\n",
      "348/348 [==============================] - 1s 2ms/step - loss: 0.3293 - accuracy: 0.8563 - val_loss: 0.4953 - val_accuracy: 0.7708\n",
      "Epoch 323/500\n",
      "348/348 [==============================] - 1s 2ms/step - loss: 0.3229 - accuracy: 0.8587 - val_loss: 0.4683 - val_accuracy: 0.7783\n",
      "Epoch 324/500\n",
      "348/348 [==============================] - 1s 2ms/step - loss: 0.3269 - accuracy: 0.8538 - val_loss: 0.4895 - val_accuracy: 0.7767\n",
      "Epoch 325/500\n",
      "348/348 [==============================] - 1s 2ms/step - loss: 0.3304 - accuracy: 0.8572 - val_loss: 0.4863 - val_accuracy: 0.7675\n",
      "Epoch 326/500\n",
      "348/348 [==============================] - 1s 2ms/step - loss: 0.3251 - accuracy: 0.8559 - val_loss: 0.4984 - val_accuracy: 0.7633\n",
      "Epoch 327/500\n",
      "348/348 [==============================] - 1s 2ms/step - loss: 0.3255 - accuracy: 0.8579 - val_loss: 0.4700 - val_accuracy: 0.7875\n",
      "Epoch 328/500\n",
      "348/348 [==============================] - 1s 2ms/step - loss: 0.3276 - accuracy: 0.8570 - val_loss: 0.4935 - val_accuracy: 0.7642\n",
      "Epoch 329/500\n",
      "348/348 [==============================] - 1s 2ms/step - loss: 0.3260 - accuracy: 0.8581 - val_loss: 0.4771 - val_accuracy: 0.7775\n",
      "Epoch 330/500\n",
      "348/348 [==============================] - 1s 2ms/step - loss: 0.3262 - accuracy: 0.8540 - val_loss: 0.4949 - val_accuracy: 0.7733\n",
      "Epoch 331/500\n",
      "348/348 [==============================] - 1s 2ms/step - loss: 0.3288 - accuracy: 0.8530 - val_loss: 0.4858 - val_accuracy: 0.7800\n",
      "Epoch 332/500\n",
      "348/348 [==============================] - 1s 2ms/step - loss: 0.3287 - accuracy: 0.8555 - val_loss: 0.4716 - val_accuracy: 0.7792\n",
      "Epoch 333/500\n",
      "348/348 [==============================] - 1s 2ms/step - loss: 0.3252 - accuracy: 0.8559 - val_loss: 0.5035 - val_accuracy: 0.7667\n",
      "Epoch 334/500\n",
      "348/348 [==============================] - 1s 2ms/step - loss: 0.3303 - accuracy: 0.8570 - val_loss: 0.4899 - val_accuracy: 0.7808\n",
      "Epoch 335/500\n",
      "348/348 [==============================] - 1s 2ms/step - loss: 0.3213 - accuracy: 0.8594 - val_loss: 0.4743 - val_accuracy: 0.7808\n",
      "Epoch 336/500\n",
      "348/348 [==============================] - 1s 2ms/step - loss: 0.3230 - accuracy: 0.8575 - val_loss: 0.4804 - val_accuracy: 0.7800\n",
      "Epoch 337/500\n",
      "348/348 [==============================] - 1s 2ms/step - loss: 0.3203 - accuracy: 0.8610 - val_loss: 0.4939 - val_accuracy: 0.7825\n",
      "Epoch 338/500\n",
      "348/348 [==============================] - 1s 2ms/step - loss: 0.3273 - accuracy: 0.8569 - val_loss: 0.4768 - val_accuracy: 0.7808\n",
      "Epoch 339/500\n"
     ]
    },
    {
     "name": "stdout",
     "output_type": "stream",
     "text": [
      "348/348 [==============================] - 1s 2ms/step - loss: 0.3321 - accuracy: 0.8536 - val_loss: 0.4749 - val_accuracy: 0.7825\n",
      "Epoch 340/500\n",
      "348/348 [==============================] - 1s 2ms/step - loss: 0.3218 - accuracy: 0.8593 - val_loss: 0.4807 - val_accuracy: 0.7858\n",
      "Epoch 341/500\n",
      "348/348 [==============================] - 1s 2ms/step - loss: 0.3251 - accuracy: 0.8549 - val_loss: 0.4711 - val_accuracy: 0.7892\n",
      "Epoch 342/500\n",
      "348/348 [==============================] - 1s 2ms/step - loss: 0.3284 - accuracy: 0.8561 - val_loss: 0.4754 - val_accuracy: 0.7892\n",
      "Epoch 343/500\n",
      "348/348 [==============================] - 1s 2ms/step - loss: 0.3320 - accuracy: 0.8533 - val_loss: 0.4910 - val_accuracy: 0.7683\n",
      "Epoch 344/500\n",
      "348/348 [==============================] - 1s 2ms/step - loss: 0.3267 - accuracy: 0.8570 - val_loss: 0.4787 - val_accuracy: 0.7858\n",
      "Epoch 345/500\n",
      "348/348 [==============================] - 1s 2ms/step - loss: 0.3273 - accuracy: 0.8578 - val_loss: 0.4688 - val_accuracy: 0.7900\n",
      "Epoch 346/500\n",
      "348/348 [==============================] - 1s 2ms/step - loss: 0.3269 - accuracy: 0.8581 - val_loss: 0.4788 - val_accuracy: 0.7850\n",
      "Epoch 347/500\n",
      "348/348 [==============================] - 1s 2ms/step - loss: 0.3324 - accuracy: 0.8594 - val_loss: 0.4745 - val_accuracy: 0.7792\n",
      "Epoch 348/500\n",
      "348/348 [==============================] - 1s 2ms/step - loss: 0.3323 - accuracy: 0.8526 - val_loss: 0.4688 - val_accuracy: 0.7808\n",
      "Epoch 349/500\n",
      "348/348 [==============================] - 1s 2ms/step - loss: 0.3270 - accuracy: 0.8572 - val_loss: 0.4829 - val_accuracy: 0.7808\n",
      "Epoch 350/500\n",
      "348/348 [==============================] - 1s 2ms/step - loss: 0.3278 - accuracy: 0.8552 - val_loss: 0.4798 - val_accuracy: 0.7742\n",
      "Epoch 351/500\n",
      "348/348 [==============================] - 1s 2ms/step - loss: 0.3174 - accuracy: 0.8617 - val_loss: 0.4946 - val_accuracy: 0.7725\n",
      "Epoch 352/500\n",
      "348/348 [==============================] - 1s 2ms/step - loss: 0.3273 - accuracy: 0.8521 - val_loss: 0.4768 - val_accuracy: 0.7817\n",
      "Epoch 353/500\n",
      "348/348 [==============================] - 1s 2ms/step - loss: 0.3277 - accuracy: 0.8517 - val_loss: 0.4951 - val_accuracy: 0.7775\n",
      "Epoch 354/500\n",
      "348/348 [==============================] - 1s 2ms/step - loss: 0.3225 - accuracy: 0.8559 - val_loss: 0.4801 - val_accuracy: 0.7767\n",
      "Epoch 355/500\n",
      "348/348 [==============================] - 1s 2ms/step - loss: 0.3205 - accuracy: 0.8597 - val_loss: 0.4887 - val_accuracy: 0.7733\n",
      "Epoch 356/500\n",
      "348/348 [==============================] - 1s 2ms/step - loss: 0.3321 - accuracy: 0.8534 - val_loss: 0.4870 - val_accuracy: 0.7775\n",
      "Epoch 357/500\n",
      "348/348 [==============================] - 1s 2ms/step - loss: 0.3269 - accuracy: 0.8565 - val_loss: 0.4665 - val_accuracy: 0.7858\n",
      "Epoch 358/500\n",
      "348/348 [==============================] - 1s 2ms/step - loss: 0.3268 - accuracy: 0.8597 - val_loss: 0.4849 - val_accuracy: 0.7767\n",
      "Epoch 359/500\n",
      "348/348 [==============================] - 1s 2ms/step - loss: 0.3200 - accuracy: 0.8582 - val_loss: 0.4897 - val_accuracy: 0.7708\n",
      "Epoch 360/500\n",
      "348/348 [==============================] - 1s 2ms/step - loss: 0.3296 - accuracy: 0.8586 - val_loss: 0.4599 - val_accuracy: 0.7892\n",
      "Epoch 361/500\n",
      "348/348 [==============================] - 1s 2ms/step - loss: 0.3264 - accuracy: 0.8532 - val_loss: 0.4893 - val_accuracy: 0.7750\n",
      "Epoch 362/500\n",
      "348/348 [==============================] - 1s 2ms/step - loss: 0.3292 - accuracy: 0.8565 - val_loss: 0.4808 - val_accuracy: 0.7850\n",
      "Epoch 363/500\n",
      "348/348 [==============================] - 1s 2ms/step - loss: 0.3233 - accuracy: 0.8575 - val_loss: 0.4815 - val_accuracy: 0.7792\n",
      "Epoch 364/500\n",
      "348/348 [==============================] - 1s 2ms/step - loss: 0.3227 - accuracy: 0.8582 - val_loss: 0.4845 - val_accuracy: 0.7767\n",
      "Epoch 365/500\n",
      "348/348 [==============================] - 1s 2ms/step - loss: 0.3263 - accuracy: 0.8553 - val_loss: 0.4910 - val_accuracy: 0.7733\n",
      "Epoch 366/500\n",
      "348/348 [==============================] - 1s 2ms/step - loss: 0.3215 - accuracy: 0.8575 - val_loss: 0.4873 - val_accuracy: 0.7742\n",
      "Epoch 367/500\n",
      "348/348 [==============================] - 1s 2ms/step - loss: 0.3293 - accuracy: 0.8543 - val_loss: 0.4773 - val_accuracy: 0.7825\n",
      "Epoch 368/500\n",
      "348/348 [==============================] - 1s 2ms/step - loss: 0.3272 - accuracy: 0.8593 - val_loss: 0.4871 - val_accuracy: 0.7742\n",
      "Epoch 369/500\n",
      "348/348 [==============================] - 1s 2ms/step - loss: 0.3240 - accuracy: 0.8571 - val_loss: 0.4715 - val_accuracy: 0.7892\n",
      "Epoch 370/500\n",
      "348/348 [==============================] - 1s 2ms/step - loss: 0.3255 - accuracy: 0.8555 - val_loss: 0.4764 - val_accuracy: 0.7833\n",
      "Epoch 371/500\n",
      "348/348 [==============================] - 1s 2ms/step - loss: 0.3254 - accuracy: 0.8567 - val_loss: 0.4858 - val_accuracy: 0.7792\n",
      "Epoch 372/500\n",
      "348/348 [==============================] - 1s 2ms/step - loss: 0.3199 - accuracy: 0.8603 - val_loss: 0.4841 - val_accuracy: 0.7825\n",
      "Epoch 373/500\n",
      "348/348 [==============================] - 1s 2ms/step - loss: 0.3218 - accuracy: 0.8606 - val_loss: 0.4979 - val_accuracy: 0.7850\n",
      "Epoch 374/500\n",
      "348/348 [==============================] - 1s 2ms/step - loss: 0.3194 - accuracy: 0.8613 - val_loss: 0.4981 - val_accuracy: 0.7800\n",
      "Epoch 375/500\n",
      "348/348 [==============================] - 1s 2ms/step - loss: 0.3203 - accuracy: 0.8592 - val_loss: 0.4869 - val_accuracy: 0.7875\n",
      "Epoch 376/500\n",
      "348/348 [==============================] - 1s 2ms/step - loss: 0.3244 - accuracy: 0.8564 - val_loss: 0.4801 - val_accuracy: 0.7833\n",
      "Epoch 377/500\n",
      "348/348 [==============================] - 1s 2ms/step - loss: 0.3181 - accuracy: 0.8580 - val_loss: 0.4968 - val_accuracy: 0.7750\n",
      "Epoch 378/500\n",
      "348/348 [==============================] - 1s 2ms/step - loss: 0.3173 - accuracy: 0.8611 - val_loss: 0.4929 - val_accuracy: 0.7842\n",
      "Epoch 379/500\n",
      "348/348 [==============================] - 1s 2ms/step - loss: 0.3279 - accuracy: 0.8533 - val_loss: 0.4960 - val_accuracy: 0.7792\n",
      "Epoch 380/500\n",
      "348/348 [==============================] - 1s 2ms/step - loss: 0.3225 - accuracy: 0.8573 - val_loss: 0.5053 - val_accuracy: 0.7767\n",
      "Epoch 381/500\n",
      "348/348 [==============================] - 1s 2ms/step - loss: 0.3248 - accuracy: 0.8591 - val_loss: 0.5003 - val_accuracy: 0.7800\n",
      "Epoch 382/500\n",
      "348/348 [==============================] - 1s 2ms/step - loss: 0.3222 - accuracy: 0.8613 - val_loss: 0.4974 - val_accuracy: 0.7775\n",
      "Epoch 383/500\n",
      "348/348 [==============================] - 1s 2ms/step - loss: 0.3215 - accuracy: 0.8585 - val_loss: 0.5014 - val_accuracy: 0.7750\n",
      "Epoch 384/500\n",
      "348/348 [==============================] - 1s 2ms/step - loss: 0.3199 - accuracy: 0.8614 - val_loss: 0.5023 - val_accuracy: 0.7733\n",
      "Epoch 385/500\n",
      "348/348 [==============================] - 1s 2ms/step - loss: 0.3243 - accuracy: 0.8568 - val_loss: 0.5004 - val_accuracy: 0.7700\n",
      "Epoch 386/500\n",
      "348/348 [==============================] - 1s 2ms/step - loss: 0.3266 - accuracy: 0.8569 - val_loss: 0.5005 - val_accuracy: 0.7658\n",
      "Epoch 387/500\n",
      "348/348 [==============================] - 1s 2ms/step - loss: 0.3254 - accuracy: 0.8560 - val_loss: 0.4817 - val_accuracy: 0.7825\n",
      "Epoch 388/500\n",
      "348/348 [==============================] - 1s 2ms/step - loss: 0.3273 - accuracy: 0.8587 - val_loss: 0.5014 - val_accuracy: 0.7742\n",
      "Epoch 389/500\n",
      "348/348 [==============================] - 1s 2ms/step - loss: 0.3212 - accuracy: 0.8596 - val_loss: 0.4839 - val_accuracy: 0.7858\n",
      "Epoch 390/500\n",
      "348/348 [==============================] - 1s 2ms/step - loss: 0.3206 - accuracy: 0.8584 - val_loss: 0.5105 - val_accuracy: 0.7667\n",
      "Epoch 391/500\n",
      "348/348 [==============================] - 1s 2ms/step - loss: 0.3302 - accuracy: 0.8543 - val_loss: 0.4884 - val_accuracy: 0.7792\n",
      "Epoch 392/500\n",
      "348/348 [==============================] - 1s 2ms/step - loss: 0.3251 - accuracy: 0.8590 - val_loss: 0.4821 - val_accuracy: 0.7817\n",
      "Epoch 393/500\n",
      "348/348 [==============================] - 1s 2ms/step - loss: 0.3223 - accuracy: 0.8582 - val_loss: 0.4904 - val_accuracy: 0.7758\n",
      "Epoch 394/500\n",
      "348/348 [==============================] - 1s 2ms/step - loss: 0.3280 - accuracy: 0.8552 - val_loss: 0.4883 - val_accuracy: 0.7850\n",
      "Epoch 395/500\n"
     ]
    },
    {
     "name": "stdout",
     "output_type": "stream",
     "text": [
      "348/348 [==============================] - 1s 2ms/step - loss: 0.3209 - accuracy: 0.8607 - val_loss: 0.4971 - val_accuracy: 0.7692\n",
      "Epoch 396/500\n",
      "348/348 [==============================] - 1s 2ms/step - loss: 0.3254 - accuracy: 0.8570 - val_loss: 0.4732 - val_accuracy: 0.7792\n",
      "Epoch 397/500\n",
      "348/348 [==============================] - 1s 2ms/step - loss: 0.3227 - accuracy: 0.8571 - val_loss: 0.4901 - val_accuracy: 0.7683\n",
      "Epoch 398/500\n",
      "348/348 [==============================] - 1s 2ms/step - loss: 0.3185 - accuracy: 0.8622 - val_loss: 0.4846 - val_accuracy: 0.7842\n",
      "Epoch 399/500\n",
      "348/348 [==============================] - 1s 2ms/step - loss: 0.3200 - accuracy: 0.8597 - val_loss: 0.4845 - val_accuracy: 0.7850\n",
      "Epoch 400/500\n",
      "348/348 [==============================] - 1s 2ms/step - loss: 0.3220 - accuracy: 0.8615 - val_loss: 0.4910 - val_accuracy: 0.7808\n",
      "Epoch 401/500\n",
      "348/348 [==============================] - 1s 2ms/step - loss: 0.3266 - accuracy: 0.8584 - val_loss: 0.4859 - val_accuracy: 0.7825\n",
      "Epoch 402/500\n",
      "348/348 [==============================] - 1s 2ms/step - loss: 0.3177 - accuracy: 0.8605 - val_loss: 0.4913 - val_accuracy: 0.7775\n",
      "Epoch 403/500\n",
      "348/348 [==============================] - 1s 2ms/step - loss: 0.3212 - accuracy: 0.8602 - val_loss: 0.4844 - val_accuracy: 0.7783\n",
      "Epoch 404/500\n",
      "348/348 [==============================] - 1s 2ms/step - loss: 0.3137 - accuracy: 0.8616 - val_loss: 0.4881 - val_accuracy: 0.7850\n",
      "Epoch 405/500\n",
      "348/348 [==============================] - 1s 2ms/step - loss: 0.3186 - accuracy: 0.8578 - val_loss: 0.4961 - val_accuracy: 0.7842\n",
      "Epoch 406/500\n",
      "348/348 [==============================] - 1s 2ms/step - loss: 0.3211 - accuracy: 0.8576 - val_loss: 0.5086 - val_accuracy: 0.7733\n",
      "Epoch 407/500\n",
      "348/348 [==============================] - 1s 2ms/step - loss: 0.3230 - accuracy: 0.8607 - val_loss: 0.4859 - val_accuracy: 0.7850\n",
      "Epoch 408/500\n",
      "348/348 [==============================] - 1s 2ms/step - loss: 0.3151 - accuracy: 0.8584 - val_loss: 0.4836 - val_accuracy: 0.7825\n",
      "Epoch 409/500\n",
      "348/348 [==============================] - 1s 2ms/step - loss: 0.3201 - accuracy: 0.8561 - val_loss: 0.4950 - val_accuracy: 0.7758\n",
      "Epoch 410/500\n",
      "348/348 [==============================] - 1s 2ms/step - loss: 0.3177 - accuracy: 0.8613 - val_loss: 0.4844 - val_accuracy: 0.7808\n",
      "Epoch 411/500\n",
      "348/348 [==============================] - 1s 2ms/step - loss: 0.3164 - accuracy: 0.8612 - val_loss: 0.4861 - val_accuracy: 0.7792\n",
      "Epoch 412/500\n",
      "348/348 [==============================] - 1s 2ms/step - loss: 0.3238 - accuracy: 0.8570 - val_loss: 0.4798 - val_accuracy: 0.7833\n",
      "Epoch 413/500\n",
      "348/348 [==============================] - 1s 2ms/step - loss: 0.3256 - accuracy: 0.8559 - val_loss: 0.4859 - val_accuracy: 0.7767\n",
      "Epoch 414/500\n",
      "348/348 [==============================] - 1s 2ms/step - loss: 0.3240 - accuracy: 0.8598 - val_loss: 0.4720 - val_accuracy: 0.7783\n",
      "Epoch 415/500\n",
      "348/348 [==============================] - 1s 2ms/step - loss: 0.3278 - accuracy: 0.8551 - val_loss: 0.4858 - val_accuracy: 0.7733\n",
      "Epoch 416/500\n",
      "348/348 [==============================] - 1s 2ms/step - loss: 0.3201 - accuracy: 0.8613 - val_loss: 0.4893 - val_accuracy: 0.7750\n",
      "Epoch 417/500\n",
      "348/348 [==============================] - 1s 2ms/step - loss: 0.3179 - accuracy: 0.8573 - val_loss: 0.4925 - val_accuracy: 0.7717\n",
      "Epoch 418/500\n",
      "348/348 [==============================] - 1s 2ms/step - loss: 0.3246 - accuracy: 0.8579 - val_loss: 0.4844 - val_accuracy: 0.7792\n",
      "Epoch 419/500\n",
      "348/348 [==============================] - 1s 2ms/step - loss: 0.3259 - accuracy: 0.8599 - val_loss: 0.4788 - val_accuracy: 0.7833\n",
      "Epoch 420/500\n",
      "348/348 [==============================] - 1s 2ms/step - loss: 0.3203 - accuracy: 0.8571 - val_loss: 0.4784 - val_accuracy: 0.7900\n",
      "Epoch 421/500\n",
      "348/348 [==============================] - 1s 2ms/step - loss: 0.3308 - accuracy: 0.8534 - val_loss: 0.4842 - val_accuracy: 0.7758\n",
      "Epoch 422/500\n",
      "348/348 [==============================] - 1s 2ms/step - loss: 0.3186 - accuracy: 0.8587 - val_loss: 0.4965 - val_accuracy: 0.7733\n",
      "Epoch 423/500\n",
      "348/348 [==============================] - 1s 2ms/step - loss: 0.3232 - accuracy: 0.8552 - val_loss: 0.4899 - val_accuracy: 0.7733\n",
      "Epoch 424/500\n",
      "348/348 [==============================] - 1s 2ms/step - loss: 0.3203 - accuracy: 0.8573 - val_loss: 0.4869 - val_accuracy: 0.7817\n",
      "Epoch 425/500\n",
      "348/348 [==============================] - 1s 2ms/step - loss: 0.3160 - accuracy: 0.8625 - val_loss: 0.4871 - val_accuracy: 0.7692\n",
      "Epoch 426/500\n",
      "348/348 [==============================] - 1s 2ms/step - loss: 0.3225 - accuracy: 0.8614 - val_loss: 0.4990 - val_accuracy: 0.7725\n",
      "Epoch 427/500\n",
      "348/348 [==============================] - 1s 2ms/step - loss: 0.3194 - accuracy: 0.8623 - val_loss: 0.4929 - val_accuracy: 0.7758\n",
      "Epoch 428/500\n",
      "348/348 [==============================] - 1s 2ms/step - loss: 0.3139 - accuracy: 0.8607 - val_loss: 0.4824 - val_accuracy: 0.7867\n",
      "Epoch 429/500\n",
      "348/348 [==============================] - 1s 2ms/step - loss: 0.3175 - accuracy: 0.8587 - val_loss: 0.5042 - val_accuracy: 0.7733\n",
      "Epoch 430/500\n",
      "348/348 [==============================] - 1s 2ms/step - loss: 0.3213 - accuracy: 0.8586 - val_loss: 0.4863 - val_accuracy: 0.7825\n",
      "Epoch 431/500\n",
      "348/348 [==============================] - 1s 2ms/step - loss: 0.3200 - accuracy: 0.8629 - val_loss: 0.4959 - val_accuracy: 0.7717\n",
      "Epoch 432/500\n",
      "348/348 [==============================] - 1s 2ms/step - loss: 0.3142 - accuracy: 0.8637 - val_loss: 0.4881 - val_accuracy: 0.7733\n",
      "Epoch 433/500\n",
      "348/348 [==============================] - 1s 2ms/step - loss: 0.3149 - accuracy: 0.8634 - val_loss: 0.4931 - val_accuracy: 0.7842\n",
      "Epoch 434/500\n",
      "348/348 [==============================] - 1s 2ms/step - loss: 0.3208 - accuracy: 0.8590 - val_loss: 0.4780 - val_accuracy: 0.7925\n",
      "Epoch 435/500\n",
      "348/348 [==============================] - 1s 2ms/step - loss: 0.3203 - accuracy: 0.8587 - val_loss: 0.5069 - val_accuracy: 0.7700\n",
      "Epoch 436/500\n",
      "348/348 [==============================] - 1s 2ms/step - loss: 0.3269 - accuracy: 0.8530 - val_loss: 0.4898 - val_accuracy: 0.7850\n",
      "Epoch 437/500\n",
      "348/348 [==============================] - 1s 2ms/step - loss: 0.3169 - accuracy: 0.8588 - val_loss: 0.4772 - val_accuracy: 0.7850\n",
      "Epoch 438/500\n",
      "348/348 [==============================] - 1s 2ms/step - loss: 0.3179 - accuracy: 0.8607 - val_loss: 0.4936 - val_accuracy: 0.7850\n",
      "Epoch 439/500\n",
      "348/348 [==============================] - 1s 2ms/step - loss: 0.3211 - accuracy: 0.8590 - val_loss: 0.5071 - val_accuracy: 0.7750\n",
      "Epoch 440/500\n",
      "348/348 [==============================] - 1s 2ms/step - loss: 0.3177 - accuracy: 0.8631 - val_loss: 0.4889 - val_accuracy: 0.7833\n",
      "Epoch 441/500\n",
      "348/348 [==============================] - 1s 2ms/step - loss: 0.3207 - accuracy: 0.8639 - val_loss: 0.4920 - val_accuracy: 0.7792\n",
      "Epoch 442/500\n",
      "348/348 [==============================] - 1s 2ms/step - loss: 0.3163 - accuracy: 0.8619 - val_loss: 0.4995 - val_accuracy: 0.7758\n",
      "Epoch 443/500\n",
      "348/348 [==============================] - 1s 2ms/step - loss: 0.3247 - accuracy: 0.8578 - val_loss: 0.4858 - val_accuracy: 0.7825\n",
      "Epoch 444/500\n",
      "348/348 [==============================] - 1s 2ms/step - loss: 0.3194 - accuracy: 0.8602 - val_loss: 0.4742 - val_accuracy: 0.7917\n",
      "Epoch 445/500\n",
      "348/348 [==============================] - 1s 2ms/step - loss: 0.3187 - accuracy: 0.8631 - val_loss: 0.4875 - val_accuracy: 0.7867\n",
      "Epoch 446/500\n",
      "348/348 [==============================] - 1s 2ms/step - loss: 0.3181 - accuracy: 0.8570 - val_loss: 0.4913 - val_accuracy: 0.7758\n",
      "Epoch 447/500\n",
      "348/348 [==============================] - 1s 2ms/step - loss: 0.3215 - accuracy: 0.8599 - val_loss: 0.4876 - val_accuracy: 0.7758\n",
      "Epoch 448/500\n",
      "348/348 [==============================] - 1s 2ms/step - loss: 0.3145 - accuracy: 0.8600 - val_loss: 0.4792 - val_accuracy: 0.7817\n",
      "Epoch 449/500\n",
      "348/348 [==============================] - 1s 2ms/step - loss: 0.3173 - accuracy: 0.8640 - val_loss: 0.4900 - val_accuracy: 0.7758\n",
      "Epoch 450/500\n",
      "348/348 [==============================] - 1s 2ms/step - loss: 0.3133 - accuracy: 0.8627 - val_loss: 0.4808 - val_accuracy: 0.7858\n",
      "Epoch 451/500\n"
     ]
    },
    {
     "name": "stdout",
     "output_type": "stream",
     "text": [
      "348/348 [==============================] - 1s 2ms/step - loss: 0.3174 - accuracy: 0.8614 - val_loss: 0.4978 - val_accuracy: 0.7750\n",
      "Epoch 452/500\n",
      "348/348 [==============================] - 1s 2ms/step - loss: 0.3160 - accuracy: 0.8594 - val_loss: 0.4878 - val_accuracy: 0.7833\n",
      "Epoch 453/500\n",
      "348/348 [==============================] - 1s 2ms/step - loss: 0.3228 - accuracy: 0.8577 - val_loss: 0.4913 - val_accuracy: 0.7708\n",
      "Epoch 454/500\n",
      "348/348 [==============================] - 1s 2ms/step - loss: 0.3170 - accuracy: 0.8613 - val_loss: 0.5034 - val_accuracy: 0.7742\n",
      "Epoch 455/500\n",
      "348/348 [==============================] - 1s 2ms/step - loss: 0.3196 - accuracy: 0.8615 - val_loss: 0.4953 - val_accuracy: 0.7742\n",
      "Epoch 456/500\n",
      "348/348 [==============================] - 1s 2ms/step - loss: 0.3167 - accuracy: 0.8597 - val_loss: 0.5091 - val_accuracy: 0.7725\n",
      "Epoch 457/500\n",
      "348/348 [==============================] - 1s 2ms/step - loss: 0.3187 - accuracy: 0.8588 - val_loss: 0.4762 - val_accuracy: 0.7800\n",
      "Epoch 458/500\n",
      "348/348 [==============================] - 1s 2ms/step - loss: 0.3225 - accuracy: 0.8547 - val_loss: 0.4798 - val_accuracy: 0.7792\n",
      "Epoch 459/500\n",
      "348/348 [==============================] - 1s 2ms/step - loss: 0.3163 - accuracy: 0.8618 - val_loss: 0.5010 - val_accuracy: 0.7725\n",
      "Epoch 460/500\n",
      "348/348 [==============================] - 1s 2ms/step - loss: 0.3206 - accuracy: 0.8586 - val_loss: 0.5006 - val_accuracy: 0.7758\n",
      "Epoch 461/500\n",
      "348/348 [==============================] - 1s 2ms/step - loss: 0.3148 - accuracy: 0.8616 - val_loss: 0.5209 - val_accuracy: 0.7725\n",
      "Epoch 462/500\n",
      "348/348 [==============================] - 1s 2ms/step - loss: 0.3165 - accuracy: 0.8618 - val_loss: 0.5004 - val_accuracy: 0.7833\n",
      "Epoch 463/500\n",
      "348/348 [==============================] - 1s 2ms/step - loss: 0.3153 - accuracy: 0.8607 - val_loss: 0.5061 - val_accuracy: 0.7717\n",
      "Epoch 464/500\n",
      "348/348 [==============================] - 1s 2ms/step - loss: 0.3129 - accuracy: 0.8638 - val_loss: 0.5058 - val_accuracy: 0.7800\n",
      "Epoch 465/500\n",
      "348/348 [==============================] - 1s 2ms/step - loss: 0.3145 - accuracy: 0.8618 - val_loss: 0.5023 - val_accuracy: 0.7858\n",
      "Epoch 466/500\n",
      "348/348 [==============================] - 1s 2ms/step - loss: 0.3184 - accuracy: 0.8604 - val_loss: 0.5092 - val_accuracy: 0.7683\n",
      "Epoch 467/500\n",
      "348/348 [==============================] - 1s 2ms/step - loss: 0.3144 - accuracy: 0.8640 - val_loss: 0.5041 - val_accuracy: 0.7742\n",
      "Epoch 468/500\n",
      "348/348 [==============================] - 1s 2ms/step - loss: 0.3210 - accuracy: 0.8595 - val_loss: 0.5017 - val_accuracy: 0.7767\n",
      "Epoch 469/500\n",
      "348/348 [==============================] - 1s 2ms/step - loss: 0.3155 - accuracy: 0.8642 - val_loss: 0.5023 - val_accuracy: 0.7792\n",
      "Epoch 470/500\n",
      "348/348 [==============================] - 1s 2ms/step - loss: 0.3179 - accuracy: 0.8617 - val_loss: 0.5087 - val_accuracy: 0.7700\n",
      "Epoch 471/500\n",
      "348/348 [==============================] - 1s 2ms/step - loss: 0.3187 - accuracy: 0.8606 - val_loss: 0.4970 - val_accuracy: 0.7733\n",
      "Epoch 472/500\n",
      "348/348 [==============================] - 1s 2ms/step - loss: 0.3205 - accuracy: 0.8611 - val_loss: 0.5031 - val_accuracy: 0.7750\n",
      "Epoch 473/500\n",
      "348/348 [==============================] - 1s 2ms/step - loss: 0.3238 - accuracy: 0.8583 - val_loss: 0.5048 - val_accuracy: 0.7758\n",
      "Epoch 474/500\n",
      "348/348 [==============================] - 1s 2ms/step - loss: 0.3213 - accuracy: 0.8605 - val_loss: 0.5159 - val_accuracy: 0.7733\n",
      "Epoch 475/500\n",
      "348/348 [==============================] - 1s 2ms/step - loss: 0.3187 - accuracy: 0.8599 - val_loss: 0.4937 - val_accuracy: 0.7792\n",
      "Epoch 476/500\n",
      "348/348 [==============================] - 1s 2ms/step - loss: 0.3193 - accuracy: 0.8615 - val_loss: 0.5059 - val_accuracy: 0.7792\n",
      "Epoch 477/500\n",
      "348/348 [==============================] - 1s 2ms/step - loss: 0.3133 - accuracy: 0.8615 - val_loss: 0.5085 - val_accuracy: 0.7700\n",
      "Epoch 478/500\n",
      "348/348 [==============================] - 1s 2ms/step - loss: 0.3218 - accuracy: 0.8621 - val_loss: 0.4927 - val_accuracy: 0.7775\n",
      "Epoch 479/500\n",
      "348/348 [==============================] - 1s 2ms/step - loss: 0.3165 - accuracy: 0.8623 - val_loss: 0.5079 - val_accuracy: 0.7675\n",
      "Epoch 480/500\n",
      "348/348 [==============================] - 1s 2ms/step - loss: 0.3131 - accuracy: 0.8658 - val_loss: 0.4915 - val_accuracy: 0.7833\n",
      "Epoch 481/500\n",
      "348/348 [==============================] - 1s 2ms/step - loss: 0.3103 - accuracy: 0.8628 - val_loss: 0.5059 - val_accuracy: 0.7750\n",
      "Epoch 482/500\n",
      "348/348 [==============================] - 1s 2ms/step - loss: 0.3144 - accuracy: 0.8612 - val_loss: 0.4904 - val_accuracy: 0.7750\n",
      "Epoch 483/500\n",
      "348/348 [==============================] - 1s 2ms/step - loss: 0.3174 - accuracy: 0.8606 - val_loss: 0.4856 - val_accuracy: 0.7842\n",
      "Epoch 484/500\n",
      "348/348 [==============================] - 1s 2ms/step - loss: 0.3180 - accuracy: 0.8619 - val_loss: 0.5006 - val_accuracy: 0.7733\n",
      "Epoch 485/500\n",
      "348/348 [==============================] - 1s 2ms/step - loss: 0.3155 - accuracy: 0.8619 - val_loss: 0.5026 - val_accuracy: 0.7767\n",
      "Epoch 486/500\n",
      "348/348 [==============================] - 1s 2ms/step - loss: 0.3164 - accuracy: 0.8645 - val_loss: 0.4996 - val_accuracy: 0.7700\n",
      "Epoch 487/500\n",
      "348/348 [==============================] - 1s 2ms/step - loss: 0.3202 - accuracy: 0.8598 - val_loss: 0.5194 - val_accuracy: 0.7642\n",
      "Epoch 488/500\n",
      "348/348 [==============================] - 1s 2ms/step - loss: 0.3223 - accuracy: 0.8596 - val_loss: 0.4974 - val_accuracy: 0.7750\n",
      "Epoch 489/500\n",
      "348/348 [==============================] - 1s 2ms/step - loss: 0.3270 - accuracy: 0.8540 - val_loss: 0.5043 - val_accuracy: 0.7708\n",
      "Epoch 490/500\n",
      "348/348 [==============================] - 1s 2ms/step - loss: 0.3138 - accuracy: 0.8646 - val_loss: 0.5019 - val_accuracy: 0.7775\n",
      "Epoch 491/500\n",
      "348/348 [==============================] - 1s 2ms/step - loss: 0.3188 - accuracy: 0.8588 - val_loss: 0.4940 - val_accuracy: 0.7758\n",
      "Epoch 492/500\n",
      "348/348 [==============================] - 1s 2ms/step - loss: 0.3146 - accuracy: 0.8614 - val_loss: 0.5000 - val_accuracy: 0.7825\n",
      "Epoch 493/500\n",
      "348/348 [==============================] - 1s 2ms/step - loss: 0.3128 - accuracy: 0.8661 - val_loss: 0.4930 - val_accuracy: 0.7792\n",
      "Epoch 494/500\n",
      "348/348 [==============================] - 1s 2ms/step - loss: 0.3148 - accuracy: 0.8612 - val_loss: 0.4995 - val_accuracy: 0.7800\n",
      "Epoch 495/500\n",
      "348/348 [==============================] - 1s 2ms/step - loss: 0.3122 - accuracy: 0.8624 - val_loss: 0.5132 - val_accuracy: 0.7675\n",
      "Epoch 496/500\n",
      "348/348 [==============================] - 1s 2ms/step - loss: 0.3199 - accuracy: 0.8602 - val_loss: 0.4817 - val_accuracy: 0.7942\n",
      "Epoch 497/500\n",
      "348/348 [==============================] - 1s 2ms/step - loss: 0.3135 - accuracy: 0.8587 - val_loss: 0.4987 - val_accuracy: 0.7758\n",
      "Epoch 498/500\n",
      "348/348 [==============================] - 1s 2ms/step - loss: 0.3192 - accuracy: 0.8641 - val_loss: 0.4874 - val_accuracy: 0.7783\n",
      "Epoch 499/500\n",
      "348/348 [==============================] - 1s 2ms/step - loss: 0.3179 - accuracy: 0.8648 - val_loss: 0.4953 - val_accuracy: 0.7842\n",
      "Epoch 500/500\n",
      "348/348 [==============================] - 1s 2ms/step - loss: 0.3177 - accuracy: 0.8588 - val_loss: 0.4973 - val_accuracy: 0.7833\n"
     ]
    }
   ],
   "source": [
    "history = model.fit(X_ros_clean, y_ros, epochs=500, batch_size=32, validation_data=(X_valid_clean, y_valid))"
   ]
  },
  {
   "cell_type": "code",
   "execution_count": 194,
   "id": "2dccc2a6",
   "metadata": {},
   "outputs": [
    {
     "name": "stdout",
     "output_type": "stream",
     "text": [
      "38/38 [==============================] - 0s 1ms/step\n",
      "Accuracy: 0.8091666666666667\n"
     ]
    }
   ],
   "source": [
    "deep_pred = np.argmax(model.predict(X_valid_clean), axis=-1)\n",
    "accuracy = accuracy_score(y_valid, deep_pred)\n",
    "print(\"Accuracy:\", accuracy)"
   ]
  },
  {
   "cell_type": "code",
   "execution_count": 195,
   "id": "e7ecae4e",
   "metadata": {},
   "outputs": [
    {
     "name": "stdout",
     "output_type": "stream",
     "text": [
      "57/57 [==============================] - 0s 1ms/step\n",
      "Accuracy: 0.7911111111111111\n"
     ]
    }
   ],
   "source": [
    "deep_pred = np.argmax(model.predict(X_test_clean), axis=-1)\n",
    "accuracy = accuracy_score(y_test, deep_pred)\n",
    "print(\"Accuracy:\", accuracy)"
   ]
  },
  {
   "cell_type": "code",
   "execution_count": 196,
   "id": "35361f65",
   "metadata": {},
   "outputs": [
    {
     "name": "stdout",
     "output_type": "stream",
     "text": [
      "              precision    recall  f1-score   support\n",
      "\n",
      "           0       0.79      1.00      0.88      1424\n",
      "           1       0.00      0.00      0.00       376\n",
      "\n",
      "    accuracy                           0.79      1800\n",
      "   macro avg       0.40      0.50      0.44      1800\n",
      "weighted avg       0.63      0.79      0.70      1800\n",
      "\n"
     ]
    }
   ],
   "source": [
    "print(classification_report(y_test, deep_pred, labels=[0,1]))"
   ]
  },
  {
   "cell_type": "markdown",
   "id": "a41c56a9",
   "metadata": {},
   "source": [
    "## Tuning Parameter Deep Learning"
   ]
  },
  {
   "cell_type": "code",
   "execution_count": 197,
   "id": "7eaf8e0b",
   "metadata": {},
   "outputs": [],
   "source": [
    "def create_model(units=64, layers=2, dropout=0.2):\n",
    "    model = Sequential()\n",
    "    model.add(Dense(units, activation='relu', input_shape=(13,)))\n",
    "    model.add(Dropout(dropout))\n",
    "    for i in range(layers-1):\n",
    "        model.add(Dense(units, activation='relu'))\n",
    "        model.add(Dropout(dropout))\n",
    "    model.add(Dense(1, activation='sigmoid'))\n",
    "    model.compile(optimizer='adam', loss='binary_crossentropy', metrics=['accuracy'])\n",
    "    return model"
   ]
  },
  {
   "cell_type": "code",
   "execution_count": 198,
   "id": "55a19ccf",
   "metadata": {},
   "outputs": [],
   "source": [
    "model = KerasClassifier(build_fn=create_model)"
   ]
  },
  {
   "cell_type": "code",
   "execution_count": 199,
   "id": "50cd1fd4",
   "metadata": {},
   "outputs": [],
   "source": [
    "param_grid = {\n",
    "    'units': [32, 64, 128],\n",
    "    'layers': [2, 3, 4],\n",
    "    'dropout': [0.2, 0.3, 0.4]\n",
    "}"
   ]
  },
  {
   "cell_type": "code",
   "execution_count": 200,
   "id": "a9f93325",
   "metadata": {},
   "outputs": [],
   "source": [
    "grid = GridSearchCV(estimator=model, param_grid=param_grid, cv=5)"
   ]
  },
  {
   "cell_type": "code",
   "execution_count": 201,
   "id": "955d2d10",
   "metadata": {},
   "outputs": [
    {
     "name": "stdout",
     "output_type": "stream",
     "text": [
      "279/279 [==============================] - 2s 2ms/step - loss: 0.6127 - accuracy: 0.6636\n",
      "70/70 [==============================] - 0s 1ms/step - loss: 0.6046 - accuracy: 0.7056\n",
      "279/279 [==============================] - 1s 2ms/step - loss: 0.6358 - accuracy: 0.6427\n",
      "70/70 [==============================] - 0s 1ms/step - loss: 0.6971 - accuracy: 0.6152\n",
      "279/279 [==============================] - 1s 2ms/step - loss: 0.6390 - accuracy: 0.6271\n",
      "70/70 [==============================] - 0s 1ms/step - loss: 0.6985 - accuracy: 0.6179\n",
      "279/279 [==============================] - 1s 2ms/step - loss: 0.6168 - accuracy: 0.6601\n",
      "70/70 [==============================] - 0s 1ms/step - loss: 0.7588 - accuracy: 0.5447\n",
      "279/279 [==============================] - 1s 2ms/step - loss: 0.6187 - accuracy: 0.6555\n",
      "70/70 [==============================] - 0s 1ms/step - loss: 0.8939 - accuracy: 0.3947\n",
      "279/279 [==============================] - 1s 2ms/step - loss: 0.6020 - accuracy: 0.6798\n",
      "70/70 [==============================] - 0s 1ms/step - loss: 0.6253 - accuracy: 0.6589\n",
      "279/279 [==============================] - 1s 2ms/step - loss: 0.6104 - accuracy: 0.6692\n",
      "70/70 [==============================] - 0s 1ms/step - loss: 0.6243 - accuracy: 0.6547\n",
      "279/279 [==============================] - 1s 2ms/step - loss: 0.5939 - accuracy: 0.6896\n",
      "70/70 [==============================] - 0s 1ms/step - loss: 0.6323 - accuracy: 0.6736\n",
      "279/279 [==============================] - 1s 2ms/step - loss: 0.6004 - accuracy: 0.6820\n",
      "70/70 [==============================] - 0s 1ms/step - loss: 0.6619 - accuracy: 0.6385\n",
      "279/279 [==============================] - 1s 2ms/step - loss: 0.5874 - accuracy: 0.6951\n",
      "70/70 [==============================] - 0s 1ms/step - loss: 0.7813 - accuracy: 0.5357\n",
      "279/279 [==============================] - 1s 2ms/step - loss: 0.5836 - accuracy: 0.6923\n",
      "70/70 [==============================] - 0s 1ms/step - loss: 0.6151 - accuracy: 0.6737\n",
      "279/279 [==============================] - 1s 2ms/step - loss: 0.5839 - accuracy: 0.6970\n",
      "70/70 [==============================] - 0s 1ms/step - loss: 0.6379 - accuracy: 0.6605\n",
      "279/279 [==============================] - 1s 2ms/step - loss: 0.5780 - accuracy: 0.7023\n",
      "70/70 [==============================] - 1s 1ms/step - loss: 0.7498 - accuracy: 0.5819\n",
      "279/279 [==============================] - 1s 2ms/step - loss: 0.5791 - accuracy: 0.7013\n",
      "70/70 [==============================] - 0s 1ms/step - loss: 0.6885 - accuracy: 0.6134\n",
      "279/279 [==============================] - 1s 2ms/step - loss: 0.5652 - accuracy: 0.7109\n",
      "70/70 [==============================] - 0s 1ms/step - loss: 0.6129 - accuracy: 0.6794\n",
      "279/279 [==============================] - 1s 2ms/step - loss: 0.6372 - accuracy: 0.6380\n",
      "70/70 [==============================] - 0s 1ms/step - loss: 0.6905 - accuracy: 0.6378\n",
      "279/279 [==============================] - 1s 2ms/step - loss: 0.6150 - accuracy: 0.6657\n",
      "70/70 [==============================] - 0s 1ms/step - loss: 0.6384 - accuracy: 0.6821\n",
      "279/279 [==============================] - 1s 2ms/step - loss: 0.6246 - accuracy: 0.6550\n",
      "70/70 [==============================] - 0s 1ms/step - loss: 0.6428 - accuracy: 0.6632\n",
      "279/279 [==============================] - 1s 2ms/step - loss: 0.6282 - accuracy: 0.6513\n",
      "70/70 [==============================] - 0s 1ms/step - loss: 0.7339 - accuracy: 0.5555\n",
      "279/279 [==============================] - 1s 2ms/step - loss: 0.6099 - accuracy: 0.6555\n",
      "70/70 [==============================] - 0s 1ms/step - loss: 0.8408 - accuracy: 0.5245\n",
      "279/279 [==============================] - 1s 2ms/step - loss: 0.6112 - accuracy: 0.6642\n",
      "70/70 [==============================] - 0s 1ms/step - loss: 0.6230 - accuracy: 0.6791\n",
      "279/279 [==============================] - 1s 2ms/step - loss: 0.6111 - accuracy: 0.6722\n",
      "70/70 [==============================] - 0s 1ms/step - loss: 0.6323 - accuracy: 0.6857\n",
      "279/279 [==============================] - 1s 2ms/step - loss: 0.6087 - accuracy: 0.6737\n",
      "70/70 [==============================] - 0s 1ms/step - loss: 0.6709 - accuracy: 0.6291\n",
      "279/279 [==============================] - 1s 2ms/step - loss: 0.6041 - accuracy: 0.6779\n",
      "70/70 [==============================] - 0s 1ms/step - loss: 0.7615 - accuracy: 0.5653\n",
      "279/279 [==============================] - 1s 2ms/step - loss: 0.5872 - accuracy: 0.6941\n",
      "70/70 [==============================] - 1s 1ms/step - loss: 0.8323 - accuracy: 0.5204\n",
      "279/279 [==============================] - 1s 3ms/step - loss: 0.5871 - accuracy: 0.6944\n",
      "70/70 [==============================] - 0s 1ms/step - loss: 0.5975 - accuracy: 0.6872\n",
      "279/279 [==============================] - 1s 3ms/step - loss: 0.5860 - accuracy: 0.6942\n",
      "70/70 [==============================] - 0s 1ms/step - loss: 0.5449 - accuracy: 0.7315\n",
      "279/279 [==============================] - 1s 3ms/step - loss: 0.5870 - accuracy: 0.6958\n",
      "70/70 [==============================] - 0s 2ms/step - loss: 0.6772 - accuracy: 0.6340\n",
      "279/279 [==============================] - 1s 3ms/step - loss: 0.5803 - accuracy: 0.7010\n",
      "70/70 [==============================] - 0s 1ms/step - loss: 0.7152 - accuracy: 0.6022\n",
      "279/279 [==============================] - 1s 3ms/step - loss: 0.5681 - accuracy: 0.7123\n",
      "70/70 [==============================] - 0s 1ms/step - loss: 0.8163 - accuracy: 0.5528\n",
      "279/279 [==============================] - 1s 2ms/step - loss: 0.6400 - accuracy: 0.6329\n",
      "70/70 [==============================] - 0s 1ms/step - loss: 0.6243 - accuracy: 0.6845\n",
      "279/279 [==============================] - 1s 2ms/step - loss: 0.6340 - accuracy: 0.6434\n",
      "70/70 [==============================] - 0s 1ms/step - loss: 0.6855 - accuracy: 0.6587\n",
      "279/279 [==============================] - 1s 2ms/step - loss: 0.6335 - accuracy: 0.6429\n",
      "70/70 [==============================] - 0s 1ms/step - loss: 0.6716 - accuracy: 0.6421\n",
      "279/279 [==============================] - 1s 2ms/step - loss: 0.6247 - accuracy: 0.6582\n",
      "70/70 [==============================] - 0s 1ms/step - loss: 0.7302 - accuracy: 0.6075\n",
      "279/279 [==============================] - 1s 2ms/step - loss: 0.6327 - accuracy: 0.6508\n",
      "70/70 [==============================] - 0s 1ms/step - loss: 0.7703 - accuracy: 0.5577\n",
      "279/279 [==============================] - 1s 3ms/step - loss: 0.6140 - accuracy: 0.6664\n",
      "70/70 [==============================] - 0s 1ms/step - loss: 0.6497 - accuracy: 0.6854\n",
      "279/279 [==============================] - 1s 3ms/step - loss: 0.6134 - accuracy: 0.6752\n",
      "70/70 [==============================] - 0s 1ms/step - loss: 0.6045 - accuracy: 0.7140\n",
      "279/279 [==============================] - 1s 3ms/step - loss: 0.6039 - accuracy: 0.6762\n",
      "70/70 [==============================] - 0s 1ms/step - loss: 0.6471 - accuracy: 0.6803\n",
      "279/279 [==============================] - 1s 3ms/step - loss: 0.6037 - accuracy: 0.6768\n",
      "70/70 [==============================] - 0s 1ms/step - loss: 0.6481 - accuracy: 0.6480\n",
      "279/279 [==============================] - 1s 3ms/step - loss: 0.5937 - accuracy: 0.6782\n",
      "70/70 [==============================] - 0s 1ms/step - loss: 0.8344 - accuracy: 0.5703\n",
      "279/279 [==============================] - 2s 4ms/step - loss: 0.5931 - accuracy: 0.6878\n",
      "70/70 [==============================] - 0s 1ms/step - loss: 0.6274 - accuracy: 0.6827\n",
      "279/279 [==============================] - 2s 4ms/step - loss: 0.5949 - accuracy: 0.6869\n",
      "70/70 [==============================] - 0s 2ms/step - loss: 0.5665 - accuracy: 0.7234\n",
      "279/279 [==============================] - 2s 4ms/step - loss: 0.5910 - accuracy: 0.6935\n",
      "70/70 [==============================] - 0s 1ms/step - loss: 0.5614 - accuracy: 0.7301\n",
      "279/279 [==============================] - 2s 4ms/step - loss: 0.5890 - accuracy: 0.6977\n",
      "70/70 [==============================] - 0s 2ms/step - loss: 0.6818 - accuracy: 0.6080\n",
      "279/279 [==============================] - 2s 4ms/step - loss: 0.5733 - accuracy: 0.7083\n",
      "70/70 [==============================] - 0s 1ms/step - loss: 0.7667 - accuracy: 0.5882\n",
      "279/279 [==============================] - 1s 2ms/step - loss: 0.6408 - accuracy: 0.6300\n",
      "70/70 [==============================] - 0s 1ms/step - loss: 0.6229 - accuracy: 0.6867\n",
      "279/279 [==============================] - 1s 2ms/step - loss: 0.6523 - accuracy: 0.6216\n"
     ]
    },
    {
     "name": "stdout",
     "output_type": "stream",
     "text": [
      "70/70 [==============================] - 0s 1ms/step - loss: 0.6311 - accuracy: 0.6843\n",
      "279/279 [==============================] - 1s 2ms/step - loss: 0.6489 - accuracy: 0.6308\n",
      "70/70 [==============================] - 0s 1ms/step - loss: 0.6982 - accuracy: 0.5757\n",
      "279/279 [==============================] - 1s 2ms/step - loss: 0.6516 - accuracy: 0.6227\n",
      "70/70 [==============================] - 0s 1ms/step - loss: 0.6851 - accuracy: 0.6071\n",
      "279/279 [==============================] - 1s 2ms/step - loss: 0.6160 - accuracy: 0.6596\n",
      "70/70 [==============================] - 0s 1ms/step - loss: 0.8365 - accuracy: 0.5043\n",
      "279/279 [==============================] - 1s 2ms/step - loss: 0.6183 - accuracy: 0.6633\n",
      "70/70 [==============================] - 0s 1ms/step - loss: 0.6563 - accuracy: 0.6355\n",
      "279/279 [==============================] - 1s 2ms/step - loss: 0.6158 - accuracy: 0.6642\n",
      "70/70 [==============================] - 0s 1ms/step - loss: 0.5891 - accuracy: 0.7144\n",
      "279/279 [==============================] - 1s 2ms/step - loss: 0.6089 - accuracy: 0.6737\n",
      "70/70 [==============================] - 0s 1ms/step - loss: 0.6695 - accuracy: 0.6309\n",
      "279/279 [==============================] - 1s 2ms/step - loss: 0.6058 - accuracy: 0.6738\n",
      "70/70 [==============================] - 0s 1ms/step - loss: 0.7110 - accuracy: 0.5968\n",
      "279/279 [==============================] - 1s 2ms/step - loss: 0.6025 - accuracy: 0.6823\n",
      "70/70 [==============================] - 0s 1ms/step - loss: 0.8513 - accuracy: 0.4791\n",
      "279/279 [==============================] - 1s 2ms/step - loss: 0.5934 - accuracy: 0.6889\n",
      "70/70 [==============================] - 0s 1ms/step - loss: 0.6784 - accuracy: 0.6118\n",
      "279/279 [==============================] - 1s 2ms/step - loss: 0.5935 - accuracy: 0.6891\n",
      "70/70 [==============================] - 0s 1ms/step - loss: 0.6387 - accuracy: 0.6542\n",
      "279/279 [==============================] - 1s 2ms/step - loss: 0.5880 - accuracy: 0.6901\n",
      "70/70 [==============================] - 0s 1ms/step - loss: 0.7000 - accuracy: 0.6075\n",
      "279/279 [==============================] - 1s 2ms/step - loss: 0.5899 - accuracy: 0.6961\n",
      "70/70 [==============================] - 0s 1ms/step - loss: 0.6919 - accuracy: 0.6210\n",
      "279/279 [==============================] - 1s 2ms/step - loss: 0.5726 - accuracy: 0.7056\n",
      "70/70 [==============================] - 0s 1ms/step - loss: 0.7888 - accuracy: 0.5671\n",
      "279/279 [==============================] - 1s 2ms/step - loss: 0.6436 - accuracy: 0.6312\n",
      "70/70 [==============================] - 0s 1ms/step - loss: 0.6857 - accuracy: 0.6284\n",
      "279/279 [==============================] - 1s 2ms/step - loss: 0.6425 - accuracy: 0.6346\n",
      "70/70 [==============================] - 0s 1ms/step - loss: 0.6958 - accuracy: 0.5950\n",
      "279/279 [==============================] - 1s 2ms/step - loss: 0.6457 - accuracy: 0.6232\n",
      "70/70 [==============================] - 0s 1ms/step - loss: 0.6789 - accuracy: 0.6282\n",
      "279/279 [==============================] - 1s 2ms/step - loss: 0.6408 - accuracy: 0.6327\n",
      "70/70 [==============================] - 0s 1ms/step - loss: 0.7231 - accuracy: 0.5963\n",
      "279/279 [==============================] - 1s 2ms/step - loss: 0.6198 - accuracy: 0.6489\n",
      "70/70 [==============================] - 0s 1ms/step - loss: 0.8625 - accuracy: 0.5070\n",
      "279/279 [==============================] - 1s 2ms/step - loss: 0.6237 - accuracy: 0.6567\n",
      "70/70 [==============================] - 0s 1ms/step - loss: 0.6304 - accuracy: 0.6750\n",
      "279/279 [==============================] - 1s 2ms/step - loss: 0.6199 - accuracy: 0.6544\n",
      "70/70 [==============================] - 0s 1ms/step - loss: 0.6063 - accuracy: 0.6902\n",
      "279/279 [==============================] - 1s 2ms/step - loss: 0.6289 - accuracy: 0.6484\n",
      "70/70 [==============================] - 0s 1ms/step - loss: 0.6505 - accuracy: 0.6480\n",
      "279/279 [==============================] - 1s 2ms/step - loss: 0.6116 - accuracy: 0.6701\n",
      "70/70 [==============================] - 0s 1ms/step - loss: 0.7015 - accuracy: 0.6269\n",
      "279/279 [==============================] - 1s 2ms/step - loss: 0.6066 - accuracy: 0.6814\n",
      "70/70 [==============================] - 0s 1ms/step - loss: 0.8257 - accuracy: 0.5352\n",
      "279/279 [==============================] - 1s 3ms/step - loss: 0.5966 - accuracy: 0.6826\n",
      "70/70 [==============================] - 0s 1ms/step - loss: 0.5995 - accuracy: 0.7024\n",
      "279/279 [==============================] - 2s 3ms/step - loss: 0.6049 - accuracy: 0.6805\n",
      "70/70 [==============================] - 0s 1ms/step - loss: 0.6522 - accuracy: 0.6376\n",
      "279/279 [==============================] - 1s 3ms/step - loss: 0.6022 - accuracy: 0.6832\n",
      "70/70 [==============================] - 0s 1ms/step - loss: 0.6442 - accuracy: 0.6565\n",
      "279/279 [==============================] - 1s 3ms/step - loss: 0.5924 - accuracy: 0.6885\n",
      "70/70 [==============================] - 0s 1ms/step - loss: 0.6570 - accuracy: 0.6596\n",
      "279/279 [==============================] - 1s 3ms/step - loss: 0.5816 - accuracy: 0.7019\n",
      "70/70 [==============================] - 0s 1ms/step - loss: 0.7686 - accuracy: 0.5712\n",
      "279/279 [==============================] - 1s 2ms/step - loss: 0.6623 - accuracy: 0.6055\n",
      "70/70 [==============================] - 0s 1ms/step - loss: 0.7199 - accuracy: 0.5862\n",
      "279/279 [==============================] - 1s 2ms/step - loss: 0.6527 - accuracy: 0.6119\n",
      "70/70 [==============================] - 0s 1ms/step - loss: 0.6720 - accuracy: 0.6798\n",
      "279/279 [==============================] - 1s 2ms/step - loss: 0.6595 - accuracy: 0.6060\n",
      "70/70 [==============================] - 0s 1ms/step - loss: 0.6860 - accuracy: 0.6224\n",
      "279/279 [==============================] - 1s 2ms/step - loss: 0.6496 - accuracy: 0.6298\n",
      "70/70 [==============================] - 0s 1ms/step - loss: 0.6832 - accuracy: 0.6125\n",
      "279/279 [==============================] - 1s 2ms/step - loss: 0.6426 - accuracy: 0.6220\n",
      "70/70 [==============================] - 0s 1ms/step - loss: 0.8414 - accuracy: 0.4216\n",
      "279/279 [==============================] - 1s 2ms/step - loss: 0.6242 - accuracy: 0.6557\n",
      "70/70 [==============================] - 0s 1ms/step - loss: 0.6679 - accuracy: 0.6351\n",
      "279/279 [==============================] - 1s 2ms/step - loss: 0.6226 - accuracy: 0.6583\n",
      "70/70 [==============================] - 0s 1ms/step - loss: 0.6219 - accuracy: 0.6682\n",
      "279/279 [==============================] - 2s 2ms/step - loss: 0.6262 - accuracy: 0.6524\n",
      "70/70 [==============================] - 0s 1ms/step - loss: 0.7603 - accuracy: 0.5775\n",
      "279/279 [==============================] - 1s 2ms/step - loss: 0.6203 - accuracy: 0.6617\n",
      "70/70 [==============================] - 0s 1ms/step - loss: 0.7337 - accuracy: 0.6134\n",
      "279/279 [==============================] - 1s 2ms/step - loss: 0.6186 - accuracy: 0.6608\n",
      "70/70 [==============================] - 0s 1ms/step - loss: 0.7765 - accuracy: 0.5685\n",
      "279/279 [==============================] - 2s 3ms/step - loss: 0.6031 - accuracy: 0.6806\n",
      "70/70 [==============================] - 0s 1ms/step - loss: 0.6418 - accuracy: 0.6688\n",
      "279/279 [==============================] - 2s 3ms/step - loss: 0.6115 - accuracy: 0.6720\n",
      "70/70 [==============================] - 0s 1ms/step - loss: 0.6479 - accuracy: 0.6628\n",
      "279/279 [==============================] - 2s 4ms/step - loss: 0.6021 - accuracy: 0.6851\n",
      "70/70 [==============================] - 0s 1ms/step - loss: 0.6641 - accuracy: 0.6507\n",
      "279/279 [==============================] - 2s 3ms/step - loss: 0.6039 - accuracy: 0.6838\n",
      "70/70 [==============================] - 0s 1ms/step - loss: 0.6545 - accuracy: 0.6224\n",
      "279/279 [==============================] - 2s 3ms/step - loss: 0.5827 - accuracy: 0.6905\n",
      "70/70 [==============================] - 0s 1ms/step - loss: 0.6815 - accuracy: 0.6228\n",
      "279/279 [==============================] - 1s 2ms/step - loss: 0.6717 - accuracy: 0.6036\n",
      "70/70 [==============================] - 0s 1ms/step - loss: 0.7108 - accuracy: 0.5754\n",
      "279/279 [==============================] - 1s 2ms/step - loss: 0.6606 - accuracy: 0.6147\n",
      "70/70 [==============================] - 0s 1ms/step - loss: 0.6831 - accuracy: 0.6116\n",
      "279/279 [==============================] - 1s 2ms/step - loss: 0.6498 - accuracy: 0.6230\n",
      "70/70 [==============================] - 0s 1ms/step - loss: 0.6594 - accuracy: 0.6399\n"
     ]
    },
    {
     "name": "stdout",
     "output_type": "stream",
     "text": [
      "279/279 [==============================] - 1s 2ms/step - loss: 0.6606 - accuracy: 0.6159\n",
      "70/70 [==============================] - 0s 1ms/step - loss: 0.6816 - accuracy: 0.5712\n",
      "279/279 [==============================] - 1s 2ms/step - loss: 0.6460 - accuracy: 0.6337\n",
      "70/70 [==============================] - 0s 1ms/step - loss: 0.8560 - accuracy: 0.4032\n",
      "279/279 [==============================] - 1s 2ms/step - loss: 0.6258 - accuracy: 0.6605\n",
      "70/70 [==============================] - 0s 1ms/step - loss: 0.6749 - accuracy: 0.5978\n",
      "279/279 [==============================] - 1s 2ms/step - loss: 0.6314 - accuracy: 0.6506\n",
      "70/70 [==============================] - 0s 1ms/step - loss: 0.6303 - accuracy: 0.6740\n",
      "279/279 [==============================] - 1s 2ms/step - loss: 0.6137 - accuracy: 0.6746\n",
      "70/70 [==============================] - 0s 1ms/step - loss: 0.6501 - accuracy: 0.6471\n",
      "279/279 [==============================] - 1s 2ms/step - loss: 0.6255 - accuracy: 0.6569\n",
      "70/70 [==============================] - 0s 1ms/step - loss: 0.7032 - accuracy: 0.5757\n",
      "279/279 [==============================] - 1s 2ms/step - loss: 0.6022 - accuracy: 0.6853\n",
      "70/70 [==============================] - 0s 1ms/step - loss: 0.8029 - accuracy: 0.5267\n",
      "279/279 [==============================] - 1s 2ms/step - loss: 0.5949 - accuracy: 0.6872\n",
      "70/70 [==============================] - 0s 1ms/step - loss: 0.6999 - accuracy: 0.5866\n",
      "279/279 [==============================] - 1s 2ms/step - loss: 0.6043 - accuracy: 0.6788\n",
      "70/70 [==============================] - 0s 1ms/step - loss: 0.6574 - accuracy: 0.6309\n",
      "279/279 [==============================] - 1s 2ms/step - loss: 0.6004 - accuracy: 0.6804\n",
      "70/70 [==============================] - 0s 1ms/step - loss: 0.6795 - accuracy: 0.6143\n",
      "279/279 [==============================] - 1s 2ms/step - loss: 0.5978 - accuracy: 0.6826\n",
      "70/70 [==============================] - 0s 1ms/step - loss: 0.6586 - accuracy: 0.6489\n",
      "279/279 [==============================] - 1s 2ms/step - loss: 0.5774 - accuracy: 0.7070\n",
      "70/70 [==============================] - 0s 1ms/step - loss: 0.7610 - accuracy: 0.5797\n",
      "279/279 [==============================] - 1s 2ms/step - loss: 0.6781 - accuracy: 0.5977\n",
      "70/70 [==============================] - 0s 1ms/step - loss: 0.7046 - accuracy: 0.5978\n",
      "279/279 [==============================] - 1s 2ms/step - loss: 0.6687 - accuracy: 0.5974\n",
      "70/70 [==============================] - 0s 1ms/step - loss: 0.7142 - accuracy: 0.5370\n",
      "279/279 [==============================] - 1s 2ms/step - loss: 0.6701 - accuracy: 0.5986\n",
      "70/70 [==============================] - 0s 1ms/step - loss: 0.6682 - accuracy: 0.6300\n",
      "279/279 [==============================] - 1s 2ms/step - loss: 0.6638 - accuracy: 0.6102\n",
      "70/70 [==============================] - 0s 1ms/step - loss: 0.7192 - accuracy: 0.4706\n",
      "279/279 [==============================] - 1s 2ms/step - loss: 0.6385 - accuracy: 0.6351\n",
      "70/70 [==============================] - 0s 1ms/step - loss: 0.8127 - accuracy: 0.4549\n",
      "279/279 [==============================] - 1s 2ms/step - loss: 0.6439 - accuracy: 0.6367\n",
      "70/70 [==============================] - 0s 1ms/step - loss: 0.6870 - accuracy: 0.6059\n",
      "279/279 [==============================] - 1s 2ms/step - loss: 0.6346 - accuracy: 0.6472\n",
      "70/70 [==============================] - 0s 1ms/step - loss: 0.6388 - accuracy: 0.6812\n",
      "279/279 [==============================] - 1s 2ms/step - loss: 0.6333 - accuracy: 0.6418\n",
      "70/70 [==============================] - 0s 1ms/step - loss: 0.6643 - accuracy: 0.6412\n",
      "279/279 [==============================] - 1s 2ms/step - loss: 0.6361 - accuracy: 0.6382\n",
      "70/70 [==============================] - 0s 1ms/step - loss: 0.7232 - accuracy: 0.6013\n",
      "279/279 [==============================] - 1s 2ms/step - loss: 0.6170 - accuracy: 0.6642\n",
      "70/70 [==============================] - 0s 1ms/step - loss: 0.8150 - accuracy: 0.5433\n",
      "279/279 [==============================] - 1s 3ms/step - loss: 0.6093 - accuracy: 0.6668\n",
      "70/70 [==============================] - 0s 1ms/step - loss: 0.6505 - accuracy: 0.6495\n",
      "279/279 [==============================] - 1s 3ms/step - loss: 0.6110 - accuracy: 0.6688\n",
      "70/70 [==============================] - 0s 1ms/step - loss: 0.5963 - accuracy: 0.7068\n",
      "279/279 [==============================] - 1s 3ms/step - loss: 0.6046 - accuracy: 0.6803\n",
      "70/70 [==============================] - 0s 1ms/step - loss: 0.5903 - accuracy: 0.6929\n",
      "279/279 [==============================] - 2s 3ms/step - loss: 0.6130 - accuracy: 0.6671\n",
      "70/70 [==============================] - 0s 1ms/step - loss: 0.7498 - accuracy: 0.5626\n",
      "279/279 [==============================] - 1s 3ms/step - loss: 0.5975 - accuracy: 0.6831\n",
      "70/70 [==============================] - 0s 1ms/step - loss: 0.8474 - accuracy: 0.5137\n",
      "279/279 [==============================] - 1s 2ms/step - loss: 0.6789 - accuracy: 0.5722\n",
      "70/70 [==============================] - 0s 1ms/step - loss: 0.7314 - accuracy: 0.3914\n",
      "279/279 [==============================] - 1s 2ms/step - loss: 0.6786 - accuracy: 0.5754\n",
      "70/70 [==============================] - 0s 1ms/step - loss: 0.6929 - accuracy: 0.5635\n",
      "279/279 [==============================] - 1s 2ms/step - loss: 0.6845 - accuracy: 0.5716\n",
      "70/70 [==============================] - 0s 1ms/step - loss: 0.6946 - accuracy: 0.5635\n",
      "279/279 [==============================] - 1s 2ms/step - loss: 0.6792 - accuracy: 0.5811\n",
      "70/70 [==============================] - 0s 1ms/step - loss: 0.7838 - accuracy: 0.1958\n",
      "279/279 [==============================] - 1s 2ms/step - loss: 0.6638 - accuracy: 0.6003\n",
      "70/70 [==============================] - 0s 1ms/step - loss: 0.8942 - accuracy: 0.0193\n",
      "279/279 [==============================] - 1s 2ms/step - loss: 0.6458 - accuracy: 0.6247\n",
      "70/70 [==============================] - 0s 1ms/step - loss: 0.6524 - accuracy: 0.6553\n",
      "279/279 [==============================] - 1s 2ms/step - loss: 0.6543 - accuracy: 0.6098\n",
      "70/70 [==============================] - 0s 1ms/step - loss: 0.6409 - accuracy: 0.6807\n",
      "279/279 [==============================] - 1s 2ms/step - loss: 0.6493 - accuracy: 0.6159\n",
      "70/70 [==============================] - 0s 1ms/step - loss: 0.6400 - accuracy: 0.6771\n",
      "279/279 [==============================] - 1s 2ms/step - loss: 0.6448 - accuracy: 0.6277\n",
      "70/70 [==============================] - 0s 1ms/step - loss: 0.7245 - accuracy: 0.6435\n",
      "279/279 [==============================] - 2s 2ms/step - loss: 0.6230 - accuracy: 0.6585\n",
      "70/70 [==============================] - 0s 1ms/step - loss: 0.7418 - accuracy: 0.5424\n",
      "279/279 [==============================] - 2s 3ms/step - loss: 0.6255 - accuracy: 0.6603\n",
      "70/70 [==============================] - 0s 1ms/step - loss: 0.5991 - accuracy: 0.7065\n",
      "279/279 [==============================] - 2s 3ms/step - loss: 0.6210 - accuracy: 0.6649\n",
      "70/70 [==============================] - 0s 1ms/step - loss: 0.6318 - accuracy: 0.6933\n",
      "279/279 [==============================] - 2s 3ms/step - loss: 0.6244 - accuracy: 0.6545\n",
      "70/70 [==============================] - 0s 1ms/step - loss: 0.6329 - accuracy: 0.6484\n",
      "279/279 [==============================] - 2s 3ms/step - loss: 0.6122 - accuracy: 0.6729\n",
      "70/70 [==============================] - 0s 1ms/step - loss: 0.7029 - accuracy: 0.5923\n",
      "279/279 [==============================] - 2s 3ms/step - loss: 0.6058 - accuracy: 0.6753\n",
      "70/70 [==============================] - 0s 1ms/step - loss: 0.6909 - accuracy: 0.6390\n",
      "348/348 [==============================] - 2s 3ms/step - loss: 0.5914 - accuracy: 0.6914\n"
     ]
    }
   ],
   "source": [
    "grid_result = grid.fit(X_ros_clean, y_ros)"
   ]
  },
  {
   "cell_type": "code",
   "execution_count": 202,
   "id": "480fc493",
   "metadata": {},
   "outputs": [
    {
     "name": "stdout",
     "output_type": "stream",
     "text": [
      "Best: 0.666486 using {'dropout': 0.2, 'layers': 4, 'units': 128}\n"
     ]
    }
   ],
   "source": [
    "print(\"Best: %f using %s\" % (grid_result.best_score_, grid_result.best_params_))"
   ]
  },
  {
   "cell_type": "code",
   "execution_count": 203,
   "id": "ae1d387f",
   "metadata": {},
   "outputs": [
    {
     "name": "stdout",
     "output_type": "stream",
     "text": [
      "57/57 [==============================] - 0s 1ms/step\n",
      "Accuracy: 0.7911111111111111\n"
     ]
    }
   ],
   "source": [
    "deep_pred = np.argmax(grid_result.predict(X_test_clean), axis=-1)\n",
    "accuracy = accuracy_score(y_test, deep_pred)\n",
    "print(\"Accuracy:\", accuracy)"
   ]
  },
  {
   "cell_type": "code",
   "execution_count": 204,
   "id": "4572f053",
   "metadata": {},
   "outputs": [
    {
     "name": "stdout",
     "output_type": "stream",
     "text": [
      "              precision    recall  f1-score   support\n",
      "\n",
      "           0       0.79      1.00      0.88      1424\n",
      "           1       0.00      0.00      0.00       376\n",
      "\n",
      "    accuracy                           0.79      1800\n",
      "   macro avg       0.40      0.50      0.44      1800\n",
      "weighted avg       0.63      0.79      0.70      1800\n",
      "\n"
     ]
    }
   ],
   "source": [
    "print(classification_report(y_test, deep_pred, labels=[0,1]))"
   ]
  },
  {
   "cell_type": "code",
   "execution_count": 205,
   "id": "04d3bd97",
   "metadata": {},
   "outputs": [
    {
     "data": {
      "image/png": "[encoded data removed]",
      "text/plain": [
       "<Figure size 432x288 with 2 Axes>"
      ]
     },
     "metadata": {
      "needs_background": "light"
     },
     "output_type": "display_data"
    }
   ],
   "source": [
    "ConfusionMatrixDisplay.from_predictions(y_test, deep_pred, display_labels = [False, True])\n",
    "plt.show()"
   ]
  },
  {
   "cell_type": "markdown",
   "id": "991bcb32",
   "metadata": {},
   "source": [
    "## LightGBM"
   ]
  },
  {
   "cell_type": "code",
   "execution_count": 206,
   "id": "0f919b3f",
   "metadata": {},
   "outputs": [],
   "source": [
    "# define the LightGBM classifier\n",
    "lgb_awal = LGBMClassifier(random_state = 123)"
   ]
  },
  {
   "cell_type": "code",
   "execution_count": 207,
   "id": "3f6c69e0",
   "metadata": {},
   "outputs": [
    {
     "data": {
      "text/plain": [
       "LGBMClassifier(random_state=123)"
      ]
     },
     "execution_count": 207,
     "metadata": {},
     "output_type": "execute_result"
    }
   ],
   "source": [
    "lgb_awal.fit(X_ros_clean, y_ros)"
   ]
  },
  {
   "cell_type": "code",
   "execution_count": 208,
   "id": "e3eedcbf",
   "metadata": {},
   "outputs": [
    {
     "data": {
      "text/plain": [
       "0.9201688218390804"
      ]
     },
     "execution_count": 208,
     "metadata": {},
     "output_type": "execute_result"
    }
   ],
   "source": [
    "# train the classifier\n",
    "lgb_awal.score(X_ros_clean, y_ros)"
   ]
  },
  {
   "cell_type": "code",
   "execution_count": 209,
   "id": "e460ce3c",
   "metadata": {},
   "outputs": [],
   "source": [
    "# make predictions on the testing set\n",
    "lgb_pred = lgb_awal.predict(X_test_clean)"
   ]
  },
  {
   "cell_type": "code",
   "execution_count": 210,
   "id": "ad194bee",
   "metadata": {},
   "outputs": [
    {
     "name": "stdout",
     "output_type": "stream",
     "text": [
      "Training Data Score: 0.9201688218390804\n",
      "Validating Data Score: 0.8075\n",
      "Testing Data Score: 0.8105555555555556\n"
     ]
    }
   ],
   "source": [
    "print(f\"Training Data Score: {lgb_awal.score(X_ros_clean, y_ros)}\")\n",
    "print(f\"Validating Data Score: {lgb_awal.score(X_valid_clean, y_valid)}\")\n",
    "print(f\"Testing Data Score: {lgb_awal.score(X_test_clean, y_test)}\")"
   ]
  },
  {
   "cell_type": "code",
   "execution_count": 211,
   "id": "d2874965",
   "metadata": {},
   "outputs": [
    {
     "name": "stdout",
     "output_type": "stream",
     "text": [
      "              precision    recall  f1-score   support\n",
      "\n",
      "           0       0.93      0.82      0.87      1424\n",
      "           1       0.53      0.77      0.63       376\n",
      "\n",
      "    accuracy                           0.81      1800\n",
      "   macro avg       0.73      0.80      0.75      1800\n",
      "weighted avg       0.85      0.81      0.82      1800\n",
      "\n"
     ]
    }
   ],
   "source": [
    "print(classification_report(y_test, lgb_pred, labels=[0,1]))"
   ]
  },
  {
   "cell_type": "markdown",
   "id": "d27fb76a",
   "metadata": {},
   "source": [
    "## Tuning Parameter LightGBM"
   ]
  },
  {
   "cell_type": "code",
   "execution_count": 212,
   "id": "11479d3e",
   "metadata": {},
   "outputs": [],
   "source": [
    "# define the LightGBM classifier\n",
    "lgb = LGBMClassifier()"
   ]
  },
  {
   "cell_type": "code",
   "execution_count": 213,
   "id": "2b7c4bd2",
   "metadata": {},
   "outputs": [],
   "source": [
    "# define the hyperparameters to tune\n",
    "param_grid = {\n",
    "    'num_leaves': [10, 20, 30],\n",
    "    'max_depth': [3, 4, 5],\n",
    "    'learning_rate': [0.1, 0.01, 0.001]\n",
    "}"
   ]
  },
  {
   "cell_type": "code",
   "execution_count": 214,
   "id": "01e418e2",
   "metadata": {},
   "outputs": [],
   "source": [
    "# create the grid search object\n",
    "grid_search_lgb = GridSearchCV(lgb, param_grid=param_grid, cv=5)"
   ]
  },
  {
   "cell_type": "code",
   "execution_count": 215,
   "id": "53201705",
   "metadata": {},
   "outputs": [
    {
     "data": {
      "text/plain": [
       "GridSearchCV(cv=5, estimator=LGBMClassifier(),\n",
       "             param_grid={'learning_rate': [0.1, 0.01, 0.001],\n",
       "                         'max_depth': [3, 4, 5], 'num_leaves': [10, 20, 30]})"
      ]
     },
     "execution_count": 215,
     "metadata": {},
     "output_type": "execute_result"
    }
   ],
   "source": [
    "# train the grid search object\n",
    "grid_search_lgb.fit(X_ros_clean, y_ros)"
   ]
  },
  {
   "cell_type": "code",
   "execution_count": 216,
   "id": "c7a0d764",
   "metadata": {},
   "outputs": [],
   "source": [
    "best_params = grid_search_lgb.best_params_"
   ]
  },
  {
   "cell_type": "code",
   "execution_count": 217,
   "id": "217a8f04",
   "metadata": {},
   "outputs": [],
   "source": [
    "lgbm_best = LGBMClassifier(**best_params)"
   ]
  },
  {
   "cell_type": "code",
   "execution_count": 218,
   "id": "88f679b2",
   "metadata": {},
   "outputs": [
    {
     "data": {
      "text/plain": [
       "LGBMClassifier(max_depth=5, num_leaves=30)"
      ]
     },
     "execution_count": 218,
     "metadata": {},
     "output_type": "execute_result"
    }
   ],
   "source": [
    "lgbm_best.fit(X_ros_clean, y_ros)"
   ]
  },
  {
   "cell_type": "code",
   "execution_count": 219,
   "id": "7b25c917",
   "metadata": {},
   "outputs": [],
   "source": [
    "lgb_best_pred = lgbm_best.predict(X_test_clean)"
   ]
  },
  {
   "cell_type": "code",
   "execution_count": 220,
   "id": "40c6a04e",
   "metadata": {},
   "outputs": [
    {
     "name": "stdout",
     "output_type": "stream",
     "text": [
      "              precision    recall  f1-score   support\n",
      "\n",
      "           0       0.93      0.80      0.86      1424\n",
      "           1       0.51      0.78      0.62       376\n",
      "\n",
      "    accuracy                           0.80      1800\n",
      "   macro avg       0.72      0.79      0.74      1800\n",
      "weighted avg       0.85      0.80      0.81      1800\n",
      "\n"
     ]
    }
   ],
   "source": [
    "print(classification_report(y_test, lgb_best_pred, labels=[0,1]))"
   ]
  },
  {
   "cell_type": "code",
   "execution_count": 221,
   "id": "b2e2cc3d",
   "metadata": {},
   "outputs": [
    {
     "data": {
      "image/png": "[encoded data removed]",
      "text/plain": [
       "<Figure size 432x288 with 2 Axes>"
      ]
     },
     "metadata": {
      "needs_background": "light"
     },
     "output_type": "display_data"
    }
   ],
   "source": [
    "ConfusionMatrixDisplay.from_predictions(y_test, lgb_best_pred, display_labels = [False, True])\n",
    "plt.show()"
   ]
  },
  {
   "cell_type": "code",
   "execution_count": 222,
   "id": "c1be2fef",
   "metadata": {},
   "outputs": [
    {
     "name": "stdout",
     "output_type": "stream",
     "text": [
      "Accuracy: 0.8\n",
      "ROC AUC score: 0.7943237508964858\n"
     ]
    }
   ],
   "source": [
    "# evaluate the classifier using accuracy score and ROC AUC score\n",
    "acc = accuracy_score(y_test, lgb_best_pred)\n",
    "roc_auc = roc_auc_score(y_test, lgb_best_pred)\n",
    "print('Accuracy:', acc)\n",
    "print('ROC AUC score:', roc_auc)"
   ]
  },
  {
   "cell_type": "code",
   "execution_count": 223,
   "id": "e9395ca7",
   "metadata": {},
   "outputs": [
    {
     "name": "stdout",
     "output_type": "stream",
     "text": [
      "                              precision    recall  f1_score  accuracy  \\\n",
      "Logistic Regression            0.805346  0.678889  0.708610  0.678889   \n",
      "Logistic Regression CV         0.808331  0.681667  0.711141  0.681667   \n",
      "Decision Tree                  0.805284  0.799444  0.802136  0.799444   \n",
      "Decision Tree CV               0.823741  0.796111  0.805962  0.796111   \n",
      "Support Vector Classifier      0.843455  0.782778  0.799171  0.782778   \n",
      "Support Vector Classifier CV   0.841055  0.781111  0.797518  0.781111   \n",
      "Random Forest                  0.839840  0.779444  0.796014  0.779444   \n",
      "Random Forest CV               0.846486  0.833889  0.838807  0.833889   \n",
      "Ridge                          0.803996  0.681667  0.710995  0.681667   \n",
      "Ridge CV                       0.803996  0.681667  0.710995  0.681667   \n",
      "KNN                            0.794695  0.716667  0.739657  0.716667   \n",
      "KNN CV                         0.768145  0.764444  0.766233  0.764444   \n",
      "Bagging                        0.834461  0.838889  0.836381  0.838889   \n",
      "Bagging CV                     0.836579  0.839444  0.837896  0.839444   \n",
      "gradient Boosting              0.844442  0.782222  0.798840  0.782222   \n",
      "gradient Boosting CV           0.848185  0.848333  0.848259  0.848333   \n",
      "Adaboost                       0.843173  0.770000  0.788663  0.770000   \n",
      "Adaboost SVC                   0.745975  0.576111  0.615346  0.576111   \n",
      "Adaboost CV                    0.844674  0.776111  0.793863  0.776111   \n",
      "Extratrees                     0.848868  0.858333  0.847190  0.858333   \n",
      "Extratrees CV                  0.846851  0.856667  0.845506  0.856667   \n",
      "XGboost                        0.852290  0.836111  0.842026  0.836111   \n",
      "XGboost CV                     0.837242  0.838333  0.837772  0.838333   \n",
      "LightGBM                       0.848572  0.810556  0.822054  0.810556   \n",
      "LightGBM CV                    0.846199  0.800000  0.813370  0.800000   \n",
      "\n",
      "                              macro_avg_precision  macro_avg_recall  \\\n",
      "Logistic Regression                      0.646059          0.717779   \n",
      "Logistic Regression CV                   0.649165          0.722470   \n",
      "Decision Tree                            0.699761          0.710786   \n",
      "Decision Tree CV                         0.707917          0.752719   \n",
      "Support Vector Classifier                0.712612          0.790290   \n",
      "Support Vector Classifier CV             0.710178          0.786300   \n",
      "Random Forest                            0.708524          0.784268   \n",
      "Random Forest CV                         0.750823          0.782468   \n",
      "Ridge                                    0.645723          0.716598   \n",
      "Ridge CV                                 0.645723          0.716598   \n",
      "KNN                                      0.648671          0.708381   \n",
      "KNN CV                                   0.646945          0.651476   \n",
      "Bagging                                  0.757118          0.741588   \n",
      "Bagging CV                               0.757563          0.747811   \n",
      "gradient Boosting                        0.712977          0.791896   \n",
      "gradient Boosting CV                     0.770596          0.770066   \n",
      "Adaboost                                 0.706235          0.789064   \n",
      "Adaboost SVC                             0.576435          0.615632   \n",
      "Adaboost CV                              0.710116          0.791948   \n",
      "Extratrees                               0.809188          0.724517   \n",
      "Extratrees CV                            0.805371          0.722485   \n",
      "XGboost                                  0.754843          0.794638   \n",
      "XGboost CV                               0.755527          0.752002   \n",
      "LightGBM                                 0.732078          0.797080   \n",
      "LightGBM CV                              0.723934          0.794324   \n",
      "\n",
      "                              macro_avg_f1_score  weighted_avg_precision  \\\n",
      "Logistic Regression                     0.633736                0.805346   \n",
      "Logistic Regression CV                  0.637066                0.808331   \n",
      "Decision Tree                           0.704856                0.805284   \n",
      "Decision Tree CV                        0.723375                0.823741   \n",
      "Support Vector Classifier               0.728470                0.843455   \n",
      "Support Vector Classifier CV            0.725874                0.841055   \n",
      "Random Forest                           0.723960                0.839840   \n",
      "Random Forest CV                        0.764109                0.846486   \n",
      "Ridge                                   0.635103                0.803996   \n",
      "Ridge CV                                0.635103                0.803996   \n",
      "KNN                                     0.653608                0.794695   \n",
      "KNN CV                                  0.649100                0.768145   \n",
      "Bagging                                 0.748787                0.834461   \n",
      "Bagging CV                              0.752464                0.836579   \n",
      "gradient Boosting                       0.728615                0.844442   \n",
      "gradient Boosting CV                    0.770331                0.848185   \n",
      "Adaboost                                0.718811                0.843173   \n",
      "Adaboost SVC                            0.537026                0.745975   \n",
      "Adaboost CV                             0.724187                0.844674   \n",
      "Extratrees                              0.753765                0.848868   \n",
      "Extratrees CV                           0.751181                0.846851   \n",
      "XGboost                                 0.770773                0.852290   \n",
      "XGboost CV                              0.753735                0.837242   \n",
      "LightGBM                                0.751586                0.848572   \n",
      "LightGBM CV                             0.742602                0.846199   \n",
      "\n",
      "                              weighted_avg_recall  weighted_avg_f1_score  \n",
      "Logistic Regression                      0.678889               0.708610  \n",
      "Logistic Regression CV                   0.681667               0.711141  \n",
      "Decision Tree                            0.799444               0.802136  \n",
      "Decision Tree CV                         0.796111               0.805962  \n",
      "Support Vector Classifier                0.782778               0.799171  \n",
      "Support Vector Classifier CV             0.781111               0.797518  \n",
      "Random Forest                            0.779444               0.796014  \n",
      "Random Forest CV                         0.833889               0.838807  \n",
      "Ridge                                    0.681667               0.710995  \n",
      "Ridge CV                                 0.681667               0.710995  \n",
      "KNN                                      0.716667               0.739657  \n",
      "KNN CV                                   0.764444               0.766233  \n",
      "Bagging                                  0.838889               0.836381  \n",
      "Bagging CV                               0.839444               0.837896  \n",
      "gradient Boosting                        0.782222               0.798840  \n",
      "gradient Boosting CV                     0.848333               0.848259  \n",
      "Adaboost                                 0.770000               0.788663  \n",
      "Adaboost SVC                             0.576111               0.615346  \n",
      "Adaboost CV                              0.776111               0.793863  \n",
      "Extratrees                               0.858333               0.847190  \n",
      "Extratrees CV                            0.856667               0.845506  \n",
      "XGboost                                  0.836111               0.842026  \n",
      "XGboost CV                               0.838333               0.837772  \n",
      "LightGBM                                 0.810556               0.822054  \n",
      "LightGBM CV                              0.800000               0.813370  \n"
     ]
    }
   ],
   "source": [
    "import pandas as pd\n",
    "from sklearn.metrics import classification_report\n",
    "\n",
    "# definisikan model-model yang ingin dibandingkan\n",
    "models = {'Logistic Regression': logreg_awal, \n",
    "          'Logistic Regression CV': lr_grid_cv,\n",
    "          'Decision Tree': decTree, \n",
    "          'Decision Tree CV': best_decTree,\n",
    "          'Support Vector Classifier':svc_ori,\n",
    "          'Support Vector Classifier CV':svc_grid_cv,\n",
    "          'Random Forest':random_forest,\n",
    "          'Random Forest CV':random_forestcls_cv,\n",
    "          'Ridge':ridge,\n",
    "          'Ridge CV':ridge_cv,\n",
    "          'KNN':knn_awal,\n",
    "          'KNN CV':kn_grid,\n",
    "          'Bagging':bagging_cls,\n",
    "          'Bagging CV':bagging_cv,\n",
    "          'gradient Boosting':grad_boost,\n",
    "          'gradient Boosting CV':gradboost_cv,\n",
    "          'Adaboost':abc_ori,\n",
    "          'Adaboost SVC':adaboost_svc,\n",
    "          'Adaboost CV':adaboost_best,\n",
    "          'Extratrees':extra_trees_awal,\n",
    "          'Extratrees CV':extra_trees_best,\n",
    "          'XGboost':xgb_classifier,\n",
    "          'XGboost CV':xgb_best,\n",
    "          'LightGBM':lgb_awal,\n",
    "          'LightGBM CV':lgbm_best\n",
    "         }\n",
    "\n",
    "# loop untuk menghitung dan menyimpan metrik untuk setiap model\n",
    "results = {}\n",
    "for name, model in models.items():\n",
    "    # hitung prediksi pada data test\n",
    "    y_pred = model.predict(X_test_clean)\n",
    "    # hitung metrik\n",
    "    report = classification_report(y_test, y_pred, output_dict=True)\n",
    "    # simpan metrik ke dictionary\n",
    "    results[name] = {\n",
    "        'precision': report['weighted avg']['precision'],\n",
    "        'recall': report['weighted avg']['recall'],\n",
    "        'f1_score': report['weighted avg']['f1-score'],\n",
    "        'accuracy': report['accuracy'],\n",
    "        'macro_avg_precision': report['macro avg']['precision'],\n",
    "        'macro_avg_recall': report['macro avg']['recall'],\n",
    "        'macro_avg_f1_score': report['macro avg']['f1-score'],\n",
    "        'weighted_avg_precision': report['weighted avg']['precision'],\n",
    "        'weighted_avg_recall': report['weighted avg']['recall'],\n",
    "        'weighted_avg_f1_score': report['weighted avg']['f1-score']\n",
    "    }\n",
    "\n",
    "# buat dataframe dari dictionary\n",
    "df_results = pd.DataFrame.from_dict(results, orient='index')\n",
    "\n",
    "# tampilkan dataframe sebagai tabel\n",
    "print(df_results)\n"
   ]
  },
  {
   "cell_type": "code",
   "execution_count": 224,
   "id": "10549300",
   "metadata": {},
   "outputs": [
    {
     "data": {
      "text/html": [
       "<div>\n",
       "<style scoped>\n",
       "    .dataframe tbody tr th:only-of-type {\n",
       "        vertical-align: middle;\n",
       "    }\n",
       "\n",
       "    .dataframe tbody tr th {\n",
       "        vertical-align: top;\n",
       "    }\n",
       "\n",
       "    .dataframe thead th {\n",
       "        text-align: right;\n",
       "    }\n",
       "</style>\n",
       "<table border=\"1\" class=\"dataframe\">\n",
       "  <thead>\n",
       "    <tr style=\"text-align: right;\">\n",
       "      <th></th>\n",
       "      <th>precision</th>\n",
       "      <th>recall</th>\n",
       "      <th>f1_score</th>\n",
       "      <th>accuracy</th>\n",
       "      <th>macro_avg_precision</th>\n",
       "      <th>macro_avg_recall</th>\n",
       "      <th>macro_avg_f1_score</th>\n",
       "      <th>weighted_avg_precision</th>\n",
       "      <th>weighted_avg_recall</th>\n",
       "      <th>weighted_avg_f1_score</th>\n",
       "    </tr>\n",
       "  </thead>\n",
       "  <tbody>\n",
       "    <tr>\n",
       "      <th>Logistic Regression</th>\n",
       "      <td>0.805346</td>\n",
       "      <td>0.678889</td>\n",
       "      <td>0.708610</td>\n",
       "      <td>0.678889</td>\n",
       "      <td>0.646059</td>\n",
       "      <td>0.717779</td>\n",
       "      <td>0.633736</td>\n",
       "      <td>0.805346</td>\n",
       "      <td>0.678889</td>\n",
       "      <td>0.708610</td>\n",
       "    </tr>\n",
       "    <tr>\n",
       "      <th>Logistic Regression CV</th>\n",
       "      <td>0.808331</td>\n",
       "      <td>0.681667</td>\n",
       "      <td>0.711141</td>\n",
       "      <td>0.681667</td>\n",
       "      <td>0.649165</td>\n",
       "      <td>0.722470</td>\n",
       "      <td>0.637066</td>\n",
       "      <td>0.808331</td>\n",
       "      <td>0.681667</td>\n",
       "      <td>0.711141</td>\n",
       "    </tr>\n",
       "    <tr>\n",
       "      <th>Decision Tree</th>\n",
       "      <td>0.805284</td>\n",
       "      <td>0.799444</td>\n",
       "      <td>0.802136</td>\n",
       "      <td>0.799444</td>\n",
       "      <td>0.699761</td>\n",
       "      <td>0.710786</td>\n",
       "      <td>0.704856</td>\n",
       "      <td>0.805284</td>\n",
       "      <td>0.799444</td>\n",
       "      <td>0.802136</td>\n",
       "    </tr>\n",
       "    <tr>\n",
       "      <th>Decision Tree CV</th>\n",
       "      <td>0.823741</td>\n",
       "      <td>0.796111</td>\n",
       "      <td>0.805962</td>\n",
       "      <td>0.796111</td>\n",
       "      <td>0.707917</td>\n",
       "      <td>0.752719</td>\n",
       "      <td>0.723375</td>\n",
       "      <td>0.823741</td>\n",
       "      <td>0.796111</td>\n",
       "      <td>0.805962</td>\n",
       "    </tr>\n",
       "    <tr>\n",
       "      <th>Support Vector Classifier</th>\n",
       "      <td>0.843455</td>\n",
       "      <td>0.782778</td>\n",
       "      <td>0.799171</td>\n",
       "      <td>0.782778</td>\n",
       "      <td>0.712612</td>\n",
       "      <td>0.790290</td>\n",
       "      <td>0.728470</td>\n",
       "      <td>0.843455</td>\n",
       "      <td>0.782778</td>\n",
       "      <td>0.799171</td>\n",
       "    </tr>\n",
       "    <tr>\n",
       "      <th>Support Vector Classifier CV</th>\n",
       "      <td>0.841055</td>\n",
       "      <td>0.781111</td>\n",
       "      <td>0.797518</td>\n",
       "      <td>0.781111</td>\n",
       "      <td>0.710178</td>\n",
       "      <td>0.786300</td>\n",
       "      <td>0.725874</td>\n",
       "      <td>0.841055</td>\n",
       "      <td>0.781111</td>\n",
       "      <td>0.797518</td>\n",
       "    </tr>\n",
       "    <tr>\n",
       "      <th>Random Forest</th>\n",
       "      <td>0.839840</td>\n",
       "      <td>0.779444</td>\n",
       "      <td>0.796014</td>\n",
       "      <td>0.779444</td>\n",
       "      <td>0.708524</td>\n",
       "      <td>0.784268</td>\n",
       "      <td>0.723960</td>\n",
       "      <td>0.839840</td>\n",
       "      <td>0.779444</td>\n",
       "      <td>0.796014</td>\n",
       "    </tr>\n",
       "    <tr>\n",
       "      <th>Random Forest CV</th>\n",
       "      <td>0.846486</td>\n",
       "      <td>0.833889</td>\n",
       "      <td>0.838807</td>\n",
       "      <td>0.833889</td>\n",
       "      <td>0.750823</td>\n",
       "      <td>0.782468</td>\n",
       "      <td>0.764109</td>\n",
       "      <td>0.846486</td>\n",
       "      <td>0.833889</td>\n",
       "      <td>0.838807</td>\n",
       "    </tr>\n",
       "    <tr>\n",
       "      <th>Ridge</th>\n",
       "      <td>0.803996</td>\n",
       "      <td>0.681667</td>\n",
       "      <td>0.710995</td>\n",
       "      <td>0.681667</td>\n",
       "      <td>0.645723</td>\n",
       "      <td>0.716598</td>\n",
       "      <td>0.635103</td>\n",
       "      <td>0.803996</td>\n",
       "      <td>0.681667</td>\n",
       "      <td>0.710995</td>\n",
       "    </tr>\n",
       "    <tr>\n",
       "      <th>Ridge CV</th>\n",
       "      <td>0.803996</td>\n",
       "      <td>0.681667</td>\n",
       "      <td>0.710995</td>\n",
       "      <td>0.681667</td>\n",
       "      <td>0.645723</td>\n",
       "      <td>0.716598</td>\n",
       "      <td>0.635103</td>\n",
       "      <td>0.803996</td>\n",
       "      <td>0.681667</td>\n",
       "      <td>0.710995</td>\n",
       "    </tr>\n",
       "    <tr>\n",
       "      <th>KNN</th>\n",
       "      <td>0.794695</td>\n",
       "      <td>0.716667</td>\n",
       "      <td>0.739657</td>\n",
       "      <td>0.716667</td>\n",
       "      <td>0.648671</td>\n",
       "      <td>0.708381</td>\n",
       "      <td>0.653608</td>\n",
       "      <td>0.794695</td>\n",
       "      <td>0.716667</td>\n",
       "      <td>0.739657</td>\n",
       "    </tr>\n",
       "    <tr>\n",
       "      <th>KNN CV</th>\n",
       "      <td>0.768145</td>\n",
       "      <td>0.764444</td>\n",
       "      <td>0.766233</td>\n",
       "      <td>0.764444</td>\n",
       "      <td>0.646945</td>\n",
       "      <td>0.651476</td>\n",
       "      <td>0.649100</td>\n",
       "      <td>0.768145</td>\n",
       "      <td>0.764444</td>\n",
       "      <td>0.766233</td>\n",
       "    </tr>\n",
       "    <tr>\n",
       "      <th>Bagging</th>\n",
       "      <td>0.834461</td>\n",
       "      <td>0.838889</td>\n",
       "      <td>0.836381</td>\n",
       "      <td>0.838889</td>\n",
       "      <td>0.757118</td>\n",
       "      <td>0.741588</td>\n",
       "      <td>0.748787</td>\n",
       "      <td>0.834461</td>\n",
       "      <td>0.838889</td>\n",
       "      <td>0.836381</td>\n",
       "    </tr>\n",
       "    <tr>\n",
       "      <th>Bagging CV</th>\n",
       "      <td>0.836579</td>\n",
       "      <td>0.839444</td>\n",
       "      <td>0.837896</td>\n",
       "      <td>0.839444</td>\n",
       "      <td>0.757563</td>\n",
       "      <td>0.747811</td>\n",
       "      <td>0.752464</td>\n",
       "      <td>0.836579</td>\n",
       "      <td>0.839444</td>\n",
       "      <td>0.837896</td>\n",
       "    </tr>\n",
       "    <tr>\n",
       "      <th>gradient Boosting</th>\n",
       "      <td>0.844442</td>\n",
       "      <td>0.782222</td>\n",
       "      <td>0.798840</td>\n",
       "      <td>0.782222</td>\n",
       "      <td>0.712977</td>\n",
       "      <td>0.791896</td>\n",
       "      <td>0.728615</td>\n",
       "      <td>0.844442</td>\n",
       "      <td>0.782222</td>\n",
       "      <td>0.798840</td>\n",
       "    </tr>\n",
       "    <tr>\n",
       "      <th>gradient Boosting CV</th>\n",
       "      <td>0.848185</td>\n",
       "      <td>0.848333</td>\n",
       "      <td>0.848259</td>\n",
       "      <td>0.848333</td>\n",
       "      <td>0.770596</td>\n",
       "      <td>0.770066</td>\n",
       "      <td>0.770331</td>\n",
       "      <td>0.848185</td>\n",
       "      <td>0.848333</td>\n",
       "      <td>0.848259</td>\n",
       "    </tr>\n",
       "    <tr>\n",
       "      <th>Adaboost</th>\n",
       "      <td>0.843173</td>\n",
       "      <td>0.770000</td>\n",
       "      <td>0.788663</td>\n",
       "      <td>0.770000</td>\n",
       "      <td>0.706235</td>\n",
       "      <td>0.789064</td>\n",
       "      <td>0.718811</td>\n",
       "      <td>0.843173</td>\n",
       "      <td>0.770000</td>\n",
       "      <td>0.788663</td>\n",
       "    </tr>\n",
       "    <tr>\n",
       "      <th>Adaboost SVC</th>\n",
       "      <td>0.745975</td>\n",
       "      <td>0.576111</td>\n",
       "      <td>0.615346</td>\n",
       "      <td>0.576111</td>\n",
       "      <td>0.576435</td>\n",
       "      <td>0.615632</td>\n",
       "      <td>0.537026</td>\n",
       "      <td>0.745975</td>\n",
       "      <td>0.576111</td>\n",
       "      <td>0.615346</td>\n",
       "    </tr>\n",
       "    <tr>\n",
       "      <th>Adaboost CV</th>\n",
       "      <td>0.844674</td>\n",
       "      <td>0.776111</td>\n",
       "      <td>0.793863</td>\n",
       "      <td>0.776111</td>\n",
       "      <td>0.710116</td>\n",
       "      <td>0.791948</td>\n",
       "      <td>0.724187</td>\n",
       "      <td>0.844674</td>\n",
       "      <td>0.776111</td>\n",
       "      <td>0.793863</td>\n",
       "    </tr>\n",
       "    <tr>\n",
       "      <th>Extratrees</th>\n",
       "      <td>0.848868</td>\n",
       "      <td>0.858333</td>\n",
       "      <td>0.847190</td>\n",
       "      <td>0.858333</td>\n",
       "      <td>0.809188</td>\n",
       "      <td>0.724517</td>\n",
       "      <td>0.753765</td>\n",
       "      <td>0.848868</td>\n",
       "      <td>0.858333</td>\n",
       "      <td>0.847190</td>\n",
       "    </tr>\n",
       "    <tr>\n",
       "      <th>Extratrees CV</th>\n",
       "      <td>0.846851</td>\n",
       "      <td>0.856667</td>\n",
       "      <td>0.845506</td>\n",
       "      <td>0.856667</td>\n",
       "      <td>0.805371</td>\n",
       "      <td>0.722485</td>\n",
       "      <td>0.751181</td>\n",
       "      <td>0.846851</td>\n",
       "      <td>0.856667</td>\n",
       "      <td>0.845506</td>\n",
       "    </tr>\n",
       "    <tr>\n",
       "      <th>XGboost</th>\n",
       "      <td>0.852290</td>\n",
       "      <td>0.836111</td>\n",
       "      <td>0.842026</td>\n",
       "      <td>0.836111</td>\n",
       "      <td>0.754843</td>\n",
       "      <td>0.794638</td>\n",
       "      <td>0.770773</td>\n",
       "      <td>0.852290</td>\n",
       "      <td>0.836111</td>\n",
       "      <td>0.842026</td>\n",
       "    </tr>\n",
       "    <tr>\n",
       "      <th>XGboost CV</th>\n",
       "      <td>0.837242</td>\n",
       "      <td>0.838333</td>\n",
       "      <td>0.837772</td>\n",
       "      <td>0.838333</td>\n",
       "      <td>0.755527</td>\n",
       "      <td>0.752002</td>\n",
       "      <td>0.753735</td>\n",
       "      <td>0.837242</td>\n",
       "      <td>0.838333</td>\n",
       "      <td>0.837772</td>\n",
       "    </tr>\n",
       "    <tr>\n",
       "      <th>LightGBM</th>\n",
       "      <td>0.848572</td>\n",
       "      <td>0.810556</td>\n",
       "      <td>0.822054</td>\n",
       "      <td>0.810556</td>\n",
       "      <td>0.732078</td>\n",
       "      <td>0.797080</td>\n",
       "      <td>0.751586</td>\n",
       "      <td>0.848572</td>\n",
       "      <td>0.810556</td>\n",
       "      <td>0.822054</td>\n",
       "    </tr>\n",
       "    <tr>\n",
       "      <th>LightGBM CV</th>\n",
       "      <td>0.846199</td>\n",
       "      <td>0.800000</td>\n",
       "      <td>0.813370</td>\n",
       "      <td>0.800000</td>\n",
       "      <td>0.723934</td>\n",
       "      <td>0.794324</td>\n",
       "      <td>0.742602</td>\n",
       "      <td>0.846199</td>\n",
       "      <td>0.800000</td>\n",
       "      <td>0.813370</td>\n",
       "    </tr>\n",
       "  </tbody>\n",
       "</table>\n",
       "</div>"
      ],
      "text/plain": [
       "                              precision    recall  f1_score  accuracy  \\\n",
       "Logistic Regression            0.805346  0.678889  0.708610  0.678889   \n",
       "Logistic Regression CV         0.808331  0.681667  0.711141  0.681667   \n",
       "Decision Tree                  0.805284  0.799444  0.802136  0.799444   \n",
       "Decision Tree CV               0.823741  0.796111  0.805962  0.796111   \n",
       "Support Vector Classifier      0.843455  0.782778  0.799171  0.782778   \n",
       "Support Vector Classifier CV   0.841055  0.781111  0.797518  0.781111   \n",
       "Random Forest                  0.839840  0.779444  0.796014  0.779444   \n",
       "Random Forest CV               0.846486  0.833889  0.838807  0.833889   \n",
       "Ridge                          0.803996  0.681667  0.710995  0.681667   \n",
       "Ridge CV                       0.803996  0.681667  0.710995  0.681667   \n",
       "KNN                            0.794695  0.716667  0.739657  0.716667   \n",
       "KNN CV                         0.768145  0.764444  0.766233  0.764444   \n",
       "Bagging                        0.834461  0.838889  0.836381  0.838889   \n",
       "Bagging CV                     0.836579  0.839444  0.837896  0.839444   \n",
       "gradient Boosting              0.844442  0.782222  0.798840  0.782222   \n",
       "gradient Boosting CV           0.848185  0.848333  0.848259  0.848333   \n",
       "Adaboost                       0.843173  0.770000  0.788663  0.770000   \n",
       "Adaboost SVC                   0.745975  0.576111  0.615346  0.576111   \n",
       "Adaboost CV                    0.844674  0.776111  0.793863  0.776111   \n",
       "Extratrees                     0.848868  0.858333  0.847190  0.858333   \n",
       "Extratrees CV                  0.846851  0.856667  0.845506  0.856667   \n",
       "XGboost                        0.852290  0.836111  0.842026  0.836111   \n",
       "XGboost CV                     0.837242  0.838333  0.837772  0.838333   \n",
       "LightGBM                       0.848572  0.810556  0.822054  0.810556   \n",
       "LightGBM CV                    0.846199  0.800000  0.813370  0.800000   \n",
       "\n",
       "                              macro_avg_precision  macro_avg_recall  \\\n",
       "Logistic Regression                      0.646059          0.717779   \n",
       "Logistic Regression CV                   0.649165          0.722470   \n",
       "Decision Tree                            0.699761          0.710786   \n",
       "Decision Tree CV                         0.707917          0.752719   \n",
       "Support Vector Classifier                0.712612          0.790290   \n",
       "Support Vector Classifier CV             0.710178          0.786300   \n",
       "Random Forest                            0.708524          0.784268   \n",
       "Random Forest CV                         0.750823          0.782468   \n",
       "Ridge                                    0.645723          0.716598   \n",
       "Ridge CV                                 0.645723          0.716598   \n",
       "KNN                                      0.648671          0.708381   \n",
       "KNN CV                                   0.646945          0.651476   \n",
       "Bagging                                  0.757118          0.741588   \n",
       "Bagging CV                               0.757563          0.747811   \n",
       "gradient Boosting                        0.712977          0.791896   \n",
       "gradient Boosting CV                     0.770596          0.770066   \n",
       "Adaboost                                 0.706235          0.789064   \n",
       "Adaboost SVC                             0.576435          0.615632   \n",
       "Adaboost CV                              0.710116          0.791948   \n",
       "Extratrees                               0.809188          0.724517   \n",
       "Extratrees CV                            0.805371          0.722485   \n",
       "XGboost                                  0.754843          0.794638   \n",
       "XGboost CV                               0.755527          0.752002   \n",
       "LightGBM                                 0.732078          0.797080   \n",
       "LightGBM CV                              0.723934          0.794324   \n",
       "\n",
       "                              macro_avg_f1_score  weighted_avg_precision  \\\n",
       "Logistic Regression                     0.633736                0.805346   \n",
       "Logistic Regression CV                  0.637066                0.808331   \n",
       "Decision Tree                           0.704856                0.805284   \n",
       "Decision Tree CV                        0.723375                0.823741   \n",
       "Support Vector Classifier               0.728470                0.843455   \n",
       "Support Vector Classifier CV            0.725874                0.841055   \n",
       "Random Forest                           0.723960                0.839840   \n",
       "Random Forest CV                        0.764109                0.846486   \n",
       "Ridge                                   0.635103                0.803996   \n",
       "Ridge CV                                0.635103                0.803996   \n",
       "KNN                                     0.653608                0.794695   \n",
       "KNN CV                                  0.649100                0.768145   \n",
       "Bagging                                 0.748787                0.834461   \n",
       "Bagging CV                              0.752464                0.836579   \n",
       "gradient Boosting                       0.728615                0.844442   \n",
       "gradient Boosting CV                    0.770331                0.848185   \n",
       "Adaboost                                0.718811                0.843173   \n",
       "Adaboost SVC                            0.537026                0.745975   \n",
       "Adaboost CV                             0.724187                0.844674   \n",
       "Extratrees                              0.753765                0.848868   \n",
       "Extratrees CV                           0.751181                0.846851   \n",
       "XGboost                                 0.770773                0.852290   \n",
       "XGboost CV                              0.753735                0.837242   \n",
       "LightGBM                                0.751586                0.848572   \n",
       "LightGBM CV                             0.742602                0.846199   \n",
       "\n",
       "                              weighted_avg_recall  weighted_avg_f1_score  \n",
       "Logistic Regression                      0.678889               0.708610  \n",
       "Logistic Regression CV                   0.681667               0.711141  \n",
       "Decision Tree                            0.799444               0.802136  \n",
       "Decision Tree CV                         0.796111               0.805962  \n",
       "Support Vector Classifier                0.782778               0.799171  \n",
       "Support Vector Classifier CV             0.781111               0.797518  \n",
       "Random Forest                            0.779444               0.796014  \n",
       "Random Forest CV                         0.833889               0.838807  \n",
       "Ridge                                    0.681667               0.710995  \n",
       "Ridge CV                                 0.681667               0.710995  \n",
       "KNN                                      0.716667               0.739657  \n",
       "KNN CV                                   0.764444               0.766233  \n",
       "Bagging                                  0.838889               0.836381  \n",
       "Bagging CV                               0.839444               0.837896  \n",
       "gradient Boosting                        0.782222               0.798840  \n",
       "gradient Boosting CV                     0.848333               0.848259  \n",
       "Adaboost                                 0.770000               0.788663  \n",
       "Adaboost SVC                             0.576111               0.615346  \n",
       "Adaboost CV                              0.776111               0.793863  \n",
       "Extratrees                               0.858333               0.847190  \n",
       "Extratrees CV                            0.856667               0.845506  \n",
       "XGboost                                  0.836111               0.842026  \n",
       "XGboost CV                               0.838333               0.837772  \n",
       "LightGBM                                 0.810556               0.822054  \n",
       "LightGBM CV                              0.800000               0.813370  "
      ]
     },
     "execution_count": 224,
     "metadata": {},
     "output_type": "execute_result"
    }
   ],
   "source": [
    "df_results"
   ]
  },
  {
   "cell_type": "markdown",
   "id": "3269e0d3",
   "metadata": {},
   "source": [
    "# Save Model"
   ]
  },
  {
   "cell_type": "markdown",
   "id": "4172a260",
   "metadata": {},
   "source": [
    "## Logistic Regression"
   ]
  },
  {
   "cell_type": "code",
   "execution_count": 225,
   "id": "1ca6d88c",
   "metadata": {},
   "outputs": [],
   "source": [
    "logreg = 'C:/Users/HALAL/Final Project ML Process/model/3 - Model Random Over Sampling/logreg.pkl'\n",
    "with open(logreg, 'wb') as file:\n",
    "    pickle.dump(logreg_awal, file)\n",
    "    \n",
    "logreg_cv = 'C:/Users/HALAL/Final Project ML Process/model/3 - Model Random Over Sampling/logreg_cv.pkl'\n",
    "with open(logreg_cv, 'wb') as file:\n",
    "    pickle.dump(lr_grid_cv, file)"
   ]
  },
  {
   "cell_type": "markdown",
   "id": "a24289fe",
   "metadata": {},
   "source": [
    "## Support Vector Classifier"
   ]
  },
  {
   "cell_type": "code",
   "execution_count": 226,
   "id": "7e7de7a0",
   "metadata": {},
   "outputs": [],
   "source": [
    "svc = 'C:/Users/HALAL/Final Project ML Process/model/3 - Model Random Over Sampling/svc.pkl'\n",
    "with open(svc, 'wb') as file:\n",
    "    pickle.dump(svc_ori, file)\n",
    "    \n",
    "svc_cv = 'C:/Users/HALAL/Final Project ML Process/model/3 - Model Random Over Sampling/svc_cv.pkl'\n",
    "with open(svc_cv, 'wb') as file:\n",
    "    pickle.dump(svc_grid_cv, file)"
   ]
  },
  {
   "cell_type": "markdown",
   "id": "696278ca",
   "metadata": {},
   "source": [
    "## Decisiontree"
   ]
  },
  {
   "cell_type": "code",
   "execution_count": 227,
   "id": "a1029459",
   "metadata": {},
   "outputs": [],
   "source": [
    "dectree = 'C:/Users/HALAL/Final Project ML Process/model/3 - Model Random Over Sampling/dectree.pkl'\n",
    "with open(dectree, 'wb') as file:\n",
    "    pickle.dump(decTree, file)\n",
    "    \n",
    "dectree_cv = 'C:/Users/HALAL/Final Project ML Process/model/3 - Model Random Over Sampling/dectree_cv.pkl'\n",
    "with open(dectree_cv, 'wb') as file:\n",
    "    pickle.dump(best_decTree, file)"
   ]
  },
  {
   "cell_type": "markdown",
   "id": "258dc9df",
   "metadata": {},
   "source": [
    "## Randomforest"
   ]
  },
  {
   "cell_type": "code",
   "execution_count": 228,
   "id": "0defdb40",
   "metadata": {},
   "outputs": [],
   "source": [
    "randomforest = 'C:/Users/HALAL/Final Project ML Process/model/3 - Model Random Over Sampling/randomforest.pkl'\n",
    "with open(randomforest, 'wb') as file:\n",
    "    pickle.dump(random_forest, file)\n",
    "    \n",
    "randomforest_cv = 'C:/Users/HALAL/Final Project ML Process/model/3 - Model Random Over Sampling/randomforest_cv.pkl'\n",
    "with open(randomforest_cv, 'wb') as file:\n",
    "    pickle.dump(random_forestcls_cv, file)"
   ]
  },
  {
   "cell_type": "markdown",
   "id": "b201cf8f",
   "metadata": {},
   "source": [
    "## Ridge Classifier"
   ]
  },
  {
   "cell_type": "code",
   "execution_count": 229,
   "id": "b0fe6153",
   "metadata": {},
   "outputs": [],
   "source": [
    "ridge = 'C:/Users/HALAL/Final Project ML Process/model/3 - Model Random Over Sampling/ridge.pkl'\n",
    "with open(ridge, 'wb') as file:\n",
    "    pickle.dump(ridge, file)\n",
    "    \n",
    "ridge_cv = 'C:/Users/HALAL/Final Project ML Process/model/3 - Model Random Over Sampling/ridge_cv.pkl'\n",
    "with open(ridge_cv, 'wb') as file:\n",
    "    pickle.dump(ridge_cv, file)"
   ]
  },
  {
   "cell_type": "markdown",
   "id": "3671e1c0",
   "metadata": {},
   "source": [
    "## KNN "
   ]
  },
  {
   "cell_type": "code",
   "execution_count": 230,
   "id": "cc5c6db2",
   "metadata": {},
   "outputs": [],
   "source": [
    "knn = 'C:/Users/HALAL/Final Project ML Process/model/3 - Model Random Over Sampling/knn.pkl'\n",
    "with open(knn, 'wb') as file:\n",
    "    pickle.dump(knn_awal, file)\n",
    "    \n",
    "knn_cv = 'C:/Users/HALAL/Final Project ML Process/model/3 - Model Random Over Sampling/knn_cv.pkl'\n",
    "with open(knn_cv, 'wb') as file:\n",
    "    pickle.dump(kn_grid, file)"
   ]
  },
  {
   "cell_type": "markdown",
   "id": "83e42c51",
   "metadata": {},
   "source": [
    "## Bagging Classifier"
   ]
  },
  {
   "cell_type": "code",
   "execution_count": 231,
   "id": "8bcac522",
   "metadata": {},
   "outputs": [],
   "source": [
    "bagging = 'C:/Users/HALAL/Final Project ML Process/model/3 - Model Random Over Sampling/bagging.pkl'\n",
    "with open(bagging, 'wb') as file:\n",
    "    pickle.dump(bagging_cls, file)\n",
    "    \n",
    "bagging_cv = 'C:/Users/HALAL/Final Project ML Process/model/3 - Model Random Over Sampling/bagging_cv.pkl'\n",
    "with open(bagging_cv, 'wb') as file:\n",
    "    pickle.dump(bagging_cv, file)"
   ]
  },
  {
   "cell_type": "markdown",
   "id": "9867c902",
   "metadata": {},
   "source": [
    "## Gradient Boosting"
   ]
  },
  {
   "cell_type": "code",
   "execution_count": 232,
   "id": "d6c4df73",
   "metadata": {},
   "outputs": [],
   "source": [
    "grad_boost = 'C:/Users/HALAL/Final Project ML Process/model/3 - Model Random Over Sampling/grad_boost.pkl'\n",
    "with open(grad_boost, 'wb') as file:\n",
    "    pickle.dump(grad_boost, file)\n",
    "    \n",
    "grad_boost_cv = 'C:/Users/HALAL/Final Project ML Process/model/3 - Model Random Over Sampling/grad_boost_cv.pkl'\n",
    "with open(grad_boost_cv, 'wb') as file:\n",
    "    pickle.dump(gradboost_cv, file)"
   ]
  },
  {
   "cell_type": "markdown",
   "id": "f73ee857",
   "metadata": {},
   "source": [
    "## Adaboost"
   ]
  },
  {
   "cell_type": "code",
   "execution_count": 233,
   "id": "9d900d5b",
   "metadata": {},
   "outputs": [],
   "source": [
    "adaboost_svc = 'C:/Users/HALAL/Final Project ML Process/model/3 - Model Random Over Sampling/adaboost_svc.pkl'\n",
    "with open(adaboost_svc, 'wb') as file:\n",
    "    pickle.dump(adaboost_svc, file)\n",
    "    \n",
    "adaboost_ori = 'C:/Users/HALAL/Final Project ML Process/model/3 - Model Random Over Sampling/adaboost_ori.pkl'\n",
    "with open(adaboost_ori, 'wb') as file:\n",
    "    pickle.dump(abc_ori, file)\n",
    "    \n",
    "adaboost_cv = 'C:/Users/HALAL/Final Project ML Process/model/3 - Model Random Over Sampling/adaboost_cv.pkl'\n",
    "with open(adaboost_cv, 'wb') as file:\n",
    "    pickle.dump(adaboost_best, file)"
   ]
  },
  {
   "cell_type": "markdown",
   "id": "a3884c13",
   "metadata": {},
   "source": [
    "## Extratrees"
   ]
  },
  {
   "cell_type": "code",
   "execution_count": 234,
   "id": "9907f272",
   "metadata": {},
   "outputs": [],
   "source": [
    "extra_trees = 'C:/Users/HALAL/Final Project ML Process/model/3 - Model Random Over Sampling/extra_trees.pkl'\n",
    "with open(extra_trees, 'wb') as file:\n",
    "    pickle.dump(extra_trees_awal, file)\n",
    "    \n",
    "extra_tree_cv = 'C:/Users/HALAL/Final Project ML Process/model/3 - Model Random Over Sampling/extra_tree_cv.pkl'\n",
    "with open(extra_tree_cv, 'wb') as file:\n",
    "    pickle.dump(extra_trees_best, file)"
   ]
  },
  {
   "cell_type": "markdown",
   "id": "010b004e",
   "metadata": {},
   "source": [
    "## XgBoost"
   ]
  },
  {
   "cell_type": "code",
   "execution_count": 235,
   "id": "334f57af",
   "metadata": {},
   "outputs": [],
   "source": [
    "xgboost = 'C:/Users/HALAL/Final Project ML Process/model/3 - Model Random Over Sampling/xgboost.pkl'\n",
    "with open(xgboost, 'wb') as file:\n",
    "    pickle.dump(xgb_classifier, file)\n",
    "    \n",
    "xgboost_cv = 'C:/Users/HALAL/Final Project ML Process/model/3 - Model Random Over Sampling/xgboost_cv.pkl'\n",
    "with open(xgboost_cv, 'wb') as file:\n",
    "    pickle.dump(xgb_best, file)"
   ]
  },
  {
   "cell_type": "markdown",
   "id": "77ae15c0",
   "metadata": {},
   "source": [
    "## Deep Learning"
   ]
  },
  {
   "cell_type": "code",
   "execution_count": 236,
   "id": "8b26c1e8",
   "metadata": {},
   "outputs": [
    {
     "name": "stdout",
     "output_type": "stream",
     "text": [
      "INFO:tensorflow:Assets written to: C:\\Users\\HALAL\\AppData\\Local\\Temp\\tmpqzl48oxu\\assets\n"
     ]
    }
   ],
   "source": [
    "deep_learning = 'C:/Users/HALAL/Final Project ML Process/model/3 - Model Random Over Sampling/deep_learning.pkl'\n",
    "with open(deep_learning, 'wb') as file:\n",
    "    pickle.dump(model, file)\n",
    "    \n",
    "deep_learning_cv = 'C:/Users/HALAL/Final Project ML Process/model/3 - Model Random Over Sampling/deep_learning_cv.pkl'\n",
    "with open(deep_learning_cv, 'wb') as file:\n",
    "    pickle.dump(grid_result, file)"
   ]
  },
  {
   "cell_type": "markdown",
   "id": "698b26ef",
   "metadata": {},
   "source": [
    "## LightGBM"
   ]
  },
  {
   "cell_type": "code",
   "execution_count": 237,
   "id": "3d567580",
   "metadata": {},
   "outputs": [],
   "source": [
    "lgbm = 'C:/Users/HALAL/Final Project ML Process/model/3 - Model Random Over Sampling/lgbm.pkl'\n",
    "with open(lgbm, 'wb') as file:\n",
    "    pickle.dump(lgb_awal, file)\n",
    "    \n",
    "lgbm_cv = 'C:/Users/HALAL/Final Project ML Process/model/3 - Model Random Over Sampling/lgbm_cv.pkl'\n",
    "with open(lgbm_cv, 'wb') as file:\n",
    "    pickle.dump(lgbm_best, file)"
   ]
  },
  {
   "cell_type": "code",
   "execution_count": null,
   "id": "a2ea62f7",
   "metadata": {},
   "outputs": [],
   "source": []
  }
 ],
 "metadata": {
  "kernelspec": {
   "display_name": "Python 3 (ipykernel)",
   "language": "python",
   "name": "python3"
  },
  "language_info": {
   "codemirror_mode": {
    "name": "ipython",
    "version": 3
   },
   "file_extension": ".py",
   "mimetype": "text/x-python",
   "name": "python",
   "nbconvert_exporter": "python",
   "pygments_lexer": "ipython3",
   "version": "3.9.12"
  }
 },
 "nbformat": 4,
 "nbformat_minor": 5
}
