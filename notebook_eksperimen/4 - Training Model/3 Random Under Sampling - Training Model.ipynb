{
 "cells": [
  {
   "cell_type": "markdown",
   "id": "586e0e61",
   "metadata": {},
   "source": [
    "# Training Model - Unbalance Data"
   ]
  },
  {
   "cell_type": "markdown",
   "id": "6e146939",
   "metadata": {},
   "source": [
    "# Import Library"
   ]
  },
  {
   "cell_type": "code",
   "execution_count": 1,
   "id": "e86bcca6",
   "metadata": {},
   "outputs": [],
   "source": [
    "#import all realated libraries\n",
    "#import libraries for data analysis\n",
    "import numpy as np\n",
    "import pandas as pd\n",
    "\n",
    "# import library for visualization\n",
    "import seaborn as sns\n",
    "import matplotlib.pyplot as plt\n",
    "\n",
    "# import pickle and json file for columns and model file\n",
    "import pickle\n",
    "import json\n",
    "import joblib\n",
    "\n",
    "# import warnings for ignore the warnings\n",
    "import warnings \n",
    "warnings.filterwarnings(\"ignore\")\n",
    "\n",
    "# library for model selection and models\n",
    "from sklearn.model_selection import train_test_split\n",
    "from sklearn.linear_model import LogisticRegression\n",
    "from sklearn.neighbors import KNeighborsClassifier\n",
    "from sklearn.tree import DecisionTreeClassifier\n",
    "from sklearn.ensemble import RandomForestClassifier\n",
    "from sklearn.ensemble import AdaBoostClassifier\n",
    "from xgboost import XGBClassifier\n",
    "from sklearn.svm import SVC\n",
    "from sklearn.linear_model import RidgeClassifier\n",
    "from sklearn.ensemble import BaggingClassifier\n",
    "from sklearn.ensemble import GradientBoostingClassifier\n",
    "from sklearn.ensemble import ExtraTreesClassifier\n",
    "import xgboost as xgb\n",
    "import lightgbm as lgb\n",
    "from lightgbm import LGBMClassifier\n",
    "\n",
    "# evaluation metrics for classification model\n",
    "from sklearn.metrics import accuracy_score,classification_report,confusion_matrix\n",
    "from sklearn.metrics import classification_report, ConfusionMatrixDisplay\n",
    "from sklearn.metrics import accuracy_score, roc_auc_score\n",
    "\n",
    "from sklearn.model_selection import GridSearchCV\n",
    "from sklearn.model_selection import RepeatedStratifiedKFold\n",
    "\n",
    "\n",
    "import tensorflow as tf\n",
    "from tensorflow.keras.models import Sequential\n",
    "from tensorflow.keras.layers import Dense, Dropout\n",
    "from scikeras.wrappers import KerasClassifier\n",
    "from tensorflow import keras\n",
    "from tensorflow.keras.wrappers.scikit_learn import KerasClassifier"
   ]
  },
  {
   "cell_type": "markdown",
   "id": "254cb49d",
   "metadata": {},
   "source": [
    "## Read Data"
   ]
  },
  {
   "cell_type": "code",
   "execution_count": 2,
   "id": "1af710e2",
   "metadata": {},
   "outputs": [],
   "source": [
    "#Read data X_train dan y_rus hasil dari data preparation\n",
    "X_rus_clean = joblib.load(\"C:/Users/HALAL/Final Project ML Process/dataset/3 - final/2 - Scaling Data - Standart Scaler/X_rus_clean.pkl\") \n",
    "y_rus = joblib.load(\"C:/Users/HALAL/Final Project ML Process/dataset/3 - final/2 - Scaling Data - Standart Scaler/y_rus.pkl\")\n",
    "\n",
    "#Read data X_valid dan y_valid hasil dari data preparation\n",
    "X_valid_clean = joblib.load(\"C:/Users/HALAL/Final Project ML Process/dataset/3 - final/2 - Scaling Data - Standart Scaler/X_valid_clean.pkl\")\n",
    "y_valid = joblib.load(\"C:/Users/HALAL/Final Project ML Process/dataset/3 - final/2 - Scaling Data - Standart Scaler/y_valid.pkl\")\n",
    "\n",
    "#Read data X_test dan y_test hasil dari data preparation\n",
    "X_test_clean = joblib.load(\"C:/Users/HALAL/Final Project ML Process/dataset/3 - final/2 - Scaling Data - Standart Scaler/X_test_clean.pkl\")\n",
    "y_test = joblib.load(\"C:/Users/HALAL/Final Project ML Process/dataset/3 - final/2 - Scaling Data - Standart Scaler/y_test.pkl\")"
   ]
  },
  {
   "cell_type": "markdown",
   "id": "945d7cd6",
   "metadata": {},
   "source": [
    "## Baseline Model"
   ]
  },
  {
   "cell_type": "code",
   "execution_count": 3,
   "id": "ad0a82b7",
   "metadata": {},
   "outputs": [
    {
     "data": {
      "text/plain": [
       "0    0.5\n",
       "1    0.5\n",
       "Name: Exited, dtype: float64"
      ]
     },
     "execution_count": 3,
     "metadata": {},
     "output_type": "execute_result"
    }
   ],
   "source": [
    "y_rus.value_counts(normalize = True)\n",
    "# baseline akurasi = 80%\n",
    "# Before Smote Sampling"
   ]
  },
  {
   "cell_type": "code",
   "execution_count": 4,
   "id": "d9d769a6",
   "metadata": {},
   "outputs": [
    {
     "data": {
      "text/plain": [
       "0.5"
      ]
     },
     "execution_count": 4,
     "metadata": {},
     "output_type": "execute_result"
    }
   ],
   "source": [
    "y_baseline_predict = y_rus.mean()\n",
    "y_baseline_predict"
   ]
  },
  {
   "cell_type": "markdown",
   "id": "d24cde69",
   "metadata": {},
   "source": [
    "## Logistic Regression"
   ]
  },
  {
   "cell_type": "code",
   "execution_count": 5,
   "id": "19ebdcc8",
   "metadata": {},
   "outputs": [],
   "source": [
    "# Build Logistic Regression\n",
    "logreg_awal = LogisticRegression(random_state = 123)"
   ]
  },
  {
   "cell_type": "code",
   "execution_count": 6,
   "id": "6c58f364",
   "metadata": {},
   "outputs": [
    {
     "data": {
      "text/plain": [
       "LogisticRegression(random_state=123)"
      ]
     },
     "execution_count": 6,
     "metadata": {},
     "output_type": "execute_result"
    }
   ],
   "source": [
    "# fit Logistic Regression\n",
    "logreg_awal.fit(X_rus_clean, y_rus)"
   ]
  },
  {
   "cell_type": "code",
   "execution_count": 7,
   "id": "3faffac6",
   "metadata": {},
   "outputs": [
    {
     "data": {
      "text/plain": [
       "0.7091480446927374"
      ]
     },
     "execution_count": 7,
     "metadata": {},
     "output_type": "execute_result"
    }
   ],
   "source": [
    "# Melihat Score dari model logreg\n",
    "logreg_awal.score(X_rus_clean, y_rus)"
   ]
  },
  {
   "cell_type": "code",
   "execution_count": 8,
   "id": "e333ed5b",
   "metadata": {},
   "outputs": [],
   "source": [
    "#Prediksi Logreg\n",
    "logreg_pred = logreg_awal.predict(X_test_clean)"
   ]
  },
  {
   "cell_type": "code",
   "execution_count": 9,
   "id": "e8391495",
   "metadata": {},
   "outputs": [
    {
     "name": "stdout",
     "output_type": "stream",
     "text": [
      "              precision    recall  f1-score   support\n",
      "\n",
      "           0       0.92      0.65      0.76      1424\n",
      "           1       0.37      0.78      0.51       376\n",
      "\n",
      "    accuracy                           0.68      1800\n",
      "   macro avg       0.65      0.72      0.63      1800\n",
      "weighted avg       0.81      0.68      0.71      1800\n",
      "\n"
     ]
    }
   ],
   "source": [
    "#Melihat Classification report\n",
    "print(classification_report(y_test, logreg_pred, labels=[0,1]))"
   ]
  },
  {
   "cell_type": "code",
   "execution_count": 10,
   "id": "29d5e96c",
   "metadata": {},
   "outputs": [
    {
     "name": "stdout",
     "output_type": "stream",
     "text": [
      "Train_Score =  0.7091480446927374 Valid_Score =  0.665 Test_Score =  0.68\n"
     ]
    }
   ],
   "source": [
    "#Melihat score data train, validation dan test\n",
    "print(\"Train_Score = \", logreg_awal.score(X_rus_clean, y_rus), \n",
    "      \"Valid_Score = \",logreg_awal.score(X_valid_clean, y_valid),\n",
    "      \"Test_Score = \", logreg_awal.score(X_test_clean, y_test))"
   ]
  },
  {
   "cell_type": "markdown",
   "id": "996c0816",
   "metadata": {},
   "source": [
    "## Tuning Parameter Logistic Regression"
   ]
  },
  {
   "cell_type": "code",
   "execution_count": 11,
   "id": "280f9f73",
   "metadata": {},
   "outputs": [],
   "source": [
    "# Membentuk parameter untuk eksperimentasi\n",
    "lr_param_grid = {\n",
    "    'C' : [0.01, 0.05, 0.1, 0.5, 1, 5],\n",
    "    'solver' : ['liblinear', 'newton-cg', 'lbfgs', 'sag', 'saga'],\n",
    "    'penalty' : ['l1', 'l2', 'elasticnet','none']\n",
    "}"
   ]
  },
  {
   "cell_type": "code",
   "execution_count": 12,
   "id": "00f8d485",
   "metadata": {},
   "outputs": [],
   "source": [
    "# Cross Validation menggunakan GridsearchCV\n",
    "lr_grid = GridSearchCV(LogisticRegression(random_state = 123), lr_param_grid, verbose=3, cv= 5, scoring='accuracy')"
   ]
  },
  {
   "cell_type": "code",
   "execution_count": 13,
   "id": "0e29eb37",
   "metadata": {},
   "outputs": [
    {
     "name": "stdout",
     "output_type": "stream",
     "text": [
      "Fitting 5 folds for each of 120 candidates, totalling 600 fits\n",
      "[CV 1/5] END C=0.01, penalty=l1, solver=liblinear;, score=0.710 total time=   0.0s\n",
      "[CV 2/5] END C=0.01, penalty=l1, solver=liblinear;, score=0.658 total time=   0.0s\n",
      "[CV 3/5] END C=0.01, penalty=l1, solver=liblinear;, score=0.696 total time=   0.0s\n",
      "[CV 4/5] END C=0.01, penalty=l1, solver=liblinear;, score=0.703 total time=   0.0s\n",
      "[CV 5/5] END C=0.01, penalty=l1, solver=liblinear;, score=0.733 total time=   0.0s\n",
      "[CV 1/5] END C=0.01, penalty=l1, solver=newton-cg;, score=nan total time=   0.0s\n",
      "[CV 2/5] END C=0.01, penalty=l1, solver=newton-cg;, score=nan total time=   0.0s\n",
      "[CV 3/5] END C=0.01, penalty=l1, solver=newton-cg;, score=nan total time=   0.0s\n",
      "[CV 4/5] END C=0.01, penalty=l1, solver=newton-cg;, score=nan total time=   0.0s\n",
      "[CV 5/5] END C=0.01, penalty=l1, solver=newton-cg;, score=nan total time=   0.0s\n",
      "[CV 1/5] END ....C=0.01, penalty=l1, solver=lbfgs;, score=nan total time=   0.0s\n",
      "[CV 2/5] END ....C=0.01, penalty=l1, solver=lbfgs;, score=nan total time=   0.0s\n",
      "[CV 3/5] END ....C=0.01, penalty=l1, solver=lbfgs;, score=nan total time=   0.0s\n",
      "[CV 4/5] END ....C=0.01, penalty=l1, solver=lbfgs;, score=nan total time=   0.0s\n",
      "[CV 5/5] END ....C=0.01, penalty=l1, solver=lbfgs;, score=nan total time=   0.0s\n",
      "[CV 1/5] END ......C=0.01, penalty=l1, solver=sag;, score=nan total time=   0.0s\n",
      "[CV 2/5] END ......C=0.01, penalty=l1, solver=sag;, score=nan total time=   0.0s\n",
      "[CV 3/5] END ......C=0.01, penalty=l1, solver=sag;, score=nan total time=   0.0s\n",
      "[CV 4/5] END ......C=0.01, penalty=l1, solver=sag;, score=nan total time=   0.0s\n",
      "[CV 5/5] END ......C=0.01, penalty=l1, solver=sag;, score=nan total time=   0.0s\n",
      "[CV 1/5] END ...C=0.01, penalty=l1, solver=saga;, score=0.721 total time=   0.0s\n",
      "[CV 2/5] END ...C=0.01, penalty=l1, solver=saga;, score=0.658 total time=   0.0s\n",
      "[CV 3/5] END ...C=0.01, penalty=l1, solver=saga;, score=0.695 total time=   0.0s\n",
      "[CV 4/5] END ...C=0.01, penalty=l1, solver=saga;, score=0.700 total time=   0.0s\n",
      "[CV 5/5] END ...C=0.01, penalty=l1, solver=saga;, score=0.734 total time=   0.0s\n",
      "[CV 1/5] END C=0.01, penalty=l2, solver=liblinear;, score=0.703 total time=   0.0s\n",
      "[CV 2/5] END C=0.01, penalty=l2, solver=liblinear;, score=0.675 total time=   0.0s\n",
      "[CV 3/5] END C=0.01, penalty=l2, solver=liblinear;, score=0.729 total time=   0.0s\n",
      "[CV 4/5] END C=0.01, penalty=l2, solver=liblinear;, score=0.728 total time=   0.0s\n",
      "[CV 5/5] END C=0.01, penalty=l2, solver=liblinear;, score=0.722 total time=   0.0s\n",
      "[CV 1/5] END C=0.01, penalty=l2, solver=newton-cg;, score=0.703 total time=   0.0s\n",
      "[CV 2/5] END C=0.01, penalty=l2, solver=newton-cg;, score=0.675 total time=   0.0s\n",
      "[CV 3/5] END C=0.01, penalty=l2, solver=newton-cg;, score=0.733 total time=   0.0s\n",
      "[CV 4/5] END C=0.01, penalty=l2, solver=newton-cg;, score=0.724 total time=   0.0s\n",
      "[CV 5/5] END C=0.01, penalty=l2, solver=newton-cg;, score=0.713 total time=   0.0s\n",
      "[CV 1/5] END ..C=0.01, penalty=l2, solver=lbfgs;, score=0.703 total time=   0.0s\n",
      "[CV 2/5] END ..C=0.01, penalty=l2, solver=lbfgs;, score=0.675 total time=   0.0s\n",
      "[CV 3/5] END ..C=0.01, penalty=l2, solver=lbfgs;, score=0.733 total time=   0.0s\n",
      "[CV 4/5] END ..C=0.01, penalty=l2, solver=lbfgs;, score=0.724 total time=   0.0s\n",
      "[CV 5/5] END ..C=0.01, penalty=l2, solver=lbfgs;, score=0.713 total time=   0.0s\n",
      "[CV 1/5] END ....C=0.01, penalty=l2, solver=sag;, score=0.703 total time=   0.0s\n",
      "[CV 2/5] END ....C=0.01, penalty=l2, solver=sag;, score=0.675 total time=   0.0s\n",
      "[CV 3/5] END ....C=0.01, penalty=l2, solver=sag;, score=0.733 total time=   0.0s\n",
      "[CV 4/5] END ....C=0.01, penalty=l2, solver=sag;, score=0.724 total time=   0.0s\n",
      "[CV 5/5] END ....C=0.01, penalty=l2, solver=sag;, score=0.713 total time=   0.0s\n",
      "[CV 1/5] END ...C=0.01, penalty=l2, solver=saga;, score=0.703 total time=   0.0s\n",
      "[CV 2/5] END ...C=0.01, penalty=l2, solver=saga;, score=0.675 total time=   0.0s\n",
      "[CV 3/5] END ...C=0.01, penalty=l2, solver=saga;, score=0.733 total time=   0.0s\n",
      "[CV 4/5] END ...C=0.01, penalty=l2, solver=saga;, score=0.724 total time=   0.0s\n",
      "[CV 5/5] END ...C=0.01, penalty=l2, solver=saga;, score=0.713 total time=   0.0s\n",
      "[CV 1/5] END C=0.01, penalty=elasticnet, solver=liblinear;, score=nan total time=   0.0s\n",
      "[CV 2/5] END C=0.01, penalty=elasticnet, solver=liblinear;, score=nan total time=   0.0s\n",
      "[CV 3/5] END C=0.01, penalty=elasticnet, solver=liblinear;, score=nan total time=   0.0s\n",
      "[CV 4/5] END C=0.01, penalty=elasticnet, solver=liblinear;, score=nan total time=   0.0s\n",
      "[CV 5/5] END C=0.01, penalty=elasticnet, solver=liblinear;, score=nan total time=   0.0s\n",
      "[CV 1/5] END C=0.01, penalty=elasticnet, solver=newton-cg;, score=nan total time=   0.0s\n",
      "[CV 2/5] END C=0.01, penalty=elasticnet, solver=newton-cg;, score=nan total time=   0.0s\n",
      "[CV 3/5] END C=0.01, penalty=elasticnet, solver=newton-cg;, score=nan total time=   0.0s\n",
      "[CV 4/5] END C=0.01, penalty=elasticnet, solver=newton-cg;, score=nan total time=   0.0s\n",
      "[CV 5/5] END C=0.01, penalty=elasticnet, solver=newton-cg;, score=nan total time=   0.0s\n",
      "[CV 1/5] END C=0.01, penalty=elasticnet, solver=lbfgs;, score=nan total time=   0.0s\n",
      "[CV 2/5] END C=0.01, penalty=elasticnet, solver=lbfgs;, score=nan total time=   0.0s\n",
      "[CV 3/5] END C=0.01, penalty=elasticnet, solver=lbfgs;, score=nan total time=   0.0s\n",
      "[CV 4/5] END C=0.01, penalty=elasticnet, solver=lbfgs;, score=nan total time=   0.0s\n",
      "[CV 5/5] END C=0.01, penalty=elasticnet, solver=lbfgs;, score=nan total time=   0.0s\n",
      "[CV 1/5] END C=0.01, penalty=elasticnet, solver=sag;, score=nan total time=   0.0s\n",
      "[CV 2/5] END C=0.01, penalty=elasticnet, solver=sag;, score=nan total time=   0.0s\n",
      "[CV 3/5] END C=0.01, penalty=elasticnet, solver=sag;, score=nan total time=   0.0s\n",
      "[CV 4/5] END C=0.01, penalty=elasticnet, solver=sag;, score=nan total time=   0.0s\n",
      "[CV 5/5] END C=0.01, penalty=elasticnet, solver=sag;, score=nan total time=   0.0s\n",
      "[CV 1/5] END C=0.01, penalty=elasticnet, solver=saga;, score=nan total time=   0.0s\n",
      "[CV 2/5] END C=0.01, penalty=elasticnet, solver=saga;, score=nan total time=   0.0s\n",
      "[CV 3/5] END C=0.01, penalty=elasticnet, solver=saga;, score=nan total time=   0.0s\n",
      "[CV 4/5] END C=0.01, penalty=elasticnet, solver=saga;, score=nan total time=   0.0s\n",
      "[CV 5/5] END C=0.01, penalty=elasticnet, solver=saga;, score=nan total time=   0.0s\n",
      "[CV 1/5] END C=0.01, penalty=none, solver=liblinear;, score=nan total time=   0.0s\n",
      "[CV 2/5] END C=0.01, penalty=none, solver=liblinear;, score=nan total time=   0.0s\n",
      "[CV 3/5] END C=0.01, penalty=none, solver=liblinear;, score=nan total time=   0.0s\n",
      "[CV 4/5] END C=0.01, penalty=none, solver=liblinear;, score=nan total time=   0.0s\n",
      "[CV 5/5] END C=0.01, penalty=none, solver=liblinear;, score=nan total time=   0.0s\n",
      "[CV 1/5] END C=0.01, penalty=none, solver=newton-cg;, score=0.696 total time=   0.0s\n",
      "[CV 2/5] END C=0.01, penalty=none, solver=newton-cg;, score=0.670 total time=   0.0s\n",
      "[CV 3/5] END C=0.01, penalty=none, solver=newton-cg;, score=0.736 total time=   0.0s\n",
      "[CV 4/5] END C=0.01, penalty=none, solver=newton-cg;, score=0.721 total time=   0.0s\n",
      "[CV 5/5] END C=0.01, penalty=none, solver=newton-cg;, score=0.705 total time=   0.0s\n",
      "[CV 1/5] END C=0.01, penalty=none, solver=lbfgs;, score=0.696 total time=   0.0s\n",
      "[CV 2/5] END C=0.01, penalty=none, solver=lbfgs;, score=0.670 total time=   0.0s\n",
      "[CV 3/5] END C=0.01, penalty=none, solver=lbfgs;, score=0.736 total time=   0.0s\n",
      "[CV 4/5] END C=0.01, penalty=none, solver=lbfgs;, score=0.721 total time=   0.0s\n",
      "[CV 5/5] END C=0.01, penalty=none, solver=lbfgs;, score=0.705 total time=   0.0s\n",
      "[CV 1/5] END ..C=0.01, penalty=none, solver=sag;, score=0.696 total time=   0.0s\n",
      "[CV 2/5] END ..C=0.01, penalty=none, solver=sag;, score=0.670 total time=   0.0s\n",
      "[CV 3/5] END ..C=0.01, penalty=none, solver=sag;, score=0.736 total time=   0.0s\n",
      "[CV 4/5] END ..C=0.01, penalty=none, solver=sag;, score=0.721 total time=   0.0s\n",
      "[CV 5/5] END ..C=0.01, penalty=none, solver=sag;, score=0.705 total time=   0.0s\n",
      "[CV 1/5] END .C=0.01, penalty=none, solver=saga;, score=0.696 total time=   0.0s\n",
      "[CV 2/5] END .C=0.01, penalty=none, solver=saga;, score=0.670 total time=   0.0s\n",
      "[CV 3/5] END .C=0.01, penalty=none, solver=saga;, score=0.736 total time=   0.0s\n",
      "[CV 4/5] END .C=0.01, penalty=none, solver=saga;, score=0.721 total time=   0.0s\n",
      "[CV 5/5] END .C=0.01, penalty=none, solver=saga;, score=0.705 total time=   0.0s\n",
      "[CV 1/5] END C=0.05, penalty=l1, solver=liblinear;, score=0.703 total time=   0.0s\n",
      "[CV 2/5] END C=0.05, penalty=l1, solver=liblinear;, score=0.681 total time=   0.0s\n",
      "[CV 3/5] END C=0.05, penalty=l1, solver=liblinear;, score=0.729 total time=   0.0s\n",
      "[CV 4/5] END C=0.05, penalty=l1, solver=liblinear;, score=0.721 total time=   0.0s\n",
      "[CV 5/5] END C=0.05, penalty=l1, solver=liblinear;, score=0.720 total time=   0.0s\n",
      "[CV 1/5] END C=0.05, penalty=l1, solver=newton-cg;, score=nan total time=   0.0s\n",
      "[CV 2/5] END C=0.05, penalty=l1, solver=newton-cg;, score=nan total time=   0.0s\n",
      "[CV 3/5] END C=0.05, penalty=l1, solver=newton-cg;, score=nan total time=   0.0s\n",
      "[CV 4/5] END C=0.05, penalty=l1, solver=newton-cg;, score=nan total time=   0.0s\n",
      "[CV 5/5] END C=0.05, penalty=l1, solver=newton-cg;, score=nan total time=   0.0s\n",
      "[CV 1/5] END ....C=0.05, penalty=l1, solver=lbfgs;, score=nan total time=   0.0s\n",
      "[CV 2/5] END ....C=0.05, penalty=l1, solver=lbfgs;, score=nan total time=   0.0s\n",
      "[CV 3/5] END ....C=0.05, penalty=l1, solver=lbfgs;, score=nan total time=   0.0s\n",
      "[CV 4/5] END ....C=0.05, penalty=l1, solver=lbfgs;, score=nan total time=   0.0s\n",
      "[CV 5/5] END ....C=0.05, penalty=l1, solver=lbfgs;, score=nan total time=   0.0s\n",
      "[CV 1/5] END ......C=0.05, penalty=l1, solver=sag;, score=nan total time=   0.0s\n",
      "[CV 2/5] END ......C=0.05, penalty=l1, solver=sag;, score=nan total time=   0.0s\n",
      "[CV 3/5] END ......C=0.05, penalty=l1, solver=sag;, score=nan total time=   0.0s\n",
      "[CV 4/5] END ......C=0.05, penalty=l1, solver=sag;, score=nan total time=   0.0s\n",
      "[CV 5/5] END ......C=0.05, penalty=l1, solver=sag;, score=nan total time=   0.0s\n",
      "[CV 1/5] END ...C=0.05, penalty=l1, solver=saga;, score=0.703 total time=   0.0s\n"
     ]
    },
    {
     "name": "stdout",
     "output_type": "stream",
     "text": [
      "[CV 2/5] END ...C=0.05, penalty=l1, solver=saga;, score=0.681 total time=   0.0s\n",
      "[CV 3/5] END ...C=0.05, penalty=l1, solver=saga;, score=0.729 total time=   0.0s\n",
      "[CV 4/5] END ...C=0.05, penalty=l1, solver=saga;, score=0.714 total time=   0.0s\n",
      "[CV 5/5] END ...C=0.05, penalty=l1, solver=saga;, score=0.720 total time=   0.0s\n",
      "[CV 1/5] END C=0.05, penalty=l2, solver=liblinear;, score=0.698 total time=   0.0s\n",
      "[CV 2/5] END C=0.05, penalty=l2, solver=liblinear;, score=0.670 total time=   0.0s\n",
      "[CV 3/5] END C=0.05, penalty=l2, solver=liblinear;, score=0.735 total time=   0.0s\n",
      "[CV 4/5] END C=0.05, penalty=l2, solver=liblinear;, score=0.721 total time=   0.0s\n",
      "[CV 5/5] END C=0.05, penalty=l2, solver=liblinear;, score=0.717 total time=   0.0s\n",
      "[CV 1/5] END C=0.05, penalty=l2, solver=newton-cg;, score=0.698 total time=   0.0s\n",
      "[CV 2/5] END C=0.05, penalty=l2, solver=newton-cg;, score=0.677 total time=   0.0s\n",
      "[CV 3/5] END C=0.05, penalty=l2, solver=newton-cg;, score=0.740 total time=   0.0s\n",
      "[CV 4/5] END C=0.05, penalty=l2, solver=newton-cg;, score=0.726 total time=   0.0s\n",
      "[CV 5/5] END C=0.05, penalty=l2, solver=newton-cg;, score=0.715 total time=   0.0s\n",
      "[CV 1/5] END ..C=0.05, penalty=l2, solver=lbfgs;, score=0.698 total time=   0.0s\n",
      "[CV 2/5] END ..C=0.05, penalty=l2, solver=lbfgs;, score=0.677 total time=   0.0s\n",
      "[CV 3/5] END ..C=0.05, penalty=l2, solver=lbfgs;, score=0.740 total time=   0.0s\n",
      "[CV 4/5] END ..C=0.05, penalty=l2, solver=lbfgs;, score=0.726 total time=   0.0s\n",
      "[CV 5/5] END ..C=0.05, penalty=l2, solver=lbfgs;, score=0.715 total time=   0.0s\n",
      "[CV 1/5] END ....C=0.05, penalty=l2, solver=sag;, score=0.698 total time=   0.0s\n",
      "[CV 2/5] END ....C=0.05, penalty=l2, solver=sag;, score=0.677 total time=   0.0s\n",
      "[CV 3/5] END ....C=0.05, penalty=l2, solver=sag;, score=0.740 total time=   0.0s\n",
      "[CV 4/5] END ....C=0.05, penalty=l2, solver=sag;, score=0.726 total time=   0.0s\n",
      "[CV 5/5] END ....C=0.05, penalty=l2, solver=sag;, score=0.715 total time=   0.0s\n",
      "[CV 1/5] END ...C=0.05, penalty=l2, solver=saga;, score=0.698 total time=   0.0s\n",
      "[CV 2/5] END ...C=0.05, penalty=l2, solver=saga;, score=0.677 total time=   0.0s\n",
      "[CV 3/5] END ...C=0.05, penalty=l2, solver=saga;, score=0.740 total time=   0.0s\n",
      "[CV 4/5] END ...C=0.05, penalty=l2, solver=saga;, score=0.726 total time=   0.0s\n",
      "[CV 5/5] END ...C=0.05, penalty=l2, solver=saga;, score=0.715 total time=   0.0s\n",
      "[CV 1/5] END C=0.05, penalty=elasticnet, solver=liblinear;, score=nan total time=   0.0s\n",
      "[CV 2/5] END C=0.05, penalty=elasticnet, solver=liblinear;, score=nan total time=   0.0s\n",
      "[CV 3/5] END C=0.05, penalty=elasticnet, solver=liblinear;, score=nan total time=   0.0s\n",
      "[CV 4/5] END C=0.05, penalty=elasticnet, solver=liblinear;, score=nan total time=   0.0s\n",
      "[CV 5/5] END C=0.05, penalty=elasticnet, solver=liblinear;, score=nan total time=   0.0s\n",
      "[CV 1/5] END C=0.05, penalty=elasticnet, solver=newton-cg;, score=nan total time=   0.0s\n",
      "[CV 2/5] END C=0.05, penalty=elasticnet, solver=newton-cg;, score=nan total time=   0.0s\n",
      "[CV 3/5] END C=0.05, penalty=elasticnet, solver=newton-cg;, score=nan total time=   0.0s\n",
      "[CV 4/5] END C=0.05, penalty=elasticnet, solver=newton-cg;, score=nan total time=   0.0s\n",
      "[CV 5/5] END C=0.05, penalty=elasticnet, solver=newton-cg;, score=nan total time=   0.0s\n",
      "[CV 1/5] END C=0.05, penalty=elasticnet, solver=lbfgs;, score=nan total time=   0.0s\n",
      "[CV 2/5] END C=0.05, penalty=elasticnet, solver=lbfgs;, score=nan total time=   0.0s\n",
      "[CV 3/5] END C=0.05, penalty=elasticnet, solver=lbfgs;, score=nan total time=   0.0s\n",
      "[CV 4/5] END C=0.05, penalty=elasticnet, solver=lbfgs;, score=nan total time=   0.0s\n",
      "[CV 5/5] END C=0.05, penalty=elasticnet, solver=lbfgs;, score=nan total time=   0.0s\n",
      "[CV 1/5] END C=0.05, penalty=elasticnet, solver=sag;, score=nan total time=   0.0s\n",
      "[CV 2/5] END C=0.05, penalty=elasticnet, solver=sag;, score=nan total time=   0.0s\n",
      "[CV 3/5] END C=0.05, penalty=elasticnet, solver=sag;, score=nan total time=   0.0s\n",
      "[CV 4/5] END C=0.05, penalty=elasticnet, solver=sag;, score=nan total time=   0.0s\n",
      "[CV 5/5] END C=0.05, penalty=elasticnet, solver=sag;, score=nan total time=   0.0s\n",
      "[CV 1/5] END C=0.05, penalty=elasticnet, solver=saga;, score=nan total time=   0.0s\n",
      "[CV 2/5] END C=0.05, penalty=elasticnet, solver=saga;, score=nan total time=   0.0s\n",
      "[CV 3/5] END C=0.05, penalty=elasticnet, solver=saga;, score=nan total time=   0.0s\n",
      "[CV 4/5] END C=0.05, penalty=elasticnet, solver=saga;, score=nan total time=   0.0s\n",
      "[CV 5/5] END C=0.05, penalty=elasticnet, solver=saga;, score=nan total time=   0.0s\n",
      "[CV 1/5] END C=0.05, penalty=none, solver=liblinear;, score=nan total time=   0.0s\n",
      "[CV 2/5] END C=0.05, penalty=none, solver=liblinear;, score=nan total time=   0.0s\n",
      "[CV 3/5] END C=0.05, penalty=none, solver=liblinear;, score=nan total time=   0.0s\n",
      "[CV 4/5] END C=0.05, penalty=none, solver=liblinear;, score=nan total time=   0.0s\n",
      "[CV 5/5] END C=0.05, penalty=none, solver=liblinear;, score=nan total time=   0.0s\n",
      "[CV 1/5] END C=0.05, penalty=none, solver=newton-cg;, score=0.696 total time=   0.0s\n",
      "[CV 2/5] END C=0.05, penalty=none, solver=newton-cg;, score=0.670 total time=   0.0s\n",
      "[CV 3/5] END C=0.05, penalty=none, solver=newton-cg;, score=0.736 total time=   0.0s\n",
      "[CV 4/5] END C=0.05, penalty=none, solver=newton-cg;, score=0.721 total time=   0.0s\n",
      "[CV 5/5] END C=0.05, penalty=none, solver=newton-cg;, score=0.705 total time=   0.0s\n",
      "[CV 1/5] END C=0.05, penalty=none, solver=lbfgs;, score=0.696 total time=   0.0s\n",
      "[CV 2/5] END C=0.05, penalty=none, solver=lbfgs;, score=0.670 total time=   0.0s\n",
      "[CV 3/5] END C=0.05, penalty=none, solver=lbfgs;, score=0.736 total time=   0.0s\n",
      "[CV 4/5] END C=0.05, penalty=none, solver=lbfgs;, score=0.721 total time=   0.0s\n",
      "[CV 5/5] END C=0.05, penalty=none, solver=lbfgs;, score=0.705 total time=   0.0s\n",
      "[CV 1/5] END ..C=0.05, penalty=none, solver=sag;, score=0.696 total time=   0.0s\n",
      "[CV 2/5] END ..C=0.05, penalty=none, solver=sag;, score=0.670 total time=   0.0s\n",
      "[CV 3/5] END ..C=0.05, penalty=none, solver=sag;, score=0.736 total time=   0.0s\n",
      "[CV 4/5] END ..C=0.05, penalty=none, solver=sag;, score=0.721 total time=   0.0s\n",
      "[CV 5/5] END ..C=0.05, penalty=none, solver=sag;, score=0.705 total time=   0.0s\n",
      "[CV 1/5] END .C=0.05, penalty=none, solver=saga;, score=0.696 total time=   0.0s\n",
      "[CV 2/5] END .C=0.05, penalty=none, solver=saga;, score=0.670 total time=   0.0s\n",
      "[CV 3/5] END .C=0.05, penalty=none, solver=saga;, score=0.736 total time=   0.0s\n",
      "[CV 4/5] END .C=0.05, penalty=none, solver=saga;, score=0.721 total time=   0.0s\n",
      "[CV 5/5] END .C=0.05, penalty=none, solver=saga;, score=0.705 total time=   0.0s\n",
      "[CV 1/5] END C=0.1, penalty=l1, solver=liblinear;, score=0.698 total time=   0.0s\n",
      "[CV 2/5] END C=0.1, penalty=l1, solver=liblinear;, score=0.677 total time=   0.0s\n",
      "[CV 3/5] END C=0.1, penalty=l1, solver=liblinear;, score=0.731 total time=   0.0s\n",
      "[CV 4/5] END C=0.1, penalty=l1, solver=liblinear;, score=0.719 total time=   0.0s\n",
      "[CV 5/5] END C=0.1, penalty=l1, solver=liblinear;, score=0.720 total time=   0.0s\n",
      "[CV 1/5] END .C=0.1, penalty=l1, solver=newton-cg;, score=nan total time=   0.0s\n",
      "[CV 2/5] END .C=0.1, penalty=l1, solver=newton-cg;, score=nan total time=   0.0s\n",
      "[CV 3/5] END .C=0.1, penalty=l1, solver=newton-cg;, score=nan total time=   0.0s\n",
      "[CV 4/5] END .C=0.1, penalty=l1, solver=newton-cg;, score=nan total time=   0.0s\n",
      "[CV 5/5] END .C=0.1, penalty=l1, solver=newton-cg;, score=nan total time=   0.0s\n",
      "[CV 1/5] END .....C=0.1, penalty=l1, solver=lbfgs;, score=nan total time=   0.0s\n",
      "[CV 2/5] END .....C=0.1, penalty=l1, solver=lbfgs;, score=nan total time=   0.0s\n",
      "[CV 3/5] END .....C=0.1, penalty=l1, solver=lbfgs;, score=nan total time=   0.0s\n",
      "[CV 4/5] END .....C=0.1, penalty=l1, solver=lbfgs;, score=nan total time=   0.0s\n",
      "[CV 5/5] END .....C=0.1, penalty=l1, solver=lbfgs;, score=nan total time=   0.0s\n",
      "[CV 1/5] END .......C=0.1, penalty=l1, solver=sag;, score=nan total time=   0.0s\n",
      "[CV 2/5] END .......C=0.1, penalty=l1, solver=sag;, score=nan total time=   0.0s\n",
      "[CV 3/5] END .......C=0.1, penalty=l1, solver=sag;, score=nan total time=   0.0s\n",
      "[CV 4/5] END .......C=0.1, penalty=l1, solver=sag;, score=nan total time=   0.0s\n",
      "[CV 5/5] END .......C=0.1, penalty=l1, solver=sag;, score=nan total time=   0.0s\n",
      "[CV 1/5] END ....C=0.1, penalty=l1, solver=saga;, score=0.698 total time=   0.0s\n",
      "[CV 2/5] END ....C=0.1, penalty=l1, solver=saga;, score=0.677 total time=   0.0s\n",
      "[CV 3/5] END ....C=0.1, penalty=l1, solver=saga;, score=0.733 total time=   0.0s\n",
      "[CV 4/5] END ....C=0.1, penalty=l1, solver=saga;, score=0.719 total time=   0.0s\n",
      "[CV 5/5] END ....C=0.1, penalty=l1, solver=saga;, score=0.719 total time=   0.0s\n",
      "[CV 1/5] END C=0.1, penalty=l2, solver=liblinear;, score=0.695 total time=   0.0s\n",
      "[CV 2/5] END C=0.1, penalty=l2, solver=liblinear;, score=0.672 total time=   0.0s\n",
      "[CV 3/5] END C=0.1, penalty=l2, solver=liblinear;, score=0.738 total time=   0.0s\n",
      "[CV 4/5] END C=0.1, penalty=l2, solver=liblinear;, score=0.721 total time=   0.0s\n"
     ]
    },
    {
     "name": "stdout",
     "output_type": "stream",
     "text": [
      "[CV 5/5] END C=0.1, penalty=l2, solver=liblinear;, score=0.717 total time=   0.0s\n",
      "[CV 1/5] END C=0.1, penalty=l2, solver=newton-cg;, score=0.696 total time=   0.0s\n",
      "[CV 2/5] END C=0.1, penalty=l2, solver=newton-cg;, score=0.674 total time=   0.0s\n",
      "[CV 3/5] END C=0.1, penalty=l2, solver=newton-cg;, score=0.740 total time=   0.0s\n",
      "[CV 4/5] END C=0.1, penalty=l2, solver=newton-cg;, score=0.723 total time=   0.0s\n",
      "[CV 5/5] END C=0.1, penalty=l2, solver=newton-cg;, score=0.715 total time=   0.0s\n",
      "[CV 1/5] END ...C=0.1, penalty=l2, solver=lbfgs;, score=0.696 total time=   0.0s\n",
      "[CV 2/5] END ...C=0.1, penalty=l2, solver=lbfgs;, score=0.674 total time=   0.0s\n",
      "[CV 3/5] END ...C=0.1, penalty=l2, solver=lbfgs;, score=0.740 total time=   0.0s\n",
      "[CV 4/5] END ...C=0.1, penalty=l2, solver=lbfgs;, score=0.723 total time=   0.0s\n",
      "[CV 5/5] END ...C=0.1, penalty=l2, solver=lbfgs;, score=0.715 total time=   0.0s\n",
      "[CV 1/5] END .....C=0.1, penalty=l2, solver=sag;, score=0.696 total time=   0.0s\n",
      "[CV 2/5] END .....C=0.1, penalty=l2, solver=sag;, score=0.674 total time=   0.0s\n",
      "[CV 3/5] END .....C=0.1, penalty=l2, solver=sag;, score=0.740 total time=   0.0s\n",
      "[CV 4/5] END .....C=0.1, penalty=l2, solver=sag;, score=0.723 total time=   0.0s\n",
      "[CV 5/5] END .....C=0.1, penalty=l2, solver=sag;, score=0.715 total time=   0.0s\n",
      "[CV 1/5] END ....C=0.1, penalty=l2, solver=saga;, score=0.696 total time=   0.0s\n",
      "[CV 2/5] END ....C=0.1, penalty=l2, solver=saga;, score=0.674 total time=   0.0s\n",
      "[CV 3/5] END ....C=0.1, penalty=l2, solver=saga;, score=0.740 total time=   0.0s\n",
      "[CV 4/5] END ....C=0.1, penalty=l2, solver=saga;, score=0.723 total time=   0.0s\n",
      "[CV 5/5] END ....C=0.1, penalty=l2, solver=saga;, score=0.715 total time=   0.0s\n",
      "[CV 1/5] END C=0.1, penalty=elasticnet, solver=liblinear;, score=nan total time=   0.0s\n",
      "[CV 2/5] END C=0.1, penalty=elasticnet, solver=liblinear;, score=nan total time=   0.0s\n",
      "[CV 3/5] END C=0.1, penalty=elasticnet, solver=liblinear;, score=nan total time=   0.0s\n",
      "[CV 4/5] END C=0.1, penalty=elasticnet, solver=liblinear;, score=nan total time=   0.0s\n",
      "[CV 5/5] END C=0.1, penalty=elasticnet, solver=liblinear;, score=nan total time=   0.0s\n",
      "[CV 1/5] END C=0.1, penalty=elasticnet, solver=newton-cg;, score=nan total time=   0.0s\n",
      "[CV 2/5] END C=0.1, penalty=elasticnet, solver=newton-cg;, score=nan total time=   0.0s\n",
      "[CV 3/5] END C=0.1, penalty=elasticnet, solver=newton-cg;, score=nan total time=   0.0s\n",
      "[CV 4/5] END C=0.1, penalty=elasticnet, solver=newton-cg;, score=nan total time=   0.0s\n",
      "[CV 5/5] END C=0.1, penalty=elasticnet, solver=newton-cg;, score=nan total time=   0.0s\n",
      "[CV 1/5] END C=0.1, penalty=elasticnet, solver=lbfgs;, score=nan total time=   0.0s\n",
      "[CV 2/5] END C=0.1, penalty=elasticnet, solver=lbfgs;, score=nan total time=   0.0s\n",
      "[CV 3/5] END C=0.1, penalty=elasticnet, solver=lbfgs;, score=nan total time=   0.0s\n",
      "[CV 4/5] END C=0.1, penalty=elasticnet, solver=lbfgs;, score=nan total time=   0.0s\n",
      "[CV 5/5] END C=0.1, penalty=elasticnet, solver=lbfgs;, score=nan total time=   0.0s\n",
      "[CV 1/5] END C=0.1, penalty=elasticnet, solver=sag;, score=nan total time=   0.0s\n",
      "[CV 2/5] END C=0.1, penalty=elasticnet, solver=sag;, score=nan total time=   0.0s\n",
      "[CV 3/5] END C=0.1, penalty=elasticnet, solver=sag;, score=nan total time=   0.0s\n",
      "[CV 4/5] END C=0.1, penalty=elasticnet, solver=sag;, score=nan total time=   0.0s\n",
      "[CV 5/5] END C=0.1, penalty=elasticnet, solver=sag;, score=nan total time=   0.0s\n",
      "[CV 1/5] END C=0.1, penalty=elasticnet, solver=saga;, score=nan total time=   0.0s\n",
      "[CV 2/5] END C=0.1, penalty=elasticnet, solver=saga;, score=nan total time=   0.0s\n",
      "[CV 3/5] END C=0.1, penalty=elasticnet, solver=saga;, score=nan total time=   0.0s\n",
      "[CV 4/5] END C=0.1, penalty=elasticnet, solver=saga;, score=nan total time=   0.0s\n",
      "[CV 5/5] END C=0.1, penalty=elasticnet, solver=saga;, score=nan total time=   0.0s\n",
      "[CV 1/5] END C=0.1, penalty=none, solver=liblinear;, score=nan total time=   0.0s\n",
      "[CV 2/5] END C=0.1, penalty=none, solver=liblinear;, score=nan total time=   0.0s\n",
      "[CV 3/5] END C=0.1, penalty=none, solver=liblinear;, score=nan total time=   0.0s\n",
      "[CV 4/5] END C=0.1, penalty=none, solver=liblinear;, score=nan total time=   0.0s\n",
      "[CV 5/5] END C=0.1, penalty=none, solver=liblinear;, score=nan total time=   0.0s\n",
      "[CV 1/5] END C=0.1, penalty=none, solver=newton-cg;, score=0.696 total time=   0.0s\n",
      "[CV 2/5] END C=0.1, penalty=none, solver=newton-cg;, score=0.670 total time=   0.0s\n",
      "[CV 3/5] END C=0.1, penalty=none, solver=newton-cg;, score=0.736 total time=   0.0s\n",
      "[CV 4/5] END C=0.1, penalty=none, solver=newton-cg;, score=0.721 total time=   0.0s\n",
      "[CV 5/5] END C=0.1, penalty=none, solver=newton-cg;, score=0.705 total time=   0.0s\n",
      "[CV 1/5] END .C=0.1, penalty=none, solver=lbfgs;, score=0.696 total time=   0.0s\n",
      "[CV 2/5] END .C=0.1, penalty=none, solver=lbfgs;, score=0.670 total time=   0.0s\n",
      "[CV 3/5] END .C=0.1, penalty=none, solver=lbfgs;, score=0.736 total time=   0.0s\n",
      "[CV 4/5] END .C=0.1, penalty=none, solver=lbfgs;, score=0.721 total time=   0.0s\n",
      "[CV 5/5] END .C=0.1, penalty=none, solver=lbfgs;, score=0.705 total time=   0.0s\n",
      "[CV 1/5] END ...C=0.1, penalty=none, solver=sag;, score=0.696 total time=   0.0s\n",
      "[CV 2/5] END ...C=0.1, penalty=none, solver=sag;, score=0.670 total time=   0.0s\n",
      "[CV 3/5] END ...C=0.1, penalty=none, solver=sag;, score=0.736 total time=   0.0s\n",
      "[CV 4/5] END ...C=0.1, penalty=none, solver=sag;, score=0.721 total time=   0.0s\n",
      "[CV 5/5] END ...C=0.1, penalty=none, solver=sag;, score=0.705 total time=   0.0s\n",
      "[CV 1/5] END ..C=0.1, penalty=none, solver=saga;, score=0.696 total time=   0.0s\n",
      "[CV 2/5] END ..C=0.1, penalty=none, solver=saga;, score=0.670 total time=   0.0s\n",
      "[CV 3/5] END ..C=0.1, penalty=none, solver=saga;, score=0.736 total time=   0.0s\n",
      "[CV 4/5] END ..C=0.1, penalty=none, solver=saga;, score=0.721 total time=   0.0s\n",
      "[CV 5/5] END ..C=0.1, penalty=none, solver=saga;, score=0.705 total time=   0.0s\n",
      "[CV 1/5] END C=0.5, penalty=l1, solver=liblinear;, score=0.696 total time=   0.0s\n",
      "[CV 2/5] END C=0.5, penalty=l1, solver=liblinear;, score=0.668 total time=   0.0s\n",
      "[CV 3/5] END C=0.5, penalty=l1, solver=liblinear;, score=0.736 total time=   0.0s\n",
      "[CV 4/5] END C=0.5, penalty=l1, solver=liblinear;, score=0.721 total time=   0.0s\n",
      "[CV 5/5] END C=0.5, penalty=l1, solver=liblinear;, score=0.712 total time=   0.0s\n",
      "[CV 1/5] END .C=0.5, penalty=l1, solver=newton-cg;, score=nan total time=   0.0s\n",
      "[CV 2/5] END .C=0.5, penalty=l1, solver=newton-cg;, score=nan total time=   0.0s\n",
      "[CV 3/5] END .C=0.5, penalty=l1, solver=newton-cg;, score=nan total time=   0.0s\n",
      "[CV 4/5] END .C=0.5, penalty=l1, solver=newton-cg;, score=nan total time=   0.0s\n",
      "[CV 5/5] END .C=0.5, penalty=l1, solver=newton-cg;, score=nan total time=   0.0s\n",
      "[CV 1/5] END .....C=0.5, penalty=l1, solver=lbfgs;, score=nan total time=   0.0s\n",
      "[CV 2/5] END .....C=0.5, penalty=l1, solver=lbfgs;, score=nan total time=   0.0s\n",
      "[CV 3/5] END .....C=0.5, penalty=l1, solver=lbfgs;, score=nan total time=   0.0s\n",
      "[CV 4/5] END .....C=0.5, penalty=l1, solver=lbfgs;, score=nan total time=   0.0s\n",
      "[CV 5/5] END .....C=0.5, penalty=l1, solver=lbfgs;, score=nan total time=   0.0s\n",
      "[CV 1/5] END .......C=0.5, penalty=l1, solver=sag;, score=nan total time=   0.0s\n",
      "[CV 2/5] END .......C=0.5, penalty=l1, solver=sag;, score=nan total time=   0.0s\n",
      "[CV 3/5] END .......C=0.5, penalty=l1, solver=sag;, score=nan total time=   0.0s\n",
      "[CV 4/5] END .......C=0.5, penalty=l1, solver=sag;, score=nan total time=   0.0s\n",
      "[CV 5/5] END .......C=0.5, penalty=l1, solver=sag;, score=nan total time=   0.0s\n",
      "[CV 1/5] END ....C=0.5, penalty=l1, solver=saga;, score=0.696 total time=   0.0s\n",
      "[CV 2/5] END ....C=0.5, penalty=l1, solver=saga;, score=0.672 total time=   0.0s\n",
      "[CV 3/5] END ....C=0.5, penalty=l1, solver=saga;, score=0.736 total time=   0.0s\n",
      "[CV 4/5] END ....C=0.5, penalty=l1, solver=saga;, score=0.719 total time=   0.0s\n",
      "[CV 5/5] END ....C=0.5, penalty=l1, solver=saga;, score=0.712 total time=   0.0s\n",
      "[CV 1/5] END C=0.5, penalty=l2, solver=liblinear;, score=0.695 total time=   0.0s\n",
      "[CV 2/5] END C=0.5, penalty=l2, solver=liblinear;, score=0.674 total time=   0.0s\n",
      "[CV 3/5] END C=0.5, penalty=l2, solver=liblinear;, score=0.738 total time=   0.0s\n",
      "[CV 4/5] END C=0.5, penalty=l2, solver=liblinear;, score=0.717 total time=   0.0s\n",
      "[CV 5/5] END C=0.5, penalty=l2, solver=liblinear;, score=0.708 total time=   0.0s\n",
      "[CV 1/5] END C=0.5, penalty=l2, solver=newton-cg;, score=0.695 total time=   0.0s\n",
      "[CV 2/5] END C=0.5, penalty=l2, solver=newton-cg;, score=0.672 total time=   0.0s\n",
      "[CV 3/5] END C=0.5, penalty=l2, solver=newton-cg;, score=0.738 total time=   0.0s\n"
     ]
    },
    {
     "name": "stdout",
     "output_type": "stream",
     "text": [
      "[CV 4/5] END C=0.5, penalty=l2, solver=newton-cg;, score=0.719 total time=   0.0s\n",
      "[CV 5/5] END C=0.5, penalty=l2, solver=newton-cg;, score=0.705 total time=   0.0s\n",
      "[CV 1/5] END ...C=0.5, penalty=l2, solver=lbfgs;, score=0.695 total time=   0.0s\n",
      "[CV 2/5] END ...C=0.5, penalty=l2, solver=lbfgs;, score=0.672 total time=   0.0s\n",
      "[CV 3/5] END ...C=0.5, penalty=l2, solver=lbfgs;, score=0.738 total time=   0.0s\n",
      "[CV 4/5] END ...C=0.5, penalty=l2, solver=lbfgs;, score=0.719 total time=   0.0s\n",
      "[CV 5/5] END ...C=0.5, penalty=l2, solver=lbfgs;, score=0.705 total time=   0.0s\n",
      "[CV 1/5] END .....C=0.5, penalty=l2, solver=sag;, score=0.695 total time=   0.0s\n",
      "[CV 2/5] END .....C=0.5, penalty=l2, solver=sag;, score=0.672 total time=   0.0s\n",
      "[CV 3/5] END .....C=0.5, penalty=l2, solver=sag;, score=0.738 total time=   0.0s\n",
      "[CV 4/5] END .....C=0.5, penalty=l2, solver=sag;, score=0.719 total time=   0.0s\n",
      "[CV 5/5] END .....C=0.5, penalty=l2, solver=sag;, score=0.705 total time=   0.0s\n",
      "[CV 1/5] END ....C=0.5, penalty=l2, solver=saga;, score=0.695 total time=   0.0s\n",
      "[CV 2/5] END ....C=0.5, penalty=l2, solver=saga;, score=0.672 total time=   0.0s\n",
      "[CV 3/5] END ....C=0.5, penalty=l2, solver=saga;, score=0.738 total time=   0.0s\n",
      "[CV 4/5] END ....C=0.5, penalty=l2, solver=saga;, score=0.719 total time=   0.0s\n",
      "[CV 5/5] END ....C=0.5, penalty=l2, solver=saga;, score=0.705 total time=   0.0s\n",
      "[CV 1/5] END C=0.5, penalty=elasticnet, solver=liblinear;, score=nan total time=   0.0s\n",
      "[CV 2/5] END C=0.5, penalty=elasticnet, solver=liblinear;, score=nan total time=   0.0s\n",
      "[CV 3/5] END C=0.5, penalty=elasticnet, solver=liblinear;, score=nan total time=   0.0s\n",
      "[CV 4/5] END C=0.5, penalty=elasticnet, solver=liblinear;, score=nan total time=   0.0s\n",
      "[CV 5/5] END C=0.5, penalty=elasticnet, solver=liblinear;, score=nan total time=   0.0s\n",
      "[CV 1/5] END C=0.5, penalty=elasticnet, solver=newton-cg;, score=nan total time=   0.0s\n",
      "[CV 2/5] END C=0.5, penalty=elasticnet, solver=newton-cg;, score=nan total time=   0.0s\n",
      "[CV 3/5] END C=0.5, penalty=elasticnet, solver=newton-cg;, score=nan total time=   0.0s\n",
      "[CV 4/5] END C=0.5, penalty=elasticnet, solver=newton-cg;, score=nan total time=   0.0s\n",
      "[CV 5/5] END C=0.5, penalty=elasticnet, solver=newton-cg;, score=nan total time=   0.0s\n",
      "[CV 1/5] END C=0.5, penalty=elasticnet, solver=lbfgs;, score=nan total time=   0.0s\n",
      "[CV 2/5] END C=0.5, penalty=elasticnet, solver=lbfgs;, score=nan total time=   0.0s\n",
      "[CV 3/5] END C=0.5, penalty=elasticnet, solver=lbfgs;, score=nan total time=   0.0s\n",
      "[CV 4/5] END C=0.5, penalty=elasticnet, solver=lbfgs;, score=nan total time=   0.0s\n",
      "[CV 5/5] END C=0.5, penalty=elasticnet, solver=lbfgs;, score=nan total time=   0.0s\n",
      "[CV 1/5] END C=0.5, penalty=elasticnet, solver=sag;, score=nan total time=   0.0s\n",
      "[CV 2/5] END C=0.5, penalty=elasticnet, solver=sag;, score=nan total time=   0.0s\n",
      "[CV 3/5] END C=0.5, penalty=elasticnet, solver=sag;, score=nan total time=   0.0s\n",
      "[CV 4/5] END C=0.5, penalty=elasticnet, solver=sag;, score=nan total time=   0.0s\n",
      "[CV 5/5] END C=0.5, penalty=elasticnet, solver=sag;, score=nan total time=   0.0s\n",
      "[CV 1/5] END C=0.5, penalty=elasticnet, solver=saga;, score=nan total time=   0.0s\n",
      "[CV 2/5] END C=0.5, penalty=elasticnet, solver=saga;, score=nan total time=   0.0s\n",
      "[CV 3/5] END C=0.5, penalty=elasticnet, solver=saga;, score=nan total time=   0.0s\n",
      "[CV 4/5] END C=0.5, penalty=elasticnet, solver=saga;, score=nan total time=   0.0s\n",
      "[CV 5/5] END C=0.5, penalty=elasticnet, solver=saga;, score=nan total time=   0.0s\n",
      "[CV 1/5] END C=0.5, penalty=none, solver=liblinear;, score=nan total time=   0.0s\n",
      "[CV 2/5] END C=0.5, penalty=none, solver=liblinear;, score=nan total time=   0.0s\n",
      "[CV 3/5] END C=0.5, penalty=none, solver=liblinear;, score=nan total time=   0.0s\n",
      "[CV 4/5] END C=0.5, penalty=none, solver=liblinear;, score=nan total time=   0.0s\n",
      "[CV 5/5] END C=0.5, penalty=none, solver=liblinear;, score=nan total time=   0.0s\n",
      "[CV 1/5] END C=0.5, penalty=none, solver=newton-cg;, score=0.696 total time=   0.0s\n",
      "[CV 2/5] END C=0.5, penalty=none, solver=newton-cg;, score=0.670 total time=   0.0s\n",
      "[CV 3/5] END C=0.5, penalty=none, solver=newton-cg;, score=0.736 total time=   0.0s\n",
      "[CV 4/5] END C=0.5, penalty=none, solver=newton-cg;, score=0.721 total time=   0.0s\n",
      "[CV 5/5] END C=0.5, penalty=none, solver=newton-cg;, score=0.705 total time=   0.0s\n",
      "[CV 1/5] END .C=0.5, penalty=none, solver=lbfgs;, score=0.696 total time=   0.0s\n",
      "[CV 2/5] END .C=0.5, penalty=none, solver=lbfgs;, score=0.670 total time=   0.0s\n",
      "[CV 3/5] END .C=0.5, penalty=none, solver=lbfgs;, score=0.736 total time=   0.0s\n",
      "[CV 4/5] END .C=0.5, penalty=none, solver=lbfgs;, score=0.721 total time=   0.0s\n",
      "[CV 5/5] END .C=0.5, penalty=none, solver=lbfgs;, score=0.705 total time=   0.0s\n",
      "[CV 1/5] END ...C=0.5, penalty=none, solver=sag;, score=0.696 total time=   0.0s\n",
      "[CV 2/5] END ...C=0.5, penalty=none, solver=sag;, score=0.670 total time=   0.0s\n",
      "[CV 3/5] END ...C=0.5, penalty=none, solver=sag;, score=0.736 total time=   0.0s\n",
      "[CV 4/5] END ...C=0.5, penalty=none, solver=sag;, score=0.721 total time=   0.0s\n",
      "[CV 5/5] END ...C=0.5, penalty=none, solver=sag;, score=0.705 total time=   0.0s\n",
      "[CV 1/5] END ..C=0.5, penalty=none, solver=saga;, score=0.696 total time=   0.0s\n",
      "[CV 2/5] END ..C=0.5, penalty=none, solver=saga;, score=0.670 total time=   0.0s\n",
      "[CV 3/5] END ..C=0.5, penalty=none, solver=saga;, score=0.736 total time=   0.0s\n",
      "[CV 4/5] END ..C=0.5, penalty=none, solver=saga;, score=0.721 total time=   0.0s\n",
      "[CV 5/5] END ..C=0.5, penalty=none, solver=saga;, score=0.705 total time=   0.0s\n",
      "[CV 1/5] END .C=1, penalty=l1, solver=liblinear;, score=0.696 total time=   0.0s\n",
      "[CV 2/5] END .C=1, penalty=l1, solver=liblinear;, score=0.670 total time=   0.0s\n",
      "[CV 3/5] END .C=1, penalty=l1, solver=liblinear;, score=0.736 total time=   0.0s\n",
      "[CV 4/5] END .C=1, penalty=l1, solver=liblinear;, score=0.717 total time=   0.0s\n",
      "[CV 5/5] END .C=1, penalty=l1, solver=liblinear;, score=0.710 total time=   0.0s\n",
      "[CV 1/5] END ...C=1, penalty=l1, solver=newton-cg;, score=nan total time=   0.0s\n",
      "[CV 2/5] END ...C=1, penalty=l1, solver=newton-cg;, score=nan total time=   0.0s\n",
      "[CV 3/5] END ...C=1, penalty=l1, solver=newton-cg;, score=nan total time=   0.0s\n",
      "[CV 4/5] END ...C=1, penalty=l1, solver=newton-cg;, score=nan total time=   0.0s\n",
      "[CV 5/5] END ...C=1, penalty=l1, solver=newton-cg;, score=nan total time=   0.0s\n",
      "[CV 1/5] END .......C=1, penalty=l1, solver=lbfgs;, score=nan total time=   0.0s\n",
      "[CV 2/5] END .......C=1, penalty=l1, solver=lbfgs;, score=nan total time=   0.0s\n",
      "[CV 3/5] END .......C=1, penalty=l1, solver=lbfgs;, score=nan total time=   0.0s\n",
      "[CV 4/5] END .......C=1, penalty=l1, solver=lbfgs;, score=nan total time=   0.0s\n",
      "[CV 5/5] END .......C=1, penalty=l1, solver=lbfgs;, score=nan total time=   0.0s\n",
      "[CV 1/5] END .........C=1, penalty=l1, solver=sag;, score=nan total time=   0.0s\n",
      "[CV 2/5] END .........C=1, penalty=l1, solver=sag;, score=nan total time=   0.0s\n",
      "[CV 3/5] END .........C=1, penalty=l1, solver=sag;, score=nan total time=   0.0s\n",
      "[CV 4/5] END .........C=1, penalty=l1, solver=sag;, score=nan total time=   0.0s\n",
      "[CV 5/5] END .........C=1, penalty=l1, solver=sag;, score=nan total time=   0.0s\n",
      "[CV 1/5] END ......C=1, penalty=l1, solver=saga;, score=0.696 total time=   0.0s\n",
      "[CV 2/5] END ......C=1, penalty=l1, solver=saga;, score=0.670 total time=   0.0s\n",
      "[CV 3/5] END ......C=1, penalty=l1, solver=saga;, score=0.736 total time=   0.0s\n",
      "[CV 4/5] END ......C=1, penalty=l1, solver=saga;, score=0.717 total time=   0.0s\n",
      "[CV 5/5] END ......C=1, penalty=l1, solver=saga;, score=0.708 total time=   0.0s\n",
      "[CV 1/5] END .C=1, penalty=l2, solver=liblinear;, score=0.696 total time=   0.0s\n",
      "[CV 2/5] END .C=1, penalty=l2, solver=liblinear;, score=0.670 total time=   0.0s\n",
      "[CV 3/5] END .C=1, penalty=l2, solver=liblinear;, score=0.738 total time=   0.0s\n",
      "[CV 4/5] END .C=1, penalty=l2, solver=liblinear;, score=0.719 total time=   0.0s\n",
      "[CV 5/5] END .C=1, penalty=l2, solver=liblinear;, score=0.705 total time=   0.0s\n",
      "[CV 1/5] END .C=1, penalty=l2, solver=newton-cg;, score=0.695 total time=   0.0s\n",
      "[CV 2/5] END .C=1, penalty=l2, solver=newton-cg;, score=0.670 total time=   0.0s\n",
      "[CV 3/5] END .C=1, penalty=l2, solver=newton-cg;, score=0.736 total time=   0.0s\n",
      "[CV 4/5] END .C=1, penalty=l2, solver=newton-cg;, score=0.721 total time=   0.0s\n",
      "[CV 5/5] END .C=1, penalty=l2, solver=newton-cg;, score=0.705 total time=   0.0s\n",
      "[CV 1/5] END .....C=1, penalty=l2, solver=lbfgs;, score=0.695 total time=   0.0s\n"
     ]
    },
    {
     "name": "stdout",
     "output_type": "stream",
     "text": [
      "[CV 2/5] END .....C=1, penalty=l2, solver=lbfgs;, score=0.670 total time=   0.0s\n",
      "[CV 3/5] END .....C=1, penalty=l2, solver=lbfgs;, score=0.736 total time=   0.0s\n",
      "[CV 4/5] END .....C=1, penalty=l2, solver=lbfgs;, score=0.721 total time=   0.0s\n",
      "[CV 5/5] END .....C=1, penalty=l2, solver=lbfgs;, score=0.705 total time=   0.0s\n",
      "[CV 1/5] END .......C=1, penalty=l2, solver=sag;, score=0.695 total time=   0.0s\n",
      "[CV 2/5] END .......C=1, penalty=l2, solver=sag;, score=0.670 total time=   0.0s\n",
      "[CV 3/5] END .......C=1, penalty=l2, solver=sag;, score=0.736 total time=   0.0s\n",
      "[CV 4/5] END .......C=1, penalty=l2, solver=sag;, score=0.721 total time=   0.0s\n",
      "[CV 5/5] END .......C=1, penalty=l2, solver=sag;, score=0.705 total time=   0.0s\n",
      "[CV 1/5] END ......C=1, penalty=l2, solver=saga;, score=0.695 total time=   0.0s\n",
      "[CV 2/5] END ......C=1, penalty=l2, solver=saga;, score=0.670 total time=   0.0s\n",
      "[CV 3/5] END ......C=1, penalty=l2, solver=saga;, score=0.736 total time=   0.0s\n",
      "[CV 4/5] END ......C=1, penalty=l2, solver=saga;, score=0.721 total time=   0.0s\n",
      "[CV 5/5] END ......C=1, penalty=l2, solver=saga;, score=0.705 total time=   0.0s\n",
      "[CV 1/5] END C=1, penalty=elasticnet, solver=liblinear;, score=nan total time=   0.0s\n",
      "[CV 2/5] END C=1, penalty=elasticnet, solver=liblinear;, score=nan total time=   0.0s\n",
      "[CV 3/5] END C=1, penalty=elasticnet, solver=liblinear;, score=nan total time=   0.0s\n",
      "[CV 4/5] END C=1, penalty=elasticnet, solver=liblinear;, score=nan total time=   0.0s\n",
      "[CV 5/5] END C=1, penalty=elasticnet, solver=liblinear;, score=nan total time=   0.0s\n",
      "[CV 1/5] END C=1, penalty=elasticnet, solver=newton-cg;, score=nan total time=   0.0s\n",
      "[CV 2/5] END C=1, penalty=elasticnet, solver=newton-cg;, score=nan total time=   0.0s\n",
      "[CV 3/5] END C=1, penalty=elasticnet, solver=newton-cg;, score=nan total time=   0.0s\n",
      "[CV 4/5] END C=1, penalty=elasticnet, solver=newton-cg;, score=nan total time=   0.0s\n",
      "[CV 5/5] END C=1, penalty=elasticnet, solver=newton-cg;, score=nan total time=   0.0s\n",
      "[CV 1/5] END C=1, penalty=elasticnet, solver=lbfgs;, score=nan total time=   0.0s\n",
      "[CV 2/5] END C=1, penalty=elasticnet, solver=lbfgs;, score=nan total time=   0.0s\n",
      "[CV 3/5] END C=1, penalty=elasticnet, solver=lbfgs;, score=nan total time=   0.0s\n",
      "[CV 4/5] END C=1, penalty=elasticnet, solver=lbfgs;, score=nan total time=   0.0s\n",
      "[CV 5/5] END C=1, penalty=elasticnet, solver=lbfgs;, score=nan total time=   0.0s\n",
      "[CV 1/5] END .C=1, penalty=elasticnet, solver=sag;, score=nan total time=   0.0s\n",
      "[CV 2/5] END .C=1, penalty=elasticnet, solver=sag;, score=nan total time=   0.0s\n",
      "[CV 3/5] END .C=1, penalty=elasticnet, solver=sag;, score=nan total time=   0.0s\n",
      "[CV 4/5] END .C=1, penalty=elasticnet, solver=sag;, score=nan total time=   0.0s\n",
      "[CV 5/5] END .C=1, penalty=elasticnet, solver=sag;, score=nan total time=   0.0s\n",
      "[CV 1/5] END C=1, penalty=elasticnet, solver=saga;, score=nan total time=   0.0s\n",
      "[CV 2/5] END C=1, penalty=elasticnet, solver=saga;, score=nan total time=   0.0s\n",
      "[CV 3/5] END C=1, penalty=elasticnet, solver=saga;, score=nan total time=   0.0s\n",
      "[CV 4/5] END C=1, penalty=elasticnet, solver=saga;, score=nan total time=   0.0s\n",
      "[CV 5/5] END C=1, penalty=elasticnet, solver=saga;, score=nan total time=   0.0s\n",
      "[CV 1/5] END .C=1, penalty=none, solver=liblinear;, score=nan total time=   0.0s\n",
      "[CV 2/5] END .C=1, penalty=none, solver=liblinear;, score=nan total time=   0.0s\n",
      "[CV 3/5] END .C=1, penalty=none, solver=liblinear;, score=nan total time=   0.0s\n",
      "[CV 4/5] END .C=1, penalty=none, solver=liblinear;, score=nan total time=   0.0s\n",
      "[CV 5/5] END .C=1, penalty=none, solver=liblinear;, score=nan total time=   0.0s\n",
      "[CV 1/5] END C=1, penalty=none, solver=newton-cg;, score=0.696 total time=   0.0s\n",
      "[CV 2/5] END C=1, penalty=none, solver=newton-cg;, score=0.670 total time=   0.0s\n",
      "[CV 3/5] END C=1, penalty=none, solver=newton-cg;, score=0.736 total time=   0.0s\n",
      "[CV 4/5] END C=1, penalty=none, solver=newton-cg;, score=0.721 total time=   0.0s\n",
      "[CV 5/5] END C=1, penalty=none, solver=newton-cg;, score=0.705 total time=   0.0s\n",
      "[CV 1/5] END ...C=1, penalty=none, solver=lbfgs;, score=0.696 total time=   0.0s\n",
      "[CV 2/5] END ...C=1, penalty=none, solver=lbfgs;, score=0.670 total time=   0.0s\n",
      "[CV 3/5] END ...C=1, penalty=none, solver=lbfgs;, score=0.736 total time=   0.0s\n",
      "[CV 4/5] END ...C=1, penalty=none, solver=lbfgs;, score=0.721 total time=   0.0s\n",
      "[CV 5/5] END ...C=1, penalty=none, solver=lbfgs;, score=0.705 total time=   0.0s\n",
      "[CV 1/5] END .....C=1, penalty=none, solver=sag;, score=0.696 total time=   0.0s\n",
      "[CV 2/5] END .....C=1, penalty=none, solver=sag;, score=0.670 total time=   0.0s\n",
      "[CV 3/5] END .....C=1, penalty=none, solver=sag;, score=0.736 total time=   0.0s\n",
      "[CV 4/5] END .....C=1, penalty=none, solver=sag;, score=0.721 total time=   0.0s\n",
      "[CV 5/5] END .....C=1, penalty=none, solver=sag;, score=0.705 total time=   0.0s\n",
      "[CV 1/5] END ....C=1, penalty=none, solver=saga;, score=0.696 total time=   0.0s\n",
      "[CV 2/5] END ....C=1, penalty=none, solver=saga;, score=0.670 total time=   0.0s\n",
      "[CV 3/5] END ....C=1, penalty=none, solver=saga;, score=0.736 total time=   0.0s\n",
      "[CV 4/5] END ....C=1, penalty=none, solver=saga;, score=0.721 total time=   0.0s\n",
      "[CV 5/5] END ....C=1, penalty=none, solver=saga;, score=0.705 total time=   0.0s\n",
      "[CV 1/5] END .C=5, penalty=l1, solver=liblinear;, score=0.696 total time=   0.0s\n",
      "[CV 2/5] END .C=5, penalty=l1, solver=liblinear;, score=0.670 total time=   0.0s\n",
      "[CV 3/5] END .C=5, penalty=l1, solver=liblinear;, score=0.738 total time=   0.0s\n",
      "[CV 4/5] END .C=5, penalty=l1, solver=liblinear;, score=0.717 total time=   0.0s\n",
      "[CV 5/5] END .C=5, penalty=l1, solver=liblinear;, score=0.705 total time=   0.0s\n",
      "[CV 1/5] END ...C=5, penalty=l1, solver=newton-cg;, score=nan total time=   0.0s\n",
      "[CV 2/5] END ...C=5, penalty=l1, solver=newton-cg;, score=nan total time=   0.0s\n",
      "[CV 3/5] END ...C=5, penalty=l1, solver=newton-cg;, score=nan total time=   0.0s\n",
      "[CV 4/5] END ...C=5, penalty=l1, solver=newton-cg;, score=nan total time=   0.0s\n",
      "[CV 5/5] END ...C=5, penalty=l1, solver=newton-cg;, score=nan total time=   0.0s\n",
      "[CV 1/5] END .......C=5, penalty=l1, solver=lbfgs;, score=nan total time=   0.0s\n",
      "[CV 2/5] END .......C=5, penalty=l1, solver=lbfgs;, score=nan total time=   0.0s\n",
      "[CV 3/5] END .......C=5, penalty=l1, solver=lbfgs;, score=nan total time=   0.0s\n",
      "[CV 4/5] END .......C=5, penalty=l1, solver=lbfgs;, score=nan total time=   0.0s\n",
      "[CV 5/5] END .......C=5, penalty=l1, solver=lbfgs;, score=nan total time=   0.0s\n",
      "[CV 1/5] END .........C=5, penalty=l1, solver=sag;, score=nan total time=   0.0s\n",
      "[CV 2/5] END .........C=5, penalty=l1, solver=sag;, score=nan total time=   0.0s\n",
      "[CV 3/5] END .........C=5, penalty=l1, solver=sag;, score=nan total time=   0.0s\n",
      "[CV 4/5] END .........C=5, penalty=l1, solver=sag;, score=nan total time=   0.0s\n",
      "[CV 5/5] END .........C=5, penalty=l1, solver=sag;, score=nan total time=   0.0s\n",
      "[CV 1/5] END ......C=5, penalty=l1, solver=saga;, score=0.696 total time=   0.0s\n",
      "[CV 2/5] END ......C=5, penalty=l1, solver=saga;, score=0.670 total time=   0.0s\n",
      "[CV 3/5] END ......C=5, penalty=l1, solver=saga;, score=0.738 total time=   0.0s\n",
      "[CV 4/5] END ......C=5, penalty=l1, solver=saga;, score=0.719 total time=   0.0s\n",
      "[CV 5/5] END ......C=5, penalty=l1, solver=saga;, score=0.705 total time=   0.0s\n",
      "[CV 1/5] END .C=5, penalty=l2, solver=liblinear;, score=0.696 total time=   0.0s\n",
      "[CV 2/5] END .C=5, penalty=l2, solver=liblinear;, score=0.670 total time=   0.0s\n",
      "[CV 3/5] END .C=5, penalty=l2, solver=liblinear;, score=0.736 total time=   0.0s\n",
      "[CV 4/5] END .C=5, penalty=l2, solver=liblinear;, score=0.719 total time=   0.0s\n",
      "[CV 5/5] END .C=5, penalty=l2, solver=liblinear;, score=0.705 total time=   0.0s\n",
      "[CV 1/5] END .C=5, penalty=l2, solver=newton-cg;, score=0.696 total time=   0.0s\n",
      "[CV 2/5] END .C=5, penalty=l2, solver=newton-cg;, score=0.670 total time=   0.0s\n",
      "[CV 3/5] END .C=5, penalty=l2, solver=newton-cg;, score=0.736 total time=   0.0s\n",
      "[CV 4/5] END .C=5, penalty=l2, solver=newton-cg;, score=0.721 total time=   0.0s\n",
      "[CV 5/5] END .C=5, penalty=l2, solver=newton-cg;, score=0.705 total time=   0.0s\n",
      "[CV 1/5] END .....C=5, penalty=l2, solver=lbfgs;, score=0.696 total time=   0.0s\n",
      "[CV 2/5] END .....C=5, penalty=l2, solver=lbfgs;, score=0.670 total time=   0.0s\n",
      "[CV 3/5] END .....C=5, penalty=l2, solver=lbfgs;, score=0.736 total time=   0.0s\n",
      "[CV 4/5] END .....C=5, penalty=l2, solver=lbfgs;, score=0.721 total time=   0.0s\n",
      "[CV 5/5] END .....C=5, penalty=l2, solver=lbfgs;, score=0.705 total time=   0.0s\n",
      "[CV 1/5] END .......C=5, penalty=l2, solver=sag;, score=0.696 total time=   0.0s\n"
     ]
    },
    {
     "name": "stdout",
     "output_type": "stream",
     "text": [
      "[CV 2/5] END .......C=5, penalty=l2, solver=sag;, score=0.670 total time=   0.0s\n",
      "[CV 3/5] END .......C=5, penalty=l2, solver=sag;, score=0.736 total time=   0.0s\n",
      "[CV 4/5] END .......C=5, penalty=l2, solver=sag;, score=0.721 total time=   0.0s\n",
      "[CV 5/5] END .......C=5, penalty=l2, solver=sag;, score=0.705 total time=   0.0s\n",
      "[CV 1/5] END ......C=5, penalty=l2, solver=saga;, score=0.696 total time=   0.0s\n",
      "[CV 2/5] END ......C=5, penalty=l2, solver=saga;, score=0.670 total time=   0.0s\n",
      "[CV 3/5] END ......C=5, penalty=l2, solver=saga;, score=0.736 total time=   0.0s\n",
      "[CV 4/5] END ......C=5, penalty=l2, solver=saga;, score=0.721 total time=   0.0s\n",
      "[CV 5/5] END ......C=5, penalty=l2, solver=saga;, score=0.705 total time=   0.0s\n",
      "[CV 1/5] END C=5, penalty=elasticnet, solver=liblinear;, score=nan total time=   0.0s\n",
      "[CV 2/5] END C=5, penalty=elasticnet, solver=liblinear;, score=nan total time=   0.0s\n",
      "[CV 3/5] END C=5, penalty=elasticnet, solver=liblinear;, score=nan total time=   0.0s\n",
      "[CV 4/5] END C=5, penalty=elasticnet, solver=liblinear;, score=nan total time=   0.0s\n",
      "[CV 5/5] END C=5, penalty=elasticnet, solver=liblinear;, score=nan total time=   0.0s\n",
      "[CV 1/5] END C=5, penalty=elasticnet, solver=newton-cg;, score=nan total time=   0.0s\n",
      "[CV 2/5] END C=5, penalty=elasticnet, solver=newton-cg;, score=nan total time=   0.0s\n",
      "[CV 3/5] END C=5, penalty=elasticnet, solver=newton-cg;, score=nan total time=   0.0s\n",
      "[CV 4/5] END C=5, penalty=elasticnet, solver=newton-cg;, score=nan total time=   0.0s\n",
      "[CV 5/5] END C=5, penalty=elasticnet, solver=newton-cg;, score=nan total time=   0.0s\n",
      "[CV 1/5] END C=5, penalty=elasticnet, solver=lbfgs;, score=nan total time=   0.0s\n",
      "[CV 2/5] END C=5, penalty=elasticnet, solver=lbfgs;, score=nan total time=   0.0s\n",
      "[CV 3/5] END C=5, penalty=elasticnet, solver=lbfgs;, score=nan total time=   0.0s\n",
      "[CV 4/5] END C=5, penalty=elasticnet, solver=lbfgs;, score=nan total time=   0.0s\n",
      "[CV 5/5] END C=5, penalty=elasticnet, solver=lbfgs;, score=nan total time=   0.0s\n",
      "[CV 1/5] END .C=5, penalty=elasticnet, solver=sag;, score=nan total time=   0.0s\n",
      "[CV 2/5] END .C=5, penalty=elasticnet, solver=sag;, score=nan total time=   0.0s\n",
      "[CV 3/5] END .C=5, penalty=elasticnet, solver=sag;, score=nan total time=   0.0s\n",
      "[CV 4/5] END .C=5, penalty=elasticnet, solver=sag;, score=nan total time=   0.0s\n",
      "[CV 5/5] END .C=5, penalty=elasticnet, solver=sag;, score=nan total time=   0.0s\n",
      "[CV 1/5] END C=5, penalty=elasticnet, solver=saga;, score=nan total time=   0.0s\n",
      "[CV 2/5] END C=5, penalty=elasticnet, solver=saga;, score=nan total time=   0.0s\n",
      "[CV 3/5] END C=5, penalty=elasticnet, solver=saga;, score=nan total time=   0.0s\n",
      "[CV 4/5] END C=5, penalty=elasticnet, solver=saga;, score=nan total time=   0.0s\n",
      "[CV 5/5] END C=5, penalty=elasticnet, solver=saga;, score=nan total time=   0.0s\n",
      "[CV 1/5] END .C=5, penalty=none, solver=liblinear;, score=nan total time=   0.0s\n",
      "[CV 2/5] END .C=5, penalty=none, solver=liblinear;, score=nan total time=   0.0s\n",
      "[CV 3/5] END .C=5, penalty=none, solver=liblinear;, score=nan total time=   0.0s\n",
      "[CV 4/5] END .C=5, penalty=none, solver=liblinear;, score=nan total time=   0.0s\n",
      "[CV 5/5] END .C=5, penalty=none, solver=liblinear;, score=nan total time=   0.0s\n",
      "[CV 1/5] END C=5, penalty=none, solver=newton-cg;, score=0.696 total time=   0.0s\n",
      "[CV 2/5] END C=5, penalty=none, solver=newton-cg;, score=0.670 total time=   0.0s\n",
      "[CV 3/5] END C=5, penalty=none, solver=newton-cg;, score=0.736 total time=   0.0s\n",
      "[CV 4/5] END C=5, penalty=none, solver=newton-cg;, score=0.721 total time=   0.0s\n",
      "[CV 5/5] END C=5, penalty=none, solver=newton-cg;, score=0.705 total time=   0.0s\n",
      "[CV 1/5] END ...C=5, penalty=none, solver=lbfgs;, score=0.696 total time=   0.0s\n",
      "[CV 2/5] END ...C=5, penalty=none, solver=lbfgs;, score=0.670 total time=   0.0s\n",
      "[CV 3/5] END ...C=5, penalty=none, solver=lbfgs;, score=0.736 total time=   0.0s\n",
      "[CV 4/5] END ...C=5, penalty=none, solver=lbfgs;, score=0.721 total time=   0.0s\n",
      "[CV 5/5] END ...C=5, penalty=none, solver=lbfgs;, score=0.705 total time=   0.0s\n",
      "[CV 1/5] END .....C=5, penalty=none, solver=sag;, score=0.696 total time=   0.0s\n",
      "[CV 2/5] END .....C=5, penalty=none, solver=sag;, score=0.670 total time=   0.0s\n",
      "[CV 3/5] END .....C=5, penalty=none, solver=sag;, score=0.736 total time=   0.0s\n",
      "[CV 4/5] END .....C=5, penalty=none, solver=sag;, score=0.721 total time=   0.0s\n",
      "[CV 5/5] END .....C=5, penalty=none, solver=sag;, score=0.705 total time=   0.0s\n",
      "[CV 1/5] END ....C=5, penalty=none, solver=saga;, score=0.696 total time=   0.0s\n",
      "[CV 2/5] END ....C=5, penalty=none, solver=saga;, score=0.670 total time=   0.0s\n",
      "[CV 3/5] END ....C=5, penalty=none, solver=saga;, score=0.736 total time=   0.0s\n",
      "[CV 4/5] END ....C=5, penalty=none, solver=saga;, score=0.721 total time=   0.0s\n",
      "[CV 5/5] END ....C=5, penalty=none, solver=saga;, score=0.705 total time=   0.0s\n"
     ]
    },
    {
     "data": {
      "text/plain": [
       "GridSearchCV(cv=5, estimator=LogisticRegression(random_state=123),\n",
       "             param_grid={'C': [0.01, 0.05, 0.1, 0.5, 1, 5],\n",
       "                         'penalty': ['l1', 'l2', 'elasticnet', 'none'],\n",
       "                         'solver': ['liblinear', 'newton-cg', 'lbfgs', 'sag',\n",
       "                                    'saga']},\n",
       "             scoring='accuracy', verbose=3)"
      ]
     },
     "execution_count": 13,
     "metadata": {},
     "output_type": "execute_result"
    }
   ],
   "source": [
    "#Fitting Model lr grid\n",
    "lr_grid.fit(X_rus_clean, y_rus)"
   ]
  },
  {
   "cell_type": "code",
   "execution_count": 14,
   "id": "c5fe0146",
   "metadata": {},
   "outputs": [
    {
     "name": "stdout",
     "output_type": "stream",
     "text": [
      "{'C': 0.01, 'penalty': 'l2', 'solver': 'liblinear'}\n"
     ]
    }
   ],
   "source": [
    "#Melihat parameter terbaik untuk model\n",
    "print(lr_grid.best_params_)"
   ]
  },
  {
   "cell_type": "code",
   "execution_count": 15,
   "id": "1515c8a7",
   "metadata": {},
   "outputs": [
    {
     "data": {
      "text/plain": [
       "LogisticRegression(C=0.01, solver='liblinear')"
      ]
     },
     "execution_count": 15,
     "metadata": {},
     "output_type": "execute_result"
    }
   ],
   "source": [
    "#Input parameter terbaik hasil GridsearchCV\n",
    "lr_grid_cv  = LogisticRegression(C = lr_grid.best_params_[\"C\"],\n",
    "                                 penalty = lr_grid.best_params_[\"penalty\"],\n",
    "                                 solver = lr_grid.best_params_[\"solver\"])\n",
    "\n",
    "#Kembali fitting model\n",
    "lr_grid_cv.fit(X_rus_clean, y_rus)"
   ]
  },
  {
   "cell_type": "code",
   "execution_count": 16,
   "id": "a612f2ec",
   "metadata": {},
   "outputs": [
    {
     "name": "stdout",
     "output_type": "stream",
     "text": [
      "Training Data Score: 0.714036312849162\n",
      "Validating Data Score: 0.6775\n",
      "Testing Data Score: 0.6816666666666666\n"
     ]
    }
   ],
   "source": [
    "print(f\"Training Data Score: {lr_grid_cv.score(X_rus_clean, y_rus)}\")\n",
    "print(f\"Validating Data Score: {lr_grid_cv.score(X_valid_clean, y_valid)}\")\n",
    "print(f\"Testing Data Score: {lr_grid_cv.score(X_test_clean, y_test)}\")"
   ]
  },
  {
   "cell_type": "code",
   "execution_count": 17,
   "id": "cc86cd15",
   "metadata": {},
   "outputs": [],
   "source": [
    "#Prediksi dengan menggunakan data test\n",
    "logregtun_pred = lr_grid_cv.predict(X_test_clean)"
   ]
  },
  {
   "cell_type": "code",
   "execution_count": 18,
   "id": "ddcdcfb0",
   "metadata": {},
   "outputs": [
    {
     "name": "stdout",
     "output_type": "stream",
     "text": [
      "              precision    recall  f1-score   support\n",
      "\n",
      "           0       0.92      0.66      0.77      1424\n",
      "           1       0.37      0.78      0.50       376\n",
      "\n",
      "    accuracy                           0.68      1800\n",
      "   macro avg       0.65      0.72      0.64      1800\n",
      "weighted avg       0.80      0.68      0.71      1800\n",
      "\n"
     ]
    }
   ],
   "source": [
    "#Melihat Classification report\n",
    "print(classification_report(y_test, logregtun_pred, labels=[0,1]))"
   ]
  },
  {
   "cell_type": "code",
   "execution_count": 19,
   "id": "a1903b9c",
   "metadata": {},
   "outputs": [
    {
     "data": {
      "image/png": "[encoded data removed]",
      "text/plain": [
       "<Figure size 432x288 with 2 Axes>"
      ]
     },
     "metadata": {
      "needs_background": "light"
     },
     "output_type": "display_data"
    }
   ],
   "source": [
    "ConfusionMatrixDisplay.from_predictions(y_test, logregtun_pred, display_labels = [False, True])\n",
    "plt.show()"
   ]
  },
  {
   "cell_type": "markdown",
   "id": "21d6311b",
   "metadata": {},
   "source": [
    "## Support Vector Classifier"
   ]
  },
  {
   "cell_type": "code",
   "execution_count": 20,
   "id": "867c56d2",
   "metadata": {},
   "outputs": [],
   "source": [
    "svc_ori = SVC(random_state = 123)"
   ]
  },
  {
   "cell_type": "code",
   "execution_count": 21,
   "id": "e5de88f3",
   "metadata": {},
   "outputs": [
    {
     "data": {
      "text/plain": [
       "SVC(random_state=123)"
      ]
     },
     "execution_count": 21,
     "metadata": {},
     "output_type": "execute_result"
    }
   ],
   "source": [
    "# fit Support Vector Classifier\n",
    "svc_ori.fit(X_rus_clean, y_rus)"
   ]
  },
  {
   "cell_type": "code",
   "execution_count": 22,
   "id": "299535e7",
   "metadata": {},
   "outputs": [
    {
     "data": {
      "text/plain": [
       "0.799231843575419"
      ]
     },
     "execution_count": 22,
     "metadata": {},
     "output_type": "execute_result"
    }
   ],
   "source": [
    "#Cek Score model SVC\n",
    "svc_ori.score(X_rus_clean, y_rus)"
   ]
  },
  {
   "cell_type": "code",
   "execution_count": 23,
   "id": "cd127cf3",
   "metadata": {},
   "outputs": [],
   "source": [
    "svc_predict = svc_ori.predict(X_test_clean)"
   ]
  },
  {
   "cell_type": "code",
   "execution_count": 24,
   "id": "bc2baaa0",
   "metadata": {},
   "outputs": [
    {
     "name": "stdout",
     "output_type": "stream",
     "text": [
      "              precision    recall  f1-score   support\n",
      "\n",
      "           0       0.93      0.73      0.82      1424\n",
      "           1       0.44      0.80      0.57       376\n",
      "\n",
      "    accuracy                           0.75      1800\n",
      "   macro avg       0.69      0.77      0.70      1800\n",
      "weighted avg       0.83      0.75      0.77      1800\n",
      "\n"
     ]
    }
   ],
   "source": [
    "print(classification_report(y_test, svc_predict, labels=[0,1]))"
   ]
  },
  {
   "cell_type": "code",
   "execution_count": 25,
   "id": "be978df3",
   "metadata": {},
   "outputs": [
    {
     "name": "stdout",
     "output_type": "stream",
     "text": [
      "Training Data Score: 0.799231843575419\n",
      "Validating Data Score: 0.7358333333333333\n",
      "Testing Data Score: 0.7488888888888889\n"
     ]
    }
   ],
   "source": [
    "print(f\"Training Data Score: {svc_ori.score(X_rus_clean, y_rus)}\")\n",
    "print(f\"Validating Data Score: {svc_ori.score(X_valid_clean, y_valid)}\")\n",
    "print(f\"Testing Data Score: {svc_ori.score(X_test_clean, y_test)}\")"
   ]
  },
  {
   "cell_type": "markdown",
   "id": "1a26cdae",
   "metadata": {},
   "source": [
    "## Tuning Parameter SVC"
   ]
  },
  {
   "cell_type": "code",
   "execution_count": 26,
   "id": "5ce72ccc",
   "metadata": {},
   "outputs": [],
   "source": [
    "# Create the GridSearchCV model\n",
    "# Create the GridSearch estimator along with a parameter object containing the values to adjust\n",
    "param_grid = {'kernel' : ['linear', 'rbf', 'poly', 'sigmoid'],\n",
    "              'C': [0.0005,0.001, 0.01, 0.1, 0.5],\n",
    "              'gamma': ['scale', 'auto']\n",
    "             }"
   ]
  },
  {
   "cell_type": "code",
   "execution_count": 27,
   "id": "1b562945",
   "metadata": {},
   "outputs": [],
   "source": [
    "#Membentuk parameter untuk eksperimentasi\n",
    "svc_grid = GridSearchCV(SVC(random_state = 123), \n",
    "                        param_grid, \n",
    "                        verbose=3, \n",
    "                        cv= 5, \n",
    "                        n_jobs=4, \n",
    "                        scoring='accuracy')"
   ]
  },
  {
   "cell_type": "code",
   "execution_count": 28,
   "id": "9de15714",
   "metadata": {},
   "outputs": [
    {
     "name": "stdout",
     "output_type": "stream",
     "text": [
      "Fitting 5 folds for each of 40 candidates, totalling 200 fits\n"
     ]
    },
    {
     "data": {
      "text/plain": [
       "GridSearchCV(cv=5, estimator=SVC(random_state=123), n_jobs=4,\n",
       "             param_grid={'C': [0.0005, 0.001, 0.01, 0.1, 0.5],\n",
       "                         'gamma': ['scale', 'auto'],\n",
       "                         'kernel': ['linear', 'rbf', 'poly', 'sigmoid']},\n",
       "             scoring='accuracy', verbose=3)"
      ]
     },
     "execution_count": 28,
     "metadata": {},
     "output_type": "execute_result"
    }
   ],
   "source": [
    "#Melakukan fitting model gridsearchcv\n",
    "svc_grid.fit(X_rus_clean, y_rus)"
   ]
  },
  {
   "cell_type": "code",
   "execution_count": 29,
   "id": "2a1e17d3",
   "metadata": {},
   "outputs": [
    {
     "data": {
      "text/plain": [
       "{'C': 0.5, 'gamma': 'scale', 'kernel': 'rbf'}"
      ]
     },
     "execution_count": 29,
     "metadata": {},
     "output_type": "execute_result"
    }
   ],
   "source": [
    "#Melihat parameter terbaik\n",
    "svc_grid.best_params_"
   ]
  },
  {
   "cell_type": "code",
   "execution_count": 30,
   "id": "7061c62f",
   "metadata": {},
   "outputs": [],
   "source": [
    "#Melakukan input parameter terbaik hasil gridsearch\n",
    "svc_grid_cv  = SVC(kernel = svc_grid.best_params_[\"kernel\"],\n",
    "                   gamma = svc_grid.best_params_[\"gamma\"],\n",
    "                   C = svc_grid.best_params_[\"C\"]\n",
    "                  )"
   ]
  },
  {
   "cell_type": "code",
   "execution_count": 31,
   "id": "237e3db8",
   "metadata": {},
   "outputs": [
    {
     "data": {
      "text/plain": [
       "SVC(C=0.5)"
      ]
     },
     "execution_count": 31,
     "metadata": {},
     "output_type": "execute_result"
    }
   ],
   "source": [
    "svc_grid_cv.fit(X_rus_clean, y_rus)"
   ]
  },
  {
   "cell_type": "code",
   "execution_count": 32,
   "id": "ed628a25",
   "metadata": {},
   "outputs": [
    {
     "name": "stdout",
     "output_type": "stream",
     "text": [
      "Training Data Score: 0.7821229050279329\n",
      "Validating Data Score: 0.7158333333333333\n",
      "Testing Data Score: 0.7311111111111112\n"
     ]
    }
   ],
   "source": [
    "print(f\"Training Data Score: {svc_grid_cv.score(X_rus_clean, y_rus)}\")\n",
    "print(f\"Validating Data Score: {svc_grid_cv.score(X_valid_clean, y_valid)}\")\n",
    "print(f\"Testing Data Score: {svc_grid_cv.score(X_test_clean, y_test)}\")"
   ]
  },
  {
   "cell_type": "code",
   "execution_count": 33,
   "id": "3acaeca5",
   "metadata": {},
   "outputs": [],
   "source": [
    "svc_pred_cv = svc_grid_cv.predict(X_test_clean)"
   ]
  },
  {
   "cell_type": "code",
   "execution_count": 34,
   "id": "e2af5b83",
   "metadata": {},
   "outputs": [
    {
     "name": "stdout",
     "output_type": "stream",
     "text": [
      "              precision    recall  f1-score   support\n",
      "\n",
      "           0       0.94      0.71      0.81      1424\n",
      "           1       0.42      0.81      0.56       376\n",
      "\n",
      "    accuracy                           0.73      1800\n",
      "   macro avg       0.68      0.76      0.68      1800\n",
      "weighted avg       0.83      0.73      0.75      1800\n",
      "\n"
     ]
    }
   ],
   "source": [
    "print(classification_report(y_test, svc_pred_cv, labels=[0,1]))"
   ]
  },
  {
   "cell_type": "code",
   "execution_count": 35,
   "id": "a09ea284",
   "metadata": {},
   "outputs": [
    {
     "data": {
      "image/png": "[encoded data removed]",
      "text/plain": [
       "<Figure size 432x288 with 2 Axes>"
      ]
     },
     "metadata": {
      "needs_background": "light"
     },
     "output_type": "display_data"
    }
   ],
   "source": [
    "ConfusionMatrixDisplay.from_predictions(y_test, svc_pred_cv, display_labels = [False, True])\n",
    "plt.show()"
   ]
  },
  {
   "cell_type": "markdown",
   "id": "5828814a",
   "metadata": {},
   "source": [
    "## Decisiontree"
   ]
  },
  {
   "cell_type": "code",
   "execution_count": 36,
   "id": "b03b5770",
   "metadata": {},
   "outputs": [],
   "source": [
    "# Model Decision Tree\n",
    "decTree = DecisionTreeClassifier(random_state = 123)"
   ]
  },
  {
   "cell_type": "code",
   "execution_count": 37,
   "id": "b930980d",
   "metadata": {},
   "outputs": [
    {
     "data": {
      "text/plain": [
       "DecisionTreeClassifier(random_state=123)"
      ]
     },
     "execution_count": 37,
     "metadata": {},
     "output_type": "execute_result"
    }
   ],
   "source": [
    "# Fitting model\n",
    "decTree.fit(X_rus_clean, y_rus)"
   ]
  },
  {
   "cell_type": "code",
   "execution_count": 38,
   "id": "a4b617b2",
   "metadata": {},
   "outputs": [
    {
     "data": {
      "text/plain": [
       "1.0"
      ]
     },
     "execution_count": 38,
     "metadata": {},
     "output_type": "execute_result"
    }
   ],
   "source": [
    "# Model score\n",
    "decTree.score(X_rus_clean, y_rus)"
   ]
  },
  {
   "cell_type": "code",
   "execution_count": 39,
   "id": "bbdc03ed",
   "metadata": {},
   "outputs": [],
   "source": [
    "#Prediksi data menggunakan data test\n",
    "dectree_predict = decTree.predict(X_test_clean)"
   ]
  },
  {
   "cell_type": "code",
   "execution_count": 40,
   "id": "8f677d5a",
   "metadata": {},
   "outputs": [
    {
     "name": "stdout",
     "output_type": "stream",
     "text": [
      "              precision    recall  f1-score   support\n",
      "\n",
      "           0       0.91      0.68      0.78      1424\n",
      "           1       0.38      0.75      0.51       376\n",
      "\n",
      "    accuracy                           0.69      1800\n",
      "   macro avg       0.65      0.71      0.64      1800\n",
      "weighted avg       0.80      0.69      0.72      1800\n",
      "\n"
     ]
    }
   ],
   "source": [
    "#Melihat Classification report\n",
    "print(classification_report(y_test, dectree_predict, labels=[0,1]))"
   ]
  },
  {
   "cell_type": "code",
   "execution_count": 41,
   "id": "b0e753d6",
   "metadata": {},
   "outputs": [
    {
     "name": "stdout",
     "output_type": "stream",
     "text": [
      "Training Data Score: 1.0\n",
      "Validating Data Score: 0.69\n",
      "Testing Data Score: 0.6927777777777778\n"
     ]
    }
   ],
   "source": [
    "#Melihat score prediksi dari data train, valid dan test\n",
    "print(f\"Training Data Score: {decTree.score(X_rus_clean, y_rus)}\")\n",
    "print(f\"Validating Data Score: {decTree.score(X_valid_clean, y_valid)}\")\n",
    "print(f\"Testing Data Score: {decTree.score(X_test_clean, y_test)}\")"
   ]
  },
  {
   "cell_type": "markdown",
   "id": "11a5b44a",
   "metadata": {},
   "source": [
    "## Tuning Parameter Decisiontree"
   ]
  },
  {
   "cell_type": "code",
   "execution_count": 42,
   "id": "a74787e4",
   "metadata": {},
   "outputs": [],
   "source": [
    "# Buat parameter untuk eksperimen\n",
    "decTree_param = {\"max_depth\": [2, 3, 4, 5, 6, 7, 8, 9, 10, 11, 12],\n",
    "                \"criterion\": [\"gini\", \"entropy\", \"log_loss\"],\n",
    "                 'min_samples_split': [2, 5, 10],\n",
    "                 'min_samples_leaf': [1, 2, 4],}"
   ]
  },
  {
   "cell_type": "code",
   "execution_count": 43,
   "id": "93127a9f",
   "metadata": {},
   "outputs": [],
   "source": [
    "# Buat plan eksperimentasi\n",
    "random_decTree = GridSearchCV(estimator = DecisionTreeClassifier(random_state=123),\n",
    "                              param_grid = decTree_param,\n",
    "                              cv = 5,\n",
    "                              scoring = \"accuracy\") "
   ]
  },
  {
   "cell_type": "code",
   "execution_count": 44,
   "id": "5e46ac51",
   "metadata": {},
   "outputs": [
    {
     "data": {
      "text/plain": [
       "GridSearchCV(cv=5, estimator=DecisionTreeClassifier(random_state=123),\n",
       "             param_grid={'criterion': ['gini', 'entropy', 'log_loss'],\n",
       "                         'max_depth': [2, 3, 4, 5, 6, 7, 8, 9, 10, 11, 12],\n",
       "                         'min_samples_leaf': [1, 2, 4],\n",
       "                         'min_samples_split': [2, 5, 10]},\n",
       "             scoring='accuracy')"
      ]
     },
     "execution_count": 44,
     "metadata": {},
     "output_type": "execute_result"
    }
   ],
   "source": [
    "# Lakukan fitting eksperimentasi\n",
    "random_decTree.fit(X_rus_clean, y_rus)"
   ]
  },
  {
   "cell_type": "code",
   "execution_count": 45,
   "id": "48a790c9",
   "metadata": {},
   "outputs": [
    {
     "data": {
      "text/plain": [
       "{'criterion': 'gini',\n",
       " 'max_depth': 6,\n",
       " 'min_samples_leaf': 1,\n",
       " 'min_samples_split': 5}"
      ]
     },
     "execution_count": 45,
     "metadata": {},
     "output_type": "execute_result"
    }
   ],
   "source": [
    "random_decTree.best_params_"
   ]
  },
  {
   "cell_type": "code",
   "execution_count": 46,
   "id": "a4470ba4",
   "metadata": {},
   "outputs": [],
   "source": [
    "# Buat model\n",
    "best_decTree = DecisionTreeClassifier(max_depth = random_decTree.best_params_[\"max_depth\"],\n",
    "                                      criterion = random_decTree.best_params_[\"criterion\"],\n",
    "                                      min_samples_leaf = random_decTree.best_params_[\"min_samples_leaf\"],\n",
    "                                      min_samples_split = random_decTree.best_params_[\"min_samples_split\"],\n",
    "                                      random_state = 123)"
   ]
  },
  {
   "cell_type": "code",
   "execution_count": 47,
   "id": "79916272",
   "metadata": {},
   "outputs": [
    {
     "data": {
      "text/plain": [
       "DecisionTreeClassifier(max_depth=6, min_samples_split=5, random_state=123)"
      ]
     },
     "execution_count": 47,
     "metadata": {},
     "output_type": "execute_result"
    }
   ],
   "source": [
    "# Fit model\n",
    "best_decTree.fit(X_rus_clean, y_rus)"
   ]
  },
  {
   "cell_type": "code",
   "execution_count": 48,
   "id": "7724e94e",
   "metadata": {},
   "outputs": [
    {
     "data": {
      "text/plain": [
       "0.791550279329609"
      ]
     },
     "execution_count": 48,
     "metadata": {},
     "output_type": "execute_result"
    }
   ],
   "source": [
    "# Cek Train data\n",
    "best_decTree.score(X_rus_clean, y_rus)"
   ]
  },
  {
   "cell_type": "code",
   "execution_count": 49,
   "id": "bb8ca1f2",
   "metadata": {},
   "outputs": [],
   "source": [
    "y_predict_dectree = best_decTree.predict(X_test_clean)"
   ]
  },
  {
   "cell_type": "code",
   "execution_count": 50,
   "id": "2e148f66",
   "metadata": {},
   "outputs": [
    {
     "name": "stdout",
     "output_type": "stream",
     "text": [
      "              precision    recall  f1-score   support\n",
      "\n",
      "           0       0.93      0.77      0.84      1424\n",
      "           1       0.47      0.77      0.58       376\n",
      "\n",
      "    accuracy                           0.77      1800\n",
      "   macro avg       0.70      0.77      0.71      1800\n",
      "weighted avg       0.83      0.77      0.79      1800\n",
      "\n"
     ]
    }
   ],
   "source": [
    "print(classification_report(y_test, y_predict_dectree))"
   ]
  },
  {
   "cell_type": "code",
   "execution_count": 51,
   "id": "ede4e61b",
   "metadata": {},
   "outputs": [
    {
     "name": "stdout",
     "output_type": "stream",
     "text": [
      "Training Data Score: 0.791550279329609\n",
      "Validating Data Score: 0.7566666666666667\n",
      "Testing Data Score: 0.7716666666666666\n"
     ]
    }
   ],
   "source": [
    "print(f\"Training Data Score: {best_decTree.score(X_rus_clean, y_rus)}\")\n",
    "print(f\"Validating Data Score: {best_decTree.score(X_valid_clean, y_valid)}\")\n",
    "print(f\"Testing Data Score: {best_decTree.score(X_test_clean, y_test)}\")"
   ]
  },
  {
   "cell_type": "code",
   "execution_count": 52,
   "id": "0738114e",
   "metadata": {},
   "outputs": [
    {
     "data": {
      "image/png": "[encoded data removed]",
      "text/plain": [
       "<Figure size 432x288 with 2 Axes>"
      ]
     },
     "metadata": {
      "needs_background": "light"
     },
     "output_type": "display_data"
    }
   ],
   "source": [
    "ConfusionMatrixDisplay.from_predictions(y_test, y_predict_dectree, display_labels = [False, True])\n",
    "plt.show()"
   ]
  },
  {
   "cell_type": "markdown",
   "id": "2463ddab",
   "metadata": {},
   "source": [
    "## Randomforest Classifier"
   ]
  },
  {
   "cell_type": "code",
   "execution_count": 53,
   "id": "1187cbe5",
   "metadata": {},
   "outputs": [],
   "source": [
    "# Build random forest\n",
    "random_forest = RandomForestClassifier(n_estimators = 100, \n",
    "                                       criterion = \"gini\",\n",
    "                                       max_features = \"sqrt\",\n",
    "                                       max_depth=6, \n",
    "                                       min_samples_leaf=8,\n",
    "                                       random_state = 123)"
   ]
  },
  {
   "cell_type": "code",
   "execution_count": 54,
   "id": "8297613f",
   "metadata": {},
   "outputs": [
    {
     "data": {
      "text/plain": [
       "RandomForestClassifier(max_depth=6, max_features='sqrt', min_samples_leaf=8,\n",
       "                       random_state=123)"
      ]
     },
     "execution_count": 54,
     "metadata": {},
     "output_type": "execute_result"
    }
   ],
   "source": [
    "random_forest.fit(X_rus_clean, y_rus)"
   ]
  },
  {
   "cell_type": "code",
   "execution_count": 55,
   "id": "8c86acb4",
   "metadata": {},
   "outputs": [
    {
     "data": {
      "text/plain": [
       "RandomForestClassifier(max_depth=6, max_features='sqrt', min_samples_leaf=8,\n",
       "                       random_state=123)"
      ]
     },
     "execution_count": 55,
     "metadata": {},
     "output_type": "execute_result"
    }
   ],
   "source": [
    "random_forest.fit(X_rus_clean, y_rus)"
   ]
  },
  {
   "cell_type": "code",
   "execution_count": 56,
   "id": "0befb2e9",
   "metadata": {},
   "outputs": [
    {
     "data": {
      "text/plain": [
       "0.8002793296089385"
      ]
     },
     "execution_count": 56,
     "metadata": {},
     "output_type": "execute_result"
    }
   ],
   "source": [
    "# Model score\n",
    "random_forest.score(X_rus_clean, y_rus)"
   ]
  },
  {
   "cell_type": "code",
   "execution_count": 57,
   "id": "d6f54f8c",
   "metadata": {},
   "outputs": [],
   "source": [
    "y_pred_rf = random_forest.predict(X_test_clean)"
   ]
  },
  {
   "cell_type": "code",
   "execution_count": 58,
   "id": "e171133b",
   "metadata": {},
   "outputs": [
    {
     "name": "stdout",
     "output_type": "stream",
     "text": [
      "              precision    recall  f1-score   support\n",
      "\n",
      "           0       0.94      0.74      0.83      1424\n",
      "           1       0.45      0.81      0.58       376\n",
      "\n",
      "    accuracy                           0.76      1800\n",
      "   macro avg       0.70      0.78      0.70      1800\n",
      "weighted avg       0.84      0.76      0.78      1800\n",
      "\n"
     ]
    }
   ],
   "source": [
    "print(classification_report(y_test, y_pred_rf, labels=[0,1]))"
   ]
  },
  {
   "cell_type": "code",
   "execution_count": 59,
   "id": "bd28fb06",
   "metadata": {},
   "outputs": [
    {
     "data": {
      "image/png": "[encoded data removed]",
      "text/plain": [
       "<Figure size 432x288 with 2 Axes>"
      ]
     },
     "metadata": {
      "needs_background": "light"
     },
     "output_type": "display_data"
    }
   ],
   "source": [
    "ConfusionMatrixDisplay.from_predictions(y_test, y_pred_rf, display_labels = [False, True])\n",
    "plt.show()"
   ]
  },
  {
   "cell_type": "markdown",
   "id": "85c8c9a1",
   "metadata": {},
   "source": [
    "## Tuning Parameter Randomforest"
   ]
  },
  {
   "cell_type": "code",
   "execution_count": 60,
   "id": "ad00f78b",
   "metadata": {},
   "outputs": [],
   "source": [
    "# Buat parameter untuk eksperimen\n",
    "random_param = {\"max_depth\": [2, 3, 4, 5, 6, 7, 8, 9, 10, 11, 12],\n",
    "                'n_estimators': [50, 100, 200],\n",
    "                'min_samples_leaf': [1, 2, 4],\n",
    "                'min_samples_split': [2, 5, 10],\n",
    "                \"criterion\": [\"gini\", \"entropy\"]\n",
    "                }"
   ]
  },
  {
   "cell_type": "code",
   "execution_count": 61,
   "id": "d40a7cec",
   "metadata": {},
   "outputs": [],
   "source": [
    "# Buat plan eksperimentasi\n",
    "random_forestcls = GridSearchCV(estimator = RandomForestClassifier(random_state=123),\n",
    "                                param_grid = random_param,\n",
    "                                cv = 5,\n",
    "                                scoring = \"accuracy\") "
   ]
  },
  {
   "cell_type": "code",
   "execution_count": 62,
   "id": "b3d4b2e3",
   "metadata": {},
   "outputs": [
    {
     "data": {
      "text/plain": [
       "GridSearchCV(cv=5, estimator=RandomForestClassifier(random_state=123),\n",
       "             param_grid={'criterion': ['gini', 'entropy'],\n",
       "                         'max_depth': [2, 3, 4, 5, 6, 7, 8, 9, 10, 11, 12],\n",
       "                         'min_samples_leaf': [1, 2, 4],\n",
       "                         'min_samples_split': [2, 5, 10],\n",
       "                         'n_estimators': [50, 100, 200]},\n",
       "             scoring='accuracy')"
      ]
     },
     "execution_count": 62,
     "metadata": {},
     "output_type": "execute_result"
    }
   ],
   "source": [
    "# Lakukan fitting eksperimentasi\n",
    "random_forestcls.fit(X_rus_clean, y_rus)"
   ]
  },
  {
   "cell_type": "code",
   "execution_count": 63,
   "id": "900462d3",
   "metadata": {},
   "outputs": [
    {
     "data": {
      "text/plain": [
       "{'criterion': 'entropy',\n",
       " 'max_depth': 11,\n",
       " 'min_samples_leaf': 2,\n",
       " 'min_samples_split': 10,\n",
       " 'n_estimators': 100}"
      ]
     },
     "execution_count": 63,
     "metadata": {},
     "output_type": "execute_result"
    }
   ],
   "source": [
    "random_forestcls.best_params_"
   ]
  },
  {
   "cell_type": "code",
   "execution_count": 64,
   "id": "8d1c89f9",
   "metadata": {},
   "outputs": [],
   "source": [
    "# Buat model\n",
    "random_forestcls_cv = RandomForestClassifier(max_depth = random_forestcls.best_params_[\"max_depth\"],\n",
    "                                             criterion = random_forestcls.best_params_[\"criterion\"],\n",
    "                                             n_estimators = random_forestcls.best_params_[\"n_estimators\"],\n",
    "                                             min_samples_leaf = random_forestcls.best_params_[\"min_samples_leaf\"],\n",
    "                                             min_samples_split = random_forestcls.best_params_[\"min_samples_split\"],\n",
    "                                             random_state = 123)"
   ]
  },
  {
   "cell_type": "code",
   "execution_count": 65,
   "id": "881bcd92",
   "metadata": {},
   "outputs": [
    {
     "data": {
      "text/plain": [
       "RandomForestClassifier(criterion='entropy', max_depth=11, min_samples_leaf=2,\n",
       "                       min_samples_split=10, random_state=123)"
      ]
     },
     "execution_count": 65,
     "metadata": {},
     "output_type": "execute_result"
    }
   ],
   "source": [
    "# Fit model\n",
    "random_forestcls_cv.fit(X_rus_clean, y_rus)"
   ]
  },
  {
   "cell_type": "code",
   "execution_count": 66,
   "id": "b4b6bfe9",
   "metadata": {},
   "outputs": [],
   "source": [
    "predict_randomcls_cv = random_forestcls_cv.predict(X_test_clean)"
   ]
  },
  {
   "cell_type": "code",
   "execution_count": 67,
   "id": "0674960b",
   "metadata": {},
   "outputs": [
    {
     "name": "stdout",
     "output_type": "stream",
     "text": [
      "              precision    recall  f1-score   support\n",
      "\n",
      "           0       0.94      0.74      0.83      1424\n",
      "           1       0.45      0.81      0.58       376\n",
      "\n",
      "    accuracy                           0.76      1800\n",
      "   macro avg       0.70      0.78      0.71      1800\n",
      "weighted avg       0.84      0.76      0.78      1800\n",
      "\n"
     ]
    }
   ],
   "source": [
    "print(classification_report(y_test, predict_randomcls_cv))"
   ]
  },
  {
   "cell_type": "code",
   "execution_count": 68,
   "id": "e98caf47",
   "metadata": {},
   "outputs": [
    {
     "name": "stdout",
     "output_type": "stream",
     "text": [
      "Training Data Score: 0.9008379888268156\n",
      "Validating Data Score: 0.76\n",
      "Testing Data Score: 0.7561111111111111\n"
     ]
    }
   ],
   "source": [
    "print(f\"Training Data Score: {random_forestcls_cv.score(X_rus_clean, y_rus)}\")\n",
    "print(f\"Validating Data Score: {random_forestcls_cv.score(X_valid_clean, y_valid)}\")\n",
    "print(f\"Testing Data Score: {random_forestcls_cv.score(X_test_clean, y_test)}\")"
   ]
  },
  {
   "cell_type": "code",
   "execution_count": 69,
   "id": "fbec3c0e",
   "metadata": {},
   "outputs": [
    {
     "data": {
      "image/png": "[encoded data removed]",
      "text/plain": [
       "<Figure size 432x288 with 2 Axes>"
      ]
     },
     "metadata": {
      "needs_background": "light"
     },
     "output_type": "display_data"
    }
   ],
   "source": [
    "ConfusionMatrixDisplay.from_predictions(y_test, predict_randomcls_cv, display_labels = [False, True])\n",
    "plt.show()"
   ]
  },
  {
   "cell_type": "markdown",
   "id": "99f4c2aa",
   "metadata": {},
   "source": [
    "## Ridge Classifier"
   ]
  },
  {
   "cell_type": "code",
   "execution_count": 70,
   "id": "8ff949d5",
   "metadata": {},
   "outputs": [],
   "source": [
    "ridge = RidgeClassifier(random_state = 123) #create a ridge classifier object"
   ]
  },
  {
   "cell_type": "code",
   "execution_count": 71,
   "id": "336549ab",
   "metadata": {},
   "outputs": [
    {
     "data": {
      "text/plain": [
       "RidgeClassifier(random_state=123)"
      ]
     },
     "execution_count": 71,
     "metadata": {},
     "output_type": "execute_result"
    }
   ],
   "source": [
    "ridge.fit(X_rus_clean, y_rus) #train the model"
   ]
  },
  {
   "cell_type": "code",
   "execution_count": 72,
   "id": "1676dcc4",
   "metadata": {},
   "outputs": [
    {
     "data": {
      "text/plain": [
       "0.7077513966480447"
      ]
     },
     "execution_count": 72,
     "metadata": {},
     "output_type": "execute_result"
    }
   ],
   "source": [
    "ridge.score(X_rus_clean, y_rus)"
   ]
  },
  {
   "cell_type": "code",
   "execution_count": 73,
   "id": "ee605ef2",
   "metadata": {},
   "outputs": [],
   "source": [
    "pred_ridge = ridge.predict(X_test_clean)"
   ]
  },
  {
   "cell_type": "code",
   "execution_count": 74,
   "id": "f0f33c3b",
   "metadata": {},
   "outputs": [
    {
     "name": "stdout",
     "output_type": "stream",
     "text": [
      "              precision    recall  f1-score   support\n",
      "\n",
      "           0       0.92      0.66      0.77      1424\n",
      "           1       0.38      0.78      0.51       376\n",
      "\n",
      "    accuracy                           0.68      1800\n",
      "   macro avg       0.65      0.72      0.64      1800\n",
      "weighted avg       0.81      0.68      0.71      1800\n",
      "\n"
     ]
    }
   ],
   "source": [
    "print(classification_report(y_test, pred_ridge, labels=[0,1]))"
   ]
  },
  {
   "cell_type": "code",
   "execution_count": 75,
   "id": "f600b577",
   "metadata": {},
   "outputs": [
    {
     "name": "stdout",
     "output_type": "stream",
     "text": [
      "Training Data Score: 0.7077513966480447\n",
      "Validating Data Score: 0.6691666666666667\n",
      "Testing Data Score: 0.6827777777777778\n"
     ]
    }
   ],
   "source": [
    "print(f\"Training Data Score: {ridge.score(X_rus_clean, y_rus)}\")\n",
    "print(f\"Validating Data Score: {ridge.score(X_valid_clean, y_valid)}\")\n",
    "print(f\"Testing Data Score: {ridge.score(X_test_clean, y_test)}\")"
   ]
  },
  {
   "cell_type": "markdown",
   "id": "aee31291",
   "metadata": {},
   "source": [
    "## Tuning Parameter Ridge Classifier"
   ]
  },
  {
   "cell_type": "code",
   "execution_count": 76,
   "id": "bd44e283",
   "metadata": {},
   "outputs": [],
   "source": [
    "clf_ridge = RidgeClassifier(random_state = 123)\n",
    "\n",
    "alpha = [0.1, 0.2, 0.3, 0.4, 0.5, 0.6, 0.7, 0.8, 0.9, 1.0]\n",
    "\n",
    "# define grid search\n",
    "grid = dict(alpha=alpha)\n",
    "\n",
    "cv = RepeatedStratifiedKFold(n_splits=10, n_repeats=3, random_state=1)\n",
    "\n",
    "ridge_cv = GridSearchCV(estimator=clf_ridge, param_grid=grid, n_jobs=-1, cv=cv, scoring='accuracy',error_score=0)"
   ]
  },
  {
   "cell_type": "code",
   "execution_count": 77,
   "id": "0b02a7cd",
   "metadata": {},
   "outputs": [
    {
     "data": {
      "text/plain": [
       "GridSearchCV(cv=RepeatedStratifiedKFold(n_repeats=3, n_splits=10, random_state=1),\n",
       "             error_score=0, estimator=RidgeClassifier(random_state=123),\n",
       "             n_jobs=-1,\n",
       "             param_grid={'alpha': [0.1, 0.2, 0.3, 0.4, 0.5, 0.6, 0.7, 0.8, 0.9,\n",
       "                                   1.0]},\n",
       "             scoring='accuracy')"
      ]
     },
     "execution_count": 77,
     "metadata": {},
     "output_type": "execute_result"
    }
   ],
   "source": [
    "ridge_cv.fit(X_rus_clean, y_rus)"
   ]
  },
  {
   "cell_type": "code",
   "execution_count": 78,
   "id": "c42fff83",
   "metadata": {},
   "outputs": [
    {
     "data": {
      "text/plain": [
       "{'alpha': 0.7}"
      ]
     },
     "execution_count": 78,
     "metadata": {},
     "output_type": "execute_result"
    }
   ],
   "source": [
    "ridge_cv.best_params_"
   ]
  },
  {
   "cell_type": "code",
   "execution_count": 79,
   "id": "462b1213",
   "metadata": {},
   "outputs": [],
   "source": [
    "# Buat model\n",
    "ridge_cv = RidgeClassifier(alpha = ridge_cv.best_params_[\"alpha\"],\n",
    "                           random_state = 123)"
   ]
  },
  {
   "cell_type": "code",
   "execution_count": 80,
   "id": "040baeda",
   "metadata": {},
   "outputs": [
    {
     "data": {
      "text/plain": [
       "RidgeClassifier(alpha=0.7, random_state=123)"
      ]
     },
     "execution_count": 80,
     "metadata": {},
     "output_type": "execute_result"
    }
   ],
   "source": [
    "# Fit model\n",
    "ridge_cv.fit(X_rus_clean, y_rus)"
   ]
  },
  {
   "cell_type": "code",
   "execution_count": 81,
   "id": "96d4efa2",
   "metadata": {},
   "outputs": [
    {
     "data": {
      "text/plain": [
       "0.7077513966480447"
      ]
     },
     "execution_count": 81,
     "metadata": {},
     "output_type": "execute_result"
    }
   ],
   "source": [
    "# Cek Test data\n",
    "ridge_cv.score(X_rus_clean, y_rus)"
   ]
  },
  {
   "cell_type": "code",
   "execution_count": 82,
   "id": "f2ac6d1a",
   "metadata": {},
   "outputs": [],
   "source": [
    "predict_ridgecv = ridge_cv.predict(X_test_clean)"
   ]
  },
  {
   "cell_type": "code",
   "execution_count": 83,
   "id": "2407b6be",
   "metadata": {},
   "outputs": [
    {
     "name": "stdout",
     "output_type": "stream",
     "text": [
      "              precision    recall  f1-score   support\n",
      "\n",
      "           0       0.92      0.66      0.77      1424\n",
      "           1       0.38      0.78      0.51       376\n",
      "\n",
      "    accuracy                           0.68      1800\n",
      "   macro avg       0.65      0.72      0.64      1800\n",
      "weighted avg       0.81      0.68      0.71      1800\n",
      "\n"
     ]
    }
   ],
   "source": [
    "print(classification_report(y_test, predict_ridgecv))"
   ]
  },
  {
   "cell_type": "code",
   "execution_count": 84,
   "id": "23446aaa",
   "metadata": {},
   "outputs": [
    {
     "name": "stdout",
     "output_type": "stream",
     "text": [
      "Training Data Score: 0.7077513966480447\n",
      "Validating Data Score: 0.6691666666666667\n",
      "Testing Data Score: 0.6827777777777778\n"
     ]
    }
   ],
   "source": [
    "print(f\"Training Data Score: {ridge_cv.score(X_rus_clean, y_rus)}\")\n",
    "print(f\"Validating Data Score: {ridge_cv.score(X_valid_clean, y_valid)}\")\n",
    "print(f\"Testing Data Score: {ridge_cv.score(X_test_clean, y_test)}\")"
   ]
  },
  {
   "cell_type": "code",
   "execution_count": 85,
   "id": "034ad890",
   "metadata": {},
   "outputs": [
    {
     "data": {
      "image/png": "[encoded data removed]",
      "text/plain": [
       "<Figure size 432x288 with 2 Axes>"
      ]
     },
     "metadata": {
      "needs_background": "light"
     },
     "output_type": "display_data"
    }
   ],
   "source": [
    "ConfusionMatrixDisplay.from_predictions(y_test, predict_ridgecv, display_labels = [False, True])\n",
    "plt.show()"
   ]
  },
  {
   "cell_type": "markdown",
   "id": "9a261060",
   "metadata": {},
   "source": [
    "## KNeighborsClassifier"
   ]
  },
  {
   "cell_type": "code",
   "execution_count": 86,
   "id": "9f0071ca",
   "metadata": {},
   "outputs": [],
   "source": [
    "# Build KNeighborsRegressor\n",
    "knn_awal = KNeighborsClassifier()"
   ]
  },
  {
   "cell_type": "code",
   "execution_count": 87,
   "id": "da0e675d",
   "metadata": {},
   "outputs": [
    {
     "data": {
      "text/plain": [
       "KNeighborsClassifier()"
      ]
     },
     "execution_count": 87,
     "metadata": {},
     "output_type": "execute_result"
    }
   ],
   "source": [
    "# fit KNeighborsRegressor\n",
    "knn_awal.fit(X_rus_clean, y_rus)"
   ]
  },
  {
   "cell_type": "code",
   "execution_count": 88,
   "id": "50add511",
   "metadata": {},
   "outputs": [
    {
     "data": {
      "text/plain": [
       "0.8093575418994413"
      ]
     },
     "execution_count": 88,
     "metadata": {},
     "output_type": "execute_result"
    }
   ],
   "source": [
    "knn_awal.score(X_rus_clean, y_rus)"
   ]
  },
  {
   "cell_type": "code",
   "execution_count": 89,
   "id": "336eada5",
   "metadata": {},
   "outputs": [],
   "source": [
    "knn_pred = knn_awal.predict(X_test_clean)"
   ]
  },
  {
   "cell_type": "code",
   "execution_count": 90,
   "id": "f80b4def",
   "metadata": {},
   "outputs": [
    {
     "name": "stdout",
     "output_type": "stream",
     "text": [
      "              precision    recall  f1-score   support\n",
      "\n",
      "           0       0.91      0.71      0.80      1424\n",
      "           1       0.40      0.74      0.52       376\n",
      "\n",
      "    accuracy                           0.71      1800\n",
      "   macro avg       0.66      0.72      0.66      1800\n",
      "weighted avg       0.80      0.71      0.74      1800\n",
      "\n"
     ]
    }
   ],
   "source": [
    "print(classification_report(y_test, knn_pred, labels=[0,1]))"
   ]
  },
  {
   "cell_type": "code",
   "execution_count": 91,
   "id": "1ff7ad8d",
   "metadata": {},
   "outputs": [
    {
     "name": "stdout",
     "output_type": "stream",
     "text": [
      "Training Data Score: 0.8093575418994413\n",
      "Validating Data Score: 0.7\n",
      "Testing Data Score: 0.7127777777777777\n"
     ]
    }
   ],
   "source": [
    "print(f\"Training Data Score: {knn_awal.score(X_rus_clean, y_rus)}\")\n",
    "print(f\"Validating Data Score: {knn_awal.score(X_valid_clean, y_valid)}\")\n",
    "print(f\"Testing Data Score: {knn_awal.score(X_test_clean, y_test)}\")"
   ]
  },
  {
   "cell_type": "code",
   "execution_count": 92,
   "id": "c269e271",
   "metadata": {},
   "outputs": [
    {
     "data": {
      "image/png": "[encoded data removed]",
      "text/plain": [
       "<Figure size 432x288 with 2 Axes>"
      ]
     },
     "metadata": {
      "needs_background": "light"
     },
     "output_type": "display_data"
    }
   ],
   "source": [
    "ConfusionMatrixDisplay.from_predictions(y_test, knn_pred, display_labels = [False, True])\n",
    "plt.show()"
   ]
  },
  {
   "cell_type": "markdown",
   "id": "7aeafd64",
   "metadata": {},
   "source": [
    "## Tuning Parameter KNeighborsClassifier"
   ]
  },
  {
   "cell_type": "code",
   "execution_count": 93,
   "id": "ede28947",
   "metadata": {},
   "outputs": [],
   "source": [
    "kn_param_grid = {\n",
    "    'n_neighbors' : [1, 2, 3, 4, 5, 6, 7, 8, 9, 10, 11, 12, 13, 14, 15, 16, 17, 18, 19, 20, 21, 22, 23, 24, 25, 26, 27, 28, 29, 30],\n",
    "    'weights' : ['uniform', 'distance'],\n",
    "    'algorithm' : ['auto', 'ball_tree', 'kd_tree', 'brute']\n",
    "}"
   ]
  },
  {
   "cell_type": "code",
   "execution_count": 94,
   "id": "a2bfead1",
   "metadata": {},
   "outputs": [],
   "source": [
    "knn = KNeighborsClassifier()"
   ]
  },
  {
   "cell_type": "code",
   "execution_count": 95,
   "id": "969ebd1e",
   "metadata": {},
   "outputs": [],
   "source": [
    "kn_grid = GridSearchCV(knn, kn_param_grid, verbose=3, cv= 5, scoring='accuracy')"
   ]
  },
  {
   "cell_type": "code",
   "execution_count": 96,
   "id": "426168f3",
   "metadata": {},
   "outputs": [
    {
     "name": "stdout",
     "output_type": "stream",
     "text": [
      "Fitting 5 folds for each of 240 candidates, totalling 1200 fits\n",
      "[CV 1/5] END algorithm=auto, n_neighbors=1, weights=uniform;, score=0.696 total time=   0.0s\n",
      "[CV 2/5] END algorithm=auto, n_neighbors=1, weights=uniform;, score=0.665 total time=   0.0s\n",
      "[CV 3/5] END algorithm=auto, n_neighbors=1, weights=uniform;, score=0.709 total time=   0.0s\n",
      "[CV 4/5] END algorithm=auto, n_neighbors=1, weights=uniform;, score=0.688 total time=   0.2s\n",
      "[CV 5/5] END algorithm=auto, n_neighbors=1, weights=uniform;, score=0.712 total time=   0.0s\n",
      "[CV 1/5] END algorithm=auto, n_neighbors=1, weights=distance;, score=0.696 total time=   0.0s\n",
      "[CV 2/5] END algorithm=auto, n_neighbors=1, weights=distance;, score=0.665 total time=   0.0s\n",
      "[CV 3/5] END algorithm=auto, n_neighbors=1, weights=distance;, score=0.709 total time=   0.0s\n",
      "[CV 4/5] END algorithm=auto, n_neighbors=1, weights=distance;, score=0.688 total time=   0.0s\n",
      "[CV 5/5] END algorithm=auto, n_neighbors=1, weights=distance;, score=0.712 total time=   0.0s\n",
      "[CV 1/5] END algorithm=auto, n_neighbors=2, weights=uniform;, score=0.677 total time=   0.0s\n",
      "[CV 2/5] END algorithm=auto, n_neighbors=2, weights=uniform;, score=0.670 total time=   0.0s\n",
      "[CV 3/5] END algorithm=auto, n_neighbors=2, weights=uniform;, score=0.675 total time=   0.0s\n",
      "[CV 4/5] END algorithm=auto, n_neighbors=2, weights=uniform;, score=0.668 total time=   0.0s\n",
      "[CV 5/5] END algorithm=auto, n_neighbors=2, weights=uniform;, score=0.689 total time=   0.0s\n",
      "[CV 1/5] END algorithm=auto, n_neighbors=2, weights=distance;, score=0.696 total time=   0.0s\n",
      "[CV 2/5] END algorithm=auto, n_neighbors=2, weights=distance;, score=0.665 total time=   0.0s\n",
      "[CV 3/5] END algorithm=auto, n_neighbors=2, weights=distance;, score=0.709 total time=   0.0s\n",
      "[CV 4/5] END algorithm=auto, n_neighbors=2, weights=distance;, score=0.688 total time=   0.0s\n",
      "[CV 5/5] END algorithm=auto, n_neighbors=2, weights=distance;, score=0.712 total time=   0.0s\n",
      "[CV 1/5] END algorithm=auto, n_neighbors=3, weights=uniform;, score=0.693 total time=   0.0s\n",
      "[CV 2/5] END algorithm=auto, n_neighbors=3, weights=uniform;, score=0.689 total time=   0.0s\n",
      "[CV 3/5] END algorithm=auto, n_neighbors=3, weights=uniform;, score=0.729 total time=   0.0s\n",
      "[CV 4/5] END algorithm=auto, n_neighbors=3, weights=uniform;, score=0.719 total time=   0.0s\n",
      "[CV 5/5] END algorithm=auto, n_neighbors=3, weights=uniform;, score=0.733 total time=   0.0s\n",
      "[CV 1/5] END algorithm=auto, n_neighbors=3, weights=distance;, score=0.696 total time=   0.0s\n",
      "[CV 2/5] END algorithm=auto, n_neighbors=3, weights=distance;, score=0.688 total time=   0.0s\n",
      "[CV 3/5] END algorithm=auto, n_neighbors=3, weights=distance;, score=0.728 total time=   0.0s\n",
      "[CV 4/5] END algorithm=auto, n_neighbors=3, weights=distance;, score=0.721 total time=   0.0s\n",
      "[CV 5/5] END algorithm=auto, n_neighbors=3, weights=distance;, score=0.740 total time=   0.0s\n",
      "[CV 1/5] END algorithm=auto, n_neighbors=4, weights=uniform;, score=0.691 total time=   0.0s\n",
      "[CV 2/5] END algorithm=auto, n_neighbors=4, weights=uniform;, score=0.668 total time=   0.0s\n",
      "[CV 3/5] END algorithm=auto, n_neighbors=4, weights=uniform;, score=0.726 total time=   0.0s\n",
      "[CV 4/5] END algorithm=auto, n_neighbors=4, weights=uniform;, score=0.719 total time=   0.0s\n",
      "[CV 5/5] END algorithm=auto, n_neighbors=4, weights=uniform;, score=0.696 total time=   0.0s\n",
      "[CV 1/5] END algorithm=auto, n_neighbors=4, weights=distance;, score=0.709 total time=   0.0s\n",
      "[CV 2/5] END algorithm=auto, n_neighbors=4, weights=distance;, score=0.677 total time=   0.0s\n",
      "[CV 3/5] END algorithm=auto, n_neighbors=4, weights=distance;, score=0.726 total time=   0.0s\n",
      "[CV 4/5] END algorithm=auto, n_neighbors=4, weights=distance;, score=0.723 total time=   0.0s\n",
      "[CV 5/5] END algorithm=auto, n_neighbors=4, weights=distance;, score=0.729 total time=   0.0s\n",
      "[CV 1/5] END algorithm=auto, n_neighbors=5, weights=uniform;, score=0.705 total time=   0.0s\n",
      "[CV 2/5] END algorithm=auto, n_neighbors=5, weights=uniform;, score=0.702 total time=   0.0s\n",
      "[CV 3/5] END algorithm=auto, n_neighbors=5, weights=uniform;, score=0.742 total time=   0.0s\n",
      "[CV 4/5] END algorithm=auto, n_neighbors=5, weights=uniform;, score=0.729 total time=   0.0s\n",
      "[CV 5/5] END algorithm=auto, n_neighbors=5, weights=uniform;, score=0.717 total time=   0.0s\n",
      "[CV 1/5] END algorithm=auto, n_neighbors=5, weights=distance;, score=0.703 total time=   0.0s\n",
      "[CV 2/5] END algorithm=auto, n_neighbors=5, weights=distance;, score=0.695 total time=   0.0s\n",
      "[CV 3/5] END algorithm=auto, n_neighbors=5, weights=distance;, score=0.740 total time=   0.0s\n",
      "[CV 4/5] END algorithm=auto, n_neighbors=5, weights=distance;, score=0.733 total time=   0.0s\n",
      "[CV 5/5] END algorithm=auto, n_neighbors=5, weights=distance;, score=0.720 total time=   0.0s\n",
      "[CV 1/5] END algorithm=auto, n_neighbors=6, weights=uniform;, score=0.698 total time=   0.0s\n",
      "[CV 2/5] END algorithm=auto, n_neighbors=6, weights=uniform;, score=0.695 total time=   0.0s\n",
      "[CV 3/5] END algorithm=auto, n_neighbors=6, weights=uniform;, score=0.735 total time=   0.0s\n",
      "[CV 4/5] END algorithm=auto, n_neighbors=6, weights=uniform;, score=0.731 total time=   0.0s\n",
      "[CV 5/5] END algorithm=auto, n_neighbors=6, weights=uniform;, score=0.708 total time=   0.0s\n",
      "[CV 1/5] END algorithm=auto, n_neighbors=6, weights=distance;, score=0.714 total time=   0.0s\n",
      "[CV 2/5] END algorithm=auto, n_neighbors=6, weights=distance;, score=0.714 total time=   0.0s\n",
      "[CV 3/5] END algorithm=auto, n_neighbors=6, weights=distance;, score=0.752 total time=   0.0s\n",
      "[CV 4/5] END algorithm=auto, n_neighbors=6, weights=distance;, score=0.733 total time=   0.0s\n",
      "[CV 5/5] END algorithm=auto, n_neighbors=6, weights=distance;, score=0.743 total time=   0.0s\n",
      "[CV 1/5] END algorithm=auto, n_neighbors=7, weights=uniform;, score=0.710 total time=   0.0s\n",
      "[CV 2/5] END algorithm=auto, n_neighbors=7, weights=uniform;, score=0.702 total time=   0.0s\n",
      "[CV 3/5] END algorithm=auto, n_neighbors=7, weights=uniform;, score=0.766 total time=   0.0s\n",
      "[CV 4/5] END algorithm=auto, n_neighbors=7, weights=uniform;, score=0.740 total time=   0.0s\n",
      "[CV 5/5] END algorithm=auto, n_neighbors=7, weights=uniform;, score=0.729 total time=   0.0s\n",
      "[CV 1/5] END algorithm=auto, n_neighbors=7, weights=distance;, score=0.712 total time=   0.0s\n",
      "[CV 2/5] END algorithm=auto, n_neighbors=7, weights=distance;, score=0.698 total time=   0.0s\n",
      "[CV 3/5] END algorithm=auto, n_neighbors=7, weights=distance;, score=0.764 total time=   0.0s\n",
      "[CV 4/5] END algorithm=auto, n_neighbors=7, weights=distance;, score=0.736 total time=   0.0s\n",
      "[CV 5/5] END algorithm=auto, n_neighbors=7, weights=distance;, score=0.733 total time=   0.0s\n",
      "[CV 1/5] END algorithm=auto, n_neighbors=8, weights=uniform;, score=0.707 total time=   0.0s\n",
      "[CV 2/5] END algorithm=auto, n_neighbors=8, weights=uniform;, score=0.682 total time=   0.0s\n",
      "[CV 3/5] END algorithm=auto, n_neighbors=8, weights=uniform;, score=0.756 total time=   0.0s\n",
      "[CV 4/5] END algorithm=auto, n_neighbors=8, weights=uniform;, score=0.743 total time=   0.0s\n",
      "[CV 5/5] END algorithm=auto, n_neighbors=8, weights=uniform;, score=0.717 total time=   0.0s\n",
      "[CV 1/5] END algorithm=auto, n_neighbors=8, weights=distance;, score=0.717 total time=   0.0s\n",
      "[CV 2/5] END algorithm=auto, n_neighbors=8, weights=distance;, score=0.693 total time=   0.0s\n",
      "[CV 3/5] END algorithm=auto, n_neighbors=8, weights=distance;, score=0.747 total time=   0.0s\n",
      "[CV 4/5] END algorithm=auto, n_neighbors=8, weights=distance;, score=0.750 total time=   0.0s\n",
      "[CV 5/5] END algorithm=auto, n_neighbors=8, weights=distance;, score=0.745 total time=   0.0s\n",
      "[CV 1/5] END algorithm=auto, n_neighbors=9, weights=uniform;, score=0.721 total time=   0.0s\n",
      "[CV 2/5] END algorithm=auto, n_neighbors=9, weights=uniform;, score=0.689 total time=   0.0s\n",
      "[CV 3/5] END algorithm=auto, n_neighbors=9, weights=uniform;, score=0.768 total time=   0.0s\n",
      "[CV 4/5] END algorithm=auto, n_neighbors=9, weights=uniform;, score=0.740 total time=   0.0s\n",
      "[CV 5/5] END algorithm=auto, n_neighbors=9, weights=uniform;, score=0.734 total time=   0.0s\n",
      "[CV 1/5] END algorithm=auto, n_neighbors=9, weights=distance;, score=0.717 total time=   0.0s\n",
      "[CV 2/5] END algorithm=auto, n_neighbors=9, weights=distance;, score=0.689 total time=   0.0s\n",
      "[CV 3/5] END algorithm=auto, n_neighbors=9, weights=distance;, score=0.768 total time=   0.0s\n",
      "[CV 4/5] END algorithm=auto, n_neighbors=9, weights=distance;, score=0.742 total time=   0.0s\n"
     ]
    },
    {
     "name": "stdout",
     "output_type": "stream",
     "text": [
      "[CV 5/5] END algorithm=auto, n_neighbors=9, weights=distance;, score=0.736 total time=   0.0s\n",
      "[CV 1/5] END algorithm=auto, n_neighbors=10, weights=uniform;, score=0.707 total time=   0.0s\n",
      "[CV 2/5] END algorithm=auto, n_neighbors=10, weights=uniform;, score=0.674 total time=   0.0s\n",
      "[CV 3/5] END algorithm=auto, n_neighbors=10, weights=uniform;, score=0.754 total time=   0.0s\n",
      "[CV 4/5] END algorithm=auto, n_neighbors=10, weights=uniform;, score=0.745 total time=   0.0s\n",
      "[CV 5/5] END algorithm=auto, n_neighbors=10, weights=uniform;, score=0.745 total time=   0.0s\n",
      "[CV 1/5] END algorithm=auto, n_neighbors=10, weights=distance;, score=0.733 total time=   0.0s\n",
      "[CV 2/5] END algorithm=auto, n_neighbors=10, weights=distance;, score=0.688 total time=   0.0s\n",
      "[CV 3/5] END algorithm=auto, n_neighbors=10, weights=distance;, score=0.759 total time=   0.0s\n",
      "[CV 4/5] END algorithm=auto, n_neighbors=10, weights=distance;, score=0.743 total time=   0.0s\n",
      "[CV 5/5] END algorithm=auto, n_neighbors=10, weights=distance;, score=0.755 total time=   0.0s\n",
      "[CV 1/5] END algorithm=auto, n_neighbors=11, weights=uniform;, score=0.721 total time=   0.0s\n",
      "[CV 2/5] END algorithm=auto, n_neighbors=11, weights=uniform;, score=0.698 total time=   0.0s\n",
      "[CV 3/5] END algorithm=auto, n_neighbors=11, weights=uniform;, score=0.759 total time=   0.0s\n",
      "[CV 4/5] END algorithm=auto, n_neighbors=11, weights=uniform;, score=0.738 total time=   0.0s\n",
      "[CV 5/5] END algorithm=auto, n_neighbors=11, weights=uniform;, score=0.750 total time=   0.0s\n",
      "[CV 1/5] END algorithm=auto, n_neighbors=11, weights=distance;, score=0.716 total time=   0.0s\n",
      "[CV 2/5] END algorithm=auto, n_neighbors=11, weights=distance;, score=0.693 total time=   0.0s\n",
      "[CV 3/5] END algorithm=auto, n_neighbors=11, weights=distance;, score=0.757 total time=   0.0s\n",
      "[CV 4/5] END algorithm=auto, n_neighbors=11, weights=distance;, score=0.742 total time=   0.0s\n",
      "[CV 5/5] END algorithm=auto, n_neighbors=11, weights=distance;, score=0.752 total time=   0.0s\n",
      "[CV 1/5] END algorithm=auto, n_neighbors=12, weights=uniform;, score=0.721 total time=   0.0s\n",
      "[CV 2/5] END algorithm=auto, n_neighbors=12, weights=uniform;, score=0.691 total time=   0.0s\n",
      "[CV 3/5] END algorithm=auto, n_neighbors=12, weights=uniform;, score=0.754 total time=   0.0s\n",
      "[CV 4/5] END algorithm=auto, n_neighbors=12, weights=uniform;, score=0.743 total time=   0.0s\n",
      "[CV 5/5] END algorithm=auto, n_neighbors=12, weights=uniform;, score=0.747 total time=   0.0s\n",
      "[CV 1/5] END algorithm=auto, n_neighbors=12, weights=distance;, score=0.729 total time=   0.0s\n",
      "[CV 2/5] END algorithm=auto, n_neighbors=12, weights=distance;, score=0.702 total time=   0.0s\n",
      "[CV 3/5] END algorithm=auto, n_neighbors=12, weights=distance;, score=0.766 total time=   0.0s\n",
      "[CV 4/5] END algorithm=auto, n_neighbors=12, weights=distance;, score=0.742 total time=   0.0s\n",
      "[CV 5/5] END algorithm=auto, n_neighbors=12, weights=distance;, score=0.750 total time=   0.0s\n",
      "[CV 1/5] END algorithm=auto, n_neighbors=13, weights=uniform;, score=0.721 total time=   0.0s\n",
      "[CV 2/5] END algorithm=auto, n_neighbors=13, weights=uniform;, score=0.700 total time=   0.0s\n",
      "[CV 3/5] END algorithm=auto, n_neighbors=13, weights=uniform;, score=0.770 total time=   0.0s\n",
      "[CV 4/5] END algorithm=auto, n_neighbors=13, weights=uniform;, score=0.731 total time=   0.0s\n",
      "[CV 5/5] END algorithm=auto, n_neighbors=13, weights=uniform;, score=0.748 total time=   0.0s\n",
      "[CV 1/5] END algorithm=auto, n_neighbors=13, weights=distance;, score=0.721 total time=   0.0s\n",
      "[CV 2/5] END algorithm=auto, n_neighbors=13, weights=distance;, score=0.696 total time=   0.0s\n",
      "[CV 3/5] END algorithm=auto, n_neighbors=13, weights=distance;, score=0.764 total time=   0.0s\n",
      "[CV 4/5] END algorithm=auto, n_neighbors=13, weights=distance;, score=0.736 total time=   0.0s\n",
      "[CV 5/5] END algorithm=auto, n_neighbors=13, weights=distance;, score=0.752 total time=   0.0s\n",
      "[CV 1/5] END algorithm=auto, n_neighbors=14, weights=uniform;, score=0.721 total time=   0.0s\n",
      "[CV 2/5] END algorithm=auto, n_neighbors=14, weights=uniform;, score=0.688 total time=   0.0s\n",
      "[CV 3/5] END algorithm=auto, n_neighbors=14, weights=uniform;, score=0.738 total time=   0.0s\n",
      "[CV 4/5] END algorithm=auto, n_neighbors=14, weights=uniform;, score=0.738 total time=   0.0s\n",
      "[CV 5/5] END algorithm=auto, n_neighbors=14, weights=uniform;, score=0.741 total time=   0.0s\n",
      "[CV 1/5] END algorithm=auto, n_neighbors=14, weights=distance;, score=0.721 total time=   0.0s\n",
      "[CV 2/5] END algorithm=auto, n_neighbors=14, weights=distance;, score=0.700 total time=   0.0s\n",
      "[CV 3/5] END algorithm=auto, n_neighbors=14, weights=distance;, score=0.768 total time=   0.0s\n",
      "[CV 4/5] END algorithm=auto, n_neighbors=14, weights=distance;, score=0.745 total time=   0.0s\n",
      "[CV 5/5] END algorithm=auto, n_neighbors=14, weights=distance;, score=0.752 total time=   0.0s\n",
      "[CV 1/5] END algorithm=auto, n_neighbors=15, weights=uniform;, score=0.731 total time=   0.0s\n",
      "[CV 2/5] END algorithm=auto, n_neighbors=15, weights=uniform;, score=0.693 total time=   0.0s\n",
      "[CV 3/5] END algorithm=auto, n_neighbors=15, weights=uniform;, score=0.759 total time=   0.0s\n",
      "[CV 4/5] END algorithm=auto, n_neighbors=15, weights=uniform;, score=0.729 total time=   0.0s\n",
      "[CV 5/5] END algorithm=auto, n_neighbors=15, weights=uniform;, score=0.736 total time=   0.0s\n",
      "[CV 1/5] END algorithm=auto, n_neighbors=15, weights=distance;, score=0.728 total time=   0.0s\n",
      "[CV 2/5] END algorithm=auto, n_neighbors=15, weights=distance;, score=0.696 total time=   0.0s\n",
      "[CV 3/5] END algorithm=auto, n_neighbors=15, weights=distance;, score=0.759 total time=   0.0s\n",
      "[CV 4/5] END algorithm=auto, n_neighbors=15, weights=distance;, score=0.736 total time=   0.0s\n",
      "[CV 5/5] END algorithm=auto, n_neighbors=15, weights=distance;, score=0.748 total time=   0.0s\n",
      "[CV 1/5] END algorithm=auto, n_neighbors=16, weights=uniform;, score=0.728 total time=   0.0s\n",
      "[CV 2/5] END algorithm=auto, n_neighbors=16, weights=uniform;, score=0.698 total time=   0.0s\n",
      "[CV 3/5] END algorithm=auto, n_neighbors=16, weights=uniform;, score=0.742 total time=   0.0s\n",
      "[CV 4/5] END algorithm=auto, n_neighbors=16, weights=uniform;, score=0.742 total time=   0.0s\n",
      "[CV 5/5] END algorithm=auto, n_neighbors=16, weights=uniform;, score=0.743 total time=   0.0s\n",
      "[CV 1/5] END algorithm=auto, n_neighbors=16, weights=distance;, score=0.717 total time=   0.0s\n",
      "[CV 2/5] END algorithm=auto, n_neighbors=16, weights=distance;, score=0.707 total time=   0.0s\n",
      "[CV 3/5] END algorithm=auto, n_neighbors=16, weights=distance;, score=0.764 total time=   0.0s\n",
      "[CV 4/5] END algorithm=auto, n_neighbors=16, weights=distance;, score=0.750 total time=   0.0s\n",
      "[CV 5/5] END algorithm=auto, n_neighbors=16, weights=distance;, score=0.745 total time=   0.0s\n",
      "[CV 1/5] END algorithm=auto, n_neighbors=17, weights=uniform;, score=0.724 total time=   0.0s\n",
      "[CV 2/5] END algorithm=auto, n_neighbors=17, weights=uniform;, score=0.695 total time=   0.0s\n",
      "[CV 3/5] END algorithm=auto, n_neighbors=17, weights=uniform;, score=0.756 total time=   0.0s\n",
      "[CV 4/5] END algorithm=auto, n_neighbors=17, weights=uniform;, score=0.745 total time=   0.0s\n",
      "[CV 5/5] END algorithm=auto, n_neighbors=17, weights=uniform;, score=0.740 total time=   0.0s\n",
      "[CV 1/5] END algorithm=auto, n_neighbors=17, weights=distance;, score=0.721 total time=   0.0s\n",
      "[CV 2/5] END algorithm=auto, n_neighbors=17, weights=distance;, score=0.696 total time=   0.0s\n",
      "[CV 3/5] END algorithm=auto, n_neighbors=17, weights=distance;, score=0.759 total time=   0.0s\n",
      "[CV 4/5] END algorithm=auto, n_neighbors=17, weights=distance;, score=0.747 total time=   0.0s\n",
      "[CV 5/5] END algorithm=auto, n_neighbors=17, weights=distance;, score=0.750 total time=   0.0s\n",
      "[CV 1/5] END algorithm=auto, n_neighbors=18, weights=uniform;, score=0.736 total time=   0.0s\n",
      "[CV 2/5] END algorithm=auto, n_neighbors=18, weights=uniform;, score=0.681 total time=   0.0s\n",
      "[CV 3/5] END algorithm=auto, n_neighbors=18, weights=uniform;, score=0.743 total time=   0.0s\n",
      "[CV 4/5] END algorithm=auto, n_neighbors=18, weights=uniform;, score=0.749 total time=   0.0s\n",
      "[CV 5/5] END algorithm=auto, n_neighbors=18, weights=uniform;, score=0.736 total time=   0.0s\n",
      "[CV 1/5] END algorithm=auto, n_neighbors=18, weights=distance;, score=0.724 total time=   0.0s\n",
      "[CV 2/5] END algorithm=auto, n_neighbors=18, weights=distance;, score=0.695 total time=   0.0s\n"
     ]
    },
    {
     "name": "stdout",
     "output_type": "stream",
     "text": [
      "[CV 3/5] END algorithm=auto, n_neighbors=18, weights=distance;, score=0.771 total time=   0.0s\n",
      "[CV 4/5] END algorithm=auto, n_neighbors=18, weights=distance;, score=0.745 total time=   0.0s\n",
      "[CV 5/5] END algorithm=auto, n_neighbors=18, weights=distance;, score=0.736 total time=   0.0s\n",
      "[CV 1/5] END algorithm=auto, n_neighbors=19, weights=uniform;, score=0.740 total time=   0.0s\n",
      "[CV 2/5] END algorithm=auto, n_neighbors=19, weights=uniform;, score=0.702 total time=   0.0s\n",
      "[CV 3/5] END algorithm=auto, n_neighbors=19, weights=uniform;, score=0.745 total time=   0.0s\n",
      "[CV 4/5] END algorithm=auto, n_neighbors=19, weights=uniform;, score=0.750 total time=   0.0s\n",
      "[CV 5/5] END algorithm=auto, n_neighbors=19, weights=uniform;, score=0.729 total time=   0.0s\n",
      "[CV 1/5] END algorithm=auto, n_neighbors=19, weights=distance;, score=0.735 total time=   0.0s\n",
      "[CV 2/5] END algorithm=auto, n_neighbors=19, weights=distance;, score=0.696 total time=   0.0s\n",
      "[CV 3/5] END algorithm=auto, n_neighbors=19, weights=distance;, score=0.750 total time=   0.0s\n",
      "[CV 4/5] END algorithm=auto, n_neighbors=19, weights=distance;, score=0.742 total time=   0.0s\n",
      "[CV 5/5] END algorithm=auto, n_neighbors=19, weights=distance;, score=0.734 total time=   0.0s\n",
      "[CV 1/5] END algorithm=auto, n_neighbors=20, weights=uniform;, score=0.735 total time=   0.0s\n",
      "[CV 2/5] END algorithm=auto, n_neighbors=20, weights=uniform;, score=0.688 total time=   0.0s\n",
      "[CV 3/5] END algorithm=auto, n_neighbors=20, weights=uniform;, score=0.733 total time=   0.0s\n",
      "[CV 4/5] END algorithm=auto, n_neighbors=20, weights=uniform;, score=0.743 total time=   0.0s\n",
      "[CV 5/5] END algorithm=auto, n_neighbors=20, weights=uniform;, score=0.736 total time=   0.0s\n",
      "[CV 1/5] END algorithm=auto, n_neighbors=20, weights=distance;, score=0.740 total time=   0.0s\n",
      "[CV 2/5] END algorithm=auto, n_neighbors=20, weights=distance;, score=0.696 total time=   0.0s\n",
      "[CV 3/5] END algorithm=auto, n_neighbors=20, weights=distance;, score=0.750 total time=   0.0s\n",
      "[CV 4/5] END algorithm=auto, n_neighbors=20, weights=distance;, score=0.750 total time=   0.0s\n",
      "[CV 5/5] END algorithm=auto, n_neighbors=20, weights=distance;, score=0.734 total time=   0.0s\n",
      "[CV 1/5] END algorithm=auto, n_neighbors=21, weights=uniform;, score=0.736 total time=   0.0s\n",
      "[CV 2/5] END algorithm=auto, n_neighbors=21, weights=uniform;, score=0.698 total time=   0.0s\n",
      "[CV 3/5] END algorithm=auto, n_neighbors=21, weights=uniform;, score=0.742 total time=   0.0s\n",
      "[CV 4/5] END algorithm=auto, n_neighbors=21, weights=uniform;, score=0.745 total time=   0.0s\n",
      "[CV 5/5] END algorithm=auto, n_neighbors=21, weights=uniform;, score=0.736 total time=   0.0s\n",
      "[CV 1/5] END algorithm=auto, n_neighbors=21, weights=distance;, score=0.731 total time=   0.0s\n",
      "[CV 2/5] END algorithm=auto, n_neighbors=21, weights=distance;, score=0.695 total time=   0.0s\n",
      "[CV 3/5] END algorithm=auto, n_neighbors=21, weights=distance;, score=0.749 total time=   0.0s\n",
      "[CV 4/5] END algorithm=auto, n_neighbors=21, weights=distance;, score=0.747 total time=   0.0s\n",
      "[CV 5/5] END algorithm=auto, n_neighbors=21, weights=distance;, score=0.733 total time=   0.0s\n",
      "[CV 1/5] END algorithm=auto, n_neighbors=22, weights=uniform;, score=0.736 total time=   0.0s\n",
      "[CV 2/5] END algorithm=auto, n_neighbors=22, weights=uniform;, score=0.689 total time=   0.0s\n",
      "[CV 3/5] END algorithm=auto, n_neighbors=22, weights=uniform;, score=0.736 total time=   0.0s\n",
      "[CV 4/5] END algorithm=auto, n_neighbors=22, weights=uniform;, score=0.752 total time=   0.0s\n",
      "[CV 5/5] END algorithm=auto, n_neighbors=22, weights=uniform;, score=0.731 total time=   0.0s\n",
      "[CV 1/5] END algorithm=auto, n_neighbors=22, weights=distance;, score=0.745 total time=   0.0s\n",
      "[CV 2/5] END algorithm=auto, n_neighbors=22, weights=distance;, score=0.698 total time=   0.0s\n",
      "[CV 3/5] END algorithm=auto, n_neighbors=22, weights=distance;, score=0.752 total time=   0.0s\n",
      "[CV 4/5] END algorithm=auto, n_neighbors=22, weights=distance;, score=0.764 total time=   0.0s\n",
      "[CV 5/5] END algorithm=auto, n_neighbors=22, weights=distance;, score=0.740 total time=   0.0s\n",
      "[CV 1/5] END algorithm=auto, n_neighbors=23, weights=uniform;, score=0.742 total time=   0.0s\n",
      "[CV 2/5] END algorithm=auto, n_neighbors=23, weights=uniform;, score=0.698 total time=   0.0s\n",
      "[CV 3/5] END algorithm=auto, n_neighbors=23, weights=uniform;, score=0.745 total time=   0.0s\n",
      "[CV 4/5] END algorithm=auto, n_neighbors=23, weights=uniform;, score=0.754 total time=   0.0s\n",
      "[CV 5/5] END algorithm=auto, n_neighbors=23, weights=uniform;, score=0.724 total time=   0.0s\n",
      "[CV 1/5] END algorithm=auto, n_neighbors=23, weights=distance;, score=0.735 total time=   0.0s\n",
      "[CV 2/5] END algorithm=auto, n_neighbors=23, weights=distance;, score=0.691 total time=   0.0s\n",
      "[CV 3/5] END algorithm=auto, n_neighbors=23, weights=distance;, score=0.752 total time=   0.0s\n",
      "[CV 4/5] END algorithm=auto, n_neighbors=23, weights=distance;, score=0.761 total time=   0.0s\n",
      "[CV 5/5] END algorithm=auto, n_neighbors=23, weights=distance;, score=0.731 total time=   0.0s\n",
      "[CV 1/5] END algorithm=auto, n_neighbors=24, weights=uniform;, score=0.728 total time=   0.0s\n",
      "[CV 2/5] END algorithm=auto, n_neighbors=24, weights=uniform;, score=0.693 total time=   0.0s\n",
      "[CV 3/5] END algorithm=auto, n_neighbors=24, weights=uniform;, score=0.736 total time=   0.0s\n",
      "[CV 4/5] END algorithm=auto, n_neighbors=24, weights=uniform;, score=0.756 total time=   0.0s\n",
      "[CV 5/5] END algorithm=auto, n_neighbors=24, weights=uniform;, score=0.713 total time=   0.0s\n",
      "[CV 1/5] END algorithm=auto, n_neighbors=24, weights=distance;, score=0.740 total time=   0.0s\n",
      "[CV 2/5] END algorithm=auto, n_neighbors=24, weights=distance;, score=0.695 total time=   0.0s\n",
      "[CV 3/5] END algorithm=auto, n_neighbors=24, weights=distance;, score=0.747 total time=   0.0s\n",
      "[CV 4/5] END algorithm=auto, n_neighbors=24, weights=distance;, score=0.754 total time=   0.0s\n",
      "[CV 5/5] END algorithm=auto, n_neighbors=24, weights=distance;, score=0.736 total time=   0.0s\n",
      "[CV 1/5] END algorithm=auto, n_neighbors=25, weights=uniform;, score=0.731 total time=   0.0s\n",
      "[CV 2/5] END algorithm=auto, n_neighbors=25, weights=uniform;, score=0.695 total time=   0.0s\n",
      "[CV 3/5] END algorithm=auto, n_neighbors=25, weights=uniform;, score=0.735 total time=   0.0s\n",
      "[CV 4/5] END algorithm=auto, n_neighbors=25, weights=uniform;, score=0.752 total time=   0.0s\n",
      "[CV 5/5] END algorithm=auto, n_neighbors=25, weights=uniform;, score=0.733 total time=   0.0s\n",
      "[CV 1/5] END algorithm=auto, n_neighbors=25, weights=distance;, score=0.724 total time=   0.0s\n",
      "[CV 2/5] END algorithm=auto, n_neighbors=25, weights=distance;, score=0.691 total time=   0.0s\n",
      "[CV 3/5] END algorithm=auto, n_neighbors=25, weights=distance;, score=0.745 total time=   0.0s\n",
      "[CV 4/5] END algorithm=auto, n_neighbors=25, weights=distance;, score=0.752 total time=   0.0s\n",
      "[CV 5/5] END algorithm=auto, n_neighbors=25, weights=distance;, score=0.738 total time=   0.0s\n",
      "[CV 1/5] END algorithm=auto, n_neighbors=26, weights=uniform;, score=0.717 total time=   0.0s\n",
      "[CV 2/5] END algorithm=auto, n_neighbors=26, weights=uniform;, score=0.684 total time=   0.0s\n",
      "[CV 3/5] END algorithm=auto, n_neighbors=26, weights=uniform;, score=0.745 total time=   0.0s\n",
      "[CV 4/5] END algorithm=auto, n_neighbors=26, weights=uniform;, score=0.750 total time=   0.0s\n",
      "[CV 5/5] END algorithm=auto, n_neighbors=26, weights=uniform;, score=0.731 total time=   0.0s\n",
      "[CV 1/5] END algorithm=auto, n_neighbors=26, weights=distance;, score=0.728 total time=   0.0s\n",
      "[CV 2/5] END algorithm=auto, n_neighbors=26, weights=distance;, score=0.689 total time=   0.0s\n",
      "[CV 3/5] END algorithm=auto, n_neighbors=26, weights=distance;, score=0.754 total time=   0.0s\n",
      "[CV 4/5] END algorithm=auto, n_neighbors=26, weights=distance;, score=0.756 total time=   0.0s\n",
      "[CV 5/5] END algorithm=auto, n_neighbors=26, weights=distance;, score=0.748 total time=   0.0s\n",
      "[CV 1/5] END algorithm=auto, n_neighbors=27, weights=uniform;, score=0.723 total time=   0.0s\n",
      "[CV 2/5] END algorithm=auto, n_neighbors=27, weights=uniform;, score=0.693 total time=   0.0s\n",
      "[CV 3/5] END algorithm=auto, n_neighbors=27, weights=uniform;, score=0.745 total time=   0.0s\n",
      "[CV 4/5] END algorithm=auto, n_neighbors=27, weights=uniform;, score=0.747 total time=   0.0s\n",
      "[CV 5/5] END algorithm=auto, n_neighbors=27, weights=uniform;, score=0.726 total time=   0.0s\n"
     ]
    },
    {
     "name": "stdout",
     "output_type": "stream",
     "text": [
      "[CV 1/5] END algorithm=auto, n_neighbors=27, weights=distance;, score=0.723 total time=   0.0s\n",
      "[CV 2/5] END algorithm=auto, n_neighbors=27, weights=distance;, score=0.698 total time=   0.0s\n",
      "[CV 3/5] END algorithm=auto, n_neighbors=27, weights=distance;, score=0.750 total time=   0.0s\n",
      "[CV 4/5] END algorithm=auto, n_neighbors=27, weights=distance;, score=0.749 total time=   0.0s\n",
      "[CV 5/5] END algorithm=auto, n_neighbors=27, weights=distance;, score=0.740 total time=   0.0s\n",
      "[CV 1/5] END algorithm=auto, n_neighbors=28, weights=uniform;, score=0.721 total time=   0.0s\n",
      "[CV 2/5] END algorithm=auto, n_neighbors=28, weights=uniform;, score=0.696 total time=   0.0s\n",
      "[CV 3/5] END algorithm=auto, n_neighbors=28, weights=uniform;, score=0.749 total time=   0.0s\n",
      "[CV 4/5] END algorithm=auto, n_neighbors=28, weights=uniform;, score=0.743 total time=   0.0s\n",
      "[CV 5/5] END algorithm=auto, n_neighbors=28, weights=uniform;, score=0.736 total time=   0.0s\n",
      "[CV 1/5] END algorithm=auto, n_neighbors=28, weights=distance;, score=0.728 total time=   0.0s\n",
      "[CV 2/5] END algorithm=auto, n_neighbors=28, weights=distance;, score=0.698 total time=   0.0s\n",
      "[CV 3/5] END algorithm=auto, n_neighbors=28, weights=distance;, score=0.754 total time=   0.0s\n",
      "[CV 4/5] END algorithm=auto, n_neighbors=28, weights=distance;, score=0.750 total time=   0.0s\n",
      "[CV 5/5] END algorithm=auto, n_neighbors=28, weights=distance;, score=0.738 total time=   0.0s\n",
      "[CV 1/5] END algorithm=auto, n_neighbors=29, weights=uniform;, score=0.719 total time=   0.0s\n",
      "[CV 2/5] END algorithm=auto, n_neighbors=29, weights=uniform;, score=0.698 total time=   0.0s\n",
      "[CV 3/5] END algorithm=auto, n_neighbors=29, weights=uniform;, score=0.745 total time=   0.0s\n",
      "[CV 4/5] END algorithm=auto, n_neighbors=29, weights=uniform;, score=0.743 total time=   0.0s\n",
      "[CV 5/5] END algorithm=auto, n_neighbors=29, weights=uniform;, score=0.720 total time=   0.0s\n",
      "[CV 1/5] END algorithm=auto, n_neighbors=29, weights=distance;, score=0.726 total time=   0.0s\n",
      "[CV 2/5] END algorithm=auto, n_neighbors=29, weights=distance;, score=0.702 total time=   0.0s\n",
      "[CV 3/5] END algorithm=auto, n_neighbors=29, weights=distance;, score=0.752 total time=   0.0s\n",
      "[CV 4/5] END algorithm=auto, n_neighbors=29, weights=distance;, score=0.745 total time=   0.0s\n",
      "[CV 5/5] END algorithm=auto, n_neighbors=29, weights=distance;, score=0.731 total time=   0.0s\n",
      "[CV 1/5] END algorithm=auto, n_neighbors=30, weights=uniform;, score=0.719 total time=   0.0s\n",
      "[CV 2/5] END algorithm=auto, n_neighbors=30, weights=uniform;, score=0.693 total time=   0.0s\n",
      "[CV 3/5] END algorithm=auto, n_neighbors=30, weights=uniform;, score=0.742 total time=   0.0s\n",
      "[CV 4/5] END algorithm=auto, n_neighbors=30, weights=uniform;, score=0.749 total time=   0.0s\n",
      "[CV 5/5] END algorithm=auto, n_neighbors=30, weights=uniform;, score=0.727 total time=   0.0s\n",
      "[CV 1/5] END algorithm=auto, n_neighbors=30, weights=distance;, score=0.728 total time=   0.0s\n",
      "[CV 2/5] END algorithm=auto, n_neighbors=30, weights=distance;, score=0.698 total time=   0.0s\n",
      "[CV 3/5] END algorithm=auto, n_neighbors=30, weights=distance;, score=0.750 total time=   0.0s\n",
      "[CV 4/5] END algorithm=auto, n_neighbors=30, weights=distance;, score=0.749 total time=   0.0s\n",
      "[CV 5/5] END algorithm=auto, n_neighbors=30, weights=distance;, score=0.740 total time=   0.0s\n",
      "[CV 1/5] END algorithm=ball_tree, n_neighbors=1, weights=uniform;, score=0.696 total time=   0.1s\n",
      "[CV 2/5] END algorithm=ball_tree, n_neighbors=1, weights=uniform;, score=0.665 total time=   0.0s\n",
      "[CV 3/5] END algorithm=ball_tree, n_neighbors=1, weights=uniform;, score=0.709 total time=   0.0s\n",
      "[CV 4/5] END algorithm=ball_tree, n_neighbors=1, weights=uniform;, score=0.688 total time=   0.0s\n",
      "[CV 5/5] END algorithm=ball_tree, n_neighbors=1, weights=uniform;, score=0.712 total time=   0.0s\n",
      "[CV 1/5] END algorithm=ball_tree, n_neighbors=1, weights=distance;, score=0.696 total time=   0.0s\n",
      "[CV 2/5] END algorithm=ball_tree, n_neighbors=1, weights=distance;, score=0.665 total time=   0.0s\n",
      "[CV 3/5] END algorithm=ball_tree, n_neighbors=1, weights=distance;, score=0.709 total time=   0.0s\n",
      "[CV 4/5] END algorithm=ball_tree, n_neighbors=1, weights=distance;, score=0.688 total time=   0.0s\n",
      "[CV 5/5] END algorithm=ball_tree, n_neighbors=1, weights=distance;, score=0.712 total time=   0.0s\n",
      "[CV 1/5] END algorithm=ball_tree, n_neighbors=2, weights=uniform;, score=0.677 total time=   0.0s\n",
      "[CV 2/5] END algorithm=ball_tree, n_neighbors=2, weights=uniform;, score=0.670 total time=   0.0s\n",
      "[CV 3/5] END algorithm=ball_tree, n_neighbors=2, weights=uniform;, score=0.675 total time=   0.0s\n",
      "[CV 4/5] END algorithm=ball_tree, n_neighbors=2, weights=uniform;, score=0.668 total time=   0.0s\n",
      "[CV 5/5] END algorithm=ball_tree, n_neighbors=2, weights=uniform;, score=0.689 total time=   0.0s\n",
      "[CV 1/5] END algorithm=ball_tree, n_neighbors=2, weights=distance;, score=0.696 total time=   0.0s\n",
      "[CV 2/5] END algorithm=ball_tree, n_neighbors=2, weights=distance;, score=0.665 total time=   0.0s\n",
      "[CV 3/5] END algorithm=ball_tree, n_neighbors=2, weights=distance;, score=0.709 total time=   0.0s\n",
      "[CV 4/5] END algorithm=ball_tree, n_neighbors=2, weights=distance;, score=0.688 total time=   0.0s\n",
      "[CV 5/5] END algorithm=ball_tree, n_neighbors=2, weights=distance;, score=0.712 total time=   0.0s\n",
      "[CV 1/5] END algorithm=ball_tree, n_neighbors=3, weights=uniform;, score=0.693 total time=   0.0s\n",
      "[CV 2/5] END algorithm=ball_tree, n_neighbors=3, weights=uniform;, score=0.689 total time=   0.0s\n",
      "[CV 3/5] END algorithm=ball_tree, n_neighbors=3, weights=uniform;, score=0.729 total time=   0.0s\n",
      "[CV 4/5] END algorithm=ball_tree, n_neighbors=3, weights=uniform;, score=0.719 total time=   0.0s\n",
      "[CV 5/5] END algorithm=ball_tree, n_neighbors=3, weights=uniform;, score=0.733 total time=   0.0s\n",
      "[CV 1/5] END algorithm=ball_tree, n_neighbors=3, weights=distance;, score=0.696 total time=   0.0s\n",
      "[CV 2/5] END algorithm=ball_tree, n_neighbors=3, weights=distance;, score=0.688 total time=   0.0s\n",
      "[CV 3/5] END algorithm=ball_tree, n_neighbors=3, weights=distance;, score=0.728 total time=   0.0s\n",
      "[CV 4/5] END algorithm=ball_tree, n_neighbors=3, weights=distance;, score=0.721 total time=   0.0s\n",
      "[CV 5/5] END algorithm=ball_tree, n_neighbors=3, weights=distance;, score=0.740 total time=   0.0s\n",
      "[CV 1/5] END algorithm=ball_tree, n_neighbors=4, weights=uniform;, score=0.691 total time=   0.0s\n",
      "[CV 2/5] END algorithm=ball_tree, n_neighbors=4, weights=uniform;, score=0.668 total time=   0.0s\n",
      "[CV 3/5] END algorithm=ball_tree, n_neighbors=4, weights=uniform;, score=0.726 total time=   0.0s\n",
      "[CV 4/5] END algorithm=ball_tree, n_neighbors=4, weights=uniform;, score=0.719 total time=   0.0s\n",
      "[CV 5/5] END algorithm=ball_tree, n_neighbors=4, weights=uniform;, score=0.696 total time=   0.0s\n",
      "[CV 1/5] END algorithm=ball_tree, n_neighbors=4, weights=distance;, score=0.709 total time=   0.0s\n",
      "[CV 2/5] END algorithm=ball_tree, n_neighbors=4, weights=distance;, score=0.677 total time=   0.0s\n",
      "[CV 3/5] END algorithm=ball_tree, n_neighbors=4, weights=distance;, score=0.726 total time=   0.0s\n",
      "[CV 4/5] END algorithm=ball_tree, n_neighbors=4, weights=distance;, score=0.723 total time=   0.0s\n",
      "[CV 5/5] END algorithm=ball_tree, n_neighbors=4, weights=distance;, score=0.729 total time=   0.0s\n",
      "[CV 1/5] END algorithm=ball_tree, n_neighbors=5, weights=uniform;, score=0.705 total time=   0.0s\n",
      "[CV 2/5] END algorithm=ball_tree, n_neighbors=5, weights=uniform;, score=0.702 total time=   0.0s\n",
      "[CV 3/5] END algorithm=ball_tree, n_neighbors=5, weights=uniform;, score=0.742 total time=   0.0s\n",
      "[CV 4/5] END algorithm=ball_tree, n_neighbors=5, weights=uniform;, score=0.729 total time=   0.0s\n",
      "[CV 5/5] END algorithm=ball_tree, n_neighbors=5, weights=uniform;, score=0.717 total time=   0.0s\n",
      "[CV 1/5] END algorithm=ball_tree, n_neighbors=5, weights=distance;, score=0.703 total time=   0.0s\n",
      "[CV 2/5] END algorithm=ball_tree, n_neighbors=5, weights=distance;, score=0.695 total time=   0.0s\n",
      "[CV 3/5] END algorithm=ball_tree, n_neighbors=5, weights=distance;, score=0.740 total time=   0.0s\n",
      "[CV 4/5] END algorithm=ball_tree, n_neighbors=5, weights=distance;, score=0.733 total time=   0.0s\n",
      "[CV 5/5] END algorithm=ball_tree, n_neighbors=5, weights=distance;, score=0.720 total time=   0.0s\n",
      "[CV 1/5] END algorithm=ball_tree, n_neighbors=6, weights=uniform;, score=0.698 total time=   0.0s\n"
     ]
    },
    {
     "name": "stdout",
     "output_type": "stream",
     "text": [
      "[CV 2/5] END algorithm=ball_tree, n_neighbors=6, weights=uniform;, score=0.695 total time=   0.0s\n",
      "[CV 3/5] END algorithm=ball_tree, n_neighbors=6, weights=uniform;, score=0.735 total time=   0.0s\n",
      "[CV 4/5] END algorithm=ball_tree, n_neighbors=6, weights=uniform;, score=0.731 total time=   0.0s\n",
      "[CV 5/5] END algorithm=ball_tree, n_neighbors=6, weights=uniform;, score=0.708 total time=   0.0s\n",
      "[CV 1/5] END algorithm=ball_tree, n_neighbors=6, weights=distance;, score=0.714 total time=   0.0s\n",
      "[CV 2/5] END algorithm=ball_tree, n_neighbors=6, weights=distance;, score=0.714 total time=   0.0s\n",
      "[CV 3/5] END algorithm=ball_tree, n_neighbors=6, weights=distance;, score=0.752 total time=   0.0s\n",
      "[CV 4/5] END algorithm=ball_tree, n_neighbors=6, weights=distance;, score=0.733 total time=   0.0s\n",
      "[CV 5/5] END algorithm=ball_tree, n_neighbors=6, weights=distance;, score=0.743 total time=   0.0s\n",
      "[CV 1/5] END algorithm=ball_tree, n_neighbors=7, weights=uniform;, score=0.710 total time=   0.0s\n",
      "[CV 2/5] END algorithm=ball_tree, n_neighbors=7, weights=uniform;, score=0.702 total time=   0.0s\n",
      "[CV 3/5] END algorithm=ball_tree, n_neighbors=7, weights=uniform;, score=0.766 total time=   0.0s\n",
      "[CV 4/5] END algorithm=ball_tree, n_neighbors=7, weights=uniform;, score=0.740 total time=   0.0s\n",
      "[CV 5/5] END algorithm=ball_tree, n_neighbors=7, weights=uniform;, score=0.729 total time=   0.0s\n",
      "[CV 1/5] END algorithm=ball_tree, n_neighbors=7, weights=distance;, score=0.712 total time=   0.0s\n",
      "[CV 2/5] END algorithm=ball_tree, n_neighbors=7, weights=distance;, score=0.698 total time=   0.0s\n",
      "[CV 3/5] END algorithm=ball_tree, n_neighbors=7, weights=distance;, score=0.764 total time=   0.0s\n",
      "[CV 4/5] END algorithm=ball_tree, n_neighbors=7, weights=distance;, score=0.736 total time=   0.0s\n",
      "[CV 5/5] END algorithm=ball_tree, n_neighbors=7, weights=distance;, score=0.733 total time=   0.0s\n",
      "[CV 1/5] END algorithm=ball_tree, n_neighbors=8, weights=uniform;, score=0.707 total time=   0.0s\n",
      "[CV 2/5] END algorithm=ball_tree, n_neighbors=8, weights=uniform;, score=0.682 total time=   0.0s\n",
      "[CV 3/5] END algorithm=ball_tree, n_neighbors=8, weights=uniform;, score=0.756 total time=   0.0s\n",
      "[CV 4/5] END algorithm=ball_tree, n_neighbors=8, weights=uniform;, score=0.743 total time=   0.0s\n",
      "[CV 5/5] END algorithm=ball_tree, n_neighbors=8, weights=uniform;, score=0.717 total time=   0.0s\n",
      "[CV 1/5] END algorithm=ball_tree, n_neighbors=8, weights=distance;, score=0.717 total time=   0.0s\n",
      "[CV 2/5] END algorithm=ball_tree, n_neighbors=8, weights=distance;, score=0.693 total time=   0.0s\n",
      "[CV 3/5] END algorithm=ball_tree, n_neighbors=8, weights=distance;, score=0.747 total time=   0.0s\n",
      "[CV 4/5] END algorithm=ball_tree, n_neighbors=8, weights=distance;, score=0.750 total time=   0.0s\n",
      "[CV 5/5] END algorithm=ball_tree, n_neighbors=8, weights=distance;, score=0.745 total time=   0.0s\n",
      "[CV 1/5] END algorithm=ball_tree, n_neighbors=9, weights=uniform;, score=0.721 total time=   0.0s\n",
      "[CV 2/5] END algorithm=ball_tree, n_neighbors=9, weights=uniform;, score=0.689 total time=   0.0s\n",
      "[CV 3/5] END algorithm=ball_tree, n_neighbors=9, weights=uniform;, score=0.768 total time=   0.0s\n",
      "[CV 4/5] END algorithm=ball_tree, n_neighbors=9, weights=uniform;, score=0.740 total time=   0.0s\n",
      "[CV 5/5] END algorithm=ball_tree, n_neighbors=9, weights=uniform;, score=0.734 total time=   0.0s\n",
      "[CV 1/5] END algorithm=ball_tree, n_neighbors=9, weights=distance;, score=0.717 total time=   0.0s\n",
      "[CV 2/5] END algorithm=ball_tree, n_neighbors=9, weights=distance;, score=0.689 total time=   0.0s\n",
      "[CV 3/5] END algorithm=ball_tree, n_neighbors=9, weights=distance;, score=0.768 total time=   0.0s\n",
      "[CV 4/5] END algorithm=ball_tree, n_neighbors=9, weights=distance;, score=0.742 total time=   0.0s\n",
      "[CV 5/5] END algorithm=ball_tree, n_neighbors=9, weights=distance;, score=0.736 total time=   0.0s\n",
      "[CV 1/5] END algorithm=ball_tree, n_neighbors=10, weights=uniform;, score=0.707 total time=   0.0s\n",
      "[CV 2/5] END algorithm=ball_tree, n_neighbors=10, weights=uniform;, score=0.674 total time=   0.0s\n",
      "[CV 3/5] END algorithm=ball_tree, n_neighbors=10, weights=uniform;, score=0.754 total time=   0.0s\n",
      "[CV 4/5] END algorithm=ball_tree, n_neighbors=10, weights=uniform;, score=0.745 total time=   0.0s\n",
      "[CV 5/5] END algorithm=ball_tree, n_neighbors=10, weights=uniform;, score=0.745 total time=   0.0s\n",
      "[CV 1/5] END algorithm=ball_tree, n_neighbors=10, weights=distance;, score=0.733 total time=   0.0s\n",
      "[CV 2/5] END algorithm=ball_tree, n_neighbors=10, weights=distance;, score=0.688 total time=   0.0s\n",
      "[CV 3/5] END algorithm=ball_tree, n_neighbors=10, weights=distance;, score=0.759 total time=   0.0s\n",
      "[CV 4/5] END algorithm=ball_tree, n_neighbors=10, weights=distance;, score=0.743 total time=   0.0s\n",
      "[CV 5/5] END algorithm=ball_tree, n_neighbors=10, weights=distance;, score=0.755 total time=   0.0s\n",
      "[CV 1/5] END algorithm=ball_tree, n_neighbors=11, weights=uniform;, score=0.721 total time=   0.0s\n",
      "[CV 2/5] END algorithm=ball_tree, n_neighbors=11, weights=uniform;, score=0.698 total time=   0.0s\n",
      "[CV 3/5] END algorithm=ball_tree, n_neighbors=11, weights=uniform;, score=0.759 total time=   0.0s\n",
      "[CV 4/5] END algorithm=ball_tree, n_neighbors=11, weights=uniform;, score=0.738 total time=   0.0s\n",
      "[CV 5/5] END algorithm=ball_tree, n_neighbors=11, weights=uniform;, score=0.750 total time=   0.0s\n",
      "[CV 1/5] END algorithm=ball_tree, n_neighbors=11, weights=distance;, score=0.716 total time=   0.0s\n",
      "[CV 2/5] END algorithm=ball_tree, n_neighbors=11, weights=distance;, score=0.693 total time=   0.0s\n",
      "[CV 3/5] END algorithm=ball_tree, n_neighbors=11, weights=distance;, score=0.757 total time=   0.0s\n",
      "[CV 4/5] END algorithm=ball_tree, n_neighbors=11, weights=distance;, score=0.742 total time=   0.0s\n",
      "[CV 5/5] END algorithm=ball_tree, n_neighbors=11, weights=distance;, score=0.752 total time=   0.0s\n",
      "[CV 1/5] END algorithm=ball_tree, n_neighbors=12, weights=uniform;, score=0.721 total time=   0.0s\n",
      "[CV 2/5] END algorithm=ball_tree, n_neighbors=12, weights=uniform;, score=0.691 total time=   0.0s\n",
      "[CV 3/5] END algorithm=ball_tree, n_neighbors=12, weights=uniform;, score=0.754 total time=   0.0s\n",
      "[CV 4/5] END algorithm=ball_tree, n_neighbors=12, weights=uniform;, score=0.743 total time=   0.0s\n",
      "[CV 5/5] END algorithm=ball_tree, n_neighbors=12, weights=uniform;, score=0.747 total time=   0.0s\n",
      "[CV 1/5] END algorithm=ball_tree, n_neighbors=12, weights=distance;, score=0.729 total time=   0.0s\n",
      "[CV 2/5] END algorithm=ball_tree, n_neighbors=12, weights=distance;, score=0.702 total time=   0.0s\n",
      "[CV 3/5] END algorithm=ball_tree, n_neighbors=12, weights=distance;, score=0.766 total time=   0.0s\n",
      "[CV 4/5] END algorithm=ball_tree, n_neighbors=12, weights=distance;, score=0.742 total time=   0.0s\n",
      "[CV 5/5] END algorithm=ball_tree, n_neighbors=12, weights=distance;, score=0.750 total time=   0.0s\n",
      "[CV 1/5] END algorithm=ball_tree, n_neighbors=13, weights=uniform;, score=0.721 total time=   0.0s\n",
      "[CV 2/5] END algorithm=ball_tree, n_neighbors=13, weights=uniform;, score=0.700 total time=   0.0s\n",
      "[CV 3/5] END algorithm=ball_tree, n_neighbors=13, weights=uniform;, score=0.770 total time=   0.0s\n",
      "[CV 4/5] END algorithm=ball_tree, n_neighbors=13, weights=uniform;, score=0.731 total time=   0.0s\n",
      "[CV 5/5] END algorithm=ball_tree, n_neighbors=13, weights=uniform;, score=0.748 total time=   0.0s\n",
      "[CV 1/5] END algorithm=ball_tree, n_neighbors=13, weights=distance;, score=0.721 total time=   0.0s\n",
      "[CV 2/5] END algorithm=ball_tree, n_neighbors=13, weights=distance;, score=0.696 total time=   0.0s\n",
      "[CV 3/5] END algorithm=ball_tree, n_neighbors=13, weights=distance;, score=0.764 total time=   0.0s\n",
      "[CV 4/5] END algorithm=ball_tree, n_neighbors=13, weights=distance;, score=0.736 total time=   0.0s\n",
      "[CV 5/5] END algorithm=ball_tree, n_neighbors=13, weights=distance;, score=0.752 total time=   0.0s\n",
      "[CV 1/5] END algorithm=ball_tree, n_neighbors=14, weights=uniform;, score=0.721 total time=   0.0s\n",
      "[CV 2/5] END algorithm=ball_tree, n_neighbors=14, weights=uniform;, score=0.688 total time=   0.0s\n",
      "[CV 3/5] END algorithm=ball_tree, n_neighbors=14, weights=uniform;, score=0.738 total time=   0.0s\n",
      "[CV 4/5] END algorithm=ball_tree, n_neighbors=14, weights=uniform;, score=0.738 total time=   0.0s\n"
     ]
    },
    {
     "name": "stdout",
     "output_type": "stream",
     "text": [
      "[CV 5/5] END algorithm=ball_tree, n_neighbors=14, weights=uniform;, score=0.741 total time=   0.0s\n",
      "[CV 1/5] END algorithm=ball_tree, n_neighbors=14, weights=distance;, score=0.721 total time=   0.0s\n",
      "[CV 2/5] END algorithm=ball_tree, n_neighbors=14, weights=distance;, score=0.700 total time=   0.0s\n",
      "[CV 3/5] END algorithm=ball_tree, n_neighbors=14, weights=distance;, score=0.768 total time=   0.0s\n",
      "[CV 4/5] END algorithm=ball_tree, n_neighbors=14, weights=distance;, score=0.745 total time=   0.0s\n",
      "[CV 5/5] END algorithm=ball_tree, n_neighbors=14, weights=distance;, score=0.752 total time=   0.0s\n",
      "[CV 1/5] END algorithm=ball_tree, n_neighbors=15, weights=uniform;, score=0.731 total time=   0.0s\n",
      "[CV 2/5] END algorithm=ball_tree, n_neighbors=15, weights=uniform;, score=0.693 total time=   0.0s\n",
      "[CV 3/5] END algorithm=ball_tree, n_neighbors=15, weights=uniform;, score=0.759 total time=   0.0s\n",
      "[CV 4/5] END algorithm=ball_tree, n_neighbors=15, weights=uniform;, score=0.729 total time=   0.0s\n",
      "[CV 5/5] END algorithm=ball_tree, n_neighbors=15, weights=uniform;, score=0.736 total time=   0.0s\n",
      "[CV 1/5] END algorithm=ball_tree, n_neighbors=15, weights=distance;, score=0.728 total time=   0.0s\n",
      "[CV 2/5] END algorithm=ball_tree, n_neighbors=15, weights=distance;, score=0.696 total time=   0.0s\n",
      "[CV 3/5] END algorithm=ball_tree, n_neighbors=15, weights=distance;, score=0.759 total time=   0.0s\n",
      "[CV 4/5] END algorithm=ball_tree, n_neighbors=15, weights=distance;, score=0.736 total time=   0.0s\n",
      "[CV 5/5] END algorithm=ball_tree, n_neighbors=15, weights=distance;, score=0.748 total time=   0.0s\n",
      "[CV 1/5] END algorithm=ball_tree, n_neighbors=16, weights=uniform;, score=0.728 total time=   0.0s\n",
      "[CV 2/5] END algorithm=ball_tree, n_neighbors=16, weights=uniform;, score=0.698 total time=   0.0s\n",
      "[CV 3/5] END algorithm=ball_tree, n_neighbors=16, weights=uniform;, score=0.742 total time=   0.0s\n",
      "[CV 4/5] END algorithm=ball_tree, n_neighbors=16, weights=uniform;, score=0.742 total time=   0.0s\n",
      "[CV 5/5] END algorithm=ball_tree, n_neighbors=16, weights=uniform;, score=0.743 total time=   0.0s\n",
      "[CV 1/5] END algorithm=ball_tree, n_neighbors=16, weights=distance;, score=0.717 total time=   0.0s\n",
      "[CV 2/5] END algorithm=ball_tree, n_neighbors=16, weights=distance;, score=0.707 total time=   0.0s\n",
      "[CV 3/5] END algorithm=ball_tree, n_neighbors=16, weights=distance;, score=0.764 total time=   0.0s\n",
      "[CV 4/5] END algorithm=ball_tree, n_neighbors=16, weights=distance;, score=0.750 total time=   0.0s\n",
      "[CV 5/5] END algorithm=ball_tree, n_neighbors=16, weights=distance;, score=0.745 total time=   0.0s\n",
      "[CV 1/5] END algorithm=ball_tree, n_neighbors=17, weights=uniform;, score=0.724 total time=   0.0s\n",
      "[CV 2/5] END algorithm=ball_tree, n_neighbors=17, weights=uniform;, score=0.695 total time=   0.0s\n",
      "[CV 3/5] END algorithm=ball_tree, n_neighbors=17, weights=uniform;, score=0.756 total time=   0.0s\n",
      "[CV 4/5] END algorithm=ball_tree, n_neighbors=17, weights=uniform;, score=0.745 total time=   0.0s\n",
      "[CV 5/5] END algorithm=ball_tree, n_neighbors=17, weights=uniform;, score=0.740 total time=   0.0s\n",
      "[CV 1/5] END algorithm=ball_tree, n_neighbors=17, weights=distance;, score=0.721 total time=   0.0s\n",
      "[CV 2/5] END algorithm=ball_tree, n_neighbors=17, weights=distance;, score=0.696 total time=   0.0s\n",
      "[CV 3/5] END algorithm=ball_tree, n_neighbors=17, weights=distance;, score=0.759 total time=   0.0s\n",
      "[CV 4/5] END algorithm=ball_tree, n_neighbors=17, weights=distance;, score=0.747 total time=   0.0s\n",
      "[CV 5/5] END algorithm=ball_tree, n_neighbors=17, weights=distance;, score=0.750 total time=   0.0s\n",
      "[CV 1/5] END algorithm=ball_tree, n_neighbors=18, weights=uniform;, score=0.736 total time=   0.0s\n",
      "[CV 2/5] END algorithm=ball_tree, n_neighbors=18, weights=uniform;, score=0.681 total time=   0.0s\n",
      "[CV 3/5] END algorithm=ball_tree, n_neighbors=18, weights=uniform;, score=0.743 total time=   0.0s\n",
      "[CV 4/5] END algorithm=ball_tree, n_neighbors=18, weights=uniform;, score=0.749 total time=   0.0s\n",
      "[CV 5/5] END algorithm=ball_tree, n_neighbors=18, weights=uniform;, score=0.736 total time=   0.0s\n",
      "[CV 1/5] END algorithm=ball_tree, n_neighbors=18, weights=distance;, score=0.724 total time=   0.0s\n",
      "[CV 2/5] END algorithm=ball_tree, n_neighbors=18, weights=distance;, score=0.695 total time=   0.0s\n",
      "[CV 3/5] END algorithm=ball_tree, n_neighbors=18, weights=distance;, score=0.771 total time=   0.0s\n",
      "[CV 4/5] END algorithm=ball_tree, n_neighbors=18, weights=distance;, score=0.745 total time=   0.0s\n",
      "[CV 5/5] END algorithm=ball_tree, n_neighbors=18, weights=distance;, score=0.736 total time=   0.0s\n",
      "[CV 1/5] END algorithm=ball_tree, n_neighbors=19, weights=uniform;, score=0.740 total time=   0.0s\n",
      "[CV 2/5] END algorithm=ball_tree, n_neighbors=19, weights=uniform;, score=0.702 total time=   0.0s\n",
      "[CV 3/5] END algorithm=ball_tree, n_neighbors=19, weights=uniform;, score=0.745 total time=   0.0s\n",
      "[CV 4/5] END algorithm=ball_tree, n_neighbors=19, weights=uniform;, score=0.750 total time=   0.0s\n",
      "[CV 5/5] END algorithm=ball_tree, n_neighbors=19, weights=uniform;, score=0.729 total time=   0.0s\n",
      "[CV 1/5] END algorithm=ball_tree, n_neighbors=19, weights=distance;, score=0.735 total time=   0.0s\n",
      "[CV 2/5] END algorithm=ball_tree, n_neighbors=19, weights=distance;, score=0.696 total time=   0.0s\n",
      "[CV 3/5] END algorithm=ball_tree, n_neighbors=19, weights=distance;, score=0.750 total time=   0.0s\n",
      "[CV 4/5] END algorithm=ball_tree, n_neighbors=19, weights=distance;, score=0.742 total time=   0.0s\n",
      "[CV 5/5] END algorithm=ball_tree, n_neighbors=19, weights=distance;, score=0.734 total time=   0.0s\n",
      "[CV 1/5] END algorithm=ball_tree, n_neighbors=20, weights=uniform;, score=0.735 total time=   0.0s\n",
      "[CV 2/5] END algorithm=ball_tree, n_neighbors=20, weights=uniform;, score=0.688 total time=   0.0s\n",
      "[CV 3/5] END algorithm=ball_tree, n_neighbors=20, weights=uniform;, score=0.733 total time=   0.0s\n",
      "[CV 4/5] END algorithm=ball_tree, n_neighbors=20, weights=uniform;, score=0.743 total time=   0.0s\n",
      "[CV 5/5] END algorithm=ball_tree, n_neighbors=20, weights=uniform;, score=0.736 total time=   0.0s\n",
      "[CV 1/5] END algorithm=ball_tree, n_neighbors=20, weights=distance;, score=0.740 total time=   0.0s\n",
      "[CV 2/5] END algorithm=ball_tree, n_neighbors=20, weights=distance;, score=0.696 total time=   0.0s\n",
      "[CV 3/5] END algorithm=ball_tree, n_neighbors=20, weights=distance;, score=0.750 total time=   0.0s\n",
      "[CV 4/5] END algorithm=ball_tree, n_neighbors=20, weights=distance;, score=0.750 total time=   0.0s\n",
      "[CV 5/5] END algorithm=ball_tree, n_neighbors=20, weights=distance;, score=0.734 total time=   0.0s\n",
      "[CV 1/5] END algorithm=ball_tree, n_neighbors=21, weights=uniform;, score=0.736 total time=   0.0s\n",
      "[CV 2/5] END algorithm=ball_tree, n_neighbors=21, weights=uniform;, score=0.698 total time=   0.0s\n",
      "[CV 3/5] END algorithm=ball_tree, n_neighbors=21, weights=uniform;, score=0.742 total time=   0.0s\n",
      "[CV 4/5] END algorithm=ball_tree, n_neighbors=21, weights=uniform;, score=0.745 total time=   0.0s\n",
      "[CV 5/5] END algorithm=ball_tree, n_neighbors=21, weights=uniform;, score=0.736 total time=   0.0s\n",
      "[CV 1/5] END algorithm=ball_tree, n_neighbors=21, weights=distance;, score=0.731 total time=   0.0s\n",
      "[CV 2/5] END algorithm=ball_tree, n_neighbors=21, weights=distance;, score=0.695 total time=   0.0s\n",
      "[CV 3/5] END algorithm=ball_tree, n_neighbors=21, weights=distance;, score=0.749 total time=   0.0s\n",
      "[CV 4/5] END algorithm=ball_tree, n_neighbors=21, weights=distance;, score=0.747 total time=   0.0s\n",
      "[CV 5/5] END algorithm=ball_tree, n_neighbors=21, weights=distance;, score=0.733 total time=   0.0s\n",
      "[CV 1/5] END algorithm=ball_tree, n_neighbors=22, weights=uniform;, score=0.736 total time=   0.0s\n",
      "[CV 2/5] END algorithm=ball_tree, n_neighbors=22, weights=uniform;, score=0.689 total time=   0.0s\n",
      "[CV 3/5] END algorithm=ball_tree, n_neighbors=22, weights=uniform;, score=0.736 total time=   0.0s\n",
      "[CV 4/5] END algorithm=ball_tree, n_neighbors=22, weights=uniform;, score=0.752 total time=   0.0s\n",
      "[CV 5/5] END algorithm=ball_tree, n_neighbors=22, weights=uniform;, score=0.731 total time=   0.0s\n",
      "[CV 1/5] END algorithm=ball_tree, n_neighbors=22, weights=distance;, score=0.745 total time=   0.0s\n",
      "[CV 2/5] END algorithm=ball_tree, n_neighbors=22, weights=distance;, score=0.698 total time=   0.0s\n",
      "[CV 3/5] END algorithm=ball_tree, n_neighbors=22, weights=distance;, score=0.752 total time=   0.0s\n",
      "[CV 4/5] END algorithm=ball_tree, n_neighbors=22, weights=distance;, score=0.764 total time=   0.0s\n"
     ]
    },
    {
     "name": "stdout",
     "output_type": "stream",
     "text": [
      "[CV 5/5] END algorithm=ball_tree, n_neighbors=22, weights=distance;, score=0.740 total time=   0.0s\n",
      "[CV 1/5] END algorithm=ball_tree, n_neighbors=23, weights=uniform;, score=0.742 total time=   0.0s\n",
      "[CV 2/5] END algorithm=ball_tree, n_neighbors=23, weights=uniform;, score=0.698 total time=   0.0s\n",
      "[CV 3/5] END algorithm=ball_tree, n_neighbors=23, weights=uniform;, score=0.745 total time=   0.0s\n",
      "[CV 4/5] END algorithm=ball_tree, n_neighbors=23, weights=uniform;, score=0.754 total time=   0.0s\n",
      "[CV 5/5] END algorithm=ball_tree, n_neighbors=23, weights=uniform;, score=0.724 total time=   0.0s\n",
      "[CV 1/5] END algorithm=ball_tree, n_neighbors=23, weights=distance;, score=0.735 total time=   0.0s\n",
      "[CV 2/5] END algorithm=ball_tree, n_neighbors=23, weights=distance;, score=0.691 total time=   0.0s\n",
      "[CV 3/5] END algorithm=ball_tree, n_neighbors=23, weights=distance;, score=0.752 total time=   0.0s\n",
      "[CV 4/5] END algorithm=ball_tree, n_neighbors=23, weights=distance;, score=0.761 total time=   0.0s\n",
      "[CV 5/5] END algorithm=ball_tree, n_neighbors=23, weights=distance;, score=0.731 total time=   0.0s\n",
      "[CV 1/5] END algorithm=ball_tree, n_neighbors=24, weights=uniform;, score=0.728 total time=   0.0s\n",
      "[CV 2/5] END algorithm=ball_tree, n_neighbors=24, weights=uniform;, score=0.693 total time=   0.0s\n",
      "[CV 3/5] END algorithm=ball_tree, n_neighbors=24, weights=uniform;, score=0.736 total time=   0.0s\n",
      "[CV 4/5] END algorithm=ball_tree, n_neighbors=24, weights=uniform;, score=0.756 total time=   0.0s\n",
      "[CV 5/5] END algorithm=ball_tree, n_neighbors=24, weights=uniform;, score=0.713 total time=   0.0s\n",
      "[CV 1/5] END algorithm=ball_tree, n_neighbors=24, weights=distance;, score=0.740 total time=   0.0s\n",
      "[CV 2/5] END algorithm=ball_tree, n_neighbors=24, weights=distance;, score=0.695 total time=   0.0s\n",
      "[CV 3/5] END algorithm=ball_tree, n_neighbors=24, weights=distance;, score=0.747 total time=   0.0s\n",
      "[CV 4/5] END algorithm=ball_tree, n_neighbors=24, weights=distance;, score=0.754 total time=   0.0s\n",
      "[CV 5/5] END algorithm=ball_tree, n_neighbors=24, weights=distance;, score=0.736 total time=   0.0s\n",
      "[CV 1/5] END algorithm=ball_tree, n_neighbors=25, weights=uniform;, score=0.731 total time=   0.0s\n",
      "[CV 2/5] END algorithm=ball_tree, n_neighbors=25, weights=uniform;, score=0.695 total time=   0.0s\n",
      "[CV 3/5] END algorithm=ball_tree, n_neighbors=25, weights=uniform;, score=0.735 total time=   0.0s\n",
      "[CV 4/5] END algorithm=ball_tree, n_neighbors=25, weights=uniform;, score=0.752 total time=   0.0s\n",
      "[CV 5/5] END algorithm=ball_tree, n_neighbors=25, weights=uniform;, score=0.733 total time=   0.0s\n",
      "[CV 1/5] END algorithm=ball_tree, n_neighbors=25, weights=distance;, score=0.724 total time=   0.0s\n",
      "[CV 2/5] END algorithm=ball_tree, n_neighbors=25, weights=distance;, score=0.691 total time=   0.0s\n",
      "[CV 3/5] END algorithm=ball_tree, n_neighbors=25, weights=distance;, score=0.745 total time=   0.0s\n",
      "[CV 4/5] END algorithm=ball_tree, n_neighbors=25, weights=distance;, score=0.752 total time=   0.0s\n",
      "[CV 5/5] END algorithm=ball_tree, n_neighbors=25, weights=distance;, score=0.738 total time=   0.0s\n",
      "[CV 1/5] END algorithm=ball_tree, n_neighbors=26, weights=uniform;, score=0.717 total time=   0.0s\n",
      "[CV 2/5] END algorithm=ball_tree, n_neighbors=26, weights=uniform;, score=0.684 total time=   0.0s\n",
      "[CV 3/5] END algorithm=ball_tree, n_neighbors=26, weights=uniform;, score=0.745 total time=   0.0s\n",
      "[CV 4/5] END algorithm=ball_tree, n_neighbors=26, weights=uniform;, score=0.750 total time=   0.0s\n",
      "[CV 5/5] END algorithm=ball_tree, n_neighbors=26, weights=uniform;, score=0.731 total time=   0.0s\n",
      "[CV 1/5] END algorithm=ball_tree, n_neighbors=26, weights=distance;, score=0.728 total time=   0.0s\n",
      "[CV 2/5] END algorithm=ball_tree, n_neighbors=26, weights=distance;, score=0.689 total time=   0.0s\n",
      "[CV 3/5] END algorithm=ball_tree, n_neighbors=26, weights=distance;, score=0.754 total time=   0.0s\n",
      "[CV 4/5] END algorithm=ball_tree, n_neighbors=26, weights=distance;, score=0.756 total time=   0.0s\n",
      "[CV 5/5] END algorithm=ball_tree, n_neighbors=26, weights=distance;, score=0.748 total time=   0.0s\n",
      "[CV 1/5] END algorithm=ball_tree, n_neighbors=27, weights=uniform;, score=0.723 total time=   0.0s\n",
      "[CV 2/5] END algorithm=ball_tree, n_neighbors=27, weights=uniform;, score=0.693 total time=   0.0s\n",
      "[CV 3/5] END algorithm=ball_tree, n_neighbors=27, weights=uniform;, score=0.745 total time=   0.0s\n",
      "[CV 4/5] END algorithm=ball_tree, n_neighbors=27, weights=uniform;, score=0.747 total time=   0.0s\n",
      "[CV 5/5] END algorithm=ball_tree, n_neighbors=27, weights=uniform;, score=0.726 total time=   0.0s\n",
      "[CV 1/5] END algorithm=ball_tree, n_neighbors=27, weights=distance;, score=0.723 total time=   0.0s\n",
      "[CV 2/5] END algorithm=ball_tree, n_neighbors=27, weights=distance;, score=0.698 total time=   0.0s\n",
      "[CV 3/5] END algorithm=ball_tree, n_neighbors=27, weights=distance;, score=0.750 total time=   0.0s\n",
      "[CV 4/5] END algorithm=ball_tree, n_neighbors=27, weights=distance;, score=0.749 total time=   0.0s\n",
      "[CV 5/5] END algorithm=ball_tree, n_neighbors=27, weights=distance;, score=0.740 total time=   0.0s\n",
      "[CV 1/5] END algorithm=ball_tree, n_neighbors=28, weights=uniform;, score=0.721 total time=   0.0s\n",
      "[CV 2/5] END algorithm=ball_tree, n_neighbors=28, weights=uniform;, score=0.696 total time=   0.0s\n",
      "[CV 3/5] END algorithm=ball_tree, n_neighbors=28, weights=uniform;, score=0.749 total time=   0.0s\n",
      "[CV 4/5] END algorithm=ball_tree, n_neighbors=28, weights=uniform;, score=0.743 total time=   0.0s\n",
      "[CV 5/5] END algorithm=ball_tree, n_neighbors=28, weights=uniform;, score=0.736 total time=   0.0s\n",
      "[CV 1/5] END algorithm=ball_tree, n_neighbors=28, weights=distance;, score=0.728 total time=   0.0s\n",
      "[CV 2/5] END algorithm=ball_tree, n_neighbors=28, weights=distance;, score=0.698 total time=   0.0s\n",
      "[CV 3/5] END algorithm=ball_tree, n_neighbors=28, weights=distance;, score=0.754 total time=   0.0s\n",
      "[CV 4/5] END algorithm=ball_tree, n_neighbors=28, weights=distance;, score=0.750 total time=   0.0s\n",
      "[CV 5/5] END algorithm=ball_tree, n_neighbors=28, weights=distance;, score=0.738 total time=   0.0s\n",
      "[CV 1/5] END algorithm=ball_tree, n_neighbors=29, weights=uniform;, score=0.719 total time=   0.0s\n",
      "[CV 2/5] END algorithm=ball_tree, n_neighbors=29, weights=uniform;, score=0.698 total time=   0.0s\n",
      "[CV 3/5] END algorithm=ball_tree, n_neighbors=29, weights=uniform;, score=0.745 total time=   0.0s\n",
      "[CV 4/5] END algorithm=ball_tree, n_neighbors=29, weights=uniform;, score=0.743 total time=   0.0s\n",
      "[CV 5/5] END algorithm=ball_tree, n_neighbors=29, weights=uniform;, score=0.720 total time=   0.0s\n",
      "[CV 1/5] END algorithm=ball_tree, n_neighbors=29, weights=distance;, score=0.726 total time=   0.0s\n",
      "[CV 2/5] END algorithm=ball_tree, n_neighbors=29, weights=distance;, score=0.702 total time=   0.0s\n",
      "[CV 3/5] END algorithm=ball_tree, n_neighbors=29, weights=distance;, score=0.752 total time=   0.0s\n",
      "[CV 4/5] END algorithm=ball_tree, n_neighbors=29, weights=distance;, score=0.745 total time=   0.0s\n",
      "[CV 5/5] END algorithm=ball_tree, n_neighbors=29, weights=distance;, score=0.731 total time=   0.0s\n",
      "[CV 1/5] END algorithm=ball_tree, n_neighbors=30, weights=uniform;, score=0.719 total time=   0.0s\n",
      "[CV 2/5] END algorithm=ball_tree, n_neighbors=30, weights=uniform;, score=0.693 total time=   0.0s\n",
      "[CV 3/5] END algorithm=ball_tree, n_neighbors=30, weights=uniform;, score=0.742 total time=   0.0s\n",
      "[CV 4/5] END algorithm=ball_tree, n_neighbors=30, weights=uniform;, score=0.749 total time=   0.0s\n",
      "[CV 5/5] END algorithm=ball_tree, n_neighbors=30, weights=uniform;, score=0.727 total time=   0.0s\n",
      "[CV 1/5] END algorithm=ball_tree, n_neighbors=30, weights=distance;, score=0.728 total time=   0.0s\n",
      "[CV 2/5] END algorithm=ball_tree, n_neighbors=30, weights=distance;, score=0.698 total time=   0.0s\n",
      "[CV 3/5] END algorithm=ball_tree, n_neighbors=30, weights=distance;, score=0.750 total time=   0.0s\n",
      "[CV 4/5] END algorithm=ball_tree, n_neighbors=30, weights=distance;, score=0.749 total time=   0.0s\n",
      "[CV 5/5] END algorithm=ball_tree, n_neighbors=30, weights=distance;, score=0.740 total time=   0.0s\n",
      "[CV 1/5] END algorithm=kd_tree, n_neighbors=1, weights=uniform;, score=0.696 total time=   0.0s\n",
      "[CV 2/5] END algorithm=kd_tree, n_neighbors=1, weights=uniform;, score=0.665 total time=   0.0s\n",
      "[CV 3/5] END algorithm=kd_tree, n_neighbors=1, weights=uniform;, score=0.709 total time=   0.0s\n"
     ]
    },
    {
     "name": "stdout",
     "output_type": "stream",
     "text": [
      "[CV 4/5] END algorithm=kd_tree, n_neighbors=1, weights=uniform;, score=0.688 total time=   0.0s\n",
      "[CV 5/5] END algorithm=kd_tree, n_neighbors=1, weights=uniform;, score=0.712 total time=   0.0s\n",
      "[CV 1/5] END algorithm=kd_tree, n_neighbors=1, weights=distance;, score=0.696 total time=   0.0s\n",
      "[CV 2/5] END algorithm=kd_tree, n_neighbors=1, weights=distance;, score=0.665 total time=   0.0s\n",
      "[CV 3/5] END algorithm=kd_tree, n_neighbors=1, weights=distance;, score=0.709 total time=   0.0s\n",
      "[CV 4/5] END algorithm=kd_tree, n_neighbors=1, weights=distance;, score=0.688 total time=   0.0s\n",
      "[CV 5/5] END algorithm=kd_tree, n_neighbors=1, weights=distance;, score=0.712 total time=   0.0s\n",
      "[CV 1/5] END algorithm=kd_tree, n_neighbors=2, weights=uniform;, score=0.677 total time=   0.0s\n",
      "[CV 2/5] END algorithm=kd_tree, n_neighbors=2, weights=uniform;, score=0.670 total time=   0.0s\n",
      "[CV 3/5] END algorithm=kd_tree, n_neighbors=2, weights=uniform;, score=0.675 total time=   0.0s\n",
      "[CV 4/5] END algorithm=kd_tree, n_neighbors=2, weights=uniform;, score=0.668 total time=   0.0s\n",
      "[CV 5/5] END algorithm=kd_tree, n_neighbors=2, weights=uniform;, score=0.689 total time=   0.0s\n",
      "[CV 1/5] END algorithm=kd_tree, n_neighbors=2, weights=distance;, score=0.696 total time=   0.0s\n",
      "[CV 2/5] END algorithm=kd_tree, n_neighbors=2, weights=distance;, score=0.665 total time=   0.0s\n",
      "[CV 3/5] END algorithm=kd_tree, n_neighbors=2, weights=distance;, score=0.709 total time=   0.0s\n",
      "[CV 4/5] END algorithm=kd_tree, n_neighbors=2, weights=distance;, score=0.688 total time=   0.0s\n",
      "[CV 5/5] END algorithm=kd_tree, n_neighbors=2, weights=distance;, score=0.712 total time=   0.0s\n",
      "[CV 1/5] END algorithm=kd_tree, n_neighbors=3, weights=uniform;, score=0.693 total time=   0.0s\n",
      "[CV 2/5] END algorithm=kd_tree, n_neighbors=3, weights=uniform;, score=0.689 total time=   0.0s\n",
      "[CV 3/5] END algorithm=kd_tree, n_neighbors=3, weights=uniform;, score=0.729 total time=   0.0s\n",
      "[CV 4/5] END algorithm=kd_tree, n_neighbors=3, weights=uniform;, score=0.719 total time=   0.0s\n",
      "[CV 5/5] END algorithm=kd_tree, n_neighbors=3, weights=uniform;, score=0.733 total time=   0.0s\n",
      "[CV 1/5] END algorithm=kd_tree, n_neighbors=3, weights=distance;, score=0.696 total time=   0.0s\n",
      "[CV 2/5] END algorithm=kd_tree, n_neighbors=3, weights=distance;, score=0.688 total time=   0.0s\n",
      "[CV 3/5] END algorithm=kd_tree, n_neighbors=3, weights=distance;, score=0.728 total time=   0.0s\n",
      "[CV 4/5] END algorithm=kd_tree, n_neighbors=3, weights=distance;, score=0.721 total time=   0.0s\n",
      "[CV 5/5] END algorithm=kd_tree, n_neighbors=3, weights=distance;, score=0.740 total time=   0.0s\n",
      "[CV 1/5] END algorithm=kd_tree, n_neighbors=4, weights=uniform;, score=0.691 total time=   0.0s\n",
      "[CV 2/5] END algorithm=kd_tree, n_neighbors=4, weights=uniform;, score=0.668 total time=   0.0s\n",
      "[CV 3/5] END algorithm=kd_tree, n_neighbors=4, weights=uniform;, score=0.726 total time=   0.0s\n",
      "[CV 4/5] END algorithm=kd_tree, n_neighbors=4, weights=uniform;, score=0.719 total time=   0.0s\n",
      "[CV 5/5] END algorithm=kd_tree, n_neighbors=4, weights=uniform;, score=0.696 total time=   0.0s\n",
      "[CV 1/5] END algorithm=kd_tree, n_neighbors=4, weights=distance;, score=0.709 total time=   0.0s\n",
      "[CV 2/5] END algorithm=kd_tree, n_neighbors=4, weights=distance;, score=0.677 total time=   0.0s\n",
      "[CV 3/5] END algorithm=kd_tree, n_neighbors=4, weights=distance;, score=0.726 total time=   0.0s\n",
      "[CV 4/5] END algorithm=kd_tree, n_neighbors=4, weights=distance;, score=0.723 total time=   0.0s\n",
      "[CV 5/5] END algorithm=kd_tree, n_neighbors=4, weights=distance;, score=0.729 total time=   0.0s\n",
      "[CV 1/5] END algorithm=kd_tree, n_neighbors=5, weights=uniform;, score=0.705 total time=   0.0s\n",
      "[CV 2/5] END algorithm=kd_tree, n_neighbors=5, weights=uniform;, score=0.702 total time=   0.0s\n",
      "[CV 3/5] END algorithm=kd_tree, n_neighbors=5, weights=uniform;, score=0.742 total time=   0.0s\n",
      "[CV 4/5] END algorithm=kd_tree, n_neighbors=5, weights=uniform;, score=0.729 total time=   0.0s\n",
      "[CV 5/5] END algorithm=kd_tree, n_neighbors=5, weights=uniform;, score=0.717 total time=   0.0s\n",
      "[CV 1/5] END algorithm=kd_tree, n_neighbors=5, weights=distance;, score=0.703 total time=   0.0s\n",
      "[CV 2/5] END algorithm=kd_tree, n_neighbors=5, weights=distance;, score=0.695 total time=   0.0s\n",
      "[CV 3/5] END algorithm=kd_tree, n_neighbors=5, weights=distance;, score=0.740 total time=   0.0s\n",
      "[CV 4/5] END algorithm=kd_tree, n_neighbors=5, weights=distance;, score=0.733 total time=   0.0s\n",
      "[CV 5/5] END algorithm=kd_tree, n_neighbors=5, weights=distance;, score=0.720 total time=   0.0s\n",
      "[CV 1/5] END algorithm=kd_tree, n_neighbors=6, weights=uniform;, score=0.698 total time=   0.0s\n",
      "[CV 2/5] END algorithm=kd_tree, n_neighbors=6, weights=uniform;, score=0.695 total time=   0.0s\n",
      "[CV 3/5] END algorithm=kd_tree, n_neighbors=6, weights=uniform;, score=0.735 total time=   0.0s\n",
      "[CV 4/5] END algorithm=kd_tree, n_neighbors=6, weights=uniform;, score=0.731 total time=   0.0s\n",
      "[CV 5/5] END algorithm=kd_tree, n_neighbors=6, weights=uniform;, score=0.708 total time=   0.0s\n",
      "[CV 1/5] END algorithm=kd_tree, n_neighbors=6, weights=distance;, score=0.714 total time=   0.0s\n",
      "[CV 2/5] END algorithm=kd_tree, n_neighbors=6, weights=distance;, score=0.714 total time=   0.0s\n",
      "[CV 3/5] END algorithm=kd_tree, n_neighbors=6, weights=distance;, score=0.752 total time=   0.0s\n",
      "[CV 4/5] END algorithm=kd_tree, n_neighbors=6, weights=distance;, score=0.733 total time=   0.0s\n",
      "[CV 5/5] END algorithm=kd_tree, n_neighbors=6, weights=distance;, score=0.743 total time=   0.0s\n",
      "[CV 1/5] END algorithm=kd_tree, n_neighbors=7, weights=uniform;, score=0.710 total time=   0.0s\n",
      "[CV 2/5] END algorithm=kd_tree, n_neighbors=7, weights=uniform;, score=0.702 total time=   0.0s\n",
      "[CV 3/5] END algorithm=kd_tree, n_neighbors=7, weights=uniform;, score=0.766 total time=   0.0s\n",
      "[CV 4/5] END algorithm=kd_tree, n_neighbors=7, weights=uniform;, score=0.740 total time=   0.0s\n",
      "[CV 5/5] END algorithm=kd_tree, n_neighbors=7, weights=uniform;, score=0.729 total time=   0.0s\n",
      "[CV 1/5] END algorithm=kd_tree, n_neighbors=7, weights=distance;, score=0.712 total time=   0.0s\n",
      "[CV 2/5] END algorithm=kd_tree, n_neighbors=7, weights=distance;, score=0.698 total time=   0.0s\n",
      "[CV 3/5] END algorithm=kd_tree, n_neighbors=7, weights=distance;, score=0.764 total time=   0.0s\n",
      "[CV 4/5] END algorithm=kd_tree, n_neighbors=7, weights=distance;, score=0.736 total time=   0.0s\n",
      "[CV 5/5] END algorithm=kd_tree, n_neighbors=7, weights=distance;, score=0.733 total time=   0.0s\n",
      "[CV 1/5] END algorithm=kd_tree, n_neighbors=8, weights=uniform;, score=0.707 total time=   0.0s\n",
      "[CV 2/5] END algorithm=kd_tree, n_neighbors=8, weights=uniform;, score=0.682 total time=   0.0s\n",
      "[CV 3/5] END algorithm=kd_tree, n_neighbors=8, weights=uniform;, score=0.756 total time=   0.0s\n",
      "[CV 4/5] END algorithm=kd_tree, n_neighbors=8, weights=uniform;, score=0.743 total time=   0.0s\n",
      "[CV 5/5] END algorithm=kd_tree, n_neighbors=8, weights=uniform;, score=0.717 total time=   0.0s\n",
      "[CV 1/5] END algorithm=kd_tree, n_neighbors=8, weights=distance;, score=0.717 total time=   0.0s\n",
      "[CV 2/5] END algorithm=kd_tree, n_neighbors=8, weights=distance;, score=0.693 total time=   0.0s\n",
      "[CV 3/5] END algorithm=kd_tree, n_neighbors=8, weights=distance;, score=0.747 total time=   0.0s\n",
      "[CV 4/5] END algorithm=kd_tree, n_neighbors=8, weights=distance;, score=0.750 total time=   0.0s\n",
      "[CV 5/5] END algorithm=kd_tree, n_neighbors=8, weights=distance;, score=0.745 total time=   0.0s\n",
      "[CV 1/5] END algorithm=kd_tree, n_neighbors=9, weights=uniform;, score=0.721 total time=   0.0s\n",
      "[CV 2/5] END algorithm=kd_tree, n_neighbors=9, weights=uniform;, score=0.689 total time=   0.0s\n",
      "[CV 3/5] END algorithm=kd_tree, n_neighbors=9, weights=uniform;, score=0.768 total time=   0.0s\n",
      "[CV 4/5] END algorithm=kd_tree, n_neighbors=9, weights=uniform;, score=0.740 total time=   0.0s\n",
      "[CV 5/5] END algorithm=kd_tree, n_neighbors=9, weights=uniform;, score=0.734 total time=   0.0s\n",
      "[CV 1/5] END algorithm=kd_tree, n_neighbors=9, weights=distance;, score=0.717 total time=   0.0s\n",
      "[CV 2/5] END algorithm=kd_tree, n_neighbors=9, weights=distance;, score=0.689 total time=   0.0s\n",
      "[CV 3/5] END algorithm=kd_tree, n_neighbors=9, weights=distance;, score=0.768 total time=   0.0s\n",
      "[CV 4/5] END algorithm=kd_tree, n_neighbors=9, weights=distance;, score=0.742 total time=   0.0s\n",
      "[CV 5/5] END algorithm=kd_tree, n_neighbors=9, weights=distance;, score=0.736 total time=   0.0s\n",
      "[CV 1/5] END algorithm=kd_tree, n_neighbors=10, weights=uniform;, score=0.707 total time=   0.0s\n",
      "[CV 2/5] END algorithm=kd_tree, n_neighbors=10, weights=uniform;, score=0.674 total time=   0.0s\n"
     ]
    },
    {
     "name": "stdout",
     "output_type": "stream",
     "text": [
      "[CV 3/5] END algorithm=kd_tree, n_neighbors=10, weights=uniform;, score=0.754 total time=   0.0s\n",
      "[CV 4/5] END algorithm=kd_tree, n_neighbors=10, weights=uniform;, score=0.745 total time=   0.0s\n",
      "[CV 5/5] END algorithm=kd_tree, n_neighbors=10, weights=uniform;, score=0.745 total time=   0.0s\n",
      "[CV 1/5] END algorithm=kd_tree, n_neighbors=10, weights=distance;, score=0.733 total time=   0.0s\n",
      "[CV 2/5] END algorithm=kd_tree, n_neighbors=10, weights=distance;, score=0.688 total time=   0.0s\n",
      "[CV 3/5] END algorithm=kd_tree, n_neighbors=10, weights=distance;, score=0.759 total time=   0.0s\n",
      "[CV 4/5] END algorithm=kd_tree, n_neighbors=10, weights=distance;, score=0.743 total time=   0.0s\n",
      "[CV 5/5] END algorithm=kd_tree, n_neighbors=10, weights=distance;, score=0.755 total time=   0.0s\n",
      "[CV 1/5] END algorithm=kd_tree, n_neighbors=11, weights=uniform;, score=0.721 total time=   0.0s\n",
      "[CV 2/5] END algorithm=kd_tree, n_neighbors=11, weights=uniform;, score=0.698 total time=   0.0s\n",
      "[CV 3/5] END algorithm=kd_tree, n_neighbors=11, weights=uniform;, score=0.759 total time=   0.0s\n",
      "[CV 4/5] END algorithm=kd_tree, n_neighbors=11, weights=uniform;, score=0.738 total time=   0.0s\n",
      "[CV 5/5] END algorithm=kd_tree, n_neighbors=11, weights=uniform;, score=0.750 total time=   0.0s\n",
      "[CV 1/5] END algorithm=kd_tree, n_neighbors=11, weights=distance;, score=0.716 total time=   0.0s\n",
      "[CV 2/5] END algorithm=kd_tree, n_neighbors=11, weights=distance;, score=0.693 total time=   0.0s\n",
      "[CV 3/5] END algorithm=kd_tree, n_neighbors=11, weights=distance;, score=0.757 total time=   0.0s\n",
      "[CV 4/5] END algorithm=kd_tree, n_neighbors=11, weights=distance;, score=0.742 total time=   0.0s\n",
      "[CV 5/5] END algorithm=kd_tree, n_neighbors=11, weights=distance;, score=0.752 total time=   0.0s\n",
      "[CV 1/5] END algorithm=kd_tree, n_neighbors=12, weights=uniform;, score=0.721 total time=   0.0s\n",
      "[CV 2/5] END algorithm=kd_tree, n_neighbors=12, weights=uniform;, score=0.691 total time=   0.0s\n",
      "[CV 3/5] END algorithm=kd_tree, n_neighbors=12, weights=uniform;, score=0.754 total time=   0.0s\n",
      "[CV 4/5] END algorithm=kd_tree, n_neighbors=12, weights=uniform;, score=0.743 total time=   0.0s\n",
      "[CV 5/5] END algorithm=kd_tree, n_neighbors=12, weights=uniform;, score=0.747 total time=   0.0s\n",
      "[CV 1/5] END algorithm=kd_tree, n_neighbors=12, weights=distance;, score=0.729 total time=   0.0s\n",
      "[CV 2/5] END algorithm=kd_tree, n_neighbors=12, weights=distance;, score=0.702 total time=   0.0s\n",
      "[CV 3/5] END algorithm=kd_tree, n_neighbors=12, weights=distance;, score=0.766 total time=   0.0s\n",
      "[CV 4/5] END algorithm=kd_tree, n_neighbors=12, weights=distance;, score=0.742 total time=   0.0s\n",
      "[CV 5/5] END algorithm=kd_tree, n_neighbors=12, weights=distance;, score=0.750 total time=   0.0s\n",
      "[CV 1/5] END algorithm=kd_tree, n_neighbors=13, weights=uniform;, score=0.721 total time=   0.0s\n",
      "[CV 2/5] END algorithm=kd_tree, n_neighbors=13, weights=uniform;, score=0.700 total time=   0.0s\n",
      "[CV 3/5] END algorithm=kd_tree, n_neighbors=13, weights=uniform;, score=0.770 total time=   0.0s\n",
      "[CV 4/5] END algorithm=kd_tree, n_neighbors=13, weights=uniform;, score=0.731 total time=   0.0s\n",
      "[CV 5/5] END algorithm=kd_tree, n_neighbors=13, weights=uniform;, score=0.748 total time=   0.0s\n",
      "[CV 1/5] END algorithm=kd_tree, n_neighbors=13, weights=distance;, score=0.721 total time=   0.0s\n",
      "[CV 2/5] END algorithm=kd_tree, n_neighbors=13, weights=distance;, score=0.696 total time=   0.0s\n",
      "[CV 3/5] END algorithm=kd_tree, n_neighbors=13, weights=distance;, score=0.764 total time=   0.0s\n",
      "[CV 4/5] END algorithm=kd_tree, n_neighbors=13, weights=distance;, score=0.736 total time=   0.0s\n",
      "[CV 5/5] END algorithm=kd_tree, n_neighbors=13, weights=distance;, score=0.752 total time=   0.0s\n",
      "[CV 1/5] END algorithm=kd_tree, n_neighbors=14, weights=uniform;, score=0.721 total time=   0.0s\n",
      "[CV 2/5] END algorithm=kd_tree, n_neighbors=14, weights=uniform;, score=0.688 total time=   0.0s\n",
      "[CV 3/5] END algorithm=kd_tree, n_neighbors=14, weights=uniform;, score=0.738 total time=   0.0s\n",
      "[CV 4/5] END algorithm=kd_tree, n_neighbors=14, weights=uniform;, score=0.738 total time=   0.0s\n",
      "[CV 5/5] END algorithm=kd_tree, n_neighbors=14, weights=uniform;, score=0.741 total time=   0.0s\n",
      "[CV 1/5] END algorithm=kd_tree, n_neighbors=14, weights=distance;, score=0.721 total time=   0.0s\n",
      "[CV 2/5] END algorithm=kd_tree, n_neighbors=14, weights=distance;, score=0.700 total time=   0.0s\n",
      "[CV 3/5] END algorithm=kd_tree, n_neighbors=14, weights=distance;, score=0.768 total time=   0.0s\n",
      "[CV 4/5] END algorithm=kd_tree, n_neighbors=14, weights=distance;, score=0.745 total time=   0.0s\n",
      "[CV 5/5] END algorithm=kd_tree, n_neighbors=14, weights=distance;, score=0.752 total time=   0.0s\n",
      "[CV 1/5] END algorithm=kd_tree, n_neighbors=15, weights=uniform;, score=0.731 total time=   0.0s\n",
      "[CV 2/5] END algorithm=kd_tree, n_neighbors=15, weights=uniform;, score=0.693 total time=   0.0s\n",
      "[CV 3/5] END algorithm=kd_tree, n_neighbors=15, weights=uniform;, score=0.759 total time=   0.0s\n",
      "[CV 4/5] END algorithm=kd_tree, n_neighbors=15, weights=uniform;, score=0.729 total time=   0.0s\n",
      "[CV 5/5] END algorithm=kd_tree, n_neighbors=15, weights=uniform;, score=0.736 total time=   0.0s\n",
      "[CV 1/5] END algorithm=kd_tree, n_neighbors=15, weights=distance;, score=0.728 total time=   0.0s\n",
      "[CV 2/5] END algorithm=kd_tree, n_neighbors=15, weights=distance;, score=0.696 total time=   0.0s\n",
      "[CV 3/5] END algorithm=kd_tree, n_neighbors=15, weights=distance;, score=0.759 total time=   0.0s\n",
      "[CV 4/5] END algorithm=kd_tree, n_neighbors=15, weights=distance;, score=0.736 total time=   0.0s\n",
      "[CV 5/5] END algorithm=kd_tree, n_neighbors=15, weights=distance;, score=0.748 total time=   0.0s\n",
      "[CV 1/5] END algorithm=kd_tree, n_neighbors=16, weights=uniform;, score=0.728 total time=   0.0s\n",
      "[CV 2/5] END algorithm=kd_tree, n_neighbors=16, weights=uniform;, score=0.698 total time=   0.0s\n",
      "[CV 3/5] END algorithm=kd_tree, n_neighbors=16, weights=uniform;, score=0.742 total time=   0.0s\n",
      "[CV 4/5] END algorithm=kd_tree, n_neighbors=16, weights=uniform;, score=0.742 total time=   0.0s\n",
      "[CV 5/5] END algorithm=kd_tree, n_neighbors=16, weights=uniform;, score=0.743 total time=   0.0s\n",
      "[CV 1/5] END algorithm=kd_tree, n_neighbors=16, weights=distance;, score=0.717 total time=   0.0s\n",
      "[CV 2/5] END algorithm=kd_tree, n_neighbors=16, weights=distance;, score=0.707 total time=   0.0s\n",
      "[CV 3/5] END algorithm=kd_tree, n_neighbors=16, weights=distance;, score=0.764 total time=   0.0s\n",
      "[CV 4/5] END algorithm=kd_tree, n_neighbors=16, weights=distance;, score=0.750 total time=   0.0s\n",
      "[CV 5/5] END algorithm=kd_tree, n_neighbors=16, weights=distance;, score=0.745 total time=   0.0s\n",
      "[CV 1/5] END algorithm=kd_tree, n_neighbors=17, weights=uniform;, score=0.724 total time=   0.0s\n",
      "[CV 2/5] END algorithm=kd_tree, n_neighbors=17, weights=uniform;, score=0.695 total time=   0.0s\n",
      "[CV 3/5] END algorithm=kd_tree, n_neighbors=17, weights=uniform;, score=0.756 total time=   0.0s\n",
      "[CV 4/5] END algorithm=kd_tree, n_neighbors=17, weights=uniform;, score=0.745 total time=   0.0s\n",
      "[CV 5/5] END algorithm=kd_tree, n_neighbors=17, weights=uniform;, score=0.740 total time=   0.0s\n",
      "[CV 1/5] END algorithm=kd_tree, n_neighbors=17, weights=distance;, score=0.721 total time=   0.0s\n",
      "[CV 2/5] END algorithm=kd_tree, n_neighbors=17, weights=distance;, score=0.696 total time=   0.0s\n",
      "[CV 3/5] END algorithm=kd_tree, n_neighbors=17, weights=distance;, score=0.759 total time=   0.0s\n",
      "[CV 4/5] END algorithm=kd_tree, n_neighbors=17, weights=distance;, score=0.747 total time=   0.0s\n",
      "[CV 5/5] END algorithm=kd_tree, n_neighbors=17, weights=distance;, score=0.750 total time=   0.0s\n",
      "[CV 1/5] END algorithm=kd_tree, n_neighbors=18, weights=uniform;, score=0.736 total time=   0.0s\n",
      "[CV 2/5] END algorithm=kd_tree, n_neighbors=18, weights=uniform;, score=0.681 total time=   0.0s\n",
      "[CV 3/5] END algorithm=kd_tree, n_neighbors=18, weights=uniform;, score=0.743 total time=   0.0s\n",
      "[CV 4/5] END algorithm=kd_tree, n_neighbors=18, weights=uniform;, score=0.749 total time=   0.0s\n",
      "[CV 5/5] END algorithm=kd_tree, n_neighbors=18, weights=uniform;, score=0.736 total time=   0.0s\n",
      "[CV 1/5] END algorithm=kd_tree, n_neighbors=18, weights=distance;, score=0.724 total time=   0.0s\n",
      "[CV 2/5] END algorithm=kd_tree, n_neighbors=18, weights=distance;, score=0.695 total time=   0.0s\n",
      "[CV 3/5] END algorithm=kd_tree, n_neighbors=18, weights=distance;, score=0.771 total time=   0.0s\n",
      "[CV 4/5] END algorithm=kd_tree, n_neighbors=18, weights=distance;, score=0.745 total time=   0.0s\n"
     ]
    },
    {
     "name": "stdout",
     "output_type": "stream",
     "text": [
      "[CV 5/5] END algorithm=kd_tree, n_neighbors=18, weights=distance;, score=0.736 total time=   0.0s\n",
      "[CV 1/5] END algorithm=kd_tree, n_neighbors=19, weights=uniform;, score=0.740 total time=   0.0s\n",
      "[CV 2/5] END algorithm=kd_tree, n_neighbors=19, weights=uniform;, score=0.702 total time=   0.0s\n",
      "[CV 3/5] END algorithm=kd_tree, n_neighbors=19, weights=uniform;, score=0.745 total time=   0.0s\n",
      "[CV 4/5] END algorithm=kd_tree, n_neighbors=19, weights=uniform;, score=0.750 total time=   0.0s\n",
      "[CV 5/5] END algorithm=kd_tree, n_neighbors=19, weights=uniform;, score=0.729 total time=   0.0s\n",
      "[CV 1/5] END algorithm=kd_tree, n_neighbors=19, weights=distance;, score=0.735 total time=   0.0s\n",
      "[CV 2/5] END algorithm=kd_tree, n_neighbors=19, weights=distance;, score=0.696 total time=   0.0s\n",
      "[CV 3/5] END algorithm=kd_tree, n_neighbors=19, weights=distance;, score=0.750 total time=   0.0s\n",
      "[CV 4/5] END algorithm=kd_tree, n_neighbors=19, weights=distance;, score=0.742 total time=   0.0s\n",
      "[CV 5/5] END algorithm=kd_tree, n_neighbors=19, weights=distance;, score=0.734 total time=   0.0s\n",
      "[CV 1/5] END algorithm=kd_tree, n_neighbors=20, weights=uniform;, score=0.735 total time=   0.0s\n",
      "[CV 2/5] END algorithm=kd_tree, n_neighbors=20, weights=uniform;, score=0.688 total time=   0.0s\n",
      "[CV 3/5] END algorithm=kd_tree, n_neighbors=20, weights=uniform;, score=0.733 total time=   0.0s\n",
      "[CV 4/5] END algorithm=kd_tree, n_neighbors=20, weights=uniform;, score=0.743 total time=   0.0s\n",
      "[CV 5/5] END algorithm=kd_tree, n_neighbors=20, weights=uniform;, score=0.736 total time=   0.0s\n",
      "[CV 1/5] END algorithm=kd_tree, n_neighbors=20, weights=distance;, score=0.740 total time=   0.0s\n",
      "[CV 2/5] END algorithm=kd_tree, n_neighbors=20, weights=distance;, score=0.696 total time=   0.0s\n",
      "[CV 3/5] END algorithm=kd_tree, n_neighbors=20, weights=distance;, score=0.750 total time=   0.0s\n",
      "[CV 4/5] END algorithm=kd_tree, n_neighbors=20, weights=distance;, score=0.750 total time=   0.0s\n",
      "[CV 5/5] END algorithm=kd_tree, n_neighbors=20, weights=distance;, score=0.734 total time=   0.0s\n",
      "[CV 1/5] END algorithm=kd_tree, n_neighbors=21, weights=uniform;, score=0.736 total time=   0.0s\n",
      "[CV 2/5] END algorithm=kd_tree, n_neighbors=21, weights=uniform;, score=0.698 total time=   0.0s\n",
      "[CV 3/5] END algorithm=kd_tree, n_neighbors=21, weights=uniform;, score=0.742 total time=   0.0s\n",
      "[CV 4/5] END algorithm=kd_tree, n_neighbors=21, weights=uniform;, score=0.745 total time=   0.0s\n",
      "[CV 5/5] END algorithm=kd_tree, n_neighbors=21, weights=uniform;, score=0.736 total time=   0.0s\n",
      "[CV 1/5] END algorithm=kd_tree, n_neighbors=21, weights=distance;, score=0.731 total time=   0.0s\n",
      "[CV 2/5] END algorithm=kd_tree, n_neighbors=21, weights=distance;, score=0.695 total time=   0.0s\n",
      "[CV 3/5] END algorithm=kd_tree, n_neighbors=21, weights=distance;, score=0.749 total time=   0.0s\n",
      "[CV 4/5] END algorithm=kd_tree, n_neighbors=21, weights=distance;, score=0.747 total time=   0.0s\n",
      "[CV 5/5] END algorithm=kd_tree, n_neighbors=21, weights=distance;, score=0.733 total time=   0.0s\n",
      "[CV 1/5] END algorithm=kd_tree, n_neighbors=22, weights=uniform;, score=0.736 total time=   0.0s\n",
      "[CV 2/5] END algorithm=kd_tree, n_neighbors=22, weights=uniform;, score=0.689 total time=   0.0s\n",
      "[CV 3/5] END algorithm=kd_tree, n_neighbors=22, weights=uniform;, score=0.736 total time=   0.0s\n",
      "[CV 4/5] END algorithm=kd_tree, n_neighbors=22, weights=uniform;, score=0.752 total time=   0.0s\n",
      "[CV 5/5] END algorithm=kd_tree, n_neighbors=22, weights=uniform;, score=0.731 total time=   0.0s\n",
      "[CV 1/5] END algorithm=kd_tree, n_neighbors=22, weights=distance;, score=0.745 total time=   0.0s\n",
      "[CV 2/5] END algorithm=kd_tree, n_neighbors=22, weights=distance;, score=0.698 total time=   0.0s\n",
      "[CV 3/5] END algorithm=kd_tree, n_neighbors=22, weights=distance;, score=0.752 total time=   0.0s\n",
      "[CV 4/5] END algorithm=kd_tree, n_neighbors=22, weights=distance;, score=0.764 total time=   0.0s\n",
      "[CV 5/5] END algorithm=kd_tree, n_neighbors=22, weights=distance;, score=0.740 total time=   0.0s\n",
      "[CV 1/5] END algorithm=kd_tree, n_neighbors=23, weights=uniform;, score=0.742 total time=   0.0s\n",
      "[CV 2/5] END algorithm=kd_tree, n_neighbors=23, weights=uniform;, score=0.698 total time=   0.0s\n",
      "[CV 3/5] END algorithm=kd_tree, n_neighbors=23, weights=uniform;, score=0.745 total time=   0.0s\n",
      "[CV 4/5] END algorithm=kd_tree, n_neighbors=23, weights=uniform;, score=0.754 total time=   0.0s\n",
      "[CV 5/5] END algorithm=kd_tree, n_neighbors=23, weights=uniform;, score=0.724 total time=   0.0s\n",
      "[CV 1/5] END algorithm=kd_tree, n_neighbors=23, weights=distance;, score=0.735 total time=   0.0s\n",
      "[CV 2/5] END algorithm=kd_tree, n_neighbors=23, weights=distance;, score=0.691 total time=   0.0s\n",
      "[CV 3/5] END algorithm=kd_tree, n_neighbors=23, weights=distance;, score=0.752 total time=   0.0s\n",
      "[CV 4/5] END algorithm=kd_tree, n_neighbors=23, weights=distance;, score=0.761 total time=   0.0s\n",
      "[CV 5/5] END algorithm=kd_tree, n_neighbors=23, weights=distance;, score=0.731 total time=   0.0s\n",
      "[CV 1/5] END algorithm=kd_tree, n_neighbors=24, weights=uniform;, score=0.728 total time=   0.0s\n",
      "[CV 2/5] END algorithm=kd_tree, n_neighbors=24, weights=uniform;, score=0.693 total time=   0.0s\n",
      "[CV 3/5] END algorithm=kd_tree, n_neighbors=24, weights=uniform;, score=0.736 total time=   0.0s\n",
      "[CV 4/5] END algorithm=kd_tree, n_neighbors=24, weights=uniform;, score=0.756 total time=   0.0s\n",
      "[CV 5/5] END algorithm=kd_tree, n_neighbors=24, weights=uniform;, score=0.713 total time=   0.0s\n",
      "[CV 1/5] END algorithm=kd_tree, n_neighbors=24, weights=distance;, score=0.740 total time=   0.0s\n",
      "[CV 2/5] END algorithm=kd_tree, n_neighbors=24, weights=distance;, score=0.695 total time=   0.0s\n",
      "[CV 3/5] END algorithm=kd_tree, n_neighbors=24, weights=distance;, score=0.747 total time=   0.0s\n",
      "[CV 4/5] END algorithm=kd_tree, n_neighbors=24, weights=distance;, score=0.754 total time=   0.0s\n",
      "[CV 5/5] END algorithm=kd_tree, n_neighbors=24, weights=distance;, score=0.736 total time=   0.0s\n",
      "[CV 1/5] END algorithm=kd_tree, n_neighbors=25, weights=uniform;, score=0.731 total time=   0.0s\n",
      "[CV 2/5] END algorithm=kd_tree, n_neighbors=25, weights=uniform;, score=0.695 total time=   0.0s\n",
      "[CV 3/5] END algorithm=kd_tree, n_neighbors=25, weights=uniform;, score=0.735 total time=   0.0s\n",
      "[CV 4/5] END algorithm=kd_tree, n_neighbors=25, weights=uniform;, score=0.752 total time=   0.0s\n",
      "[CV 5/5] END algorithm=kd_tree, n_neighbors=25, weights=uniform;, score=0.733 total time=   0.0s\n",
      "[CV 1/5] END algorithm=kd_tree, n_neighbors=25, weights=distance;, score=0.724 total time=   0.0s\n",
      "[CV 2/5] END algorithm=kd_tree, n_neighbors=25, weights=distance;, score=0.691 total time=   0.0s\n",
      "[CV 3/5] END algorithm=kd_tree, n_neighbors=25, weights=distance;, score=0.745 total time=   0.0s\n",
      "[CV 4/5] END algorithm=kd_tree, n_neighbors=25, weights=distance;, score=0.752 total time=   0.0s\n",
      "[CV 5/5] END algorithm=kd_tree, n_neighbors=25, weights=distance;, score=0.738 total time=   0.0s\n",
      "[CV 1/5] END algorithm=kd_tree, n_neighbors=26, weights=uniform;, score=0.717 total time=   0.0s\n",
      "[CV 2/5] END algorithm=kd_tree, n_neighbors=26, weights=uniform;, score=0.684 total time=   0.0s\n",
      "[CV 3/5] END algorithm=kd_tree, n_neighbors=26, weights=uniform;, score=0.745 total time=   0.0s\n",
      "[CV 4/5] END algorithm=kd_tree, n_neighbors=26, weights=uniform;, score=0.750 total time=   0.0s\n",
      "[CV 5/5] END algorithm=kd_tree, n_neighbors=26, weights=uniform;, score=0.731 total time=   0.0s\n",
      "[CV 1/5] END algorithm=kd_tree, n_neighbors=26, weights=distance;, score=0.728 total time=   0.0s\n",
      "[CV 2/5] END algorithm=kd_tree, n_neighbors=26, weights=distance;, score=0.689 total time=   0.0s\n",
      "[CV 3/5] END algorithm=kd_tree, n_neighbors=26, weights=distance;, score=0.754 total time=   0.0s\n",
      "[CV 4/5] END algorithm=kd_tree, n_neighbors=26, weights=distance;, score=0.756 total time=   0.0s\n",
      "[CV 5/5] END algorithm=kd_tree, n_neighbors=26, weights=distance;, score=0.748 total time=   0.0s\n",
      "[CV 1/5] END algorithm=kd_tree, n_neighbors=27, weights=uniform;, score=0.723 total time=   0.0s\n",
      "[CV 2/5] END algorithm=kd_tree, n_neighbors=27, weights=uniform;, score=0.693 total time=   0.0s\n",
      "[CV 3/5] END algorithm=kd_tree, n_neighbors=27, weights=uniform;, score=0.745 total time=   0.0s\n",
      "[CV 4/5] END algorithm=kd_tree, n_neighbors=27, weights=uniform;, score=0.747 total time=   0.0s\n",
      "[CV 5/5] END algorithm=kd_tree, n_neighbors=27, weights=uniform;, score=0.726 total time=   0.0s\n",
      "[CV 1/5] END algorithm=kd_tree, n_neighbors=27, weights=distance;, score=0.723 total time=   0.0s\n",
      "[CV 2/5] END algorithm=kd_tree, n_neighbors=27, weights=distance;, score=0.698 total time=   0.0s\n"
     ]
    },
    {
     "name": "stdout",
     "output_type": "stream",
     "text": [
      "[CV 3/5] END algorithm=kd_tree, n_neighbors=27, weights=distance;, score=0.750 total time=   0.0s\n",
      "[CV 4/5] END algorithm=kd_tree, n_neighbors=27, weights=distance;, score=0.749 total time=   0.0s\n",
      "[CV 5/5] END algorithm=kd_tree, n_neighbors=27, weights=distance;, score=0.740 total time=   0.0s\n",
      "[CV 1/5] END algorithm=kd_tree, n_neighbors=28, weights=uniform;, score=0.721 total time=   0.0s\n",
      "[CV 2/5] END algorithm=kd_tree, n_neighbors=28, weights=uniform;, score=0.696 total time=   0.0s\n",
      "[CV 3/5] END algorithm=kd_tree, n_neighbors=28, weights=uniform;, score=0.749 total time=   0.0s\n",
      "[CV 4/5] END algorithm=kd_tree, n_neighbors=28, weights=uniform;, score=0.743 total time=   0.0s\n",
      "[CV 5/5] END algorithm=kd_tree, n_neighbors=28, weights=uniform;, score=0.736 total time=   0.0s\n",
      "[CV 1/5] END algorithm=kd_tree, n_neighbors=28, weights=distance;, score=0.728 total time=   0.0s\n",
      "[CV 2/5] END algorithm=kd_tree, n_neighbors=28, weights=distance;, score=0.698 total time=   0.0s\n",
      "[CV 3/5] END algorithm=kd_tree, n_neighbors=28, weights=distance;, score=0.754 total time=   0.0s\n",
      "[CV 4/5] END algorithm=kd_tree, n_neighbors=28, weights=distance;, score=0.750 total time=   0.0s\n",
      "[CV 5/5] END algorithm=kd_tree, n_neighbors=28, weights=distance;, score=0.738 total time=   0.0s\n",
      "[CV 1/5] END algorithm=kd_tree, n_neighbors=29, weights=uniform;, score=0.719 total time=   0.0s\n",
      "[CV 2/5] END algorithm=kd_tree, n_neighbors=29, weights=uniform;, score=0.698 total time=   0.0s\n",
      "[CV 3/5] END algorithm=kd_tree, n_neighbors=29, weights=uniform;, score=0.745 total time=   0.0s\n",
      "[CV 4/5] END algorithm=kd_tree, n_neighbors=29, weights=uniform;, score=0.743 total time=   0.0s\n",
      "[CV 5/5] END algorithm=kd_tree, n_neighbors=29, weights=uniform;, score=0.720 total time=   0.0s\n",
      "[CV 1/5] END algorithm=kd_tree, n_neighbors=29, weights=distance;, score=0.726 total time=   0.0s\n",
      "[CV 2/5] END algorithm=kd_tree, n_neighbors=29, weights=distance;, score=0.702 total time=   0.0s\n",
      "[CV 3/5] END algorithm=kd_tree, n_neighbors=29, weights=distance;, score=0.752 total time=   0.0s\n",
      "[CV 4/5] END algorithm=kd_tree, n_neighbors=29, weights=distance;, score=0.745 total time=   0.0s\n",
      "[CV 5/5] END algorithm=kd_tree, n_neighbors=29, weights=distance;, score=0.731 total time=   0.0s\n",
      "[CV 1/5] END algorithm=kd_tree, n_neighbors=30, weights=uniform;, score=0.719 total time=   0.0s\n",
      "[CV 2/5] END algorithm=kd_tree, n_neighbors=30, weights=uniform;, score=0.693 total time=   0.0s\n",
      "[CV 3/5] END algorithm=kd_tree, n_neighbors=30, weights=uniform;, score=0.742 total time=   0.0s\n",
      "[CV 4/5] END algorithm=kd_tree, n_neighbors=30, weights=uniform;, score=0.749 total time=   0.0s\n",
      "[CV 5/5] END algorithm=kd_tree, n_neighbors=30, weights=uniform;, score=0.727 total time=   0.0s\n",
      "[CV 1/5] END algorithm=kd_tree, n_neighbors=30, weights=distance;, score=0.728 total time=   0.0s\n",
      "[CV 2/5] END algorithm=kd_tree, n_neighbors=30, weights=distance;, score=0.698 total time=   0.0s\n",
      "[CV 3/5] END algorithm=kd_tree, n_neighbors=30, weights=distance;, score=0.750 total time=   0.0s\n",
      "[CV 4/5] END algorithm=kd_tree, n_neighbors=30, weights=distance;, score=0.749 total time=   0.0s\n",
      "[CV 5/5] END algorithm=kd_tree, n_neighbors=30, weights=distance;, score=0.740 total time=   0.0s\n",
      "[CV 1/5] END algorithm=brute, n_neighbors=1, weights=uniform;, score=0.696 total time=   0.1s\n",
      "[CV 2/5] END algorithm=brute, n_neighbors=1, weights=uniform;, score=0.665 total time=   0.0s\n",
      "[CV 3/5] END algorithm=brute, n_neighbors=1, weights=uniform;, score=0.709 total time=   0.0s\n",
      "[CV 4/5] END algorithm=brute, n_neighbors=1, weights=uniform;, score=0.688 total time=   0.0s\n",
      "[CV 5/5] END algorithm=brute, n_neighbors=1, weights=uniform;, score=0.712 total time=   0.0s\n",
      "[CV 1/5] END algorithm=brute, n_neighbors=1, weights=distance;, score=0.696 total time=   0.0s\n",
      "[CV 2/5] END algorithm=brute, n_neighbors=1, weights=distance;, score=0.665 total time=   0.0s\n",
      "[CV 3/5] END algorithm=brute, n_neighbors=1, weights=distance;, score=0.709 total time=   0.0s\n",
      "[CV 4/5] END algorithm=brute, n_neighbors=1, weights=distance;, score=0.688 total time=   0.0s\n",
      "[CV 5/5] END algorithm=brute, n_neighbors=1, weights=distance;, score=0.712 total time=   0.0s\n",
      "[CV 1/5] END algorithm=brute, n_neighbors=2, weights=uniform;, score=0.677 total time=   0.0s\n",
      "[CV 2/5] END algorithm=brute, n_neighbors=2, weights=uniform;, score=0.670 total time=   0.0s\n",
      "[CV 3/5] END algorithm=brute, n_neighbors=2, weights=uniform;, score=0.675 total time=   0.0s\n",
      "[CV 4/5] END algorithm=brute, n_neighbors=2, weights=uniform;, score=0.668 total time=   0.0s\n",
      "[CV 5/5] END algorithm=brute, n_neighbors=2, weights=uniform;, score=0.689 total time=   0.0s\n",
      "[CV 1/5] END algorithm=brute, n_neighbors=2, weights=distance;, score=0.696 total time=   0.0s\n",
      "[CV 2/5] END algorithm=brute, n_neighbors=2, weights=distance;, score=0.665 total time=   0.0s\n",
      "[CV 3/5] END algorithm=brute, n_neighbors=2, weights=distance;, score=0.709 total time=   0.0s\n",
      "[CV 4/5] END algorithm=brute, n_neighbors=2, weights=distance;, score=0.688 total time=   0.0s\n",
      "[CV 5/5] END algorithm=brute, n_neighbors=2, weights=distance;, score=0.712 total time=   0.0s\n",
      "[CV 1/5] END algorithm=brute, n_neighbors=3, weights=uniform;, score=0.693 total time=   0.0s\n",
      "[CV 2/5] END algorithm=brute, n_neighbors=3, weights=uniform;, score=0.689 total time=   0.0s\n",
      "[CV 3/5] END algorithm=brute, n_neighbors=3, weights=uniform;, score=0.729 total time=   0.0s\n",
      "[CV 4/5] END algorithm=brute, n_neighbors=3, weights=uniform;, score=0.719 total time=   0.0s\n",
      "[CV 5/5] END algorithm=brute, n_neighbors=3, weights=uniform;, score=0.733 total time=   0.0s\n",
      "[CV 1/5] END algorithm=brute, n_neighbors=3, weights=distance;, score=0.696 total time=   0.0s\n",
      "[CV 2/5] END algorithm=brute, n_neighbors=3, weights=distance;, score=0.688 total time=   0.0s\n",
      "[CV 3/5] END algorithm=brute, n_neighbors=3, weights=distance;, score=0.728 total time=   0.0s\n",
      "[CV 4/5] END algorithm=brute, n_neighbors=3, weights=distance;, score=0.721 total time=   0.0s\n",
      "[CV 5/5] END algorithm=brute, n_neighbors=3, weights=distance;, score=0.740 total time=   0.0s\n",
      "[CV 1/5] END algorithm=brute, n_neighbors=4, weights=uniform;, score=0.691 total time=   0.0s\n",
      "[CV 2/5] END algorithm=brute, n_neighbors=4, weights=uniform;, score=0.668 total time=   0.0s\n",
      "[CV 3/5] END algorithm=brute, n_neighbors=4, weights=uniform;, score=0.726 total time=   0.0s\n",
      "[CV 4/5] END algorithm=brute, n_neighbors=4, weights=uniform;, score=0.719 total time=   0.0s\n",
      "[CV 5/5] END algorithm=brute, n_neighbors=4, weights=uniform;, score=0.696 total time=   0.0s\n",
      "[CV 1/5] END algorithm=brute, n_neighbors=4, weights=distance;, score=0.709 total time=   0.0s\n",
      "[CV 2/5] END algorithm=brute, n_neighbors=4, weights=distance;, score=0.677 total time=   0.0s\n",
      "[CV 3/5] END algorithm=brute, n_neighbors=4, weights=distance;, score=0.726 total time=   0.0s\n",
      "[CV 4/5] END algorithm=brute, n_neighbors=4, weights=distance;, score=0.723 total time=   0.0s\n",
      "[CV 5/5] END algorithm=brute, n_neighbors=4, weights=distance;, score=0.729 total time=   0.0s\n",
      "[CV 1/5] END algorithm=brute, n_neighbors=5, weights=uniform;, score=0.705 total time=   0.0s\n",
      "[CV 2/5] END algorithm=brute, n_neighbors=5, weights=uniform;, score=0.702 total time=   0.0s\n",
      "[CV 3/5] END algorithm=brute, n_neighbors=5, weights=uniform;, score=0.742 total time=   0.0s\n",
      "[CV 4/5] END algorithm=brute, n_neighbors=5, weights=uniform;, score=0.729 total time=   0.0s\n",
      "[CV 5/5] END algorithm=brute, n_neighbors=5, weights=uniform;, score=0.717 total time=   0.0s\n",
      "[CV 1/5] END algorithm=brute, n_neighbors=5, weights=distance;, score=0.703 total time=   0.0s\n",
      "[CV 2/5] END algorithm=brute, n_neighbors=5, weights=distance;, score=0.695 total time=   0.0s\n",
      "[CV 3/5] END algorithm=brute, n_neighbors=5, weights=distance;, score=0.740 total time=   0.0s\n",
      "[CV 4/5] END algorithm=brute, n_neighbors=5, weights=distance;, score=0.733 total time=   0.0s\n",
      "[CV 5/5] END algorithm=brute, n_neighbors=5, weights=distance;, score=0.720 total time=   0.0s\n",
      "[CV 1/5] END algorithm=brute, n_neighbors=6, weights=uniform;, score=0.698 total time=   0.0s\n",
      "[CV 2/5] END algorithm=brute, n_neighbors=6, weights=uniform;, score=0.695 total time=   0.0s\n",
      "[CV 3/5] END algorithm=brute, n_neighbors=6, weights=uniform;, score=0.735 total time=   0.0s\n",
      "[CV 4/5] END algorithm=brute, n_neighbors=6, weights=uniform;, score=0.731 total time=   0.0s\n"
     ]
    },
    {
     "name": "stdout",
     "output_type": "stream",
     "text": [
      "[CV 5/5] END algorithm=brute, n_neighbors=6, weights=uniform;, score=0.708 total time=   0.0s\n",
      "[CV 1/5] END algorithm=brute, n_neighbors=6, weights=distance;, score=0.714 total time=   0.0s\n",
      "[CV 2/5] END algorithm=brute, n_neighbors=6, weights=distance;, score=0.714 total time=   0.0s\n",
      "[CV 3/5] END algorithm=brute, n_neighbors=6, weights=distance;, score=0.752 total time=   0.0s\n",
      "[CV 4/5] END algorithm=brute, n_neighbors=6, weights=distance;, score=0.733 total time=   0.0s\n",
      "[CV 5/5] END algorithm=brute, n_neighbors=6, weights=distance;, score=0.743 total time=   0.0s\n",
      "[CV 1/5] END algorithm=brute, n_neighbors=7, weights=uniform;, score=0.710 total time=   0.0s\n",
      "[CV 2/5] END algorithm=brute, n_neighbors=7, weights=uniform;, score=0.702 total time=   0.0s\n",
      "[CV 3/5] END algorithm=brute, n_neighbors=7, weights=uniform;, score=0.766 total time=   0.0s\n",
      "[CV 4/5] END algorithm=brute, n_neighbors=7, weights=uniform;, score=0.740 total time=   0.0s\n",
      "[CV 5/5] END algorithm=brute, n_neighbors=7, weights=uniform;, score=0.729 total time=   0.0s\n",
      "[CV 1/5] END algorithm=brute, n_neighbors=7, weights=distance;, score=0.712 total time=   0.0s\n",
      "[CV 2/5] END algorithm=brute, n_neighbors=7, weights=distance;, score=0.698 total time=   0.0s\n",
      "[CV 3/5] END algorithm=brute, n_neighbors=7, weights=distance;, score=0.764 total time=   0.0s\n",
      "[CV 4/5] END algorithm=brute, n_neighbors=7, weights=distance;, score=0.736 total time=   0.0s\n",
      "[CV 5/5] END algorithm=brute, n_neighbors=7, weights=distance;, score=0.733 total time=   0.0s\n",
      "[CV 1/5] END algorithm=brute, n_neighbors=8, weights=uniform;, score=0.707 total time=   0.0s\n",
      "[CV 2/5] END algorithm=brute, n_neighbors=8, weights=uniform;, score=0.682 total time=   0.0s\n",
      "[CV 3/5] END algorithm=brute, n_neighbors=8, weights=uniform;, score=0.756 total time=   0.0s\n",
      "[CV 4/5] END algorithm=brute, n_neighbors=8, weights=uniform;, score=0.743 total time=   0.0s\n",
      "[CV 5/5] END algorithm=brute, n_neighbors=8, weights=uniform;, score=0.717 total time=   0.0s\n",
      "[CV 1/5] END algorithm=brute, n_neighbors=8, weights=distance;, score=0.717 total time=   0.0s\n",
      "[CV 2/5] END algorithm=brute, n_neighbors=8, weights=distance;, score=0.693 total time=   0.0s\n",
      "[CV 3/5] END algorithm=brute, n_neighbors=8, weights=distance;, score=0.747 total time=   0.0s\n",
      "[CV 4/5] END algorithm=brute, n_neighbors=8, weights=distance;, score=0.750 total time=   0.0s\n",
      "[CV 5/5] END algorithm=brute, n_neighbors=8, weights=distance;, score=0.745 total time=   0.0s\n",
      "[CV 1/5] END algorithm=brute, n_neighbors=9, weights=uniform;, score=0.721 total time=   0.0s\n",
      "[CV 2/5] END algorithm=brute, n_neighbors=9, weights=uniform;, score=0.689 total time=   0.0s\n",
      "[CV 3/5] END algorithm=brute, n_neighbors=9, weights=uniform;, score=0.768 total time=   0.0s\n",
      "[CV 4/5] END algorithm=brute, n_neighbors=9, weights=uniform;, score=0.740 total time=   0.0s\n",
      "[CV 5/5] END algorithm=brute, n_neighbors=9, weights=uniform;, score=0.734 total time=   0.0s\n",
      "[CV 1/5] END algorithm=brute, n_neighbors=9, weights=distance;, score=0.717 total time=   0.0s\n",
      "[CV 2/5] END algorithm=brute, n_neighbors=9, weights=distance;, score=0.689 total time=   0.0s\n",
      "[CV 3/5] END algorithm=brute, n_neighbors=9, weights=distance;, score=0.768 total time=   0.0s\n",
      "[CV 4/5] END algorithm=brute, n_neighbors=9, weights=distance;, score=0.742 total time=   0.0s\n",
      "[CV 5/5] END algorithm=brute, n_neighbors=9, weights=distance;, score=0.736 total time=   0.0s\n",
      "[CV 1/5] END algorithm=brute, n_neighbors=10, weights=uniform;, score=0.707 total time=   0.0s\n",
      "[CV 2/5] END algorithm=brute, n_neighbors=10, weights=uniform;, score=0.674 total time=   0.0s\n",
      "[CV 3/5] END algorithm=brute, n_neighbors=10, weights=uniform;, score=0.754 total time=   0.0s\n",
      "[CV 4/5] END algorithm=brute, n_neighbors=10, weights=uniform;, score=0.745 total time=   0.0s\n",
      "[CV 5/5] END algorithm=brute, n_neighbors=10, weights=uniform;, score=0.745 total time=   0.0s\n",
      "[CV 1/5] END algorithm=brute, n_neighbors=10, weights=distance;, score=0.733 total time=   0.0s\n",
      "[CV 2/5] END algorithm=brute, n_neighbors=10, weights=distance;, score=0.688 total time=   0.0s\n",
      "[CV 3/5] END algorithm=brute, n_neighbors=10, weights=distance;, score=0.759 total time=   0.0s\n",
      "[CV 4/5] END algorithm=brute, n_neighbors=10, weights=distance;, score=0.743 total time=   0.0s\n",
      "[CV 5/5] END algorithm=brute, n_neighbors=10, weights=distance;, score=0.755 total time=   0.0s\n",
      "[CV 1/5] END algorithm=brute, n_neighbors=11, weights=uniform;, score=0.721 total time=   0.0s\n",
      "[CV 2/5] END algorithm=brute, n_neighbors=11, weights=uniform;, score=0.698 total time=   0.0s\n",
      "[CV 3/5] END algorithm=brute, n_neighbors=11, weights=uniform;, score=0.759 total time=   0.0s\n",
      "[CV 4/5] END algorithm=brute, n_neighbors=11, weights=uniform;, score=0.738 total time=   0.0s\n",
      "[CV 5/5] END algorithm=brute, n_neighbors=11, weights=uniform;, score=0.750 total time=   0.0s\n",
      "[CV 1/5] END algorithm=brute, n_neighbors=11, weights=distance;, score=0.716 total time=   0.0s\n",
      "[CV 2/5] END algorithm=brute, n_neighbors=11, weights=distance;, score=0.693 total time=   0.0s\n",
      "[CV 3/5] END algorithm=brute, n_neighbors=11, weights=distance;, score=0.757 total time=   0.0s\n",
      "[CV 4/5] END algorithm=brute, n_neighbors=11, weights=distance;, score=0.742 total time=   0.0s\n",
      "[CV 5/5] END algorithm=brute, n_neighbors=11, weights=distance;, score=0.752 total time=   0.0s\n",
      "[CV 1/5] END algorithm=brute, n_neighbors=12, weights=uniform;, score=0.721 total time=   0.0s\n",
      "[CV 2/5] END algorithm=brute, n_neighbors=12, weights=uniform;, score=0.691 total time=   0.0s\n",
      "[CV 3/5] END algorithm=brute, n_neighbors=12, weights=uniform;, score=0.754 total time=   0.0s\n",
      "[CV 4/5] END algorithm=brute, n_neighbors=12, weights=uniform;, score=0.743 total time=   0.0s\n",
      "[CV 5/5] END algorithm=brute, n_neighbors=12, weights=uniform;, score=0.747 total time=   0.0s\n",
      "[CV 1/5] END algorithm=brute, n_neighbors=12, weights=distance;, score=0.729 total time=   0.0s\n",
      "[CV 2/5] END algorithm=brute, n_neighbors=12, weights=distance;, score=0.702 total time=   0.0s\n",
      "[CV 3/5] END algorithm=brute, n_neighbors=12, weights=distance;, score=0.766 total time=   0.0s\n",
      "[CV 4/5] END algorithm=brute, n_neighbors=12, weights=distance;, score=0.742 total time=   0.0s\n",
      "[CV 5/5] END algorithm=brute, n_neighbors=12, weights=distance;, score=0.750 total time=   0.0s\n",
      "[CV 1/5] END algorithm=brute, n_neighbors=13, weights=uniform;, score=0.721 total time=   0.0s\n",
      "[CV 2/5] END algorithm=brute, n_neighbors=13, weights=uniform;, score=0.700 total time=   0.0s\n",
      "[CV 3/5] END algorithm=brute, n_neighbors=13, weights=uniform;, score=0.770 total time=   0.0s\n",
      "[CV 4/5] END algorithm=brute, n_neighbors=13, weights=uniform;, score=0.731 total time=   0.0s\n",
      "[CV 5/5] END algorithm=brute, n_neighbors=13, weights=uniform;, score=0.748 total time=   0.0s\n",
      "[CV 1/5] END algorithm=brute, n_neighbors=13, weights=distance;, score=0.721 total time=   0.0s\n",
      "[CV 2/5] END algorithm=brute, n_neighbors=13, weights=distance;, score=0.696 total time=   0.0s\n",
      "[CV 3/5] END algorithm=brute, n_neighbors=13, weights=distance;, score=0.764 total time=   0.0s\n",
      "[CV 4/5] END algorithm=brute, n_neighbors=13, weights=distance;, score=0.736 total time=   0.0s\n",
      "[CV 5/5] END algorithm=brute, n_neighbors=13, weights=distance;, score=0.752 total time=   0.0s\n",
      "[CV 1/5] END algorithm=brute, n_neighbors=14, weights=uniform;, score=0.721 total time=   0.0s\n",
      "[CV 2/5] END algorithm=brute, n_neighbors=14, weights=uniform;, score=0.688 total time=   0.0s\n",
      "[CV 3/5] END algorithm=brute, n_neighbors=14, weights=uniform;, score=0.738 total time=   0.0s\n",
      "[CV 4/5] END algorithm=brute, n_neighbors=14, weights=uniform;, score=0.738 total time=   0.0s\n",
      "[CV 5/5] END algorithm=brute, n_neighbors=14, weights=uniform;, score=0.741 total time=   0.0s\n",
      "[CV 1/5] END algorithm=brute, n_neighbors=14, weights=distance;, score=0.721 total time=   0.0s\n",
      "[CV 2/5] END algorithm=brute, n_neighbors=14, weights=distance;, score=0.700 total time=   0.0s\n",
      "[CV 3/5] END algorithm=brute, n_neighbors=14, weights=distance;, score=0.768 total time=   0.0s\n",
      "[CV 4/5] END algorithm=brute, n_neighbors=14, weights=distance;, score=0.745 total time=   0.0s\n",
      "[CV 5/5] END algorithm=brute, n_neighbors=14, weights=distance;, score=0.752 total time=   0.0s\n",
      "[CV 1/5] END algorithm=brute, n_neighbors=15, weights=uniform;, score=0.731 total time=   0.0s\n",
      "[CV 2/5] END algorithm=brute, n_neighbors=15, weights=uniform;, score=0.693 total time=   0.0s\n"
     ]
    },
    {
     "name": "stdout",
     "output_type": "stream",
     "text": [
      "[CV 3/5] END algorithm=brute, n_neighbors=15, weights=uniform;, score=0.759 total time=   0.0s\n",
      "[CV 4/5] END algorithm=brute, n_neighbors=15, weights=uniform;, score=0.729 total time=   0.0s\n",
      "[CV 5/5] END algorithm=brute, n_neighbors=15, weights=uniform;, score=0.736 total time=   0.0s\n",
      "[CV 1/5] END algorithm=brute, n_neighbors=15, weights=distance;, score=0.728 total time=   0.0s\n",
      "[CV 2/5] END algorithm=brute, n_neighbors=15, weights=distance;, score=0.696 total time=   0.0s\n",
      "[CV 3/5] END algorithm=brute, n_neighbors=15, weights=distance;, score=0.759 total time=   0.0s\n",
      "[CV 4/5] END algorithm=brute, n_neighbors=15, weights=distance;, score=0.736 total time=   0.0s\n",
      "[CV 5/5] END algorithm=brute, n_neighbors=15, weights=distance;, score=0.748 total time=   0.0s\n",
      "[CV 1/5] END algorithm=brute, n_neighbors=16, weights=uniform;, score=0.728 total time=   0.0s\n",
      "[CV 2/5] END algorithm=brute, n_neighbors=16, weights=uniform;, score=0.698 total time=   0.0s\n",
      "[CV 3/5] END algorithm=brute, n_neighbors=16, weights=uniform;, score=0.742 total time=   0.0s\n",
      "[CV 4/5] END algorithm=brute, n_neighbors=16, weights=uniform;, score=0.742 total time=   0.0s\n",
      "[CV 5/5] END algorithm=brute, n_neighbors=16, weights=uniform;, score=0.743 total time=   0.0s\n",
      "[CV 1/5] END algorithm=brute, n_neighbors=16, weights=distance;, score=0.717 total time=   0.0s\n",
      "[CV 2/5] END algorithm=brute, n_neighbors=16, weights=distance;, score=0.707 total time=   0.0s\n",
      "[CV 3/5] END algorithm=brute, n_neighbors=16, weights=distance;, score=0.764 total time=   0.0s\n",
      "[CV 4/5] END algorithm=brute, n_neighbors=16, weights=distance;, score=0.750 total time=   0.0s\n",
      "[CV 5/5] END algorithm=brute, n_neighbors=16, weights=distance;, score=0.745 total time=   0.0s\n",
      "[CV 1/5] END algorithm=brute, n_neighbors=17, weights=uniform;, score=0.724 total time=   0.0s\n",
      "[CV 2/5] END algorithm=brute, n_neighbors=17, weights=uniform;, score=0.695 total time=   0.0s\n",
      "[CV 3/5] END algorithm=brute, n_neighbors=17, weights=uniform;, score=0.756 total time=   0.0s\n",
      "[CV 4/5] END algorithm=brute, n_neighbors=17, weights=uniform;, score=0.745 total time=   0.0s\n",
      "[CV 5/5] END algorithm=brute, n_neighbors=17, weights=uniform;, score=0.740 total time=   0.0s\n",
      "[CV 1/5] END algorithm=brute, n_neighbors=17, weights=distance;, score=0.721 total time=   0.0s\n",
      "[CV 2/5] END algorithm=brute, n_neighbors=17, weights=distance;, score=0.696 total time=   0.0s\n",
      "[CV 3/5] END algorithm=brute, n_neighbors=17, weights=distance;, score=0.759 total time=   0.0s\n",
      "[CV 4/5] END algorithm=brute, n_neighbors=17, weights=distance;, score=0.747 total time=   0.0s\n",
      "[CV 5/5] END algorithm=brute, n_neighbors=17, weights=distance;, score=0.750 total time=   0.0s\n",
      "[CV 1/5] END algorithm=brute, n_neighbors=18, weights=uniform;, score=0.736 total time=   0.0s\n",
      "[CV 2/5] END algorithm=brute, n_neighbors=18, weights=uniform;, score=0.681 total time=   0.0s\n",
      "[CV 3/5] END algorithm=brute, n_neighbors=18, weights=uniform;, score=0.743 total time=   0.0s\n",
      "[CV 4/5] END algorithm=brute, n_neighbors=18, weights=uniform;, score=0.749 total time=   0.0s\n",
      "[CV 5/5] END algorithm=brute, n_neighbors=18, weights=uniform;, score=0.736 total time=   0.0s\n",
      "[CV 1/5] END algorithm=brute, n_neighbors=18, weights=distance;, score=0.724 total time=   0.0s\n",
      "[CV 2/5] END algorithm=brute, n_neighbors=18, weights=distance;, score=0.695 total time=   0.0s\n",
      "[CV 3/5] END algorithm=brute, n_neighbors=18, weights=distance;, score=0.771 total time=   0.0s\n",
      "[CV 4/5] END algorithm=brute, n_neighbors=18, weights=distance;, score=0.745 total time=   0.0s\n",
      "[CV 5/5] END algorithm=brute, n_neighbors=18, weights=distance;, score=0.736 total time=   0.0s\n",
      "[CV 1/5] END algorithm=brute, n_neighbors=19, weights=uniform;, score=0.740 total time=   0.0s\n",
      "[CV 2/5] END algorithm=brute, n_neighbors=19, weights=uniform;, score=0.702 total time=   0.0s\n",
      "[CV 3/5] END algorithm=brute, n_neighbors=19, weights=uniform;, score=0.745 total time=   0.0s\n",
      "[CV 4/5] END algorithm=brute, n_neighbors=19, weights=uniform;, score=0.750 total time=   0.0s\n",
      "[CV 5/5] END algorithm=brute, n_neighbors=19, weights=uniform;, score=0.729 total time=   0.0s\n",
      "[CV 1/5] END algorithm=brute, n_neighbors=19, weights=distance;, score=0.735 total time=   0.0s\n",
      "[CV 2/5] END algorithm=brute, n_neighbors=19, weights=distance;, score=0.696 total time=   0.0s\n",
      "[CV 3/5] END algorithm=brute, n_neighbors=19, weights=distance;, score=0.750 total time=   0.0s\n",
      "[CV 4/5] END algorithm=brute, n_neighbors=19, weights=distance;, score=0.742 total time=   0.0s\n",
      "[CV 5/5] END algorithm=brute, n_neighbors=19, weights=distance;, score=0.734 total time=   0.0s\n",
      "[CV 1/5] END algorithm=brute, n_neighbors=20, weights=uniform;, score=0.735 total time=   0.0s\n",
      "[CV 2/5] END algorithm=brute, n_neighbors=20, weights=uniform;, score=0.688 total time=   0.0s\n",
      "[CV 3/5] END algorithm=brute, n_neighbors=20, weights=uniform;, score=0.733 total time=   0.0s\n",
      "[CV 4/5] END algorithm=brute, n_neighbors=20, weights=uniform;, score=0.743 total time=   0.0s\n",
      "[CV 5/5] END algorithm=brute, n_neighbors=20, weights=uniform;, score=0.736 total time=   0.0s\n",
      "[CV 1/5] END algorithm=brute, n_neighbors=20, weights=distance;, score=0.740 total time=   0.0s\n",
      "[CV 2/5] END algorithm=brute, n_neighbors=20, weights=distance;, score=0.696 total time=   0.0s\n",
      "[CV 3/5] END algorithm=brute, n_neighbors=20, weights=distance;, score=0.750 total time=   0.0s\n",
      "[CV 4/5] END algorithm=brute, n_neighbors=20, weights=distance;, score=0.750 total time=   0.0s\n",
      "[CV 5/5] END algorithm=brute, n_neighbors=20, weights=distance;, score=0.734 total time=   0.0s\n",
      "[CV 1/5] END algorithm=brute, n_neighbors=21, weights=uniform;, score=0.736 total time=   0.0s\n",
      "[CV 2/5] END algorithm=brute, n_neighbors=21, weights=uniform;, score=0.698 total time=   0.0s\n",
      "[CV 3/5] END algorithm=brute, n_neighbors=21, weights=uniform;, score=0.742 total time=   0.0s\n",
      "[CV 4/5] END algorithm=brute, n_neighbors=21, weights=uniform;, score=0.745 total time=   0.0s\n",
      "[CV 5/5] END algorithm=brute, n_neighbors=21, weights=uniform;, score=0.736 total time=   0.0s\n",
      "[CV 1/5] END algorithm=brute, n_neighbors=21, weights=distance;, score=0.731 total time=   0.0s\n",
      "[CV 2/5] END algorithm=brute, n_neighbors=21, weights=distance;, score=0.695 total time=   0.0s\n",
      "[CV 3/5] END algorithm=brute, n_neighbors=21, weights=distance;, score=0.749 total time=   0.0s\n",
      "[CV 4/5] END algorithm=brute, n_neighbors=21, weights=distance;, score=0.747 total time=   0.0s\n",
      "[CV 5/5] END algorithm=brute, n_neighbors=21, weights=distance;, score=0.733 total time=   0.0s\n",
      "[CV 1/5] END algorithm=brute, n_neighbors=22, weights=uniform;, score=0.736 total time=   0.0s\n",
      "[CV 2/5] END algorithm=brute, n_neighbors=22, weights=uniform;, score=0.689 total time=   0.0s\n",
      "[CV 3/5] END algorithm=brute, n_neighbors=22, weights=uniform;, score=0.736 total time=   0.0s\n",
      "[CV 4/5] END algorithm=brute, n_neighbors=22, weights=uniform;, score=0.752 total time=   0.0s\n",
      "[CV 5/5] END algorithm=brute, n_neighbors=22, weights=uniform;, score=0.731 total time=   0.0s\n",
      "[CV 1/5] END algorithm=brute, n_neighbors=22, weights=distance;, score=0.745 total time=   0.0s\n",
      "[CV 2/5] END algorithm=brute, n_neighbors=22, weights=distance;, score=0.698 total time=   0.0s\n",
      "[CV 3/5] END algorithm=brute, n_neighbors=22, weights=distance;, score=0.752 total time=   0.0s\n",
      "[CV 4/5] END algorithm=brute, n_neighbors=22, weights=distance;, score=0.764 total time=   0.0s\n",
      "[CV 5/5] END algorithm=brute, n_neighbors=22, weights=distance;, score=0.740 total time=   0.0s\n",
      "[CV 1/5] END algorithm=brute, n_neighbors=23, weights=uniform;, score=0.742 total time=   0.0s\n",
      "[CV 2/5] END algorithm=brute, n_neighbors=23, weights=uniform;, score=0.698 total time=   0.0s\n",
      "[CV 3/5] END algorithm=brute, n_neighbors=23, weights=uniform;, score=0.745 total time=   0.0s\n",
      "[CV 4/5] END algorithm=brute, n_neighbors=23, weights=uniform;, score=0.754 total time=   0.0s\n",
      "[CV 5/5] END algorithm=brute, n_neighbors=23, weights=uniform;, score=0.724 total time=   0.0s\n",
      "[CV 1/5] END algorithm=brute, n_neighbors=23, weights=distance;, score=0.735 total time=   0.0s\n",
      "[CV 2/5] END algorithm=brute, n_neighbors=23, weights=distance;, score=0.691 total time=   0.0s\n",
      "[CV 3/5] END algorithm=brute, n_neighbors=23, weights=distance;, score=0.752 total time=   0.0s\n",
      "[CV 4/5] END algorithm=brute, n_neighbors=23, weights=distance;, score=0.761 total time=   0.0s\n",
      "[CV 5/5] END algorithm=brute, n_neighbors=23, weights=distance;, score=0.731 total time=   0.0s\n"
     ]
    },
    {
     "name": "stdout",
     "output_type": "stream",
     "text": [
      "[CV 1/5] END algorithm=brute, n_neighbors=24, weights=uniform;, score=0.728 total time=   0.0s\n",
      "[CV 2/5] END algorithm=brute, n_neighbors=24, weights=uniform;, score=0.693 total time=   0.0s\n",
      "[CV 3/5] END algorithm=brute, n_neighbors=24, weights=uniform;, score=0.736 total time=   0.0s\n",
      "[CV 4/5] END algorithm=brute, n_neighbors=24, weights=uniform;, score=0.756 total time=   0.0s\n",
      "[CV 5/5] END algorithm=brute, n_neighbors=24, weights=uniform;, score=0.713 total time=   0.0s\n",
      "[CV 1/5] END algorithm=brute, n_neighbors=24, weights=distance;, score=0.740 total time=   0.0s\n",
      "[CV 2/5] END algorithm=brute, n_neighbors=24, weights=distance;, score=0.695 total time=   0.0s\n",
      "[CV 3/5] END algorithm=brute, n_neighbors=24, weights=distance;, score=0.747 total time=   0.0s\n",
      "[CV 4/5] END algorithm=brute, n_neighbors=24, weights=distance;, score=0.754 total time=   0.0s\n",
      "[CV 5/5] END algorithm=brute, n_neighbors=24, weights=distance;, score=0.736 total time=   0.0s\n",
      "[CV 1/5] END algorithm=brute, n_neighbors=25, weights=uniform;, score=0.731 total time=   0.0s\n",
      "[CV 2/5] END algorithm=brute, n_neighbors=25, weights=uniform;, score=0.695 total time=   0.0s\n",
      "[CV 3/5] END algorithm=brute, n_neighbors=25, weights=uniform;, score=0.735 total time=   0.0s\n",
      "[CV 4/5] END algorithm=brute, n_neighbors=25, weights=uniform;, score=0.752 total time=   0.0s\n",
      "[CV 5/5] END algorithm=brute, n_neighbors=25, weights=uniform;, score=0.733 total time=   0.0s\n",
      "[CV 1/5] END algorithm=brute, n_neighbors=25, weights=distance;, score=0.724 total time=   0.0s\n",
      "[CV 2/5] END algorithm=brute, n_neighbors=25, weights=distance;, score=0.691 total time=   0.0s\n",
      "[CV 3/5] END algorithm=brute, n_neighbors=25, weights=distance;, score=0.745 total time=   0.0s\n",
      "[CV 4/5] END algorithm=brute, n_neighbors=25, weights=distance;, score=0.752 total time=   0.0s\n",
      "[CV 5/5] END algorithm=brute, n_neighbors=25, weights=distance;, score=0.738 total time=   0.0s\n",
      "[CV 1/5] END algorithm=brute, n_neighbors=26, weights=uniform;, score=0.717 total time=   0.0s\n",
      "[CV 2/5] END algorithm=brute, n_neighbors=26, weights=uniform;, score=0.684 total time=   0.0s\n",
      "[CV 3/5] END algorithm=brute, n_neighbors=26, weights=uniform;, score=0.745 total time=   0.0s\n",
      "[CV 4/5] END algorithm=brute, n_neighbors=26, weights=uniform;, score=0.750 total time=   0.0s\n",
      "[CV 5/5] END algorithm=brute, n_neighbors=26, weights=uniform;, score=0.731 total time=   0.0s\n",
      "[CV 1/5] END algorithm=brute, n_neighbors=26, weights=distance;, score=0.728 total time=   0.0s\n",
      "[CV 2/5] END algorithm=brute, n_neighbors=26, weights=distance;, score=0.689 total time=   0.0s\n",
      "[CV 3/5] END algorithm=brute, n_neighbors=26, weights=distance;, score=0.754 total time=   0.0s\n",
      "[CV 4/5] END algorithm=brute, n_neighbors=26, weights=distance;, score=0.756 total time=   0.0s\n",
      "[CV 5/5] END algorithm=brute, n_neighbors=26, weights=distance;, score=0.748 total time=   0.0s\n",
      "[CV 1/5] END algorithm=brute, n_neighbors=27, weights=uniform;, score=0.723 total time=   0.0s\n",
      "[CV 2/5] END algorithm=brute, n_neighbors=27, weights=uniform;, score=0.693 total time=   0.0s\n",
      "[CV 3/5] END algorithm=brute, n_neighbors=27, weights=uniform;, score=0.745 total time=   0.0s\n",
      "[CV 4/5] END algorithm=brute, n_neighbors=27, weights=uniform;, score=0.747 total time=   0.0s\n",
      "[CV 5/5] END algorithm=brute, n_neighbors=27, weights=uniform;, score=0.726 total time=   0.0s\n",
      "[CV 1/5] END algorithm=brute, n_neighbors=27, weights=distance;, score=0.723 total time=   0.0s\n",
      "[CV 2/5] END algorithm=brute, n_neighbors=27, weights=distance;, score=0.698 total time=   0.0s\n",
      "[CV 3/5] END algorithm=brute, n_neighbors=27, weights=distance;, score=0.750 total time=   0.0s\n",
      "[CV 4/5] END algorithm=brute, n_neighbors=27, weights=distance;, score=0.749 total time=   0.0s\n",
      "[CV 5/5] END algorithm=brute, n_neighbors=27, weights=distance;, score=0.740 total time=   0.0s\n",
      "[CV 1/5] END algorithm=brute, n_neighbors=28, weights=uniform;, score=0.721 total time=   0.0s\n",
      "[CV 2/5] END algorithm=brute, n_neighbors=28, weights=uniform;, score=0.696 total time=   0.0s\n",
      "[CV 3/5] END algorithm=brute, n_neighbors=28, weights=uniform;, score=0.749 total time=   0.0s\n",
      "[CV 4/5] END algorithm=brute, n_neighbors=28, weights=uniform;, score=0.743 total time=   0.0s\n",
      "[CV 5/5] END algorithm=brute, n_neighbors=28, weights=uniform;, score=0.736 total time=   0.0s\n",
      "[CV 1/5] END algorithm=brute, n_neighbors=28, weights=distance;, score=0.728 total time=   0.0s\n",
      "[CV 2/5] END algorithm=brute, n_neighbors=28, weights=distance;, score=0.698 total time=   0.0s\n",
      "[CV 3/5] END algorithm=brute, n_neighbors=28, weights=distance;, score=0.754 total time=   0.0s\n",
      "[CV 4/5] END algorithm=brute, n_neighbors=28, weights=distance;, score=0.750 total time=   0.0s\n",
      "[CV 5/5] END algorithm=brute, n_neighbors=28, weights=distance;, score=0.738 total time=   0.0s\n",
      "[CV 1/5] END algorithm=brute, n_neighbors=29, weights=uniform;, score=0.719 total time=   0.0s\n",
      "[CV 2/5] END algorithm=brute, n_neighbors=29, weights=uniform;, score=0.698 total time=   0.0s\n",
      "[CV 3/5] END algorithm=brute, n_neighbors=29, weights=uniform;, score=0.745 total time=   0.0s\n",
      "[CV 4/5] END algorithm=brute, n_neighbors=29, weights=uniform;, score=0.743 total time=   0.0s\n",
      "[CV 5/5] END algorithm=brute, n_neighbors=29, weights=uniform;, score=0.720 total time=   0.0s\n",
      "[CV 1/5] END algorithm=brute, n_neighbors=29, weights=distance;, score=0.726 total time=   0.0s\n",
      "[CV 2/5] END algorithm=brute, n_neighbors=29, weights=distance;, score=0.702 total time=   0.0s\n",
      "[CV 3/5] END algorithm=brute, n_neighbors=29, weights=distance;, score=0.752 total time=   0.0s\n",
      "[CV 4/5] END algorithm=brute, n_neighbors=29, weights=distance;, score=0.745 total time=   0.0s\n",
      "[CV 5/5] END algorithm=brute, n_neighbors=29, weights=distance;, score=0.731 total time=   0.0s\n",
      "[CV 1/5] END algorithm=brute, n_neighbors=30, weights=uniform;, score=0.719 total time=   0.0s\n",
      "[CV 2/5] END algorithm=brute, n_neighbors=30, weights=uniform;, score=0.693 total time=   0.0s\n",
      "[CV 3/5] END algorithm=brute, n_neighbors=30, weights=uniform;, score=0.742 total time=   0.0s\n",
      "[CV 4/5] END algorithm=brute, n_neighbors=30, weights=uniform;, score=0.749 total time=   0.0s\n",
      "[CV 5/5] END algorithm=brute, n_neighbors=30, weights=uniform;, score=0.727 total time=   0.0s\n",
      "[CV 1/5] END algorithm=brute, n_neighbors=30, weights=distance;, score=0.728 total time=   0.0s\n",
      "[CV 2/5] END algorithm=brute, n_neighbors=30, weights=distance;, score=0.698 total time=   0.0s\n",
      "[CV 3/5] END algorithm=brute, n_neighbors=30, weights=distance;, score=0.750 total time=   0.0s\n",
      "[CV 4/5] END algorithm=brute, n_neighbors=30, weights=distance;, score=0.749 total time=   0.0s\n",
      "[CV 5/5] END algorithm=brute, n_neighbors=30, weights=distance;, score=0.740 total time=   0.0s\n"
     ]
    },
    {
     "data": {
      "text/plain": [
       "GridSearchCV(cv=5, estimator=KNeighborsClassifier(),\n",
       "             param_grid={'algorithm': ['auto', 'ball_tree', 'kd_tree', 'brute'],\n",
       "                         'n_neighbors': [1, 2, 3, 4, 5, 6, 7, 8, 9, 10, 11, 12,\n",
       "                                         13, 14, 15, 16, 17, 18, 19, 20, 21, 22,\n",
       "                                         23, 24, 25, 26, 27, 28, 29, 30],\n",
       "                         'weights': ['uniform', 'distance']},\n",
       "             scoring='accuracy', verbose=3)"
      ]
     },
     "execution_count": 96,
     "metadata": {},
     "output_type": "execute_result"
    }
   ],
   "source": [
    "kn_grid.fit(X_rus_clean, y_rus)"
   ]
  },
  {
   "cell_type": "code",
   "execution_count": 97,
   "id": "5f7eaf8a",
   "metadata": {},
   "outputs": [
    {
     "name": "stdout",
     "output_type": "stream",
     "text": [
      "{'algorithm': 'auto', 'n_neighbors': 22, 'weights': 'distance'}\n"
     ]
    }
   ],
   "source": [
    "print(kn_grid.best_params_)"
   ]
  },
  {
   "cell_type": "code",
   "execution_count": 98,
   "id": "f7c36235",
   "metadata": {},
   "outputs": [],
   "source": [
    "# Refit the KNeighborsRegressor\n",
    "kn_grid = KNeighborsClassifier(n_neighbors = kn_grid.best_params_[\"n_neighbors\"],\n",
    "                               weights = kn_grid.best_params_[\"weights\"],\n",
    "                               algorithm = kn_grid.best_params_[\"algorithm\"]\n",
    "                              )"
   ]
  },
  {
   "cell_type": "code",
   "execution_count": 99,
   "id": "0157bff0",
   "metadata": {},
   "outputs": [
    {
     "data": {
      "text/plain": [
       "KNeighborsClassifier(n_neighbors=22, weights='distance')"
      ]
     },
     "execution_count": 99,
     "metadata": {},
     "output_type": "execute_result"
    }
   ],
   "source": [
    "kn_grid.fit(X_rus_clean, y_rus)"
   ]
  },
  {
   "cell_type": "code",
   "execution_count": 100,
   "id": "a5369a15",
   "metadata": {},
   "outputs": [],
   "source": [
    "knn_cvpred = kn_grid.predict(X_test_clean)"
   ]
  },
  {
   "cell_type": "code",
   "execution_count": 101,
   "id": "5977fdcf",
   "metadata": {},
   "outputs": [
    {
     "name": "stdout",
     "output_type": "stream",
     "text": [
      "              precision    recall  f1-score   support\n",
      "\n",
      "           0       0.92      0.71      0.80      1424\n",
      "           1       0.41      0.77      0.53       376\n",
      "\n",
      "    accuracy                           0.72      1800\n",
      "   macro avg       0.66      0.74      0.66      1800\n",
      "weighted avg       0.81      0.72      0.74      1800\n",
      "\n"
     ]
    }
   ],
   "source": [
    "print(classification_report(y_test, knn_cvpred, labels=[0,1]))"
   ]
  },
  {
   "cell_type": "code",
   "execution_count": 102,
   "id": "f935b737",
   "metadata": {},
   "outputs": [
    {
     "name": "stdout",
     "output_type": "stream",
     "text": [
      "Training Data Score: 1.0\n",
      "Validating Data Score: 0.7216666666666667\n",
      "Testing Data Score: 0.7177777777777777\n"
     ]
    }
   ],
   "source": [
    "print(f\"Training Data Score: {kn_grid.score(X_rus_clean, y_rus)}\")\n",
    "print(f\"Validating Data Score: {kn_grid.score(X_valid_clean, y_valid)}\")\n",
    "print(f\"Testing Data Score: {kn_grid.score(X_test_clean, y_test)}\")"
   ]
  },
  {
   "cell_type": "code",
   "execution_count": 103,
   "id": "228d0eaa",
   "metadata": {},
   "outputs": [
    {
     "data": {
      "image/png": "[encoded data removed]",
      "text/plain": [
       "<Figure size 432x288 with 2 Axes>"
      ]
     },
     "metadata": {
      "needs_background": "light"
     },
     "output_type": "display_data"
    }
   ],
   "source": [
    "ConfusionMatrixDisplay.from_predictions(y_test, knn_cvpred, display_labels = [False, True])\n",
    "plt.show()"
   ]
  },
  {
   "cell_type": "markdown",
   "id": "12087f66",
   "metadata": {},
   "source": [
    "### Bagging Classifier"
   ]
  },
  {
   "cell_type": "code",
   "execution_count": 104,
   "id": "e57ddd24",
   "metadata": {},
   "outputs": [],
   "source": [
    "dec_tree = DecisionTreeClassifier(random_state=123)"
   ]
  },
  {
   "cell_type": "code",
   "execution_count": 105,
   "id": "d9b56e80",
   "metadata": {},
   "outputs": [],
   "source": [
    "bagging_cls = BaggingClassifier(base_estimator=dec_tree, n_estimators=10, random_state=123)"
   ]
  },
  {
   "cell_type": "code",
   "execution_count": 106,
   "id": "dfae829d",
   "metadata": {},
   "outputs": [
    {
     "data": {
      "text/plain": [
       "BaggingClassifier(base_estimator=DecisionTreeClassifier(random_state=123),\n",
       "                  random_state=123)"
      ]
     },
     "execution_count": 106,
     "metadata": {},
     "output_type": "execute_result"
    }
   ],
   "source": [
    "# fit KNeighborsRegressor\n",
    "bagging_cls.fit(X_rus_clean, y_rus)"
   ]
  },
  {
   "cell_type": "code",
   "execution_count": 107,
   "id": "fe150b20",
   "metadata": {},
   "outputs": [
    {
     "data": {
      "text/plain": [
       "0.9884776536312849"
      ]
     },
     "execution_count": 107,
     "metadata": {},
     "output_type": "execute_result"
    }
   ],
   "source": [
    "bagging_cls.score(X_rus_clean, y_rus)"
   ]
  },
  {
   "cell_type": "code",
   "execution_count": 108,
   "id": "52b54821",
   "metadata": {},
   "outputs": [],
   "source": [
    "bagging_predict = bagging_cls.predict(X_test_clean)"
   ]
  },
  {
   "cell_type": "code",
   "execution_count": 109,
   "id": "0744610f",
   "metadata": {},
   "outputs": [
    {
     "name": "stdout",
     "output_type": "stream",
     "text": [
      "              precision    recall  f1-score   support\n",
      "\n",
      "           0       0.92      0.75      0.83      1424\n",
      "           1       0.45      0.76      0.56       376\n",
      "\n",
      "    accuracy                           0.75      1800\n",
      "   macro avg       0.68      0.75      0.70      1800\n",
      "weighted avg       0.82      0.75      0.77      1800\n",
      "\n"
     ]
    }
   ],
   "source": [
    "print(classification_report(y_test, bagging_predict, labels=[0,1]))"
   ]
  },
  {
   "cell_type": "code",
   "execution_count": 110,
   "id": "704b539b",
   "metadata": {},
   "outputs": [
    {
     "name": "stdout",
     "output_type": "stream",
     "text": [
      "Training Data Score: 0.9884776536312849\n",
      "Validating Data Score: 0.7575\n",
      "Testing Data Score: 0.7544444444444445\n"
     ]
    }
   ],
   "source": [
    "print(f\"Training Data Score: {bagging_cls.score(X_rus_clean, y_rus)}\")\n",
    "print(f\"Validating Data Score: {bagging_cls.score(X_valid_clean, y_valid)}\")\n",
    "print(f\"Testing Data Score: {bagging_cls.score(X_test_clean, y_test)}\")"
   ]
  },
  {
   "cell_type": "markdown",
   "id": "9f4c8d33",
   "metadata": {},
   "source": [
    "## Tuning Parameter Bagging Classifier"
   ]
  },
  {
   "cell_type": "code",
   "execution_count": 111,
   "id": "91e4ba2b",
   "metadata": {},
   "outputs": [],
   "source": [
    "cv = RepeatedStratifiedKFold(n_splits=10, n_repeats=3, random_state=123)\n",
    "bagging_param_grid = {'n_estimators' : [10, 100, 1000]}"
   ]
  },
  {
   "cell_type": "code",
   "execution_count": 112,
   "id": "d7d95eaa",
   "metadata": {},
   "outputs": [],
   "source": [
    "bagging_grid_cv = GridSearchCV(estimator=BaggingClassifier(random_state=123), \n",
    "                               param_grid=bagging_param_grid, \n",
    "                               n_jobs=-1, \n",
    "                               cv=cv, \n",
    "                               scoring='accuracy',\n",
    "                               error_score=0)"
   ]
  },
  {
   "cell_type": "code",
   "execution_count": 113,
   "id": "3fd18f4a",
   "metadata": {},
   "outputs": [
    {
     "data": {
      "text/plain": [
       "GridSearchCV(cv=RepeatedStratifiedKFold(n_repeats=3, n_splits=10, random_state=123),\n",
       "             error_score=0, estimator=BaggingClassifier(random_state=123),\n",
       "             n_jobs=-1, param_grid={'n_estimators': [10, 100, 1000]},\n",
       "             scoring='accuracy')"
      ]
     },
     "execution_count": 113,
     "metadata": {},
     "output_type": "execute_result"
    }
   ],
   "source": [
    "bagging_grid_cv.fit(X_rus_clean, y_rus)"
   ]
  },
  {
   "cell_type": "code",
   "execution_count": 114,
   "id": "2ad6a852",
   "metadata": {},
   "outputs": [
    {
     "data": {
      "text/plain": [
       "{'n_estimators': 1000}"
      ]
     },
     "execution_count": 114,
     "metadata": {},
     "output_type": "execute_result"
    }
   ],
   "source": [
    "bagging_grid_cv.best_params_"
   ]
  },
  {
   "cell_type": "code",
   "execution_count": 115,
   "id": "a13e5e40",
   "metadata": {},
   "outputs": [],
   "source": [
    "bagging_cv  = BaggingClassifier(n_estimators = bagging_grid_cv.best_params_[\"n_estimators\"])"
   ]
  },
  {
   "cell_type": "code",
   "execution_count": 116,
   "id": "56c6956a",
   "metadata": {},
   "outputs": [
    {
     "data": {
      "text/plain": [
       "BaggingClassifier(n_estimators=1000)"
      ]
     },
     "execution_count": 116,
     "metadata": {},
     "output_type": "execute_result"
    }
   ],
   "source": [
    "bagging_cv.fit(X_rus_clean, y_rus)"
   ]
  },
  {
   "cell_type": "code",
   "execution_count": 117,
   "id": "4b5db73c",
   "metadata": {},
   "outputs": [],
   "source": [
    "baggingcv_predict = bagging_cv.predict(X_test_clean)"
   ]
  },
  {
   "cell_type": "code",
   "execution_count": 118,
   "id": "9760210a",
   "metadata": {},
   "outputs": [
    {
     "name": "stdout",
     "output_type": "stream",
     "text": [
      "              precision    recall  f1-score   support\n",
      "\n",
      "           0       0.93      0.74      0.82      1424\n",
      "           1       0.44      0.79      0.57       376\n",
      "\n",
      "    accuracy                           0.75      1800\n",
      "   macro avg       0.69      0.76      0.69      1800\n",
      "weighted avg       0.83      0.75      0.77      1800\n",
      "\n"
     ]
    }
   ],
   "source": [
    "print(classification_report(y_test, baggingcv_predict, labels=[0,1]))"
   ]
  },
  {
   "cell_type": "code",
   "execution_count": 119,
   "id": "4d6409a2",
   "metadata": {},
   "outputs": [
    {
     "name": "stdout",
     "output_type": "stream",
     "text": [
      "Training Data Score: 1.0\n",
      "Validating Data Score: 0.7591666666666667\n",
      "Testing Data Score: 0.7466666666666667\n"
     ]
    }
   ],
   "source": [
    "print(f\"Training Data Score: {bagging_cv.score(X_rus_clean, y_rus)}\")\n",
    "print(f\"Validating Data Score: {bagging_cv.score(X_valid_clean, y_valid)}\")\n",
    "print(f\"Testing Data Score: {bagging_cv.score(X_test_clean, y_test)}\")"
   ]
  },
  {
   "cell_type": "code",
   "execution_count": 120,
   "id": "78db6ac7",
   "metadata": {},
   "outputs": [
    {
     "data": {
      "image/png": "[encoded data removed]",
      "text/plain": [
       "<Figure size 432x288 with 2 Axes>"
      ]
     },
     "metadata": {
      "needs_background": "light"
     },
     "output_type": "display_data"
    }
   ],
   "source": [
    "ConfusionMatrixDisplay.from_predictions(y_test, baggingcv_predict, display_labels = [False, True])\n",
    "plt.show()"
   ]
  },
  {
   "cell_type": "markdown",
   "id": "15e3239e",
   "metadata": {},
   "source": [
    "## Gradient Boosting"
   ]
  },
  {
   "cell_type": "code",
   "execution_count": 121,
   "id": "05f3ac86",
   "metadata": {},
   "outputs": [],
   "source": [
    "# Build GradientBoosting\n",
    "grad_boost = GradientBoostingClassifier(random_state = 123)"
   ]
  },
  {
   "cell_type": "code",
   "execution_count": 122,
   "id": "14134990",
   "metadata": {},
   "outputs": [
    {
     "data": {
      "text/plain": [
       "GradientBoostingClassifier(random_state=123)"
      ]
     },
     "execution_count": 122,
     "metadata": {},
     "output_type": "execute_result"
    }
   ],
   "source": [
    "# Fit GradientBoosting\n",
    "grad_boost.fit(X_rus_clean, y_rus)"
   ]
  },
  {
   "cell_type": "code",
   "execution_count": 123,
   "id": "0dba7df4",
   "metadata": {},
   "outputs": [
    {
     "data": {
      "text/plain": [
       "0.8240223463687151"
      ]
     },
     "execution_count": 123,
     "metadata": {},
     "output_type": "execute_result"
    }
   ],
   "source": [
    "grad_boost.score(X_rus_clean, y_rus)"
   ]
  },
  {
   "cell_type": "code",
   "execution_count": 124,
   "id": "4965fe34",
   "metadata": {},
   "outputs": [],
   "source": [
    "gradboost_predict = grad_boost.predict(X_test_clean)"
   ]
  },
  {
   "cell_type": "code",
   "execution_count": 125,
   "id": "668f3610",
   "metadata": {},
   "outputs": [
    {
     "name": "stdout",
     "output_type": "stream",
     "text": [
      "              precision    recall  f1-score   support\n",
      "\n",
      "           0       0.94      0.74      0.83      1424\n",
      "           1       0.46      0.83      0.59       376\n",
      "\n",
      "    accuracy                           0.76      1800\n",
      "   macro avg       0.70      0.79      0.71      1800\n",
      "weighted avg       0.84      0.76      0.78      1800\n",
      "\n"
     ]
    }
   ],
   "source": [
    "print(classification_report(y_test, gradboost_predict, labels=[0,1]))"
   ]
  },
  {
   "cell_type": "code",
   "execution_count": 126,
   "id": "b6e967f3",
   "metadata": {},
   "outputs": [
    {
     "name": "stdout",
     "output_type": "stream",
     "text": [
      "Training Data Score: 0.8240223463687151\n",
      "Validating Data Score: 0.7591666666666667\n",
      "Testing Data Score: 0.7611111111111111\n"
     ]
    }
   ],
   "source": [
    "print(f\"Training Data Score: {grad_boost.score(X_rus_clean, y_rus)}\")\n",
    "print(f\"Validating Data Score: {grad_boost.score(X_valid_clean, y_valid)}\")\n",
    "print(f\"Testing Data Score: {grad_boost.score(X_test_clean, y_test)}\")"
   ]
  },
  {
   "cell_type": "markdown",
   "id": "9ea3d9fe",
   "metadata": {},
   "source": [
    "### Tuning Parameter Gradient Boosting"
   ]
  },
  {
   "cell_type": "code",
   "execution_count": 127,
   "id": "3de4bb3b",
   "metadata": {},
   "outputs": [],
   "source": [
    "grad_param_grid = {\n",
    "    'n_estimators' : [10, 50, 100],\n",
    "    'learning_rate' : [0.001, 0.01, 0.1],\n",
    "    'subsample' : [0.5, 0.7, 1.0],\n",
    "    'max_depth' : [3, 7, 9]\n",
    "}"
   ]
  },
  {
   "cell_type": "code",
   "execution_count": 128,
   "id": "a15b72ae",
   "metadata": {},
   "outputs": [],
   "source": [
    "grad_grid_cv = GridSearchCV(estimator=GradientBoostingClassifier(), \n",
    "                           param_grid=grad_param_grid,\n",
    "                           cv=5, \n",
    "                           scoring='accuracy',\n",
    "                           error_score=0)"
   ]
  },
  {
   "cell_type": "code",
   "execution_count": 129,
   "id": "40e08780",
   "metadata": {},
   "outputs": [
    {
     "data": {
      "text/plain": [
       "GridSearchCV(cv=5, error_score=0, estimator=GradientBoostingClassifier(),\n",
       "             param_grid={'learning_rate': [0.001, 0.01, 0.1],\n",
       "                         'max_depth': [3, 7, 9], 'n_estimators': [10, 50, 100],\n",
       "                         'subsample': [0.5, 0.7, 1.0]},\n",
       "             scoring='accuracy')"
      ]
     },
     "execution_count": 129,
     "metadata": {},
     "output_type": "execute_result"
    }
   ],
   "source": [
    "grad_grid_cv.fit(X_rus_clean, y_rus)"
   ]
  },
  {
   "cell_type": "code",
   "execution_count": 130,
   "id": "267f1b81",
   "metadata": {},
   "outputs": [
    {
     "data": {
      "text/plain": [
       "{'learning_rate': 0.01, 'max_depth': 7, 'n_estimators': 100, 'subsample': 0.7}"
      ]
     },
     "execution_count": 130,
     "metadata": {},
     "output_type": "execute_result"
    }
   ],
   "source": [
    "grad_grid_cv.best_params_"
   ]
  },
  {
   "cell_type": "code",
   "execution_count": 131,
   "id": "ea9e3dd3",
   "metadata": {},
   "outputs": [],
   "source": [
    "gradboost_cv  = GradientBoostingClassifier(n_estimators = grad_grid_cv.best_params_[\"n_estimators\"],\n",
    "                                           learning_rate = grad_grid_cv.best_params_[\"learning_rate\"],\n",
    "                                           subsample = grad_grid_cv.best_params_[\"subsample\"],\n",
    "                                           max_depth = grad_grid_cv.best_params_[\"max_depth\"],\n",
    "                                           random_state = 123)"
   ]
  },
  {
   "cell_type": "code",
   "execution_count": 132,
   "id": "66ae01e5",
   "metadata": {},
   "outputs": [
    {
     "data": {
      "text/plain": [
       "GradientBoostingClassifier(learning_rate=0.01, max_depth=7, random_state=123,\n",
       "                           subsample=0.7)"
      ]
     },
     "execution_count": 132,
     "metadata": {},
     "output_type": "execute_result"
    }
   ],
   "source": [
    "gradboost_cv.fit(X_rus_clean, y_rus)"
   ]
  },
  {
   "cell_type": "code",
   "execution_count": 133,
   "id": "94a07cde",
   "metadata": {},
   "outputs": [],
   "source": [
    "gradboost_pred_cv = gradboost_cv.predict(X_test_clean)"
   ]
  },
  {
   "cell_type": "code",
   "execution_count": 134,
   "id": "cb90802f",
   "metadata": {},
   "outputs": [
    {
     "name": "stdout",
     "output_type": "stream",
     "text": [
      "              precision    recall  f1-score   support\n",
      "\n",
      "           0       0.93      0.76      0.84      1424\n",
      "           1       0.47      0.80      0.59       376\n",
      "\n",
      "    accuracy                           0.77      1800\n",
      "   macro avg       0.70      0.78      0.71      1800\n",
      "weighted avg       0.84      0.77      0.79      1800\n",
      "\n"
     ]
    }
   ],
   "source": [
    "print(classification_report(y_test, gradboost_pred_cv, labels=[0,1]))"
   ]
  },
  {
   "cell_type": "code",
   "execution_count": 135,
   "id": "2d3aafe8",
   "metadata": {},
   "outputs": [
    {
     "data": {
      "image/png": "[encoded data removed]",
      "text/plain": [
       "<Figure size 432x288 with 2 Axes>"
      ]
     },
     "metadata": {
      "needs_background": "light"
     },
     "output_type": "display_data"
    }
   ],
   "source": [
    "ConfusionMatrixDisplay.from_predictions(y_test, gradboost_pred_cv, display_labels = [False, True])\n",
    "plt.show()"
   ]
  },
  {
   "cell_type": "markdown",
   "id": "aeaffbdd",
   "metadata": {},
   "source": [
    "## Adaboost Classifier"
   ]
  },
  {
   "cell_type": "markdown",
   "id": "eb6b8ba7",
   "metadata": {},
   "source": [
    "### Adaboost SVC"
   ]
  },
  {
   "cell_type": "code",
   "execution_count": 136,
   "id": "004cb105",
   "metadata": {},
   "outputs": [],
   "source": [
    "svc = SVC(probability=True, kernel='linear', random_state = 123)\n",
    "\n",
    "# Create adaboost classifer object\n",
    "adaboost_svc = AdaBoostClassifier(n_estimators=50, \n",
    "                                  base_estimator=svc,\n",
    "                                  learning_rate=1)"
   ]
  },
  {
   "cell_type": "code",
   "execution_count": 137,
   "id": "7a209d0a",
   "metadata": {},
   "outputs": [
    {
     "data": {
      "text/plain": [
       "AdaBoostClassifier(base_estimator=SVC(kernel='linear', probability=True,\n",
       "                                      random_state=123),\n",
       "                   learning_rate=1)"
      ]
     },
     "execution_count": 137,
     "metadata": {},
     "output_type": "execute_result"
    }
   ],
   "source": [
    "# Train Adaboost Classifer\n",
    "adaboost_svc.fit(X_rus_clean, y_rus)"
   ]
  },
  {
   "cell_type": "code",
   "execution_count": 138,
   "id": "1fa8614d",
   "metadata": {},
   "outputs": [
    {
     "data": {
      "text/plain": [
       "0.5666899441340782"
      ]
     },
     "execution_count": 138,
     "metadata": {},
     "output_type": "execute_result"
    }
   ],
   "source": [
    "adaboost_svc.score(X_rus_clean, y_rus)"
   ]
  },
  {
   "cell_type": "code",
   "execution_count": 139,
   "id": "a7419135",
   "metadata": {},
   "outputs": [],
   "source": [
    "ada_predict = adaboost_svc.predict(X_test_clean)"
   ]
  },
  {
   "cell_type": "code",
   "execution_count": 140,
   "id": "756dc431",
   "metadata": {},
   "outputs": [
    {
     "name": "stdout",
     "output_type": "stream",
     "text": [
      "              precision    recall  f1-score   support\n",
      "\n",
      "           0       0.84      0.58      0.68      1424\n",
      "           1       0.27      0.58      0.36       376\n",
      "\n",
      "    accuracy                           0.58      1800\n",
      "   macro avg       0.55      0.58      0.52      1800\n",
      "weighted avg       0.72      0.58      0.62      1800\n",
      "\n"
     ]
    }
   ],
   "source": [
    "print(classification_report(y_test, ada_predict, labels=[0,1]))"
   ]
  },
  {
   "cell_type": "code",
   "execution_count": 141,
   "id": "f582f5a8",
   "metadata": {},
   "outputs": [
    {
     "name": "stdout",
     "output_type": "stream",
     "text": [
      "Training Data Score: 0.5666899441340782\n",
      "Validating Data Score: 0.5683333333333334\n",
      "Testing Data Score: 0.5766666666666667\n"
     ]
    }
   ],
   "source": [
    "print(f\"Training Data Score: {adaboost_svc.score(X_rus_clean, y_rus)}\")\n",
    "print(f\"Validating Data Score: {adaboost_svc.score(X_valid_clean, y_valid)}\")\n",
    "print(f\"Testing Data Score: {adaboost_svc.score(X_test_clean, y_test)}\")"
   ]
  },
  {
   "cell_type": "markdown",
   "id": "4f551ec0",
   "metadata": {},
   "source": [
    "### Adaboost Original"
   ]
  },
  {
   "cell_type": "code",
   "execution_count": 142,
   "id": "1e46259b",
   "metadata": {},
   "outputs": [],
   "source": [
    "# Create adaboost classifer object\n",
    "abc = AdaBoostClassifier(n_estimators=50,\n",
    "                         learning_rate=1,\n",
    "                         random_state = 123)"
   ]
  },
  {
   "cell_type": "code",
   "execution_count": 143,
   "id": "4a38eee2",
   "metadata": {},
   "outputs": [],
   "source": [
    "# Train Adaboost Classifer\n",
    "abc_ori = abc.fit(X_rus_clean, y_rus)"
   ]
  },
  {
   "cell_type": "code",
   "execution_count": 144,
   "id": "928c8ea9",
   "metadata": {},
   "outputs": [
    {
     "data": {
      "text/plain": [
       "0.7814245810055865"
      ]
     },
     "execution_count": 144,
     "metadata": {},
     "output_type": "execute_result"
    }
   ],
   "source": [
    "abc_ori.score(X_rus_clean, y_rus)"
   ]
  },
  {
   "cell_type": "code",
   "execution_count": 145,
   "id": "39e0e63b",
   "metadata": {},
   "outputs": [],
   "source": [
    "adaboost_pred_ori = abc_ori.predict(X_test_clean)"
   ]
  },
  {
   "cell_type": "code",
   "execution_count": 146,
   "id": "7be930ab",
   "metadata": {},
   "outputs": [
    {
     "name": "stdout",
     "output_type": "stream",
     "text": [
      "              precision    recall  f1-score   support\n",
      "\n",
      "           0       0.94      0.74      0.83      1424\n",
      "           1       0.46      0.82      0.59       376\n",
      "\n",
      "    accuracy                           0.76      1800\n",
      "   macro avg       0.70      0.78      0.71      1800\n",
      "weighted avg       0.84      0.76      0.78      1800\n",
      "\n"
     ]
    }
   ],
   "source": [
    "print(classification_report(y_test, adaboost_pred_ori, labels=[0,1]))"
   ]
  },
  {
   "cell_type": "code",
   "execution_count": 147,
   "id": "cc0aba55",
   "metadata": {},
   "outputs": [
    {
     "name": "stdout",
     "output_type": "stream",
     "text": [
      "Training Data Score: 0.7814245810055865\n",
      "Validating Data Score: 0.7491666666666666\n",
      "Testing Data Score: 0.7577777777777778\n"
     ]
    }
   ],
   "source": [
    "print(f\"Training Data Score: {abc_ori.score(X_rus_clean, y_rus)}\")\n",
    "print(f\"Validating Data Score: {abc_ori.score(X_valid_clean, y_valid)}\")\n",
    "print(f\"Testing Data Score: {abc_ori.score(X_test_clean, y_test)}\")"
   ]
  },
  {
   "cell_type": "markdown",
   "id": "44e8d2d9",
   "metadata": {},
   "source": [
    "## Tuning Parameter Adaboost"
   ]
  },
  {
   "cell_type": "code",
   "execution_count": 148,
   "id": "f62b0b38",
   "metadata": {},
   "outputs": [],
   "source": [
    "adaboost = AdaBoostClassifier(random_state = 123)"
   ]
  },
  {
   "cell_type": "code",
   "execution_count": 149,
   "id": "63041a6e",
   "metadata": {},
   "outputs": [],
   "source": [
    "param_grid = {\n",
    "    'n_estimators': [50, 100, 200],\n",
    "    'learning_rate': [0.1, 0.5, 1.0],\n",
    "    'algorithm': ['SAMME', 'SAMME.R']\n",
    "}"
   ]
  },
  {
   "cell_type": "code",
   "execution_count": 150,
   "id": "25c6263d",
   "metadata": {},
   "outputs": [],
   "source": [
    "grid_search_adaboost = GridSearchCV(adaboost, param_grid, scoring='accuracy', cv=5)"
   ]
  },
  {
   "cell_type": "code",
   "execution_count": 151,
   "id": "39f82a50",
   "metadata": {},
   "outputs": [
    {
     "data": {
      "text/plain": [
       "GridSearchCV(cv=5, estimator=AdaBoostClassifier(random_state=123),\n",
       "             param_grid={'algorithm': ['SAMME', 'SAMME.R'],\n",
       "                         'learning_rate': [0.1, 0.5, 1.0],\n",
       "                         'n_estimators': [50, 100, 200]},\n",
       "             scoring='accuracy')"
      ]
     },
     "execution_count": 151,
     "metadata": {},
     "output_type": "execute_result"
    }
   ],
   "source": [
    "grid_search_adaboost.fit(X_rus_clean, y_rus)"
   ]
  },
  {
   "cell_type": "code",
   "execution_count": 152,
   "id": "293f6f86",
   "metadata": {},
   "outputs": [
    {
     "name": "stdout",
     "output_type": "stream",
     "text": [
      "{'algorithm': 'SAMME.R', 'learning_rate': 0.1, 'n_estimators': 200}\n"
     ]
    }
   ],
   "source": [
    "print(grid_search_adaboost.best_params_)"
   ]
  },
  {
   "cell_type": "code",
   "execution_count": 153,
   "id": "917ab65c",
   "metadata": {},
   "outputs": [],
   "source": [
    "adaboost_best = AdaBoostClassifier(n_estimators = grid_search_adaboost.best_params_[\"n_estimators\"],\n",
    "                                   learning_rate = grid_search_adaboost.best_params_[\"learning_rate\"],\n",
    "                                   algorithm = grid_search_adaboost.best_params_[\"algorithm\"]\n",
    "                                  )"
   ]
  },
  {
   "cell_type": "code",
   "execution_count": 154,
   "id": "e8226954",
   "metadata": {},
   "outputs": [
    {
     "data": {
      "text/plain": [
       "AdaBoostClassifier(learning_rate=0.1, n_estimators=200)"
      ]
     },
     "execution_count": 154,
     "metadata": {},
     "output_type": "execute_result"
    }
   ],
   "source": [
    "adaboost_best.fit(X_rus_clean, y_rus)"
   ]
  },
  {
   "cell_type": "code",
   "execution_count": 155,
   "id": "03619c8a",
   "metadata": {},
   "outputs": [],
   "source": [
    "adaboost_pred_cv = adaboost_best.predict(X_test_clean)"
   ]
  },
  {
   "cell_type": "code",
   "execution_count": 156,
   "id": "9321c089",
   "metadata": {},
   "outputs": [
    {
     "name": "stdout",
     "output_type": "stream",
     "text": [
      "              precision    recall  f1-score   support\n",
      "\n",
      "           0       0.94      0.74      0.83      1424\n",
      "           1       0.46      0.82      0.58       376\n",
      "\n",
      "    accuracy                           0.76      1800\n",
      "   macro avg       0.70      0.78      0.71      1800\n",
      "weighted avg       0.84      0.76      0.78      1800\n",
      "\n"
     ]
    }
   ],
   "source": [
    "print(classification_report(y_test, adaboost_pred_cv, labels=[0,1]))"
   ]
  },
  {
   "cell_type": "code",
   "execution_count": 157,
   "id": "b6a3dda1",
   "metadata": {},
   "outputs": [
    {
     "name": "stdout",
     "output_type": "stream",
     "text": [
      "Training Data Score: 0.7754888268156425\n",
      "Validating Data Score: 0.7508333333333334\n",
      "Testing Data Score: 0.7577777777777778\n"
     ]
    }
   ],
   "source": [
    "print(f\"Training Data Score: {adaboost_best.score(X_rus_clean, y_rus)}\")\n",
    "print(f\"Validating Data Score: {adaboost_best.score(X_valid_clean, y_valid)}\")\n",
    "print(f\"Testing Data Score: {adaboost_best.score(X_test_clean, y_test)}\")"
   ]
  },
  {
   "cell_type": "code",
   "execution_count": 158,
   "id": "98105025",
   "metadata": {},
   "outputs": [
    {
     "data": {
      "image/png": "[encoded data removed]",
      "text/plain": [
       "<Figure size 432x288 with 2 Axes>"
      ]
     },
     "metadata": {
      "needs_background": "light"
     },
     "output_type": "display_data"
    }
   ],
   "source": [
    "ConfusionMatrixDisplay.from_predictions(y_test, adaboost_pred_cv, display_labels = [False, True])\n",
    "plt.show()"
   ]
  },
  {
   "cell_type": "markdown",
   "id": "ce8e40e5",
   "metadata": {},
   "source": [
    "## Extratrees Classifier"
   ]
  },
  {
   "cell_type": "code",
   "execution_count": 159,
   "id": "4a837c56",
   "metadata": {},
   "outputs": [],
   "source": [
    "extra_trees_awal = ExtraTreesClassifier(random_state = 123)"
   ]
  },
  {
   "cell_type": "code",
   "execution_count": 160,
   "id": "3afc86c1",
   "metadata": {},
   "outputs": [
    {
     "data": {
      "text/plain": [
       "ExtraTreesClassifier(random_state=123)"
      ]
     },
     "execution_count": 160,
     "metadata": {},
     "output_type": "execute_result"
    }
   ],
   "source": [
    "extra_trees_awal.fit(X_rus_clean, y_rus)"
   ]
  },
  {
   "cell_type": "code",
   "execution_count": 161,
   "id": "cedf77cb",
   "metadata": {},
   "outputs": [
    {
     "data": {
      "text/plain": [
       "1.0"
      ]
     },
     "execution_count": 161,
     "metadata": {},
     "output_type": "execute_result"
    }
   ],
   "source": [
    "extra_trees_awal.score(X_rus_clean, y_rus)"
   ]
  },
  {
   "cell_type": "code",
   "execution_count": 162,
   "id": "4d797c65",
   "metadata": {},
   "outputs": [],
   "source": [
    "y_extratress_pred = extra_trees_awal.predict(X_test_clean)"
   ]
  },
  {
   "cell_type": "code",
   "execution_count": 163,
   "id": "3956b34c",
   "metadata": {},
   "outputs": [
    {
     "name": "stdout",
     "output_type": "stream",
     "text": [
      "              precision    recall  f1-score   support\n",
      "\n",
      "           0       0.93      0.72      0.81      1424\n",
      "           1       0.43      0.80      0.56       376\n",
      "\n",
      "    accuracy                           0.74      1800\n",
      "   macro avg       0.68      0.76      0.68      1800\n",
      "weighted avg       0.83      0.74      0.76      1800\n",
      "\n"
     ]
    }
   ],
   "source": [
    "print(classification_report(y_test, y_extratress_pred, labels=[0,1]))"
   ]
  },
  {
   "cell_type": "code",
   "execution_count": 164,
   "id": "ab4e1da8",
   "metadata": {},
   "outputs": [
    {
     "name": "stdout",
     "output_type": "stream",
     "text": [
      "Training Data Score: 1.0\n",
      "Validating Data Score: 0.7241666666666666\n",
      "Testing Data Score: 0.7355555555555555\n"
     ]
    }
   ],
   "source": [
    "print(f\"Training Data Score: {extra_trees_awal.score(X_rus_clean, y_rus)}\")\n",
    "print(f\"Validating Data Score: {extra_trees_awal.score(X_valid_clean, y_valid)}\")\n",
    "print(f\"Testing Data Score: {extra_trees_awal.score(X_test_clean, y_test)}\")"
   ]
  },
  {
   "cell_type": "markdown",
   "id": "710885fe",
   "metadata": {},
   "source": [
    "## Tuning Parameter Extratrees Classifier"
   ]
  },
  {
   "cell_type": "code",
   "execution_count": 165,
   "id": "d4ec778f",
   "metadata": {},
   "outputs": [],
   "source": [
    "extra_trees = ExtraTreesClassifier(random_state = 123)"
   ]
  },
  {
   "cell_type": "code",
   "execution_count": 166,
   "id": "f42ffb66",
   "metadata": {},
   "outputs": [],
   "source": [
    "param_grid = {\n",
    "    'n_estimators': [50, 100, 200],\n",
    "    'max_depth': [10, 20, 30, None],\n",
    "    'min_samples_split': [2, 5, 10],\n",
    "    'min_samples_leaf': [1, 2, 4]\n",
    "}"
   ]
  },
  {
   "cell_type": "code",
   "execution_count": 167,
   "id": "289440b5",
   "metadata": {},
   "outputs": [],
   "source": [
    "grid_search_et = GridSearchCV(extra_trees, param_grid, scoring='accuracy', cv=5)"
   ]
  },
  {
   "cell_type": "code",
   "execution_count": 168,
   "id": "e9aa04cf",
   "metadata": {},
   "outputs": [
    {
     "data": {
      "text/plain": [
       "GridSearchCV(cv=5, estimator=ExtraTreesClassifier(random_state=123),\n",
       "             param_grid={'max_depth': [10, 20, 30, None],\n",
       "                         'min_samples_leaf': [1, 2, 4],\n",
       "                         'min_samples_split': [2, 5, 10],\n",
       "                         'n_estimators': [50, 100, 200]},\n",
       "             scoring='accuracy')"
      ]
     },
     "execution_count": 168,
     "metadata": {},
     "output_type": "execute_result"
    }
   ],
   "source": [
    "grid_search_et.fit(X_rus_clean, y_rus)"
   ]
  },
  {
   "cell_type": "code",
   "execution_count": 169,
   "id": "5df36345",
   "metadata": {},
   "outputs": [
    {
     "name": "stdout",
     "output_type": "stream",
     "text": [
      "{'max_depth': 10, 'min_samples_leaf': 2, 'min_samples_split': 2, 'n_estimators': 200}\n"
     ]
    }
   ],
   "source": [
    "print(grid_search_et.best_params_)"
   ]
  },
  {
   "cell_type": "code",
   "execution_count": 170,
   "id": "face1715",
   "metadata": {},
   "outputs": [],
   "source": [
    "extra_trees_best = ExtraTreesClassifier(n_estimators = grid_search_et.best_params_[\"n_estimators\"], \n",
    "                                        max_depth = grid_search_et.best_params_[\"max_depth\"], \n",
    "                                        min_samples_split= grid_search_et.best_params_[\"min_samples_split\"], \n",
    "                                        min_samples_leaf=grid_search_et.best_params_[\"min_samples_leaf\"])"
   ]
  },
  {
   "cell_type": "code",
   "execution_count": 171,
   "id": "1e321a09",
   "metadata": {},
   "outputs": [
    {
     "data": {
      "text/plain": [
       "ExtraTreesClassifier(max_depth=10, min_samples_leaf=2, n_estimators=200)"
      ]
     },
     "execution_count": 171,
     "metadata": {},
     "output_type": "execute_result"
    }
   ],
   "source": [
    "extra_trees_best.fit(X_rus_clean, y_rus)"
   ]
  },
  {
   "cell_type": "code",
   "execution_count": 172,
   "id": "654ceca1",
   "metadata": {},
   "outputs": [],
   "source": [
    "extratreescv_pred = extra_trees_best.predict(X_test_clean)"
   ]
  },
  {
   "cell_type": "code",
   "execution_count": 173,
   "id": "cda1cd1b",
   "metadata": {},
   "outputs": [
    {
     "name": "stdout",
     "output_type": "stream",
     "text": [
      "              precision    recall  f1-score   support\n",
      "\n",
      "           0       0.93      0.71      0.81      1424\n",
      "           1       0.43      0.80      0.56       376\n",
      "\n",
      "    accuracy                           0.73      1800\n",
      "   macro avg       0.68      0.76      0.68      1800\n",
      "weighted avg       0.83      0.73      0.76      1800\n",
      "\n"
     ]
    }
   ],
   "source": [
    "print(classification_report(y_test, extratreescv_pred, labels=[0,1]))"
   ]
  },
  {
   "cell_type": "code",
   "execution_count": 174,
   "id": "e42a76ba",
   "metadata": {},
   "outputs": [
    {
     "name": "stdout",
     "output_type": "stream",
     "text": [
      "Training Data Score: 0.8561452513966481\n",
      "Validating Data Score: 0.7383333333333333\n",
      "Testing Data Score: 0.7322222222222222\n"
     ]
    }
   ],
   "source": [
    "print(f\"Training Data Score: {extra_trees_best.score(X_rus_clean, y_rus)}\")\n",
    "print(f\"Validating Data Score: {extra_trees_best.score(X_valid_clean, y_valid)}\")\n",
    "print(f\"Testing Data Score: {extra_trees_best.score(X_test_clean, y_test)}\")"
   ]
  },
  {
   "cell_type": "code",
   "execution_count": 175,
   "id": "ff88c810",
   "metadata": {},
   "outputs": [
    {
     "data": {
      "image/png": "[encoded data removed]",
      "text/plain": [
       "<Figure size 432x288 with 2 Axes>"
      ]
     },
     "metadata": {
      "needs_background": "light"
     },
     "output_type": "display_data"
    }
   ],
   "source": [
    "ConfusionMatrixDisplay.from_predictions(y_test, extratreescv_pred, display_labels = [False, True])\n",
    "plt.show()"
   ]
  },
  {
   "cell_type": "markdown",
   "id": "5bb686f7",
   "metadata": {},
   "source": [
    "## XGboost Classifier"
   ]
  },
  {
   "cell_type": "code",
   "execution_count": 176,
   "id": "b9aa0e2f",
   "metadata": {},
   "outputs": [],
   "source": [
    "xgb_classifier = xgb.XGBClassifier(random_state = 123)"
   ]
  },
  {
   "cell_type": "code",
   "execution_count": 177,
   "id": "2b6b62bb",
   "metadata": {},
   "outputs": [
    {
     "data": {
      "text/plain": [
       "XGBClassifier(base_score=None, booster=None, callbacks=None,\n",
       "              colsample_bylevel=None, colsample_bynode=None,\n",
       "              colsample_bytree=None, early_stopping_rounds=None,\n",
       "              enable_categorical=False, eval_metric=None, feature_types=None,\n",
       "              gamma=None, gpu_id=None, grow_policy=None, importance_type=None,\n",
       "              interaction_constraints=None, learning_rate=None, max_bin=None,\n",
       "              max_cat_threshold=None, max_cat_to_onehot=None,\n",
       "              max_delta_step=None, max_depth=None, max_leaves=None,\n",
       "              min_child_weight=None, missing=nan, monotone_constraints=None,\n",
       "              n_estimators=100, n_jobs=None, num_parallel_tree=None,\n",
       "              predictor=None, random_state=123, ...)"
      ]
     },
     "execution_count": 177,
     "metadata": {},
     "output_type": "execute_result"
    }
   ],
   "source": [
    "xgb_classifier.fit(X_rus_clean, y_rus)"
   ]
  },
  {
   "cell_type": "code",
   "execution_count": 178,
   "id": "4c0538a7",
   "metadata": {},
   "outputs": [
    {
     "data": {
      "text/plain": [
       "0.994413407821229"
      ]
     },
     "execution_count": 178,
     "metadata": {},
     "output_type": "execute_result"
    }
   ],
   "source": [
    "xgb_classifier.score(X_rus_clean, y_rus)"
   ]
  },
  {
   "cell_type": "code",
   "execution_count": 179,
   "id": "77c8b688",
   "metadata": {},
   "outputs": [],
   "source": [
    "xgb_pred = xgb_classifier.predict(X_test_clean)"
   ]
  },
  {
   "cell_type": "code",
   "execution_count": 180,
   "id": "5ac4b9bf",
   "metadata": {},
   "outputs": [
    {
     "name": "stdout",
     "output_type": "stream",
     "text": [
      "              precision    recall  f1-score   support\n",
      "\n",
      "           0       0.93      0.74      0.82      1424\n",
      "           1       0.44      0.80      0.57       376\n",
      "\n",
      "    accuracy                           0.75      1800\n",
      "   macro avg       0.69      0.77      0.70      1800\n",
      "weighted avg       0.83      0.75      0.77      1800\n",
      "\n"
     ]
    }
   ],
   "source": [
    "print(classification_report(y_test, xgb_pred, labels=[0,1]))"
   ]
  },
  {
   "cell_type": "code",
   "execution_count": 181,
   "id": "facdc3da",
   "metadata": {},
   "outputs": [
    {
     "name": "stdout",
     "output_type": "stream",
     "text": [
      "Training Data Score: 0.994413407821229\n",
      "Validating Data Score: 0.7425\n",
      "Testing Data Score: 0.7494444444444445\n"
     ]
    }
   ],
   "source": [
    "print(f\"Training Data Score: {xgb_classifier.score(X_rus_clean, y_rus)}\")\n",
    "print(f\"Validating Data Score: {xgb_classifier.score(X_valid_clean, y_valid)}\")\n",
    "print(f\"Testing Data Score: {xgb_classifier.score(X_test_clean, y_test)}\")"
   ]
  },
  {
   "cell_type": "markdown",
   "id": "317da2d0",
   "metadata": {},
   "source": [
    "## Tuning Parameter XGboost"
   ]
  },
  {
   "cell_type": "code",
   "execution_count": 182,
   "id": "c5488576",
   "metadata": {},
   "outputs": [],
   "source": [
    "param_grid = {\n",
    "    'n_estimators': [50, 100, 200],\n",
    "    'max_depth': [3, 5, 7],\n",
    "    'learning_rate': [0.1, 0.5, 1.0],\n",
    "    'subsample': [0.5, 0.7, 1.0]\n",
    "}\n"
   ]
  },
  {
   "cell_type": "code",
   "execution_count": 183,
   "id": "dbf84597",
   "metadata": {},
   "outputs": [],
   "source": [
    "grid_search_xg = GridSearchCV(xgb_classifier, param_grid, scoring='accuracy', cv=5)"
   ]
  },
  {
   "cell_type": "code",
   "execution_count": 184,
   "id": "8204bc0b",
   "metadata": {},
   "outputs": [
    {
     "data": {
      "text/plain": [
       "GridSearchCV(cv=5,\n",
       "             estimator=XGBClassifier(base_score=None, booster=None,\n",
       "                                     callbacks=None, colsample_bylevel=None,\n",
       "                                     colsample_bynode=None,\n",
       "                                     colsample_bytree=None,\n",
       "                                     early_stopping_rounds=None,\n",
       "                                     enable_categorical=False, eval_metric=None,\n",
       "                                     feature_types=None, gamma=None,\n",
       "                                     gpu_id=None, grow_policy=None,\n",
       "                                     importance_type=None,\n",
       "                                     interaction_constraints=None,\n",
       "                                     learning_rate=None,...\n",
       "                                     max_cat_to_onehot=None,\n",
       "                                     max_delta_step=None, max_depth=None,\n",
       "                                     max_leaves=None, min_child_weight=None,\n",
       "                                     missing=nan, monotone_constraints=None,\n",
       "                                     n_estimators=100, n_jobs=None,\n",
       "                                     num_parallel_tree=None, predictor=None,\n",
       "                                     random_state=123, ...),\n",
       "             param_grid={'learning_rate': [0.1, 0.5, 1.0],\n",
       "                         'max_depth': [3, 5, 7], 'n_estimators': [50, 100, 200],\n",
       "                         'subsample': [0.5, 0.7, 1.0]},\n",
       "             scoring='accuracy')"
      ]
     },
     "execution_count": 184,
     "metadata": {},
     "output_type": "execute_result"
    }
   ],
   "source": [
    "grid_search_xg.fit(X_rus_clean, y_rus)"
   ]
  },
  {
   "cell_type": "code",
   "execution_count": 185,
   "id": "12acb6a1",
   "metadata": {},
   "outputs": [
    {
     "name": "stdout",
     "output_type": "stream",
     "text": [
      "{'learning_rate': 0.1, 'max_depth': 3, 'n_estimators': 50, 'subsample': 0.7}\n"
     ]
    }
   ],
   "source": [
    "print(grid_search_xg.best_params_)"
   ]
  },
  {
   "cell_type": "code",
   "execution_count": 186,
   "id": "95468116",
   "metadata": {},
   "outputs": [],
   "source": [
    "xgb_best = xgb.XGBClassifier(n_estimators = grid_search_xg.best_params_[\"n_estimators\"], \n",
    "                             max_depth = grid_search_xg.best_params_[\"max_depth\"], \n",
    "                             learning_rate = grid_search_xg.best_params_[\"learning_rate\"], \n",
    "                             subsample = grid_search_xg.best_params_[\"subsample\"])"
   ]
  },
  {
   "cell_type": "code",
   "execution_count": 187,
   "id": "7e7b563b",
   "metadata": {},
   "outputs": [
    {
     "data": {
      "text/plain": [
       "XGBClassifier(base_score=None, booster=None, callbacks=None,\n",
       "              colsample_bylevel=None, colsample_bynode=None,\n",
       "              colsample_bytree=None, early_stopping_rounds=None,\n",
       "              enable_categorical=False, eval_metric=None, feature_types=None,\n",
       "              gamma=None, gpu_id=None, grow_policy=None, importance_type=None,\n",
       "              interaction_constraints=None, learning_rate=0.1, max_bin=None,\n",
       "              max_cat_threshold=None, max_cat_to_onehot=None,\n",
       "              max_delta_step=None, max_depth=3, max_leaves=None,\n",
       "              min_child_weight=None, missing=nan, monotone_constraints=None,\n",
       "              n_estimators=50, n_jobs=None, num_parallel_tree=None,\n",
       "              predictor=None, random_state=None, ...)"
      ]
     },
     "execution_count": 187,
     "metadata": {},
     "output_type": "execute_result"
    }
   ],
   "source": [
    "xgb_best.fit(X_rus_clean, y_rus)"
   ]
  },
  {
   "cell_type": "code",
   "execution_count": 188,
   "id": "7622f560",
   "metadata": {},
   "outputs": [],
   "source": [
    "xgboost_cv_pred = xgb_best.predict(X_test_clean)"
   ]
  },
  {
   "cell_type": "code",
   "execution_count": 189,
   "id": "8c4aa20f",
   "metadata": {},
   "outputs": [
    {
     "name": "stdout",
     "output_type": "stream",
     "text": [
      "              precision    recall  f1-score   support\n",
      "\n",
      "           0       0.94      0.74      0.83      1424\n",
      "           1       0.46      0.83      0.59       376\n",
      "\n",
      "    accuracy                           0.76      1800\n",
      "   macro avg       0.70      0.79      0.71      1800\n",
      "weighted avg       0.84      0.76      0.78      1800\n",
      "\n"
     ]
    }
   ],
   "source": [
    "print(classification_report(y_test, xgboost_cv_pred, labels=[0,1]))"
   ]
  },
  {
   "cell_type": "code",
   "execution_count": 190,
   "id": "d0fc368a",
   "metadata": {},
   "outputs": [
    {
     "data": {
      "image/png": "[encoded data removed]",
      "text/plain": [
       "<Figure size 432x288 with 2 Axes>"
      ]
     },
     "metadata": {
      "needs_background": "light"
     },
     "output_type": "display_data"
    }
   ],
   "source": [
    "ConfusionMatrixDisplay.from_predictions(y_test, xgboost_cv_pred, display_labels = [False, True])\n",
    "plt.show()"
   ]
  },
  {
   "cell_type": "markdown",
   "id": "10645cd8",
   "metadata": {},
   "source": [
    "## Deep Learning"
   ]
  },
  {
   "cell_type": "code",
   "execution_count": 191,
   "id": "efec1d96",
   "metadata": {},
   "outputs": [],
   "source": [
    "model = Sequential([\n",
    "    Dense(64, activation='relu', input_shape=(13,)),\n",
    "    Dropout(0.2),\n",
    "    Dense(32, activation='relu'),\n",
    "    Dropout(0.2),\n",
    "    Dense(1, activation='sigmoid')\n",
    "])"
   ]
  },
  {
   "cell_type": "code",
   "execution_count": 192,
   "id": "747c391d",
   "metadata": {},
   "outputs": [],
   "source": [
    "model.compile(optimizer='adam', loss='binary_crossentropy', metrics=['accuracy'])"
   ]
  },
  {
   "cell_type": "code",
   "execution_count": 193,
   "id": "88a4d79a",
   "metadata": {},
   "outputs": [
    {
     "name": "stdout",
     "output_type": "stream",
     "text": [
      "Epoch 1/500\n",
      "90/90 [==============================] - 1s 5ms/step - loss: 0.6529 - accuracy: 0.6215 - val_loss: 0.6154 - val_accuracy: 0.6833\n",
      "Epoch 2/500\n",
      "90/90 [==============================] - 0s 3ms/step - loss: 0.5894 - accuracy: 0.7004 - val_loss: 0.6123 - val_accuracy: 0.6858\n",
      "Epoch 3/500\n",
      "90/90 [==============================] - 0s 3ms/step - loss: 0.5821 - accuracy: 0.7084 - val_loss: 0.6387 - val_accuracy: 0.6683\n",
      "Epoch 4/500\n",
      "90/90 [==============================] - 0s 3ms/step - loss: 0.5764 - accuracy: 0.7105 - val_loss: 0.5853 - val_accuracy: 0.7025\n",
      "Epoch 5/500\n",
      "90/90 [==============================] - 0s 3ms/step - loss: 0.5707 - accuracy: 0.7126 - val_loss: 0.5790 - val_accuracy: 0.7042\n",
      "Epoch 6/500\n",
      "90/90 [==============================] - 0s 3ms/step - loss: 0.5545 - accuracy: 0.7249 - val_loss: 0.5441 - val_accuracy: 0.7250\n",
      "Epoch 7/500\n",
      "90/90 [==============================] - 0s 3ms/step - loss: 0.5445 - accuracy: 0.7263 - val_loss: 0.5647 - val_accuracy: 0.7167\n",
      "Epoch 8/500\n",
      "90/90 [==============================] - 0s 3ms/step - loss: 0.5396 - accuracy: 0.7287 - val_loss: 0.5955 - val_accuracy: 0.6925\n",
      "Epoch 9/500\n",
      "90/90 [==============================] - 0s 3ms/step - loss: 0.5299 - accuracy: 0.7395 - val_loss: 0.6122 - val_accuracy: 0.6858\n",
      "Epoch 10/500\n",
      "90/90 [==============================] - 0s 3ms/step - loss: 0.5255 - accuracy: 0.7420 - val_loss: 0.5877 - val_accuracy: 0.6958\n",
      "Epoch 11/500\n",
      "90/90 [==============================] - 0s 3ms/step - loss: 0.5148 - accuracy: 0.7493 - val_loss: 0.5702 - val_accuracy: 0.7192\n",
      "Epoch 12/500\n",
      "90/90 [==============================] - 0s 3ms/step - loss: 0.5118 - accuracy: 0.7458 - val_loss: 0.5749 - val_accuracy: 0.7108\n",
      "Epoch 13/500\n",
      "90/90 [==============================] - 0s 3ms/step - loss: 0.5116 - accuracy: 0.7490 - val_loss: 0.5722 - val_accuracy: 0.7092\n",
      "Epoch 14/500\n",
      "90/90 [==============================] - 0s 3ms/step - loss: 0.5011 - accuracy: 0.7643 - val_loss: 0.5881 - val_accuracy: 0.7025\n",
      "Epoch 15/500\n",
      "90/90 [==============================] - 0s 3ms/step - loss: 0.4977 - accuracy: 0.7577 - val_loss: 0.5872 - val_accuracy: 0.6908\n",
      "Epoch 16/500\n",
      "90/90 [==============================] - 0s 3ms/step - loss: 0.4904 - accuracy: 0.7685 - val_loss: 0.5701 - val_accuracy: 0.7108\n",
      "Epoch 17/500\n",
      "90/90 [==============================] - 0s 3ms/step - loss: 0.4938 - accuracy: 0.7622 - val_loss: 0.5819 - val_accuracy: 0.7008\n",
      "Epoch 18/500\n",
      "90/90 [==============================] - 0s 3ms/step - loss: 0.4859 - accuracy: 0.7699 - val_loss: 0.5304 - val_accuracy: 0.7300\n",
      "Epoch 19/500\n",
      "90/90 [==============================] - 0s 3ms/step - loss: 0.4852 - accuracy: 0.7671 - val_loss: 0.5304 - val_accuracy: 0.7325\n",
      "Epoch 20/500\n",
      "90/90 [==============================] - 0s 3ms/step - loss: 0.4825 - accuracy: 0.7657 - val_loss: 0.5343 - val_accuracy: 0.7333\n",
      "Epoch 21/500\n",
      "90/90 [==============================] - 0s 3ms/step - loss: 0.4783 - accuracy: 0.7699 - val_loss: 0.5388 - val_accuracy: 0.7308\n",
      "Epoch 22/500\n",
      "90/90 [==============================] - 0s 3ms/step - loss: 0.4714 - accuracy: 0.7772 - val_loss: 0.5511 - val_accuracy: 0.7183\n",
      "Epoch 23/500\n",
      "90/90 [==============================] - 0s 3ms/step - loss: 0.4721 - accuracy: 0.7744 - val_loss: 0.5558 - val_accuracy: 0.7192\n",
      "Epoch 24/500\n",
      "90/90 [==============================] - 0s 3ms/step - loss: 0.4663 - accuracy: 0.7748 - val_loss: 0.5684 - val_accuracy: 0.7150\n",
      "Epoch 25/500\n",
      "90/90 [==============================] - 0s 3ms/step - loss: 0.4633 - accuracy: 0.7758 - val_loss: 0.5386 - val_accuracy: 0.7292\n",
      "Epoch 26/500\n",
      "90/90 [==============================] - 0s 3ms/step - loss: 0.4578 - accuracy: 0.7853 - val_loss: 0.5220 - val_accuracy: 0.7408\n",
      "Epoch 27/500\n",
      "90/90 [==============================] - 0s 3ms/step - loss: 0.4599 - accuracy: 0.7814 - val_loss: 0.5254 - val_accuracy: 0.7400\n",
      "Epoch 28/500\n",
      "90/90 [==============================] - 0s 3ms/step - loss: 0.4558 - accuracy: 0.7807 - val_loss: 0.5241 - val_accuracy: 0.7392\n",
      "Epoch 29/500\n",
      "90/90 [==============================] - 0s 3ms/step - loss: 0.4488 - accuracy: 0.7811 - val_loss: 0.5504 - val_accuracy: 0.7158\n",
      "Epoch 30/500\n",
      "90/90 [==============================] - 0s 3ms/step - loss: 0.4547 - accuracy: 0.7797 - val_loss: 0.5054 - val_accuracy: 0.7583\n",
      "Epoch 31/500\n",
      "90/90 [==============================] - 0s 3ms/step - loss: 0.4525 - accuracy: 0.7776 - val_loss: 0.5063 - val_accuracy: 0.7508\n",
      "Epoch 32/500\n",
      "90/90 [==============================] - 0s 3ms/step - loss: 0.4509 - accuracy: 0.7898 - val_loss: 0.4809 - val_accuracy: 0.7708\n",
      "Epoch 33/500\n",
      "90/90 [==============================] - 0s 3ms/step - loss: 0.4477 - accuracy: 0.7909 - val_loss: 0.5094 - val_accuracy: 0.7492\n",
      "Epoch 34/500\n",
      "90/90 [==============================] - 0s 3ms/step - loss: 0.4488 - accuracy: 0.7881 - val_loss: 0.5192 - val_accuracy: 0.7458\n",
      "Epoch 35/500\n",
      "90/90 [==============================] - 0s 3ms/step - loss: 0.4377 - accuracy: 0.7922 - val_loss: 0.5289 - val_accuracy: 0.7317\n",
      "Epoch 36/500\n",
      "90/90 [==============================] - 0s 3ms/step - loss: 0.4353 - accuracy: 0.7971 - val_loss: 0.5266 - val_accuracy: 0.7308\n",
      "Epoch 37/500\n",
      "90/90 [==============================] - 0s 2ms/step - loss: 0.4464 - accuracy: 0.7779 - val_loss: 0.5171 - val_accuracy: 0.7467\n",
      "Epoch 38/500\n",
      "90/90 [==============================] - 0s 3ms/step - loss: 0.4412 - accuracy: 0.7891 - val_loss: 0.5205 - val_accuracy: 0.7408\n",
      "Epoch 39/500\n",
      "90/90 [==============================] - 0s 3ms/step - loss: 0.4325 - accuracy: 0.7922 - val_loss: 0.4901 - val_accuracy: 0.7642\n",
      "Epoch 40/500\n",
      "90/90 [==============================] - 0s 3ms/step - loss: 0.4350 - accuracy: 0.7905 - val_loss: 0.5505 - val_accuracy: 0.7142\n",
      "Epoch 41/500\n",
      "90/90 [==============================] - 0s 2ms/step - loss: 0.4311 - accuracy: 0.7989 - val_loss: 0.5385 - val_accuracy: 0.7292\n",
      "Epoch 42/500\n",
      "90/90 [==============================] - 0s 2ms/step - loss: 0.4299 - accuracy: 0.7996 - val_loss: 0.5314 - val_accuracy: 0.7258\n",
      "Epoch 43/500\n",
      "90/90 [==============================] - 0s 3ms/step - loss: 0.4283 - accuracy: 0.7996 - val_loss: 0.4754 - val_accuracy: 0.7825\n",
      "Epoch 44/500\n",
      "90/90 [==============================] - 0s 3ms/step - loss: 0.4280 - accuracy: 0.8013 - val_loss: 0.5216 - val_accuracy: 0.7367\n",
      "Epoch 45/500\n",
      "90/90 [==============================] - 0s 2ms/step - loss: 0.4326 - accuracy: 0.7947 - val_loss: 0.4897 - val_accuracy: 0.7683\n",
      "Epoch 46/500\n",
      "90/90 [==============================] - 0s 2ms/step - loss: 0.4255 - accuracy: 0.8006 - val_loss: 0.4943 - val_accuracy: 0.7608\n",
      "Epoch 47/500\n",
      "90/90 [==============================] - 0s 2ms/step - loss: 0.4196 - accuracy: 0.7992 - val_loss: 0.5032 - val_accuracy: 0.7617\n",
      "Epoch 48/500\n",
      "90/90 [==============================] - 0s 3ms/step - loss: 0.4262 - accuracy: 0.7912 - val_loss: 0.5168 - val_accuracy: 0.7433\n",
      "Epoch 49/500\n",
      "90/90 [==============================] - 0s 2ms/step - loss: 0.4237 - accuracy: 0.8020 - val_loss: 0.5037 - val_accuracy: 0.7592\n",
      "Epoch 50/500\n",
      "90/90 [==============================] - 0s 2ms/step - loss: 0.4241 - accuracy: 0.7964 - val_loss: 0.5051 - val_accuracy: 0.7500\n",
      "Epoch 51/500\n",
      "90/90 [==============================] - 0s 4ms/step - loss: 0.4235 - accuracy: 0.7978 - val_loss: 0.5081 - val_accuracy: 0.7533\n",
      "Epoch 52/500\n",
      "90/90 [==============================] - 0s 3ms/step - loss: 0.4222 - accuracy: 0.7943 - val_loss: 0.4804 - val_accuracy: 0.7758\n",
      "Epoch 53/500\n",
      "90/90 [==============================] - 0s 2ms/step - loss: 0.4193 - accuracy: 0.7978 - val_loss: 0.4674 - val_accuracy: 0.7833\n",
      "Epoch 54/500\n",
      "90/90 [==============================] - 0s 2ms/step - loss: 0.4145 - accuracy: 0.8090 - val_loss: 0.5063 - val_accuracy: 0.7442\n",
      "Epoch 55/500\n",
      "90/90 [==============================] - 0s 2ms/step - loss: 0.4163 - accuracy: 0.7989 - val_loss: 0.4996 - val_accuracy: 0.7600\n",
      "Epoch 56/500\n",
      "90/90 [==============================] - 0s 3ms/step - loss: 0.4154 - accuracy: 0.8076 - val_loss: 0.5242 - val_accuracy: 0.7275\n",
      "Epoch 57/500\n",
      "90/90 [==============================] - 0s 3ms/step - loss: 0.4124 - accuracy: 0.8087 - val_loss: 0.4996 - val_accuracy: 0.7617\n",
      "Epoch 58/500\n",
      "90/90 [==============================] - 0s 2ms/step - loss: 0.4183 - accuracy: 0.8031 - val_loss: 0.5031 - val_accuracy: 0.7575\n"
     ]
    },
    {
     "name": "stdout",
     "output_type": "stream",
     "text": [
      "Epoch 59/500\n",
      "90/90 [==============================] - 0s 2ms/step - loss: 0.4106 - accuracy: 0.8034 - val_loss: 0.5000 - val_accuracy: 0.7692\n",
      "Epoch 60/500\n",
      "90/90 [==============================] - 0s 2ms/step - loss: 0.4153 - accuracy: 0.8066 - val_loss: 0.5152 - val_accuracy: 0.7500\n",
      "Epoch 61/500\n",
      "90/90 [==============================] - 0s 2ms/step - loss: 0.4059 - accuracy: 0.8128 - val_loss: 0.5061 - val_accuracy: 0.7575\n",
      "Epoch 62/500\n",
      "90/90 [==============================] - 0s 2ms/step - loss: 0.4088 - accuracy: 0.8027 - val_loss: 0.4858 - val_accuracy: 0.7725\n",
      "Epoch 63/500\n",
      "90/90 [==============================] - 0s 2ms/step - loss: 0.4134 - accuracy: 0.8024 - val_loss: 0.4979 - val_accuracy: 0.7600\n",
      "Epoch 64/500\n",
      "90/90 [==============================] - 0s 2ms/step - loss: 0.4077 - accuracy: 0.8066 - val_loss: 0.5198 - val_accuracy: 0.7467\n",
      "Epoch 65/500\n",
      "90/90 [==============================] - 0s 3ms/step - loss: 0.4026 - accuracy: 0.8090 - val_loss: 0.5228 - val_accuracy: 0.7458\n",
      "Epoch 66/500\n",
      "90/90 [==============================] - 0s 3ms/step - loss: 0.4087 - accuracy: 0.8132 - val_loss: 0.5355 - val_accuracy: 0.7333\n",
      "Epoch 67/500\n",
      "90/90 [==============================] - 0s 2ms/step - loss: 0.4136 - accuracy: 0.8045 - val_loss: 0.5135 - val_accuracy: 0.7583\n",
      "Epoch 68/500\n",
      "90/90 [==============================] - 0s 2ms/step - loss: 0.4103 - accuracy: 0.8083 - val_loss: 0.5376 - val_accuracy: 0.7442\n",
      "Epoch 69/500\n",
      "90/90 [==============================] - 0s 3ms/step - loss: 0.4003 - accuracy: 0.8177 - val_loss: 0.4880 - val_accuracy: 0.7833\n",
      "Epoch 70/500\n",
      "90/90 [==============================] - 0s 3ms/step - loss: 0.4041 - accuracy: 0.8108 - val_loss: 0.5132 - val_accuracy: 0.7517\n",
      "Epoch 71/500\n",
      "90/90 [==============================] - 0s 2ms/step - loss: 0.4068 - accuracy: 0.8122 - val_loss: 0.5344 - val_accuracy: 0.7367\n",
      "Epoch 72/500\n",
      "90/90 [==============================] - 0s 2ms/step - loss: 0.3995 - accuracy: 0.8128 - val_loss: 0.5218 - val_accuracy: 0.7533\n",
      "Epoch 73/500\n",
      "90/90 [==============================] - 0s 3ms/step - loss: 0.4059 - accuracy: 0.8062 - val_loss: 0.5114 - val_accuracy: 0.7558\n",
      "Epoch 74/500\n",
      "90/90 [==============================] - 0s 3ms/step - loss: 0.4039 - accuracy: 0.8062 - val_loss: 0.5037 - val_accuracy: 0.7592\n",
      "Epoch 75/500\n",
      "90/90 [==============================] - 0s 2ms/step - loss: 0.4048 - accuracy: 0.8080 - val_loss: 0.5312 - val_accuracy: 0.7425\n",
      "Epoch 76/500\n",
      "90/90 [==============================] - 0s 2ms/step - loss: 0.4063 - accuracy: 0.8094 - val_loss: 0.5121 - val_accuracy: 0.7525\n",
      "Epoch 77/500\n",
      "90/90 [==============================] - 0s 3ms/step - loss: 0.4033 - accuracy: 0.8128 - val_loss: 0.5066 - val_accuracy: 0.7600\n",
      "Epoch 78/500\n",
      "90/90 [==============================] - 0s 3ms/step - loss: 0.3987 - accuracy: 0.8097 - val_loss: 0.4977 - val_accuracy: 0.7658\n",
      "Epoch 79/500\n",
      "90/90 [==============================] - 0s 2ms/step - loss: 0.3953 - accuracy: 0.8101 - val_loss: 0.5285 - val_accuracy: 0.7492\n",
      "Epoch 80/500\n",
      "90/90 [==============================] - 0s 2ms/step - loss: 0.4024 - accuracy: 0.8059 - val_loss: 0.5334 - val_accuracy: 0.7467\n",
      "Epoch 81/500\n",
      "90/90 [==============================] - 0s 2ms/step - loss: 0.3973 - accuracy: 0.8149 - val_loss: 0.5158 - val_accuracy: 0.7583\n",
      "Epoch 82/500\n",
      "90/90 [==============================] - 0s 3ms/step - loss: 0.3993 - accuracy: 0.8153 - val_loss: 0.5006 - val_accuracy: 0.7583\n",
      "Epoch 83/500\n",
      "90/90 [==============================] - 0s 3ms/step - loss: 0.4020 - accuracy: 0.8097 - val_loss: 0.4845 - val_accuracy: 0.7775\n",
      "Epoch 84/500\n",
      "90/90 [==============================] - 0s 2ms/step - loss: 0.4002 - accuracy: 0.8097 - val_loss: 0.5319 - val_accuracy: 0.7483\n",
      "Epoch 85/500\n",
      "90/90 [==============================] - 0s 2ms/step - loss: 0.4060 - accuracy: 0.8156 - val_loss: 0.5586 - val_accuracy: 0.7208\n",
      "Epoch 86/500\n",
      "90/90 [==============================] - 0s 2ms/step - loss: 0.4010 - accuracy: 0.8167 - val_loss: 0.4906 - val_accuracy: 0.7683\n",
      "Epoch 87/500\n",
      "90/90 [==============================] - 0s 3ms/step - loss: 0.3893 - accuracy: 0.8142 - val_loss: 0.5067 - val_accuracy: 0.7592\n",
      "Epoch 88/500\n",
      "90/90 [==============================] - 0s 2ms/step - loss: 0.3983 - accuracy: 0.8101 - val_loss: 0.5118 - val_accuracy: 0.7533\n",
      "Epoch 89/500\n",
      "90/90 [==============================] - 0s 2ms/step - loss: 0.3926 - accuracy: 0.8167 - val_loss: 0.5126 - val_accuracy: 0.7617\n",
      "Epoch 90/500\n",
      "90/90 [==============================] - 0s 3ms/step - loss: 0.4010 - accuracy: 0.8122 - val_loss: 0.4976 - val_accuracy: 0.7750\n",
      "Epoch 91/500\n",
      "90/90 [==============================] - 0s 2ms/step - loss: 0.3955 - accuracy: 0.8142 - val_loss: 0.5098 - val_accuracy: 0.7650\n",
      "Epoch 92/500\n",
      "90/90 [==============================] - 0s 2ms/step - loss: 0.3945 - accuracy: 0.8149 - val_loss: 0.5045 - val_accuracy: 0.7633\n",
      "Epoch 93/500\n",
      "90/90 [==============================] - 0s 2ms/step - loss: 0.3896 - accuracy: 0.8226 - val_loss: 0.5777 - val_accuracy: 0.7075\n",
      "Epoch 94/500\n",
      "90/90 [==============================] - 0s 2ms/step - loss: 0.3850 - accuracy: 0.8219 - val_loss: 0.5253 - val_accuracy: 0.7492\n",
      "Epoch 95/500\n",
      "90/90 [==============================] - 0s 3ms/step - loss: 0.3938 - accuracy: 0.8167 - val_loss: 0.5894 - val_accuracy: 0.7067\n",
      "Epoch 96/500\n",
      "90/90 [==============================] - 0s 3ms/step - loss: 0.3932 - accuracy: 0.8167 - val_loss: 0.5327 - val_accuracy: 0.7442\n",
      "Epoch 97/500\n",
      "90/90 [==============================] - 0s 2ms/step - loss: 0.3872 - accuracy: 0.8177 - val_loss: 0.5249 - val_accuracy: 0.7558\n",
      "Epoch 98/500\n",
      "90/90 [==============================] - 0s 2ms/step - loss: 0.3854 - accuracy: 0.8219 - val_loss: 0.5342 - val_accuracy: 0.7450\n",
      "Epoch 99/500\n",
      "90/90 [==============================] - 0s 3ms/step - loss: 0.3933 - accuracy: 0.8149 - val_loss: 0.5111 - val_accuracy: 0.7608\n",
      "Epoch 100/500\n",
      "90/90 [==============================] - 0s 2ms/step - loss: 0.3828 - accuracy: 0.8181 - val_loss: 0.5052 - val_accuracy: 0.7642\n",
      "Epoch 101/500\n",
      "90/90 [==============================] - 0s 3ms/step - loss: 0.3841 - accuracy: 0.8303 - val_loss: 0.5591 - val_accuracy: 0.7275\n",
      "Epoch 102/500\n",
      "90/90 [==============================] - 0s 2ms/step - loss: 0.3950 - accuracy: 0.8188 - val_loss: 0.5485 - val_accuracy: 0.7375\n",
      "Epoch 103/500\n",
      "90/90 [==============================] - 0s 2ms/step - loss: 0.3897 - accuracy: 0.8080 - val_loss: 0.5189 - val_accuracy: 0.7567\n",
      "Epoch 104/500\n",
      "90/90 [==============================] - 0s 2ms/step - loss: 0.3886 - accuracy: 0.8177 - val_loss: 0.5265 - val_accuracy: 0.7475\n",
      "Epoch 105/500\n",
      "90/90 [==============================] - 0s 2ms/step - loss: 0.3939 - accuracy: 0.8254 - val_loss: 0.5320 - val_accuracy: 0.7483\n",
      "Epoch 106/500\n",
      "90/90 [==============================] - 0s 2ms/step - loss: 0.3896 - accuracy: 0.8111 - val_loss: 0.5460 - val_accuracy: 0.7467\n",
      "Epoch 107/500\n",
      "90/90 [==============================] - 0s 3ms/step - loss: 0.3865 - accuracy: 0.8226 - val_loss: 0.5217 - val_accuracy: 0.7642\n",
      "Epoch 108/500\n",
      "90/90 [==============================] - 0s 2ms/step - loss: 0.3909 - accuracy: 0.8170 - val_loss: 0.5089 - val_accuracy: 0.7583\n",
      "Epoch 109/500\n",
      "90/90 [==============================] - 0s 3ms/step - loss: 0.3845 - accuracy: 0.8188 - val_loss: 0.5189 - val_accuracy: 0.7583\n",
      "Epoch 110/500\n",
      "90/90 [==============================] - 0s 2ms/step - loss: 0.3885 - accuracy: 0.8170 - val_loss: 0.5217 - val_accuracy: 0.7542\n",
      "Epoch 111/500\n",
      "90/90 [==============================] - 0s 2ms/step - loss: 0.3868 - accuracy: 0.8205 - val_loss: 0.5195 - val_accuracy: 0.7517\n",
      "Epoch 112/500\n",
      "90/90 [==============================] - 0s 2ms/step - loss: 0.3791 - accuracy: 0.8268 - val_loss: 0.5173 - val_accuracy: 0.7525\n",
      "Epoch 113/500\n",
      "90/90 [==============================] - 0s 2ms/step - loss: 0.3858 - accuracy: 0.8191 - val_loss: 0.5318 - val_accuracy: 0.7450\n",
      "Epoch 114/500\n",
      "90/90 [==============================] - 0s 2ms/step - loss: 0.3801 - accuracy: 0.8216 - val_loss: 0.5332 - val_accuracy: 0.7458\n",
      "Epoch 115/500\n",
      "90/90 [==============================] - 0s 2ms/step - loss: 0.3880 - accuracy: 0.8223 - val_loss: 0.5390 - val_accuracy: 0.7433\n",
      "Epoch 116/500\n"
     ]
    },
    {
     "name": "stdout",
     "output_type": "stream",
     "text": [
      "90/90 [==============================] - 0s 3ms/step - loss: 0.3899 - accuracy: 0.8153 - val_loss: 0.5862 - val_accuracy: 0.7117\n",
      "Epoch 117/500\n",
      "90/90 [==============================] - 0s 2ms/step - loss: 0.3821 - accuracy: 0.8191 - val_loss: 0.5120 - val_accuracy: 0.7692\n",
      "Epoch 118/500\n",
      "90/90 [==============================] - 0s 2ms/step - loss: 0.3804 - accuracy: 0.8195 - val_loss: 0.5368 - val_accuracy: 0.7550\n",
      "Epoch 119/500\n",
      "90/90 [==============================] - 0s 2ms/step - loss: 0.3859 - accuracy: 0.8272 - val_loss: 0.5262 - val_accuracy: 0.7542\n",
      "Epoch 120/500\n",
      "90/90 [==============================] - 0s 2ms/step - loss: 0.3831 - accuracy: 0.8251 - val_loss: 0.5140 - val_accuracy: 0.7575\n",
      "Epoch 121/500\n",
      "90/90 [==============================] - 0s 2ms/step - loss: 0.3838 - accuracy: 0.8177 - val_loss: 0.5305 - val_accuracy: 0.7442\n",
      "Epoch 122/500\n",
      "90/90 [==============================] - 0s 2ms/step - loss: 0.3821 - accuracy: 0.8247 - val_loss: 0.5377 - val_accuracy: 0.7417\n",
      "Epoch 123/500\n",
      "90/90 [==============================] - 0s 2ms/step - loss: 0.3801 - accuracy: 0.8184 - val_loss: 0.5280 - val_accuracy: 0.7508\n",
      "Epoch 124/500\n",
      "90/90 [==============================] - 0s 2ms/step - loss: 0.3846 - accuracy: 0.8226 - val_loss: 0.5692 - val_accuracy: 0.7317\n",
      "Epoch 125/500\n",
      "90/90 [==============================] - 0s 2ms/step - loss: 0.3870 - accuracy: 0.8212 - val_loss: 0.5352 - val_accuracy: 0.7450\n",
      "Epoch 126/500\n",
      "90/90 [==============================] - 0s 2ms/step - loss: 0.3788 - accuracy: 0.8128 - val_loss: 0.5426 - val_accuracy: 0.7333\n",
      "Epoch 127/500\n",
      "90/90 [==============================] - 0s 2ms/step - loss: 0.3784 - accuracy: 0.8307 - val_loss: 0.5401 - val_accuracy: 0.7433\n",
      "Epoch 128/500\n",
      "90/90 [==============================] - 0s 2ms/step - loss: 0.3769 - accuracy: 0.8219 - val_loss: 0.5469 - val_accuracy: 0.7350\n",
      "Epoch 129/500\n",
      "90/90 [==============================] - 0s 2ms/step - loss: 0.3815 - accuracy: 0.8338 - val_loss: 0.5275 - val_accuracy: 0.7433\n",
      "Epoch 130/500\n",
      "90/90 [==============================] - 0s 2ms/step - loss: 0.3784 - accuracy: 0.8167 - val_loss: 0.5355 - val_accuracy: 0.7450\n",
      "Epoch 131/500\n",
      "90/90 [==============================] - 0s 3ms/step - loss: 0.3761 - accuracy: 0.8226 - val_loss: 0.5306 - val_accuracy: 0.7408\n",
      "Epoch 132/500\n",
      "90/90 [==============================] - 0s 2ms/step - loss: 0.3827 - accuracy: 0.8153 - val_loss: 0.5433 - val_accuracy: 0.7400\n",
      "Epoch 133/500\n",
      "90/90 [==============================] - 0s 2ms/step - loss: 0.3794 - accuracy: 0.8198 - val_loss: 0.5423 - val_accuracy: 0.7350\n",
      "Epoch 134/500\n",
      "90/90 [==============================] - 0s 2ms/step - loss: 0.3705 - accuracy: 0.8237 - val_loss: 0.5359 - val_accuracy: 0.7458\n",
      "Epoch 135/500\n",
      "90/90 [==============================] - 0s 2ms/step - loss: 0.3757 - accuracy: 0.8240 - val_loss: 0.5406 - val_accuracy: 0.7408\n",
      "Epoch 136/500\n",
      "90/90 [==============================] - 0s 3ms/step - loss: 0.3860 - accuracy: 0.8184 - val_loss: 0.5334 - val_accuracy: 0.7467\n",
      "Epoch 137/500\n",
      "90/90 [==============================] - 0s 2ms/step - loss: 0.3730 - accuracy: 0.8279 - val_loss: 0.5309 - val_accuracy: 0.7500\n",
      "Epoch 138/500\n",
      "90/90 [==============================] - 0s 3ms/step - loss: 0.3772 - accuracy: 0.8156 - val_loss: 0.5378 - val_accuracy: 0.7467\n",
      "Epoch 139/500\n",
      "90/90 [==============================] - 0s 2ms/step - loss: 0.3854 - accuracy: 0.8195 - val_loss: 0.5477 - val_accuracy: 0.7383\n",
      "Epoch 140/500\n",
      "90/90 [==============================] - 0s 2ms/step - loss: 0.3710 - accuracy: 0.8310 - val_loss: 0.5111 - val_accuracy: 0.7575\n",
      "Epoch 141/500\n",
      "90/90 [==============================] - 0s 3ms/step - loss: 0.3755 - accuracy: 0.8251 - val_loss: 0.5387 - val_accuracy: 0.7400\n",
      "Epoch 142/500\n",
      "90/90 [==============================] - 0s 2ms/step - loss: 0.3745 - accuracy: 0.8251 - val_loss: 0.5265 - val_accuracy: 0.7500\n",
      "Epoch 143/500\n",
      "90/90 [==============================] - 0s 2ms/step - loss: 0.3685 - accuracy: 0.8261 - val_loss: 0.5791 - val_accuracy: 0.7150\n",
      "Epoch 144/500\n",
      "90/90 [==============================] - 0s 2ms/step - loss: 0.3632 - accuracy: 0.8314 - val_loss: 0.5364 - val_accuracy: 0.7442\n",
      "Epoch 145/500\n",
      "90/90 [==============================] - 0s 2ms/step - loss: 0.3719 - accuracy: 0.8272 - val_loss: 0.5226 - val_accuracy: 0.7492\n",
      "Epoch 146/500\n",
      "90/90 [==============================] - 0s 3ms/step - loss: 0.3683 - accuracy: 0.8279 - val_loss: 0.5280 - val_accuracy: 0.7500\n",
      "Epoch 147/500\n",
      "90/90 [==============================] - 0s 2ms/step - loss: 0.3671 - accuracy: 0.8202 - val_loss: 0.5258 - val_accuracy: 0.7425\n",
      "Epoch 148/500\n",
      "90/90 [==============================] - 0s 2ms/step - loss: 0.3728 - accuracy: 0.8317 - val_loss: 0.5328 - val_accuracy: 0.7467\n",
      "Epoch 149/500\n",
      "90/90 [==============================] - 0s 3ms/step - loss: 0.3735 - accuracy: 0.8233 - val_loss: 0.5074 - val_accuracy: 0.7633\n",
      "Epoch 150/500\n",
      "90/90 [==============================] - 0s 2ms/step - loss: 0.3692 - accuracy: 0.8258 - val_loss: 0.5238 - val_accuracy: 0.7517\n",
      "Epoch 151/500\n",
      "90/90 [==============================] - 0s 2ms/step - loss: 0.3623 - accuracy: 0.8310 - val_loss: 0.5684 - val_accuracy: 0.7208\n",
      "Epoch 152/500\n",
      "90/90 [==============================] - 0s 2ms/step - loss: 0.3701 - accuracy: 0.8279 - val_loss: 0.5626 - val_accuracy: 0.7350\n",
      "Epoch 153/500\n",
      "90/90 [==============================] - 0s 2ms/step - loss: 0.3711 - accuracy: 0.8258 - val_loss: 0.5454 - val_accuracy: 0.7308\n",
      "Epoch 154/500\n",
      "90/90 [==============================] - 0s 2ms/step - loss: 0.3616 - accuracy: 0.8387 - val_loss: 0.5789 - val_accuracy: 0.7142\n",
      "Epoch 155/500\n",
      "90/90 [==============================] - 0s 2ms/step - loss: 0.3631 - accuracy: 0.8240 - val_loss: 0.5315 - val_accuracy: 0.7367\n",
      "Epoch 156/500\n",
      "90/90 [==============================] - 0s 3ms/step - loss: 0.3630 - accuracy: 0.8261 - val_loss: 0.5522 - val_accuracy: 0.7300\n",
      "Epoch 157/500\n",
      "90/90 [==============================] - 0s 2ms/step - loss: 0.3712 - accuracy: 0.8237 - val_loss: 0.5238 - val_accuracy: 0.7383\n",
      "Epoch 158/500\n",
      "90/90 [==============================] - 0s 2ms/step - loss: 0.3639 - accuracy: 0.8303 - val_loss: 0.5170 - val_accuracy: 0.7500\n",
      "Epoch 159/500\n",
      "90/90 [==============================] - 0s 2ms/step - loss: 0.3673 - accuracy: 0.8233 - val_loss: 0.5389 - val_accuracy: 0.7317\n",
      "Epoch 160/500\n",
      "90/90 [==============================] - 0s 2ms/step - loss: 0.3634 - accuracy: 0.8310 - val_loss: 0.5427 - val_accuracy: 0.7392\n",
      "Epoch 161/500\n",
      "90/90 [==============================] - 0s 3ms/step - loss: 0.3663 - accuracy: 0.8307 - val_loss: 0.5141 - val_accuracy: 0.7575\n",
      "Epoch 162/500\n",
      "90/90 [==============================] - 0s 3ms/step - loss: 0.3598 - accuracy: 0.8338 - val_loss: 0.5800 - val_accuracy: 0.7158\n",
      "Epoch 163/500\n",
      "90/90 [==============================] - 0s 3ms/step - loss: 0.3614 - accuracy: 0.8404 - val_loss: 0.5208 - val_accuracy: 0.7533\n",
      "Epoch 164/500\n",
      "90/90 [==============================] - 0s 2ms/step - loss: 0.3635 - accuracy: 0.8359 - val_loss: 0.5834 - val_accuracy: 0.7142\n",
      "Epoch 165/500\n",
      "90/90 [==============================] - 0s 3ms/step - loss: 0.3648 - accuracy: 0.8307 - val_loss: 0.5553 - val_accuracy: 0.7250\n",
      "Epoch 166/500\n",
      "90/90 [==============================] - 0s 2ms/step - loss: 0.3603 - accuracy: 0.8348 - val_loss: 0.5593 - val_accuracy: 0.7383\n",
      "Epoch 167/500\n",
      "90/90 [==============================] - 0s 3ms/step - loss: 0.3616 - accuracy: 0.8282 - val_loss: 0.5577 - val_accuracy: 0.7317\n",
      "Epoch 168/500\n",
      "90/90 [==============================] - 0s 2ms/step - loss: 0.3650 - accuracy: 0.8380 - val_loss: 0.5629 - val_accuracy: 0.7275\n",
      "Epoch 169/500\n",
      "90/90 [==============================] - 0s 2ms/step - loss: 0.3626 - accuracy: 0.8307 - val_loss: 0.5302 - val_accuracy: 0.7467\n",
      "Epoch 170/500\n",
      "90/90 [==============================] - 0s 2ms/step - loss: 0.3560 - accuracy: 0.8331 - val_loss: 0.5512 - val_accuracy: 0.7308\n",
      "Epoch 171/500\n",
      "90/90 [==============================] - 0s 3ms/step - loss: 0.3557 - accuracy: 0.8352 - val_loss: 0.5655 - val_accuracy: 0.7275\n",
      "Epoch 172/500\n",
      "90/90 [==============================] - 0s 2ms/step - loss: 0.3559 - accuracy: 0.8397 - val_loss: 0.5287 - val_accuracy: 0.7492\n",
      "Epoch 173/500\n"
     ]
    },
    {
     "name": "stdout",
     "output_type": "stream",
     "text": [
      "90/90 [==============================] - 0s 3ms/step - loss: 0.3572 - accuracy: 0.8338 - val_loss: 0.5996 - val_accuracy: 0.7133\n",
      "Epoch 174/500\n",
      "90/90 [==============================] - 0s 2ms/step - loss: 0.3603 - accuracy: 0.8254 - val_loss: 0.5794 - val_accuracy: 0.7258\n",
      "Epoch 175/500\n",
      "90/90 [==============================] - 0s 2ms/step - loss: 0.3577 - accuracy: 0.8303 - val_loss: 0.5410 - val_accuracy: 0.7442\n",
      "Epoch 176/500\n",
      "90/90 [==============================] - 0s 3ms/step - loss: 0.3609 - accuracy: 0.8296 - val_loss: 0.5721 - val_accuracy: 0.7292\n",
      "Epoch 177/500\n",
      "90/90 [==============================] - 0s 2ms/step - loss: 0.3524 - accuracy: 0.8387 - val_loss: 0.5497 - val_accuracy: 0.7333\n",
      "Epoch 178/500\n",
      "90/90 [==============================] - 0s 2ms/step - loss: 0.3538 - accuracy: 0.8328 - val_loss: 0.5855 - val_accuracy: 0.7150\n",
      "Epoch 179/500\n",
      "90/90 [==============================] - 0s 2ms/step - loss: 0.3630 - accuracy: 0.8314 - val_loss: 0.5592 - val_accuracy: 0.7292\n",
      "Epoch 180/500\n",
      "90/90 [==============================] - 0s 2ms/step - loss: 0.3541 - accuracy: 0.8341 - val_loss: 0.5421 - val_accuracy: 0.7375\n",
      "Epoch 181/500\n",
      "90/90 [==============================] - 0s 2ms/step - loss: 0.3645 - accuracy: 0.8303 - val_loss: 0.5517 - val_accuracy: 0.7333\n",
      "Epoch 182/500\n",
      "90/90 [==============================] - 0s 2ms/step - loss: 0.3557 - accuracy: 0.8376 - val_loss: 0.5306 - val_accuracy: 0.7517\n",
      "Epoch 183/500\n",
      "90/90 [==============================] - 0s 2ms/step - loss: 0.3650 - accuracy: 0.8240 - val_loss: 0.5304 - val_accuracy: 0.7500\n",
      "Epoch 184/500\n",
      "90/90 [==============================] - 0s 2ms/step - loss: 0.3554 - accuracy: 0.8359 - val_loss: 0.5477 - val_accuracy: 0.7442\n",
      "Epoch 185/500\n",
      "90/90 [==============================] - 0s 2ms/step - loss: 0.3629 - accuracy: 0.8296 - val_loss: 0.5559 - val_accuracy: 0.7358\n",
      "Epoch 186/500\n",
      "90/90 [==============================] - 0s 2ms/step - loss: 0.3538 - accuracy: 0.8359 - val_loss: 0.5700 - val_accuracy: 0.7292\n",
      "Epoch 187/500\n",
      "90/90 [==============================] - 0s 2ms/step - loss: 0.3613 - accuracy: 0.8282 - val_loss: 0.5413 - val_accuracy: 0.7533\n",
      "Epoch 188/500\n",
      "90/90 [==============================] - 0s 3ms/step - loss: 0.3511 - accuracy: 0.8418 - val_loss: 0.5637 - val_accuracy: 0.7383\n",
      "Epoch 189/500\n",
      "90/90 [==============================] - 0s 2ms/step - loss: 0.3471 - accuracy: 0.8383 - val_loss: 0.5629 - val_accuracy: 0.7358\n",
      "Epoch 190/500\n",
      "90/90 [==============================] - 0s 2ms/step - loss: 0.3506 - accuracy: 0.8369 - val_loss: 0.5352 - val_accuracy: 0.7542\n",
      "Epoch 191/500\n",
      "90/90 [==============================] - 0s 2ms/step - loss: 0.3647 - accuracy: 0.8303 - val_loss: 0.5328 - val_accuracy: 0.7508\n",
      "Epoch 192/500\n",
      "90/90 [==============================] - 0s 3ms/step - loss: 0.3470 - accuracy: 0.8443 - val_loss: 0.5577 - val_accuracy: 0.7342\n",
      "Epoch 193/500\n",
      "90/90 [==============================] - 0s 2ms/step - loss: 0.3551 - accuracy: 0.8362 - val_loss: 0.5629 - val_accuracy: 0.7317\n",
      "Epoch 194/500\n",
      "90/90 [==============================] - 0s 2ms/step - loss: 0.3499 - accuracy: 0.8359 - val_loss: 0.5501 - val_accuracy: 0.7467\n",
      "Epoch 195/500\n",
      "90/90 [==============================] - 0s 2ms/step - loss: 0.3492 - accuracy: 0.8443 - val_loss: 0.5451 - val_accuracy: 0.7492\n",
      "Epoch 196/500\n",
      "90/90 [==============================] - 0s 2ms/step - loss: 0.3519 - accuracy: 0.8394 - val_loss: 0.5583 - val_accuracy: 0.7408\n",
      "Epoch 197/500\n",
      "90/90 [==============================] - 0s 2ms/step - loss: 0.3505 - accuracy: 0.8355 - val_loss: 0.5733 - val_accuracy: 0.7308\n",
      "Epoch 198/500\n",
      "90/90 [==============================] - 0s 2ms/step - loss: 0.3541 - accuracy: 0.8415 - val_loss: 0.5396 - val_accuracy: 0.7525\n",
      "Epoch 199/500\n",
      "90/90 [==============================] - 0s 2ms/step - loss: 0.3514 - accuracy: 0.8352 - val_loss: 0.5618 - val_accuracy: 0.7325\n",
      "Epoch 200/500\n",
      "90/90 [==============================] - 0s 2ms/step - loss: 0.3528 - accuracy: 0.8376 - val_loss: 0.5568 - val_accuracy: 0.7408\n",
      "Epoch 201/500\n",
      "90/90 [==============================] - 0s 2ms/step - loss: 0.3459 - accuracy: 0.8401 - val_loss: 0.5880 - val_accuracy: 0.7267\n",
      "Epoch 202/500\n",
      "90/90 [==============================] - 0s 2ms/step - loss: 0.3505 - accuracy: 0.8345 - val_loss: 0.5299 - val_accuracy: 0.7583\n",
      "Epoch 203/500\n",
      "90/90 [==============================] - 0s 3ms/step - loss: 0.3545 - accuracy: 0.8341 - val_loss: 0.5518 - val_accuracy: 0.7475\n",
      "Epoch 204/500\n",
      "90/90 [==============================] - 0s 2ms/step - loss: 0.3556 - accuracy: 0.8446 - val_loss: 0.5485 - val_accuracy: 0.7408\n",
      "Epoch 205/500\n",
      "90/90 [==============================] - 0s 2ms/step - loss: 0.3468 - accuracy: 0.8418 - val_loss: 0.5848 - val_accuracy: 0.7267\n",
      "Epoch 206/500\n",
      "90/90 [==============================] - 0s 3ms/step - loss: 0.3476 - accuracy: 0.8425 - val_loss: 0.5653 - val_accuracy: 0.7483\n",
      "Epoch 207/500\n",
      "90/90 [==============================] - 0s 2ms/step - loss: 0.3474 - accuracy: 0.8397 - val_loss: 0.5959 - val_accuracy: 0.7217\n",
      "Epoch 208/500\n",
      "90/90 [==============================] - 0s 2ms/step - loss: 0.3446 - accuracy: 0.8446 - val_loss: 0.5975 - val_accuracy: 0.7208\n",
      "Epoch 209/500\n",
      "90/90 [==============================] - 0s 2ms/step - loss: 0.3434 - accuracy: 0.8387 - val_loss: 0.5494 - val_accuracy: 0.7400\n",
      "Epoch 210/500\n",
      "90/90 [==============================] - 0s 3ms/step - loss: 0.3495 - accuracy: 0.8317 - val_loss: 0.5485 - val_accuracy: 0.7417\n",
      "Epoch 211/500\n",
      "90/90 [==============================] - 0s 2ms/step - loss: 0.3378 - accuracy: 0.8394 - val_loss: 0.5688 - val_accuracy: 0.7375\n",
      "Epoch 212/500\n",
      "90/90 [==============================] - 0s 3ms/step - loss: 0.3474 - accuracy: 0.8432 - val_loss: 0.5682 - val_accuracy: 0.7292\n",
      "Epoch 213/500\n",
      "90/90 [==============================] - 0s 3ms/step - loss: 0.3436 - accuracy: 0.8418 - val_loss: 0.5644 - val_accuracy: 0.7300\n",
      "Epoch 214/500\n",
      "90/90 [==============================] - 0s 3ms/step - loss: 0.3444 - accuracy: 0.8408 - val_loss: 0.5761 - val_accuracy: 0.7300\n",
      "Epoch 215/500\n",
      "90/90 [==============================] - 0s 4ms/step - loss: 0.3445 - accuracy: 0.8425 - val_loss: 0.5642 - val_accuracy: 0.7350\n",
      "Epoch 216/500\n",
      "90/90 [==============================] - 0s 3ms/step - loss: 0.3413 - accuracy: 0.8401 - val_loss: 0.5882 - val_accuracy: 0.7142\n",
      "Epoch 217/500\n",
      "90/90 [==============================] - 0s 3ms/step - loss: 0.3378 - accuracy: 0.8359 - val_loss: 0.6040 - val_accuracy: 0.7158\n",
      "Epoch 218/500\n",
      "90/90 [==============================] - 0s 3ms/step - loss: 0.3476 - accuracy: 0.8348 - val_loss: 0.5590 - val_accuracy: 0.7425\n",
      "Epoch 219/500\n",
      "90/90 [==============================] - 0s 3ms/step - loss: 0.3479 - accuracy: 0.8401 - val_loss: 0.5538 - val_accuracy: 0.7442\n",
      "Epoch 220/500\n",
      "90/90 [==============================] - 0s 3ms/step - loss: 0.3408 - accuracy: 0.8425 - val_loss: 0.5729 - val_accuracy: 0.7317\n",
      "Epoch 221/500\n",
      "90/90 [==============================] - 0s 3ms/step - loss: 0.3486 - accuracy: 0.8404 - val_loss: 0.5990 - val_accuracy: 0.7208\n",
      "Epoch 222/500\n",
      "90/90 [==============================] - 0s 3ms/step - loss: 0.3373 - accuracy: 0.8446 - val_loss: 0.5811 - val_accuracy: 0.7208\n",
      "Epoch 223/500\n",
      "90/90 [==============================] - 0s 3ms/step - loss: 0.3562 - accuracy: 0.8355 - val_loss: 0.5782 - val_accuracy: 0.7358\n",
      "Epoch 224/500\n",
      "90/90 [==============================] - 0s 3ms/step - loss: 0.3509 - accuracy: 0.8348 - val_loss: 0.5817 - val_accuracy: 0.7300\n",
      "Epoch 225/500\n",
      "90/90 [==============================] - 0s 3ms/step - loss: 0.3426 - accuracy: 0.8373 - val_loss: 0.5671 - val_accuracy: 0.7308\n",
      "Epoch 226/500\n",
      "90/90 [==============================] - 0s 3ms/step - loss: 0.3505 - accuracy: 0.8408 - val_loss: 0.5675 - val_accuracy: 0.7325\n",
      "Epoch 227/500\n",
      "90/90 [==============================] - 0s 3ms/step - loss: 0.3470 - accuracy: 0.8408 - val_loss: 0.5764 - val_accuracy: 0.7308\n",
      "Epoch 228/500\n",
      "90/90 [==============================] - 0s 3ms/step - loss: 0.3497 - accuracy: 0.8397 - val_loss: 0.5636 - val_accuracy: 0.7400\n",
      "Epoch 229/500\n",
      "90/90 [==============================] - 0s 3ms/step - loss: 0.3445 - accuracy: 0.8394 - val_loss: 0.5821 - val_accuracy: 0.7308\n",
      "Epoch 230/500\n"
     ]
    },
    {
     "name": "stdout",
     "output_type": "stream",
     "text": [
      "90/90 [==============================] - 0s 3ms/step - loss: 0.3388 - accuracy: 0.8439 - val_loss: 0.5890 - val_accuracy: 0.7267\n",
      "Epoch 231/500\n",
      "90/90 [==============================] - 0s 4ms/step - loss: 0.3421 - accuracy: 0.8474 - val_loss: 0.5830 - val_accuracy: 0.7275\n",
      "Epoch 232/500\n",
      "90/90 [==============================] - 0s 3ms/step - loss: 0.3352 - accuracy: 0.8436 - val_loss: 0.5873 - val_accuracy: 0.7233\n",
      "Epoch 233/500\n",
      "90/90 [==============================] - 0s 3ms/step - loss: 0.3477 - accuracy: 0.8401 - val_loss: 0.5738 - val_accuracy: 0.7350\n",
      "Epoch 234/500\n",
      "90/90 [==============================] - 0s 3ms/step - loss: 0.3407 - accuracy: 0.8397 - val_loss: 0.5850 - val_accuracy: 0.7333\n",
      "Epoch 235/500\n",
      "90/90 [==============================] - 0s 3ms/step - loss: 0.3445 - accuracy: 0.8383 - val_loss: 0.5791 - val_accuracy: 0.7433\n",
      "Epoch 236/500\n",
      "90/90 [==============================] - 0s 3ms/step - loss: 0.3496 - accuracy: 0.8425 - val_loss: 0.5916 - val_accuracy: 0.7350\n",
      "Epoch 237/500\n",
      "90/90 [==============================] - 0s 3ms/step - loss: 0.3389 - accuracy: 0.8432 - val_loss: 0.5619 - val_accuracy: 0.7492\n",
      "Epoch 238/500\n",
      "90/90 [==============================] - 0s 2ms/step - loss: 0.3498 - accuracy: 0.8362 - val_loss: 0.5765 - val_accuracy: 0.7442\n",
      "Epoch 239/500\n",
      "90/90 [==============================] - 0s 3ms/step - loss: 0.3366 - accuracy: 0.8446 - val_loss: 0.5473 - val_accuracy: 0.7483\n",
      "Epoch 240/500\n",
      "90/90 [==============================] - 0s 3ms/step - loss: 0.3288 - accuracy: 0.8436 - val_loss: 0.5993 - val_accuracy: 0.7250\n",
      "Epoch 241/500\n",
      "90/90 [==============================] - 0s 3ms/step - loss: 0.3311 - accuracy: 0.8551 - val_loss: 0.5711 - val_accuracy: 0.7392\n",
      "Epoch 242/500\n",
      "90/90 [==============================] - 0s 2ms/step - loss: 0.3480 - accuracy: 0.8443 - val_loss: 0.6178 - val_accuracy: 0.7083\n",
      "Epoch 243/500\n",
      "90/90 [==============================] - 0s 2ms/step - loss: 0.3347 - accuracy: 0.8411 - val_loss: 0.5991 - val_accuracy: 0.7242\n",
      "Epoch 244/500\n",
      "90/90 [==============================] - 0s 2ms/step - loss: 0.3436 - accuracy: 0.8425 - val_loss: 0.5641 - val_accuracy: 0.7400\n",
      "Epoch 245/500\n",
      "90/90 [==============================] - 0s 2ms/step - loss: 0.3427 - accuracy: 0.8341 - val_loss: 0.5800 - val_accuracy: 0.7250\n",
      "Epoch 246/500\n",
      "90/90 [==============================] - 0s 2ms/step - loss: 0.3431 - accuracy: 0.8411 - val_loss: 0.5709 - val_accuracy: 0.7392\n",
      "Epoch 247/500\n",
      "90/90 [==============================] - 0s 2ms/step - loss: 0.3450 - accuracy: 0.8366 - val_loss: 0.5818 - val_accuracy: 0.7325\n",
      "Epoch 248/500\n",
      "90/90 [==============================] - 0s 2ms/step - loss: 0.3514 - accuracy: 0.8352 - val_loss: 0.5998 - val_accuracy: 0.7217\n",
      "Epoch 249/500\n",
      "90/90 [==============================] - 0s 3ms/step - loss: 0.3409 - accuracy: 0.8390 - val_loss: 0.5995 - val_accuracy: 0.7183\n",
      "Epoch 250/500\n",
      "90/90 [==============================] - 0s 3ms/step - loss: 0.3479 - accuracy: 0.8345 - val_loss: 0.5568 - val_accuracy: 0.7492\n",
      "Epoch 251/500\n",
      "90/90 [==============================] - 0s 3ms/step - loss: 0.3376 - accuracy: 0.8355 - val_loss: 0.5821 - val_accuracy: 0.7433\n",
      "Epoch 252/500\n",
      "90/90 [==============================] - 0s 3ms/step - loss: 0.3316 - accuracy: 0.8509 - val_loss: 0.5629 - val_accuracy: 0.7425\n",
      "Epoch 253/500\n",
      "90/90 [==============================] - 0s 2ms/step - loss: 0.3246 - accuracy: 0.8568 - val_loss: 0.6131 - val_accuracy: 0.7150\n",
      "Epoch 254/500\n",
      "90/90 [==============================] - 0s 2ms/step - loss: 0.3439 - accuracy: 0.8411 - val_loss: 0.5717 - val_accuracy: 0.7458\n",
      "Epoch 255/500\n",
      "90/90 [==============================] - 0s 3ms/step - loss: 0.3422 - accuracy: 0.8411 - val_loss: 0.5973 - val_accuracy: 0.7300\n",
      "Epoch 256/500\n",
      "90/90 [==============================] - 0s 2ms/step - loss: 0.3328 - accuracy: 0.8429 - val_loss: 0.5586 - val_accuracy: 0.7458\n",
      "Epoch 257/500\n",
      "90/90 [==============================] - 0s 3ms/step - loss: 0.3373 - accuracy: 0.8429 - val_loss: 0.6011 - val_accuracy: 0.7258\n",
      "Epoch 258/500\n",
      "90/90 [==============================] - 0s 3ms/step - loss: 0.3437 - accuracy: 0.8387 - val_loss: 0.6229 - val_accuracy: 0.7158\n",
      "Epoch 259/500\n",
      "90/90 [==============================] - 0s 3ms/step - loss: 0.3334 - accuracy: 0.8422 - val_loss: 0.5813 - val_accuracy: 0.7425\n",
      "Epoch 260/500\n",
      "90/90 [==============================] - 0s 3ms/step - loss: 0.3404 - accuracy: 0.8362 - val_loss: 0.5920 - val_accuracy: 0.7325\n",
      "Epoch 261/500\n",
      "90/90 [==============================] - 0s 3ms/step - loss: 0.3350 - accuracy: 0.8460 - val_loss: 0.6063 - val_accuracy: 0.7292\n",
      "Epoch 262/500\n",
      "90/90 [==============================] - 0s 2ms/step - loss: 0.3291 - accuracy: 0.8415 - val_loss: 0.5979 - val_accuracy: 0.7342\n",
      "Epoch 263/500\n",
      "90/90 [==============================] - 0s 3ms/step - loss: 0.3426 - accuracy: 0.8408 - val_loss: 0.5668 - val_accuracy: 0.7383\n",
      "Epoch 264/500\n",
      "90/90 [==============================] - 0s 3ms/step - loss: 0.3287 - accuracy: 0.8488 - val_loss: 0.6298 - val_accuracy: 0.7158\n",
      "Epoch 265/500\n",
      "90/90 [==============================] - 0s 3ms/step - loss: 0.3416 - accuracy: 0.8390 - val_loss: 0.5998 - val_accuracy: 0.7300\n",
      "Epoch 266/500\n",
      "90/90 [==============================] - 0s 2ms/step - loss: 0.3319 - accuracy: 0.8432 - val_loss: 0.6033 - val_accuracy: 0.7317\n",
      "Epoch 267/500\n",
      "90/90 [==============================] - 0s 2ms/step - loss: 0.3337 - accuracy: 0.8450 - val_loss: 0.6266 - val_accuracy: 0.7233\n",
      "Epoch 268/500\n",
      "90/90 [==============================] - 0s 2ms/step - loss: 0.3383 - accuracy: 0.8474 - val_loss: 0.5564 - val_accuracy: 0.7475\n",
      "Epoch 269/500\n",
      "90/90 [==============================] - 0s 3ms/step - loss: 0.3406 - accuracy: 0.8460 - val_loss: 0.5914 - val_accuracy: 0.7400\n",
      "Epoch 270/500\n",
      "90/90 [==============================] - 0s 3ms/step - loss: 0.3260 - accuracy: 0.8541 - val_loss: 0.6145 - val_accuracy: 0.7258\n",
      "Epoch 271/500\n",
      "90/90 [==============================] - 0s 3ms/step - loss: 0.3333 - accuracy: 0.8492 - val_loss: 0.6069 - val_accuracy: 0.7308\n",
      "Epoch 272/500\n",
      "90/90 [==============================] - 0s 3ms/step - loss: 0.3364 - accuracy: 0.8443 - val_loss: 0.6157 - val_accuracy: 0.7217\n",
      "Epoch 273/500\n",
      "90/90 [==============================] - 0s 3ms/step - loss: 0.3304 - accuracy: 0.8432 - val_loss: 0.6129 - val_accuracy: 0.7308\n",
      "Epoch 274/500\n",
      "90/90 [==============================] - 0s 3ms/step - loss: 0.3441 - accuracy: 0.8408 - val_loss: 0.6132 - val_accuracy: 0.7183\n",
      "Epoch 275/500\n",
      "90/90 [==============================] - 0s 3ms/step - loss: 0.3260 - accuracy: 0.8464 - val_loss: 0.5914 - val_accuracy: 0.7342\n",
      "Epoch 276/500\n",
      "90/90 [==============================] - 0s 3ms/step - loss: 0.3201 - accuracy: 0.8516 - val_loss: 0.6202 - val_accuracy: 0.7117\n",
      "Epoch 277/500\n",
      "90/90 [==============================] - 0s 3ms/step - loss: 0.3263 - accuracy: 0.8565 - val_loss: 0.6068 - val_accuracy: 0.7267\n",
      "Epoch 278/500\n",
      "90/90 [==============================] - 0s 3ms/step - loss: 0.3305 - accuracy: 0.8485 - val_loss: 0.6087 - val_accuracy: 0.7292\n",
      "Epoch 279/500\n",
      "90/90 [==============================] - 0s 3ms/step - loss: 0.3364 - accuracy: 0.8401 - val_loss: 0.6143 - val_accuracy: 0.7233\n",
      "Epoch 280/500\n",
      "90/90 [==============================] - 0s 3ms/step - loss: 0.3235 - accuracy: 0.8520 - val_loss: 0.6067 - val_accuracy: 0.7300\n",
      "Epoch 281/500\n",
      "90/90 [==============================] - 0s 2ms/step - loss: 0.3386 - accuracy: 0.8485 - val_loss: 0.6082 - val_accuracy: 0.7200\n",
      "Epoch 282/500\n",
      "90/90 [==============================] - 0s 3ms/step - loss: 0.3346 - accuracy: 0.8453 - val_loss: 0.6072 - val_accuracy: 0.7242\n",
      "Epoch 283/500\n",
      "90/90 [==============================] - 0s 3ms/step - loss: 0.3305 - accuracy: 0.8513 - val_loss: 0.5792 - val_accuracy: 0.7408\n",
      "Epoch 284/500\n",
      "90/90 [==============================] - 0s 2ms/step - loss: 0.3291 - accuracy: 0.8460 - val_loss: 0.5655 - val_accuracy: 0.7542\n",
      "Epoch 285/500\n",
      "90/90 [==============================] - 0s 3ms/step - loss: 0.3357 - accuracy: 0.8453 - val_loss: 0.5753 - val_accuracy: 0.7483\n",
      "Epoch 286/500\n",
      "90/90 [==============================] - 0s 3ms/step - loss: 0.3358 - accuracy: 0.8432 - val_loss: 0.6138 - val_accuracy: 0.7250\n",
      "Epoch 287/500\n"
     ]
    },
    {
     "name": "stdout",
     "output_type": "stream",
     "text": [
      "90/90 [==============================] - 0s 3ms/step - loss: 0.3265 - accuracy: 0.8499 - val_loss: 0.5932 - val_accuracy: 0.7350\n",
      "Epoch 288/500\n",
      "90/90 [==============================] - 0s 3ms/step - loss: 0.3405 - accuracy: 0.8471 - val_loss: 0.6002 - val_accuracy: 0.7300\n",
      "Epoch 289/500\n",
      "90/90 [==============================] - 0s 3ms/step - loss: 0.3276 - accuracy: 0.8495 - val_loss: 0.5958 - val_accuracy: 0.7358\n",
      "Epoch 290/500\n",
      "90/90 [==============================] - 0s 3ms/step - loss: 0.3294 - accuracy: 0.8460 - val_loss: 0.6151 - val_accuracy: 0.7225\n",
      "Epoch 291/500\n",
      "90/90 [==============================] - 0s 3ms/step - loss: 0.3434 - accuracy: 0.8502 - val_loss: 0.5857 - val_accuracy: 0.7450\n",
      "Epoch 292/500\n",
      "90/90 [==============================] - 0s 2ms/step - loss: 0.3351 - accuracy: 0.8404 - val_loss: 0.6297 - val_accuracy: 0.7183\n",
      "Epoch 293/500\n",
      "90/90 [==============================] - 0s 2ms/step - loss: 0.3248 - accuracy: 0.8464 - val_loss: 0.5944 - val_accuracy: 0.7342\n",
      "Epoch 294/500\n",
      "90/90 [==============================] - 0s 3ms/step - loss: 0.3291 - accuracy: 0.8495 - val_loss: 0.5974 - val_accuracy: 0.7400\n",
      "Epoch 295/500\n",
      "90/90 [==============================] - 0s 3ms/step - loss: 0.3239 - accuracy: 0.8561 - val_loss: 0.5907 - val_accuracy: 0.7375\n",
      "Epoch 296/500\n",
      "90/90 [==============================] - 0s 3ms/step - loss: 0.3359 - accuracy: 0.8408 - val_loss: 0.6224 - val_accuracy: 0.7208\n",
      "Epoch 297/500\n",
      "90/90 [==============================] - 0s 2ms/step - loss: 0.3217 - accuracy: 0.8502 - val_loss: 0.6218 - val_accuracy: 0.7200\n",
      "Epoch 298/500\n",
      "90/90 [==============================] - 0s 3ms/step - loss: 0.3237 - accuracy: 0.8530 - val_loss: 0.6616 - val_accuracy: 0.7167\n",
      "Epoch 299/500\n",
      "90/90 [==============================] - 0s 3ms/step - loss: 0.3293 - accuracy: 0.8460 - val_loss: 0.5811 - val_accuracy: 0.7542\n",
      "Epoch 300/500\n",
      "90/90 [==============================] - 0s 3ms/step - loss: 0.3347 - accuracy: 0.8481 - val_loss: 0.5929 - val_accuracy: 0.7400\n",
      "Epoch 301/500\n",
      "90/90 [==============================] - 0s 2ms/step - loss: 0.3329 - accuracy: 0.8453 - val_loss: 0.5932 - val_accuracy: 0.7408\n",
      "Epoch 302/500\n",
      "90/90 [==============================] - 0s 3ms/step - loss: 0.3368 - accuracy: 0.8390 - val_loss: 0.6128 - val_accuracy: 0.7342\n",
      "Epoch 303/500\n",
      "90/90 [==============================] - 0s 2ms/step - loss: 0.3227 - accuracy: 0.8541 - val_loss: 0.5978 - val_accuracy: 0.7383\n",
      "Epoch 304/500\n",
      "90/90 [==============================] - 0s 3ms/step - loss: 0.3214 - accuracy: 0.8527 - val_loss: 0.5915 - val_accuracy: 0.7442\n",
      "Epoch 305/500\n",
      "90/90 [==============================] - 0s 3ms/step - loss: 0.3226 - accuracy: 0.8554 - val_loss: 0.6053 - val_accuracy: 0.7308\n",
      "Epoch 306/500\n",
      "90/90 [==============================] - 0s 3ms/step - loss: 0.3237 - accuracy: 0.8481 - val_loss: 0.6134 - val_accuracy: 0.7233\n",
      "Epoch 307/500\n",
      "90/90 [==============================] - 0s 2ms/step - loss: 0.3334 - accuracy: 0.8492 - val_loss: 0.6282 - val_accuracy: 0.7133\n",
      "Epoch 308/500\n",
      "90/90 [==============================] - 0s 3ms/step - loss: 0.3231 - accuracy: 0.8499 - val_loss: 0.6112 - val_accuracy: 0.7383\n",
      "Epoch 309/500\n",
      "90/90 [==============================] - 0s 3ms/step - loss: 0.3227 - accuracy: 0.8596 - val_loss: 0.6160 - val_accuracy: 0.7200\n",
      "Epoch 310/500\n",
      "90/90 [==============================] - 0s 4ms/step - loss: 0.3280 - accuracy: 0.8488 - val_loss: 0.6212 - val_accuracy: 0.7158\n",
      "Epoch 311/500\n",
      "90/90 [==============================] - 0s 3ms/step - loss: 0.3268 - accuracy: 0.8495 - val_loss: 0.5945 - val_accuracy: 0.7392\n",
      "Epoch 312/500\n",
      "90/90 [==============================] - 0s 3ms/step - loss: 0.3117 - accuracy: 0.8603 - val_loss: 0.6452 - val_accuracy: 0.7133\n",
      "Epoch 313/500\n",
      "90/90 [==============================] - 0s 3ms/step - loss: 0.3211 - accuracy: 0.8558 - val_loss: 0.6023 - val_accuracy: 0.7375\n",
      "Epoch 314/500\n",
      "90/90 [==============================] - 0s 3ms/step - loss: 0.3245 - accuracy: 0.8541 - val_loss: 0.6089 - val_accuracy: 0.7267\n",
      "Epoch 315/500\n",
      "90/90 [==============================] - 0s 3ms/step - loss: 0.3191 - accuracy: 0.8572 - val_loss: 0.6000 - val_accuracy: 0.7342\n",
      "Epoch 316/500\n",
      "90/90 [==============================] - 0s 3ms/step - loss: 0.3250 - accuracy: 0.8460 - val_loss: 0.6499 - val_accuracy: 0.7117\n",
      "Epoch 317/500\n",
      "90/90 [==============================] - 0s 3ms/step - loss: 0.3251 - accuracy: 0.8534 - val_loss: 0.6292 - val_accuracy: 0.7300\n",
      "Epoch 318/500\n",
      "90/90 [==============================] - 0s 3ms/step - loss: 0.3309 - accuracy: 0.8485 - val_loss: 0.6150 - val_accuracy: 0.7417\n",
      "Epoch 319/500\n",
      "90/90 [==============================] - 0s 3ms/step - loss: 0.3360 - accuracy: 0.8457 - val_loss: 0.6241 - val_accuracy: 0.7375\n",
      "Epoch 320/500\n",
      "90/90 [==============================] - 0s 3ms/step - loss: 0.3221 - accuracy: 0.8495 - val_loss: 0.6183 - val_accuracy: 0.7350\n",
      "Epoch 321/500\n",
      "90/90 [==============================] - 0s 3ms/step - loss: 0.3226 - accuracy: 0.8443 - val_loss: 0.6003 - val_accuracy: 0.7425\n",
      "Epoch 322/500\n",
      "90/90 [==============================] - 0s 3ms/step - loss: 0.3179 - accuracy: 0.8586 - val_loss: 0.5991 - val_accuracy: 0.7475\n",
      "Epoch 323/500\n",
      "90/90 [==============================] - 0s 3ms/step - loss: 0.3231 - accuracy: 0.8460 - val_loss: 0.6606 - val_accuracy: 0.7125\n",
      "Epoch 324/500\n",
      "90/90 [==============================] - 0s 2ms/step - loss: 0.3225 - accuracy: 0.8568 - val_loss: 0.6058 - val_accuracy: 0.7342\n",
      "Epoch 325/500\n",
      "90/90 [==============================] - 0s 2ms/step - loss: 0.3231 - accuracy: 0.8561 - val_loss: 0.6382 - val_accuracy: 0.7258\n",
      "Epoch 326/500\n",
      "90/90 [==============================] - 0s 3ms/step - loss: 0.3225 - accuracy: 0.8509 - val_loss: 0.6039 - val_accuracy: 0.7375\n",
      "Epoch 327/500\n",
      "90/90 [==============================] - 0s 3ms/step - loss: 0.3249 - accuracy: 0.8506 - val_loss: 0.6422 - val_accuracy: 0.7258\n",
      "Epoch 328/500\n",
      "90/90 [==============================] - 0s 3ms/step - loss: 0.3275 - accuracy: 0.8457 - val_loss: 0.6273 - val_accuracy: 0.7292\n",
      "Epoch 329/500\n",
      "90/90 [==============================] - 0s 3ms/step - loss: 0.3242 - accuracy: 0.8544 - val_loss: 0.6088 - val_accuracy: 0.7325\n",
      "Epoch 330/500\n",
      "90/90 [==============================] - 0s 3ms/step - loss: 0.3212 - accuracy: 0.8520 - val_loss: 0.5916 - val_accuracy: 0.7442\n",
      "Epoch 331/500\n",
      "90/90 [==============================] - 0s 3ms/step - loss: 0.3295 - accuracy: 0.8474 - val_loss: 0.6531 - val_accuracy: 0.7183\n",
      "Epoch 332/500\n",
      "90/90 [==============================] - 0s 3ms/step - loss: 0.3223 - accuracy: 0.8502 - val_loss: 0.6129 - val_accuracy: 0.7300\n",
      "Epoch 333/500\n",
      "90/90 [==============================] - 0s 3ms/step - loss: 0.3226 - accuracy: 0.8495 - val_loss: 0.6367 - val_accuracy: 0.7267\n",
      "Epoch 334/500\n",
      "90/90 [==============================] - 0s 3ms/step - loss: 0.3298 - accuracy: 0.8547 - val_loss: 0.6106 - val_accuracy: 0.7392\n",
      "Epoch 335/500\n",
      "90/90 [==============================] - 0s 3ms/step - loss: 0.3217 - accuracy: 0.8513 - val_loss: 0.6259 - val_accuracy: 0.7317\n",
      "Epoch 336/500\n",
      "90/90 [==============================] - 0s 3ms/step - loss: 0.3262 - accuracy: 0.8499 - val_loss: 0.6121 - val_accuracy: 0.7367\n",
      "Epoch 337/500\n",
      "90/90 [==============================] - 0s 3ms/step - loss: 0.3105 - accuracy: 0.8520 - val_loss: 0.5897 - val_accuracy: 0.7442\n",
      "Epoch 338/500\n",
      "90/90 [==============================] - 0s 2ms/step - loss: 0.3194 - accuracy: 0.8492 - val_loss: 0.6118 - val_accuracy: 0.7308\n",
      "Epoch 339/500\n",
      "90/90 [==============================] - 0s 3ms/step - loss: 0.3119 - accuracy: 0.8579 - val_loss: 0.5928 - val_accuracy: 0.7433\n",
      "Epoch 340/500\n",
      "90/90 [==============================] - 0s 4ms/step - loss: 0.3235 - accuracy: 0.8513 - val_loss: 0.6198 - val_accuracy: 0.7292\n",
      "Epoch 341/500\n",
      "90/90 [==============================] - 0s 4ms/step - loss: 0.3235 - accuracy: 0.8436 - val_loss: 0.6267 - val_accuracy: 0.7242\n",
      "Epoch 342/500\n",
      "90/90 [==============================] - 0s 3ms/step - loss: 0.3300 - accuracy: 0.8495 - val_loss: 0.6342 - val_accuracy: 0.7233\n",
      "Epoch 343/500\n",
      "90/90 [==============================] - 0s 3ms/step - loss: 0.3229 - accuracy: 0.8492 - val_loss: 0.6159 - val_accuracy: 0.7400\n",
      "Epoch 344/500\n"
     ]
    },
    {
     "name": "stdout",
     "output_type": "stream",
     "text": [
      "90/90 [==============================] - 0s 3ms/step - loss: 0.3157 - accuracy: 0.8603 - val_loss: 0.6237 - val_accuracy: 0.7392\n",
      "Epoch 345/500\n",
      "90/90 [==============================] - 0s 3ms/step - loss: 0.3184 - accuracy: 0.8513 - val_loss: 0.6083 - val_accuracy: 0.7392\n",
      "Epoch 346/500\n",
      "90/90 [==============================] - 0s 3ms/step - loss: 0.3145 - accuracy: 0.8617 - val_loss: 0.6233 - val_accuracy: 0.7392\n",
      "Epoch 347/500\n",
      "90/90 [==============================] - 0s 3ms/step - loss: 0.3116 - accuracy: 0.8579 - val_loss: 0.5995 - val_accuracy: 0.7392\n",
      "Epoch 348/500\n",
      "90/90 [==============================] - 0s 2ms/step - loss: 0.3181 - accuracy: 0.8593 - val_loss: 0.6261 - val_accuracy: 0.7292\n",
      "Epoch 349/500\n",
      "90/90 [==============================] - 0s 2ms/step - loss: 0.3190 - accuracy: 0.8554 - val_loss: 0.5974 - val_accuracy: 0.7467\n",
      "Epoch 350/500\n",
      "90/90 [==============================] - 0s 3ms/step - loss: 0.3255 - accuracy: 0.8492 - val_loss: 0.5613 - val_accuracy: 0.7600\n",
      "Epoch 351/500\n",
      "90/90 [==============================] - 0s 3ms/step - loss: 0.3184 - accuracy: 0.8541 - val_loss: 0.6313 - val_accuracy: 0.7317\n",
      "Epoch 352/500\n",
      "90/90 [==============================] - 0s 2ms/step - loss: 0.3252 - accuracy: 0.8547 - val_loss: 0.5940 - val_accuracy: 0.7533\n",
      "Epoch 353/500\n",
      "90/90 [==============================] - 0s 3ms/step - loss: 0.3183 - accuracy: 0.8565 - val_loss: 0.6148 - val_accuracy: 0.7433\n",
      "Epoch 354/500\n",
      "90/90 [==============================] - 0s 2ms/step - loss: 0.3012 - accuracy: 0.8631 - val_loss: 0.5997 - val_accuracy: 0.7467\n",
      "Epoch 355/500\n",
      "90/90 [==============================] - 0s 2ms/step - loss: 0.3212 - accuracy: 0.8443 - val_loss: 0.6254 - val_accuracy: 0.7342\n",
      "Epoch 356/500\n",
      "90/90 [==============================] - 0s 3ms/step - loss: 0.3074 - accuracy: 0.8624 - val_loss: 0.6060 - val_accuracy: 0.7433\n",
      "Epoch 357/500\n",
      "90/90 [==============================] - 0s 2ms/step - loss: 0.3110 - accuracy: 0.8544 - val_loss: 0.6295 - val_accuracy: 0.7367\n",
      "Epoch 358/500\n",
      "90/90 [==============================] - 0s 2ms/step - loss: 0.3050 - accuracy: 0.8694 - val_loss: 0.6107 - val_accuracy: 0.7467\n",
      "Epoch 359/500\n",
      "90/90 [==============================] - 0s 3ms/step - loss: 0.3051 - accuracy: 0.8589 - val_loss: 0.6431 - val_accuracy: 0.7292\n",
      "Epoch 360/500\n",
      "90/90 [==============================] - 0s 2ms/step - loss: 0.3170 - accuracy: 0.8495 - val_loss: 0.6443 - val_accuracy: 0.7225\n",
      "Epoch 361/500\n",
      "90/90 [==============================] - 0s 2ms/step - loss: 0.3192 - accuracy: 0.8541 - val_loss: 0.6066 - val_accuracy: 0.7408\n",
      "Epoch 362/500\n",
      "90/90 [==============================] - 0s 2ms/step - loss: 0.3073 - accuracy: 0.8586 - val_loss: 0.6287 - val_accuracy: 0.7300\n",
      "Epoch 363/500\n",
      "90/90 [==============================] - 0s 2ms/step - loss: 0.3220 - accuracy: 0.8513 - val_loss: 0.5983 - val_accuracy: 0.7450\n",
      "Epoch 364/500\n",
      "90/90 [==============================] - 0s 3ms/step - loss: 0.3080 - accuracy: 0.8635 - val_loss: 0.6006 - val_accuracy: 0.7517\n",
      "Epoch 365/500\n",
      "90/90 [==============================] - 0s 2ms/step - loss: 0.3069 - accuracy: 0.8596 - val_loss: 0.6603 - val_accuracy: 0.7225\n",
      "Epoch 366/500\n",
      "90/90 [==============================] - 0s 2ms/step - loss: 0.3197 - accuracy: 0.8589 - val_loss: 0.6371 - val_accuracy: 0.7217\n",
      "Epoch 367/500\n",
      "90/90 [==============================] - 0s 2ms/step - loss: 0.3032 - accuracy: 0.8596 - val_loss: 0.6011 - val_accuracy: 0.7508\n",
      "Epoch 368/500\n",
      "90/90 [==============================] - 0s 3ms/step - loss: 0.3153 - accuracy: 0.8568 - val_loss: 0.6183 - val_accuracy: 0.7392\n",
      "Epoch 369/500\n",
      "90/90 [==============================] - 0s 2ms/step - loss: 0.3227 - accuracy: 0.8572 - val_loss: 0.6194 - val_accuracy: 0.7442\n",
      "Epoch 370/500\n",
      "90/90 [==============================] - 0s 3ms/step - loss: 0.3117 - accuracy: 0.8520 - val_loss: 0.5835 - val_accuracy: 0.7533\n",
      "Epoch 371/500\n",
      "90/90 [==============================] - 0s 3ms/step - loss: 0.3062 - accuracy: 0.8607 - val_loss: 0.6250 - val_accuracy: 0.7450\n",
      "Epoch 372/500\n",
      "90/90 [==============================] - 0s 3ms/step - loss: 0.3188 - accuracy: 0.8544 - val_loss: 0.6346 - val_accuracy: 0.7300\n",
      "Epoch 373/500\n",
      "90/90 [==============================] - 0s 2ms/step - loss: 0.3293 - accuracy: 0.8443 - val_loss: 0.6019 - val_accuracy: 0.7442\n",
      "Epoch 374/500\n",
      "90/90 [==============================] - 0s 2ms/step - loss: 0.3249 - accuracy: 0.8474 - val_loss: 0.6158 - val_accuracy: 0.7367\n",
      "Epoch 375/500\n",
      "90/90 [==============================] - 0s 3ms/step - loss: 0.3076 - accuracy: 0.8586 - val_loss: 0.6302 - val_accuracy: 0.7433\n",
      "Epoch 376/500\n",
      "90/90 [==============================] - 0s 3ms/step - loss: 0.3130 - accuracy: 0.8547 - val_loss: 0.6563 - val_accuracy: 0.7225\n",
      "Epoch 377/500\n",
      "90/90 [==============================] - 0s 3ms/step - loss: 0.3078 - accuracy: 0.8547 - val_loss: 0.6271 - val_accuracy: 0.7392\n",
      "Epoch 378/500\n",
      "90/90 [==============================] - 0s 3ms/step - loss: 0.3070 - accuracy: 0.8509 - val_loss: 0.6482 - val_accuracy: 0.7333\n",
      "Epoch 379/500\n",
      "90/90 [==============================] - 0s 3ms/step - loss: 0.3147 - accuracy: 0.8523 - val_loss: 0.6322 - val_accuracy: 0.7408\n",
      "Epoch 380/500\n",
      "90/90 [==============================] - 0s 3ms/step - loss: 0.3123 - accuracy: 0.8593 - val_loss: 0.6454 - val_accuracy: 0.7358\n",
      "Epoch 381/500\n",
      "90/90 [==============================] - 0s 3ms/step - loss: 0.3195 - accuracy: 0.8537 - val_loss: 0.6271 - val_accuracy: 0.7417\n",
      "Epoch 382/500\n",
      "90/90 [==============================] - 0s 3ms/step - loss: 0.3067 - accuracy: 0.8589 - val_loss: 0.6389 - val_accuracy: 0.7317\n",
      "Epoch 383/500\n",
      "90/90 [==============================] - 0s 2ms/step - loss: 0.3163 - accuracy: 0.8537 - val_loss: 0.5996 - val_accuracy: 0.7508\n",
      "Epoch 384/500\n",
      "90/90 [==============================] - 0s 3ms/step - loss: 0.3190 - accuracy: 0.8541 - val_loss: 0.6307 - val_accuracy: 0.7333\n",
      "Epoch 385/500\n",
      "90/90 [==============================] - 0s 3ms/step - loss: 0.3212 - accuracy: 0.8471 - val_loss: 0.6291 - val_accuracy: 0.7383\n",
      "Epoch 386/500\n",
      "90/90 [==============================] - 0s 3ms/step - loss: 0.3064 - accuracy: 0.8579 - val_loss: 0.6387 - val_accuracy: 0.7308\n",
      "Epoch 387/500\n",
      "90/90 [==============================] - 0s 3ms/step - loss: 0.3130 - accuracy: 0.8565 - val_loss: 0.6650 - val_accuracy: 0.7100\n",
      "Epoch 388/500\n",
      "90/90 [==============================] - 0s 3ms/step - loss: 0.3149 - accuracy: 0.8513 - val_loss: 0.6582 - val_accuracy: 0.7142\n",
      "Epoch 389/500\n",
      "90/90 [==============================] - 0s 3ms/step - loss: 0.3091 - accuracy: 0.8579 - val_loss: 0.6390 - val_accuracy: 0.7258\n",
      "Epoch 390/500\n",
      "90/90 [==============================] - 0s 3ms/step - loss: 0.3044 - accuracy: 0.8656 - val_loss: 0.6704 - val_accuracy: 0.7108\n",
      "Epoch 391/500\n",
      "90/90 [==============================] - 0s 3ms/step - loss: 0.3172 - accuracy: 0.8582 - val_loss: 0.6321 - val_accuracy: 0.7250\n",
      "Epoch 392/500\n",
      "90/90 [==============================] - 0s 3ms/step - loss: 0.3225 - accuracy: 0.8530 - val_loss: 0.6292 - val_accuracy: 0.7358\n",
      "Epoch 393/500\n",
      "90/90 [==============================] - 0s 3ms/step - loss: 0.3146 - accuracy: 0.8575 - val_loss: 0.6196 - val_accuracy: 0.7458\n",
      "Epoch 394/500\n",
      "90/90 [==============================] - 0s 3ms/step - loss: 0.3031 - accuracy: 0.8586 - val_loss: 0.6625 - val_accuracy: 0.7192\n",
      "Epoch 395/500\n",
      "90/90 [==============================] - 0s 3ms/step - loss: 0.3028 - accuracy: 0.8572 - val_loss: 0.6313 - val_accuracy: 0.7350\n",
      "Epoch 396/500\n",
      "90/90 [==============================] - 0s 3ms/step - loss: 0.3137 - accuracy: 0.8565 - val_loss: 0.6443 - val_accuracy: 0.7375\n",
      "Epoch 397/500\n",
      "90/90 [==============================] - 0s 3ms/step - loss: 0.3148 - accuracy: 0.8596 - val_loss: 0.6326 - val_accuracy: 0.7317\n",
      "Epoch 398/500\n",
      "90/90 [==============================] - 0s 3ms/step - loss: 0.2913 - accuracy: 0.8624 - val_loss: 0.6367 - val_accuracy: 0.7367\n",
      "Epoch 399/500\n",
      "90/90 [==============================] - 0s 2ms/step - loss: 0.2955 - accuracy: 0.8652 - val_loss: 0.6514 - val_accuracy: 0.7325\n",
      "Epoch 400/500\n",
      "90/90 [==============================] - 0s 3ms/step - loss: 0.3156 - accuracy: 0.8506 - val_loss: 0.6272 - val_accuracy: 0.7392\n",
      "Epoch 401/500\n"
     ]
    },
    {
     "name": "stdout",
     "output_type": "stream",
     "text": [
      "90/90 [==============================] - 0s 3ms/step - loss: 0.3053 - accuracy: 0.8621 - val_loss: 0.6333 - val_accuracy: 0.7333\n",
      "Epoch 402/500\n",
      "90/90 [==============================] - 0s 3ms/step - loss: 0.3208 - accuracy: 0.8537 - val_loss: 0.6283 - val_accuracy: 0.7258\n",
      "Epoch 403/500\n",
      "90/90 [==============================] - 0s 3ms/step - loss: 0.3083 - accuracy: 0.8614 - val_loss: 0.6241 - val_accuracy: 0.7350\n",
      "Epoch 404/500\n",
      "90/90 [==============================] - 0s 3ms/step - loss: 0.3038 - accuracy: 0.8586 - val_loss: 0.6295 - val_accuracy: 0.7392\n",
      "Epoch 405/500\n",
      "90/90 [==============================] - 0s 3ms/step - loss: 0.3184 - accuracy: 0.8499 - val_loss: 0.6425 - val_accuracy: 0.7292\n",
      "Epoch 406/500\n",
      "90/90 [==============================] - 0s 3ms/step - loss: 0.3077 - accuracy: 0.8663 - val_loss: 0.6615 - val_accuracy: 0.7183\n",
      "Epoch 407/500\n",
      "90/90 [==============================] - 0s 3ms/step - loss: 0.3134 - accuracy: 0.8561 - val_loss: 0.6315 - val_accuracy: 0.7342\n",
      "Epoch 408/500\n",
      "90/90 [==============================] - 0s 3ms/step - loss: 0.3169 - accuracy: 0.8596 - val_loss: 0.6321 - val_accuracy: 0.7333\n",
      "Epoch 409/500\n",
      "90/90 [==============================] - 0s 2ms/step - loss: 0.3036 - accuracy: 0.8656 - val_loss: 0.6411 - val_accuracy: 0.7367\n",
      "Epoch 410/500\n",
      "90/90 [==============================] - 0s 2ms/step - loss: 0.3171 - accuracy: 0.8537 - val_loss: 0.6398 - val_accuracy: 0.7367\n",
      "Epoch 411/500\n",
      "90/90 [==============================] - 0s 2ms/step - loss: 0.3189 - accuracy: 0.8471 - val_loss: 0.6160 - val_accuracy: 0.7475\n",
      "Epoch 412/500\n",
      "90/90 [==============================] - 0s 2ms/step - loss: 0.3059 - accuracy: 0.8617 - val_loss: 0.6088 - val_accuracy: 0.7558\n",
      "Epoch 413/500\n",
      "90/90 [==============================] - 0s 2ms/step - loss: 0.3059 - accuracy: 0.8652 - val_loss: 0.6228 - val_accuracy: 0.7375\n",
      "Epoch 414/500\n",
      "90/90 [==============================] - 0s 3ms/step - loss: 0.3195 - accuracy: 0.8589 - val_loss: 0.6771 - val_accuracy: 0.7192\n",
      "Epoch 415/500\n",
      "90/90 [==============================] - 0s 3ms/step - loss: 0.3089 - accuracy: 0.8582 - val_loss: 0.6519 - val_accuracy: 0.7308\n",
      "Epoch 416/500\n",
      "90/90 [==============================] - 0s 3ms/step - loss: 0.3207 - accuracy: 0.8558 - val_loss: 0.6387 - val_accuracy: 0.7425\n",
      "Epoch 417/500\n",
      "90/90 [==============================] - 0s 2ms/step - loss: 0.2932 - accuracy: 0.8656 - val_loss: 0.6289 - val_accuracy: 0.7383\n",
      "Epoch 418/500\n",
      "90/90 [==============================] - 0s 3ms/step - loss: 0.3136 - accuracy: 0.8582 - val_loss: 0.6498 - val_accuracy: 0.7317\n",
      "Epoch 419/500\n",
      "90/90 [==============================] - 0s 3ms/step - loss: 0.2994 - accuracy: 0.8589 - val_loss: 0.6530 - val_accuracy: 0.7383\n",
      "Epoch 420/500\n",
      "90/90 [==============================] - 0s 3ms/step - loss: 0.3091 - accuracy: 0.8610 - val_loss: 0.6768 - val_accuracy: 0.7217\n",
      "Epoch 421/500\n",
      "90/90 [==============================] - 0s 3ms/step - loss: 0.3101 - accuracy: 0.8520 - val_loss: 0.6579 - val_accuracy: 0.7400\n",
      "Epoch 422/500\n",
      "90/90 [==============================] - 0s 3ms/step - loss: 0.3040 - accuracy: 0.8631 - val_loss: 0.6224 - val_accuracy: 0.7483\n",
      "Epoch 423/500\n",
      "90/90 [==============================] - 0s 3ms/step - loss: 0.3066 - accuracy: 0.8568 - val_loss: 0.6686 - val_accuracy: 0.7317\n",
      "Epoch 424/500\n",
      "90/90 [==============================] - 0s 3ms/step - loss: 0.3173 - accuracy: 0.8530 - val_loss: 0.6548 - val_accuracy: 0.7367\n",
      "Epoch 425/500\n",
      "90/90 [==============================] - 0s 3ms/step - loss: 0.3178 - accuracy: 0.8488 - val_loss: 0.6527 - val_accuracy: 0.7342\n",
      "Epoch 426/500\n",
      "90/90 [==============================] - 0s 2ms/step - loss: 0.3200 - accuracy: 0.8558 - val_loss: 0.6059 - val_accuracy: 0.7533\n",
      "Epoch 427/500\n",
      "90/90 [==============================] - 0s 2ms/step - loss: 0.3094 - accuracy: 0.8544 - val_loss: 0.6107 - val_accuracy: 0.7483\n",
      "Epoch 428/500\n",
      "90/90 [==============================] - 0s 2ms/step - loss: 0.3048 - accuracy: 0.8589 - val_loss: 0.6335 - val_accuracy: 0.7325\n",
      "Epoch 429/500\n",
      "90/90 [==============================] - 0s 3ms/step - loss: 0.3144 - accuracy: 0.8537 - val_loss: 0.6428 - val_accuracy: 0.7433\n",
      "Epoch 430/500\n",
      "90/90 [==============================] - 0s 3ms/step - loss: 0.3105 - accuracy: 0.8544 - val_loss: 0.6395 - val_accuracy: 0.7300\n",
      "Epoch 431/500\n",
      "90/90 [==============================] - 0s 3ms/step - loss: 0.3032 - accuracy: 0.8666 - val_loss: 0.6638 - val_accuracy: 0.7233\n",
      "Epoch 432/500\n",
      "90/90 [==============================] - 0s 2ms/step - loss: 0.3041 - accuracy: 0.8659 - val_loss: 0.6540 - val_accuracy: 0.7358\n",
      "Epoch 433/500\n",
      "90/90 [==============================] - 0s 3ms/step - loss: 0.3125 - accuracy: 0.8624 - val_loss: 0.6044 - val_accuracy: 0.7492\n",
      "Epoch 434/500\n",
      "90/90 [==============================] - 0s 3ms/step - loss: 0.3066 - accuracy: 0.8656 - val_loss: 0.6320 - val_accuracy: 0.7367\n",
      "Epoch 435/500\n",
      "90/90 [==============================] - 0s 3ms/step - loss: 0.3057 - accuracy: 0.8561 - val_loss: 0.6740 - val_accuracy: 0.7225\n",
      "Epoch 436/500\n",
      "90/90 [==============================] - 0s 3ms/step - loss: 0.3022 - accuracy: 0.8624 - val_loss: 0.6551 - val_accuracy: 0.7242\n",
      "Epoch 437/500\n",
      "90/90 [==============================] - 0s 3ms/step - loss: 0.3086 - accuracy: 0.8551 - val_loss: 0.6286 - val_accuracy: 0.7392\n",
      "Epoch 438/500\n",
      "90/90 [==============================] - 0s 3ms/step - loss: 0.2925 - accuracy: 0.8649 - val_loss: 0.6666 - val_accuracy: 0.7250\n",
      "Epoch 439/500\n",
      "90/90 [==============================] - 0s 3ms/step - loss: 0.3030 - accuracy: 0.8638 - val_loss: 0.6130 - val_accuracy: 0.7442\n",
      "Epoch 440/500\n",
      "90/90 [==============================] - 0s 3ms/step - loss: 0.3152 - accuracy: 0.8481 - val_loss: 0.6129 - val_accuracy: 0.7500\n",
      "Epoch 441/500\n",
      "90/90 [==============================] - 0s 3ms/step - loss: 0.2948 - accuracy: 0.8781 - val_loss: 0.6452 - val_accuracy: 0.7367\n",
      "Epoch 442/500\n",
      "90/90 [==============================] - 0s 3ms/step - loss: 0.2945 - accuracy: 0.8715 - val_loss: 0.6330 - val_accuracy: 0.7467\n",
      "Epoch 443/500\n",
      "90/90 [==============================] - 0s 3ms/step - loss: 0.3092 - accuracy: 0.8547 - val_loss: 0.6496 - val_accuracy: 0.7317\n",
      "Epoch 444/500\n",
      "90/90 [==============================] - 0s 3ms/step - loss: 0.3008 - accuracy: 0.8603 - val_loss: 0.6129 - val_accuracy: 0.7633\n",
      "Epoch 445/500\n",
      "90/90 [==============================] - 0s 2ms/step - loss: 0.3052 - accuracy: 0.8638 - val_loss: 0.6424 - val_accuracy: 0.7408\n",
      "Epoch 446/500\n",
      "90/90 [==============================] - 0s 2ms/step - loss: 0.3103 - accuracy: 0.8579 - val_loss: 0.6591 - val_accuracy: 0.7317\n",
      "Epoch 447/500\n",
      "90/90 [==============================] - 0s 3ms/step - loss: 0.3059 - accuracy: 0.8596 - val_loss: 0.6623 - val_accuracy: 0.7308\n",
      "Epoch 448/500\n",
      "90/90 [==============================] - 0s 3ms/step - loss: 0.3048 - accuracy: 0.8684 - val_loss: 0.6686 - val_accuracy: 0.7275\n",
      "Epoch 449/500\n",
      "90/90 [==============================] - 0s 3ms/step - loss: 0.2950 - accuracy: 0.8659 - val_loss: 0.6183 - val_accuracy: 0.7492\n",
      "Epoch 450/500\n",
      "90/90 [==============================] - 0s 2ms/step - loss: 0.2998 - accuracy: 0.8656 - val_loss: 0.6362 - val_accuracy: 0.7442\n",
      "Epoch 451/500\n",
      "90/90 [==============================] - 0s 3ms/step - loss: 0.3065 - accuracy: 0.8649 - val_loss: 0.6663 - val_accuracy: 0.7233\n",
      "Epoch 452/500\n",
      "90/90 [==============================] - 0s 2ms/step - loss: 0.2955 - accuracy: 0.8649 - val_loss: 0.6715 - val_accuracy: 0.7242\n",
      "Epoch 453/500\n",
      "90/90 [==============================] - 0s 2ms/step - loss: 0.2961 - accuracy: 0.8649 - val_loss: 0.6676 - val_accuracy: 0.7275\n",
      "Epoch 454/500\n",
      "90/90 [==============================] - 0s 2ms/step - loss: 0.3101 - accuracy: 0.8568 - val_loss: 0.6493 - val_accuracy: 0.7417\n",
      "Epoch 455/500\n",
      "90/90 [==============================] - 0s 4ms/step - loss: 0.3023 - accuracy: 0.8659 - val_loss: 0.6470 - val_accuracy: 0.7325\n",
      "Epoch 456/500\n",
      "90/90 [==============================] - 0s 3ms/step - loss: 0.2928 - accuracy: 0.8659 - val_loss: 0.6705 - val_accuracy: 0.7283\n",
      "Epoch 457/500\n",
      "90/90 [==============================] - 0s 3ms/step - loss: 0.3068 - accuracy: 0.8621 - val_loss: 0.6463 - val_accuracy: 0.7358\n",
      "Epoch 458/500\n"
     ]
    },
    {
     "name": "stdout",
     "output_type": "stream",
     "text": [
      "90/90 [==============================] - 0s 3ms/step - loss: 0.3106 - accuracy: 0.8582 - val_loss: 0.6294 - val_accuracy: 0.7400\n",
      "Epoch 459/500\n",
      "90/90 [==============================] - 0s 3ms/step - loss: 0.3156 - accuracy: 0.8666 - val_loss: 0.6500 - val_accuracy: 0.7275\n",
      "Epoch 460/500\n",
      "90/90 [==============================] - 0s 3ms/step - loss: 0.3125 - accuracy: 0.8596 - val_loss: 0.6271 - val_accuracy: 0.7392\n",
      "Epoch 461/500\n",
      "90/90 [==============================] - 0s 4ms/step - loss: 0.3108 - accuracy: 0.8575 - val_loss: 0.6743 - val_accuracy: 0.7292\n",
      "Epoch 462/500\n",
      "90/90 [==============================] - 0s 3ms/step - loss: 0.2935 - accuracy: 0.8579 - val_loss: 0.6927 - val_accuracy: 0.7183\n",
      "Epoch 463/500\n",
      "90/90 [==============================] - 0s 3ms/step - loss: 0.3088 - accuracy: 0.8572 - val_loss: 0.6862 - val_accuracy: 0.7250\n",
      "Epoch 464/500\n",
      "90/90 [==============================] - 0s 3ms/step - loss: 0.2998 - accuracy: 0.8628 - val_loss: 0.6591 - val_accuracy: 0.7333\n",
      "Epoch 465/500\n",
      "90/90 [==============================] - 0s 3ms/step - loss: 0.3095 - accuracy: 0.8579 - val_loss: 0.6356 - val_accuracy: 0.7383\n",
      "Epoch 466/500\n",
      "90/90 [==============================] - 0s 3ms/step - loss: 0.2894 - accuracy: 0.8712 - val_loss: 0.6667 - val_accuracy: 0.7258\n",
      "Epoch 467/500\n",
      "90/90 [==============================] - 0s 3ms/step - loss: 0.3108 - accuracy: 0.8568 - val_loss: 0.6279 - val_accuracy: 0.7433\n",
      "Epoch 468/500\n",
      "90/90 [==============================] - 0s 2ms/step - loss: 0.2952 - accuracy: 0.8649 - val_loss: 0.6713 - val_accuracy: 0.7275\n",
      "Epoch 469/500\n",
      "90/90 [==============================] - 0s 2ms/step - loss: 0.3001 - accuracy: 0.8617 - val_loss: 0.6456 - val_accuracy: 0.7308\n",
      "Epoch 470/500\n",
      "90/90 [==============================] - 0s 2ms/step - loss: 0.2941 - accuracy: 0.8670 - val_loss: 0.6468 - val_accuracy: 0.7442\n",
      "Epoch 471/500\n",
      "90/90 [==============================] - 0s 3ms/step - loss: 0.3000 - accuracy: 0.8624 - val_loss: 0.6406 - val_accuracy: 0.7475\n",
      "Epoch 472/500\n",
      "90/90 [==============================] - 0s 2ms/step - loss: 0.3034 - accuracy: 0.8596 - val_loss: 0.6375 - val_accuracy: 0.7483\n",
      "Epoch 473/500\n",
      "90/90 [==============================] - 0s 2ms/step - loss: 0.3018 - accuracy: 0.8652 - val_loss: 0.6468 - val_accuracy: 0.7333\n",
      "Epoch 474/500\n",
      "90/90 [==============================] - 0s 2ms/step - loss: 0.3085 - accuracy: 0.8593 - val_loss: 0.6660 - val_accuracy: 0.7192\n",
      "Epoch 475/500\n",
      "90/90 [==============================] - 0s 2ms/step - loss: 0.3056 - accuracy: 0.8663 - val_loss: 0.6499 - val_accuracy: 0.7275\n",
      "Epoch 476/500\n",
      "90/90 [==============================] - 0s 2ms/step - loss: 0.2928 - accuracy: 0.8631 - val_loss: 0.6634 - val_accuracy: 0.7283\n",
      "Epoch 477/500\n",
      "90/90 [==============================] - 0s 2ms/step - loss: 0.2970 - accuracy: 0.8652 - val_loss: 0.6793 - val_accuracy: 0.7200\n",
      "Epoch 478/500\n",
      "90/90 [==============================] - 0s 2ms/step - loss: 0.2878 - accuracy: 0.8656 - val_loss: 0.6578 - val_accuracy: 0.7283\n",
      "Epoch 479/500\n",
      "90/90 [==============================] - 0s 2ms/step - loss: 0.3040 - accuracy: 0.8666 - val_loss: 0.6736 - val_accuracy: 0.7258\n",
      "Epoch 480/500\n",
      "90/90 [==============================] - 0s 3ms/step - loss: 0.2994 - accuracy: 0.8691 - val_loss: 0.6649 - val_accuracy: 0.7358\n",
      "Epoch 481/500\n",
      "90/90 [==============================] - 0s 2ms/step - loss: 0.3023 - accuracy: 0.8572 - val_loss: 0.6601 - val_accuracy: 0.7375\n",
      "Epoch 482/500\n",
      "90/90 [==============================] - 0s 2ms/step - loss: 0.2990 - accuracy: 0.8596 - val_loss: 0.7172 - val_accuracy: 0.7158\n",
      "Epoch 483/500\n",
      "90/90 [==============================] - 0s 3ms/step - loss: 0.2866 - accuracy: 0.8760 - val_loss: 0.6848 - val_accuracy: 0.7325\n",
      "Epoch 484/500\n",
      "90/90 [==============================] - 0s 3ms/step - loss: 0.3113 - accuracy: 0.8593 - val_loss: 0.7068 - val_accuracy: 0.7142\n",
      "Epoch 485/500\n",
      "90/90 [==============================] - 0s 2ms/step - loss: 0.3143 - accuracy: 0.8547 - val_loss: 0.6715 - val_accuracy: 0.7225\n",
      "Epoch 486/500\n",
      "90/90 [==============================] - 0s 2ms/step - loss: 0.2947 - accuracy: 0.8635 - val_loss: 0.6987 - val_accuracy: 0.7192\n",
      "Epoch 487/500\n",
      "90/90 [==============================] - 0s 2ms/step - loss: 0.2975 - accuracy: 0.8666 - val_loss: 0.6732 - val_accuracy: 0.7325\n",
      "Epoch 488/500\n",
      "90/90 [==============================] - 0s 3ms/step - loss: 0.3052 - accuracy: 0.8621 - val_loss: 0.6709 - val_accuracy: 0.7333\n",
      "Epoch 489/500\n",
      "90/90 [==============================] - 0s 3ms/step - loss: 0.3067 - accuracy: 0.8561 - val_loss: 0.6453 - val_accuracy: 0.7417\n",
      "Epoch 490/500\n",
      "90/90 [==============================] - 0s 3ms/step - loss: 0.2916 - accuracy: 0.8617 - val_loss: 0.6623 - val_accuracy: 0.7333\n",
      "Epoch 491/500\n",
      "90/90 [==============================] - 0s 3ms/step - loss: 0.3025 - accuracy: 0.8666 - val_loss: 0.6666 - val_accuracy: 0.7317\n",
      "Epoch 492/500\n",
      "90/90 [==============================] - 0s 3ms/step - loss: 0.2985 - accuracy: 0.8694 - val_loss: 0.6844 - val_accuracy: 0.7242\n",
      "Epoch 493/500\n",
      "90/90 [==============================] - 0s 2ms/step - loss: 0.3045 - accuracy: 0.8617 - val_loss: 0.6560 - val_accuracy: 0.7283\n",
      "Epoch 494/500\n",
      "90/90 [==============================] - 0s 3ms/step - loss: 0.2982 - accuracy: 0.8607 - val_loss: 0.6799 - val_accuracy: 0.7375\n",
      "Epoch 495/500\n",
      "90/90 [==============================] - 0s 3ms/step - loss: 0.2938 - accuracy: 0.8642 - val_loss: 0.6766 - val_accuracy: 0.7392\n",
      "Epoch 496/500\n",
      "90/90 [==============================] - 0s 3ms/step - loss: 0.3054 - accuracy: 0.8586 - val_loss: 0.6567 - val_accuracy: 0.7408\n",
      "Epoch 497/500\n",
      "90/90 [==============================] - 0s 3ms/step - loss: 0.2940 - accuracy: 0.8617 - val_loss: 0.6653 - val_accuracy: 0.7342\n",
      "Epoch 498/500\n",
      "90/90 [==============================] - 0s 3ms/step - loss: 0.3080 - accuracy: 0.8575 - val_loss: 0.7006 - val_accuracy: 0.7158\n",
      "Epoch 499/500\n",
      "90/90 [==============================] - 0s 2ms/step - loss: 0.2976 - accuracy: 0.8624 - val_loss: 0.6839 - val_accuracy: 0.7325\n",
      "Epoch 500/500\n",
      "90/90 [==============================] - 0s 3ms/step - loss: 0.2904 - accuracy: 0.8729 - val_loss: 0.7000 - val_accuracy: 0.7300\n"
     ]
    }
   ],
   "source": [
    "history = model.fit(X_rus_clean, y_rus, epochs=500, batch_size=32, validation_data=(X_valid_clean, y_valid))"
   ]
  },
  {
   "cell_type": "code",
   "execution_count": 194,
   "id": "d75f781c",
   "metadata": {},
   "outputs": [
    {
     "name": "stdout",
     "output_type": "stream",
     "text": [
      "38/38 [==============================] - 0s 1ms/step\n",
      "Accuracy: 0.8091666666666667\n"
     ]
    }
   ],
   "source": [
    "deep_pred = np.argmax(model.predict(X_valid_clean), axis=-1)\n",
    "accuracy = accuracy_score(y_valid, deep_pred)\n",
    "print(\"Accuracy:\", accuracy)"
   ]
  },
  {
   "cell_type": "code",
   "execution_count": 195,
   "id": "50baace3",
   "metadata": {},
   "outputs": [
    {
     "name": "stdout",
     "output_type": "stream",
     "text": [
      "57/57 [==============================] - 0s 2ms/step\n",
      "Accuracy: 0.7911111111111111\n"
     ]
    }
   ],
   "source": [
    "deep_pred = np.argmax(model.predict(X_test_clean), axis=-1)\n",
    "accuracy = accuracy_score(y_test, deep_pred)\n",
    "print(\"Accuracy:\", accuracy)"
   ]
  },
  {
   "cell_type": "code",
   "execution_count": 196,
   "id": "185121d4",
   "metadata": {},
   "outputs": [
    {
     "name": "stdout",
     "output_type": "stream",
     "text": [
      "              precision    recall  f1-score   support\n",
      "\n",
      "           0       0.79      1.00      0.88      1424\n",
      "           1       0.00      0.00      0.00       376\n",
      "\n",
      "    accuracy                           0.79      1800\n",
      "   macro avg       0.40      0.50      0.44      1800\n",
      "weighted avg       0.63      0.79      0.70      1800\n",
      "\n"
     ]
    }
   ],
   "source": [
    "print(classification_report(y_test, deep_pred, labels=[0,1]))"
   ]
  },
  {
   "cell_type": "markdown",
   "id": "d8dc29ae",
   "metadata": {},
   "source": [
    "## Tuning Parameter Deep Learning"
   ]
  },
  {
   "cell_type": "code",
   "execution_count": 197,
   "id": "abf3d143",
   "metadata": {},
   "outputs": [],
   "source": [
    "def create_model(units=64, layers=2, dropout=0.2):\n",
    "    model = Sequential()\n",
    "    model.add(Dense(units, activation='relu', input_shape=(13,)))\n",
    "    model.add(Dropout(dropout))\n",
    "    for i in range(layers-1):\n",
    "        model.add(Dense(units, activation='relu'))\n",
    "        model.add(Dropout(dropout))\n",
    "    model.add(Dense(1, activation='sigmoid'))\n",
    "    model.compile(optimizer='adam', loss='binary_crossentropy', metrics=['accuracy'])\n",
    "    return model"
   ]
  },
  {
   "cell_type": "code",
   "execution_count": 198,
   "id": "201ed6f1",
   "metadata": {},
   "outputs": [],
   "source": [
    "model = KerasClassifier(build_fn=create_model)"
   ]
  },
  {
   "cell_type": "code",
   "execution_count": 199,
   "id": "5cd80a1f",
   "metadata": {},
   "outputs": [],
   "source": [
    "param_grid = {\n",
    "    'units': [32, 64, 128],\n",
    "    'layers': [2, 3, 4],\n",
    "    'dropout': [0.2, 0.3, 0.4]\n",
    "}"
   ]
  },
  {
   "cell_type": "code",
   "execution_count": 200,
   "id": "a284fc4f",
   "metadata": {},
   "outputs": [],
   "source": [
    "grid = GridSearchCV(estimator=model, param_grid=param_grid, cv=5)"
   ]
  },
  {
   "cell_type": "code",
   "execution_count": 201,
   "id": "460119f6",
   "metadata": {},
   "outputs": [
    {
     "name": "stdout",
     "output_type": "stream",
     "text": [
      "72/72 [==============================] - 1s 2ms/step - loss: 0.6438 - accuracy: 0.6229\n",
      "18/18 [==============================] - 0s 1ms/step - loss: 0.8439 - accuracy: 0.3595\n",
      "72/72 [==============================] - 1s 2ms/step - loss: 0.6677 - accuracy: 0.5858\n",
      "18/18 [==============================] - 0s 2ms/step - loss: 0.8204 - accuracy: 0.3421\n",
      "72/72 [==============================] - 1s 2ms/step - loss: 0.6767 - accuracy: 0.5727\n",
      "18/18 [==============================] - 0s 1ms/step - loss: 0.6464 - accuracy: 0.6492\n",
      "72/72 [==============================] - 1s 2ms/step - loss: 0.6430 - accuracy: 0.6347\n",
      "18/18 [==============================] - 0s 1ms/step - loss: 0.8660 - accuracy: 0.2600\n",
      "72/72 [==============================] - 1s 2ms/step - loss: 0.6382 - accuracy: 0.6531\n",
      "18/18 [==============================] - 0s 1ms/step - loss: 0.8052 - accuracy: 0.4213\n",
      "72/72 [==============================] - 1s 2ms/step - loss: 0.6228 - accuracy: 0.6504\n",
      "18/18 [==============================] - 0s 1ms/step - loss: 0.9093 - accuracy: 0.3752\n",
      "72/72 [==============================] - 1s 2ms/step - loss: 0.6333 - accuracy: 0.6377\n",
      "18/18 [==============================] - 0s 1ms/step - loss: 0.8104 - accuracy: 0.4695\n",
      "72/72 [==============================] - 1s 2ms/step - loss: 0.6489 - accuracy: 0.6246\n",
      "18/18 [==============================] - 0s 1ms/step - loss: 0.6097 - accuracy: 0.6998\n",
      "72/72 [==============================] - 1s 2ms/step - loss: 0.6158 - accuracy: 0.6578\n",
      "18/18 [==============================] - 0s 1ms/step - loss: 0.8465 - accuracy: 0.4311\n",
      "72/72 [==============================] - 1s 2ms/step - loss: 0.6212 - accuracy: 0.6427\n",
      "18/18 [==============================] - 0s 2ms/step - loss: 0.8384 - accuracy: 0.4108\n",
      "72/72 [==============================] - 1s 2ms/step - loss: 0.6013 - accuracy: 0.6757\n",
      "18/18 [==============================] - 0s 2ms/step - loss: 0.8184 - accuracy: 0.5375\n",
      "72/72 [==============================] - 1s 2ms/step - loss: 0.5951 - accuracy: 0.6774\n",
      "18/18 [==============================] - 0s 1ms/step - loss: 0.6141 - accuracy: 0.7086\n",
      "72/72 [==============================] - 1s 2ms/step - loss: 0.6128 - accuracy: 0.6801\n",
      "18/18 [==============================] - 0s 2ms/step - loss: 0.5862 - accuracy: 0.7068\n",
      "72/72 [==============================] - 1s 2ms/step - loss: 0.5904 - accuracy: 0.6840\n",
      "18/18 [==============================] - 0s 1ms/step - loss: 0.7549 - accuracy: 0.5445\n",
      "72/72 [==============================] - 1s 2ms/step - loss: 0.6059 - accuracy: 0.6693\n",
      "18/18 [==============================] - 0s 2ms/step - loss: 0.7966 - accuracy: 0.5280\n",
      "72/72 [==============================] - 1s 2ms/step - loss: 0.6510 - accuracy: 0.6189\n",
      "18/18 [==============================] - 0s 2ms/step - loss: 0.8742 - accuracy: 0.3246\n",
      "72/72 [==============================] - 1s 2ms/step - loss: 0.6595 - accuracy: 0.6124\n",
      "18/18 [==============================] - 0s 1ms/step - loss: 0.8606 - accuracy: 0.2548\n",
      "72/72 [==============================] - 1s 2ms/step - loss: 0.6680 - accuracy: 0.5840\n",
      "18/18 [==============================] - 0s 1ms/step - loss: 0.6389 - accuracy: 0.6702\n",
      "72/72 [==============================] - 1s 2ms/step - loss: 0.6412 - accuracy: 0.6290\n",
      "18/18 [==============================] - 0s 1ms/step - loss: 1.0490 - accuracy: 0.0105\n",
      "72/72 [==============================] - 1s 2ms/step - loss: 0.6547 - accuracy: 0.6257\n",
      "18/18 [==============================] - 0s 1ms/step - loss: 0.8431 - accuracy: 0.1783\n",
      "72/72 [==============================] - 1s 2ms/step - loss: 0.6306 - accuracy: 0.6347\n",
      "18/18 [==============================] - 0s 1ms/step - loss: 0.7686 - accuracy: 0.5637\n",
      "72/72 [==============================] - 1s 2ms/step - loss: 0.6191 - accuracy: 0.6539\n",
      "18/18 [==============================] - 0s 2ms/step - loss: 0.9178 - accuracy: 0.4311\n",
      "72/72 [==============================] - 1s 2ms/step - loss: 0.6456 - accuracy: 0.6237\n",
      "18/18 [==============================] - 0s 2ms/step - loss: 0.6050 - accuracy: 0.6946\n",
      "72/72 [==============================] - 1s 2ms/step - loss: 0.6261 - accuracy: 0.6469\n",
      "18/18 [==============================] - 0s 2ms/step - loss: 0.8492 - accuracy: 0.4328\n",
      "72/72 [==============================] - 1s 2ms/step - loss: 0.6154 - accuracy: 0.6592\n",
      "18/18 [==============================] - 0s 1ms/step - loss: 0.8738 - accuracy: 0.4091\n",
      "72/72 [==============================] - 1s 3ms/step - loss: 0.5922 - accuracy: 0.6753\n",
      "18/18 [==============================] - 0s 2ms/step - loss: 0.8171 - accuracy: 0.5969\n",
      "72/72 [==============================] - 1s 3ms/step - loss: 0.6046 - accuracy: 0.6678\n",
      "18/18 [==============================] - 0s 2ms/step - loss: 0.8592 - accuracy: 0.5079\n",
      "72/72 [==============================] - 1s 3ms/step - loss: 0.6216 - accuracy: 0.6683\n",
      "18/18 [==============================] - 0s 1ms/step - loss: 0.5844 - accuracy: 0.7033\n",
      "72/72 [==============================] - 1s 3ms/step - loss: 0.5911 - accuracy: 0.6849\n",
      "18/18 [==============================] - 0s 2ms/step - loss: 0.8669 - accuracy: 0.4555\n",
      "72/72 [==============================] - 1s 3ms/step - loss: 0.6094 - accuracy: 0.6719\n",
      "18/18 [==============================] - 0s 2ms/step - loss: 0.8908 - accuracy: 0.4563\n",
      "72/72 [==============================] - 1s 2ms/step - loss: 0.6611 - accuracy: 0.6054\n",
      "18/18 [==============================] - 0s 1ms/step - loss: 0.8875 - accuracy: 0.1012\n",
      "72/72 [==============================] - 1s 2ms/step - loss: 0.6699 - accuracy: 0.5976\n",
      "18/18 [==============================] - 0s 1ms/step - loss: 0.8902 - accuracy: 0.0000e+00\n",
      "72/72 [==============================] - 1s 2ms/step - loss: 0.6850 - accuracy: 0.5469\n",
      "18/18 [==============================] - 0s 1ms/step - loss: 0.6480 - accuracy: 0.6579\n",
      "72/72 [==============================] - 1s 2ms/step - loss: 0.6607 - accuracy: 0.6194\n",
      "18/18 [==============================] - 0s 1ms/step - loss: 0.8793 - accuracy: 0.0663\n",
      "72/72 [==============================] - 1s 2ms/step - loss: 0.6580 - accuracy: 0.6126\n",
      "18/18 [==============================] - 0s 1ms/step - loss: 0.8981 - accuracy: 0.0157\n",
      "72/72 [==============================] - 1s 2ms/step - loss: 0.6258 - accuracy: 0.6469\n",
      "18/18 [==============================] - 0s 1ms/step - loss: 0.8903 - accuracy: 0.4450\n",
      "72/72 [==============================] - 1s 2ms/step - loss: 0.6400 - accuracy: 0.6281\n",
      "18/18 [==============================] - 0s 1ms/step - loss: 0.8282 - accuracy: 0.4817\n",
      "72/72 [==============================] - 1s 2ms/step - loss: 0.6546 - accuracy: 0.6137\n",
      "18/18 [==============================] - 0s 2ms/step - loss: 0.6156 - accuracy: 0.6894\n",
      "72/72 [==============================] - 1s 2ms/step - loss: 0.6358 - accuracy: 0.6434\n",
      "18/18 [==============================] - 0s 2ms/step - loss: 0.8699 - accuracy: 0.3874\n",
      "72/72 [==============================] - 1s 3ms/step - loss: 0.6388 - accuracy: 0.6409\n",
      "18/18 [==============================] - 0s 1ms/step - loss: 0.7318 - accuracy: 0.5367\n",
      "72/72 [==============================] - 1s 3ms/step - loss: 0.6164 - accuracy: 0.6652\n",
      "18/18 [==============================] - 0s 2ms/step - loss: 0.9135 - accuracy: 0.5079\n",
      "72/72 [==============================] - 1s 3ms/step - loss: 0.6199 - accuracy: 0.6622\n",
      "18/18 [==============================] - 0s 2ms/step - loss: 0.6518 - accuracy: 0.7086\n",
      "72/72 [==============================] - 1s 3ms/step - loss: 0.6313 - accuracy: 0.6412\n",
      "18/18 [==============================] - 0s 1ms/step - loss: 0.5858 - accuracy: 0.6998\n",
      "72/72 [==============================] - 1s 3ms/step - loss: 0.5946 - accuracy: 0.6726\n",
      "18/18 [==============================] - 0s 2ms/step - loss: 0.7521 - accuracy: 0.5864\n",
      "72/72 [==============================] - 1s 3ms/step - loss: 0.6090 - accuracy: 0.6645\n",
      "18/18 [==============================] - 0s 2ms/step - loss: 1.0224 - accuracy: 0.4633\n",
      "72/72 [==============================] - 1s 2ms/step - loss: 0.6655 - accuracy: 0.5967\n",
      "18/18 [==============================] - 0s 1ms/step - loss: 0.8974 - accuracy: 0.1134\n",
      "72/72 [==============================] - 1s 2ms/step - loss: 0.6850 - accuracy: 0.5578\n",
      "18/18 [==============================] - 0s 2ms/step - loss: 0.9135 - accuracy: 0.0803\n"
     ]
    },
    {
     "name": "stdout",
     "output_type": "stream",
     "text": [
      "72/72 [==============================] - 1s 2ms/step - loss: 0.6975 - accuracy: 0.5426\n",
      "18/18 [==============================] - 0s 1ms/step - loss: 0.6523 - accuracy: 0.6475\n",
      "72/72 [==============================] - 1s 2ms/step - loss: 0.7074 - accuracy: 0.5526\n",
      "18/18 [==============================] - 0s 1ms/step - loss: 0.9450 - accuracy: 0.0227\n",
      "72/72 [==============================] - 1s 2ms/step - loss: 0.6958 - accuracy: 0.5624\n",
      "18/18 [==============================] - 0s 1ms/step - loss: 0.9253 - accuracy: 0.1084\n",
      "72/72 [==============================] - 1s 2ms/step - loss: 0.6384 - accuracy: 0.6203\n",
      "18/18 [==============================] - 0s 1ms/step - loss: 0.7917 - accuracy: 0.4956\n",
      "72/72 [==============================] - 1s 2ms/step - loss: 0.6367 - accuracy: 0.6464\n",
      "18/18 [==============================] - 0s 1ms/step - loss: 0.7528 - accuracy: 0.5148\n",
      "72/72 [==============================] - 1s 2ms/step - loss: 0.6542 - accuracy: 0.6185\n",
      "18/18 [==============================] - 0s 1ms/step - loss: 0.6196 - accuracy: 0.6632\n",
      "72/72 [==============================] - 1s 2ms/step - loss: 0.6345 - accuracy: 0.6312\n",
      "18/18 [==============================] - 0s 2ms/step - loss: 0.8601 - accuracy: 0.3368\n",
      "72/72 [==============================] - 1s 2ms/step - loss: 0.6436 - accuracy: 0.6414\n",
      "18/18 [==============================] - 0s 2ms/step - loss: 0.7925 - accuracy: 0.4353\n",
      "72/72 [==============================] - 1s 2ms/step - loss: 0.6153 - accuracy: 0.6635\n",
      "18/18 [==============================] - 0s 2ms/step - loss: 0.8062 - accuracy: 0.5148\n",
      "72/72 [==============================] - 1s 2ms/step - loss: 0.6051 - accuracy: 0.6774\n",
      "18/18 [==============================] - 0s 1ms/step - loss: 0.7208 - accuracy: 0.6143\n",
      "72/72 [==============================] - 1s 2ms/step - loss: 0.6218 - accuracy: 0.6591\n",
      "18/18 [==============================] - 0s 2ms/step - loss: 0.5915 - accuracy: 0.7103\n",
      "72/72 [==============================] - 1s 2ms/step - loss: 0.6102 - accuracy: 0.6648\n",
      "18/18 [==============================] - 1s 2ms/step - loss: 0.8146 - accuracy: 0.4782\n",
      "72/72 [==============================] - 1s 2ms/step - loss: 0.6057 - accuracy: 0.6732\n",
      "18/18 [==============================] - 0s 2ms/step - loss: 0.7411 - accuracy: 0.5909\n",
      "72/72 [==============================] - 1s 2ms/step - loss: 0.6651 - accuracy: 0.6120\n",
      "18/18 [==============================] - 0s 2ms/step - loss: 0.8685 - accuracy: 0.0820\n",
      "72/72 [==============================] - 1s 2ms/step - loss: 0.6669 - accuracy: 0.6041\n",
      "18/18 [==============================] - 0s 2ms/step - loss: 0.8126 - accuracy: 0.2583\n",
      "72/72 [==============================] - 1s 2ms/step - loss: 0.6978 - accuracy: 0.5312\n",
      "18/18 [==============================] - 0s 2ms/step - loss: 0.6752 - accuracy: 0.5916\n",
      "72/72 [==============================] - 1s 2ms/step - loss: 0.6633 - accuracy: 0.6102\n",
      "18/18 [==============================] - 0s 1ms/step - loss: 0.9126 - accuracy: 0.1361\n",
      "72/72 [==============================] - 1s 2ms/step - loss: 0.6503 - accuracy: 0.6095\n",
      "18/18 [==============================] - 0s 2ms/step - loss: 0.8678 - accuracy: 0.0874\n",
      "72/72 [==============================] - 1s 2ms/step - loss: 0.6524 - accuracy: 0.6203\n",
      "18/18 [==============================] - 0s 2ms/step - loss: 0.8485 - accuracy: 0.3700\n",
      "72/72 [==============================] - 1s 2ms/step - loss: 0.6585 - accuracy: 0.6067\n",
      "18/18 [==============================] - 0s 2ms/step - loss: 0.8549 - accuracy: 0.2845\n",
      "72/72 [==============================] - 1s 2ms/step - loss: 0.6662 - accuracy: 0.5932\n",
      "18/18 [==============================] - 0s 1ms/step - loss: 0.6263 - accuracy: 0.6806\n",
      "72/72 [==============================] - 1s 2ms/step - loss: 0.6258 - accuracy: 0.6412\n",
      "18/18 [==============================] - 0s 2ms/step - loss: 0.8931 - accuracy: 0.3421\n",
      "72/72 [==============================] - 1s 3ms/step - loss: 0.6241 - accuracy: 0.6466\n",
      "18/18 [==============================] - 0s 2ms/step - loss: 0.7799 - accuracy: 0.4790\n",
      "72/72 [==============================] - 1s 3ms/step - loss: 0.6105 - accuracy: 0.6613\n",
      "18/18 [==============================] - 0s 2ms/step - loss: 0.8058 - accuracy: 0.5689\n",
      "72/72 [==============================] - 1s 3ms/step - loss: 0.6145 - accuracy: 0.6691\n",
      "18/18 [==============================] - 0s 2ms/step - loss: 0.8384 - accuracy: 0.4817\n",
      "72/72 [==============================] - 1s 3ms/step - loss: 0.6396 - accuracy: 0.6368\n",
      "18/18 [==============================] - 0s 2ms/step - loss: 0.5951 - accuracy: 0.7173\n",
      "72/72 [==============================] - 1s 3ms/step - loss: 0.6095 - accuracy: 0.6678\n",
      "18/18 [==============================] - 0s 2ms/step - loss: 0.8399 - accuracy: 0.5079\n",
      "72/72 [==============================] - 1s 3ms/step - loss: 0.6178 - accuracy: 0.6523\n",
      "18/18 [==============================] - 0s 1ms/step - loss: 0.6674 - accuracy: 0.6416\n",
      "72/72 [==============================] - 1s 2ms/step - loss: 0.6545 - accuracy: 0.6168\n",
      "18/18 [==============================] - 0s 2ms/step - loss: 0.8652 - accuracy: 0.0017\n",
      "72/72 [==============================] - 1s 2ms/step - loss: 0.6741 - accuracy: 0.5945\n",
      "18/18 [==============================] - 0s 1ms/step - loss: 0.8089 - accuracy: 0.0942\n",
      "72/72 [==============================] - 1s 2ms/step - loss: 0.7145 - accuracy: 0.5050\n",
      "18/18 [==============================] - 0s 2ms/step - loss: 0.6780 - accuracy: 0.5881\n",
      "72/72 [==============================] - 1s 2ms/step - loss: 0.6603 - accuracy: 0.6067\n",
      "18/18 [==============================] - 0s 1ms/step - loss: 0.9109 - accuracy: 0.0663\n",
      "72/72 [==============================] - 1s 2ms/step - loss: 0.6849 - accuracy: 0.5755\n",
      "18/18 [==============================] - 0s 2ms/step - loss: 0.9627 - accuracy: 0.0000e+00\n",
      "72/72 [==============================] - 1s 2ms/step - loss: 0.6515 - accuracy: 0.6181\n",
      "18/18 [==============================] - 0s 1ms/step - loss: 0.8963 - accuracy: 0.0733\n",
      "72/72 [==============================] - 1s 2ms/step - loss: 0.6602 - accuracy: 0.5962\n",
      "18/18 [==============================] - 0s 1ms/step - loss: 0.8439 - accuracy: 0.3717\n",
      "72/72 [==============================] - 1s 2ms/step - loss: 0.6844 - accuracy: 0.5570\n",
      "18/18 [==============================] - 0s 1ms/step - loss: 0.6412 - accuracy: 0.6876\n",
      "72/72 [==============================] - 1s 2ms/step - loss: 0.6433 - accuracy: 0.6216\n",
      "18/18 [==============================] - 0s 1ms/step - loss: 0.8374 - accuracy: 0.2949\n",
      "72/72 [==============================] - 1s 2ms/step - loss: 0.6548 - accuracy: 0.6139\n",
      "18/18 [==============================] - 0s 1ms/step - loss: 0.8885 - accuracy: 0.2448\n",
      "72/72 [==============================] - 1s 3ms/step - loss: 0.6193 - accuracy: 0.6700\n",
      "18/18 [==============================] - 0s 2ms/step - loss: 0.6854 - accuracy: 0.6597\n",
      "72/72 [==============================] - 1s 3ms/step - loss: 0.6281 - accuracy: 0.6464\n",
      "18/18 [==============================] - 0s 2ms/step - loss: 0.6960 - accuracy: 0.6806\n",
      "72/72 [==============================] - 1s 3ms/step - loss: 0.6426 - accuracy: 0.6242\n",
      "18/18 [==============================] - 0s 2ms/step - loss: 0.5889 - accuracy: 0.7138\n",
      "72/72 [==============================] - 1s 3ms/step - loss: 0.6206 - accuracy: 0.6425\n",
      "18/18 [==============================] - 0s 2ms/step - loss: 0.8455 - accuracy: 0.5271\n",
      "72/72 [==============================] - 1s 3ms/step - loss: 0.6363 - accuracy: 0.6401\n",
      "18/18 [==============================] - 0s 2ms/step - loss: 0.7238 - accuracy: 0.6538\n",
      "72/72 [==============================] - 1s 2ms/step - loss: 0.6540 - accuracy: 0.6242\n",
      "18/18 [==============================] - 0s 1ms/step - loss: 0.8588 - accuracy: 0.2757\n",
      "72/72 [==============================] - 1s 2ms/step - loss: 0.6867 - accuracy: 0.5757\n",
      "18/18 [==============================] - 0s 1ms/step - loss: 0.8421 - accuracy: 0.1326\n",
      "72/72 [==============================] - 1s 2ms/step - loss: 0.7048 - accuracy: 0.5596\n",
      "18/18 [==============================] - 0s 1ms/step - loss: 0.6336 - accuracy: 0.6894\n",
      "72/72 [==============================] - 1s 2ms/step - loss: 0.6842 - accuracy: 0.6045\n",
      "18/18 [==============================] - 0s 1ms/step - loss: 0.8283 - accuracy: 0.2426\n"
     ]
    },
    {
     "name": "stdout",
     "output_type": "stream",
     "text": [
      "72/72 [==============================] - 1s 2ms/step - loss: 0.6971 - accuracy: 0.5772\n",
      "18/18 [==============================] - 0s 1ms/step - loss: 0.9179 - accuracy: 0.0420\n",
      "72/72 [==============================] - 1s 2ms/step - loss: 0.6344 - accuracy: 0.6482\n",
      "18/18 [==============================] - 0s 2ms/step - loss: 0.7633 - accuracy: 0.5253\n",
      "72/72 [==============================] - 1s 3ms/step - loss: 0.6437 - accuracy: 0.6111\n",
      "18/18 [==============================] - 0s 2ms/step - loss: 0.8791 - accuracy: 0.3019\n",
      "72/72 [==============================] - 1s 2ms/step - loss: 0.6601 - accuracy: 0.6019\n",
      "18/18 [==============================] - 0s 1ms/step - loss: 0.6202 - accuracy: 0.6876\n",
      "72/72 [==============================] - 1s 2ms/step - loss: 0.6687 - accuracy: 0.6032\n",
      "18/18 [==============================] - 0s 1ms/step - loss: 0.8576 - accuracy: 0.2967\n",
      "72/72 [==============================] - 1s 2ms/step - loss: 0.6460 - accuracy: 0.6291\n",
      "18/18 [==============================] - 0s 1ms/step - loss: 0.9297 - accuracy: 0.2657\n",
      "72/72 [==============================] - 1s 2ms/step - loss: 0.6220 - accuracy: 0.6491\n",
      "18/18 [==============================] - 0s 2ms/step - loss: 0.9701 - accuracy: 0.3421\n",
      "72/72 [==============================] - 1s 2ms/step - loss: 0.6204 - accuracy: 0.6504\n",
      "18/18 [==============================] - 0s 2ms/step - loss: 0.8007 - accuracy: 0.5340\n",
      "72/72 [==============================] - 1s 2ms/step - loss: 0.6415 - accuracy: 0.6381\n",
      "18/18 [==============================] - 0s 2ms/step - loss: 0.6035 - accuracy: 0.7016\n",
      "72/72 [==============================] - 1s 2ms/step - loss: 0.6211 - accuracy: 0.6443\n",
      "18/18 [==============================] - 0s 1ms/step - loss: 0.9118 - accuracy: 0.4101\n",
      "72/72 [==============================] - 1s 2ms/step - loss: 0.6142 - accuracy: 0.6675\n",
      "18/18 [==============================] - 0s 1ms/step - loss: 0.6813 - accuracy: 0.6241\n",
      "72/72 [==============================] - 1s 2ms/step - loss: 0.6947 - accuracy: 0.5818\n",
      "18/18 [==============================] - 0s 2ms/step - loss: 0.8385 - accuracy: 0.0140\n",
      "72/72 [==============================] - 1s 2ms/step - loss: 0.7179 - accuracy: 0.5417\n",
      "18/18 [==============================] - 0s 2ms/step - loss: 0.8808 - accuracy: 0.0000e+00\n",
      "72/72 [==============================] - 1s 2ms/step - loss: 0.6973 - accuracy: 0.5653\n",
      "18/18 [==============================] - 0s 1ms/step - loss: 0.6596 - accuracy: 0.6161\n",
      "72/72 [==============================] - 1s 2ms/step - loss: 0.6998 - accuracy: 0.5709\n",
      "18/18 [==============================] - 0s 1ms/step - loss: 0.8705 - accuracy: 0.0035\n",
      "72/72 [==============================] - 1s 2ms/step - loss: 0.6895 - accuracy: 0.5484\n",
      "18/18 [==============================] - 0s 2ms/step - loss: 0.8386 - accuracy: 0.0157\n",
      "72/72 [==============================] - 1s 2ms/step - loss: 0.6562 - accuracy: 0.6194\n",
      "18/18 [==============================] - 0s 2ms/step - loss: 0.8038 - accuracy: 0.3682\n",
      "72/72 [==============================] - 1s 2ms/step - loss: 0.6670 - accuracy: 0.6050\n",
      "18/18 [==============================] - 0s 2ms/step - loss: 0.7695 - accuracy: 0.3665\n",
      "72/72 [==============================] - 1s 2ms/step - loss: 0.6855 - accuracy: 0.5613\n",
      "18/18 [==============================] - 0s 1ms/step - loss: 0.6487 - accuracy: 0.6597\n",
      "72/72 [==============================] - 1s 2ms/step - loss: 0.6838 - accuracy: 0.5958\n",
      "18/18 [==============================] - 0s 2ms/step - loss: 0.9070 - accuracy: 0.0000e+00\n",
      "72/72 [==============================] - 1s 2ms/step - loss: 0.6701 - accuracy: 0.6056\n",
      "18/18 [==============================] - 0s 1ms/step - loss: 0.8419 - accuracy: 0.0542\n",
      "72/72 [==============================] - 1s 3ms/step - loss: 0.6175 - accuracy: 0.6543\n",
      "18/18 [==============================] - 0s 2ms/step - loss: 0.7105 - accuracy: 0.6492\n",
      "72/72 [==============================] - 1s 3ms/step - loss: 0.6249 - accuracy: 0.6491\n",
      "18/18 [==============================] - 0s 2ms/step - loss: 0.8494 - accuracy: 0.5061\n",
      "72/72 [==============================] - 1s 3ms/step - loss: 0.6481 - accuracy: 0.6155\n",
      "18/18 [==============================] - 0s 2ms/step - loss: 0.5994 - accuracy: 0.7103\n",
      "72/72 [==============================] - 1s 3ms/step - loss: 0.6266 - accuracy: 0.6748\n",
      "18/18 [==============================] - 0s 2ms/step - loss: 0.7409 - accuracy: 0.5253\n",
      "72/72 [==============================] - 1s 3ms/step - loss: 0.6314 - accuracy: 0.6545\n",
      "18/18 [==============================] - 0s 2ms/step - loss: 0.7682 - accuracy: 0.5367\n",
      "72/72 [==============================] - 1s 2ms/step - loss: 0.6760 - accuracy: 0.5914\n",
      "18/18 [==============================] - 0s 2ms/step - loss: 0.8358 - accuracy: 0.0105\n",
      "72/72 [==============================] - 1s 2ms/step - loss: 0.6944 - accuracy: 0.5644\n",
      "18/18 [==============================] - 0s 2ms/step - loss: 0.8452 - accuracy: 0.0000e+00\n",
      "72/72 [==============================] - 1s 2ms/step - loss: 0.7041 - accuracy: 0.5041\n",
      "18/18 [==============================] - 0s 2ms/step - loss: 0.6811 - accuracy: 0.6021\n",
      "72/72 [==============================] - 1s 2ms/step - loss: 0.6774 - accuracy: 0.6037\n",
      "18/18 [==============================] - 0s 2ms/step - loss: 0.7701 - accuracy: 0.0209\n",
      "72/72 [==============================] - 1s 2ms/step - loss: 0.7041 - accuracy: 0.5432\n",
      "18/18 [==============================] - 0s 1ms/step - loss: 0.8355 - accuracy: 0.0000e+00\n",
      "72/72 [==============================] - 1s 2ms/step - loss: 0.6586 - accuracy: 0.6115\n",
      "18/18 [==============================] - 0s 2ms/step - loss: 0.8646 - accuracy: 0.0873\n",
      "72/72 [==============================] - 1s 2ms/step - loss: 0.6762 - accuracy: 0.5993\n",
      "18/18 [==============================] - 0s 2ms/step - loss: 0.8700 - accuracy: 0.0035\n",
      "72/72 [==============================] - 1s 2ms/step - loss: 0.6954 - accuracy: 0.5395\n",
      "18/18 [==============================] - 0s 2ms/step - loss: 0.6553 - accuracy: 0.6841\n",
      "72/72 [==============================] - 1s 2ms/step - loss: 0.6752 - accuracy: 0.5832\n",
      "18/18 [==============================] - 0s 2ms/step - loss: 0.8606 - accuracy: 0.0070\n",
      "72/72 [==============================] - 1s 2ms/step - loss: 0.6676 - accuracy: 0.6043\n",
      "18/18 [==============================] - 0s 2ms/step - loss: 0.8153 - accuracy: 0.0105\n",
      "72/72 [==============================] - 1s 3ms/step - loss: 0.6462 - accuracy: 0.6329\n",
      "18/18 [==============================] - 0s 2ms/step - loss: 0.6612 - accuracy: 0.6911\n",
      "72/72 [==============================] - 1s 4ms/step - loss: 0.6511 - accuracy: 0.6176\n",
      "18/18 [==============================] - 0s 2ms/step - loss: 0.7674 - accuracy: 0.5323\n",
      "72/72 [==============================] - 1s 3ms/step - loss: 0.6533 - accuracy: 0.6189\n",
      "18/18 [==============================] - 0s 2ms/step - loss: 0.6050 - accuracy: 0.6981\n",
      "72/72 [==============================] - 1s 3ms/step - loss: 0.6396 - accuracy: 0.6272\n",
      "18/18 [==============================] - 0s 2ms/step - loss: 0.7825 - accuracy: 0.5131\n",
      "72/72 [==============================] - 1s 3ms/step - loss: 0.6492 - accuracy: 0.6296\n",
      "18/18 [==============================] - 0s 2ms/step - loss: 0.8255 - accuracy: 0.4318\n",
      "90/90 [==============================] - 1s 3ms/step - loss: 0.6271 - accuracy: 0.6446\n"
     ]
    }
   ],
   "source": [
    "grid_result = grid.fit(X_rus_clean, y_rus)"
   ]
  },
  {
   "cell_type": "code",
   "execution_count": 202,
   "id": "d669b375",
   "metadata": {},
   "outputs": [
    {
     "name": "stdout",
     "output_type": "stream",
     "text": [
      "Best: 0.647000 using {'dropout': 0.3, 'layers': 4, 'units': 128}\n"
     ]
    }
   ],
   "source": [
    "print(\"Best: %f using %s\" % (grid_result.best_score_, grid_result.best_params_))"
   ]
  },
  {
   "cell_type": "code",
   "execution_count": 203,
   "id": "c933f81f",
   "metadata": {},
   "outputs": [
    {
     "name": "stdout",
     "output_type": "stream",
     "text": [
      "57/57 [==============================] - 0s 2ms/step\n",
      "Accuracy: 0.7911111111111111\n"
     ]
    }
   ],
   "source": [
    "deep_pred = np.argmax(grid_result.predict(X_test_clean), axis=-1)\n",
    "accuracy = accuracy_score(y_test, deep_pred)\n",
    "print(\"Accuracy:\", accuracy)"
   ]
  },
  {
   "cell_type": "code",
   "execution_count": 204,
   "id": "e87bada3",
   "metadata": {},
   "outputs": [
    {
     "name": "stdout",
     "output_type": "stream",
     "text": [
      "              precision    recall  f1-score   support\n",
      "\n",
      "           0       0.79      1.00      0.88      1424\n",
      "           1       0.00      0.00      0.00       376\n",
      "\n",
      "    accuracy                           0.79      1800\n",
      "   macro avg       0.40      0.50      0.44      1800\n",
      "weighted avg       0.63      0.79      0.70      1800\n",
      "\n"
     ]
    }
   ],
   "source": [
    "print(classification_report(y_test, deep_pred, labels=[0,1]))"
   ]
  },
  {
   "cell_type": "code",
   "execution_count": 205,
   "id": "bf2a5689",
   "metadata": {},
   "outputs": [
    {
     "data": {
      "image/png": "[encoded data removed]",
      "text/plain": [
       "<Figure size 432x288 with 2 Axes>"
      ]
     },
     "metadata": {
      "needs_background": "light"
     },
     "output_type": "display_data"
    }
   ],
   "source": [
    "ConfusionMatrixDisplay.from_predictions(y_test, deep_pred, display_labels = [False, True])\n",
    "plt.show()"
   ]
  },
  {
   "cell_type": "markdown",
   "id": "b9dcef65",
   "metadata": {},
   "source": [
    "## LightGBM"
   ]
  },
  {
   "cell_type": "code",
   "execution_count": 206,
   "id": "2ee7e020",
   "metadata": {},
   "outputs": [],
   "source": [
    "# define the LightGBM classifier\n",
    "lgb_awal = LGBMClassifier(random_state = 123)"
   ]
  },
  {
   "cell_type": "code",
   "execution_count": 207,
   "id": "2a74ea1d",
   "metadata": {},
   "outputs": [
    {
     "data": {
      "text/plain": [
       "LGBMClassifier(random_state=123)"
      ]
     },
     "execution_count": 207,
     "metadata": {},
     "output_type": "execute_result"
    }
   ],
   "source": [
    "lgb_awal.fit(X_rus_clean, y_rus)"
   ]
  },
  {
   "cell_type": "code",
   "execution_count": 208,
   "id": "9ef42b45",
   "metadata": {},
   "outputs": [
    {
     "data": {
      "text/plain": [
       "0.9528631284916201"
      ]
     },
     "execution_count": 208,
     "metadata": {},
     "output_type": "execute_result"
    }
   ],
   "source": [
    "# train the classifier\n",
    "lgb_awal.score(X_rus_clean, y_rus)"
   ]
  },
  {
   "cell_type": "code",
   "execution_count": 209,
   "id": "069a9504",
   "metadata": {},
   "outputs": [],
   "source": [
    "# make predictions on the testing set\n",
    "lgb_pred = lgb_awal.predict(X_test_clean)"
   ]
  },
  {
   "cell_type": "code",
   "execution_count": 210,
   "id": "ad3df390",
   "metadata": {},
   "outputs": [
    {
     "name": "stdout",
     "output_type": "stream",
     "text": [
      "Training Data Score: 0.9528631284916201\n",
      "Validating Data Score: 0.7608333333333334\n",
      "Testing Data Score: 0.7555555555555555\n"
     ]
    }
   ],
   "source": [
    "print(f\"Training Data Score: {lgb_awal.score(X_rus_clean, y_rus)}\")\n",
    "print(f\"Validating Data Score: {lgb_awal.score(X_valid_clean, y_valid)}\")\n",
    "print(f\"Testing Data Score: {lgb_awal.score(X_test_clean, y_test)}\")"
   ]
  },
  {
   "cell_type": "code",
   "execution_count": 211,
   "id": "49abd02b",
   "metadata": {},
   "outputs": [
    {
     "name": "stdout",
     "output_type": "stream",
     "text": [
      "              precision    recall  f1-score   support\n",
      "\n",
      "           0       0.94      0.74      0.83      1424\n",
      "           1       0.45      0.81      0.58       376\n",
      "\n",
      "    accuracy                           0.76      1800\n",
      "   macro avg       0.69      0.77      0.70      1800\n",
      "weighted avg       0.83      0.76      0.78      1800\n",
      "\n"
     ]
    }
   ],
   "source": [
    "print(classification_report(y_test, lgb_pred, labels=[0,1]))"
   ]
  },
  {
   "cell_type": "markdown",
   "id": "d1d1468c",
   "metadata": {},
   "source": [
    "## Tuning Parameter LightGBM"
   ]
  },
  {
   "cell_type": "code",
   "execution_count": 212,
   "id": "d91829ad",
   "metadata": {},
   "outputs": [],
   "source": [
    "# define the LightGBM classifier\n",
    "lgb = LGBMClassifier()"
   ]
  },
  {
   "cell_type": "code",
   "execution_count": 213,
   "id": "845936f2",
   "metadata": {},
   "outputs": [],
   "source": [
    "# define the hyperparameters to tune\n",
    "param_grid = {\n",
    "    'num_leaves': [10, 20, 30],\n",
    "    'max_depth': [3, 4, 5],\n",
    "    'learning_rate': [0.1, 0.01, 0.001]\n",
    "}"
   ]
  },
  {
   "cell_type": "code",
   "execution_count": 214,
   "id": "7848d5e5",
   "metadata": {},
   "outputs": [],
   "source": [
    "# create the grid search object\n",
    "grid_search_lgb = GridSearchCV(lgb, param_grid=param_grid, cv=5)"
   ]
  },
  {
   "cell_type": "code",
   "execution_count": 215,
   "id": "b01ee185",
   "metadata": {},
   "outputs": [
    {
     "data": {
      "text/plain": [
       "GridSearchCV(cv=5, estimator=LGBMClassifier(),\n",
       "             param_grid={'learning_rate': [0.1, 0.01, 0.001],\n",
       "                         'max_depth': [3, 4, 5], 'num_leaves': [10, 20, 30]})"
      ]
     },
     "execution_count": 215,
     "metadata": {},
     "output_type": "execute_result"
    }
   ],
   "source": [
    "# train the grid search object\n",
    "grid_search_lgb.fit(X_rus_clean, y_rus)"
   ]
  },
  {
   "cell_type": "code",
   "execution_count": 216,
   "id": "98309473",
   "metadata": {},
   "outputs": [],
   "source": [
    "best_params = grid_search_lgb.best_params_"
   ]
  },
  {
   "cell_type": "code",
   "execution_count": 217,
   "id": "ab159150",
   "metadata": {},
   "outputs": [],
   "source": [
    "lgbm_best = LGBMClassifier(**best_params)"
   ]
  },
  {
   "cell_type": "code",
   "execution_count": 218,
   "id": "1a411da6",
   "metadata": {},
   "outputs": [
    {
     "data": {
      "text/plain": [
       "LGBMClassifier(max_depth=3, num_leaves=10)"
      ]
     },
     "execution_count": 218,
     "metadata": {},
     "output_type": "execute_result"
    }
   ],
   "source": [
    "lgbm_best.fit(X_rus_clean, y_rus)"
   ]
  },
  {
   "cell_type": "code",
   "execution_count": 219,
   "id": "6b7b9570",
   "metadata": {},
   "outputs": [],
   "source": [
    "lgb_best_pred = lgbm_best.predict(X_test_clean)"
   ]
  },
  {
   "cell_type": "code",
   "execution_count": 220,
   "id": "bc1797d6",
   "metadata": {},
   "outputs": [
    {
     "name": "stdout",
     "output_type": "stream",
     "text": [
      "              precision    recall  f1-score   support\n",
      "\n",
      "           0       0.94      0.75      0.83      1424\n",
      "           1       0.46      0.83      0.60       376\n",
      "\n",
      "    accuracy                           0.76      1800\n",
      "   macro avg       0.70      0.79      0.71      1800\n",
      "weighted avg       0.84      0.76      0.78      1800\n",
      "\n"
     ]
    }
   ],
   "source": [
    "print(classification_report(y_test, lgb_best_pred, labels=[0,1]))"
   ]
  },
  {
   "cell_type": "code",
   "execution_count": 221,
   "id": "8453012d",
   "metadata": {},
   "outputs": [
    {
     "data": {
      "image/png": "[encoded data removed]",
      "text/plain": [
       "<Figure size 432x288 with 2 Axes>"
      ]
     },
     "metadata": {
      "needs_background": "light"
     },
     "output_type": "display_data"
    }
   ],
   "source": [
    "ConfusionMatrixDisplay.from_predictions(y_test, lgb_best_pred, display_labels = [False, True])\n",
    "plt.show()"
   ]
  },
  {
   "cell_type": "code",
   "execution_count": 222,
   "id": "4bb0d8eb",
   "metadata": {},
   "outputs": [
    {
     "name": "stdout",
     "output_type": "stream",
     "text": [
      "Accuracy: 0.7644444444444445\n",
      "ROC AUC score: 0.7894677862777911\n"
     ]
    }
   ],
   "source": [
    "# evaluate the classifier using accuracy score and ROC AUC score\n",
    "acc = accuracy_score(y_test, lgb_best_pred)\n",
    "roc_auc = roc_auc_score(y_test, lgb_best_pred)\n",
    "print('Accuracy:', acc)\n",
    "print('ROC AUC score:', roc_auc)"
   ]
  },
  {
   "cell_type": "code",
   "execution_count": null,
   "id": "60151c9d",
   "metadata": {},
   "outputs": [],
   "source": [
    "from sklearn.metrics import precision_score, recall_score, f1_score, accuracy_score, classification_report\n",
    "import pandas as pd\n",
    "\n",
    "# buat dictionary dengan nama-nama model dan objek modelnya\n",
    "models = {'Logistic Regression': lr, 'Decision Tree': dt, 'Random Forest': rf}\n",
    "\n",
    "# buat dataframe kosong untuk menampung nilai metrik dari setiap model\n",
    "results_df = pd.DataFrame(columns=['Model', 'Accuracy', 'Precision', 'Recall', 'F1 Score', 'Macro Avg', 'Weighted Avg'])\n",
    "\n",
    "# loop untuk menghitung dan menyimpan metrik untuk setiap model\n",
    "for name, model in models.items():\n",
    "    # hitung prediksi pada data test\n",
    "    y_pred = model.predict(X_test)\n",
    "    # hitung metrik\n",
    "    acc = accuracy_score(y_test, y_pred)\n",
    "    precision = precision_score(y_test, y_pred)\n",
    "    recall = recall_score(y_test, y_pred)\n",
    "    f1 = f1_score(y_test, y_pred)\n",
    "    report = classification_report(y_test, y_pred, output_dict=True)\n",
    "    macro_avg = report['macro avg']\n",
    "    weighted_avg = report['weighted avg']\n",
    "    # tambahkan hasil ke dataframe\n",
    "    results_df = results_df.append({'Model': name, 'Accuracy': acc, 'Precision': precision, 'Recall': recall, 'F1 Score': f1, 'Macro Avg': macro_avg, 'Weighted Avg': weighted_avg}, ignore_index=True)\n",
    "\n",
    "# tampilkan tabel hasil komparasi\n",
    "print(results_df)\n"
   ]
  },
  {
   "cell_type": "code",
   "execution_count": 224,
   "id": "79664453",
   "metadata": {},
   "outputs": [
    {
     "name": "stdout",
     "output_type": "stream",
     "text": [
      "                              precision    recall  f1_score  accuracy  \\\n",
      "Logistic Regression            0.805668  0.680000  0.709595  0.680000   \n",
      "Logistic Regression CV         0.803996  0.681667  0.710995  0.681667   \n",
      "Decision Tree                  0.801069  0.692778  0.720435  0.692778   \n",
      "Decision Tree CV               0.831021  0.771667  0.788582  0.771667   \n",
      "Support Vector Classifier      0.831613  0.748889  0.770030  0.748889   \n",
      "Support Vector Classifier CV   0.828613  0.731111  0.754839  0.731111   \n",
      "Random Forest                  0.836399  0.755556  0.776019  0.755556   \n",
      "Random Forest CV               0.836583  0.756111  0.776499  0.756111   \n",
      "Ridge                          0.805758  0.682778  0.712030  0.682778   \n",
      "Ridge CV                       0.805758  0.682778  0.712030  0.682778   \n",
      "KNN                            0.804789  0.712778  0.737557  0.712778   \n",
      "KNN CV                         0.812330  0.717778  0.742376  0.717778   \n",
      "Bagging                        0.822262  0.754444  0.773577  0.754444   \n",
      "Bagging CV                     0.827654  0.746667  0.767813  0.746667   \n",
      "gradient Boosting              0.842111  0.761111  0.781167  0.761111   \n",
      "gradient Boosting CV           0.836188  0.767778  0.786086  0.767778   \n",
      "Adaboost                       0.838425  0.757778  0.778056  0.757778   \n",
      "Adaboost SVC                   0.719370  0.576667  0.616178  0.576667   \n",
      "Adaboost CV                    0.837779  0.757778  0.777997  0.757778   \n",
      "Extratrees                     0.825976  0.735556  0.758397  0.735556   \n",
      "Extratrees CV                  0.825584  0.732222  0.755561  0.732222   \n",
      "XGboost                        0.830507  0.749444  0.770390  0.749444   \n",
      "XGboost CV                     0.841646  0.761667  0.781590  0.761667   \n",
      "LightGBM                       0.834472  0.755556  0.775839  0.755556   \n",
      "LightGBM CV                    0.843854  0.764444  0.784107  0.764444   \n",
      "\n",
      "                              macro_avg_precision  macro_avg_recall  \\\n",
      "Logistic Regression                      0.646610          0.718481   \n",
      "Logistic Regression CV                   0.645723          0.716598   \n",
      "Decision Tree                            0.646452          0.714813   \n",
      "Decision Tree CV                         0.698673          0.769566   \n",
      "Support Vector Classifier                0.689023          0.768871   \n",
      "Support Vector Classifier CV             0.680093          0.761550   \n",
      "Random Forest                            0.695193          0.776999   \n",
      "Random Forest CV                         0.695556          0.777350   \n",
      "Ridge                                    0.647425          0.719258   \n",
      "Ridge CV                                 0.647425          0.719258   \n",
      "KNN                                      0.655520          0.723539   \n",
      "KNN CV                                   0.663097          0.735507   \n",
      "Bagging                                  0.684524          0.754766   \n",
      "Bagging CV                               0.685246          0.762573   \n",
      "gradient Boosting                        0.701568          0.786382   \n",
      "gradient Boosting CV                     0.700404          0.777873   \n",
      "Adaboost                                 0.697562          0.780361   \n",
      "Adaboost SVC                             0.552458          0.578794   \n",
      "Adaboost CV                              0.697105          0.779382   \n",
      "Extratrees                               0.679740          0.758487   \n",
      "Extratrees CV                            0.678230          0.757359   \n",
      "XGboost                                  0.688444          0.767265   \n",
      "XGboost CV                               0.701481          0.785755   \n",
      "LightGBM                                 0.693819          0.774063   \n",
      "LightGBM CV                              0.704221          0.789468   \n",
      "\n",
      "                              macro_avg_f1_score  weighted_avg_precision  \\\n",
      "Logistic Regression                     0.634678                0.805668   \n",
      "Logistic Regression CV                  0.635103                0.803996   \n",
      "Decision Tree                           0.641457                0.801069   \n",
      "Decision Tree CV                        0.713148                0.831021   \n",
      "Support Vector Classifier               0.697148                0.831613   \n",
      "Support Vector Classifier CV            0.682552                0.828613   \n",
      "Random Forest                           0.704532                0.836399   \n",
      "Random Forest CV                        0.705039                0.836583   \n",
      "Ridge                                   0.636707                0.805758   \n",
      "Ridge CV                                0.636707                0.805758   \n",
      "KNN                                     0.657159                0.804789   \n",
      "KNN CV                                  0.664729                0.812330   \n",
      "Bagging                                 0.695860                0.822262   \n",
      "Bagging CV                              0.693445                0.827654   \n",
      "gradient Boosting                       0.711569                0.842111   \n",
      "gradient Boosting CV                    0.713409                0.836188   \n",
      "Adaboost                                0.707218                0.838425   \n",
      "Adaboost SVC                            0.523750                0.719370   \n",
      "Adaboost CV                             0.706891                0.837779   \n",
      "Extratrees                              0.684516                0.825976   \n",
      "Extratrees CV                           0.681888                0.825584   \n",
      "XGboost                                 0.696976                0.830507   \n",
      "XGboost CV                              0.711758                0.841646   \n",
      "LightGBM                                0.703536                0.834472   \n",
      "LightGBM CV                             0.714958                0.843854   \n",
      "\n",
      "                              weighted_avg_recall  weighted_avg_f1_score  \n",
      "Logistic Regression                      0.680000               0.709595  \n",
      "Logistic Regression CV                   0.681667               0.710995  \n",
      "Decision Tree                            0.692778               0.720435  \n",
      "Decision Tree CV                         0.771667               0.788582  \n",
      "Support Vector Classifier                0.748889               0.770030  \n",
      "Support Vector Classifier CV             0.731111               0.754839  \n",
      "Random Forest                            0.755556               0.776019  \n",
      "Random Forest CV                         0.756111               0.776499  \n",
      "Ridge                                    0.682778               0.712030  \n",
      "Ridge CV                                 0.682778               0.712030  \n",
      "KNN                                      0.712778               0.737557  \n",
      "KNN CV                                   0.717778               0.742376  \n",
      "Bagging                                  0.754444               0.773577  \n",
      "Bagging CV                               0.746667               0.767813  \n",
      "gradient Boosting                        0.761111               0.781167  \n",
      "gradient Boosting CV                     0.767778               0.786086  \n",
      "Adaboost                                 0.757778               0.778056  \n",
      "Adaboost SVC                             0.576667               0.616178  \n",
      "Adaboost CV                              0.757778               0.777997  \n",
      "Extratrees                               0.735556               0.758397  \n",
      "Extratrees CV                            0.732222               0.755561  \n",
      "XGboost                                  0.749444               0.770390  \n",
      "XGboost CV                               0.761667               0.781590  \n",
      "LightGBM                                 0.755556               0.775839  \n",
      "LightGBM CV                              0.764444               0.784107  \n"
     ]
    }
   ],
   "source": [
    "import pandas as pd\n",
    "from sklearn.metrics import classification_report\n",
    "\n",
    "# definisikan model-model yang ingin dibandingkan\n",
    "models = {'Logistic Regression': logreg_awal, \n",
    "          'Logistic Regression CV': lr_grid_cv,\n",
    "          'Decision Tree': decTree, \n",
    "          'Decision Tree CV': best_decTree,\n",
    "          'Support Vector Classifier':svc_ori,\n",
    "          'Support Vector Classifier CV':svc_grid_cv,\n",
    "          'Random Forest':random_forest,\n",
    "          'Random Forest CV':random_forestcls_cv,\n",
    "          'Ridge':ridge,\n",
    "          'Ridge CV':ridge_cv,\n",
    "          'KNN':knn_awal,\n",
    "          'KNN CV':kn_grid,\n",
    "          'Bagging':bagging_cls,\n",
    "          'Bagging CV':bagging_cv,\n",
    "          'gradient Boosting':grad_boost,\n",
    "          'gradient Boosting CV':gradboost_cv,\n",
    "          'Adaboost':abc_ori,\n",
    "          'Adaboost SVC':adaboost_svc,\n",
    "          'Adaboost CV':adaboost_best,\n",
    "          'Extratrees':extra_trees_awal,\n",
    "          'Extratrees CV':extra_trees_best,\n",
    "          'XGboost':xgb_classifier,\n",
    "          'XGboost CV':xgb_best,\n",
    "          'LightGBM':lgb_awal,\n",
    "          'LightGBM CV':lgbm_best\n",
    "         }\n",
    "\n",
    "# loop untuk menghitung dan menyimpan metrik untuk setiap model\n",
    "results = {}\n",
    "for name, model in models.items():\n",
    "    # hitung prediksi pada data test\n",
    "    y_pred = model.predict(X_test_clean)\n",
    "    # hitung metrik\n",
    "    report = classification_report(y_test, y_pred, output_dict=True)\n",
    "    # simpan metrik ke dictionary\n",
    "    results[name] = {\n",
    "        'precision': report['weighted avg']['precision'],\n",
    "        'recall': report['weighted avg']['recall'],\n",
    "        'f1_score': report['weighted avg']['f1-score'],\n",
    "        'accuracy': report['accuracy'],\n",
    "        'macro_avg_precision': report['macro avg']['precision'],\n",
    "        'macro_avg_recall': report['macro avg']['recall'],\n",
    "        'macro_avg_f1_score': report['macro avg']['f1-score'],\n",
    "        'weighted_avg_precision': report['weighted avg']['precision'],\n",
    "        'weighted_avg_recall': report['weighted avg']['recall'],\n",
    "        'weighted_avg_f1_score': report['weighted avg']['f1-score']\n",
    "    }\n",
    "\n",
    "# buat dataframe dari dictionary\n",
    "df_results = pd.DataFrame.from_dict(results, orient='index')\n",
    "\n",
    "# tampilkan dataframe sebagai tabel\n",
    "print(df_results)\n"
   ]
  },
  {
   "cell_type": "code",
   "execution_count": 225,
   "id": "86da152c",
   "metadata": {},
   "outputs": [
    {
     "data": {
      "text/html": [
       "<div>\n",
       "<style scoped>\n",
       "    .dataframe tbody tr th:only-of-type {\n",
       "        vertical-align: middle;\n",
       "    }\n",
       "\n",
       "    .dataframe tbody tr th {\n",
       "        vertical-align: top;\n",
       "    }\n",
       "\n",
       "    .dataframe thead th {\n",
       "        text-align: right;\n",
       "    }\n",
       "</style>\n",
       "<table border=\"1\" class=\"dataframe\">\n",
       "  <thead>\n",
       "    <tr style=\"text-align: right;\">\n",
       "      <th></th>\n",
       "      <th>precision</th>\n",
       "      <th>recall</th>\n",
       "      <th>f1_score</th>\n",
       "      <th>accuracy</th>\n",
       "      <th>macro_avg_precision</th>\n",
       "      <th>macro_avg_recall</th>\n",
       "      <th>macro_avg_f1_score</th>\n",
       "      <th>weighted_avg_precision</th>\n",
       "      <th>weighted_avg_recall</th>\n",
       "      <th>weighted_avg_f1_score</th>\n",
       "    </tr>\n",
       "  </thead>\n",
       "  <tbody>\n",
       "    <tr>\n",
       "      <th>Logistic Regression</th>\n",
       "      <td>0.805668</td>\n",
       "      <td>0.680000</td>\n",
       "      <td>0.709595</td>\n",
       "      <td>0.680000</td>\n",
       "      <td>0.646610</td>\n",
       "      <td>0.718481</td>\n",
       "      <td>0.634678</td>\n",
       "      <td>0.805668</td>\n",
       "      <td>0.680000</td>\n",
       "      <td>0.709595</td>\n",
       "    </tr>\n",
       "    <tr>\n",
       "      <th>Logistic Regression CV</th>\n",
       "      <td>0.803996</td>\n",
       "      <td>0.681667</td>\n",
       "      <td>0.710995</td>\n",
       "      <td>0.681667</td>\n",
       "      <td>0.645723</td>\n",
       "      <td>0.716598</td>\n",
       "      <td>0.635103</td>\n",
       "      <td>0.803996</td>\n",
       "      <td>0.681667</td>\n",
       "      <td>0.710995</td>\n",
       "    </tr>\n",
       "    <tr>\n",
       "      <th>Decision Tree</th>\n",
       "      <td>0.801069</td>\n",
       "      <td>0.692778</td>\n",
       "      <td>0.720435</td>\n",
       "      <td>0.692778</td>\n",
       "      <td>0.646452</td>\n",
       "      <td>0.714813</td>\n",
       "      <td>0.641457</td>\n",
       "      <td>0.801069</td>\n",
       "      <td>0.692778</td>\n",
       "      <td>0.720435</td>\n",
       "    </tr>\n",
       "    <tr>\n",
       "      <th>Decision Tree CV</th>\n",
       "      <td>0.831021</td>\n",
       "      <td>0.771667</td>\n",
       "      <td>0.788582</td>\n",
       "      <td>0.771667</td>\n",
       "      <td>0.698673</td>\n",
       "      <td>0.769566</td>\n",
       "      <td>0.713148</td>\n",
       "      <td>0.831021</td>\n",
       "      <td>0.771667</td>\n",
       "      <td>0.788582</td>\n",
       "    </tr>\n",
       "    <tr>\n",
       "      <th>Support Vector Classifier</th>\n",
       "      <td>0.831613</td>\n",
       "      <td>0.748889</td>\n",
       "      <td>0.770030</td>\n",
       "      <td>0.748889</td>\n",
       "      <td>0.689023</td>\n",
       "      <td>0.768871</td>\n",
       "      <td>0.697148</td>\n",
       "      <td>0.831613</td>\n",
       "      <td>0.748889</td>\n",
       "      <td>0.770030</td>\n",
       "    </tr>\n",
       "    <tr>\n",
       "      <th>Support Vector Classifier CV</th>\n",
       "      <td>0.828613</td>\n",
       "      <td>0.731111</td>\n",
       "      <td>0.754839</td>\n",
       "      <td>0.731111</td>\n",
       "      <td>0.680093</td>\n",
       "      <td>0.761550</td>\n",
       "      <td>0.682552</td>\n",
       "      <td>0.828613</td>\n",
       "      <td>0.731111</td>\n",
       "      <td>0.754839</td>\n",
       "    </tr>\n",
       "    <tr>\n",
       "      <th>Random Forest</th>\n",
       "      <td>0.836399</td>\n",
       "      <td>0.755556</td>\n",
       "      <td>0.776019</td>\n",
       "      <td>0.755556</td>\n",
       "      <td>0.695193</td>\n",
       "      <td>0.776999</td>\n",
       "      <td>0.704532</td>\n",
       "      <td>0.836399</td>\n",
       "      <td>0.755556</td>\n",
       "      <td>0.776019</td>\n",
       "    </tr>\n",
       "    <tr>\n",
       "      <th>Random Forest CV</th>\n",
       "      <td>0.836583</td>\n",
       "      <td>0.756111</td>\n",
       "      <td>0.776499</td>\n",
       "      <td>0.756111</td>\n",
       "      <td>0.695556</td>\n",
       "      <td>0.777350</td>\n",
       "      <td>0.705039</td>\n",
       "      <td>0.836583</td>\n",
       "      <td>0.756111</td>\n",
       "      <td>0.776499</td>\n",
       "    </tr>\n",
       "    <tr>\n",
       "      <th>Ridge</th>\n",
       "      <td>0.805758</td>\n",
       "      <td>0.682778</td>\n",
       "      <td>0.712030</td>\n",
       "      <td>0.682778</td>\n",
       "      <td>0.647425</td>\n",
       "      <td>0.719258</td>\n",
       "      <td>0.636707</td>\n",
       "      <td>0.805758</td>\n",
       "      <td>0.682778</td>\n",
       "      <td>0.712030</td>\n",
       "    </tr>\n",
       "    <tr>\n",
       "      <th>Ridge CV</th>\n",
       "      <td>0.805758</td>\n",
       "      <td>0.682778</td>\n",
       "      <td>0.712030</td>\n",
       "      <td>0.682778</td>\n",
       "      <td>0.647425</td>\n",
       "      <td>0.719258</td>\n",
       "      <td>0.636707</td>\n",
       "      <td>0.805758</td>\n",
       "      <td>0.682778</td>\n",
       "      <td>0.712030</td>\n",
       "    </tr>\n",
       "    <tr>\n",
       "      <th>KNN</th>\n",
       "      <td>0.804789</td>\n",
       "      <td>0.712778</td>\n",
       "      <td>0.737557</td>\n",
       "      <td>0.712778</td>\n",
       "      <td>0.655520</td>\n",
       "      <td>0.723539</td>\n",
       "      <td>0.657159</td>\n",
       "      <td>0.804789</td>\n",
       "      <td>0.712778</td>\n",
       "      <td>0.737557</td>\n",
       "    </tr>\n",
       "    <tr>\n",
       "      <th>KNN CV</th>\n",
       "      <td>0.812330</td>\n",
       "      <td>0.717778</td>\n",
       "      <td>0.742376</td>\n",
       "      <td>0.717778</td>\n",
       "      <td>0.663097</td>\n",
       "      <td>0.735507</td>\n",
       "      <td>0.664729</td>\n",
       "      <td>0.812330</td>\n",
       "      <td>0.717778</td>\n",
       "      <td>0.742376</td>\n",
       "    </tr>\n",
       "    <tr>\n",
       "      <th>Bagging</th>\n",
       "      <td>0.822262</td>\n",
       "      <td>0.754444</td>\n",
       "      <td>0.773577</td>\n",
       "      <td>0.754444</td>\n",
       "      <td>0.684524</td>\n",
       "      <td>0.754766</td>\n",
       "      <td>0.695860</td>\n",
       "      <td>0.822262</td>\n",
       "      <td>0.754444</td>\n",
       "      <td>0.773577</td>\n",
       "    </tr>\n",
       "    <tr>\n",
       "      <th>Bagging CV</th>\n",
       "      <td>0.827654</td>\n",
       "      <td>0.746667</td>\n",
       "      <td>0.767813</td>\n",
       "      <td>0.746667</td>\n",
       "      <td>0.685246</td>\n",
       "      <td>0.762573</td>\n",
       "      <td>0.693445</td>\n",
       "      <td>0.827654</td>\n",
       "      <td>0.746667</td>\n",
       "      <td>0.767813</td>\n",
       "    </tr>\n",
       "    <tr>\n",
       "      <th>gradient Boosting</th>\n",
       "      <td>0.842111</td>\n",
       "      <td>0.761111</td>\n",
       "      <td>0.781167</td>\n",
       "      <td>0.761111</td>\n",
       "      <td>0.701568</td>\n",
       "      <td>0.786382</td>\n",
       "      <td>0.711569</td>\n",
       "      <td>0.842111</td>\n",
       "      <td>0.761111</td>\n",
       "      <td>0.781167</td>\n",
       "    </tr>\n",
       "    <tr>\n",
       "      <th>gradient Boosting CV</th>\n",
       "      <td>0.836188</td>\n",
       "      <td>0.767778</td>\n",
       "      <td>0.786086</td>\n",
       "      <td>0.767778</td>\n",
       "      <td>0.700404</td>\n",
       "      <td>0.777873</td>\n",
       "      <td>0.713409</td>\n",
       "      <td>0.836188</td>\n",
       "      <td>0.767778</td>\n",
       "      <td>0.786086</td>\n",
       "    </tr>\n",
       "    <tr>\n",
       "      <th>Adaboost</th>\n",
       "      <td>0.838425</td>\n",
       "      <td>0.757778</td>\n",
       "      <td>0.778056</td>\n",
       "      <td>0.757778</td>\n",
       "      <td>0.697562</td>\n",
       "      <td>0.780361</td>\n",
       "      <td>0.707218</td>\n",
       "      <td>0.838425</td>\n",
       "      <td>0.757778</td>\n",
       "      <td>0.778056</td>\n",
       "    </tr>\n",
       "    <tr>\n",
       "      <th>Adaboost SVC</th>\n",
       "      <td>0.719370</td>\n",
       "      <td>0.576667</td>\n",
       "      <td>0.616178</td>\n",
       "      <td>0.576667</td>\n",
       "      <td>0.552458</td>\n",
       "      <td>0.578794</td>\n",
       "      <td>0.523750</td>\n",
       "      <td>0.719370</td>\n",
       "      <td>0.576667</td>\n",
       "      <td>0.616178</td>\n",
       "    </tr>\n",
       "    <tr>\n",
       "      <th>Adaboost CV</th>\n",
       "      <td>0.837779</td>\n",
       "      <td>0.757778</td>\n",
       "      <td>0.777997</td>\n",
       "      <td>0.757778</td>\n",
       "      <td>0.697105</td>\n",
       "      <td>0.779382</td>\n",
       "      <td>0.706891</td>\n",
       "      <td>0.837779</td>\n",
       "      <td>0.757778</td>\n",
       "      <td>0.777997</td>\n",
       "    </tr>\n",
       "    <tr>\n",
       "      <th>Extratrees</th>\n",
       "      <td>0.825976</td>\n",
       "      <td>0.735556</td>\n",
       "      <td>0.758397</td>\n",
       "      <td>0.735556</td>\n",
       "      <td>0.679740</td>\n",
       "      <td>0.758487</td>\n",
       "      <td>0.684516</td>\n",
       "      <td>0.825976</td>\n",
       "      <td>0.735556</td>\n",
       "      <td>0.758397</td>\n",
       "    </tr>\n",
       "    <tr>\n",
       "      <th>Extratrees CV</th>\n",
       "      <td>0.825584</td>\n",
       "      <td>0.732222</td>\n",
       "      <td>0.755561</td>\n",
       "      <td>0.732222</td>\n",
       "      <td>0.678230</td>\n",
       "      <td>0.757359</td>\n",
       "      <td>0.681888</td>\n",
       "      <td>0.825584</td>\n",
       "      <td>0.732222</td>\n",
       "      <td>0.755561</td>\n",
       "    </tr>\n",
       "    <tr>\n",
       "      <th>XGboost</th>\n",
       "      <td>0.830507</td>\n",
       "      <td>0.749444</td>\n",
       "      <td>0.770390</td>\n",
       "      <td>0.749444</td>\n",
       "      <td>0.688444</td>\n",
       "      <td>0.767265</td>\n",
       "      <td>0.696976</td>\n",
       "      <td>0.830507</td>\n",
       "      <td>0.749444</td>\n",
       "      <td>0.770390</td>\n",
       "    </tr>\n",
       "    <tr>\n",
       "      <th>XGboost CV</th>\n",
       "      <td>0.841646</td>\n",
       "      <td>0.761667</td>\n",
       "      <td>0.781590</td>\n",
       "      <td>0.761667</td>\n",
       "      <td>0.701481</td>\n",
       "      <td>0.785755</td>\n",
       "      <td>0.711758</td>\n",
       "      <td>0.841646</td>\n",
       "      <td>0.761667</td>\n",
       "      <td>0.781590</td>\n",
       "    </tr>\n",
       "    <tr>\n",
       "      <th>LightGBM</th>\n",
       "      <td>0.834472</td>\n",
       "      <td>0.755556</td>\n",
       "      <td>0.775839</td>\n",
       "      <td>0.755556</td>\n",
       "      <td>0.693819</td>\n",
       "      <td>0.774063</td>\n",
       "      <td>0.703536</td>\n",
       "      <td>0.834472</td>\n",
       "      <td>0.755556</td>\n",
       "      <td>0.775839</td>\n",
       "    </tr>\n",
       "    <tr>\n",
       "      <th>LightGBM CV</th>\n",
       "      <td>0.843854</td>\n",
       "      <td>0.764444</td>\n",
       "      <td>0.784107</td>\n",
       "      <td>0.764444</td>\n",
       "      <td>0.704221</td>\n",
       "      <td>0.789468</td>\n",
       "      <td>0.714958</td>\n",
       "      <td>0.843854</td>\n",
       "      <td>0.764444</td>\n",
       "      <td>0.784107</td>\n",
       "    </tr>\n",
       "  </tbody>\n",
       "</table>\n",
       "</div>"
      ],
      "text/plain": [
       "                              precision    recall  f1_score  accuracy  \\\n",
       "Logistic Regression            0.805668  0.680000  0.709595  0.680000   \n",
       "Logistic Regression CV         0.803996  0.681667  0.710995  0.681667   \n",
       "Decision Tree                  0.801069  0.692778  0.720435  0.692778   \n",
       "Decision Tree CV               0.831021  0.771667  0.788582  0.771667   \n",
       "Support Vector Classifier      0.831613  0.748889  0.770030  0.748889   \n",
       "Support Vector Classifier CV   0.828613  0.731111  0.754839  0.731111   \n",
       "Random Forest                  0.836399  0.755556  0.776019  0.755556   \n",
       "Random Forest CV               0.836583  0.756111  0.776499  0.756111   \n",
       "Ridge                          0.805758  0.682778  0.712030  0.682778   \n",
       "Ridge CV                       0.805758  0.682778  0.712030  0.682778   \n",
       "KNN                            0.804789  0.712778  0.737557  0.712778   \n",
       "KNN CV                         0.812330  0.717778  0.742376  0.717778   \n",
       "Bagging                        0.822262  0.754444  0.773577  0.754444   \n",
       "Bagging CV                     0.827654  0.746667  0.767813  0.746667   \n",
       "gradient Boosting              0.842111  0.761111  0.781167  0.761111   \n",
       "gradient Boosting CV           0.836188  0.767778  0.786086  0.767778   \n",
       "Adaboost                       0.838425  0.757778  0.778056  0.757778   \n",
       "Adaboost SVC                   0.719370  0.576667  0.616178  0.576667   \n",
       "Adaboost CV                    0.837779  0.757778  0.777997  0.757778   \n",
       "Extratrees                     0.825976  0.735556  0.758397  0.735556   \n",
       "Extratrees CV                  0.825584  0.732222  0.755561  0.732222   \n",
       "XGboost                        0.830507  0.749444  0.770390  0.749444   \n",
       "XGboost CV                     0.841646  0.761667  0.781590  0.761667   \n",
       "LightGBM                       0.834472  0.755556  0.775839  0.755556   \n",
       "LightGBM CV                    0.843854  0.764444  0.784107  0.764444   \n",
       "\n",
       "                              macro_avg_precision  macro_avg_recall  \\\n",
       "Logistic Regression                      0.646610          0.718481   \n",
       "Logistic Regression CV                   0.645723          0.716598   \n",
       "Decision Tree                            0.646452          0.714813   \n",
       "Decision Tree CV                         0.698673          0.769566   \n",
       "Support Vector Classifier                0.689023          0.768871   \n",
       "Support Vector Classifier CV             0.680093          0.761550   \n",
       "Random Forest                            0.695193          0.776999   \n",
       "Random Forest CV                         0.695556          0.777350   \n",
       "Ridge                                    0.647425          0.719258   \n",
       "Ridge CV                                 0.647425          0.719258   \n",
       "KNN                                      0.655520          0.723539   \n",
       "KNN CV                                   0.663097          0.735507   \n",
       "Bagging                                  0.684524          0.754766   \n",
       "Bagging CV                               0.685246          0.762573   \n",
       "gradient Boosting                        0.701568          0.786382   \n",
       "gradient Boosting CV                     0.700404          0.777873   \n",
       "Adaboost                                 0.697562          0.780361   \n",
       "Adaboost SVC                             0.552458          0.578794   \n",
       "Adaboost CV                              0.697105          0.779382   \n",
       "Extratrees                               0.679740          0.758487   \n",
       "Extratrees CV                            0.678230          0.757359   \n",
       "XGboost                                  0.688444          0.767265   \n",
       "XGboost CV                               0.701481          0.785755   \n",
       "LightGBM                                 0.693819          0.774063   \n",
       "LightGBM CV                              0.704221          0.789468   \n",
       "\n",
       "                              macro_avg_f1_score  weighted_avg_precision  \\\n",
       "Logistic Regression                     0.634678                0.805668   \n",
       "Logistic Regression CV                  0.635103                0.803996   \n",
       "Decision Tree                           0.641457                0.801069   \n",
       "Decision Tree CV                        0.713148                0.831021   \n",
       "Support Vector Classifier               0.697148                0.831613   \n",
       "Support Vector Classifier CV            0.682552                0.828613   \n",
       "Random Forest                           0.704532                0.836399   \n",
       "Random Forest CV                        0.705039                0.836583   \n",
       "Ridge                                   0.636707                0.805758   \n",
       "Ridge CV                                0.636707                0.805758   \n",
       "KNN                                     0.657159                0.804789   \n",
       "KNN CV                                  0.664729                0.812330   \n",
       "Bagging                                 0.695860                0.822262   \n",
       "Bagging CV                              0.693445                0.827654   \n",
       "gradient Boosting                       0.711569                0.842111   \n",
       "gradient Boosting CV                    0.713409                0.836188   \n",
       "Adaboost                                0.707218                0.838425   \n",
       "Adaboost SVC                            0.523750                0.719370   \n",
       "Adaboost CV                             0.706891                0.837779   \n",
       "Extratrees                              0.684516                0.825976   \n",
       "Extratrees CV                           0.681888                0.825584   \n",
       "XGboost                                 0.696976                0.830507   \n",
       "XGboost CV                              0.711758                0.841646   \n",
       "LightGBM                                0.703536                0.834472   \n",
       "LightGBM CV                             0.714958                0.843854   \n",
       "\n",
       "                              weighted_avg_recall  weighted_avg_f1_score  \n",
       "Logistic Regression                      0.680000               0.709595  \n",
       "Logistic Regression CV                   0.681667               0.710995  \n",
       "Decision Tree                            0.692778               0.720435  \n",
       "Decision Tree CV                         0.771667               0.788582  \n",
       "Support Vector Classifier                0.748889               0.770030  \n",
       "Support Vector Classifier CV             0.731111               0.754839  \n",
       "Random Forest                            0.755556               0.776019  \n",
       "Random Forest CV                         0.756111               0.776499  \n",
       "Ridge                                    0.682778               0.712030  \n",
       "Ridge CV                                 0.682778               0.712030  \n",
       "KNN                                      0.712778               0.737557  \n",
       "KNN CV                                   0.717778               0.742376  \n",
       "Bagging                                  0.754444               0.773577  \n",
       "Bagging CV                               0.746667               0.767813  \n",
       "gradient Boosting                        0.761111               0.781167  \n",
       "gradient Boosting CV                     0.767778               0.786086  \n",
       "Adaboost                                 0.757778               0.778056  \n",
       "Adaboost SVC                             0.576667               0.616178  \n",
       "Adaboost CV                              0.757778               0.777997  \n",
       "Extratrees                               0.735556               0.758397  \n",
       "Extratrees CV                            0.732222               0.755561  \n",
       "XGboost                                  0.749444               0.770390  \n",
       "XGboost CV                               0.761667               0.781590  \n",
       "LightGBM                                 0.755556               0.775839  \n",
       "LightGBM CV                              0.764444               0.784107  "
      ]
     },
     "execution_count": 225,
     "metadata": {},
     "output_type": "execute_result"
    }
   ],
   "source": [
    "df_results"
   ]
  },
  {
   "cell_type": "markdown",
   "id": "66c320ef",
   "metadata": {},
   "source": [
    "# Save Model"
   ]
  },
  {
   "cell_type": "markdown",
   "id": "373919a6",
   "metadata": {},
   "source": [
    "## Logistic Regression"
   ]
  },
  {
   "cell_type": "code",
   "execution_count": 226,
   "id": "46741057",
   "metadata": {},
   "outputs": [],
   "source": [
    "logreg = 'C:/Users/HALAL/Final Project ML Process/model/2 - Model Random Under Sampling/logreg.pkl'\n",
    "with open(logreg, 'wb') as file:\n",
    "    pickle.dump(logreg_awal, file)\n",
    "    \n",
    "logreg_cv = 'C:/Users/HALAL/Final Project ML Process/model/2 - Model Random Under Sampling/logreg_cv.pkl'\n",
    "with open(logreg_cv, 'wb') as file:\n",
    "    pickle.dump(lr_grid_cv, file)"
   ]
  },
  {
   "cell_type": "markdown",
   "id": "94784dd6",
   "metadata": {},
   "source": [
    "## Support Vector Classifier"
   ]
  },
  {
   "cell_type": "code",
   "execution_count": 227,
   "id": "1a6b6e3d",
   "metadata": {},
   "outputs": [],
   "source": [
    "svc = 'C:/Users/HALAL/Final Project ML Process/model/2 - Model Random Under Sampling/svc.pkl'\n",
    "with open(svc, 'wb') as file:\n",
    "    pickle.dump(svc_ori, file)\n",
    "    \n",
    "svc_cv = 'C:/Users/HALAL/Final Project ML Process/model/2 - Model Random Under Sampling/svc_cv.pkl'\n",
    "with open(svc_cv, 'wb') as file:\n",
    "    pickle.dump(svc_grid_cv, file)"
   ]
  },
  {
   "cell_type": "markdown",
   "id": "19ad5289",
   "metadata": {},
   "source": [
    "## Decisiontree"
   ]
  },
  {
   "cell_type": "code",
   "execution_count": 228,
   "id": "0a7f2de4",
   "metadata": {},
   "outputs": [],
   "source": [
    "dectree = 'C:/Users/HALAL/Final Project ML Process/model/2 - Model Random Under Sampling/dectree.pkl'\n",
    "with open(dectree, 'wb') as file:\n",
    "    pickle.dump(decTree, file)\n",
    "    \n",
    "dectree_cv = 'C:/Users/HALAL/Final Project ML Process/model/2 - Model Random Under Sampling/dectree_cv.pkl'\n",
    "with open(dectree_cv, 'wb') as file:\n",
    "    pickle.dump(best_decTree, file)"
   ]
  },
  {
   "cell_type": "markdown",
   "id": "4e1e16ca",
   "metadata": {},
   "source": [
    "## Randomforest"
   ]
  },
  {
   "cell_type": "code",
   "execution_count": 229,
   "id": "e0ba0331",
   "metadata": {},
   "outputs": [],
   "source": [
    "randomforest = 'C:/Users/HALAL/Final Project ML Process/model/2 - Model Random Under Sampling/randomforest.pkl'\n",
    "with open(randomforest, 'wb') as file:\n",
    "    pickle.dump(random_forest, file)\n",
    "    \n",
    "randomforest_cv = 'C:/Users/HALAL/Final Project ML Process/model/2 - Model Random Under Sampling/randomforest_cv.pkl'\n",
    "with open(randomforest_cv, 'wb') as file:\n",
    "    pickle.dump(random_forestcls_cv, file)"
   ]
  },
  {
   "cell_type": "markdown",
   "id": "76188bf1",
   "metadata": {},
   "source": [
    "## Ridge Classifier"
   ]
  },
  {
   "cell_type": "code",
   "execution_count": 230,
   "id": "6c51d47a",
   "metadata": {},
   "outputs": [],
   "source": [
    "ridge = 'C:/Users/HALAL/Final Project ML Process/model/2 - Model Random Under Sampling/ridge.pkl'\n",
    "with open(ridge, 'wb') as file:\n",
    "    pickle.dump(ridge, file)\n",
    "    \n",
    "ridge_cv = 'C:/Users/HALAL/Final Project ML Process/model/2 - Model Random Under Sampling/ridge_cv.pkl'\n",
    "with open(ridge_cv, 'wb') as file:\n",
    "    pickle.dump(ridge_cv, file)"
   ]
  },
  {
   "cell_type": "markdown",
   "id": "561c42b1",
   "metadata": {},
   "source": [
    "## KNN "
   ]
  },
  {
   "cell_type": "code",
   "execution_count": 231,
   "id": "e5be5c17",
   "metadata": {},
   "outputs": [],
   "source": [
    "knn = 'C:/Users/HALAL/Final Project ML Process/model/2 - Model Random Under Sampling/knn.pkl'\n",
    "with open(knn, 'wb') as file:\n",
    "    pickle.dump(knn_awal , file)\n",
    "    \n",
    "knn_cv = 'C:/Users/HALAL/Final Project ML Process/model/2 - Model Random Under Sampling/knn_cv.pkl'\n",
    "with open(knn_cv, 'wb') as file:\n",
    "    pickle.dump(kn_grid, file)"
   ]
  },
  {
   "cell_type": "markdown",
   "id": "05049437",
   "metadata": {},
   "source": [
    "## Bagging Classifier"
   ]
  },
  {
   "cell_type": "code",
   "execution_count": 232,
   "id": "fecc1db1",
   "metadata": {},
   "outputs": [],
   "source": [
    "bagging = 'C:/Users/HALAL/Final Project ML Process/model/2 - Model Random Under Sampling/bagging.pkl'\n",
    "with open(bagging, 'wb') as file:\n",
    "    pickle.dump(bagging_cls, file)\n",
    "    \n",
    "bagging_cv = 'C:/Users/HALAL/Final Project ML Process/model/2 - Model Random Under Sampling/bagging_cv.pkl'\n",
    "with open(bagging_cv, 'wb') as file:\n",
    "    pickle.dump(bagging_cv, file)"
   ]
  },
  {
   "cell_type": "markdown",
   "id": "76299cb8",
   "metadata": {},
   "source": [
    "## Gradient Boosting"
   ]
  },
  {
   "cell_type": "code",
   "execution_count": 233,
   "id": "fec03953",
   "metadata": {},
   "outputs": [],
   "source": [
    "grad_boost = 'C:/Users/HALAL/Final Project ML Process/model/2 - Model Random Under Sampling/grad_boost.pkl'\n",
    "with open(grad_boost, 'wb') as file:\n",
    "    pickle.dump(grad_boost, file)\n",
    "    \n",
    "grad_boost_cv = 'C:/Users/HALAL/Final Project ML Process/model/2 - Model Random Under Sampling/grad_boost_cv.pkl'\n",
    "with open(grad_boost_cv, 'wb') as file:\n",
    "    pickle.dump(gradboost_cv, file)"
   ]
  },
  {
   "cell_type": "markdown",
   "id": "83be62dd",
   "metadata": {},
   "source": [
    "## Adaboost"
   ]
  },
  {
   "cell_type": "code",
   "execution_count": 234,
   "id": "eb77bf76",
   "metadata": {},
   "outputs": [],
   "source": [
    "adaboost_svc = 'C:/Users/HALAL/Final Project ML Process/model/2 - Model Random Under Sampling/adaboost_svc.pkl'\n",
    "with open(adaboost_svc, 'wb') as file:\n",
    "    pickle.dump(adaboost_svc, file)\n",
    "    \n",
    "adaboost_ori = 'C:/Users/HALAL/Final Project ML Process/model/2 - Model Random Under Sampling/adaboost_ori.pkl'\n",
    "with open(adaboost_ori, 'wb') as file:\n",
    "    pickle.dump(abc_ori, file)\n",
    "    \n",
    "adaboost_cv = 'C:/Users/HALAL/Final Project ML Process/model/2 - Model Random Under Sampling/adaboost_cv.pkl'\n",
    "with open(adaboost_cv, 'wb') as file:\n",
    "    pickle.dump(adaboost_best, file)"
   ]
  },
  {
   "cell_type": "markdown",
   "id": "268f6258",
   "metadata": {},
   "source": [
    "## Extratrees"
   ]
  },
  {
   "cell_type": "code",
   "execution_count": 235,
   "id": "29c111b8",
   "metadata": {},
   "outputs": [],
   "source": [
    "extra_trees = 'C:/Users/HALAL/Final Project ML Process/model/2 - Model Random Under Sampling/extra_trees.pkl'\n",
    "with open(extra_trees, 'wb') as file:\n",
    "    pickle.dump(extra_trees_awal, file)\n",
    "    \n",
    "extra_tree_cv = 'C:/Users/HALAL/Final Project ML Process/model/2 - Model Random Under Sampling/extra_tree_cv.pkl'\n",
    "with open(extra_tree_cv, 'wb') as file:\n",
    "    pickle.dump(extra_trees_best, file)"
   ]
  },
  {
   "cell_type": "markdown",
   "id": "c9575423",
   "metadata": {},
   "source": [
    "## XgBoost"
   ]
  },
  {
   "cell_type": "code",
   "execution_count": 236,
   "id": "8694bc2d",
   "metadata": {},
   "outputs": [],
   "source": [
    "xgboost = 'C:/Users/HALAL/Final Project ML Process/model/2 - Model Random Under Sampling/xgboost.pkl'\n",
    "with open(xgboost, 'wb') as file:\n",
    "    pickle.dump(xgb_classifier, file)\n",
    "    \n",
    "xgboost_cv = 'C:/Users/HALAL/Final Project ML Process/model/2 - Model Random Under Sampling/xgboost_cv.pkl'\n",
    "with open(xgboost_cv, 'wb') as file:\n",
    "    pickle.dump(xgb_best, file)"
   ]
  },
  {
   "cell_type": "markdown",
   "id": "079f475c",
   "metadata": {},
   "source": [
    "## Deep Learning"
   ]
  },
  {
   "cell_type": "code",
   "execution_count": 237,
   "id": "809ac55c",
   "metadata": {},
   "outputs": [
    {
     "name": "stdout",
     "output_type": "stream",
     "text": [
      "INFO:tensorflow:Assets written to: C:\\Users\\HALAL\\AppData\\Local\\Temp\\tmp1rz6f0xp\\assets\n"
     ]
    }
   ],
   "source": [
    "deep_learning = 'C:/Users/HALAL/Final Project ML Process/model/2 - Model Random Under Sampling/deep_learning.pkl'\n",
    "with open(deep_learning, 'wb') as file:\n",
    "    pickle.dump(model, file)\n",
    "    \n",
    "    \n",
    "deep_learning_cv = 'C:/Users/HALAL/Final Project ML Process/model/2 - Model Random Under Sampling/deep_learning_cv.pkl'\n",
    "with open(deep_learning_cv, 'wb') as file:\n",
    "    pickle.dump(grid_result, file)"
   ]
  },
  {
   "cell_type": "markdown",
   "id": "e6e9ee23",
   "metadata": {},
   "source": [
    "## LightGBM"
   ]
  },
  {
   "cell_type": "code",
   "execution_count": 238,
   "id": "fba12f92",
   "metadata": {},
   "outputs": [],
   "source": [
    "lgbm = 'C:/Users/HALAL/Final Project ML Process/model/2 - Model Random Under Sampling/lgbm.pkl'\n",
    "with open(lgbm, 'wb') as file:\n",
    "    pickle.dump(lgb_awal, file)\n",
    "    \n",
    "lgbm_cv = 'C:/Users/HALAL/Final Project ML Process/model/2 - Model Random Under Sampling/lgbm_cv.pkl'\n",
    "with open(lgbm_cv, 'wb') as file:\n",
    "    pickle.dump(lgbm_best, file)"
   ]
  },
  {
   "cell_type": "markdown",
   "id": "2033f72a",
   "metadata": {},
   "source": [
    "## Cara Load Model"
   ]
  },
  {
   "cell_type": "code",
   "execution_count": null,
   "id": "eba972ca",
   "metadata": {},
   "outputs": [],
   "source": [
    "# Load model dari folder models\n",
    "\"\"\"\n",
    "filename = 'models/model.pkl'\n",
    "with open(filename, 'rb') as file:\n",
    "    model = pickle.load(file)\n",
    "\"''\""
   ]
  }
 ],
 "metadata": {
  "kernelspec": {
   "display_name": "Python 3 (ipykernel)",
   "language": "python",
   "name": "python3"
  },
  "language_info": {
   "codemirror_mode": {
    "name": "ipython",
    "version": 3
   },
   "file_extension": ".py",
   "mimetype": "text/x-python",
   "name": "python",
   "nbconvert_exporter": "python",
   "pygments_lexer": "ipython3",
   "version": "3.9.12"
  }
 },
 "nbformat": 4,
 "nbformat_minor": 5
}
